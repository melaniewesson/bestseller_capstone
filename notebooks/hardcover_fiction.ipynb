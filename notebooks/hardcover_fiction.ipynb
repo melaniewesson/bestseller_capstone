{
 "cells": [
  {
   "cell_type": "code",
   "execution_count": 18,
   "metadata": {},
   "outputs": [],
   "source": [
    "import pprint\n",
    "import requests\n",
    "import csv\n",
    "import datetime\n",
    "import pandas as pd\n",
    "import time\n",
    "import nltk\n",
    "import re\n",
    "from pandas.io.json import json_normalize\n",
    "from sklearn.cluster import SpectralClustering\n",
    "from math import sqrt, floor\n",
    "\n",
    "pd.set_option(\"display.max_columns\", 50)"
   ]
  },
  {
   "cell_type": "code",
   "execution_count": 19,
   "metadata": {},
   "outputs": [
    {
     "name": "stdout",
     "output_type": "stream",
     "text": [
      "200\n"
     ]
    }
   ],
   "source": [
    "print(r.status_code)"
   ]
  },
  {
   "cell_type": "code",
   "execution_count": 22,
   "metadata": {},
   "outputs": [
    {
     "data": {
      "text/plain": [
       "{'status': 'OK',\n",
       " 'copyright': 'Copyright (c) 2023 The New York Times Company.  All Rights Reserved.',\n",
       " 'num_results': 15,\n",
       " 'last_modified': '2023-04-12T22:15:42-04:00',\n",
       " 'results': [{'list_name': 'Hardcover Fiction',\n",
       "   'display_name': 'Hardcover Fiction',\n",
       "   'bestsellers_date': '2023-04-08',\n",
       "   'published_date': '2023-04-23',\n",
       "   'rank': 1,\n",
       "   'rank_last_week': 1,\n",
       "   'weeks_on_list': 48,\n",
       "   'asterisk': 0,\n",
       "   'dagger': 0,\n",
       "   'amazon_product_url': 'https://www.amazon.com/dp/038554734X?tag=NYTBSREV-20',\n",
       "   'isbns': [{'isbn10': '038554734X', 'isbn13': '9780385547345'},\n",
       "    {'isbn10': '0593507533', 'isbn13': '9780593507537'},\n",
       "    {'isbn10': '0385547374', 'isbn13': '9780385547376'}],\n",
       "   'book_details': [{'title': 'LESSONS IN CHEMISTRY',\n",
       "     'description': 'A scientist and single mother living in California in the 1960s becomes a star on a TV cooking show.',\n",
       "     'contributor': 'by Bonnie Garmus',\n",
       "     'author': 'Bonnie Garmus',\n",
       "     'contributor_note': '',\n",
       "     'price': '0.00',\n",
       "     'age_group': '',\n",
       "     'publisher': 'Doubleday',\n",
       "     'primary_isbn13': '9780385547345',\n",
       "     'primary_isbn10': '038554734X'}],\n",
       "   'reviews': [{'book_review_link': '',\n",
       "     'first_chapter_link': '',\n",
       "     'sunday_review_link': '',\n",
       "     'article_chapter_link': ''}]},\n",
       "  {'list_name': 'Hardcover Fiction',\n",
       "   'display_name': 'Hardcover Fiction',\n",
       "   'bestsellers_date': '2023-04-08',\n",
       "   'published_date': '2023-04-23',\n",
       "   'rank': 2,\n",
       "   'rank_last_week': 0,\n",
       "   'weeks_on_list': 1,\n",
       "   'asterisk': 0,\n",
       "   'dagger': 0,\n",
       "   'amazon_product_url': 'https://www.amazon.com/dp/0063020890?tag=NYTBSREV-20',\n",
       "   'isbns': [{'isbn10': '0063020890', 'isbn13': '9780063020894'}],\n",
       "   'book_details': [{'title': 'HOMECOMING',\n",
       "     'description': 'An unemployed journalist connects events in a true-crime book, which details a long-buried murder in 1959 in South Australia, to her own family.',\n",
       "     'contributor': 'by Kate Morton',\n",
       "     'author': 'Kate Morton',\n",
       "     'contributor_note': '',\n",
       "     'price': '0.00',\n",
       "     'age_group': '',\n",
       "     'publisher': 'Mariner',\n",
       "     'primary_isbn13': '9780063020894',\n",
       "     'primary_isbn10': '0063020890'}],\n",
       "   'reviews': [{'book_review_link': '',\n",
       "     'first_chapter_link': '',\n",
       "     'sunday_review_link': '',\n",
       "     'article_chapter_link': ''}]},\n",
       "  {'list_name': 'Hardcover Fiction',\n",
       "   'display_name': 'Hardcover Fiction',\n",
       "   'bestsellers_date': '2023-04-08',\n",
       "   'published_date': '2023-04-23',\n",
       "   'rank': 3,\n",
       "   'rank_last_week': 0,\n",
       "   'weeks_on_list': 1,\n",
       "   'asterisk': 0,\n",
       "   'dagger': 0,\n",
       "   'amazon_product_url': 'https://www.amazon.com/dp/0399590943?tag=NYTBSREV-20',\n",
       "   'isbns': [{'isbn10': '0399590943', 'isbn13': '9780399590948'},\n",
       "    {'isbn10': '0399590951', 'isbn13': '9780399590955'}],\n",
       "   'book_details': [{'title': 'ROMANTIC COMEDY',\n",
       "     'description': 'A late-night show’s sketch writer may become involved with a pop music sensation who is a guest host.',\n",
       "     'contributor': 'by Curtis Sittenfeld',\n",
       "     'author': 'Curtis Sittenfeld',\n",
       "     'contributor_note': '',\n",
       "     'price': '0.00',\n",
       "     'age_group': '',\n",
       "     'publisher': 'Random House',\n",
       "     'primary_isbn13': '9780399590948',\n",
       "     'primary_isbn10': '0399590943'}],\n",
       "   'reviews': [{'book_review_link': '',\n",
       "     'first_chapter_link': '',\n",
       "     'sunday_review_link': '',\n",
       "     'article_chapter_link': ''}]},\n",
       "  {'list_name': 'Hardcover Fiction',\n",
       "   'display_name': 'Hardcover Fiction',\n",
       "   'bestsellers_date': '2023-04-08',\n",
       "   'published_date': '2023-04-23',\n",
       "   'rank': 4,\n",
       "   'rank_last_week': 2,\n",
       "   'weeks_on_list': 2,\n",
       "   'asterisk': 0,\n",
       "   'dagger': 0,\n",
       "   'amazon_product_url': 'https://www.amazon.com/dp/1501117297?tag=NYTBSREV-20',\n",
       "   'isbns': [{'isbn10': '1501117297', 'isbn13': '9781501117299'},\n",
       "    {'isbn10': '1501117319', 'isbn13': '9781501117312'}],\n",
       "   'book_details': [{'title': 'HANG THE MOON',\n",
       "     'description': 'Nine years after being cast out, a young woman returns to reclaim her place in her family and comes into her own as a bootlegger.',\n",
       "     'contributor': 'by Jeannette Walls',\n",
       "     'author': 'Jeannette Walls',\n",
       "     'contributor_note': '',\n",
       "     'price': '0.00',\n",
       "     'age_group': '',\n",
       "     'publisher': 'Scribner',\n",
       "     'primary_isbn13': '9781501117299',\n",
       "     'primary_isbn10': '1501117297'}],\n",
       "   'reviews': [{'book_review_link': '',\n",
       "     'first_chapter_link': '',\n",
       "     'sunday_review_link': '',\n",
       "     'article_chapter_link': ''}]},\n",
       "  {'list_name': 'Hardcover Fiction',\n",
       "   'display_name': 'Hardcover Fiction',\n",
       "   'bestsellers_date': '2023-04-08',\n",
       "   'published_date': '2023-04-23',\n",
       "   'rank': 5,\n",
       "   'rank_last_week': 5,\n",
       "   'weeks_on_list': 28,\n",
       "   'asterisk': 0,\n",
       "   'dagger': 0,\n",
       "   'amazon_product_url': 'https://www.amazon.com/dp/0593321200?tag=NYTBSREV-20',\n",
       "   'isbns': [{'isbn10': '0593321200', 'isbn13': '9780593321201'},\n",
       "    {'isbn10': '0593321219', 'isbn13': '9780593321218'},\n",
       "    {'isbn10': '0593591631', 'isbn13': '9780593591635'}],\n",
       "   'book_details': [{'title': 'TOMORROW, AND TOMORROW, AND TOMORROW',\n",
       "     'description': 'Two friends find their partnership challenged in the world of video game design.',\n",
       "     'contributor': 'by Gabrielle Zevin',\n",
       "     'author': 'Gabrielle Zevin',\n",
       "     'contributor_note': '',\n",
       "     'price': '0.00',\n",
       "     'age_group': '',\n",
       "     'publisher': 'Knopf',\n",
       "     'primary_isbn13': '9780593321201',\n",
       "     'primary_isbn10': '0593321200'}],\n",
       "   'reviews': [{'book_review_link': '',\n",
       "     'first_chapter_link': '',\n",
       "     'sunday_review_link': '',\n",
       "     'article_chapter_link': ''}]},\n",
       "  {'list_name': 'Hardcover Fiction',\n",
       "   'display_name': 'Hardcover Fiction',\n",
       "   'bestsellers_date': '2023-04-08',\n",
       "   'published_date': '2023-04-23',\n",
       "   'rank': 6,\n",
       "   'rank_last_week': 3,\n",
       "   'weeks_on_list': 4,\n",
       "   'asterisk': 0,\n",
       "   'dagger': 0,\n",
       "   'amazon_product_url': 'https://www.amazon.com/dp/0593243730?tag=NYTBSREV-20',\n",
       "   'isbns': [{'isbn10': '0593243730', 'isbn13': '9780593243732'},\n",
       "    {'isbn10': '0593243749', 'isbn13': '9780593243749'},\n",
       "    {'isbn10': '0593664043', 'isbn13': '9780593664049'}],\n",
       "   'book_details': [{'title': 'HELLO BEAUTIFUL',\n",
       "     'description': 'In a homage to Louisa May Alcott’s “Little Women,” a young man’s dark past resurfaces as he gets to know the family of his college sweetheart.',\n",
       "     'contributor': 'by Ann Napolitano',\n",
       "     'author': 'Ann Napolitano',\n",
       "     'contributor_note': '',\n",
       "     'price': '0.00',\n",
       "     'age_group': '',\n",
       "     'publisher': 'Dial',\n",
       "     'primary_isbn13': '9780593243732',\n",
       "     'primary_isbn10': '0593243730'}],\n",
       "   'reviews': [{'book_review_link': '',\n",
       "     'first_chapter_link': '',\n",
       "     'sunday_review_link': '',\n",
       "     'article_chapter_link': ''}]},\n",
       "  {'list_name': 'Hardcover Fiction',\n",
       "   'display_name': 'Hardcover Fiction',\n",
       "   'bestsellers_date': '2023-04-08',\n",
       "   'published_date': '2023-04-23',\n",
       "   'rank': 7,\n",
       "   'rank_last_week': 0,\n",
       "   'weeks_on_list': 1,\n",
       "   'asterisk': 0,\n",
       "   'dagger': 0,\n",
       "   'amazon_product_url': 'https://www.amazon.com/dp/1250899656?tag=NYTBSREV-20',\n",
       "   'isbns': [{'isbn10': '1250899656', 'isbn13': '9781250899651'}],\n",
       "   'book_details': [{'title': 'TRESS OF THE EMERALD SEA',\n",
       "     'description': 'Tress stows away on a ship to look for the Sorceress of the Midnight Sea.',\n",
       "     'contributor': 'by Brandon Sanderson',\n",
       "     'author': 'Brandon Sanderson',\n",
       "     'contributor_note': '',\n",
       "     'price': '0.00',\n",
       "     'age_group': '',\n",
       "     'publisher': 'Tor',\n",
       "     'primary_isbn13': '9781250899651',\n",
       "     'primary_isbn10': '1250899656'}],\n",
       "   'reviews': [{'book_review_link': '',\n",
       "     'first_chapter_link': '',\n",
       "     'sunday_review_link': '',\n",
       "     'article_chapter_link': ''}]},\n",
       "  {'list_name': 'Hardcover Fiction',\n",
       "   'display_name': 'Hardcover Fiction',\n",
       "   'bestsellers_date': '2023-04-08',\n",
       "   'published_date': '2023-04-23',\n",
       "   'rank': 8,\n",
       "   'rank_last_week': 0,\n",
       "   'weeks_on_list': 1,\n",
       "   'asterisk': 0,\n",
       "   'dagger': 0,\n",
       "   'amazon_product_url': 'https://www.amazon.com/dp/1250229707?tag=NYTBSREV-20',\n",
       "   'isbns': [{'isbn10': '1250229707', 'isbn13': '9781250229700'}],\n",
       "   'book_details': [{'title': 'THE SOULMATE',\n",
       "     'description': 'The marriage between a couple, who live in a cottage near cliffs where people try to end their lives, begins to crack.',\n",
       "     'contributor': 'by Sally Hepworth',\n",
       "     'author': 'Sally Hepworth',\n",
       "     'contributor_note': '',\n",
       "     'price': '0.00',\n",
       "     'age_group': '',\n",
       "     'publisher': \"St. Martin's\",\n",
       "     'primary_isbn13': '9781250229700',\n",
       "     'primary_isbn10': '1250229707'}],\n",
       "   'reviews': [{'book_review_link': '',\n",
       "     'first_chapter_link': '',\n",
       "     'sunday_review_link': '',\n",
       "     'article_chapter_link': ''}]},\n",
       "  {'list_name': 'Hardcover Fiction',\n",
       "   'display_name': 'Hardcover Fiction',\n",
       "   'bestsellers_date': '2023-04-08',\n",
       "   'published_date': '2023-04-23',\n",
       "   'rank': 9,\n",
       "   'rank_last_week': 6,\n",
       "   'weeks_on_list': 4,\n",
       "   'asterisk': 0,\n",
       "   'dagger': 0,\n",
       "   'amazon_product_url': 'https://www.amazon.com/dp/1538748363?tag=NYTBSREV-20',\n",
       "   'isbns': [{'isbn10': '1538748363', 'isbn13': '9781538748367'},\n",
       "    {'isbn10': '1538756544', 'isbn13': '9781538756546'},\n",
       "    {'isbn10': '1538748401', 'isbn13': '9781538748404'},\n",
       "    {'isbn10': '1543661432', 'isbn13': '9781543661439'}],\n",
       "   'book_details': [{'title': 'I WILL FIND YOU',\n",
       "     'description': 'A man imprisoned for murdering his 3-year-old son becomes convinced his son is still alive and plans an escape.',\n",
       "     'contributor': 'by Harlan Coben',\n",
       "     'author': 'Harlan Coben',\n",
       "     'contributor_note': '',\n",
       "     'price': '0.00',\n",
       "     'age_group': '',\n",
       "     'publisher': 'Grand Central',\n",
       "     'primary_isbn13': '9781538748367',\n",
       "     'primary_isbn10': '1538748363'}],\n",
       "   'reviews': [{'book_review_link': '',\n",
       "     'first_chapter_link': '',\n",
       "     'sunday_review_link': '',\n",
       "     'article_chapter_link': ''}]},\n",
       "  {'list_name': 'Hardcover Fiction',\n",
       "   'display_name': 'Hardcover Fiction',\n",
       "   'bestsellers_date': '2023-04-08',\n",
       "   'published_date': '2023-04-23',\n",
       "   'rank': 10,\n",
       "   'rank_last_week': 7,\n",
       "   'weeks_on_list': 3,\n",
       "   'asterisk': 0,\n",
       "   'dagger': 0,\n",
       "   'amazon_product_url': 'https://www.amazon.com/dp/031645737X?tag=NYTBSREV-20',\n",
       "   'isbns': [{'isbn10': '031645737X', 'isbn13': '9780316457378'},\n",
       "    {'isbn10': '031645740X', 'isbn13': '9780316457408'}],\n",
       "   'book_details': [{'title': 'COUNTDOWN',\n",
       "     'description': 'A botched field operation and a terrorist plot endanger Amy Cornwall and her family.',\n",
       "     'contributor': 'by James Patterson and Brendan DuBois',\n",
       "     'author': 'James Patterson and Brendan DuBois',\n",
       "     'contributor_note': '',\n",
       "     'price': '0.00',\n",
       "     'age_group': '',\n",
       "     'publisher': 'Little, Brown',\n",
       "     'primary_isbn13': '9780316457378',\n",
       "     'primary_isbn10': '031645737X'}],\n",
       "   'reviews': [{'book_review_link': '',\n",
       "     'first_chapter_link': '',\n",
       "     'sunday_review_link': '',\n",
       "     'article_chapter_link': ''}]},\n",
       "  {'list_name': 'Hardcover Fiction',\n",
       "   'display_name': 'Hardcover Fiction',\n",
       "   'bestsellers_date': '2023-04-08',\n",
       "   'published_date': '2023-04-23',\n",
       "   'rank': 11,\n",
       "   'rank_last_week': 8,\n",
       "   'weeks_on_list': 5,\n",
       "   'asterisk': 0,\n",
       "   'dagger': 0,\n",
       "   'amazon_product_url': 'https://www.amazon.com/dp/059349069X?tag=NYTBSREV-20',\n",
       "   'isbns': [{'isbn10': '059349069X', 'isbn13': '9780593490693'},\n",
       "    {'isbn10': '0593490703', 'isbn13': '9780593490709'}],\n",
       "   'book_details': [{'title': 'PINEAPPLE STREET',\n",
       "     'description': 'Three women navigate their roles in a well-to-do family living in Brooklyn Heights.',\n",
       "     'contributor': 'by Jenny Jackson',\n",
       "     'author': 'Jenny Jackson',\n",
       "     'contributor_note': '',\n",
       "     'price': '0.00',\n",
       "     'age_group': '',\n",
       "     'publisher': 'Pamela Dorman',\n",
       "     'primary_isbn13': '9780593490693',\n",
       "     'primary_isbn10': '059349069X'}],\n",
       "   'reviews': [{'book_review_link': '',\n",
       "     'first_chapter_link': '',\n",
       "     'sunday_review_link': '',\n",
       "     'article_chapter_link': ''}]},\n",
       "  {'list_name': 'Hardcover Fiction',\n",
       "   'display_name': 'Hardcover Fiction',\n",
       "   'bestsellers_date': '2023-04-08',\n",
       "   'published_date': '2023-04-23',\n",
       "   'rank': 12,\n",
       "   'rank_last_week': 9,\n",
       "   'weeks_on_list': 25,\n",
       "   'asterisk': 0,\n",
       "   'dagger': 0,\n",
       "   'amazon_product_url': 'https://www.amazon.com/dp/0063251922?tag=NYTBSREV-20',\n",
       "   'isbns': [{'isbn10': '0063251922', 'isbn13': '9780063251922'},\n",
       "    {'isbn10': '006325199X', 'isbn13': '9780063251991'}],\n",
       "   'book_details': [{'title': 'DEMON COPPERHEAD',\n",
       "     'description': 'A reimagining of Charles Dickens’s “David Copperfield” set in the mountains of southern Appalachia.',\n",
       "     'contributor': 'by Barbara Kingsolver',\n",
       "     'author': 'Barbara Kingsolver',\n",
       "     'contributor_note': '',\n",
       "     'price': '0.00',\n",
       "     'age_group': '',\n",
       "     'publisher': 'Harper',\n",
       "     'primary_isbn13': '9780063251922',\n",
       "     'primary_isbn10': '0063251922'}],\n",
       "   'reviews': [{'book_review_link': '',\n",
       "     'first_chapter_link': '',\n",
       "     'sunday_review_link': '',\n",
       "     'article_chapter_link': ''}]},\n",
       "  {'list_name': 'Hardcover Fiction',\n",
       "   'display_name': 'Hardcover Fiction',\n",
       "   'bestsellers_date': '2023-04-08',\n",
       "   'published_date': '2023-04-23',\n",
       "   'rank': 13,\n",
       "   'rank_last_week': 10,\n",
       "   'weeks_on_list': 12,\n",
       "   'asterisk': 0,\n",
       "   'dagger': 0,\n",
       "   'amazon_product_url': 'https://www.amazon.com/dp/0063204150?tag=NYTBSREV-20',\n",
       "   'isbns': [{'isbn10': '0063204150', 'isbn13': '9780063204157'},\n",
       "    {'isbn10': '0063204185', 'isbn13': '9780063204188'},\n",
       "    {'isbn10': '0063204169', 'isbn13': '9780063204164'}],\n",
       "   'book_details': [{'title': 'REMARKABLY BRIGHT CREATURES',\n",
       "     'description': 'A widow working the night shift at the Sowell Bay Aquarium is aided in solving a mystery by a giant Pacific octopus living there.',\n",
       "     'contributor': 'by Shelby Van Pelt',\n",
       "     'author': 'Shel Van Pelt',\n",
       "     'contributor_note': '',\n",
       "     'price': '0.00',\n",
       "     'age_group': '',\n",
       "     'publisher': 'Ecco',\n",
       "     'primary_isbn13': '9780063204157',\n",
       "     'primary_isbn10': '0063204150'}],\n",
       "   'reviews': [{'book_review_link': '',\n",
       "     'first_chapter_link': '',\n",
       "     'sunday_review_link': '',\n",
       "     'article_chapter_link': ''}]},\n",
       "  {'list_name': 'Hardcover Fiction',\n",
       "   'display_name': 'Hardcover Fiction',\n",
       "   'bestsellers_date': '2023-04-08',\n",
       "   'published_date': '2023-04-23',\n",
       "   'rank': 14,\n",
       "   'rank_last_week': 0,\n",
       "   'weeks_on_list': 1,\n",
       "   'asterisk': 0,\n",
       "   'dagger': 0,\n",
       "   'amazon_product_url': 'https://www.amazon.com/dp/1668007568?tag=NYTBSREV-20',\n",
       "   'isbns': [{'isbn10': '1668007568', 'isbn13': '9781668007563'}],\n",
       "   'book_details': [{'title': 'CAMP ZERO',\n",
       "     'description': 'At a building project in remote northern Canada, a woman is on a secret mission to monitor the architect in charge.',\n",
       "     'contributor': 'by Michelle Min Sterling',\n",
       "     'author': 'Michelle Min Sterling',\n",
       "     'contributor_note': '',\n",
       "     'price': '0.00',\n",
       "     'age_group': '',\n",
       "     'publisher': 'Atria',\n",
       "     'primary_isbn13': '9781668007563',\n",
       "     'primary_isbn10': '1668007568'}],\n",
       "   'reviews': [{'book_review_link': '',\n",
       "     'first_chapter_link': '',\n",
       "     'sunday_review_link': '',\n",
       "     'article_chapter_link': ''}]},\n",
       "  {'list_name': 'Hardcover Fiction',\n",
       "   'display_name': 'Hardcover Fiction',\n",
       "   'bestsellers_date': '2023-04-08',\n",
       "   'published_date': '2023-04-23',\n",
       "   'rank': 15,\n",
       "   'rank_last_week': 13,\n",
       "   'weeks_on_list': 2,\n",
       "   'asterisk': 0,\n",
       "   'dagger': 0,\n",
       "   'amazon_product_url': 'https://www.amazon.com/dp/0316543039?tag=NYTBSREV-20',\n",
       "   'isbns': [{'isbn10': '0316543039', 'isbn13': '9780316543033'}],\n",
       "   'book_details': [{'title': 'ABOVE GROUND',\n",
       "     'description': 'A collection of poems by the author of “How the Word Is Passed.”',\n",
       "     'contributor': 'by Clint Smith',\n",
       "     'author': 'Clint Smith',\n",
       "     'contributor_note': '',\n",
       "     'price': '0.00',\n",
       "     'age_group': '',\n",
       "     'publisher': 'Little, Brown',\n",
       "     'primary_isbn13': '9780316543033',\n",
       "     'primary_isbn10': '0316543039'}],\n",
       "   'reviews': [{'book_review_link': '',\n",
       "     'first_chapter_link': '',\n",
       "     'sunday_review_link': '',\n",
       "     'article_chapter_link': ''}]}]}"
      ]
     },
     "execution_count": 22,
     "metadata": {},
     "output_type": "execute_result"
    }
   ],
   "source": [
    "results"
   ]
  },
  {
   "cell_type": "code",
   "execution_count": 20,
   "metadata": {},
   "outputs": [],
   "source": [
    "#write a function\n",
    "def parse_books(book_list, date):\n",
    "    '''\n",
    "    Takes a response from NYT API and parses book into list of dictionaries\n",
    "    '''\n",
    "\n",
    "    books = []\n",
    "    for i in book_list['results']['books']:\n",
    "        dic = {}\n",
    "        dic['age_group'] = i['age_group']\n",
    "        dic['author'] = i['author'].encode(\"utf8\")\n",
    "        dic['book_review_link'] = i['book_review_link'].encode(\"utf8\")\n",
    "        dic['contributor'] = i['contributor'].encode(\"utf8\")\n",
    "        dic['dagger'] = i['dagger']\n",
    "        dic['first_chapter_link'] = i['first_chapter_link'].encode(\"utf8\")\n",
    "        dic['price'] = i['price']\n",
    "        dic['primary_isbn10'] = i['primary_isbn10'].encode(\"utf8\")\n",
    "        dic['primary_isbn13'] = i['primary_isbn13'].encode(\"utf8\")\n",
    "        dic['publisher'] = i['publisher'].encode(\"utf8\")\n",
    "        dic['sunday_review_link'] = i['sunday_review_link'].encode(\"utf8\")\n",
    "        dic['title'] = i['title'].encode(\"utf8\")\n",
    "        dic['weeks_on_list'] = i['weeks_on_list']\n",
    "        dic['date'] = date  # add a date so that we know when it was a best-seller\n",
    "        books.append(dic)\n",
    "    return(books)  \n"
   ]
  },
  {
   "cell_type": "code",
   "execution_count": 57,
   "metadata": {},
   "outputs": [
    {
     "name": "stdout",
     "output_type": "stream",
     "text": [
      "2023-05-15\n",
      "https://api.nytimes.com/svc/books/v3/lists.json?api-key=P1yDSg62Aydsdh04WBBuS57pYbpBu2tb&list=hardcover-fiction&published-date=2023-05-15\n"
     ]
    },
    {
     "name": "stderr",
     "output_type": "stream",
     "text": [
      "C:\\Users\\melan\\AppData\\Local\\Temp\\ipykernel_29428\\3652350664.py:25: FutureWarning: pandas.io.json.json_normalize is deprecated, use pandas.json_normalize instead.\n",
      "  books = json_normalize(results[\"results\"], record_path=[\"book_details\"], meta=[\"rank\", \"rank_last_week\", \"weeks_on_list\", \"asterisk\", \"dagger\"])\n"
     ]
    },
    {
     "name": "stdout",
     "output_type": "stream",
     "text": [
      "2023-05-08\n",
      "https://api.nytimes.com/svc/books/v3/lists.json?api-key=P1yDSg62Aydsdh04WBBuS57pYbpBu2tb&list=hardcover-fiction&published-date=2023-05-08\n"
     ]
    },
    {
     "name": "stderr",
     "output_type": "stream",
     "text": [
      "C:\\Users\\melan\\AppData\\Local\\Temp\\ipykernel_29428\\3652350664.py:25: FutureWarning: pandas.io.json.json_normalize is deprecated, use pandas.json_normalize instead.\n",
      "  books = json_normalize(results[\"results\"], record_path=[\"book_details\"], meta=[\"rank\", \"rank_last_week\", \"weeks_on_list\", \"asterisk\", \"dagger\"])\n"
     ]
    },
    {
     "name": "stdout",
     "output_type": "stream",
     "text": [
      "2023-05-01\n",
      "https://api.nytimes.com/svc/books/v3/lists.json?api-key=P1yDSg62Aydsdh04WBBuS57pYbpBu2tb&list=hardcover-fiction&published-date=2023-05-01\n"
     ]
    },
    {
     "name": "stderr",
     "output_type": "stream",
     "text": [
      "C:\\Users\\melan\\AppData\\Local\\Temp\\ipykernel_29428\\3652350664.py:25: FutureWarning: pandas.io.json.json_normalize is deprecated, use pandas.json_normalize instead.\n",
      "  books = json_normalize(results[\"results\"], record_path=[\"book_details\"], meta=[\"rank\", \"rank_last_week\", \"weeks_on_list\", \"asterisk\", \"dagger\"])\n"
     ]
    },
    {
     "name": "stdout",
     "output_type": "stream",
     "text": [
      "2023-04-24\n",
      "https://api.nytimes.com/svc/books/v3/lists.json?api-key=P1yDSg62Aydsdh04WBBuS57pYbpBu2tb&list=hardcover-fiction&published-date=2023-04-24\n"
     ]
    },
    {
     "name": "stderr",
     "output_type": "stream",
     "text": [
      "C:\\Users\\melan\\AppData\\Local\\Temp\\ipykernel_29428\\3652350664.py:25: FutureWarning: pandas.io.json.json_normalize is deprecated, use pandas.json_normalize instead.\n",
      "  books = json_normalize(results[\"results\"], record_path=[\"book_details\"], meta=[\"rank\", \"rank_last_week\", \"weeks_on_list\", \"asterisk\", \"dagger\"])\n"
     ]
    },
    {
     "name": "stdout",
     "output_type": "stream",
     "text": [
      "2023-04-17\n",
      "https://api.nytimes.com/svc/books/v3/lists.json?api-key=P1yDSg62Aydsdh04WBBuS57pYbpBu2tb&list=hardcover-fiction&published-date=2023-04-17\n"
     ]
    },
    {
     "name": "stderr",
     "output_type": "stream",
     "text": [
      "C:\\Users\\melan\\AppData\\Local\\Temp\\ipykernel_29428\\3652350664.py:25: FutureWarning: pandas.io.json.json_normalize is deprecated, use pandas.json_normalize instead.\n",
      "  books = json_normalize(results[\"results\"], record_path=[\"book_details\"], meta=[\"rank\", \"rank_last_week\", \"weeks_on_list\", \"asterisk\", \"dagger\"])\n"
     ]
    },
    {
     "name": "stdout",
     "output_type": "stream",
     "text": [
      "2023-04-10\n",
      "https://api.nytimes.com/svc/books/v3/lists.json?api-key=P1yDSg62Aydsdh04WBBuS57pYbpBu2tb&list=hardcover-fiction&published-date=2023-04-10\n"
     ]
    },
    {
     "name": "stderr",
     "output_type": "stream",
     "text": [
      "C:\\Users\\melan\\AppData\\Local\\Temp\\ipykernel_29428\\3652350664.py:25: FutureWarning: pandas.io.json.json_normalize is deprecated, use pandas.json_normalize instead.\n",
      "  books = json_normalize(results[\"results\"], record_path=[\"book_details\"], meta=[\"rank\", \"rank_last_week\", \"weeks_on_list\", \"asterisk\", \"dagger\"])\n"
     ]
    },
    {
     "name": "stdout",
     "output_type": "stream",
     "text": [
      "2023-04-03\n",
      "https://api.nytimes.com/svc/books/v3/lists.json?api-key=P1yDSg62Aydsdh04WBBuS57pYbpBu2tb&list=hardcover-fiction&published-date=2023-04-03\n"
     ]
    },
    {
     "name": "stderr",
     "output_type": "stream",
     "text": [
      "C:\\Users\\melan\\AppData\\Local\\Temp\\ipykernel_29428\\3652350664.py:25: FutureWarning: pandas.io.json.json_normalize is deprecated, use pandas.json_normalize instead.\n",
      "  books = json_normalize(results[\"results\"], record_path=[\"book_details\"], meta=[\"rank\", \"rank_last_week\", \"weeks_on_list\", \"asterisk\", \"dagger\"])\n"
     ]
    },
    {
     "name": "stdout",
     "output_type": "stream",
     "text": [
      "2023-03-27\n",
      "https://api.nytimes.com/svc/books/v3/lists.json?api-key=P1yDSg62Aydsdh04WBBuS57pYbpBu2tb&list=hardcover-fiction&published-date=2023-03-27\n"
     ]
    },
    {
     "name": "stderr",
     "output_type": "stream",
     "text": [
      "C:\\Users\\melan\\AppData\\Local\\Temp\\ipykernel_29428\\3652350664.py:25: FutureWarning: pandas.io.json.json_normalize is deprecated, use pandas.json_normalize instead.\n",
      "  books = json_normalize(results[\"results\"], record_path=[\"book_details\"], meta=[\"rank\", \"rank_last_week\", \"weeks_on_list\", \"asterisk\", \"dagger\"])\n"
     ]
    },
    {
     "name": "stdout",
     "output_type": "stream",
     "text": [
      "2023-03-20\n",
      "https://api.nytimes.com/svc/books/v3/lists.json?api-key=P1yDSg62Aydsdh04WBBuS57pYbpBu2tb&list=hardcover-fiction&published-date=2023-03-20\n"
     ]
    },
    {
     "name": "stderr",
     "output_type": "stream",
     "text": [
      "C:\\Users\\melan\\AppData\\Local\\Temp\\ipykernel_29428\\3652350664.py:25: FutureWarning: pandas.io.json.json_normalize is deprecated, use pandas.json_normalize instead.\n",
      "  books = json_normalize(results[\"results\"], record_path=[\"book_details\"], meta=[\"rank\", \"rank_last_week\", \"weeks_on_list\", \"asterisk\", \"dagger\"])\n"
     ]
    },
    {
     "name": "stdout",
     "output_type": "stream",
     "text": [
      "2023-03-13\n",
      "https://api.nytimes.com/svc/books/v3/lists.json?api-key=P1yDSg62Aydsdh04WBBuS57pYbpBu2tb&list=hardcover-fiction&published-date=2023-03-13\n"
     ]
    },
    {
     "name": "stderr",
     "output_type": "stream",
     "text": [
      "C:\\Users\\melan\\AppData\\Local\\Temp\\ipykernel_29428\\3652350664.py:25: FutureWarning: pandas.io.json.json_normalize is deprecated, use pandas.json_normalize instead.\n",
      "  books = json_normalize(results[\"results\"], record_path=[\"book_details\"], meta=[\"rank\", \"rank_last_week\", \"weeks_on_list\", \"asterisk\", \"dagger\"])\n"
     ]
    },
    {
     "name": "stdout",
     "output_type": "stream",
     "text": [
      "2023-03-06\n",
      "https://api.nytimes.com/svc/books/v3/lists.json?api-key=P1yDSg62Aydsdh04WBBuS57pYbpBu2tb&list=hardcover-fiction&published-date=2023-03-06\n"
     ]
    },
    {
     "name": "stderr",
     "output_type": "stream",
     "text": [
      "C:\\Users\\melan\\AppData\\Local\\Temp\\ipykernel_29428\\3652350664.py:25: FutureWarning: pandas.io.json.json_normalize is deprecated, use pandas.json_normalize instead.\n",
      "  books = json_normalize(results[\"results\"], record_path=[\"book_details\"], meta=[\"rank\", \"rank_last_week\", \"weeks_on_list\", \"asterisk\", \"dagger\"])\n"
     ]
    },
    {
     "name": "stdout",
     "output_type": "stream",
     "text": [
      "2023-02-27\n",
      "https://api.nytimes.com/svc/books/v3/lists.json?api-key=P1yDSg62Aydsdh04WBBuS57pYbpBu2tb&list=hardcover-fiction&published-date=2023-02-27\n"
     ]
    },
    {
     "name": "stderr",
     "output_type": "stream",
     "text": [
      "C:\\Users\\melan\\AppData\\Local\\Temp\\ipykernel_29428\\3652350664.py:25: FutureWarning: pandas.io.json.json_normalize is deprecated, use pandas.json_normalize instead.\n",
      "  books = json_normalize(results[\"results\"], record_path=[\"book_details\"], meta=[\"rank\", \"rank_last_week\", \"weeks_on_list\", \"asterisk\", \"dagger\"])\n"
     ]
    },
    {
     "name": "stdout",
     "output_type": "stream",
     "text": [
      "2023-02-20\n",
      "https://api.nytimes.com/svc/books/v3/lists.json?api-key=P1yDSg62Aydsdh04WBBuS57pYbpBu2tb&list=hardcover-fiction&published-date=2023-02-20\n"
     ]
    },
    {
     "name": "stderr",
     "output_type": "stream",
     "text": [
      "C:\\Users\\melan\\AppData\\Local\\Temp\\ipykernel_29428\\3652350664.py:25: FutureWarning: pandas.io.json.json_normalize is deprecated, use pandas.json_normalize instead.\n",
      "  books = json_normalize(results[\"results\"], record_path=[\"book_details\"], meta=[\"rank\", \"rank_last_week\", \"weeks_on_list\", \"asterisk\", \"dagger\"])\n"
     ]
    },
    {
     "name": "stdout",
     "output_type": "stream",
     "text": [
      "2023-02-13\n",
      "https://api.nytimes.com/svc/books/v3/lists.json?api-key=P1yDSg62Aydsdh04WBBuS57pYbpBu2tb&list=hardcover-fiction&published-date=2023-02-13\n"
     ]
    },
    {
     "name": "stderr",
     "output_type": "stream",
     "text": [
      "C:\\Users\\melan\\AppData\\Local\\Temp\\ipykernel_29428\\3652350664.py:25: FutureWarning: pandas.io.json.json_normalize is deprecated, use pandas.json_normalize instead.\n",
      "  books = json_normalize(results[\"results\"], record_path=[\"book_details\"], meta=[\"rank\", \"rank_last_week\", \"weeks_on_list\", \"asterisk\", \"dagger\"])\n"
     ]
    },
    {
     "name": "stdout",
     "output_type": "stream",
     "text": [
      "2023-02-06\n",
      "https://api.nytimes.com/svc/books/v3/lists.json?api-key=P1yDSg62Aydsdh04WBBuS57pYbpBu2tb&list=hardcover-fiction&published-date=2023-02-06\n"
     ]
    },
    {
     "name": "stderr",
     "output_type": "stream",
     "text": [
      "C:\\Users\\melan\\AppData\\Local\\Temp\\ipykernel_29428\\3652350664.py:25: FutureWarning: pandas.io.json.json_normalize is deprecated, use pandas.json_normalize instead.\n",
      "  books = json_normalize(results[\"results\"], record_path=[\"book_details\"], meta=[\"rank\", \"rank_last_week\", \"weeks_on_list\", \"asterisk\", \"dagger\"])\n"
     ]
    },
    {
     "name": "stdout",
     "output_type": "stream",
     "text": [
      "2023-01-30\n",
      "https://api.nytimes.com/svc/books/v3/lists.json?api-key=P1yDSg62Aydsdh04WBBuS57pYbpBu2tb&list=hardcover-fiction&published-date=2023-01-30\n"
     ]
    },
    {
     "name": "stderr",
     "output_type": "stream",
     "text": [
      "C:\\Users\\melan\\AppData\\Local\\Temp\\ipykernel_29428\\3652350664.py:25: FutureWarning: pandas.io.json.json_normalize is deprecated, use pandas.json_normalize instead.\n",
      "  books = json_normalize(results[\"results\"], record_path=[\"book_details\"], meta=[\"rank\", \"rank_last_week\", \"weeks_on_list\", \"asterisk\", \"dagger\"])\n"
     ]
    },
    {
     "name": "stdout",
     "output_type": "stream",
     "text": [
      "2023-01-23\n",
      "https://api.nytimes.com/svc/books/v3/lists.json?api-key=P1yDSg62Aydsdh04WBBuS57pYbpBu2tb&list=hardcover-fiction&published-date=2023-01-23\n"
     ]
    },
    {
     "name": "stderr",
     "output_type": "stream",
     "text": [
      "C:\\Users\\melan\\AppData\\Local\\Temp\\ipykernel_29428\\3652350664.py:25: FutureWarning: pandas.io.json.json_normalize is deprecated, use pandas.json_normalize instead.\n",
      "  books = json_normalize(results[\"results\"], record_path=[\"book_details\"], meta=[\"rank\", \"rank_last_week\", \"weeks_on_list\", \"asterisk\", \"dagger\"])\n"
     ]
    },
    {
     "name": "stdout",
     "output_type": "stream",
     "text": [
      "2023-01-16\n",
      "https://api.nytimes.com/svc/books/v3/lists.json?api-key=P1yDSg62Aydsdh04WBBuS57pYbpBu2tb&list=hardcover-fiction&published-date=2023-01-16\n"
     ]
    },
    {
     "name": "stderr",
     "output_type": "stream",
     "text": [
      "C:\\Users\\melan\\AppData\\Local\\Temp\\ipykernel_29428\\3652350664.py:25: FutureWarning: pandas.io.json.json_normalize is deprecated, use pandas.json_normalize instead.\n",
      "  books = json_normalize(results[\"results\"], record_path=[\"book_details\"], meta=[\"rank\", \"rank_last_week\", \"weeks_on_list\", \"asterisk\", \"dagger\"])\n"
     ]
    },
    {
     "name": "stdout",
     "output_type": "stream",
     "text": [
      "2023-01-09\n",
      "https://api.nytimes.com/svc/books/v3/lists.json?api-key=P1yDSg62Aydsdh04WBBuS57pYbpBu2tb&list=hardcover-fiction&published-date=2023-01-09\n"
     ]
    },
    {
     "name": "stderr",
     "output_type": "stream",
     "text": [
      "C:\\Users\\melan\\AppData\\Local\\Temp\\ipykernel_29428\\3652350664.py:25: FutureWarning: pandas.io.json.json_normalize is deprecated, use pandas.json_normalize instead.\n",
      "  books = json_normalize(results[\"results\"], record_path=[\"book_details\"], meta=[\"rank\", \"rank_last_week\", \"weeks_on_list\", \"asterisk\", \"dagger\"])\n"
     ]
    },
    {
     "name": "stdout",
     "output_type": "stream",
     "text": [
      "2023-01-02\n",
      "https://api.nytimes.com/svc/books/v3/lists.json?api-key=P1yDSg62Aydsdh04WBBuS57pYbpBu2tb&list=hardcover-fiction&published-date=2023-01-02\n"
     ]
    },
    {
     "name": "stderr",
     "output_type": "stream",
     "text": [
      "C:\\Users\\melan\\AppData\\Local\\Temp\\ipykernel_29428\\3652350664.py:25: FutureWarning: pandas.io.json.json_normalize is deprecated, use pandas.json_normalize instead.\n",
      "  books = json_normalize(results[\"results\"], record_path=[\"book_details\"], meta=[\"rank\", \"rank_last_week\", \"weeks_on_list\", \"asterisk\", \"dagger\"])\n"
     ]
    },
    {
     "name": "stdout",
     "output_type": "stream",
     "text": [
      "2022-12-26\n",
      "https://api.nytimes.com/svc/books/v3/lists.json?api-key=P1yDSg62Aydsdh04WBBuS57pYbpBu2tb&list=hardcover-fiction&published-date=2022-12-26\n"
     ]
    },
    {
     "name": "stderr",
     "output_type": "stream",
     "text": [
      "C:\\Users\\melan\\AppData\\Local\\Temp\\ipykernel_29428\\3652350664.py:25: FutureWarning: pandas.io.json.json_normalize is deprecated, use pandas.json_normalize instead.\n",
      "  books = json_normalize(results[\"results\"], record_path=[\"book_details\"], meta=[\"rank\", \"rank_last_week\", \"weeks_on_list\", \"asterisk\", \"dagger\"])\n"
     ]
    },
    {
     "name": "stdout",
     "output_type": "stream",
     "text": [
      "2022-12-19\n",
      "https://api.nytimes.com/svc/books/v3/lists.json?api-key=P1yDSg62Aydsdh04WBBuS57pYbpBu2tb&list=hardcover-fiction&published-date=2022-12-19\n"
     ]
    },
    {
     "name": "stderr",
     "output_type": "stream",
     "text": [
      "C:\\Users\\melan\\AppData\\Local\\Temp\\ipykernel_29428\\3652350664.py:25: FutureWarning: pandas.io.json.json_normalize is deprecated, use pandas.json_normalize instead.\n",
      "  books = json_normalize(results[\"results\"], record_path=[\"book_details\"], meta=[\"rank\", \"rank_last_week\", \"weeks_on_list\", \"asterisk\", \"dagger\"])\n"
     ]
    },
    {
     "name": "stdout",
     "output_type": "stream",
     "text": [
      "2022-12-12\n",
      "https://api.nytimes.com/svc/books/v3/lists.json?api-key=P1yDSg62Aydsdh04WBBuS57pYbpBu2tb&list=hardcover-fiction&published-date=2022-12-12\n"
     ]
    },
    {
     "name": "stderr",
     "output_type": "stream",
     "text": [
      "C:\\Users\\melan\\AppData\\Local\\Temp\\ipykernel_29428\\3652350664.py:25: FutureWarning: pandas.io.json.json_normalize is deprecated, use pandas.json_normalize instead.\n",
      "  books = json_normalize(results[\"results\"], record_path=[\"book_details\"], meta=[\"rank\", \"rank_last_week\", \"weeks_on_list\", \"asterisk\", \"dagger\"])\n"
     ]
    },
    {
     "name": "stdout",
     "output_type": "stream",
     "text": [
      "2022-12-05\n",
      "https://api.nytimes.com/svc/books/v3/lists.json?api-key=P1yDSg62Aydsdh04WBBuS57pYbpBu2tb&list=hardcover-fiction&published-date=2022-12-05\n"
     ]
    },
    {
     "name": "stderr",
     "output_type": "stream",
     "text": [
      "C:\\Users\\melan\\AppData\\Local\\Temp\\ipykernel_29428\\3652350664.py:25: FutureWarning: pandas.io.json.json_normalize is deprecated, use pandas.json_normalize instead.\n",
      "  books = json_normalize(results[\"results\"], record_path=[\"book_details\"], meta=[\"rank\", \"rank_last_week\", \"weeks_on_list\", \"asterisk\", \"dagger\"])\n"
     ]
    },
    {
     "name": "stdout",
     "output_type": "stream",
     "text": [
      "2022-11-28\n",
      "https://api.nytimes.com/svc/books/v3/lists.json?api-key=P1yDSg62Aydsdh04WBBuS57pYbpBu2tb&list=hardcover-fiction&published-date=2022-11-28\n"
     ]
    },
    {
     "name": "stderr",
     "output_type": "stream",
     "text": [
      "C:\\Users\\melan\\AppData\\Local\\Temp\\ipykernel_29428\\3652350664.py:25: FutureWarning: pandas.io.json.json_normalize is deprecated, use pandas.json_normalize instead.\n",
      "  books = json_normalize(results[\"results\"], record_path=[\"book_details\"], meta=[\"rank\", \"rank_last_week\", \"weeks_on_list\", \"asterisk\", \"dagger\"])\n"
     ]
    },
    {
     "name": "stdout",
     "output_type": "stream",
     "text": [
      "2022-11-21\n",
      "https://api.nytimes.com/svc/books/v3/lists.json?api-key=P1yDSg62Aydsdh04WBBuS57pYbpBu2tb&list=hardcover-fiction&published-date=2022-11-21\n"
     ]
    },
    {
     "name": "stderr",
     "output_type": "stream",
     "text": [
      "C:\\Users\\melan\\AppData\\Local\\Temp\\ipykernel_29428\\3652350664.py:25: FutureWarning: pandas.io.json.json_normalize is deprecated, use pandas.json_normalize instead.\n",
      "  books = json_normalize(results[\"results\"], record_path=[\"book_details\"], meta=[\"rank\", \"rank_last_week\", \"weeks_on_list\", \"asterisk\", \"dagger\"])\n"
     ]
    },
    {
     "name": "stdout",
     "output_type": "stream",
     "text": [
      "2022-11-14\n",
      "https://api.nytimes.com/svc/books/v3/lists.json?api-key=P1yDSg62Aydsdh04WBBuS57pYbpBu2tb&list=hardcover-fiction&published-date=2022-11-14\n"
     ]
    },
    {
     "name": "stderr",
     "output_type": "stream",
     "text": [
      "C:\\Users\\melan\\AppData\\Local\\Temp\\ipykernel_29428\\3652350664.py:25: FutureWarning: pandas.io.json.json_normalize is deprecated, use pandas.json_normalize instead.\n",
      "  books = json_normalize(results[\"results\"], record_path=[\"book_details\"], meta=[\"rank\", \"rank_last_week\", \"weeks_on_list\", \"asterisk\", \"dagger\"])\n"
     ]
    },
    {
     "name": "stdout",
     "output_type": "stream",
     "text": [
      "2022-11-07\n",
      "https://api.nytimes.com/svc/books/v3/lists.json?api-key=P1yDSg62Aydsdh04WBBuS57pYbpBu2tb&list=hardcover-fiction&published-date=2022-11-07\n"
     ]
    },
    {
     "name": "stderr",
     "output_type": "stream",
     "text": [
      "C:\\Users\\melan\\AppData\\Local\\Temp\\ipykernel_29428\\3652350664.py:25: FutureWarning: pandas.io.json.json_normalize is deprecated, use pandas.json_normalize instead.\n",
      "  books = json_normalize(results[\"results\"], record_path=[\"book_details\"], meta=[\"rank\", \"rank_last_week\", \"weeks_on_list\", \"asterisk\", \"dagger\"])\n"
     ]
    },
    {
     "name": "stdout",
     "output_type": "stream",
     "text": [
      "2022-10-31\n",
      "https://api.nytimes.com/svc/books/v3/lists.json?api-key=P1yDSg62Aydsdh04WBBuS57pYbpBu2tb&list=hardcover-fiction&published-date=2022-10-31\n"
     ]
    },
    {
     "name": "stderr",
     "output_type": "stream",
     "text": [
      "C:\\Users\\melan\\AppData\\Local\\Temp\\ipykernel_29428\\3652350664.py:25: FutureWarning: pandas.io.json.json_normalize is deprecated, use pandas.json_normalize instead.\n",
      "  books = json_normalize(results[\"results\"], record_path=[\"book_details\"], meta=[\"rank\", \"rank_last_week\", \"weeks_on_list\", \"asterisk\", \"dagger\"])\n"
     ]
    },
    {
     "name": "stdout",
     "output_type": "stream",
     "text": [
      "2022-10-24\n",
      "https://api.nytimes.com/svc/books/v3/lists.json?api-key=P1yDSg62Aydsdh04WBBuS57pYbpBu2tb&list=hardcover-fiction&published-date=2022-10-24\n"
     ]
    },
    {
     "name": "stderr",
     "output_type": "stream",
     "text": [
      "C:\\Users\\melan\\AppData\\Local\\Temp\\ipykernel_29428\\3652350664.py:25: FutureWarning: pandas.io.json.json_normalize is deprecated, use pandas.json_normalize instead.\n",
      "  books = json_normalize(results[\"results\"], record_path=[\"book_details\"], meta=[\"rank\", \"rank_last_week\", \"weeks_on_list\", \"asterisk\", \"dagger\"])\n"
     ]
    },
    {
     "name": "stdout",
     "output_type": "stream",
     "text": [
      "2022-10-17\n",
      "https://api.nytimes.com/svc/books/v3/lists.json?api-key=P1yDSg62Aydsdh04WBBuS57pYbpBu2tb&list=hardcover-fiction&published-date=2022-10-17\n"
     ]
    },
    {
     "name": "stderr",
     "output_type": "stream",
     "text": [
      "C:\\Users\\melan\\AppData\\Local\\Temp\\ipykernel_29428\\3652350664.py:25: FutureWarning: pandas.io.json.json_normalize is deprecated, use pandas.json_normalize instead.\n",
      "  books = json_normalize(results[\"results\"], record_path=[\"book_details\"], meta=[\"rank\", \"rank_last_week\", \"weeks_on_list\", \"asterisk\", \"dagger\"])\n"
     ]
    },
    {
     "name": "stdout",
     "output_type": "stream",
     "text": [
      "2022-10-10\n",
      "https://api.nytimes.com/svc/books/v3/lists.json?api-key=P1yDSg62Aydsdh04WBBuS57pYbpBu2tb&list=hardcover-fiction&published-date=2022-10-10\n"
     ]
    },
    {
     "name": "stderr",
     "output_type": "stream",
     "text": [
      "C:\\Users\\melan\\AppData\\Local\\Temp\\ipykernel_29428\\3652350664.py:25: FutureWarning: pandas.io.json.json_normalize is deprecated, use pandas.json_normalize instead.\n",
      "  books = json_normalize(results[\"results\"], record_path=[\"book_details\"], meta=[\"rank\", \"rank_last_week\", \"weeks_on_list\", \"asterisk\", \"dagger\"])\n"
     ]
    },
    {
     "name": "stdout",
     "output_type": "stream",
     "text": [
      "2022-10-03\n",
      "https://api.nytimes.com/svc/books/v3/lists.json?api-key=P1yDSg62Aydsdh04WBBuS57pYbpBu2tb&list=hardcover-fiction&published-date=2022-10-03\n"
     ]
    },
    {
     "name": "stderr",
     "output_type": "stream",
     "text": [
      "C:\\Users\\melan\\AppData\\Local\\Temp\\ipykernel_29428\\3652350664.py:25: FutureWarning: pandas.io.json.json_normalize is deprecated, use pandas.json_normalize instead.\n",
      "  books = json_normalize(results[\"results\"], record_path=[\"book_details\"], meta=[\"rank\", \"rank_last_week\", \"weeks_on_list\", \"asterisk\", \"dagger\"])\n"
     ]
    },
    {
     "name": "stdout",
     "output_type": "stream",
     "text": [
      "2022-09-26\n",
      "https://api.nytimes.com/svc/books/v3/lists.json?api-key=P1yDSg62Aydsdh04WBBuS57pYbpBu2tb&list=hardcover-fiction&published-date=2022-09-26\n"
     ]
    },
    {
     "name": "stderr",
     "output_type": "stream",
     "text": [
      "C:\\Users\\melan\\AppData\\Local\\Temp\\ipykernel_29428\\3652350664.py:25: FutureWarning: pandas.io.json.json_normalize is deprecated, use pandas.json_normalize instead.\n",
      "  books = json_normalize(results[\"results\"], record_path=[\"book_details\"], meta=[\"rank\", \"rank_last_week\", \"weeks_on_list\", \"asterisk\", \"dagger\"])\n"
     ]
    },
    {
     "name": "stdout",
     "output_type": "stream",
     "text": [
      "2022-09-19\n",
      "https://api.nytimes.com/svc/books/v3/lists.json?api-key=P1yDSg62Aydsdh04WBBuS57pYbpBu2tb&list=hardcover-fiction&published-date=2022-09-19\n"
     ]
    },
    {
     "name": "stderr",
     "output_type": "stream",
     "text": [
      "C:\\Users\\melan\\AppData\\Local\\Temp\\ipykernel_29428\\3652350664.py:25: FutureWarning: pandas.io.json.json_normalize is deprecated, use pandas.json_normalize instead.\n",
      "  books = json_normalize(results[\"results\"], record_path=[\"book_details\"], meta=[\"rank\", \"rank_last_week\", \"weeks_on_list\", \"asterisk\", \"dagger\"])\n"
     ]
    },
    {
     "name": "stdout",
     "output_type": "stream",
     "text": [
      "2022-09-12\n",
      "https://api.nytimes.com/svc/books/v3/lists.json?api-key=P1yDSg62Aydsdh04WBBuS57pYbpBu2tb&list=hardcover-fiction&published-date=2022-09-12\n"
     ]
    },
    {
     "name": "stderr",
     "output_type": "stream",
     "text": [
      "C:\\Users\\melan\\AppData\\Local\\Temp\\ipykernel_29428\\3652350664.py:25: FutureWarning: pandas.io.json.json_normalize is deprecated, use pandas.json_normalize instead.\n",
      "  books = json_normalize(results[\"results\"], record_path=[\"book_details\"], meta=[\"rank\", \"rank_last_week\", \"weeks_on_list\", \"asterisk\", \"dagger\"])\n"
     ]
    },
    {
     "name": "stdout",
     "output_type": "stream",
     "text": [
      "2022-09-05\n",
      "https://api.nytimes.com/svc/books/v3/lists.json?api-key=P1yDSg62Aydsdh04WBBuS57pYbpBu2tb&list=hardcover-fiction&published-date=2022-09-05\n"
     ]
    },
    {
     "name": "stderr",
     "output_type": "stream",
     "text": [
      "C:\\Users\\melan\\AppData\\Local\\Temp\\ipykernel_29428\\3652350664.py:25: FutureWarning: pandas.io.json.json_normalize is deprecated, use pandas.json_normalize instead.\n",
      "  books = json_normalize(results[\"results\"], record_path=[\"book_details\"], meta=[\"rank\", \"rank_last_week\", \"weeks_on_list\", \"asterisk\", \"dagger\"])\n"
     ]
    },
    {
     "name": "stdout",
     "output_type": "stream",
     "text": [
      "2022-08-29\n",
      "https://api.nytimes.com/svc/books/v3/lists.json?api-key=P1yDSg62Aydsdh04WBBuS57pYbpBu2tb&list=hardcover-fiction&published-date=2022-08-29\n"
     ]
    },
    {
     "name": "stderr",
     "output_type": "stream",
     "text": [
      "C:\\Users\\melan\\AppData\\Local\\Temp\\ipykernel_29428\\3652350664.py:25: FutureWarning: pandas.io.json.json_normalize is deprecated, use pandas.json_normalize instead.\n",
      "  books = json_normalize(results[\"results\"], record_path=[\"book_details\"], meta=[\"rank\", \"rank_last_week\", \"weeks_on_list\", \"asterisk\", \"dagger\"])\n"
     ]
    },
    {
     "name": "stdout",
     "output_type": "stream",
     "text": [
      "2022-08-22\n",
      "https://api.nytimes.com/svc/books/v3/lists.json?api-key=P1yDSg62Aydsdh04WBBuS57pYbpBu2tb&list=hardcover-fiction&published-date=2022-08-22\n"
     ]
    },
    {
     "name": "stderr",
     "output_type": "stream",
     "text": [
      "C:\\Users\\melan\\AppData\\Local\\Temp\\ipykernel_29428\\3652350664.py:25: FutureWarning: pandas.io.json.json_normalize is deprecated, use pandas.json_normalize instead.\n",
      "  books = json_normalize(results[\"results\"], record_path=[\"book_details\"], meta=[\"rank\", \"rank_last_week\", \"weeks_on_list\", \"asterisk\", \"dagger\"])\n"
     ]
    },
    {
     "name": "stdout",
     "output_type": "stream",
     "text": [
      "2022-08-15\n",
      "https://api.nytimes.com/svc/books/v3/lists.json?api-key=P1yDSg62Aydsdh04WBBuS57pYbpBu2tb&list=hardcover-fiction&published-date=2022-08-15\n"
     ]
    },
    {
     "name": "stderr",
     "output_type": "stream",
     "text": [
      "C:\\Users\\melan\\AppData\\Local\\Temp\\ipykernel_29428\\3652350664.py:25: FutureWarning: pandas.io.json.json_normalize is deprecated, use pandas.json_normalize instead.\n",
      "  books = json_normalize(results[\"results\"], record_path=[\"book_details\"], meta=[\"rank\", \"rank_last_week\", \"weeks_on_list\", \"asterisk\", \"dagger\"])\n"
     ]
    },
    {
     "name": "stdout",
     "output_type": "stream",
     "text": [
      "2022-08-08\n",
      "https://api.nytimes.com/svc/books/v3/lists.json?api-key=P1yDSg62Aydsdh04WBBuS57pYbpBu2tb&list=hardcover-fiction&published-date=2022-08-08\n"
     ]
    },
    {
     "name": "stderr",
     "output_type": "stream",
     "text": [
      "C:\\Users\\melan\\AppData\\Local\\Temp\\ipykernel_29428\\3652350664.py:25: FutureWarning: pandas.io.json.json_normalize is deprecated, use pandas.json_normalize instead.\n",
      "  books = json_normalize(results[\"results\"], record_path=[\"book_details\"], meta=[\"rank\", \"rank_last_week\", \"weeks_on_list\", \"asterisk\", \"dagger\"])\n"
     ]
    },
    {
     "name": "stdout",
     "output_type": "stream",
     "text": [
      "2022-08-01\n",
      "https://api.nytimes.com/svc/books/v3/lists.json?api-key=P1yDSg62Aydsdh04WBBuS57pYbpBu2tb&list=hardcover-fiction&published-date=2022-08-01\n"
     ]
    },
    {
     "name": "stderr",
     "output_type": "stream",
     "text": [
      "C:\\Users\\melan\\AppData\\Local\\Temp\\ipykernel_29428\\3652350664.py:25: FutureWarning: pandas.io.json.json_normalize is deprecated, use pandas.json_normalize instead.\n",
      "  books = json_normalize(results[\"results\"], record_path=[\"book_details\"], meta=[\"rank\", \"rank_last_week\", \"weeks_on_list\", \"asterisk\", \"dagger\"])\n"
     ]
    },
    {
     "name": "stdout",
     "output_type": "stream",
     "text": [
      "2022-07-25\n",
      "https://api.nytimes.com/svc/books/v3/lists.json?api-key=P1yDSg62Aydsdh04WBBuS57pYbpBu2tb&list=hardcover-fiction&published-date=2022-07-25\n"
     ]
    },
    {
     "name": "stderr",
     "output_type": "stream",
     "text": [
      "C:\\Users\\melan\\AppData\\Local\\Temp\\ipykernel_29428\\3652350664.py:25: FutureWarning: pandas.io.json.json_normalize is deprecated, use pandas.json_normalize instead.\n",
      "  books = json_normalize(results[\"results\"], record_path=[\"book_details\"], meta=[\"rank\", \"rank_last_week\", \"weeks_on_list\", \"asterisk\", \"dagger\"])\n"
     ]
    },
    {
     "name": "stdout",
     "output_type": "stream",
     "text": [
      "2022-07-18\n",
      "https://api.nytimes.com/svc/books/v3/lists.json?api-key=P1yDSg62Aydsdh04WBBuS57pYbpBu2tb&list=hardcover-fiction&published-date=2022-07-18\n"
     ]
    },
    {
     "name": "stderr",
     "output_type": "stream",
     "text": [
      "C:\\Users\\melan\\AppData\\Local\\Temp\\ipykernel_29428\\3652350664.py:25: FutureWarning: pandas.io.json.json_normalize is deprecated, use pandas.json_normalize instead.\n",
      "  books = json_normalize(results[\"results\"], record_path=[\"book_details\"], meta=[\"rank\", \"rank_last_week\", \"weeks_on_list\", \"asterisk\", \"dagger\"])\n"
     ]
    },
    {
     "name": "stdout",
     "output_type": "stream",
     "text": [
      "2022-07-11\n",
      "https://api.nytimes.com/svc/books/v3/lists.json?api-key=P1yDSg62Aydsdh04WBBuS57pYbpBu2tb&list=hardcover-fiction&published-date=2022-07-11\n"
     ]
    },
    {
     "name": "stderr",
     "output_type": "stream",
     "text": [
      "C:\\Users\\melan\\AppData\\Local\\Temp\\ipykernel_29428\\3652350664.py:25: FutureWarning: pandas.io.json.json_normalize is deprecated, use pandas.json_normalize instead.\n",
      "  books = json_normalize(results[\"results\"], record_path=[\"book_details\"], meta=[\"rank\", \"rank_last_week\", \"weeks_on_list\", \"asterisk\", \"dagger\"])\n"
     ]
    },
    {
     "name": "stdout",
     "output_type": "stream",
     "text": [
      "2022-07-04\n",
      "https://api.nytimes.com/svc/books/v3/lists.json?api-key=P1yDSg62Aydsdh04WBBuS57pYbpBu2tb&list=hardcover-fiction&published-date=2022-07-04\n"
     ]
    },
    {
     "name": "stderr",
     "output_type": "stream",
     "text": [
      "C:\\Users\\melan\\AppData\\Local\\Temp\\ipykernel_29428\\3652350664.py:25: FutureWarning: pandas.io.json.json_normalize is deprecated, use pandas.json_normalize instead.\n",
      "  books = json_normalize(results[\"results\"], record_path=[\"book_details\"], meta=[\"rank\", \"rank_last_week\", \"weeks_on_list\", \"asterisk\", \"dagger\"])\n"
     ]
    },
    {
     "name": "stdout",
     "output_type": "stream",
     "text": [
      "2022-06-27\n",
      "https://api.nytimes.com/svc/books/v3/lists.json?api-key=P1yDSg62Aydsdh04WBBuS57pYbpBu2tb&list=hardcover-fiction&published-date=2022-06-27\n"
     ]
    },
    {
     "name": "stderr",
     "output_type": "stream",
     "text": [
      "C:\\Users\\melan\\AppData\\Local\\Temp\\ipykernel_29428\\3652350664.py:25: FutureWarning: pandas.io.json.json_normalize is deprecated, use pandas.json_normalize instead.\n",
      "  books = json_normalize(results[\"results\"], record_path=[\"book_details\"], meta=[\"rank\", \"rank_last_week\", \"weeks_on_list\", \"asterisk\", \"dagger\"])\n"
     ]
    },
    {
     "name": "stdout",
     "output_type": "stream",
     "text": [
      "2022-06-20\n",
      "https://api.nytimes.com/svc/books/v3/lists.json?api-key=P1yDSg62Aydsdh04WBBuS57pYbpBu2tb&list=hardcover-fiction&published-date=2022-06-20\n"
     ]
    },
    {
     "name": "stderr",
     "output_type": "stream",
     "text": [
      "C:\\Users\\melan\\AppData\\Local\\Temp\\ipykernel_29428\\3652350664.py:25: FutureWarning: pandas.io.json.json_normalize is deprecated, use pandas.json_normalize instead.\n",
      "  books = json_normalize(results[\"results\"], record_path=[\"book_details\"], meta=[\"rank\", \"rank_last_week\", \"weeks_on_list\", \"asterisk\", \"dagger\"])\n"
     ]
    },
    {
     "name": "stdout",
     "output_type": "stream",
     "text": [
      "2022-06-13\n",
      "https://api.nytimes.com/svc/books/v3/lists.json?api-key=P1yDSg62Aydsdh04WBBuS57pYbpBu2tb&list=hardcover-fiction&published-date=2022-06-13\n"
     ]
    },
    {
     "name": "stderr",
     "output_type": "stream",
     "text": [
      "C:\\Users\\melan\\AppData\\Local\\Temp\\ipykernel_29428\\3652350664.py:25: FutureWarning: pandas.io.json.json_normalize is deprecated, use pandas.json_normalize instead.\n",
      "  books = json_normalize(results[\"results\"], record_path=[\"book_details\"], meta=[\"rank\", \"rank_last_week\", \"weeks_on_list\", \"asterisk\", \"dagger\"])\n"
     ]
    },
    {
     "name": "stdout",
     "output_type": "stream",
     "text": [
      "2022-06-06\n",
      "https://api.nytimes.com/svc/books/v3/lists.json?api-key=P1yDSg62Aydsdh04WBBuS57pYbpBu2tb&list=hardcover-fiction&published-date=2022-06-06\n"
     ]
    },
    {
     "name": "stderr",
     "output_type": "stream",
     "text": [
      "C:\\Users\\melan\\AppData\\Local\\Temp\\ipykernel_29428\\3652350664.py:25: FutureWarning: pandas.io.json.json_normalize is deprecated, use pandas.json_normalize instead.\n",
      "  books = json_normalize(results[\"results\"], record_path=[\"book_details\"], meta=[\"rank\", \"rank_last_week\", \"weeks_on_list\", \"asterisk\", \"dagger\"])\n"
     ]
    },
    {
     "name": "stdout",
     "output_type": "stream",
     "text": [
      "2022-05-30\n",
      "https://api.nytimes.com/svc/books/v3/lists.json?api-key=P1yDSg62Aydsdh04WBBuS57pYbpBu2tb&list=hardcover-fiction&published-date=2022-05-30\n"
     ]
    },
    {
     "name": "stderr",
     "output_type": "stream",
     "text": [
      "C:\\Users\\melan\\AppData\\Local\\Temp\\ipykernel_29428\\3652350664.py:25: FutureWarning: pandas.io.json.json_normalize is deprecated, use pandas.json_normalize instead.\n",
      "  books = json_normalize(results[\"results\"], record_path=[\"book_details\"], meta=[\"rank\", \"rank_last_week\", \"weeks_on_list\", \"asterisk\", \"dagger\"])\n"
     ]
    },
    {
     "name": "stdout",
     "output_type": "stream",
     "text": [
      "2022-05-23\n",
      "https://api.nytimes.com/svc/books/v3/lists.json?api-key=P1yDSg62Aydsdh04WBBuS57pYbpBu2tb&list=hardcover-fiction&published-date=2022-05-23\n"
     ]
    },
    {
     "name": "stderr",
     "output_type": "stream",
     "text": [
      "C:\\Users\\melan\\AppData\\Local\\Temp\\ipykernel_29428\\3652350664.py:25: FutureWarning: pandas.io.json.json_normalize is deprecated, use pandas.json_normalize instead.\n",
      "  books = json_normalize(results[\"results\"], record_path=[\"book_details\"], meta=[\"rank\", \"rank_last_week\", \"weeks_on_list\", \"asterisk\", \"dagger\"])\n"
     ]
    },
    {
     "name": "stdout",
     "output_type": "stream",
     "text": [
      "2022-05-16\n",
      "https://api.nytimes.com/svc/books/v3/lists.json?api-key=P1yDSg62Aydsdh04WBBuS57pYbpBu2tb&list=hardcover-fiction&published-date=2022-05-16\n"
     ]
    },
    {
     "name": "stderr",
     "output_type": "stream",
     "text": [
      "C:\\Users\\melan\\AppData\\Local\\Temp\\ipykernel_29428\\3652350664.py:25: FutureWarning: pandas.io.json.json_normalize is deprecated, use pandas.json_normalize instead.\n",
      "  books = json_normalize(results[\"results\"], record_path=[\"book_details\"], meta=[\"rank\", \"rank_last_week\", \"weeks_on_list\", \"asterisk\", \"dagger\"])\n"
     ]
    },
    {
     "name": "stdout",
     "output_type": "stream",
     "text": [
      "2022-05-09\n",
      "https://api.nytimes.com/svc/books/v3/lists.json?api-key=P1yDSg62Aydsdh04WBBuS57pYbpBu2tb&list=hardcover-fiction&published-date=2022-05-09\n"
     ]
    },
    {
     "name": "stderr",
     "output_type": "stream",
     "text": [
      "C:\\Users\\melan\\AppData\\Local\\Temp\\ipykernel_29428\\3652350664.py:25: FutureWarning: pandas.io.json.json_normalize is deprecated, use pandas.json_normalize instead.\n",
      "  books = json_normalize(results[\"results\"], record_path=[\"book_details\"], meta=[\"rank\", \"rank_last_week\", \"weeks_on_list\", \"asterisk\", \"dagger\"])\n"
     ]
    },
    {
     "name": "stdout",
     "output_type": "stream",
     "text": [
      "2022-05-02\n",
      "https://api.nytimes.com/svc/books/v3/lists.json?api-key=P1yDSg62Aydsdh04WBBuS57pYbpBu2tb&list=hardcover-fiction&published-date=2022-05-02\n"
     ]
    },
    {
     "name": "stderr",
     "output_type": "stream",
     "text": [
      "C:\\Users\\melan\\AppData\\Local\\Temp\\ipykernel_29428\\3652350664.py:25: FutureWarning: pandas.io.json.json_normalize is deprecated, use pandas.json_normalize instead.\n",
      "  books = json_normalize(results[\"results\"], record_path=[\"book_details\"], meta=[\"rank\", \"rank_last_week\", \"weeks_on_list\", \"asterisk\", \"dagger\"])\n"
     ]
    },
    {
     "name": "stdout",
     "output_type": "stream",
     "text": [
      "2022-04-25\n",
      "https://api.nytimes.com/svc/books/v3/lists.json?api-key=P1yDSg62Aydsdh04WBBuS57pYbpBu2tb&list=hardcover-fiction&published-date=2022-04-25\n"
     ]
    },
    {
     "name": "stderr",
     "output_type": "stream",
     "text": [
      "C:\\Users\\melan\\AppData\\Local\\Temp\\ipykernel_29428\\3652350664.py:25: FutureWarning: pandas.io.json.json_normalize is deprecated, use pandas.json_normalize instead.\n",
      "  books = json_normalize(results[\"results\"], record_path=[\"book_details\"], meta=[\"rank\", \"rank_last_week\", \"weeks_on_list\", \"asterisk\", \"dagger\"])\n"
     ]
    },
    {
     "name": "stdout",
     "output_type": "stream",
     "text": [
      "2022-04-18\n",
      "https://api.nytimes.com/svc/books/v3/lists.json?api-key=P1yDSg62Aydsdh04WBBuS57pYbpBu2tb&list=hardcover-fiction&published-date=2022-04-18\n"
     ]
    },
    {
     "name": "stderr",
     "output_type": "stream",
     "text": [
      "C:\\Users\\melan\\AppData\\Local\\Temp\\ipykernel_29428\\3652350664.py:25: FutureWarning: pandas.io.json.json_normalize is deprecated, use pandas.json_normalize instead.\n",
      "  books = json_normalize(results[\"results\"], record_path=[\"book_details\"], meta=[\"rank\", \"rank_last_week\", \"weeks_on_list\", \"asterisk\", \"dagger\"])\n"
     ]
    },
    {
     "name": "stdout",
     "output_type": "stream",
     "text": [
      "2022-04-11\n",
      "https://api.nytimes.com/svc/books/v3/lists.json?api-key=P1yDSg62Aydsdh04WBBuS57pYbpBu2tb&list=hardcover-fiction&published-date=2022-04-11\n"
     ]
    },
    {
     "name": "stderr",
     "output_type": "stream",
     "text": [
      "C:\\Users\\melan\\AppData\\Local\\Temp\\ipykernel_29428\\3652350664.py:25: FutureWarning: pandas.io.json.json_normalize is deprecated, use pandas.json_normalize instead.\n",
      "  books = json_normalize(results[\"results\"], record_path=[\"book_details\"], meta=[\"rank\", \"rank_last_week\", \"weeks_on_list\", \"asterisk\", \"dagger\"])\n"
     ]
    },
    {
     "name": "stdout",
     "output_type": "stream",
     "text": [
      "2022-04-04\n",
      "https://api.nytimes.com/svc/books/v3/lists.json?api-key=P1yDSg62Aydsdh04WBBuS57pYbpBu2tb&list=hardcover-fiction&published-date=2022-04-04\n"
     ]
    },
    {
     "name": "stderr",
     "output_type": "stream",
     "text": [
      "C:\\Users\\melan\\AppData\\Local\\Temp\\ipykernel_29428\\3652350664.py:25: FutureWarning: pandas.io.json.json_normalize is deprecated, use pandas.json_normalize instead.\n",
      "  books = json_normalize(results[\"results\"], record_path=[\"book_details\"], meta=[\"rank\", \"rank_last_week\", \"weeks_on_list\", \"asterisk\", \"dagger\"])\n"
     ]
    },
    {
     "name": "stdout",
     "output_type": "stream",
     "text": [
      "2022-03-28\n",
      "https://api.nytimes.com/svc/books/v3/lists.json?api-key=P1yDSg62Aydsdh04WBBuS57pYbpBu2tb&list=hardcover-fiction&published-date=2022-03-28\n"
     ]
    },
    {
     "name": "stderr",
     "output_type": "stream",
     "text": [
      "C:\\Users\\melan\\AppData\\Local\\Temp\\ipykernel_29428\\3652350664.py:25: FutureWarning: pandas.io.json.json_normalize is deprecated, use pandas.json_normalize instead.\n",
      "  books = json_normalize(results[\"results\"], record_path=[\"book_details\"], meta=[\"rank\", \"rank_last_week\", \"weeks_on_list\", \"asterisk\", \"dagger\"])\n"
     ]
    },
    {
     "name": "stdout",
     "output_type": "stream",
     "text": [
      "2022-03-21\n",
      "https://api.nytimes.com/svc/books/v3/lists.json?api-key=P1yDSg62Aydsdh04WBBuS57pYbpBu2tb&list=hardcover-fiction&published-date=2022-03-21\n"
     ]
    },
    {
     "name": "stderr",
     "output_type": "stream",
     "text": [
      "C:\\Users\\melan\\AppData\\Local\\Temp\\ipykernel_29428\\3652350664.py:25: FutureWarning: pandas.io.json.json_normalize is deprecated, use pandas.json_normalize instead.\n",
      "  books = json_normalize(results[\"results\"], record_path=[\"book_details\"], meta=[\"rank\", \"rank_last_week\", \"weeks_on_list\", \"asterisk\", \"dagger\"])\n"
     ]
    },
    {
     "name": "stdout",
     "output_type": "stream",
     "text": [
      "2022-03-14\n",
      "https://api.nytimes.com/svc/books/v3/lists.json?api-key=P1yDSg62Aydsdh04WBBuS57pYbpBu2tb&list=hardcover-fiction&published-date=2022-03-14\n"
     ]
    },
    {
     "name": "stderr",
     "output_type": "stream",
     "text": [
      "C:\\Users\\melan\\AppData\\Local\\Temp\\ipykernel_29428\\3652350664.py:25: FutureWarning: pandas.io.json.json_normalize is deprecated, use pandas.json_normalize instead.\n",
      "  books = json_normalize(results[\"results\"], record_path=[\"book_details\"], meta=[\"rank\", \"rank_last_week\", \"weeks_on_list\", \"asterisk\", \"dagger\"])\n"
     ]
    },
    {
     "name": "stdout",
     "output_type": "stream",
     "text": [
      "2022-03-07\n",
      "https://api.nytimes.com/svc/books/v3/lists.json?api-key=P1yDSg62Aydsdh04WBBuS57pYbpBu2tb&list=hardcover-fiction&published-date=2022-03-07\n"
     ]
    },
    {
     "name": "stderr",
     "output_type": "stream",
     "text": [
      "C:\\Users\\melan\\AppData\\Local\\Temp\\ipykernel_29428\\3652350664.py:25: FutureWarning: pandas.io.json.json_normalize is deprecated, use pandas.json_normalize instead.\n",
      "  books = json_normalize(results[\"results\"], record_path=[\"book_details\"], meta=[\"rank\", \"rank_last_week\", \"weeks_on_list\", \"asterisk\", \"dagger\"])\n"
     ]
    },
    {
     "name": "stdout",
     "output_type": "stream",
     "text": [
      "2022-02-28\n",
      "https://api.nytimes.com/svc/books/v3/lists.json?api-key=P1yDSg62Aydsdh04WBBuS57pYbpBu2tb&list=hardcover-fiction&published-date=2022-02-28\n"
     ]
    },
    {
     "name": "stderr",
     "output_type": "stream",
     "text": [
      "C:\\Users\\melan\\AppData\\Local\\Temp\\ipykernel_29428\\3652350664.py:25: FutureWarning: pandas.io.json.json_normalize is deprecated, use pandas.json_normalize instead.\n",
      "  books = json_normalize(results[\"results\"], record_path=[\"book_details\"], meta=[\"rank\", \"rank_last_week\", \"weeks_on_list\", \"asterisk\", \"dagger\"])\n"
     ]
    },
    {
     "name": "stdout",
     "output_type": "stream",
     "text": [
      "2022-02-21\n",
      "https://api.nytimes.com/svc/books/v3/lists.json?api-key=P1yDSg62Aydsdh04WBBuS57pYbpBu2tb&list=hardcover-fiction&published-date=2022-02-21\n"
     ]
    },
    {
     "name": "stderr",
     "output_type": "stream",
     "text": [
      "C:\\Users\\melan\\AppData\\Local\\Temp\\ipykernel_29428\\3652350664.py:25: FutureWarning: pandas.io.json.json_normalize is deprecated, use pandas.json_normalize instead.\n",
      "  books = json_normalize(results[\"results\"], record_path=[\"book_details\"], meta=[\"rank\", \"rank_last_week\", \"weeks_on_list\", \"asterisk\", \"dagger\"])\n"
     ]
    },
    {
     "name": "stdout",
     "output_type": "stream",
     "text": [
      "2022-02-14\n",
      "https://api.nytimes.com/svc/books/v3/lists.json?api-key=P1yDSg62Aydsdh04WBBuS57pYbpBu2tb&list=hardcover-fiction&published-date=2022-02-14\n"
     ]
    },
    {
     "name": "stderr",
     "output_type": "stream",
     "text": [
      "C:\\Users\\melan\\AppData\\Local\\Temp\\ipykernel_29428\\3652350664.py:25: FutureWarning: pandas.io.json.json_normalize is deprecated, use pandas.json_normalize instead.\n",
      "  books = json_normalize(results[\"results\"], record_path=[\"book_details\"], meta=[\"rank\", \"rank_last_week\", \"weeks_on_list\", \"asterisk\", \"dagger\"])\n"
     ]
    },
    {
     "name": "stdout",
     "output_type": "stream",
     "text": [
      "2022-02-07\n",
      "https://api.nytimes.com/svc/books/v3/lists.json?api-key=P1yDSg62Aydsdh04WBBuS57pYbpBu2tb&list=hardcover-fiction&published-date=2022-02-07\n"
     ]
    },
    {
     "name": "stderr",
     "output_type": "stream",
     "text": [
      "C:\\Users\\melan\\AppData\\Local\\Temp\\ipykernel_29428\\3652350664.py:25: FutureWarning: pandas.io.json.json_normalize is deprecated, use pandas.json_normalize instead.\n",
      "  books = json_normalize(results[\"results\"], record_path=[\"book_details\"], meta=[\"rank\", \"rank_last_week\", \"weeks_on_list\", \"asterisk\", \"dagger\"])\n"
     ]
    },
    {
     "name": "stdout",
     "output_type": "stream",
     "text": [
      "2022-01-31\n",
      "https://api.nytimes.com/svc/books/v3/lists.json?api-key=P1yDSg62Aydsdh04WBBuS57pYbpBu2tb&list=hardcover-fiction&published-date=2022-01-31\n"
     ]
    },
    {
     "name": "stderr",
     "output_type": "stream",
     "text": [
      "C:\\Users\\melan\\AppData\\Local\\Temp\\ipykernel_29428\\3652350664.py:25: FutureWarning: pandas.io.json.json_normalize is deprecated, use pandas.json_normalize instead.\n",
      "  books = json_normalize(results[\"results\"], record_path=[\"book_details\"], meta=[\"rank\", \"rank_last_week\", \"weeks_on_list\", \"asterisk\", \"dagger\"])\n"
     ]
    },
    {
     "name": "stdout",
     "output_type": "stream",
     "text": [
      "2022-01-24\n",
      "https://api.nytimes.com/svc/books/v3/lists.json?api-key=P1yDSg62Aydsdh04WBBuS57pYbpBu2tb&list=hardcover-fiction&published-date=2022-01-24\n"
     ]
    },
    {
     "name": "stderr",
     "output_type": "stream",
     "text": [
      "C:\\Users\\melan\\AppData\\Local\\Temp\\ipykernel_29428\\3652350664.py:25: FutureWarning: pandas.io.json.json_normalize is deprecated, use pandas.json_normalize instead.\n",
      "  books = json_normalize(results[\"results\"], record_path=[\"book_details\"], meta=[\"rank\", \"rank_last_week\", \"weeks_on_list\", \"asterisk\", \"dagger\"])\n"
     ]
    },
    {
     "name": "stdout",
     "output_type": "stream",
     "text": [
      "2022-01-17\n",
      "https://api.nytimes.com/svc/books/v3/lists.json?api-key=P1yDSg62Aydsdh04WBBuS57pYbpBu2tb&list=hardcover-fiction&published-date=2022-01-17\n"
     ]
    },
    {
     "name": "stderr",
     "output_type": "stream",
     "text": [
      "C:\\Users\\melan\\AppData\\Local\\Temp\\ipykernel_29428\\3652350664.py:25: FutureWarning: pandas.io.json.json_normalize is deprecated, use pandas.json_normalize instead.\n",
      "  books = json_normalize(results[\"results\"], record_path=[\"book_details\"], meta=[\"rank\", \"rank_last_week\", \"weeks_on_list\", \"asterisk\", \"dagger\"])\n"
     ]
    },
    {
     "name": "stdout",
     "output_type": "stream",
     "text": [
      "2022-01-10\n",
      "https://api.nytimes.com/svc/books/v3/lists.json?api-key=P1yDSg62Aydsdh04WBBuS57pYbpBu2tb&list=hardcover-fiction&published-date=2022-01-10\n"
     ]
    },
    {
     "name": "stderr",
     "output_type": "stream",
     "text": [
      "C:\\Users\\melan\\AppData\\Local\\Temp\\ipykernel_29428\\3652350664.py:25: FutureWarning: pandas.io.json.json_normalize is deprecated, use pandas.json_normalize instead.\n",
      "  books = json_normalize(results[\"results\"], record_path=[\"book_details\"], meta=[\"rank\", \"rank_last_week\", \"weeks_on_list\", \"asterisk\", \"dagger\"])\n"
     ]
    },
    {
     "name": "stdout",
     "output_type": "stream",
     "text": [
      "2022-01-03\n",
      "https://api.nytimes.com/svc/books/v3/lists.json?api-key=P1yDSg62Aydsdh04WBBuS57pYbpBu2tb&list=hardcover-fiction&published-date=2022-01-03\n"
     ]
    },
    {
     "name": "stderr",
     "output_type": "stream",
     "text": [
      "C:\\Users\\melan\\AppData\\Local\\Temp\\ipykernel_29428\\3652350664.py:25: FutureWarning: pandas.io.json.json_normalize is deprecated, use pandas.json_normalize instead.\n",
      "  books = json_normalize(results[\"results\"], record_path=[\"book_details\"], meta=[\"rank\", \"rank_last_week\", \"weeks_on_list\", \"asterisk\", \"dagger\"])\n"
     ]
    },
    {
     "name": "stdout",
     "output_type": "stream",
     "text": [
      "2021-12-27\n",
      "https://api.nytimes.com/svc/books/v3/lists.json?api-key=P1yDSg62Aydsdh04WBBuS57pYbpBu2tb&list=hardcover-fiction&published-date=2021-12-27\n"
     ]
    },
    {
     "name": "stderr",
     "output_type": "stream",
     "text": [
      "C:\\Users\\melan\\AppData\\Local\\Temp\\ipykernel_29428\\3652350664.py:25: FutureWarning: pandas.io.json.json_normalize is deprecated, use pandas.json_normalize instead.\n",
      "  books = json_normalize(results[\"results\"], record_path=[\"book_details\"], meta=[\"rank\", \"rank_last_week\", \"weeks_on_list\", \"asterisk\", \"dagger\"])\n"
     ]
    },
    {
     "name": "stdout",
     "output_type": "stream",
     "text": [
      "2021-12-20\n",
      "https://api.nytimes.com/svc/books/v3/lists.json?api-key=P1yDSg62Aydsdh04WBBuS57pYbpBu2tb&list=hardcover-fiction&published-date=2021-12-20\n"
     ]
    },
    {
     "name": "stderr",
     "output_type": "stream",
     "text": [
      "C:\\Users\\melan\\AppData\\Local\\Temp\\ipykernel_29428\\3652350664.py:25: FutureWarning: pandas.io.json.json_normalize is deprecated, use pandas.json_normalize instead.\n",
      "  books = json_normalize(results[\"results\"], record_path=[\"book_details\"], meta=[\"rank\", \"rank_last_week\", \"weeks_on_list\", \"asterisk\", \"dagger\"])\n"
     ]
    },
    {
     "name": "stdout",
     "output_type": "stream",
     "text": [
      "2021-12-13\n",
      "https://api.nytimes.com/svc/books/v3/lists.json?api-key=P1yDSg62Aydsdh04WBBuS57pYbpBu2tb&list=hardcover-fiction&published-date=2021-12-13\n"
     ]
    },
    {
     "name": "stderr",
     "output_type": "stream",
     "text": [
      "C:\\Users\\melan\\AppData\\Local\\Temp\\ipykernel_29428\\3652350664.py:25: FutureWarning: pandas.io.json.json_normalize is deprecated, use pandas.json_normalize instead.\n",
      "  books = json_normalize(results[\"results\"], record_path=[\"book_details\"], meta=[\"rank\", \"rank_last_week\", \"weeks_on_list\", \"asterisk\", \"dagger\"])\n"
     ]
    },
    {
     "name": "stdout",
     "output_type": "stream",
     "text": [
      "2021-12-06\n",
      "https://api.nytimes.com/svc/books/v3/lists.json?api-key=P1yDSg62Aydsdh04WBBuS57pYbpBu2tb&list=hardcover-fiction&published-date=2021-12-06\n"
     ]
    },
    {
     "name": "stderr",
     "output_type": "stream",
     "text": [
      "C:\\Users\\melan\\AppData\\Local\\Temp\\ipykernel_29428\\3652350664.py:25: FutureWarning: pandas.io.json.json_normalize is deprecated, use pandas.json_normalize instead.\n",
      "  books = json_normalize(results[\"results\"], record_path=[\"book_details\"], meta=[\"rank\", \"rank_last_week\", \"weeks_on_list\", \"asterisk\", \"dagger\"])\n"
     ]
    },
    {
     "name": "stdout",
     "output_type": "stream",
     "text": [
      "2021-11-29\n",
      "https://api.nytimes.com/svc/books/v3/lists.json?api-key=P1yDSg62Aydsdh04WBBuS57pYbpBu2tb&list=hardcover-fiction&published-date=2021-11-29\n"
     ]
    },
    {
     "name": "stderr",
     "output_type": "stream",
     "text": [
      "C:\\Users\\melan\\AppData\\Local\\Temp\\ipykernel_29428\\3652350664.py:25: FutureWarning: pandas.io.json.json_normalize is deprecated, use pandas.json_normalize instead.\n",
      "  books = json_normalize(results[\"results\"], record_path=[\"book_details\"], meta=[\"rank\", \"rank_last_week\", \"weeks_on_list\", \"asterisk\", \"dagger\"])\n"
     ]
    },
    {
     "name": "stdout",
     "output_type": "stream",
     "text": [
      "2021-11-22\n",
      "https://api.nytimes.com/svc/books/v3/lists.json?api-key=P1yDSg62Aydsdh04WBBuS57pYbpBu2tb&list=hardcover-fiction&published-date=2021-11-22\n"
     ]
    },
    {
     "name": "stderr",
     "output_type": "stream",
     "text": [
      "C:\\Users\\melan\\AppData\\Local\\Temp\\ipykernel_29428\\3652350664.py:25: FutureWarning: pandas.io.json.json_normalize is deprecated, use pandas.json_normalize instead.\n",
      "  books = json_normalize(results[\"results\"], record_path=[\"book_details\"], meta=[\"rank\", \"rank_last_week\", \"weeks_on_list\", \"asterisk\", \"dagger\"])\n"
     ]
    },
    {
     "name": "stdout",
     "output_type": "stream",
     "text": [
      "2021-11-15\n",
      "https://api.nytimes.com/svc/books/v3/lists.json?api-key=P1yDSg62Aydsdh04WBBuS57pYbpBu2tb&list=hardcover-fiction&published-date=2021-11-15\n"
     ]
    },
    {
     "name": "stderr",
     "output_type": "stream",
     "text": [
      "C:\\Users\\melan\\AppData\\Local\\Temp\\ipykernel_29428\\3652350664.py:25: FutureWarning: pandas.io.json.json_normalize is deprecated, use pandas.json_normalize instead.\n",
      "  books = json_normalize(results[\"results\"], record_path=[\"book_details\"], meta=[\"rank\", \"rank_last_week\", \"weeks_on_list\", \"asterisk\", \"dagger\"])\n"
     ]
    },
    {
     "name": "stdout",
     "output_type": "stream",
     "text": [
      "2021-11-08\n",
      "https://api.nytimes.com/svc/books/v3/lists.json?api-key=P1yDSg62Aydsdh04WBBuS57pYbpBu2tb&list=hardcover-fiction&published-date=2021-11-08\n"
     ]
    },
    {
     "name": "stderr",
     "output_type": "stream",
     "text": [
      "C:\\Users\\melan\\AppData\\Local\\Temp\\ipykernel_29428\\3652350664.py:25: FutureWarning: pandas.io.json.json_normalize is deprecated, use pandas.json_normalize instead.\n",
      "  books = json_normalize(results[\"results\"], record_path=[\"book_details\"], meta=[\"rank\", \"rank_last_week\", \"weeks_on_list\", \"asterisk\", \"dagger\"])\n"
     ]
    },
    {
     "name": "stdout",
     "output_type": "stream",
     "text": [
      "2021-11-01\n",
      "https://api.nytimes.com/svc/books/v3/lists.json?api-key=P1yDSg62Aydsdh04WBBuS57pYbpBu2tb&list=hardcover-fiction&published-date=2021-11-01\n"
     ]
    },
    {
     "name": "stderr",
     "output_type": "stream",
     "text": [
      "C:\\Users\\melan\\AppData\\Local\\Temp\\ipykernel_29428\\3652350664.py:25: FutureWarning: pandas.io.json.json_normalize is deprecated, use pandas.json_normalize instead.\n",
      "  books = json_normalize(results[\"results\"], record_path=[\"book_details\"], meta=[\"rank\", \"rank_last_week\", \"weeks_on_list\", \"asterisk\", \"dagger\"])\n"
     ]
    },
    {
     "name": "stdout",
     "output_type": "stream",
     "text": [
      "2021-10-25\n",
      "https://api.nytimes.com/svc/books/v3/lists.json?api-key=P1yDSg62Aydsdh04WBBuS57pYbpBu2tb&list=hardcover-fiction&published-date=2021-10-25\n"
     ]
    },
    {
     "name": "stderr",
     "output_type": "stream",
     "text": [
      "C:\\Users\\melan\\AppData\\Local\\Temp\\ipykernel_29428\\3652350664.py:25: FutureWarning: pandas.io.json.json_normalize is deprecated, use pandas.json_normalize instead.\n",
      "  books = json_normalize(results[\"results\"], record_path=[\"book_details\"], meta=[\"rank\", \"rank_last_week\", \"weeks_on_list\", \"asterisk\", \"dagger\"])\n"
     ]
    },
    {
     "name": "stdout",
     "output_type": "stream",
     "text": [
      "2021-10-18\n",
      "https://api.nytimes.com/svc/books/v3/lists.json?api-key=P1yDSg62Aydsdh04WBBuS57pYbpBu2tb&list=hardcover-fiction&published-date=2021-10-18\n"
     ]
    },
    {
     "name": "stderr",
     "output_type": "stream",
     "text": [
      "C:\\Users\\melan\\AppData\\Local\\Temp\\ipykernel_29428\\3652350664.py:25: FutureWarning: pandas.io.json.json_normalize is deprecated, use pandas.json_normalize instead.\n",
      "  books = json_normalize(results[\"results\"], record_path=[\"book_details\"], meta=[\"rank\", \"rank_last_week\", \"weeks_on_list\", \"asterisk\", \"dagger\"])\n"
     ]
    },
    {
     "name": "stdout",
     "output_type": "stream",
     "text": [
      "2021-10-11\n",
      "https://api.nytimes.com/svc/books/v3/lists.json?api-key=P1yDSg62Aydsdh04WBBuS57pYbpBu2tb&list=hardcover-fiction&published-date=2021-10-11\n"
     ]
    },
    {
     "name": "stderr",
     "output_type": "stream",
     "text": [
      "C:\\Users\\melan\\AppData\\Local\\Temp\\ipykernel_29428\\3652350664.py:25: FutureWarning: pandas.io.json.json_normalize is deprecated, use pandas.json_normalize instead.\n",
      "  books = json_normalize(results[\"results\"], record_path=[\"book_details\"], meta=[\"rank\", \"rank_last_week\", \"weeks_on_list\", \"asterisk\", \"dagger\"])\n"
     ]
    },
    {
     "name": "stdout",
     "output_type": "stream",
     "text": [
      "2021-10-04\n",
      "https://api.nytimes.com/svc/books/v3/lists.json?api-key=P1yDSg62Aydsdh04WBBuS57pYbpBu2tb&list=hardcover-fiction&published-date=2021-10-04\n"
     ]
    },
    {
     "name": "stderr",
     "output_type": "stream",
     "text": [
      "C:\\Users\\melan\\AppData\\Local\\Temp\\ipykernel_29428\\3652350664.py:25: FutureWarning: pandas.io.json.json_normalize is deprecated, use pandas.json_normalize instead.\n",
      "  books = json_normalize(results[\"results\"], record_path=[\"book_details\"], meta=[\"rank\", \"rank_last_week\", \"weeks_on_list\", \"asterisk\", \"dagger\"])\n"
     ]
    },
    {
     "name": "stdout",
     "output_type": "stream",
     "text": [
      "2021-09-27\n",
      "https://api.nytimes.com/svc/books/v3/lists.json?api-key=P1yDSg62Aydsdh04WBBuS57pYbpBu2tb&list=hardcover-fiction&published-date=2021-09-27\n"
     ]
    },
    {
     "name": "stderr",
     "output_type": "stream",
     "text": [
      "C:\\Users\\melan\\AppData\\Local\\Temp\\ipykernel_29428\\3652350664.py:25: FutureWarning: pandas.io.json.json_normalize is deprecated, use pandas.json_normalize instead.\n",
      "  books = json_normalize(results[\"results\"], record_path=[\"book_details\"], meta=[\"rank\", \"rank_last_week\", \"weeks_on_list\", \"asterisk\", \"dagger\"])\n"
     ]
    },
    {
     "name": "stdout",
     "output_type": "stream",
     "text": [
      "2021-09-20\n",
      "https://api.nytimes.com/svc/books/v3/lists.json?api-key=P1yDSg62Aydsdh04WBBuS57pYbpBu2tb&list=hardcover-fiction&published-date=2021-09-20\n"
     ]
    },
    {
     "name": "stderr",
     "output_type": "stream",
     "text": [
      "C:\\Users\\melan\\AppData\\Local\\Temp\\ipykernel_29428\\3652350664.py:25: FutureWarning: pandas.io.json.json_normalize is deprecated, use pandas.json_normalize instead.\n",
      "  books = json_normalize(results[\"results\"], record_path=[\"book_details\"], meta=[\"rank\", \"rank_last_week\", \"weeks_on_list\", \"asterisk\", \"dagger\"])\n"
     ]
    },
    {
     "name": "stdout",
     "output_type": "stream",
     "text": [
      "2021-09-13\n",
      "https://api.nytimes.com/svc/books/v3/lists.json?api-key=P1yDSg62Aydsdh04WBBuS57pYbpBu2tb&list=hardcover-fiction&published-date=2021-09-13\n"
     ]
    },
    {
     "name": "stderr",
     "output_type": "stream",
     "text": [
      "C:\\Users\\melan\\AppData\\Local\\Temp\\ipykernel_29428\\3652350664.py:25: FutureWarning: pandas.io.json.json_normalize is deprecated, use pandas.json_normalize instead.\n",
      "  books = json_normalize(results[\"results\"], record_path=[\"book_details\"], meta=[\"rank\", \"rank_last_week\", \"weeks_on_list\", \"asterisk\", \"dagger\"])\n"
     ]
    },
    {
     "name": "stdout",
     "output_type": "stream",
     "text": [
      "2021-09-06\n",
      "https://api.nytimes.com/svc/books/v3/lists.json?api-key=P1yDSg62Aydsdh04WBBuS57pYbpBu2tb&list=hardcover-fiction&published-date=2021-09-06\n"
     ]
    },
    {
     "name": "stderr",
     "output_type": "stream",
     "text": [
      "C:\\Users\\melan\\AppData\\Local\\Temp\\ipykernel_29428\\3652350664.py:25: FutureWarning: pandas.io.json.json_normalize is deprecated, use pandas.json_normalize instead.\n",
      "  books = json_normalize(results[\"results\"], record_path=[\"book_details\"], meta=[\"rank\", \"rank_last_week\", \"weeks_on_list\", \"asterisk\", \"dagger\"])\n"
     ]
    },
    {
     "name": "stdout",
     "output_type": "stream",
     "text": [
      "2021-08-30\n",
      "https://api.nytimes.com/svc/books/v3/lists.json?api-key=P1yDSg62Aydsdh04WBBuS57pYbpBu2tb&list=hardcover-fiction&published-date=2021-08-30\n"
     ]
    },
    {
     "name": "stderr",
     "output_type": "stream",
     "text": [
      "C:\\Users\\melan\\AppData\\Local\\Temp\\ipykernel_29428\\3652350664.py:25: FutureWarning: pandas.io.json.json_normalize is deprecated, use pandas.json_normalize instead.\n",
      "  books = json_normalize(results[\"results\"], record_path=[\"book_details\"], meta=[\"rank\", \"rank_last_week\", \"weeks_on_list\", \"asterisk\", \"dagger\"])\n"
     ]
    },
    {
     "name": "stdout",
     "output_type": "stream",
     "text": [
      "2021-08-23\n",
      "https://api.nytimes.com/svc/books/v3/lists.json?api-key=P1yDSg62Aydsdh04WBBuS57pYbpBu2tb&list=hardcover-fiction&published-date=2021-08-23\n"
     ]
    },
    {
     "name": "stderr",
     "output_type": "stream",
     "text": [
      "C:\\Users\\melan\\AppData\\Local\\Temp\\ipykernel_29428\\3652350664.py:25: FutureWarning: pandas.io.json.json_normalize is deprecated, use pandas.json_normalize instead.\n",
      "  books = json_normalize(results[\"results\"], record_path=[\"book_details\"], meta=[\"rank\", \"rank_last_week\", \"weeks_on_list\", \"asterisk\", \"dagger\"])\n"
     ]
    },
    {
     "name": "stdout",
     "output_type": "stream",
     "text": [
      "2021-08-16\n",
      "https://api.nytimes.com/svc/books/v3/lists.json?api-key=P1yDSg62Aydsdh04WBBuS57pYbpBu2tb&list=hardcover-fiction&published-date=2021-08-16\n"
     ]
    },
    {
     "name": "stderr",
     "output_type": "stream",
     "text": [
      "C:\\Users\\melan\\AppData\\Local\\Temp\\ipykernel_29428\\3652350664.py:25: FutureWarning: pandas.io.json.json_normalize is deprecated, use pandas.json_normalize instead.\n",
      "  books = json_normalize(results[\"results\"], record_path=[\"book_details\"], meta=[\"rank\", \"rank_last_week\", \"weeks_on_list\", \"asterisk\", \"dagger\"])\n"
     ]
    },
    {
     "name": "stdout",
     "output_type": "stream",
     "text": [
      "2021-08-09\n",
      "https://api.nytimes.com/svc/books/v3/lists.json?api-key=P1yDSg62Aydsdh04WBBuS57pYbpBu2tb&list=hardcover-fiction&published-date=2021-08-09\n"
     ]
    },
    {
     "name": "stderr",
     "output_type": "stream",
     "text": [
      "C:\\Users\\melan\\AppData\\Local\\Temp\\ipykernel_29428\\3652350664.py:25: FutureWarning: pandas.io.json.json_normalize is deprecated, use pandas.json_normalize instead.\n",
      "  books = json_normalize(results[\"results\"], record_path=[\"book_details\"], meta=[\"rank\", \"rank_last_week\", \"weeks_on_list\", \"asterisk\", \"dagger\"])\n"
     ]
    },
    {
     "name": "stdout",
     "output_type": "stream",
     "text": [
      "2021-08-02\n",
      "https://api.nytimes.com/svc/books/v3/lists.json?api-key=P1yDSg62Aydsdh04WBBuS57pYbpBu2tb&list=hardcover-fiction&published-date=2021-08-02\n"
     ]
    },
    {
     "name": "stderr",
     "output_type": "stream",
     "text": [
      "C:\\Users\\melan\\AppData\\Local\\Temp\\ipykernel_29428\\3652350664.py:25: FutureWarning: pandas.io.json.json_normalize is deprecated, use pandas.json_normalize instead.\n",
      "  books = json_normalize(results[\"results\"], record_path=[\"book_details\"], meta=[\"rank\", \"rank_last_week\", \"weeks_on_list\", \"asterisk\", \"dagger\"])\n"
     ]
    },
    {
     "name": "stdout",
     "output_type": "stream",
     "text": [
      "2021-07-26\n",
      "https://api.nytimes.com/svc/books/v3/lists.json?api-key=P1yDSg62Aydsdh04WBBuS57pYbpBu2tb&list=hardcover-fiction&published-date=2021-07-26\n"
     ]
    },
    {
     "name": "stderr",
     "output_type": "stream",
     "text": [
      "C:\\Users\\melan\\AppData\\Local\\Temp\\ipykernel_29428\\3652350664.py:25: FutureWarning: pandas.io.json.json_normalize is deprecated, use pandas.json_normalize instead.\n",
      "  books = json_normalize(results[\"results\"], record_path=[\"book_details\"], meta=[\"rank\", \"rank_last_week\", \"weeks_on_list\", \"asterisk\", \"dagger\"])\n"
     ]
    },
    {
     "name": "stdout",
     "output_type": "stream",
     "text": [
      "2021-07-19\n",
      "https://api.nytimes.com/svc/books/v3/lists.json?api-key=P1yDSg62Aydsdh04WBBuS57pYbpBu2tb&list=hardcover-fiction&published-date=2021-07-19\n"
     ]
    },
    {
     "name": "stderr",
     "output_type": "stream",
     "text": [
      "C:\\Users\\melan\\AppData\\Local\\Temp\\ipykernel_29428\\3652350664.py:25: FutureWarning: pandas.io.json.json_normalize is deprecated, use pandas.json_normalize instead.\n",
      "  books = json_normalize(results[\"results\"], record_path=[\"book_details\"], meta=[\"rank\", \"rank_last_week\", \"weeks_on_list\", \"asterisk\", \"dagger\"])\n"
     ]
    },
    {
     "name": "stdout",
     "output_type": "stream",
     "text": [
      "2021-07-12\n",
      "https://api.nytimes.com/svc/books/v3/lists.json?api-key=P1yDSg62Aydsdh04WBBuS57pYbpBu2tb&list=hardcover-fiction&published-date=2021-07-12\n"
     ]
    },
    {
     "name": "stderr",
     "output_type": "stream",
     "text": [
      "C:\\Users\\melan\\AppData\\Local\\Temp\\ipykernel_29428\\3652350664.py:25: FutureWarning: pandas.io.json.json_normalize is deprecated, use pandas.json_normalize instead.\n",
      "  books = json_normalize(results[\"results\"], record_path=[\"book_details\"], meta=[\"rank\", \"rank_last_week\", \"weeks_on_list\", \"asterisk\", \"dagger\"])\n"
     ]
    },
    {
     "name": "stdout",
     "output_type": "stream",
     "text": [
      "2021-07-05\n",
      "https://api.nytimes.com/svc/books/v3/lists.json?api-key=P1yDSg62Aydsdh04WBBuS57pYbpBu2tb&list=hardcover-fiction&published-date=2021-07-05\n"
     ]
    },
    {
     "name": "stderr",
     "output_type": "stream",
     "text": [
      "C:\\Users\\melan\\AppData\\Local\\Temp\\ipykernel_29428\\3652350664.py:25: FutureWarning: pandas.io.json.json_normalize is deprecated, use pandas.json_normalize instead.\n",
      "  books = json_normalize(results[\"results\"], record_path=[\"book_details\"], meta=[\"rank\", \"rank_last_week\", \"weeks_on_list\", \"asterisk\", \"dagger\"])\n"
     ]
    },
    {
     "name": "stdout",
     "output_type": "stream",
     "text": [
      "2021-06-28\n",
      "https://api.nytimes.com/svc/books/v3/lists.json?api-key=P1yDSg62Aydsdh04WBBuS57pYbpBu2tb&list=hardcover-fiction&published-date=2021-06-28\n"
     ]
    },
    {
     "name": "stderr",
     "output_type": "stream",
     "text": [
      "C:\\Users\\melan\\AppData\\Local\\Temp\\ipykernel_29428\\3652350664.py:25: FutureWarning: pandas.io.json.json_normalize is deprecated, use pandas.json_normalize instead.\n",
      "  books = json_normalize(results[\"results\"], record_path=[\"book_details\"], meta=[\"rank\", \"rank_last_week\", \"weeks_on_list\", \"asterisk\", \"dagger\"])\n"
     ]
    },
    {
     "name": "stdout",
     "output_type": "stream",
     "text": [
      "2021-06-21\n",
      "https://api.nytimes.com/svc/books/v3/lists.json?api-key=P1yDSg62Aydsdh04WBBuS57pYbpBu2tb&list=hardcover-fiction&published-date=2021-06-21\n"
     ]
    },
    {
     "name": "stderr",
     "output_type": "stream",
     "text": [
      "C:\\Users\\melan\\AppData\\Local\\Temp\\ipykernel_29428\\3652350664.py:25: FutureWarning: pandas.io.json.json_normalize is deprecated, use pandas.json_normalize instead.\n",
      "  books = json_normalize(results[\"results\"], record_path=[\"book_details\"], meta=[\"rank\", \"rank_last_week\", \"weeks_on_list\", \"asterisk\", \"dagger\"])\n"
     ]
    },
    {
     "name": "stdout",
     "output_type": "stream",
     "text": [
      "2021-06-14\n",
      "https://api.nytimes.com/svc/books/v3/lists.json?api-key=P1yDSg62Aydsdh04WBBuS57pYbpBu2tb&list=hardcover-fiction&published-date=2021-06-14\n"
     ]
    },
    {
     "name": "stderr",
     "output_type": "stream",
     "text": [
      "C:\\Users\\melan\\AppData\\Local\\Temp\\ipykernel_29428\\3652350664.py:25: FutureWarning: pandas.io.json.json_normalize is deprecated, use pandas.json_normalize instead.\n",
      "  books = json_normalize(results[\"results\"], record_path=[\"book_details\"], meta=[\"rank\", \"rank_last_week\", \"weeks_on_list\", \"asterisk\", \"dagger\"])\n"
     ]
    },
    {
     "name": "stdout",
     "output_type": "stream",
     "text": [
      "2021-06-07\n",
      "https://api.nytimes.com/svc/books/v3/lists.json?api-key=P1yDSg62Aydsdh04WBBuS57pYbpBu2tb&list=hardcover-fiction&published-date=2021-06-07\n"
     ]
    },
    {
     "name": "stderr",
     "output_type": "stream",
     "text": [
      "C:\\Users\\melan\\AppData\\Local\\Temp\\ipykernel_29428\\3652350664.py:25: FutureWarning: pandas.io.json.json_normalize is deprecated, use pandas.json_normalize instead.\n",
      "  books = json_normalize(results[\"results\"], record_path=[\"book_details\"], meta=[\"rank\", \"rank_last_week\", \"weeks_on_list\", \"asterisk\", \"dagger\"])\n"
     ]
    },
    {
     "name": "stdout",
     "output_type": "stream",
     "text": [
      "2021-05-31\n",
      "https://api.nytimes.com/svc/books/v3/lists.json?api-key=P1yDSg62Aydsdh04WBBuS57pYbpBu2tb&list=hardcover-fiction&published-date=2021-05-31\n"
     ]
    },
    {
     "name": "stderr",
     "output_type": "stream",
     "text": [
      "C:\\Users\\melan\\AppData\\Local\\Temp\\ipykernel_29428\\3652350664.py:25: FutureWarning: pandas.io.json.json_normalize is deprecated, use pandas.json_normalize instead.\n",
      "  books = json_normalize(results[\"results\"], record_path=[\"book_details\"], meta=[\"rank\", \"rank_last_week\", \"weeks_on_list\", \"asterisk\", \"dagger\"])\n"
     ]
    },
    {
     "name": "stdout",
     "output_type": "stream",
     "text": [
      "2021-05-24\n",
      "https://api.nytimes.com/svc/books/v3/lists.json?api-key=P1yDSg62Aydsdh04WBBuS57pYbpBu2tb&list=hardcover-fiction&published-date=2021-05-24\n"
     ]
    },
    {
     "name": "stderr",
     "output_type": "stream",
     "text": [
      "C:\\Users\\melan\\AppData\\Local\\Temp\\ipykernel_29428\\3652350664.py:25: FutureWarning: pandas.io.json.json_normalize is deprecated, use pandas.json_normalize instead.\n",
      "  books = json_normalize(results[\"results\"], record_path=[\"book_details\"], meta=[\"rank\", \"rank_last_week\", \"weeks_on_list\", \"asterisk\", \"dagger\"])\n"
     ]
    },
    {
     "name": "stdout",
     "output_type": "stream",
     "text": [
      "2021-05-17\n",
      "https://api.nytimes.com/svc/books/v3/lists.json?api-key=P1yDSg62Aydsdh04WBBuS57pYbpBu2tb&list=hardcover-fiction&published-date=2021-05-17\n"
     ]
    },
    {
     "name": "stderr",
     "output_type": "stream",
     "text": [
      "C:\\Users\\melan\\AppData\\Local\\Temp\\ipykernel_29428\\3652350664.py:25: FutureWarning: pandas.io.json.json_normalize is deprecated, use pandas.json_normalize instead.\n",
      "  books = json_normalize(results[\"results\"], record_path=[\"book_details\"], meta=[\"rank\", \"rank_last_week\", \"weeks_on_list\", \"asterisk\", \"dagger\"])\n"
     ]
    },
    {
     "name": "stdout",
     "output_type": "stream",
     "text": [
      "2021-05-10\n",
      "https://api.nytimes.com/svc/books/v3/lists.json?api-key=P1yDSg62Aydsdh04WBBuS57pYbpBu2tb&list=hardcover-fiction&published-date=2021-05-10\n"
     ]
    },
    {
     "name": "stderr",
     "output_type": "stream",
     "text": [
      "C:\\Users\\melan\\AppData\\Local\\Temp\\ipykernel_29428\\3652350664.py:25: FutureWarning: pandas.io.json.json_normalize is deprecated, use pandas.json_normalize instead.\n",
      "  books = json_normalize(results[\"results\"], record_path=[\"book_details\"], meta=[\"rank\", \"rank_last_week\", \"weeks_on_list\", \"asterisk\", \"dagger\"])\n"
     ]
    },
    {
     "name": "stdout",
     "output_type": "stream",
     "text": [
      "2021-05-03\n",
      "https://api.nytimes.com/svc/books/v3/lists.json?api-key=P1yDSg62Aydsdh04WBBuS57pYbpBu2tb&list=hardcover-fiction&published-date=2021-05-03\n"
     ]
    },
    {
     "name": "stderr",
     "output_type": "stream",
     "text": [
      "C:\\Users\\melan\\AppData\\Local\\Temp\\ipykernel_29428\\3652350664.py:25: FutureWarning: pandas.io.json.json_normalize is deprecated, use pandas.json_normalize instead.\n",
      "  books = json_normalize(results[\"results\"], record_path=[\"book_details\"], meta=[\"rank\", \"rank_last_week\", \"weeks_on_list\", \"asterisk\", \"dagger\"])\n"
     ]
    },
    {
     "name": "stdout",
     "output_type": "stream",
     "text": [
      "2021-04-26\n",
      "https://api.nytimes.com/svc/books/v3/lists.json?api-key=P1yDSg62Aydsdh04WBBuS57pYbpBu2tb&list=hardcover-fiction&published-date=2021-04-26\n"
     ]
    },
    {
     "name": "stderr",
     "output_type": "stream",
     "text": [
      "C:\\Users\\melan\\AppData\\Local\\Temp\\ipykernel_29428\\3652350664.py:25: FutureWarning: pandas.io.json.json_normalize is deprecated, use pandas.json_normalize instead.\n",
      "  books = json_normalize(results[\"results\"], record_path=[\"book_details\"], meta=[\"rank\", \"rank_last_week\", \"weeks_on_list\", \"asterisk\", \"dagger\"])\n"
     ]
    },
    {
     "name": "stdout",
     "output_type": "stream",
     "text": [
      "2021-04-19\n",
      "https://api.nytimes.com/svc/books/v3/lists.json?api-key=P1yDSg62Aydsdh04WBBuS57pYbpBu2tb&list=hardcover-fiction&published-date=2021-04-19\n"
     ]
    },
    {
     "name": "stderr",
     "output_type": "stream",
     "text": [
      "C:\\Users\\melan\\AppData\\Local\\Temp\\ipykernel_29428\\3652350664.py:25: FutureWarning: pandas.io.json.json_normalize is deprecated, use pandas.json_normalize instead.\n",
      "  books = json_normalize(results[\"results\"], record_path=[\"book_details\"], meta=[\"rank\", \"rank_last_week\", \"weeks_on_list\", \"asterisk\", \"dagger\"])\n"
     ]
    },
    {
     "name": "stdout",
     "output_type": "stream",
     "text": [
      "2021-04-12\n",
      "https://api.nytimes.com/svc/books/v3/lists.json?api-key=P1yDSg62Aydsdh04WBBuS57pYbpBu2tb&list=hardcover-fiction&published-date=2021-04-12\n"
     ]
    },
    {
     "name": "stderr",
     "output_type": "stream",
     "text": [
      "C:\\Users\\melan\\AppData\\Local\\Temp\\ipykernel_29428\\3652350664.py:25: FutureWarning: pandas.io.json.json_normalize is deprecated, use pandas.json_normalize instead.\n",
      "  books = json_normalize(results[\"results\"], record_path=[\"book_details\"], meta=[\"rank\", \"rank_last_week\", \"weeks_on_list\", \"asterisk\", \"dagger\"])\n"
     ]
    },
    {
     "name": "stdout",
     "output_type": "stream",
     "text": [
      "2021-04-05\n",
      "https://api.nytimes.com/svc/books/v3/lists.json?api-key=P1yDSg62Aydsdh04WBBuS57pYbpBu2tb&list=hardcover-fiction&published-date=2021-04-05\n"
     ]
    },
    {
     "name": "stderr",
     "output_type": "stream",
     "text": [
      "C:\\Users\\melan\\AppData\\Local\\Temp\\ipykernel_29428\\3652350664.py:25: FutureWarning: pandas.io.json.json_normalize is deprecated, use pandas.json_normalize instead.\n",
      "  books = json_normalize(results[\"results\"], record_path=[\"book_details\"], meta=[\"rank\", \"rank_last_week\", \"weeks_on_list\", \"asterisk\", \"dagger\"])\n"
     ]
    },
    {
     "name": "stdout",
     "output_type": "stream",
     "text": [
      "2021-03-29\n",
      "https://api.nytimes.com/svc/books/v3/lists.json?api-key=P1yDSg62Aydsdh04WBBuS57pYbpBu2tb&list=hardcover-fiction&published-date=2021-03-29\n"
     ]
    },
    {
     "name": "stderr",
     "output_type": "stream",
     "text": [
      "C:\\Users\\melan\\AppData\\Local\\Temp\\ipykernel_29428\\3652350664.py:25: FutureWarning: pandas.io.json.json_normalize is deprecated, use pandas.json_normalize instead.\n",
      "  books = json_normalize(results[\"results\"], record_path=[\"book_details\"], meta=[\"rank\", \"rank_last_week\", \"weeks_on_list\", \"asterisk\", \"dagger\"])\n"
     ]
    },
    {
     "name": "stdout",
     "output_type": "stream",
     "text": [
      "2021-03-22\n",
      "https://api.nytimes.com/svc/books/v3/lists.json?api-key=P1yDSg62Aydsdh04WBBuS57pYbpBu2tb&list=hardcover-fiction&published-date=2021-03-22\n"
     ]
    },
    {
     "name": "stderr",
     "output_type": "stream",
     "text": [
      "C:\\Users\\melan\\AppData\\Local\\Temp\\ipykernel_29428\\3652350664.py:25: FutureWarning: pandas.io.json.json_normalize is deprecated, use pandas.json_normalize instead.\n",
      "  books = json_normalize(results[\"results\"], record_path=[\"book_details\"], meta=[\"rank\", \"rank_last_week\", \"weeks_on_list\", \"asterisk\", \"dagger\"])\n"
     ]
    },
    {
     "name": "stdout",
     "output_type": "stream",
     "text": [
      "2021-03-15\n",
      "https://api.nytimes.com/svc/books/v3/lists.json?api-key=P1yDSg62Aydsdh04WBBuS57pYbpBu2tb&list=hardcover-fiction&published-date=2021-03-15\n"
     ]
    },
    {
     "name": "stderr",
     "output_type": "stream",
     "text": [
      "C:\\Users\\melan\\AppData\\Local\\Temp\\ipykernel_29428\\3652350664.py:25: FutureWarning: pandas.io.json.json_normalize is deprecated, use pandas.json_normalize instead.\n",
      "  books = json_normalize(results[\"results\"], record_path=[\"book_details\"], meta=[\"rank\", \"rank_last_week\", \"weeks_on_list\", \"asterisk\", \"dagger\"])\n"
     ]
    },
    {
     "name": "stdout",
     "output_type": "stream",
     "text": [
      "2021-03-08\n",
      "https://api.nytimes.com/svc/books/v3/lists.json?api-key=P1yDSg62Aydsdh04WBBuS57pYbpBu2tb&list=hardcover-fiction&published-date=2021-03-08\n"
     ]
    },
    {
     "name": "stderr",
     "output_type": "stream",
     "text": [
      "C:\\Users\\melan\\AppData\\Local\\Temp\\ipykernel_29428\\3652350664.py:25: FutureWarning: pandas.io.json.json_normalize is deprecated, use pandas.json_normalize instead.\n",
      "  books = json_normalize(results[\"results\"], record_path=[\"book_details\"], meta=[\"rank\", \"rank_last_week\", \"weeks_on_list\", \"asterisk\", \"dagger\"])\n"
     ]
    },
    {
     "name": "stdout",
     "output_type": "stream",
     "text": [
      "2021-03-01\n",
      "https://api.nytimes.com/svc/books/v3/lists.json?api-key=P1yDSg62Aydsdh04WBBuS57pYbpBu2tb&list=hardcover-fiction&published-date=2021-03-01\n"
     ]
    },
    {
     "name": "stderr",
     "output_type": "stream",
     "text": [
      "C:\\Users\\melan\\AppData\\Local\\Temp\\ipykernel_29428\\3652350664.py:25: FutureWarning: pandas.io.json.json_normalize is deprecated, use pandas.json_normalize instead.\n",
      "  books = json_normalize(results[\"results\"], record_path=[\"book_details\"], meta=[\"rank\", \"rank_last_week\", \"weeks_on_list\", \"asterisk\", \"dagger\"])\n"
     ]
    },
    {
     "name": "stdout",
     "output_type": "stream",
     "text": [
      "2021-02-22\n",
      "https://api.nytimes.com/svc/books/v3/lists.json?api-key=P1yDSg62Aydsdh04WBBuS57pYbpBu2tb&list=hardcover-fiction&published-date=2021-02-22\n"
     ]
    },
    {
     "name": "stderr",
     "output_type": "stream",
     "text": [
      "C:\\Users\\melan\\AppData\\Local\\Temp\\ipykernel_29428\\3652350664.py:25: FutureWarning: pandas.io.json.json_normalize is deprecated, use pandas.json_normalize instead.\n",
      "  books = json_normalize(results[\"results\"], record_path=[\"book_details\"], meta=[\"rank\", \"rank_last_week\", \"weeks_on_list\", \"asterisk\", \"dagger\"])\n"
     ]
    },
    {
     "name": "stdout",
     "output_type": "stream",
     "text": [
      "2021-02-15\n",
      "https://api.nytimes.com/svc/books/v3/lists.json?api-key=P1yDSg62Aydsdh04WBBuS57pYbpBu2tb&list=hardcover-fiction&published-date=2021-02-15\n"
     ]
    },
    {
     "name": "stderr",
     "output_type": "stream",
     "text": [
      "C:\\Users\\melan\\AppData\\Local\\Temp\\ipykernel_29428\\3652350664.py:25: FutureWarning: pandas.io.json.json_normalize is deprecated, use pandas.json_normalize instead.\n",
      "  books = json_normalize(results[\"results\"], record_path=[\"book_details\"], meta=[\"rank\", \"rank_last_week\", \"weeks_on_list\", \"asterisk\", \"dagger\"])\n"
     ]
    },
    {
     "name": "stdout",
     "output_type": "stream",
     "text": [
      "2021-02-08\n",
      "https://api.nytimes.com/svc/books/v3/lists.json?api-key=P1yDSg62Aydsdh04WBBuS57pYbpBu2tb&list=hardcover-fiction&published-date=2021-02-08\n"
     ]
    },
    {
     "name": "stderr",
     "output_type": "stream",
     "text": [
      "C:\\Users\\melan\\AppData\\Local\\Temp\\ipykernel_29428\\3652350664.py:25: FutureWarning: pandas.io.json.json_normalize is deprecated, use pandas.json_normalize instead.\n",
      "  books = json_normalize(results[\"results\"], record_path=[\"book_details\"], meta=[\"rank\", \"rank_last_week\", \"weeks_on_list\", \"asterisk\", \"dagger\"])\n"
     ]
    },
    {
     "name": "stdout",
     "output_type": "stream",
     "text": [
      "2021-02-01\n",
      "https://api.nytimes.com/svc/books/v3/lists.json?api-key=P1yDSg62Aydsdh04WBBuS57pYbpBu2tb&list=hardcover-fiction&published-date=2021-02-01\n"
     ]
    },
    {
     "name": "stderr",
     "output_type": "stream",
     "text": [
      "C:\\Users\\melan\\AppData\\Local\\Temp\\ipykernel_29428\\3652350664.py:25: FutureWarning: pandas.io.json.json_normalize is deprecated, use pandas.json_normalize instead.\n",
      "  books = json_normalize(results[\"results\"], record_path=[\"book_details\"], meta=[\"rank\", \"rank_last_week\", \"weeks_on_list\", \"asterisk\", \"dagger\"])\n"
     ]
    },
    {
     "name": "stdout",
     "output_type": "stream",
     "text": [
      "2021-01-25\n",
      "https://api.nytimes.com/svc/books/v3/lists.json?api-key=P1yDSg62Aydsdh04WBBuS57pYbpBu2tb&list=hardcover-fiction&published-date=2021-01-25\n"
     ]
    },
    {
     "name": "stderr",
     "output_type": "stream",
     "text": [
      "C:\\Users\\melan\\AppData\\Local\\Temp\\ipykernel_29428\\3652350664.py:25: FutureWarning: pandas.io.json.json_normalize is deprecated, use pandas.json_normalize instead.\n",
      "  books = json_normalize(results[\"results\"], record_path=[\"book_details\"], meta=[\"rank\", \"rank_last_week\", \"weeks_on_list\", \"asterisk\", \"dagger\"])\n"
     ]
    },
    {
     "name": "stdout",
     "output_type": "stream",
     "text": [
      "2021-01-18\n",
      "https://api.nytimes.com/svc/books/v3/lists.json?api-key=P1yDSg62Aydsdh04WBBuS57pYbpBu2tb&list=hardcover-fiction&published-date=2021-01-18\n"
     ]
    },
    {
     "name": "stderr",
     "output_type": "stream",
     "text": [
      "C:\\Users\\melan\\AppData\\Local\\Temp\\ipykernel_29428\\3652350664.py:25: FutureWarning: pandas.io.json.json_normalize is deprecated, use pandas.json_normalize instead.\n",
      "  books = json_normalize(results[\"results\"], record_path=[\"book_details\"], meta=[\"rank\", \"rank_last_week\", \"weeks_on_list\", \"asterisk\", \"dagger\"])\n"
     ]
    },
    {
     "name": "stdout",
     "output_type": "stream",
     "text": [
      "2021-01-11\n",
      "https://api.nytimes.com/svc/books/v3/lists.json?api-key=P1yDSg62Aydsdh04WBBuS57pYbpBu2tb&list=hardcover-fiction&published-date=2021-01-11\n"
     ]
    },
    {
     "name": "stderr",
     "output_type": "stream",
     "text": [
      "C:\\Users\\melan\\AppData\\Local\\Temp\\ipykernel_29428\\3652350664.py:25: FutureWarning: pandas.io.json.json_normalize is deprecated, use pandas.json_normalize instead.\n",
      "  books = json_normalize(results[\"results\"], record_path=[\"book_details\"], meta=[\"rank\", \"rank_last_week\", \"weeks_on_list\", \"asterisk\", \"dagger\"])\n"
     ]
    },
    {
     "name": "stdout",
     "output_type": "stream",
     "text": [
      "2021-01-04\n",
      "https://api.nytimes.com/svc/books/v3/lists.json?api-key=P1yDSg62Aydsdh04WBBuS57pYbpBu2tb&list=hardcover-fiction&published-date=2021-01-04\n"
     ]
    },
    {
     "name": "stderr",
     "output_type": "stream",
     "text": [
      "C:\\Users\\melan\\AppData\\Local\\Temp\\ipykernel_29428\\3652350664.py:25: FutureWarning: pandas.io.json.json_normalize is deprecated, use pandas.json_normalize instead.\n",
      "  books = json_normalize(results[\"results\"], record_path=[\"book_details\"], meta=[\"rank\", \"rank_last_week\", \"weeks_on_list\", \"asterisk\", \"dagger\"])\n"
     ]
    },
    {
     "name": "stdout",
     "output_type": "stream",
     "text": [
      "2020-12-28\n",
      "https://api.nytimes.com/svc/books/v3/lists.json?api-key=P1yDSg62Aydsdh04WBBuS57pYbpBu2tb&list=hardcover-fiction&published-date=2020-12-28\n"
     ]
    },
    {
     "name": "stderr",
     "output_type": "stream",
     "text": [
      "C:\\Users\\melan\\AppData\\Local\\Temp\\ipykernel_29428\\3652350664.py:25: FutureWarning: pandas.io.json.json_normalize is deprecated, use pandas.json_normalize instead.\n",
      "  books = json_normalize(results[\"results\"], record_path=[\"book_details\"], meta=[\"rank\", \"rank_last_week\", \"weeks_on_list\", \"asterisk\", \"dagger\"])\n"
     ]
    },
    {
     "name": "stdout",
     "output_type": "stream",
     "text": [
      "2020-12-21\n",
      "https://api.nytimes.com/svc/books/v3/lists.json?api-key=P1yDSg62Aydsdh04WBBuS57pYbpBu2tb&list=hardcover-fiction&published-date=2020-12-21\n"
     ]
    },
    {
     "name": "stderr",
     "output_type": "stream",
     "text": [
      "C:\\Users\\melan\\AppData\\Local\\Temp\\ipykernel_29428\\3652350664.py:25: FutureWarning: pandas.io.json.json_normalize is deprecated, use pandas.json_normalize instead.\n",
      "  books = json_normalize(results[\"results\"], record_path=[\"book_details\"], meta=[\"rank\", \"rank_last_week\", \"weeks_on_list\", \"asterisk\", \"dagger\"])\n"
     ]
    },
    {
     "name": "stdout",
     "output_type": "stream",
     "text": [
      "2020-12-14\n",
      "https://api.nytimes.com/svc/books/v3/lists.json?api-key=P1yDSg62Aydsdh04WBBuS57pYbpBu2tb&list=hardcover-fiction&published-date=2020-12-14\n"
     ]
    },
    {
     "name": "stderr",
     "output_type": "stream",
     "text": [
      "C:\\Users\\melan\\AppData\\Local\\Temp\\ipykernel_29428\\3652350664.py:25: FutureWarning: pandas.io.json.json_normalize is deprecated, use pandas.json_normalize instead.\n",
      "  books = json_normalize(results[\"results\"], record_path=[\"book_details\"], meta=[\"rank\", \"rank_last_week\", \"weeks_on_list\", \"asterisk\", \"dagger\"])\n"
     ]
    },
    {
     "name": "stdout",
     "output_type": "stream",
     "text": [
      "2020-12-07\n",
      "https://api.nytimes.com/svc/books/v3/lists.json?api-key=P1yDSg62Aydsdh04WBBuS57pYbpBu2tb&list=hardcover-fiction&published-date=2020-12-07\n"
     ]
    },
    {
     "name": "stderr",
     "output_type": "stream",
     "text": [
      "C:\\Users\\melan\\AppData\\Local\\Temp\\ipykernel_29428\\3652350664.py:25: FutureWarning: pandas.io.json.json_normalize is deprecated, use pandas.json_normalize instead.\n",
      "  books = json_normalize(results[\"results\"], record_path=[\"book_details\"], meta=[\"rank\", \"rank_last_week\", \"weeks_on_list\", \"asterisk\", \"dagger\"])\n"
     ]
    },
    {
     "name": "stdout",
     "output_type": "stream",
     "text": [
      "2020-11-30\n",
      "https://api.nytimes.com/svc/books/v3/lists.json?api-key=P1yDSg62Aydsdh04WBBuS57pYbpBu2tb&list=hardcover-fiction&published-date=2020-11-30\n"
     ]
    },
    {
     "name": "stderr",
     "output_type": "stream",
     "text": [
      "C:\\Users\\melan\\AppData\\Local\\Temp\\ipykernel_29428\\3652350664.py:25: FutureWarning: pandas.io.json.json_normalize is deprecated, use pandas.json_normalize instead.\n",
      "  books = json_normalize(results[\"results\"], record_path=[\"book_details\"], meta=[\"rank\", \"rank_last_week\", \"weeks_on_list\", \"asterisk\", \"dagger\"])\n"
     ]
    },
    {
     "name": "stdout",
     "output_type": "stream",
     "text": [
      "2020-11-23\n",
      "https://api.nytimes.com/svc/books/v3/lists.json?api-key=P1yDSg62Aydsdh04WBBuS57pYbpBu2tb&list=hardcover-fiction&published-date=2020-11-23\n"
     ]
    },
    {
     "name": "stderr",
     "output_type": "stream",
     "text": [
      "C:\\Users\\melan\\AppData\\Local\\Temp\\ipykernel_29428\\3652350664.py:25: FutureWarning: pandas.io.json.json_normalize is deprecated, use pandas.json_normalize instead.\n",
      "  books = json_normalize(results[\"results\"], record_path=[\"book_details\"], meta=[\"rank\", \"rank_last_week\", \"weeks_on_list\", \"asterisk\", \"dagger\"])\n"
     ]
    },
    {
     "name": "stdout",
     "output_type": "stream",
     "text": [
      "2020-11-16\n",
      "https://api.nytimes.com/svc/books/v3/lists.json?api-key=P1yDSg62Aydsdh04WBBuS57pYbpBu2tb&list=hardcover-fiction&published-date=2020-11-16\n"
     ]
    },
    {
     "name": "stderr",
     "output_type": "stream",
     "text": [
      "C:\\Users\\melan\\AppData\\Local\\Temp\\ipykernel_29428\\3652350664.py:25: FutureWarning: pandas.io.json.json_normalize is deprecated, use pandas.json_normalize instead.\n",
      "  books = json_normalize(results[\"results\"], record_path=[\"book_details\"], meta=[\"rank\", \"rank_last_week\", \"weeks_on_list\", \"asterisk\", \"dagger\"])\n"
     ]
    },
    {
     "name": "stdout",
     "output_type": "stream",
     "text": [
      "2020-11-09\n",
      "https://api.nytimes.com/svc/books/v3/lists.json?api-key=P1yDSg62Aydsdh04WBBuS57pYbpBu2tb&list=hardcover-fiction&published-date=2020-11-09\n"
     ]
    },
    {
     "name": "stderr",
     "output_type": "stream",
     "text": [
      "C:\\Users\\melan\\AppData\\Local\\Temp\\ipykernel_29428\\3652350664.py:25: FutureWarning: pandas.io.json.json_normalize is deprecated, use pandas.json_normalize instead.\n",
      "  books = json_normalize(results[\"results\"], record_path=[\"book_details\"], meta=[\"rank\", \"rank_last_week\", \"weeks_on_list\", \"asterisk\", \"dagger\"])\n"
     ]
    },
    {
     "name": "stdout",
     "output_type": "stream",
     "text": [
      "2020-11-02\n",
      "https://api.nytimes.com/svc/books/v3/lists.json?api-key=P1yDSg62Aydsdh04WBBuS57pYbpBu2tb&list=hardcover-fiction&published-date=2020-11-02\n"
     ]
    },
    {
     "name": "stderr",
     "output_type": "stream",
     "text": [
      "C:\\Users\\melan\\AppData\\Local\\Temp\\ipykernel_29428\\3652350664.py:25: FutureWarning: pandas.io.json.json_normalize is deprecated, use pandas.json_normalize instead.\n",
      "  books = json_normalize(results[\"results\"], record_path=[\"book_details\"], meta=[\"rank\", \"rank_last_week\", \"weeks_on_list\", \"asterisk\", \"dagger\"])\n"
     ]
    },
    {
     "name": "stdout",
     "output_type": "stream",
     "text": [
      "2020-10-26\n",
      "https://api.nytimes.com/svc/books/v3/lists.json?api-key=P1yDSg62Aydsdh04WBBuS57pYbpBu2tb&list=hardcover-fiction&published-date=2020-10-26\n"
     ]
    },
    {
     "name": "stderr",
     "output_type": "stream",
     "text": [
      "C:\\Users\\melan\\AppData\\Local\\Temp\\ipykernel_29428\\3652350664.py:25: FutureWarning: pandas.io.json.json_normalize is deprecated, use pandas.json_normalize instead.\n",
      "  books = json_normalize(results[\"results\"], record_path=[\"book_details\"], meta=[\"rank\", \"rank_last_week\", \"weeks_on_list\", \"asterisk\", \"dagger\"])\n"
     ]
    },
    {
     "name": "stdout",
     "output_type": "stream",
     "text": [
      "2020-10-19\n",
      "https://api.nytimes.com/svc/books/v3/lists.json?api-key=P1yDSg62Aydsdh04WBBuS57pYbpBu2tb&list=hardcover-fiction&published-date=2020-10-19\n"
     ]
    },
    {
     "name": "stderr",
     "output_type": "stream",
     "text": [
      "C:\\Users\\melan\\AppData\\Local\\Temp\\ipykernel_29428\\3652350664.py:25: FutureWarning: pandas.io.json.json_normalize is deprecated, use pandas.json_normalize instead.\n",
      "  books = json_normalize(results[\"results\"], record_path=[\"book_details\"], meta=[\"rank\", \"rank_last_week\", \"weeks_on_list\", \"asterisk\", \"dagger\"])\n"
     ]
    },
    {
     "name": "stdout",
     "output_type": "stream",
     "text": [
      "2020-10-12\n",
      "https://api.nytimes.com/svc/books/v3/lists.json?api-key=P1yDSg62Aydsdh04WBBuS57pYbpBu2tb&list=hardcover-fiction&published-date=2020-10-12\n"
     ]
    },
    {
     "name": "stderr",
     "output_type": "stream",
     "text": [
      "C:\\Users\\melan\\AppData\\Local\\Temp\\ipykernel_29428\\3652350664.py:25: FutureWarning: pandas.io.json.json_normalize is deprecated, use pandas.json_normalize instead.\n",
      "  books = json_normalize(results[\"results\"], record_path=[\"book_details\"], meta=[\"rank\", \"rank_last_week\", \"weeks_on_list\", \"asterisk\", \"dagger\"])\n"
     ]
    },
    {
     "name": "stdout",
     "output_type": "stream",
     "text": [
      "2020-10-05\n",
      "https://api.nytimes.com/svc/books/v3/lists.json?api-key=P1yDSg62Aydsdh04WBBuS57pYbpBu2tb&list=hardcover-fiction&published-date=2020-10-05\n"
     ]
    },
    {
     "name": "stderr",
     "output_type": "stream",
     "text": [
      "C:\\Users\\melan\\AppData\\Local\\Temp\\ipykernel_29428\\3652350664.py:25: FutureWarning: pandas.io.json.json_normalize is deprecated, use pandas.json_normalize instead.\n",
      "  books = json_normalize(results[\"results\"], record_path=[\"book_details\"], meta=[\"rank\", \"rank_last_week\", \"weeks_on_list\", \"asterisk\", \"dagger\"])\n"
     ]
    },
    {
     "name": "stdout",
     "output_type": "stream",
     "text": [
      "2020-09-28\n",
      "https://api.nytimes.com/svc/books/v3/lists.json?api-key=P1yDSg62Aydsdh04WBBuS57pYbpBu2tb&list=hardcover-fiction&published-date=2020-09-28\n"
     ]
    },
    {
     "name": "stderr",
     "output_type": "stream",
     "text": [
      "C:\\Users\\melan\\AppData\\Local\\Temp\\ipykernel_29428\\3652350664.py:25: FutureWarning: pandas.io.json.json_normalize is deprecated, use pandas.json_normalize instead.\n",
      "  books = json_normalize(results[\"results\"], record_path=[\"book_details\"], meta=[\"rank\", \"rank_last_week\", \"weeks_on_list\", \"asterisk\", \"dagger\"])\n"
     ]
    },
    {
     "name": "stdout",
     "output_type": "stream",
     "text": [
      "2020-09-21\n",
      "https://api.nytimes.com/svc/books/v3/lists.json?api-key=P1yDSg62Aydsdh04WBBuS57pYbpBu2tb&list=hardcover-fiction&published-date=2020-09-21\n"
     ]
    },
    {
     "name": "stderr",
     "output_type": "stream",
     "text": [
      "C:\\Users\\melan\\AppData\\Local\\Temp\\ipykernel_29428\\3652350664.py:25: FutureWarning: pandas.io.json.json_normalize is deprecated, use pandas.json_normalize instead.\n",
      "  books = json_normalize(results[\"results\"], record_path=[\"book_details\"], meta=[\"rank\", \"rank_last_week\", \"weeks_on_list\", \"asterisk\", \"dagger\"])\n"
     ]
    },
    {
     "name": "stdout",
     "output_type": "stream",
     "text": [
      "2020-09-14\n",
      "https://api.nytimes.com/svc/books/v3/lists.json?api-key=P1yDSg62Aydsdh04WBBuS57pYbpBu2tb&list=hardcover-fiction&published-date=2020-09-14\n"
     ]
    },
    {
     "name": "stderr",
     "output_type": "stream",
     "text": [
      "C:\\Users\\melan\\AppData\\Local\\Temp\\ipykernel_29428\\3652350664.py:25: FutureWarning: pandas.io.json.json_normalize is deprecated, use pandas.json_normalize instead.\n",
      "  books = json_normalize(results[\"results\"], record_path=[\"book_details\"], meta=[\"rank\", \"rank_last_week\", \"weeks_on_list\", \"asterisk\", \"dagger\"])\n"
     ]
    },
    {
     "name": "stdout",
     "output_type": "stream",
     "text": [
      "2020-09-07\n",
      "https://api.nytimes.com/svc/books/v3/lists.json?api-key=P1yDSg62Aydsdh04WBBuS57pYbpBu2tb&list=hardcover-fiction&published-date=2020-09-07\n"
     ]
    },
    {
     "name": "stderr",
     "output_type": "stream",
     "text": [
      "C:\\Users\\melan\\AppData\\Local\\Temp\\ipykernel_29428\\3652350664.py:25: FutureWarning: pandas.io.json.json_normalize is deprecated, use pandas.json_normalize instead.\n",
      "  books = json_normalize(results[\"results\"], record_path=[\"book_details\"], meta=[\"rank\", \"rank_last_week\", \"weeks_on_list\", \"asterisk\", \"dagger\"])\n"
     ]
    },
    {
     "name": "stdout",
     "output_type": "stream",
     "text": [
      "2020-08-31\n",
      "https://api.nytimes.com/svc/books/v3/lists.json?api-key=P1yDSg62Aydsdh04WBBuS57pYbpBu2tb&list=hardcover-fiction&published-date=2020-08-31\n"
     ]
    },
    {
     "name": "stderr",
     "output_type": "stream",
     "text": [
      "C:\\Users\\melan\\AppData\\Local\\Temp\\ipykernel_29428\\3652350664.py:25: FutureWarning: pandas.io.json.json_normalize is deprecated, use pandas.json_normalize instead.\n",
      "  books = json_normalize(results[\"results\"], record_path=[\"book_details\"], meta=[\"rank\", \"rank_last_week\", \"weeks_on_list\", \"asterisk\", \"dagger\"])\n"
     ]
    },
    {
     "name": "stdout",
     "output_type": "stream",
     "text": [
      "2020-08-24\n",
      "https://api.nytimes.com/svc/books/v3/lists.json?api-key=P1yDSg62Aydsdh04WBBuS57pYbpBu2tb&list=hardcover-fiction&published-date=2020-08-24\n"
     ]
    },
    {
     "name": "stderr",
     "output_type": "stream",
     "text": [
      "C:\\Users\\melan\\AppData\\Local\\Temp\\ipykernel_29428\\3652350664.py:25: FutureWarning: pandas.io.json.json_normalize is deprecated, use pandas.json_normalize instead.\n",
      "  books = json_normalize(results[\"results\"], record_path=[\"book_details\"], meta=[\"rank\", \"rank_last_week\", \"weeks_on_list\", \"asterisk\", \"dagger\"])\n"
     ]
    },
    {
     "name": "stdout",
     "output_type": "stream",
     "text": [
      "2020-08-17\n",
      "https://api.nytimes.com/svc/books/v3/lists.json?api-key=P1yDSg62Aydsdh04WBBuS57pYbpBu2tb&list=hardcover-fiction&published-date=2020-08-17\n"
     ]
    },
    {
     "name": "stderr",
     "output_type": "stream",
     "text": [
      "C:\\Users\\melan\\AppData\\Local\\Temp\\ipykernel_29428\\3652350664.py:25: FutureWarning: pandas.io.json.json_normalize is deprecated, use pandas.json_normalize instead.\n",
      "  books = json_normalize(results[\"results\"], record_path=[\"book_details\"], meta=[\"rank\", \"rank_last_week\", \"weeks_on_list\", \"asterisk\", \"dagger\"])\n"
     ]
    },
    {
     "name": "stdout",
     "output_type": "stream",
     "text": [
      "2020-08-10\n",
      "https://api.nytimes.com/svc/books/v3/lists.json?api-key=P1yDSg62Aydsdh04WBBuS57pYbpBu2tb&list=hardcover-fiction&published-date=2020-08-10\n"
     ]
    },
    {
     "name": "stderr",
     "output_type": "stream",
     "text": [
      "C:\\Users\\melan\\AppData\\Local\\Temp\\ipykernel_29428\\3652350664.py:25: FutureWarning: pandas.io.json.json_normalize is deprecated, use pandas.json_normalize instead.\n",
      "  books = json_normalize(results[\"results\"], record_path=[\"book_details\"], meta=[\"rank\", \"rank_last_week\", \"weeks_on_list\", \"asterisk\", \"dagger\"])\n"
     ]
    },
    {
     "name": "stdout",
     "output_type": "stream",
     "text": [
      "2020-08-03\n",
      "https://api.nytimes.com/svc/books/v3/lists.json?api-key=P1yDSg62Aydsdh04WBBuS57pYbpBu2tb&list=hardcover-fiction&published-date=2020-08-03\n"
     ]
    },
    {
     "name": "stderr",
     "output_type": "stream",
     "text": [
      "C:\\Users\\melan\\AppData\\Local\\Temp\\ipykernel_29428\\3652350664.py:25: FutureWarning: pandas.io.json.json_normalize is deprecated, use pandas.json_normalize instead.\n",
      "  books = json_normalize(results[\"results\"], record_path=[\"book_details\"], meta=[\"rank\", \"rank_last_week\", \"weeks_on_list\", \"asterisk\", \"dagger\"])\n"
     ]
    },
    {
     "name": "stdout",
     "output_type": "stream",
     "text": [
      "2020-07-27\n",
      "https://api.nytimes.com/svc/books/v3/lists.json?api-key=P1yDSg62Aydsdh04WBBuS57pYbpBu2tb&list=hardcover-fiction&published-date=2020-07-27\n"
     ]
    },
    {
     "name": "stderr",
     "output_type": "stream",
     "text": [
      "C:\\Users\\melan\\AppData\\Local\\Temp\\ipykernel_29428\\3652350664.py:25: FutureWarning: pandas.io.json.json_normalize is deprecated, use pandas.json_normalize instead.\n",
      "  books = json_normalize(results[\"results\"], record_path=[\"book_details\"], meta=[\"rank\", \"rank_last_week\", \"weeks_on_list\", \"asterisk\", \"dagger\"])\n"
     ]
    },
    {
     "name": "stdout",
     "output_type": "stream",
     "text": [
      "2020-07-20\n",
      "https://api.nytimes.com/svc/books/v3/lists.json?api-key=P1yDSg62Aydsdh04WBBuS57pYbpBu2tb&list=hardcover-fiction&published-date=2020-07-20\n"
     ]
    },
    {
     "name": "stderr",
     "output_type": "stream",
     "text": [
      "C:\\Users\\melan\\AppData\\Local\\Temp\\ipykernel_29428\\3652350664.py:25: FutureWarning: pandas.io.json.json_normalize is deprecated, use pandas.json_normalize instead.\n",
      "  books = json_normalize(results[\"results\"], record_path=[\"book_details\"], meta=[\"rank\", \"rank_last_week\", \"weeks_on_list\", \"asterisk\", \"dagger\"])\n"
     ]
    },
    {
     "name": "stdout",
     "output_type": "stream",
     "text": [
      "2020-07-13\n",
      "https://api.nytimes.com/svc/books/v3/lists.json?api-key=P1yDSg62Aydsdh04WBBuS57pYbpBu2tb&list=hardcover-fiction&published-date=2020-07-13\n"
     ]
    },
    {
     "name": "stderr",
     "output_type": "stream",
     "text": [
      "C:\\Users\\melan\\AppData\\Local\\Temp\\ipykernel_29428\\3652350664.py:25: FutureWarning: pandas.io.json.json_normalize is deprecated, use pandas.json_normalize instead.\n",
      "  books = json_normalize(results[\"results\"], record_path=[\"book_details\"], meta=[\"rank\", \"rank_last_week\", \"weeks_on_list\", \"asterisk\", \"dagger\"])\n"
     ]
    },
    {
     "name": "stdout",
     "output_type": "stream",
     "text": [
      "2020-07-06\n",
      "https://api.nytimes.com/svc/books/v3/lists.json?api-key=P1yDSg62Aydsdh04WBBuS57pYbpBu2tb&list=hardcover-fiction&published-date=2020-07-06\n"
     ]
    },
    {
     "name": "stderr",
     "output_type": "stream",
     "text": [
      "C:\\Users\\melan\\AppData\\Local\\Temp\\ipykernel_29428\\3652350664.py:25: FutureWarning: pandas.io.json.json_normalize is deprecated, use pandas.json_normalize instead.\n",
      "  books = json_normalize(results[\"results\"], record_path=[\"book_details\"], meta=[\"rank\", \"rank_last_week\", \"weeks_on_list\", \"asterisk\", \"dagger\"])\n"
     ]
    },
    {
     "name": "stdout",
     "output_type": "stream",
     "text": [
      "2020-06-29\n",
      "https://api.nytimes.com/svc/books/v3/lists.json?api-key=P1yDSg62Aydsdh04WBBuS57pYbpBu2tb&list=hardcover-fiction&published-date=2020-06-29\n"
     ]
    },
    {
     "name": "stderr",
     "output_type": "stream",
     "text": [
      "C:\\Users\\melan\\AppData\\Local\\Temp\\ipykernel_29428\\3652350664.py:25: FutureWarning: pandas.io.json.json_normalize is deprecated, use pandas.json_normalize instead.\n",
      "  books = json_normalize(results[\"results\"], record_path=[\"book_details\"], meta=[\"rank\", \"rank_last_week\", \"weeks_on_list\", \"asterisk\", \"dagger\"])\n"
     ]
    },
    {
     "name": "stdout",
     "output_type": "stream",
     "text": [
      "2020-06-22\n",
      "https://api.nytimes.com/svc/books/v3/lists.json?api-key=P1yDSg62Aydsdh04WBBuS57pYbpBu2tb&list=hardcover-fiction&published-date=2020-06-22\n"
     ]
    },
    {
     "name": "stderr",
     "output_type": "stream",
     "text": [
      "C:\\Users\\melan\\AppData\\Local\\Temp\\ipykernel_29428\\3652350664.py:25: FutureWarning: pandas.io.json.json_normalize is deprecated, use pandas.json_normalize instead.\n",
      "  books = json_normalize(results[\"results\"], record_path=[\"book_details\"], meta=[\"rank\", \"rank_last_week\", \"weeks_on_list\", \"asterisk\", \"dagger\"])\n"
     ]
    },
    {
     "name": "stdout",
     "output_type": "stream",
     "text": [
      "2020-06-15\n",
      "https://api.nytimes.com/svc/books/v3/lists.json?api-key=P1yDSg62Aydsdh04WBBuS57pYbpBu2tb&list=hardcover-fiction&published-date=2020-06-15\n"
     ]
    },
    {
     "name": "stderr",
     "output_type": "stream",
     "text": [
      "C:\\Users\\melan\\AppData\\Local\\Temp\\ipykernel_29428\\3652350664.py:25: FutureWarning: pandas.io.json.json_normalize is deprecated, use pandas.json_normalize instead.\n",
      "  books = json_normalize(results[\"results\"], record_path=[\"book_details\"], meta=[\"rank\", \"rank_last_week\", \"weeks_on_list\", \"asterisk\", \"dagger\"])\n"
     ]
    },
    {
     "name": "stdout",
     "output_type": "stream",
     "text": [
      "2020-06-08\n",
      "https://api.nytimes.com/svc/books/v3/lists.json?api-key=P1yDSg62Aydsdh04WBBuS57pYbpBu2tb&list=hardcover-fiction&published-date=2020-06-08\n"
     ]
    },
    {
     "name": "stderr",
     "output_type": "stream",
     "text": [
      "C:\\Users\\melan\\AppData\\Local\\Temp\\ipykernel_29428\\3652350664.py:25: FutureWarning: pandas.io.json.json_normalize is deprecated, use pandas.json_normalize instead.\n",
      "  books = json_normalize(results[\"results\"], record_path=[\"book_details\"], meta=[\"rank\", \"rank_last_week\", \"weeks_on_list\", \"asterisk\", \"dagger\"])\n"
     ]
    },
    {
     "name": "stdout",
     "output_type": "stream",
     "text": [
      "2020-06-01\n",
      "https://api.nytimes.com/svc/books/v3/lists.json?api-key=P1yDSg62Aydsdh04WBBuS57pYbpBu2tb&list=hardcover-fiction&published-date=2020-06-01\n"
     ]
    },
    {
     "name": "stderr",
     "output_type": "stream",
     "text": [
      "C:\\Users\\melan\\AppData\\Local\\Temp\\ipykernel_29428\\3652350664.py:25: FutureWarning: pandas.io.json.json_normalize is deprecated, use pandas.json_normalize instead.\n",
      "  books = json_normalize(results[\"results\"], record_path=[\"book_details\"], meta=[\"rank\", \"rank_last_week\", \"weeks_on_list\", \"asterisk\", \"dagger\"])\n"
     ]
    },
    {
     "name": "stdout",
     "output_type": "stream",
     "text": [
      "2020-05-25\n",
      "https://api.nytimes.com/svc/books/v3/lists.json?api-key=P1yDSg62Aydsdh04WBBuS57pYbpBu2tb&list=hardcover-fiction&published-date=2020-05-25\n"
     ]
    },
    {
     "name": "stderr",
     "output_type": "stream",
     "text": [
      "C:\\Users\\melan\\AppData\\Local\\Temp\\ipykernel_29428\\3652350664.py:25: FutureWarning: pandas.io.json.json_normalize is deprecated, use pandas.json_normalize instead.\n",
      "  books = json_normalize(results[\"results\"], record_path=[\"book_details\"], meta=[\"rank\", \"rank_last_week\", \"weeks_on_list\", \"asterisk\", \"dagger\"])\n"
     ]
    },
    {
     "name": "stdout",
     "output_type": "stream",
     "text": [
      "2020-05-18\n",
      "https://api.nytimes.com/svc/books/v3/lists.json?api-key=P1yDSg62Aydsdh04WBBuS57pYbpBu2tb&list=hardcover-fiction&published-date=2020-05-18\n"
     ]
    },
    {
     "name": "stderr",
     "output_type": "stream",
     "text": [
      "C:\\Users\\melan\\AppData\\Local\\Temp\\ipykernel_29428\\3652350664.py:25: FutureWarning: pandas.io.json.json_normalize is deprecated, use pandas.json_normalize instead.\n",
      "  books = json_normalize(results[\"results\"], record_path=[\"book_details\"], meta=[\"rank\", \"rank_last_week\", \"weeks_on_list\", \"asterisk\", \"dagger\"])\n"
     ]
    },
    {
     "name": "stdout",
     "output_type": "stream",
     "text": [
      "2020-05-11\n",
      "https://api.nytimes.com/svc/books/v3/lists.json?api-key=P1yDSg62Aydsdh04WBBuS57pYbpBu2tb&list=hardcover-fiction&published-date=2020-05-11\n"
     ]
    },
    {
     "name": "stderr",
     "output_type": "stream",
     "text": [
      "C:\\Users\\melan\\AppData\\Local\\Temp\\ipykernel_29428\\3652350664.py:25: FutureWarning: pandas.io.json.json_normalize is deprecated, use pandas.json_normalize instead.\n",
      "  books = json_normalize(results[\"results\"], record_path=[\"book_details\"], meta=[\"rank\", \"rank_last_week\", \"weeks_on_list\", \"asterisk\", \"dagger\"])\n"
     ]
    },
    {
     "name": "stdout",
     "output_type": "stream",
     "text": [
      "2020-05-04\n",
      "https://api.nytimes.com/svc/books/v3/lists.json?api-key=P1yDSg62Aydsdh04WBBuS57pYbpBu2tb&list=hardcover-fiction&published-date=2020-05-04\n"
     ]
    },
    {
     "name": "stderr",
     "output_type": "stream",
     "text": [
      "C:\\Users\\melan\\AppData\\Local\\Temp\\ipykernel_29428\\3652350664.py:25: FutureWarning: pandas.io.json.json_normalize is deprecated, use pandas.json_normalize instead.\n",
      "  books = json_normalize(results[\"results\"], record_path=[\"book_details\"], meta=[\"rank\", \"rank_last_week\", \"weeks_on_list\", \"asterisk\", \"dagger\"])\n"
     ]
    },
    {
     "name": "stdout",
     "output_type": "stream",
     "text": [
      "2020-04-27\n",
      "https://api.nytimes.com/svc/books/v3/lists.json?api-key=P1yDSg62Aydsdh04WBBuS57pYbpBu2tb&list=hardcover-fiction&published-date=2020-04-27\n"
     ]
    },
    {
     "name": "stderr",
     "output_type": "stream",
     "text": [
      "C:\\Users\\melan\\AppData\\Local\\Temp\\ipykernel_29428\\3652350664.py:25: FutureWarning: pandas.io.json.json_normalize is deprecated, use pandas.json_normalize instead.\n",
      "  books = json_normalize(results[\"results\"], record_path=[\"book_details\"], meta=[\"rank\", \"rank_last_week\", \"weeks_on_list\", \"asterisk\", \"dagger\"])\n"
     ]
    },
    {
     "name": "stdout",
     "output_type": "stream",
     "text": [
      "2020-04-20\n",
      "https://api.nytimes.com/svc/books/v3/lists.json?api-key=P1yDSg62Aydsdh04WBBuS57pYbpBu2tb&list=hardcover-fiction&published-date=2020-04-20\n"
     ]
    },
    {
     "name": "stderr",
     "output_type": "stream",
     "text": [
      "C:\\Users\\melan\\AppData\\Local\\Temp\\ipykernel_29428\\3652350664.py:25: FutureWarning: pandas.io.json.json_normalize is deprecated, use pandas.json_normalize instead.\n",
      "  books = json_normalize(results[\"results\"], record_path=[\"book_details\"], meta=[\"rank\", \"rank_last_week\", \"weeks_on_list\", \"asterisk\", \"dagger\"])\n"
     ]
    },
    {
     "name": "stdout",
     "output_type": "stream",
     "text": [
      "2020-04-13\n",
      "https://api.nytimes.com/svc/books/v3/lists.json?api-key=P1yDSg62Aydsdh04WBBuS57pYbpBu2tb&list=hardcover-fiction&published-date=2020-04-13\n"
     ]
    },
    {
     "name": "stderr",
     "output_type": "stream",
     "text": [
      "C:\\Users\\melan\\AppData\\Local\\Temp\\ipykernel_29428\\3652350664.py:25: FutureWarning: pandas.io.json.json_normalize is deprecated, use pandas.json_normalize instead.\n",
      "  books = json_normalize(results[\"results\"], record_path=[\"book_details\"], meta=[\"rank\", \"rank_last_week\", \"weeks_on_list\", \"asterisk\", \"dagger\"])\n"
     ]
    },
    {
     "name": "stdout",
     "output_type": "stream",
     "text": [
      "2020-04-06\n",
      "https://api.nytimes.com/svc/books/v3/lists.json?api-key=P1yDSg62Aydsdh04WBBuS57pYbpBu2tb&list=hardcover-fiction&published-date=2020-04-06\n"
     ]
    },
    {
     "name": "stderr",
     "output_type": "stream",
     "text": [
      "C:\\Users\\melan\\AppData\\Local\\Temp\\ipykernel_29428\\3652350664.py:25: FutureWarning: pandas.io.json.json_normalize is deprecated, use pandas.json_normalize instead.\n",
      "  books = json_normalize(results[\"results\"], record_path=[\"book_details\"], meta=[\"rank\", \"rank_last_week\", \"weeks_on_list\", \"asterisk\", \"dagger\"])\n"
     ]
    },
    {
     "name": "stdout",
     "output_type": "stream",
     "text": [
      "2020-03-30\n",
      "https://api.nytimes.com/svc/books/v3/lists.json?api-key=P1yDSg62Aydsdh04WBBuS57pYbpBu2tb&list=hardcover-fiction&published-date=2020-03-30\n"
     ]
    },
    {
     "name": "stderr",
     "output_type": "stream",
     "text": [
      "C:\\Users\\melan\\AppData\\Local\\Temp\\ipykernel_29428\\3652350664.py:25: FutureWarning: pandas.io.json.json_normalize is deprecated, use pandas.json_normalize instead.\n",
      "  books = json_normalize(results[\"results\"], record_path=[\"book_details\"], meta=[\"rank\", \"rank_last_week\", \"weeks_on_list\", \"asterisk\", \"dagger\"])\n"
     ]
    },
    {
     "name": "stdout",
     "output_type": "stream",
     "text": [
      "2020-03-23\n",
      "https://api.nytimes.com/svc/books/v3/lists.json?api-key=P1yDSg62Aydsdh04WBBuS57pYbpBu2tb&list=hardcover-fiction&published-date=2020-03-23\n"
     ]
    },
    {
     "name": "stderr",
     "output_type": "stream",
     "text": [
      "C:\\Users\\melan\\AppData\\Local\\Temp\\ipykernel_29428\\3652350664.py:25: FutureWarning: pandas.io.json.json_normalize is deprecated, use pandas.json_normalize instead.\n",
      "  books = json_normalize(results[\"results\"], record_path=[\"book_details\"], meta=[\"rank\", \"rank_last_week\", \"weeks_on_list\", \"asterisk\", \"dagger\"])\n"
     ]
    },
    {
     "name": "stdout",
     "output_type": "stream",
     "text": [
      "2020-03-16\n",
      "https://api.nytimes.com/svc/books/v3/lists.json?api-key=P1yDSg62Aydsdh04WBBuS57pYbpBu2tb&list=hardcover-fiction&published-date=2020-03-16\n"
     ]
    },
    {
     "name": "stderr",
     "output_type": "stream",
     "text": [
      "C:\\Users\\melan\\AppData\\Local\\Temp\\ipykernel_29428\\3652350664.py:25: FutureWarning: pandas.io.json.json_normalize is deprecated, use pandas.json_normalize instead.\n",
      "  books = json_normalize(results[\"results\"], record_path=[\"book_details\"], meta=[\"rank\", \"rank_last_week\", \"weeks_on_list\", \"asterisk\", \"dagger\"])\n"
     ]
    },
    {
     "name": "stdout",
     "output_type": "stream",
     "text": [
      "2020-03-09\n",
      "https://api.nytimes.com/svc/books/v3/lists.json?api-key=P1yDSg62Aydsdh04WBBuS57pYbpBu2tb&list=hardcover-fiction&published-date=2020-03-09\n"
     ]
    },
    {
     "name": "stderr",
     "output_type": "stream",
     "text": [
      "C:\\Users\\melan\\AppData\\Local\\Temp\\ipykernel_29428\\3652350664.py:25: FutureWarning: pandas.io.json.json_normalize is deprecated, use pandas.json_normalize instead.\n",
      "  books = json_normalize(results[\"results\"], record_path=[\"book_details\"], meta=[\"rank\", \"rank_last_week\", \"weeks_on_list\", \"asterisk\", \"dagger\"])\n"
     ]
    },
    {
     "name": "stdout",
     "output_type": "stream",
     "text": [
      "2020-03-02\n",
      "https://api.nytimes.com/svc/books/v3/lists.json?api-key=P1yDSg62Aydsdh04WBBuS57pYbpBu2tb&list=hardcover-fiction&published-date=2020-03-02\n"
     ]
    },
    {
     "name": "stderr",
     "output_type": "stream",
     "text": [
      "C:\\Users\\melan\\AppData\\Local\\Temp\\ipykernel_29428\\3652350664.py:25: FutureWarning: pandas.io.json.json_normalize is deprecated, use pandas.json_normalize instead.\n",
      "  books = json_normalize(results[\"results\"], record_path=[\"book_details\"], meta=[\"rank\", \"rank_last_week\", \"weeks_on_list\", \"asterisk\", \"dagger\"])\n"
     ]
    },
    {
     "name": "stdout",
     "output_type": "stream",
     "text": [
      "2020-02-24\n",
      "https://api.nytimes.com/svc/books/v3/lists.json?api-key=P1yDSg62Aydsdh04WBBuS57pYbpBu2tb&list=hardcover-fiction&published-date=2020-02-24\n"
     ]
    },
    {
     "name": "stderr",
     "output_type": "stream",
     "text": [
      "C:\\Users\\melan\\AppData\\Local\\Temp\\ipykernel_29428\\3652350664.py:25: FutureWarning: pandas.io.json.json_normalize is deprecated, use pandas.json_normalize instead.\n",
      "  books = json_normalize(results[\"results\"], record_path=[\"book_details\"], meta=[\"rank\", \"rank_last_week\", \"weeks_on_list\", \"asterisk\", \"dagger\"])\n"
     ]
    },
    {
     "name": "stdout",
     "output_type": "stream",
     "text": [
      "2020-02-17\n",
      "https://api.nytimes.com/svc/books/v3/lists.json?api-key=P1yDSg62Aydsdh04WBBuS57pYbpBu2tb&list=hardcover-fiction&published-date=2020-02-17\n"
     ]
    },
    {
     "name": "stderr",
     "output_type": "stream",
     "text": [
      "C:\\Users\\melan\\AppData\\Local\\Temp\\ipykernel_29428\\3652350664.py:25: FutureWarning: pandas.io.json.json_normalize is deprecated, use pandas.json_normalize instead.\n",
      "  books = json_normalize(results[\"results\"], record_path=[\"book_details\"], meta=[\"rank\", \"rank_last_week\", \"weeks_on_list\", \"asterisk\", \"dagger\"])\n"
     ]
    },
    {
     "name": "stdout",
     "output_type": "stream",
     "text": [
      "2020-02-10\n",
      "https://api.nytimes.com/svc/books/v3/lists.json?api-key=P1yDSg62Aydsdh04WBBuS57pYbpBu2tb&list=hardcover-fiction&published-date=2020-02-10\n"
     ]
    },
    {
     "name": "stderr",
     "output_type": "stream",
     "text": [
      "C:\\Users\\melan\\AppData\\Local\\Temp\\ipykernel_29428\\3652350664.py:25: FutureWarning: pandas.io.json.json_normalize is deprecated, use pandas.json_normalize instead.\n",
      "  books = json_normalize(results[\"results\"], record_path=[\"book_details\"], meta=[\"rank\", \"rank_last_week\", \"weeks_on_list\", \"asterisk\", \"dagger\"])\n"
     ]
    },
    {
     "name": "stdout",
     "output_type": "stream",
     "text": [
      "2020-02-03\n",
      "https://api.nytimes.com/svc/books/v3/lists.json?api-key=P1yDSg62Aydsdh04WBBuS57pYbpBu2tb&list=hardcover-fiction&published-date=2020-02-03\n"
     ]
    },
    {
     "name": "stderr",
     "output_type": "stream",
     "text": [
      "C:\\Users\\melan\\AppData\\Local\\Temp\\ipykernel_29428\\3652350664.py:25: FutureWarning: pandas.io.json.json_normalize is deprecated, use pandas.json_normalize instead.\n",
      "  books = json_normalize(results[\"results\"], record_path=[\"book_details\"], meta=[\"rank\", \"rank_last_week\", \"weeks_on_list\", \"asterisk\", \"dagger\"])\n"
     ]
    },
    {
     "name": "stdout",
     "output_type": "stream",
     "text": [
      "2020-01-27\n",
      "https://api.nytimes.com/svc/books/v3/lists.json?api-key=P1yDSg62Aydsdh04WBBuS57pYbpBu2tb&list=hardcover-fiction&published-date=2020-01-27\n"
     ]
    },
    {
     "name": "stderr",
     "output_type": "stream",
     "text": [
      "C:\\Users\\melan\\AppData\\Local\\Temp\\ipykernel_29428\\3652350664.py:25: FutureWarning: pandas.io.json.json_normalize is deprecated, use pandas.json_normalize instead.\n",
      "  books = json_normalize(results[\"results\"], record_path=[\"book_details\"], meta=[\"rank\", \"rank_last_week\", \"weeks_on_list\", \"asterisk\", \"dagger\"])\n"
     ]
    },
    {
     "name": "stdout",
     "output_type": "stream",
     "text": [
      "2020-01-20\n",
      "https://api.nytimes.com/svc/books/v3/lists.json?api-key=P1yDSg62Aydsdh04WBBuS57pYbpBu2tb&list=hardcover-fiction&published-date=2020-01-20\n"
     ]
    },
    {
     "name": "stderr",
     "output_type": "stream",
     "text": [
      "C:\\Users\\melan\\AppData\\Local\\Temp\\ipykernel_29428\\3652350664.py:25: FutureWarning: pandas.io.json.json_normalize is deprecated, use pandas.json_normalize instead.\n",
      "  books = json_normalize(results[\"results\"], record_path=[\"book_details\"], meta=[\"rank\", \"rank_last_week\", \"weeks_on_list\", \"asterisk\", \"dagger\"])\n"
     ]
    },
    {
     "name": "stdout",
     "output_type": "stream",
     "text": [
      "2020-01-13\n",
      "https://api.nytimes.com/svc/books/v3/lists.json?api-key=P1yDSg62Aydsdh04WBBuS57pYbpBu2tb&list=hardcover-fiction&published-date=2020-01-13\n"
     ]
    },
    {
     "name": "stderr",
     "output_type": "stream",
     "text": [
      "C:\\Users\\melan\\AppData\\Local\\Temp\\ipykernel_29428\\3652350664.py:25: FutureWarning: pandas.io.json.json_normalize is deprecated, use pandas.json_normalize instead.\n",
      "  books = json_normalize(results[\"results\"], record_path=[\"book_details\"], meta=[\"rank\", \"rank_last_week\", \"weeks_on_list\", \"asterisk\", \"dagger\"])\n"
     ]
    },
    {
     "name": "stdout",
     "output_type": "stream",
     "text": [
      "2020-01-06\n",
      "https://api.nytimes.com/svc/books/v3/lists.json?api-key=P1yDSg62Aydsdh04WBBuS57pYbpBu2tb&list=hardcover-fiction&published-date=2020-01-06\n"
     ]
    },
    {
     "name": "stderr",
     "output_type": "stream",
     "text": [
      "C:\\Users\\melan\\AppData\\Local\\Temp\\ipykernel_29428\\3652350664.py:25: FutureWarning: pandas.io.json.json_normalize is deprecated, use pandas.json_normalize instead.\n",
      "  books = json_normalize(results[\"results\"], record_path=[\"book_details\"], meta=[\"rank\", \"rank_last_week\", \"weeks_on_list\", \"asterisk\", \"dagger\"])\n"
     ]
    },
    {
     "name": "stdout",
     "output_type": "stream",
     "text": [
      "2019-12-30\n",
      "https://api.nytimes.com/svc/books/v3/lists.json?api-key=P1yDSg62Aydsdh04WBBuS57pYbpBu2tb&list=hardcover-fiction&published-date=2019-12-30\n"
     ]
    },
    {
     "name": "stderr",
     "output_type": "stream",
     "text": [
      "C:\\Users\\melan\\AppData\\Local\\Temp\\ipykernel_29428\\3652350664.py:25: FutureWarning: pandas.io.json.json_normalize is deprecated, use pandas.json_normalize instead.\n",
      "  books = json_normalize(results[\"results\"], record_path=[\"book_details\"], meta=[\"rank\", \"rank_last_week\", \"weeks_on_list\", \"asterisk\", \"dagger\"])\n"
     ]
    },
    {
     "name": "stdout",
     "output_type": "stream",
     "text": [
      "2019-12-23\n",
      "https://api.nytimes.com/svc/books/v3/lists.json?api-key=P1yDSg62Aydsdh04WBBuS57pYbpBu2tb&list=hardcover-fiction&published-date=2019-12-23\n"
     ]
    },
    {
     "name": "stderr",
     "output_type": "stream",
     "text": [
      "C:\\Users\\melan\\AppData\\Local\\Temp\\ipykernel_29428\\3652350664.py:25: FutureWarning: pandas.io.json.json_normalize is deprecated, use pandas.json_normalize instead.\n",
      "  books = json_normalize(results[\"results\"], record_path=[\"book_details\"], meta=[\"rank\", \"rank_last_week\", \"weeks_on_list\", \"asterisk\", \"dagger\"])\n"
     ]
    },
    {
     "name": "stdout",
     "output_type": "stream",
     "text": [
      "2019-12-16\n",
      "https://api.nytimes.com/svc/books/v3/lists.json?api-key=P1yDSg62Aydsdh04WBBuS57pYbpBu2tb&list=hardcover-fiction&published-date=2019-12-16\n"
     ]
    },
    {
     "name": "stderr",
     "output_type": "stream",
     "text": [
      "C:\\Users\\melan\\AppData\\Local\\Temp\\ipykernel_29428\\3652350664.py:25: FutureWarning: pandas.io.json.json_normalize is deprecated, use pandas.json_normalize instead.\n",
      "  books = json_normalize(results[\"results\"], record_path=[\"book_details\"], meta=[\"rank\", \"rank_last_week\", \"weeks_on_list\", \"asterisk\", \"dagger\"])\n"
     ]
    },
    {
     "name": "stdout",
     "output_type": "stream",
     "text": [
      "2019-12-09\n",
      "https://api.nytimes.com/svc/books/v3/lists.json?api-key=P1yDSg62Aydsdh04WBBuS57pYbpBu2tb&list=hardcover-fiction&published-date=2019-12-09\n"
     ]
    },
    {
     "name": "stderr",
     "output_type": "stream",
     "text": [
      "C:\\Users\\melan\\AppData\\Local\\Temp\\ipykernel_29428\\3652350664.py:25: FutureWarning: pandas.io.json.json_normalize is deprecated, use pandas.json_normalize instead.\n",
      "  books = json_normalize(results[\"results\"], record_path=[\"book_details\"], meta=[\"rank\", \"rank_last_week\", \"weeks_on_list\", \"asterisk\", \"dagger\"])\n"
     ]
    },
    {
     "name": "stdout",
     "output_type": "stream",
     "text": [
      "2019-12-02\n",
      "https://api.nytimes.com/svc/books/v3/lists.json?api-key=P1yDSg62Aydsdh04WBBuS57pYbpBu2tb&list=hardcover-fiction&published-date=2019-12-02\n"
     ]
    },
    {
     "name": "stderr",
     "output_type": "stream",
     "text": [
      "C:\\Users\\melan\\AppData\\Local\\Temp\\ipykernel_29428\\3652350664.py:25: FutureWarning: pandas.io.json.json_normalize is deprecated, use pandas.json_normalize instead.\n",
      "  books = json_normalize(results[\"results\"], record_path=[\"book_details\"], meta=[\"rank\", \"rank_last_week\", \"weeks_on_list\", \"asterisk\", \"dagger\"])\n"
     ]
    },
    {
     "name": "stdout",
     "output_type": "stream",
     "text": [
      "2019-11-25\n",
      "https://api.nytimes.com/svc/books/v3/lists.json?api-key=P1yDSg62Aydsdh04WBBuS57pYbpBu2tb&list=hardcover-fiction&published-date=2019-11-25\n"
     ]
    },
    {
     "name": "stderr",
     "output_type": "stream",
     "text": [
      "C:\\Users\\melan\\AppData\\Local\\Temp\\ipykernel_29428\\3652350664.py:25: FutureWarning: pandas.io.json.json_normalize is deprecated, use pandas.json_normalize instead.\n",
      "  books = json_normalize(results[\"results\"], record_path=[\"book_details\"], meta=[\"rank\", \"rank_last_week\", \"weeks_on_list\", \"asterisk\", \"dagger\"])\n"
     ]
    },
    {
     "name": "stdout",
     "output_type": "stream",
     "text": [
      "2019-11-18\n",
      "https://api.nytimes.com/svc/books/v3/lists.json?api-key=P1yDSg62Aydsdh04WBBuS57pYbpBu2tb&list=hardcover-fiction&published-date=2019-11-18\n"
     ]
    },
    {
     "name": "stderr",
     "output_type": "stream",
     "text": [
      "C:\\Users\\melan\\AppData\\Local\\Temp\\ipykernel_29428\\3652350664.py:25: FutureWarning: pandas.io.json.json_normalize is deprecated, use pandas.json_normalize instead.\n",
      "  books = json_normalize(results[\"results\"], record_path=[\"book_details\"], meta=[\"rank\", \"rank_last_week\", \"weeks_on_list\", \"asterisk\", \"dagger\"])\n"
     ]
    },
    {
     "name": "stdout",
     "output_type": "stream",
     "text": [
      "2019-11-11\n",
      "https://api.nytimes.com/svc/books/v3/lists.json?api-key=P1yDSg62Aydsdh04WBBuS57pYbpBu2tb&list=hardcover-fiction&published-date=2019-11-11\n"
     ]
    },
    {
     "name": "stderr",
     "output_type": "stream",
     "text": [
      "C:\\Users\\melan\\AppData\\Local\\Temp\\ipykernel_29428\\3652350664.py:25: FutureWarning: pandas.io.json.json_normalize is deprecated, use pandas.json_normalize instead.\n",
      "  books = json_normalize(results[\"results\"], record_path=[\"book_details\"], meta=[\"rank\", \"rank_last_week\", \"weeks_on_list\", \"asterisk\", \"dagger\"])\n"
     ]
    },
    {
     "name": "stdout",
     "output_type": "stream",
     "text": [
      "2019-11-04\n",
      "https://api.nytimes.com/svc/books/v3/lists.json?api-key=P1yDSg62Aydsdh04WBBuS57pYbpBu2tb&list=hardcover-fiction&published-date=2019-11-04\n"
     ]
    },
    {
     "name": "stderr",
     "output_type": "stream",
     "text": [
      "C:\\Users\\melan\\AppData\\Local\\Temp\\ipykernel_29428\\3652350664.py:25: FutureWarning: pandas.io.json.json_normalize is deprecated, use pandas.json_normalize instead.\n",
      "  books = json_normalize(results[\"results\"], record_path=[\"book_details\"], meta=[\"rank\", \"rank_last_week\", \"weeks_on_list\", \"asterisk\", \"dagger\"])\n"
     ]
    },
    {
     "name": "stdout",
     "output_type": "stream",
     "text": [
      "2019-10-28\n",
      "https://api.nytimes.com/svc/books/v3/lists.json?api-key=P1yDSg62Aydsdh04WBBuS57pYbpBu2tb&list=hardcover-fiction&published-date=2019-10-28\n"
     ]
    },
    {
     "name": "stderr",
     "output_type": "stream",
     "text": [
      "C:\\Users\\melan\\AppData\\Local\\Temp\\ipykernel_29428\\3652350664.py:25: FutureWarning: pandas.io.json.json_normalize is deprecated, use pandas.json_normalize instead.\n",
      "  books = json_normalize(results[\"results\"], record_path=[\"book_details\"], meta=[\"rank\", \"rank_last_week\", \"weeks_on_list\", \"asterisk\", \"dagger\"])\n"
     ]
    },
    {
     "name": "stdout",
     "output_type": "stream",
     "text": [
      "2019-10-21\n",
      "https://api.nytimes.com/svc/books/v3/lists.json?api-key=P1yDSg62Aydsdh04WBBuS57pYbpBu2tb&list=hardcover-fiction&published-date=2019-10-21\n"
     ]
    },
    {
     "name": "stderr",
     "output_type": "stream",
     "text": [
      "C:\\Users\\melan\\AppData\\Local\\Temp\\ipykernel_29428\\3652350664.py:25: FutureWarning: pandas.io.json.json_normalize is deprecated, use pandas.json_normalize instead.\n",
      "  books = json_normalize(results[\"results\"], record_path=[\"book_details\"], meta=[\"rank\", \"rank_last_week\", \"weeks_on_list\", \"asterisk\", \"dagger\"])\n"
     ]
    },
    {
     "name": "stdout",
     "output_type": "stream",
     "text": [
      "2019-10-14\n",
      "https://api.nytimes.com/svc/books/v3/lists.json?api-key=P1yDSg62Aydsdh04WBBuS57pYbpBu2tb&list=hardcover-fiction&published-date=2019-10-14\n"
     ]
    },
    {
     "name": "stderr",
     "output_type": "stream",
     "text": [
      "C:\\Users\\melan\\AppData\\Local\\Temp\\ipykernel_29428\\3652350664.py:25: FutureWarning: pandas.io.json.json_normalize is deprecated, use pandas.json_normalize instead.\n",
      "  books = json_normalize(results[\"results\"], record_path=[\"book_details\"], meta=[\"rank\", \"rank_last_week\", \"weeks_on_list\", \"asterisk\", \"dagger\"])\n"
     ]
    },
    {
     "name": "stdout",
     "output_type": "stream",
     "text": [
      "2019-10-07\n",
      "https://api.nytimes.com/svc/books/v3/lists.json?api-key=P1yDSg62Aydsdh04WBBuS57pYbpBu2tb&list=hardcover-fiction&published-date=2019-10-07\n"
     ]
    },
    {
     "name": "stderr",
     "output_type": "stream",
     "text": [
      "C:\\Users\\melan\\AppData\\Local\\Temp\\ipykernel_29428\\3652350664.py:25: FutureWarning: pandas.io.json.json_normalize is deprecated, use pandas.json_normalize instead.\n",
      "  books = json_normalize(results[\"results\"], record_path=[\"book_details\"], meta=[\"rank\", \"rank_last_week\", \"weeks_on_list\", \"asterisk\", \"dagger\"])\n"
     ]
    },
    {
     "name": "stdout",
     "output_type": "stream",
     "text": [
      "2019-09-30\n",
      "https://api.nytimes.com/svc/books/v3/lists.json?api-key=P1yDSg62Aydsdh04WBBuS57pYbpBu2tb&list=hardcover-fiction&published-date=2019-09-30\n"
     ]
    },
    {
     "name": "stderr",
     "output_type": "stream",
     "text": [
      "C:\\Users\\melan\\AppData\\Local\\Temp\\ipykernel_29428\\3652350664.py:25: FutureWarning: pandas.io.json.json_normalize is deprecated, use pandas.json_normalize instead.\n",
      "  books = json_normalize(results[\"results\"], record_path=[\"book_details\"], meta=[\"rank\", \"rank_last_week\", \"weeks_on_list\", \"asterisk\", \"dagger\"])\n"
     ]
    },
    {
     "name": "stdout",
     "output_type": "stream",
     "text": [
      "2019-09-23\n",
      "https://api.nytimes.com/svc/books/v3/lists.json?api-key=P1yDSg62Aydsdh04WBBuS57pYbpBu2tb&list=hardcover-fiction&published-date=2019-09-23\n"
     ]
    },
    {
     "name": "stderr",
     "output_type": "stream",
     "text": [
      "C:\\Users\\melan\\AppData\\Local\\Temp\\ipykernel_29428\\3652350664.py:25: FutureWarning: pandas.io.json.json_normalize is deprecated, use pandas.json_normalize instead.\n",
      "  books = json_normalize(results[\"results\"], record_path=[\"book_details\"], meta=[\"rank\", \"rank_last_week\", \"weeks_on_list\", \"asterisk\", \"dagger\"])\n"
     ]
    },
    {
     "name": "stdout",
     "output_type": "stream",
     "text": [
      "2019-09-16\n",
      "https://api.nytimes.com/svc/books/v3/lists.json?api-key=P1yDSg62Aydsdh04WBBuS57pYbpBu2tb&list=hardcover-fiction&published-date=2019-09-16\n"
     ]
    },
    {
     "name": "stderr",
     "output_type": "stream",
     "text": [
      "C:\\Users\\melan\\AppData\\Local\\Temp\\ipykernel_29428\\3652350664.py:25: FutureWarning: pandas.io.json.json_normalize is deprecated, use pandas.json_normalize instead.\n",
      "  books = json_normalize(results[\"results\"], record_path=[\"book_details\"], meta=[\"rank\", \"rank_last_week\", \"weeks_on_list\", \"asterisk\", \"dagger\"])\n"
     ]
    },
    {
     "name": "stdout",
     "output_type": "stream",
     "text": [
      "2019-09-09\n",
      "https://api.nytimes.com/svc/books/v3/lists.json?api-key=P1yDSg62Aydsdh04WBBuS57pYbpBu2tb&list=hardcover-fiction&published-date=2019-09-09\n"
     ]
    },
    {
     "name": "stderr",
     "output_type": "stream",
     "text": [
      "C:\\Users\\melan\\AppData\\Local\\Temp\\ipykernel_29428\\3652350664.py:25: FutureWarning: pandas.io.json.json_normalize is deprecated, use pandas.json_normalize instead.\n",
      "  books = json_normalize(results[\"results\"], record_path=[\"book_details\"], meta=[\"rank\", \"rank_last_week\", \"weeks_on_list\", \"asterisk\", \"dagger\"])\n"
     ]
    },
    {
     "name": "stdout",
     "output_type": "stream",
     "text": [
      "2019-09-02\n",
      "https://api.nytimes.com/svc/books/v3/lists.json?api-key=P1yDSg62Aydsdh04WBBuS57pYbpBu2tb&list=hardcover-fiction&published-date=2019-09-02\n"
     ]
    },
    {
     "name": "stderr",
     "output_type": "stream",
     "text": [
      "C:\\Users\\melan\\AppData\\Local\\Temp\\ipykernel_29428\\3652350664.py:25: FutureWarning: pandas.io.json.json_normalize is deprecated, use pandas.json_normalize instead.\n",
      "  books = json_normalize(results[\"results\"], record_path=[\"book_details\"], meta=[\"rank\", \"rank_last_week\", \"weeks_on_list\", \"asterisk\", \"dagger\"])\n"
     ]
    },
    {
     "name": "stdout",
     "output_type": "stream",
     "text": [
      "2019-08-26\n",
      "https://api.nytimes.com/svc/books/v3/lists.json?api-key=P1yDSg62Aydsdh04WBBuS57pYbpBu2tb&list=hardcover-fiction&published-date=2019-08-26\n"
     ]
    },
    {
     "name": "stderr",
     "output_type": "stream",
     "text": [
      "C:\\Users\\melan\\AppData\\Local\\Temp\\ipykernel_29428\\3652350664.py:25: FutureWarning: pandas.io.json.json_normalize is deprecated, use pandas.json_normalize instead.\n",
      "  books = json_normalize(results[\"results\"], record_path=[\"book_details\"], meta=[\"rank\", \"rank_last_week\", \"weeks_on_list\", \"asterisk\", \"dagger\"])\n"
     ]
    },
    {
     "name": "stdout",
     "output_type": "stream",
     "text": [
      "2019-08-19\n",
      "https://api.nytimes.com/svc/books/v3/lists.json?api-key=P1yDSg62Aydsdh04WBBuS57pYbpBu2tb&list=hardcover-fiction&published-date=2019-08-19\n"
     ]
    },
    {
     "name": "stderr",
     "output_type": "stream",
     "text": [
      "C:\\Users\\melan\\AppData\\Local\\Temp\\ipykernel_29428\\3652350664.py:25: FutureWarning: pandas.io.json.json_normalize is deprecated, use pandas.json_normalize instead.\n",
      "  books = json_normalize(results[\"results\"], record_path=[\"book_details\"], meta=[\"rank\", \"rank_last_week\", \"weeks_on_list\", \"asterisk\", \"dagger\"])\n"
     ]
    },
    {
     "name": "stdout",
     "output_type": "stream",
     "text": [
      "2019-08-12\n",
      "https://api.nytimes.com/svc/books/v3/lists.json?api-key=P1yDSg62Aydsdh04WBBuS57pYbpBu2tb&list=hardcover-fiction&published-date=2019-08-12\n"
     ]
    },
    {
     "name": "stderr",
     "output_type": "stream",
     "text": [
      "C:\\Users\\melan\\AppData\\Local\\Temp\\ipykernel_29428\\3652350664.py:25: FutureWarning: pandas.io.json.json_normalize is deprecated, use pandas.json_normalize instead.\n",
      "  books = json_normalize(results[\"results\"], record_path=[\"book_details\"], meta=[\"rank\", \"rank_last_week\", \"weeks_on_list\", \"asterisk\", \"dagger\"])\n"
     ]
    },
    {
     "name": "stdout",
     "output_type": "stream",
     "text": [
      "2019-08-05\n",
      "https://api.nytimes.com/svc/books/v3/lists.json?api-key=P1yDSg62Aydsdh04WBBuS57pYbpBu2tb&list=hardcover-fiction&published-date=2019-08-05\n"
     ]
    },
    {
     "name": "stderr",
     "output_type": "stream",
     "text": [
      "C:\\Users\\melan\\AppData\\Local\\Temp\\ipykernel_29428\\3652350664.py:25: FutureWarning: pandas.io.json.json_normalize is deprecated, use pandas.json_normalize instead.\n",
      "  books = json_normalize(results[\"results\"], record_path=[\"book_details\"], meta=[\"rank\", \"rank_last_week\", \"weeks_on_list\", \"asterisk\", \"dagger\"])\n"
     ]
    },
    {
     "name": "stdout",
     "output_type": "stream",
     "text": [
      "2019-07-29\n",
      "https://api.nytimes.com/svc/books/v3/lists.json?api-key=P1yDSg62Aydsdh04WBBuS57pYbpBu2tb&list=hardcover-fiction&published-date=2019-07-29\n"
     ]
    },
    {
     "name": "stderr",
     "output_type": "stream",
     "text": [
      "C:\\Users\\melan\\AppData\\Local\\Temp\\ipykernel_29428\\3652350664.py:25: FutureWarning: pandas.io.json.json_normalize is deprecated, use pandas.json_normalize instead.\n",
      "  books = json_normalize(results[\"results\"], record_path=[\"book_details\"], meta=[\"rank\", \"rank_last_week\", \"weeks_on_list\", \"asterisk\", \"dagger\"])\n"
     ]
    },
    {
     "name": "stdout",
     "output_type": "stream",
     "text": [
      "2019-07-22\n",
      "https://api.nytimes.com/svc/books/v3/lists.json?api-key=P1yDSg62Aydsdh04WBBuS57pYbpBu2tb&list=hardcover-fiction&published-date=2019-07-22\n"
     ]
    },
    {
     "name": "stderr",
     "output_type": "stream",
     "text": [
      "C:\\Users\\melan\\AppData\\Local\\Temp\\ipykernel_29428\\3652350664.py:25: FutureWarning: pandas.io.json.json_normalize is deprecated, use pandas.json_normalize instead.\n",
      "  books = json_normalize(results[\"results\"], record_path=[\"book_details\"], meta=[\"rank\", \"rank_last_week\", \"weeks_on_list\", \"asterisk\", \"dagger\"])\n"
     ]
    },
    {
     "name": "stdout",
     "output_type": "stream",
     "text": [
      "2019-07-15\n",
      "https://api.nytimes.com/svc/books/v3/lists.json?api-key=P1yDSg62Aydsdh04WBBuS57pYbpBu2tb&list=hardcover-fiction&published-date=2019-07-15\n"
     ]
    },
    {
     "name": "stderr",
     "output_type": "stream",
     "text": [
      "C:\\Users\\melan\\AppData\\Local\\Temp\\ipykernel_29428\\3652350664.py:25: FutureWarning: pandas.io.json.json_normalize is deprecated, use pandas.json_normalize instead.\n",
      "  books = json_normalize(results[\"results\"], record_path=[\"book_details\"], meta=[\"rank\", \"rank_last_week\", \"weeks_on_list\", \"asterisk\", \"dagger\"])\n"
     ]
    },
    {
     "name": "stdout",
     "output_type": "stream",
     "text": [
      "2019-07-08\n",
      "https://api.nytimes.com/svc/books/v3/lists.json?api-key=P1yDSg62Aydsdh04WBBuS57pYbpBu2tb&list=hardcover-fiction&published-date=2019-07-08\n"
     ]
    },
    {
     "name": "stderr",
     "output_type": "stream",
     "text": [
      "C:\\Users\\melan\\AppData\\Local\\Temp\\ipykernel_29428\\3652350664.py:25: FutureWarning: pandas.io.json.json_normalize is deprecated, use pandas.json_normalize instead.\n",
      "  books = json_normalize(results[\"results\"], record_path=[\"book_details\"], meta=[\"rank\", \"rank_last_week\", \"weeks_on_list\", \"asterisk\", \"dagger\"])\n"
     ]
    },
    {
     "name": "stdout",
     "output_type": "stream",
     "text": [
      "2019-07-01\n",
      "https://api.nytimes.com/svc/books/v3/lists.json?api-key=P1yDSg62Aydsdh04WBBuS57pYbpBu2tb&list=hardcover-fiction&published-date=2019-07-01\n"
     ]
    },
    {
     "name": "stderr",
     "output_type": "stream",
     "text": [
      "C:\\Users\\melan\\AppData\\Local\\Temp\\ipykernel_29428\\3652350664.py:25: FutureWarning: pandas.io.json.json_normalize is deprecated, use pandas.json_normalize instead.\n",
      "  books = json_normalize(results[\"results\"], record_path=[\"book_details\"], meta=[\"rank\", \"rank_last_week\", \"weeks_on_list\", \"asterisk\", \"dagger\"])\n"
     ]
    },
    {
     "name": "stdout",
     "output_type": "stream",
     "text": [
      "2019-06-24\n",
      "https://api.nytimes.com/svc/books/v3/lists.json?api-key=P1yDSg62Aydsdh04WBBuS57pYbpBu2tb&list=hardcover-fiction&published-date=2019-06-24\n"
     ]
    },
    {
     "name": "stderr",
     "output_type": "stream",
     "text": [
      "C:\\Users\\melan\\AppData\\Local\\Temp\\ipykernel_29428\\3652350664.py:25: FutureWarning: pandas.io.json.json_normalize is deprecated, use pandas.json_normalize instead.\n",
      "  books = json_normalize(results[\"results\"], record_path=[\"book_details\"], meta=[\"rank\", \"rank_last_week\", \"weeks_on_list\", \"asterisk\", \"dagger\"])\n"
     ]
    },
    {
     "name": "stdout",
     "output_type": "stream",
     "text": [
      "2019-06-17\n",
      "https://api.nytimes.com/svc/books/v3/lists.json?api-key=P1yDSg62Aydsdh04WBBuS57pYbpBu2tb&list=hardcover-fiction&published-date=2019-06-17\n"
     ]
    },
    {
     "name": "stderr",
     "output_type": "stream",
     "text": [
      "C:\\Users\\melan\\AppData\\Local\\Temp\\ipykernel_29428\\3652350664.py:25: FutureWarning: pandas.io.json.json_normalize is deprecated, use pandas.json_normalize instead.\n",
      "  books = json_normalize(results[\"results\"], record_path=[\"book_details\"], meta=[\"rank\", \"rank_last_week\", \"weeks_on_list\", \"asterisk\", \"dagger\"])\n"
     ]
    },
    {
     "name": "stdout",
     "output_type": "stream",
     "text": [
      "2019-06-10\n",
      "https://api.nytimes.com/svc/books/v3/lists.json?api-key=P1yDSg62Aydsdh04WBBuS57pYbpBu2tb&list=hardcover-fiction&published-date=2019-06-10\n"
     ]
    },
    {
     "name": "stderr",
     "output_type": "stream",
     "text": [
      "C:\\Users\\melan\\AppData\\Local\\Temp\\ipykernel_29428\\3652350664.py:25: FutureWarning: pandas.io.json.json_normalize is deprecated, use pandas.json_normalize instead.\n",
      "  books = json_normalize(results[\"results\"], record_path=[\"book_details\"], meta=[\"rank\", \"rank_last_week\", \"weeks_on_list\", \"asterisk\", \"dagger\"])\n"
     ]
    },
    {
     "name": "stdout",
     "output_type": "stream",
     "text": [
      "2019-06-03\n",
      "https://api.nytimes.com/svc/books/v3/lists.json?api-key=P1yDSg62Aydsdh04WBBuS57pYbpBu2tb&list=hardcover-fiction&published-date=2019-06-03\n"
     ]
    },
    {
     "name": "stderr",
     "output_type": "stream",
     "text": [
      "C:\\Users\\melan\\AppData\\Local\\Temp\\ipykernel_29428\\3652350664.py:25: FutureWarning: pandas.io.json.json_normalize is deprecated, use pandas.json_normalize instead.\n",
      "  books = json_normalize(results[\"results\"], record_path=[\"book_details\"], meta=[\"rank\", \"rank_last_week\", \"weeks_on_list\", \"asterisk\", \"dagger\"])\n"
     ]
    },
    {
     "name": "stdout",
     "output_type": "stream",
     "text": [
      "2019-05-27\n",
      "https://api.nytimes.com/svc/books/v3/lists.json?api-key=P1yDSg62Aydsdh04WBBuS57pYbpBu2tb&list=hardcover-fiction&published-date=2019-05-27\n"
     ]
    },
    {
     "name": "stderr",
     "output_type": "stream",
     "text": [
      "C:\\Users\\melan\\AppData\\Local\\Temp\\ipykernel_29428\\3652350664.py:25: FutureWarning: pandas.io.json.json_normalize is deprecated, use pandas.json_normalize instead.\n",
      "  books = json_normalize(results[\"results\"], record_path=[\"book_details\"], meta=[\"rank\", \"rank_last_week\", \"weeks_on_list\", \"asterisk\", \"dagger\"])\n"
     ]
    },
    {
     "name": "stdout",
     "output_type": "stream",
     "text": [
      "2019-05-20\n",
      "https://api.nytimes.com/svc/books/v3/lists.json?api-key=P1yDSg62Aydsdh04WBBuS57pYbpBu2tb&list=hardcover-fiction&published-date=2019-05-20\n"
     ]
    },
    {
     "name": "stderr",
     "output_type": "stream",
     "text": [
      "C:\\Users\\melan\\AppData\\Local\\Temp\\ipykernel_29428\\3652350664.py:25: FutureWarning: pandas.io.json.json_normalize is deprecated, use pandas.json_normalize instead.\n",
      "  books = json_normalize(results[\"results\"], record_path=[\"book_details\"], meta=[\"rank\", \"rank_last_week\", \"weeks_on_list\", \"asterisk\", \"dagger\"])\n"
     ]
    },
    {
     "name": "stdout",
     "output_type": "stream",
     "text": [
      "2019-05-13\n",
      "https://api.nytimes.com/svc/books/v3/lists.json?api-key=P1yDSg62Aydsdh04WBBuS57pYbpBu2tb&list=hardcover-fiction&published-date=2019-05-13\n"
     ]
    },
    {
     "name": "stderr",
     "output_type": "stream",
     "text": [
      "C:\\Users\\melan\\AppData\\Local\\Temp\\ipykernel_29428\\3652350664.py:25: FutureWarning: pandas.io.json.json_normalize is deprecated, use pandas.json_normalize instead.\n",
      "  books = json_normalize(results[\"results\"], record_path=[\"book_details\"], meta=[\"rank\", \"rank_last_week\", \"weeks_on_list\", \"asterisk\", \"dagger\"])\n"
     ]
    },
    {
     "name": "stdout",
     "output_type": "stream",
     "text": [
      "2019-05-06\n",
      "https://api.nytimes.com/svc/books/v3/lists.json?api-key=P1yDSg62Aydsdh04WBBuS57pYbpBu2tb&list=hardcover-fiction&published-date=2019-05-06\n"
     ]
    },
    {
     "name": "stderr",
     "output_type": "stream",
     "text": [
      "C:\\Users\\melan\\AppData\\Local\\Temp\\ipykernel_29428\\3652350664.py:25: FutureWarning: pandas.io.json.json_normalize is deprecated, use pandas.json_normalize instead.\n",
      "  books = json_normalize(results[\"results\"], record_path=[\"book_details\"], meta=[\"rank\", \"rank_last_week\", \"weeks_on_list\", \"asterisk\", \"dagger\"])\n"
     ]
    },
    {
     "name": "stdout",
     "output_type": "stream",
     "text": [
      "2019-04-29\n",
      "https://api.nytimes.com/svc/books/v3/lists.json?api-key=P1yDSg62Aydsdh04WBBuS57pYbpBu2tb&list=hardcover-fiction&published-date=2019-04-29\n"
     ]
    },
    {
     "name": "stderr",
     "output_type": "stream",
     "text": [
      "C:\\Users\\melan\\AppData\\Local\\Temp\\ipykernel_29428\\3652350664.py:25: FutureWarning: pandas.io.json.json_normalize is deprecated, use pandas.json_normalize instead.\n",
      "  books = json_normalize(results[\"results\"], record_path=[\"book_details\"], meta=[\"rank\", \"rank_last_week\", \"weeks_on_list\", \"asterisk\", \"dagger\"])\n"
     ]
    },
    {
     "name": "stdout",
     "output_type": "stream",
     "text": [
      "2019-04-22\n",
      "https://api.nytimes.com/svc/books/v3/lists.json?api-key=P1yDSg62Aydsdh04WBBuS57pYbpBu2tb&list=hardcover-fiction&published-date=2019-04-22\n"
     ]
    },
    {
     "name": "stderr",
     "output_type": "stream",
     "text": [
      "C:\\Users\\melan\\AppData\\Local\\Temp\\ipykernel_29428\\3652350664.py:25: FutureWarning: pandas.io.json.json_normalize is deprecated, use pandas.json_normalize instead.\n",
      "  books = json_normalize(results[\"results\"], record_path=[\"book_details\"], meta=[\"rank\", \"rank_last_week\", \"weeks_on_list\", \"asterisk\", \"dagger\"])\n"
     ]
    },
    {
     "name": "stdout",
     "output_type": "stream",
     "text": [
      "2019-04-15\n",
      "https://api.nytimes.com/svc/books/v3/lists.json?api-key=P1yDSg62Aydsdh04WBBuS57pYbpBu2tb&list=hardcover-fiction&published-date=2019-04-15\n"
     ]
    },
    {
     "name": "stderr",
     "output_type": "stream",
     "text": [
      "C:\\Users\\melan\\AppData\\Local\\Temp\\ipykernel_29428\\3652350664.py:25: FutureWarning: pandas.io.json.json_normalize is deprecated, use pandas.json_normalize instead.\n",
      "  books = json_normalize(results[\"results\"], record_path=[\"book_details\"], meta=[\"rank\", \"rank_last_week\", \"weeks_on_list\", \"asterisk\", \"dagger\"])\n"
     ]
    },
    {
     "name": "stdout",
     "output_type": "stream",
     "text": [
      "2019-04-08\n",
      "https://api.nytimes.com/svc/books/v3/lists.json?api-key=P1yDSg62Aydsdh04WBBuS57pYbpBu2tb&list=hardcover-fiction&published-date=2019-04-08\n"
     ]
    },
    {
     "name": "stderr",
     "output_type": "stream",
     "text": [
      "C:\\Users\\melan\\AppData\\Local\\Temp\\ipykernel_29428\\3652350664.py:25: FutureWarning: pandas.io.json.json_normalize is deprecated, use pandas.json_normalize instead.\n",
      "  books = json_normalize(results[\"results\"], record_path=[\"book_details\"], meta=[\"rank\", \"rank_last_week\", \"weeks_on_list\", \"asterisk\", \"dagger\"])\n"
     ]
    },
    {
     "name": "stdout",
     "output_type": "stream",
     "text": [
      "2019-04-01\n",
      "https://api.nytimes.com/svc/books/v3/lists.json?api-key=P1yDSg62Aydsdh04WBBuS57pYbpBu2tb&list=hardcover-fiction&published-date=2019-04-01\n"
     ]
    },
    {
     "name": "stderr",
     "output_type": "stream",
     "text": [
      "C:\\Users\\melan\\AppData\\Local\\Temp\\ipykernel_29428\\3652350664.py:25: FutureWarning: pandas.io.json.json_normalize is deprecated, use pandas.json_normalize instead.\n",
      "  books = json_normalize(results[\"results\"], record_path=[\"book_details\"], meta=[\"rank\", \"rank_last_week\", \"weeks_on_list\", \"asterisk\", \"dagger\"])\n"
     ]
    },
    {
     "name": "stdout",
     "output_type": "stream",
     "text": [
      "2019-03-25\n",
      "https://api.nytimes.com/svc/books/v3/lists.json?api-key=P1yDSg62Aydsdh04WBBuS57pYbpBu2tb&list=hardcover-fiction&published-date=2019-03-25\n"
     ]
    },
    {
     "name": "stderr",
     "output_type": "stream",
     "text": [
      "C:\\Users\\melan\\AppData\\Local\\Temp\\ipykernel_29428\\3652350664.py:25: FutureWarning: pandas.io.json.json_normalize is deprecated, use pandas.json_normalize instead.\n",
      "  books = json_normalize(results[\"results\"], record_path=[\"book_details\"], meta=[\"rank\", \"rank_last_week\", \"weeks_on_list\", \"asterisk\", \"dagger\"])\n"
     ]
    },
    {
     "name": "stdout",
     "output_type": "stream",
     "text": [
      "2019-03-18\n",
      "https://api.nytimes.com/svc/books/v3/lists.json?api-key=P1yDSg62Aydsdh04WBBuS57pYbpBu2tb&list=hardcover-fiction&published-date=2019-03-18\n"
     ]
    },
    {
     "name": "stderr",
     "output_type": "stream",
     "text": [
      "C:\\Users\\melan\\AppData\\Local\\Temp\\ipykernel_29428\\3652350664.py:25: FutureWarning: pandas.io.json.json_normalize is deprecated, use pandas.json_normalize instead.\n",
      "  books = json_normalize(results[\"results\"], record_path=[\"book_details\"], meta=[\"rank\", \"rank_last_week\", \"weeks_on_list\", \"asterisk\", \"dagger\"])\n"
     ]
    },
    {
     "name": "stdout",
     "output_type": "stream",
     "text": [
      "2019-03-11\n",
      "https://api.nytimes.com/svc/books/v3/lists.json?api-key=P1yDSg62Aydsdh04WBBuS57pYbpBu2tb&list=hardcover-fiction&published-date=2019-03-11\n"
     ]
    },
    {
     "name": "stderr",
     "output_type": "stream",
     "text": [
      "C:\\Users\\melan\\AppData\\Local\\Temp\\ipykernel_29428\\3652350664.py:25: FutureWarning: pandas.io.json.json_normalize is deprecated, use pandas.json_normalize instead.\n",
      "  books = json_normalize(results[\"results\"], record_path=[\"book_details\"], meta=[\"rank\", \"rank_last_week\", \"weeks_on_list\", \"asterisk\", \"dagger\"])\n"
     ]
    },
    {
     "name": "stdout",
     "output_type": "stream",
     "text": [
      "2019-03-04\n",
      "https://api.nytimes.com/svc/books/v3/lists.json?api-key=P1yDSg62Aydsdh04WBBuS57pYbpBu2tb&list=hardcover-fiction&published-date=2019-03-04\n"
     ]
    },
    {
     "name": "stderr",
     "output_type": "stream",
     "text": [
      "C:\\Users\\melan\\AppData\\Local\\Temp\\ipykernel_29428\\3652350664.py:25: FutureWarning: pandas.io.json.json_normalize is deprecated, use pandas.json_normalize instead.\n",
      "  books = json_normalize(results[\"results\"], record_path=[\"book_details\"], meta=[\"rank\", \"rank_last_week\", \"weeks_on_list\", \"asterisk\", \"dagger\"])\n"
     ]
    },
    {
     "name": "stdout",
     "output_type": "stream",
     "text": [
      "2019-02-25\n",
      "https://api.nytimes.com/svc/books/v3/lists.json?api-key=P1yDSg62Aydsdh04WBBuS57pYbpBu2tb&list=hardcover-fiction&published-date=2019-02-25\n"
     ]
    },
    {
     "name": "stderr",
     "output_type": "stream",
     "text": [
      "C:\\Users\\melan\\AppData\\Local\\Temp\\ipykernel_29428\\3652350664.py:25: FutureWarning: pandas.io.json.json_normalize is deprecated, use pandas.json_normalize instead.\n",
      "  books = json_normalize(results[\"results\"], record_path=[\"book_details\"], meta=[\"rank\", \"rank_last_week\", \"weeks_on_list\", \"asterisk\", \"dagger\"])\n"
     ]
    },
    {
     "name": "stdout",
     "output_type": "stream",
     "text": [
      "2019-02-18\n",
      "https://api.nytimes.com/svc/books/v3/lists.json?api-key=P1yDSg62Aydsdh04WBBuS57pYbpBu2tb&list=hardcover-fiction&published-date=2019-02-18\n"
     ]
    },
    {
     "name": "stderr",
     "output_type": "stream",
     "text": [
      "C:\\Users\\melan\\AppData\\Local\\Temp\\ipykernel_29428\\3652350664.py:25: FutureWarning: pandas.io.json.json_normalize is deprecated, use pandas.json_normalize instead.\n",
      "  books = json_normalize(results[\"results\"], record_path=[\"book_details\"], meta=[\"rank\", \"rank_last_week\", \"weeks_on_list\", \"asterisk\", \"dagger\"])\n"
     ]
    },
    {
     "name": "stdout",
     "output_type": "stream",
     "text": [
      "2019-02-11\n",
      "https://api.nytimes.com/svc/books/v3/lists.json?api-key=P1yDSg62Aydsdh04WBBuS57pYbpBu2tb&list=hardcover-fiction&published-date=2019-02-11\n"
     ]
    },
    {
     "name": "stderr",
     "output_type": "stream",
     "text": [
      "C:\\Users\\melan\\AppData\\Local\\Temp\\ipykernel_29428\\3652350664.py:25: FutureWarning: pandas.io.json.json_normalize is deprecated, use pandas.json_normalize instead.\n",
      "  books = json_normalize(results[\"results\"], record_path=[\"book_details\"], meta=[\"rank\", \"rank_last_week\", \"weeks_on_list\", \"asterisk\", \"dagger\"])\n"
     ]
    },
    {
     "name": "stdout",
     "output_type": "stream",
     "text": [
      "2019-02-04\n",
      "https://api.nytimes.com/svc/books/v3/lists.json?api-key=P1yDSg62Aydsdh04WBBuS57pYbpBu2tb&list=hardcover-fiction&published-date=2019-02-04\n"
     ]
    },
    {
     "name": "stderr",
     "output_type": "stream",
     "text": [
      "C:\\Users\\melan\\AppData\\Local\\Temp\\ipykernel_29428\\3652350664.py:25: FutureWarning: pandas.io.json.json_normalize is deprecated, use pandas.json_normalize instead.\n",
      "  books = json_normalize(results[\"results\"], record_path=[\"book_details\"], meta=[\"rank\", \"rank_last_week\", \"weeks_on_list\", \"asterisk\", \"dagger\"])\n"
     ]
    },
    {
     "name": "stdout",
     "output_type": "stream",
     "text": [
      "2019-01-28\n",
      "https://api.nytimes.com/svc/books/v3/lists.json?api-key=P1yDSg62Aydsdh04WBBuS57pYbpBu2tb&list=hardcover-fiction&published-date=2019-01-28\n"
     ]
    },
    {
     "name": "stderr",
     "output_type": "stream",
     "text": [
      "C:\\Users\\melan\\AppData\\Local\\Temp\\ipykernel_29428\\3652350664.py:25: FutureWarning: pandas.io.json.json_normalize is deprecated, use pandas.json_normalize instead.\n",
      "  books = json_normalize(results[\"results\"], record_path=[\"book_details\"], meta=[\"rank\", \"rank_last_week\", \"weeks_on_list\", \"asterisk\", \"dagger\"])\n"
     ]
    },
    {
     "name": "stdout",
     "output_type": "stream",
     "text": [
      "2019-01-21\n",
      "https://api.nytimes.com/svc/books/v3/lists.json?api-key=P1yDSg62Aydsdh04WBBuS57pYbpBu2tb&list=hardcover-fiction&published-date=2019-01-21\n"
     ]
    },
    {
     "name": "stderr",
     "output_type": "stream",
     "text": [
      "C:\\Users\\melan\\AppData\\Local\\Temp\\ipykernel_29428\\3652350664.py:25: FutureWarning: pandas.io.json.json_normalize is deprecated, use pandas.json_normalize instead.\n",
      "  books = json_normalize(results[\"results\"], record_path=[\"book_details\"], meta=[\"rank\", \"rank_last_week\", \"weeks_on_list\", \"asterisk\", \"dagger\"])\n"
     ]
    },
    {
     "name": "stdout",
     "output_type": "stream",
     "text": [
      "2019-01-14\n",
      "https://api.nytimes.com/svc/books/v3/lists.json?api-key=P1yDSg62Aydsdh04WBBuS57pYbpBu2tb&list=hardcover-fiction&published-date=2019-01-14\n"
     ]
    },
    {
     "name": "stderr",
     "output_type": "stream",
     "text": [
      "C:\\Users\\melan\\AppData\\Local\\Temp\\ipykernel_29428\\3652350664.py:25: FutureWarning: pandas.io.json.json_normalize is deprecated, use pandas.json_normalize instead.\n",
      "  books = json_normalize(results[\"results\"], record_path=[\"book_details\"], meta=[\"rank\", \"rank_last_week\", \"weeks_on_list\", \"asterisk\", \"dagger\"])\n"
     ]
    },
    {
     "name": "stdout",
     "output_type": "stream",
     "text": [
      "2019-01-07\n",
      "https://api.nytimes.com/svc/books/v3/lists.json?api-key=P1yDSg62Aydsdh04WBBuS57pYbpBu2tb&list=hardcover-fiction&published-date=2019-01-07\n"
     ]
    },
    {
     "name": "stderr",
     "output_type": "stream",
     "text": [
      "C:\\Users\\melan\\AppData\\Local\\Temp\\ipykernel_29428\\3652350664.py:25: FutureWarning: pandas.io.json.json_normalize is deprecated, use pandas.json_normalize instead.\n",
      "  books = json_normalize(results[\"results\"], record_path=[\"book_details\"], meta=[\"rank\", \"rank_last_week\", \"weeks_on_list\", \"asterisk\", \"dagger\"])\n"
     ]
    },
    {
     "name": "stdout",
     "output_type": "stream",
     "text": [
      "2018-12-31\n",
      "https://api.nytimes.com/svc/books/v3/lists.json?api-key=P1yDSg62Aydsdh04WBBuS57pYbpBu2tb&list=hardcover-fiction&published-date=2018-12-31\n"
     ]
    },
    {
     "name": "stderr",
     "output_type": "stream",
     "text": [
      "C:\\Users\\melan\\AppData\\Local\\Temp\\ipykernel_29428\\3652350664.py:25: FutureWarning: pandas.io.json.json_normalize is deprecated, use pandas.json_normalize instead.\n",
      "  books = json_normalize(results[\"results\"], record_path=[\"book_details\"], meta=[\"rank\", \"rank_last_week\", \"weeks_on_list\", \"asterisk\", \"dagger\"])\n"
     ]
    },
    {
     "name": "stdout",
     "output_type": "stream",
     "text": [
      "2018-12-24\n",
      "https://api.nytimes.com/svc/books/v3/lists.json?api-key=P1yDSg62Aydsdh04WBBuS57pYbpBu2tb&list=hardcover-fiction&published-date=2018-12-24\n"
     ]
    },
    {
     "name": "stderr",
     "output_type": "stream",
     "text": [
      "C:\\Users\\melan\\AppData\\Local\\Temp\\ipykernel_29428\\3652350664.py:25: FutureWarning: pandas.io.json.json_normalize is deprecated, use pandas.json_normalize instead.\n",
      "  books = json_normalize(results[\"results\"], record_path=[\"book_details\"], meta=[\"rank\", \"rank_last_week\", \"weeks_on_list\", \"asterisk\", \"dagger\"])\n"
     ]
    },
    {
     "name": "stdout",
     "output_type": "stream",
     "text": [
      "2018-12-17\n",
      "https://api.nytimes.com/svc/books/v3/lists.json?api-key=P1yDSg62Aydsdh04WBBuS57pYbpBu2tb&list=hardcover-fiction&published-date=2018-12-17\n"
     ]
    },
    {
     "name": "stderr",
     "output_type": "stream",
     "text": [
      "C:\\Users\\melan\\AppData\\Local\\Temp\\ipykernel_29428\\3652350664.py:25: FutureWarning: pandas.io.json.json_normalize is deprecated, use pandas.json_normalize instead.\n",
      "  books = json_normalize(results[\"results\"], record_path=[\"book_details\"], meta=[\"rank\", \"rank_last_week\", \"weeks_on_list\", \"asterisk\", \"dagger\"])\n"
     ]
    },
    {
     "name": "stdout",
     "output_type": "stream",
     "text": [
      "2018-12-10\n",
      "https://api.nytimes.com/svc/books/v3/lists.json?api-key=P1yDSg62Aydsdh04WBBuS57pYbpBu2tb&list=hardcover-fiction&published-date=2018-12-10\n"
     ]
    },
    {
     "name": "stderr",
     "output_type": "stream",
     "text": [
      "C:\\Users\\melan\\AppData\\Local\\Temp\\ipykernel_29428\\3652350664.py:25: FutureWarning: pandas.io.json.json_normalize is deprecated, use pandas.json_normalize instead.\n",
      "  books = json_normalize(results[\"results\"], record_path=[\"book_details\"], meta=[\"rank\", \"rank_last_week\", \"weeks_on_list\", \"asterisk\", \"dagger\"])\n"
     ]
    },
    {
     "name": "stdout",
     "output_type": "stream",
     "text": [
      "2018-12-03\n",
      "https://api.nytimes.com/svc/books/v3/lists.json?api-key=P1yDSg62Aydsdh04WBBuS57pYbpBu2tb&list=hardcover-fiction&published-date=2018-12-03\n"
     ]
    },
    {
     "name": "stderr",
     "output_type": "stream",
     "text": [
      "C:\\Users\\melan\\AppData\\Local\\Temp\\ipykernel_29428\\3652350664.py:25: FutureWarning: pandas.io.json.json_normalize is deprecated, use pandas.json_normalize instead.\n",
      "  books = json_normalize(results[\"results\"], record_path=[\"book_details\"], meta=[\"rank\", \"rank_last_week\", \"weeks_on_list\", \"asterisk\", \"dagger\"])\n"
     ]
    },
    {
     "name": "stdout",
     "output_type": "stream",
     "text": [
      "2018-11-26\n",
      "https://api.nytimes.com/svc/books/v3/lists.json?api-key=P1yDSg62Aydsdh04WBBuS57pYbpBu2tb&list=hardcover-fiction&published-date=2018-11-26\n"
     ]
    },
    {
     "name": "stderr",
     "output_type": "stream",
     "text": [
      "C:\\Users\\melan\\AppData\\Local\\Temp\\ipykernel_29428\\3652350664.py:25: FutureWarning: pandas.io.json.json_normalize is deprecated, use pandas.json_normalize instead.\n",
      "  books = json_normalize(results[\"results\"], record_path=[\"book_details\"], meta=[\"rank\", \"rank_last_week\", \"weeks_on_list\", \"asterisk\", \"dagger\"])\n"
     ]
    },
    {
     "name": "stdout",
     "output_type": "stream",
     "text": [
      "2018-11-19\n",
      "https://api.nytimes.com/svc/books/v3/lists.json?api-key=P1yDSg62Aydsdh04WBBuS57pYbpBu2tb&list=hardcover-fiction&published-date=2018-11-19\n"
     ]
    },
    {
     "name": "stderr",
     "output_type": "stream",
     "text": [
      "C:\\Users\\melan\\AppData\\Local\\Temp\\ipykernel_29428\\3652350664.py:25: FutureWarning: pandas.io.json.json_normalize is deprecated, use pandas.json_normalize instead.\n",
      "  books = json_normalize(results[\"results\"], record_path=[\"book_details\"], meta=[\"rank\", \"rank_last_week\", \"weeks_on_list\", \"asterisk\", \"dagger\"])\n"
     ]
    },
    {
     "name": "stdout",
     "output_type": "stream",
     "text": [
      "2018-11-12\n",
      "https://api.nytimes.com/svc/books/v3/lists.json?api-key=P1yDSg62Aydsdh04WBBuS57pYbpBu2tb&list=hardcover-fiction&published-date=2018-11-12\n"
     ]
    },
    {
     "name": "stderr",
     "output_type": "stream",
     "text": [
      "C:\\Users\\melan\\AppData\\Local\\Temp\\ipykernel_29428\\3652350664.py:25: FutureWarning: pandas.io.json.json_normalize is deprecated, use pandas.json_normalize instead.\n",
      "  books = json_normalize(results[\"results\"], record_path=[\"book_details\"], meta=[\"rank\", \"rank_last_week\", \"weeks_on_list\", \"asterisk\", \"dagger\"])\n"
     ]
    },
    {
     "name": "stdout",
     "output_type": "stream",
     "text": [
      "2018-11-05\n",
      "https://api.nytimes.com/svc/books/v3/lists.json?api-key=P1yDSg62Aydsdh04WBBuS57pYbpBu2tb&list=hardcover-fiction&published-date=2018-11-05\n"
     ]
    },
    {
     "name": "stderr",
     "output_type": "stream",
     "text": [
      "C:\\Users\\melan\\AppData\\Local\\Temp\\ipykernel_29428\\3652350664.py:25: FutureWarning: pandas.io.json.json_normalize is deprecated, use pandas.json_normalize instead.\n",
      "  books = json_normalize(results[\"results\"], record_path=[\"book_details\"], meta=[\"rank\", \"rank_last_week\", \"weeks_on_list\", \"asterisk\", \"dagger\"])\n"
     ]
    },
    {
     "name": "stdout",
     "output_type": "stream",
     "text": [
      "2018-10-29\n",
      "https://api.nytimes.com/svc/books/v3/lists.json?api-key=P1yDSg62Aydsdh04WBBuS57pYbpBu2tb&list=hardcover-fiction&published-date=2018-10-29\n"
     ]
    },
    {
     "name": "stderr",
     "output_type": "stream",
     "text": [
      "C:\\Users\\melan\\AppData\\Local\\Temp\\ipykernel_29428\\3652350664.py:25: FutureWarning: pandas.io.json.json_normalize is deprecated, use pandas.json_normalize instead.\n",
      "  books = json_normalize(results[\"results\"], record_path=[\"book_details\"], meta=[\"rank\", \"rank_last_week\", \"weeks_on_list\", \"asterisk\", \"dagger\"])\n"
     ]
    },
    {
     "name": "stdout",
     "output_type": "stream",
     "text": [
      "2018-10-22\n",
      "https://api.nytimes.com/svc/books/v3/lists.json?api-key=P1yDSg62Aydsdh04WBBuS57pYbpBu2tb&list=hardcover-fiction&published-date=2018-10-22\n"
     ]
    },
    {
     "name": "stderr",
     "output_type": "stream",
     "text": [
      "C:\\Users\\melan\\AppData\\Local\\Temp\\ipykernel_29428\\3652350664.py:25: FutureWarning: pandas.io.json.json_normalize is deprecated, use pandas.json_normalize instead.\n",
      "  books = json_normalize(results[\"results\"], record_path=[\"book_details\"], meta=[\"rank\", \"rank_last_week\", \"weeks_on_list\", \"asterisk\", \"dagger\"])\n"
     ]
    },
    {
     "name": "stdout",
     "output_type": "stream",
     "text": [
      "2018-10-15\n",
      "https://api.nytimes.com/svc/books/v3/lists.json?api-key=P1yDSg62Aydsdh04WBBuS57pYbpBu2tb&list=hardcover-fiction&published-date=2018-10-15\n"
     ]
    },
    {
     "name": "stderr",
     "output_type": "stream",
     "text": [
      "C:\\Users\\melan\\AppData\\Local\\Temp\\ipykernel_29428\\3652350664.py:25: FutureWarning: pandas.io.json.json_normalize is deprecated, use pandas.json_normalize instead.\n",
      "  books = json_normalize(results[\"results\"], record_path=[\"book_details\"], meta=[\"rank\", \"rank_last_week\", \"weeks_on_list\", \"asterisk\", \"dagger\"])\n"
     ]
    },
    {
     "name": "stdout",
     "output_type": "stream",
     "text": [
      "2018-10-08\n",
      "https://api.nytimes.com/svc/books/v3/lists.json?api-key=P1yDSg62Aydsdh04WBBuS57pYbpBu2tb&list=hardcover-fiction&published-date=2018-10-08\n"
     ]
    },
    {
     "name": "stderr",
     "output_type": "stream",
     "text": [
      "C:\\Users\\melan\\AppData\\Local\\Temp\\ipykernel_29428\\3652350664.py:25: FutureWarning: pandas.io.json.json_normalize is deprecated, use pandas.json_normalize instead.\n",
      "  books = json_normalize(results[\"results\"], record_path=[\"book_details\"], meta=[\"rank\", \"rank_last_week\", \"weeks_on_list\", \"asterisk\", \"dagger\"])\n"
     ]
    },
    {
     "name": "stdout",
     "output_type": "stream",
     "text": [
      "2018-10-01\n",
      "https://api.nytimes.com/svc/books/v3/lists.json?api-key=P1yDSg62Aydsdh04WBBuS57pYbpBu2tb&list=hardcover-fiction&published-date=2018-10-01\n"
     ]
    },
    {
     "name": "stderr",
     "output_type": "stream",
     "text": [
      "C:\\Users\\melan\\AppData\\Local\\Temp\\ipykernel_29428\\3652350664.py:25: FutureWarning: pandas.io.json.json_normalize is deprecated, use pandas.json_normalize instead.\n",
      "  books = json_normalize(results[\"results\"], record_path=[\"book_details\"], meta=[\"rank\", \"rank_last_week\", \"weeks_on_list\", \"asterisk\", \"dagger\"])\n"
     ]
    },
    {
     "name": "stdout",
     "output_type": "stream",
     "text": [
      "2018-09-24\n",
      "https://api.nytimes.com/svc/books/v3/lists.json?api-key=P1yDSg62Aydsdh04WBBuS57pYbpBu2tb&list=hardcover-fiction&published-date=2018-09-24\n"
     ]
    },
    {
     "name": "stderr",
     "output_type": "stream",
     "text": [
      "C:\\Users\\melan\\AppData\\Local\\Temp\\ipykernel_29428\\3652350664.py:25: FutureWarning: pandas.io.json.json_normalize is deprecated, use pandas.json_normalize instead.\n",
      "  books = json_normalize(results[\"results\"], record_path=[\"book_details\"], meta=[\"rank\", \"rank_last_week\", \"weeks_on_list\", \"asterisk\", \"dagger\"])\n"
     ]
    },
    {
     "name": "stdout",
     "output_type": "stream",
     "text": [
      "2018-09-17\n",
      "https://api.nytimes.com/svc/books/v3/lists.json?api-key=P1yDSg62Aydsdh04WBBuS57pYbpBu2tb&list=hardcover-fiction&published-date=2018-09-17\n"
     ]
    },
    {
     "name": "stderr",
     "output_type": "stream",
     "text": [
      "C:\\Users\\melan\\AppData\\Local\\Temp\\ipykernel_29428\\3652350664.py:25: FutureWarning: pandas.io.json.json_normalize is deprecated, use pandas.json_normalize instead.\n",
      "  books = json_normalize(results[\"results\"], record_path=[\"book_details\"], meta=[\"rank\", \"rank_last_week\", \"weeks_on_list\", \"asterisk\", \"dagger\"])\n"
     ]
    },
    {
     "name": "stdout",
     "output_type": "stream",
     "text": [
      "2018-09-10\n",
      "https://api.nytimes.com/svc/books/v3/lists.json?api-key=P1yDSg62Aydsdh04WBBuS57pYbpBu2tb&list=hardcover-fiction&published-date=2018-09-10\n"
     ]
    },
    {
     "name": "stderr",
     "output_type": "stream",
     "text": [
      "C:\\Users\\melan\\AppData\\Local\\Temp\\ipykernel_29428\\3652350664.py:25: FutureWarning: pandas.io.json.json_normalize is deprecated, use pandas.json_normalize instead.\n",
      "  books = json_normalize(results[\"results\"], record_path=[\"book_details\"], meta=[\"rank\", \"rank_last_week\", \"weeks_on_list\", \"asterisk\", \"dagger\"])\n"
     ]
    },
    {
     "name": "stdout",
     "output_type": "stream",
     "text": [
      "2018-09-03\n",
      "https://api.nytimes.com/svc/books/v3/lists.json?api-key=P1yDSg62Aydsdh04WBBuS57pYbpBu2tb&list=hardcover-fiction&published-date=2018-09-03\n"
     ]
    },
    {
     "name": "stderr",
     "output_type": "stream",
     "text": [
      "C:\\Users\\melan\\AppData\\Local\\Temp\\ipykernel_29428\\3652350664.py:25: FutureWarning: pandas.io.json.json_normalize is deprecated, use pandas.json_normalize instead.\n",
      "  books = json_normalize(results[\"results\"], record_path=[\"book_details\"], meta=[\"rank\", \"rank_last_week\", \"weeks_on_list\", \"asterisk\", \"dagger\"])\n"
     ]
    },
    {
     "name": "stdout",
     "output_type": "stream",
     "text": [
      "2018-08-27\n",
      "https://api.nytimes.com/svc/books/v3/lists.json?api-key=P1yDSg62Aydsdh04WBBuS57pYbpBu2tb&list=hardcover-fiction&published-date=2018-08-27\n"
     ]
    },
    {
     "name": "stderr",
     "output_type": "stream",
     "text": [
      "C:\\Users\\melan\\AppData\\Local\\Temp\\ipykernel_29428\\3652350664.py:25: FutureWarning: pandas.io.json.json_normalize is deprecated, use pandas.json_normalize instead.\n",
      "  books = json_normalize(results[\"results\"], record_path=[\"book_details\"], meta=[\"rank\", \"rank_last_week\", \"weeks_on_list\", \"asterisk\", \"dagger\"])\n"
     ]
    },
    {
     "name": "stdout",
     "output_type": "stream",
     "text": [
      "2018-08-20\n",
      "https://api.nytimes.com/svc/books/v3/lists.json?api-key=P1yDSg62Aydsdh04WBBuS57pYbpBu2tb&list=hardcover-fiction&published-date=2018-08-20\n"
     ]
    },
    {
     "name": "stderr",
     "output_type": "stream",
     "text": [
      "C:\\Users\\melan\\AppData\\Local\\Temp\\ipykernel_29428\\3652350664.py:25: FutureWarning: pandas.io.json.json_normalize is deprecated, use pandas.json_normalize instead.\n",
      "  books = json_normalize(results[\"results\"], record_path=[\"book_details\"], meta=[\"rank\", \"rank_last_week\", \"weeks_on_list\", \"asterisk\", \"dagger\"])\n"
     ]
    },
    {
     "name": "stdout",
     "output_type": "stream",
     "text": [
      "2018-08-13\n",
      "https://api.nytimes.com/svc/books/v3/lists.json?api-key=P1yDSg62Aydsdh04WBBuS57pYbpBu2tb&list=hardcover-fiction&published-date=2018-08-13\n"
     ]
    },
    {
     "name": "stderr",
     "output_type": "stream",
     "text": [
      "C:\\Users\\melan\\AppData\\Local\\Temp\\ipykernel_29428\\3652350664.py:25: FutureWarning: pandas.io.json.json_normalize is deprecated, use pandas.json_normalize instead.\n",
      "  books = json_normalize(results[\"results\"], record_path=[\"book_details\"], meta=[\"rank\", \"rank_last_week\", \"weeks_on_list\", \"asterisk\", \"dagger\"])\n"
     ]
    },
    {
     "name": "stdout",
     "output_type": "stream",
     "text": [
      "2018-08-06\n",
      "https://api.nytimes.com/svc/books/v3/lists.json?api-key=P1yDSg62Aydsdh04WBBuS57pYbpBu2tb&list=hardcover-fiction&published-date=2018-08-06\n"
     ]
    },
    {
     "name": "stderr",
     "output_type": "stream",
     "text": [
      "C:\\Users\\melan\\AppData\\Local\\Temp\\ipykernel_29428\\3652350664.py:25: FutureWarning: pandas.io.json.json_normalize is deprecated, use pandas.json_normalize instead.\n",
      "  books = json_normalize(results[\"results\"], record_path=[\"book_details\"], meta=[\"rank\", \"rank_last_week\", \"weeks_on_list\", \"asterisk\", \"dagger\"])\n"
     ]
    },
    {
     "name": "stdout",
     "output_type": "stream",
     "text": [
      "2018-07-30\n",
      "https://api.nytimes.com/svc/books/v3/lists.json?api-key=P1yDSg62Aydsdh04WBBuS57pYbpBu2tb&list=hardcover-fiction&published-date=2018-07-30\n"
     ]
    },
    {
     "name": "stderr",
     "output_type": "stream",
     "text": [
      "C:\\Users\\melan\\AppData\\Local\\Temp\\ipykernel_29428\\3652350664.py:25: FutureWarning: pandas.io.json.json_normalize is deprecated, use pandas.json_normalize instead.\n",
      "  books = json_normalize(results[\"results\"], record_path=[\"book_details\"], meta=[\"rank\", \"rank_last_week\", \"weeks_on_list\", \"asterisk\", \"dagger\"])\n"
     ]
    },
    {
     "name": "stdout",
     "output_type": "stream",
     "text": [
      "2018-07-23\n",
      "https://api.nytimes.com/svc/books/v3/lists.json?api-key=P1yDSg62Aydsdh04WBBuS57pYbpBu2tb&list=hardcover-fiction&published-date=2018-07-23\n"
     ]
    },
    {
     "name": "stderr",
     "output_type": "stream",
     "text": [
      "C:\\Users\\melan\\AppData\\Local\\Temp\\ipykernel_29428\\3652350664.py:25: FutureWarning: pandas.io.json.json_normalize is deprecated, use pandas.json_normalize instead.\n",
      "  books = json_normalize(results[\"results\"], record_path=[\"book_details\"], meta=[\"rank\", \"rank_last_week\", \"weeks_on_list\", \"asterisk\", \"dagger\"])\n"
     ]
    },
    {
     "name": "stdout",
     "output_type": "stream",
     "text": [
      "2018-07-16\n",
      "https://api.nytimes.com/svc/books/v3/lists.json?api-key=P1yDSg62Aydsdh04WBBuS57pYbpBu2tb&list=hardcover-fiction&published-date=2018-07-16\n"
     ]
    },
    {
     "name": "stderr",
     "output_type": "stream",
     "text": [
      "C:\\Users\\melan\\AppData\\Local\\Temp\\ipykernel_29428\\3652350664.py:25: FutureWarning: pandas.io.json.json_normalize is deprecated, use pandas.json_normalize instead.\n",
      "  books = json_normalize(results[\"results\"], record_path=[\"book_details\"], meta=[\"rank\", \"rank_last_week\", \"weeks_on_list\", \"asterisk\", \"dagger\"])\n"
     ]
    },
    {
     "name": "stdout",
     "output_type": "stream",
     "text": [
      "2018-07-09\n",
      "https://api.nytimes.com/svc/books/v3/lists.json?api-key=P1yDSg62Aydsdh04WBBuS57pYbpBu2tb&list=hardcover-fiction&published-date=2018-07-09\n"
     ]
    },
    {
     "name": "stderr",
     "output_type": "stream",
     "text": [
      "C:\\Users\\melan\\AppData\\Local\\Temp\\ipykernel_29428\\3652350664.py:25: FutureWarning: pandas.io.json.json_normalize is deprecated, use pandas.json_normalize instead.\n",
      "  books = json_normalize(results[\"results\"], record_path=[\"book_details\"], meta=[\"rank\", \"rank_last_week\", \"weeks_on_list\", \"asterisk\", \"dagger\"])\n"
     ]
    },
    {
     "name": "stdout",
     "output_type": "stream",
     "text": [
      "2018-07-02\n",
      "https://api.nytimes.com/svc/books/v3/lists.json?api-key=P1yDSg62Aydsdh04WBBuS57pYbpBu2tb&list=hardcover-fiction&published-date=2018-07-02\n"
     ]
    },
    {
     "name": "stderr",
     "output_type": "stream",
     "text": [
      "C:\\Users\\melan\\AppData\\Local\\Temp\\ipykernel_29428\\3652350664.py:25: FutureWarning: pandas.io.json.json_normalize is deprecated, use pandas.json_normalize instead.\n",
      "  books = json_normalize(results[\"results\"], record_path=[\"book_details\"], meta=[\"rank\", \"rank_last_week\", \"weeks_on_list\", \"asterisk\", \"dagger\"])\n"
     ]
    },
    {
     "name": "stdout",
     "output_type": "stream",
     "text": [
      "2018-06-25\n",
      "https://api.nytimes.com/svc/books/v3/lists.json?api-key=P1yDSg62Aydsdh04WBBuS57pYbpBu2tb&list=hardcover-fiction&published-date=2018-06-25\n"
     ]
    },
    {
     "name": "stderr",
     "output_type": "stream",
     "text": [
      "C:\\Users\\melan\\AppData\\Local\\Temp\\ipykernel_29428\\3652350664.py:25: FutureWarning: pandas.io.json.json_normalize is deprecated, use pandas.json_normalize instead.\n",
      "  books = json_normalize(results[\"results\"], record_path=[\"book_details\"], meta=[\"rank\", \"rank_last_week\", \"weeks_on_list\", \"asterisk\", \"dagger\"])\n"
     ]
    },
    {
     "name": "stdout",
     "output_type": "stream",
     "text": [
      "2018-06-18\n",
      "https://api.nytimes.com/svc/books/v3/lists.json?api-key=P1yDSg62Aydsdh04WBBuS57pYbpBu2tb&list=hardcover-fiction&published-date=2018-06-18\n"
     ]
    },
    {
     "name": "stderr",
     "output_type": "stream",
     "text": [
      "C:\\Users\\melan\\AppData\\Local\\Temp\\ipykernel_29428\\3652350664.py:25: FutureWarning: pandas.io.json.json_normalize is deprecated, use pandas.json_normalize instead.\n",
      "  books = json_normalize(results[\"results\"], record_path=[\"book_details\"], meta=[\"rank\", \"rank_last_week\", \"weeks_on_list\", \"asterisk\", \"dagger\"])\n"
     ]
    },
    {
     "name": "stdout",
     "output_type": "stream",
     "text": [
      "2018-06-11\n",
      "https://api.nytimes.com/svc/books/v3/lists.json?api-key=P1yDSg62Aydsdh04WBBuS57pYbpBu2tb&list=hardcover-fiction&published-date=2018-06-11\n"
     ]
    },
    {
     "name": "stderr",
     "output_type": "stream",
     "text": [
      "C:\\Users\\melan\\AppData\\Local\\Temp\\ipykernel_29428\\3652350664.py:25: FutureWarning: pandas.io.json.json_normalize is deprecated, use pandas.json_normalize instead.\n",
      "  books = json_normalize(results[\"results\"], record_path=[\"book_details\"], meta=[\"rank\", \"rank_last_week\", \"weeks_on_list\", \"asterisk\", \"dagger\"])\n"
     ]
    },
    {
     "name": "stdout",
     "output_type": "stream",
     "text": [
      "2018-06-04\n",
      "https://api.nytimes.com/svc/books/v3/lists.json?api-key=P1yDSg62Aydsdh04WBBuS57pYbpBu2tb&list=hardcover-fiction&published-date=2018-06-04\n"
     ]
    },
    {
     "name": "stderr",
     "output_type": "stream",
     "text": [
      "C:\\Users\\melan\\AppData\\Local\\Temp\\ipykernel_29428\\3652350664.py:25: FutureWarning: pandas.io.json.json_normalize is deprecated, use pandas.json_normalize instead.\n",
      "  books = json_normalize(results[\"results\"], record_path=[\"book_details\"], meta=[\"rank\", \"rank_last_week\", \"weeks_on_list\", \"asterisk\", \"dagger\"])\n"
     ]
    },
    {
     "name": "stdout",
     "output_type": "stream",
     "text": [
      "2018-05-28\n",
      "https://api.nytimes.com/svc/books/v3/lists.json?api-key=P1yDSg62Aydsdh04WBBuS57pYbpBu2tb&list=hardcover-fiction&published-date=2018-05-28\n"
     ]
    },
    {
     "name": "stderr",
     "output_type": "stream",
     "text": [
      "C:\\Users\\melan\\AppData\\Local\\Temp\\ipykernel_29428\\3652350664.py:25: FutureWarning: pandas.io.json.json_normalize is deprecated, use pandas.json_normalize instead.\n",
      "  books = json_normalize(results[\"results\"], record_path=[\"book_details\"], meta=[\"rank\", \"rank_last_week\", \"weeks_on_list\", \"asterisk\", \"dagger\"])\n"
     ]
    }
   ],
   "source": [
    "BOOKS_ROOT = \"https://api.nytimes.com/svc/books/v3/lists.json\"\n",
    "LIST = \"hardcover-fiction\"\n",
    "API_KEY = \"keys.json\"\n",
    "\n",
    "bestsellers = []\n",
    "weeks = []\n",
    "num_calls_to_make = 1\n",
    "weeks_per_call = 260  # Number of weeks to fetch per API call\n",
    "\n",
    "for call_num in range(num_calls_to_make):\n",
    "    ctr = call_num * weeks_per_call\n",
    "    start_date = datetime.date(2023, 5, 15) - datetime.timedelta(weeks=ctr)\n",
    "    end_date = start_date - datetime.timedelta(weeks=weeks_per_call)\n",
    "    \n",
    "    for i in range(weeks_per_call):\n",
    "        curr_date = start_date - datetime.timedelta(weeks=i)\n",
    "        print(curr_date)\n",
    "        url = \"%s?api-key=%s&list=%s&published-date=%s\" % (BOOKS_ROOT, API_KEY, LIST, curr_date)\n",
    "        url = url.strip()\n",
    "        print(url)\n",
    "        r = requests.get(url)\n",
    "        \n",
    "        if r.status_code == 200:\n",
    "            results = r.json()\n",
    "            books = json_normalize(results[\"results\"], record_path=[\"book_details\"], meta=[\"rank\", \"rank_last_week\", \"weeks_on_list\", \"asterisk\", \"dagger\"])\n",
    "            bestsellers.append(books)\n",
    "            weeks.append(str(curr_date))\n",
    "        else:\n",
    "            print(\"API call did not work!\")\n",
    "            print(r)\n",
    "        \n",
    "        time.sleep(15)\n"
   ]
  },
  {
   "cell_type": "code",
   "execution_count": 58,
   "metadata": {},
   "outputs": [],
   "source": [
    "hardcover1 = pd.concat(bestsellers)\n"
   ]
  },
  {
   "cell_type": "code",
   "execution_count": 59,
   "metadata": {},
   "outputs": [
    {
     "data": {
      "text/html": [
       "<div>\n",
       "<style scoped>\n",
       "    .dataframe tbody tr th:only-of-type {\n",
       "        vertical-align: middle;\n",
       "    }\n",
       "\n",
       "    .dataframe tbody tr th {\n",
       "        vertical-align: top;\n",
       "    }\n",
       "\n",
       "    .dataframe thead th {\n",
       "        text-align: right;\n",
       "    }\n",
       "</style>\n",
       "<table border=\"1\" class=\"dataframe\">\n",
       "  <thead>\n",
       "    <tr style=\"text-align: right;\">\n",
       "      <th></th>\n",
       "      <th>title</th>\n",
       "      <th>description</th>\n",
       "      <th>contributor</th>\n",
       "      <th>author</th>\n",
       "      <th>contributor_note</th>\n",
       "      <th>price</th>\n",
       "      <th>age_group</th>\n",
       "      <th>publisher</th>\n",
       "      <th>primary_isbn13</th>\n",
       "      <th>primary_isbn10</th>\n",
       "      <th>rank</th>\n",
       "      <th>rank_last_week</th>\n",
       "      <th>weeks_on_list</th>\n",
       "      <th>asterisk</th>\n",
       "      <th>dagger</th>\n",
       "    </tr>\n",
       "  </thead>\n",
       "  <tbody>\n",
       "    <tr>\n",
       "      <th>0</th>\n",
       "      <td>HAPPY PLACE</td>\n",
       "      <td>A former couple pretend to be together for the...</td>\n",
       "      <td>by Emily Henry</td>\n",
       "      <td>Emily Henry</td>\n",
       "      <td></td>\n",
       "      <td>0.00</td>\n",
       "      <td></td>\n",
       "      <td>Berkley</td>\n",
       "      <td>9780593441275</td>\n",
       "      <td>0593441273</td>\n",
       "      <td>1</td>\n",
       "      <td>1</td>\n",
       "      <td>2</td>\n",
       "      <td>0</td>\n",
       "      <td>0</td>\n",
       "    </tr>\n",
       "    <tr>\n",
       "      <th>1</th>\n",
       "      <td>FOURTH WING</td>\n",
       "      <td>Violet Sorrengail is urged by the commanding g...</td>\n",
       "      <td>by Rebecca Yarros</td>\n",
       "      <td>Rebecca Yarros</td>\n",
       "      <td></td>\n",
       "      <td>0.00</td>\n",
       "      <td></td>\n",
       "      <td>Red Tower</td>\n",
       "      <td>9781649374042</td>\n",
       "      <td>1649374046</td>\n",
       "      <td>2</td>\n",
       "      <td>0</td>\n",
       "      <td>1</td>\n",
       "      <td>0</td>\n",
       "      <td>0</td>\n",
       "    </tr>\n",
       "    <tr>\n",
       "      <th>2</th>\n",
       "      <td>THE 23RD MIDNIGHT</td>\n",
       "      <td>The 23rd book in the Women’s Murder Club serie...</td>\n",
       "      <td>by James Patterson and Maxine Paetro</td>\n",
       "      <td>James Patterson and Maxine Paetro</td>\n",
       "      <td></td>\n",
       "      <td>0.00</td>\n",
       "      <td></td>\n",
       "      <td>Little, Brown</td>\n",
       "      <td>9780316402781</td>\n",
       "      <td>0316402788</td>\n",
       "      <td>3</td>\n",
       "      <td>0</td>\n",
       "      <td>1</td>\n",
       "      <td>0</td>\n",
       "      <td>0</td>\n",
       "    </tr>\n",
       "    <tr>\n",
       "      <th>3</th>\n",
       "      <td>THE COVENANT OF WATER</td>\n",
       "      <td>Three generations of a family living on South ...</td>\n",
       "      <td>by Abraham Verghese</td>\n",
       "      <td>Abraham Verghese</td>\n",
       "      <td></td>\n",
       "      <td>0.00</td>\n",
       "      <td></td>\n",
       "      <td>Grove</td>\n",
       "      <td>9780802162175</td>\n",
       "      <td>0802162177</td>\n",
       "      <td>4</td>\n",
       "      <td>0</td>\n",
       "      <td>1</td>\n",
       "      <td>0</td>\n",
       "      <td>0</td>\n",
       "    </tr>\n",
       "    <tr>\n",
       "      <th>4</th>\n",
       "      <td>LESSONS IN CHEMISTRY</td>\n",
       "      <td>A scientist and single mother living in Califo...</td>\n",
       "      <td>by Bonnie Garmus</td>\n",
       "      <td>Bonnie Garmus</td>\n",
       "      <td></td>\n",
       "      <td>0.00</td>\n",
       "      <td></td>\n",
       "      <td>Doubleday</td>\n",
       "      <td>9780385547345</td>\n",
       "      <td>038554734X</td>\n",
       "      <td>5</td>\n",
       "      <td>3</td>\n",
       "      <td>52</td>\n",
       "      <td>0</td>\n",
       "      <td>0</td>\n",
       "    </tr>\n",
       "  </tbody>\n",
       "</table>\n",
       "</div>"
      ],
      "text/plain": [
       "                   title                                        description  \\\n",
       "0            HAPPY PLACE  A former couple pretend to be together for the...   \n",
       "1            FOURTH WING  Violet Sorrengail is urged by the commanding g...   \n",
       "2      THE 23RD MIDNIGHT  The 23rd book in the Women’s Murder Club serie...   \n",
       "3  THE COVENANT OF WATER  Three generations of a family living on South ...   \n",
       "4   LESSONS IN CHEMISTRY  A scientist and single mother living in Califo...   \n",
       "\n",
       "                            contributor                             author  \\\n",
       "0                        by Emily Henry                        Emily Henry   \n",
       "1                     by Rebecca Yarros                     Rebecca Yarros   \n",
       "2  by James Patterson and Maxine Paetro  James Patterson and Maxine Paetro   \n",
       "3                   by Abraham Verghese                   Abraham Verghese   \n",
       "4                      by Bonnie Garmus                      Bonnie Garmus   \n",
       "\n",
       "  contributor_note price age_group      publisher primary_isbn13  \\\n",
       "0                   0.00                  Berkley  9780593441275   \n",
       "1                   0.00                Red Tower  9781649374042   \n",
       "2                   0.00            Little, Brown  9780316402781   \n",
       "3                   0.00                    Grove  9780802162175   \n",
       "4                   0.00                Doubleday  9780385547345   \n",
       "\n",
       "  primary_isbn10 rank rank_last_week weeks_on_list asterisk dagger  \n",
       "0     0593441273    1              1             2        0      0  \n",
       "1     1649374046    2              0             1        0      0  \n",
       "2     0316402788    3              0             1        0      0  \n",
       "3     0802162177    4              0             1        0      0  \n",
       "4     038554734X    5              3            52        0      0  "
      ]
     },
     "execution_count": 59,
     "metadata": {},
     "output_type": "execute_result"
    }
   ],
   "source": [
    "hardcover1.head()"
   ]
  },
  {
   "cell_type": "code",
   "execution_count": 61,
   "metadata": {},
   "outputs": [
    {
     "data": {
      "text/html": [
       "<div>\n",
       "<style scoped>\n",
       "    .dataframe tbody tr th:only-of-type {\n",
       "        vertical-align: middle;\n",
       "    }\n",
       "\n",
       "    .dataframe tbody tr th {\n",
       "        vertical-align: top;\n",
       "    }\n",
       "\n",
       "    .dataframe thead th {\n",
       "        text-align: right;\n",
       "    }\n",
       "</style>\n",
       "<table border=\"1\" class=\"dataframe\">\n",
       "  <thead>\n",
       "    <tr style=\"text-align: right;\">\n",
       "      <th></th>\n",
       "      <th>title</th>\n",
       "      <th>description</th>\n",
       "      <th>contributor</th>\n",
       "      <th>author</th>\n",
       "      <th>contributor_note</th>\n",
       "      <th>price</th>\n",
       "      <th>age_group</th>\n",
       "      <th>publisher</th>\n",
       "      <th>primary_isbn13</th>\n",
       "      <th>primary_isbn10</th>\n",
       "      <th>rank</th>\n",
       "      <th>rank_last_week</th>\n",
       "      <th>weeks_on_list</th>\n",
       "      <th>asterisk</th>\n",
       "      <th>dagger</th>\n",
       "    </tr>\n",
       "  </thead>\n",
       "  <tbody>\n",
       "    <tr>\n",
       "      <th>10</th>\n",
       "      <td>THE WOMAN IN THE WINDOW</td>\n",
       "      <td>A recluse who drinks heavily and takes prescri...</td>\n",
       "      <td>by A.J. Finn</td>\n",
       "      <td>A.J. Finn</td>\n",
       "      <td></td>\n",
       "      <td>0.00</td>\n",
       "      <td></td>\n",
       "      <td>Morrow</td>\n",
       "      <td>9780062678416</td>\n",
       "      <td>0062678418</td>\n",
       "      <td>11</td>\n",
       "      <td>11</td>\n",
       "      <td>20</td>\n",
       "      <td>0</td>\n",
       "      <td>0</td>\n",
       "    </tr>\n",
       "    <tr>\n",
       "      <th>11</th>\n",
       "      <td>THE GREAT ALONE</td>\n",
       "      <td>A former prisoner of war returns from Vietnam ...</td>\n",
       "      <td>by Kristin Hannah</td>\n",
       "      <td>Kristin Hannah</td>\n",
       "      <td></td>\n",
       "      <td>0.00</td>\n",
       "      <td></td>\n",
       "      <td>St. Martin's</td>\n",
       "      <td>9780312577230</td>\n",
       "      <td>0312577230</td>\n",
       "      <td>12</td>\n",
       "      <td>10</td>\n",
       "      <td>15</td>\n",
       "      <td>1</td>\n",
       "      <td>0</td>\n",
       "    </tr>\n",
       "    <tr>\n",
       "      <th>12</th>\n",
       "      <td>THE MARS ROOM</td>\n",
       "      <td>A woman is separated from her son when she beg...</td>\n",
       "      <td>by Rachel Kushner</td>\n",
       "      <td>Rachel Kushner</td>\n",
       "      <td></td>\n",
       "      <td>0.00</td>\n",
       "      <td></td>\n",
       "      <td>Scribner</td>\n",
       "      <td>9781476756554</td>\n",
       "      <td>1476756554</td>\n",
       "      <td>13</td>\n",
       "      <td>15</td>\n",
       "      <td>3</td>\n",
       "      <td>0</td>\n",
       "      <td>0</td>\n",
       "    </tr>\n",
       "    <tr>\n",
       "      <th>13</th>\n",
       "      <td>HOW TO WALK AWAY</td>\n",
       "      <td>Maggie Jacobsen’s life is turned upside down w...</td>\n",
       "      <td>by Katherine Center</td>\n",
       "      <td>Katherine Center</td>\n",
       "      <td></td>\n",
       "      <td>0.00</td>\n",
       "      <td></td>\n",
       "      <td>St. Martin's</td>\n",
       "      <td>9781250149060</td>\n",
       "      <td>1250149061</td>\n",
       "      <td>14</td>\n",
       "      <td>0</td>\n",
       "      <td>1</td>\n",
       "      <td>0</td>\n",
       "      <td>0</td>\n",
       "    </tr>\n",
       "    <tr>\n",
       "      <th>14</th>\n",
       "      <td>THE HELLFIRE CLUB</td>\n",
       "      <td>Charlie Marder, a World War II veteran and unl...</td>\n",
       "      <td>by Jake Tapper</td>\n",
       "      <td>Jake Tapper</td>\n",
       "      <td></td>\n",
       "      <td>0.00</td>\n",
       "      <td></td>\n",
       "      <td>Little, Brown</td>\n",
       "      <td>9780316472319</td>\n",
       "      <td>031647231X</td>\n",
       "      <td>15</td>\n",
       "      <td>9</td>\n",
       "      <td>4</td>\n",
       "      <td>0</td>\n",
       "      <td>0</td>\n",
       "    </tr>\n",
       "  </tbody>\n",
       "</table>\n",
       "</div>"
      ],
      "text/plain": [
       "                      title  \\\n",
       "10  THE WOMAN IN THE WINDOW   \n",
       "11          THE GREAT ALONE   \n",
       "12            THE MARS ROOM   \n",
       "13         HOW TO WALK AWAY   \n",
       "14        THE HELLFIRE CLUB   \n",
       "\n",
       "                                          description          contributor  \\\n",
       "10  A recluse who drinks heavily and takes prescri...         by A.J. Finn   \n",
       "11  A former prisoner of war returns from Vietnam ...    by Kristin Hannah   \n",
       "12  A woman is separated from her son when she beg...    by Rachel Kushner   \n",
       "13  Maggie Jacobsen’s life is turned upside down w...  by Katherine Center   \n",
       "14  Charlie Marder, a World War II veteran and unl...       by Jake Tapper   \n",
       "\n",
       "              author contributor_note price age_group      publisher  \\\n",
       "10         A.J. Finn                   0.00                   Morrow   \n",
       "11    Kristin Hannah                   0.00             St. Martin's   \n",
       "12    Rachel Kushner                   0.00                 Scribner   \n",
       "13  Katherine Center                   0.00             St. Martin's   \n",
       "14       Jake Tapper                   0.00            Little, Brown   \n",
       "\n",
       "   primary_isbn13 primary_isbn10 rank rank_last_week weeks_on_list asterisk  \\\n",
       "10  9780062678416     0062678418   11             11            20        0   \n",
       "11  9780312577230     0312577230   12             10            15        1   \n",
       "12  9781476756554     1476756554   13             15             3        0   \n",
       "13  9781250149060     1250149061   14              0             1        0   \n",
       "14  9780316472319     031647231X   15              9             4        0   \n",
       "\n",
       "   dagger  \n",
       "10      0  \n",
       "11      0  \n",
       "12      0  \n",
       "13      0  \n",
       "14      0  "
      ]
     },
     "execution_count": 61,
     "metadata": {},
     "output_type": "execute_result"
    }
   ],
   "source": [
    "hardcover1.tail()"
   ]
  },
  {
   "cell_type": "code",
   "execution_count": 62,
   "metadata": {},
   "outputs": [
    {
     "data": {
      "text/plain": [
       "3900"
      ]
     },
     "execution_count": 62,
     "metadata": {},
     "output_type": "execute_result"
    }
   ],
   "source": [
    "len(hardcover1)"
   ]
  },
  {
   "cell_type": "code",
   "execution_count": 63,
   "metadata": {},
   "outputs": [
    {
     "data": {
      "text/plain": [
       "(3900, 15)"
      ]
     },
     "execution_count": 63,
     "metadata": {},
     "output_type": "execute_result"
    }
   ],
   "source": [
    "hardcover1.shape"
   ]
  },
  {
   "cell_type": "code",
   "execution_count": 64,
   "metadata": {},
   "outputs": [
    {
     "data": {
      "text/plain": [
       "260"
      ]
     },
     "execution_count": 64,
     "metadata": {},
     "output_type": "execute_result"
    }
   ],
   "source": [
    "len(weeks)"
   ]
  },
  {
   "cell_type": "code",
   "execution_count": 65,
   "metadata": {},
   "outputs": [],
   "source": [
    "#repeat weeks 16 times to add to df\n",
    "#https://www.pythonforbeginners.com/lists/repeat-each-element-in-a-list-in-python\n",
    "k = 15\n",
    "repeated_weeks = []\n",
    "for element in weeks:\n",
    "    for i in range(k):\n",
    "       repeated_weeks.append(element)"
   ]
  },
  {
   "cell_type": "code",
   "execution_count": 66,
   "metadata": {},
   "outputs": [
    {
     "data": {
      "text/plain": [
       "3900"
      ]
     },
     "execution_count": 66,
     "metadata": {},
     "output_type": "execute_result"
    }
   ],
   "source": [
    "len(repeated_weeks)"
   ]
  },
  {
   "cell_type": "code",
   "execution_count": 67,
   "metadata": {},
   "outputs": [],
   "source": [
    "hardcover1.to_csv(\"C:\\\\Users\\\\melan\\\\Documents\\\\DA8\\\\Projects\\\\capstone\\\\2018to2023_hardcover.csv\", index=False)"
   ]
  },
  {
   "cell_type": "code",
   "execution_count": 68,
   "metadata": {},
   "outputs": [
    {
     "data": {
      "text/html": [
       "<div>\n",
       "<style scoped>\n",
       "    .dataframe tbody tr th:only-of-type {\n",
       "        vertical-align: middle;\n",
       "    }\n",
       "\n",
       "    .dataframe tbody tr th {\n",
       "        vertical-align: top;\n",
       "    }\n",
       "\n",
       "    .dataframe thead th {\n",
       "        text-align: right;\n",
       "    }\n",
       "</style>\n",
       "<table border=\"1\" class=\"dataframe\">\n",
       "  <thead>\n",
       "    <tr style=\"text-align: right;\">\n",
       "      <th></th>\n",
       "      <th>title</th>\n",
       "      <th>description</th>\n",
       "      <th>contributor</th>\n",
       "      <th>author</th>\n",
       "      <th>contributor_note</th>\n",
       "      <th>price</th>\n",
       "      <th>age_group</th>\n",
       "      <th>publisher</th>\n",
       "      <th>primary_isbn13</th>\n",
       "      <th>primary_isbn10</th>\n",
       "      <th>rank</th>\n",
       "      <th>rank_last_week</th>\n",
       "      <th>weeks_on_list</th>\n",
       "      <th>asterisk</th>\n",
       "      <th>dagger</th>\n",
       "      <th>week</th>\n",
       "    </tr>\n",
       "  </thead>\n",
       "  <tbody>\n",
       "    <tr>\n",
       "      <th>10</th>\n",
       "      <td>LITTLE FIRES EVERYWHERE</td>\n",
       "      <td>An artist upends a quiet town outside Cleveland.</td>\n",
       "      <td>by Celeste Ng</td>\n",
       "      <td>Celeste Ng</td>\n",
       "      <td></td>\n",
       "      <td>0.00</td>\n",
       "      <td></td>\n",
       "      <td>Penguin Press</td>\n",
       "      <td>9780735224292</td>\n",
       "      <td>0735224293</td>\n",
       "      <td>11</td>\n",
       "      <td>8</td>\n",
       "      <td>36</td>\n",
       "      <td>0</td>\n",
       "      <td>0</td>\n",
       "      <td>2018-06-04</td>\n",
       "    </tr>\n",
       "    <tr>\n",
       "      <th>11</th>\n",
       "      <td>THE GREAT ALONE</td>\n",
       "      <td>A former prisoner of war returns from Vietnam ...</td>\n",
       "      <td>by Kristin Hannah</td>\n",
       "      <td>Kristin Hannah</td>\n",
       "      <td></td>\n",
       "      <td>0.00</td>\n",
       "      <td></td>\n",
       "      <td>St. Martin's</td>\n",
       "      <td>9780312577230</td>\n",
       "      <td>0312577230</td>\n",
       "      <td>12</td>\n",
       "      <td>12</td>\n",
       "      <td>16</td>\n",
       "      <td>0</td>\n",
       "      <td>0</td>\n",
       "      <td>2018-06-04</td>\n",
       "    </tr>\n",
       "    <tr>\n",
       "      <th>12</th>\n",
       "      <td>THE WOMAN IN THE WINDOW</td>\n",
       "      <td>A recluse who drinks heavily and takes prescri...</td>\n",
       "      <td>by A.J. Finn</td>\n",
       "      <td>A.J. Finn</td>\n",
       "      <td></td>\n",
       "      <td>0.00</td>\n",
       "      <td></td>\n",
       "      <td>Morrow</td>\n",
       "      <td>9780062678416</td>\n",
       "      <td>0062678418</td>\n",
       "      <td>13</td>\n",
       "      <td>11</td>\n",
       "      <td>21</td>\n",
       "      <td>1</td>\n",
       "      <td>0</td>\n",
       "      <td>2018-06-04</td>\n",
       "    </tr>\n",
       "    <tr>\n",
       "      <th>13</th>\n",
       "      <td>THE CROOKED STAIRCASE</td>\n",
       "      <td>The rogue F.B.I. agent Jane Hawk is on the lam...</td>\n",
       "      <td>by Dean Koontz</td>\n",
       "      <td>Dean Koontz</td>\n",
       "      <td></td>\n",
       "      <td>0.00</td>\n",
       "      <td></td>\n",
       "      <td>Bantam</td>\n",
       "      <td>9780525483427</td>\n",
       "      <td>052548342X</td>\n",
       "      <td>14</td>\n",
       "      <td>10</td>\n",
       "      <td>3</td>\n",
       "      <td>0</td>\n",
       "      <td>0</td>\n",
       "      <td>2018-06-04</td>\n",
       "    </tr>\n",
       "    <tr>\n",
       "      <th>14</th>\n",
       "      <td>THE FAVORITE SISTER</td>\n",
       "      <td>The more popular of a pair of sisters cast on ...</td>\n",
       "      <td>by Jessica Knoll</td>\n",
       "      <td>Jessica Knoll</td>\n",
       "      <td></td>\n",
       "      <td>0.00</td>\n",
       "      <td></td>\n",
       "      <td>Simon &amp; Schuster</td>\n",
       "      <td>9781501153198</td>\n",
       "      <td>1501153196</td>\n",
       "      <td>15</td>\n",
       "      <td>0</td>\n",
       "      <td>1</td>\n",
       "      <td>0</td>\n",
       "      <td>0</td>\n",
       "      <td>2018-06-04</td>\n",
       "    </tr>\n",
       "    <tr>\n",
       "      <th>0</th>\n",
       "      <td>THE CAST</td>\n",
       "      <td>A magazine columnist meets an array of Hollywo...</td>\n",
       "      <td>by Danielle Steel</td>\n",
       "      <td>Danielle Steel</td>\n",
       "      <td></td>\n",
       "      <td>0.00</td>\n",
       "      <td></td>\n",
       "      <td>Delacorte</td>\n",
       "      <td>9781101884034</td>\n",
       "      <td>1101884037</td>\n",
       "      <td>1</td>\n",
       "      <td>0</td>\n",
       "      <td>1</td>\n",
       "      <td>0</td>\n",
       "      <td>0</td>\n",
       "      <td>2018-05-28</td>\n",
       "    </tr>\n",
       "    <tr>\n",
       "      <th>1</th>\n",
       "      <td>THE 17TH SUSPECT</td>\n",
       "      <td>The latest installment in the Women’s Murder C...</td>\n",
       "      <td>by James Patterson and Maxine Paetro</td>\n",
       "      <td>James Patterson and Maxine Paetro</td>\n",
       "      <td></td>\n",
       "      <td>0.00</td>\n",
       "      <td></td>\n",
       "      <td>Little, Brown</td>\n",
       "      <td>9780316274043</td>\n",
       "      <td>0316274046</td>\n",
       "      <td>2</td>\n",
       "      <td>1</td>\n",
       "      <td>3</td>\n",
       "      <td>0</td>\n",
       "      <td>0</td>\n",
       "      <td>2018-05-28</td>\n",
       "    </tr>\n",
       "    <tr>\n",
       "      <th>2</th>\n",
       "      <td>THE FALLEN</td>\n",
       "      <td>Amos Decker, known as the Memory Man, puts his...</td>\n",
       "      <td>by David Baldacci</td>\n",
       "      <td>David Baldacci</td>\n",
       "      <td></td>\n",
       "      <td>0.00</td>\n",
       "      <td></td>\n",
       "      <td>Grand Central</td>\n",
       "      <td>9781538761397</td>\n",
       "      <td>1538761394</td>\n",
       "      <td>3</td>\n",
       "      <td>2</td>\n",
       "      <td>5</td>\n",
       "      <td>0</td>\n",
       "      <td>0</td>\n",
       "      <td>2018-05-28</td>\n",
       "    </tr>\n",
       "    <tr>\n",
       "      <th>3</th>\n",
       "      <td>BY INVITATION ONLY</td>\n",
       "      <td>Two families are brought together when the dau...</td>\n",
       "      <td>by Dorothea Benton Frank</td>\n",
       "      <td>Dorothea Benton Frank</td>\n",
       "      <td></td>\n",
       "      <td>0.00</td>\n",
       "      <td></td>\n",
       "      <td>Morrow</td>\n",
       "      <td>9780062390820</td>\n",
       "      <td>0062390821</td>\n",
       "      <td>4</td>\n",
       "      <td>0</td>\n",
       "      <td>1</td>\n",
       "      <td>0</td>\n",
       "      <td>0</td>\n",
       "      <td>2018-05-28</td>\n",
       "    </tr>\n",
       "    <tr>\n",
       "      <th>4</th>\n",
       "      <td>THE HIGH TIDE CLUB</td>\n",
       "      <td>An eccentric millionaire enlists the attorney ...</td>\n",
       "      <td>by Mary Kay Andrews</td>\n",
       "      <td>Mary Kay Andrews</td>\n",
       "      <td></td>\n",
       "      <td>0.00</td>\n",
       "      <td></td>\n",
       "      <td>St. Martin's</td>\n",
       "      <td>9781250126061</td>\n",
       "      <td>1250126061</td>\n",
       "      <td>5</td>\n",
       "      <td>3</td>\n",
       "      <td>2</td>\n",
       "      <td>0</td>\n",
       "      <td>0</td>\n",
       "      <td>2018-05-28</td>\n",
       "    </tr>\n",
       "    <tr>\n",
       "      <th>5</th>\n",
       "      <td>TWISTED PREY</td>\n",
       "      <td>The 28th book in the Prey series. A federal ma...</td>\n",
       "      <td>by John Sandford</td>\n",
       "      <td>John Sandford</td>\n",
       "      <td></td>\n",
       "      <td>0.00</td>\n",
       "      <td></td>\n",
       "      <td>Putnam</td>\n",
       "      <td>9780735217355</td>\n",
       "      <td>0735217351</td>\n",
       "      <td>6</td>\n",
       "      <td>4</td>\n",
       "      <td>4</td>\n",
       "      <td>0</td>\n",
       "      <td>0</td>\n",
       "      <td>2018-05-28</td>\n",
       "    </tr>\n",
       "    <tr>\n",
       "      <th>6</th>\n",
       "      <td>BEFORE WE WERE YOURS</td>\n",
       "      <td>A South Carolina lawyer learns about the quest...</td>\n",
       "      <td>by Lisa Wingate</td>\n",
       "      <td>Lisa Wingate</td>\n",
       "      <td></td>\n",
       "      <td>0.00</td>\n",
       "      <td></td>\n",
       "      <td>Ballantine</td>\n",
       "      <td>9780425284681</td>\n",
       "      <td>0425284689</td>\n",
       "      <td>7</td>\n",
       "      <td>7</td>\n",
       "      <td>35</td>\n",
       "      <td>0</td>\n",
       "      <td>0</td>\n",
       "      <td>2018-05-28</td>\n",
       "    </tr>\n",
       "    <tr>\n",
       "      <th>7</th>\n",
       "      <td>LITTLE FIRES EVERYWHERE</td>\n",
       "      <td>An artist upends a quiet town outside Cleveland.</td>\n",
       "      <td>by Celeste Ng</td>\n",
       "      <td>Celeste Ng</td>\n",
       "      <td></td>\n",
       "      <td>0.00</td>\n",
       "      <td></td>\n",
       "      <td>Penguin Press</td>\n",
       "      <td>9780735224292</td>\n",
       "      <td>0735224293</td>\n",
       "      <td>8</td>\n",
       "      <td>8</td>\n",
       "      <td>35</td>\n",
       "      <td>0</td>\n",
       "      <td>0</td>\n",
       "      <td>2018-05-28</td>\n",
       "    </tr>\n",
       "    <tr>\n",
       "      <th>8</th>\n",
       "      <td>WARLIGHT</td>\n",
       "      <td>In Britain after World War II, a pair of teena...</td>\n",
       "      <td>by Michael Ondaatje</td>\n",
       "      <td>Michael Ondaatje</td>\n",
       "      <td></td>\n",
       "      <td>0.00</td>\n",
       "      <td></td>\n",
       "      <td>Knopf</td>\n",
       "      <td>9780525521198</td>\n",
       "      <td>0525521194</td>\n",
       "      <td>9</td>\n",
       "      <td>6</td>\n",
       "      <td>2</td>\n",
       "      <td>0</td>\n",
       "      <td>0</td>\n",
       "      <td>2018-05-28</td>\n",
       "    </tr>\n",
       "    <tr>\n",
       "      <th>9</th>\n",
       "      <td>THE CROOKED STAIRCASE</td>\n",
       "      <td>The rogue F.B.I. agent Jane Hawk is on the lam...</td>\n",
       "      <td>by Dean Koontz</td>\n",
       "      <td>Dean Koontz</td>\n",
       "      <td></td>\n",
       "      <td>0.00</td>\n",
       "      <td></td>\n",
       "      <td>Bantam</td>\n",
       "      <td>9780525483427</td>\n",
       "      <td>052548342X</td>\n",
       "      <td>10</td>\n",
       "      <td>5</td>\n",
       "      <td>2</td>\n",
       "      <td>0</td>\n",
       "      <td>0</td>\n",
       "      <td>2018-05-28</td>\n",
       "    </tr>\n",
       "    <tr>\n",
       "      <th>10</th>\n",
       "      <td>THE WOMAN IN THE WINDOW</td>\n",
       "      <td>A recluse who drinks heavily and takes prescri...</td>\n",
       "      <td>by A.J. Finn</td>\n",
       "      <td>A.J. Finn</td>\n",
       "      <td></td>\n",
       "      <td>0.00</td>\n",
       "      <td></td>\n",
       "      <td>Morrow</td>\n",
       "      <td>9780062678416</td>\n",
       "      <td>0062678418</td>\n",
       "      <td>11</td>\n",
       "      <td>11</td>\n",
       "      <td>20</td>\n",
       "      <td>0</td>\n",
       "      <td>0</td>\n",
       "      <td>2018-05-28</td>\n",
       "    </tr>\n",
       "    <tr>\n",
       "      <th>11</th>\n",
       "      <td>THE GREAT ALONE</td>\n",
       "      <td>A former prisoner of war returns from Vietnam ...</td>\n",
       "      <td>by Kristin Hannah</td>\n",
       "      <td>Kristin Hannah</td>\n",
       "      <td></td>\n",
       "      <td>0.00</td>\n",
       "      <td></td>\n",
       "      <td>St. Martin's</td>\n",
       "      <td>9780312577230</td>\n",
       "      <td>0312577230</td>\n",
       "      <td>12</td>\n",
       "      <td>10</td>\n",
       "      <td>15</td>\n",
       "      <td>1</td>\n",
       "      <td>0</td>\n",
       "      <td>2018-05-28</td>\n",
       "    </tr>\n",
       "    <tr>\n",
       "      <th>12</th>\n",
       "      <td>THE MARS ROOM</td>\n",
       "      <td>A woman is separated from her son when she beg...</td>\n",
       "      <td>by Rachel Kushner</td>\n",
       "      <td>Rachel Kushner</td>\n",
       "      <td></td>\n",
       "      <td>0.00</td>\n",
       "      <td></td>\n",
       "      <td>Scribner</td>\n",
       "      <td>9781476756554</td>\n",
       "      <td>1476756554</td>\n",
       "      <td>13</td>\n",
       "      <td>15</td>\n",
       "      <td>3</td>\n",
       "      <td>0</td>\n",
       "      <td>0</td>\n",
       "      <td>2018-05-28</td>\n",
       "    </tr>\n",
       "    <tr>\n",
       "      <th>13</th>\n",
       "      <td>HOW TO WALK AWAY</td>\n",
       "      <td>Maggie Jacobsen’s life is turned upside down w...</td>\n",
       "      <td>by Katherine Center</td>\n",
       "      <td>Katherine Center</td>\n",
       "      <td></td>\n",
       "      <td>0.00</td>\n",
       "      <td></td>\n",
       "      <td>St. Martin's</td>\n",
       "      <td>9781250149060</td>\n",
       "      <td>1250149061</td>\n",
       "      <td>14</td>\n",
       "      <td>0</td>\n",
       "      <td>1</td>\n",
       "      <td>0</td>\n",
       "      <td>0</td>\n",
       "      <td>2018-05-28</td>\n",
       "    </tr>\n",
       "    <tr>\n",
       "      <th>14</th>\n",
       "      <td>THE HELLFIRE CLUB</td>\n",
       "      <td>Charlie Marder, a World War II veteran and unl...</td>\n",
       "      <td>by Jake Tapper</td>\n",
       "      <td>Jake Tapper</td>\n",
       "      <td></td>\n",
       "      <td>0.00</td>\n",
       "      <td></td>\n",
       "      <td>Little, Brown</td>\n",
       "      <td>9780316472319</td>\n",
       "      <td>031647231X</td>\n",
       "      <td>15</td>\n",
       "      <td>9</td>\n",
       "      <td>4</td>\n",
       "      <td>0</td>\n",
       "      <td>0</td>\n",
       "      <td>2018-05-28</td>\n",
       "    </tr>\n",
       "  </tbody>\n",
       "</table>\n",
       "</div>"
      ],
      "text/plain": [
       "                      title  \\\n",
       "10  LITTLE FIRES EVERYWHERE   \n",
       "11          THE GREAT ALONE   \n",
       "12  THE WOMAN IN THE WINDOW   \n",
       "13    THE CROOKED STAIRCASE   \n",
       "14      THE FAVORITE SISTER   \n",
       "0                  THE CAST   \n",
       "1          THE 17TH SUSPECT   \n",
       "2                THE FALLEN   \n",
       "3        BY INVITATION ONLY   \n",
       "4        THE HIGH TIDE CLUB   \n",
       "5              TWISTED PREY   \n",
       "6      BEFORE WE WERE YOURS   \n",
       "7   LITTLE FIRES EVERYWHERE   \n",
       "8                  WARLIGHT   \n",
       "9     THE CROOKED STAIRCASE   \n",
       "10  THE WOMAN IN THE WINDOW   \n",
       "11          THE GREAT ALONE   \n",
       "12            THE MARS ROOM   \n",
       "13         HOW TO WALK AWAY   \n",
       "14        THE HELLFIRE CLUB   \n",
       "\n",
       "                                          description  \\\n",
       "10   An artist upends a quiet town outside Cleveland.   \n",
       "11  A former prisoner of war returns from Vietnam ...   \n",
       "12  A recluse who drinks heavily and takes prescri...   \n",
       "13  The rogue F.B.I. agent Jane Hawk is on the lam...   \n",
       "14  The more popular of a pair of sisters cast on ...   \n",
       "0   A magazine columnist meets an array of Hollywo...   \n",
       "1   The latest installment in the Women’s Murder C...   \n",
       "2   Amos Decker, known as the Memory Man, puts his...   \n",
       "3   Two families are brought together when the dau...   \n",
       "4   An eccentric millionaire enlists the attorney ...   \n",
       "5   The 28th book in the Prey series. A federal ma...   \n",
       "6   A South Carolina lawyer learns about the quest...   \n",
       "7    An artist upends a quiet town outside Cleveland.   \n",
       "8   In Britain after World War II, a pair of teena...   \n",
       "9   The rogue F.B.I. agent Jane Hawk is on the lam...   \n",
       "10  A recluse who drinks heavily and takes prescri...   \n",
       "11  A former prisoner of war returns from Vietnam ...   \n",
       "12  A woman is separated from her son when she beg...   \n",
       "13  Maggie Jacobsen’s life is turned upside down w...   \n",
       "14  Charlie Marder, a World War II veteran and unl...   \n",
       "\n",
       "                             contributor                             author  \\\n",
       "10                         by Celeste Ng                         Celeste Ng   \n",
       "11                     by Kristin Hannah                     Kristin Hannah   \n",
       "12                          by A.J. Finn                          A.J. Finn   \n",
       "13                        by Dean Koontz                        Dean Koontz   \n",
       "14                      by Jessica Knoll                      Jessica Knoll   \n",
       "0                      by Danielle Steel                     Danielle Steel   \n",
       "1   by James Patterson and Maxine Paetro  James Patterson and Maxine Paetro   \n",
       "2                      by David Baldacci                     David Baldacci   \n",
       "3               by Dorothea Benton Frank              Dorothea Benton Frank   \n",
       "4                    by Mary Kay Andrews                   Mary Kay Andrews   \n",
       "5                       by John Sandford                      John Sandford   \n",
       "6                        by Lisa Wingate                       Lisa Wingate   \n",
       "7                          by Celeste Ng                         Celeste Ng   \n",
       "8                    by Michael Ondaatje                   Michael Ondaatje   \n",
       "9                         by Dean Koontz                        Dean Koontz   \n",
       "10                          by A.J. Finn                          A.J. Finn   \n",
       "11                     by Kristin Hannah                     Kristin Hannah   \n",
       "12                     by Rachel Kushner                     Rachel Kushner   \n",
       "13                   by Katherine Center                   Katherine Center   \n",
       "14                        by Jake Tapper                        Jake Tapper   \n",
       "\n",
       "   contributor_note price age_group         publisher primary_isbn13  \\\n",
       "10                   0.00               Penguin Press  9780735224292   \n",
       "11                   0.00                St. Martin's  9780312577230   \n",
       "12                   0.00                      Morrow  9780062678416   \n",
       "13                   0.00                      Bantam  9780525483427   \n",
       "14                   0.00            Simon & Schuster  9781501153198   \n",
       "0                    0.00                   Delacorte  9781101884034   \n",
       "1                    0.00               Little, Brown  9780316274043   \n",
       "2                    0.00               Grand Central  9781538761397   \n",
       "3                    0.00                      Morrow  9780062390820   \n",
       "4                    0.00                St. Martin's  9781250126061   \n",
       "5                    0.00                      Putnam  9780735217355   \n",
       "6                    0.00                  Ballantine  9780425284681   \n",
       "7                    0.00               Penguin Press  9780735224292   \n",
       "8                    0.00                       Knopf  9780525521198   \n",
       "9                    0.00                      Bantam  9780525483427   \n",
       "10                   0.00                      Morrow  9780062678416   \n",
       "11                   0.00                St. Martin's  9780312577230   \n",
       "12                   0.00                    Scribner  9781476756554   \n",
       "13                   0.00                St. Martin's  9781250149060   \n",
       "14                   0.00               Little, Brown  9780316472319   \n",
       "\n",
       "   primary_isbn10 rank rank_last_week weeks_on_list asterisk dagger  \\\n",
       "10     0735224293   11              8            36        0      0   \n",
       "11     0312577230   12             12            16        0      0   \n",
       "12     0062678418   13             11            21        1      0   \n",
       "13     052548342X   14             10             3        0      0   \n",
       "14     1501153196   15              0             1        0      0   \n",
       "0      1101884037    1              0             1        0      0   \n",
       "1      0316274046    2              1             3        0      0   \n",
       "2      1538761394    3              2             5        0      0   \n",
       "3      0062390821    4              0             1        0      0   \n",
       "4      1250126061    5              3             2        0      0   \n",
       "5      0735217351    6              4             4        0      0   \n",
       "6      0425284689    7              7            35        0      0   \n",
       "7      0735224293    8              8            35        0      0   \n",
       "8      0525521194    9              6             2        0      0   \n",
       "9      052548342X   10              5             2        0      0   \n",
       "10     0062678418   11             11            20        0      0   \n",
       "11     0312577230   12             10            15        1      0   \n",
       "12     1476756554   13             15             3        0      0   \n",
       "13     1250149061   14              0             1        0      0   \n",
       "14     031647231X   15              9             4        0      0   \n",
       "\n",
       "          week  \n",
       "10  2018-06-04  \n",
       "11  2018-06-04  \n",
       "12  2018-06-04  \n",
       "13  2018-06-04  \n",
       "14  2018-06-04  \n",
       "0   2018-05-28  \n",
       "1   2018-05-28  \n",
       "2   2018-05-28  \n",
       "3   2018-05-28  \n",
       "4   2018-05-28  \n",
       "5   2018-05-28  \n",
       "6   2018-05-28  \n",
       "7   2018-05-28  \n",
       "8   2018-05-28  \n",
       "9   2018-05-28  \n",
       "10  2018-05-28  \n",
       "11  2018-05-28  \n",
       "12  2018-05-28  \n",
       "13  2018-05-28  \n",
       "14  2018-05-28  "
      ]
     },
     "execution_count": 68,
     "metadata": {},
     "output_type": "execute_result"
    }
   ],
   "source": [
    "#add a week column\n",
    "hardcover1['week'] = repeated_weeks\n",
    "\n",
    "#and check to make sure it worked correctly\n",
    "hardcover1.tail(20)"
   ]
  },
  {
   "cell_type": "code",
   "execution_count": 69,
   "metadata": {},
   "outputs": [
    {
     "data": {
      "text/plain": [
       "3900"
      ]
     },
     "execution_count": 69,
     "metadata": {},
     "output_type": "execute_result"
    }
   ],
   "source": [
    "#and a column indicating which list these come from\n",
    "k2 = 3900\n",
    "weekly_fiction_list = ['Hardcover Fiction']\n",
    "nyt_list_weekly_fiction = []\n",
    "\n",
    "for element in weekly_fiction_list:\n",
    "    for i in range(k2):\n",
    "        nyt_list_weekly_fiction.append(element)\n",
    "\n",
    "len(nyt_list_weekly_fiction)"
   ]
  },
  {
   "cell_type": "code",
   "execution_count": 70,
   "metadata": {},
   "outputs": [
    {
     "data": {
      "text/html": [
       "<div>\n",
       "<style scoped>\n",
       "    .dataframe tbody tr th:only-of-type {\n",
       "        vertical-align: middle;\n",
       "    }\n",
       "\n",
       "    .dataframe tbody tr th {\n",
       "        vertical-align: top;\n",
       "    }\n",
       "\n",
       "    .dataframe thead th {\n",
       "        text-align: right;\n",
       "    }\n",
       "</style>\n",
       "<table border=\"1\" class=\"dataframe\">\n",
       "  <thead>\n",
       "    <tr style=\"text-align: right;\">\n",
       "      <th></th>\n",
       "      <th>title</th>\n",
       "      <th>description</th>\n",
       "      <th>contributor</th>\n",
       "      <th>author</th>\n",
       "      <th>contributor_note</th>\n",
       "      <th>price</th>\n",
       "      <th>age_group</th>\n",
       "      <th>publisher</th>\n",
       "      <th>primary_isbn13</th>\n",
       "      <th>primary_isbn10</th>\n",
       "      <th>rank</th>\n",
       "      <th>rank_last_week</th>\n",
       "      <th>weeks_on_list</th>\n",
       "      <th>asterisk</th>\n",
       "      <th>dagger</th>\n",
       "      <th>week</th>\n",
       "      <th>nyt_list</th>\n",
       "    </tr>\n",
       "  </thead>\n",
       "  <tbody>\n",
       "    <tr>\n",
       "      <th>10</th>\n",
       "      <td>LITTLE FIRES EVERYWHERE</td>\n",
       "      <td>An artist upends a quiet town outside Cleveland.</td>\n",
       "      <td>by Celeste Ng</td>\n",
       "      <td>Celeste Ng</td>\n",
       "      <td></td>\n",
       "      <td>0.00</td>\n",
       "      <td></td>\n",
       "      <td>Penguin Press</td>\n",
       "      <td>9780735224292</td>\n",
       "      <td>0735224293</td>\n",
       "      <td>11</td>\n",
       "      <td>8</td>\n",
       "      <td>36</td>\n",
       "      <td>0</td>\n",
       "      <td>0</td>\n",
       "      <td>2018-06-04</td>\n",
       "      <td>Hardcover Fiction</td>\n",
       "    </tr>\n",
       "    <tr>\n",
       "      <th>11</th>\n",
       "      <td>THE GREAT ALONE</td>\n",
       "      <td>A former prisoner of war returns from Vietnam ...</td>\n",
       "      <td>by Kristin Hannah</td>\n",
       "      <td>Kristin Hannah</td>\n",
       "      <td></td>\n",
       "      <td>0.00</td>\n",
       "      <td></td>\n",
       "      <td>St. Martin's</td>\n",
       "      <td>9780312577230</td>\n",
       "      <td>0312577230</td>\n",
       "      <td>12</td>\n",
       "      <td>12</td>\n",
       "      <td>16</td>\n",
       "      <td>0</td>\n",
       "      <td>0</td>\n",
       "      <td>2018-06-04</td>\n",
       "      <td>Hardcover Fiction</td>\n",
       "    </tr>\n",
       "    <tr>\n",
       "      <th>12</th>\n",
       "      <td>THE WOMAN IN THE WINDOW</td>\n",
       "      <td>A recluse who drinks heavily and takes prescri...</td>\n",
       "      <td>by A.J. Finn</td>\n",
       "      <td>A.J. Finn</td>\n",
       "      <td></td>\n",
       "      <td>0.00</td>\n",
       "      <td></td>\n",
       "      <td>Morrow</td>\n",
       "      <td>9780062678416</td>\n",
       "      <td>0062678418</td>\n",
       "      <td>13</td>\n",
       "      <td>11</td>\n",
       "      <td>21</td>\n",
       "      <td>1</td>\n",
       "      <td>0</td>\n",
       "      <td>2018-06-04</td>\n",
       "      <td>Hardcover Fiction</td>\n",
       "    </tr>\n",
       "    <tr>\n",
       "      <th>13</th>\n",
       "      <td>THE CROOKED STAIRCASE</td>\n",
       "      <td>The rogue F.B.I. agent Jane Hawk is on the lam...</td>\n",
       "      <td>by Dean Koontz</td>\n",
       "      <td>Dean Koontz</td>\n",
       "      <td></td>\n",
       "      <td>0.00</td>\n",
       "      <td></td>\n",
       "      <td>Bantam</td>\n",
       "      <td>9780525483427</td>\n",
       "      <td>052548342X</td>\n",
       "      <td>14</td>\n",
       "      <td>10</td>\n",
       "      <td>3</td>\n",
       "      <td>0</td>\n",
       "      <td>0</td>\n",
       "      <td>2018-06-04</td>\n",
       "      <td>Hardcover Fiction</td>\n",
       "    </tr>\n",
       "    <tr>\n",
       "      <th>14</th>\n",
       "      <td>THE FAVORITE SISTER</td>\n",
       "      <td>The more popular of a pair of sisters cast on ...</td>\n",
       "      <td>by Jessica Knoll</td>\n",
       "      <td>Jessica Knoll</td>\n",
       "      <td></td>\n",
       "      <td>0.00</td>\n",
       "      <td></td>\n",
       "      <td>Simon &amp; Schuster</td>\n",
       "      <td>9781501153198</td>\n",
       "      <td>1501153196</td>\n",
       "      <td>15</td>\n",
       "      <td>0</td>\n",
       "      <td>1</td>\n",
       "      <td>0</td>\n",
       "      <td>0</td>\n",
       "      <td>2018-06-04</td>\n",
       "      <td>Hardcover Fiction</td>\n",
       "    </tr>\n",
       "    <tr>\n",
       "      <th>0</th>\n",
       "      <td>THE CAST</td>\n",
       "      <td>A magazine columnist meets an array of Hollywo...</td>\n",
       "      <td>by Danielle Steel</td>\n",
       "      <td>Danielle Steel</td>\n",
       "      <td></td>\n",
       "      <td>0.00</td>\n",
       "      <td></td>\n",
       "      <td>Delacorte</td>\n",
       "      <td>9781101884034</td>\n",
       "      <td>1101884037</td>\n",
       "      <td>1</td>\n",
       "      <td>0</td>\n",
       "      <td>1</td>\n",
       "      <td>0</td>\n",
       "      <td>0</td>\n",
       "      <td>2018-05-28</td>\n",
       "      <td>Hardcover Fiction</td>\n",
       "    </tr>\n",
       "    <tr>\n",
       "      <th>1</th>\n",
       "      <td>THE 17TH SUSPECT</td>\n",
       "      <td>The latest installment in the Women’s Murder C...</td>\n",
       "      <td>by James Patterson and Maxine Paetro</td>\n",
       "      <td>James Patterson and Maxine Paetro</td>\n",
       "      <td></td>\n",
       "      <td>0.00</td>\n",
       "      <td></td>\n",
       "      <td>Little, Brown</td>\n",
       "      <td>9780316274043</td>\n",
       "      <td>0316274046</td>\n",
       "      <td>2</td>\n",
       "      <td>1</td>\n",
       "      <td>3</td>\n",
       "      <td>0</td>\n",
       "      <td>0</td>\n",
       "      <td>2018-05-28</td>\n",
       "      <td>Hardcover Fiction</td>\n",
       "    </tr>\n",
       "    <tr>\n",
       "      <th>2</th>\n",
       "      <td>THE FALLEN</td>\n",
       "      <td>Amos Decker, known as the Memory Man, puts his...</td>\n",
       "      <td>by David Baldacci</td>\n",
       "      <td>David Baldacci</td>\n",
       "      <td></td>\n",
       "      <td>0.00</td>\n",
       "      <td></td>\n",
       "      <td>Grand Central</td>\n",
       "      <td>9781538761397</td>\n",
       "      <td>1538761394</td>\n",
       "      <td>3</td>\n",
       "      <td>2</td>\n",
       "      <td>5</td>\n",
       "      <td>0</td>\n",
       "      <td>0</td>\n",
       "      <td>2018-05-28</td>\n",
       "      <td>Hardcover Fiction</td>\n",
       "    </tr>\n",
       "    <tr>\n",
       "      <th>3</th>\n",
       "      <td>BY INVITATION ONLY</td>\n",
       "      <td>Two families are brought together when the dau...</td>\n",
       "      <td>by Dorothea Benton Frank</td>\n",
       "      <td>Dorothea Benton Frank</td>\n",
       "      <td></td>\n",
       "      <td>0.00</td>\n",
       "      <td></td>\n",
       "      <td>Morrow</td>\n",
       "      <td>9780062390820</td>\n",
       "      <td>0062390821</td>\n",
       "      <td>4</td>\n",
       "      <td>0</td>\n",
       "      <td>1</td>\n",
       "      <td>0</td>\n",
       "      <td>0</td>\n",
       "      <td>2018-05-28</td>\n",
       "      <td>Hardcover Fiction</td>\n",
       "    </tr>\n",
       "    <tr>\n",
       "      <th>4</th>\n",
       "      <td>THE HIGH TIDE CLUB</td>\n",
       "      <td>An eccentric millionaire enlists the attorney ...</td>\n",
       "      <td>by Mary Kay Andrews</td>\n",
       "      <td>Mary Kay Andrews</td>\n",
       "      <td></td>\n",
       "      <td>0.00</td>\n",
       "      <td></td>\n",
       "      <td>St. Martin's</td>\n",
       "      <td>9781250126061</td>\n",
       "      <td>1250126061</td>\n",
       "      <td>5</td>\n",
       "      <td>3</td>\n",
       "      <td>2</td>\n",
       "      <td>0</td>\n",
       "      <td>0</td>\n",
       "      <td>2018-05-28</td>\n",
       "      <td>Hardcover Fiction</td>\n",
       "    </tr>\n",
       "    <tr>\n",
       "      <th>5</th>\n",
       "      <td>TWISTED PREY</td>\n",
       "      <td>The 28th book in the Prey series. A federal ma...</td>\n",
       "      <td>by John Sandford</td>\n",
       "      <td>John Sandford</td>\n",
       "      <td></td>\n",
       "      <td>0.00</td>\n",
       "      <td></td>\n",
       "      <td>Putnam</td>\n",
       "      <td>9780735217355</td>\n",
       "      <td>0735217351</td>\n",
       "      <td>6</td>\n",
       "      <td>4</td>\n",
       "      <td>4</td>\n",
       "      <td>0</td>\n",
       "      <td>0</td>\n",
       "      <td>2018-05-28</td>\n",
       "      <td>Hardcover Fiction</td>\n",
       "    </tr>\n",
       "    <tr>\n",
       "      <th>6</th>\n",
       "      <td>BEFORE WE WERE YOURS</td>\n",
       "      <td>A South Carolina lawyer learns about the quest...</td>\n",
       "      <td>by Lisa Wingate</td>\n",
       "      <td>Lisa Wingate</td>\n",
       "      <td></td>\n",
       "      <td>0.00</td>\n",
       "      <td></td>\n",
       "      <td>Ballantine</td>\n",
       "      <td>9780425284681</td>\n",
       "      <td>0425284689</td>\n",
       "      <td>7</td>\n",
       "      <td>7</td>\n",
       "      <td>35</td>\n",
       "      <td>0</td>\n",
       "      <td>0</td>\n",
       "      <td>2018-05-28</td>\n",
       "      <td>Hardcover Fiction</td>\n",
       "    </tr>\n",
       "    <tr>\n",
       "      <th>7</th>\n",
       "      <td>LITTLE FIRES EVERYWHERE</td>\n",
       "      <td>An artist upends a quiet town outside Cleveland.</td>\n",
       "      <td>by Celeste Ng</td>\n",
       "      <td>Celeste Ng</td>\n",
       "      <td></td>\n",
       "      <td>0.00</td>\n",
       "      <td></td>\n",
       "      <td>Penguin Press</td>\n",
       "      <td>9780735224292</td>\n",
       "      <td>0735224293</td>\n",
       "      <td>8</td>\n",
       "      <td>8</td>\n",
       "      <td>35</td>\n",
       "      <td>0</td>\n",
       "      <td>0</td>\n",
       "      <td>2018-05-28</td>\n",
       "      <td>Hardcover Fiction</td>\n",
       "    </tr>\n",
       "    <tr>\n",
       "      <th>8</th>\n",
       "      <td>WARLIGHT</td>\n",
       "      <td>In Britain after World War II, a pair of teena...</td>\n",
       "      <td>by Michael Ondaatje</td>\n",
       "      <td>Michael Ondaatje</td>\n",
       "      <td></td>\n",
       "      <td>0.00</td>\n",
       "      <td></td>\n",
       "      <td>Knopf</td>\n",
       "      <td>9780525521198</td>\n",
       "      <td>0525521194</td>\n",
       "      <td>9</td>\n",
       "      <td>6</td>\n",
       "      <td>2</td>\n",
       "      <td>0</td>\n",
       "      <td>0</td>\n",
       "      <td>2018-05-28</td>\n",
       "      <td>Hardcover Fiction</td>\n",
       "    </tr>\n",
       "    <tr>\n",
       "      <th>9</th>\n",
       "      <td>THE CROOKED STAIRCASE</td>\n",
       "      <td>The rogue F.B.I. agent Jane Hawk is on the lam...</td>\n",
       "      <td>by Dean Koontz</td>\n",
       "      <td>Dean Koontz</td>\n",
       "      <td></td>\n",
       "      <td>0.00</td>\n",
       "      <td></td>\n",
       "      <td>Bantam</td>\n",
       "      <td>9780525483427</td>\n",
       "      <td>052548342X</td>\n",
       "      <td>10</td>\n",
       "      <td>5</td>\n",
       "      <td>2</td>\n",
       "      <td>0</td>\n",
       "      <td>0</td>\n",
       "      <td>2018-05-28</td>\n",
       "      <td>Hardcover Fiction</td>\n",
       "    </tr>\n",
       "    <tr>\n",
       "      <th>10</th>\n",
       "      <td>THE WOMAN IN THE WINDOW</td>\n",
       "      <td>A recluse who drinks heavily and takes prescri...</td>\n",
       "      <td>by A.J. Finn</td>\n",
       "      <td>A.J. Finn</td>\n",
       "      <td></td>\n",
       "      <td>0.00</td>\n",
       "      <td></td>\n",
       "      <td>Morrow</td>\n",
       "      <td>9780062678416</td>\n",
       "      <td>0062678418</td>\n",
       "      <td>11</td>\n",
       "      <td>11</td>\n",
       "      <td>20</td>\n",
       "      <td>0</td>\n",
       "      <td>0</td>\n",
       "      <td>2018-05-28</td>\n",
       "      <td>Hardcover Fiction</td>\n",
       "    </tr>\n",
       "    <tr>\n",
       "      <th>11</th>\n",
       "      <td>THE GREAT ALONE</td>\n",
       "      <td>A former prisoner of war returns from Vietnam ...</td>\n",
       "      <td>by Kristin Hannah</td>\n",
       "      <td>Kristin Hannah</td>\n",
       "      <td></td>\n",
       "      <td>0.00</td>\n",
       "      <td></td>\n",
       "      <td>St. Martin's</td>\n",
       "      <td>9780312577230</td>\n",
       "      <td>0312577230</td>\n",
       "      <td>12</td>\n",
       "      <td>10</td>\n",
       "      <td>15</td>\n",
       "      <td>1</td>\n",
       "      <td>0</td>\n",
       "      <td>2018-05-28</td>\n",
       "      <td>Hardcover Fiction</td>\n",
       "    </tr>\n",
       "    <tr>\n",
       "      <th>12</th>\n",
       "      <td>THE MARS ROOM</td>\n",
       "      <td>A woman is separated from her son when she beg...</td>\n",
       "      <td>by Rachel Kushner</td>\n",
       "      <td>Rachel Kushner</td>\n",
       "      <td></td>\n",
       "      <td>0.00</td>\n",
       "      <td></td>\n",
       "      <td>Scribner</td>\n",
       "      <td>9781476756554</td>\n",
       "      <td>1476756554</td>\n",
       "      <td>13</td>\n",
       "      <td>15</td>\n",
       "      <td>3</td>\n",
       "      <td>0</td>\n",
       "      <td>0</td>\n",
       "      <td>2018-05-28</td>\n",
       "      <td>Hardcover Fiction</td>\n",
       "    </tr>\n",
       "    <tr>\n",
       "      <th>13</th>\n",
       "      <td>HOW TO WALK AWAY</td>\n",
       "      <td>Maggie Jacobsen’s life is turned upside down w...</td>\n",
       "      <td>by Katherine Center</td>\n",
       "      <td>Katherine Center</td>\n",
       "      <td></td>\n",
       "      <td>0.00</td>\n",
       "      <td></td>\n",
       "      <td>St. Martin's</td>\n",
       "      <td>9781250149060</td>\n",
       "      <td>1250149061</td>\n",
       "      <td>14</td>\n",
       "      <td>0</td>\n",
       "      <td>1</td>\n",
       "      <td>0</td>\n",
       "      <td>0</td>\n",
       "      <td>2018-05-28</td>\n",
       "      <td>Hardcover Fiction</td>\n",
       "    </tr>\n",
       "    <tr>\n",
       "      <th>14</th>\n",
       "      <td>THE HELLFIRE CLUB</td>\n",
       "      <td>Charlie Marder, a World War II veteran and unl...</td>\n",
       "      <td>by Jake Tapper</td>\n",
       "      <td>Jake Tapper</td>\n",
       "      <td></td>\n",
       "      <td>0.00</td>\n",
       "      <td></td>\n",
       "      <td>Little, Brown</td>\n",
       "      <td>9780316472319</td>\n",
       "      <td>031647231X</td>\n",
       "      <td>15</td>\n",
       "      <td>9</td>\n",
       "      <td>4</td>\n",
       "      <td>0</td>\n",
       "      <td>0</td>\n",
       "      <td>2018-05-28</td>\n",
       "      <td>Hardcover Fiction</td>\n",
       "    </tr>\n",
       "  </tbody>\n",
       "</table>\n",
       "</div>"
      ],
      "text/plain": [
       "                      title  \\\n",
       "10  LITTLE FIRES EVERYWHERE   \n",
       "11          THE GREAT ALONE   \n",
       "12  THE WOMAN IN THE WINDOW   \n",
       "13    THE CROOKED STAIRCASE   \n",
       "14      THE FAVORITE SISTER   \n",
       "0                  THE CAST   \n",
       "1          THE 17TH SUSPECT   \n",
       "2                THE FALLEN   \n",
       "3        BY INVITATION ONLY   \n",
       "4        THE HIGH TIDE CLUB   \n",
       "5              TWISTED PREY   \n",
       "6      BEFORE WE WERE YOURS   \n",
       "7   LITTLE FIRES EVERYWHERE   \n",
       "8                  WARLIGHT   \n",
       "9     THE CROOKED STAIRCASE   \n",
       "10  THE WOMAN IN THE WINDOW   \n",
       "11          THE GREAT ALONE   \n",
       "12            THE MARS ROOM   \n",
       "13         HOW TO WALK AWAY   \n",
       "14        THE HELLFIRE CLUB   \n",
       "\n",
       "                                          description  \\\n",
       "10   An artist upends a quiet town outside Cleveland.   \n",
       "11  A former prisoner of war returns from Vietnam ...   \n",
       "12  A recluse who drinks heavily and takes prescri...   \n",
       "13  The rogue F.B.I. agent Jane Hawk is on the lam...   \n",
       "14  The more popular of a pair of sisters cast on ...   \n",
       "0   A magazine columnist meets an array of Hollywo...   \n",
       "1   The latest installment in the Women’s Murder C...   \n",
       "2   Amos Decker, known as the Memory Man, puts his...   \n",
       "3   Two families are brought together when the dau...   \n",
       "4   An eccentric millionaire enlists the attorney ...   \n",
       "5   The 28th book in the Prey series. A federal ma...   \n",
       "6   A South Carolina lawyer learns about the quest...   \n",
       "7    An artist upends a quiet town outside Cleveland.   \n",
       "8   In Britain after World War II, a pair of teena...   \n",
       "9   The rogue F.B.I. agent Jane Hawk is on the lam...   \n",
       "10  A recluse who drinks heavily and takes prescri...   \n",
       "11  A former prisoner of war returns from Vietnam ...   \n",
       "12  A woman is separated from her son when she beg...   \n",
       "13  Maggie Jacobsen’s life is turned upside down w...   \n",
       "14  Charlie Marder, a World War II veteran and unl...   \n",
       "\n",
       "                             contributor                             author  \\\n",
       "10                         by Celeste Ng                         Celeste Ng   \n",
       "11                     by Kristin Hannah                     Kristin Hannah   \n",
       "12                          by A.J. Finn                          A.J. Finn   \n",
       "13                        by Dean Koontz                        Dean Koontz   \n",
       "14                      by Jessica Knoll                      Jessica Knoll   \n",
       "0                      by Danielle Steel                     Danielle Steel   \n",
       "1   by James Patterson and Maxine Paetro  James Patterson and Maxine Paetro   \n",
       "2                      by David Baldacci                     David Baldacci   \n",
       "3               by Dorothea Benton Frank              Dorothea Benton Frank   \n",
       "4                    by Mary Kay Andrews                   Mary Kay Andrews   \n",
       "5                       by John Sandford                      John Sandford   \n",
       "6                        by Lisa Wingate                       Lisa Wingate   \n",
       "7                          by Celeste Ng                         Celeste Ng   \n",
       "8                    by Michael Ondaatje                   Michael Ondaatje   \n",
       "9                         by Dean Koontz                        Dean Koontz   \n",
       "10                          by A.J. Finn                          A.J. Finn   \n",
       "11                     by Kristin Hannah                     Kristin Hannah   \n",
       "12                     by Rachel Kushner                     Rachel Kushner   \n",
       "13                   by Katherine Center                   Katherine Center   \n",
       "14                        by Jake Tapper                        Jake Tapper   \n",
       "\n",
       "   contributor_note price age_group         publisher primary_isbn13  \\\n",
       "10                   0.00               Penguin Press  9780735224292   \n",
       "11                   0.00                St. Martin's  9780312577230   \n",
       "12                   0.00                      Morrow  9780062678416   \n",
       "13                   0.00                      Bantam  9780525483427   \n",
       "14                   0.00            Simon & Schuster  9781501153198   \n",
       "0                    0.00                   Delacorte  9781101884034   \n",
       "1                    0.00               Little, Brown  9780316274043   \n",
       "2                    0.00               Grand Central  9781538761397   \n",
       "3                    0.00                      Morrow  9780062390820   \n",
       "4                    0.00                St. Martin's  9781250126061   \n",
       "5                    0.00                      Putnam  9780735217355   \n",
       "6                    0.00                  Ballantine  9780425284681   \n",
       "7                    0.00               Penguin Press  9780735224292   \n",
       "8                    0.00                       Knopf  9780525521198   \n",
       "9                    0.00                      Bantam  9780525483427   \n",
       "10                   0.00                      Morrow  9780062678416   \n",
       "11                   0.00                St. Martin's  9780312577230   \n",
       "12                   0.00                    Scribner  9781476756554   \n",
       "13                   0.00                St. Martin's  9781250149060   \n",
       "14                   0.00               Little, Brown  9780316472319   \n",
       "\n",
       "   primary_isbn10 rank rank_last_week weeks_on_list asterisk dagger  \\\n",
       "10     0735224293   11              8            36        0      0   \n",
       "11     0312577230   12             12            16        0      0   \n",
       "12     0062678418   13             11            21        1      0   \n",
       "13     052548342X   14             10             3        0      0   \n",
       "14     1501153196   15              0             1        0      0   \n",
       "0      1101884037    1              0             1        0      0   \n",
       "1      0316274046    2              1             3        0      0   \n",
       "2      1538761394    3              2             5        0      0   \n",
       "3      0062390821    4              0             1        0      0   \n",
       "4      1250126061    5              3             2        0      0   \n",
       "5      0735217351    6              4             4        0      0   \n",
       "6      0425284689    7              7            35        0      0   \n",
       "7      0735224293    8              8            35        0      0   \n",
       "8      0525521194    9              6             2        0      0   \n",
       "9      052548342X   10              5             2        0      0   \n",
       "10     0062678418   11             11            20        0      0   \n",
       "11     0312577230   12             10            15        1      0   \n",
       "12     1476756554   13             15             3        0      0   \n",
       "13     1250149061   14              0             1        0      0   \n",
       "14     031647231X   15              9             4        0      0   \n",
       "\n",
       "          week           nyt_list  \n",
       "10  2018-06-04  Hardcover Fiction  \n",
       "11  2018-06-04  Hardcover Fiction  \n",
       "12  2018-06-04  Hardcover Fiction  \n",
       "13  2018-06-04  Hardcover Fiction  \n",
       "14  2018-06-04  Hardcover Fiction  \n",
       "0   2018-05-28  Hardcover Fiction  \n",
       "1   2018-05-28  Hardcover Fiction  \n",
       "2   2018-05-28  Hardcover Fiction  \n",
       "3   2018-05-28  Hardcover Fiction  \n",
       "4   2018-05-28  Hardcover Fiction  \n",
       "5   2018-05-28  Hardcover Fiction  \n",
       "6   2018-05-28  Hardcover Fiction  \n",
       "7   2018-05-28  Hardcover Fiction  \n",
       "8   2018-05-28  Hardcover Fiction  \n",
       "9   2018-05-28  Hardcover Fiction  \n",
       "10  2018-05-28  Hardcover Fiction  \n",
       "11  2018-05-28  Hardcover Fiction  \n",
       "12  2018-05-28  Hardcover Fiction  \n",
       "13  2018-05-28  Hardcover Fiction  \n",
       "14  2018-05-28  Hardcover Fiction  "
      ]
     },
     "execution_count": 70,
     "metadata": {},
     "output_type": "execute_result"
    }
   ],
   "source": [
    "#add nyt_list as a column\n",
    "hardcover1['nyt_list'] = nyt_list_weekly_fiction\n",
    "\n",
    "#and check to make sure it worked correctly\n",
    "hardcover1.tail(20)"
   ]
  },
  {
   "cell_type": "code",
   "execution_count": 71,
   "metadata": {},
   "outputs": [],
   "source": [
    "#save to another csv\n",
    "hardcover1.to_csv(\"C:\\\\Users\\\\melan\\\\Documents\\\\DA8\\\\Projects\\\\capstone\\\\data\\\\2018to2023_hardcover.csv\", index=False)"
   ]
  },
  {
   "cell_type": "code",
   "execution_count": 75,
   "metadata": {},
   "outputs": [
    {
     "name": "stdout",
     "output_type": "stream",
     "text": [
      "2018-05-21\n",
      "https://api.nytimes.com/svc/books/v3/lists.json?api-key=P1yDSg62Aydsdh04WBBuS57pYbpBu2tb&list=hardcover-fiction&published-date=2018-05-21\n"
     ]
    },
    {
     "name": "stderr",
     "output_type": "stream",
     "text": [
      "C:\\Users\\melan\\AppData\\Local\\Temp\\ipykernel_29428\\1923946446.py:25: FutureWarning: pandas.io.json.json_normalize is deprecated, use pandas.json_normalize instead.\n",
      "  books = json_normalize(results[\"results\"], record_path=[\"book_details\"], meta=[\"rank\", \"rank_last_week\", \"weeks_on_list\", \"asterisk\", \"dagger\"])\n"
     ]
    },
    {
     "name": "stdout",
     "output_type": "stream",
     "text": [
      "2018-05-14\n",
      "https://api.nytimes.com/svc/books/v3/lists.json?api-key=P1yDSg62Aydsdh04WBBuS57pYbpBu2tb&list=hardcover-fiction&published-date=2018-05-14\n"
     ]
    },
    {
     "name": "stderr",
     "output_type": "stream",
     "text": [
      "C:\\Users\\melan\\AppData\\Local\\Temp\\ipykernel_29428\\1923946446.py:25: FutureWarning: pandas.io.json.json_normalize is deprecated, use pandas.json_normalize instead.\n",
      "  books = json_normalize(results[\"results\"], record_path=[\"book_details\"], meta=[\"rank\", \"rank_last_week\", \"weeks_on_list\", \"asterisk\", \"dagger\"])\n"
     ]
    },
    {
     "name": "stdout",
     "output_type": "stream",
     "text": [
      "2018-05-07\n",
      "https://api.nytimes.com/svc/books/v3/lists.json?api-key=P1yDSg62Aydsdh04WBBuS57pYbpBu2tb&list=hardcover-fiction&published-date=2018-05-07\n"
     ]
    },
    {
     "name": "stderr",
     "output_type": "stream",
     "text": [
      "C:\\Users\\melan\\AppData\\Local\\Temp\\ipykernel_29428\\1923946446.py:25: FutureWarning: pandas.io.json.json_normalize is deprecated, use pandas.json_normalize instead.\n",
      "  books = json_normalize(results[\"results\"], record_path=[\"book_details\"], meta=[\"rank\", \"rank_last_week\", \"weeks_on_list\", \"asterisk\", \"dagger\"])\n"
     ]
    },
    {
     "name": "stdout",
     "output_type": "stream",
     "text": [
      "2018-04-30\n",
      "https://api.nytimes.com/svc/books/v3/lists.json?api-key=P1yDSg62Aydsdh04WBBuS57pYbpBu2tb&list=hardcover-fiction&published-date=2018-04-30\n"
     ]
    },
    {
     "name": "stderr",
     "output_type": "stream",
     "text": [
      "C:\\Users\\melan\\AppData\\Local\\Temp\\ipykernel_29428\\1923946446.py:25: FutureWarning: pandas.io.json.json_normalize is deprecated, use pandas.json_normalize instead.\n",
      "  books = json_normalize(results[\"results\"], record_path=[\"book_details\"], meta=[\"rank\", \"rank_last_week\", \"weeks_on_list\", \"asterisk\", \"dagger\"])\n"
     ]
    },
    {
     "name": "stdout",
     "output_type": "stream",
     "text": [
      "2018-04-23\n",
      "https://api.nytimes.com/svc/books/v3/lists.json?api-key=P1yDSg62Aydsdh04WBBuS57pYbpBu2tb&list=hardcover-fiction&published-date=2018-04-23\n"
     ]
    },
    {
     "name": "stderr",
     "output_type": "stream",
     "text": [
      "C:\\Users\\melan\\AppData\\Local\\Temp\\ipykernel_29428\\1923946446.py:25: FutureWarning: pandas.io.json.json_normalize is deprecated, use pandas.json_normalize instead.\n",
      "  books = json_normalize(results[\"results\"], record_path=[\"book_details\"], meta=[\"rank\", \"rank_last_week\", \"weeks_on_list\", \"asterisk\", \"dagger\"])\n"
     ]
    },
    {
     "name": "stdout",
     "output_type": "stream",
     "text": [
      "2018-04-16\n",
      "https://api.nytimes.com/svc/books/v3/lists.json?api-key=P1yDSg62Aydsdh04WBBuS57pYbpBu2tb&list=hardcover-fiction&published-date=2018-04-16\n"
     ]
    },
    {
     "name": "stderr",
     "output_type": "stream",
     "text": [
      "C:\\Users\\melan\\AppData\\Local\\Temp\\ipykernel_29428\\1923946446.py:25: FutureWarning: pandas.io.json.json_normalize is deprecated, use pandas.json_normalize instead.\n",
      "  books = json_normalize(results[\"results\"], record_path=[\"book_details\"], meta=[\"rank\", \"rank_last_week\", \"weeks_on_list\", \"asterisk\", \"dagger\"])\n"
     ]
    },
    {
     "name": "stdout",
     "output_type": "stream",
     "text": [
      "2018-04-09\n",
      "https://api.nytimes.com/svc/books/v3/lists.json?api-key=P1yDSg62Aydsdh04WBBuS57pYbpBu2tb&list=hardcover-fiction&published-date=2018-04-09\n"
     ]
    },
    {
     "name": "stderr",
     "output_type": "stream",
     "text": [
      "C:\\Users\\melan\\AppData\\Local\\Temp\\ipykernel_29428\\1923946446.py:25: FutureWarning: pandas.io.json.json_normalize is deprecated, use pandas.json_normalize instead.\n",
      "  books = json_normalize(results[\"results\"], record_path=[\"book_details\"], meta=[\"rank\", \"rank_last_week\", \"weeks_on_list\", \"asterisk\", \"dagger\"])\n"
     ]
    },
    {
     "name": "stdout",
     "output_type": "stream",
     "text": [
      "2018-04-02\n",
      "https://api.nytimes.com/svc/books/v3/lists.json?api-key=P1yDSg62Aydsdh04WBBuS57pYbpBu2tb&list=hardcover-fiction&published-date=2018-04-02\n"
     ]
    },
    {
     "name": "stderr",
     "output_type": "stream",
     "text": [
      "C:\\Users\\melan\\AppData\\Local\\Temp\\ipykernel_29428\\1923946446.py:25: FutureWarning: pandas.io.json.json_normalize is deprecated, use pandas.json_normalize instead.\n",
      "  books = json_normalize(results[\"results\"], record_path=[\"book_details\"], meta=[\"rank\", \"rank_last_week\", \"weeks_on_list\", \"asterisk\", \"dagger\"])\n"
     ]
    },
    {
     "name": "stdout",
     "output_type": "stream",
     "text": [
      "2018-03-26\n",
      "https://api.nytimes.com/svc/books/v3/lists.json?api-key=P1yDSg62Aydsdh04WBBuS57pYbpBu2tb&list=hardcover-fiction&published-date=2018-03-26\n"
     ]
    },
    {
     "name": "stderr",
     "output_type": "stream",
     "text": [
      "C:\\Users\\melan\\AppData\\Local\\Temp\\ipykernel_29428\\1923946446.py:25: FutureWarning: pandas.io.json.json_normalize is deprecated, use pandas.json_normalize instead.\n",
      "  books = json_normalize(results[\"results\"], record_path=[\"book_details\"], meta=[\"rank\", \"rank_last_week\", \"weeks_on_list\", \"asterisk\", \"dagger\"])\n"
     ]
    },
    {
     "name": "stdout",
     "output_type": "stream",
     "text": [
      "2018-03-19\n",
      "https://api.nytimes.com/svc/books/v3/lists.json?api-key=P1yDSg62Aydsdh04WBBuS57pYbpBu2tb&list=hardcover-fiction&published-date=2018-03-19\n"
     ]
    },
    {
     "name": "stderr",
     "output_type": "stream",
     "text": [
      "C:\\Users\\melan\\AppData\\Local\\Temp\\ipykernel_29428\\1923946446.py:25: FutureWarning: pandas.io.json.json_normalize is deprecated, use pandas.json_normalize instead.\n",
      "  books = json_normalize(results[\"results\"], record_path=[\"book_details\"], meta=[\"rank\", \"rank_last_week\", \"weeks_on_list\", \"asterisk\", \"dagger\"])\n"
     ]
    },
    {
     "name": "stdout",
     "output_type": "stream",
     "text": [
      "2018-03-12\n",
      "https://api.nytimes.com/svc/books/v3/lists.json?api-key=P1yDSg62Aydsdh04WBBuS57pYbpBu2tb&list=hardcover-fiction&published-date=2018-03-12\n"
     ]
    },
    {
     "name": "stderr",
     "output_type": "stream",
     "text": [
      "C:\\Users\\melan\\AppData\\Local\\Temp\\ipykernel_29428\\1923946446.py:25: FutureWarning: pandas.io.json.json_normalize is deprecated, use pandas.json_normalize instead.\n",
      "  books = json_normalize(results[\"results\"], record_path=[\"book_details\"], meta=[\"rank\", \"rank_last_week\", \"weeks_on_list\", \"asterisk\", \"dagger\"])\n"
     ]
    },
    {
     "name": "stdout",
     "output_type": "stream",
     "text": [
      "2018-03-05\n",
      "https://api.nytimes.com/svc/books/v3/lists.json?api-key=P1yDSg62Aydsdh04WBBuS57pYbpBu2tb&list=hardcover-fiction&published-date=2018-03-05\n"
     ]
    },
    {
     "name": "stderr",
     "output_type": "stream",
     "text": [
      "C:\\Users\\melan\\AppData\\Local\\Temp\\ipykernel_29428\\1923946446.py:25: FutureWarning: pandas.io.json.json_normalize is deprecated, use pandas.json_normalize instead.\n",
      "  books = json_normalize(results[\"results\"], record_path=[\"book_details\"], meta=[\"rank\", \"rank_last_week\", \"weeks_on_list\", \"asterisk\", \"dagger\"])\n"
     ]
    },
    {
     "name": "stdout",
     "output_type": "stream",
     "text": [
      "2018-02-26\n",
      "https://api.nytimes.com/svc/books/v3/lists.json?api-key=P1yDSg62Aydsdh04WBBuS57pYbpBu2tb&list=hardcover-fiction&published-date=2018-02-26\n"
     ]
    },
    {
     "name": "stderr",
     "output_type": "stream",
     "text": [
      "C:\\Users\\melan\\AppData\\Local\\Temp\\ipykernel_29428\\1923946446.py:25: FutureWarning: pandas.io.json.json_normalize is deprecated, use pandas.json_normalize instead.\n",
      "  books = json_normalize(results[\"results\"], record_path=[\"book_details\"], meta=[\"rank\", \"rank_last_week\", \"weeks_on_list\", \"asterisk\", \"dagger\"])\n"
     ]
    },
    {
     "name": "stdout",
     "output_type": "stream",
     "text": [
      "2018-02-19\n",
      "https://api.nytimes.com/svc/books/v3/lists.json?api-key=P1yDSg62Aydsdh04WBBuS57pYbpBu2tb&list=hardcover-fiction&published-date=2018-02-19\n"
     ]
    },
    {
     "name": "stderr",
     "output_type": "stream",
     "text": [
      "C:\\Users\\melan\\AppData\\Local\\Temp\\ipykernel_29428\\1923946446.py:25: FutureWarning: pandas.io.json.json_normalize is deprecated, use pandas.json_normalize instead.\n",
      "  books = json_normalize(results[\"results\"], record_path=[\"book_details\"], meta=[\"rank\", \"rank_last_week\", \"weeks_on_list\", \"asterisk\", \"dagger\"])\n"
     ]
    },
    {
     "name": "stdout",
     "output_type": "stream",
     "text": [
      "2018-02-12\n",
      "https://api.nytimes.com/svc/books/v3/lists.json?api-key=P1yDSg62Aydsdh04WBBuS57pYbpBu2tb&list=hardcover-fiction&published-date=2018-02-12\n"
     ]
    },
    {
     "name": "stderr",
     "output_type": "stream",
     "text": [
      "C:\\Users\\melan\\AppData\\Local\\Temp\\ipykernel_29428\\1923946446.py:25: FutureWarning: pandas.io.json.json_normalize is deprecated, use pandas.json_normalize instead.\n",
      "  books = json_normalize(results[\"results\"], record_path=[\"book_details\"], meta=[\"rank\", \"rank_last_week\", \"weeks_on_list\", \"asterisk\", \"dagger\"])\n"
     ]
    },
    {
     "name": "stdout",
     "output_type": "stream",
     "text": [
      "2018-02-05\n",
      "https://api.nytimes.com/svc/books/v3/lists.json?api-key=P1yDSg62Aydsdh04WBBuS57pYbpBu2tb&list=hardcover-fiction&published-date=2018-02-05\n"
     ]
    },
    {
     "name": "stderr",
     "output_type": "stream",
     "text": [
      "C:\\Users\\melan\\AppData\\Local\\Temp\\ipykernel_29428\\1923946446.py:25: FutureWarning: pandas.io.json.json_normalize is deprecated, use pandas.json_normalize instead.\n",
      "  books = json_normalize(results[\"results\"], record_path=[\"book_details\"], meta=[\"rank\", \"rank_last_week\", \"weeks_on_list\", \"asterisk\", \"dagger\"])\n"
     ]
    },
    {
     "name": "stdout",
     "output_type": "stream",
     "text": [
      "2018-01-29\n",
      "https://api.nytimes.com/svc/books/v3/lists.json?api-key=P1yDSg62Aydsdh04WBBuS57pYbpBu2tb&list=hardcover-fiction&published-date=2018-01-29\n"
     ]
    },
    {
     "name": "stderr",
     "output_type": "stream",
     "text": [
      "C:\\Users\\melan\\AppData\\Local\\Temp\\ipykernel_29428\\1923946446.py:25: FutureWarning: pandas.io.json.json_normalize is deprecated, use pandas.json_normalize instead.\n",
      "  books = json_normalize(results[\"results\"], record_path=[\"book_details\"], meta=[\"rank\", \"rank_last_week\", \"weeks_on_list\", \"asterisk\", \"dagger\"])\n"
     ]
    },
    {
     "name": "stdout",
     "output_type": "stream",
     "text": [
      "2018-01-22\n",
      "https://api.nytimes.com/svc/books/v3/lists.json?api-key=P1yDSg62Aydsdh04WBBuS57pYbpBu2tb&list=hardcover-fiction&published-date=2018-01-22\n"
     ]
    },
    {
     "name": "stderr",
     "output_type": "stream",
     "text": [
      "C:\\Users\\melan\\AppData\\Local\\Temp\\ipykernel_29428\\1923946446.py:25: FutureWarning: pandas.io.json.json_normalize is deprecated, use pandas.json_normalize instead.\n",
      "  books = json_normalize(results[\"results\"], record_path=[\"book_details\"], meta=[\"rank\", \"rank_last_week\", \"weeks_on_list\", \"asterisk\", \"dagger\"])\n"
     ]
    },
    {
     "name": "stdout",
     "output_type": "stream",
     "text": [
      "2018-01-15\n",
      "https://api.nytimes.com/svc/books/v3/lists.json?api-key=P1yDSg62Aydsdh04WBBuS57pYbpBu2tb&list=hardcover-fiction&published-date=2018-01-15\n"
     ]
    },
    {
     "name": "stderr",
     "output_type": "stream",
     "text": [
      "C:\\Users\\melan\\AppData\\Local\\Temp\\ipykernel_29428\\1923946446.py:25: FutureWarning: pandas.io.json.json_normalize is deprecated, use pandas.json_normalize instead.\n",
      "  books = json_normalize(results[\"results\"], record_path=[\"book_details\"], meta=[\"rank\", \"rank_last_week\", \"weeks_on_list\", \"asterisk\", \"dagger\"])\n"
     ]
    },
    {
     "name": "stdout",
     "output_type": "stream",
     "text": [
      "2018-01-08\n",
      "https://api.nytimes.com/svc/books/v3/lists.json?api-key=P1yDSg62Aydsdh04WBBuS57pYbpBu2tb&list=hardcover-fiction&published-date=2018-01-08\n"
     ]
    },
    {
     "name": "stderr",
     "output_type": "stream",
     "text": [
      "C:\\Users\\melan\\AppData\\Local\\Temp\\ipykernel_29428\\1923946446.py:25: FutureWarning: pandas.io.json.json_normalize is deprecated, use pandas.json_normalize instead.\n",
      "  books = json_normalize(results[\"results\"], record_path=[\"book_details\"], meta=[\"rank\", \"rank_last_week\", \"weeks_on_list\", \"asterisk\", \"dagger\"])\n"
     ]
    },
    {
     "name": "stdout",
     "output_type": "stream",
     "text": [
      "2018-01-01\n",
      "https://api.nytimes.com/svc/books/v3/lists.json?api-key=P1yDSg62Aydsdh04WBBuS57pYbpBu2tb&list=hardcover-fiction&published-date=2018-01-01\n"
     ]
    },
    {
     "name": "stderr",
     "output_type": "stream",
     "text": [
      "C:\\Users\\melan\\AppData\\Local\\Temp\\ipykernel_29428\\1923946446.py:25: FutureWarning: pandas.io.json.json_normalize is deprecated, use pandas.json_normalize instead.\n",
      "  books = json_normalize(results[\"results\"], record_path=[\"book_details\"], meta=[\"rank\", \"rank_last_week\", \"weeks_on_list\", \"asterisk\", \"dagger\"])\n"
     ]
    },
    {
     "name": "stdout",
     "output_type": "stream",
     "text": [
      "2017-12-25\n",
      "https://api.nytimes.com/svc/books/v3/lists.json?api-key=P1yDSg62Aydsdh04WBBuS57pYbpBu2tb&list=hardcover-fiction&published-date=2017-12-25\n"
     ]
    },
    {
     "name": "stderr",
     "output_type": "stream",
     "text": [
      "C:\\Users\\melan\\AppData\\Local\\Temp\\ipykernel_29428\\1923946446.py:25: FutureWarning: pandas.io.json.json_normalize is deprecated, use pandas.json_normalize instead.\n",
      "  books = json_normalize(results[\"results\"], record_path=[\"book_details\"], meta=[\"rank\", \"rank_last_week\", \"weeks_on_list\", \"asterisk\", \"dagger\"])\n"
     ]
    },
    {
     "name": "stdout",
     "output_type": "stream",
     "text": [
      "2017-12-18\n",
      "https://api.nytimes.com/svc/books/v3/lists.json?api-key=P1yDSg62Aydsdh04WBBuS57pYbpBu2tb&list=hardcover-fiction&published-date=2017-12-18\n"
     ]
    },
    {
     "name": "stderr",
     "output_type": "stream",
     "text": [
      "C:\\Users\\melan\\AppData\\Local\\Temp\\ipykernel_29428\\1923946446.py:25: FutureWarning: pandas.io.json.json_normalize is deprecated, use pandas.json_normalize instead.\n",
      "  books = json_normalize(results[\"results\"], record_path=[\"book_details\"], meta=[\"rank\", \"rank_last_week\", \"weeks_on_list\", \"asterisk\", \"dagger\"])\n"
     ]
    },
    {
     "name": "stdout",
     "output_type": "stream",
     "text": [
      "2017-12-11\n",
      "https://api.nytimes.com/svc/books/v3/lists.json?api-key=P1yDSg62Aydsdh04WBBuS57pYbpBu2tb&list=hardcover-fiction&published-date=2017-12-11\n"
     ]
    },
    {
     "name": "stderr",
     "output_type": "stream",
     "text": [
      "C:\\Users\\melan\\AppData\\Local\\Temp\\ipykernel_29428\\1923946446.py:25: FutureWarning: pandas.io.json.json_normalize is deprecated, use pandas.json_normalize instead.\n",
      "  books = json_normalize(results[\"results\"], record_path=[\"book_details\"], meta=[\"rank\", \"rank_last_week\", \"weeks_on_list\", \"asterisk\", \"dagger\"])\n"
     ]
    },
    {
     "name": "stdout",
     "output_type": "stream",
     "text": [
      "2017-12-04\n",
      "https://api.nytimes.com/svc/books/v3/lists.json?api-key=P1yDSg62Aydsdh04WBBuS57pYbpBu2tb&list=hardcover-fiction&published-date=2017-12-04\n"
     ]
    },
    {
     "name": "stderr",
     "output_type": "stream",
     "text": [
      "C:\\Users\\melan\\AppData\\Local\\Temp\\ipykernel_29428\\1923946446.py:25: FutureWarning: pandas.io.json.json_normalize is deprecated, use pandas.json_normalize instead.\n",
      "  books = json_normalize(results[\"results\"], record_path=[\"book_details\"], meta=[\"rank\", \"rank_last_week\", \"weeks_on_list\", \"asterisk\", \"dagger\"])\n"
     ]
    },
    {
     "name": "stdout",
     "output_type": "stream",
     "text": [
      "2017-11-27\n",
      "https://api.nytimes.com/svc/books/v3/lists.json?api-key=P1yDSg62Aydsdh04WBBuS57pYbpBu2tb&list=hardcover-fiction&published-date=2017-11-27\n"
     ]
    },
    {
     "name": "stderr",
     "output_type": "stream",
     "text": [
      "C:\\Users\\melan\\AppData\\Local\\Temp\\ipykernel_29428\\1923946446.py:25: FutureWarning: pandas.io.json.json_normalize is deprecated, use pandas.json_normalize instead.\n",
      "  books = json_normalize(results[\"results\"], record_path=[\"book_details\"], meta=[\"rank\", \"rank_last_week\", \"weeks_on_list\", \"asterisk\", \"dagger\"])\n"
     ]
    },
    {
     "name": "stdout",
     "output_type": "stream",
     "text": [
      "2017-11-20\n",
      "https://api.nytimes.com/svc/books/v3/lists.json?api-key=P1yDSg62Aydsdh04WBBuS57pYbpBu2tb&list=hardcover-fiction&published-date=2017-11-20\n"
     ]
    },
    {
     "name": "stderr",
     "output_type": "stream",
     "text": [
      "C:\\Users\\melan\\AppData\\Local\\Temp\\ipykernel_29428\\1923946446.py:25: FutureWarning: pandas.io.json.json_normalize is deprecated, use pandas.json_normalize instead.\n",
      "  books = json_normalize(results[\"results\"], record_path=[\"book_details\"], meta=[\"rank\", \"rank_last_week\", \"weeks_on_list\", \"asterisk\", \"dagger\"])\n"
     ]
    },
    {
     "name": "stdout",
     "output_type": "stream",
     "text": [
      "2017-11-13\n",
      "https://api.nytimes.com/svc/books/v3/lists.json?api-key=P1yDSg62Aydsdh04WBBuS57pYbpBu2tb&list=hardcover-fiction&published-date=2017-11-13\n"
     ]
    },
    {
     "name": "stderr",
     "output_type": "stream",
     "text": [
      "C:\\Users\\melan\\AppData\\Local\\Temp\\ipykernel_29428\\1923946446.py:25: FutureWarning: pandas.io.json.json_normalize is deprecated, use pandas.json_normalize instead.\n",
      "  books = json_normalize(results[\"results\"], record_path=[\"book_details\"], meta=[\"rank\", \"rank_last_week\", \"weeks_on_list\", \"asterisk\", \"dagger\"])\n"
     ]
    },
    {
     "name": "stdout",
     "output_type": "stream",
     "text": [
      "2017-11-06\n",
      "https://api.nytimes.com/svc/books/v3/lists.json?api-key=P1yDSg62Aydsdh04WBBuS57pYbpBu2tb&list=hardcover-fiction&published-date=2017-11-06\n"
     ]
    },
    {
     "name": "stderr",
     "output_type": "stream",
     "text": [
      "C:\\Users\\melan\\AppData\\Local\\Temp\\ipykernel_29428\\1923946446.py:25: FutureWarning: pandas.io.json.json_normalize is deprecated, use pandas.json_normalize instead.\n",
      "  books = json_normalize(results[\"results\"], record_path=[\"book_details\"], meta=[\"rank\", \"rank_last_week\", \"weeks_on_list\", \"asterisk\", \"dagger\"])\n"
     ]
    },
    {
     "name": "stdout",
     "output_type": "stream",
     "text": [
      "2017-10-30\n",
      "https://api.nytimes.com/svc/books/v3/lists.json?api-key=P1yDSg62Aydsdh04WBBuS57pYbpBu2tb&list=hardcover-fiction&published-date=2017-10-30\n"
     ]
    },
    {
     "name": "stderr",
     "output_type": "stream",
     "text": [
      "C:\\Users\\melan\\AppData\\Local\\Temp\\ipykernel_29428\\1923946446.py:25: FutureWarning: pandas.io.json.json_normalize is deprecated, use pandas.json_normalize instead.\n",
      "  books = json_normalize(results[\"results\"], record_path=[\"book_details\"], meta=[\"rank\", \"rank_last_week\", \"weeks_on_list\", \"asterisk\", \"dagger\"])\n"
     ]
    },
    {
     "name": "stdout",
     "output_type": "stream",
     "text": [
      "2017-10-23\n",
      "https://api.nytimes.com/svc/books/v3/lists.json?api-key=P1yDSg62Aydsdh04WBBuS57pYbpBu2tb&list=hardcover-fiction&published-date=2017-10-23\n"
     ]
    },
    {
     "name": "stderr",
     "output_type": "stream",
     "text": [
      "C:\\Users\\melan\\AppData\\Local\\Temp\\ipykernel_29428\\1923946446.py:25: FutureWarning: pandas.io.json.json_normalize is deprecated, use pandas.json_normalize instead.\n",
      "  books = json_normalize(results[\"results\"], record_path=[\"book_details\"], meta=[\"rank\", \"rank_last_week\", \"weeks_on_list\", \"asterisk\", \"dagger\"])\n"
     ]
    },
    {
     "name": "stdout",
     "output_type": "stream",
     "text": [
      "2017-10-16\n",
      "https://api.nytimes.com/svc/books/v3/lists.json?api-key=P1yDSg62Aydsdh04WBBuS57pYbpBu2tb&list=hardcover-fiction&published-date=2017-10-16\n"
     ]
    },
    {
     "name": "stderr",
     "output_type": "stream",
     "text": [
      "C:\\Users\\melan\\AppData\\Local\\Temp\\ipykernel_29428\\1923946446.py:25: FutureWarning: pandas.io.json.json_normalize is deprecated, use pandas.json_normalize instead.\n",
      "  books = json_normalize(results[\"results\"], record_path=[\"book_details\"], meta=[\"rank\", \"rank_last_week\", \"weeks_on_list\", \"asterisk\", \"dagger\"])\n"
     ]
    },
    {
     "name": "stdout",
     "output_type": "stream",
     "text": [
      "2017-10-09\n",
      "https://api.nytimes.com/svc/books/v3/lists.json?api-key=P1yDSg62Aydsdh04WBBuS57pYbpBu2tb&list=hardcover-fiction&published-date=2017-10-09\n"
     ]
    },
    {
     "name": "stderr",
     "output_type": "stream",
     "text": [
      "C:\\Users\\melan\\AppData\\Local\\Temp\\ipykernel_29428\\1923946446.py:25: FutureWarning: pandas.io.json.json_normalize is deprecated, use pandas.json_normalize instead.\n",
      "  books = json_normalize(results[\"results\"], record_path=[\"book_details\"], meta=[\"rank\", \"rank_last_week\", \"weeks_on_list\", \"asterisk\", \"dagger\"])\n"
     ]
    },
    {
     "name": "stdout",
     "output_type": "stream",
     "text": [
      "2017-10-02\n",
      "https://api.nytimes.com/svc/books/v3/lists.json?api-key=P1yDSg62Aydsdh04WBBuS57pYbpBu2tb&list=hardcover-fiction&published-date=2017-10-02\n"
     ]
    },
    {
     "name": "stderr",
     "output_type": "stream",
     "text": [
      "C:\\Users\\melan\\AppData\\Local\\Temp\\ipykernel_29428\\1923946446.py:25: FutureWarning: pandas.io.json.json_normalize is deprecated, use pandas.json_normalize instead.\n",
      "  books = json_normalize(results[\"results\"], record_path=[\"book_details\"], meta=[\"rank\", \"rank_last_week\", \"weeks_on_list\", \"asterisk\", \"dagger\"])\n"
     ]
    },
    {
     "name": "stdout",
     "output_type": "stream",
     "text": [
      "2017-09-25\n",
      "https://api.nytimes.com/svc/books/v3/lists.json?api-key=P1yDSg62Aydsdh04WBBuS57pYbpBu2tb&list=hardcover-fiction&published-date=2017-09-25\n"
     ]
    },
    {
     "name": "stderr",
     "output_type": "stream",
     "text": [
      "C:\\Users\\melan\\AppData\\Local\\Temp\\ipykernel_29428\\1923946446.py:25: FutureWarning: pandas.io.json.json_normalize is deprecated, use pandas.json_normalize instead.\n",
      "  books = json_normalize(results[\"results\"], record_path=[\"book_details\"], meta=[\"rank\", \"rank_last_week\", \"weeks_on_list\", \"asterisk\", \"dagger\"])\n"
     ]
    },
    {
     "name": "stdout",
     "output_type": "stream",
     "text": [
      "2017-09-18\n",
      "https://api.nytimes.com/svc/books/v3/lists.json?api-key=P1yDSg62Aydsdh04WBBuS57pYbpBu2tb&list=hardcover-fiction&published-date=2017-09-18\n"
     ]
    },
    {
     "name": "stderr",
     "output_type": "stream",
     "text": [
      "C:\\Users\\melan\\AppData\\Local\\Temp\\ipykernel_29428\\1923946446.py:25: FutureWarning: pandas.io.json.json_normalize is deprecated, use pandas.json_normalize instead.\n",
      "  books = json_normalize(results[\"results\"], record_path=[\"book_details\"], meta=[\"rank\", \"rank_last_week\", \"weeks_on_list\", \"asterisk\", \"dagger\"])\n"
     ]
    },
    {
     "name": "stdout",
     "output_type": "stream",
     "text": [
      "2017-09-11\n",
      "https://api.nytimes.com/svc/books/v3/lists.json?api-key=P1yDSg62Aydsdh04WBBuS57pYbpBu2tb&list=hardcover-fiction&published-date=2017-09-11\n"
     ]
    },
    {
     "name": "stderr",
     "output_type": "stream",
     "text": [
      "C:\\Users\\melan\\AppData\\Local\\Temp\\ipykernel_29428\\1923946446.py:25: FutureWarning: pandas.io.json.json_normalize is deprecated, use pandas.json_normalize instead.\n",
      "  books = json_normalize(results[\"results\"], record_path=[\"book_details\"], meta=[\"rank\", \"rank_last_week\", \"weeks_on_list\", \"asterisk\", \"dagger\"])\n"
     ]
    },
    {
     "name": "stdout",
     "output_type": "stream",
     "text": [
      "2017-09-04\n",
      "https://api.nytimes.com/svc/books/v3/lists.json?api-key=P1yDSg62Aydsdh04WBBuS57pYbpBu2tb&list=hardcover-fiction&published-date=2017-09-04\n"
     ]
    },
    {
     "name": "stderr",
     "output_type": "stream",
     "text": [
      "C:\\Users\\melan\\AppData\\Local\\Temp\\ipykernel_29428\\1923946446.py:25: FutureWarning: pandas.io.json.json_normalize is deprecated, use pandas.json_normalize instead.\n",
      "  books = json_normalize(results[\"results\"], record_path=[\"book_details\"], meta=[\"rank\", \"rank_last_week\", \"weeks_on_list\", \"asterisk\", \"dagger\"])\n"
     ]
    },
    {
     "name": "stdout",
     "output_type": "stream",
     "text": [
      "2017-08-28\n",
      "https://api.nytimes.com/svc/books/v3/lists.json?api-key=P1yDSg62Aydsdh04WBBuS57pYbpBu2tb&list=hardcover-fiction&published-date=2017-08-28\n"
     ]
    },
    {
     "name": "stderr",
     "output_type": "stream",
     "text": [
      "C:\\Users\\melan\\AppData\\Local\\Temp\\ipykernel_29428\\1923946446.py:25: FutureWarning: pandas.io.json.json_normalize is deprecated, use pandas.json_normalize instead.\n",
      "  books = json_normalize(results[\"results\"], record_path=[\"book_details\"], meta=[\"rank\", \"rank_last_week\", \"weeks_on_list\", \"asterisk\", \"dagger\"])\n"
     ]
    },
    {
     "name": "stdout",
     "output_type": "stream",
     "text": [
      "2017-08-21\n",
      "https://api.nytimes.com/svc/books/v3/lists.json?api-key=P1yDSg62Aydsdh04WBBuS57pYbpBu2tb&list=hardcover-fiction&published-date=2017-08-21\n"
     ]
    },
    {
     "name": "stderr",
     "output_type": "stream",
     "text": [
      "C:\\Users\\melan\\AppData\\Local\\Temp\\ipykernel_29428\\1923946446.py:25: FutureWarning: pandas.io.json.json_normalize is deprecated, use pandas.json_normalize instead.\n",
      "  books = json_normalize(results[\"results\"], record_path=[\"book_details\"], meta=[\"rank\", \"rank_last_week\", \"weeks_on_list\", \"asterisk\", \"dagger\"])\n"
     ]
    },
    {
     "name": "stdout",
     "output_type": "stream",
     "text": [
      "2017-08-14\n",
      "https://api.nytimes.com/svc/books/v3/lists.json?api-key=P1yDSg62Aydsdh04WBBuS57pYbpBu2tb&list=hardcover-fiction&published-date=2017-08-14\n"
     ]
    },
    {
     "name": "stderr",
     "output_type": "stream",
     "text": [
      "C:\\Users\\melan\\AppData\\Local\\Temp\\ipykernel_29428\\1923946446.py:25: FutureWarning: pandas.io.json.json_normalize is deprecated, use pandas.json_normalize instead.\n",
      "  books = json_normalize(results[\"results\"], record_path=[\"book_details\"], meta=[\"rank\", \"rank_last_week\", \"weeks_on_list\", \"asterisk\", \"dagger\"])\n"
     ]
    },
    {
     "name": "stdout",
     "output_type": "stream",
     "text": [
      "2017-08-07\n",
      "https://api.nytimes.com/svc/books/v3/lists.json?api-key=P1yDSg62Aydsdh04WBBuS57pYbpBu2tb&list=hardcover-fiction&published-date=2017-08-07\n"
     ]
    },
    {
     "name": "stderr",
     "output_type": "stream",
     "text": [
      "C:\\Users\\melan\\AppData\\Local\\Temp\\ipykernel_29428\\1923946446.py:25: FutureWarning: pandas.io.json.json_normalize is deprecated, use pandas.json_normalize instead.\n",
      "  books = json_normalize(results[\"results\"], record_path=[\"book_details\"], meta=[\"rank\", \"rank_last_week\", \"weeks_on_list\", \"asterisk\", \"dagger\"])\n"
     ]
    },
    {
     "name": "stdout",
     "output_type": "stream",
     "text": [
      "2017-07-31\n",
      "https://api.nytimes.com/svc/books/v3/lists.json?api-key=P1yDSg62Aydsdh04WBBuS57pYbpBu2tb&list=hardcover-fiction&published-date=2017-07-31\n"
     ]
    },
    {
     "name": "stderr",
     "output_type": "stream",
     "text": [
      "C:\\Users\\melan\\AppData\\Local\\Temp\\ipykernel_29428\\1923946446.py:25: FutureWarning: pandas.io.json.json_normalize is deprecated, use pandas.json_normalize instead.\n",
      "  books = json_normalize(results[\"results\"], record_path=[\"book_details\"], meta=[\"rank\", \"rank_last_week\", \"weeks_on_list\", \"asterisk\", \"dagger\"])\n"
     ]
    },
    {
     "name": "stdout",
     "output_type": "stream",
     "text": [
      "2017-07-24\n",
      "https://api.nytimes.com/svc/books/v3/lists.json?api-key=P1yDSg62Aydsdh04WBBuS57pYbpBu2tb&list=hardcover-fiction&published-date=2017-07-24\n"
     ]
    },
    {
     "name": "stderr",
     "output_type": "stream",
     "text": [
      "C:\\Users\\melan\\AppData\\Local\\Temp\\ipykernel_29428\\1923946446.py:25: FutureWarning: pandas.io.json.json_normalize is deprecated, use pandas.json_normalize instead.\n",
      "  books = json_normalize(results[\"results\"], record_path=[\"book_details\"], meta=[\"rank\", \"rank_last_week\", \"weeks_on_list\", \"asterisk\", \"dagger\"])\n"
     ]
    },
    {
     "name": "stdout",
     "output_type": "stream",
     "text": [
      "2017-07-17\n",
      "https://api.nytimes.com/svc/books/v3/lists.json?api-key=P1yDSg62Aydsdh04WBBuS57pYbpBu2tb&list=hardcover-fiction&published-date=2017-07-17\n"
     ]
    },
    {
     "name": "stderr",
     "output_type": "stream",
     "text": [
      "C:\\Users\\melan\\AppData\\Local\\Temp\\ipykernel_29428\\1923946446.py:25: FutureWarning: pandas.io.json.json_normalize is deprecated, use pandas.json_normalize instead.\n",
      "  books = json_normalize(results[\"results\"], record_path=[\"book_details\"], meta=[\"rank\", \"rank_last_week\", \"weeks_on_list\", \"asterisk\", \"dagger\"])\n"
     ]
    },
    {
     "name": "stdout",
     "output_type": "stream",
     "text": [
      "2017-07-10\n",
      "https://api.nytimes.com/svc/books/v3/lists.json?api-key=P1yDSg62Aydsdh04WBBuS57pYbpBu2tb&list=hardcover-fiction&published-date=2017-07-10\n"
     ]
    },
    {
     "name": "stderr",
     "output_type": "stream",
     "text": [
      "C:\\Users\\melan\\AppData\\Local\\Temp\\ipykernel_29428\\1923946446.py:25: FutureWarning: pandas.io.json.json_normalize is deprecated, use pandas.json_normalize instead.\n",
      "  books = json_normalize(results[\"results\"], record_path=[\"book_details\"], meta=[\"rank\", \"rank_last_week\", \"weeks_on_list\", \"asterisk\", \"dagger\"])\n"
     ]
    },
    {
     "name": "stdout",
     "output_type": "stream",
     "text": [
      "2017-07-03\n",
      "https://api.nytimes.com/svc/books/v3/lists.json?api-key=P1yDSg62Aydsdh04WBBuS57pYbpBu2tb&list=hardcover-fiction&published-date=2017-07-03\n"
     ]
    },
    {
     "name": "stderr",
     "output_type": "stream",
     "text": [
      "C:\\Users\\melan\\AppData\\Local\\Temp\\ipykernel_29428\\1923946446.py:25: FutureWarning: pandas.io.json.json_normalize is deprecated, use pandas.json_normalize instead.\n",
      "  books = json_normalize(results[\"results\"], record_path=[\"book_details\"], meta=[\"rank\", \"rank_last_week\", \"weeks_on_list\", \"asterisk\", \"dagger\"])\n"
     ]
    },
    {
     "name": "stdout",
     "output_type": "stream",
     "text": [
      "2017-06-26\n",
      "https://api.nytimes.com/svc/books/v3/lists.json?api-key=P1yDSg62Aydsdh04WBBuS57pYbpBu2tb&list=hardcover-fiction&published-date=2017-06-26\n"
     ]
    },
    {
     "name": "stderr",
     "output_type": "stream",
     "text": [
      "C:\\Users\\melan\\AppData\\Local\\Temp\\ipykernel_29428\\1923946446.py:25: FutureWarning: pandas.io.json.json_normalize is deprecated, use pandas.json_normalize instead.\n",
      "  books = json_normalize(results[\"results\"], record_path=[\"book_details\"], meta=[\"rank\", \"rank_last_week\", \"weeks_on_list\", \"asterisk\", \"dagger\"])\n"
     ]
    },
    {
     "name": "stdout",
     "output_type": "stream",
     "text": [
      "2017-06-19\n",
      "https://api.nytimes.com/svc/books/v3/lists.json?api-key=P1yDSg62Aydsdh04WBBuS57pYbpBu2tb&list=hardcover-fiction&published-date=2017-06-19\n"
     ]
    },
    {
     "name": "stderr",
     "output_type": "stream",
     "text": [
      "C:\\Users\\melan\\AppData\\Local\\Temp\\ipykernel_29428\\1923946446.py:25: FutureWarning: pandas.io.json.json_normalize is deprecated, use pandas.json_normalize instead.\n",
      "  books = json_normalize(results[\"results\"], record_path=[\"book_details\"], meta=[\"rank\", \"rank_last_week\", \"weeks_on_list\", \"asterisk\", \"dagger\"])\n"
     ]
    },
    {
     "name": "stdout",
     "output_type": "stream",
     "text": [
      "2017-06-12\n",
      "https://api.nytimes.com/svc/books/v3/lists.json?api-key=P1yDSg62Aydsdh04WBBuS57pYbpBu2tb&list=hardcover-fiction&published-date=2017-06-12\n"
     ]
    },
    {
     "name": "stderr",
     "output_type": "stream",
     "text": [
      "C:\\Users\\melan\\AppData\\Local\\Temp\\ipykernel_29428\\1923946446.py:25: FutureWarning: pandas.io.json.json_normalize is deprecated, use pandas.json_normalize instead.\n",
      "  books = json_normalize(results[\"results\"], record_path=[\"book_details\"], meta=[\"rank\", \"rank_last_week\", \"weeks_on_list\", \"asterisk\", \"dagger\"])\n"
     ]
    },
    {
     "name": "stdout",
     "output_type": "stream",
     "text": [
      "2017-06-05\n",
      "https://api.nytimes.com/svc/books/v3/lists.json?api-key=P1yDSg62Aydsdh04WBBuS57pYbpBu2tb&list=hardcover-fiction&published-date=2017-06-05\n"
     ]
    },
    {
     "name": "stderr",
     "output_type": "stream",
     "text": [
      "C:\\Users\\melan\\AppData\\Local\\Temp\\ipykernel_29428\\1923946446.py:25: FutureWarning: pandas.io.json.json_normalize is deprecated, use pandas.json_normalize instead.\n",
      "  books = json_normalize(results[\"results\"], record_path=[\"book_details\"], meta=[\"rank\", \"rank_last_week\", \"weeks_on_list\", \"asterisk\", \"dagger\"])\n"
     ]
    },
    {
     "name": "stdout",
     "output_type": "stream",
     "text": [
      "2017-05-29\n",
      "https://api.nytimes.com/svc/books/v3/lists.json?api-key=P1yDSg62Aydsdh04WBBuS57pYbpBu2tb&list=hardcover-fiction&published-date=2017-05-29\n"
     ]
    },
    {
     "name": "stderr",
     "output_type": "stream",
     "text": [
      "C:\\Users\\melan\\AppData\\Local\\Temp\\ipykernel_29428\\1923946446.py:25: FutureWarning: pandas.io.json.json_normalize is deprecated, use pandas.json_normalize instead.\n",
      "  books = json_normalize(results[\"results\"], record_path=[\"book_details\"], meta=[\"rank\", \"rank_last_week\", \"weeks_on_list\", \"asterisk\", \"dagger\"])\n"
     ]
    },
    {
     "name": "stdout",
     "output_type": "stream",
     "text": [
      "2017-05-22\n",
      "https://api.nytimes.com/svc/books/v3/lists.json?api-key=P1yDSg62Aydsdh04WBBuS57pYbpBu2tb&list=hardcover-fiction&published-date=2017-05-22\n"
     ]
    },
    {
     "name": "stderr",
     "output_type": "stream",
     "text": [
      "C:\\Users\\melan\\AppData\\Local\\Temp\\ipykernel_29428\\1923946446.py:25: FutureWarning: pandas.io.json.json_normalize is deprecated, use pandas.json_normalize instead.\n",
      "  books = json_normalize(results[\"results\"], record_path=[\"book_details\"], meta=[\"rank\", \"rank_last_week\", \"weeks_on_list\", \"asterisk\", \"dagger\"])\n"
     ]
    },
    {
     "name": "stdout",
     "output_type": "stream",
     "text": [
      "2017-05-15\n",
      "https://api.nytimes.com/svc/books/v3/lists.json?api-key=P1yDSg62Aydsdh04WBBuS57pYbpBu2tb&list=hardcover-fiction&published-date=2017-05-15\n"
     ]
    },
    {
     "name": "stderr",
     "output_type": "stream",
     "text": [
      "C:\\Users\\melan\\AppData\\Local\\Temp\\ipykernel_29428\\1923946446.py:25: FutureWarning: pandas.io.json.json_normalize is deprecated, use pandas.json_normalize instead.\n",
      "  books = json_normalize(results[\"results\"], record_path=[\"book_details\"], meta=[\"rank\", \"rank_last_week\", \"weeks_on_list\", \"asterisk\", \"dagger\"])\n"
     ]
    },
    {
     "name": "stdout",
     "output_type": "stream",
     "text": [
      "2017-05-08\n",
      "https://api.nytimes.com/svc/books/v3/lists.json?api-key=P1yDSg62Aydsdh04WBBuS57pYbpBu2tb&list=hardcover-fiction&published-date=2017-05-08\n"
     ]
    },
    {
     "name": "stderr",
     "output_type": "stream",
     "text": [
      "C:\\Users\\melan\\AppData\\Local\\Temp\\ipykernel_29428\\1923946446.py:25: FutureWarning: pandas.io.json.json_normalize is deprecated, use pandas.json_normalize instead.\n",
      "  books = json_normalize(results[\"results\"], record_path=[\"book_details\"], meta=[\"rank\", \"rank_last_week\", \"weeks_on_list\", \"asterisk\", \"dagger\"])\n"
     ]
    },
    {
     "name": "stdout",
     "output_type": "stream",
     "text": [
      "2017-05-01\n",
      "https://api.nytimes.com/svc/books/v3/lists.json?api-key=P1yDSg62Aydsdh04WBBuS57pYbpBu2tb&list=hardcover-fiction&published-date=2017-05-01\n"
     ]
    },
    {
     "name": "stderr",
     "output_type": "stream",
     "text": [
      "C:\\Users\\melan\\AppData\\Local\\Temp\\ipykernel_29428\\1923946446.py:25: FutureWarning: pandas.io.json.json_normalize is deprecated, use pandas.json_normalize instead.\n",
      "  books = json_normalize(results[\"results\"], record_path=[\"book_details\"], meta=[\"rank\", \"rank_last_week\", \"weeks_on_list\", \"asterisk\", \"dagger\"])\n"
     ]
    },
    {
     "name": "stdout",
     "output_type": "stream",
     "text": [
      "2017-04-24\n",
      "https://api.nytimes.com/svc/books/v3/lists.json?api-key=P1yDSg62Aydsdh04WBBuS57pYbpBu2tb&list=hardcover-fiction&published-date=2017-04-24\n"
     ]
    },
    {
     "name": "stderr",
     "output_type": "stream",
     "text": [
      "C:\\Users\\melan\\AppData\\Local\\Temp\\ipykernel_29428\\1923946446.py:25: FutureWarning: pandas.io.json.json_normalize is deprecated, use pandas.json_normalize instead.\n",
      "  books = json_normalize(results[\"results\"], record_path=[\"book_details\"], meta=[\"rank\", \"rank_last_week\", \"weeks_on_list\", \"asterisk\", \"dagger\"])\n"
     ]
    },
    {
     "name": "stdout",
     "output_type": "stream",
     "text": [
      "2017-04-17\n",
      "https://api.nytimes.com/svc/books/v3/lists.json?api-key=P1yDSg62Aydsdh04WBBuS57pYbpBu2tb&list=hardcover-fiction&published-date=2017-04-17\n"
     ]
    },
    {
     "name": "stderr",
     "output_type": "stream",
     "text": [
      "C:\\Users\\melan\\AppData\\Local\\Temp\\ipykernel_29428\\1923946446.py:25: FutureWarning: pandas.io.json.json_normalize is deprecated, use pandas.json_normalize instead.\n",
      "  books = json_normalize(results[\"results\"], record_path=[\"book_details\"], meta=[\"rank\", \"rank_last_week\", \"weeks_on_list\", \"asterisk\", \"dagger\"])\n"
     ]
    },
    {
     "name": "stdout",
     "output_type": "stream",
     "text": [
      "2017-04-10\n",
      "https://api.nytimes.com/svc/books/v3/lists.json?api-key=P1yDSg62Aydsdh04WBBuS57pYbpBu2tb&list=hardcover-fiction&published-date=2017-04-10\n"
     ]
    },
    {
     "name": "stderr",
     "output_type": "stream",
     "text": [
      "C:\\Users\\melan\\AppData\\Local\\Temp\\ipykernel_29428\\1923946446.py:25: FutureWarning: pandas.io.json.json_normalize is deprecated, use pandas.json_normalize instead.\n",
      "  books = json_normalize(results[\"results\"], record_path=[\"book_details\"], meta=[\"rank\", \"rank_last_week\", \"weeks_on_list\", \"asterisk\", \"dagger\"])\n"
     ]
    },
    {
     "name": "stdout",
     "output_type": "stream",
     "text": [
      "2017-04-03\n",
      "https://api.nytimes.com/svc/books/v3/lists.json?api-key=P1yDSg62Aydsdh04WBBuS57pYbpBu2tb&list=hardcover-fiction&published-date=2017-04-03\n"
     ]
    },
    {
     "name": "stderr",
     "output_type": "stream",
     "text": [
      "C:\\Users\\melan\\AppData\\Local\\Temp\\ipykernel_29428\\1923946446.py:25: FutureWarning: pandas.io.json.json_normalize is deprecated, use pandas.json_normalize instead.\n",
      "  books = json_normalize(results[\"results\"], record_path=[\"book_details\"], meta=[\"rank\", \"rank_last_week\", \"weeks_on_list\", \"asterisk\", \"dagger\"])\n"
     ]
    },
    {
     "name": "stdout",
     "output_type": "stream",
     "text": [
      "2017-03-27\n",
      "https://api.nytimes.com/svc/books/v3/lists.json?api-key=P1yDSg62Aydsdh04WBBuS57pYbpBu2tb&list=hardcover-fiction&published-date=2017-03-27\n"
     ]
    },
    {
     "name": "stderr",
     "output_type": "stream",
     "text": [
      "C:\\Users\\melan\\AppData\\Local\\Temp\\ipykernel_29428\\1923946446.py:25: FutureWarning: pandas.io.json.json_normalize is deprecated, use pandas.json_normalize instead.\n",
      "  books = json_normalize(results[\"results\"], record_path=[\"book_details\"], meta=[\"rank\", \"rank_last_week\", \"weeks_on_list\", \"asterisk\", \"dagger\"])\n"
     ]
    },
    {
     "name": "stdout",
     "output_type": "stream",
     "text": [
      "2017-03-20\n",
      "https://api.nytimes.com/svc/books/v3/lists.json?api-key=P1yDSg62Aydsdh04WBBuS57pYbpBu2tb&list=hardcover-fiction&published-date=2017-03-20\n"
     ]
    },
    {
     "name": "stderr",
     "output_type": "stream",
     "text": [
      "C:\\Users\\melan\\AppData\\Local\\Temp\\ipykernel_29428\\1923946446.py:25: FutureWarning: pandas.io.json.json_normalize is deprecated, use pandas.json_normalize instead.\n",
      "  books = json_normalize(results[\"results\"], record_path=[\"book_details\"], meta=[\"rank\", \"rank_last_week\", \"weeks_on_list\", \"asterisk\", \"dagger\"])\n"
     ]
    },
    {
     "name": "stdout",
     "output_type": "stream",
     "text": [
      "2017-03-13\n",
      "https://api.nytimes.com/svc/books/v3/lists.json?api-key=P1yDSg62Aydsdh04WBBuS57pYbpBu2tb&list=hardcover-fiction&published-date=2017-03-13\n"
     ]
    },
    {
     "name": "stderr",
     "output_type": "stream",
     "text": [
      "C:\\Users\\melan\\AppData\\Local\\Temp\\ipykernel_29428\\1923946446.py:25: FutureWarning: pandas.io.json.json_normalize is deprecated, use pandas.json_normalize instead.\n",
      "  books = json_normalize(results[\"results\"], record_path=[\"book_details\"], meta=[\"rank\", \"rank_last_week\", \"weeks_on_list\", \"asterisk\", \"dagger\"])\n"
     ]
    },
    {
     "name": "stdout",
     "output_type": "stream",
     "text": [
      "2017-03-06\n",
      "https://api.nytimes.com/svc/books/v3/lists.json?api-key=P1yDSg62Aydsdh04WBBuS57pYbpBu2tb&list=hardcover-fiction&published-date=2017-03-06\n"
     ]
    },
    {
     "name": "stderr",
     "output_type": "stream",
     "text": [
      "C:\\Users\\melan\\AppData\\Local\\Temp\\ipykernel_29428\\1923946446.py:25: FutureWarning: pandas.io.json.json_normalize is deprecated, use pandas.json_normalize instead.\n",
      "  books = json_normalize(results[\"results\"], record_path=[\"book_details\"], meta=[\"rank\", \"rank_last_week\", \"weeks_on_list\", \"asterisk\", \"dagger\"])\n"
     ]
    },
    {
     "name": "stdout",
     "output_type": "stream",
     "text": [
      "2017-02-27\n",
      "https://api.nytimes.com/svc/books/v3/lists.json?api-key=P1yDSg62Aydsdh04WBBuS57pYbpBu2tb&list=hardcover-fiction&published-date=2017-02-27\n"
     ]
    },
    {
     "name": "stderr",
     "output_type": "stream",
     "text": [
      "C:\\Users\\melan\\AppData\\Local\\Temp\\ipykernel_29428\\1923946446.py:25: FutureWarning: pandas.io.json.json_normalize is deprecated, use pandas.json_normalize instead.\n",
      "  books = json_normalize(results[\"results\"], record_path=[\"book_details\"], meta=[\"rank\", \"rank_last_week\", \"weeks_on_list\", \"asterisk\", \"dagger\"])\n"
     ]
    },
    {
     "name": "stdout",
     "output_type": "stream",
     "text": [
      "2017-02-20\n",
      "https://api.nytimes.com/svc/books/v3/lists.json?api-key=P1yDSg62Aydsdh04WBBuS57pYbpBu2tb&list=hardcover-fiction&published-date=2017-02-20\n"
     ]
    },
    {
     "name": "stderr",
     "output_type": "stream",
     "text": [
      "C:\\Users\\melan\\AppData\\Local\\Temp\\ipykernel_29428\\1923946446.py:25: FutureWarning: pandas.io.json.json_normalize is deprecated, use pandas.json_normalize instead.\n",
      "  books = json_normalize(results[\"results\"], record_path=[\"book_details\"], meta=[\"rank\", \"rank_last_week\", \"weeks_on_list\", \"asterisk\", \"dagger\"])\n"
     ]
    },
    {
     "name": "stdout",
     "output_type": "stream",
     "text": [
      "2017-02-13\n",
      "https://api.nytimes.com/svc/books/v3/lists.json?api-key=P1yDSg62Aydsdh04WBBuS57pYbpBu2tb&list=hardcover-fiction&published-date=2017-02-13\n"
     ]
    },
    {
     "name": "stderr",
     "output_type": "stream",
     "text": [
      "C:\\Users\\melan\\AppData\\Local\\Temp\\ipykernel_29428\\1923946446.py:25: FutureWarning: pandas.io.json.json_normalize is deprecated, use pandas.json_normalize instead.\n",
      "  books = json_normalize(results[\"results\"], record_path=[\"book_details\"], meta=[\"rank\", \"rank_last_week\", \"weeks_on_list\", \"asterisk\", \"dagger\"])\n"
     ]
    },
    {
     "name": "stdout",
     "output_type": "stream",
     "text": [
      "2017-02-06\n",
      "https://api.nytimes.com/svc/books/v3/lists.json?api-key=P1yDSg62Aydsdh04WBBuS57pYbpBu2tb&list=hardcover-fiction&published-date=2017-02-06\n"
     ]
    },
    {
     "name": "stderr",
     "output_type": "stream",
     "text": [
      "C:\\Users\\melan\\AppData\\Local\\Temp\\ipykernel_29428\\1923946446.py:25: FutureWarning: pandas.io.json.json_normalize is deprecated, use pandas.json_normalize instead.\n",
      "  books = json_normalize(results[\"results\"], record_path=[\"book_details\"], meta=[\"rank\", \"rank_last_week\", \"weeks_on_list\", \"asterisk\", \"dagger\"])\n"
     ]
    },
    {
     "name": "stdout",
     "output_type": "stream",
     "text": [
      "2017-01-30\n",
      "https://api.nytimes.com/svc/books/v3/lists.json?api-key=P1yDSg62Aydsdh04WBBuS57pYbpBu2tb&list=hardcover-fiction&published-date=2017-01-30\n"
     ]
    },
    {
     "name": "stderr",
     "output_type": "stream",
     "text": [
      "C:\\Users\\melan\\AppData\\Local\\Temp\\ipykernel_29428\\1923946446.py:25: FutureWarning: pandas.io.json.json_normalize is deprecated, use pandas.json_normalize instead.\n",
      "  books = json_normalize(results[\"results\"], record_path=[\"book_details\"], meta=[\"rank\", \"rank_last_week\", \"weeks_on_list\", \"asterisk\", \"dagger\"])\n"
     ]
    },
    {
     "name": "stdout",
     "output_type": "stream",
     "text": [
      "2017-01-23\n",
      "https://api.nytimes.com/svc/books/v3/lists.json?api-key=P1yDSg62Aydsdh04WBBuS57pYbpBu2tb&list=hardcover-fiction&published-date=2017-01-23\n"
     ]
    },
    {
     "name": "stderr",
     "output_type": "stream",
     "text": [
      "C:\\Users\\melan\\AppData\\Local\\Temp\\ipykernel_29428\\1923946446.py:25: FutureWarning: pandas.io.json.json_normalize is deprecated, use pandas.json_normalize instead.\n",
      "  books = json_normalize(results[\"results\"], record_path=[\"book_details\"], meta=[\"rank\", \"rank_last_week\", \"weeks_on_list\", \"asterisk\", \"dagger\"])\n"
     ]
    },
    {
     "name": "stdout",
     "output_type": "stream",
     "text": [
      "2017-01-16\n",
      "https://api.nytimes.com/svc/books/v3/lists.json?api-key=P1yDSg62Aydsdh04WBBuS57pYbpBu2tb&list=hardcover-fiction&published-date=2017-01-16\n"
     ]
    },
    {
     "name": "stderr",
     "output_type": "stream",
     "text": [
      "C:\\Users\\melan\\AppData\\Local\\Temp\\ipykernel_29428\\1923946446.py:25: FutureWarning: pandas.io.json.json_normalize is deprecated, use pandas.json_normalize instead.\n",
      "  books = json_normalize(results[\"results\"], record_path=[\"book_details\"], meta=[\"rank\", \"rank_last_week\", \"weeks_on_list\", \"asterisk\", \"dagger\"])\n"
     ]
    },
    {
     "name": "stdout",
     "output_type": "stream",
     "text": [
      "2017-01-09\n",
      "https://api.nytimes.com/svc/books/v3/lists.json?api-key=P1yDSg62Aydsdh04WBBuS57pYbpBu2tb&list=hardcover-fiction&published-date=2017-01-09\n"
     ]
    },
    {
     "name": "stderr",
     "output_type": "stream",
     "text": [
      "C:\\Users\\melan\\AppData\\Local\\Temp\\ipykernel_29428\\1923946446.py:25: FutureWarning: pandas.io.json.json_normalize is deprecated, use pandas.json_normalize instead.\n",
      "  books = json_normalize(results[\"results\"], record_path=[\"book_details\"], meta=[\"rank\", \"rank_last_week\", \"weeks_on_list\", \"asterisk\", \"dagger\"])\n"
     ]
    },
    {
     "name": "stdout",
     "output_type": "stream",
     "text": [
      "2017-01-02\n",
      "https://api.nytimes.com/svc/books/v3/lists.json?api-key=P1yDSg62Aydsdh04WBBuS57pYbpBu2tb&list=hardcover-fiction&published-date=2017-01-02\n"
     ]
    },
    {
     "name": "stderr",
     "output_type": "stream",
     "text": [
      "C:\\Users\\melan\\AppData\\Local\\Temp\\ipykernel_29428\\1923946446.py:25: FutureWarning: pandas.io.json.json_normalize is deprecated, use pandas.json_normalize instead.\n",
      "  books = json_normalize(results[\"results\"], record_path=[\"book_details\"], meta=[\"rank\", \"rank_last_week\", \"weeks_on_list\", \"asterisk\", \"dagger\"])\n"
     ]
    },
    {
     "name": "stdout",
     "output_type": "stream",
     "text": [
      "2016-12-26\n",
      "https://api.nytimes.com/svc/books/v3/lists.json?api-key=P1yDSg62Aydsdh04WBBuS57pYbpBu2tb&list=hardcover-fiction&published-date=2016-12-26\n"
     ]
    },
    {
     "name": "stderr",
     "output_type": "stream",
     "text": [
      "C:\\Users\\melan\\AppData\\Local\\Temp\\ipykernel_29428\\1923946446.py:25: FutureWarning: pandas.io.json.json_normalize is deprecated, use pandas.json_normalize instead.\n",
      "  books = json_normalize(results[\"results\"], record_path=[\"book_details\"], meta=[\"rank\", \"rank_last_week\", \"weeks_on_list\", \"asterisk\", \"dagger\"])\n"
     ]
    },
    {
     "name": "stdout",
     "output_type": "stream",
     "text": [
      "2016-12-19\n",
      "https://api.nytimes.com/svc/books/v3/lists.json?api-key=P1yDSg62Aydsdh04WBBuS57pYbpBu2tb&list=hardcover-fiction&published-date=2016-12-19\n"
     ]
    },
    {
     "name": "stderr",
     "output_type": "stream",
     "text": [
      "C:\\Users\\melan\\AppData\\Local\\Temp\\ipykernel_29428\\1923946446.py:25: FutureWarning: pandas.io.json.json_normalize is deprecated, use pandas.json_normalize instead.\n",
      "  books = json_normalize(results[\"results\"], record_path=[\"book_details\"], meta=[\"rank\", \"rank_last_week\", \"weeks_on_list\", \"asterisk\", \"dagger\"])\n"
     ]
    },
    {
     "name": "stdout",
     "output_type": "stream",
     "text": [
      "2016-12-12\n",
      "https://api.nytimes.com/svc/books/v3/lists.json?api-key=P1yDSg62Aydsdh04WBBuS57pYbpBu2tb&list=hardcover-fiction&published-date=2016-12-12\n"
     ]
    },
    {
     "name": "stderr",
     "output_type": "stream",
     "text": [
      "C:\\Users\\melan\\AppData\\Local\\Temp\\ipykernel_29428\\1923946446.py:25: FutureWarning: pandas.io.json.json_normalize is deprecated, use pandas.json_normalize instead.\n",
      "  books = json_normalize(results[\"results\"], record_path=[\"book_details\"], meta=[\"rank\", \"rank_last_week\", \"weeks_on_list\", \"asterisk\", \"dagger\"])\n"
     ]
    },
    {
     "name": "stdout",
     "output_type": "stream",
     "text": [
      "2016-12-05\n",
      "https://api.nytimes.com/svc/books/v3/lists.json?api-key=P1yDSg62Aydsdh04WBBuS57pYbpBu2tb&list=hardcover-fiction&published-date=2016-12-05\n"
     ]
    },
    {
     "name": "stderr",
     "output_type": "stream",
     "text": [
      "C:\\Users\\melan\\AppData\\Local\\Temp\\ipykernel_29428\\1923946446.py:25: FutureWarning: pandas.io.json.json_normalize is deprecated, use pandas.json_normalize instead.\n",
      "  books = json_normalize(results[\"results\"], record_path=[\"book_details\"], meta=[\"rank\", \"rank_last_week\", \"weeks_on_list\", \"asterisk\", \"dagger\"])\n"
     ]
    },
    {
     "name": "stdout",
     "output_type": "stream",
     "text": [
      "2016-11-28\n",
      "https://api.nytimes.com/svc/books/v3/lists.json?api-key=P1yDSg62Aydsdh04WBBuS57pYbpBu2tb&list=hardcover-fiction&published-date=2016-11-28\n"
     ]
    },
    {
     "name": "stderr",
     "output_type": "stream",
     "text": [
      "C:\\Users\\melan\\AppData\\Local\\Temp\\ipykernel_29428\\1923946446.py:25: FutureWarning: pandas.io.json.json_normalize is deprecated, use pandas.json_normalize instead.\n",
      "  books = json_normalize(results[\"results\"], record_path=[\"book_details\"], meta=[\"rank\", \"rank_last_week\", \"weeks_on_list\", \"asterisk\", \"dagger\"])\n"
     ]
    },
    {
     "name": "stdout",
     "output_type": "stream",
     "text": [
      "2016-11-21\n",
      "https://api.nytimes.com/svc/books/v3/lists.json?api-key=P1yDSg62Aydsdh04WBBuS57pYbpBu2tb&list=hardcover-fiction&published-date=2016-11-21\n"
     ]
    },
    {
     "name": "stderr",
     "output_type": "stream",
     "text": [
      "C:\\Users\\melan\\AppData\\Local\\Temp\\ipykernel_29428\\1923946446.py:25: FutureWarning: pandas.io.json.json_normalize is deprecated, use pandas.json_normalize instead.\n",
      "  books = json_normalize(results[\"results\"], record_path=[\"book_details\"], meta=[\"rank\", \"rank_last_week\", \"weeks_on_list\", \"asterisk\", \"dagger\"])\n"
     ]
    },
    {
     "name": "stdout",
     "output_type": "stream",
     "text": [
      "2016-11-14\n",
      "https://api.nytimes.com/svc/books/v3/lists.json?api-key=P1yDSg62Aydsdh04WBBuS57pYbpBu2tb&list=hardcover-fiction&published-date=2016-11-14\n"
     ]
    },
    {
     "name": "stderr",
     "output_type": "stream",
     "text": [
      "C:\\Users\\melan\\AppData\\Local\\Temp\\ipykernel_29428\\1923946446.py:25: FutureWarning: pandas.io.json.json_normalize is deprecated, use pandas.json_normalize instead.\n",
      "  books = json_normalize(results[\"results\"], record_path=[\"book_details\"], meta=[\"rank\", \"rank_last_week\", \"weeks_on_list\", \"asterisk\", \"dagger\"])\n"
     ]
    },
    {
     "name": "stdout",
     "output_type": "stream",
     "text": [
      "2016-11-07\n",
      "https://api.nytimes.com/svc/books/v3/lists.json?api-key=P1yDSg62Aydsdh04WBBuS57pYbpBu2tb&list=hardcover-fiction&published-date=2016-11-07\n"
     ]
    },
    {
     "name": "stderr",
     "output_type": "stream",
     "text": [
      "C:\\Users\\melan\\AppData\\Local\\Temp\\ipykernel_29428\\1923946446.py:25: FutureWarning: pandas.io.json.json_normalize is deprecated, use pandas.json_normalize instead.\n",
      "  books = json_normalize(results[\"results\"], record_path=[\"book_details\"], meta=[\"rank\", \"rank_last_week\", \"weeks_on_list\", \"asterisk\", \"dagger\"])\n"
     ]
    },
    {
     "name": "stdout",
     "output_type": "stream",
     "text": [
      "2016-10-31\n",
      "https://api.nytimes.com/svc/books/v3/lists.json?api-key=P1yDSg62Aydsdh04WBBuS57pYbpBu2tb&list=hardcover-fiction&published-date=2016-10-31\n"
     ]
    },
    {
     "name": "stderr",
     "output_type": "stream",
     "text": [
      "C:\\Users\\melan\\AppData\\Local\\Temp\\ipykernel_29428\\1923946446.py:25: FutureWarning: pandas.io.json.json_normalize is deprecated, use pandas.json_normalize instead.\n",
      "  books = json_normalize(results[\"results\"], record_path=[\"book_details\"], meta=[\"rank\", \"rank_last_week\", \"weeks_on_list\", \"asterisk\", \"dagger\"])\n"
     ]
    },
    {
     "name": "stdout",
     "output_type": "stream",
     "text": [
      "2016-10-24\n",
      "https://api.nytimes.com/svc/books/v3/lists.json?api-key=P1yDSg62Aydsdh04WBBuS57pYbpBu2tb&list=hardcover-fiction&published-date=2016-10-24\n"
     ]
    },
    {
     "name": "stderr",
     "output_type": "stream",
     "text": [
      "C:\\Users\\melan\\AppData\\Local\\Temp\\ipykernel_29428\\1923946446.py:25: FutureWarning: pandas.io.json.json_normalize is deprecated, use pandas.json_normalize instead.\n",
      "  books = json_normalize(results[\"results\"], record_path=[\"book_details\"], meta=[\"rank\", \"rank_last_week\", \"weeks_on_list\", \"asterisk\", \"dagger\"])\n"
     ]
    },
    {
     "name": "stdout",
     "output_type": "stream",
     "text": [
      "2016-10-17\n",
      "https://api.nytimes.com/svc/books/v3/lists.json?api-key=P1yDSg62Aydsdh04WBBuS57pYbpBu2tb&list=hardcover-fiction&published-date=2016-10-17\n"
     ]
    },
    {
     "name": "stderr",
     "output_type": "stream",
     "text": [
      "C:\\Users\\melan\\AppData\\Local\\Temp\\ipykernel_29428\\1923946446.py:25: FutureWarning: pandas.io.json.json_normalize is deprecated, use pandas.json_normalize instead.\n",
      "  books = json_normalize(results[\"results\"], record_path=[\"book_details\"], meta=[\"rank\", \"rank_last_week\", \"weeks_on_list\", \"asterisk\", \"dagger\"])\n"
     ]
    },
    {
     "name": "stdout",
     "output_type": "stream",
     "text": [
      "2016-10-10\n",
      "https://api.nytimes.com/svc/books/v3/lists.json?api-key=P1yDSg62Aydsdh04WBBuS57pYbpBu2tb&list=hardcover-fiction&published-date=2016-10-10\n"
     ]
    },
    {
     "name": "stderr",
     "output_type": "stream",
     "text": [
      "C:\\Users\\melan\\AppData\\Local\\Temp\\ipykernel_29428\\1923946446.py:25: FutureWarning: pandas.io.json.json_normalize is deprecated, use pandas.json_normalize instead.\n",
      "  books = json_normalize(results[\"results\"], record_path=[\"book_details\"], meta=[\"rank\", \"rank_last_week\", \"weeks_on_list\", \"asterisk\", \"dagger\"])\n"
     ]
    },
    {
     "name": "stdout",
     "output_type": "stream",
     "text": [
      "2016-10-03\n",
      "https://api.nytimes.com/svc/books/v3/lists.json?api-key=P1yDSg62Aydsdh04WBBuS57pYbpBu2tb&list=hardcover-fiction&published-date=2016-10-03\n"
     ]
    },
    {
     "name": "stderr",
     "output_type": "stream",
     "text": [
      "C:\\Users\\melan\\AppData\\Local\\Temp\\ipykernel_29428\\1923946446.py:25: FutureWarning: pandas.io.json.json_normalize is deprecated, use pandas.json_normalize instead.\n",
      "  books = json_normalize(results[\"results\"], record_path=[\"book_details\"], meta=[\"rank\", \"rank_last_week\", \"weeks_on_list\", \"asterisk\", \"dagger\"])\n"
     ]
    },
    {
     "name": "stdout",
     "output_type": "stream",
     "text": [
      "2016-09-26\n",
      "https://api.nytimes.com/svc/books/v3/lists.json?api-key=P1yDSg62Aydsdh04WBBuS57pYbpBu2tb&list=hardcover-fiction&published-date=2016-09-26\n"
     ]
    },
    {
     "name": "stderr",
     "output_type": "stream",
     "text": [
      "C:\\Users\\melan\\AppData\\Local\\Temp\\ipykernel_29428\\1923946446.py:25: FutureWarning: pandas.io.json.json_normalize is deprecated, use pandas.json_normalize instead.\n",
      "  books = json_normalize(results[\"results\"], record_path=[\"book_details\"], meta=[\"rank\", \"rank_last_week\", \"weeks_on_list\", \"asterisk\", \"dagger\"])\n"
     ]
    },
    {
     "name": "stdout",
     "output_type": "stream",
     "text": [
      "2016-09-19\n",
      "https://api.nytimes.com/svc/books/v3/lists.json?api-key=P1yDSg62Aydsdh04WBBuS57pYbpBu2tb&list=hardcover-fiction&published-date=2016-09-19\n"
     ]
    },
    {
     "name": "stderr",
     "output_type": "stream",
     "text": [
      "C:\\Users\\melan\\AppData\\Local\\Temp\\ipykernel_29428\\1923946446.py:25: FutureWarning: pandas.io.json.json_normalize is deprecated, use pandas.json_normalize instead.\n",
      "  books = json_normalize(results[\"results\"], record_path=[\"book_details\"], meta=[\"rank\", \"rank_last_week\", \"weeks_on_list\", \"asterisk\", \"dagger\"])\n"
     ]
    },
    {
     "name": "stdout",
     "output_type": "stream",
     "text": [
      "2016-09-12\n",
      "https://api.nytimes.com/svc/books/v3/lists.json?api-key=P1yDSg62Aydsdh04WBBuS57pYbpBu2tb&list=hardcover-fiction&published-date=2016-09-12\n"
     ]
    },
    {
     "name": "stderr",
     "output_type": "stream",
     "text": [
      "C:\\Users\\melan\\AppData\\Local\\Temp\\ipykernel_29428\\1923946446.py:25: FutureWarning: pandas.io.json.json_normalize is deprecated, use pandas.json_normalize instead.\n",
      "  books = json_normalize(results[\"results\"], record_path=[\"book_details\"], meta=[\"rank\", \"rank_last_week\", \"weeks_on_list\", \"asterisk\", \"dagger\"])\n"
     ]
    },
    {
     "name": "stdout",
     "output_type": "stream",
     "text": [
      "2016-09-05\n",
      "https://api.nytimes.com/svc/books/v3/lists.json?api-key=P1yDSg62Aydsdh04WBBuS57pYbpBu2tb&list=hardcover-fiction&published-date=2016-09-05\n"
     ]
    },
    {
     "name": "stderr",
     "output_type": "stream",
     "text": [
      "C:\\Users\\melan\\AppData\\Local\\Temp\\ipykernel_29428\\1923946446.py:25: FutureWarning: pandas.io.json.json_normalize is deprecated, use pandas.json_normalize instead.\n",
      "  books = json_normalize(results[\"results\"], record_path=[\"book_details\"], meta=[\"rank\", \"rank_last_week\", \"weeks_on_list\", \"asterisk\", \"dagger\"])\n"
     ]
    },
    {
     "name": "stdout",
     "output_type": "stream",
     "text": [
      "2016-08-29\n",
      "https://api.nytimes.com/svc/books/v3/lists.json?api-key=P1yDSg62Aydsdh04WBBuS57pYbpBu2tb&list=hardcover-fiction&published-date=2016-08-29\n"
     ]
    },
    {
     "name": "stderr",
     "output_type": "stream",
     "text": [
      "C:\\Users\\melan\\AppData\\Local\\Temp\\ipykernel_29428\\1923946446.py:25: FutureWarning: pandas.io.json.json_normalize is deprecated, use pandas.json_normalize instead.\n",
      "  books = json_normalize(results[\"results\"], record_path=[\"book_details\"], meta=[\"rank\", \"rank_last_week\", \"weeks_on_list\", \"asterisk\", \"dagger\"])\n"
     ]
    },
    {
     "name": "stdout",
     "output_type": "stream",
     "text": [
      "2016-08-22\n",
      "https://api.nytimes.com/svc/books/v3/lists.json?api-key=P1yDSg62Aydsdh04WBBuS57pYbpBu2tb&list=hardcover-fiction&published-date=2016-08-22\n"
     ]
    },
    {
     "name": "stderr",
     "output_type": "stream",
     "text": [
      "C:\\Users\\melan\\AppData\\Local\\Temp\\ipykernel_29428\\1923946446.py:25: FutureWarning: pandas.io.json.json_normalize is deprecated, use pandas.json_normalize instead.\n",
      "  books = json_normalize(results[\"results\"], record_path=[\"book_details\"], meta=[\"rank\", \"rank_last_week\", \"weeks_on_list\", \"asterisk\", \"dagger\"])\n"
     ]
    },
    {
     "name": "stdout",
     "output_type": "stream",
     "text": [
      "2016-08-15\n",
      "https://api.nytimes.com/svc/books/v3/lists.json?api-key=P1yDSg62Aydsdh04WBBuS57pYbpBu2tb&list=hardcover-fiction&published-date=2016-08-15\n"
     ]
    },
    {
     "name": "stderr",
     "output_type": "stream",
     "text": [
      "C:\\Users\\melan\\AppData\\Local\\Temp\\ipykernel_29428\\1923946446.py:25: FutureWarning: pandas.io.json.json_normalize is deprecated, use pandas.json_normalize instead.\n",
      "  books = json_normalize(results[\"results\"], record_path=[\"book_details\"], meta=[\"rank\", \"rank_last_week\", \"weeks_on_list\", \"asterisk\", \"dagger\"])\n"
     ]
    },
    {
     "name": "stdout",
     "output_type": "stream",
     "text": [
      "2016-08-08\n",
      "https://api.nytimes.com/svc/books/v3/lists.json?api-key=P1yDSg62Aydsdh04WBBuS57pYbpBu2tb&list=hardcover-fiction&published-date=2016-08-08\n"
     ]
    },
    {
     "name": "stderr",
     "output_type": "stream",
     "text": [
      "C:\\Users\\melan\\AppData\\Local\\Temp\\ipykernel_29428\\1923946446.py:25: FutureWarning: pandas.io.json.json_normalize is deprecated, use pandas.json_normalize instead.\n",
      "  books = json_normalize(results[\"results\"], record_path=[\"book_details\"], meta=[\"rank\", \"rank_last_week\", \"weeks_on_list\", \"asterisk\", \"dagger\"])\n"
     ]
    },
    {
     "name": "stdout",
     "output_type": "stream",
     "text": [
      "2016-08-01\n",
      "https://api.nytimes.com/svc/books/v3/lists.json?api-key=P1yDSg62Aydsdh04WBBuS57pYbpBu2tb&list=hardcover-fiction&published-date=2016-08-01\n"
     ]
    },
    {
     "name": "stderr",
     "output_type": "stream",
     "text": [
      "C:\\Users\\melan\\AppData\\Local\\Temp\\ipykernel_29428\\1923946446.py:25: FutureWarning: pandas.io.json.json_normalize is deprecated, use pandas.json_normalize instead.\n",
      "  books = json_normalize(results[\"results\"], record_path=[\"book_details\"], meta=[\"rank\", \"rank_last_week\", \"weeks_on_list\", \"asterisk\", \"dagger\"])\n"
     ]
    },
    {
     "name": "stdout",
     "output_type": "stream",
     "text": [
      "2016-07-25\n",
      "https://api.nytimes.com/svc/books/v3/lists.json?api-key=P1yDSg62Aydsdh04WBBuS57pYbpBu2tb&list=hardcover-fiction&published-date=2016-07-25\n"
     ]
    },
    {
     "name": "stderr",
     "output_type": "stream",
     "text": [
      "C:\\Users\\melan\\AppData\\Local\\Temp\\ipykernel_29428\\1923946446.py:25: FutureWarning: pandas.io.json.json_normalize is deprecated, use pandas.json_normalize instead.\n",
      "  books = json_normalize(results[\"results\"], record_path=[\"book_details\"], meta=[\"rank\", \"rank_last_week\", \"weeks_on_list\", \"asterisk\", \"dagger\"])\n"
     ]
    },
    {
     "name": "stdout",
     "output_type": "stream",
     "text": [
      "2016-07-18\n",
      "https://api.nytimes.com/svc/books/v3/lists.json?api-key=P1yDSg62Aydsdh04WBBuS57pYbpBu2tb&list=hardcover-fiction&published-date=2016-07-18\n"
     ]
    },
    {
     "name": "stderr",
     "output_type": "stream",
     "text": [
      "C:\\Users\\melan\\AppData\\Local\\Temp\\ipykernel_29428\\1923946446.py:25: FutureWarning: pandas.io.json.json_normalize is deprecated, use pandas.json_normalize instead.\n",
      "  books = json_normalize(results[\"results\"], record_path=[\"book_details\"], meta=[\"rank\", \"rank_last_week\", \"weeks_on_list\", \"asterisk\", \"dagger\"])\n"
     ]
    },
    {
     "name": "stdout",
     "output_type": "stream",
     "text": [
      "2016-07-11\n",
      "https://api.nytimes.com/svc/books/v3/lists.json?api-key=P1yDSg62Aydsdh04WBBuS57pYbpBu2tb&list=hardcover-fiction&published-date=2016-07-11\n"
     ]
    },
    {
     "name": "stderr",
     "output_type": "stream",
     "text": [
      "C:\\Users\\melan\\AppData\\Local\\Temp\\ipykernel_29428\\1923946446.py:25: FutureWarning: pandas.io.json.json_normalize is deprecated, use pandas.json_normalize instead.\n",
      "  books = json_normalize(results[\"results\"], record_path=[\"book_details\"], meta=[\"rank\", \"rank_last_week\", \"weeks_on_list\", \"asterisk\", \"dagger\"])\n"
     ]
    },
    {
     "name": "stdout",
     "output_type": "stream",
     "text": [
      "2016-07-04\n",
      "https://api.nytimes.com/svc/books/v3/lists.json?api-key=P1yDSg62Aydsdh04WBBuS57pYbpBu2tb&list=hardcover-fiction&published-date=2016-07-04\n"
     ]
    },
    {
     "name": "stderr",
     "output_type": "stream",
     "text": [
      "C:\\Users\\melan\\AppData\\Local\\Temp\\ipykernel_29428\\1923946446.py:25: FutureWarning: pandas.io.json.json_normalize is deprecated, use pandas.json_normalize instead.\n",
      "  books = json_normalize(results[\"results\"], record_path=[\"book_details\"], meta=[\"rank\", \"rank_last_week\", \"weeks_on_list\", \"asterisk\", \"dagger\"])\n"
     ]
    },
    {
     "name": "stdout",
     "output_type": "stream",
     "text": [
      "2016-06-27\n",
      "https://api.nytimes.com/svc/books/v3/lists.json?api-key=P1yDSg62Aydsdh04WBBuS57pYbpBu2tb&list=hardcover-fiction&published-date=2016-06-27\n"
     ]
    },
    {
     "name": "stderr",
     "output_type": "stream",
     "text": [
      "C:\\Users\\melan\\AppData\\Local\\Temp\\ipykernel_29428\\1923946446.py:25: FutureWarning: pandas.io.json.json_normalize is deprecated, use pandas.json_normalize instead.\n",
      "  books = json_normalize(results[\"results\"], record_path=[\"book_details\"], meta=[\"rank\", \"rank_last_week\", \"weeks_on_list\", \"asterisk\", \"dagger\"])\n"
     ]
    },
    {
     "name": "stdout",
     "output_type": "stream",
     "text": [
      "2016-06-20\n",
      "https://api.nytimes.com/svc/books/v3/lists.json?api-key=P1yDSg62Aydsdh04WBBuS57pYbpBu2tb&list=hardcover-fiction&published-date=2016-06-20\n"
     ]
    },
    {
     "name": "stderr",
     "output_type": "stream",
     "text": [
      "C:\\Users\\melan\\AppData\\Local\\Temp\\ipykernel_29428\\1923946446.py:25: FutureWarning: pandas.io.json.json_normalize is deprecated, use pandas.json_normalize instead.\n",
      "  books = json_normalize(results[\"results\"], record_path=[\"book_details\"], meta=[\"rank\", \"rank_last_week\", \"weeks_on_list\", \"asterisk\", \"dagger\"])\n"
     ]
    },
    {
     "name": "stdout",
     "output_type": "stream",
     "text": [
      "2016-06-13\n",
      "https://api.nytimes.com/svc/books/v3/lists.json?api-key=P1yDSg62Aydsdh04WBBuS57pYbpBu2tb&list=hardcover-fiction&published-date=2016-06-13\n"
     ]
    },
    {
     "name": "stderr",
     "output_type": "stream",
     "text": [
      "C:\\Users\\melan\\AppData\\Local\\Temp\\ipykernel_29428\\1923946446.py:25: FutureWarning: pandas.io.json.json_normalize is deprecated, use pandas.json_normalize instead.\n",
      "  books = json_normalize(results[\"results\"], record_path=[\"book_details\"], meta=[\"rank\", \"rank_last_week\", \"weeks_on_list\", \"asterisk\", \"dagger\"])\n"
     ]
    },
    {
     "name": "stdout",
     "output_type": "stream",
     "text": [
      "2016-06-06\n",
      "https://api.nytimes.com/svc/books/v3/lists.json?api-key=P1yDSg62Aydsdh04WBBuS57pYbpBu2tb&list=hardcover-fiction&published-date=2016-06-06\n"
     ]
    },
    {
     "name": "stderr",
     "output_type": "stream",
     "text": [
      "C:\\Users\\melan\\AppData\\Local\\Temp\\ipykernel_29428\\1923946446.py:25: FutureWarning: pandas.io.json.json_normalize is deprecated, use pandas.json_normalize instead.\n",
      "  books = json_normalize(results[\"results\"], record_path=[\"book_details\"], meta=[\"rank\", \"rank_last_week\", \"weeks_on_list\", \"asterisk\", \"dagger\"])\n"
     ]
    },
    {
     "name": "stdout",
     "output_type": "stream",
     "text": [
      "2016-05-30\n",
      "https://api.nytimes.com/svc/books/v3/lists.json?api-key=P1yDSg62Aydsdh04WBBuS57pYbpBu2tb&list=hardcover-fiction&published-date=2016-05-30\n"
     ]
    },
    {
     "name": "stderr",
     "output_type": "stream",
     "text": [
      "C:\\Users\\melan\\AppData\\Local\\Temp\\ipykernel_29428\\1923946446.py:25: FutureWarning: pandas.io.json.json_normalize is deprecated, use pandas.json_normalize instead.\n",
      "  books = json_normalize(results[\"results\"], record_path=[\"book_details\"], meta=[\"rank\", \"rank_last_week\", \"weeks_on_list\", \"asterisk\", \"dagger\"])\n"
     ]
    },
    {
     "name": "stdout",
     "output_type": "stream",
     "text": [
      "2016-05-23\n",
      "https://api.nytimes.com/svc/books/v3/lists.json?api-key=P1yDSg62Aydsdh04WBBuS57pYbpBu2tb&list=hardcover-fiction&published-date=2016-05-23\n"
     ]
    },
    {
     "name": "stderr",
     "output_type": "stream",
     "text": [
      "C:\\Users\\melan\\AppData\\Local\\Temp\\ipykernel_29428\\1923946446.py:25: FutureWarning: pandas.io.json.json_normalize is deprecated, use pandas.json_normalize instead.\n",
      "  books = json_normalize(results[\"results\"], record_path=[\"book_details\"], meta=[\"rank\", \"rank_last_week\", \"weeks_on_list\", \"asterisk\", \"dagger\"])\n"
     ]
    },
    {
     "name": "stdout",
     "output_type": "stream",
     "text": [
      "2016-05-16\n",
      "https://api.nytimes.com/svc/books/v3/lists.json?api-key=P1yDSg62Aydsdh04WBBuS57pYbpBu2tb&list=hardcover-fiction&published-date=2016-05-16\n"
     ]
    },
    {
     "name": "stderr",
     "output_type": "stream",
     "text": [
      "C:\\Users\\melan\\AppData\\Local\\Temp\\ipykernel_29428\\1923946446.py:25: FutureWarning: pandas.io.json.json_normalize is deprecated, use pandas.json_normalize instead.\n",
      "  books = json_normalize(results[\"results\"], record_path=[\"book_details\"], meta=[\"rank\", \"rank_last_week\", \"weeks_on_list\", \"asterisk\", \"dagger\"])\n"
     ]
    },
    {
     "name": "stdout",
     "output_type": "stream",
     "text": [
      "2016-05-09\n",
      "https://api.nytimes.com/svc/books/v3/lists.json?api-key=P1yDSg62Aydsdh04WBBuS57pYbpBu2tb&list=hardcover-fiction&published-date=2016-05-09\n"
     ]
    },
    {
     "name": "stderr",
     "output_type": "stream",
     "text": [
      "C:\\Users\\melan\\AppData\\Local\\Temp\\ipykernel_29428\\1923946446.py:25: FutureWarning: pandas.io.json.json_normalize is deprecated, use pandas.json_normalize instead.\n",
      "  books = json_normalize(results[\"results\"], record_path=[\"book_details\"], meta=[\"rank\", \"rank_last_week\", \"weeks_on_list\", \"asterisk\", \"dagger\"])\n"
     ]
    },
    {
     "name": "stdout",
     "output_type": "stream",
     "text": [
      "2016-05-02\n",
      "https://api.nytimes.com/svc/books/v3/lists.json?api-key=P1yDSg62Aydsdh04WBBuS57pYbpBu2tb&list=hardcover-fiction&published-date=2016-05-02\n"
     ]
    },
    {
     "name": "stderr",
     "output_type": "stream",
     "text": [
      "C:\\Users\\melan\\AppData\\Local\\Temp\\ipykernel_29428\\1923946446.py:25: FutureWarning: pandas.io.json.json_normalize is deprecated, use pandas.json_normalize instead.\n",
      "  books = json_normalize(results[\"results\"], record_path=[\"book_details\"], meta=[\"rank\", \"rank_last_week\", \"weeks_on_list\", \"asterisk\", \"dagger\"])\n"
     ]
    },
    {
     "name": "stdout",
     "output_type": "stream",
     "text": [
      "2016-04-25\n",
      "https://api.nytimes.com/svc/books/v3/lists.json?api-key=P1yDSg62Aydsdh04WBBuS57pYbpBu2tb&list=hardcover-fiction&published-date=2016-04-25\n"
     ]
    },
    {
     "name": "stderr",
     "output_type": "stream",
     "text": [
      "C:\\Users\\melan\\AppData\\Local\\Temp\\ipykernel_29428\\1923946446.py:25: FutureWarning: pandas.io.json.json_normalize is deprecated, use pandas.json_normalize instead.\n",
      "  books = json_normalize(results[\"results\"], record_path=[\"book_details\"], meta=[\"rank\", \"rank_last_week\", \"weeks_on_list\", \"asterisk\", \"dagger\"])\n"
     ]
    },
    {
     "name": "stdout",
     "output_type": "stream",
     "text": [
      "2016-04-18\n",
      "https://api.nytimes.com/svc/books/v3/lists.json?api-key=P1yDSg62Aydsdh04WBBuS57pYbpBu2tb&list=hardcover-fiction&published-date=2016-04-18\n"
     ]
    },
    {
     "name": "stderr",
     "output_type": "stream",
     "text": [
      "C:\\Users\\melan\\AppData\\Local\\Temp\\ipykernel_29428\\1923946446.py:25: FutureWarning: pandas.io.json.json_normalize is deprecated, use pandas.json_normalize instead.\n",
      "  books = json_normalize(results[\"results\"], record_path=[\"book_details\"], meta=[\"rank\", \"rank_last_week\", \"weeks_on_list\", \"asterisk\", \"dagger\"])\n"
     ]
    },
    {
     "name": "stdout",
     "output_type": "stream",
     "text": [
      "2016-04-11\n",
      "https://api.nytimes.com/svc/books/v3/lists.json?api-key=P1yDSg62Aydsdh04WBBuS57pYbpBu2tb&list=hardcover-fiction&published-date=2016-04-11\n"
     ]
    },
    {
     "name": "stderr",
     "output_type": "stream",
     "text": [
      "C:\\Users\\melan\\AppData\\Local\\Temp\\ipykernel_29428\\1923946446.py:25: FutureWarning: pandas.io.json.json_normalize is deprecated, use pandas.json_normalize instead.\n",
      "  books = json_normalize(results[\"results\"], record_path=[\"book_details\"], meta=[\"rank\", \"rank_last_week\", \"weeks_on_list\", \"asterisk\", \"dagger\"])\n"
     ]
    },
    {
     "name": "stdout",
     "output_type": "stream",
     "text": [
      "2016-04-04\n",
      "https://api.nytimes.com/svc/books/v3/lists.json?api-key=P1yDSg62Aydsdh04WBBuS57pYbpBu2tb&list=hardcover-fiction&published-date=2016-04-04\n"
     ]
    },
    {
     "name": "stderr",
     "output_type": "stream",
     "text": [
      "C:\\Users\\melan\\AppData\\Local\\Temp\\ipykernel_29428\\1923946446.py:25: FutureWarning: pandas.io.json.json_normalize is deprecated, use pandas.json_normalize instead.\n",
      "  books = json_normalize(results[\"results\"], record_path=[\"book_details\"], meta=[\"rank\", \"rank_last_week\", \"weeks_on_list\", \"asterisk\", \"dagger\"])\n"
     ]
    },
    {
     "name": "stdout",
     "output_type": "stream",
     "text": [
      "2016-03-28\n",
      "https://api.nytimes.com/svc/books/v3/lists.json?api-key=P1yDSg62Aydsdh04WBBuS57pYbpBu2tb&list=hardcover-fiction&published-date=2016-03-28\n"
     ]
    },
    {
     "name": "stderr",
     "output_type": "stream",
     "text": [
      "C:\\Users\\melan\\AppData\\Local\\Temp\\ipykernel_29428\\1923946446.py:25: FutureWarning: pandas.io.json.json_normalize is deprecated, use pandas.json_normalize instead.\n",
      "  books = json_normalize(results[\"results\"], record_path=[\"book_details\"], meta=[\"rank\", \"rank_last_week\", \"weeks_on_list\", \"asterisk\", \"dagger\"])\n"
     ]
    },
    {
     "name": "stdout",
     "output_type": "stream",
     "text": [
      "2016-03-21\n",
      "https://api.nytimes.com/svc/books/v3/lists.json?api-key=P1yDSg62Aydsdh04WBBuS57pYbpBu2tb&list=hardcover-fiction&published-date=2016-03-21\n"
     ]
    },
    {
     "name": "stderr",
     "output_type": "stream",
     "text": [
      "C:\\Users\\melan\\AppData\\Local\\Temp\\ipykernel_29428\\1923946446.py:25: FutureWarning: pandas.io.json.json_normalize is deprecated, use pandas.json_normalize instead.\n",
      "  books = json_normalize(results[\"results\"], record_path=[\"book_details\"], meta=[\"rank\", \"rank_last_week\", \"weeks_on_list\", \"asterisk\", \"dagger\"])\n"
     ]
    },
    {
     "name": "stdout",
     "output_type": "stream",
     "text": [
      "2016-03-14\n",
      "https://api.nytimes.com/svc/books/v3/lists.json?api-key=P1yDSg62Aydsdh04WBBuS57pYbpBu2tb&list=hardcover-fiction&published-date=2016-03-14\n"
     ]
    },
    {
     "name": "stderr",
     "output_type": "stream",
     "text": [
      "C:\\Users\\melan\\AppData\\Local\\Temp\\ipykernel_29428\\1923946446.py:25: FutureWarning: pandas.io.json.json_normalize is deprecated, use pandas.json_normalize instead.\n",
      "  books = json_normalize(results[\"results\"], record_path=[\"book_details\"], meta=[\"rank\", \"rank_last_week\", \"weeks_on_list\", \"asterisk\", \"dagger\"])\n"
     ]
    },
    {
     "name": "stdout",
     "output_type": "stream",
     "text": [
      "2016-03-07\n",
      "https://api.nytimes.com/svc/books/v3/lists.json?api-key=P1yDSg62Aydsdh04WBBuS57pYbpBu2tb&list=hardcover-fiction&published-date=2016-03-07\n"
     ]
    },
    {
     "name": "stderr",
     "output_type": "stream",
     "text": [
      "C:\\Users\\melan\\AppData\\Local\\Temp\\ipykernel_29428\\1923946446.py:25: FutureWarning: pandas.io.json.json_normalize is deprecated, use pandas.json_normalize instead.\n",
      "  books = json_normalize(results[\"results\"], record_path=[\"book_details\"], meta=[\"rank\", \"rank_last_week\", \"weeks_on_list\", \"asterisk\", \"dagger\"])\n"
     ]
    },
    {
     "name": "stdout",
     "output_type": "stream",
     "text": [
      "2016-02-29\n",
      "https://api.nytimes.com/svc/books/v3/lists.json?api-key=P1yDSg62Aydsdh04WBBuS57pYbpBu2tb&list=hardcover-fiction&published-date=2016-02-29\n"
     ]
    },
    {
     "name": "stderr",
     "output_type": "stream",
     "text": [
      "C:\\Users\\melan\\AppData\\Local\\Temp\\ipykernel_29428\\1923946446.py:25: FutureWarning: pandas.io.json.json_normalize is deprecated, use pandas.json_normalize instead.\n",
      "  books = json_normalize(results[\"results\"], record_path=[\"book_details\"], meta=[\"rank\", \"rank_last_week\", \"weeks_on_list\", \"asterisk\", \"dagger\"])\n"
     ]
    },
    {
     "name": "stdout",
     "output_type": "stream",
     "text": [
      "2016-02-22\n",
      "https://api.nytimes.com/svc/books/v3/lists.json?api-key=P1yDSg62Aydsdh04WBBuS57pYbpBu2tb&list=hardcover-fiction&published-date=2016-02-22\n"
     ]
    },
    {
     "name": "stderr",
     "output_type": "stream",
     "text": [
      "C:\\Users\\melan\\AppData\\Local\\Temp\\ipykernel_29428\\1923946446.py:25: FutureWarning: pandas.io.json.json_normalize is deprecated, use pandas.json_normalize instead.\n",
      "  books = json_normalize(results[\"results\"], record_path=[\"book_details\"], meta=[\"rank\", \"rank_last_week\", \"weeks_on_list\", \"asterisk\", \"dagger\"])\n"
     ]
    },
    {
     "name": "stdout",
     "output_type": "stream",
     "text": [
      "2016-02-15\n",
      "https://api.nytimes.com/svc/books/v3/lists.json?api-key=P1yDSg62Aydsdh04WBBuS57pYbpBu2tb&list=hardcover-fiction&published-date=2016-02-15\n"
     ]
    },
    {
     "name": "stderr",
     "output_type": "stream",
     "text": [
      "C:\\Users\\melan\\AppData\\Local\\Temp\\ipykernel_29428\\1923946446.py:25: FutureWarning: pandas.io.json.json_normalize is deprecated, use pandas.json_normalize instead.\n",
      "  books = json_normalize(results[\"results\"], record_path=[\"book_details\"], meta=[\"rank\", \"rank_last_week\", \"weeks_on_list\", \"asterisk\", \"dagger\"])\n"
     ]
    },
    {
     "name": "stdout",
     "output_type": "stream",
     "text": [
      "2016-02-08\n",
      "https://api.nytimes.com/svc/books/v3/lists.json?api-key=P1yDSg62Aydsdh04WBBuS57pYbpBu2tb&list=hardcover-fiction&published-date=2016-02-08\n"
     ]
    },
    {
     "name": "stderr",
     "output_type": "stream",
     "text": [
      "C:\\Users\\melan\\AppData\\Local\\Temp\\ipykernel_29428\\1923946446.py:25: FutureWarning: pandas.io.json.json_normalize is deprecated, use pandas.json_normalize instead.\n",
      "  books = json_normalize(results[\"results\"], record_path=[\"book_details\"], meta=[\"rank\", \"rank_last_week\", \"weeks_on_list\", \"asterisk\", \"dagger\"])\n"
     ]
    },
    {
     "name": "stdout",
     "output_type": "stream",
     "text": [
      "2016-02-01\n",
      "https://api.nytimes.com/svc/books/v3/lists.json?api-key=P1yDSg62Aydsdh04WBBuS57pYbpBu2tb&list=hardcover-fiction&published-date=2016-02-01\n"
     ]
    },
    {
     "name": "stderr",
     "output_type": "stream",
     "text": [
      "C:\\Users\\melan\\AppData\\Local\\Temp\\ipykernel_29428\\1923946446.py:25: FutureWarning: pandas.io.json.json_normalize is deprecated, use pandas.json_normalize instead.\n",
      "  books = json_normalize(results[\"results\"], record_path=[\"book_details\"], meta=[\"rank\", \"rank_last_week\", \"weeks_on_list\", \"asterisk\", \"dagger\"])\n"
     ]
    },
    {
     "name": "stdout",
     "output_type": "stream",
     "text": [
      "2016-01-25\n",
      "https://api.nytimes.com/svc/books/v3/lists.json?api-key=P1yDSg62Aydsdh04WBBuS57pYbpBu2tb&list=hardcover-fiction&published-date=2016-01-25\n"
     ]
    },
    {
     "name": "stderr",
     "output_type": "stream",
     "text": [
      "C:\\Users\\melan\\AppData\\Local\\Temp\\ipykernel_29428\\1923946446.py:25: FutureWarning: pandas.io.json.json_normalize is deprecated, use pandas.json_normalize instead.\n",
      "  books = json_normalize(results[\"results\"], record_path=[\"book_details\"], meta=[\"rank\", \"rank_last_week\", \"weeks_on_list\", \"asterisk\", \"dagger\"])\n"
     ]
    },
    {
     "name": "stdout",
     "output_type": "stream",
     "text": [
      "2016-01-18\n",
      "https://api.nytimes.com/svc/books/v3/lists.json?api-key=P1yDSg62Aydsdh04WBBuS57pYbpBu2tb&list=hardcover-fiction&published-date=2016-01-18\n"
     ]
    },
    {
     "name": "stderr",
     "output_type": "stream",
     "text": [
      "C:\\Users\\melan\\AppData\\Local\\Temp\\ipykernel_29428\\1923946446.py:25: FutureWarning: pandas.io.json.json_normalize is deprecated, use pandas.json_normalize instead.\n",
      "  books = json_normalize(results[\"results\"], record_path=[\"book_details\"], meta=[\"rank\", \"rank_last_week\", \"weeks_on_list\", \"asterisk\", \"dagger\"])\n"
     ]
    },
    {
     "name": "stdout",
     "output_type": "stream",
     "text": [
      "2016-01-11\n",
      "https://api.nytimes.com/svc/books/v3/lists.json?api-key=P1yDSg62Aydsdh04WBBuS57pYbpBu2tb&list=hardcover-fiction&published-date=2016-01-11\n"
     ]
    },
    {
     "name": "stderr",
     "output_type": "stream",
     "text": [
      "C:\\Users\\melan\\AppData\\Local\\Temp\\ipykernel_29428\\1923946446.py:25: FutureWarning: pandas.io.json.json_normalize is deprecated, use pandas.json_normalize instead.\n",
      "  books = json_normalize(results[\"results\"], record_path=[\"book_details\"], meta=[\"rank\", \"rank_last_week\", \"weeks_on_list\", \"asterisk\", \"dagger\"])\n"
     ]
    },
    {
     "name": "stdout",
     "output_type": "stream",
     "text": [
      "2016-01-04\n",
      "https://api.nytimes.com/svc/books/v3/lists.json?api-key=P1yDSg62Aydsdh04WBBuS57pYbpBu2tb&list=hardcover-fiction&published-date=2016-01-04\n"
     ]
    },
    {
     "name": "stderr",
     "output_type": "stream",
     "text": [
      "C:\\Users\\melan\\AppData\\Local\\Temp\\ipykernel_29428\\1923946446.py:25: FutureWarning: pandas.io.json.json_normalize is deprecated, use pandas.json_normalize instead.\n",
      "  books = json_normalize(results[\"results\"], record_path=[\"book_details\"], meta=[\"rank\", \"rank_last_week\", \"weeks_on_list\", \"asterisk\", \"dagger\"])\n"
     ]
    },
    {
     "name": "stdout",
     "output_type": "stream",
     "text": [
      "2015-12-28\n",
      "https://api.nytimes.com/svc/books/v3/lists.json?api-key=P1yDSg62Aydsdh04WBBuS57pYbpBu2tb&list=hardcover-fiction&published-date=2015-12-28\n"
     ]
    },
    {
     "name": "stderr",
     "output_type": "stream",
     "text": [
      "C:\\Users\\melan\\AppData\\Local\\Temp\\ipykernel_29428\\1923946446.py:25: FutureWarning: pandas.io.json.json_normalize is deprecated, use pandas.json_normalize instead.\n",
      "  books = json_normalize(results[\"results\"], record_path=[\"book_details\"], meta=[\"rank\", \"rank_last_week\", \"weeks_on_list\", \"asterisk\", \"dagger\"])\n"
     ]
    },
    {
     "name": "stdout",
     "output_type": "stream",
     "text": [
      "2015-12-21\n",
      "https://api.nytimes.com/svc/books/v3/lists.json?api-key=P1yDSg62Aydsdh04WBBuS57pYbpBu2tb&list=hardcover-fiction&published-date=2015-12-21\n"
     ]
    },
    {
     "name": "stderr",
     "output_type": "stream",
     "text": [
      "C:\\Users\\melan\\AppData\\Local\\Temp\\ipykernel_29428\\1923946446.py:25: FutureWarning: pandas.io.json.json_normalize is deprecated, use pandas.json_normalize instead.\n",
      "  books = json_normalize(results[\"results\"], record_path=[\"book_details\"], meta=[\"rank\", \"rank_last_week\", \"weeks_on_list\", \"asterisk\", \"dagger\"])\n"
     ]
    },
    {
     "name": "stdout",
     "output_type": "stream",
     "text": [
      "2015-12-14\n",
      "https://api.nytimes.com/svc/books/v3/lists.json?api-key=P1yDSg62Aydsdh04WBBuS57pYbpBu2tb&list=hardcover-fiction&published-date=2015-12-14\n"
     ]
    },
    {
     "name": "stderr",
     "output_type": "stream",
     "text": [
      "C:\\Users\\melan\\AppData\\Local\\Temp\\ipykernel_29428\\1923946446.py:25: FutureWarning: pandas.io.json.json_normalize is deprecated, use pandas.json_normalize instead.\n",
      "  books = json_normalize(results[\"results\"], record_path=[\"book_details\"], meta=[\"rank\", \"rank_last_week\", \"weeks_on_list\", \"asterisk\", \"dagger\"])\n"
     ]
    },
    {
     "name": "stdout",
     "output_type": "stream",
     "text": [
      "2015-12-07\n",
      "https://api.nytimes.com/svc/books/v3/lists.json?api-key=P1yDSg62Aydsdh04WBBuS57pYbpBu2tb&list=hardcover-fiction&published-date=2015-12-07\n"
     ]
    },
    {
     "name": "stderr",
     "output_type": "stream",
     "text": [
      "C:\\Users\\melan\\AppData\\Local\\Temp\\ipykernel_29428\\1923946446.py:25: FutureWarning: pandas.io.json.json_normalize is deprecated, use pandas.json_normalize instead.\n",
      "  books = json_normalize(results[\"results\"], record_path=[\"book_details\"], meta=[\"rank\", \"rank_last_week\", \"weeks_on_list\", \"asterisk\", \"dagger\"])\n"
     ]
    },
    {
     "name": "stdout",
     "output_type": "stream",
     "text": [
      "2015-11-30\n",
      "https://api.nytimes.com/svc/books/v3/lists.json?api-key=P1yDSg62Aydsdh04WBBuS57pYbpBu2tb&list=hardcover-fiction&published-date=2015-11-30\n"
     ]
    },
    {
     "name": "stderr",
     "output_type": "stream",
     "text": [
      "C:\\Users\\melan\\AppData\\Local\\Temp\\ipykernel_29428\\1923946446.py:25: FutureWarning: pandas.io.json.json_normalize is deprecated, use pandas.json_normalize instead.\n",
      "  books = json_normalize(results[\"results\"], record_path=[\"book_details\"], meta=[\"rank\", \"rank_last_week\", \"weeks_on_list\", \"asterisk\", \"dagger\"])\n"
     ]
    },
    {
     "name": "stdout",
     "output_type": "stream",
     "text": [
      "2015-11-23\n",
      "https://api.nytimes.com/svc/books/v3/lists.json?api-key=P1yDSg62Aydsdh04WBBuS57pYbpBu2tb&list=hardcover-fiction&published-date=2015-11-23\n"
     ]
    },
    {
     "name": "stderr",
     "output_type": "stream",
     "text": [
      "C:\\Users\\melan\\AppData\\Local\\Temp\\ipykernel_29428\\1923946446.py:25: FutureWarning: pandas.io.json.json_normalize is deprecated, use pandas.json_normalize instead.\n",
      "  books = json_normalize(results[\"results\"], record_path=[\"book_details\"], meta=[\"rank\", \"rank_last_week\", \"weeks_on_list\", \"asterisk\", \"dagger\"])\n"
     ]
    },
    {
     "name": "stdout",
     "output_type": "stream",
     "text": [
      "2015-11-16\n",
      "https://api.nytimes.com/svc/books/v3/lists.json?api-key=P1yDSg62Aydsdh04WBBuS57pYbpBu2tb&list=hardcover-fiction&published-date=2015-11-16\n"
     ]
    },
    {
     "name": "stderr",
     "output_type": "stream",
     "text": [
      "C:\\Users\\melan\\AppData\\Local\\Temp\\ipykernel_29428\\1923946446.py:25: FutureWarning: pandas.io.json.json_normalize is deprecated, use pandas.json_normalize instead.\n",
      "  books = json_normalize(results[\"results\"], record_path=[\"book_details\"], meta=[\"rank\", \"rank_last_week\", \"weeks_on_list\", \"asterisk\", \"dagger\"])\n"
     ]
    },
    {
     "name": "stdout",
     "output_type": "stream",
     "text": [
      "2015-11-09\n",
      "https://api.nytimes.com/svc/books/v3/lists.json?api-key=P1yDSg62Aydsdh04WBBuS57pYbpBu2tb&list=hardcover-fiction&published-date=2015-11-09\n"
     ]
    },
    {
     "name": "stderr",
     "output_type": "stream",
     "text": [
      "C:\\Users\\melan\\AppData\\Local\\Temp\\ipykernel_29428\\1923946446.py:25: FutureWarning: pandas.io.json.json_normalize is deprecated, use pandas.json_normalize instead.\n",
      "  books = json_normalize(results[\"results\"], record_path=[\"book_details\"], meta=[\"rank\", \"rank_last_week\", \"weeks_on_list\", \"asterisk\", \"dagger\"])\n"
     ]
    },
    {
     "name": "stdout",
     "output_type": "stream",
     "text": [
      "2015-11-02\n",
      "https://api.nytimes.com/svc/books/v3/lists.json?api-key=P1yDSg62Aydsdh04WBBuS57pYbpBu2tb&list=hardcover-fiction&published-date=2015-11-02\n"
     ]
    },
    {
     "name": "stderr",
     "output_type": "stream",
     "text": [
      "C:\\Users\\melan\\AppData\\Local\\Temp\\ipykernel_29428\\1923946446.py:25: FutureWarning: pandas.io.json.json_normalize is deprecated, use pandas.json_normalize instead.\n",
      "  books = json_normalize(results[\"results\"], record_path=[\"book_details\"], meta=[\"rank\", \"rank_last_week\", \"weeks_on_list\", \"asterisk\", \"dagger\"])\n"
     ]
    },
    {
     "name": "stdout",
     "output_type": "stream",
     "text": [
      "2015-10-26\n",
      "https://api.nytimes.com/svc/books/v3/lists.json?api-key=P1yDSg62Aydsdh04WBBuS57pYbpBu2tb&list=hardcover-fiction&published-date=2015-10-26\n"
     ]
    },
    {
     "name": "stderr",
     "output_type": "stream",
     "text": [
      "C:\\Users\\melan\\AppData\\Local\\Temp\\ipykernel_29428\\1923946446.py:25: FutureWarning: pandas.io.json.json_normalize is deprecated, use pandas.json_normalize instead.\n",
      "  books = json_normalize(results[\"results\"], record_path=[\"book_details\"], meta=[\"rank\", \"rank_last_week\", \"weeks_on_list\", \"asterisk\", \"dagger\"])\n"
     ]
    },
    {
     "name": "stdout",
     "output_type": "stream",
     "text": [
      "2015-10-19\n",
      "https://api.nytimes.com/svc/books/v3/lists.json?api-key=P1yDSg62Aydsdh04WBBuS57pYbpBu2tb&list=hardcover-fiction&published-date=2015-10-19\n"
     ]
    },
    {
     "name": "stderr",
     "output_type": "stream",
     "text": [
      "C:\\Users\\melan\\AppData\\Local\\Temp\\ipykernel_29428\\1923946446.py:25: FutureWarning: pandas.io.json.json_normalize is deprecated, use pandas.json_normalize instead.\n",
      "  books = json_normalize(results[\"results\"], record_path=[\"book_details\"], meta=[\"rank\", \"rank_last_week\", \"weeks_on_list\", \"asterisk\", \"dagger\"])\n"
     ]
    },
    {
     "name": "stdout",
     "output_type": "stream",
     "text": [
      "2015-10-12\n",
      "https://api.nytimes.com/svc/books/v3/lists.json?api-key=P1yDSg62Aydsdh04WBBuS57pYbpBu2tb&list=hardcover-fiction&published-date=2015-10-12\n"
     ]
    },
    {
     "name": "stderr",
     "output_type": "stream",
     "text": [
      "C:\\Users\\melan\\AppData\\Local\\Temp\\ipykernel_29428\\1923946446.py:25: FutureWarning: pandas.io.json.json_normalize is deprecated, use pandas.json_normalize instead.\n",
      "  books = json_normalize(results[\"results\"], record_path=[\"book_details\"], meta=[\"rank\", \"rank_last_week\", \"weeks_on_list\", \"asterisk\", \"dagger\"])\n"
     ]
    },
    {
     "name": "stdout",
     "output_type": "stream",
     "text": [
      "2015-10-05\n",
      "https://api.nytimes.com/svc/books/v3/lists.json?api-key=P1yDSg62Aydsdh04WBBuS57pYbpBu2tb&list=hardcover-fiction&published-date=2015-10-05\n"
     ]
    },
    {
     "name": "stderr",
     "output_type": "stream",
     "text": [
      "C:\\Users\\melan\\AppData\\Local\\Temp\\ipykernel_29428\\1923946446.py:25: FutureWarning: pandas.io.json.json_normalize is deprecated, use pandas.json_normalize instead.\n",
      "  books = json_normalize(results[\"results\"], record_path=[\"book_details\"], meta=[\"rank\", \"rank_last_week\", \"weeks_on_list\", \"asterisk\", \"dagger\"])\n"
     ]
    },
    {
     "name": "stdout",
     "output_type": "stream",
     "text": [
      "2015-09-28\n",
      "https://api.nytimes.com/svc/books/v3/lists.json?api-key=P1yDSg62Aydsdh04WBBuS57pYbpBu2tb&list=hardcover-fiction&published-date=2015-09-28\n"
     ]
    },
    {
     "name": "stderr",
     "output_type": "stream",
     "text": [
      "C:\\Users\\melan\\AppData\\Local\\Temp\\ipykernel_29428\\1923946446.py:25: FutureWarning: pandas.io.json.json_normalize is deprecated, use pandas.json_normalize instead.\n",
      "  books = json_normalize(results[\"results\"], record_path=[\"book_details\"], meta=[\"rank\", \"rank_last_week\", \"weeks_on_list\", \"asterisk\", \"dagger\"])\n"
     ]
    },
    {
     "name": "stdout",
     "output_type": "stream",
     "text": [
      "2015-09-21\n",
      "https://api.nytimes.com/svc/books/v3/lists.json?api-key=P1yDSg62Aydsdh04WBBuS57pYbpBu2tb&list=hardcover-fiction&published-date=2015-09-21\n"
     ]
    },
    {
     "name": "stderr",
     "output_type": "stream",
     "text": [
      "C:\\Users\\melan\\AppData\\Local\\Temp\\ipykernel_29428\\1923946446.py:25: FutureWarning: pandas.io.json.json_normalize is deprecated, use pandas.json_normalize instead.\n",
      "  books = json_normalize(results[\"results\"], record_path=[\"book_details\"], meta=[\"rank\", \"rank_last_week\", \"weeks_on_list\", \"asterisk\", \"dagger\"])\n"
     ]
    },
    {
     "name": "stdout",
     "output_type": "stream",
     "text": [
      "2015-09-14\n",
      "https://api.nytimes.com/svc/books/v3/lists.json?api-key=P1yDSg62Aydsdh04WBBuS57pYbpBu2tb&list=hardcover-fiction&published-date=2015-09-14\n"
     ]
    },
    {
     "name": "stderr",
     "output_type": "stream",
     "text": [
      "C:\\Users\\melan\\AppData\\Local\\Temp\\ipykernel_29428\\1923946446.py:25: FutureWarning: pandas.io.json.json_normalize is deprecated, use pandas.json_normalize instead.\n",
      "  books = json_normalize(results[\"results\"], record_path=[\"book_details\"], meta=[\"rank\", \"rank_last_week\", \"weeks_on_list\", \"asterisk\", \"dagger\"])\n"
     ]
    },
    {
     "name": "stdout",
     "output_type": "stream",
     "text": [
      "2015-09-07\n",
      "https://api.nytimes.com/svc/books/v3/lists.json?api-key=P1yDSg62Aydsdh04WBBuS57pYbpBu2tb&list=hardcover-fiction&published-date=2015-09-07\n"
     ]
    },
    {
     "name": "stderr",
     "output_type": "stream",
     "text": [
      "C:\\Users\\melan\\AppData\\Local\\Temp\\ipykernel_29428\\1923946446.py:25: FutureWarning: pandas.io.json.json_normalize is deprecated, use pandas.json_normalize instead.\n",
      "  books = json_normalize(results[\"results\"], record_path=[\"book_details\"], meta=[\"rank\", \"rank_last_week\", \"weeks_on_list\", \"asterisk\", \"dagger\"])\n"
     ]
    },
    {
     "name": "stdout",
     "output_type": "stream",
     "text": [
      "2015-08-31\n",
      "https://api.nytimes.com/svc/books/v3/lists.json?api-key=P1yDSg62Aydsdh04WBBuS57pYbpBu2tb&list=hardcover-fiction&published-date=2015-08-31\n"
     ]
    },
    {
     "name": "stderr",
     "output_type": "stream",
     "text": [
      "C:\\Users\\melan\\AppData\\Local\\Temp\\ipykernel_29428\\1923946446.py:25: FutureWarning: pandas.io.json.json_normalize is deprecated, use pandas.json_normalize instead.\n",
      "  books = json_normalize(results[\"results\"], record_path=[\"book_details\"], meta=[\"rank\", \"rank_last_week\", \"weeks_on_list\", \"asterisk\", \"dagger\"])\n"
     ]
    },
    {
     "name": "stdout",
     "output_type": "stream",
     "text": [
      "2015-08-24\n",
      "https://api.nytimes.com/svc/books/v3/lists.json?api-key=P1yDSg62Aydsdh04WBBuS57pYbpBu2tb&list=hardcover-fiction&published-date=2015-08-24\n"
     ]
    },
    {
     "name": "stderr",
     "output_type": "stream",
     "text": [
      "C:\\Users\\melan\\AppData\\Local\\Temp\\ipykernel_29428\\1923946446.py:25: FutureWarning: pandas.io.json.json_normalize is deprecated, use pandas.json_normalize instead.\n",
      "  books = json_normalize(results[\"results\"], record_path=[\"book_details\"], meta=[\"rank\", \"rank_last_week\", \"weeks_on_list\", \"asterisk\", \"dagger\"])\n"
     ]
    },
    {
     "name": "stdout",
     "output_type": "stream",
     "text": [
      "2015-08-17\n",
      "https://api.nytimes.com/svc/books/v3/lists.json?api-key=P1yDSg62Aydsdh04WBBuS57pYbpBu2tb&list=hardcover-fiction&published-date=2015-08-17\n"
     ]
    },
    {
     "name": "stderr",
     "output_type": "stream",
     "text": [
      "C:\\Users\\melan\\AppData\\Local\\Temp\\ipykernel_29428\\1923946446.py:25: FutureWarning: pandas.io.json.json_normalize is deprecated, use pandas.json_normalize instead.\n",
      "  books = json_normalize(results[\"results\"], record_path=[\"book_details\"], meta=[\"rank\", \"rank_last_week\", \"weeks_on_list\", \"asterisk\", \"dagger\"])\n"
     ]
    },
    {
     "name": "stdout",
     "output_type": "stream",
     "text": [
      "2015-08-10\n",
      "https://api.nytimes.com/svc/books/v3/lists.json?api-key=P1yDSg62Aydsdh04WBBuS57pYbpBu2tb&list=hardcover-fiction&published-date=2015-08-10\n"
     ]
    },
    {
     "name": "stderr",
     "output_type": "stream",
     "text": [
      "C:\\Users\\melan\\AppData\\Local\\Temp\\ipykernel_29428\\1923946446.py:25: FutureWarning: pandas.io.json.json_normalize is deprecated, use pandas.json_normalize instead.\n",
      "  books = json_normalize(results[\"results\"], record_path=[\"book_details\"], meta=[\"rank\", \"rank_last_week\", \"weeks_on_list\", \"asterisk\", \"dagger\"])\n"
     ]
    },
    {
     "name": "stdout",
     "output_type": "stream",
     "text": [
      "2015-08-03\n",
      "https://api.nytimes.com/svc/books/v3/lists.json?api-key=P1yDSg62Aydsdh04WBBuS57pYbpBu2tb&list=hardcover-fiction&published-date=2015-08-03\n"
     ]
    },
    {
     "name": "stderr",
     "output_type": "stream",
     "text": [
      "C:\\Users\\melan\\AppData\\Local\\Temp\\ipykernel_29428\\1923946446.py:25: FutureWarning: pandas.io.json.json_normalize is deprecated, use pandas.json_normalize instead.\n",
      "  books = json_normalize(results[\"results\"], record_path=[\"book_details\"], meta=[\"rank\", \"rank_last_week\", \"weeks_on_list\", \"asterisk\", \"dagger\"])\n"
     ]
    },
    {
     "name": "stdout",
     "output_type": "stream",
     "text": [
      "2015-07-27\n",
      "https://api.nytimes.com/svc/books/v3/lists.json?api-key=P1yDSg62Aydsdh04WBBuS57pYbpBu2tb&list=hardcover-fiction&published-date=2015-07-27\n"
     ]
    },
    {
     "name": "stderr",
     "output_type": "stream",
     "text": [
      "C:\\Users\\melan\\AppData\\Local\\Temp\\ipykernel_29428\\1923946446.py:25: FutureWarning: pandas.io.json.json_normalize is deprecated, use pandas.json_normalize instead.\n",
      "  books = json_normalize(results[\"results\"], record_path=[\"book_details\"], meta=[\"rank\", \"rank_last_week\", \"weeks_on_list\", \"asterisk\", \"dagger\"])\n"
     ]
    },
    {
     "name": "stdout",
     "output_type": "stream",
     "text": [
      "2015-07-20\n",
      "https://api.nytimes.com/svc/books/v3/lists.json?api-key=P1yDSg62Aydsdh04WBBuS57pYbpBu2tb&list=hardcover-fiction&published-date=2015-07-20\n"
     ]
    },
    {
     "name": "stderr",
     "output_type": "stream",
     "text": [
      "C:\\Users\\melan\\AppData\\Local\\Temp\\ipykernel_29428\\1923946446.py:25: FutureWarning: pandas.io.json.json_normalize is deprecated, use pandas.json_normalize instead.\n",
      "  books = json_normalize(results[\"results\"], record_path=[\"book_details\"], meta=[\"rank\", \"rank_last_week\", \"weeks_on_list\", \"asterisk\", \"dagger\"])\n"
     ]
    },
    {
     "name": "stdout",
     "output_type": "stream",
     "text": [
      "2015-07-13\n",
      "https://api.nytimes.com/svc/books/v3/lists.json?api-key=P1yDSg62Aydsdh04WBBuS57pYbpBu2tb&list=hardcover-fiction&published-date=2015-07-13\n"
     ]
    },
    {
     "name": "stderr",
     "output_type": "stream",
     "text": [
      "C:\\Users\\melan\\AppData\\Local\\Temp\\ipykernel_29428\\1923946446.py:25: FutureWarning: pandas.io.json.json_normalize is deprecated, use pandas.json_normalize instead.\n",
      "  books = json_normalize(results[\"results\"], record_path=[\"book_details\"], meta=[\"rank\", \"rank_last_week\", \"weeks_on_list\", \"asterisk\", \"dagger\"])\n"
     ]
    },
    {
     "name": "stdout",
     "output_type": "stream",
     "text": [
      "2015-07-06\n",
      "https://api.nytimes.com/svc/books/v3/lists.json?api-key=P1yDSg62Aydsdh04WBBuS57pYbpBu2tb&list=hardcover-fiction&published-date=2015-07-06\n"
     ]
    },
    {
     "name": "stderr",
     "output_type": "stream",
     "text": [
      "C:\\Users\\melan\\AppData\\Local\\Temp\\ipykernel_29428\\1923946446.py:25: FutureWarning: pandas.io.json.json_normalize is deprecated, use pandas.json_normalize instead.\n",
      "  books = json_normalize(results[\"results\"], record_path=[\"book_details\"], meta=[\"rank\", \"rank_last_week\", \"weeks_on_list\", \"asterisk\", \"dagger\"])\n"
     ]
    },
    {
     "name": "stdout",
     "output_type": "stream",
     "text": [
      "2015-06-29\n",
      "https://api.nytimes.com/svc/books/v3/lists.json?api-key=P1yDSg62Aydsdh04WBBuS57pYbpBu2tb&list=hardcover-fiction&published-date=2015-06-29\n"
     ]
    },
    {
     "name": "stderr",
     "output_type": "stream",
     "text": [
      "C:\\Users\\melan\\AppData\\Local\\Temp\\ipykernel_29428\\1923946446.py:25: FutureWarning: pandas.io.json.json_normalize is deprecated, use pandas.json_normalize instead.\n",
      "  books = json_normalize(results[\"results\"], record_path=[\"book_details\"], meta=[\"rank\", \"rank_last_week\", \"weeks_on_list\", \"asterisk\", \"dagger\"])\n"
     ]
    },
    {
     "name": "stdout",
     "output_type": "stream",
     "text": [
      "2015-06-22\n",
      "https://api.nytimes.com/svc/books/v3/lists.json?api-key=P1yDSg62Aydsdh04WBBuS57pYbpBu2tb&list=hardcover-fiction&published-date=2015-06-22\n"
     ]
    },
    {
     "name": "stderr",
     "output_type": "stream",
     "text": [
      "C:\\Users\\melan\\AppData\\Local\\Temp\\ipykernel_29428\\1923946446.py:25: FutureWarning: pandas.io.json.json_normalize is deprecated, use pandas.json_normalize instead.\n",
      "  books = json_normalize(results[\"results\"], record_path=[\"book_details\"], meta=[\"rank\", \"rank_last_week\", \"weeks_on_list\", \"asterisk\", \"dagger\"])\n"
     ]
    },
    {
     "name": "stdout",
     "output_type": "stream",
     "text": [
      "2015-06-15\n",
      "https://api.nytimes.com/svc/books/v3/lists.json?api-key=P1yDSg62Aydsdh04WBBuS57pYbpBu2tb&list=hardcover-fiction&published-date=2015-06-15\n"
     ]
    },
    {
     "name": "stderr",
     "output_type": "stream",
     "text": [
      "C:\\Users\\melan\\AppData\\Local\\Temp\\ipykernel_29428\\1923946446.py:25: FutureWarning: pandas.io.json.json_normalize is deprecated, use pandas.json_normalize instead.\n",
      "  books = json_normalize(results[\"results\"], record_path=[\"book_details\"], meta=[\"rank\", \"rank_last_week\", \"weeks_on_list\", \"asterisk\", \"dagger\"])\n"
     ]
    },
    {
     "name": "stdout",
     "output_type": "stream",
     "text": [
      "2015-06-08\n",
      "https://api.nytimes.com/svc/books/v3/lists.json?api-key=P1yDSg62Aydsdh04WBBuS57pYbpBu2tb&list=hardcover-fiction&published-date=2015-06-08\n"
     ]
    },
    {
     "name": "stderr",
     "output_type": "stream",
     "text": [
      "C:\\Users\\melan\\AppData\\Local\\Temp\\ipykernel_29428\\1923946446.py:25: FutureWarning: pandas.io.json.json_normalize is deprecated, use pandas.json_normalize instead.\n",
      "  books = json_normalize(results[\"results\"], record_path=[\"book_details\"], meta=[\"rank\", \"rank_last_week\", \"weeks_on_list\", \"asterisk\", \"dagger\"])\n"
     ]
    },
    {
     "name": "stdout",
     "output_type": "stream",
     "text": [
      "2015-06-01\n",
      "https://api.nytimes.com/svc/books/v3/lists.json?api-key=P1yDSg62Aydsdh04WBBuS57pYbpBu2tb&list=hardcover-fiction&published-date=2015-06-01\n"
     ]
    },
    {
     "name": "stderr",
     "output_type": "stream",
     "text": [
      "C:\\Users\\melan\\AppData\\Local\\Temp\\ipykernel_29428\\1923946446.py:25: FutureWarning: pandas.io.json.json_normalize is deprecated, use pandas.json_normalize instead.\n",
      "  books = json_normalize(results[\"results\"], record_path=[\"book_details\"], meta=[\"rank\", \"rank_last_week\", \"weeks_on_list\", \"asterisk\", \"dagger\"])\n"
     ]
    },
    {
     "name": "stdout",
     "output_type": "stream",
     "text": [
      "2015-05-25\n",
      "https://api.nytimes.com/svc/books/v3/lists.json?api-key=P1yDSg62Aydsdh04WBBuS57pYbpBu2tb&list=hardcover-fiction&published-date=2015-05-25\n"
     ]
    },
    {
     "name": "stderr",
     "output_type": "stream",
     "text": [
      "C:\\Users\\melan\\AppData\\Local\\Temp\\ipykernel_29428\\1923946446.py:25: FutureWarning: pandas.io.json.json_normalize is deprecated, use pandas.json_normalize instead.\n",
      "  books = json_normalize(results[\"results\"], record_path=[\"book_details\"], meta=[\"rank\", \"rank_last_week\", \"weeks_on_list\", \"asterisk\", \"dagger\"])\n"
     ]
    },
    {
     "name": "stdout",
     "output_type": "stream",
     "text": [
      "2015-05-18\n",
      "https://api.nytimes.com/svc/books/v3/lists.json?api-key=P1yDSg62Aydsdh04WBBuS57pYbpBu2tb&list=hardcover-fiction&published-date=2015-05-18\n"
     ]
    },
    {
     "name": "stderr",
     "output_type": "stream",
     "text": [
      "C:\\Users\\melan\\AppData\\Local\\Temp\\ipykernel_29428\\1923946446.py:25: FutureWarning: pandas.io.json.json_normalize is deprecated, use pandas.json_normalize instead.\n",
      "  books = json_normalize(results[\"results\"], record_path=[\"book_details\"], meta=[\"rank\", \"rank_last_week\", \"weeks_on_list\", \"asterisk\", \"dagger\"])\n"
     ]
    },
    {
     "name": "stdout",
     "output_type": "stream",
     "text": [
      "2015-05-11\n",
      "https://api.nytimes.com/svc/books/v3/lists.json?api-key=P1yDSg62Aydsdh04WBBuS57pYbpBu2tb&list=hardcover-fiction&published-date=2015-05-11\n"
     ]
    },
    {
     "name": "stderr",
     "output_type": "stream",
     "text": [
      "C:\\Users\\melan\\AppData\\Local\\Temp\\ipykernel_29428\\1923946446.py:25: FutureWarning: pandas.io.json.json_normalize is deprecated, use pandas.json_normalize instead.\n",
      "  books = json_normalize(results[\"results\"], record_path=[\"book_details\"], meta=[\"rank\", \"rank_last_week\", \"weeks_on_list\", \"asterisk\", \"dagger\"])\n"
     ]
    },
    {
     "name": "stdout",
     "output_type": "stream",
     "text": [
      "2015-05-04\n",
      "https://api.nytimes.com/svc/books/v3/lists.json?api-key=P1yDSg62Aydsdh04WBBuS57pYbpBu2tb&list=hardcover-fiction&published-date=2015-05-04\n"
     ]
    },
    {
     "name": "stderr",
     "output_type": "stream",
     "text": [
      "C:\\Users\\melan\\AppData\\Local\\Temp\\ipykernel_29428\\1923946446.py:25: FutureWarning: pandas.io.json.json_normalize is deprecated, use pandas.json_normalize instead.\n",
      "  books = json_normalize(results[\"results\"], record_path=[\"book_details\"], meta=[\"rank\", \"rank_last_week\", \"weeks_on_list\", \"asterisk\", \"dagger\"])\n"
     ]
    },
    {
     "name": "stdout",
     "output_type": "stream",
     "text": [
      "2015-04-27\n",
      "https://api.nytimes.com/svc/books/v3/lists.json?api-key=P1yDSg62Aydsdh04WBBuS57pYbpBu2tb&list=hardcover-fiction&published-date=2015-04-27\n"
     ]
    },
    {
     "name": "stderr",
     "output_type": "stream",
     "text": [
      "C:\\Users\\melan\\AppData\\Local\\Temp\\ipykernel_29428\\1923946446.py:25: FutureWarning: pandas.io.json.json_normalize is deprecated, use pandas.json_normalize instead.\n",
      "  books = json_normalize(results[\"results\"], record_path=[\"book_details\"], meta=[\"rank\", \"rank_last_week\", \"weeks_on_list\", \"asterisk\", \"dagger\"])\n"
     ]
    },
    {
     "name": "stdout",
     "output_type": "stream",
     "text": [
      "2015-04-20\n",
      "https://api.nytimes.com/svc/books/v3/lists.json?api-key=P1yDSg62Aydsdh04WBBuS57pYbpBu2tb&list=hardcover-fiction&published-date=2015-04-20\n"
     ]
    },
    {
     "name": "stderr",
     "output_type": "stream",
     "text": [
      "C:\\Users\\melan\\AppData\\Local\\Temp\\ipykernel_29428\\1923946446.py:25: FutureWarning: pandas.io.json.json_normalize is deprecated, use pandas.json_normalize instead.\n",
      "  books = json_normalize(results[\"results\"], record_path=[\"book_details\"], meta=[\"rank\", \"rank_last_week\", \"weeks_on_list\", \"asterisk\", \"dagger\"])\n"
     ]
    },
    {
     "name": "stdout",
     "output_type": "stream",
     "text": [
      "2015-04-13\n",
      "https://api.nytimes.com/svc/books/v3/lists.json?api-key=P1yDSg62Aydsdh04WBBuS57pYbpBu2tb&list=hardcover-fiction&published-date=2015-04-13\n"
     ]
    },
    {
     "name": "stderr",
     "output_type": "stream",
     "text": [
      "C:\\Users\\melan\\AppData\\Local\\Temp\\ipykernel_29428\\1923946446.py:25: FutureWarning: pandas.io.json.json_normalize is deprecated, use pandas.json_normalize instead.\n",
      "  books = json_normalize(results[\"results\"], record_path=[\"book_details\"], meta=[\"rank\", \"rank_last_week\", \"weeks_on_list\", \"asterisk\", \"dagger\"])\n"
     ]
    },
    {
     "name": "stdout",
     "output_type": "stream",
     "text": [
      "2015-04-06\n",
      "https://api.nytimes.com/svc/books/v3/lists.json?api-key=P1yDSg62Aydsdh04WBBuS57pYbpBu2tb&list=hardcover-fiction&published-date=2015-04-06\n"
     ]
    },
    {
     "name": "stderr",
     "output_type": "stream",
     "text": [
      "C:\\Users\\melan\\AppData\\Local\\Temp\\ipykernel_29428\\1923946446.py:25: FutureWarning: pandas.io.json.json_normalize is deprecated, use pandas.json_normalize instead.\n",
      "  books = json_normalize(results[\"results\"], record_path=[\"book_details\"], meta=[\"rank\", \"rank_last_week\", \"weeks_on_list\", \"asterisk\", \"dagger\"])\n"
     ]
    },
    {
     "name": "stdout",
     "output_type": "stream",
     "text": [
      "2015-03-30\n",
      "https://api.nytimes.com/svc/books/v3/lists.json?api-key=P1yDSg62Aydsdh04WBBuS57pYbpBu2tb&list=hardcover-fiction&published-date=2015-03-30\n"
     ]
    },
    {
     "name": "stderr",
     "output_type": "stream",
     "text": [
      "C:\\Users\\melan\\AppData\\Local\\Temp\\ipykernel_29428\\1923946446.py:25: FutureWarning: pandas.io.json.json_normalize is deprecated, use pandas.json_normalize instead.\n",
      "  books = json_normalize(results[\"results\"], record_path=[\"book_details\"], meta=[\"rank\", \"rank_last_week\", \"weeks_on_list\", \"asterisk\", \"dagger\"])\n"
     ]
    },
    {
     "name": "stdout",
     "output_type": "stream",
     "text": [
      "2015-03-23\n",
      "https://api.nytimes.com/svc/books/v3/lists.json?api-key=P1yDSg62Aydsdh04WBBuS57pYbpBu2tb&list=hardcover-fiction&published-date=2015-03-23\n"
     ]
    },
    {
     "name": "stderr",
     "output_type": "stream",
     "text": [
      "C:\\Users\\melan\\AppData\\Local\\Temp\\ipykernel_29428\\1923946446.py:25: FutureWarning: pandas.io.json.json_normalize is deprecated, use pandas.json_normalize instead.\n",
      "  books = json_normalize(results[\"results\"], record_path=[\"book_details\"], meta=[\"rank\", \"rank_last_week\", \"weeks_on_list\", \"asterisk\", \"dagger\"])\n"
     ]
    },
    {
     "name": "stdout",
     "output_type": "stream",
     "text": [
      "2015-03-16\n",
      "https://api.nytimes.com/svc/books/v3/lists.json?api-key=P1yDSg62Aydsdh04WBBuS57pYbpBu2tb&list=hardcover-fiction&published-date=2015-03-16\n"
     ]
    },
    {
     "name": "stderr",
     "output_type": "stream",
     "text": [
      "C:\\Users\\melan\\AppData\\Local\\Temp\\ipykernel_29428\\1923946446.py:25: FutureWarning: pandas.io.json.json_normalize is deprecated, use pandas.json_normalize instead.\n",
      "  books = json_normalize(results[\"results\"], record_path=[\"book_details\"], meta=[\"rank\", \"rank_last_week\", \"weeks_on_list\", \"asterisk\", \"dagger\"])\n"
     ]
    },
    {
     "name": "stdout",
     "output_type": "stream",
     "text": [
      "2015-03-09\n",
      "https://api.nytimes.com/svc/books/v3/lists.json?api-key=P1yDSg62Aydsdh04WBBuS57pYbpBu2tb&list=hardcover-fiction&published-date=2015-03-09\n"
     ]
    },
    {
     "name": "stderr",
     "output_type": "stream",
     "text": [
      "C:\\Users\\melan\\AppData\\Local\\Temp\\ipykernel_29428\\1923946446.py:25: FutureWarning: pandas.io.json.json_normalize is deprecated, use pandas.json_normalize instead.\n",
      "  books = json_normalize(results[\"results\"], record_path=[\"book_details\"], meta=[\"rank\", \"rank_last_week\", \"weeks_on_list\", \"asterisk\", \"dagger\"])\n"
     ]
    },
    {
     "name": "stdout",
     "output_type": "stream",
     "text": [
      "2015-03-02\n",
      "https://api.nytimes.com/svc/books/v3/lists.json?api-key=P1yDSg62Aydsdh04WBBuS57pYbpBu2tb&list=hardcover-fiction&published-date=2015-03-02\n"
     ]
    },
    {
     "name": "stderr",
     "output_type": "stream",
     "text": [
      "C:\\Users\\melan\\AppData\\Local\\Temp\\ipykernel_29428\\1923946446.py:25: FutureWarning: pandas.io.json.json_normalize is deprecated, use pandas.json_normalize instead.\n",
      "  books = json_normalize(results[\"results\"], record_path=[\"book_details\"], meta=[\"rank\", \"rank_last_week\", \"weeks_on_list\", \"asterisk\", \"dagger\"])\n"
     ]
    },
    {
     "name": "stdout",
     "output_type": "stream",
     "text": [
      "2015-02-23\n",
      "https://api.nytimes.com/svc/books/v3/lists.json?api-key=P1yDSg62Aydsdh04WBBuS57pYbpBu2tb&list=hardcover-fiction&published-date=2015-02-23\n"
     ]
    },
    {
     "name": "stderr",
     "output_type": "stream",
     "text": [
      "C:\\Users\\melan\\AppData\\Local\\Temp\\ipykernel_29428\\1923946446.py:25: FutureWarning: pandas.io.json.json_normalize is deprecated, use pandas.json_normalize instead.\n",
      "  books = json_normalize(results[\"results\"], record_path=[\"book_details\"], meta=[\"rank\", \"rank_last_week\", \"weeks_on_list\", \"asterisk\", \"dagger\"])\n"
     ]
    },
    {
     "name": "stdout",
     "output_type": "stream",
     "text": [
      "2015-02-16\n",
      "https://api.nytimes.com/svc/books/v3/lists.json?api-key=P1yDSg62Aydsdh04WBBuS57pYbpBu2tb&list=hardcover-fiction&published-date=2015-02-16\n"
     ]
    },
    {
     "name": "stderr",
     "output_type": "stream",
     "text": [
      "C:\\Users\\melan\\AppData\\Local\\Temp\\ipykernel_29428\\1923946446.py:25: FutureWarning: pandas.io.json.json_normalize is deprecated, use pandas.json_normalize instead.\n",
      "  books = json_normalize(results[\"results\"], record_path=[\"book_details\"], meta=[\"rank\", \"rank_last_week\", \"weeks_on_list\", \"asterisk\", \"dagger\"])\n"
     ]
    },
    {
     "name": "stdout",
     "output_type": "stream",
     "text": [
      "2015-02-09\n",
      "https://api.nytimes.com/svc/books/v3/lists.json?api-key=P1yDSg62Aydsdh04WBBuS57pYbpBu2tb&list=hardcover-fiction&published-date=2015-02-09\n"
     ]
    },
    {
     "name": "stderr",
     "output_type": "stream",
     "text": [
      "C:\\Users\\melan\\AppData\\Local\\Temp\\ipykernel_29428\\1923946446.py:25: FutureWarning: pandas.io.json.json_normalize is deprecated, use pandas.json_normalize instead.\n",
      "  books = json_normalize(results[\"results\"], record_path=[\"book_details\"], meta=[\"rank\", \"rank_last_week\", \"weeks_on_list\", \"asterisk\", \"dagger\"])\n"
     ]
    },
    {
     "name": "stdout",
     "output_type": "stream",
     "text": [
      "2015-02-02\n",
      "https://api.nytimes.com/svc/books/v3/lists.json?api-key=P1yDSg62Aydsdh04WBBuS57pYbpBu2tb&list=hardcover-fiction&published-date=2015-02-02\n"
     ]
    },
    {
     "name": "stderr",
     "output_type": "stream",
     "text": [
      "C:\\Users\\melan\\AppData\\Local\\Temp\\ipykernel_29428\\1923946446.py:25: FutureWarning: pandas.io.json.json_normalize is deprecated, use pandas.json_normalize instead.\n",
      "  books = json_normalize(results[\"results\"], record_path=[\"book_details\"], meta=[\"rank\", \"rank_last_week\", \"weeks_on_list\", \"asterisk\", \"dagger\"])\n"
     ]
    },
    {
     "name": "stdout",
     "output_type": "stream",
     "text": [
      "2015-01-26\n",
      "https://api.nytimes.com/svc/books/v3/lists.json?api-key=P1yDSg62Aydsdh04WBBuS57pYbpBu2tb&list=hardcover-fiction&published-date=2015-01-26\n"
     ]
    },
    {
     "name": "stderr",
     "output_type": "stream",
     "text": [
      "C:\\Users\\melan\\AppData\\Local\\Temp\\ipykernel_29428\\1923946446.py:25: FutureWarning: pandas.io.json.json_normalize is deprecated, use pandas.json_normalize instead.\n",
      "  books = json_normalize(results[\"results\"], record_path=[\"book_details\"], meta=[\"rank\", \"rank_last_week\", \"weeks_on_list\", \"asterisk\", \"dagger\"])\n"
     ]
    },
    {
     "name": "stdout",
     "output_type": "stream",
     "text": [
      "2015-01-19\n",
      "https://api.nytimes.com/svc/books/v3/lists.json?api-key=P1yDSg62Aydsdh04WBBuS57pYbpBu2tb&list=hardcover-fiction&published-date=2015-01-19\n"
     ]
    },
    {
     "name": "stderr",
     "output_type": "stream",
     "text": [
      "C:\\Users\\melan\\AppData\\Local\\Temp\\ipykernel_29428\\1923946446.py:25: FutureWarning: pandas.io.json.json_normalize is deprecated, use pandas.json_normalize instead.\n",
      "  books = json_normalize(results[\"results\"], record_path=[\"book_details\"], meta=[\"rank\", \"rank_last_week\", \"weeks_on_list\", \"asterisk\", \"dagger\"])\n"
     ]
    },
    {
     "name": "stdout",
     "output_type": "stream",
     "text": [
      "2015-01-12\n",
      "https://api.nytimes.com/svc/books/v3/lists.json?api-key=P1yDSg62Aydsdh04WBBuS57pYbpBu2tb&list=hardcover-fiction&published-date=2015-01-12\n"
     ]
    },
    {
     "name": "stderr",
     "output_type": "stream",
     "text": [
      "C:\\Users\\melan\\AppData\\Local\\Temp\\ipykernel_29428\\1923946446.py:25: FutureWarning: pandas.io.json.json_normalize is deprecated, use pandas.json_normalize instead.\n",
      "  books = json_normalize(results[\"results\"], record_path=[\"book_details\"], meta=[\"rank\", \"rank_last_week\", \"weeks_on_list\", \"asterisk\", \"dagger\"])\n"
     ]
    },
    {
     "name": "stdout",
     "output_type": "stream",
     "text": [
      "2015-01-05\n",
      "https://api.nytimes.com/svc/books/v3/lists.json?api-key=P1yDSg62Aydsdh04WBBuS57pYbpBu2tb&list=hardcover-fiction&published-date=2015-01-05\n"
     ]
    },
    {
     "name": "stderr",
     "output_type": "stream",
     "text": [
      "C:\\Users\\melan\\AppData\\Local\\Temp\\ipykernel_29428\\1923946446.py:25: FutureWarning: pandas.io.json.json_normalize is deprecated, use pandas.json_normalize instead.\n",
      "  books = json_normalize(results[\"results\"], record_path=[\"book_details\"], meta=[\"rank\", \"rank_last_week\", \"weeks_on_list\", \"asterisk\", \"dagger\"])\n"
     ]
    },
    {
     "name": "stdout",
     "output_type": "stream",
     "text": [
      "2014-12-29\n",
      "https://api.nytimes.com/svc/books/v3/lists.json?api-key=P1yDSg62Aydsdh04WBBuS57pYbpBu2tb&list=hardcover-fiction&published-date=2014-12-29\n"
     ]
    },
    {
     "name": "stderr",
     "output_type": "stream",
     "text": [
      "C:\\Users\\melan\\AppData\\Local\\Temp\\ipykernel_29428\\1923946446.py:25: FutureWarning: pandas.io.json.json_normalize is deprecated, use pandas.json_normalize instead.\n",
      "  books = json_normalize(results[\"results\"], record_path=[\"book_details\"], meta=[\"rank\", \"rank_last_week\", \"weeks_on_list\", \"asterisk\", \"dagger\"])\n"
     ]
    },
    {
     "name": "stdout",
     "output_type": "stream",
     "text": [
      "2014-12-22\n",
      "https://api.nytimes.com/svc/books/v3/lists.json?api-key=P1yDSg62Aydsdh04WBBuS57pYbpBu2tb&list=hardcover-fiction&published-date=2014-12-22\n"
     ]
    },
    {
     "name": "stderr",
     "output_type": "stream",
     "text": [
      "C:\\Users\\melan\\AppData\\Local\\Temp\\ipykernel_29428\\1923946446.py:25: FutureWarning: pandas.io.json.json_normalize is deprecated, use pandas.json_normalize instead.\n",
      "  books = json_normalize(results[\"results\"], record_path=[\"book_details\"], meta=[\"rank\", \"rank_last_week\", \"weeks_on_list\", \"asterisk\", \"dagger\"])\n"
     ]
    },
    {
     "name": "stdout",
     "output_type": "stream",
     "text": [
      "2014-12-15\n",
      "https://api.nytimes.com/svc/books/v3/lists.json?api-key=P1yDSg62Aydsdh04WBBuS57pYbpBu2tb&list=hardcover-fiction&published-date=2014-12-15\n"
     ]
    },
    {
     "name": "stderr",
     "output_type": "stream",
     "text": [
      "C:\\Users\\melan\\AppData\\Local\\Temp\\ipykernel_29428\\1923946446.py:25: FutureWarning: pandas.io.json.json_normalize is deprecated, use pandas.json_normalize instead.\n",
      "  books = json_normalize(results[\"results\"], record_path=[\"book_details\"], meta=[\"rank\", \"rank_last_week\", \"weeks_on_list\", \"asterisk\", \"dagger\"])\n"
     ]
    },
    {
     "name": "stdout",
     "output_type": "stream",
     "text": [
      "2014-12-08\n",
      "https://api.nytimes.com/svc/books/v3/lists.json?api-key=P1yDSg62Aydsdh04WBBuS57pYbpBu2tb&list=hardcover-fiction&published-date=2014-12-08\n"
     ]
    },
    {
     "name": "stderr",
     "output_type": "stream",
     "text": [
      "C:\\Users\\melan\\AppData\\Local\\Temp\\ipykernel_29428\\1923946446.py:25: FutureWarning: pandas.io.json.json_normalize is deprecated, use pandas.json_normalize instead.\n",
      "  books = json_normalize(results[\"results\"], record_path=[\"book_details\"], meta=[\"rank\", \"rank_last_week\", \"weeks_on_list\", \"asterisk\", \"dagger\"])\n"
     ]
    },
    {
     "name": "stdout",
     "output_type": "stream",
     "text": [
      "2014-12-01\n",
      "https://api.nytimes.com/svc/books/v3/lists.json?api-key=P1yDSg62Aydsdh04WBBuS57pYbpBu2tb&list=hardcover-fiction&published-date=2014-12-01\n"
     ]
    },
    {
     "name": "stderr",
     "output_type": "stream",
     "text": [
      "C:\\Users\\melan\\AppData\\Local\\Temp\\ipykernel_29428\\1923946446.py:25: FutureWarning: pandas.io.json.json_normalize is deprecated, use pandas.json_normalize instead.\n",
      "  books = json_normalize(results[\"results\"], record_path=[\"book_details\"], meta=[\"rank\", \"rank_last_week\", \"weeks_on_list\", \"asterisk\", \"dagger\"])\n"
     ]
    },
    {
     "name": "stdout",
     "output_type": "stream",
     "text": [
      "2014-11-24\n",
      "https://api.nytimes.com/svc/books/v3/lists.json?api-key=P1yDSg62Aydsdh04WBBuS57pYbpBu2tb&list=hardcover-fiction&published-date=2014-11-24\n"
     ]
    },
    {
     "name": "stderr",
     "output_type": "stream",
     "text": [
      "C:\\Users\\melan\\AppData\\Local\\Temp\\ipykernel_29428\\1923946446.py:25: FutureWarning: pandas.io.json.json_normalize is deprecated, use pandas.json_normalize instead.\n",
      "  books = json_normalize(results[\"results\"], record_path=[\"book_details\"], meta=[\"rank\", \"rank_last_week\", \"weeks_on_list\", \"asterisk\", \"dagger\"])\n"
     ]
    },
    {
     "name": "stdout",
     "output_type": "stream",
     "text": [
      "2014-11-17\n",
      "https://api.nytimes.com/svc/books/v3/lists.json?api-key=P1yDSg62Aydsdh04WBBuS57pYbpBu2tb&list=hardcover-fiction&published-date=2014-11-17\n"
     ]
    },
    {
     "name": "stderr",
     "output_type": "stream",
     "text": [
      "C:\\Users\\melan\\AppData\\Local\\Temp\\ipykernel_29428\\1923946446.py:25: FutureWarning: pandas.io.json.json_normalize is deprecated, use pandas.json_normalize instead.\n",
      "  books = json_normalize(results[\"results\"], record_path=[\"book_details\"], meta=[\"rank\", \"rank_last_week\", \"weeks_on_list\", \"asterisk\", \"dagger\"])\n"
     ]
    },
    {
     "name": "stdout",
     "output_type": "stream",
     "text": [
      "2014-11-10\n",
      "https://api.nytimes.com/svc/books/v3/lists.json?api-key=P1yDSg62Aydsdh04WBBuS57pYbpBu2tb&list=hardcover-fiction&published-date=2014-11-10\n"
     ]
    },
    {
     "name": "stderr",
     "output_type": "stream",
     "text": [
      "C:\\Users\\melan\\AppData\\Local\\Temp\\ipykernel_29428\\1923946446.py:25: FutureWarning: pandas.io.json.json_normalize is deprecated, use pandas.json_normalize instead.\n",
      "  books = json_normalize(results[\"results\"], record_path=[\"book_details\"], meta=[\"rank\", \"rank_last_week\", \"weeks_on_list\", \"asterisk\", \"dagger\"])\n"
     ]
    },
    {
     "name": "stdout",
     "output_type": "stream",
     "text": [
      "2014-11-03\n",
      "https://api.nytimes.com/svc/books/v3/lists.json?api-key=P1yDSg62Aydsdh04WBBuS57pYbpBu2tb&list=hardcover-fiction&published-date=2014-11-03\n"
     ]
    },
    {
     "name": "stderr",
     "output_type": "stream",
     "text": [
      "C:\\Users\\melan\\AppData\\Local\\Temp\\ipykernel_29428\\1923946446.py:25: FutureWarning: pandas.io.json.json_normalize is deprecated, use pandas.json_normalize instead.\n",
      "  books = json_normalize(results[\"results\"], record_path=[\"book_details\"], meta=[\"rank\", \"rank_last_week\", \"weeks_on_list\", \"asterisk\", \"dagger\"])\n"
     ]
    },
    {
     "name": "stdout",
     "output_type": "stream",
     "text": [
      "2014-10-27\n",
      "https://api.nytimes.com/svc/books/v3/lists.json?api-key=P1yDSg62Aydsdh04WBBuS57pYbpBu2tb&list=hardcover-fiction&published-date=2014-10-27\n"
     ]
    },
    {
     "name": "stderr",
     "output_type": "stream",
     "text": [
      "C:\\Users\\melan\\AppData\\Local\\Temp\\ipykernel_29428\\1923946446.py:25: FutureWarning: pandas.io.json.json_normalize is deprecated, use pandas.json_normalize instead.\n",
      "  books = json_normalize(results[\"results\"], record_path=[\"book_details\"], meta=[\"rank\", \"rank_last_week\", \"weeks_on_list\", \"asterisk\", \"dagger\"])\n"
     ]
    },
    {
     "name": "stdout",
     "output_type": "stream",
     "text": [
      "2014-10-20\n",
      "https://api.nytimes.com/svc/books/v3/lists.json?api-key=P1yDSg62Aydsdh04WBBuS57pYbpBu2tb&list=hardcover-fiction&published-date=2014-10-20\n"
     ]
    },
    {
     "name": "stderr",
     "output_type": "stream",
     "text": [
      "C:\\Users\\melan\\AppData\\Local\\Temp\\ipykernel_29428\\1923946446.py:25: FutureWarning: pandas.io.json.json_normalize is deprecated, use pandas.json_normalize instead.\n",
      "  books = json_normalize(results[\"results\"], record_path=[\"book_details\"], meta=[\"rank\", \"rank_last_week\", \"weeks_on_list\", \"asterisk\", \"dagger\"])\n"
     ]
    },
    {
     "name": "stdout",
     "output_type": "stream",
     "text": [
      "2014-10-13\n",
      "https://api.nytimes.com/svc/books/v3/lists.json?api-key=P1yDSg62Aydsdh04WBBuS57pYbpBu2tb&list=hardcover-fiction&published-date=2014-10-13\n"
     ]
    },
    {
     "name": "stderr",
     "output_type": "stream",
     "text": [
      "C:\\Users\\melan\\AppData\\Local\\Temp\\ipykernel_29428\\1923946446.py:25: FutureWarning: pandas.io.json.json_normalize is deprecated, use pandas.json_normalize instead.\n",
      "  books = json_normalize(results[\"results\"], record_path=[\"book_details\"], meta=[\"rank\", \"rank_last_week\", \"weeks_on_list\", \"asterisk\", \"dagger\"])\n"
     ]
    },
    {
     "name": "stdout",
     "output_type": "stream",
     "text": [
      "2014-10-06\n",
      "https://api.nytimes.com/svc/books/v3/lists.json?api-key=P1yDSg62Aydsdh04WBBuS57pYbpBu2tb&list=hardcover-fiction&published-date=2014-10-06\n"
     ]
    },
    {
     "name": "stderr",
     "output_type": "stream",
     "text": [
      "C:\\Users\\melan\\AppData\\Local\\Temp\\ipykernel_29428\\1923946446.py:25: FutureWarning: pandas.io.json.json_normalize is deprecated, use pandas.json_normalize instead.\n",
      "  books = json_normalize(results[\"results\"], record_path=[\"book_details\"], meta=[\"rank\", \"rank_last_week\", \"weeks_on_list\", \"asterisk\", \"dagger\"])\n"
     ]
    },
    {
     "name": "stdout",
     "output_type": "stream",
     "text": [
      "2014-09-29\n",
      "https://api.nytimes.com/svc/books/v3/lists.json?api-key=P1yDSg62Aydsdh04WBBuS57pYbpBu2tb&list=hardcover-fiction&published-date=2014-09-29\n"
     ]
    },
    {
     "name": "stderr",
     "output_type": "stream",
     "text": [
      "C:\\Users\\melan\\AppData\\Local\\Temp\\ipykernel_29428\\1923946446.py:25: FutureWarning: pandas.io.json.json_normalize is deprecated, use pandas.json_normalize instead.\n",
      "  books = json_normalize(results[\"results\"], record_path=[\"book_details\"], meta=[\"rank\", \"rank_last_week\", \"weeks_on_list\", \"asterisk\", \"dagger\"])\n"
     ]
    },
    {
     "name": "stdout",
     "output_type": "stream",
     "text": [
      "2014-09-22\n",
      "https://api.nytimes.com/svc/books/v3/lists.json?api-key=P1yDSg62Aydsdh04WBBuS57pYbpBu2tb&list=hardcover-fiction&published-date=2014-09-22\n"
     ]
    },
    {
     "name": "stderr",
     "output_type": "stream",
     "text": [
      "C:\\Users\\melan\\AppData\\Local\\Temp\\ipykernel_29428\\1923946446.py:25: FutureWarning: pandas.io.json.json_normalize is deprecated, use pandas.json_normalize instead.\n",
      "  books = json_normalize(results[\"results\"], record_path=[\"book_details\"], meta=[\"rank\", \"rank_last_week\", \"weeks_on_list\", \"asterisk\", \"dagger\"])\n"
     ]
    },
    {
     "name": "stdout",
     "output_type": "stream",
     "text": [
      "2014-09-15\n",
      "https://api.nytimes.com/svc/books/v3/lists.json?api-key=P1yDSg62Aydsdh04WBBuS57pYbpBu2tb&list=hardcover-fiction&published-date=2014-09-15\n"
     ]
    },
    {
     "name": "stderr",
     "output_type": "stream",
     "text": [
      "C:\\Users\\melan\\AppData\\Local\\Temp\\ipykernel_29428\\1923946446.py:25: FutureWarning: pandas.io.json.json_normalize is deprecated, use pandas.json_normalize instead.\n",
      "  books = json_normalize(results[\"results\"], record_path=[\"book_details\"], meta=[\"rank\", \"rank_last_week\", \"weeks_on_list\", \"asterisk\", \"dagger\"])\n"
     ]
    },
    {
     "name": "stdout",
     "output_type": "stream",
     "text": [
      "2014-09-08\n",
      "https://api.nytimes.com/svc/books/v3/lists.json?api-key=P1yDSg62Aydsdh04WBBuS57pYbpBu2tb&list=hardcover-fiction&published-date=2014-09-08\n"
     ]
    },
    {
     "name": "stderr",
     "output_type": "stream",
     "text": [
      "C:\\Users\\melan\\AppData\\Local\\Temp\\ipykernel_29428\\1923946446.py:25: FutureWarning: pandas.io.json.json_normalize is deprecated, use pandas.json_normalize instead.\n",
      "  books = json_normalize(results[\"results\"], record_path=[\"book_details\"], meta=[\"rank\", \"rank_last_week\", \"weeks_on_list\", \"asterisk\", \"dagger\"])\n"
     ]
    },
    {
     "name": "stdout",
     "output_type": "stream",
     "text": [
      "2014-09-01\n",
      "https://api.nytimes.com/svc/books/v3/lists.json?api-key=P1yDSg62Aydsdh04WBBuS57pYbpBu2tb&list=hardcover-fiction&published-date=2014-09-01\n"
     ]
    },
    {
     "name": "stderr",
     "output_type": "stream",
     "text": [
      "C:\\Users\\melan\\AppData\\Local\\Temp\\ipykernel_29428\\1923946446.py:25: FutureWarning: pandas.io.json.json_normalize is deprecated, use pandas.json_normalize instead.\n",
      "  books = json_normalize(results[\"results\"], record_path=[\"book_details\"], meta=[\"rank\", \"rank_last_week\", \"weeks_on_list\", \"asterisk\", \"dagger\"])\n"
     ]
    },
    {
     "name": "stdout",
     "output_type": "stream",
     "text": [
      "2014-08-25\n",
      "https://api.nytimes.com/svc/books/v3/lists.json?api-key=P1yDSg62Aydsdh04WBBuS57pYbpBu2tb&list=hardcover-fiction&published-date=2014-08-25\n"
     ]
    },
    {
     "name": "stderr",
     "output_type": "stream",
     "text": [
      "C:\\Users\\melan\\AppData\\Local\\Temp\\ipykernel_29428\\1923946446.py:25: FutureWarning: pandas.io.json.json_normalize is deprecated, use pandas.json_normalize instead.\n",
      "  books = json_normalize(results[\"results\"], record_path=[\"book_details\"], meta=[\"rank\", \"rank_last_week\", \"weeks_on_list\", \"asterisk\", \"dagger\"])\n"
     ]
    },
    {
     "name": "stdout",
     "output_type": "stream",
     "text": [
      "2014-08-18\n",
      "https://api.nytimes.com/svc/books/v3/lists.json?api-key=P1yDSg62Aydsdh04WBBuS57pYbpBu2tb&list=hardcover-fiction&published-date=2014-08-18\n"
     ]
    },
    {
     "name": "stderr",
     "output_type": "stream",
     "text": [
      "C:\\Users\\melan\\AppData\\Local\\Temp\\ipykernel_29428\\1923946446.py:25: FutureWarning: pandas.io.json.json_normalize is deprecated, use pandas.json_normalize instead.\n",
      "  books = json_normalize(results[\"results\"], record_path=[\"book_details\"], meta=[\"rank\", \"rank_last_week\", \"weeks_on_list\", \"asterisk\", \"dagger\"])\n"
     ]
    },
    {
     "name": "stdout",
     "output_type": "stream",
     "text": [
      "2014-08-11\n",
      "https://api.nytimes.com/svc/books/v3/lists.json?api-key=P1yDSg62Aydsdh04WBBuS57pYbpBu2tb&list=hardcover-fiction&published-date=2014-08-11\n"
     ]
    },
    {
     "name": "stderr",
     "output_type": "stream",
     "text": [
      "C:\\Users\\melan\\AppData\\Local\\Temp\\ipykernel_29428\\1923946446.py:25: FutureWarning: pandas.io.json.json_normalize is deprecated, use pandas.json_normalize instead.\n",
      "  books = json_normalize(results[\"results\"], record_path=[\"book_details\"], meta=[\"rank\", \"rank_last_week\", \"weeks_on_list\", \"asterisk\", \"dagger\"])\n"
     ]
    },
    {
     "name": "stdout",
     "output_type": "stream",
     "text": [
      "2014-08-04\n",
      "https://api.nytimes.com/svc/books/v3/lists.json?api-key=P1yDSg62Aydsdh04WBBuS57pYbpBu2tb&list=hardcover-fiction&published-date=2014-08-04\n"
     ]
    },
    {
     "name": "stderr",
     "output_type": "stream",
     "text": [
      "C:\\Users\\melan\\AppData\\Local\\Temp\\ipykernel_29428\\1923946446.py:25: FutureWarning: pandas.io.json.json_normalize is deprecated, use pandas.json_normalize instead.\n",
      "  books = json_normalize(results[\"results\"], record_path=[\"book_details\"], meta=[\"rank\", \"rank_last_week\", \"weeks_on_list\", \"asterisk\", \"dagger\"])\n"
     ]
    },
    {
     "name": "stdout",
     "output_type": "stream",
     "text": [
      "2014-07-28\n",
      "https://api.nytimes.com/svc/books/v3/lists.json?api-key=P1yDSg62Aydsdh04WBBuS57pYbpBu2tb&list=hardcover-fiction&published-date=2014-07-28\n"
     ]
    },
    {
     "name": "stderr",
     "output_type": "stream",
     "text": [
      "C:\\Users\\melan\\AppData\\Local\\Temp\\ipykernel_29428\\1923946446.py:25: FutureWarning: pandas.io.json.json_normalize is deprecated, use pandas.json_normalize instead.\n",
      "  books = json_normalize(results[\"results\"], record_path=[\"book_details\"], meta=[\"rank\", \"rank_last_week\", \"weeks_on_list\", \"asterisk\", \"dagger\"])\n"
     ]
    },
    {
     "name": "stdout",
     "output_type": "stream",
     "text": [
      "2014-07-21\n",
      "https://api.nytimes.com/svc/books/v3/lists.json?api-key=P1yDSg62Aydsdh04WBBuS57pYbpBu2tb&list=hardcover-fiction&published-date=2014-07-21\n"
     ]
    },
    {
     "name": "stderr",
     "output_type": "stream",
     "text": [
      "C:\\Users\\melan\\AppData\\Local\\Temp\\ipykernel_29428\\1923946446.py:25: FutureWarning: pandas.io.json.json_normalize is deprecated, use pandas.json_normalize instead.\n",
      "  books = json_normalize(results[\"results\"], record_path=[\"book_details\"], meta=[\"rank\", \"rank_last_week\", \"weeks_on_list\", \"asterisk\", \"dagger\"])\n"
     ]
    },
    {
     "name": "stdout",
     "output_type": "stream",
     "text": [
      "2014-07-14\n",
      "https://api.nytimes.com/svc/books/v3/lists.json?api-key=P1yDSg62Aydsdh04WBBuS57pYbpBu2tb&list=hardcover-fiction&published-date=2014-07-14\n"
     ]
    },
    {
     "name": "stderr",
     "output_type": "stream",
     "text": [
      "C:\\Users\\melan\\AppData\\Local\\Temp\\ipykernel_29428\\1923946446.py:25: FutureWarning: pandas.io.json.json_normalize is deprecated, use pandas.json_normalize instead.\n",
      "  books = json_normalize(results[\"results\"], record_path=[\"book_details\"], meta=[\"rank\", \"rank_last_week\", \"weeks_on_list\", \"asterisk\", \"dagger\"])\n"
     ]
    },
    {
     "name": "stdout",
     "output_type": "stream",
     "text": [
      "2014-07-07\n",
      "https://api.nytimes.com/svc/books/v3/lists.json?api-key=P1yDSg62Aydsdh04WBBuS57pYbpBu2tb&list=hardcover-fiction&published-date=2014-07-07\n"
     ]
    },
    {
     "name": "stderr",
     "output_type": "stream",
     "text": [
      "C:\\Users\\melan\\AppData\\Local\\Temp\\ipykernel_29428\\1923946446.py:25: FutureWarning: pandas.io.json.json_normalize is deprecated, use pandas.json_normalize instead.\n",
      "  books = json_normalize(results[\"results\"], record_path=[\"book_details\"], meta=[\"rank\", \"rank_last_week\", \"weeks_on_list\", \"asterisk\", \"dagger\"])\n"
     ]
    },
    {
     "name": "stdout",
     "output_type": "stream",
     "text": [
      "2014-06-30\n",
      "https://api.nytimes.com/svc/books/v3/lists.json?api-key=P1yDSg62Aydsdh04WBBuS57pYbpBu2tb&list=hardcover-fiction&published-date=2014-06-30\n"
     ]
    },
    {
     "name": "stderr",
     "output_type": "stream",
     "text": [
      "C:\\Users\\melan\\AppData\\Local\\Temp\\ipykernel_29428\\1923946446.py:25: FutureWarning: pandas.io.json.json_normalize is deprecated, use pandas.json_normalize instead.\n",
      "  books = json_normalize(results[\"results\"], record_path=[\"book_details\"], meta=[\"rank\", \"rank_last_week\", \"weeks_on_list\", \"asterisk\", \"dagger\"])\n"
     ]
    },
    {
     "name": "stdout",
     "output_type": "stream",
     "text": [
      "2014-06-23\n",
      "https://api.nytimes.com/svc/books/v3/lists.json?api-key=P1yDSg62Aydsdh04WBBuS57pYbpBu2tb&list=hardcover-fiction&published-date=2014-06-23\n"
     ]
    },
    {
     "name": "stderr",
     "output_type": "stream",
     "text": [
      "C:\\Users\\melan\\AppData\\Local\\Temp\\ipykernel_29428\\1923946446.py:25: FutureWarning: pandas.io.json.json_normalize is deprecated, use pandas.json_normalize instead.\n",
      "  books = json_normalize(results[\"results\"], record_path=[\"book_details\"], meta=[\"rank\", \"rank_last_week\", \"weeks_on_list\", \"asterisk\", \"dagger\"])\n"
     ]
    },
    {
     "name": "stdout",
     "output_type": "stream",
     "text": [
      "2014-06-16\n",
      "https://api.nytimes.com/svc/books/v3/lists.json?api-key=P1yDSg62Aydsdh04WBBuS57pYbpBu2tb&list=hardcover-fiction&published-date=2014-06-16\n"
     ]
    },
    {
     "name": "stderr",
     "output_type": "stream",
     "text": [
      "C:\\Users\\melan\\AppData\\Local\\Temp\\ipykernel_29428\\1923946446.py:25: FutureWarning: pandas.io.json.json_normalize is deprecated, use pandas.json_normalize instead.\n",
      "  books = json_normalize(results[\"results\"], record_path=[\"book_details\"], meta=[\"rank\", \"rank_last_week\", \"weeks_on_list\", \"asterisk\", \"dagger\"])\n"
     ]
    },
    {
     "name": "stdout",
     "output_type": "stream",
     "text": [
      "2014-06-09\n",
      "https://api.nytimes.com/svc/books/v3/lists.json?api-key=P1yDSg62Aydsdh04WBBuS57pYbpBu2tb&list=hardcover-fiction&published-date=2014-06-09\n"
     ]
    },
    {
     "name": "stderr",
     "output_type": "stream",
     "text": [
      "C:\\Users\\melan\\AppData\\Local\\Temp\\ipykernel_29428\\1923946446.py:25: FutureWarning: pandas.io.json.json_normalize is deprecated, use pandas.json_normalize instead.\n",
      "  books = json_normalize(results[\"results\"], record_path=[\"book_details\"], meta=[\"rank\", \"rank_last_week\", \"weeks_on_list\", \"asterisk\", \"dagger\"])\n"
     ]
    },
    {
     "name": "stdout",
     "output_type": "stream",
     "text": [
      "2014-06-02\n",
      "https://api.nytimes.com/svc/books/v3/lists.json?api-key=P1yDSg62Aydsdh04WBBuS57pYbpBu2tb&list=hardcover-fiction&published-date=2014-06-02\n"
     ]
    },
    {
     "name": "stderr",
     "output_type": "stream",
     "text": [
      "C:\\Users\\melan\\AppData\\Local\\Temp\\ipykernel_29428\\1923946446.py:25: FutureWarning: pandas.io.json.json_normalize is deprecated, use pandas.json_normalize instead.\n",
      "  books = json_normalize(results[\"results\"], record_path=[\"book_details\"], meta=[\"rank\", \"rank_last_week\", \"weeks_on_list\", \"asterisk\", \"dagger\"])\n"
     ]
    },
    {
     "name": "stdout",
     "output_type": "stream",
     "text": [
      "2014-05-26\n",
      "https://api.nytimes.com/svc/books/v3/lists.json?api-key=P1yDSg62Aydsdh04WBBuS57pYbpBu2tb&list=hardcover-fiction&published-date=2014-05-26\n"
     ]
    },
    {
     "name": "stderr",
     "output_type": "stream",
     "text": [
      "C:\\Users\\melan\\AppData\\Local\\Temp\\ipykernel_29428\\1923946446.py:25: FutureWarning: pandas.io.json.json_normalize is deprecated, use pandas.json_normalize instead.\n",
      "  books = json_normalize(results[\"results\"], record_path=[\"book_details\"], meta=[\"rank\", \"rank_last_week\", \"weeks_on_list\", \"asterisk\", \"dagger\"])\n"
     ]
    },
    {
     "name": "stdout",
     "output_type": "stream",
     "text": [
      "2014-05-19\n",
      "https://api.nytimes.com/svc/books/v3/lists.json?api-key=P1yDSg62Aydsdh04WBBuS57pYbpBu2tb&list=hardcover-fiction&published-date=2014-05-19\n"
     ]
    },
    {
     "name": "stderr",
     "output_type": "stream",
     "text": [
      "C:\\Users\\melan\\AppData\\Local\\Temp\\ipykernel_29428\\1923946446.py:25: FutureWarning: pandas.io.json.json_normalize is deprecated, use pandas.json_normalize instead.\n",
      "  books = json_normalize(results[\"results\"], record_path=[\"book_details\"], meta=[\"rank\", \"rank_last_week\", \"weeks_on_list\", \"asterisk\", \"dagger\"])\n"
     ]
    },
    {
     "name": "stdout",
     "output_type": "stream",
     "text": [
      "2014-05-12\n",
      "https://api.nytimes.com/svc/books/v3/lists.json?api-key=P1yDSg62Aydsdh04WBBuS57pYbpBu2tb&list=hardcover-fiction&published-date=2014-05-12\n"
     ]
    },
    {
     "name": "stderr",
     "output_type": "stream",
     "text": [
      "C:\\Users\\melan\\AppData\\Local\\Temp\\ipykernel_29428\\1923946446.py:25: FutureWarning: pandas.io.json.json_normalize is deprecated, use pandas.json_normalize instead.\n",
      "  books = json_normalize(results[\"results\"], record_path=[\"book_details\"], meta=[\"rank\", \"rank_last_week\", \"weeks_on_list\", \"asterisk\", \"dagger\"])\n"
     ]
    },
    {
     "name": "stdout",
     "output_type": "stream",
     "text": [
      "2014-05-05\n",
      "https://api.nytimes.com/svc/books/v3/lists.json?api-key=P1yDSg62Aydsdh04WBBuS57pYbpBu2tb&list=hardcover-fiction&published-date=2014-05-05\n"
     ]
    },
    {
     "name": "stderr",
     "output_type": "stream",
     "text": [
      "C:\\Users\\melan\\AppData\\Local\\Temp\\ipykernel_29428\\1923946446.py:25: FutureWarning: pandas.io.json.json_normalize is deprecated, use pandas.json_normalize instead.\n",
      "  books = json_normalize(results[\"results\"], record_path=[\"book_details\"], meta=[\"rank\", \"rank_last_week\", \"weeks_on_list\", \"asterisk\", \"dagger\"])\n"
     ]
    },
    {
     "name": "stdout",
     "output_type": "stream",
     "text": [
      "2014-04-28\n",
      "https://api.nytimes.com/svc/books/v3/lists.json?api-key=P1yDSg62Aydsdh04WBBuS57pYbpBu2tb&list=hardcover-fiction&published-date=2014-04-28\n"
     ]
    },
    {
     "name": "stderr",
     "output_type": "stream",
     "text": [
      "C:\\Users\\melan\\AppData\\Local\\Temp\\ipykernel_29428\\1923946446.py:25: FutureWarning: pandas.io.json.json_normalize is deprecated, use pandas.json_normalize instead.\n",
      "  books = json_normalize(results[\"results\"], record_path=[\"book_details\"], meta=[\"rank\", \"rank_last_week\", \"weeks_on_list\", \"asterisk\", \"dagger\"])\n"
     ]
    },
    {
     "name": "stdout",
     "output_type": "stream",
     "text": [
      "2014-04-21\n",
      "https://api.nytimes.com/svc/books/v3/lists.json?api-key=P1yDSg62Aydsdh04WBBuS57pYbpBu2tb&list=hardcover-fiction&published-date=2014-04-21\n"
     ]
    },
    {
     "name": "stderr",
     "output_type": "stream",
     "text": [
      "C:\\Users\\melan\\AppData\\Local\\Temp\\ipykernel_29428\\1923946446.py:25: FutureWarning: pandas.io.json.json_normalize is deprecated, use pandas.json_normalize instead.\n",
      "  books = json_normalize(results[\"results\"], record_path=[\"book_details\"], meta=[\"rank\", \"rank_last_week\", \"weeks_on_list\", \"asterisk\", \"dagger\"])\n"
     ]
    },
    {
     "name": "stdout",
     "output_type": "stream",
     "text": [
      "2014-04-14\n",
      "https://api.nytimes.com/svc/books/v3/lists.json?api-key=P1yDSg62Aydsdh04WBBuS57pYbpBu2tb&list=hardcover-fiction&published-date=2014-04-14\n"
     ]
    },
    {
     "name": "stderr",
     "output_type": "stream",
     "text": [
      "C:\\Users\\melan\\AppData\\Local\\Temp\\ipykernel_29428\\1923946446.py:25: FutureWarning: pandas.io.json.json_normalize is deprecated, use pandas.json_normalize instead.\n",
      "  books = json_normalize(results[\"results\"], record_path=[\"book_details\"], meta=[\"rank\", \"rank_last_week\", \"weeks_on_list\", \"asterisk\", \"dagger\"])\n"
     ]
    },
    {
     "name": "stdout",
     "output_type": "stream",
     "text": [
      "2014-04-07\n",
      "https://api.nytimes.com/svc/books/v3/lists.json?api-key=P1yDSg62Aydsdh04WBBuS57pYbpBu2tb&list=hardcover-fiction&published-date=2014-04-07\n"
     ]
    },
    {
     "name": "stderr",
     "output_type": "stream",
     "text": [
      "C:\\Users\\melan\\AppData\\Local\\Temp\\ipykernel_29428\\1923946446.py:25: FutureWarning: pandas.io.json.json_normalize is deprecated, use pandas.json_normalize instead.\n",
      "  books = json_normalize(results[\"results\"], record_path=[\"book_details\"], meta=[\"rank\", \"rank_last_week\", \"weeks_on_list\", \"asterisk\", \"dagger\"])\n"
     ]
    },
    {
     "name": "stdout",
     "output_type": "stream",
     "text": [
      "2014-03-31\n",
      "https://api.nytimes.com/svc/books/v3/lists.json?api-key=P1yDSg62Aydsdh04WBBuS57pYbpBu2tb&list=hardcover-fiction&published-date=2014-03-31\n"
     ]
    },
    {
     "name": "stderr",
     "output_type": "stream",
     "text": [
      "C:\\Users\\melan\\AppData\\Local\\Temp\\ipykernel_29428\\1923946446.py:25: FutureWarning: pandas.io.json.json_normalize is deprecated, use pandas.json_normalize instead.\n",
      "  books = json_normalize(results[\"results\"], record_path=[\"book_details\"], meta=[\"rank\", \"rank_last_week\", \"weeks_on_list\", \"asterisk\", \"dagger\"])\n"
     ]
    },
    {
     "name": "stdout",
     "output_type": "stream",
     "text": [
      "2014-03-24\n",
      "https://api.nytimes.com/svc/books/v3/lists.json?api-key=P1yDSg62Aydsdh04WBBuS57pYbpBu2tb&list=hardcover-fiction&published-date=2014-03-24\n"
     ]
    },
    {
     "name": "stderr",
     "output_type": "stream",
     "text": [
      "C:\\Users\\melan\\AppData\\Local\\Temp\\ipykernel_29428\\1923946446.py:25: FutureWarning: pandas.io.json.json_normalize is deprecated, use pandas.json_normalize instead.\n",
      "  books = json_normalize(results[\"results\"], record_path=[\"book_details\"], meta=[\"rank\", \"rank_last_week\", \"weeks_on_list\", \"asterisk\", \"dagger\"])\n"
     ]
    },
    {
     "name": "stdout",
     "output_type": "stream",
     "text": [
      "2014-03-17\n",
      "https://api.nytimes.com/svc/books/v3/lists.json?api-key=P1yDSg62Aydsdh04WBBuS57pYbpBu2tb&list=hardcover-fiction&published-date=2014-03-17\n"
     ]
    },
    {
     "name": "stderr",
     "output_type": "stream",
     "text": [
      "C:\\Users\\melan\\AppData\\Local\\Temp\\ipykernel_29428\\1923946446.py:25: FutureWarning: pandas.io.json.json_normalize is deprecated, use pandas.json_normalize instead.\n",
      "  books = json_normalize(results[\"results\"], record_path=[\"book_details\"], meta=[\"rank\", \"rank_last_week\", \"weeks_on_list\", \"asterisk\", \"dagger\"])\n"
     ]
    },
    {
     "name": "stdout",
     "output_type": "stream",
     "text": [
      "2014-03-10\n",
      "https://api.nytimes.com/svc/books/v3/lists.json?api-key=P1yDSg62Aydsdh04WBBuS57pYbpBu2tb&list=hardcover-fiction&published-date=2014-03-10\n"
     ]
    },
    {
     "name": "stderr",
     "output_type": "stream",
     "text": [
      "C:\\Users\\melan\\AppData\\Local\\Temp\\ipykernel_29428\\1923946446.py:25: FutureWarning: pandas.io.json.json_normalize is deprecated, use pandas.json_normalize instead.\n",
      "  books = json_normalize(results[\"results\"], record_path=[\"book_details\"], meta=[\"rank\", \"rank_last_week\", \"weeks_on_list\", \"asterisk\", \"dagger\"])\n"
     ]
    },
    {
     "name": "stdout",
     "output_type": "stream",
     "text": [
      "2014-03-03\n",
      "https://api.nytimes.com/svc/books/v3/lists.json?api-key=P1yDSg62Aydsdh04WBBuS57pYbpBu2tb&list=hardcover-fiction&published-date=2014-03-03\n"
     ]
    },
    {
     "name": "stderr",
     "output_type": "stream",
     "text": [
      "C:\\Users\\melan\\AppData\\Local\\Temp\\ipykernel_29428\\1923946446.py:25: FutureWarning: pandas.io.json.json_normalize is deprecated, use pandas.json_normalize instead.\n",
      "  books = json_normalize(results[\"results\"], record_path=[\"book_details\"], meta=[\"rank\", \"rank_last_week\", \"weeks_on_list\", \"asterisk\", \"dagger\"])\n"
     ]
    },
    {
     "name": "stdout",
     "output_type": "stream",
     "text": [
      "2014-02-24\n",
      "https://api.nytimes.com/svc/books/v3/lists.json?api-key=P1yDSg62Aydsdh04WBBuS57pYbpBu2tb&list=hardcover-fiction&published-date=2014-02-24\n"
     ]
    },
    {
     "name": "stderr",
     "output_type": "stream",
     "text": [
      "C:\\Users\\melan\\AppData\\Local\\Temp\\ipykernel_29428\\1923946446.py:25: FutureWarning: pandas.io.json.json_normalize is deprecated, use pandas.json_normalize instead.\n",
      "  books = json_normalize(results[\"results\"], record_path=[\"book_details\"], meta=[\"rank\", \"rank_last_week\", \"weeks_on_list\", \"asterisk\", \"dagger\"])\n"
     ]
    },
    {
     "name": "stdout",
     "output_type": "stream",
     "text": [
      "2014-02-17\n",
      "https://api.nytimes.com/svc/books/v3/lists.json?api-key=P1yDSg62Aydsdh04WBBuS57pYbpBu2tb&list=hardcover-fiction&published-date=2014-02-17\n"
     ]
    },
    {
     "name": "stderr",
     "output_type": "stream",
     "text": [
      "C:\\Users\\melan\\AppData\\Local\\Temp\\ipykernel_29428\\1923946446.py:25: FutureWarning: pandas.io.json.json_normalize is deprecated, use pandas.json_normalize instead.\n",
      "  books = json_normalize(results[\"results\"], record_path=[\"book_details\"], meta=[\"rank\", \"rank_last_week\", \"weeks_on_list\", \"asterisk\", \"dagger\"])\n"
     ]
    },
    {
     "name": "stdout",
     "output_type": "stream",
     "text": [
      "2014-02-10\n",
      "https://api.nytimes.com/svc/books/v3/lists.json?api-key=P1yDSg62Aydsdh04WBBuS57pYbpBu2tb&list=hardcover-fiction&published-date=2014-02-10\n"
     ]
    },
    {
     "name": "stderr",
     "output_type": "stream",
     "text": [
      "C:\\Users\\melan\\AppData\\Local\\Temp\\ipykernel_29428\\1923946446.py:25: FutureWarning: pandas.io.json.json_normalize is deprecated, use pandas.json_normalize instead.\n",
      "  books = json_normalize(results[\"results\"], record_path=[\"book_details\"], meta=[\"rank\", \"rank_last_week\", \"weeks_on_list\", \"asterisk\", \"dagger\"])\n"
     ]
    },
    {
     "name": "stdout",
     "output_type": "stream",
     "text": [
      "2014-02-03\n",
      "https://api.nytimes.com/svc/books/v3/lists.json?api-key=P1yDSg62Aydsdh04WBBuS57pYbpBu2tb&list=hardcover-fiction&published-date=2014-02-03\n"
     ]
    },
    {
     "name": "stderr",
     "output_type": "stream",
     "text": [
      "C:\\Users\\melan\\AppData\\Local\\Temp\\ipykernel_29428\\1923946446.py:25: FutureWarning: pandas.io.json.json_normalize is deprecated, use pandas.json_normalize instead.\n",
      "  books = json_normalize(results[\"results\"], record_path=[\"book_details\"], meta=[\"rank\", \"rank_last_week\", \"weeks_on_list\", \"asterisk\", \"dagger\"])\n"
     ]
    },
    {
     "name": "stdout",
     "output_type": "stream",
     "text": [
      "2014-01-27\n",
      "https://api.nytimes.com/svc/books/v3/lists.json?api-key=P1yDSg62Aydsdh04WBBuS57pYbpBu2tb&list=hardcover-fiction&published-date=2014-01-27\n"
     ]
    },
    {
     "name": "stderr",
     "output_type": "stream",
     "text": [
      "C:\\Users\\melan\\AppData\\Local\\Temp\\ipykernel_29428\\1923946446.py:25: FutureWarning: pandas.io.json.json_normalize is deprecated, use pandas.json_normalize instead.\n",
      "  books = json_normalize(results[\"results\"], record_path=[\"book_details\"], meta=[\"rank\", \"rank_last_week\", \"weeks_on_list\", \"asterisk\", \"dagger\"])\n"
     ]
    },
    {
     "name": "stdout",
     "output_type": "stream",
     "text": [
      "2014-01-20\n",
      "https://api.nytimes.com/svc/books/v3/lists.json?api-key=P1yDSg62Aydsdh04WBBuS57pYbpBu2tb&list=hardcover-fiction&published-date=2014-01-20\n"
     ]
    },
    {
     "name": "stderr",
     "output_type": "stream",
     "text": [
      "C:\\Users\\melan\\AppData\\Local\\Temp\\ipykernel_29428\\1923946446.py:25: FutureWarning: pandas.io.json.json_normalize is deprecated, use pandas.json_normalize instead.\n",
      "  books = json_normalize(results[\"results\"], record_path=[\"book_details\"], meta=[\"rank\", \"rank_last_week\", \"weeks_on_list\", \"asterisk\", \"dagger\"])\n"
     ]
    },
    {
     "name": "stdout",
     "output_type": "stream",
     "text": [
      "2014-01-13\n",
      "https://api.nytimes.com/svc/books/v3/lists.json?api-key=P1yDSg62Aydsdh04WBBuS57pYbpBu2tb&list=hardcover-fiction&published-date=2014-01-13\n"
     ]
    },
    {
     "name": "stderr",
     "output_type": "stream",
     "text": [
      "C:\\Users\\melan\\AppData\\Local\\Temp\\ipykernel_29428\\1923946446.py:25: FutureWarning: pandas.io.json.json_normalize is deprecated, use pandas.json_normalize instead.\n",
      "  books = json_normalize(results[\"results\"], record_path=[\"book_details\"], meta=[\"rank\", \"rank_last_week\", \"weeks_on_list\", \"asterisk\", \"dagger\"])\n"
     ]
    },
    {
     "name": "stdout",
     "output_type": "stream",
     "text": [
      "2014-01-06\n",
      "https://api.nytimes.com/svc/books/v3/lists.json?api-key=P1yDSg62Aydsdh04WBBuS57pYbpBu2tb&list=hardcover-fiction&published-date=2014-01-06\n"
     ]
    },
    {
     "name": "stderr",
     "output_type": "stream",
     "text": [
      "C:\\Users\\melan\\AppData\\Local\\Temp\\ipykernel_29428\\1923946446.py:25: FutureWarning: pandas.io.json.json_normalize is deprecated, use pandas.json_normalize instead.\n",
      "  books = json_normalize(results[\"results\"], record_path=[\"book_details\"], meta=[\"rank\", \"rank_last_week\", \"weeks_on_list\", \"asterisk\", \"dagger\"])\n"
     ]
    },
    {
     "name": "stdout",
     "output_type": "stream",
     "text": [
      "2013-12-30\n",
      "https://api.nytimes.com/svc/books/v3/lists.json?api-key=P1yDSg62Aydsdh04WBBuS57pYbpBu2tb&list=hardcover-fiction&published-date=2013-12-30\n"
     ]
    },
    {
     "name": "stderr",
     "output_type": "stream",
     "text": [
      "C:\\Users\\melan\\AppData\\Local\\Temp\\ipykernel_29428\\1923946446.py:25: FutureWarning: pandas.io.json.json_normalize is deprecated, use pandas.json_normalize instead.\n",
      "  books = json_normalize(results[\"results\"], record_path=[\"book_details\"], meta=[\"rank\", \"rank_last_week\", \"weeks_on_list\", \"asterisk\", \"dagger\"])\n"
     ]
    },
    {
     "name": "stdout",
     "output_type": "stream",
     "text": [
      "2013-12-23\n",
      "https://api.nytimes.com/svc/books/v3/lists.json?api-key=P1yDSg62Aydsdh04WBBuS57pYbpBu2tb&list=hardcover-fiction&published-date=2013-12-23\n"
     ]
    },
    {
     "name": "stderr",
     "output_type": "stream",
     "text": [
      "C:\\Users\\melan\\AppData\\Local\\Temp\\ipykernel_29428\\1923946446.py:25: FutureWarning: pandas.io.json.json_normalize is deprecated, use pandas.json_normalize instead.\n",
      "  books = json_normalize(results[\"results\"], record_path=[\"book_details\"], meta=[\"rank\", \"rank_last_week\", \"weeks_on_list\", \"asterisk\", \"dagger\"])\n"
     ]
    },
    {
     "name": "stdout",
     "output_type": "stream",
     "text": [
      "2013-12-16\n",
      "https://api.nytimes.com/svc/books/v3/lists.json?api-key=P1yDSg62Aydsdh04WBBuS57pYbpBu2tb&list=hardcover-fiction&published-date=2013-12-16\n"
     ]
    },
    {
     "name": "stderr",
     "output_type": "stream",
     "text": [
      "C:\\Users\\melan\\AppData\\Local\\Temp\\ipykernel_29428\\1923946446.py:25: FutureWarning: pandas.io.json.json_normalize is deprecated, use pandas.json_normalize instead.\n",
      "  books = json_normalize(results[\"results\"], record_path=[\"book_details\"], meta=[\"rank\", \"rank_last_week\", \"weeks_on_list\", \"asterisk\", \"dagger\"])\n"
     ]
    },
    {
     "name": "stdout",
     "output_type": "stream",
     "text": [
      "2013-12-09\n",
      "https://api.nytimes.com/svc/books/v3/lists.json?api-key=P1yDSg62Aydsdh04WBBuS57pYbpBu2tb&list=hardcover-fiction&published-date=2013-12-09\n"
     ]
    },
    {
     "name": "stderr",
     "output_type": "stream",
     "text": [
      "C:\\Users\\melan\\AppData\\Local\\Temp\\ipykernel_29428\\1923946446.py:25: FutureWarning: pandas.io.json.json_normalize is deprecated, use pandas.json_normalize instead.\n",
      "  books = json_normalize(results[\"results\"], record_path=[\"book_details\"], meta=[\"rank\", \"rank_last_week\", \"weeks_on_list\", \"asterisk\", \"dagger\"])\n"
     ]
    },
    {
     "name": "stdout",
     "output_type": "stream",
     "text": [
      "2013-12-02\n",
      "https://api.nytimes.com/svc/books/v3/lists.json?api-key=P1yDSg62Aydsdh04WBBuS57pYbpBu2tb&list=hardcover-fiction&published-date=2013-12-02\n"
     ]
    },
    {
     "name": "stderr",
     "output_type": "stream",
     "text": [
      "C:\\Users\\melan\\AppData\\Local\\Temp\\ipykernel_29428\\1923946446.py:25: FutureWarning: pandas.io.json.json_normalize is deprecated, use pandas.json_normalize instead.\n",
      "  books = json_normalize(results[\"results\"], record_path=[\"book_details\"], meta=[\"rank\", \"rank_last_week\", \"weeks_on_list\", \"asterisk\", \"dagger\"])\n"
     ]
    },
    {
     "name": "stdout",
     "output_type": "stream",
     "text": [
      "2013-11-25\n",
      "https://api.nytimes.com/svc/books/v3/lists.json?api-key=P1yDSg62Aydsdh04WBBuS57pYbpBu2tb&list=hardcover-fiction&published-date=2013-11-25\n"
     ]
    },
    {
     "name": "stderr",
     "output_type": "stream",
     "text": [
      "C:\\Users\\melan\\AppData\\Local\\Temp\\ipykernel_29428\\1923946446.py:25: FutureWarning: pandas.io.json.json_normalize is deprecated, use pandas.json_normalize instead.\n",
      "  books = json_normalize(results[\"results\"], record_path=[\"book_details\"], meta=[\"rank\", \"rank_last_week\", \"weeks_on_list\", \"asterisk\", \"dagger\"])\n"
     ]
    },
    {
     "name": "stdout",
     "output_type": "stream",
     "text": [
      "2013-11-18\n",
      "https://api.nytimes.com/svc/books/v3/lists.json?api-key=P1yDSg62Aydsdh04WBBuS57pYbpBu2tb&list=hardcover-fiction&published-date=2013-11-18\n"
     ]
    },
    {
     "name": "stderr",
     "output_type": "stream",
     "text": [
      "C:\\Users\\melan\\AppData\\Local\\Temp\\ipykernel_29428\\1923946446.py:25: FutureWarning: pandas.io.json.json_normalize is deprecated, use pandas.json_normalize instead.\n",
      "  books = json_normalize(results[\"results\"], record_path=[\"book_details\"], meta=[\"rank\", \"rank_last_week\", \"weeks_on_list\", \"asterisk\", \"dagger\"])\n"
     ]
    },
    {
     "name": "stdout",
     "output_type": "stream",
     "text": [
      "2013-11-11\n",
      "https://api.nytimes.com/svc/books/v3/lists.json?api-key=P1yDSg62Aydsdh04WBBuS57pYbpBu2tb&list=hardcover-fiction&published-date=2013-11-11\n"
     ]
    },
    {
     "name": "stderr",
     "output_type": "stream",
     "text": [
      "C:\\Users\\melan\\AppData\\Local\\Temp\\ipykernel_29428\\1923946446.py:25: FutureWarning: pandas.io.json.json_normalize is deprecated, use pandas.json_normalize instead.\n",
      "  books = json_normalize(results[\"results\"], record_path=[\"book_details\"], meta=[\"rank\", \"rank_last_week\", \"weeks_on_list\", \"asterisk\", \"dagger\"])\n"
     ]
    },
    {
     "name": "stdout",
     "output_type": "stream",
     "text": [
      "2013-11-04\n",
      "https://api.nytimes.com/svc/books/v3/lists.json?api-key=P1yDSg62Aydsdh04WBBuS57pYbpBu2tb&list=hardcover-fiction&published-date=2013-11-04\n"
     ]
    },
    {
     "name": "stderr",
     "output_type": "stream",
     "text": [
      "C:\\Users\\melan\\AppData\\Local\\Temp\\ipykernel_29428\\1923946446.py:25: FutureWarning: pandas.io.json.json_normalize is deprecated, use pandas.json_normalize instead.\n",
      "  books = json_normalize(results[\"results\"], record_path=[\"book_details\"], meta=[\"rank\", \"rank_last_week\", \"weeks_on_list\", \"asterisk\", \"dagger\"])\n"
     ]
    },
    {
     "name": "stdout",
     "output_type": "stream",
     "text": [
      "2013-10-28\n",
      "https://api.nytimes.com/svc/books/v3/lists.json?api-key=P1yDSg62Aydsdh04WBBuS57pYbpBu2tb&list=hardcover-fiction&published-date=2013-10-28\n"
     ]
    },
    {
     "name": "stderr",
     "output_type": "stream",
     "text": [
      "C:\\Users\\melan\\AppData\\Local\\Temp\\ipykernel_29428\\1923946446.py:25: FutureWarning: pandas.io.json.json_normalize is deprecated, use pandas.json_normalize instead.\n",
      "  books = json_normalize(results[\"results\"], record_path=[\"book_details\"], meta=[\"rank\", \"rank_last_week\", \"weeks_on_list\", \"asterisk\", \"dagger\"])\n"
     ]
    },
    {
     "name": "stdout",
     "output_type": "stream",
     "text": [
      "2013-10-21\n",
      "https://api.nytimes.com/svc/books/v3/lists.json?api-key=P1yDSg62Aydsdh04WBBuS57pYbpBu2tb&list=hardcover-fiction&published-date=2013-10-21\n"
     ]
    },
    {
     "name": "stderr",
     "output_type": "stream",
     "text": [
      "C:\\Users\\melan\\AppData\\Local\\Temp\\ipykernel_29428\\1923946446.py:25: FutureWarning: pandas.io.json.json_normalize is deprecated, use pandas.json_normalize instead.\n",
      "  books = json_normalize(results[\"results\"], record_path=[\"book_details\"], meta=[\"rank\", \"rank_last_week\", \"weeks_on_list\", \"asterisk\", \"dagger\"])\n"
     ]
    },
    {
     "name": "stdout",
     "output_type": "stream",
     "text": [
      "2013-10-14\n",
      "https://api.nytimes.com/svc/books/v3/lists.json?api-key=P1yDSg62Aydsdh04WBBuS57pYbpBu2tb&list=hardcover-fiction&published-date=2013-10-14\n"
     ]
    },
    {
     "name": "stderr",
     "output_type": "stream",
     "text": [
      "C:\\Users\\melan\\AppData\\Local\\Temp\\ipykernel_29428\\1923946446.py:25: FutureWarning: pandas.io.json.json_normalize is deprecated, use pandas.json_normalize instead.\n",
      "  books = json_normalize(results[\"results\"], record_path=[\"book_details\"], meta=[\"rank\", \"rank_last_week\", \"weeks_on_list\", \"asterisk\", \"dagger\"])\n"
     ]
    },
    {
     "name": "stdout",
     "output_type": "stream",
     "text": [
      "2013-10-07\n",
      "https://api.nytimes.com/svc/books/v3/lists.json?api-key=P1yDSg62Aydsdh04WBBuS57pYbpBu2tb&list=hardcover-fiction&published-date=2013-10-07\n"
     ]
    },
    {
     "name": "stderr",
     "output_type": "stream",
     "text": [
      "C:\\Users\\melan\\AppData\\Local\\Temp\\ipykernel_29428\\1923946446.py:25: FutureWarning: pandas.io.json.json_normalize is deprecated, use pandas.json_normalize instead.\n",
      "  books = json_normalize(results[\"results\"], record_path=[\"book_details\"], meta=[\"rank\", \"rank_last_week\", \"weeks_on_list\", \"asterisk\", \"dagger\"])\n"
     ]
    },
    {
     "name": "stdout",
     "output_type": "stream",
     "text": [
      "2013-09-30\n",
      "https://api.nytimes.com/svc/books/v3/lists.json?api-key=P1yDSg62Aydsdh04WBBuS57pYbpBu2tb&list=hardcover-fiction&published-date=2013-09-30\n"
     ]
    },
    {
     "name": "stderr",
     "output_type": "stream",
     "text": [
      "C:\\Users\\melan\\AppData\\Local\\Temp\\ipykernel_29428\\1923946446.py:25: FutureWarning: pandas.io.json.json_normalize is deprecated, use pandas.json_normalize instead.\n",
      "  books = json_normalize(results[\"results\"], record_path=[\"book_details\"], meta=[\"rank\", \"rank_last_week\", \"weeks_on_list\", \"asterisk\", \"dagger\"])\n"
     ]
    },
    {
     "name": "stdout",
     "output_type": "stream",
     "text": [
      "2013-09-23\n",
      "https://api.nytimes.com/svc/books/v3/lists.json?api-key=P1yDSg62Aydsdh04WBBuS57pYbpBu2tb&list=hardcover-fiction&published-date=2013-09-23\n"
     ]
    },
    {
     "name": "stderr",
     "output_type": "stream",
     "text": [
      "C:\\Users\\melan\\AppData\\Local\\Temp\\ipykernel_29428\\1923946446.py:25: FutureWarning: pandas.io.json.json_normalize is deprecated, use pandas.json_normalize instead.\n",
      "  books = json_normalize(results[\"results\"], record_path=[\"book_details\"], meta=[\"rank\", \"rank_last_week\", \"weeks_on_list\", \"asterisk\", \"dagger\"])\n"
     ]
    },
    {
     "name": "stdout",
     "output_type": "stream",
     "text": [
      "2013-09-16\n",
      "https://api.nytimes.com/svc/books/v3/lists.json?api-key=P1yDSg62Aydsdh04WBBuS57pYbpBu2tb&list=hardcover-fiction&published-date=2013-09-16\n"
     ]
    },
    {
     "name": "stderr",
     "output_type": "stream",
     "text": [
      "C:\\Users\\melan\\AppData\\Local\\Temp\\ipykernel_29428\\1923946446.py:25: FutureWarning: pandas.io.json.json_normalize is deprecated, use pandas.json_normalize instead.\n",
      "  books = json_normalize(results[\"results\"], record_path=[\"book_details\"], meta=[\"rank\", \"rank_last_week\", \"weeks_on_list\", \"asterisk\", \"dagger\"])\n"
     ]
    },
    {
     "name": "stdout",
     "output_type": "stream",
     "text": [
      "2013-09-09\n",
      "https://api.nytimes.com/svc/books/v3/lists.json?api-key=P1yDSg62Aydsdh04WBBuS57pYbpBu2tb&list=hardcover-fiction&published-date=2013-09-09\n"
     ]
    },
    {
     "name": "stderr",
     "output_type": "stream",
     "text": [
      "C:\\Users\\melan\\AppData\\Local\\Temp\\ipykernel_29428\\1923946446.py:25: FutureWarning: pandas.io.json.json_normalize is deprecated, use pandas.json_normalize instead.\n",
      "  books = json_normalize(results[\"results\"], record_path=[\"book_details\"], meta=[\"rank\", \"rank_last_week\", \"weeks_on_list\", \"asterisk\", \"dagger\"])\n"
     ]
    },
    {
     "name": "stdout",
     "output_type": "stream",
     "text": [
      "2013-09-02\n",
      "https://api.nytimes.com/svc/books/v3/lists.json?api-key=P1yDSg62Aydsdh04WBBuS57pYbpBu2tb&list=hardcover-fiction&published-date=2013-09-02\n"
     ]
    },
    {
     "name": "stderr",
     "output_type": "stream",
     "text": [
      "C:\\Users\\melan\\AppData\\Local\\Temp\\ipykernel_29428\\1923946446.py:25: FutureWarning: pandas.io.json.json_normalize is deprecated, use pandas.json_normalize instead.\n",
      "  books = json_normalize(results[\"results\"], record_path=[\"book_details\"], meta=[\"rank\", \"rank_last_week\", \"weeks_on_list\", \"asterisk\", \"dagger\"])\n"
     ]
    },
    {
     "name": "stdout",
     "output_type": "stream",
     "text": [
      "2013-08-26\n",
      "https://api.nytimes.com/svc/books/v3/lists.json?api-key=P1yDSg62Aydsdh04WBBuS57pYbpBu2tb&list=hardcover-fiction&published-date=2013-08-26\n"
     ]
    },
    {
     "name": "stderr",
     "output_type": "stream",
     "text": [
      "C:\\Users\\melan\\AppData\\Local\\Temp\\ipykernel_29428\\1923946446.py:25: FutureWarning: pandas.io.json.json_normalize is deprecated, use pandas.json_normalize instead.\n",
      "  books = json_normalize(results[\"results\"], record_path=[\"book_details\"], meta=[\"rank\", \"rank_last_week\", \"weeks_on_list\", \"asterisk\", \"dagger\"])\n"
     ]
    },
    {
     "name": "stdout",
     "output_type": "stream",
     "text": [
      "2013-08-19\n",
      "https://api.nytimes.com/svc/books/v3/lists.json?api-key=P1yDSg62Aydsdh04WBBuS57pYbpBu2tb&list=hardcover-fiction&published-date=2013-08-19\n"
     ]
    },
    {
     "name": "stderr",
     "output_type": "stream",
     "text": [
      "C:\\Users\\melan\\AppData\\Local\\Temp\\ipykernel_29428\\1923946446.py:25: FutureWarning: pandas.io.json.json_normalize is deprecated, use pandas.json_normalize instead.\n",
      "  books = json_normalize(results[\"results\"], record_path=[\"book_details\"], meta=[\"rank\", \"rank_last_week\", \"weeks_on_list\", \"asterisk\", \"dagger\"])\n"
     ]
    },
    {
     "name": "stdout",
     "output_type": "stream",
     "text": [
      "2013-08-12\n",
      "https://api.nytimes.com/svc/books/v3/lists.json?api-key=P1yDSg62Aydsdh04WBBuS57pYbpBu2tb&list=hardcover-fiction&published-date=2013-08-12\n"
     ]
    },
    {
     "name": "stderr",
     "output_type": "stream",
     "text": [
      "C:\\Users\\melan\\AppData\\Local\\Temp\\ipykernel_29428\\1923946446.py:25: FutureWarning: pandas.io.json.json_normalize is deprecated, use pandas.json_normalize instead.\n",
      "  books = json_normalize(results[\"results\"], record_path=[\"book_details\"], meta=[\"rank\", \"rank_last_week\", \"weeks_on_list\", \"asterisk\", \"dagger\"])\n"
     ]
    },
    {
     "name": "stdout",
     "output_type": "stream",
     "text": [
      "2013-08-05\n",
      "https://api.nytimes.com/svc/books/v3/lists.json?api-key=P1yDSg62Aydsdh04WBBuS57pYbpBu2tb&list=hardcover-fiction&published-date=2013-08-05\n"
     ]
    },
    {
     "name": "stderr",
     "output_type": "stream",
     "text": [
      "C:\\Users\\melan\\AppData\\Local\\Temp\\ipykernel_29428\\1923946446.py:25: FutureWarning: pandas.io.json.json_normalize is deprecated, use pandas.json_normalize instead.\n",
      "  books = json_normalize(results[\"results\"], record_path=[\"book_details\"], meta=[\"rank\", \"rank_last_week\", \"weeks_on_list\", \"asterisk\", \"dagger\"])\n"
     ]
    },
    {
     "name": "stdout",
     "output_type": "stream",
     "text": [
      "2013-07-29\n",
      "https://api.nytimes.com/svc/books/v3/lists.json?api-key=P1yDSg62Aydsdh04WBBuS57pYbpBu2tb&list=hardcover-fiction&published-date=2013-07-29\n"
     ]
    },
    {
     "name": "stderr",
     "output_type": "stream",
     "text": [
      "C:\\Users\\melan\\AppData\\Local\\Temp\\ipykernel_29428\\1923946446.py:25: FutureWarning: pandas.io.json.json_normalize is deprecated, use pandas.json_normalize instead.\n",
      "  books = json_normalize(results[\"results\"], record_path=[\"book_details\"], meta=[\"rank\", \"rank_last_week\", \"weeks_on_list\", \"asterisk\", \"dagger\"])\n"
     ]
    },
    {
     "name": "stdout",
     "output_type": "stream",
     "text": [
      "2013-07-22\n",
      "https://api.nytimes.com/svc/books/v3/lists.json?api-key=P1yDSg62Aydsdh04WBBuS57pYbpBu2tb&list=hardcover-fiction&published-date=2013-07-22\n"
     ]
    },
    {
     "name": "stderr",
     "output_type": "stream",
     "text": [
      "C:\\Users\\melan\\AppData\\Local\\Temp\\ipykernel_29428\\1923946446.py:25: FutureWarning: pandas.io.json.json_normalize is deprecated, use pandas.json_normalize instead.\n",
      "  books = json_normalize(results[\"results\"], record_path=[\"book_details\"], meta=[\"rank\", \"rank_last_week\", \"weeks_on_list\", \"asterisk\", \"dagger\"])\n"
     ]
    },
    {
     "name": "stdout",
     "output_type": "stream",
     "text": [
      "2013-07-15\n",
      "https://api.nytimes.com/svc/books/v3/lists.json?api-key=P1yDSg62Aydsdh04WBBuS57pYbpBu2tb&list=hardcover-fiction&published-date=2013-07-15\n"
     ]
    },
    {
     "name": "stderr",
     "output_type": "stream",
     "text": [
      "C:\\Users\\melan\\AppData\\Local\\Temp\\ipykernel_29428\\1923946446.py:25: FutureWarning: pandas.io.json.json_normalize is deprecated, use pandas.json_normalize instead.\n",
      "  books = json_normalize(results[\"results\"], record_path=[\"book_details\"], meta=[\"rank\", \"rank_last_week\", \"weeks_on_list\", \"asterisk\", \"dagger\"])\n"
     ]
    },
    {
     "name": "stdout",
     "output_type": "stream",
     "text": [
      "2013-07-08\n",
      "https://api.nytimes.com/svc/books/v3/lists.json?api-key=P1yDSg62Aydsdh04WBBuS57pYbpBu2tb&list=hardcover-fiction&published-date=2013-07-08\n"
     ]
    },
    {
     "name": "stderr",
     "output_type": "stream",
     "text": [
      "C:\\Users\\melan\\AppData\\Local\\Temp\\ipykernel_29428\\1923946446.py:25: FutureWarning: pandas.io.json.json_normalize is deprecated, use pandas.json_normalize instead.\n",
      "  books = json_normalize(results[\"results\"], record_path=[\"book_details\"], meta=[\"rank\", \"rank_last_week\", \"weeks_on_list\", \"asterisk\", \"dagger\"])\n"
     ]
    },
    {
     "name": "stdout",
     "output_type": "stream",
     "text": [
      "2013-07-01\n",
      "https://api.nytimes.com/svc/books/v3/lists.json?api-key=P1yDSg62Aydsdh04WBBuS57pYbpBu2tb&list=hardcover-fiction&published-date=2013-07-01\n"
     ]
    },
    {
     "name": "stderr",
     "output_type": "stream",
     "text": [
      "C:\\Users\\melan\\AppData\\Local\\Temp\\ipykernel_29428\\1923946446.py:25: FutureWarning: pandas.io.json.json_normalize is deprecated, use pandas.json_normalize instead.\n",
      "  books = json_normalize(results[\"results\"], record_path=[\"book_details\"], meta=[\"rank\", \"rank_last_week\", \"weeks_on_list\", \"asterisk\", \"dagger\"])\n"
     ]
    },
    {
     "name": "stdout",
     "output_type": "stream",
     "text": [
      "2013-06-24\n",
      "https://api.nytimes.com/svc/books/v3/lists.json?api-key=P1yDSg62Aydsdh04WBBuS57pYbpBu2tb&list=hardcover-fiction&published-date=2013-06-24\n"
     ]
    },
    {
     "name": "stderr",
     "output_type": "stream",
     "text": [
      "C:\\Users\\melan\\AppData\\Local\\Temp\\ipykernel_29428\\1923946446.py:25: FutureWarning: pandas.io.json.json_normalize is deprecated, use pandas.json_normalize instead.\n",
      "  books = json_normalize(results[\"results\"], record_path=[\"book_details\"], meta=[\"rank\", \"rank_last_week\", \"weeks_on_list\", \"asterisk\", \"dagger\"])\n"
     ]
    },
    {
     "name": "stdout",
     "output_type": "stream",
     "text": [
      "2013-06-17\n",
      "https://api.nytimes.com/svc/books/v3/lists.json?api-key=P1yDSg62Aydsdh04WBBuS57pYbpBu2tb&list=hardcover-fiction&published-date=2013-06-17\n"
     ]
    },
    {
     "name": "stderr",
     "output_type": "stream",
     "text": [
      "C:\\Users\\melan\\AppData\\Local\\Temp\\ipykernel_29428\\1923946446.py:25: FutureWarning: pandas.io.json.json_normalize is deprecated, use pandas.json_normalize instead.\n",
      "  books = json_normalize(results[\"results\"], record_path=[\"book_details\"], meta=[\"rank\", \"rank_last_week\", \"weeks_on_list\", \"asterisk\", \"dagger\"])\n"
     ]
    },
    {
     "name": "stdout",
     "output_type": "stream",
     "text": [
      "2013-06-10\n",
      "https://api.nytimes.com/svc/books/v3/lists.json?api-key=P1yDSg62Aydsdh04WBBuS57pYbpBu2tb&list=hardcover-fiction&published-date=2013-06-10\n"
     ]
    },
    {
     "name": "stderr",
     "output_type": "stream",
     "text": [
      "C:\\Users\\melan\\AppData\\Local\\Temp\\ipykernel_29428\\1923946446.py:25: FutureWarning: pandas.io.json.json_normalize is deprecated, use pandas.json_normalize instead.\n",
      "  books = json_normalize(results[\"results\"], record_path=[\"book_details\"], meta=[\"rank\", \"rank_last_week\", \"weeks_on_list\", \"asterisk\", \"dagger\"])\n"
     ]
    },
    {
     "name": "stdout",
     "output_type": "stream",
     "text": [
      "2013-06-03\n",
      "https://api.nytimes.com/svc/books/v3/lists.json?api-key=P1yDSg62Aydsdh04WBBuS57pYbpBu2tb&list=hardcover-fiction&published-date=2013-06-03\n"
     ]
    },
    {
     "name": "stderr",
     "output_type": "stream",
     "text": [
      "C:\\Users\\melan\\AppData\\Local\\Temp\\ipykernel_29428\\1923946446.py:25: FutureWarning: pandas.io.json.json_normalize is deprecated, use pandas.json_normalize instead.\n",
      "  books = json_normalize(results[\"results\"], record_path=[\"book_details\"], meta=[\"rank\", \"rank_last_week\", \"weeks_on_list\", \"asterisk\", \"dagger\"])\n"
     ]
    }
   ],
   "source": [
    "BOOKS_ROOT = \"https://api.nytimes.com/svc/books/v3/lists.json\"\n",
    "LIST = \"hardcover-fiction\"\n",
    "API_KEY = \"keys.json\"\n",
    "\n",
    "bestsellers = []\n",
    "weeks = []\n",
    "num_calls_to_make = 1\n",
    "weeks_per_call = 260  # Number of weeks to fetch per API call\n",
    "\n",
    "for call_num in range(num_calls_to_make):\n",
    "    ctr = call_num * weeks_per_call\n",
    "    start_date = datetime.date(2018, 5, 21) - datetime.timedelta(weeks=ctr)\n",
    "    end_date = start_date - datetime.timedelta(weeks=weeks_per_call)\n",
    "    \n",
    "    for i in range(weeks_per_call):\n",
    "        curr_date = start_date - datetime.timedelta(weeks=i)\n",
    "        print(curr_date)\n",
    "        url = \"%s?api-key=%s&list=%s&published-date=%s\" % (BOOKS_ROOT, API_KEY, LIST, curr_date)\n",
    "        url = url.strip()\n",
    "        print(url)\n",
    "        r = requests.get(url)\n",
    "        \n",
    "        if r.status_code == 200:\n",
    "            results = r.json()\n",
    "            books = json_normalize(results[\"results\"], record_path=[\"book_details\"], meta=[\"rank\", \"rank_last_week\", \"weeks_on_list\", \"asterisk\", \"dagger\"])\n",
    "            bestsellers.append(books)\n",
    "            weeks.append(str(curr_date))\n",
    "        else:\n",
    "            print(\"API call did not work!\")\n",
    "            print(r)\n",
    "        \n",
    "        time.sleep(15)\n"
   ]
  },
  {
   "cell_type": "code",
   "execution_count": 76,
   "metadata": {},
   "outputs": [],
   "source": [
    "hardcover2 = pd.concat(bestsellers)"
   ]
  },
  {
   "cell_type": "code",
   "execution_count": 77,
   "metadata": {},
   "outputs": [
    {
     "data": {
      "text/html": [
       "<div>\n",
       "<style scoped>\n",
       "    .dataframe tbody tr th:only-of-type {\n",
       "        vertical-align: middle;\n",
       "    }\n",
       "\n",
       "    .dataframe tbody tr th {\n",
       "        vertical-align: top;\n",
       "    }\n",
       "\n",
       "    .dataframe thead th {\n",
       "        text-align: right;\n",
       "    }\n",
       "</style>\n",
       "<table border=\"1\" class=\"dataframe\">\n",
       "  <thead>\n",
       "    <tr style=\"text-align: right;\">\n",
       "      <th></th>\n",
       "      <th>title</th>\n",
       "      <th>description</th>\n",
       "      <th>contributor</th>\n",
       "      <th>author</th>\n",
       "      <th>contributor_note</th>\n",
       "      <th>price</th>\n",
       "      <th>age_group</th>\n",
       "      <th>publisher</th>\n",
       "      <th>primary_isbn13</th>\n",
       "      <th>primary_isbn10</th>\n",
       "      <th>rank</th>\n",
       "      <th>rank_last_week</th>\n",
       "      <th>weeks_on_list</th>\n",
       "      <th>asterisk</th>\n",
       "      <th>dagger</th>\n",
       "    </tr>\n",
       "  </thead>\n",
       "  <tbody>\n",
       "    <tr>\n",
       "      <th>0</th>\n",
       "      <td>THE 17TH SUSPECT</td>\n",
       "      <td>The latest installment in the Women’s Murder C...</td>\n",
       "      <td>by James Patterson and Maxine Paetro</td>\n",
       "      <td>James Patterson and Maxine Paetro</td>\n",
       "      <td></td>\n",
       "      <td>0.00</td>\n",
       "      <td></td>\n",
       "      <td>Little, Brown</td>\n",
       "      <td>9780316274043</td>\n",
       "      <td>0316274046</td>\n",
       "      <td>1</td>\n",
       "      <td>1</td>\n",
       "      <td>2</td>\n",
       "      <td>0</td>\n",
       "      <td>0</td>\n",
       "    </tr>\n",
       "    <tr>\n",
       "      <th>1</th>\n",
       "      <td>THE FALLEN</td>\n",
       "      <td>Amos Decker, known as the Memory Man, puts his...</td>\n",
       "      <td>by David Baldacci</td>\n",
       "      <td>David Baldacci</td>\n",
       "      <td></td>\n",
       "      <td>0.00</td>\n",
       "      <td></td>\n",
       "      <td>Grand Central</td>\n",
       "      <td>9781538761397</td>\n",
       "      <td>1538761394</td>\n",
       "      <td>2</td>\n",
       "      <td>2</td>\n",
       "      <td>4</td>\n",
       "      <td>0</td>\n",
       "      <td>0</td>\n",
       "    </tr>\n",
       "    <tr>\n",
       "      <th>2</th>\n",
       "      <td>THE HIGH TIDE CLUB</td>\n",
       "      <td>An eccentric millionaire enlists the attorney ...</td>\n",
       "      <td>by Mary Kay Andrews</td>\n",
       "      <td>Mary Kay Andrews</td>\n",
       "      <td></td>\n",
       "      <td>0.00</td>\n",
       "      <td></td>\n",
       "      <td>St. Martin's</td>\n",
       "      <td>9781250126061</td>\n",
       "      <td>1250126061</td>\n",
       "      <td>3</td>\n",
       "      <td>0</td>\n",
       "      <td>1</td>\n",
       "      <td>0</td>\n",
       "      <td>0</td>\n",
       "    </tr>\n",
       "    <tr>\n",
       "      <th>3</th>\n",
       "      <td>TWISTED PREY</td>\n",
       "      <td>The 28th book in the Prey series. A federal ma...</td>\n",
       "      <td>by John Sandford</td>\n",
       "      <td>John Sandford</td>\n",
       "      <td></td>\n",
       "      <td>0.00</td>\n",
       "      <td></td>\n",
       "      <td>Putnam</td>\n",
       "      <td>9780735217355</td>\n",
       "      <td>0735217351</td>\n",
       "      <td>4</td>\n",
       "      <td>3</td>\n",
       "      <td>3</td>\n",
       "      <td>0</td>\n",
       "      <td>0</td>\n",
       "    </tr>\n",
       "    <tr>\n",
       "      <th>4</th>\n",
       "      <td>THE CROOKED STAIRCASE</td>\n",
       "      <td>The rogue F.B.I. agent Jane Hawk is on the lam...</td>\n",
       "      <td>by Dean Koontz</td>\n",
       "      <td>Dean Koontz</td>\n",
       "      <td></td>\n",
       "      <td>0.00</td>\n",
       "      <td></td>\n",
       "      <td>Bantam</td>\n",
       "      <td>9780525483427</td>\n",
       "      <td>052548342X</td>\n",
       "      <td>5</td>\n",
       "      <td>0</td>\n",
       "      <td>1</td>\n",
       "      <td>0</td>\n",
       "      <td>0</td>\n",
       "    </tr>\n",
       "  </tbody>\n",
       "</table>\n",
       "</div>"
      ],
      "text/plain": [
       "                   title                                        description  \\\n",
       "0       THE 17TH SUSPECT  The latest installment in the Women’s Murder C...   \n",
       "1             THE FALLEN  Amos Decker, known as the Memory Man, puts his...   \n",
       "2     THE HIGH TIDE CLUB  An eccentric millionaire enlists the attorney ...   \n",
       "3           TWISTED PREY  The 28th book in the Prey series. A federal ma...   \n",
       "4  THE CROOKED STAIRCASE  The rogue F.B.I. agent Jane Hawk is on the lam...   \n",
       "\n",
       "                            contributor                             author  \\\n",
       "0  by James Patterson and Maxine Paetro  James Patterson and Maxine Paetro   \n",
       "1                     by David Baldacci                     David Baldacci   \n",
       "2                   by Mary Kay Andrews                   Mary Kay Andrews   \n",
       "3                      by John Sandford                      John Sandford   \n",
       "4                        by Dean Koontz                        Dean Koontz   \n",
       "\n",
       "  contributor_note price age_group      publisher primary_isbn13  \\\n",
       "0                   0.00            Little, Brown  9780316274043   \n",
       "1                   0.00            Grand Central  9781538761397   \n",
       "2                   0.00             St. Martin's  9781250126061   \n",
       "3                   0.00                   Putnam  9780735217355   \n",
       "4                   0.00                   Bantam  9780525483427   \n",
       "\n",
       "  primary_isbn10 rank rank_last_week weeks_on_list asterisk dagger  \n",
       "0     0316274046    1              1             2        0      0  \n",
       "1     1538761394    2              2             4        0      0  \n",
       "2     1250126061    3              0             1        0      0  \n",
       "3     0735217351    4              3             3        0      0  \n",
       "4     052548342X    5              0             1        0      0  "
      ]
     },
     "execution_count": 77,
     "metadata": {},
     "output_type": "execute_result"
    }
   ],
   "source": [
    "hardcover2.head()"
   ]
  },
  {
   "cell_type": "code",
   "execution_count": 78,
   "metadata": {},
   "outputs": [
    {
     "data": {
      "text/plain": [
       "4855"
      ]
     },
     "execution_count": 78,
     "metadata": {},
     "output_type": "execute_result"
    }
   ],
   "source": [
    "len(hardcover2)"
   ]
  },
  {
   "cell_type": "code",
   "execution_count": 79,
   "metadata": {},
   "outputs": [
    {
     "data": {
      "text/plain": [
       "260"
      ]
     },
     "execution_count": 79,
     "metadata": {},
     "output_type": "execute_result"
    }
   ],
   "source": [
    "len(weeks)"
   ]
  },
  {
   "cell_type": "code",
   "execution_count": 80,
   "metadata": {},
   "outputs": [],
   "source": [
    "#repeat weeks 16 times to add to df\n",
    "#https://www.pythonforbeginners.com/lists/repeat-each-element-in-a-list-in-python\n",
    "k = 15\n",
    "repeated_weeks = []\n",
    "for element in weeks:\n",
    "    for i in range(k):\n",
    "       repeated_weeks.append(element)"
   ]
  },
  {
   "cell_type": "code",
   "execution_count": 81,
   "metadata": {},
   "outputs": [
    {
     "data": {
      "text/plain": [
       "3900"
      ]
     },
     "execution_count": 81,
     "metadata": {},
     "output_type": "execute_result"
    }
   ],
   "source": [
    "len(repeated_weeks)"
   ]
  },
  {
   "cell_type": "code",
   "execution_count": 83,
   "metadata": {},
   "outputs": [],
   "source": [
    "#after looking at head and tail, it looks like they switched from top 20 to top 15 at some point\n",
    "#for normalization, let's narrow it down to top 15 across all weeks\n",
    "#https://www.geeksforgeeks.org/python-pandas-dataframe-isin/\n",
    "hardcover2['rank'] = hardcover2['rank'].astype(str)\n",
    "filter_15 = hardcover2['rank'].isin(['1', '2', '3', '4', '5', '6', '7', '8', '9', '10', '11', '12', '13', '14', '15'])"
   ]
  },
  {
   "cell_type": "code",
   "execution_count": 84,
   "metadata": {},
   "outputs": [],
   "source": [
    "hardcover2 = hardcover2[filter_15]"
   ]
  },
  {
   "cell_type": "code",
   "execution_count": 85,
   "metadata": {},
   "outputs": [
    {
     "data": {
      "text/html": [
       "<div>\n",
       "<style scoped>\n",
       "    .dataframe tbody tr th:only-of-type {\n",
       "        vertical-align: middle;\n",
       "    }\n",
       "\n",
       "    .dataframe tbody tr th {\n",
       "        vertical-align: top;\n",
       "    }\n",
       "\n",
       "    .dataframe thead th {\n",
       "        text-align: right;\n",
       "    }\n",
       "</style>\n",
       "<table border=\"1\" class=\"dataframe\">\n",
       "  <thead>\n",
       "    <tr style=\"text-align: right;\">\n",
       "      <th></th>\n",
       "      <th>title</th>\n",
       "      <th>description</th>\n",
       "      <th>contributor</th>\n",
       "      <th>author</th>\n",
       "      <th>contributor_note</th>\n",
       "      <th>price</th>\n",
       "      <th>age_group</th>\n",
       "      <th>publisher</th>\n",
       "      <th>primary_isbn13</th>\n",
       "      <th>primary_isbn10</th>\n",
       "      <th>rank</th>\n",
       "      <th>rank_last_week</th>\n",
       "      <th>weeks_on_list</th>\n",
       "      <th>asterisk</th>\n",
       "      <th>dagger</th>\n",
       "    </tr>\n",
       "  </thead>\n",
       "  <tbody>\n",
       "    <tr>\n",
       "      <th>0</th>\n",
       "      <td>THE 17TH SUSPECT</td>\n",
       "      <td>The latest installment in the Women’s Murder C...</td>\n",
       "      <td>by James Patterson and Maxine Paetro</td>\n",
       "      <td>James Patterson and Maxine Paetro</td>\n",
       "      <td></td>\n",
       "      <td>0.00</td>\n",
       "      <td></td>\n",
       "      <td>Little, Brown</td>\n",
       "      <td>9780316274043</td>\n",
       "      <td>0316274046</td>\n",
       "      <td>1</td>\n",
       "      <td>1</td>\n",
       "      <td>2</td>\n",
       "      <td>0</td>\n",
       "      <td>0</td>\n",
       "    </tr>\n",
       "    <tr>\n",
       "      <th>1</th>\n",
       "      <td>THE FALLEN</td>\n",
       "      <td>Amos Decker, known as the Memory Man, puts his...</td>\n",
       "      <td>by David Baldacci</td>\n",
       "      <td>David Baldacci</td>\n",
       "      <td></td>\n",
       "      <td>0.00</td>\n",
       "      <td></td>\n",
       "      <td>Grand Central</td>\n",
       "      <td>9781538761397</td>\n",
       "      <td>1538761394</td>\n",
       "      <td>2</td>\n",
       "      <td>2</td>\n",
       "      <td>4</td>\n",
       "      <td>0</td>\n",
       "      <td>0</td>\n",
       "    </tr>\n",
       "    <tr>\n",
       "      <th>2</th>\n",
       "      <td>THE HIGH TIDE CLUB</td>\n",
       "      <td>An eccentric millionaire enlists the attorney ...</td>\n",
       "      <td>by Mary Kay Andrews</td>\n",
       "      <td>Mary Kay Andrews</td>\n",
       "      <td></td>\n",
       "      <td>0.00</td>\n",
       "      <td></td>\n",
       "      <td>St. Martin's</td>\n",
       "      <td>9781250126061</td>\n",
       "      <td>1250126061</td>\n",
       "      <td>3</td>\n",
       "      <td>0</td>\n",
       "      <td>1</td>\n",
       "      <td>0</td>\n",
       "      <td>0</td>\n",
       "    </tr>\n",
       "    <tr>\n",
       "      <th>3</th>\n",
       "      <td>TWISTED PREY</td>\n",
       "      <td>The 28th book in the Prey series. A federal ma...</td>\n",
       "      <td>by John Sandford</td>\n",
       "      <td>John Sandford</td>\n",
       "      <td></td>\n",
       "      <td>0.00</td>\n",
       "      <td></td>\n",
       "      <td>Putnam</td>\n",
       "      <td>9780735217355</td>\n",
       "      <td>0735217351</td>\n",
       "      <td>4</td>\n",
       "      <td>3</td>\n",
       "      <td>3</td>\n",
       "      <td>0</td>\n",
       "      <td>0</td>\n",
       "    </tr>\n",
       "    <tr>\n",
       "      <th>4</th>\n",
       "      <td>THE CROOKED STAIRCASE</td>\n",
       "      <td>The rogue F.B.I. agent Jane Hawk is on the lam...</td>\n",
       "      <td>by Dean Koontz</td>\n",
       "      <td>Dean Koontz</td>\n",
       "      <td></td>\n",
       "      <td>0.00</td>\n",
       "      <td></td>\n",
       "      <td>Bantam</td>\n",
       "      <td>9780525483427</td>\n",
       "      <td>052548342X</td>\n",
       "      <td>5</td>\n",
       "      <td>0</td>\n",
       "      <td>1</td>\n",
       "      <td>0</td>\n",
       "      <td>0</td>\n",
       "    </tr>\n",
       "  </tbody>\n",
       "</table>\n",
       "</div>"
      ],
      "text/plain": [
       "                   title                                        description  \\\n",
       "0       THE 17TH SUSPECT  The latest installment in the Women’s Murder C...   \n",
       "1             THE FALLEN  Amos Decker, known as the Memory Man, puts his...   \n",
       "2     THE HIGH TIDE CLUB  An eccentric millionaire enlists the attorney ...   \n",
       "3           TWISTED PREY  The 28th book in the Prey series. A federal ma...   \n",
       "4  THE CROOKED STAIRCASE  The rogue F.B.I. agent Jane Hawk is on the lam...   \n",
       "\n",
       "                            contributor                             author  \\\n",
       "0  by James Patterson and Maxine Paetro  James Patterson and Maxine Paetro   \n",
       "1                     by David Baldacci                     David Baldacci   \n",
       "2                   by Mary Kay Andrews                   Mary Kay Andrews   \n",
       "3                      by John Sandford                      John Sandford   \n",
       "4                        by Dean Koontz                        Dean Koontz   \n",
       "\n",
       "  contributor_note price age_group      publisher primary_isbn13  \\\n",
       "0                   0.00            Little, Brown  9780316274043   \n",
       "1                   0.00            Grand Central  9781538761397   \n",
       "2                   0.00             St. Martin's  9781250126061   \n",
       "3                   0.00                   Putnam  9780735217355   \n",
       "4                   0.00                   Bantam  9780525483427   \n",
       "\n",
       "  primary_isbn10 rank rank_last_week weeks_on_list asterisk dagger  \n",
       "0     0316274046    1              1             2        0      0  \n",
       "1     1538761394    2              2             4        0      0  \n",
       "2     1250126061    3              0             1        0      0  \n",
       "3     0735217351    4              3             3        0      0  \n",
       "4     052548342X    5              0             1        0      0  "
      ]
     },
     "execution_count": 85,
     "metadata": {},
     "output_type": "execute_result"
    }
   ],
   "source": [
    "hardcover2.head()"
   ]
  },
  {
   "cell_type": "code",
   "execution_count": 86,
   "metadata": {},
   "outputs": [
    {
     "data": {
      "text/plain": [
       "3900"
      ]
     },
     "execution_count": 86,
     "metadata": {},
     "output_type": "execute_result"
    }
   ],
   "source": [
    "len(hardcover2)"
   ]
  },
  {
   "cell_type": "code",
   "execution_count": 87,
   "metadata": {},
   "outputs": [
    {
     "data": {
      "text/html": [
       "<div>\n",
       "<style scoped>\n",
       "    .dataframe tbody tr th:only-of-type {\n",
       "        vertical-align: middle;\n",
       "    }\n",
       "\n",
       "    .dataframe tbody tr th {\n",
       "        vertical-align: top;\n",
       "    }\n",
       "\n",
       "    .dataframe thead th {\n",
       "        text-align: right;\n",
       "    }\n",
       "</style>\n",
       "<table border=\"1\" class=\"dataframe\">\n",
       "  <thead>\n",
       "    <tr style=\"text-align: right;\">\n",
       "      <th></th>\n",
       "      <th>title</th>\n",
       "      <th>description</th>\n",
       "      <th>contributor</th>\n",
       "      <th>author</th>\n",
       "      <th>contributor_note</th>\n",
       "      <th>price</th>\n",
       "      <th>age_group</th>\n",
       "      <th>publisher</th>\n",
       "      <th>primary_isbn13</th>\n",
       "      <th>primary_isbn10</th>\n",
       "      <th>rank</th>\n",
       "      <th>rank_last_week</th>\n",
       "      <th>weeks_on_list</th>\n",
       "      <th>asterisk</th>\n",
       "      <th>dagger</th>\n",
       "      <th>week</th>\n",
       "    </tr>\n",
       "  </thead>\n",
       "  <tbody>\n",
       "    <tr>\n",
       "      <th>5</th>\n",
       "      <td>ZERO HOUR</td>\n",
       "      <td>Kurt Austin, Joe Zavala and the rest of the Nu...</td>\n",
       "      <td>by Clive Cussler and Graham Brown</td>\n",
       "      <td>Clive Cussler and Graham Brown</td>\n",
       "      <td></td>\n",
       "      <td>0.00</td>\n",
       "      <td></td>\n",
       "      <td>Putnam</td>\n",
       "      <td>9780399162503</td>\n",
       "      <td>039916250X</td>\n",
       "      <td>6</td>\n",
       "      <td>4</td>\n",
       "      <td>2</td>\n",
       "      <td>0</td>\n",
       "      <td>0</td>\n",
       "      <td>2013-06-17</td>\n",
       "    </tr>\n",
       "    <tr>\n",
       "      <th>6</th>\n",
       "      <td>DEEPLY ODD</td>\n",
       "      <td>Odd Thomas, who can communicate with the dead,...</td>\n",
       "      <td>by Dean Koontz</td>\n",
       "      <td>Dean Koontz</td>\n",
       "      <td></td>\n",
       "      <td>0.00</td>\n",
       "      <td></td>\n",
       "      <td>Bantam</td>\n",
       "      <td>9780553807738</td>\n",
       "      <td>0553807730</td>\n",
       "      <td>7</td>\n",
       "      <td>3</td>\n",
       "      <td>2</td>\n",
       "      <td>0</td>\n",
       "      <td>0</td>\n",
       "      <td>2013-06-17</td>\n",
       "    </tr>\n",
       "    <tr>\n",
       "      <th>7</th>\n",
       "      <td>THE HIT</td>\n",
       "      <td>The government hitman Will Robie uncovers a se...</td>\n",
       "      <td>by David Baldacci</td>\n",
       "      <td>David Baldacci</td>\n",
       "      <td></td>\n",
       "      <td>0.00</td>\n",
       "      <td></td>\n",
       "      <td>Grand Central</td>\n",
       "      <td>9781455521210</td>\n",
       "      <td>1455521213</td>\n",
       "      <td>8</td>\n",
       "      <td>5</td>\n",
       "      <td>7</td>\n",
       "      <td>1</td>\n",
       "      <td>0</td>\n",
       "      <td>2013-06-17</td>\n",
       "    </tr>\n",
       "    <tr>\n",
       "      <th>8</th>\n",
       "      <td>SILKEN PREY</td>\n",
       "      <td>Lucas Davenport is drawn into the investigatio...</td>\n",
       "      <td>by John Sandford</td>\n",
       "      <td>John Sandford</td>\n",
       "      <td></td>\n",
       "      <td>0.00</td>\n",
       "      <td></td>\n",
       "      <td>Putnam</td>\n",
       "      <td>9780399159312</td>\n",
       "      <td>0399159312</td>\n",
       "      <td>9</td>\n",
       "      <td>7</td>\n",
       "      <td>5</td>\n",
       "      <td>0</td>\n",
       "      <td>0</td>\n",
       "      <td>2013-06-17</td>\n",
       "    </tr>\n",
       "    <tr>\n",
       "      <th>9</th>\n",
       "      <td>GONE GIRL</td>\n",
       "      <td>A woman disappears on her fifth anniversary; i...</td>\n",
       "      <td>by Gillian Flynn</td>\n",
       "      <td>Gillian Flynn</td>\n",
       "      <td></td>\n",
       "      <td>0.00</td>\n",
       "      <td></td>\n",
       "      <td>Crown</td>\n",
       "      <td>9780307588364</td>\n",
       "      <td>030758836X</td>\n",
       "      <td>10</td>\n",
       "      <td>9</td>\n",
       "      <td>53</td>\n",
       "      <td>1</td>\n",
       "      <td>0</td>\n",
       "      <td>2013-06-17</td>\n",
       "    </tr>\n",
       "    <tr>\n",
       "      <th>10</th>\n",
       "      <td>A DANCE WITH DRAGONS</td>\n",
       "      <td>Book 5 of \"A Song of Ice and Fire.\"</td>\n",
       "      <td>by George R. R. Martin</td>\n",
       "      <td>George R R Martin</td>\n",
       "      <td></td>\n",
       "      <td>0.00</td>\n",
       "      <td></td>\n",
       "      <td>Bantam</td>\n",
       "      <td>9780553801477</td>\n",
       "      <td>0553801473</td>\n",
       "      <td>11</td>\n",
       "      <td>12</td>\n",
       "      <td>75</td>\n",
       "      <td>0</td>\n",
       "      <td>0</td>\n",
       "      <td>2013-06-17</td>\n",
       "    </tr>\n",
       "    <tr>\n",
       "      <th>11</th>\n",
       "      <td>THE SON</td>\n",
       "      <td>More than 150 years in a Texas family, from Co...</td>\n",
       "      <td>by Philipp Meyer</td>\n",
       "      <td>Philipp Meyer</td>\n",
       "      <td></td>\n",
       "      <td>0.00</td>\n",
       "      <td></td>\n",
       "      <td>Ecco/HarperCollins</td>\n",
       "      <td>9780062120397</td>\n",
       "      <td>0062120395</td>\n",
       "      <td>12</td>\n",
       "      <td>10</td>\n",
       "      <td>2</td>\n",
       "      <td>0</td>\n",
       "      <td>0</td>\n",
       "      <td>2013-06-17</td>\n",
       "    </tr>\n",
       "    <tr>\n",
       "      <th>12</th>\n",
       "      <td>TRANSATLANTIC</td>\n",
       "      <td>The lives of real and fictional characters (Fr...</td>\n",
       "      <td>by Colum McCann</td>\n",
       "      <td>Colum McCann</td>\n",
       "      <td></td>\n",
       "      <td>0.00</td>\n",
       "      <td></td>\n",
       "      <td>Random House</td>\n",
       "      <td>9781400069590</td>\n",
       "      <td>1400069599</td>\n",
       "      <td>13</td>\n",
       "      <td>0</td>\n",
       "      <td>1</td>\n",
       "      <td>0</td>\n",
       "      <td>0</td>\n",
       "      <td>2013-06-17</td>\n",
       "    </tr>\n",
       "    <tr>\n",
       "      <th>13</th>\n",
       "      <td>12TH OF NEVER</td>\n",
       "      <td>One week after the birth of her baby, Detectiv...</td>\n",
       "      <td>by James Patterson and Maxine Paetro</td>\n",
       "      <td>James Patterson and Maxine Paetro</td>\n",
       "      <td></td>\n",
       "      <td>0.00</td>\n",
       "      <td></td>\n",
       "      <td>Little, Brown</td>\n",
       "      <td>9780316210829</td>\n",
       "      <td>031621082X</td>\n",
       "      <td>14</td>\n",
       "      <td>8</td>\n",
       "      <td>6</td>\n",
       "      <td>1</td>\n",
       "      <td>0</td>\n",
       "      <td>2013-06-17</td>\n",
       "    </tr>\n",
       "    <tr>\n",
       "      <th>14</th>\n",
       "      <td>DEAD EVER AFTER</td>\n",
       "      <td>The last book in the series about Sookie Stack...</td>\n",
       "      <td>by Charlaine Harris</td>\n",
       "      <td>Charlaine Harris</td>\n",
       "      <td></td>\n",
       "      <td>0.00</td>\n",
       "      <td></td>\n",
       "      <td>Ace</td>\n",
       "      <td>9781937007881</td>\n",
       "      <td>193700788X</td>\n",
       "      <td>15</td>\n",
       "      <td>6</td>\n",
       "      <td>5</td>\n",
       "      <td>0</td>\n",
       "      <td>0</td>\n",
       "      <td>2013-06-17</td>\n",
       "    </tr>\n",
       "    <tr>\n",
       "      <th>0</th>\n",
       "      <td>INFERNO</td>\n",
       "      <td>The symbologist Robert Langdon, on the run in ...</td>\n",
       "      <td>by Dan Brown</td>\n",
       "      <td>Dan Brown</td>\n",
       "      <td></td>\n",
       "      <td>0.00</td>\n",
       "      <td></td>\n",
       "      <td>Doubleday</td>\n",
       "      <td>9780385537858</td>\n",
       "      <td>0385537859</td>\n",
       "      <td>1</td>\n",
       "      <td>1</td>\n",
       "      <td>3</td>\n",
       "      <td>0</td>\n",
       "      <td>0</td>\n",
       "      <td>2013-06-10</td>\n",
       "    </tr>\n",
       "    <tr>\n",
       "      <th>1</th>\n",
       "      <td>AND THE MOUNTAINS ECHOED</td>\n",
       "      <td>A multigenerational family saga centers on a b...</td>\n",
       "      <td>by Khaled Hosseini</td>\n",
       "      <td>Khaled Hosseini</td>\n",
       "      <td></td>\n",
       "      <td>0.00</td>\n",
       "      <td></td>\n",
       "      <td>Riverhead</td>\n",
       "      <td>9781594631764</td>\n",
       "      <td>159463176X</td>\n",
       "      <td>2</td>\n",
       "      <td>2</td>\n",
       "      <td>2</td>\n",
       "      <td>0</td>\n",
       "      <td>0</td>\n",
       "      <td>2013-06-10</td>\n",
       "    </tr>\n",
       "    <tr>\n",
       "      <th>2</th>\n",
       "      <td>DEEPLY ODD</td>\n",
       "      <td>Odd Thomas, who can communicate with the dead,...</td>\n",
       "      <td>by Dean Koontz</td>\n",
       "      <td>Dean Koontz</td>\n",
       "      <td></td>\n",
       "      <td>0.00</td>\n",
       "      <td></td>\n",
       "      <td>Bantam</td>\n",
       "      <td>9780553807738</td>\n",
       "      <td>0553807730</td>\n",
       "      <td>3</td>\n",
       "      <td>0</td>\n",
       "      <td>1</td>\n",
       "      <td>0</td>\n",
       "      <td>0</td>\n",
       "      <td>2013-06-10</td>\n",
       "    </tr>\n",
       "    <tr>\n",
       "      <th>3</th>\n",
       "      <td>ZERO HOUR</td>\n",
       "      <td>Kurt Austin, Joe Zavala and the rest of the Nu...</td>\n",
       "      <td>by Clive Cussler and Graham Brown</td>\n",
       "      <td>Clive Cussler and Graham Brown</td>\n",
       "      <td></td>\n",
       "      <td>0.00</td>\n",
       "      <td></td>\n",
       "      <td>Putnam</td>\n",
       "      <td>9780399162503</td>\n",
       "      <td>039916250X</td>\n",
       "      <td>4</td>\n",
       "      <td>0</td>\n",
       "      <td>1</td>\n",
       "      <td>0</td>\n",
       "      <td>0</td>\n",
       "      <td>2013-06-10</td>\n",
       "    </tr>\n",
       "    <tr>\n",
       "      <th>4</th>\n",
       "      <td>THE HIT</td>\n",
       "      <td>The government hitman Will Robie uncovers a se...</td>\n",
       "      <td>by David Baldacci</td>\n",
       "      <td>David Baldacci</td>\n",
       "      <td></td>\n",
       "      <td>0.00</td>\n",
       "      <td></td>\n",
       "      <td>Grand Central</td>\n",
       "      <td>9781455521210</td>\n",
       "      <td>1455521213</td>\n",
       "      <td>5</td>\n",
       "      <td>5</td>\n",
       "      <td>6</td>\n",
       "      <td>0</td>\n",
       "      <td>0</td>\n",
       "      <td>2013-06-10</td>\n",
       "    </tr>\n",
       "    <tr>\n",
       "      <th>5</th>\n",
       "      <td>DEAD EVER AFTER</td>\n",
       "      <td>The last book in the series about the telepath...</td>\n",
       "      <td>by Charlaine Harris</td>\n",
       "      <td>Charlaine Harris</td>\n",
       "      <td></td>\n",
       "      <td>0.00</td>\n",
       "      <td></td>\n",
       "      <td>Ace</td>\n",
       "      <td>9781937007881</td>\n",
       "      <td>193700788X</td>\n",
       "      <td>6</td>\n",
       "      <td>3</td>\n",
       "      <td>4</td>\n",
       "      <td>1</td>\n",
       "      <td>0</td>\n",
       "      <td>2013-06-10</td>\n",
       "    </tr>\n",
       "    <tr>\n",
       "      <th>6</th>\n",
       "      <td>SILKEN PREY</td>\n",
       "      <td>Lucas Davenport is drawn into the investigatio...</td>\n",
       "      <td>by John Sandford</td>\n",
       "      <td>John Sandford</td>\n",
       "      <td></td>\n",
       "      <td>0.00</td>\n",
       "      <td></td>\n",
       "      <td>Putnam</td>\n",
       "      <td>9780399159312</td>\n",
       "      <td>0399159312</td>\n",
       "      <td>7</td>\n",
       "      <td>6</td>\n",
       "      <td>4</td>\n",
       "      <td>0</td>\n",
       "      <td>0</td>\n",
       "      <td>2013-06-10</td>\n",
       "    </tr>\n",
       "    <tr>\n",
       "      <th>7</th>\n",
       "      <td>12TH OF NEVER</td>\n",
       "      <td>One week after the birth of her baby, Detectiv...</td>\n",
       "      <td>by James Patterson and Maxine Paetro</td>\n",
       "      <td>James Patterson and Maxine Paetro</td>\n",
       "      <td></td>\n",
       "      <td>0.00</td>\n",
       "      <td></td>\n",
       "      <td>Little, Brown</td>\n",
       "      <td>9780316210829</td>\n",
       "      <td>031621082X</td>\n",
       "      <td>8</td>\n",
       "      <td>4</td>\n",
       "      <td>5</td>\n",
       "      <td>0</td>\n",
       "      <td>0</td>\n",
       "      <td>2013-06-10</td>\n",
       "    </tr>\n",
       "    <tr>\n",
       "      <th>8</th>\n",
       "      <td>GONE GIRL</td>\n",
       "      <td>A woman disappears on her fifth anniversary; i...</td>\n",
       "      <td>by Gillian Flynn</td>\n",
       "      <td>Gillian Flynn</td>\n",
       "      <td></td>\n",
       "      <td>0.00</td>\n",
       "      <td></td>\n",
       "      <td>Crown</td>\n",
       "      <td>9780307588364</td>\n",
       "      <td>030758836X</td>\n",
       "      <td>9</td>\n",
       "      <td>8</td>\n",
       "      <td>52</td>\n",
       "      <td>0</td>\n",
       "      <td>0</td>\n",
       "      <td>2013-06-10</td>\n",
       "    </tr>\n",
       "    <tr>\n",
       "      <th>9</th>\n",
       "      <td>THE SON</td>\n",
       "      <td>More than 150 years in a Texas family, from Co...</td>\n",
       "      <td>by Philipp Meyer</td>\n",
       "      <td>Philipp Meyer</td>\n",
       "      <td></td>\n",
       "      <td>0.00</td>\n",
       "      <td></td>\n",
       "      <td>Ecco/HarperCollins</td>\n",
       "      <td>9780062120397</td>\n",
       "      <td>0062120395</td>\n",
       "      <td>10</td>\n",
       "      <td>0</td>\n",
       "      <td>1</td>\n",
       "      <td>1</td>\n",
       "      <td>0</td>\n",
       "      <td>2013-06-10</td>\n",
       "    </tr>\n",
       "    <tr>\n",
       "      <th>10</th>\n",
       "      <td>A CHAIN OF THUNDER</td>\n",
       "      <td>A novel about the siege of Vicksburg in 1863; ...</td>\n",
       "      <td>by Jeff Shaara</td>\n",
       "      <td>Jeff Shaara</td>\n",
       "      <td></td>\n",
       "      <td>0.00</td>\n",
       "      <td></td>\n",
       "      <td>Ballantine</td>\n",
       "      <td>9780345527387</td>\n",
       "      <td>0345527380</td>\n",
       "      <td>11</td>\n",
       "      <td>7</td>\n",
       "      <td>2</td>\n",
       "      <td>0</td>\n",
       "      <td>0</td>\n",
       "      <td>2013-06-10</td>\n",
       "    </tr>\n",
       "    <tr>\n",
       "      <th>11</th>\n",
       "      <td>A DANCE WITH DRAGONS</td>\n",
       "      <td>Book 5 of \"A Song of Ice and Fire.\"</td>\n",
       "      <td>by George R. R. Martin</td>\n",
       "      <td>George R R Martin</td>\n",
       "      <td></td>\n",
       "      <td>0.00</td>\n",
       "      <td></td>\n",
       "      <td>Bantam</td>\n",
       "      <td>9780553801477</td>\n",
       "      <td>0553801473</td>\n",
       "      <td>12</td>\n",
       "      <td>11</td>\n",
       "      <td>74</td>\n",
       "      <td>0</td>\n",
       "      <td>0</td>\n",
       "      <td>2013-06-10</td>\n",
       "    </tr>\n",
       "    <tr>\n",
       "      <th>12</th>\n",
       "      <td>A DELICATE TRUTH</td>\n",
       "      <td>A young man investigates a private-public anti...</td>\n",
       "      <td>by John le Carre</td>\n",
       "      <td>John le Carre</td>\n",
       "      <td></td>\n",
       "      <td>0.00</td>\n",
       "      <td></td>\n",
       "      <td>Viking</td>\n",
       "      <td>9780670014897</td>\n",
       "      <td>0670014893</td>\n",
       "      <td>13</td>\n",
       "      <td>9</td>\n",
       "      <td>4</td>\n",
       "      <td>0</td>\n",
       "      <td>0</td>\n",
       "      <td>2013-06-10</td>\n",
       "    </tr>\n",
       "    <tr>\n",
       "      <th>13</th>\n",
       "      <td>LIFE AFTER LIFE</td>\n",
       "      <td>A woman appears in different versions of the s...</td>\n",
       "      <td>by Kate Atkinson</td>\n",
       "      <td>Kate Atkinson</td>\n",
       "      <td></td>\n",
       "      <td>0.00</td>\n",
       "      <td></td>\n",
       "      <td>Little, Brown</td>\n",
       "      <td>9780316176484</td>\n",
       "      <td>0316176486</td>\n",
       "      <td>14</td>\n",
       "      <td>13</td>\n",
       "      <td>8</td>\n",
       "      <td>0</td>\n",
       "      <td>0</td>\n",
       "      <td>2013-06-10</td>\n",
       "    </tr>\n",
       "    <tr>\n",
       "      <th>14</th>\n",
       "      <td>BEST KEPT SECRET</td>\n",
       "      <td>In Volume 3 of the Clifton Chronicles, the foc...</td>\n",
       "      <td>by Jeffrey Archer</td>\n",
       "      <td>Jeffrey Archer</td>\n",
       "      <td></td>\n",
       "      <td>0.00</td>\n",
       "      <td></td>\n",
       "      <td>St. Martin's</td>\n",
       "      <td>9781250000989</td>\n",
       "      <td>125000098X</td>\n",
       "      <td>15</td>\n",
       "      <td>15</td>\n",
       "      <td>5</td>\n",
       "      <td>1</td>\n",
       "      <td>0</td>\n",
       "      <td>2013-06-10</td>\n",
       "    </tr>\n",
       "    <tr>\n",
       "      <th>0</th>\n",
       "      <td>INFERNO</td>\n",
       "      <td>The symbologist Robert Langdon, on the run in ...</td>\n",
       "      <td>by Dan Brown</td>\n",
       "      <td>Dan Brown</td>\n",
       "      <td></td>\n",
       "      <td>0.00</td>\n",
       "      <td></td>\n",
       "      <td>Doubleday</td>\n",
       "      <td>9780385537858</td>\n",
       "      <td>0385537859</td>\n",
       "      <td>1</td>\n",
       "      <td>1</td>\n",
       "      <td>2</td>\n",
       "      <td>0</td>\n",
       "      <td>0</td>\n",
       "      <td>2013-06-03</td>\n",
       "    </tr>\n",
       "    <tr>\n",
       "      <th>1</th>\n",
       "      <td>AND THE MOUNTAINS ECHOED</td>\n",
       "      <td>A multigenerational family saga centers on a b...</td>\n",
       "      <td>by Khaled Hosseini</td>\n",
       "      <td>Khaled Hosseini</td>\n",
       "      <td></td>\n",
       "      <td>0.00</td>\n",
       "      <td></td>\n",
       "      <td>Riverhead</td>\n",
       "      <td>9781594631764</td>\n",
       "      <td>159463176X</td>\n",
       "      <td>2</td>\n",
       "      <td>0</td>\n",
       "      <td>1</td>\n",
       "      <td>0</td>\n",
       "      <td>0</td>\n",
       "      <td>2013-06-03</td>\n",
       "    </tr>\n",
       "    <tr>\n",
       "      <th>2</th>\n",
       "      <td>DEAD EVER AFTER</td>\n",
       "      <td>The last book in the series about the telepath...</td>\n",
       "      <td>by Charlaine Harris</td>\n",
       "      <td>Charlaine Harris</td>\n",
       "      <td></td>\n",
       "      <td>0.00</td>\n",
       "      <td></td>\n",
       "      <td>Ace</td>\n",
       "      <td>9781937007881</td>\n",
       "      <td>193700788X</td>\n",
       "      <td>3</td>\n",
       "      <td>2</td>\n",
       "      <td>3</td>\n",
       "      <td>0</td>\n",
       "      <td>0</td>\n",
       "      <td>2013-06-03</td>\n",
       "    </tr>\n",
       "    <tr>\n",
       "      <th>3</th>\n",
       "      <td>12TH OF NEVER</td>\n",
       "      <td>One week after the birth of her baby, Detectiv...</td>\n",
       "      <td>by James Patterson and Maxine Paetro</td>\n",
       "      <td>James Patterson and Maxine Paetro</td>\n",
       "      <td></td>\n",
       "      <td>0.00</td>\n",
       "      <td></td>\n",
       "      <td>Little, Brown</td>\n",
       "      <td>9780316210829</td>\n",
       "      <td>031621082X</td>\n",
       "      <td>4</td>\n",
       "      <td>4</td>\n",
       "      <td>4</td>\n",
       "      <td>0</td>\n",
       "      <td>0</td>\n",
       "      <td>2013-06-03</td>\n",
       "    </tr>\n",
       "    <tr>\n",
       "      <th>4</th>\n",
       "      <td>THE HIT</td>\n",
       "      <td>The government hitman Will Robie uncovers a se...</td>\n",
       "      <td>by David Baldacci</td>\n",
       "      <td>David Baldacci</td>\n",
       "      <td></td>\n",
       "      <td>0.00</td>\n",
       "      <td></td>\n",
       "      <td>Grand Central</td>\n",
       "      <td>9781455521210</td>\n",
       "      <td>1455521213</td>\n",
       "      <td>5</td>\n",
       "      <td>5</td>\n",
       "      <td>5</td>\n",
       "      <td>0</td>\n",
       "      <td>0</td>\n",
       "      <td>2013-06-03</td>\n",
       "    </tr>\n",
       "    <tr>\n",
       "      <th>5</th>\n",
       "      <td>SILKEN PREY</td>\n",
       "      <td>Lucas Davenport is drawn into the investigatio...</td>\n",
       "      <td>by John Sandford</td>\n",
       "      <td>John Sandford</td>\n",
       "      <td></td>\n",
       "      <td>0.00</td>\n",
       "      <td></td>\n",
       "      <td>Putnam</td>\n",
       "      <td>9780399159312</td>\n",
       "      <td>0399159312</td>\n",
       "      <td>6</td>\n",
       "      <td>3</td>\n",
       "      <td>3</td>\n",
       "      <td>0</td>\n",
       "      <td>0</td>\n",
       "      <td>2013-06-03</td>\n",
       "    </tr>\n",
       "    <tr>\n",
       "      <th>6</th>\n",
       "      <td>A CHAIN OF THUNDER</td>\n",
       "      <td>A novel about the siege of Vicksburg in 1863; ...</td>\n",
       "      <td>by Jeff Shaara</td>\n",
       "      <td>Jeff Shaara</td>\n",
       "      <td></td>\n",
       "      <td>0.00</td>\n",
       "      <td></td>\n",
       "      <td>Ballantine</td>\n",
       "      <td>9780345527387</td>\n",
       "      <td>0345527380</td>\n",
       "      <td>7</td>\n",
       "      <td>0</td>\n",
       "      <td>1</td>\n",
       "      <td>0</td>\n",
       "      <td>0</td>\n",
       "      <td>2013-06-03</td>\n",
       "    </tr>\n",
       "    <tr>\n",
       "      <th>7</th>\n",
       "      <td>GONE GIRL</td>\n",
       "      <td>A woman disappears on her fifth anniversary; i...</td>\n",
       "      <td>by Gillian Flynn</td>\n",
       "      <td>Gillian Flynn</td>\n",
       "      <td></td>\n",
       "      <td>0.00</td>\n",
       "      <td></td>\n",
       "      <td>Crown</td>\n",
       "      <td>9780307588364</td>\n",
       "      <td>030758836X</td>\n",
       "      <td>8</td>\n",
       "      <td>7</td>\n",
       "      <td>51</td>\n",
       "      <td>0</td>\n",
       "      <td>0</td>\n",
       "      <td>2013-06-03</td>\n",
       "    </tr>\n",
       "    <tr>\n",
       "      <th>8</th>\n",
       "      <td>A DELICATE TRUTH</td>\n",
       "      <td>A young man investigates a private-public anti...</td>\n",
       "      <td>by John le Carre</td>\n",
       "      <td>John le Carre</td>\n",
       "      <td></td>\n",
       "      <td>0.00</td>\n",
       "      <td></td>\n",
       "      <td>Viking</td>\n",
       "      <td>9780670014897</td>\n",
       "      <td>0670014893</td>\n",
       "      <td>9</td>\n",
       "      <td>6</td>\n",
       "      <td>3</td>\n",
       "      <td>0</td>\n",
       "      <td>0</td>\n",
       "      <td>2013-06-03</td>\n",
       "    </tr>\n",
       "    <tr>\n",
       "      <th>9</th>\n",
       "      <td>THE FALL OF ARTHUR</td>\n",
       "      <td>An unfinished narrative poem in Old English al...</td>\n",
       "      <td>by J. R. R. Tolkien. Edited by Christopher Tol...</td>\n",
       "      <td>J R R Tolkien</td>\n",
       "      <td>Edited by Christopher Tolkien</td>\n",
       "      <td>0.00</td>\n",
       "      <td></td>\n",
       "      <td>Houghton Mifflin Harcourt</td>\n",
       "      <td>9780544115897</td>\n",
       "      <td>0544115899</td>\n",
       "      <td>10</td>\n",
       "      <td>0</td>\n",
       "      <td>1</td>\n",
       "      <td>1</td>\n",
       "      <td>0</td>\n",
       "      <td>2013-06-03</td>\n",
       "    </tr>\n",
       "    <tr>\n",
       "      <th>10</th>\n",
       "      <td>A DANCE WITH DRAGONS</td>\n",
       "      <td>Book 5 of \"A Song of Ice and Fire.\"</td>\n",
       "      <td>by George R. R. Martin</td>\n",
       "      <td>George R R Martin</td>\n",
       "      <td></td>\n",
       "      <td>0.00</td>\n",
       "      <td></td>\n",
       "      <td>Bantam</td>\n",
       "      <td>9780553801477</td>\n",
       "      <td>0553801473</td>\n",
       "      <td>11</td>\n",
       "      <td>11</td>\n",
       "      <td>73</td>\n",
       "      <td>0</td>\n",
       "      <td>0</td>\n",
       "      <td>2013-06-03</td>\n",
       "    </tr>\n",
       "    <tr>\n",
       "      <th>11</th>\n",
       "      <td>THE REDEEMER</td>\n",
       "      <td>Harry Hole, a maverick detective in the Oslo P...</td>\n",
       "      <td>by Jo Nesbø</td>\n",
       "      <td>Jo Nesbø</td>\n",
       "      <td></td>\n",
       "      <td>0.00</td>\n",
       "      <td></td>\n",
       "      <td>Knopf</td>\n",
       "      <td>9780307595850</td>\n",
       "      <td>0307595854</td>\n",
       "      <td>12</td>\n",
       "      <td>0</td>\n",
       "      <td>1</td>\n",
       "      <td>0</td>\n",
       "      <td>0</td>\n",
       "      <td>2013-06-03</td>\n",
       "    </tr>\n",
       "    <tr>\n",
       "      <th>12</th>\n",
       "      <td>LIFE AFTER LIFE</td>\n",
       "      <td>A woman appears in different versions of the s...</td>\n",
       "      <td>by Kate Atkinson</td>\n",
       "      <td>Kate Atkinson</td>\n",
       "      <td></td>\n",
       "      <td>0.00</td>\n",
       "      <td></td>\n",
       "      <td>Little, Brown</td>\n",
       "      <td>9780316176484</td>\n",
       "      <td>0316176486</td>\n",
       "      <td>13</td>\n",
       "      <td>0</td>\n",
       "      <td>7</td>\n",
       "      <td>0</td>\n",
       "      <td>0</td>\n",
       "      <td>2013-06-03</td>\n",
       "    </tr>\n",
       "    <tr>\n",
       "      <th>13</th>\n",
       "      <td>WHISKEY BEACH</td>\n",
       "      <td>A former criminal attorney who has been acquit...</td>\n",
       "      <td>by Nora Roberts</td>\n",
       "      <td>Nora Roberts</td>\n",
       "      <td></td>\n",
       "      <td>0.00</td>\n",
       "      <td></td>\n",
       "      <td>Putnam</td>\n",
       "      <td>9780399159893</td>\n",
       "      <td>0399159894</td>\n",
       "      <td>14</td>\n",
       "      <td>8</td>\n",
       "      <td>6</td>\n",
       "      <td>0</td>\n",
       "      <td>0</td>\n",
       "      <td>2013-06-03</td>\n",
       "    </tr>\n",
       "    <tr>\n",
       "      <th>14</th>\n",
       "      <td>BEST KEPT SECRET</td>\n",
       "      <td>In Volume 3 of the Clifton Chronicles, the foc...</td>\n",
       "      <td>by Jeffrey Archer</td>\n",
       "      <td>Jeffrey Archer</td>\n",
       "      <td></td>\n",
       "      <td>0.00</td>\n",
       "      <td></td>\n",
       "      <td>St. Martin's</td>\n",
       "      <td>9781250000989</td>\n",
       "      <td>125000098X</td>\n",
       "      <td>15</td>\n",
       "      <td>10</td>\n",
       "      <td>4</td>\n",
       "      <td>0</td>\n",
       "      <td>0</td>\n",
       "      <td>2013-06-03</td>\n",
       "    </tr>\n",
       "  </tbody>\n",
       "</table>\n",
       "</div>"
      ],
      "text/plain": [
       "                       title  \\\n",
       "5                  ZERO HOUR   \n",
       "6                 DEEPLY ODD   \n",
       "7                    THE HIT   \n",
       "8                SILKEN PREY   \n",
       "9                  GONE GIRL   \n",
       "10      A DANCE WITH DRAGONS   \n",
       "11                   THE SON   \n",
       "12             TRANSATLANTIC   \n",
       "13             12TH OF NEVER   \n",
       "14           DEAD EVER AFTER   \n",
       "0                    INFERNO   \n",
       "1   AND THE MOUNTAINS ECHOED   \n",
       "2                 DEEPLY ODD   \n",
       "3                  ZERO HOUR   \n",
       "4                    THE HIT   \n",
       "5            DEAD EVER AFTER   \n",
       "6                SILKEN PREY   \n",
       "7              12TH OF NEVER   \n",
       "8                  GONE GIRL   \n",
       "9                    THE SON   \n",
       "10        A CHAIN OF THUNDER   \n",
       "11      A DANCE WITH DRAGONS   \n",
       "12          A DELICATE TRUTH   \n",
       "13           LIFE AFTER LIFE   \n",
       "14          BEST KEPT SECRET   \n",
       "0                    INFERNO   \n",
       "1   AND THE MOUNTAINS ECHOED   \n",
       "2            DEAD EVER AFTER   \n",
       "3              12TH OF NEVER   \n",
       "4                    THE HIT   \n",
       "5                SILKEN PREY   \n",
       "6         A CHAIN OF THUNDER   \n",
       "7                  GONE GIRL   \n",
       "8           A DELICATE TRUTH   \n",
       "9         THE FALL OF ARTHUR   \n",
       "10      A DANCE WITH DRAGONS   \n",
       "11              THE REDEEMER   \n",
       "12           LIFE AFTER LIFE   \n",
       "13             WHISKEY BEACH   \n",
       "14          BEST KEPT SECRET   \n",
       "\n",
       "                                          description  \\\n",
       "5   Kurt Austin, Joe Zavala and the rest of the Nu...   \n",
       "6   Odd Thomas, who can communicate with the dead,...   \n",
       "7   The government hitman Will Robie uncovers a se...   \n",
       "8   Lucas Davenport is drawn into the investigatio...   \n",
       "9   A woman disappears on her fifth anniversary; i...   \n",
       "10                Book 5 of \"A Song of Ice and Fire.\"   \n",
       "11  More than 150 years in a Texas family, from Co...   \n",
       "12  The lives of real and fictional characters (Fr...   \n",
       "13  One week after the birth of her baby, Detectiv...   \n",
       "14  The last book in the series about Sookie Stack...   \n",
       "0   The symbologist Robert Langdon, on the run in ...   \n",
       "1   A multigenerational family saga centers on a b...   \n",
       "2   Odd Thomas, who can communicate with the dead,...   \n",
       "3   Kurt Austin, Joe Zavala and the rest of the Nu...   \n",
       "4   The government hitman Will Robie uncovers a se...   \n",
       "5   The last book in the series about the telepath...   \n",
       "6   Lucas Davenport is drawn into the investigatio...   \n",
       "7   One week after the birth of her baby, Detectiv...   \n",
       "8   A woman disappears on her fifth anniversary; i...   \n",
       "9   More than 150 years in a Texas family, from Co...   \n",
       "10  A novel about the siege of Vicksburg in 1863; ...   \n",
       "11                Book 5 of \"A Song of Ice and Fire.\"   \n",
       "12  A young man investigates a private-public anti...   \n",
       "13  A woman appears in different versions of the s...   \n",
       "14  In Volume 3 of the Clifton Chronicles, the foc...   \n",
       "0   The symbologist Robert Langdon, on the run in ...   \n",
       "1   A multigenerational family saga centers on a b...   \n",
       "2   The last book in the series about the telepath...   \n",
       "3   One week after the birth of her baby, Detectiv...   \n",
       "4   The government hitman Will Robie uncovers a se...   \n",
       "5   Lucas Davenport is drawn into the investigatio...   \n",
       "6   A novel about the siege of Vicksburg in 1863; ...   \n",
       "7   A woman disappears on her fifth anniversary; i...   \n",
       "8   A young man investigates a private-public anti...   \n",
       "9   An unfinished narrative poem in Old English al...   \n",
       "10                Book 5 of \"A Song of Ice and Fire.\"   \n",
       "11  Harry Hole, a maverick detective in the Oslo P...   \n",
       "12  A woman appears in different versions of the s...   \n",
       "13  A former criminal attorney who has been acquit...   \n",
       "14  In Volume 3 of the Clifton Chronicles, the foc...   \n",
       "\n",
       "                                          contributor  \\\n",
       "5                   by Clive Cussler and Graham Brown   \n",
       "6                                      by Dean Koontz   \n",
       "7                                   by David Baldacci   \n",
       "8                                    by John Sandford   \n",
       "9                                    by Gillian Flynn   \n",
       "10                             by George R. R. Martin   \n",
       "11                                   by Philipp Meyer   \n",
       "12                                    by Colum McCann   \n",
       "13               by James Patterson and Maxine Paetro   \n",
       "14                                by Charlaine Harris   \n",
       "0                                        by Dan Brown   \n",
       "1                                  by Khaled Hosseini   \n",
       "2                                      by Dean Koontz   \n",
       "3                   by Clive Cussler and Graham Brown   \n",
       "4                                   by David Baldacci   \n",
       "5                                 by Charlaine Harris   \n",
       "6                                    by John Sandford   \n",
       "7                by James Patterson and Maxine Paetro   \n",
       "8                                    by Gillian Flynn   \n",
       "9                                    by Philipp Meyer   \n",
       "10                                     by Jeff Shaara   \n",
       "11                             by George R. R. Martin   \n",
       "12                                   by John le Carre   \n",
       "13                                   by Kate Atkinson   \n",
       "14                                  by Jeffrey Archer   \n",
       "0                                        by Dan Brown   \n",
       "1                                  by Khaled Hosseini   \n",
       "2                                 by Charlaine Harris   \n",
       "3                by James Patterson and Maxine Paetro   \n",
       "4                                   by David Baldacci   \n",
       "5                                    by John Sandford   \n",
       "6                                      by Jeff Shaara   \n",
       "7                                    by Gillian Flynn   \n",
       "8                                    by John le Carre   \n",
       "9   by J. R. R. Tolkien. Edited by Christopher Tol...   \n",
       "10                             by George R. R. Martin   \n",
       "11                                        by Jo Nesbø   \n",
       "12                                   by Kate Atkinson   \n",
       "13                                    by Nora Roberts   \n",
       "14                                  by Jeffrey Archer   \n",
       "\n",
       "                               author               contributor_note price  \\\n",
       "5      Clive Cussler and Graham Brown                                 0.00   \n",
       "6                         Dean Koontz                                 0.00   \n",
       "7                      David Baldacci                                 0.00   \n",
       "8                       John Sandford                                 0.00   \n",
       "9                       Gillian Flynn                                 0.00   \n",
       "10                  George R R Martin                                 0.00   \n",
       "11                      Philipp Meyer                                 0.00   \n",
       "12                       Colum McCann                                 0.00   \n",
       "13  James Patterson and Maxine Paetro                                 0.00   \n",
       "14                   Charlaine Harris                                 0.00   \n",
       "0                           Dan Brown                                 0.00   \n",
       "1                     Khaled Hosseini                                 0.00   \n",
       "2                         Dean Koontz                                 0.00   \n",
       "3      Clive Cussler and Graham Brown                                 0.00   \n",
       "4                      David Baldacci                                 0.00   \n",
       "5                    Charlaine Harris                                 0.00   \n",
       "6                       John Sandford                                 0.00   \n",
       "7   James Patterson and Maxine Paetro                                 0.00   \n",
       "8                       Gillian Flynn                                 0.00   \n",
       "9                       Philipp Meyer                                 0.00   \n",
       "10                        Jeff Shaara                                 0.00   \n",
       "11                  George R R Martin                                 0.00   \n",
       "12                      John le Carre                                 0.00   \n",
       "13                      Kate Atkinson                                 0.00   \n",
       "14                     Jeffrey Archer                                 0.00   \n",
       "0                           Dan Brown                                 0.00   \n",
       "1                     Khaled Hosseini                                 0.00   \n",
       "2                    Charlaine Harris                                 0.00   \n",
       "3   James Patterson and Maxine Paetro                                 0.00   \n",
       "4                      David Baldacci                                 0.00   \n",
       "5                       John Sandford                                 0.00   \n",
       "6                         Jeff Shaara                                 0.00   \n",
       "7                       Gillian Flynn                                 0.00   \n",
       "8                       John le Carre                                 0.00   \n",
       "9                       J R R Tolkien  Edited by Christopher Tolkien  0.00   \n",
       "10                  George R R Martin                                 0.00   \n",
       "11                           Jo Nesbø                                 0.00   \n",
       "12                      Kate Atkinson                                 0.00   \n",
       "13                       Nora Roberts                                 0.00   \n",
       "14                     Jeffrey Archer                                 0.00   \n",
       "\n",
       "   age_group                  publisher primary_isbn13 primary_isbn10 rank  \\\n",
       "5                                Putnam  9780399162503     039916250X    6   \n",
       "6                                Bantam  9780553807738     0553807730    7   \n",
       "7                         Grand Central  9781455521210     1455521213    8   \n",
       "8                                Putnam  9780399159312     0399159312    9   \n",
       "9                                 Crown  9780307588364     030758836X   10   \n",
       "10                               Bantam  9780553801477     0553801473   11   \n",
       "11                   Ecco/HarperCollins  9780062120397     0062120395   12   \n",
       "12                         Random House  9781400069590     1400069599   13   \n",
       "13                        Little, Brown  9780316210829     031621082X   14   \n",
       "14                                  Ace  9781937007881     193700788X   15   \n",
       "0                             Doubleday  9780385537858     0385537859    1   \n",
       "1                             Riverhead  9781594631764     159463176X    2   \n",
       "2                                Bantam  9780553807738     0553807730    3   \n",
       "3                                Putnam  9780399162503     039916250X    4   \n",
       "4                         Grand Central  9781455521210     1455521213    5   \n",
       "5                                   Ace  9781937007881     193700788X    6   \n",
       "6                                Putnam  9780399159312     0399159312    7   \n",
       "7                         Little, Brown  9780316210829     031621082X    8   \n",
       "8                                 Crown  9780307588364     030758836X    9   \n",
       "9                    Ecco/HarperCollins  9780062120397     0062120395   10   \n",
       "10                           Ballantine  9780345527387     0345527380   11   \n",
       "11                               Bantam  9780553801477     0553801473   12   \n",
       "12                               Viking  9780670014897     0670014893   13   \n",
       "13                        Little, Brown  9780316176484     0316176486   14   \n",
       "14                         St. Martin's  9781250000989     125000098X   15   \n",
       "0                             Doubleday  9780385537858     0385537859    1   \n",
       "1                             Riverhead  9781594631764     159463176X    2   \n",
       "2                                   Ace  9781937007881     193700788X    3   \n",
       "3                         Little, Brown  9780316210829     031621082X    4   \n",
       "4                         Grand Central  9781455521210     1455521213    5   \n",
       "5                                Putnam  9780399159312     0399159312    6   \n",
       "6                            Ballantine  9780345527387     0345527380    7   \n",
       "7                                 Crown  9780307588364     030758836X    8   \n",
       "8                                Viking  9780670014897     0670014893    9   \n",
       "9             Houghton Mifflin Harcourt  9780544115897     0544115899   10   \n",
       "10                               Bantam  9780553801477     0553801473   11   \n",
       "11                                Knopf  9780307595850     0307595854   12   \n",
       "12                        Little, Brown  9780316176484     0316176486   13   \n",
       "13                               Putnam  9780399159893     0399159894   14   \n",
       "14                         St. Martin's  9781250000989     125000098X   15   \n",
       "\n",
       "   rank_last_week weeks_on_list asterisk dagger        week  \n",
       "5               4             2        0      0  2013-06-17  \n",
       "6               3             2        0      0  2013-06-17  \n",
       "7               5             7        1      0  2013-06-17  \n",
       "8               7             5        0      0  2013-06-17  \n",
       "9               9            53        1      0  2013-06-17  \n",
       "10             12            75        0      0  2013-06-17  \n",
       "11             10             2        0      0  2013-06-17  \n",
       "12              0             1        0      0  2013-06-17  \n",
       "13              8             6        1      0  2013-06-17  \n",
       "14              6             5        0      0  2013-06-17  \n",
       "0               1             3        0      0  2013-06-10  \n",
       "1               2             2        0      0  2013-06-10  \n",
       "2               0             1        0      0  2013-06-10  \n",
       "3               0             1        0      0  2013-06-10  \n",
       "4               5             6        0      0  2013-06-10  \n",
       "5               3             4        1      0  2013-06-10  \n",
       "6               6             4        0      0  2013-06-10  \n",
       "7               4             5        0      0  2013-06-10  \n",
       "8               8            52        0      0  2013-06-10  \n",
       "9               0             1        1      0  2013-06-10  \n",
       "10              7             2        0      0  2013-06-10  \n",
       "11             11            74        0      0  2013-06-10  \n",
       "12              9             4        0      0  2013-06-10  \n",
       "13             13             8        0      0  2013-06-10  \n",
       "14             15             5        1      0  2013-06-10  \n",
       "0               1             2        0      0  2013-06-03  \n",
       "1               0             1        0      0  2013-06-03  \n",
       "2               2             3        0      0  2013-06-03  \n",
       "3               4             4        0      0  2013-06-03  \n",
       "4               5             5        0      0  2013-06-03  \n",
       "5               3             3        0      0  2013-06-03  \n",
       "6               0             1        0      0  2013-06-03  \n",
       "7               7            51        0      0  2013-06-03  \n",
       "8               6             3        0      0  2013-06-03  \n",
       "9               0             1        1      0  2013-06-03  \n",
       "10             11            73        0      0  2013-06-03  \n",
       "11              0             1        0      0  2013-06-03  \n",
       "12              0             7        0      0  2013-06-03  \n",
       "13              8             6        0      0  2013-06-03  \n",
       "14             10             4        0      0  2013-06-03  "
      ]
     },
     "execution_count": 87,
     "metadata": {},
     "output_type": "execute_result"
    }
   ],
   "source": [
    "#add a week column\n",
    "hardcover2['week'] = repeated_weeks\n",
    "\n",
    "#and check to make sure it worked correctly\n",
    "hardcover2.tail(40)"
   ]
  },
  {
   "cell_type": "code",
   "execution_count": 88,
   "metadata": {},
   "outputs": [
    {
     "data": {
      "text/plain": [
       "3900"
      ]
     },
     "execution_count": 88,
     "metadata": {},
     "output_type": "execute_result"
    }
   ],
   "source": [
    "#and a column indicating which list these come from\n",
    "k2 = 3900\n",
    "weekly_fiction_list = ['Hardcover Fiction']\n",
    "nyt_list_weekly_fiction = []\n",
    "\n",
    "for element in weekly_fiction_list:\n",
    "    for i in range(k2):\n",
    "        nyt_list_weekly_fiction.append(element)\n",
    "\n",
    "len(nyt_list_weekly_fiction)"
   ]
  },
  {
   "cell_type": "code",
   "execution_count": 89,
   "metadata": {},
   "outputs": [
    {
     "data": {
      "text/html": [
       "<div>\n",
       "<style scoped>\n",
       "    .dataframe tbody tr th:only-of-type {\n",
       "        vertical-align: middle;\n",
       "    }\n",
       "\n",
       "    .dataframe tbody tr th {\n",
       "        vertical-align: top;\n",
       "    }\n",
       "\n",
       "    .dataframe thead th {\n",
       "        text-align: right;\n",
       "    }\n",
       "</style>\n",
       "<table border=\"1\" class=\"dataframe\">\n",
       "  <thead>\n",
       "    <tr style=\"text-align: right;\">\n",
       "      <th></th>\n",
       "      <th>title</th>\n",
       "      <th>description</th>\n",
       "      <th>contributor</th>\n",
       "      <th>author</th>\n",
       "      <th>contributor_note</th>\n",
       "      <th>price</th>\n",
       "      <th>age_group</th>\n",
       "      <th>publisher</th>\n",
       "      <th>primary_isbn13</th>\n",
       "      <th>primary_isbn10</th>\n",
       "      <th>rank</th>\n",
       "      <th>rank_last_week</th>\n",
       "      <th>weeks_on_list</th>\n",
       "      <th>asterisk</th>\n",
       "      <th>dagger</th>\n",
       "      <th>week</th>\n",
       "      <th>nyt_list</th>\n",
       "    </tr>\n",
       "  </thead>\n",
       "  <tbody>\n",
       "    <tr>\n",
       "      <th>10</th>\n",
       "      <td>A DANCE WITH DRAGONS</td>\n",
       "      <td>Book 5 of \"A Song of Ice and Fire.\"</td>\n",
       "      <td>by George R. R. Martin</td>\n",
       "      <td>George R R Martin</td>\n",
       "      <td></td>\n",
       "      <td>0.00</td>\n",
       "      <td></td>\n",
       "      <td>Bantam</td>\n",
       "      <td>9780553801477</td>\n",
       "      <td>0553801473</td>\n",
       "      <td>11</td>\n",
       "      <td>11</td>\n",
       "      <td>73</td>\n",
       "      <td>0</td>\n",
       "      <td>0</td>\n",
       "      <td>2013-06-03</td>\n",
       "      <td>Hardcover Fiction</td>\n",
       "    </tr>\n",
       "    <tr>\n",
       "      <th>11</th>\n",
       "      <td>THE REDEEMER</td>\n",
       "      <td>Harry Hole, a maverick detective in the Oslo P...</td>\n",
       "      <td>by Jo Nesbø</td>\n",
       "      <td>Jo Nesbø</td>\n",
       "      <td></td>\n",
       "      <td>0.00</td>\n",
       "      <td></td>\n",
       "      <td>Knopf</td>\n",
       "      <td>9780307595850</td>\n",
       "      <td>0307595854</td>\n",
       "      <td>12</td>\n",
       "      <td>0</td>\n",
       "      <td>1</td>\n",
       "      <td>0</td>\n",
       "      <td>0</td>\n",
       "      <td>2013-06-03</td>\n",
       "      <td>Hardcover Fiction</td>\n",
       "    </tr>\n",
       "    <tr>\n",
       "      <th>12</th>\n",
       "      <td>LIFE AFTER LIFE</td>\n",
       "      <td>A woman appears in different versions of the s...</td>\n",
       "      <td>by Kate Atkinson</td>\n",
       "      <td>Kate Atkinson</td>\n",
       "      <td></td>\n",
       "      <td>0.00</td>\n",
       "      <td></td>\n",
       "      <td>Little, Brown</td>\n",
       "      <td>9780316176484</td>\n",
       "      <td>0316176486</td>\n",
       "      <td>13</td>\n",
       "      <td>0</td>\n",
       "      <td>7</td>\n",
       "      <td>0</td>\n",
       "      <td>0</td>\n",
       "      <td>2013-06-03</td>\n",
       "      <td>Hardcover Fiction</td>\n",
       "    </tr>\n",
       "    <tr>\n",
       "      <th>13</th>\n",
       "      <td>WHISKEY BEACH</td>\n",
       "      <td>A former criminal attorney who has been acquit...</td>\n",
       "      <td>by Nora Roberts</td>\n",
       "      <td>Nora Roberts</td>\n",
       "      <td></td>\n",
       "      <td>0.00</td>\n",
       "      <td></td>\n",
       "      <td>Putnam</td>\n",
       "      <td>9780399159893</td>\n",
       "      <td>0399159894</td>\n",
       "      <td>14</td>\n",
       "      <td>8</td>\n",
       "      <td>6</td>\n",
       "      <td>0</td>\n",
       "      <td>0</td>\n",
       "      <td>2013-06-03</td>\n",
       "      <td>Hardcover Fiction</td>\n",
       "    </tr>\n",
       "    <tr>\n",
       "      <th>14</th>\n",
       "      <td>BEST KEPT SECRET</td>\n",
       "      <td>In Volume 3 of the Clifton Chronicles, the foc...</td>\n",
       "      <td>by Jeffrey Archer</td>\n",
       "      <td>Jeffrey Archer</td>\n",
       "      <td></td>\n",
       "      <td>0.00</td>\n",
       "      <td></td>\n",
       "      <td>St. Martin's</td>\n",
       "      <td>9781250000989</td>\n",
       "      <td>125000098X</td>\n",
       "      <td>15</td>\n",
       "      <td>10</td>\n",
       "      <td>4</td>\n",
       "      <td>0</td>\n",
       "      <td>0</td>\n",
       "      <td>2013-06-03</td>\n",
       "      <td>Hardcover Fiction</td>\n",
       "    </tr>\n",
       "  </tbody>\n",
       "</table>\n",
       "</div>"
      ],
      "text/plain": [
       "                   title                                        description  \\\n",
       "10  A DANCE WITH DRAGONS                Book 5 of \"A Song of Ice and Fire.\"   \n",
       "11          THE REDEEMER  Harry Hole, a maverick detective in the Oslo P...   \n",
       "12       LIFE AFTER LIFE  A woman appears in different versions of the s...   \n",
       "13         WHISKEY BEACH  A former criminal attorney who has been acquit...   \n",
       "14      BEST KEPT SECRET  In Volume 3 of the Clifton Chronicles, the foc...   \n",
       "\n",
       "               contributor             author contributor_note price  \\\n",
       "10  by George R. R. Martin  George R R Martin                   0.00   \n",
       "11             by Jo Nesbø           Jo Nesbø                   0.00   \n",
       "12        by Kate Atkinson      Kate Atkinson                   0.00   \n",
       "13         by Nora Roberts       Nora Roberts                   0.00   \n",
       "14       by Jeffrey Archer     Jeffrey Archer                   0.00   \n",
       "\n",
       "   age_group      publisher primary_isbn13 primary_isbn10 rank rank_last_week  \\\n",
       "10                   Bantam  9780553801477     0553801473   11             11   \n",
       "11                    Knopf  9780307595850     0307595854   12              0   \n",
       "12            Little, Brown  9780316176484     0316176486   13              0   \n",
       "13                   Putnam  9780399159893     0399159894   14              8   \n",
       "14             St. Martin's  9781250000989     125000098X   15             10   \n",
       "\n",
       "   weeks_on_list asterisk dagger        week           nyt_list  \n",
       "10            73        0      0  2013-06-03  Hardcover Fiction  \n",
       "11             1        0      0  2013-06-03  Hardcover Fiction  \n",
       "12             7        0      0  2013-06-03  Hardcover Fiction  \n",
       "13             6        0      0  2013-06-03  Hardcover Fiction  \n",
       "14             4        0      0  2013-06-03  Hardcover Fiction  "
      ]
     },
     "execution_count": 89,
     "metadata": {},
     "output_type": "execute_result"
    }
   ],
   "source": [
    "#add nyt_list as a column\n",
    "hardcover2['nyt_list'] = nyt_list_weekly_fiction\n",
    "\n",
    "#and check to make sure it worked correctly\n",
    "hardcover2.tail()"
   ]
  },
  {
   "cell_type": "code",
   "execution_count": 90,
   "metadata": {},
   "outputs": [],
   "source": [
    "#save to csv\n",
    "hardcover2.to_csv(\"C:\\\\Users\\\\melan\\\\Documents\\\\DA8\\\\Projects\\\\capstone\\\\data\\\\2013to2018_hardcover.csv\", index=False)"
   ]
  },
  {
   "cell_type": "code",
   "execution_count": null,
   "metadata": {},
   "outputs": [],
   "source": []
  }
 ],
 "metadata": {
  "kernelspec": {
   "display_name": "base",
   "language": "python",
   "name": "python3"
  },
  "language_info": {
   "codemirror_mode": {
    "name": "ipython",
    "version": 3
   },
   "file_extension": ".py",
   "mimetype": "text/x-python",
   "name": "python",
   "nbconvert_exporter": "python",
   "pygments_lexer": "ipython3",
   "version": "3.10.9"
  },
  "orig_nbformat": 4
 },
 "nbformat": 4,
 "nbformat_minor": 2
}
