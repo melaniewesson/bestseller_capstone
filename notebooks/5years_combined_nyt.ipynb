{
 "cells": [
  {
   "cell_type": "code",
   "execution_count": 3,
   "metadata": {},
   "outputs": [],
   "source": [
    "import pprint\n",
    "import requests\n",
    "import csv\n",
    "import datetime\n",
    "import pandas as pd\n",
    "import time\n",
    "import nltk\n",
    "import re\n",
    "from pandas.io.json import json_normalize\n",
    "from sklearn.cluster import SpectralClustering\n",
    "from math import sqrt, floor\n",
    "\n",
    "pd.set_option(\"display.max_columns\", 50)"
   ]
  },
  {
   "cell_type": "code",
   "execution_count": 22,
   "metadata": {},
   "outputs": [],
   "source": [
    "r = requests.get(\"https://api.nytimes.com/svc/books/v3/lists/2022-12-31/combined-print-and-e-book-fiction?api-key=P1yDSg62Aydsdh04WBBuS57pYbpBu2tb\")"
   ]
  },
  {
   "cell_type": "code",
   "execution_count": 23,
   "metadata": {},
   "outputs": [],
   "source": [
    "bs = r.json()"
   ]
  },
  {
   "cell_type": "code",
   "execution_count": 24,
   "metadata": {},
   "outputs": [
    {
     "name": "stdout",
     "output_type": "stream",
     "text": [
      "status\n",
      "copyright\n",
      "num_results\n",
      "last_modified\n",
      "results\n"
     ]
    }
   ],
   "source": [
    "for key in bs.keys():\n",
    "    print(key)"
   ]
  },
  {
   "cell_type": "code",
   "execution_count": 25,
   "metadata": {},
   "outputs": [
    {
     "name": "stderr",
     "output_type": "stream",
     "text": [
      "C:\\Users\\melan\\AppData\\Local\\Temp\\ipykernel_3744\\577837607.py:1: FutureWarning: pandas.io.json.json_normalize is deprecated, use pandas.json_normalize instead.\n",
      "  bs = json_normalize(bs[\"results\"][\"books\"])\n"
     ]
    }
   ],
   "source": [
    "bs = json_normalize(bs[\"results\"][\"books\"])"
   ]
  },
  {
   "cell_type": "code",
   "execution_count": 26,
   "metadata": {},
   "outputs": [
    {
     "data": {
      "text/html": [
       "<div>\n",
       "<style scoped>\n",
       "    .dataframe tbody tr th:only-of-type {\n",
       "        vertical-align: middle;\n",
       "    }\n",
       "\n",
       "    .dataframe tbody tr th {\n",
       "        vertical-align: top;\n",
       "    }\n",
       "\n",
       "    .dataframe thead th {\n",
       "        text-align: right;\n",
       "    }\n",
       "</style>\n",
       "<table border=\"1\" class=\"dataframe\">\n",
       "  <thead>\n",
       "    <tr style=\"text-align: right;\">\n",
       "      <th></th>\n",
       "      <th>rank</th>\n",
       "      <th>rank_last_week</th>\n",
       "      <th>weeks_on_list</th>\n",
       "      <th>asterisk</th>\n",
       "      <th>dagger</th>\n",
       "      <th>primary_isbn10</th>\n",
       "      <th>primary_isbn13</th>\n",
       "      <th>publisher</th>\n",
       "      <th>description</th>\n",
       "      <th>price</th>\n",
       "      <th>title</th>\n",
       "      <th>author</th>\n",
       "      <th>contributor</th>\n",
       "      <th>contributor_note</th>\n",
       "      <th>book_image</th>\n",
       "      <th>book_image_width</th>\n",
       "      <th>book_image_height</th>\n",
       "      <th>amazon_product_url</th>\n",
       "      <th>age_group</th>\n",
       "      <th>book_review_link</th>\n",
       "      <th>first_chapter_link</th>\n",
       "      <th>sunday_review_link</th>\n",
       "      <th>article_chapter_link</th>\n",
       "      <th>isbns</th>\n",
       "      <th>buy_links</th>\n",
       "      <th>book_uri</th>\n",
       "    </tr>\n",
       "  </thead>\n",
       "  <tbody>\n",
       "    <tr>\n",
       "      <th>0</th>\n",
       "      <td>1</td>\n",
       "      <td>1</td>\n",
       "      <td>9</td>\n",
       "      <td>0</td>\n",
       "      <td>0</td>\n",
       "      <td>1668001225</td>\n",
       "      <td>9781668001226</td>\n",
       "      <td>Atria</td>\n",
       "      <td>In the sequel to “It Ends With Us,” Lily deals...</td>\n",
       "      <td>0.00</td>\n",
       "      <td>IT STARTS WITH US</td>\n",
       "      <td>Colleen Hoover</td>\n",
       "      <td>by Colleen Hoover</td>\n",
       "      <td></td>\n",
       "      <td>https://storage.googleapis.com/du-prd/books/im...</td>\n",
       "      <td>322</td>\n",
       "      <td>500</td>\n",
       "      <td>https://www.amazon.com/dp/1668001225?tag=NYTBS...</td>\n",
       "      <td></td>\n",
       "      <td></td>\n",
       "      <td></td>\n",
       "      <td></td>\n",
       "      <td></td>\n",
       "      <td>[{'isbn10': '1668001225', 'isbn13': '978166800...</td>\n",
       "      <td>[{'name': 'Amazon', 'url': 'https://www.amazon...</td>\n",
       "      <td>nyt://book/3aa85e47-4df9-53ef-9957-a77753d3502c</td>\n",
       "    </tr>\n",
       "    <tr>\n",
       "      <th>1</th>\n",
       "      <td>2</td>\n",
       "      <td>2</td>\n",
       "      <td>79</td>\n",
       "      <td>0</td>\n",
       "      <td>0</td>\n",
       "      <td>1501110365</td>\n",
       "      <td>9781501110368</td>\n",
       "      <td>Atria</td>\n",
       "      <td>A battered wife raised in a violent home attem...</td>\n",
       "      <td>0.00</td>\n",
       "      <td>IT ENDS WITH US</td>\n",
       "      <td>Colleen Hoover</td>\n",
       "      <td>by Colleen Hoover</td>\n",
       "      <td></td>\n",
       "      <td>https://storage.googleapis.com/du-prd/books/im...</td>\n",
       "      <td>319</td>\n",
       "      <td>495</td>\n",
       "      <td>http://www.amazon.com/Ends-Us-Novel-Colleen-Ho...</td>\n",
       "      <td></td>\n",
       "      <td></td>\n",
       "      <td></td>\n",
       "      <td></td>\n",
       "      <td></td>\n",
       "      <td>[{'isbn10': '1501110365', 'isbn13': '978150111...</td>\n",
       "      <td>[{'name': 'Amazon', 'url': 'http://www.amazon....</td>\n",
       "      <td>nyt://book/e2a3545e-e9cb-5828-9d97-50a798a0e4f6</td>\n",
       "    </tr>\n",
       "    <tr>\n",
       "      <th>2</th>\n",
       "      <td>3</td>\n",
       "      <td>3</td>\n",
       "      <td>6</td>\n",
       "      <td>0</td>\n",
       "      <td>0</td>\n",
       "      <td>038554734X</td>\n",
       "      <td>9780385547345</td>\n",
       "      <td>Doubleday</td>\n",
       "      <td>A scientist and single mother living in Califo...</td>\n",
       "      <td>0.00</td>\n",
       "      <td>LESSONS IN CHEMISTRY</td>\n",
       "      <td>Bonnie Garmus</td>\n",
       "      <td>by Bonnie Garmus</td>\n",
       "      <td></td>\n",
       "      <td>https://storage.googleapis.com/du-prd/books/im...</td>\n",
       "      <td>328</td>\n",
       "      <td>500</td>\n",
       "      <td>https://www.amazon.com/dp/038554734X?tag=NYTBS...</td>\n",
       "      <td></td>\n",
       "      <td></td>\n",
       "      <td></td>\n",
       "      <td></td>\n",
       "      <td></td>\n",
       "      <td>[{'isbn10': '038554734X', 'isbn13': '978038554...</td>\n",
       "      <td>[{'name': 'Amazon', 'url': 'https://www.amazon...</td>\n",
       "      <td>nyt://book/717e0ead-9782-567d-af27-d9a6cfb1856f</td>\n",
       "    </tr>\n",
       "    <tr>\n",
       "      <th>3</th>\n",
       "      <td>4</td>\n",
       "      <td>4</td>\n",
       "      <td>54</td>\n",
       "      <td>0</td>\n",
       "      <td>0</td>\n",
       "      <td>1538724731</td>\n",
       "      <td>9781538724736</td>\n",
       "      <td>Grand Central</td>\n",
       "      <td>Lowen Ashleigh is hired by the husband of an i...</td>\n",
       "      <td>0.00</td>\n",
       "      <td>VERITY</td>\n",
       "      <td>Colleen Hoover</td>\n",
       "      <td>by Colleen Hoover</td>\n",
       "      <td></td>\n",
       "      <td>https://storage.googleapis.com/du-prd/books/im...</td>\n",
       "      <td>324</td>\n",
       "      <td>500</td>\n",
       "      <td>https://www.amazon.com/dp/1791392792?tag=NYTBS...</td>\n",
       "      <td></td>\n",
       "      <td></td>\n",
       "      <td></td>\n",
       "      <td></td>\n",
       "      <td></td>\n",
       "      <td>[{'isbn10': '1791392792', 'isbn13': '978179139...</td>\n",
       "      <td>[{'name': 'Amazon', 'url': 'https://www.amazon...</td>\n",
       "      <td>nyt://book/013c7729-a1de-5e5c-921a-da43243f9a4a</td>\n",
       "    </tr>\n",
       "    <tr>\n",
       "      <th>4</th>\n",
       "      <td>5</td>\n",
       "      <td>5</td>\n",
       "      <td>9</td>\n",
       "      <td>0</td>\n",
       "      <td>0</td>\n",
       "      <td>0385548923</td>\n",
       "      <td>9780385548922</td>\n",
       "      <td>Doubleday</td>\n",
       "      <td>Two childhood friends follow in their fathers’...</td>\n",
       "      <td>0.00</td>\n",
       "      <td>THE BOYS FROM BILOXI</td>\n",
       "      <td>John Grisham</td>\n",
       "      <td>by John Grisham</td>\n",
       "      <td></td>\n",
       "      <td>https://storage.googleapis.com/du-prd/books/im...</td>\n",
       "      <td>329</td>\n",
       "      <td>500</td>\n",
       "      <td>https://www.amazon.com/dp/0385548923?tag=NYTBS...</td>\n",
       "      <td></td>\n",
       "      <td></td>\n",
       "      <td></td>\n",
       "      <td></td>\n",
       "      <td></td>\n",
       "      <td>[{'isbn10': '0385548923', 'isbn13': '978038554...</td>\n",
       "      <td>[{'name': 'Amazon', 'url': 'https://www.amazon...</td>\n",
       "      <td>nyt://book/b59f42c0-d9d0-5535-bf4b-21e5d04d3a46</td>\n",
       "    </tr>\n",
       "  </tbody>\n",
       "</table>\n",
       "</div>"
      ],
      "text/plain": [
       "   rank  rank_last_week  weeks_on_list  asterisk  dagger primary_isbn10  \\\n",
       "0     1               1              9         0       0     1668001225   \n",
       "1     2               2             79         0       0     1501110365   \n",
       "2     3               3              6         0       0     038554734X   \n",
       "3     4               4             54         0       0     1538724731   \n",
       "4     5               5              9         0       0     0385548923   \n",
       "\n",
       "  primary_isbn13      publisher  \\\n",
       "0  9781668001226          Atria   \n",
       "1  9781501110368          Atria   \n",
       "2  9780385547345      Doubleday   \n",
       "3  9781538724736  Grand Central   \n",
       "4  9780385548922      Doubleday   \n",
       "\n",
       "                                         description price  \\\n",
       "0  In the sequel to “It Ends With Us,” Lily deals...  0.00   \n",
       "1  A battered wife raised in a violent home attem...  0.00   \n",
       "2  A scientist and single mother living in Califo...  0.00   \n",
       "3  Lowen Ashleigh is hired by the husband of an i...  0.00   \n",
       "4  Two childhood friends follow in their fathers’...  0.00   \n",
       "\n",
       "                  title          author        contributor contributor_note  \\\n",
       "0     IT STARTS WITH US  Colleen Hoover  by Colleen Hoover                    \n",
       "1       IT ENDS WITH US  Colleen Hoover  by Colleen Hoover                    \n",
       "2  LESSONS IN CHEMISTRY   Bonnie Garmus   by Bonnie Garmus                    \n",
       "3                VERITY  Colleen Hoover  by Colleen Hoover                    \n",
       "4  THE BOYS FROM BILOXI    John Grisham    by John Grisham                    \n",
       "\n",
       "                                          book_image  book_image_width  \\\n",
       "0  https://storage.googleapis.com/du-prd/books/im...               322   \n",
       "1  https://storage.googleapis.com/du-prd/books/im...               319   \n",
       "2  https://storage.googleapis.com/du-prd/books/im...               328   \n",
       "3  https://storage.googleapis.com/du-prd/books/im...               324   \n",
       "4  https://storage.googleapis.com/du-prd/books/im...               329   \n",
       "\n",
       "   book_image_height                                 amazon_product_url  \\\n",
       "0                500  https://www.amazon.com/dp/1668001225?tag=NYTBS...   \n",
       "1                495  http://www.amazon.com/Ends-Us-Novel-Colleen-Ho...   \n",
       "2                500  https://www.amazon.com/dp/038554734X?tag=NYTBS...   \n",
       "3                500  https://www.amazon.com/dp/1791392792?tag=NYTBS...   \n",
       "4                500  https://www.amazon.com/dp/0385548923?tag=NYTBS...   \n",
       "\n",
       "  age_group book_review_link first_chapter_link sunday_review_link  \\\n",
       "0                                                                    \n",
       "1                                                                    \n",
       "2                                                                    \n",
       "3                                                                    \n",
       "4                                                                    \n",
       "\n",
       "  article_chapter_link                                              isbns  \\\n",
       "0                       [{'isbn10': '1668001225', 'isbn13': '978166800...   \n",
       "1                       [{'isbn10': '1501110365', 'isbn13': '978150111...   \n",
       "2                       [{'isbn10': '038554734X', 'isbn13': '978038554...   \n",
       "3                       [{'isbn10': '1791392792', 'isbn13': '978179139...   \n",
       "4                       [{'isbn10': '0385548923', 'isbn13': '978038554...   \n",
       "\n",
       "                                           buy_links  \\\n",
       "0  [{'name': 'Amazon', 'url': 'https://www.amazon...   \n",
       "1  [{'name': 'Amazon', 'url': 'http://www.amazon....   \n",
       "2  [{'name': 'Amazon', 'url': 'https://www.amazon...   \n",
       "3  [{'name': 'Amazon', 'url': 'https://www.amazon...   \n",
       "4  [{'name': 'Amazon', 'url': 'https://www.amazon...   \n",
       "\n",
       "                                          book_uri  \n",
       "0  nyt://book/3aa85e47-4df9-53ef-9957-a77753d3502c  \n",
       "1  nyt://book/e2a3545e-e9cb-5828-9d97-50a798a0e4f6  \n",
       "2  nyt://book/717e0ead-9782-567d-af27-d9a6cfb1856f  \n",
       "3  nyt://book/013c7729-a1de-5e5c-921a-da43243f9a4a  \n",
       "4  nyt://book/b59f42c0-d9d0-5535-bf4b-21e5d04d3a46  "
      ]
     },
     "execution_count": 26,
     "metadata": {},
     "output_type": "execute_result"
    }
   ],
   "source": [
    "bs.head()"
   ]
  },
  {
   "cell_type": "code",
   "execution_count": 27,
   "metadata": {},
   "outputs": [
    {
     "name": "stdout",
     "output_type": "stream",
     "text": [
      "<class 'pandas.core.frame.DataFrame'>\n",
      "RangeIndex: 15 entries, 0 to 14\n",
      "Data columns (total 26 columns):\n",
      " #   Column                Non-Null Count  Dtype \n",
      "---  ------                --------------  ----- \n",
      " 0   rank                  15 non-null     int64 \n",
      " 1   rank_last_week        15 non-null     int64 \n",
      " 2   weeks_on_list         15 non-null     int64 \n",
      " 3   asterisk              15 non-null     int64 \n",
      " 4   dagger                15 non-null     int64 \n",
      " 5   primary_isbn10        15 non-null     object\n",
      " 6   primary_isbn13        15 non-null     object\n",
      " 7   publisher             15 non-null     object\n",
      " 8   description           15 non-null     object\n",
      " 9   price                 15 non-null     object\n",
      " 10  title                 15 non-null     object\n",
      " 11  author                15 non-null     object\n",
      " 12  contributor           15 non-null     object\n",
      " 13  contributor_note      15 non-null     object\n",
      " 14  book_image            15 non-null     object\n",
      " 15  book_image_width      15 non-null     int64 \n",
      " 16  book_image_height     15 non-null     int64 \n",
      " 17  amazon_product_url    15 non-null     object\n",
      " 18  age_group             15 non-null     object\n",
      " 19  book_review_link      15 non-null     object\n",
      " 20  first_chapter_link    15 non-null     object\n",
      " 21  sunday_review_link    15 non-null     object\n",
      " 22  article_chapter_link  15 non-null     object\n",
      " 23  isbns                 15 non-null     object\n",
      " 24  buy_links             15 non-null     object\n",
      " 25  book_uri              15 non-null     object\n",
      "dtypes: int64(7), object(19)\n",
      "memory usage: 3.2+ KB\n"
     ]
    }
   ],
   "source": [
    "bs.info()"
   ]
  },
  {
   "cell_type": "code",
   "execution_count": 28,
   "metadata": {},
   "outputs": [],
   "source": [
    "#write a function\n",
    "def parse_books(book_list, date):\n",
    "    '''\n",
    "    Takes a response from NYT API and parses book into list of dictionaries\n",
    "    '''\n",
    "\n",
    "    books = []\n",
    "    for i in book_list['results']['books']:\n",
    "        dic = {}\n",
    "        dic['age_group'] = i['age_group']\n",
    "        dic['author'] = i['author'].encode(\"utf8\")\n",
    "        dic['book_review_link'] = i['book_review_link'].encode(\"utf8\")\n",
    "        dic['contributor'] = i['contributor'].encode(\"utf8\")\n",
    "        dic['dagger'] = i['dagger']\n",
    "        dic['first_chapter_link'] = i['first_chapter_link'].encode(\"utf8\")\n",
    "        dic['price'] = i['price']\n",
    "        dic['primary_isbn10'] = i['primary_isbn10'].encode(\"utf8\")\n",
    "        dic['primary_isbn13'] = i['primary_isbn13'].encode(\"utf8\")\n",
    "        dic['publisher'] = i['publisher'].encode(\"utf8\")\n",
    "        dic['sunday_review_link'] = i['sunday_review_link'].encode(\"utf8\")\n",
    "        dic['title'] = i['title'].encode(\"utf8\")\n",
    "        dic['weeks_on_list'] = i['weeks_on_list']\n",
    "        dic['date'] = date  # add a date so that we know when it was a best-seller\n",
    "        books.append(dic)\n",
    "    return(books)  \n"
   ]
  },
  {
   "cell_type": "code",
   "execution_count": 29,
   "metadata": {},
   "outputs": [
    {
     "name": "stdout",
     "output_type": "stream",
     "text": [
      "2023-05-15\n",
      "https://api.nytimes.com/svc/books/v3/lists/2023-05-15/combined-print-and-e-book-fiction?api-key=P1yDSg62Aydsdh04WBBuS57pYbpBu2tb\n"
     ]
    },
    {
     "name": "stderr",
     "output_type": "stream",
     "text": [
      "C:\\Users\\melan\\AppData\\Local\\Temp\\ipykernel_3744\\2623874419.py:28: FutureWarning: pandas.io.json.json_normalize is deprecated, use pandas.json_normalize instead.\n",
      "  books = json_normalize(results[\"results\"][\"books\"])\n"
     ]
    },
    {
     "name": "stdout",
     "output_type": "stream",
     "text": [
      "2023-05-08\n",
      "https://api.nytimes.com/svc/books/v3/lists/2023-05-08/combined-print-and-e-book-fiction?api-key=P1yDSg62Aydsdh04WBBuS57pYbpBu2tb\n"
     ]
    },
    {
     "name": "stderr",
     "output_type": "stream",
     "text": [
      "C:\\Users\\melan\\AppData\\Local\\Temp\\ipykernel_3744\\2623874419.py:28: FutureWarning: pandas.io.json.json_normalize is deprecated, use pandas.json_normalize instead.\n",
      "  books = json_normalize(results[\"results\"][\"books\"])\n"
     ]
    },
    {
     "name": "stdout",
     "output_type": "stream",
     "text": [
      "2023-05-01\n",
      "https://api.nytimes.com/svc/books/v3/lists/2023-05-01/combined-print-and-e-book-fiction?api-key=P1yDSg62Aydsdh04WBBuS57pYbpBu2tb\n"
     ]
    },
    {
     "name": "stderr",
     "output_type": "stream",
     "text": [
      "C:\\Users\\melan\\AppData\\Local\\Temp\\ipykernel_3744\\2623874419.py:28: FutureWarning: pandas.io.json.json_normalize is deprecated, use pandas.json_normalize instead.\n",
      "  books = json_normalize(results[\"results\"][\"books\"])\n"
     ]
    },
    {
     "name": "stdout",
     "output_type": "stream",
     "text": [
      "2023-04-24\n",
      "https://api.nytimes.com/svc/books/v3/lists/2023-04-24/combined-print-and-e-book-fiction?api-key=P1yDSg62Aydsdh04WBBuS57pYbpBu2tb\n"
     ]
    },
    {
     "name": "stderr",
     "output_type": "stream",
     "text": [
      "C:\\Users\\melan\\AppData\\Local\\Temp\\ipykernel_3744\\2623874419.py:28: FutureWarning: pandas.io.json.json_normalize is deprecated, use pandas.json_normalize instead.\n",
      "  books = json_normalize(results[\"results\"][\"books\"])\n"
     ]
    },
    {
     "name": "stdout",
     "output_type": "stream",
     "text": [
      "2023-04-17\n",
      "https://api.nytimes.com/svc/books/v3/lists/2023-04-17/combined-print-and-e-book-fiction?api-key=P1yDSg62Aydsdh04WBBuS57pYbpBu2tb\n"
     ]
    },
    {
     "name": "stderr",
     "output_type": "stream",
     "text": [
      "C:\\Users\\melan\\AppData\\Local\\Temp\\ipykernel_3744\\2623874419.py:28: FutureWarning: pandas.io.json.json_normalize is deprecated, use pandas.json_normalize instead.\n",
      "  books = json_normalize(results[\"results\"][\"books\"])\n"
     ]
    },
    {
     "name": "stdout",
     "output_type": "stream",
     "text": [
      "2023-04-10\n",
      "https://api.nytimes.com/svc/books/v3/lists/2023-04-10/combined-print-and-e-book-fiction?api-key=P1yDSg62Aydsdh04WBBuS57pYbpBu2tb\n"
     ]
    },
    {
     "name": "stderr",
     "output_type": "stream",
     "text": [
      "C:\\Users\\melan\\AppData\\Local\\Temp\\ipykernel_3744\\2623874419.py:28: FutureWarning: pandas.io.json.json_normalize is deprecated, use pandas.json_normalize instead.\n",
      "  books = json_normalize(results[\"results\"][\"books\"])\n"
     ]
    },
    {
     "name": "stdout",
     "output_type": "stream",
     "text": [
      "2023-04-03\n",
      "https://api.nytimes.com/svc/books/v3/lists/2023-04-03/combined-print-and-e-book-fiction?api-key=P1yDSg62Aydsdh04WBBuS57pYbpBu2tb\n"
     ]
    },
    {
     "name": "stderr",
     "output_type": "stream",
     "text": [
      "C:\\Users\\melan\\AppData\\Local\\Temp\\ipykernel_3744\\2623874419.py:28: FutureWarning: pandas.io.json.json_normalize is deprecated, use pandas.json_normalize instead.\n",
      "  books = json_normalize(results[\"results\"][\"books\"])\n"
     ]
    },
    {
     "name": "stdout",
     "output_type": "stream",
     "text": [
      "2023-03-27\n",
      "https://api.nytimes.com/svc/books/v3/lists/2023-03-27/combined-print-and-e-book-fiction?api-key=P1yDSg62Aydsdh04WBBuS57pYbpBu2tb\n"
     ]
    },
    {
     "name": "stderr",
     "output_type": "stream",
     "text": [
      "C:\\Users\\melan\\AppData\\Local\\Temp\\ipykernel_3744\\2623874419.py:28: FutureWarning: pandas.io.json.json_normalize is deprecated, use pandas.json_normalize instead.\n",
      "  books = json_normalize(results[\"results\"][\"books\"])\n"
     ]
    },
    {
     "name": "stdout",
     "output_type": "stream",
     "text": [
      "2023-03-20\n",
      "https://api.nytimes.com/svc/books/v3/lists/2023-03-20/combined-print-and-e-book-fiction?api-key=P1yDSg62Aydsdh04WBBuS57pYbpBu2tb\n"
     ]
    },
    {
     "name": "stderr",
     "output_type": "stream",
     "text": [
      "C:\\Users\\melan\\AppData\\Local\\Temp\\ipykernel_3744\\2623874419.py:28: FutureWarning: pandas.io.json.json_normalize is deprecated, use pandas.json_normalize instead.\n",
      "  books = json_normalize(results[\"results\"][\"books\"])\n"
     ]
    },
    {
     "name": "stdout",
     "output_type": "stream",
     "text": [
      "2023-03-13\n",
      "https://api.nytimes.com/svc/books/v3/lists/2023-03-13/combined-print-and-e-book-fiction?api-key=P1yDSg62Aydsdh04WBBuS57pYbpBu2tb\n"
     ]
    },
    {
     "name": "stderr",
     "output_type": "stream",
     "text": [
      "C:\\Users\\melan\\AppData\\Local\\Temp\\ipykernel_3744\\2623874419.py:28: FutureWarning: pandas.io.json.json_normalize is deprecated, use pandas.json_normalize instead.\n",
      "  books = json_normalize(results[\"results\"][\"books\"])\n"
     ]
    },
    {
     "name": "stdout",
     "output_type": "stream",
     "text": [
      "2023-03-06\n",
      "https://api.nytimes.com/svc/books/v3/lists/2023-03-06/combined-print-and-e-book-fiction?api-key=P1yDSg62Aydsdh04WBBuS57pYbpBu2tb\n"
     ]
    },
    {
     "name": "stderr",
     "output_type": "stream",
     "text": [
      "C:\\Users\\melan\\AppData\\Local\\Temp\\ipykernel_3744\\2623874419.py:28: FutureWarning: pandas.io.json.json_normalize is deprecated, use pandas.json_normalize instead.\n",
      "  books = json_normalize(results[\"results\"][\"books\"])\n"
     ]
    },
    {
     "name": "stdout",
     "output_type": "stream",
     "text": [
      "2023-02-27\n",
      "https://api.nytimes.com/svc/books/v3/lists/2023-02-27/combined-print-and-e-book-fiction?api-key=P1yDSg62Aydsdh04WBBuS57pYbpBu2tb\n"
     ]
    },
    {
     "name": "stderr",
     "output_type": "stream",
     "text": [
      "C:\\Users\\melan\\AppData\\Local\\Temp\\ipykernel_3744\\2623874419.py:28: FutureWarning: pandas.io.json.json_normalize is deprecated, use pandas.json_normalize instead.\n",
      "  books = json_normalize(results[\"results\"][\"books\"])\n"
     ]
    },
    {
     "name": "stdout",
     "output_type": "stream",
     "text": [
      "2023-02-20\n",
      "https://api.nytimes.com/svc/books/v3/lists/2023-02-20/combined-print-and-e-book-fiction?api-key=P1yDSg62Aydsdh04WBBuS57pYbpBu2tb\n"
     ]
    },
    {
     "name": "stderr",
     "output_type": "stream",
     "text": [
      "C:\\Users\\melan\\AppData\\Local\\Temp\\ipykernel_3744\\2623874419.py:28: FutureWarning: pandas.io.json.json_normalize is deprecated, use pandas.json_normalize instead.\n",
      "  books = json_normalize(results[\"results\"][\"books\"])\n"
     ]
    },
    {
     "name": "stdout",
     "output_type": "stream",
     "text": [
      "2023-02-13\n",
      "https://api.nytimes.com/svc/books/v3/lists/2023-02-13/combined-print-and-e-book-fiction?api-key=P1yDSg62Aydsdh04WBBuS57pYbpBu2tb\n"
     ]
    },
    {
     "name": "stderr",
     "output_type": "stream",
     "text": [
      "C:\\Users\\melan\\AppData\\Local\\Temp\\ipykernel_3744\\2623874419.py:28: FutureWarning: pandas.io.json.json_normalize is deprecated, use pandas.json_normalize instead.\n",
      "  books = json_normalize(results[\"results\"][\"books\"])\n"
     ]
    },
    {
     "name": "stdout",
     "output_type": "stream",
     "text": [
      "2023-02-06\n",
      "https://api.nytimes.com/svc/books/v3/lists/2023-02-06/combined-print-and-e-book-fiction?api-key=P1yDSg62Aydsdh04WBBuS57pYbpBu2tb\n"
     ]
    },
    {
     "name": "stderr",
     "output_type": "stream",
     "text": [
      "C:\\Users\\melan\\AppData\\Local\\Temp\\ipykernel_3744\\2623874419.py:28: FutureWarning: pandas.io.json.json_normalize is deprecated, use pandas.json_normalize instead.\n",
      "  books = json_normalize(results[\"results\"][\"books\"])\n"
     ]
    },
    {
     "name": "stdout",
     "output_type": "stream",
     "text": [
      "2023-01-30\n",
      "https://api.nytimes.com/svc/books/v3/lists/2023-01-30/combined-print-and-e-book-fiction?api-key=P1yDSg62Aydsdh04WBBuS57pYbpBu2tb\n"
     ]
    },
    {
     "name": "stderr",
     "output_type": "stream",
     "text": [
      "C:\\Users\\melan\\AppData\\Local\\Temp\\ipykernel_3744\\2623874419.py:28: FutureWarning: pandas.io.json.json_normalize is deprecated, use pandas.json_normalize instead.\n",
      "  books = json_normalize(results[\"results\"][\"books\"])\n"
     ]
    },
    {
     "name": "stdout",
     "output_type": "stream",
     "text": [
      "2023-01-23\n",
      "https://api.nytimes.com/svc/books/v3/lists/2023-01-23/combined-print-and-e-book-fiction?api-key=P1yDSg62Aydsdh04WBBuS57pYbpBu2tb\n"
     ]
    },
    {
     "name": "stderr",
     "output_type": "stream",
     "text": [
      "C:\\Users\\melan\\AppData\\Local\\Temp\\ipykernel_3744\\2623874419.py:28: FutureWarning: pandas.io.json.json_normalize is deprecated, use pandas.json_normalize instead.\n",
      "  books = json_normalize(results[\"results\"][\"books\"])\n"
     ]
    },
    {
     "name": "stdout",
     "output_type": "stream",
     "text": [
      "2023-01-16\n",
      "https://api.nytimes.com/svc/books/v3/lists/2023-01-16/combined-print-and-e-book-fiction?api-key=P1yDSg62Aydsdh04WBBuS57pYbpBu2tb\n"
     ]
    },
    {
     "name": "stderr",
     "output_type": "stream",
     "text": [
      "C:\\Users\\melan\\AppData\\Local\\Temp\\ipykernel_3744\\2623874419.py:28: FutureWarning: pandas.io.json.json_normalize is deprecated, use pandas.json_normalize instead.\n",
      "  books = json_normalize(results[\"results\"][\"books\"])\n"
     ]
    },
    {
     "name": "stdout",
     "output_type": "stream",
     "text": [
      "2023-01-09\n",
      "https://api.nytimes.com/svc/books/v3/lists/2023-01-09/combined-print-and-e-book-fiction?api-key=P1yDSg62Aydsdh04WBBuS57pYbpBu2tb\n"
     ]
    },
    {
     "name": "stderr",
     "output_type": "stream",
     "text": [
      "C:\\Users\\melan\\AppData\\Local\\Temp\\ipykernel_3744\\2623874419.py:28: FutureWarning: pandas.io.json.json_normalize is deprecated, use pandas.json_normalize instead.\n",
      "  books = json_normalize(results[\"results\"][\"books\"])\n"
     ]
    },
    {
     "name": "stdout",
     "output_type": "stream",
     "text": [
      "2023-01-02\n",
      "https://api.nytimes.com/svc/books/v3/lists/2023-01-02/combined-print-and-e-book-fiction?api-key=P1yDSg62Aydsdh04WBBuS57pYbpBu2tb\n"
     ]
    },
    {
     "name": "stderr",
     "output_type": "stream",
     "text": [
      "C:\\Users\\melan\\AppData\\Local\\Temp\\ipykernel_3744\\2623874419.py:28: FutureWarning: pandas.io.json.json_normalize is deprecated, use pandas.json_normalize instead.\n",
      "  books = json_normalize(results[\"results\"][\"books\"])\n"
     ]
    },
    {
     "name": "stdout",
     "output_type": "stream",
     "text": [
      "2022-12-26\n",
      "https://api.nytimes.com/svc/books/v3/lists/2022-12-26/combined-print-and-e-book-fiction?api-key=P1yDSg62Aydsdh04WBBuS57pYbpBu2tb\n"
     ]
    },
    {
     "name": "stderr",
     "output_type": "stream",
     "text": [
      "C:\\Users\\melan\\AppData\\Local\\Temp\\ipykernel_3744\\2623874419.py:28: FutureWarning: pandas.io.json.json_normalize is deprecated, use pandas.json_normalize instead.\n",
      "  books = json_normalize(results[\"results\"][\"books\"])\n"
     ]
    },
    {
     "name": "stdout",
     "output_type": "stream",
     "text": [
      "2022-12-19\n",
      "https://api.nytimes.com/svc/books/v3/lists/2022-12-19/combined-print-and-e-book-fiction?api-key=P1yDSg62Aydsdh04WBBuS57pYbpBu2tb\n"
     ]
    },
    {
     "name": "stderr",
     "output_type": "stream",
     "text": [
      "C:\\Users\\melan\\AppData\\Local\\Temp\\ipykernel_3744\\2623874419.py:28: FutureWarning: pandas.io.json.json_normalize is deprecated, use pandas.json_normalize instead.\n",
      "  books = json_normalize(results[\"results\"][\"books\"])\n"
     ]
    },
    {
     "name": "stdout",
     "output_type": "stream",
     "text": [
      "2022-12-12\n",
      "https://api.nytimes.com/svc/books/v3/lists/2022-12-12/combined-print-and-e-book-fiction?api-key=P1yDSg62Aydsdh04WBBuS57pYbpBu2tb\n"
     ]
    },
    {
     "name": "stderr",
     "output_type": "stream",
     "text": [
      "C:\\Users\\melan\\AppData\\Local\\Temp\\ipykernel_3744\\2623874419.py:28: FutureWarning: pandas.io.json.json_normalize is deprecated, use pandas.json_normalize instead.\n",
      "  books = json_normalize(results[\"results\"][\"books\"])\n"
     ]
    },
    {
     "name": "stdout",
     "output_type": "stream",
     "text": [
      "2022-12-05\n",
      "https://api.nytimes.com/svc/books/v3/lists/2022-12-05/combined-print-and-e-book-fiction?api-key=P1yDSg62Aydsdh04WBBuS57pYbpBu2tb\n"
     ]
    },
    {
     "name": "stderr",
     "output_type": "stream",
     "text": [
      "C:\\Users\\melan\\AppData\\Local\\Temp\\ipykernel_3744\\2623874419.py:28: FutureWarning: pandas.io.json.json_normalize is deprecated, use pandas.json_normalize instead.\n",
      "  books = json_normalize(results[\"results\"][\"books\"])\n"
     ]
    },
    {
     "name": "stdout",
     "output_type": "stream",
     "text": [
      "2022-11-28\n",
      "https://api.nytimes.com/svc/books/v3/lists/2022-11-28/combined-print-and-e-book-fiction?api-key=P1yDSg62Aydsdh04WBBuS57pYbpBu2tb\n"
     ]
    },
    {
     "name": "stderr",
     "output_type": "stream",
     "text": [
      "C:\\Users\\melan\\AppData\\Local\\Temp\\ipykernel_3744\\2623874419.py:28: FutureWarning: pandas.io.json.json_normalize is deprecated, use pandas.json_normalize instead.\n",
      "  books = json_normalize(results[\"results\"][\"books\"])\n"
     ]
    },
    {
     "name": "stdout",
     "output_type": "stream",
     "text": [
      "2022-11-21\n",
      "https://api.nytimes.com/svc/books/v3/lists/2022-11-21/combined-print-and-e-book-fiction?api-key=P1yDSg62Aydsdh04WBBuS57pYbpBu2tb\n"
     ]
    },
    {
     "name": "stderr",
     "output_type": "stream",
     "text": [
      "C:\\Users\\melan\\AppData\\Local\\Temp\\ipykernel_3744\\2623874419.py:28: FutureWarning: pandas.io.json.json_normalize is deprecated, use pandas.json_normalize instead.\n",
      "  books = json_normalize(results[\"results\"][\"books\"])\n"
     ]
    },
    {
     "name": "stdout",
     "output_type": "stream",
     "text": [
      "2022-11-14\n",
      "https://api.nytimes.com/svc/books/v3/lists/2022-11-14/combined-print-and-e-book-fiction?api-key=P1yDSg62Aydsdh04WBBuS57pYbpBu2tb\n"
     ]
    },
    {
     "name": "stderr",
     "output_type": "stream",
     "text": [
      "C:\\Users\\melan\\AppData\\Local\\Temp\\ipykernel_3744\\2623874419.py:28: FutureWarning: pandas.io.json.json_normalize is deprecated, use pandas.json_normalize instead.\n",
      "  books = json_normalize(results[\"results\"][\"books\"])\n"
     ]
    },
    {
     "name": "stdout",
     "output_type": "stream",
     "text": [
      "2022-11-07\n",
      "https://api.nytimes.com/svc/books/v3/lists/2022-11-07/combined-print-and-e-book-fiction?api-key=P1yDSg62Aydsdh04WBBuS57pYbpBu2tb\n"
     ]
    },
    {
     "name": "stderr",
     "output_type": "stream",
     "text": [
      "C:\\Users\\melan\\AppData\\Local\\Temp\\ipykernel_3744\\2623874419.py:28: FutureWarning: pandas.io.json.json_normalize is deprecated, use pandas.json_normalize instead.\n",
      "  books = json_normalize(results[\"results\"][\"books\"])\n"
     ]
    },
    {
     "name": "stdout",
     "output_type": "stream",
     "text": [
      "2022-10-31\n",
      "https://api.nytimes.com/svc/books/v3/lists/2022-10-31/combined-print-and-e-book-fiction?api-key=P1yDSg62Aydsdh04WBBuS57pYbpBu2tb\n"
     ]
    },
    {
     "name": "stderr",
     "output_type": "stream",
     "text": [
      "C:\\Users\\melan\\AppData\\Local\\Temp\\ipykernel_3744\\2623874419.py:28: FutureWarning: pandas.io.json.json_normalize is deprecated, use pandas.json_normalize instead.\n",
      "  books = json_normalize(results[\"results\"][\"books\"])\n"
     ]
    },
    {
     "name": "stdout",
     "output_type": "stream",
     "text": [
      "2022-10-24\n",
      "https://api.nytimes.com/svc/books/v3/lists/2022-10-24/combined-print-and-e-book-fiction?api-key=P1yDSg62Aydsdh04WBBuS57pYbpBu2tb\n"
     ]
    },
    {
     "name": "stderr",
     "output_type": "stream",
     "text": [
      "C:\\Users\\melan\\AppData\\Local\\Temp\\ipykernel_3744\\2623874419.py:28: FutureWarning: pandas.io.json.json_normalize is deprecated, use pandas.json_normalize instead.\n",
      "  books = json_normalize(results[\"results\"][\"books\"])\n"
     ]
    },
    {
     "name": "stdout",
     "output_type": "stream",
     "text": [
      "2022-10-17\n",
      "https://api.nytimes.com/svc/books/v3/lists/2022-10-17/combined-print-and-e-book-fiction?api-key=P1yDSg62Aydsdh04WBBuS57pYbpBu2tb\n"
     ]
    },
    {
     "name": "stderr",
     "output_type": "stream",
     "text": [
      "C:\\Users\\melan\\AppData\\Local\\Temp\\ipykernel_3744\\2623874419.py:28: FutureWarning: pandas.io.json.json_normalize is deprecated, use pandas.json_normalize instead.\n",
      "  books = json_normalize(results[\"results\"][\"books\"])\n"
     ]
    },
    {
     "name": "stdout",
     "output_type": "stream",
     "text": [
      "2022-10-10\n",
      "https://api.nytimes.com/svc/books/v3/lists/2022-10-10/combined-print-and-e-book-fiction?api-key=P1yDSg62Aydsdh04WBBuS57pYbpBu2tb\n"
     ]
    },
    {
     "name": "stderr",
     "output_type": "stream",
     "text": [
      "C:\\Users\\melan\\AppData\\Local\\Temp\\ipykernel_3744\\2623874419.py:28: FutureWarning: pandas.io.json.json_normalize is deprecated, use pandas.json_normalize instead.\n",
      "  books = json_normalize(results[\"results\"][\"books\"])\n"
     ]
    },
    {
     "name": "stdout",
     "output_type": "stream",
     "text": [
      "2022-10-03\n",
      "https://api.nytimes.com/svc/books/v3/lists/2022-10-03/combined-print-and-e-book-fiction?api-key=P1yDSg62Aydsdh04WBBuS57pYbpBu2tb\n"
     ]
    },
    {
     "name": "stderr",
     "output_type": "stream",
     "text": [
      "C:\\Users\\melan\\AppData\\Local\\Temp\\ipykernel_3744\\2623874419.py:28: FutureWarning: pandas.io.json.json_normalize is deprecated, use pandas.json_normalize instead.\n",
      "  books = json_normalize(results[\"results\"][\"books\"])\n"
     ]
    },
    {
     "name": "stdout",
     "output_type": "stream",
     "text": [
      "2022-09-26\n",
      "https://api.nytimes.com/svc/books/v3/lists/2022-09-26/combined-print-and-e-book-fiction?api-key=P1yDSg62Aydsdh04WBBuS57pYbpBu2tb\n"
     ]
    },
    {
     "name": "stderr",
     "output_type": "stream",
     "text": [
      "C:\\Users\\melan\\AppData\\Local\\Temp\\ipykernel_3744\\2623874419.py:28: FutureWarning: pandas.io.json.json_normalize is deprecated, use pandas.json_normalize instead.\n",
      "  books = json_normalize(results[\"results\"][\"books\"])\n"
     ]
    },
    {
     "name": "stdout",
     "output_type": "stream",
     "text": [
      "2022-09-19\n",
      "https://api.nytimes.com/svc/books/v3/lists/2022-09-19/combined-print-and-e-book-fiction?api-key=P1yDSg62Aydsdh04WBBuS57pYbpBu2tb\n"
     ]
    },
    {
     "name": "stderr",
     "output_type": "stream",
     "text": [
      "C:\\Users\\melan\\AppData\\Local\\Temp\\ipykernel_3744\\2623874419.py:28: FutureWarning: pandas.io.json.json_normalize is deprecated, use pandas.json_normalize instead.\n",
      "  books = json_normalize(results[\"results\"][\"books\"])\n"
     ]
    },
    {
     "name": "stdout",
     "output_type": "stream",
     "text": [
      "2022-09-12\n",
      "https://api.nytimes.com/svc/books/v3/lists/2022-09-12/combined-print-and-e-book-fiction?api-key=P1yDSg62Aydsdh04WBBuS57pYbpBu2tb\n"
     ]
    },
    {
     "name": "stderr",
     "output_type": "stream",
     "text": [
      "C:\\Users\\melan\\AppData\\Local\\Temp\\ipykernel_3744\\2623874419.py:28: FutureWarning: pandas.io.json.json_normalize is deprecated, use pandas.json_normalize instead.\n",
      "  books = json_normalize(results[\"results\"][\"books\"])\n"
     ]
    },
    {
     "name": "stdout",
     "output_type": "stream",
     "text": [
      "2022-09-05\n",
      "https://api.nytimes.com/svc/books/v3/lists/2022-09-05/combined-print-and-e-book-fiction?api-key=P1yDSg62Aydsdh04WBBuS57pYbpBu2tb\n"
     ]
    },
    {
     "name": "stderr",
     "output_type": "stream",
     "text": [
      "C:\\Users\\melan\\AppData\\Local\\Temp\\ipykernel_3744\\2623874419.py:28: FutureWarning: pandas.io.json.json_normalize is deprecated, use pandas.json_normalize instead.\n",
      "  books = json_normalize(results[\"results\"][\"books\"])\n"
     ]
    },
    {
     "name": "stdout",
     "output_type": "stream",
     "text": [
      "2022-08-29\n",
      "https://api.nytimes.com/svc/books/v3/lists/2022-08-29/combined-print-and-e-book-fiction?api-key=P1yDSg62Aydsdh04WBBuS57pYbpBu2tb\n"
     ]
    },
    {
     "name": "stderr",
     "output_type": "stream",
     "text": [
      "C:\\Users\\melan\\AppData\\Local\\Temp\\ipykernel_3744\\2623874419.py:28: FutureWarning: pandas.io.json.json_normalize is deprecated, use pandas.json_normalize instead.\n",
      "  books = json_normalize(results[\"results\"][\"books\"])\n"
     ]
    },
    {
     "name": "stdout",
     "output_type": "stream",
     "text": [
      "2022-08-22\n",
      "https://api.nytimes.com/svc/books/v3/lists/2022-08-22/combined-print-and-e-book-fiction?api-key=P1yDSg62Aydsdh04WBBuS57pYbpBu2tb\n"
     ]
    },
    {
     "name": "stderr",
     "output_type": "stream",
     "text": [
      "C:\\Users\\melan\\AppData\\Local\\Temp\\ipykernel_3744\\2623874419.py:28: FutureWarning: pandas.io.json.json_normalize is deprecated, use pandas.json_normalize instead.\n",
      "  books = json_normalize(results[\"results\"][\"books\"])\n"
     ]
    },
    {
     "name": "stdout",
     "output_type": "stream",
     "text": [
      "2022-08-15\n",
      "https://api.nytimes.com/svc/books/v3/lists/2022-08-15/combined-print-and-e-book-fiction?api-key=P1yDSg62Aydsdh04WBBuS57pYbpBu2tb\n"
     ]
    },
    {
     "name": "stderr",
     "output_type": "stream",
     "text": [
      "C:\\Users\\melan\\AppData\\Local\\Temp\\ipykernel_3744\\2623874419.py:28: FutureWarning: pandas.io.json.json_normalize is deprecated, use pandas.json_normalize instead.\n",
      "  books = json_normalize(results[\"results\"][\"books\"])\n"
     ]
    },
    {
     "name": "stdout",
     "output_type": "stream",
     "text": [
      "2022-08-08\n",
      "https://api.nytimes.com/svc/books/v3/lists/2022-08-08/combined-print-and-e-book-fiction?api-key=P1yDSg62Aydsdh04WBBuS57pYbpBu2tb\n"
     ]
    },
    {
     "name": "stderr",
     "output_type": "stream",
     "text": [
      "C:\\Users\\melan\\AppData\\Local\\Temp\\ipykernel_3744\\2623874419.py:28: FutureWarning: pandas.io.json.json_normalize is deprecated, use pandas.json_normalize instead.\n",
      "  books = json_normalize(results[\"results\"][\"books\"])\n"
     ]
    },
    {
     "name": "stdout",
     "output_type": "stream",
     "text": [
      "2022-08-01\n",
      "https://api.nytimes.com/svc/books/v3/lists/2022-08-01/combined-print-and-e-book-fiction?api-key=P1yDSg62Aydsdh04WBBuS57pYbpBu2tb\n"
     ]
    },
    {
     "name": "stderr",
     "output_type": "stream",
     "text": [
      "C:\\Users\\melan\\AppData\\Local\\Temp\\ipykernel_3744\\2623874419.py:28: FutureWarning: pandas.io.json.json_normalize is deprecated, use pandas.json_normalize instead.\n",
      "  books = json_normalize(results[\"results\"][\"books\"])\n"
     ]
    },
    {
     "name": "stdout",
     "output_type": "stream",
     "text": [
      "2022-07-25\n",
      "https://api.nytimes.com/svc/books/v3/lists/2022-07-25/combined-print-and-e-book-fiction?api-key=P1yDSg62Aydsdh04WBBuS57pYbpBu2tb\n"
     ]
    },
    {
     "name": "stderr",
     "output_type": "stream",
     "text": [
      "C:\\Users\\melan\\AppData\\Local\\Temp\\ipykernel_3744\\2623874419.py:28: FutureWarning: pandas.io.json.json_normalize is deprecated, use pandas.json_normalize instead.\n",
      "  books = json_normalize(results[\"results\"][\"books\"])\n"
     ]
    },
    {
     "name": "stdout",
     "output_type": "stream",
     "text": [
      "2022-07-18\n",
      "https://api.nytimes.com/svc/books/v3/lists/2022-07-18/combined-print-and-e-book-fiction?api-key=P1yDSg62Aydsdh04WBBuS57pYbpBu2tb\n"
     ]
    },
    {
     "name": "stderr",
     "output_type": "stream",
     "text": [
      "C:\\Users\\melan\\AppData\\Local\\Temp\\ipykernel_3744\\2623874419.py:28: FutureWarning: pandas.io.json.json_normalize is deprecated, use pandas.json_normalize instead.\n",
      "  books = json_normalize(results[\"results\"][\"books\"])\n"
     ]
    },
    {
     "name": "stdout",
     "output_type": "stream",
     "text": [
      "2022-07-11\n",
      "https://api.nytimes.com/svc/books/v3/lists/2022-07-11/combined-print-and-e-book-fiction?api-key=P1yDSg62Aydsdh04WBBuS57pYbpBu2tb\n"
     ]
    },
    {
     "name": "stderr",
     "output_type": "stream",
     "text": [
      "C:\\Users\\melan\\AppData\\Local\\Temp\\ipykernel_3744\\2623874419.py:28: FutureWarning: pandas.io.json.json_normalize is deprecated, use pandas.json_normalize instead.\n",
      "  books = json_normalize(results[\"results\"][\"books\"])\n"
     ]
    },
    {
     "name": "stdout",
     "output_type": "stream",
     "text": [
      "2022-07-04\n",
      "https://api.nytimes.com/svc/books/v3/lists/2022-07-04/combined-print-and-e-book-fiction?api-key=P1yDSg62Aydsdh04WBBuS57pYbpBu2tb\n"
     ]
    },
    {
     "name": "stderr",
     "output_type": "stream",
     "text": [
      "C:\\Users\\melan\\AppData\\Local\\Temp\\ipykernel_3744\\2623874419.py:28: FutureWarning: pandas.io.json.json_normalize is deprecated, use pandas.json_normalize instead.\n",
      "  books = json_normalize(results[\"results\"][\"books\"])\n"
     ]
    },
    {
     "name": "stdout",
     "output_type": "stream",
     "text": [
      "2022-06-27\n",
      "https://api.nytimes.com/svc/books/v3/lists/2022-06-27/combined-print-and-e-book-fiction?api-key=P1yDSg62Aydsdh04WBBuS57pYbpBu2tb\n"
     ]
    },
    {
     "name": "stderr",
     "output_type": "stream",
     "text": [
      "C:\\Users\\melan\\AppData\\Local\\Temp\\ipykernel_3744\\2623874419.py:28: FutureWarning: pandas.io.json.json_normalize is deprecated, use pandas.json_normalize instead.\n",
      "  books = json_normalize(results[\"results\"][\"books\"])\n"
     ]
    },
    {
     "name": "stdout",
     "output_type": "stream",
     "text": [
      "2022-06-20\n",
      "https://api.nytimes.com/svc/books/v3/lists/2022-06-20/combined-print-and-e-book-fiction?api-key=P1yDSg62Aydsdh04WBBuS57pYbpBu2tb\n"
     ]
    },
    {
     "name": "stderr",
     "output_type": "stream",
     "text": [
      "C:\\Users\\melan\\AppData\\Local\\Temp\\ipykernel_3744\\2623874419.py:28: FutureWarning: pandas.io.json.json_normalize is deprecated, use pandas.json_normalize instead.\n",
      "  books = json_normalize(results[\"results\"][\"books\"])\n"
     ]
    },
    {
     "name": "stdout",
     "output_type": "stream",
     "text": [
      "2022-06-13\n",
      "https://api.nytimes.com/svc/books/v3/lists/2022-06-13/combined-print-and-e-book-fiction?api-key=P1yDSg62Aydsdh04WBBuS57pYbpBu2tb\n"
     ]
    },
    {
     "name": "stderr",
     "output_type": "stream",
     "text": [
      "C:\\Users\\melan\\AppData\\Local\\Temp\\ipykernel_3744\\2623874419.py:28: FutureWarning: pandas.io.json.json_normalize is deprecated, use pandas.json_normalize instead.\n",
      "  books = json_normalize(results[\"results\"][\"books\"])\n"
     ]
    },
    {
     "name": "stdout",
     "output_type": "stream",
     "text": [
      "2022-06-06\n",
      "https://api.nytimes.com/svc/books/v3/lists/2022-06-06/combined-print-and-e-book-fiction?api-key=P1yDSg62Aydsdh04WBBuS57pYbpBu2tb\n"
     ]
    },
    {
     "name": "stderr",
     "output_type": "stream",
     "text": [
      "C:\\Users\\melan\\AppData\\Local\\Temp\\ipykernel_3744\\2623874419.py:28: FutureWarning: pandas.io.json.json_normalize is deprecated, use pandas.json_normalize instead.\n",
      "  books = json_normalize(results[\"results\"][\"books\"])\n"
     ]
    },
    {
     "name": "stdout",
     "output_type": "stream",
     "text": [
      "2022-05-30\n",
      "https://api.nytimes.com/svc/books/v3/lists/2022-05-30/combined-print-and-e-book-fiction?api-key=P1yDSg62Aydsdh04WBBuS57pYbpBu2tb\n"
     ]
    },
    {
     "name": "stderr",
     "output_type": "stream",
     "text": [
      "C:\\Users\\melan\\AppData\\Local\\Temp\\ipykernel_3744\\2623874419.py:28: FutureWarning: pandas.io.json.json_normalize is deprecated, use pandas.json_normalize instead.\n",
      "  books = json_normalize(results[\"results\"][\"books\"])\n"
     ]
    },
    {
     "name": "stdout",
     "output_type": "stream",
     "text": [
      "2022-05-23\n",
      "https://api.nytimes.com/svc/books/v3/lists/2022-05-23/combined-print-and-e-book-fiction?api-key=P1yDSg62Aydsdh04WBBuS57pYbpBu2tb\n"
     ]
    },
    {
     "name": "stderr",
     "output_type": "stream",
     "text": [
      "C:\\Users\\melan\\AppData\\Local\\Temp\\ipykernel_3744\\2623874419.py:28: FutureWarning: pandas.io.json.json_normalize is deprecated, use pandas.json_normalize instead.\n",
      "  books = json_normalize(results[\"results\"][\"books\"])\n"
     ]
    },
    {
     "name": "stdout",
     "output_type": "stream",
     "text": [
      "2022-05-16\n",
      "https://api.nytimes.com/svc/books/v3/lists/2022-05-16/combined-print-and-e-book-fiction?api-key=P1yDSg62Aydsdh04WBBuS57pYbpBu2tb\n"
     ]
    },
    {
     "name": "stderr",
     "output_type": "stream",
     "text": [
      "C:\\Users\\melan\\AppData\\Local\\Temp\\ipykernel_3744\\2623874419.py:28: FutureWarning: pandas.io.json.json_normalize is deprecated, use pandas.json_normalize instead.\n",
      "  books = json_normalize(results[\"results\"][\"books\"])\n"
     ]
    },
    {
     "name": "stdout",
     "output_type": "stream",
     "text": [
      "2022-05-09\n",
      "https://api.nytimes.com/svc/books/v3/lists/2022-05-09/combined-print-and-e-book-fiction?api-key=P1yDSg62Aydsdh04WBBuS57pYbpBu2tb\n"
     ]
    },
    {
     "name": "stderr",
     "output_type": "stream",
     "text": [
      "C:\\Users\\melan\\AppData\\Local\\Temp\\ipykernel_3744\\2623874419.py:28: FutureWarning: pandas.io.json.json_normalize is deprecated, use pandas.json_normalize instead.\n",
      "  books = json_normalize(results[\"results\"][\"books\"])\n"
     ]
    },
    {
     "name": "stdout",
     "output_type": "stream",
     "text": [
      "2022-05-02\n",
      "https://api.nytimes.com/svc/books/v3/lists/2022-05-02/combined-print-and-e-book-fiction?api-key=P1yDSg62Aydsdh04WBBuS57pYbpBu2tb\n"
     ]
    },
    {
     "name": "stderr",
     "output_type": "stream",
     "text": [
      "C:\\Users\\melan\\AppData\\Local\\Temp\\ipykernel_3744\\2623874419.py:28: FutureWarning: pandas.io.json.json_normalize is deprecated, use pandas.json_normalize instead.\n",
      "  books = json_normalize(results[\"results\"][\"books\"])\n"
     ]
    },
    {
     "name": "stdout",
     "output_type": "stream",
     "text": [
      "2022-04-25\n",
      "https://api.nytimes.com/svc/books/v3/lists/2022-04-25/combined-print-and-e-book-fiction?api-key=P1yDSg62Aydsdh04WBBuS57pYbpBu2tb\n"
     ]
    },
    {
     "name": "stderr",
     "output_type": "stream",
     "text": [
      "C:\\Users\\melan\\AppData\\Local\\Temp\\ipykernel_3744\\2623874419.py:28: FutureWarning: pandas.io.json.json_normalize is deprecated, use pandas.json_normalize instead.\n",
      "  books = json_normalize(results[\"results\"][\"books\"])\n"
     ]
    },
    {
     "name": "stdout",
     "output_type": "stream",
     "text": [
      "2022-04-18\n",
      "https://api.nytimes.com/svc/books/v3/lists/2022-04-18/combined-print-and-e-book-fiction?api-key=P1yDSg62Aydsdh04WBBuS57pYbpBu2tb\n"
     ]
    },
    {
     "name": "stderr",
     "output_type": "stream",
     "text": [
      "C:\\Users\\melan\\AppData\\Local\\Temp\\ipykernel_3744\\2623874419.py:28: FutureWarning: pandas.io.json.json_normalize is deprecated, use pandas.json_normalize instead.\n",
      "  books = json_normalize(results[\"results\"][\"books\"])\n"
     ]
    },
    {
     "name": "stdout",
     "output_type": "stream",
     "text": [
      "2022-04-11\n",
      "https://api.nytimes.com/svc/books/v3/lists/2022-04-11/combined-print-and-e-book-fiction?api-key=P1yDSg62Aydsdh04WBBuS57pYbpBu2tb\n"
     ]
    },
    {
     "name": "stderr",
     "output_type": "stream",
     "text": [
      "C:\\Users\\melan\\AppData\\Local\\Temp\\ipykernel_3744\\2623874419.py:28: FutureWarning: pandas.io.json.json_normalize is deprecated, use pandas.json_normalize instead.\n",
      "  books = json_normalize(results[\"results\"][\"books\"])\n"
     ]
    },
    {
     "name": "stdout",
     "output_type": "stream",
     "text": [
      "2022-04-04\n",
      "https://api.nytimes.com/svc/books/v3/lists/2022-04-04/combined-print-and-e-book-fiction?api-key=P1yDSg62Aydsdh04WBBuS57pYbpBu2tb\n"
     ]
    },
    {
     "name": "stderr",
     "output_type": "stream",
     "text": [
      "C:\\Users\\melan\\AppData\\Local\\Temp\\ipykernel_3744\\2623874419.py:28: FutureWarning: pandas.io.json.json_normalize is deprecated, use pandas.json_normalize instead.\n",
      "  books = json_normalize(results[\"results\"][\"books\"])\n"
     ]
    },
    {
     "name": "stdout",
     "output_type": "stream",
     "text": [
      "2022-03-28\n",
      "https://api.nytimes.com/svc/books/v3/lists/2022-03-28/combined-print-and-e-book-fiction?api-key=P1yDSg62Aydsdh04WBBuS57pYbpBu2tb\n"
     ]
    },
    {
     "name": "stderr",
     "output_type": "stream",
     "text": [
      "C:\\Users\\melan\\AppData\\Local\\Temp\\ipykernel_3744\\2623874419.py:28: FutureWarning: pandas.io.json.json_normalize is deprecated, use pandas.json_normalize instead.\n",
      "  books = json_normalize(results[\"results\"][\"books\"])\n"
     ]
    },
    {
     "name": "stdout",
     "output_type": "stream",
     "text": [
      "2022-03-21\n",
      "https://api.nytimes.com/svc/books/v3/lists/2022-03-21/combined-print-and-e-book-fiction?api-key=P1yDSg62Aydsdh04WBBuS57pYbpBu2tb\n"
     ]
    },
    {
     "name": "stderr",
     "output_type": "stream",
     "text": [
      "C:\\Users\\melan\\AppData\\Local\\Temp\\ipykernel_3744\\2623874419.py:28: FutureWarning: pandas.io.json.json_normalize is deprecated, use pandas.json_normalize instead.\n",
      "  books = json_normalize(results[\"results\"][\"books\"])\n"
     ]
    },
    {
     "name": "stdout",
     "output_type": "stream",
     "text": [
      "2022-03-14\n",
      "https://api.nytimes.com/svc/books/v3/lists/2022-03-14/combined-print-and-e-book-fiction?api-key=P1yDSg62Aydsdh04WBBuS57pYbpBu2tb\n"
     ]
    },
    {
     "name": "stderr",
     "output_type": "stream",
     "text": [
      "C:\\Users\\melan\\AppData\\Local\\Temp\\ipykernel_3744\\2623874419.py:28: FutureWarning: pandas.io.json.json_normalize is deprecated, use pandas.json_normalize instead.\n",
      "  books = json_normalize(results[\"results\"][\"books\"])\n"
     ]
    },
    {
     "name": "stdout",
     "output_type": "stream",
     "text": [
      "2022-03-07\n",
      "https://api.nytimes.com/svc/books/v3/lists/2022-03-07/combined-print-and-e-book-fiction?api-key=P1yDSg62Aydsdh04WBBuS57pYbpBu2tb\n"
     ]
    },
    {
     "name": "stderr",
     "output_type": "stream",
     "text": [
      "C:\\Users\\melan\\AppData\\Local\\Temp\\ipykernel_3744\\2623874419.py:28: FutureWarning: pandas.io.json.json_normalize is deprecated, use pandas.json_normalize instead.\n",
      "  books = json_normalize(results[\"results\"][\"books\"])\n"
     ]
    },
    {
     "name": "stdout",
     "output_type": "stream",
     "text": [
      "2022-02-28\n",
      "https://api.nytimes.com/svc/books/v3/lists/2022-02-28/combined-print-and-e-book-fiction?api-key=P1yDSg62Aydsdh04WBBuS57pYbpBu2tb\n"
     ]
    },
    {
     "name": "stderr",
     "output_type": "stream",
     "text": [
      "C:\\Users\\melan\\AppData\\Local\\Temp\\ipykernel_3744\\2623874419.py:28: FutureWarning: pandas.io.json.json_normalize is deprecated, use pandas.json_normalize instead.\n",
      "  books = json_normalize(results[\"results\"][\"books\"])\n"
     ]
    },
    {
     "name": "stdout",
     "output_type": "stream",
     "text": [
      "2022-02-21\n",
      "https://api.nytimes.com/svc/books/v3/lists/2022-02-21/combined-print-and-e-book-fiction?api-key=P1yDSg62Aydsdh04WBBuS57pYbpBu2tb\n"
     ]
    },
    {
     "name": "stderr",
     "output_type": "stream",
     "text": [
      "C:\\Users\\melan\\AppData\\Local\\Temp\\ipykernel_3744\\2623874419.py:28: FutureWarning: pandas.io.json.json_normalize is deprecated, use pandas.json_normalize instead.\n",
      "  books = json_normalize(results[\"results\"][\"books\"])\n"
     ]
    },
    {
     "name": "stdout",
     "output_type": "stream",
     "text": [
      "2022-02-14\n",
      "https://api.nytimes.com/svc/books/v3/lists/2022-02-14/combined-print-and-e-book-fiction?api-key=P1yDSg62Aydsdh04WBBuS57pYbpBu2tb\n"
     ]
    },
    {
     "name": "stderr",
     "output_type": "stream",
     "text": [
      "C:\\Users\\melan\\AppData\\Local\\Temp\\ipykernel_3744\\2623874419.py:28: FutureWarning: pandas.io.json.json_normalize is deprecated, use pandas.json_normalize instead.\n",
      "  books = json_normalize(results[\"results\"][\"books\"])\n"
     ]
    },
    {
     "name": "stdout",
     "output_type": "stream",
     "text": [
      "2022-02-07\n",
      "https://api.nytimes.com/svc/books/v3/lists/2022-02-07/combined-print-and-e-book-fiction?api-key=P1yDSg62Aydsdh04WBBuS57pYbpBu2tb\n"
     ]
    },
    {
     "name": "stderr",
     "output_type": "stream",
     "text": [
      "C:\\Users\\melan\\AppData\\Local\\Temp\\ipykernel_3744\\2623874419.py:28: FutureWarning: pandas.io.json.json_normalize is deprecated, use pandas.json_normalize instead.\n",
      "  books = json_normalize(results[\"results\"][\"books\"])\n"
     ]
    },
    {
     "name": "stdout",
     "output_type": "stream",
     "text": [
      "2022-01-31\n",
      "https://api.nytimes.com/svc/books/v3/lists/2022-01-31/combined-print-and-e-book-fiction?api-key=P1yDSg62Aydsdh04WBBuS57pYbpBu2tb\n"
     ]
    },
    {
     "name": "stderr",
     "output_type": "stream",
     "text": [
      "C:\\Users\\melan\\AppData\\Local\\Temp\\ipykernel_3744\\2623874419.py:28: FutureWarning: pandas.io.json.json_normalize is deprecated, use pandas.json_normalize instead.\n",
      "  books = json_normalize(results[\"results\"][\"books\"])\n"
     ]
    },
    {
     "name": "stdout",
     "output_type": "stream",
     "text": [
      "2022-01-24\n",
      "https://api.nytimes.com/svc/books/v3/lists/2022-01-24/combined-print-and-e-book-fiction?api-key=P1yDSg62Aydsdh04WBBuS57pYbpBu2tb\n"
     ]
    },
    {
     "name": "stderr",
     "output_type": "stream",
     "text": [
      "C:\\Users\\melan\\AppData\\Local\\Temp\\ipykernel_3744\\2623874419.py:28: FutureWarning: pandas.io.json.json_normalize is deprecated, use pandas.json_normalize instead.\n",
      "  books = json_normalize(results[\"results\"][\"books\"])\n"
     ]
    },
    {
     "name": "stdout",
     "output_type": "stream",
     "text": [
      "2022-01-17\n",
      "https://api.nytimes.com/svc/books/v3/lists/2022-01-17/combined-print-and-e-book-fiction?api-key=P1yDSg62Aydsdh04WBBuS57pYbpBu2tb\n"
     ]
    },
    {
     "name": "stderr",
     "output_type": "stream",
     "text": [
      "C:\\Users\\melan\\AppData\\Local\\Temp\\ipykernel_3744\\2623874419.py:28: FutureWarning: pandas.io.json.json_normalize is deprecated, use pandas.json_normalize instead.\n",
      "  books = json_normalize(results[\"results\"][\"books\"])\n"
     ]
    },
    {
     "name": "stdout",
     "output_type": "stream",
     "text": [
      "2022-01-10\n",
      "https://api.nytimes.com/svc/books/v3/lists/2022-01-10/combined-print-and-e-book-fiction?api-key=P1yDSg62Aydsdh04WBBuS57pYbpBu2tb\n"
     ]
    },
    {
     "name": "stderr",
     "output_type": "stream",
     "text": [
      "C:\\Users\\melan\\AppData\\Local\\Temp\\ipykernel_3744\\2623874419.py:28: FutureWarning: pandas.io.json.json_normalize is deprecated, use pandas.json_normalize instead.\n",
      "  books = json_normalize(results[\"results\"][\"books\"])\n"
     ]
    },
    {
     "name": "stdout",
     "output_type": "stream",
     "text": [
      "2022-01-03\n",
      "https://api.nytimes.com/svc/books/v3/lists/2022-01-03/combined-print-and-e-book-fiction?api-key=P1yDSg62Aydsdh04WBBuS57pYbpBu2tb\n"
     ]
    },
    {
     "name": "stderr",
     "output_type": "stream",
     "text": [
      "C:\\Users\\melan\\AppData\\Local\\Temp\\ipykernel_3744\\2623874419.py:28: FutureWarning: pandas.io.json.json_normalize is deprecated, use pandas.json_normalize instead.\n",
      "  books = json_normalize(results[\"results\"][\"books\"])\n"
     ]
    },
    {
     "name": "stdout",
     "output_type": "stream",
     "text": [
      "2021-12-27\n",
      "https://api.nytimes.com/svc/books/v3/lists/2021-12-27/combined-print-and-e-book-fiction?api-key=P1yDSg62Aydsdh04WBBuS57pYbpBu2tb\n"
     ]
    },
    {
     "name": "stderr",
     "output_type": "stream",
     "text": [
      "C:\\Users\\melan\\AppData\\Local\\Temp\\ipykernel_3744\\2623874419.py:28: FutureWarning: pandas.io.json.json_normalize is deprecated, use pandas.json_normalize instead.\n",
      "  books = json_normalize(results[\"results\"][\"books\"])\n"
     ]
    },
    {
     "name": "stdout",
     "output_type": "stream",
     "text": [
      "2021-12-20\n",
      "https://api.nytimes.com/svc/books/v3/lists/2021-12-20/combined-print-and-e-book-fiction?api-key=P1yDSg62Aydsdh04WBBuS57pYbpBu2tb\n"
     ]
    },
    {
     "name": "stderr",
     "output_type": "stream",
     "text": [
      "C:\\Users\\melan\\AppData\\Local\\Temp\\ipykernel_3744\\2623874419.py:28: FutureWarning: pandas.io.json.json_normalize is deprecated, use pandas.json_normalize instead.\n",
      "  books = json_normalize(results[\"results\"][\"books\"])\n"
     ]
    },
    {
     "name": "stdout",
     "output_type": "stream",
     "text": [
      "2021-12-13\n",
      "https://api.nytimes.com/svc/books/v3/lists/2021-12-13/combined-print-and-e-book-fiction?api-key=P1yDSg62Aydsdh04WBBuS57pYbpBu2tb\n"
     ]
    },
    {
     "name": "stderr",
     "output_type": "stream",
     "text": [
      "C:\\Users\\melan\\AppData\\Local\\Temp\\ipykernel_3744\\2623874419.py:28: FutureWarning: pandas.io.json.json_normalize is deprecated, use pandas.json_normalize instead.\n",
      "  books = json_normalize(results[\"results\"][\"books\"])\n"
     ]
    },
    {
     "name": "stdout",
     "output_type": "stream",
     "text": [
      "2021-12-06\n",
      "https://api.nytimes.com/svc/books/v3/lists/2021-12-06/combined-print-and-e-book-fiction?api-key=P1yDSg62Aydsdh04WBBuS57pYbpBu2tb\n"
     ]
    },
    {
     "name": "stderr",
     "output_type": "stream",
     "text": [
      "C:\\Users\\melan\\AppData\\Local\\Temp\\ipykernel_3744\\2623874419.py:28: FutureWarning: pandas.io.json.json_normalize is deprecated, use pandas.json_normalize instead.\n",
      "  books = json_normalize(results[\"results\"][\"books\"])\n"
     ]
    },
    {
     "name": "stdout",
     "output_type": "stream",
     "text": [
      "2021-11-29\n",
      "https://api.nytimes.com/svc/books/v3/lists/2021-11-29/combined-print-and-e-book-fiction?api-key=P1yDSg62Aydsdh04WBBuS57pYbpBu2tb\n"
     ]
    },
    {
     "name": "stderr",
     "output_type": "stream",
     "text": [
      "C:\\Users\\melan\\AppData\\Local\\Temp\\ipykernel_3744\\2623874419.py:28: FutureWarning: pandas.io.json.json_normalize is deprecated, use pandas.json_normalize instead.\n",
      "  books = json_normalize(results[\"results\"][\"books\"])\n"
     ]
    },
    {
     "name": "stdout",
     "output_type": "stream",
     "text": [
      "2021-11-22\n",
      "https://api.nytimes.com/svc/books/v3/lists/2021-11-22/combined-print-and-e-book-fiction?api-key=P1yDSg62Aydsdh04WBBuS57pYbpBu2tb\n"
     ]
    },
    {
     "name": "stderr",
     "output_type": "stream",
     "text": [
      "C:\\Users\\melan\\AppData\\Local\\Temp\\ipykernel_3744\\2623874419.py:28: FutureWarning: pandas.io.json.json_normalize is deprecated, use pandas.json_normalize instead.\n",
      "  books = json_normalize(results[\"results\"][\"books\"])\n"
     ]
    },
    {
     "name": "stdout",
     "output_type": "stream",
     "text": [
      "2021-11-15\n",
      "https://api.nytimes.com/svc/books/v3/lists/2021-11-15/combined-print-and-e-book-fiction?api-key=P1yDSg62Aydsdh04WBBuS57pYbpBu2tb\n"
     ]
    },
    {
     "name": "stderr",
     "output_type": "stream",
     "text": [
      "C:\\Users\\melan\\AppData\\Local\\Temp\\ipykernel_3744\\2623874419.py:28: FutureWarning: pandas.io.json.json_normalize is deprecated, use pandas.json_normalize instead.\n",
      "  books = json_normalize(results[\"results\"][\"books\"])\n"
     ]
    },
    {
     "name": "stdout",
     "output_type": "stream",
     "text": [
      "2021-11-08\n",
      "https://api.nytimes.com/svc/books/v3/lists/2021-11-08/combined-print-and-e-book-fiction?api-key=P1yDSg62Aydsdh04WBBuS57pYbpBu2tb\n"
     ]
    },
    {
     "name": "stderr",
     "output_type": "stream",
     "text": [
      "C:\\Users\\melan\\AppData\\Local\\Temp\\ipykernel_3744\\2623874419.py:28: FutureWarning: pandas.io.json.json_normalize is deprecated, use pandas.json_normalize instead.\n",
      "  books = json_normalize(results[\"results\"][\"books\"])\n"
     ]
    },
    {
     "name": "stdout",
     "output_type": "stream",
     "text": [
      "2021-11-01\n",
      "https://api.nytimes.com/svc/books/v3/lists/2021-11-01/combined-print-and-e-book-fiction?api-key=P1yDSg62Aydsdh04WBBuS57pYbpBu2tb\n"
     ]
    },
    {
     "name": "stderr",
     "output_type": "stream",
     "text": [
      "C:\\Users\\melan\\AppData\\Local\\Temp\\ipykernel_3744\\2623874419.py:28: FutureWarning: pandas.io.json.json_normalize is deprecated, use pandas.json_normalize instead.\n",
      "  books = json_normalize(results[\"results\"][\"books\"])\n"
     ]
    },
    {
     "name": "stdout",
     "output_type": "stream",
     "text": [
      "2021-10-25\n",
      "https://api.nytimes.com/svc/books/v3/lists/2021-10-25/combined-print-and-e-book-fiction?api-key=P1yDSg62Aydsdh04WBBuS57pYbpBu2tb\n"
     ]
    },
    {
     "name": "stderr",
     "output_type": "stream",
     "text": [
      "C:\\Users\\melan\\AppData\\Local\\Temp\\ipykernel_3744\\2623874419.py:28: FutureWarning: pandas.io.json.json_normalize is deprecated, use pandas.json_normalize instead.\n",
      "  books = json_normalize(results[\"results\"][\"books\"])\n"
     ]
    },
    {
     "name": "stdout",
     "output_type": "stream",
     "text": [
      "2021-10-18\n",
      "https://api.nytimes.com/svc/books/v3/lists/2021-10-18/combined-print-and-e-book-fiction?api-key=P1yDSg62Aydsdh04WBBuS57pYbpBu2tb\n"
     ]
    },
    {
     "name": "stderr",
     "output_type": "stream",
     "text": [
      "C:\\Users\\melan\\AppData\\Local\\Temp\\ipykernel_3744\\2623874419.py:28: FutureWarning: pandas.io.json.json_normalize is deprecated, use pandas.json_normalize instead.\n",
      "  books = json_normalize(results[\"results\"][\"books\"])\n"
     ]
    },
    {
     "name": "stdout",
     "output_type": "stream",
     "text": [
      "2021-10-11\n",
      "https://api.nytimes.com/svc/books/v3/lists/2021-10-11/combined-print-and-e-book-fiction?api-key=P1yDSg62Aydsdh04WBBuS57pYbpBu2tb\n"
     ]
    },
    {
     "name": "stderr",
     "output_type": "stream",
     "text": [
      "C:\\Users\\melan\\AppData\\Local\\Temp\\ipykernel_3744\\2623874419.py:28: FutureWarning: pandas.io.json.json_normalize is deprecated, use pandas.json_normalize instead.\n",
      "  books = json_normalize(results[\"results\"][\"books\"])\n"
     ]
    },
    {
     "name": "stdout",
     "output_type": "stream",
     "text": [
      "2021-10-04\n",
      "https://api.nytimes.com/svc/books/v3/lists/2021-10-04/combined-print-and-e-book-fiction?api-key=P1yDSg62Aydsdh04WBBuS57pYbpBu2tb\n"
     ]
    },
    {
     "name": "stderr",
     "output_type": "stream",
     "text": [
      "C:\\Users\\melan\\AppData\\Local\\Temp\\ipykernel_3744\\2623874419.py:28: FutureWarning: pandas.io.json.json_normalize is deprecated, use pandas.json_normalize instead.\n",
      "  books = json_normalize(results[\"results\"][\"books\"])\n"
     ]
    },
    {
     "name": "stdout",
     "output_type": "stream",
     "text": [
      "2021-09-27\n",
      "https://api.nytimes.com/svc/books/v3/lists/2021-09-27/combined-print-and-e-book-fiction?api-key=P1yDSg62Aydsdh04WBBuS57pYbpBu2tb\n"
     ]
    },
    {
     "name": "stderr",
     "output_type": "stream",
     "text": [
      "C:\\Users\\melan\\AppData\\Local\\Temp\\ipykernel_3744\\2623874419.py:28: FutureWarning: pandas.io.json.json_normalize is deprecated, use pandas.json_normalize instead.\n",
      "  books = json_normalize(results[\"results\"][\"books\"])\n"
     ]
    },
    {
     "name": "stdout",
     "output_type": "stream",
     "text": [
      "2021-09-20\n",
      "https://api.nytimes.com/svc/books/v3/lists/2021-09-20/combined-print-and-e-book-fiction?api-key=P1yDSg62Aydsdh04WBBuS57pYbpBu2tb\n"
     ]
    },
    {
     "name": "stderr",
     "output_type": "stream",
     "text": [
      "C:\\Users\\melan\\AppData\\Local\\Temp\\ipykernel_3744\\2623874419.py:28: FutureWarning: pandas.io.json.json_normalize is deprecated, use pandas.json_normalize instead.\n",
      "  books = json_normalize(results[\"results\"][\"books\"])\n"
     ]
    },
    {
     "name": "stdout",
     "output_type": "stream",
     "text": [
      "2021-09-13\n",
      "https://api.nytimes.com/svc/books/v3/lists/2021-09-13/combined-print-and-e-book-fiction?api-key=P1yDSg62Aydsdh04WBBuS57pYbpBu2tb\n"
     ]
    },
    {
     "name": "stderr",
     "output_type": "stream",
     "text": [
      "C:\\Users\\melan\\AppData\\Local\\Temp\\ipykernel_3744\\2623874419.py:28: FutureWarning: pandas.io.json.json_normalize is deprecated, use pandas.json_normalize instead.\n",
      "  books = json_normalize(results[\"results\"][\"books\"])\n"
     ]
    },
    {
     "name": "stdout",
     "output_type": "stream",
     "text": [
      "2021-09-06\n",
      "https://api.nytimes.com/svc/books/v3/lists/2021-09-06/combined-print-and-e-book-fiction?api-key=P1yDSg62Aydsdh04WBBuS57pYbpBu2tb\n"
     ]
    },
    {
     "name": "stderr",
     "output_type": "stream",
     "text": [
      "C:\\Users\\melan\\AppData\\Local\\Temp\\ipykernel_3744\\2623874419.py:28: FutureWarning: pandas.io.json.json_normalize is deprecated, use pandas.json_normalize instead.\n",
      "  books = json_normalize(results[\"results\"][\"books\"])\n"
     ]
    },
    {
     "name": "stdout",
     "output_type": "stream",
     "text": [
      "2021-08-30\n",
      "https://api.nytimes.com/svc/books/v3/lists/2021-08-30/combined-print-and-e-book-fiction?api-key=P1yDSg62Aydsdh04WBBuS57pYbpBu2tb\n"
     ]
    },
    {
     "name": "stderr",
     "output_type": "stream",
     "text": [
      "C:\\Users\\melan\\AppData\\Local\\Temp\\ipykernel_3744\\2623874419.py:28: FutureWarning: pandas.io.json.json_normalize is deprecated, use pandas.json_normalize instead.\n",
      "  books = json_normalize(results[\"results\"][\"books\"])\n"
     ]
    },
    {
     "name": "stdout",
     "output_type": "stream",
     "text": [
      "2021-08-23\n",
      "https://api.nytimes.com/svc/books/v3/lists/2021-08-23/combined-print-and-e-book-fiction?api-key=P1yDSg62Aydsdh04WBBuS57pYbpBu2tb\n"
     ]
    },
    {
     "name": "stderr",
     "output_type": "stream",
     "text": [
      "C:\\Users\\melan\\AppData\\Local\\Temp\\ipykernel_3744\\2623874419.py:28: FutureWarning: pandas.io.json.json_normalize is deprecated, use pandas.json_normalize instead.\n",
      "  books = json_normalize(results[\"results\"][\"books\"])\n"
     ]
    },
    {
     "name": "stdout",
     "output_type": "stream",
     "text": [
      "2021-08-16\n",
      "https://api.nytimes.com/svc/books/v3/lists/2021-08-16/combined-print-and-e-book-fiction?api-key=P1yDSg62Aydsdh04WBBuS57pYbpBu2tb\n"
     ]
    },
    {
     "name": "stderr",
     "output_type": "stream",
     "text": [
      "C:\\Users\\melan\\AppData\\Local\\Temp\\ipykernel_3744\\2623874419.py:28: FutureWarning: pandas.io.json.json_normalize is deprecated, use pandas.json_normalize instead.\n",
      "  books = json_normalize(results[\"results\"][\"books\"])\n"
     ]
    },
    {
     "name": "stdout",
     "output_type": "stream",
     "text": [
      "2021-08-09\n",
      "https://api.nytimes.com/svc/books/v3/lists/2021-08-09/combined-print-and-e-book-fiction?api-key=P1yDSg62Aydsdh04WBBuS57pYbpBu2tb\n"
     ]
    },
    {
     "name": "stderr",
     "output_type": "stream",
     "text": [
      "C:\\Users\\melan\\AppData\\Local\\Temp\\ipykernel_3744\\2623874419.py:28: FutureWarning: pandas.io.json.json_normalize is deprecated, use pandas.json_normalize instead.\n",
      "  books = json_normalize(results[\"results\"][\"books\"])\n"
     ]
    },
    {
     "name": "stdout",
     "output_type": "stream",
     "text": [
      "2021-08-02\n",
      "https://api.nytimes.com/svc/books/v3/lists/2021-08-02/combined-print-and-e-book-fiction?api-key=P1yDSg62Aydsdh04WBBuS57pYbpBu2tb\n"
     ]
    },
    {
     "name": "stderr",
     "output_type": "stream",
     "text": [
      "C:\\Users\\melan\\AppData\\Local\\Temp\\ipykernel_3744\\2623874419.py:28: FutureWarning: pandas.io.json.json_normalize is deprecated, use pandas.json_normalize instead.\n",
      "  books = json_normalize(results[\"results\"][\"books\"])\n"
     ]
    },
    {
     "name": "stdout",
     "output_type": "stream",
     "text": [
      "2021-07-26\n",
      "https://api.nytimes.com/svc/books/v3/lists/2021-07-26/combined-print-and-e-book-fiction?api-key=P1yDSg62Aydsdh04WBBuS57pYbpBu2tb\n"
     ]
    },
    {
     "name": "stderr",
     "output_type": "stream",
     "text": [
      "C:\\Users\\melan\\AppData\\Local\\Temp\\ipykernel_3744\\2623874419.py:28: FutureWarning: pandas.io.json.json_normalize is deprecated, use pandas.json_normalize instead.\n",
      "  books = json_normalize(results[\"results\"][\"books\"])\n"
     ]
    },
    {
     "name": "stdout",
     "output_type": "stream",
     "text": [
      "2021-07-19\n",
      "https://api.nytimes.com/svc/books/v3/lists/2021-07-19/combined-print-and-e-book-fiction?api-key=P1yDSg62Aydsdh04WBBuS57pYbpBu2tb\n"
     ]
    },
    {
     "name": "stderr",
     "output_type": "stream",
     "text": [
      "C:\\Users\\melan\\AppData\\Local\\Temp\\ipykernel_3744\\2623874419.py:28: FutureWarning: pandas.io.json.json_normalize is deprecated, use pandas.json_normalize instead.\n",
      "  books = json_normalize(results[\"results\"][\"books\"])\n"
     ]
    },
    {
     "name": "stdout",
     "output_type": "stream",
     "text": [
      "2021-07-12\n",
      "https://api.nytimes.com/svc/books/v3/lists/2021-07-12/combined-print-and-e-book-fiction?api-key=P1yDSg62Aydsdh04WBBuS57pYbpBu2tb\n"
     ]
    },
    {
     "name": "stderr",
     "output_type": "stream",
     "text": [
      "C:\\Users\\melan\\AppData\\Local\\Temp\\ipykernel_3744\\2623874419.py:28: FutureWarning: pandas.io.json.json_normalize is deprecated, use pandas.json_normalize instead.\n",
      "  books = json_normalize(results[\"results\"][\"books\"])\n"
     ]
    },
    {
     "name": "stdout",
     "output_type": "stream",
     "text": [
      "2021-07-05\n",
      "https://api.nytimes.com/svc/books/v3/lists/2021-07-05/combined-print-and-e-book-fiction?api-key=P1yDSg62Aydsdh04WBBuS57pYbpBu2tb\n"
     ]
    },
    {
     "name": "stderr",
     "output_type": "stream",
     "text": [
      "C:\\Users\\melan\\AppData\\Local\\Temp\\ipykernel_3744\\2623874419.py:28: FutureWarning: pandas.io.json.json_normalize is deprecated, use pandas.json_normalize instead.\n",
      "  books = json_normalize(results[\"results\"][\"books\"])\n"
     ]
    },
    {
     "name": "stdout",
     "output_type": "stream",
     "text": [
      "2021-06-28\n",
      "https://api.nytimes.com/svc/books/v3/lists/2021-06-28/combined-print-and-e-book-fiction?api-key=P1yDSg62Aydsdh04WBBuS57pYbpBu2tb\n"
     ]
    },
    {
     "name": "stderr",
     "output_type": "stream",
     "text": [
      "C:\\Users\\melan\\AppData\\Local\\Temp\\ipykernel_3744\\2623874419.py:28: FutureWarning: pandas.io.json.json_normalize is deprecated, use pandas.json_normalize instead.\n",
      "  books = json_normalize(results[\"results\"][\"books\"])\n"
     ]
    },
    {
     "name": "stdout",
     "output_type": "stream",
     "text": [
      "2021-06-21\n",
      "https://api.nytimes.com/svc/books/v3/lists/2021-06-21/combined-print-and-e-book-fiction?api-key=P1yDSg62Aydsdh04WBBuS57pYbpBu2tb\n"
     ]
    },
    {
     "name": "stderr",
     "output_type": "stream",
     "text": [
      "C:\\Users\\melan\\AppData\\Local\\Temp\\ipykernel_3744\\2623874419.py:28: FutureWarning: pandas.io.json.json_normalize is deprecated, use pandas.json_normalize instead.\n",
      "  books = json_normalize(results[\"results\"][\"books\"])\n"
     ]
    },
    {
     "name": "stdout",
     "output_type": "stream",
     "text": [
      "2021-06-14\n",
      "https://api.nytimes.com/svc/books/v3/lists/2021-06-14/combined-print-and-e-book-fiction?api-key=P1yDSg62Aydsdh04WBBuS57pYbpBu2tb\n"
     ]
    },
    {
     "name": "stderr",
     "output_type": "stream",
     "text": [
      "C:\\Users\\melan\\AppData\\Local\\Temp\\ipykernel_3744\\2623874419.py:28: FutureWarning: pandas.io.json.json_normalize is deprecated, use pandas.json_normalize instead.\n",
      "  books = json_normalize(results[\"results\"][\"books\"])\n"
     ]
    },
    {
     "name": "stdout",
     "output_type": "stream",
     "text": [
      "2021-06-07\n",
      "https://api.nytimes.com/svc/books/v3/lists/2021-06-07/combined-print-and-e-book-fiction?api-key=P1yDSg62Aydsdh04WBBuS57pYbpBu2tb\n"
     ]
    },
    {
     "name": "stderr",
     "output_type": "stream",
     "text": [
      "C:\\Users\\melan\\AppData\\Local\\Temp\\ipykernel_3744\\2623874419.py:28: FutureWarning: pandas.io.json.json_normalize is deprecated, use pandas.json_normalize instead.\n",
      "  books = json_normalize(results[\"results\"][\"books\"])\n"
     ]
    },
    {
     "name": "stdout",
     "output_type": "stream",
     "text": [
      "2021-05-31\n",
      "https://api.nytimes.com/svc/books/v3/lists/2021-05-31/combined-print-and-e-book-fiction?api-key=P1yDSg62Aydsdh04WBBuS57pYbpBu2tb\n"
     ]
    },
    {
     "name": "stderr",
     "output_type": "stream",
     "text": [
      "C:\\Users\\melan\\AppData\\Local\\Temp\\ipykernel_3744\\2623874419.py:28: FutureWarning: pandas.io.json.json_normalize is deprecated, use pandas.json_normalize instead.\n",
      "  books = json_normalize(results[\"results\"][\"books\"])\n"
     ]
    },
    {
     "name": "stdout",
     "output_type": "stream",
     "text": [
      "2021-05-24\n",
      "https://api.nytimes.com/svc/books/v3/lists/2021-05-24/combined-print-and-e-book-fiction?api-key=P1yDSg62Aydsdh04WBBuS57pYbpBu2tb\n"
     ]
    },
    {
     "name": "stderr",
     "output_type": "stream",
     "text": [
      "C:\\Users\\melan\\AppData\\Local\\Temp\\ipykernel_3744\\2623874419.py:28: FutureWarning: pandas.io.json.json_normalize is deprecated, use pandas.json_normalize instead.\n",
      "  books = json_normalize(results[\"results\"][\"books\"])\n"
     ]
    },
    {
     "name": "stdout",
     "output_type": "stream",
     "text": [
      "2021-05-17\n",
      "https://api.nytimes.com/svc/books/v3/lists/2021-05-17/combined-print-and-e-book-fiction?api-key=P1yDSg62Aydsdh04WBBuS57pYbpBu2tb\n"
     ]
    },
    {
     "name": "stderr",
     "output_type": "stream",
     "text": [
      "C:\\Users\\melan\\AppData\\Local\\Temp\\ipykernel_3744\\2623874419.py:28: FutureWarning: pandas.io.json.json_normalize is deprecated, use pandas.json_normalize instead.\n",
      "  books = json_normalize(results[\"results\"][\"books\"])\n"
     ]
    },
    {
     "name": "stdout",
     "output_type": "stream",
     "text": [
      "2021-05-10\n",
      "https://api.nytimes.com/svc/books/v3/lists/2021-05-10/combined-print-and-e-book-fiction?api-key=P1yDSg62Aydsdh04WBBuS57pYbpBu2tb\n"
     ]
    },
    {
     "name": "stderr",
     "output_type": "stream",
     "text": [
      "C:\\Users\\melan\\AppData\\Local\\Temp\\ipykernel_3744\\2623874419.py:28: FutureWarning: pandas.io.json.json_normalize is deprecated, use pandas.json_normalize instead.\n",
      "  books = json_normalize(results[\"results\"][\"books\"])\n"
     ]
    },
    {
     "name": "stdout",
     "output_type": "stream",
     "text": [
      "2021-05-03\n",
      "https://api.nytimes.com/svc/books/v3/lists/2021-05-03/combined-print-and-e-book-fiction?api-key=P1yDSg62Aydsdh04WBBuS57pYbpBu2tb\n"
     ]
    },
    {
     "name": "stderr",
     "output_type": "stream",
     "text": [
      "C:\\Users\\melan\\AppData\\Local\\Temp\\ipykernel_3744\\2623874419.py:28: FutureWarning: pandas.io.json.json_normalize is deprecated, use pandas.json_normalize instead.\n",
      "  books = json_normalize(results[\"results\"][\"books\"])\n"
     ]
    },
    {
     "name": "stdout",
     "output_type": "stream",
     "text": [
      "2021-04-26\n",
      "https://api.nytimes.com/svc/books/v3/lists/2021-04-26/combined-print-and-e-book-fiction?api-key=P1yDSg62Aydsdh04WBBuS57pYbpBu2tb\n"
     ]
    },
    {
     "name": "stderr",
     "output_type": "stream",
     "text": [
      "C:\\Users\\melan\\AppData\\Local\\Temp\\ipykernel_3744\\2623874419.py:28: FutureWarning: pandas.io.json.json_normalize is deprecated, use pandas.json_normalize instead.\n",
      "  books = json_normalize(results[\"results\"][\"books\"])\n"
     ]
    },
    {
     "name": "stdout",
     "output_type": "stream",
     "text": [
      "2021-04-19\n",
      "https://api.nytimes.com/svc/books/v3/lists/2021-04-19/combined-print-and-e-book-fiction?api-key=P1yDSg62Aydsdh04WBBuS57pYbpBu2tb\n"
     ]
    },
    {
     "name": "stderr",
     "output_type": "stream",
     "text": [
      "C:\\Users\\melan\\AppData\\Local\\Temp\\ipykernel_3744\\2623874419.py:28: FutureWarning: pandas.io.json.json_normalize is deprecated, use pandas.json_normalize instead.\n",
      "  books = json_normalize(results[\"results\"][\"books\"])\n"
     ]
    },
    {
     "name": "stdout",
     "output_type": "stream",
     "text": [
      "2021-04-12\n",
      "https://api.nytimes.com/svc/books/v3/lists/2021-04-12/combined-print-and-e-book-fiction?api-key=P1yDSg62Aydsdh04WBBuS57pYbpBu2tb\n"
     ]
    },
    {
     "name": "stderr",
     "output_type": "stream",
     "text": [
      "C:\\Users\\melan\\AppData\\Local\\Temp\\ipykernel_3744\\2623874419.py:28: FutureWarning: pandas.io.json.json_normalize is deprecated, use pandas.json_normalize instead.\n",
      "  books = json_normalize(results[\"results\"][\"books\"])\n"
     ]
    },
    {
     "name": "stdout",
     "output_type": "stream",
     "text": [
      "2021-04-05\n",
      "https://api.nytimes.com/svc/books/v3/lists/2021-04-05/combined-print-and-e-book-fiction?api-key=P1yDSg62Aydsdh04WBBuS57pYbpBu2tb\n"
     ]
    },
    {
     "name": "stderr",
     "output_type": "stream",
     "text": [
      "C:\\Users\\melan\\AppData\\Local\\Temp\\ipykernel_3744\\2623874419.py:28: FutureWarning: pandas.io.json.json_normalize is deprecated, use pandas.json_normalize instead.\n",
      "  books = json_normalize(results[\"results\"][\"books\"])\n"
     ]
    },
    {
     "name": "stdout",
     "output_type": "stream",
     "text": [
      "2021-03-29\n",
      "https://api.nytimes.com/svc/books/v3/lists/2021-03-29/combined-print-and-e-book-fiction?api-key=P1yDSg62Aydsdh04WBBuS57pYbpBu2tb\n"
     ]
    },
    {
     "name": "stderr",
     "output_type": "stream",
     "text": [
      "C:\\Users\\melan\\AppData\\Local\\Temp\\ipykernel_3744\\2623874419.py:28: FutureWarning: pandas.io.json.json_normalize is deprecated, use pandas.json_normalize instead.\n",
      "  books = json_normalize(results[\"results\"][\"books\"])\n"
     ]
    },
    {
     "name": "stdout",
     "output_type": "stream",
     "text": [
      "2021-03-22\n",
      "https://api.nytimes.com/svc/books/v3/lists/2021-03-22/combined-print-and-e-book-fiction?api-key=P1yDSg62Aydsdh04WBBuS57pYbpBu2tb\n"
     ]
    },
    {
     "name": "stderr",
     "output_type": "stream",
     "text": [
      "C:\\Users\\melan\\AppData\\Local\\Temp\\ipykernel_3744\\2623874419.py:28: FutureWarning: pandas.io.json.json_normalize is deprecated, use pandas.json_normalize instead.\n",
      "  books = json_normalize(results[\"results\"][\"books\"])\n"
     ]
    },
    {
     "name": "stdout",
     "output_type": "stream",
     "text": [
      "2021-03-15\n",
      "https://api.nytimes.com/svc/books/v3/lists/2021-03-15/combined-print-and-e-book-fiction?api-key=P1yDSg62Aydsdh04WBBuS57pYbpBu2tb\n"
     ]
    },
    {
     "name": "stderr",
     "output_type": "stream",
     "text": [
      "C:\\Users\\melan\\AppData\\Local\\Temp\\ipykernel_3744\\2623874419.py:28: FutureWarning: pandas.io.json.json_normalize is deprecated, use pandas.json_normalize instead.\n",
      "  books = json_normalize(results[\"results\"][\"books\"])\n"
     ]
    },
    {
     "name": "stdout",
     "output_type": "stream",
     "text": [
      "2021-03-08\n",
      "https://api.nytimes.com/svc/books/v3/lists/2021-03-08/combined-print-and-e-book-fiction?api-key=P1yDSg62Aydsdh04WBBuS57pYbpBu2tb\n"
     ]
    },
    {
     "name": "stderr",
     "output_type": "stream",
     "text": [
      "C:\\Users\\melan\\AppData\\Local\\Temp\\ipykernel_3744\\2623874419.py:28: FutureWarning: pandas.io.json.json_normalize is deprecated, use pandas.json_normalize instead.\n",
      "  books = json_normalize(results[\"results\"][\"books\"])\n"
     ]
    },
    {
     "name": "stdout",
     "output_type": "stream",
     "text": [
      "2021-03-01\n",
      "https://api.nytimes.com/svc/books/v3/lists/2021-03-01/combined-print-and-e-book-fiction?api-key=P1yDSg62Aydsdh04WBBuS57pYbpBu2tb\n"
     ]
    },
    {
     "name": "stderr",
     "output_type": "stream",
     "text": [
      "C:\\Users\\melan\\AppData\\Local\\Temp\\ipykernel_3744\\2623874419.py:28: FutureWarning: pandas.io.json.json_normalize is deprecated, use pandas.json_normalize instead.\n",
      "  books = json_normalize(results[\"results\"][\"books\"])\n"
     ]
    },
    {
     "name": "stdout",
     "output_type": "stream",
     "text": [
      "2021-02-22\n",
      "https://api.nytimes.com/svc/books/v3/lists/2021-02-22/combined-print-and-e-book-fiction?api-key=P1yDSg62Aydsdh04WBBuS57pYbpBu2tb\n"
     ]
    },
    {
     "name": "stderr",
     "output_type": "stream",
     "text": [
      "C:\\Users\\melan\\AppData\\Local\\Temp\\ipykernel_3744\\2623874419.py:28: FutureWarning: pandas.io.json.json_normalize is deprecated, use pandas.json_normalize instead.\n",
      "  books = json_normalize(results[\"results\"][\"books\"])\n"
     ]
    },
    {
     "name": "stdout",
     "output_type": "stream",
     "text": [
      "2021-02-15\n",
      "https://api.nytimes.com/svc/books/v3/lists/2021-02-15/combined-print-and-e-book-fiction?api-key=P1yDSg62Aydsdh04WBBuS57pYbpBu2tb\n"
     ]
    },
    {
     "name": "stderr",
     "output_type": "stream",
     "text": [
      "C:\\Users\\melan\\AppData\\Local\\Temp\\ipykernel_3744\\2623874419.py:28: FutureWarning: pandas.io.json.json_normalize is deprecated, use pandas.json_normalize instead.\n",
      "  books = json_normalize(results[\"results\"][\"books\"])\n"
     ]
    },
    {
     "name": "stdout",
     "output_type": "stream",
     "text": [
      "2021-02-08\n",
      "https://api.nytimes.com/svc/books/v3/lists/2021-02-08/combined-print-and-e-book-fiction?api-key=P1yDSg62Aydsdh04WBBuS57pYbpBu2tb\n"
     ]
    },
    {
     "name": "stderr",
     "output_type": "stream",
     "text": [
      "C:\\Users\\melan\\AppData\\Local\\Temp\\ipykernel_3744\\2623874419.py:28: FutureWarning: pandas.io.json.json_normalize is deprecated, use pandas.json_normalize instead.\n",
      "  books = json_normalize(results[\"results\"][\"books\"])\n"
     ]
    },
    {
     "name": "stdout",
     "output_type": "stream",
     "text": [
      "2021-02-01\n",
      "https://api.nytimes.com/svc/books/v3/lists/2021-02-01/combined-print-and-e-book-fiction?api-key=P1yDSg62Aydsdh04WBBuS57pYbpBu2tb\n"
     ]
    },
    {
     "name": "stderr",
     "output_type": "stream",
     "text": [
      "C:\\Users\\melan\\AppData\\Local\\Temp\\ipykernel_3744\\2623874419.py:28: FutureWarning: pandas.io.json.json_normalize is deprecated, use pandas.json_normalize instead.\n",
      "  books = json_normalize(results[\"results\"][\"books\"])\n"
     ]
    },
    {
     "name": "stdout",
     "output_type": "stream",
     "text": [
      "2021-01-25\n",
      "https://api.nytimes.com/svc/books/v3/lists/2021-01-25/combined-print-and-e-book-fiction?api-key=P1yDSg62Aydsdh04WBBuS57pYbpBu2tb\n"
     ]
    },
    {
     "name": "stderr",
     "output_type": "stream",
     "text": [
      "C:\\Users\\melan\\AppData\\Local\\Temp\\ipykernel_3744\\2623874419.py:28: FutureWarning: pandas.io.json.json_normalize is deprecated, use pandas.json_normalize instead.\n",
      "  books = json_normalize(results[\"results\"][\"books\"])\n"
     ]
    },
    {
     "name": "stdout",
     "output_type": "stream",
     "text": [
      "2021-01-18\n",
      "https://api.nytimes.com/svc/books/v3/lists/2021-01-18/combined-print-and-e-book-fiction?api-key=P1yDSg62Aydsdh04WBBuS57pYbpBu2tb\n"
     ]
    },
    {
     "name": "stderr",
     "output_type": "stream",
     "text": [
      "C:\\Users\\melan\\AppData\\Local\\Temp\\ipykernel_3744\\2623874419.py:28: FutureWarning: pandas.io.json.json_normalize is deprecated, use pandas.json_normalize instead.\n",
      "  books = json_normalize(results[\"results\"][\"books\"])\n"
     ]
    },
    {
     "name": "stdout",
     "output_type": "stream",
     "text": [
      "2021-01-11\n",
      "https://api.nytimes.com/svc/books/v3/lists/2021-01-11/combined-print-and-e-book-fiction?api-key=P1yDSg62Aydsdh04WBBuS57pYbpBu2tb\n"
     ]
    },
    {
     "name": "stderr",
     "output_type": "stream",
     "text": [
      "C:\\Users\\melan\\AppData\\Local\\Temp\\ipykernel_3744\\2623874419.py:28: FutureWarning: pandas.io.json.json_normalize is deprecated, use pandas.json_normalize instead.\n",
      "  books = json_normalize(results[\"results\"][\"books\"])\n"
     ]
    },
    {
     "name": "stdout",
     "output_type": "stream",
     "text": [
      "2021-01-04\n",
      "https://api.nytimes.com/svc/books/v3/lists/2021-01-04/combined-print-and-e-book-fiction?api-key=P1yDSg62Aydsdh04WBBuS57pYbpBu2tb\n"
     ]
    },
    {
     "name": "stderr",
     "output_type": "stream",
     "text": [
      "C:\\Users\\melan\\AppData\\Local\\Temp\\ipykernel_3744\\2623874419.py:28: FutureWarning: pandas.io.json.json_normalize is deprecated, use pandas.json_normalize instead.\n",
      "  books = json_normalize(results[\"results\"][\"books\"])\n"
     ]
    },
    {
     "name": "stdout",
     "output_type": "stream",
     "text": [
      "2020-12-28\n",
      "https://api.nytimes.com/svc/books/v3/lists/2020-12-28/combined-print-and-e-book-fiction?api-key=P1yDSg62Aydsdh04WBBuS57pYbpBu2tb\n"
     ]
    },
    {
     "name": "stderr",
     "output_type": "stream",
     "text": [
      "C:\\Users\\melan\\AppData\\Local\\Temp\\ipykernel_3744\\2623874419.py:28: FutureWarning: pandas.io.json.json_normalize is deprecated, use pandas.json_normalize instead.\n",
      "  books = json_normalize(results[\"results\"][\"books\"])\n"
     ]
    },
    {
     "name": "stdout",
     "output_type": "stream",
     "text": [
      "2020-12-21\n",
      "https://api.nytimes.com/svc/books/v3/lists/2020-12-21/combined-print-and-e-book-fiction?api-key=P1yDSg62Aydsdh04WBBuS57pYbpBu2tb\n"
     ]
    },
    {
     "name": "stderr",
     "output_type": "stream",
     "text": [
      "C:\\Users\\melan\\AppData\\Local\\Temp\\ipykernel_3744\\2623874419.py:28: FutureWarning: pandas.io.json.json_normalize is deprecated, use pandas.json_normalize instead.\n",
      "  books = json_normalize(results[\"results\"][\"books\"])\n"
     ]
    },
    {
     "name": "stdout",
     "output_type": "stream",
     "text": [
      "2020-12-14\n",
      "https://api.nytimes.com/svc/books/v3/lists/2020-12-14/combined-print-and-e-book-fiction?api-key=P1yDSg62Aydsdh04WBBuS57pYbpBu2tb\n"
     ]
    },
    {
     "name": "stderr",
     "output_type": "stream",
     "text": [
      "C:\\Users\\melan\\AppData\\Local\\Temp\\ipykernel_3744\\2623874419.py:28: FutureWarning: pandas.io.json.json_normalize is deprecated, use pandas.json_normalize instead.\n",
      "  books = json_normalize(results[\"results\"][\"books\"])\n"
     ]
    },
    {
     "name": "stdout",
     "output_type": "stream",
     "text": [
      "2020-12-07\n",
      "https://api.nytimes.com/svc/books/v3/lists/2020-12-07/combined-print-and-e-book-fiction?api-key=P1yDSg62Aydsdh04WBBuS57pYbpBu2tb\n"
     ]
    },
    {
     "name": "stderr",
     "output_type": "stream",
     "text": [
      "C:\\Users\\melan\\AppData\\Local\\Temp\\ipykernel_3744\\2623874419.py:28: FutureWarning: pandas.io.json.json_normalize is deprecated, use pandas.json_normalize instead.\n",
      "  books = json_normalize(results[\"results\"][\"books\"])\n"
     ]
    },
    {
     "name": "stdout",
     "output_type": "stream",
     "text": [
      "2020-11-30\n",
      "https://api.nytimes.com/svc/books/v3/lists/2020-11-30/combined-print-and-e-book-fiction?api-key=P1yDSg62Aydsdh04WBBuS57pYbpBu2tb\n"
     ]
    },
    {
     "name": "stderr",
     "output_type": "stream",
     "text": [
      "C:\\Users\\melan\\AppData\\Local\\Temp\\ipykernel_3744\\2623874419.py:28: FutureWarning: pandas.io.json.json_normalize is deprecated, use pandas.json_normalize instead.\n",
      "  books = json_normalize(results[\"results\"][\"books\"])\n"
     ]
    },
    {
     "name": "stdout",
     "output_type": "stream",
     "text": [
      "2020-11-23\n",
      "https://api.nytimes.com/svc/books/v3/lists/2020-11-23/combined-print-and-e-book-fiction?api-key=P1yDSg62Aydsdh04WBBuS57pYbpBu2tb\n"
     ]
    },
    {
     "name": "stderr",
     "output_type": "stream",
     "text": [
      "C:\\Users\\melan\\AppData\\Local\\Temp\\ipykernel_3744\\2623874419.py:28: FutureWarning: pandas.io.json.json_normalize is deprecated, use pandas.json_normalize instead.\n",
      "  books = json_normalize(results[\"results\"][\"books\"])\n"
     ]
    },
    {
     "name": "stdout",
     "output_type": "stream",
     "text": [
      "2020-11-16\n",
      "https://api.nytimes.com/svc/books/v3/lists/2020-11-16/combined-print-and-e-book-fiction?api-key=P1yDSg62Aydsdh04WBBuS57pYbpBu2tb\n"
     ]
    },
    {
     "name": "stderr",
     "output_type": "stream",
     "text": [
      "C:\\Users\\melan\\AppData\\Local\\Temp\\ipykernel_3744\\2623874419.py:28: FutureWarning: pandas.io.json.json_normalize is deprecated, use pandas.json_normalize instead.\n",
      "  books = json_normalize(results[\"results\"][\"books\"])\n"
     ]
    },
    {
     "name": "stdout",
     "output_type": "stream",
     "text": [
      "2020-11-09\n",
      "https://api.nytimes.com/svc/books/v3/lists/2020-11-09/combined-print-and-e-book-fiction?api-key=P1yDSg62Aydsdh04WBBuS57pYbpBu2tb\n"
     ]
    },
    {
     "name": "stderr",
     "output_type": "stream",
     "text": [
      "C:\\Users\\melan\\AppData\\Local\\Temp\\ipykernel_3744\\2623874419.py:28: FutureWarning: pandas.io.json.json_normalize is deprecated, use pandas.json_normalize instead.\n",
      "  books = json_normalize(results[\"results\"][\"books\"])\n"
     ]
    },
    {
     "name": "stdout",
     "output_type": "stream",
     "text": [
      "2020-11-02\n",
      "https://api.nytimes.com/svc/books/v3/lists/2020-11-02/combined-print-and-e-book-fiction?api-key=P1yDSg62Aydsdh04WBBuS57pYbpBu2tb\n"
     ]
    },
    {
     "name": "stderr",
     "output_type": "stream",
     "text": [
      "C:\\Users\\melan\\AppData\\Local\\Temp\\ipykernel_3744\\2623874419.py:28: FutureWarning: pandas.io.json.json_normalize is deprecated, use pandas.json_normalize instead.\n",
      "  books = json_normalize(results[\"results\"][\"books\"])\n"
     ]
    },
    {
     "name": "stdout",
     "output_type": "stream",
     "text": [
      "2020-10-26\n",
      "https://api.nytimes.com/svc/books/v3/lists/2020-10-26/combined-print-and-e-book-fiction?api-key=P1yDSg62Aydsdh04WBBuS57pYbpBu2tb\n"
     ]
    },
    {
     "name": "stderr",
     "output_type": "stream",
     "text": [
      "C:\\Users\\melan\\AppData\\Local\\Temp\\ipykernel_3744\\2623874419.py:28: FutureWarning: pandas.io.json.json_normalize is deprecated, use pandas.json_normalize instead.\n",
      "  books = json_normalize(results[\"results\"][\"books\"])\n"
     ]
    },
    {
     "name": "stdout",
     "output_type": "stream",
     "text": [
      "2020-10-19\n",
      "https://api.nytimes.com/svc/books/v3/lists/2020-10-19/combined-print-and-e-book-fiction?api-key=P1yDSg62Aydsdh04WBBuS57pYbpBu2tb\n"
     ]
    },
    {
     "name": "stderr",
     "output_type": "stream",
     "text": [
      "C:\\Users\\melan\\AppData\\Local\\Temp\\ipykernel_3744\\2623874419.py:28: FutureWarning: pandas.io.json.json_normalize is deprecated, use pandas.json_normalize instead.\n",
      "  books = json_normalize(results[\"results\"][\"books\"])\n"
     ]
    },
    {
     "name": "stdout",
     "output_type": "stream",
     "text": [
      "2020-10-12\n",
      "https://api.nytimes.com/svc/books/v3/lists/2020-10-12/combined-print-and-e-book-fiction?api-key=P1yDSg62Aydsdh04WBBuS57pYbpBu2tb\n"
     ]
    },
    {
     "name": "stderr",
     "output_type": "stream",
     "text": [
      "C:\\Users\\melan\\AppData\\Local\\Temp\\ipykernel_3744\\2623874419.py:28: FutureWarning: pandas.io.json.json_normalize is deprecated, use pandas.json_normalize instead.\n",
      "  books = json_normalize(results[\"results\"][\"books\"])\n"
     ]
    },
    {
     "name": "stdout",
     "output_type": "stream",
     "text": [
      "2020-10-05\n",
      "https://api.nytimes.com/svc/books/v3/lists/2020-10-05/combined-print-and-e-book-fiction?api-key=P1yDSg62Aydsdh04WBBuS57pYbpBu2tb\n"
     ]
    },
    {
     "name": "stderr",
     "output_type": "stream",
     "text": [
      "C:\\Users\\melan\\AppData\\Local\\Temp\\ipykernel_3744\\2623874419.py:28: FutureWarning: pandas.io.json.json_normalize is deprecated, use pandas.json_normalize instead.\n",
      "  books = json_normalize(results[\"results\"][\"books\"])\n"
     ]
    },
    {
     "name": "stdout",
     "output_type": "stream",
     "text": [
      "2020-09-28\n",
      "https://api.nytimes.com/svc/books/v3/lists/2020-09-28/combined-print-and-e-book-fiction?api-key=P1yDSg62Aydsdh04WBBuS57pYbpBu2tb\n"
     ]
    },
    {
     "name": "stderr",
     "output_type": "stream",
     "text": [
      "C:\\Users\\melan\\AppData\\Local\\Temp\\ipykernel_3744\\2623874419.py:28: FutureWarning: pandas.io.json.json_normalize is deprecated, use pandas.json_normalize instead.\n",
      "  books = json_normalize(results[\"results\"][\"books\"])\n"
     ]
    },
    {
     "name": "stdout",
     "output_type": "stream",
     "text": [
      "2020-09-21\n",
      "https://api.nytimes.com/svc/books/v3/lists/2020-09-21/combined-print-and-e-book-fiction?api-key=P1yDSg62Aydsdh04WBBuS57pYbpBu2tb\n"
     ]
    },
    {
     "name": "stderr",
     "output_type": "stream",
     "text": [
      "C:\\Users\\melan\\AppData\\Local\\Temp\\ipykernel_3744\\2623874419.py:28: FutureWarning: pandas.io.json.json_normalize is deprecated, use pandas.json_normalize instead.\n",
      "  books = json_normalize(results[\"results\"][\"books\"])\n"
     ]
    },
    {
     "name": "stdout",
     "output_type": "stream",
     "text": [
      "2020-09-14\n",
      "https://api.nytimes.com/svc/books/v3/lists/2020-09-14/combined-print-and-e-book-fiction?api-key=P1yDSg62Aydsdh04WBBuS57pYbpBu2tb\n"
     ]
    },
    {
     "name": "stderr",
     "output_type": "stream",
     "text": [
      "C:\\Users\\melan\\AppData\\Local\\Temp\\ipykernel_3744\\2623874419.py:28: FutureWarning: pandas.io.json.json_normalize is deprecated, use pandas.json_normalize instead.\n",
      "  books = json_normalize(results[\"results\"][\"books\"])\n"
     ]
    },
    {
     "name": "stdout",
     "output_type": "stream",
     "text": [
      "2020-09-07\n",
      "https://api.nytimes.com/svc/books/v3/lists/2020-09-07/combined-print-and-e-book-fiction?api-key=P1yDSg62Aydsdh04WBBuS57pYbpBu2tb\n"
     ]
    },
    {
     "name": "stderr",
     "output_type": "stream",
     "text": [
      "C:\\Users\\melan\\AppData\\Local\\Temp\\ipykernel_3744\\2623874419.py:28: FutureWarning: pandas.io.json.json_normalize is deprecated, use pandas.json_normalize instead.\n",
      "  books = json_normalize(results[\"results\"][\"books\"])\n"
     ]
    },
    {
     "name": "stdout",
     "output_type": "stream",
     "text": [
      "2020-08-31\n",
      "https://api.nytimes.com/svc/books/v3/lists/2020-08-31/combined-print-and-e-book-fiction?api-key=P1yDSg62Aydsdh04WBBuS57pYbpBu2tb\n"
     ]
    },
    {
     "name": "stderr",
     "output_type": "stream",
     "text": [
      "C:\\Users\\melan\\AppData\\Local\\Temp\\ipykernel_3744\\2623874419.py:28: FutureWarning: pandas.io.json.json_normalize is deprecated, use pandas.json_normalize instead.\n",
      "  books = json_normalize(results[\"results\"][\"books\"])\n"
     ]
    },
    {
     "name": "stdout",
     "output_type": "stream",
     "text": [
      "2020-08-24\n",
      "https://api.nytimes.com/svc/books/v3/lists/2020-08-24/combined-print-and-e-book-fiction?api-key=P1yDSg62Aydsdh04WBBuS57pYbpBu2tb\n"
     ]
    },
    {
     "name": "stderr",
     "output_type": "stream",
     "text": [
      "C:\\Users\\melan\\AppData\\Local\\Temp\\ipykernel_3744\\2623874419.py:28: FutureWarning: pandas.io.json.json_normalize is deprecated, use pandas.json_normalize instead.\n",
      "  books = json_normalize(results[\"results\"][\"books\"])\n"
     ]
    },
    {
     "name": "stdout",
     "output_type": "stream",
     "text": [
      "2020-08-17\n",
      "https://api.nytimes.com/svc/books/v3/lists/2020-08-17/combined-print-and-e-book-fiction?api-key=P1yDSg62Aydsdh04WBBuS57pYbpBu2tb\n"
     ]
    },
    {
     "name": "stderr",
     "output_type": "stream",
     "text": [
      "C:\\Users\\melan\\AppData\\Local\\Temp\\ipykernel_3744\\2623874419.py:28: FutureWarning: pandas.io.json.json_normalize is deprecated, use pandas.json_normalize instead.\n",
      "  books = json_normalize(results[\"results\"][\"books\"])\n"
     ]
    },
    {
     "name": "stdout",
     "output_type": "stream",
     "text": [
      "2020-08-10\n",
      "https://api.nytimes.com/svc/books/v3/lists/2020-08-10/combined-print-and-e-book-fiction?api-key=P1yDSg62Aydsdh04WBBuS57pYbpBu2tb\n"
     ]
    },
    {
     "name": "stderr",
     "output_type": "stream",
     "text": [
      "C:\\Users\\melan\\AppData\\Local\\Temp\\ipykernel_3744\\2623874419.py:28: FutureWarning: pandas.io.json.json_normalize is deprecated, use pandas.json_normalize instead.\n",
      "  books = json_normalize(results[\"results\"][\"books\"])\n"
     ]
    },
    {
     "name": "stdout",
     "output_type": "stream",
     "text": [
      "2020-08-03\n",
      "https://api.nytimes.com/svc/books/v3/lists/2020-08-03/combined-print-and-e-book-fiction?api-key=P1yDSg62Aydsdh04WBBuS57pYbpBu2tb\n"
     ]
    },
    {
     "name": "stderr",
     "output_type": "stream",
     "text": [
      "C:\\Users\\melan\\AppData\\Local\\Temp\\ipykernel_3744\\2623874419.py:28: FutureWarning: pandas.io.json.json_normalize is deprecated, use pandas.json_normalize instead.\n",
      "  books = json_normalize(results[\"results\"][\"books\"])\n"
     ]
    },
    {
     "name": "stdout",
     "output_type": "stream",
     "text": [
      "2020-07-27\n",
      "https://api.nytimes.com/svc/books/v3/lists/2020-07-27/combined-print-and-e-book-fiction?api-key=P1yDSg62Aydsdh04WBBuS57pYbpBu2tb\n"
     ]
    },
    {
     "name": "stderr",
     "output_type": "stream",
     "text": [
      "C:\\Users\\melan\\AppData\\Local\\Temp\\ipykernel_3744\\2623874419.py:28: FutureWarning: pandas.io.json.json_normalize is deprecated, use pandas.json_normalize instead.\n",
      "  books = json_normalize(results[\"results\"][\"books\"])\n"
     ]
    },
    {
     "name": "stdout",
     "output_type": "stream",
     "text": [
      "2020-07-20\n",
      "https://api.nytimes.com/svc/books/v3/lists/2020-07-20/combined-print-and-e-book-fiction?api-key=P1yDSg62Aydsdh04WBBuS57pYbpBu2tb\n"
     ]
    },
    {
     "name": "stderr",
     "output_type": "stream",
     "text": [
      "C:\\Users\\melan\\AppData\\Local\\Temp\\ipykernel_3744\\2623874419.py:28: FutureWarning: pandas.io.json.json_normalize is deprecated, use pandas.json_normalize instead.\n",
      "  books = json_normalize(results[\"results\"][\"books\"])\n"
     ]
    },
    {
     "name": "stdout",
     "output_type": "stream",
     "text": [
      "2020-07-13\n",
      "https://api.nytimes.com/svc/books/v3/lists/2020-07-13/combined-print-and-e-book-fiction?api-key=P1yDSg62Aydsdh04WBBuS57pYbpBu2tb\n"
     ]
    },
    {
     "name": "stderr",
     "output_type": "stream",
     "text": [
      "C:\\Users\\melan\\AppData\\Local\\Temp\\ipykernel_3744\\2623874419.py:28: FutureWarning: pandas.io.json.json_normalize is deprecated, use pandas.json_normalize instead.\n",
      "  books = json_normalize(results[\"results\"][\"books\"])\n"
     ]
    },
    {
     "name": "stdout",
     "output_type": "stream",
     "text": [
      "2020-07-06\n",
      "https://api.nytimes.com/svc/books/v3/lists/2020-07-06/combined-print-and-e-book-fiction?api-key=P1yDSg62Aydsdh04WBBuS57pYbpBu2tb\n"
     ]
    },
    {
     "name": "stderr",
     "output_type": "stream",
     "text": [
      "C:\\Users\\melan\\AppData\\Local\\Temp\\ipykernel_3744\\2623874419.py:28: FutureWarning: pandas.io.json.json_normalize is deprecated, use pandas.json_normalize instead.\n",
      "  books = json_normalize(results[\"results\"][\"books\"])\n"
     ]
    },
    {
     "name": "stdout",
     "output_type": "stream",
     "text": [
      "2020-06-29\n",
      "https://api.nytimes.com/svc/books/v3/lists/2020-06-29/combined-print-and-e-book-fiction?api-key=P1yDSg62Aydsdh04WBBuS57pYbpBu2tb\n"
     ]
    },
    {
     "name": "stderr",
     "output_type": "stream",
     "text": [
      "C:\\Users\\melan\\AppData\\Local\\Temp\\ipykernel_3744\\2623874419.py:28: FutureWarning: pandas.io.json.json_normalize is deprecated, use pandas.json_normalize instead.\n",
      "  books = json_normalize(results[\"results\"][\"books\"])\n"
     ]
    },
    {
     "name": "stdout",
     "output_type": "stream",
     "text": [
      "2020-06-22\n",
      "https://api.nytimes.com/svc/books/v3/lists/2020-06-22/combined-print-and-e-book-fiction?api-key=P1yDSg62Aydsdh04WBBuS57pYbpBu2tb\n"
     ]
    },
    {
     "name": "stderr",
     "output_type": "stream",
     "text": [
      "C:\\Users\\melan\\AppData\\Local\\Temp\\ipykernel_3744\\2623874419.py:28: FutureWarning: pandas.io.json.json_normalize is deprecated, use pandas.json_normalize instead.\n",
      "  books = json_normalize(results[\"results\"][\"books\"])\n"
     ]
    },
    {
     "name": "stdout",
     "output_type": "stream",
     "text": [
      "2020-06-15\n",
      "https://api.nytimes.com/svc/books/v3/lists/2020-06-15/combined-print-and-e-book-fiction?api-key=P1yDSg62Aydsdh04WBBuS57pYbpBu2tb\n"
     ]
    },
    {
     "name": "stderr",
     "output_type": "stream",
     "text": [
      "C:\\Users\\melan\\AppData\\Local\\Temp\\ipykernel_3744\\2623874419.py:28: FutureWarning: pandas.io.json.json_normalize is deprecated, use pandas.json_normalize instead.\n",
      "  books = json_normalize(results[\"results\"][\"books\"])\n"
     ]
    },
    {
     "name": "stdout",
     "output_type": "stream",
     "text": [
      "2020-06-08\n",
      "https://api.nytimes.com/svc/books/v3/lists/2020-06-08/combined-print-and-e-book-fiction?api-key=P1yDSg62Aydsdh04WBBuS57pYbpBu2tb\n"
     ]
    },
    {
     "name": "stderr",
     "output_type": "stream",
     "text": [
      "C:\\Users\\melan\\AppData\\Local\\Temp\\ipykernel_3744\\2623874419.py:28: FutureWarning: pandas.io.json.json_normalize is deprecated, use pandas.json_normalize instead.\n",
      "  books = json_normalize(results[\"results\"][\"books\"])\n"
     ]
    },
    {
     "name": "stdout",
     "output_type": "stream",
     "text": [
      "2020-06-01\n",
      "https://api.nytimes.com/svc/books/v3/lists/2020-06-01/combined-print-and-e-book-fiction?api-key=P1yDSg62Aydsdh04WBBuS57pYbpBu2tb\n"
     ]
    },
    {
     "name": "stderr",
     "output_type": "stream",
     "text": [
      "C:\\Users\\melan\\AppData\\Local\\Temp\\ipykernel_3744\\2623874419.py:28: FutureWarning: pandas.io.json.json_normalize is deprecated, use pandas.json_normalize instead.\n",
      "  books = json_normalize(results[\"results\"][\"books\"])\n"
     ]
    },
    {
     "name": "stdout",
     "output_type": "stream",
     "text": [
      "2020-05-25\n",
      "https://api.nytimes.com/svc/books/v3/lists/2020-05-25/combined-print-and-e-book-fiction?api-key=P1yDSg62Aydsdh04WBBuS57pYbpBu2tb\n"
     ]
    },
    {
     "name": "stderr",
     "output_type": "stream",
     "text": [
      "C:\\Users\\melan\\AppData\\Local\\Temp\\ipykernel_3744\\2623874419.py:28: FutureWarning: pandas.io.json.json_normalize is deprecated, use pandas.json_normalize instead.\n",
      "  books = json_normalize(results[\"results\"][\"books\"])\n"
     ]
    },
    {
     "name": "stdout",
     "output_type": "stream",
     "text": [
      "2020-05-18\n",
      "https://api.nytimes.com/svc/books/v3/lists/2020-05-18/combined-print-and-e-book-fiction?api-key=P1yDSg62Aydsdh04WBBuS57pYbpBu2tb\n"
     ]
    },
    {
     "name": "stderr",
     "output_type": "stream",
     "text": [
      "C:\\Users\\melan\\AppData\\Local\\Temp\\ipykernel_3744\\2623874419.py:28: FutureWarning: pandas.io.json.json_normalize is deprecated, use pandas.json_normalize instead.\n",
      "  books = json_normalize(results[\"results\"][\"books\"])\n"
     ]
    },
    {
     "name": "stdout",
     "output_type": "stream",
     "text": [
      "2020-05-11\n",
      "https://api.nytimes.com/svc/books/v3/lists/2020-05-11/combined-print-and-e-book-fiction?api-key=P1yDSg62Aydsdh04WBBuS57pYbpBu2tb\n"
     ]
    },
    {
     "name": "stderr",
     "output_type": "stream",
     "text": [
      "C:\\Users\\melan\\AppData\\Local\\Temp\\ipykernel_3744\\2623874419.py:28: FutureWarning: pandas.io.json.json_normalize is deprecated, use pandas.json_normalize instead.\n",
      "  books = json_normalize(results[\"results\"][\"books\"])\n"
     ]
    },
    {
     "name": "stdout",
     "output_type": "stream",
     "text": [
      "2020-05-04\n",
      "https://api.nytimes.com/svc/books/v3/lists/2020-05-04/combined-print-and-e-book-fiction?api-key=P1yDSg62Aydsdh04WBBuS57pYbpBu2tb\n"
     ]
    },
    {
     "name": "stderr",
     "output_type": "stream",
     "text": [
      "C:\\Users\\melan\\AppData\\Local\\Temp\\ipykernel_3744\\2623874419.py:28: FutureWarning: pandas.io.json.json_normalize is deprecated, use pandas.json_normalize instead.\n",
      "  books = json_normalize(results[\"results\"][\"books\"])\n"
     ]
    },
    {
     "name": "stdout",
     "output_type": "stream",
     "text": [
      "2020-04-27\n",
      "https://api.nytimes.com/svc/books/v3/lists/2020-04-27/combined-print-and-e-book-fiction?api-key=P1yDSg62Aydsdh04WBBuS57pYbpBu2tb\n"
     ]
    },
    {
     "name": "stderr",
     "output_type": "stream",
     "text": [
      "C:\\Users\\melan\\AppData\\Local\\Temp\\ipykernel_3744\\2623874419.py:28: FutureWarning: pandas.io.json.json_normalize is deprecated, use pandas.json_normalize instead.\n",
      "  books = json_normalize(results[\"results\"][\"books\"])\n"
     ]
    },
    {
     "name": "stdout",
     "output_type": "stream",
     "text": [
      "2020-04-20\n",
      "https://api.nytimes.com/svc/books/v3/lists/2020-04-20/combined-print-and-e-book-fiction?api-key=P1yDSg62Aydsdh04WBBuS57pYbpBu2tb\n"
     ]
    },
    {
     "name": "stderr",
     "output_type": "stream",
     "text": [
      "C:\\Users\\melan\\AppData\\Local\\Temp\\ipykernel_3744\\2623874419.py:28: FutureWarning: pandas.io.json.json_normalize is deprecated, use pandas.json_normalize instead.\n",
      "  books = json_normalize(results[\"results\"][\"books\"])\n"
     ]
    },
    {
     "name": "stdout",
     "output_type": "stream",
     "text": [
      "2020-04-13\n",
      "https://api.nytimes.com/svc/books/v3/lists/2020-04-13/combined-print-and-e-book-fiction?api-key=P1yDSg62Aydsdh04WBBuS57pYbpBu2tb\n"
     ]
    },
    {
     "name": "stderr",
     "output_type": "stream",
     "text": [
      "C:\\Users\\melan\\AppData\\Local\\Temp\\ipykernel_3744\\2623874419.py:28: FutureWarning: pandas.io.json.json_normalize is deprecated, use pandas.json_normalize instead.\n",
      "  books = json_normalize(results[\"results\"][\"books\"])\n"
     ]
    },
    {
     "name": "stdout",
     "output_type": "stream",
     "text": [
      "2020-04-06\n",
      "https://api.nytimes.com/svc/books/v3/lists/2020-04-06/combined-print-and-e-book-fiction?api-key=P1yDSg62Aydsdh04WBBuS57pYbpBu2tb\n"
     ]
    },
    {
     "name": "stderr",
     "output_type": "stream",
     "text": [
      "C:\\Users\\melan\\AppData\\Local\\Temp\\ipykernel_3744\\2623874419.py:28: FutureWarning: pandas.io.json.json_normalize is deprecated, use pandas.json_normalize instead.\n",
      "  books = json_normalize(results[\"results\"][\"books\"])\n"
     ]
    },
    {
     "name": "stdout",
     "output_type": "stream",
     "text": [
      "2020-03-30\n",
      "https://api.nytimes.com/svc/books/v3/lists/2020-03-30/combined-print-and-e-book-fiction?api-key=P1yDSg62Aydsdh04WBBuS57pYbpBu2tb\n"
     ]
    },
    {
     "name": "stderr",
     "output_type": "stream",
     "text": [
      "C:\\Users\\melan\\AppData\\Local\\Temp\\ipykernel_3744\\2623874419.py:28: FutureWarning: pandas.io.json.json_normalize is deprecated, use pandas.json_normalize instead.\n",
      "  books = json_normalize(results[\"results\"][\"books\"])\n"
     ]
    },
    {
     "name": "stdout",
     "output_type": "stream",
     "text": [
      "2020-03-23\n",
      "https://api.nytimes.com/svc/books/v3/lists/2020-03-23/combined-print-and-e-book-fiction?api-key=P1yDSg62Aydsdh04WBBuS57pYbpBu2tb\n"
     ]
    },
    {
     "name": "stderr",
     "output_type": "stream",
     "text": [
      "C:\\Users\\melan\\AppData\\Local\\Temp\\ipykernel_3744\\2623874419.py:28: FutureWarning: pandas.io.json.json_normalize is deprecated, use pandas.json_normalize instead.\n",
      "  books = json_normalize(results[\"results\"][\"books\"])\n"
     ]
    },
    {
     "name": "stdout",
     "output_type": "stream",
     "text": [
      "2020-03-16\n",
      "https://api.nytimes.com/svc/books/v3/lists/2020-03-16/combined-print-and-e-book-fiction?api-key=P1yDSg62Aydsdh04WBBuS57pYbpBu2tb\n"
     ]
    },
    {
     "name": "stderr",
     "output_type": "stream",
     "text": [
      "C:\\Users\\melan\\AppData\\Local\\Temp\\ipykernel_3744\\2623874419.py:28: FutureWarning: pandas.io.json.json_normalize is deprecated, use pandas.json_normalize instead.\n",
      "  books = json_normalize(results[\"results\"][\"books\"])\n"
     ]
    },
    {
     "name": "stdout",
     "output_type": "stream",
     "text": [
      "2020-03-09\n",
      "https://api.nytimes.com/svc/books/v3/lists/2020-03-09/combined-print-and-e-book-fiction?api-key=P1yDSg62Aydsdh04WBBuS57pYbpBu2tb\n"
     ]
    },
    {
     "name": "stderr",
     "output_type": "stream",
     "text": [
      "C:\\Users\\melan\\AppData\\Local\\Temp\\ipykernel_3744\\2623874419.py:28: FutureWarning: pandas.io.json.json_normalize is deprecated, use pandas.json_normalize instead.\n",
      "  books = json_normalize(results[\"results\"][\"books\"])\n"
     ]
    },
    {
     "name": "stdout",
     "output_type": "stream",
     "text": [
      "2020-03-02\n",
      "https://api.nytimes.com/svc/books/v3/lists/2020-03-02/combined-print-and-e-book-fiction?api-key=P1yDSg62Aydsdh04WBBuS57pYbpBu2tb\n"
     ]
    },
    {
     "name": "stderr",
     "output_type": "stream",
     "text": [
      "C:\\Users\\melan\\AppData\\Local\\Temp\\ipykernel_3744\\2623874419.py:28: FutureWarning: pandas.io.json.json_normalize is deprecated, use pandas.json_normalize instead.\n",
      "  books = json_normalize(results[\"results\"][\"books\"])\n"
     ]
    },
    {
     "name": "stdout",
     "output_type": "stream",
     "text": [
      "2020-02-24\n",
      "https://api.nytimes.com/svc/books/v3/lists/2020-02-24/combined-print-and-e-book-fiction?api-key=P1yDSg62Aydsdh04WBBuS57pYbpBu2tb\n"
     ]
    },
    {
     "name": "stderr",
     "output_type": "stream",
     "text": [
      "C:\\Users\\melan\\AppData\\Local\\Temp\\ipykernel_3744\\2623874419.py:28: FutureWarning: pandas.io.json.json_normalize is deprecated, use pandas.json_normalize instead.\n",
      "  books = json_normalize(results[\"results\"][\"books\"])\n"
     ]
    },
    {
     "name": "stdout",
     "output_type": "stream",
     "text": [
      "2020-02-17\n",
      "https://api.nytimes.com/svc/books/v3/lists/2020-02-17/combined-print-and-e-book-fiction?api-key=P1yDSg62Aydsdh04WBBuS57pYbpBu2tb\n"
     ]
    },
    {
     "name": "stderr",
     "output_type": "stream",
     "text": [
      "C:\\Users\\melan\\AppData\\Local\\Temp\\ipykernel_3744\\2623874419.py:28: FutureWarning: pandas.io.json.json_normalize is deprecated, use pandas.json_normalize instead.\n",
      "  books = json_normalize(results[\"results\"][\"books\"])\n"
     ]
    },
    {
     "name": "stdout",
     "output_type": "stream",
     "text": [
      "2020-02-10\n",
      "https://api.nytimes.com/svc/books/v3/lists/2020-02-10/combined-print-and-e-book-fiction?api-key=P1yDSg62Aydsdh04WBBuS57pYbpBu2tb\n"
     ]
    },
    {
     "name": "stderr",
     "output_type": "stream",
     "text": [
      "C:\\Users\\melan\\AppData\\Local\\Temp\\ipykernel_3744\\2623874419.py:28: FutureWarning: pandas.io.json.json_normalize is deprecated, use pandas.json_normalize instead.\n",
      "  books = json_normalize(results[\"results\"][\"books\"])\n"
     ]
    },
    {
     "name": "stdout",
     "output_type": "stream",
     "text": [
      "2020-02-03\n",
      "https://api.nytimes.com/svc/books/v3/lists/2020-02-03/combined-print-and-e-book-fiction?api-key=P1yDSg62Aydsdh04WBBuS57pYbpBu2tb\n"
     ]
    },
    {
     "name": "stderr",
     "output_type": "stream",
     "text": [
      "C:\\Users\\melan\\AppData\\Local\\Temp\\ipykernel_3744\\2623874419.py:28: FutureWarning: pandas.io.json.json_normalize is deprecated, use pandas.json_normalize instead.\n",
      "  books = json_normalize(results[\"results\"][\"books\"])\n"
     ]
    },
    {
     "name": "stdout",
     "output_type": "stream",
     "text": [
      "2020-01-27\n",
      "https://api.nytimes.com/svc/books/v3/lists/2020-01-27/combined-print-and-e-book-fiction?api-key=P1yDSg62Aydsdh04WBBuS57pYbpBu2tb\n"
     ]
    },
    {
     "name": "stderr",
     "output_type": "stream",
     "text": [
      "C:\\Users\\melan\\AppData\\Local\\Temp\\ipykernel_3744\\2623874419.py:28: FutureWarning: pandas.io.json.json_normalize is deprecated, use pandas.json_normalize instead.\n",
      "  books = json_normalize(results[\"results\"][\"books\"])\n"
     ]
    },
    {
     "name": "stdout",
     "output_type": "stream",
     "text": [
      "2020-01-20\n",
      "https://api.nytimes.com/svc/books/v3/lists/2020-01-20/combined-print-and-e-book-fiction?api-key=P1yDSg62Aydsdh04WBBuS57pYbpBu2tb\n"
     ]
    },
    {
     "name": "stderr",
     "output_type": "stream",
     "text": [
      "C:\\Users\\melan\\AppData\\Local\\Temp\\ipykernel_3744\\2623874419.py:28: FutureWarning: pandas.io.json.json_normalize is deprecated, use pandas.json_normalize instead.\n",
      "  books = json_normalize(results[\"results\"][\"books\"])\n"
     ]
    },
    {
     "name": "stdout",
     "output_type": "stream",
     "text": [
      "2020-01-13\n",
      "https://api.nytimes.com/svc/books/v3/lists/2020-01-13/combined-print-and-e-book-fiction?api-key=P1yDSg62Aydsdh04WBBuS57pYbpBu2tb\n"
     ]
    },
    {
     "name": "stderr",
     "output_type": "stream",
     "text": [
      "C:\\Users\\melan\\AppData\\Local\\Temp\\ipykernel_3744\\2623874419.py:28: FutureWarning: pandas.io.json.json_normalize is deprecated, use pandas.json_normalize instead.\n",
      "  books = json_normalize(results[\"results\"][\"books\"])\n"
     ]
    },
    {
     "name": "stdout",
     "output_type": "stream",
     "text": [
      "2020-01-06\n",
      "https://api.nytimes.com/svc/books/v3/lists/2020-01-06/combined-print-and-e-book-fiction?api-key=P1yDSg62Aydsdh04WBBuS57pYbpBu2tb\n"
     ]
    },
    {
     "name": "stderr",
     "output_type": "stream",
     "text": [
      "C:\\Users\\melan\\AppData\\Local\\Temp\\ipykernel_3744\\2623874419.py:28: FutureWarning: pandas.io.json.json_normalize is deprecated, use pandas.json_normalize instead.\n",
      "  books = json_normalize(results[\"results\"][\"books\"])\n"
     ]
    },
    {
     "name": "stdout",
     "output_type": "stream",
     "text": [
      "2019-12-30\n",
      "https://api.nytimes.com/svc/books/v3/lists/2019-12-30/combined-print-and-e-book-fiction?api-key=P1yDSg62Aydsdh04WBBuS57pYbpBu2tb\n"
     ]
    },
    {
     "name": "stderr",
     "output_type": "stream",
     "text": [
      "C:\\Users\\melan\\AppData\\Local\\Temp\\ipykernel_3744\\2623874419.py:28: FutureWarning: pandas.io.json.json_normalize is deprecated, use pandas.json_normalize instead.\n",
      "  books = json_normalize(results[\"results\"][\"books\"])\n"
     ]
    },
    {
     "name": "stdout",
     "output_type": "stream",
     "text": [
      "2019-12-23\n",
      "https://api.nytimes.com/svc/books/v3/lists/2019-12-23/combined-print-and-e-book-fiction?api-key=P1yDSg62Aydsdh04WBBuS57pYbpBu2tb\n"
     ]
    },
    {
     "name": "stderr",
     "output_type": "stream",
     "text": [
      "C:\\Users\\melan\\AppData\\Local\\Temp\\ipykernel_3744\\2623874419.py:28: FutureWarning: pandas.io.json.json_normalize is deprecated, use pandas.json_normalize instead.\n",
      "  books = json_normalize(results[\"results\"][\"books\"])\n"
     ]
    },
    {
     "name": "stdout",
     "output_type": "stream",
     "text": [
      "2019-12-16\n",
      "https://api.nytimes.com/svc/books/v3/lists/2019-12-16/combined-print-and-e-book-fiction?api-key=P1yDSg62Aydsdh04WBBuS57pYbpBu2tb\n"
     ]
    },
    {
     "name": "stderr",
     "output_type": "stream",
     "text": [
      "C:\\Users\\melan\\AppData\\Local\\Temp\\ipykernel_3744\\2623874419.py:28: FutureWarning: pandas.io.json.json_normalize is deprecated, use pandas.json_normalize instead.\n",
      "  books = json_normalize(results[\"results\"][\"books\"])\n"
     ]
    },
    {
     "name": "stdout",
     "output_type": "stream",
     "text": [
      "2019-12-09\n",
      "https://api.nytimes.com/svc/books/v3/lists/2019-12-09/combined-print-and-e-book-fiction?api-key=P1yDSg62Aydsdh04WBBuS57pYbpBu2tb\n"
     ]
    },
    {
     "name": "stderr",
     "output_type": "stream",
     "text": [
      "C:\\Users\\melan\\AppData\\Local\\Temp\\ipykernel_3744\\2623874419.py:28: FutureWarning: pandas.io.json.json_normalize is deprecated, use pandas.json_normalize instead.\n",
      "  books = json_normalize(results[\"results\"][\"books\"])\n"
     ]
    },
    {
     "name": "stdout",
     "output_type": "stream",
     "text": [
      "2019-12-02\n",
      "https://api.nytimes.com/svc/books/v3/lists/2019-12-02/combined-print-and-e-book-fiction?api-key=P1yDSg62Aydsdh04WBBuS57pYbpBu2tb\n"
     ]
    },
    {
     "name": "stderr",
     "output_type": "stream",
     "text": [
      "C:\\Users\\melan\\AppData\\Local\\Temp\\ipykernel_3744\\2623874419.py:28: FutureWarning: pandas.io.json.json_normalize is deprecated, use pandas.json_normalize instead.\n",
      "  books = json_normalize(results[\"results\"][\"books\"])\n"
     ]
    },
    {
     "name": "stdout",
     "output_type": "stream",
     "text": [
      "2019-11-25\n",
      "https://api.nytimes.com/svc/books/v3/lists/2019-11-25/combined-print-and-e-book-fiction?api-key=P1yDSg62Aydsdh04WBBuS57pYbpBu2tb\n"
     ]
    },
    {
     "name": "stderr",
     "output_type": "stream",
     "text": [
      "C:\\Users\\melan\\AppData\\Local\\Temp\\ipykernel_3744\\2623874419.py:28: FutureWarning: pandas.io.json.json_normalize is deprecated, use pandas.json_normalize instead.\n",
      "  books = json_normalize(results[\"results\"][\"books\"])\n"
     ]
    },
    {
     "name": "stdout",
     "output_type": "stream",
     "text": [
      "2019-11-18\n",
      "https://api.nytimes.com/svc/books/v3/lists/2019-11-18/combined-print-and-e-book-fiction?api-key=P1yDSg62Aydsdh04WBBuS57pYbpBu2tb\n"
     ]
    },
    {
     "name": "stderr",
     "output_type": "stream",
     "text": [
      "C:\\Users\\melan\\AppData\\Local\\Temp\\ipykernel_3744\\2623874419.py:28: FutureWarning: pandas.io.json.json_normalize is deprecated, use pandas.json_normalize instead.\n",
      "  books = json_normalize(results[\"results\"][\"books\"])\n"
     ]
    },
    {
     "name": "stdout",
     "output_type": "stream",
     "text": [
      "2019-11-11\n",
      "https://api.nytimes.com/svc/books/v3/lists/2019-11-11/combined-print-and-e-book-fiction?api-key=P1yDSg62Aydsdh04WBBuS57pYbpBu2tb\n"
     ]
    },
    {
     "name": "stderr",
     "output_type": "stream",
     "text": [
      "C:\\Users\\melan\\AppData\\Local\\Temp\\ipykernel_3744\\2623874419.py:28: FutureWarning: pandas.io.json.json_normalize is deprecated, use pandas.json_normalize instead.\n",
      "  books = json_normalize(results[\"results\"][\"books\"])\n"
     ]
    },
    {
     "name": "stdout",
     "output_type": "stream",
     "text": [
      "2019-11-04\n",
      "https://api.nytimes.com/svc/books/v3/lists/2019-11-04/combined-print-and-e-book-fiction?api-key=P1yDSg62Aydsdh04WBBuS57pYbpBu2tb\n"
     ]
    },
    {
     "name": "stderr",
     "output_type": "stream",
     "text": [
      "C:\\Users\\melan\\AppData\\Local\\Temp\\ipykernel_3744\\2623874419.py:28: FutureWarning: pandas.io.json.json_normalize is deprecated, use pandas.json_normalize instead.\n",
      "  books = json_normalize(results[\"results\"][\"books\"])\n"
     ]
    },
    {
     "name": "stdout",
     "output_type": "stream",
     "text": [
      "2019-10-28\n",
      "https://api.nytimes.com/svc/books/v3/lists/2019-10-28/combined-print-and-e-book-fiction?api-key=P1yDSg62Aydsdh04WBBuS57pYbpBu2tb\n"
     ]
    },
    {
     "name": "stderr",
     "output_type": "stream",
     "text": [
      "C:\\Users\\melan\\AppData\\Local\\Temp\\ipykernel_3744\\2623874419.py:28: FutureWarning: pandas.io.json.json_normalize is deprecated, use pandas.json_normalize instead.\n",
      "  books = json_normalize(results[\"results\"][\"books\"])\n"
     ]
    },
    {
     "name": "stdout",
     "output_type": "stream",
     "text": [
      "2019-10-21\n",
      "https://api.nytimes.com/svc/books/v3/lists/2019-10-21/combined-print-and-e-book-fiction?api-key=P1yDSg62Aydsdh04WBBuS57pYbpBu2tb\n"
     ]
    },
    {
     "name": "stderr",
     "output_type": "stream",
     "text": [
      "C:\\Users\\melan\\AppData\\Local\\Temp\\ipykernel_3744\\2623874419.py:28: FutureWarning: pandas.io.json.json_normalize is deprecated, use pandas.json_normalize instead.\n",
      "  books = json_normalize(results[\"results\"][\"books\"])\n"
     ]
    },
    {
     "name": "stdout",
     "output_type": "stream",
     "text": [
      "2019-10-14\n",
      "https://api.nytimes.com/svc/books/v3/lists/2019-10-14/combined-print-and-e-book-fiction?api-key=P1yDSg62Aydsdh04WBBuS57pYbpBu2tb\n"
     ]
    },
    {
     "name": "stderr",
     "output_type": "stream",
     "text": [
      "C:\\Users\\melan\\AppData\\Local\\Temp\\ipykernel_3744\\2623874419.py:28: FutureWarning: pandas.io.json.json_normalize is deprecated, use pandas.json_normalize instead.\n",
      "  books = json_normalize(results[\"results\"][\"books\"])\n"
     ]
    },
    {
     "name": "stdout",
     "output_type": "stream",
     "text": [
      "2019-10-07\n",
      "https://api.nytimes.com/svc/books/v3/lists/2019-10-07/combined-print-and-e-book-fiction?api-key=P1yDSg62Aydsdh04WBBuS57pYbpBu2tb\n"
     ]
    },
    {
     "name": "stderr",
     "output_type": "stream",
     "text": [
      "C:\\Users\\melan\\AppData\\Local\\Temp\\ipykernel_3744\\2623874419.py:28: FutureWarning: pandas.io.json.json_normalize is deprecated, use pandas.json_normalize instead.\n",
      "  books = json_normalize(results[\"results\"][\"books\"])\n"
     ]
    },
    {
     "name": "stdout",
     "output_type": "stream",
     "text": [
      "2019-09-30\n",
      "https://api.nytimes.com/svc/books/v3/lists/2019-09-30/combined-print-and-e-book-fiction?api-key=P1yDSg62Aydsdh04WBBuS57pYbpBu2tb\n"
     ]
    },
    {
     "name": "stderr",
     "output_type": "stream",
     "text": [
      "C:\\Users\\melan\\AppData\\Local\\Temp\\ipykernel_3744\\2623874419.py:28: FutureWarning: pandas.io.json.json_normalize is deprecated, use pandas.json_normalize instead.\n",
      "  books = json_normalize(results[\"results\"][\"books\"])\n"
     ]
    },
    {
     "name": "stdout",
     "output_type": "stream",
     "text": [
      "2019-09-23\n",
      "https://api.nytimes.com/svc/books/v3/lists/2019-09-23/combined-print-and-e-book-fiction?api-key=P1yDSg62Aydsdh04WBBuS57pYbpBu2tb\n"
     ]
    },
    {
     "name": "stderr",
     "output_type": "stream",
     "text": [
      "C:\\Users\\melan\\AppData\\Local\\Temp\\ipykernel_3744\\2623874419.py:28: FutureWarning: pandas.io.json.json_normalize is deprecated, use pandas.json_normalize instead.\n",
      "  books = json_normalize(results[\"results\"][\"books\"])\n"
     ]
    },
    {
     "name": "stdout",
     "output_type": "stream",
     "text": [
      "2019-09-16\n",
      "https://api.nytimes.com/svc/books/v3/lists/2019-09-16/combined-print-and-e-book-fiction?api-key=P1yDSg62Aydsdh04WBBuS57pYbpBu2tb\n"
     ]
    },
    {
     "name": "stderr",
     "output_type": "stream",
     "text": [
      "C:\\Users\\melan\\AppData\\Local\\Temp\\ipykernel_3744\\2623874419.py:28: FutureWarning: pandas.io.json.json_normalize is deprecated, use pandas.json_normalize instead.\n",
      "  books = json_normalize(results[\"results\"][\"books\"])\n"
     ]
    },
    {
     "name": "stdout",
     "output_type": "stream",
     "text": [
      "2019-09-09\n",
      "https://api.nytimes.com/svc/books/v3/lists/2019-09-09/combined-print-and-e-book-fiction?api-key=P1yDSg62Aydsdh04WBBuS57pYbpBu2tb\n"
     ]
    },
    {
     "name": "stderr",
     "output_type": "stream",
     "text": [
      "C:\\Users\\melan\\AppData\\Local\\Temp\\ipykernel_3744\\2623874419.py:28: FutureWarning: pandas.io.json.json_normalize is deprecated, use pandas.json_normalize instead.\n",
      "  books = json_normalize(results[\"results\"][\"books\"])\n"
     ]
    },
    {
     "name": "stdout",
     "output_type": "stream",
     "text": [
      "2019-09-02\n",
      "https://api.nytimes.com/svc/books/v3/lists/2019-09-02/combined-print-and-e-book-fiction?api-key=P1yDSg62Aydsdh04WBBuS57pYbpBu2tb\n"
     ]
    },
    {
     "name": "stderr",
     "output_type": "stream",
     "text": [
      "C:\\Users\\melan\\AppData\\Local\\Temp\\ipykernel_3744\\2623874419.py:28: FutureWarning: pandas.io.json.json_normalize is deprecated, use pandas.json_normalize instead.\n",
      "  books = json_normalize(results[\"results\"][\"books\"])\n"
     ]
    },
    {
     "name": "stdout",
     "output_type": "stream",
     "text": [
      "2019-08-26\n",
      "https://api.nytimes.com/svc/books/v3/lists/2019-08-26/combined-print-and-e-book-fiction?api-key=P1yDSg62Aydsdh04WBBuS57pYbpBu2tb\n"
     ]
    },
    {
     "name": "stderr",
     "output_type": "stream",
     "text": [
      "C:\\Users\\melan\\AppData\\Local\\Temp\\ipykernel_3744\\2623874419.py:28: FutureWarning: pandas.io.json.json_normalize is deprecated, use pandas.json_normalize instead.\n",
      "  books = json_normalize(results[\"results\"][\"books\"])\n"
     ]
    },
    {
     "name": "stdout",
     "output_type": "stream",
     "text": [
      "2019-08-19\n",
      "https://api.nytimes.com/svc/books/v3/lists/2019-08-19/combined-print-and-e-book-fiction?api-key=P1yDSg62Aydsdh04WBBuS57pYbpBu2tb\n"
     ]
    },
    {
     "name": "stderr",
     "output_type": "stream",
     "text": [
      "C:\\Users\\melan\\AppData\\Local\\Temp\\ipykernel_3744\\2623874419.py:28: FutureWarning: pandas.io.json.json_normalize is deprecated, use pandas.json_normalize instead.\n",
      "  books = json_normalize(results[\"results\"][\"books\"])\n"
     ]
    },
    {
     "name": "stdout",
     "output_type": "stream",
     "text": [
      "2019-08-12\n",
      "https://api.nytimes.com/svc/books/v3/lists/2019-08-12/combined-print-and-e-book-fiction?api-key=P1yDSg62Aydsdh04WBBuS57pYbpBu2tb\n"
     ]
    },
    {
     "name": "stderr",
     "output_type": "stream",
     "text": [
      "C:\\Users\\melan\\AppData\\Local\\Temp\\ipykernel_3744\\2623874419.py:28: FutureWarning: pandas.io.json.json_normalize is deprecated, use pandas.json_normalize instead.\n",
      "  books = json_normalize(results[\"results\"][\"books\"])\n"
     ]
    },
    {
     "name": "stdout",
     "output_type": "stream",
     "text": [
      "2019-08-05\n",
      "https://api.nytimes.com/svc/books/v3/lists/2019-08-05/combined-print-and-e-book-fiction?api-key=P1yDSg62Aydsdh04WBBuS57pYbpBu2tb\n"
     ]
    },
    {
     "name": "stderr",
     "output_type": "stream",
     "text": [
      "C:\\Users\\melan\\AppData\\Local\\Temp\\ipykernel_3744\\2623874419.py:28: FutureWarning: pandas.io.json.json_normalize is deprecated, use pandas.json_normalize instead.\n",
      "  books = json_normalize(results[\"results\"][\"books\"])\n"
     ]
    },
    {
     "name": "stdout",
     "output_type": "stream",
     "text": [
      "2019-07-29\n",
      "https://api.nytimes.com/svc/books/v3/lists/2019-07-29/combined-print-and-e-book-fiction?api-key=P1yDSg62Aydsdh04WBBuS57pYbpBu2tb\n"
     ]
    },
    {
     "name": "stderr",
     "output_type": "stream",
     "text": [
      "C:\\Users\\melan\\AppData\\Local\\Temp\\ipykernel_3744\\2623874419.py:28: FutureWarning: pandas.io.json.json_normalize is deprecated, use pandas.json_normalize instead.\n",
      "  books = json_normalize(results[\"results\"][\"books\"])\n"
     ]
    },
    {
     "name": "stdout",
     "output_type": "stream",
     "text": [
      "2019-07-22\n",
      "https://api.nytimes.com/svc/books/v3/lists/2019-07-22/combined-print-and-e-book-fiction?api-key=P1yDSg62Aydsdh04WBBuS57pYbpBu2tb\n"
     ]
    },
    {
     "name": "stderr",
     "output_type": "stream",
     "text": [
      "C:\\Users\\melan\\AppData\\Local\\Temp\\ipykernel_3744\\2623874419.py:28: FutureWarning: pandas.io.json.json_normalize is deprecated, use pandas.json_normalize instead.\n",
      "  books = json_normalize(results[\"results\"][\"books\"])\n"
     ]
    },
    {
     "name": "stdout",
     "output_type": "stream",
     "text": [
      "2019-07-15\n",
      "https://api.nytimes.com/svc/books/v3/lists/2019-07-15/combined-print-and-e-book-fiction?api-key=P1yDSg62Aydsdh04WBBuS57pYbpBu2tb\n"
     ]
    },
    {
     "name": "stderr",
     "output_type": "stream",
     "text": [
      "C:\\Users\\melan\\AppData\\Local\\Temp\\ipykernel_3744\\2623874419.py:28: FutureWarning: pandas.io.json.json_normalize is deprecated, use pandas.json_normalize instead.\n",
      "  books = json_normalize(results[\"results\"][\"books\"])\n"
     ]
    },
    {
     "name": "stdout",
     "output_type": "stream",
     "text": [
      "2019-07-08\n",
      "https://api.nytimes.com/svc/books/v3/lists/2019-07-08/combined-print-and-e-book-fiction?api-key=P1yDSg62Aydsdh04WBBuS57pYbpBu2tb\n"
     ]
    },
    {
     "name": "stderr",
     "output_type": "stream",
     "text": [
      "C:\\Users\\melan\\AppData\\Local\\Temp\\ipykernel_3744\\2623874419.py:28: FutureWarning: pandas.io.json.json_normalize is deprecated, use pandas.json_normalize instead.\n",
      "  books = json_normalize(results[\"results\"][\"books\"])\n"
     ]
    },
    {
     "name": "stdout",
     "output_type": "stream",
     "text": [
      "2019-07-01\n",
      "https://api.nytimes.com/svc/books/v3/lists/2019-07-01/combined-print-and-e-book-fiction?api-key=P1yDSg62Aydsdh04WBBuS57pYbpBu2tb\n"
     ]
    },
    {
     "name": "stderr",
     "output_type": "stream",
     "text": [
      "C:\\Users\\melan\\AppData\\Local\\Temp\\ipykernel_3744\\2623874419.py:28: FutureWarning: pandas.io.json.json_normalize is deprecated, use pandas.json_normalize instead.\n",
      "  books = json_normalize(results[\"results\"][\"books\"])\n"
     ]
    },
    {
     "name": "stdout",
     "output_type": "stream",
     "text": [
      "2019-06-24\n",
      "https://api.nytimes.com/svc/books/v3/lists/2019-06-24/combined-print-and-e-book-fiction?api-key=P1yDSg62Aydsdh04WBBuS57pYbpBu2tb\n"
     ]
    },
    {
     "name": "stderr",
     "output_type": "stream",
     "text": [
      "C:\\Users\\melan\\AppData\\Local\\Temp\\ipykernel_3744\\2623874419.py:28: FutureWarning: pandas.io.json.json_normalize is deprecated, use pandas.json_normalize instead.\n",
      "  books = json_normalize(results[\"results\"][\"books\"])\n"
     ]
    },
    {
     "name": "stdout",
     "output_type": "stream",
     "text": [
      "2019-06-17\n",
      "https://api.nytimes.com/svc/books/v3/lists/2019-06-17/combined-print-and-e-book-fiction?api-key=P1yDSg62Aydsdh04WBBuS57pYbpBu2tb\n"
     ]
    },
    {
     "name": "stderr",
     "output_type": "stream",
     "text": [
      "C:\\Users\\melan\\AppData\\Local\\Temp\\ipykernel_3744\\2623874419.py:28: FutureWarning: pandas.io.json.json_normalize is deprecated, use pandas.json_normalize instead.\n",
      "  books = json_normalize(results[\"results\"][\"books\"])\n"
     ]
    },
    {
     "name": "stdout",
     "output_type": "stream",
     "text": [
      "2019-06-10\n",
      "https://api.nytimes.com/svc/books/v3/lists/2019-06-10/combined-print-and-e-book-fiction?api-key=P1yDSg62Aydsdh04WBBuS57pYbpBu2tb\n"
     ]
    },
    {
     "name": "stderr",
     "output_type": "stream",
     "text": [
      "C:\\Users\\melan\\AppData\\Local\\Temp\\ipykernel_3744\\2623874419.py:28: FutureWarning: pandas.io.json.json_normalize is deprecated, use pandas.json_normalize instead.\n",
      "  books = json_normalize(results[\"results\"][\"books\"])\n"
     ]
    },
    {
     "name": "stdout",
     "output_type": "stream",
     "text": [
      "2019-06-03\n",
      "https://api.nytimes.com/svc/books/v3/lists/2019-06-03/combined-print-and-e-book-fiction?api-key=P1yDSg62Aydsdh04WBBuS57pYbpBu2tb\n"
     ]
    },
    {
     "name": "stderr",
     "output_type": "stream",
     "text": [
      "C:\\Users\\melan\\AppData\\Local\\Temp\\ipykernel_3744\\2623874419.py:28: FutureWarning: pandas.io.json.json_normalize is deprecated, use pandas.json_normalize instead.\n",
      "  books = json_normalize(results[\"results\"][\"books\"])\n"
     ]
    },
    {
     "name": "stdout",
     "output_type": "stream",
     "text": [
      "2019-05-27\n",
      "https://api.nytimes.com/svc/books/v3/lists/2019-05-27/combined-print-and-e-book-fiction?api-key=P1yDSg62Aydsdh04WBBuS57pYbpBu2tb\n"
     ]
    },
    {
     "name": "stderr",
     "output_type": "stream",
     "text": [
      "C:\\Users\\melan\\AppData\\Local\\Temp\\ipykernel_3744\\2623874419.py:28: FutureWarning: pandas.io.json.json_normalize is deprecated, use pandas.json_normalize instead.\n",
      "  books = json_normalize(results[\"results\"][\"books\"])\n"
     ]
    },
    {
     "name": "stdout",
     "output_type": "stream",
     "text": [
      "2019-05-20\n",
      "https://api.nytimes.com/svc/books/v3/lists/2019-05-20/combined-print-and-e-book-fiction?api-key=P1yDSg62Aydsdh04WBBuS57pYbpBu2tb\n"
     ]
    },
    {
     "name": "stderr",
     "output_type": "stream",
     "text": [
      "C:\\Users\\melan\\AppData\\Local\\Temp\\ipykernel_3744\\2623874419.py:28: FutureWarning: pandas.io.json.json_normalize is deprecated, use pandas.json_normalize instead.\n",
      "  books = json_normalize(results[\"results\"][\"books\"])\n"
     ]
    },
    {
     "name": "stdout",
     "output_type": "stream",
     "text": [
      "2019-05-13\n",
      "https://api.nytimes.com/svc/books/v3/lists/2019-05-13/combined-print-and-e-book-fiction?api-key=P1yDSg62Aydsdh04WBBuS57pYbpBu2tb\n"
     ]
    },
    {
     "name": "stderr",
     "output_type": "stream",
     "text": [
      "C:\\Users\\melan\\AppData\\Local\\Temp\\ipykernel_3744\\2623874419.py:28: FutureWarning: pandas.io.json.json_normalize is deprecated, use pandas.json_normalize instead.\n",
      "  books = json_normalize(results[\"results\"][\"books\"])\n"
     ]
    },
    {
     "name": "stdout",
     "output_type": "stream",
     "text": [
      "2019-05-06\n",
      "https://api.nytimes.com/svc/books/v3/lists/2019-05-06/combined-print-and-e-book-fiction?api-key=P1yDSg62Aydsdh04WBBuS57pYbpBu2tb\n"
     ]
    },
    {
     "name": "stderr",
     "output_type": "stream",
     "text": [
      "C:\\Users\\melan\\AppData\\Local\\Temp\\ipykernel_3744\\2623874419.py:28: FutureWarning: pandas.io.json.json_normalize is deprecated, use pandas.json_normalize instead.\n",
      "  books = json_normalize(results[\"results\"][\"books\"])\n"
     ]
    },
    {
     "name": "stdout",
     "output_type": "stream",
     "text": [
      "2019-04-29\n",
      "https://api.nytimes.com/svc/books/v3/lists/2019-04-29/combined-print-and-e-book-fiction?api-key=P1yDSg62Aydsdh04WBBuS57pYbpBu2tb\n"
     ]
    },
    {
     "name": "stderr",
     "output_type": "stream",
     "text": [
      "C:\\Users\\melan\\AppData\\Local\\Temp\\ipykernel_3744\\2623874419.py:28: FutureWarning: pandas.io.json.json_normalize is deprecated, use pandas.json_normalize instead.\n",
      "  books = json_normalize(results[\"results\"][\"books\"])\n"
     ]
    },
    {
     "name": "stdout",
     "output_type": "stream",
     "text": [
      "2019-04-22\n",
      "https://api.nytimes.com/svc/books/v3/lists/2019-04-22/combined-print-and-e-book-fiction?api-key=P1yDSg62Aydsdh04WBBuS57pYbpBu2tb\n"
     ]
    },
    {
     "name": "stderr",
     "output_type": "stream",
     "text": [
      "C:\\Users\\melan\\AppData\\Local\\Temp\\ipykernel_3744\\2623874419.py:28: FutureWarning: pandas.io.json.json_normalize is deprecated, use pandas.json_normalize instead.\n",
      "  books = json_normalize(results[\"results\"][\"books\"])\n"
     ]
    },
    {
     "name": "stdout",
     "output_type": "stream",
     "text": [
      "2019-04-15\n",
      "https://api.nytimes.com/svc/books/v3/lists/2019-04-15/combined-print-and-e-book-fiction?api-key=P1yDSg62Aydsdh04WBBuS57pYbpBu2tb\n"
     ]
    },
    {
     "name": "stderr",
     "output_type": "stream",
     "text": [
      "C:\\Users\\melan\\AppData\\Local\\Temp\\ipykernel_3744\\2623874419.py:28: FutureWarning: pandas.io.json.json_normalize is deprecated, use pandas.json_normalize instead.\n",
      "  books = json_normalize(results[\"results\"][\"books\"])\n"
     ]
    },
    {
     "name": "stdout",
     "output_type": "stream",
     "text": [
      "2019-04-08\n",
      "https://api.nytimes.com/svc/books/v3/lists/2019-04-08/combined-print-and-e-book-fiction?api-key=P1yDSg62Aydsdh04WBBuS57pYbpBu2tb\n"
     ]
    },
    {
     "name": "stderr",
     "output_type": "stream",
     "text": [
      "C:\\Users\\melan\\AppData\\Local\\Temp\\ipykernel_3744\\2623874419.py:28: FutureWarning: pandas.io.json.json_normalize is deprecated, use pandas.json_normalize instead.\n",
      "  books = json_normalize(results[\"results\"][\"books\"])\n"
     ]
    },
    {
     "name": "stdout",
     "output_type": "stream",
     "text": [
      "2019-04-01\n",
      "https://api.nytimes.com/svc/books/v3/lists/2019-04-01/combined-print-and-e-book-fiction?api-key=P1yDSg62Aydsdh04WBBuS57pYbpBu2tb\n"
     ]
    },
    {
     "name": "stderr",
     "output_type": "stream",
     "text": [
      "C:\\Users\\melan\\AppData\\Local\\Temp\\ipykernel_3744\\2623874419.py:28: FutureWarning: pandas.io.json.json_normalize is deprecated, use pandas.json_normalize instead.\n",
      "  books = json_normalize(results[\"results\"][\"books\"])\n"
     ]
    },
    {
     "name": "stdout",
     "output_type": "stream",
     "text": [
      "2019-03-25\n",
      "https://api.nytimes.com/svc/books/v3/lists/2019-03-25/combined-print-and-e-book-fiction?api-key=P1yDSg62Aydsdh04WBBuS57pYbpBu2tb\n"
     ]
    },
    {
     "name": "stderr",
     "output_type": "stream",
     "text": [
      "C:\\Users\\melan\\AppData\\Local\\Temp\\ipykernel_3744\\2623874419.py:28: FutureWarning: pandas.io.json.json_normalize is deprecated, use pandas.json_normalize instead.\n",
      "  books = json_normalize(results[\"results\"][\"books\"])\n"
     ]
    },
    {
     "name": "stdout",
     "output_type": "stream",
     "text": [
      "2019-03-18\n",
      "https://api.nytimes.com/svc/books/v3/lists/2019-03-18/combined-print-and-e-book-fiction?api-key=P1yDSg62Aydsdh04WBBuS57pYbpBu2tb\n"
     ]
    },
    {
     "name": "stderr",
     "output_type": "stream",
     "text": [
      "C:\\Users\\melan\\AppData\\Local\\Temp\\ipykernel_3744\\2623874419.py:28: FutureWarning: pandas.io.json.json_normalize is deprecated, use pandas.json_normalize instead.\n",
      "  books = json_normalize(results[\"results\"][\"books\"])\n"
     ]
    },
    {
     "name": "stdout",
     "output_type": "stream",
     "text": [
      "2019-03-11\n",
      "https://api.nytimes.com/svc/books/v3/lists/2019-03-11/combined-print-and-e-book-fiction?api-key=P1yDSg62Aydsdh04WBBuS57pYbpBu2tb\n"
     ]
    },
    {
     "name": "stderr",
     "output_type": "stream",
     "text": [
      "C:\\Users\\melan\\AppData\\Local\\Temp\\ipykernel_3744\\2623874419.py:28: FutureWarning: pandas.io.json.json_normalize is deprecated, use pandas.json_normalize instead.\n",
      "  books = json_normalize(results[\"results\"][\"books\"])\n"
     ]
    },
    {
     "name": "stdout",
     "output_type": "stream",
     "text": [
      "2019-03-04\n",
      "https://api.nytimes.com/svc/books/v3/lists/2019-03-04/combined-print-and-e-book-fiction?api-key=P1yDSg62Aydsdh04WBBuS57pYbpBu2tb\n"
     ]
    },
    {
     "name": "stderr",
     "output_type": "stream",
     "text": [
      "C:\\Users\\melan\\AppData\\Local\\Temp\\ipykernel_3744\\2623874419.py:28: FutureWarning: pandas.io.json.json_normalize is deprecated, use pandas.json_normalize instead.\n",
      "  books = json_normalize(results[\"results\"][\"books\"])\n"
     ]
    },
    {
     "name": "stdout",
     "output_type": "stream",
     "text": [
      "2019-02-25\n",
      "https://api.nytimes.com/svc/books/v3/lists/2019-02-25/combined-print-and-e-book-fiction?api-key=P1yDSg62Aydsdh04WBBuS57pYbpBu2tb\n"
     ]
    },
    {
     "name": "stderr",
     "output_type": "stream",
     "text": [
      "C:\\Users\\melan\\AppData\\Local\\Temp\\ipykernel_3744\\2623874419.py:28: FutureWarning: pandas.io.json.json_normalize is deprecated, use pandas.json_normalize instead.\n",
      "  books = json_normalize(results[\"results\"][\"books\"])\n"
     ]
    },
    {
     "name": "stdout",
     "output_type": "stream",
     "text": [
      "2019-02-18\n",
      "https://api.nytimes.com/svc/books/v3/lists/2019-02-18/combined-print-and-e-book-fiction?api-key=P1yDSg62Aydsdh04WBBuS57pYbpBu2tb\n"
     ]
    },
    {
     "name": "stderr",
     "output_type": "stream",
     "text": [
      "C:\\Users\\melan\\AppData\\Local\\Temp\\ipykernel_3744\\2623874419.py:28: FutureWarning: pandas.io.json.json_normalize is deprecated, use pandas.json_normalize instead.\n",
      "  books = json_normalize(results[\"results\"][\"books\"])\n"
     ]
    },
    {
     "name": "stdout",
     "output_type": "stream",
     "text": [
      "2019-02-11\n",
      "https://api.nytimes.com/svc/books/v3/lists/2019-02-11/combined-print-and-e-book-fiction?api-key=P1yDSg62Aydsdh04WBBuS57pYbpBu2tb\n"
     ]
    },
    {
     "name": "stderr",
     "output_type": "stream",
     "text": [
      "C:\\Users\\melan\\AppData\\Local\\Temp\\ipykernel_3744\\2623874419.py:28: FutureWarning: pandas.io.json.json_normalize is deprecated, use pandas.json_normalize instead.\n",
      "  books = json_normalize(results[\"results\"][\"books\"])\n"
     ]
    },
    {
     "name": "stdout",
     "output_type": "stream",
     "text": [
      "2019-02-04\n",
      "https://api.nytimes.com/svc/books/v3/lists/2019-02-04/combined-print-and-e-book-fiction?api-key=P1yDSg62Aydsdh04WBBuS57pYbpBu2tb\n"
     ]
    },
    {
     "name": "stderr",
     "output_type": "stream",
     "text": [
      "C:\\Users\\melan\\AppData\\Local\\Temp\\ipykernel_3744\\2623874419.py:28: FutureWarning: pandas.io.json.json_normalize is deprecated, use pandas.json_normalize instead.\n",
      "  books = json_normalize(results[\"results\"][\"books\"])\n"
     ]
    },
    {
     "name": "stdout",
     "output_type": "stream",
     "text": [
      "2019-01-28\n",
      "https://api.nytimes.com/svc/books/v3/lists/2019-01-28/combined-print-and-e-book-fiction?api-key=P1yDSg62Aydsdh04WBBuS57pYbpBu2tb\n"
     ]
    },
    {
     "name": "stderr",
     "output_type": "stream",
     "text": [
      "C:\\Users\\melan\\AppData\\Local\\Temp\\ipykernel_3744\\2623874419.py:28: FutureWarning: pandas.io.json.json_normalize is deprecated, use pandas.json_normalize instead.\n",
      "  books = json_normalize(results[\"results\"][\"books\"])\n"
     ]
    },
    {
     "name": "stdout",
     "output_type": "stream",
     "text": [
      "2019-01-21\n",
      "https://api.nytimes.com/svc/books/v3/lists/2019-01-21/combined-print-and-e-book-fiction?api-key=P1yDSg62Aydsdh04WBBuS57pYbpBu2tb\n"
     ]
    },
    {
     "name": "stderr",
     "output_type": "stream",
     "text": [
      "C:\\Users\\melan\\AppData\\Local\\Temp\\ipykernel_3744\\2623874419.py:28: FutureWarning: pandas.io.json.json_normalize is deprecated, use pandas.json_normalize instead.\n",
      "  books = json_normalize(results[\"results\"][\"books\"])\n"
     ]
    },
    {
     "name": "stdout",
     "output_type": "stream",
     "text": [
      "2019-01-14\n",
      "https://api.nytimes.com/svc/books/v3/lists/2019-01-14/combined-print-and-e-book-fiction?api-key=P1yDSg62Aydsdh04WBBuS57pYbpBu2tb\n"
     ]
    },
    {
     "name": "stderr",
     "output_type": "stream",
     "text": [
      "C:\\Users\\melan\\AppData\\Local\\Temp\\ipykernel_3744\\2623874419.py:28: FutureWarning: pandas.io.json.json_normalize is deprecated, use pandas.json_normalize instead.\n",
      "  books = json_normalize(results[\"results\"][\"books\"])\n"
     ]
    },
    {
     "name": "stdout",
     "output_type": "stream",
     "text": [
      "2019-01-07\n",
      "https://api.nytimes.com/svc/books/v3/lists/2019-01-07/combined-print-and-e-book-fiction?api-key=P1yDSg62Aydsdh04WBBuS57pYbpBu2tb\n"
     ]
    },
    {
     "name": "stderr",
     "output_type": "stream",
     "text": [
      "C:\\Users\\melan\\AppData\\Local\\Temp\\ipykernel_3744\\2623874419.py:28: FutureWarning: pandas.io.json.json_normalize is deprecated, use pandas.json_normalize instead.\n",
      "  books = json_normalize(results[\"results\"][\"books\"])\n"
     ]
    },
    {
     "name": "stdout",
     "output_type": "stream",
     "text": [
      "2018-12-31\n",
      "https://api.nytimes.com/svc/books/v3/lists/2018-12-31/combined-print-and-e-book-fiction?api-key=P1yDSg62Aydsdh04WBBuS57pYbpBu2tb\n"
     ]
    },
    {
     "name": "stderr",
     "output_type": "stream",
     "text": [
      "C:\\Users\\melan\\AppData\\Local\\Temp\\ipykernel_3744\\2623874419.py:28: FutureWarning: pandas.io.json.json_normalize is deprecated, use pandas.json_normalize instead.\n",
      "  books = json_normalize(results[\"results\"][\"books\"])\n"
     ]
    },
    {
     "name": "stdout",
     "output_type": "stream",
     "text": [
      "2018-12-24\n",
      "https://api.nytimes.com/svc/books/v3/lists/2018-12-24/combined-print-and-e-book-fiction?api-key=P1yDSg62Aydsdh04WBBuS57pYbpBu2tb\n"
     ]
    },
    {
     "name": "stderr",
     "output_type": "stream",
     "text": [
      "C:\\Users\\melan\\AppData\\Local\\Temp\\ipykernel_3744\\2623874419.py:28: FutureWarning: pandas.io.json.json_normalize is deprecated, use pandas.json_normalize instead.\n",
      "  books = json_normalize(results[\"results\"][\"books\"])\n"
     ]
    },
    {
     "name": "stdout",
     "output_type": "stream",
     "text": [
      "2018-12-17\n",
      "https://api.nytimes.com/svc/books/v3/lists/2018-12-17/combined-print-and-e-book-fiction?api-key=P1yDSg62Aydsdh04WBBuS57pYbpBu2tb\n"
     ]
    },
    {
     "name": "stderr",
     "output_type": "stream",
     "text": [
      "C:\\Users\\melan\\AppData\\Local\\Temp\\ipykernel_3744\\2623874419.py:28: FutureWarning: pandas.io.json.json_normalize is deprecated, use pandas.json_normalize instead.\n",
      "  books = json_normalize(results[\"results\"][\"books\"])\n"
     ]
    },
    {
     "name": "stdout",
     "output_type": "stream",
     "text": [
      "2018-12-10\n",
      "https://api.nytimes.com/svc/books/v3/lists/2018-12-10/combined-print-and-e-book-fiction?api-key=P1yDSg62Aydsdh04WBBuS57pYbpBu2tb\n"
     ]
    },
    {
     "name": "stderr",
     "output_type": "stream",
     "text": [
      "C:\\Users\\melan\\AppData\\Local\\Temp\\ipykernel_3744\\2623874419.py:28: FutureWarning: pandas.io.json.json_normalize is deprecated, use pandas.json_normalize instead.\n",
      "  books = json_normalize(results[\"results\"][\"books\"])\n"
     ]
    },
    {
     "name": "stdout",
     "output_type": "stream",
     "text": [
      "2018-12-03\n",
      "https://api.nytimes.com/svc/books/v3/lists/2018-12-03/combined-print-and-e-book-fiction?api-key=P1yDSg62Aydsdh04WBBuS57pYbpBu2tb\n"
     ]
    },
    {
     "name": "stderr",
     "output_type": "stream",
     "text": [
      "C:\\Users\\melan\\AppData\\Local\\Temp\\ipykernel_3744\\2623874419.py:28: FutureWarning: pandas.io.json.json_normalize is deprecated, use pandas.json_normalize instead.\n",
      "  books = json_normalize(results[\"results\"][\"books\"])\n"
     ]
    },
    {
     "name": "stdout",
     "output_type": "stream",
     "text": [
      "2018-11-26\n",
      "https://api.nytimes.com/svc/books/v3/lists/2018-11-26/combined-print-and-e-book-fiction?api-key=P1yDSg62Aydsdh04WBBuS57pYbpBu2tb\n"
     ]
    },
    {
     "name": "stderr",
     "output_type": "stream",
     "text": [
      "C:\\Users\\melan\\AppData\\Local\\Temp\\ipykernel_3744\\2623874419.py:28: FutureWarning: pandas.io.json.json_normalize is deprecated, use pandas.json_normalize instead.\n",
      "  books = json_normalize(results[\"results\"][\"books\"])\n"
     ]
    },
    {
     "name": "stdout",
     "output_type": "stream",
     "text": [
      "2018-11-19\n",
      "https://api.nytimes.com/svc/books/v3/lists/2018-11-19/combined-print-and-e-book-fiction?api-key=P1yDSg62Aydsdh04WBBuS57pYbpBu2tb\n"
     ]
    },
    {
     "name": "stderr",
     "output_type": "stream",
     "text": [
      "C:\\Users\\melan\\AppData\\Local\\Temp\\ipykernel_3744\\2623874419.py:28: FutureWarning: pandas.io.json.json_normalize is deprecated, use pandas.json_normalize instead.\n",
      "  books = json_normalize(results[\"results\"][\"books\"])\n"
     ]
    },
    {
     "name": "stdout",
     "output_type": "stream",
     "text": [
      "2018-11-12\n",
      "https://api.nytimes.com/svc/books/v3/lists/2018-11-12/combined-print-and-e-book-fiction?api-key=P1yDSg62Aydsdh04WBBuS57pYbpBu2tb\n"
     ]
    },
    {
     "name": "stderr",
     "output_type": "stream",
     "text": [
      "C:\\Users\\melan\\AppData\\Local\\Temp\\ipykernel_3744\\2623874419.py:28: FutureWarning: pandas.io.json.json_normalize is deprecated, use pandas.json_normalize instead.\n",
      "  books = json_normalize(results[\"results\"][\"books\"])\n"
     ]
    },
    {
     "name": "stdout",
     "output_type": "stream",
     "text": [
      "2018-11-05\n",
      "https://api.nytimes.com/svc/books/v3/lists/2018-11-05/combined-print-and-e-book-fiction?api-key=P1yDSg62Aydsdh04WBBuS57pYbpBu2tb\n"
     ]
    },
    {
     "name": "stderr",
     "output_type": "stream",
     "text": [
      "C:\\Users\\melan\\AppData\\Local\\Temp\\ipykernel_3744\\2623874419.py:28: FutureWarning: pandas.io.json.json_normalize is deprecated, use pandas.json_normalize instead.\n",
      "  books = json_normalize(results[\"results\"][\"books\"])\n"
     ]
    },
    {
     "name": "stdout",
     "output_type": "stream",
     "text": [
      "2018-10-29\n",
      "https://api.nytimes.com/svc/books/v3/lists/2018-10-29/combined-print-and-e-book-fiction?api-key=P1yDSg62Aydsdh04WBBuS57pYbpBu2tb\n"
     ]
    },
    {
     "name": "stderr",
     "output_type": "stream",
     "text": [
      "C:\\Users\\melan\\AppData\\Local\\Temp\\ipykernel_3744\\2623874419.py:28: FutureWarning: pandas.io.json.json_normalize is deprecated, use pandas.json_normalize instead.\n",
      "  books = json_normalize(results[\"results\"][\"books\"])\n"
     ]
    },
    {
     "name": "stdout",
     "output_type": "stream",
     "text": [
      "2018-10-22\n",
      "https://api.nytimes.com/svc/books/v3/lists/2018-10-22/combined-print-and-e-book-fiction?api-key=P1yDSg62Aydsdh04WBBuS57pYbpBu2tb\n"
     ]
    },
    {
     "name": "stderr",
     "output_type": "stream",
     "text": [
      "C:\\Users\\melan\\AppData\\Local\\Temp\\ipykernel_3744\\2623874419.py:28: FutureWarning: pandas.io.json.json_normalize is deprecated, use pandas.json_normalize instead.\n",
      "  books = json_normalize(results[\"results\"][\"books\"])\n"
     ]
    },
    {
     "name": "stdout",
     "output_type": "stream",
     "text": [
      "2018-10-15\n",
      "https://api.nytimes.com/svc/books/v3/lists/2018-10-15/combined-print-and-e-book-fiction?api-key=P1yDSg62Aydsdh04WBBuS57pYbpBu2tb\n"
     ]
    },
    {
     "name": "stderr",
     "output_type": "stream",
     "text": [
      "C:\\Users\\melan\\AppData\\Local\\Temp\\ipykernel_3744\\2623874419.py:28: FutureWarning: pandas.io.json.json_normalize is deprecated, use pandas.json_normalize instead.\n",
      "  books = json_normalize(results[\"results\"][\"books\"])\n"
     ]
    },
    {
     "name": "stdout",
     "output_type": "stream",
     "text": [
      "2018-10-08\n",
      "https://api.nytimes.com/svc/books/v3/lists/2018-10-08/combined-print-and-e-book-fiction?api-key=P1yDSg62Aydsdh04WBBuS57pYbpBu2tb\n"
     ]
    },
    {
     "name": "stderr",
     "output_type": "stream",
     "text": [
      "C:\\Users\\melan\\AppData\\Local\\Temp\\ipykernel_3744\\2623874419.py:28: FutureWarning: pandas.io.json.json_normalize is deprecated, use pandas.json_normalize instead.\n",
      "  books = json_normalize(results[\"results\"][\"books\"])\n"
     ]
    },
    {
     "name": "stdout",
     "output_type": "stream",
     "text": [
      "2018-10-01\n",
      "https://api.nytimes.com/svc/books/v3/lists/2018-10-01/combined-print-and-e-book-fiction?api-key=P1yDSg62Aydsdh04WBBuS57pYbpBu2tb\n"
     ]
    },
    {
     "name": "stderr",
     "output_type": "stream",
     "text": [
      "C:\\Users\\melan\\AppData\\Local\\Temp\\ipykernel_3744\\2623874419.py:28: FutureWarning: pandas.io.json.json_normalize is deprecated, use pandas.json_normalize instead.\n",
      "  books = json_normalize(results[\"results\"][\"books\"])\n"
     ]
    },
    {
     "name": "stdout",
     "output_type": "stream",
     "text": [
      "2018-09-24\n",
      "https://api.nytimes.com/svc/books/v3/lists/2018-09-24/combined-print-and-e-book-fiction?api-key=P1yDSg62Aydsdh04WBBuS57pYbpBu2tb\n"
     ]
    },
    {
     "name": "stderr",
     "output_type": "stream",
     "text": [
      "C:\\Users\\melan\\AppData\\Local\\Temp\\ipykernel_3744\\2623874419.py:28: FutureWarning: pandas.io.json.json_normalize is deprecated, use pandas.json_normalize instead.\n",
      "  books = json_normalize(results[\"results\"][\"books\"])\n"
     ]
    },
    {
     "name": "stdout",
     "output_type": "stream",
     "text": [
      "2018-09-17\n",
      "https://api.nytimes.com/svc/books/v3/lists/2018-09-17/combined-print-and-e-book-fiction?api-key=P1yDSg62Aydsdh04WBBuS57pYbpBu2tb\n"
     ]
    },
    {
     "name": "stderr",
     "output_type": "stream",
     "text": [
      "C:\\Users\\melan\\AppData\\Local\\Temp\\ipykernel_3744\\2623874419.py:28: FutureWarning: pandas.io.json.json_normalize is deprecated, use pandas.json_normalize instead.\n",
      "  books = json_normalize(results[\"results\"][\"books\"])\n"
     ]
    },
    {
     "name": "stdout",
     "output_type": "stream",
     "text": [
      "2018-09-10\n",
      "https://api.nytimes.com/svc/books/v3/lists/2018-09-10/combined-print-and-e-book-fiction?api-key=P1yDSg62Aydsdh04WBBuS57pYbpBu2tb\n"
     ]
    },
    {
     "name": "stderr",
     "output_type": "stream",
     "text": [
      "C:\\Users\\melan\\AppData\\Local\\Temp\\ipykernel_3744\\2623874419.py:28: FutureWarning: pandas.io.json.json_normalize is deprecated, use pandas.json_normalize instead.\n",
      "  books = json_normalize(results[\"results\"][\"books\"])\n"
     ]
    },
    {
     "name": "stdout",
     "output_type": "stream",
     "text": [
      "2018-09-03\n",
      "https://api.nytimes.com/svc/books/v3/lists/2018-09-03/combined-print-and-e-book-fiction?api-key=P1yDSg62Aydsdh04WBBuS57pYbpBu2tb\n"
     ]
    },
    {
     "name": "stderr",
     "output_type": "stream",
     "text": [
      "C:\\Users\\melan\\AppData\\Local\\Temp\\ipykernel_3744\\2623874419.py:28: FutureWarning: pandas.io.json.json_normalize is deprecated, use pandas.json_normalize instead.\n",
      "  books = json_normalize(results[\"results\"][\"books\"])\n"
     ]
    },
    {
     "name": "stdout",
     "output_type": "stream",
     "text": [
      "2018-08-27\n",
      "https://api.nytimes.com/svc/books/v3/lists/2018-08-27/combined-print-and-e-book-fiction?api-key=P1yDSg62Aydsdh04WBBuS57pYbpBu2tb\n"
     ]
    },
    {
     "name": "stderr",
     "output_type": "stream",
     "text": [
      "C:\\Users\\melan\\AppData\\Local\\Temp\\ipykernel_3744\\2623874419.py:28: FutureWarning: pandas.io.json.json_normalize is deprecated, use pandas.json_normalize instead.\n",
      "  books = json_normalize(results[\"results\"][\"books\"])\n"
     ]
    },
    {
     "name": "stdout",
     "output_type": "stream",
     "text": [
      "2018-08-20\n",
      "https://api.nytimes.com/svc/books/v3/lists/2018-08-20/combined-print-and-e-book-fiction?api-key=P1yDSg62Aydsdh04WBBuS57pYbpBu2tb\n"
     ]
    },
    {
     "name": "stderr",
     "output_type": "stream",
     "text": [
      "C:\\Users\\melan\\AppData\\Local\\Temp\\ipykernel_3744\\2623874419.py:28: FutureWarning: pandas.io.json.json_normalize is deprecated, use pandas.json_normalize instead.\n",
      "  books = json_normalize(results[\"results\"][\"books\"])\n"
     ]
    },
    {
     "name": "stdout",
     "output_type": "stream",
     "text": [
      "2018-08-13\n",
      "https://api.nytimes.com/svc/books/v3/lists/2018-08-13/combined-print-and-e-book-fiction?api-key=P1yDSg62Aydsdh04WBBuS57pYbpBu2tb\n"
     ]
    },
    {
     "name": "stderr",
     "output_type": "stream",
     "text": [
      "C:\\Users\\melan\\AppData\\Local\\Temp\\ipykernel_3744\\2623874419.py:28: FutureWarning: pandas.io.json.json_normalize is deprecated, use pandas.json_normalize instead.\n",
      "  books = json_normalize(results[\"results\"][\"books\"])\n"
     ]
    },
    {
     "name": "stdout",
     "output_type": "stream",
     "text": [
      "2018-08-06\n",
      "https://api.nytimes.com/svc/books/v3/lists/2018-08-06/combined-print-and-e-book-fiction?api-key=P1yDSg62Aydsdh04WBBuS57pYbpBu2tb\n"
     ]
    },
    {
     "name": "stderr",
     "output_type": "stream",
     "text": [
      "C:\\Users\\melan\\AppData\\Local\\Temp\\ipykernel_3744\\2623874419.py:28: FutureWarning: pandas.io.json.json_normalize is deprecated, use pandas.json_normalize instead.\n",
      "  books = json_normalize(results[\"results\"][\"books\"])\n"
     ]
    },
    {
     "name": "stdout",
     "output_type": "stream",
     "text": [
      "2018-07-30\n",
      "https://api.nytimes.com/svc/books/v3/lists/2018-07-30/combined-print-and-e-book-fiction?api-key=P1yDSg62Aydsdh04WBBuS57pYbpBu2tb\n"
     ]
    },
    {
     "name": "stderr",
     "output_type": "stream",
     "text": [
      "C:\\Users\\melan\\AppData\\Local\\Temp\\ipykernel_3744\\2623874419.py:28: FutureWarning: pandas.io.json.json_normalize is deprecated, use pandas.json_normalize instead.\n",
      "  books = json_normalize(results[\"results\"][\"books\"])\n"
     ]
    },
    {
     "name": "stdout",
     "output_type": "stream",
     "text": [
      "2018-07-23\n",
      "https://api.nytimes.com/svc/books/v3/lists/2018-07-23/combined-print-and-e-book-fiction?api-key=P1yDSg62Aydsdh04WBBuS57pYbpBu2tb\n"
     ]
    },
    {
     "name": "stderr",
     "output_type": "stream",
     "text": [
      "C:\\Users\\melan\\AppData\\Local\\Temp\\ipykernel_3744\\2623874419.py:28: FutureWarning: pandas.io.json.json_normalize is deprecated, use pandas.json_normalize instead.\n",
      "  books = json_normalize(results[\"results\"][\"books\"])\n"
     ]
    },
    {
     "name": "stdout",
     "output_type": "stream",
     "text": [
      "2018-07-16\n",
      "https://api.nytimes.com/svc/books/v3/lists/2018-07-16/combined-print-and-e-book-fiction?api-key=P1yDSg62Aydsdh04WBBuS57pYbpBu2tb\n"
     ]
    },
    {
     "name": "stderr",
     "output_type": "stream",
     "text": [
      "C:\\Users\\melan\\AppData\\Local\\Temp\\ipykernel_3744\\2623874419.py:28: FutureWarning: pandas.io.json.json_normalize is deprecated, use pandas.json_normalize instead.\n",
      "  books = json_normalize(results[\"results\"][\"books\"])\n"
     ]
    },
    {
     "name": "stdout",
     "output_type": "stream",
     "text": [
      "2018-07-09\n",
      "https://api.nytimes.com/svc/books/v3/lists/2018-07-09/combined-print-and-e-book-fiction?api-key=P1yDSg62Aydsdh04WBBuS57pYbpBu2tb\n"
     ]
    },
    {
     "name": "stderr",
     "output_type": "stream",
     "text": [
      "C:\\Users\\melan\\AppData\\Local\\Temp\\ipykernel_3744\\2623874419.py:28: FutureWarning: pandas.io.json.json_normalize is deprecated, use pandas.json_normalize instead.\n",
      "  books = json_normalize(results[\"results\"][\"books\"])\n"
     ]
    },
    {
     "name": "stdout",
     "output_type": "stream",
     "text": [
      "2018-07-02\n",
      "https://api.nytimes.com/svc/books/v3/lists/2018-07-02/combined-print-and-e-book-fiction?api-key=P1yDSg62Aydsdh04WBBuS57pYbpBu2tb\n"
     ]
    },
    {
     "name": "stderr",
     "output_type": "stream",
     "text": [
      "C:\\Users\\melan\\AppData\\Local\\Temp\\ipykernel_3744\\2623874419.py:28: FutureWarning: pandas.io.json.json_normalize is deprecated, use pandas.json_normalize instead.\n",
      "  books = json_normalize(results[\"results\"][\"books\"])\n"
     ]
    },
    {
     "name": "stdout",
     "output_type": "stream",
     "text": [
      "2018-06-25\n",
      "https://api.nytimes.com/svc/books/v3/lists/2018-06-25/combined-print-and-e-book-fiction?api-key=P1yDSg62Aydsdh04WBBuS57pYbpBu2tb\n"
     ]
    },
    {
     "name": "stderr",
     "output_type": "stream",
     "text": [
      "C:\\Users\\melan\\AppData\\Local\\Temp\\ipykernel_3744\\2623874419.py:28: FutureWarning: pandas.io.json.json_normalize is deprecated, use pandas.json_normalize instead.\n",
      "  books = json_normalize(results[\"results\"][\"books\"])\n"
     ]
    },
    {
     "name": "stdout",
     "output_type": "stream",
     "text": [
      "2018-06-18\n",
      "https://api.nytimes.com/svc/books/v3/lists/2018-06-18/combined-print-and-e-book-fiction?api-key=P1yDSg62Aydsdh04WBBuS57pYbpBu2tb\n"
     ]
    },
    {
     "name": "stderr",
     "output_type": "stream",
     "text": [
      "C:\\Users\\melan\\AppData\\Local\\Temp\\ipykernel_3744\\2623874419.py:28: FutureWarning: pandas.io.json.json_normalize is deprecated, use pandas.json_normalize instead.\n",
      "  books = json_normalize(results[\"results\"][\"books\"])\n"
     ]
    },
    {
     "name": "stdout",
     "output_type": "stream",
     "text": [
      "2018-06-11\n",
      "https://api.nytimes.com/svc/books/v3/lists/2018-06-11/combined-print-and-e-book-fiction?api-key=P1yDSg62Aydsdh04WBBuS57pYbpBu2tb\n"
     ]
    },
    {
     "name": "stderr",
     "output_type": "stream",
     "text": [
      "C:\\Users\\melan\\AppData\\Local\\Temp\\ipykernel_3744\\2623874419.py:28: FutureWarning: pandas.io.json.json_normalize is deprecated, use pandas.json_normalize instead.\n",
      "  books = json_normalize(results[\"results\"][\"books\"])\n"
     ]
    },
    {
     "name": "stdout",
     "output_type": "stream",
     "text": [
      "2018-06-04\n",
      "https://api.nytimes.com/svc/books/v3/lists/2018-06-04/combined-print-and-e-book-fiction?api-key=P1yDSg62Aydsdh04WBBuS57pYbpBu2tb\n"
     ]
    },
    {
     "name": "stderr",
     "output_type": "stream",
     "text": [
      "C:\\Users\\melan\\AppData\\Local\\Temp\\ipykernel_3744\\2623874419.py:28: FutureWarning: pandas.io.json.json_normalize is deprecated, use pandas.json_normalize instead.\n",
      "  books = json_normalize(results[\"results\"][\"books\"])\n"
     ]
    },
    {
     "name": "stdout",
     "output_type": "stream",
     "text": [
      "2018-05-28\n",
      "https://api.nytimes.com/svc/books/v3/lists/2018-05-28/combined-print-and-e-book-fiction?api-key=P1yDSg62Aydsdh04WBBuS57pYbpBu2tb\n"
     ]
    },
    {
     "name": "stderr",
     "output_type": "stream",
     "text": [
      "C:\\Users\\melan\\AppData\\Local\\Temp\\ipykernel_3744\\2623874419.py:28: FutureWarning: pandas.io.json.json_normalize is deprecated, use pandas.json_normalize instead.\n",
      "  books = json_normalize(results[\"results\"][\"books\"])\n"
     ]
    },
    {
     "ename": "NameError",
     "evalue": "name 'df' is not defined",
     "output_type": "error",
     "traceback": [
      "\u001b[1;31m---------------------------------------------------------------------------\u001b[0m",
      "\u001b[1;31mNameError\u001b[0m                                 Traceback (most recent call last)",
      "Cell \u001b[1;32mIn[29], line 39\u001b[0m\n\u001b[0;32m     37\u001b[0m \u001b[39m# Save or process the data for the current call here\u001b[39;00m\n\u001b[0;32m     38\u001b[0m  call_data \u001b[39m=\u001b[39m pd\u001b[39m.\u001b[39mconcat(bestsellers)\n\u001b[1;32m---> 39\u001b[0m  df \u001b[39m=\u001b[39m pd\u001b[39m.\u001b[39mconcat([df, call_data])\n\u001b[0;32m     41\u001b[0m  \u001b[39m# Reset the lists for the next call\u001b[39;00m\n\u001b[0;32m     42\u001b[0m  bestsellers \u001b[39m=\u001b[39m []\n",
      "\u001b[1;31mNameError\u001b[0m: name 'df' is not defined"
     ]
    }
   ],
   "source": [
    "# Check if it works- split in 2\n",
    "BOOKS_ROOT = \"https://api.nytimes.com/svc/books/v3/lists\"\n",
    "LIST = \"combined-print-and-e-book-fiction\"   # you can change to other lists available at https://developer.nytimes.com\n",
    "\n",
    "# Add your API key here\n",
    "API_KEY = keys.json\n",
    "\n",
    "bestsellers = []\n",
    "weeks = []\n",
    "num_calls_to_make = 2  # Number of API calls to make\n",
    "weeks_per_call = 260  # Number of weeks to fetch per API call\n",
    "\n",
    "for call_num in range(num_calls_to_make):\n",
    "    ctr = call_num * weeks_per_call\n",
    "    start_date = datetime.date.today() - datetime.timedelta(weeks=ctr)\n",
    "    end_date = start_date - datetime.timedelta(weeks=weeks_per_call)\n",
    "    \n",
    "    for i in range(weeks_per_call):\n",
    "        curr_date = start_date - datetime.timedelta(weeks=i)\n",
    "        print(curr_date)\n",
    "        url = \"%s/%s/%s?api-key=%s\" % (BOOKS_ROOT, curr_date, LIST, API_KEY)\n",
    "        url = url.strip()\n",
    "        print(url)\n",
    "        r = requests.get(url)\n",
    "        \n",
    "        if r.status_code == 200:\n",
    "            results = r.json()\n",
    "            books = json_normalize(results[\"results\"][\"books\"])\n",
    "            bestsellers.append(books)\n",
    "            weeks.append(str(curr_date))\n",
    "        else:\n",
    "            print(\"API call did not work!\")\n",
    "            print(r)\n",
    "        \n",
    "        time.sleep(15)\n",
    "\n",
    "   # Save or process the data for the current call here\n",
    "    call_data = pd.concat(bestsellers)\n",
    "    bestsellers1 = pd.concat([bestsellers, call_data])\n",
    "    \n",
    "    # Reset the lists for the next call\n",
    "    bestsellers = []\n",
    "    weeks = []\n",
    "\n",
    "    # Wait for 24 hours before making the next call\n",
    "    if call_num < num_calls_to_make - 1:\n",
    "        time.sleep(24 * 60 * 60)\n",
    "\n",
    "# Save or process the data for the final call here\n",
    "final_data = pd.concat(bestsellers)\n",
    "df = pd.concat([df, final_data])\n",
    "\n",
    "# The dataframe 'df' now contains the combined data from all the API calls"
   ]
  },
  {
   "cell_type": "code",
   "execution_count": 35,
   "metadata": {},
   "outputs": [],
   "source": [
    "df = pd.DataFrame(call_data)"
   ]
  },
  {
   "cell_type": "code",
   "execution_count": 38,
   "metadata": {},
   "outputs": [
    {
     "data": {
      "text/html": [
       "<div>\n",
       "<style scoped>\n",
       "    .dataframe tbody tr th:only-of-type {\n",
       "        vertical-align: middle;\n",
       "    }\n",
       "\n",
       "    .dataframe tbody tr th {\n",
       "        vertical-align: top;\n",
       "    }\n",
       "\n",
       "    .dataframe thead th {\n",
       "        text-align: right;\n",
       "    }\n",
       "</style>\n",
       "<table border=\"1\" class=\"dataframe\">\n",
       "  <thead>\n",
       "    <tr style=\"text-align: right;\">\n",
       "      <th></th>\n",
       "      <th>rank</th>\n",
       "      <th>rank_last_week</th>\n",
       "      <th>weeks_on_list</th>\n",
       "      <th>asterisk</th>\n",
       "      <th>dagger</th>\n",
       "      <th>primary_isbn10</th>\n",
       "      <th>primary_isbn13</th>\n",
       "      <th>publisher</th>\n",
       "      <th>description</th>\n",
       "      <th>price</th>\n",
       "      <th>title</th>\n",
       "      <th>author</th>\n",
       "      <th>contributor</th>\n",
       "      <th>contributor_note</th>\n",
       "      <th>book_image</th>\n",
       "      <th>book_image_width</th>\n",
       "      <th>book_image_height</th>\n",
       "      <th>amazon_product_url</th>\n",
       "      <th>age_group</th>\n",
       "      <th>book_review_link</th>\n",
       "      <th>first_chapter_link</th>\n",
       "      <th>sunday_review_link</th>\n",
       "      <th>article_chapter_link</th>\n",
       "      <th>isbns</th>\n",
       "      <th>buy_links</th>\n",
       "      <th>book_uri</th>\n",
       "    </tr>\n",
       "  </thead>\n",
       "  <tbody>\n",
       "    <tr>\n",
       "      <th>0</th>\n",
       "      <td>1</td>\n",
       "      <td>0</td>\n",
       "      <td>1</td>\n",
       "      <td>0</td>\n",
       "      <td>0</td>\n",
       "      <td>0316402982</td>\n",
       "      <td>9780316402989</td>\n",
       "      <td>Little, Brown</td>\n",
       "      <td>The 23rd book in the Women’s Murder Club serie...</td>\n",
       "      <td>0.00</td>\n",
       "      <td>THE 23RD MIDNIGHT</td>\n",
       "      <td>James Patterson and Maxine Paetro</td>\n",
       "      <td>by James Patterson and Maxine Paetro</td>\n",
       "      <td></td>\n",
       "      <td>https://storage.googleapis.com/du-prd/books/im...</td>\n",
       "      <td>326</td>\n",
       "      <td>500</td>\n",
       "      <td>https://www.amazon.com/dp/0316402788?tag=NYTBS...</td>\n",
       "      <td></td>\n",
       "      <td></td>\n",
       "      <td></td>\n",
       "      <td></td>\n",
       "      <td></td>\n",
       "      <td>[{'isbn10': '0316402788', 'isbn13': '978031640...</td>\n",
       "      <td>[{'name': 'Amazon', 'url': 'https://www.amazon...</td>\n",
       "      <td>nyt://book/8d902754-be73-5c91-8e58-3688d03d19d4</td>\n",
       "    </tr>\n",
       "    <tr>\n",
       "      <th>1</th>\n",
       "      <td>2</td>\n",
       "      <td>1</td>\n",
       "      <td>2</td>\n",
       "      <td>0</td>\n",
       "      <td>0</td>\n",
       "      <td>0593441273</td>\n",
       "      <td>9780593441275</td>\n",
       "      <td>Berkley</td>\n",
       "      <td>A former couple pretend to be together for the...</td>\n",
       "      <td>0.00</td>\n",
       "      <td>HAPPY PLACE</td>\n",
       "      <td>Emily Henry</td>\n",
       "      <td>by Emily Henry</td>\n",
       "      <td></td>\n",
       "      <td>https://storage.googleapis.com/du-prd/books/im...</td>\n",
       "      <td>331</td>\n",
       "      <td>500</td>\n",
       "      <td>https://www.amazon.com/dp/0593441273?tag=NYTBS...</td>\n",
       "      <td></td>\n",
       "      <td></td>\n",
       "      <td></td>\n",
       "      <td></td>\n",
       "      <td></td>\n",
       "      <td>[{'isbn10': '0593441273', 'isbn13': '978059344...</td>\n",
       "      <td>[{'name': 'Amazon', 'url': 'https://www.amazon...</td>\n",
       "      <td>nyt://book/9ab3a59a-e572-5452-ae0c-eedeadb05831</td>\n",
       "    </tr>\n",
       "    <tr>\n",
       "      <th>2</th>\n",
       "      <td>3</td>\n",
       "      <td>0</td>\n",
       "      <td>1</td>\n",
       "      <td>0</td>\n",
       "      <td>0</td>\n",
       "      <td>0593438558</td>\n",
       "      <td>9780593438558</td>\n",
       "      <td>Berkley</td>\n",
       "      <td>A decade after a one-day adventure, Will appea...</td>\n",
       "      <td>0.00</td>\n",
       "      <td>MEET ME AT THE LAKE</td>\n",
       "      <td>Carley Fortune</td>\n",
       "      <td>by Carley Fortune</td>\n",
       "      <td></td>\n",
       "      <td>https://storage.googleapis.com/du-prd/books/im...</td>\n",
       "      <td>333</td>\n",
       "      <td>500</td>\n",
       "      <td>https://www.amazon.com/dp/0593438558?tag=NYTBS...</td>\n",
       "      <td></td>\n",
       "      <td></td>\n",
       "      <td></td>\n",
       "      <td></td>\n",
       "      <td></td>\n",
       "      <td>[{'isbn10': '0593438558', 'isbn13': '978059343...</td>\n",
       "      <td>[{'name': 'Amazon', 'url': 'https://www.amazon...</td>\n",
       "      <td>nyt://book/f6409475-c210-5baf-beda-d11fba9e9981</td>\n",
       "    </tr>\n",
       "    <tr>\n",
       "      <th>3</th>\n",
       "      <td>4</td>\n",
       "      <td>0</td>\n",
       "      <td>1</td>\n",
       "      <td>0</td>\n",
       "      <td>0</td>\n",
       "      <td>0802162177</td>\n",
       "      <td>9780802162175</td>\n",
       "      <td>Grove</td>\n",
       "      <td>Three generations of a family living on South ...</td>\n",
       "      <td>0.00</td>\n",
       "      <td>THE COVENANT OF WATER</td>\n",
       "      <td>Abraham Verghese</td>\n",
       "      <td>by Abraham Verghese</td>\n",
       "      <td></td>\n",
       "      <td>https://storage.googleapis.com/du-prd/books/im...</td>\n",
       "      <td>320</td>\n",
       "      <td>500</td>\n",
       "      <td>https://www.amazon.com/dp/0802162177?tag=NYTBS...</td>\n",
       "      <td></td>\n",
       "      <td></td>\n",
       "      <td></td>\n",
       "      <td></td>\n",
       "      <td></td>\n",
       "      <td>[{'isbn10': '0802162177', 'isbn13': '978080216...</td>\n",
       "      <td>[{'name': 'Amazon', 'url': 'https://www.amazon...</td>\n",
       "      <td>nyt://book/5ebf1d34-4c68-560a-8330-7e65bedaaa1a</td>\n",
       "    </tr>\n",
       "    <tr>\n",
       "      <th>4</th>\n",
       "      <td>5</td>\n",
       "      <td>0</td>\n",
       "      <td>1</td>\n",
       "      <td>0</td>\n",
       "      <td>0</td>\n",
       "      <td>1649374046</td>\n",
       "      <td>9781649374042</td>\n",
       "      <td>Red Tower</td>\n",
       "      <td>Violet Sorrengail is urged by the commanding g...</td>\n",
       "      <td>0.00</td>\n",
       "      <td>FOURTH WING</td>\n",
       "      <td>Rebecca Yarros</td>\n",
       "      <td>by Rebecca Yarros</td>\n",
       "      <td></td>\n",
       "      <td>https://storage.googleapis.com/du-prd/books/im...</td>\n",
       "      <td>309</td>\n",
       "      <td>500</td>\n",
       "      <td>https://www.amazon.com/dp/1649374046?tag=NYTBS...</td>\n",
       "      <td></td>\n",
       "      <td></td>\n",
       "      <td></td>\n",
       "      <td></td>\n",
       "      <td></td>\n",
       "      <td>[{'isbn10': '1649374046', 'isbn13': '978164937...</td>\n",
       "      <td>[{'name': 'Amazon', 'url': 'https://www.amazon...</td>\n",
       "      <td>nyt://book/106c2cf0-7d20-51b1-bad4-91c3ebcd131a</td>\n",
       "    </tr>\n",
       "  </tbody>\n",
       "</table>\n",
       "</div>"
      ],
      "text/plain": [
       "   rank  rank_last_week  weeks_on_list  asterisk  dagger primary_isbn10  \\\n",
       "0     1               0              1         0       0     0316402982   \n",
       "1     2               1              2         0       0     0593441273   \n",
       "2     3               0              1         0       0     0593438558   \n",
       "3     4               0              1         0       0     0802162177   \n",
       "4     5               0              1         0       0     1649374046   \n",
       "\n",
       "  primary_isbn13      publisher  \\\n",
       "0  9780316402989  Little, Brown   \n",
       "1  9780593441275        Berkley   \n",
       "2  9780593438558        Berkley   \n",
       "3  9780802162175          Grove   \n",
       "4  9781649374042      Red Tower   \n",
       "\n",
       "                                         description price  \\\n",
       "0  The 23rd book in the Women’s Murder Club serie...  0.00   \n",
       "1  A former couple pretend to be together for the...  0.00   \n",
       "2  A decade after a one-day adventure, Will appea...  0.00   \n",
       "3  Three generations of a family living on South ...  0.00   \n",
       "4  Violet Sorrengail is urged by the commanding g...  0.00   \n",
       "\n",
       "                   title                             author  \\\n",
       "0      THE 23RD MIDNIGHT  James Patterson and Maxine Paetro   \n",
       "1            HAPPY PLACE                        Emily Henry   \n",
       "2    MEET ME AT THE LAKE                     Carley Fortune   \n",
       "3  THE COVENANT OF WATER                   Abraham Verghese   \n",
       "4            FOURTH WING                     Rebecca Yarros   \n",
       "\n",
       "                            contributor contributor_note  \\\n",
       "0  by James Patterson and Maxine Paetro                    \n",
       "1                        by Emily Henry                    \n",
       "2                     by Carley Fortune                    \n",
       "3                   by Abraham Verghese                    \n",
       "4                     by Rebecca Yarros                    \n",
       "\n",
       "                                          book_image  book_image_width  \\\n",
       "0  https://storage.googleapis.com/du-prd/books/im...               326   \n",
       "1  https://storage.googleapis.com/du-prd/books/im...               331   \n",
       "2  https://storage.googleapis.com/du-prd/books/im...               333   \n",
       "3  https://storage.googleapis.com/du-prd/books/im...               320   \n",
       "4  https://storage.googleapis.com/du-prd/books/im...               309   \n",
       "\n",
       "   book_image_height                                 amazon_product_url  \\\n",
       "0                500  https://www.amazon.com/dp/0316402788?tag=NYTBS...   \n",
       "1                500  https://www.amazon.com/dp/0593441273?tag=NYTBS...   \n",
       "2                500  https://www.amazon.com/dp/0593438558?tag=NYTBS...   \n",
       "3                500  https://www.amazon.com/dp/0802162177?tag=NYTBS...   \n",
       "4                500  https://www.amazon.com/dp/1649374046?tag=NYTBS...   \n",
       "\n",
       "  age_group book_review_link first_chapter_link sunday_review_link  \\\n",
       "0                                                                    \n",
       "1                                                                    \n",
       "2                                                                    \n",
       "3                                                                    \n",
       "4                                                                    \n",
       "\n",
       "  article_chapter_link                                              isbns  \\\n",
       "0                       [{'isbn10': '0316402788', 'isbn13': '978031640...   \n",
       "1                       [{'isbn10': '0593441273', 'isbn13': '978059344...   \n",
       "2                       [{'isbn10': '0593438558', 'isbn13': '978059343...   \n",
       "3                       [{'isbn10': '0802162177', 'isbn13': '978080216...   \n",
       "4                       [{'isbn10': '1649374046', 'isbn13': '978164937...   \n",
       "\n",
       "                                           buy_links  \\\n",
       "0  [{'name': 'Amazon', 'url': 'https://www.amazon...   \n",
       "1  [{'name': 'Amazon', 'url': 'https://www.amazon...   \n",
       "2  [{'name': 'Amazon', 'url': 'https://www.amazon...   \n",
       "3  [{'name': 'Amazon', 'url': 'https://www.amazon...   \n",
       "4  [{'name': 'Amazon', 'url': 'https://www.amazon...   \n",
       "\n",
       "                                          book_uri  \n",
       "0  nyt://book/8d902754-be73-5c91-8e58-3688d03d19d4  \n",
       "1  nyt://book/9ab3a59a-e572-5452-ae0c-eedeadb05831  \n",
       "2  nyt://book/f6409475-c210-5baf-beda-d11fba9e9981  \n",
       "3  nyt://book/5ebf1d34-4c68-560a-8330-7e65bedaaa1a  \n",
       "4  nyt://book/106c2cf0-7d20-51b1-bad4-91c3ebcd131a  "
      ]
     },
     "execution_count": 38,
     "metadata": {},
     "output_type": "execute_result"
    }
   ],
   "source": [
    "df.head()"
   ]
  },
  {
   "cell_type": "code",
   "execution_count": 37,
   "metadata": {},
   "outputs": [
    {
     "data": {
      "text/html": [
       "<div>\n",
       "<style scoped>\n",
       "    .dataframe tbody tr th:only-of-type {\n",
       "        vertical-align: middle;\n",
       "    }\n",
       "\n",
       "    .dataframe tbody tr th {\n",
       "        vertical-align: top;\n",
       "    }\n",
       "\n",
       "    .dataframe thead th {\n",
       "        text-align: right;\n",
       "    }\n",
       "</style>\n",
       "<table border=\"1\" class=\"dataframe\">\n",
       "  <thead>\n",
       "    <tr style=\"text-align: right;\">\n",
       "      <th></th>\n",
       "      <th>rank</th>\n",
       "      <th>rank_last_week</th>\n",
       "      <th>weeks_on_list</th>\n",
       "      <th>asterisk</th>\n",
       "      <th>dagger</th>\n",
       "      <th>primary_isbn10</th>\n",
       "      <th>primary_isbn13</th>\n",
       "      <th>publisher</th>\n",
       "      <th>description</th>\n",
       "      <th>price</th>\n",
       "      <th>title</th>\n",
       "      <th>author</th>\n",
       "      <th>contributor</th>\n",
       "      <th>contributor_note</th>\n",
       "      <th>book_image</th>\n",
       "      <th>book_image_width</th>\n",
       "      <th>book_image_height</th>\n",
       "      <th>amazon_product_url</th>\n",
       "      <th>age_group</th>\n",
       "      <th>book_review_link</th>\n",
       "      <th>first_chapter_link</th>\n",
       "      <th>sunday_review_link</th>\n",
       "      <th>article_chapter_link</th>\n",
       "      <th>isbns</th>\n",
       "      <th>buy_links</th>\n",
       "      <th>book_uri</th>\n",
       "    </tr>\n",
       "  </thead>\n",
       "  <tbody>\n",
       "    <tr>\n",
       "      <th>10</th>\n",
       "      <td>11</td>\n",
       "      <td>0</td>\n",
       "      <td>8</td>\n",
       "      <td>0</td>\n",
       "      <td>0</td>\n",
       "      <td>125013093X</td>\n",
       "      <td>9781250130938</td>\n",
       "      <td>St. Martin's</td>\n",
       "      <td>The story of a love triangle is told from seve...</td>\n",
       "      <td>0.00</td>\n",
       "      <td>THE WIFE BETWEEN US</td>\n",
       "      <td>Greer Hendricks and Sarah Pekkanen</td>\n",
       "      <td>by Greer Hendricks and Sarah Pekkanen</td>\n",
       "      <td></td>\n",
       "      <td>https://storage.googleapis.com/du-prd/books/im...</td>\n",
       "      <td>326</td>\n",
       "      <td>495</td>\n",
       "      <td>https://www.amazon.com/Wife-Between-Us-Novel/d...</td>\n",
       "      <td></td>\n",
       "      <td></td>\n",
       "      <td></td>\n",
       "      <td></td>\n",
       "      <td></td>\n",
       "      <td>[{'isbn10': '1250130921', 'isbn13': '978125013...</td>\n",
       "      <td>[{'name': 'Amazon', 'url': 'https://www.amazon...</td>\n",
       "      <td>nyt://book/412f8d0a-dcb9-54d9-a381-ebd4d304dcb0</td>\n",
       "    </tr>\n",
       "    <tr>\n",
       "      <th>11</th>\n",
       "      <td>12</td>\n",
       "      <td>7</td>\n",
       "      <td>13</td>\n",
       "      <td>0</td>\n",
       "      <td>0</td>\n",
       "      <td>0735211221</td>\n",
       "      <td>9780735211223</td>\n",
       "      <td>Riverhead</td>\n",
       "      <td>In this psychological thriller by the author o...</td>\n",
       "      <td>0.00</td>\n",
       "      <td>INTO THE WATER</td>\n",
       "      <td>Paula Hawkins</td>\n",
       "      <td>by Paula Hawkins</td>\n",
       "      <td></td>\n",
       "      <td>https://storage.googleapis.com/du-prd/books/im...</td>\n",
       "      <td>328</td>\n",
       "      <td>495</td>\n",
       "      <td>https://www.amazon.com/Into-Water-Novel-Paula-...</td>\n",
       "      <td></td>\n",
       "      <td></td>\n",
       "      <td></td>\n",
       "      <td></td>\n",
       "      <td></td>\n",
       "      <td>[{'isbn10': '0735211205', 'isbn13': '978073521...</td>\n",
       "      <td>[{'name': 'Amazon', 'url': 'https://www.amazon...</td>\n",
       "      <td>nyt://book/2d0f232c-cb7c-5837-a9d6-efe366eeb444</td>\n",
       "    </tr>\n",
       "    <tr>\n",
       "      <th>12</th>\n",
       "      <td>13</td>\n",
       "      <td>11</td>\n",
       "      <td>34</td>\n",
       "      <td>0</td>\n",
       "      <td>0</td>\n",
       "      <td>0425284697</td>\n",
       "      <td>9780425284698</td>\n",
       "      <td>Ballantine</td>\n",
       "      <td>A South Carolina lawyer learns about the quest...</td>\n",
       "      <td>0.00</td>\n",
       "      <td>BEFORE WE WERE YOURS</td>\n",
       "      <td>Lisa Wingate</td>\n",
       "      <td>by Lisa Wingate</td>\n",
       "      <td></td>\n",
       "      <td>https://storage.googleapis.com/du-prd/books/im...</td>\n",
       "      <td>330</td>\n",
       "      <td>495</td>\n",
       "      <td>https://www.amazon.com/Before-We-Were-Yours-No...</td>\n",
       "      <td></td>\n",
       "      <td></td>\n",
       "      <td></td>\n",
       "      <td></td>\n",
       "      <td></td>\n",
       "      <td>[{'isbn10': '0425284689', 'isbn13': '978042528...</td>\n",
       "      <td>[{'name': 'Amazon', 'url': 'https://www.amazon...</td>\n",
       "      <td>nyt://book/1a6fb174-dd0c-564e-83b7-d00ec45d52cd</td>\n",
       "    </tr>\n",
       "    <tr>\n",
       "      <th>13</th>\n",
       "      <td>14</td>\n",
       "      <td>0</td>\n",
       "      <td>27</td>\n",
       "      <td>0</td>\n",
       "      <td>0</td>\n",
       "      <td>038549081X</td>\n",
       "      <td>9780385490818</td>\n",
       "      <td>Houghton Mifflin Harcourt</td>\n",
       "      <td>Men and women in a dystopian future. The basis...</td>\n",
       "      <td>0.00</td>\n",
       "      <td>THE HANDMAID'S TALE</td>\n",
       "      <td>Margaret Atwood</td>\n",
       "      <td>by Margaret Atwood</td>\n",
       "      <td></td>\n",
       "      <td>https://storage.googleapis.com/du-prd/books/im...</td>\n",
       "      <td>330</td>\n",
       "      <td>485</td>\n",
       "      <td>https://www.amazon.com/Handmaids-Tale-Margaret...</td>\n",
       "      <td></td>\n",
       "      <td></td>\n",
       "      <td></td>\n",
       "      <td>https://www.nytimes.com/1986/02/09/books/no-he...</td>\n",
       "      <td></td>\n",
       "      <td>[{'isbn10': '038549081X', 'isbn13': '978038549...</td>\n",
       "      <td>[{'name': 'Amazon', 'url': 'https://www.amazon...</td>\n",
       "      <td>nyt://book/0868766f-b674-50f9-a665-b1c5f0f17d13</td>\n",
       "    </tr>\n",
       "    <tr>\n",
       "      <th>14</th>\n",
       "      <td>15</td>\n",
       "      <td>15</td>\n",
       "      <td>2</td>\n",
       "      <td>0</td>\n",
       "      <td>0</td>\n",
       "      <td>0525505318</td>\n",
       "      <td>9780525505310</td>\n",
       "      <td>Penguin</td>\n",
       "      <td>A couple’s secrets emerge after their baby dis...</td>\n",
       "      <td>0.00</td>\n",
       "      <td>THE COUPLE NEXT DOOR</td>\n",
       "      <td>Shari Lapena</td>\n",
       "      <td>by Shari Lapena</td>\n",
       "      <td></td>\n",
       "      <td>https://storage.googleapis.com/du-prd/books/im...</td>\n",
       "      <td>328</td>\n",
       "      <td>495</td>\n",
       "      <td>http://www.amazon.com/Couple-Next-Door-Novel/d...</td>\n",
       "      <td></td>\n",
       "      <td></td>\n",
       "      <td></td>\n",
       "      <td></td>\n",
       "      <td></td>\n",
       "      <td>[{'isbn10': '0735221081', 'isbn13': '978073522...</td>\n",
       "      <td>[{'name': 'Amazon', 'url': 'http://www.amazon....</td>\n",
       "      <td>nyt://book/d8986982-6ff0-5bb3-8837-2157887fd9a9</td>\n",
       "    </tr>\n",
       "  </tbody>\n",
       "</table>\n",
       "</div>"
      ],
      "text/plain": [
       "    rank  rank_last_week  weeks_on_list  asterisk  dagger primary_isbn10  \\\n",
       "10    11               0              8         0       0     125013093X   \n",
       "11    12               7             13         0       0     0735211221   \n",
       "12    13              11             34         0       0     0425284697   \n",
       "13    14               0             27         0       0     038549081X   \n",
       "14    15              15              2         0       0     0525505318   \n",
       "\n",
       "   primary_isbn13                  publisher  \\\n",
       "10  9781250130938               St. Martin's   \n",
       "11  9780735211223                  Riverhead   \n",
       "12  9780425284698                 Ballantine   \n",
       "13  9780385490818  Houghton Mifflin Harcourt   \n",
       "14  9780525505310                    Penguin   \n",
       "\n",
       "                                          description price  \\\n",
       "10  The story of a love triangle is told from seve...  0.00   \n",
       "11  In this psychological thriller by the author o...  0.00   \n",
       "12  A South Carolina lawyer learns about the quest...  0.00   \n",
       "13  Men and women in a dystopian future. The basis...  0.00   \n",
       "14  A couple’s secrets emerge after their baby dis...  0.00   \n",
       "\n",
       "                   title                              author  \\\n",
       "10   THE WIFE BETWEEN US  Greer Hendricks and Sarah Pekkanen   \n",
       "11        INTO THE WATER                       Paula Hawkins   \n",
       "12  BEFORE WE WERE YOURS                        Lisa Wingate   \n",
       "13   THE HANDMAID'S TALE                     Margaret Atwood   \n",
       "14  THE COUPLE NEXT DOOR                        Shari Lapena   \n",
       "\n",
       "                              contributor contributor_note  \\\n",
       "10  by Greer Hendricks and Sarah Pekkanen                    \n",
       "11                       by Paula Hawkins                    \n",
       "12                        by Lisa Wingate                    \n",
       "13                     by Margaret Atwood                    \n",
       "14                        by Shari Lapena                    \n",
       "\n",
       "                                           book_image  book_image_width  \\\n",
       "10  https://storage.googleapis.com/du-prd/books/im...               326   \n",
       "11  https://storage.googleapis.com/du-prd/books/im...               328   \n",
       "12  https://storage.googleapis.com/du-prd/books/im...               330   \n",
       "13  https://storage.googleapis.com/du-prd/books/im...               330   \n",
       "14  https://storage.googleapis.com/du-prd/books/im...               328   \n",
       "\n",
       "    book_image_height                                 amazon_product_url  \\\n",
       "10                495  https://www.amazon.com/Wife-Between-Us-Novel/d...   \n",
       "11                495  https://www.amazon.com/Into-Water-Novel-Paula-...   \n",
       "12                495  https://www.amazon.com/Before-We-Were-Yours-No...   \n",
       "13                485  https://www.amazon.com/Handmaids-Tale-Margaret...   \n",
       "14                495  http://www.amazon.com/Couple-Next-Door-Novel/d...   \n",
       "\n",
       "   age_group book_review_link first_chapter_link  \\\n",
       "10                                                 \n",
       "11                                                 \n",
       "12                                                 \n",
       "13                                                 \n",
       "14                                                 \n",
       "\n",
       "                                   sunday_review_link article_chapter_link  \\\n",
       "10                                                                           \n",
       "11                                                                           \n",
       "12                                                                           \n",
       "13  https://www.nytimes.com/1986/02/09/books/no-he...                        \n",
       "14                                                                           \n",
       "\n",
       "                                                isbns  \\\n",
       "10  [{'isbn10': '1250130921', 'isbn13': '978125013...   \n",
       "11  [{'isbn10': '0735211205', 'isbn13': '978073521...   \n",
       "12  [{'isbn10': '0425284689', 'isbn13': '978042528...   \n",
       "13  [{'isbn10': '038549081X', 'isbn13': '978038549...   \n",
       "14  [{'isbn10': '0735221081', 'isbn13': '978073522...   \n",
       "\n",
       "                                            buy_links  \\\n",
       "10  [{'name': 'Amazon', 'url': 'https://www.amazon...   \n",
       "11  [{'name': 'Amazon', 'url': 'https://www.amazon...   \n",
       "12  [{'name': 'Amazon', 'url': 'https://www.amazon...   \n",
       "13  [{'name': 'Amazon', 'url': 'https://www.amazon...   \n",
       "14  [{'name': 'Amazon', 'url': 'http://www.amazon....   \n",
       "\n",
       "                                           book_uri  \n",
       "10  nyt://book/412f8d0a-dcb9-54d9-a381-ebd4d304dcb0  \n",
       "11  nyt://book/2d0f232c-cb7c-5837-a9d6-efe366eeb444  \n",
       "12  nyt://book/1a6fb174-dd0c-564e-83b7-d00ec45d52cd  \n",
       "13  nyt://book/0868766f-b674-50f9-a665-b1c5f0f17d13  \n",
       "14  nyt://book/d8986982-6ff0-5bb3-8837-2157887fd9a9  "
      ]
     },
     "execution_count": 37,
     "metadata": {},
     "output_type": "execute_result"
    }
   ],
   "source": [
    "df.tail()"
   ]
  },
  {
   "cell_type": "code",
   "execution_count": 40,
   "metadata": {},
   "outputs": [
    {
     "data": {
      "text/plain": [
       "(3900, 26)"
      ]
     },
     "execution_count": 40,
     "metadata": {},
     "output_type": "execute_result"
    }
   ],
   "source": [
    "df.shape"
   ]
  },
  {
   "cell_type": "code",
   "execution_count": 41,
   "metadata": {},
   "outputs": [
    {
     "data": {
      "text/plain": [
       "260"
      ]
     },
     "execution_count": 41,
     "metadata": {},
     "output_type": "execute_result"
    }
   ],
   "source": [
    "len(weeks)"
   ]
  },
  {
   "cell_type": "code",
   "execution_count": null,
   "metadata": {},
   "outputs": [],
   "source": [
    "'''###check if it works\n",
    "BOOKS_ROOT = \"https://api.nytimes.com/svc/books/v3/lists\"\n",
    "LIST = \"combined-print-and-e-book-fiction\"   #you can change to other lists available at https://developer.nytimes.com\n",
    "\n",
    "# Add your API key here\n",
    "API_KEY = keys.json\n",
    "\n",
    "bestsellers = []\n",
    "weeks = []\n",
    "num_calls_to_make = 520 # you can use up to 500 calls a day, so need to split\n",
    "ctr = 0\n",
    "\n",
    "# lists update once a week, every Sunday\n",
    "for i in range(0,num_calls_to_make):\n",
    "    today = datetime.datetime.today()\n",
    "    idx = (today.weekday() + 1) % 7\n",
    "    last_sun = today - datetime.timedelta((7*ctr)+idx)\n",
    "    last_sun = last_sun.date()\n",
    "    print(last_sun)\n",
    "    url = \"%s/%s/%s?api-key=%s\" % (BOOKS_ROOT, last_sun, LIST, API_KEY)\n",
    "    url = url.strip()\n",
    "    print(url)\n",
    "    r = requests.get(url)\n",
    "    if (r.status_code == 200):\n",
    "        results = r.json()\n",
    "        books = json_normalize(results[\"results\"][\"books\"]) #parse_books(results, date)\n",
    "        bestsellers.append(books)\n",
    "        weeks.append(str(last_sun))\n",
    "    else:\n",
    "        print(\"API call did not work!\")\n",
    "        print(r)\n",
    "        #break\n",
    "    ctr = ctr + 1\n",
    "    time.sleep(12)\n",
    "\n",
    "    #Splitting into 2 sections\n",
    "    bestsellers_part1 = bestsellers[:260] #First 5 years of data, 260 weeks\n",
    "    weeks_part1 = weeks[:260]\n",
    "'''"
   ]
  },
  {
   "cell_type": "code",
   "execution_count": 43,
   "metadata": {},
   "outputs": [],
   "source": [
    "#repeat weeks 16 times to add to df\n",
    "#https://www.pythonforbeginners.com/lists/repeat-each-element-in-a-list-in-python\n",
    "k = 15\n",
    "repeated_weeks = []\n",
    "for element in weeks:\n",
    "    for i in range(k):\n",
    "       repeated_weeks.append(element)"
   ]
  },
  {
   "cell_type": "code",
   "execution_count": 44,
   "metadata": {},
   "outputs": [
    {
     "data": {
      "text/plain": [
       "3900"
      ]
     },
     "execution_count": 44,
     "metadata": {},
     "output_type": "execute_result"
    }
   ],
   "source": [
    "len(repeated_weeks)"
   ]
  },
  {
   "cell_type": "code",
   "execution_count": 45,
   "metadata": {},
   "outputs": [],
   "source": [
    "df.to_csv(\"C:\\\\Users\\\\melan\\\\Documents\\\\DA8\\\\Projects\\\\capstone\\\\last_five_years_nyt_bestsellers_data.csv\", index=False)"
   ]
  },
  {
   "cell_type": "code",
   "execution_count": 47,
   "metadata": {},
   "outputs": [
    {
     "name": "stdout",
     "output_type": "stream",
     "text": [
      "<class 'pandas.core.frame.DataFrame'>\n",
      "Int64Index: 3900 entries, 0 to 14\n",
      "Data columns (total 26 columns):\n",
      " #   Column                Non-Null Count  Dtype \n",
      "---  ------                --------------  ----- \n",
      " 0   rank                  3900 non-null   int64 \n",
      " 1   rank_last_week        3900 non-null   int64 \n",
      " 2   weeks_on_list         3900 non-null   int64 \n",
      " 3   asterisk              3900 non-null   int64 \n",
      " 4   dagger                3900 non-null   int64 \n",
      " 5   primary_isbn10        3900 non-null   object\n",
      " 6   primary_isbn13        3900 non-null   object\n",
      " 7   publisher             3900 non-null   object\n",
      " 8   description           3900 non-null   object\n",
      " 9   price                 3900 non-null   object\n",
      " 10  title                 3900 non-null   object\n",
      " 11  author                3900 non-null   object\n",
      " 12  contributor           3900 non-null   object\n",
      " 13  contributor_note      3899 non-null   object\n",
      " 14  book_image            3900 non-null   object\n",
      " 15  book_image_width      3900 non-null   int64 \n",
      " 16  book_image_height     3900 non-null   int64 \n",
      " 17  amazon_product_url    3900 non-null   object\n",
      " 18  age_group             3899 non-null   object\n",
      " 19  book_review_link      3899 non-null   object\n",
      " 20  first_chapter_link    3899 non-null   object\n",
      " 21  sunday_review_link    3899 non-null   object\n",
      " 22  article_chapter_link  3899 non-null   object\n",
      " 23  isbns                 3900 non-null   object\n",
      " 24  buy_links             3900 non-null   object\n",
      " 25  book_uri              3900 non-null   object\n",
      "dtypes: int64(7), object(19)\n",
      "memory usage: 822.7+ KB\n"
     ]
    }
   ],
   "source": [
    "df.info()"
   ]
  },
  {
   "cell_type": "code",
   "execution_count": 48,
   "metadata": {},
   "outputs": [],
   "source": [
    "#rename df for clarity\n",
    "combined_bestsellers = df"
   ]
  },
  {
   "cell_type": "code",
   "execution_count": 50,
   "metadata": {},
   "outputs": [],
   "source": [
    "#after looking at head and tail, it looks like they switched from top 20 to top 15 at some point\n",
    "#for normalization, let's narrow it down to top 15 across all weeks\n",
    "#https://www.geeksforgeeks.org/python-pandas-dataframe-isin/\n",
    "combined_bestsellers['rank'] = combined_bestsellers['rank'].astype(str)\n",
    "filter_15 = combined_bestsellers['rank'].isin(['1', '2', '3', '4', '5', '6', '7', '8', '9', '10', '11', '12', '13', '14', '15'])"
   ]
  },
  {
   "cell_type": "code",
   "execution_count": 52,
   "metadata": {},
   "outputs": [],
   "source": [
    "\n",
    "top_15_combined_bestsellers = combined_bestsellers[filter_15]"
   ]
  },
  {
   "cell_type": "code",
   "execution_count": 53,
   "metadata": {},
   "outputs": [
    {
     "data": {
      "text/html": [
       "<div>\n",
       "<style scoped>\n",
       "    .dataframe tbody tr th:only-of-type {\n",
       "        vertical-align: middle;\n",
       "    }\n",
       "\n",
       "    .dataframe tbody tr th {\n",
       "        vertical-align: top;\n",
       "    }\n",
       "\n",
       "    .dataframe thead th {\n",
       "        text-align: right;\n",
       "    }\n",
       "</style>\n",
       "<table border=\"1\" class=\"dataframe\">\n",
       "  <thead>\n",
       "    <tr style=\"text-align: right;\">\n",
       "      <th></th>\n",
       "      <th>rank</th>\n",
       "      <th>rank_last_week</th>\n",
       "      <th>weeks_on_list</th>\n",
       "      <th>asterisk</th>\n",
       "      <th>dagger</th>\n",
       "      <th>primary_isbn10</th>\n",
       "      <th>primary_isbn13</th>\n",
       "      <th>publisher</th>\n",
       "      <th>description</th>\n",
       "      <th>price</th>\n",
       "      <th>title</th>\n",
       "      <th>author</th>\n",
       "      <th>contributor</th>\n",
       "      <th>contributor_note</th>\n",
       "      <th>book_image</th>\n",
       "      <th>book_image_width</th>\n",
       "      <th>book_image_height</th>\n",
       "      <th>amazon_product_url</th>\n",
       "      <th>age_group</th>\n",
       "      <th>book_review_link</th>\n",
       "      <th>first_chapter_link</th>\n",
       "      <th>sunday_review_link</th>\n",
       "      <th>article_chapter_link</th>\n",
       "      <th>isbns</th>\n",
       "      <th>buy_links</th>\n",
       "      <th>book_uri</th>\n",
       "    </tr>\n",
       "  </thead>\n",
       "  <tbody>\n",
       "    <tr>\n",
       "      <th>0</th>\n",
       "      <td>1</td>\n",
       "      <td>0</td>\n",
       "      <td>1</td>\n",
       "      <td>0</td>\n",
       "      <td>0</td>\n",
       "      <td>0316402982</td>\n",
       "      <td>9780316402989</td>\n",
       "      <td>Little, Brown</td>\n",
       "      <td>The 23rd book in the Women’s Murder Club serie...</td>\n",
       "      <td>0.00</td>\n",
       "      <td>THE 23RD MIDNIGHT</td>\n",
       "      <td>James Patterson and Maxine Paetro</td>\n",
       "      <td>by James Patterson and Maxine Paetro</td>\n",
       "      <td></td>\n",
       "      <td>https://storage.googleapis.com/du-prd/books/im...</td>\n",
       "      <td>326</td>\n",
       "      <td>500</td>\n",
       "      <td>https://www.amazon.com/dp/0316402788?tag=NYTBS...</td>\n",
       "      <td></td>\n",
       "      <td></td>\n",
       "      <td></td>\n",
       "      <td></td>\n",
       "      <td></td>\n",
       "      <td>[{'isbn10': '0316402788', 'isbn13': '978031640...</td>\n",
       "      <td>[{'name': 'Amazon', 'url': 'https://www.amazon...</td>\n",
       "      <td>nyt://book/8d902754-be73-5c91-8e58-3688d03d19d4</td>\n",
       "    </tr>\n",
       "    <tr>\n",
       "      <th>1</th>\n",
       "      <td>2</td>\n",
       "      <td>1</td>\n",
       "      <td>2</td>\n",
       "      <td>0</td>\n",
       "      <td>0</td>\n",
       "      <td>0593441273</td>\n",
       "      <td>9780593441275</td>\n",
       "      <td>Berkley</td>\n",
       "      <td>A former couple pretend to be together for the...</td>\n",
       "      <td>0.00</td>\n",
       "      <td>HAPPY PLACE</td>\n",
       "      <td>Emily Henry</td>\n",
       "      <td>by Emily Henry</td>\n",
       "      <td></td>\n",
       "      <td>https://storage.googleapis.com/du-prd/books/im...</td>\n",
       "      <td>331</td>\n",
       "      <td>500</td>\n",
       "      <td>https://www.amazon.com/dp/0593441273?tag=NYTBS...</td>\n",
       "      <td></td>\n",
       "      <td></td>\n",
       "      <td></td>\n",
       "      <td></td>\n",
       "      <td></td>\n",
       "      <td>[{'isbn10': '0593441273', 'isbn13': '978059344...</td>\n",
       "      <td>[{'name': 'Amazon', 'url': 'https://www.amazon...</td>\n",
       "      <td>nyt://book/9ab3a59a-e572-5452-ae0c-eedeadb05831</td>\n",
       "    </tr>\n",
       "    <tr>\n",
       "      <th>2</th>\n",
       "      <td>3</td>\n",
       "      <td>0</td>\n",
       "      <td>1</td>\n",
       "      <td>0</td>\n",
       "      <td>0</td>\n",
       "      <td>0593438558</td>\n",
       "      <td>9780593438558</td>\n",
       "      <td>Berkley</td>\n",
       "      <td>A decade after a one-day adventure, Will appea...</td>\n",
       "      <td>0.00</td>\n",
       "      <td>MEET ME AT THE LAKE</td>\n",
       "      <td>Carley Fortune</td>\n",
       "      <td>by Carley Fortune</td>\n",
       "      <td></td>\n",
       "      <td>https://storage.googleapis.com/du-prd/books/im...</td>\n",
       "      <td>333</td>\n",
       "      <td>500</td>\n",
       "      <td>https://www.amazon.com/dp/0593438558?tag=NYTBS...</td>\n",
       "      <td></td>\n",
       "      <td></td>\n",
       "      <td></td>\n",
       "      <td></td>\n",
       "      <td></td>\n",
       "      <td>[{'isbn10': '0593438558', 'isbn13': '978059343...</td>\n",
       "      <td>[{'name': 'Amazon', 'url': 'https://www.amazon...</td>\n",
       "      <td>nyt://book/f6409475-c210-5baf-beda-d11fba9e9981</td>\n",
       "    </tr>\n",
       "    <tr>\n",
       "      <th>3</th>\n",
       "      <td>4</td>\n",
       "      <td>0</td>\n",
       "      <td>1</td>\n",
       "      <td>0</td>\n",
       "      <td>0</td>\n",
       "      <td>0802162177</td>\n",
       "      <td>9780802162175</td>\n",
       "      <td>Grove</td>\n",
       "      <td>Three generations of a family living on South ...</td>\n",
       "      <td>0.00</td>\n",
       "      <td>THE COVENANT OF WATER</td>\n",
       "      <td>Abraham Verghese</td>\n",
       "      <td>by Abraham Verghese</td>\n",
       "      <td></td>\n",
       "      <td>https://storage.googleapis.com/du-prd/books/im...</td>\n",
       "      <td>320</td>\n",
       "      <td>500</td>\n",
       "      <td>https://www.amazon.com/dp/0802162177?tag=NYTBS...</td>\n",
       "      <td></td>\n",
       "      <td></td>\n",
       "      <td></td>\n",
       "      <td></td>\n",
       "      <td></td>\n",
       "      <td>[{'isbn10': '0802162177', 'isbn13': '978080216...</td>\n",
       "      <td>[{'name': 'Amazon', 'url': 'https://www.amazon...</td>\n",
       "      <td>nyt://book/5ebf1d34-4c68-560a-8330-7e65bedaaa1a</td>\n",
       "    </tr>\n",
       "    <tr>\n",
       "      <th>4</th>\n",
       "      <td>5</td>\n",
       "      <td>0</td>\n",
       "      <td>1</td>\n",
       "      <td>0</td>\n",
       "      <td>0</td>\n",
       "      <td>1649374046</td>\n",
       "      <td>9781649374042</td>\n",
       "      <td>Red Tower</td>\n",
       "      <td>Violet Sorrengail is urged by the commanding g...</td>\n",
       "      <td>0.00</td>\n",
       "      <td>FOURTH WING</td>\n",
       "      <td>Rebecca Yarros</td>\n",
       "      <td>by Rebecca Yarros</td>\n",
       "      <td></td>\n",
       "      <td>https://storage.googleapis.com/du-prd/books/im...</td>\n",
       "      <td>309</td>\n",
       "      <td>500</td>\n",
       "      <td>https://www.amazon.com/dp/1649374046?tag=NYTBS...</td>\n",
       "      <td></td>\n",
       "      <td></td>\n",
       "      <td></td>\n",
       "      <td></td>\n",
       "      <td></td>\n",
       "      <td>[{'isbn10': '1649374046', 'isbn13': '978164937...</td>\n",
       "      <td>[{'name': 'Amazon', 'url': 'https://www.amazon...</td>\n",
       "      <td>nyt://book/106c2cf0-7d20-51b1-bad4-91c3ebcd131a</td>\n",
       "    </tr>\n",
       "  </tbody>\n",
       "</table>\n",
       "</div>"
      ],
      "text/plain": [
       "  rank  rank_last_week  weeks_on_list  asterisk  dagger primary_isbn10  \\\n",
       "0    1               0              1         0       0     0316402982   \n",
       "1    2               1              2         0       0     0593441273   \n",
       "2    3               0              1         0       0     0593438558   \n",
       "3    4               0              1         0       0     0802162177   \n",
       "4    5               0              1         0       0     1649374046   \n",
       "\n",
       "  primary_isbn13      publisher  \\\n",
       "0  9780316402989  Little, Brown   \n",
       "1  9780593441275        Berkley   \n",
       "2  9780593438558        Berkley   \n",
       "3  9780802162175          Grove   \n",
       "4  9781649374042      Red Tower   \n",
       "\n",
       "                                         description price  \\\n",
       "0  The 23rd book in the Women’s Murder Club serie...  0.00   \n",
       "1  A former couple pretend to be together for the...  0.00   \n",
       "2  A decade after a one-day adventure, Will appea...  0.00   \n",
       "3  Three generations of a family living on South ...  0.00   \n",
       "4  Violet Sorrengail is urged by the commanding g...  0.00   \n",
       "\n",
       "                   title                             author  \\\n",
       "0      THE 23RD MIDNIGHT  James Patterson and Maxine Paetro   \n",
       "1            HAPPY PLACE                        Emily Henry   \n",
       "2    MEET ME AT THE LAKE                     Carley Fortune   \n",
       "3  THE COVENANT OF WATER                   Abraham Verghese   \n",
       "4            FOURTH WING                     Rebecca Yarros   \n",
       "\n",
       "                            contributor contributor_note  \\\n",
       "0  by James Patterson and Maxine Paetro                    \n",
       "1                        by Emily Henry                    \n",
       "2                     by Carley Fortune                    \n",
       "3                   by Abraham Verghese                    \n",
       "4                     by Rebecca Yarros                    \n",
       "\n",
       "                                          book_image  book_image_width  \\\n",
       "0  https://storage.googleapis.com/du-prd/books/im...               326   \n",
       "1  https://storage.googleapis.com/du-prd/books/im...               331   \n",
       "2  https://storage.googleapis.com/du-prd/books/im...               333   \n",
       "3  https://storage.googleapis.com/du-prd/books/im...               320   \n",
       "4  https://storage.googleapis.com/du-prd/books/im...               309   \n",
       "\n",
       "   book_image_height                                 amazon_product_url  \\\n",
       "0                500  https://www.amazon.com/dp/0316402788?tag=NYTBS...   \n",
       "1                500  https://www.amazon.com/dp/0593441273?tag=NYTBS...   \n",
       "2                500  https://www.amazon.com/dp/0593438558?tag=NYTBS...   \n",
       "3                500  https://www.amazon.com/dp/0802162177?tag=NYTBS...   \n",
       "4                500  https://www.amazon.com/dp/1649374046?tag=NYTBS...   \n",
       "\n",
       "  age_group book_review_link first_chapter_link sunday_review_link  \\\n",
       "0                                                                    \n",
       "1                                                                    \n",
       "2                                                                    \n",
       "3                                                                    \n",
       "4                                                                    \n",
       "\n",
       "  article_chapter_link                                              isbns  \\\n",
       "0                       [{'isbn10': '0316402788', 'isbn13': '978031640...   \n",
       "1                       [{'isbn10': '0593441273', 'isbn13': '978059344...   \n",
       "2                       [{'isbn10': '0593438558', 'isbn13': '978059343...   \n",
       "3                       [{'isbn10': '0802162177', 'isbn13': '978080216...   \n",
       "4                       [{'isbn10': '1649374046', 'isbn13': '978164937...   \n",
       "\n",
       "                                           buy_links  \\\n",
       "0  [{'name': 'Amazon', 'url': 'https://www.amazon...   \n",
       "1  [{'name': 'Amazon', 'url': 'https://www.amazon...   \n",
       "2  [{'name': 'Amazon', 'url': 'https://www.amazon...   \n",
       "3  [{'name': 'Amazon', 'url': 'https://www.amazon...   \n",
       "4  [{'name': 'Amazon', 'url': 'https://www.amazon...   \n",
       "\n",
       "                                          book_uri  \n",
       "0  nyt://book/8d902754-be73-5c91-8e58-3688d03d19d4  \n",
       "1  nyt://book/9ab3a59a-e572-5452-ae0c-eedeadb05831  \n",
       "2  nyt://book/f6409475-c210-5baf-beda-d11fba9e9981  \n",
       "3  nyt://book/5ebf1d34-4c68-560a-8330-7e65bedaaa1a  \n",
       "4  nyt://book/106c2cf0-7d20-51b1-bad4-91c3ebcd131a  "
      ]
     },
     "execution_count": 53,
     "metadata": {},
     "output_type": "execute_result"
    }
   ],
   "source": [
    "\n",
    "top_15_combined_bestsellers.head()"
   ]
  },
  {
   "cell_type": "code",
   "execution_count": 54,
   "metadata": {},
   "outputs": [
    {
     "data": {
      "text/plain": [
       "3900"
      ]
     },
     "execution_count": 54,
     "metadata": {},
     "output_type": "execute_result"
    }
   ],
   "source": [
    "len(top_15_combined_bestsellers)"
   ]
  },
  {
   "cell_type": "code",
   "execution_count": 55,
   "metadata": {},
   "outputs": [
    {
     "data": {
      "text/plain": [
       "3900"
      ]
     },
     "execution_count": 55,
     "metadata": {},
     "output_type": "execute_result"
    }
   ],
   "source": [
    "len(repeated_weeks)"
   ]
  },
  {
   "cell_type": "code",
   "execution_count": 56,
   "metadata": {},
   "outputs": [
    {
     "data": {
      "text/html": [
       "<div>\n",
       "<style scoped>\n",
       "    .dataframe tbody tr th:only-of-type {\n",
       "        vertical-align: middle;\n",
       "    }\n",
       "\n",
       "    .dataframe tbody tr th {\n",
       "        vertical-align: top;\n",
       "    }\n",
       "\n",
       "    .dataframe thead th {\n",
       "        text-align: right;\n",
       "    }\n",
       "</style>\n",
       "<table border=\"1\" class=\"dataframe\">\n",
       "  <thead>\n",
       "    <tr style=\"text-align: right;\">\n",
       "      <th></th>\n",
       "      <th>rank</th>\n",
       "      <th>rank_last_week</th>\n",
       "      <th>weeks_on_list</th>\n",
       "      <th>asterisk</th>\n",
       "      <th>dagger</th>\n",
       "      <th>primary_isbn10</th>\n",
       "      <th>primary_isbn13</th>\n",
       "      <th>publisher</th>\n",
       "      <th>description</th>\n",
       "      <th>price</th>\n",
       "      <th>title</th>\n",
       "      <th>author</th>\n",
       "      <th>contributor</th>\n",
       "      <th>contributor_note</th>\n",
       "      <th>book_image</th>\n",
       "      <th>book_image_width</th>\n",
       "      <th>book_image_height</th>\n",
       "      <th>amazon_product_url</th>\n",
       "      <th>age_group</th>\n",
       "      <th>book_review_link</th>\n",
       "      <th>first_chapter_link</th>\n",
       "      <th>sunday_review_link</th>\n",
       "      <th>article_chapter_link</th>\n",
       "      <th>isbns</th>\n",
       "      <th>buy_links</th>\n",
       "      <th>book_uri</th>\n",
       "      <th>week</th>\n",
       "    </tr>\n",
       "  </thead>\n",
       "  <tbody>\n",
       "    <tr>\n",
       "      <th>10</th>\n",
       "      <td>11</td>\n",
       "      <td>7</td>\n",
       "      <td>5</td>\n",
       "      <td>0</td>\n",
       "      <td>0</td>\n",
       "      <td>073521736X</td>\n",
       "      <td>9780735217362</td>\n",
       "      <td>Putnam</td>\n",
       "      <td>The 28th book in the Prey series. A federal ma...</td>\n",
       "      <td>0.00</td>\n",
       "      <td>TWISTED PREY</td>\n",
       "      <td>John Sandford</td>\n",
       "      <td>by John Sandford</td>\n",
       "      <td></td>\n",
       "      <td>https://storage.googleapis.com/du-prd/books/im...</td>\n",
       "      <td>328</td>\n",
       "      <td>495</td>\n",
       "      <td>https://www.amazon.com/Twisted-Prey-Novel-John...</td>\n",
       "      <td></td>\n",
       "      <td></td>\n",
       "      <td></td>\n",
       "      <td></td>\n",
       "      <td></td>\n",
       "      <td>[{'isbn10': '0735217351', 'isbn13': '978073521...</td>\n",
       "      <td>[{'name': 'Amazon', 'url': 'https://www.amazon...</td>\n",
       "      <td>nyt://book/67c1d531-ba20-5c69-b97a-fbaa5d39554b</td>\n",
       "      <td>2018-06-04</td>\n",
       "    </tr>\n",
       "    <tr>\n",
       "      <th>11</th>\n",
       "      <td>12</td>\n",
       "      <td>15</td>\n",
       "      <td>3</td>\n",
       "      <td>0</td>\n",
       "      <td>0</td>\n",
       "      <td>0525505318</td>\n",
       "      <td>9780525505310</td>\n",
       "      <td>Penguin</td>\n",
       "      <td>A couple’s secrets emerge after their baby dis...</td>\n",
       "      <td>0.00</td>\n",
       "      <td>THE COUPLE NEXT DOOR</td>\n",
       "      <td>Shari Lapena</td>\n",
       "      <td>by Shari Lapena</td>\n",
       "      <td></td>\n",
       "      <td>https://storage.googleapis.com/du-prd/books/im...</td>\n",
       "      <td>328</td>\n",
       "      <td>495</td>\n",
       "      <td>http://www.amazon.com/Couple-Next-Door-Novel/d...</td>\n",
       "      <td></td>\n",
       "      <td></td>\n",
       "      <td></td>\n",
       "      <td></td>\n",
       "      <td></td>\n",
       "      <td>[{'isbn10': '0735221081', 'isbn13': '978073522...</td>\n",
       "      <td>[{'name': 'Amazon', 'url': 'http://www.amazon....</td>\n",
       "      <td>nyt://book/d8986982-6ff0-5bb3-8837-2157887fd9a9</td>\n",
       "      <td>2018-06-04</td>\n",
       "    </tr>\n",
       "    <tr>\n",
       "      <th>12</th>\n",
       "      <td>13</td>\n",
       "      <td>10</td>\n",
       "      <td>16</td>\n",
       "      <td>0</td>\n",
       "      <td>0</td>\n",
       "      <td>125016561X</td>\n",
       "      <td>9781250165619</td>\n",
       "      <td>St. Martin's</td>\n",
       "      <td>A former prisoner of war returns from Vietnam ...</td>\n",
       "      <td>0.00</td>\n",
       "      <td>THE GREAT ALONE</td>\n",
       "      <td>Kristin Hannah</td>\n",
       "      <td>by Kristin Hannah</td>\n",
       "      <td></td>\n",
       "      <td>https://storage.googleapis.com/du-prd/books/im...</td>\n",
       "      <td>326</td>\n",
       "      <td>495</td>\n",
       "      <td>https://www.amazon.com/Great-Alone-Novel-Krist...</td>\n",
       "      <td></td>\n",
       "      <td></td>\n",
       "      <td></td>\n",
       "      <td></td>\n",
       "      <td></td>\n",
       "      <td>[{'isbn10': '0312577230', 'isbn13': '978031257...</td>\n",
       "      <td>[{'name': 'Amazon', 'url': 'https://www.amazon...</td>\n",
       "      <td>nyt://book/92bd289c-529f-5558-8c5e-d0247e1351da</td>\n",
       "      <td>2018-06-04</td>\n",
       "    </tr>\n",
       "    <tr>\n",
       "      <th>13</th>\n",
       "      <td>14</td>\n",
       "      <td>3</td>\n",
       "      <td>2</td>\n",
       "      <td>0</td>\n",
       "      <td>0</td>\n",
       "      <td>0062390821</td>\n",
       "      <td>9780062390820</td>\n",
       "      <td>Morrow</td>\n",
       "      <td>Two families are brought together when the dau...</td>\n",
       "      <td>0.00</td>\n",
       "      <td>BY INVITATION ONLY</td>\n",
       "      <td>Dorothea Benton Frank</td>\n",
       "      <td>by Dorothea Benton Frank</td>\n",
       "      <td></td>\n",
       "      <td>https://storage.googleapis.com/du-prd/books/im...</td>\n",
       "      <td>330</td>\n",
       "      <td>495</td>\n",
       "      <td>https://www.amazon.com/Invitation-Only-Dorothe...</td>\n",
       "      <td></td>\n",
       "      <td></td>\n",
       "      <td></td>\n",
       "      <td></td>\n",
       "      <td></td>\n",
       "      <td>[{'isbn10': '0062390821', 'isbn13': '978006239...</td>\n",
       "      <td>[{'name': 'Amazon', 'url': 'https://www.amazon...</td>\n",
       "      <td>nyt://book/bf535c81-82ce-5674-8793-1fe5870f1f05</td>\n",
       "      <td>2018-06-04</td>\n",
       "    </tr>\n",
       "    <tr>\n",
       "      <th>14</th>\n",
       "      <td>15</td>\n",
       "      <td>8</td>\n",
       "      <td>3</td>\n",
       "      <td>0</td>\n",
       "      <td>0</td>\n",
       "      <td>1250126096</td>\n",
       "      <td>9781250126092</td>\n",
       "      <td>St. Martin's</td>\n",
       "      <td>An eccentric millionaire enlists the attorney ...</td>\n",
       "      <td>0.00</td>\n",
       "      <td>THE HIGH TIDE CLUB</td>\n",
       "      <td>Mary Kay Andrews</td>\n",
       "      <td>by Mary Kay Andrews</td>\n",
       "      <td></td>\n",
       "      <td>https://storage.googleapis.com/du-prd/books/im...</td>\n",
       "      <td>326</td>\n",
       "      <td>495</td>\n",
       "      <td>https://www.amazon.com/High-Tide-Club-Novel-eb...</td>\n",
       "      <td></td>\n",
       "      <td></td>\n",
       "      <td></td>\n",
       "      <td></td>\n",
       "      <td></td>\n",
       "      <td>[{'isbn10': '1250126061', 'isbn13': '978125012...</td>\n",
       "      <td>[{'name': 'Amazon', 'url': 'https://www.amazon...</td>\n",
       "      <td>nyt://book/25d190d1-c796-5f10-a3b9-75fc47340868</td>\n",
       "      <td>2018-06-04</td>\n",
       "    </tr>\n",
       "    <tr>\n",
       "      <th>0</th>\n",
       "      <td>1</td>\n",
       "      <td>0</td>\n",
       "      <td>1</td>\n",
       "      <td>0</td>\n",
       "      <td>0</td>\n",
       "      <td>1101884045</td>\n",
       "      <td>9781101884041</td>\n",
       "      <td>Delacorte</td>\n",
       "      <td>A magazine columnist meets an array of Hollywo...</td>\n",
       "      <td>0.00</td>\n",
       "      <td>THE CAST</td>\n",
       "      <td>Danielle Steel</td>\n",
       "      <td>by Danielle Steel</td>\n",
       "      <td></td>\n",
       "      <td>https://storage.googleapis.com/du-prd/books/im...</td>\n",
       "      <td>326</td>\n",
       "      <td>495</td>\n",
       "      <td>https://www.amazon.com/Cast-Novel-Danielle-Ste...</td>\n",
       "      <td></td>\n",
       "      <td></td>\n",
       "      <td></td>\n",
       "      <td></td>\n",
       "      <td></td>\n",
       "      <td>[{'isbn10': '1101884037', 'isbn13': '978110188...</td>\n",
       "      <td>[{'name': 'Amazon', 'url': 'https://www.amazon...</td>\n",
       "      <td>nyt://book/a8a0fa07-896a-5b5a-a572-f1e72e1b88f1</td>\n",
       "      <td>2018-05-28</td>\n",
       "    </tr>\n",
       "    <tr>\n",
       "      <th>1</th>\n",
       "      <td>2</td>\n",
       "      <td>1</td>\n",
       "      <td>3</td>\n",
       "      <td>0</td>\n",
       "      <td>0</td>\n",
       "      <td>0316274046</td>\n",
       "      <td>9780316274043</td>\n",
       "      <td>Little, Brown</td>\n",
       "      <td>The latest installment in the Women’s Murder C...</td>\n",
       "      <td>0.00</td>\n",
       "      <td>THE 17TH SUSPECT</td>\n",
       "      <td>James Patterson and Maxine Paetro</td>\n",
       "      <td>by James Patterson and Maxine Paetro</td>\n",
       "      <td></td>\n",
       "      <td>https://storage.googleapis.com/du-prd/books/im...</td>\n",
       "      <td>320</td>\n",
       "      <td>495</td>\n",
       "      <td>https://www.amazon.com/17th-Suspect-Womens-Mur...</td>\n",
       "      <td></td>\n",
       "      <td></td>\n",
       "      <td></td>\n",
       "      <td></td>\n",
       "      <td></td>\n",
       "      <td>[{'isbn10': '0316274046', 'isbn13': '978031627...</td>\n",
       "      <td>[{'name': 'Amazon', 'url': 'https://www.amazon...</td>\n",
       "      <td>nyt://book/7ae807ae-5910-5fe4-a92a-d634dbac645b</td>\n",
       "      <td>2018-05-28</td>\n",
       "    </tr>\n",
       "    <tr>\n",
       "      <th>2</th>\n",
       "      <td>3</td>\n",
       "      <td>0</td>\n",
       "      <td>1</td>\n",
       "      <td>0</td>\n",
       "      <td>0</td>\n",
       "      <td>006239083X</td>\n",
       "      <td>9780062390837</td>\n",
       "      <td>Morrow</td>\n",
       "      <td>Two families are brought together when the dau...</td>\n",
       "      <td>0.00</td>\n",
       "      <td>BY INVITATION ONLY</td>\n",
       "      <td>Dorothea Benton Frank</td>\n",
       "      <td>by Dorothea Benton Frank</td>\n",
       "      <td></td>\n",
       "      <td>https://storage.googleapis.com/du-prd/books/im...</td>\n",
       "      <td>330</td>\n",
       "      <td>495</td>\n",
       "      <td>https://www.amazon.com/Invitation-Only-Dorothe...</td>\n",
       "      <td></td>\n",
       "      <td></td>\n",
       "      <td></td>\n",
       "      <td></td>\n",
       "      <td></td>\n",
       "      <td>[{'isbn10': '0062390821', 'isbn13': '978006239...</td>\n",
       "      <td>[{'name': 'Amazon', 'url': 'https://www.amazon...</td>\n",
       "      <td>nyt://book/ff8d046e-b560-580f-8f88-0c7bdd18fb59</td>\n",
       "      <td>2018-05-28</td>\n",
       "    </tr>\n",
       "    <tr>\n",
       "      <th>3</th>\n",
       "      <td>4</td>\n",
       "      <td>0</td>\n",
       "      <td>1</td>\n",
       "      <td>0</td>\n",
       "      <td>0</td>\n",
       "      <td>1538714450</td>\n",
       "      <td>9781538714454</td>\n",
       "      <td>Grand Central</td>\n",
       "      <td>Princess Caroline calls on Jack Morgan when he...</td>\n",
       "      <td>0.00</td>\n",
       "      <td>PRINCESS</td>\n",
       "      <td>James Patterson and Rees Jones</td>\n",
       "      <td>by James Patterson and Rees Jones</td>\n",
       "      <td></td>\n",
       "      <td>https://storage.googleapis.com/du-prd/books/im...</td>\n",
       "      <td>276</td>\n",
       "      <td>495</td>\n",
       "      <td>https://www.amazon.com/Princess-Private-Novel-...</td>\n",
       "      <td></td>\n",
       "      <td></td>\n",
       "      <td></td>\n",
       "      <td></td>\n",
       "      <td></td>\n",
       "      <td>[{'isbn10': '1538714434', 'isbn13': '978153871...</td>\n",
       "      <td>[{'name': 'Amazon', 'url': 'https://www.amazon...</td>\n",
       "      <td>nyt://book/9f4ece17-041d-5219-88f2-0dca7f182926</td>\n",
       "      <td>2018-05-28</td>\n",
       "    </tr>\n",
       "    <tr>\n",
       "      <th>4</th>\n",
       "      <td>5</td>\n",
       "      <td>2</td>\n",
       "      <td>5</td>\n",
       "      <td>0</td>\n",
       "      <td>0</td>\n",
       "      <td>1538761378</td>\n",
       "      <td>9781538761373</td>\n",
       "      <td>Grand Central</td>\n",
       "      <td>Amos Decker, known as the Memory Man, puts his...</td>\n",
       "      <td>0.00</td>\n",
       "      <td>THE FALLEN</td>\n",
       "      <td>David Baldacci</td>\n",
       "      <td>by David Baldacci</td>\n",
       "      <td></td>\n",
       "      <td>https://storage.googleapis.com/du-prd/books/im...</td>\n",
       "      <td>328</td>\n",
       "      <td>495</td>\n",
       "      <td>https://www.amazon.com/Fallen-Memory-Man-David...</td>\n",
       "      <td></td>\n",
       "      <td></td>\n",
       "      <td></td>\n",
       "      <td></td>\n",
       "      <td></td>\n",
       "      <td>[{'isbn10': '1538761394', 'isbn13': '978153876...</td>\n",
       "      <td>[{'name': 'Amazon', 'url': 'https://www.amazon...</td>\n",
       "      <td>nyt://book/398d68ee-8969-55f4-9cd4-2fe9b678c536</td>\n",
       "      <td>2018-05-28</td>\n",
       "    </tr>\n",
       "    <tr>\n",
       "      <th>5</th>\n",
       "      <td>6</td>\n",
       "      <td>6</td>\n",
       "      <td>13</td>\n",
       "      <td>0</td>\n",
       "      <td>0</td>\n",
       "      <td>0399593500</td>\n",
       "      <td>9780399593505</td>\n",
       "      <td>Delacorte</td>\n",
       "      <td>Jack Reacher tracks down the owner of a pawned...</td>\n",
       "      <td>0.00</td>\n",
       "      <td>THE MIDNIGHT LINE</td>\n",
       "      <td>Lee Child</td>\n",
       "      <td>by Lee Child</td>\n",
       "      <td></td>\n",
       "      <td>https://storage.googleapis.com/du-prd/books/im...</td>\n",
       "      <td>320</td>\n",
       "      <td>495</td>\n",
       "      <td>https://www.amazon.com/Midnight-Line-Jack-Reac...</td>\n",
       "      <td></td>\n",
       "      <td>https://www.nytimes.com/2017/11/08/books/revie...</td>\n",
       "      <td></td>\n",
       "      <td></td>\n",
       "      <td></td>\n",
       "      <td>[{'isbn10': '0399593489', 'isbn13': '978039959...</td>\n",
       "      <td>[{'name': 'Amazon', 'url': 'https://www.amazon...</td>\n",
       "      <td>nyt://book/469c0746-f16c-5e50-9e26-9bcd2b2ed63d</td>\n",
       "      <td>2018-05-28</td>\n",
       "    </tr>\n",
       "    <tr>\n",
       "      <th>6</th>\n",
       "      <td>7</td>\n",
       "      <td>5</td>\n",
       "      <td>4</td>\n",
       "      <td>0</td>\n",
       "      <td>0</td>\n",
       "      <td>073521736X</td>\n",
       "      <td>9780735217362</td>\n",
       "      <td>Putnam</td>\n",
       "      <td>The 28th book in the Prey series. A federal ma...</td>\n",
       "      <td>0.00</td>\n",
       "      <td>TWISTED PREY</td>\n",
       "      <td>John Sandford</td>\n",
       "      <td>by John Sandford</td>\n",
       "      <td></td>\n",
       "      <td>https://storage.googleapis.com/du-prd/books/im...</td>\n",
       "      <td>328</td>\n",
       "      <td>495</td>\n",
       "      <td>https://www.amazon.com/Twisted-Prey-Novel-John...</td>\n",
       "      <td></td>\n",
       "      <td></td>\n",
       "      <td></td>\n",
       "      <td></td>\n",
       "      <td></td>\n",
       "      <td>[{'isbn10': '0735217351', 'isbn13': '978073521...</td>\n",
       "      <td>[{'name': 'Amazon', 'url': 'https://www.amazon...</td>\n",
       "      <td>nyt://book/67c1d531-ba20-5c69-b97a-fbaa5d39554b</td>\n",
       "      <td>2018-05-28</td>\n",
       "    </tr>\n",
       "    <tr>\n",
       "      <th>7</th>\n",
       "      <td>8</td>\n",
       "      <td>4</td>\n",
       "      <td>2</td>\n",
       "      <td>0</td>\n",
       "      <td>0</td>\n",
       "      <td>1250126061</td>\n",
       "      <td>9781250126061</td>\n",
       "      <td>St. Martin's</td>\n",
       "      <td>An eccentric millionaire enlists the attorney ...</td>\n",
       "      <td>0.00</td>\n",
       "      <td>THE HIGH TIDE CLUB</td>\n",
       "      <td>Mary Kay Andrews</td>\n",
       "      <td>by Mary Kay Andrews</td>\n",
       "      <td></td>\n",
       "      <td>https://storage.googleapis.com/du-prd/books/im...</td>\n",
       "      <td>326</td>\n",
       "      <td>495</td>\n",
       "      <td>https://www.amazon.com/High-Tide-Club-Novel-eb...</td>\n",
       "      <td></td>\n",
       "      <td></td>\n",
       "      <td></td>\n",
       "      <td></td>\n",
       "      <td></td>\n",
       "      <td>[{'isbn10': '1250126061', 'isbn13': '978125012...</td>\n",
       "      <td>[{'name': 'Amazon', 'url': 'https://www.amazon...</td>\n",
       "      <td>nyt://book/a4bef64b-12f5-5348-bb3f-f03313fe208e</td>\n",
       "      <td>2018-05-28</td>\n",
       "    </tr>\n",
       "    <tr>\n",
       "      <th>8</th>\n",
       "      <td>9</td>\n",
       "      <td>8</td>\n",
       "      <td>30</td>\n",
       "      <td>0</td>\n",
       "      <td>0</td>\n",
       "      <td>0735224307</td>\n",
       "      <td>9780735224308</td>\n",
       "      <td>Penguin Press</td>\n",
       "      <td>An artist upends a quiet town outside Cleveland.</td>\n",
       "      <td>0.00</td>\n",
       "      <td>LITTLE FIRES EVERYWHERE</td>\n",
       "      <td>Celeste Ng</td>\n",
       "      <td>by Celeste Ng</td>\n",
       "      <td></td>\n",
       "      <td>https://storage.googleapis.com/du-prd/books/im...</td>\n",
       "      <td>328</td>\n",
       "      <td>495</td>\n",
       "      <td>https://www.amazon.com/Little-Fires-Everywhere...</td>\n",
       "      <td></td>\n",
       "      <td>https://www.nytimes.com/2017/09/25/books/revie...</td>\n",
       "      <td></td>\n",
       "      <td></td>\n",
       "      <td></td>\n",
       "      <td>[{'isbn10': '0735224293', 'isbn13': '978073522...</td>\n",
       "      <td>[{'name': 'Amazon', 'url': 'https://www.amazon...</td>\n",
       "      <td>nyt://book/705863ae-d7be-56bf-a67d-8ec25142e182</td>\n",
       "      <td>2018-05-28</td>\n",
       "    </tr>\n",
       "    <tr>\n",
       "      <th>9</th>\n",
       "      <td>10</td>\n",
       "      <td>10</td>\n",
       "      <td>15</td>\n",
       "      <td>0</td>\n",
       "      <td>0</td>\n",
       "      <td>125016561X</td>\n",
       "      <td>9781250165619</td>\n",
       "      <td>St. Martin's</td>\n",
       "      <td>A former prisoner of war returns from Vietnam ...</td>\n",
       "      <td>0.00</td>\n",
       "      <td>THE GREAT ALONE</td>\n",
       "      <td>Kristin Hannah</td>\n",
       "      <td>by Kristin Hannah</td>\n",
       "      <td></td>\n",
       "      <td>https://storage.googleapis.com/du-prd/books/im...</td>\n",
       "      <td>326</td>\n",
       "      <td>495</td>\n",
       "      <td>https://www.amazon.com/Great-Alone-Novel-Krist...</td>\n",
       "      <td></td>\n",
       "      <td></td>\n",
       "      <td></td>\n",
       "      <td></td>\n",
       "      <td></td>\n",
       "      <td>[{'isbn10': '0312577230', 'isbn13': '978031257...</td>\n",
       "      <td>[{'name': 'Amazon', 'url': 'https://www.amazon...</td>\n",
       "      <td>nyt://book/92bd289c-529f-5558-8c5e-d0247e1351da</td>\n",
       "      <td>2018-05-28</td>\n",
       "    </tr>\n",
       "    <tr>\n",
       "      <th>10</th>\n",
       "      <td>11</td>\n",
       "      <td>0</td>\n",
       "      <td>8</td>\n",
       "      <td>0</td>\n",
       "      <td>0</td>\n",
       "      <td>125013093X</td>\n",
       "      <td>9781250130938</td>\n",
       "      <td>St. Martin's</td>\n",
       "      <td>The story of a love triangle is told from seve...</td>\n",
       "      <td>0.00</td>\n",
       "      <td>THE WIFE BETWEEN US</td>\n",
       "      <td>Greer Hendricks and Sarah Pekkanen</td>\n",
       "      <td>by Greer Hendricks and Sarah Pekkanen</td>\n",
       "      <td></td>\n",
       "      <td>https://storage.googleapis.com/du-prd/books/im...</td>\n",
       "      <td>326</td>\n",
       "      <td>495</td>\n",
       "      <td>https://www.amazon.com/Wife-Between-Us-Novel/d...</td>\n",
       "      <td></td>\n",
       "      <td></td>\n",
       "      <td></td>\n",
       "      <td></td>\n",
       "      <td></td>\n",
       "      <td>[{'isbn10': '1250130921', 'isbn13': '978125013...</td>\n",
       "      <td>[{'name': 'Amazon', 'url': 'https://www.amazon...</td>\n",
       "      <td>nyt://book/412f8d0a-dcb9-54d9-a381-ebd4d304dcb0</td>\n",
       "      <td>2018-05-28</td>\n",
       "    </tr>\n",
       "    <tr>\n",
       "      <th>11</th>\n",
       "      <td>12</td>\n",
       "      <td>7</td>\n",
       "      <td>13</td>\n",
       "      <td>0</td>\n",
       "      <td>0</td>\n",
       "      <td>0735211221</td>\n",
       "      <td>9780735211223</td>\n",
       "      <td>Riverhead</td>\n",
       "      <td>In this psychological thriller by the author o...</td>\n",
       "      <td>0.00</td>\n",
       "      <td>INTO THE WATER</td>\n",
       "      <td>Paula Hawkins</td>\n",
       "      <td>by Paula Hawkins</td>\n",
       "      <td></td>\n",
       "      <td>https://storage.googleapis.com/du-prd/books/im...</td>\n",
       "      <td>328</td>\n",
       "      <td>495</td>\n",
       "      <td>https://www.amazon.com/Into-Water-Novel-Paula-...</td>\n",
       "      <td></td>\n",
       "      <td></td>\n",
       "      <td></td>\n",
       "      <td></td>\n",
       "      <td></td>\n",
       "      <td>[{'isbn10': '0735211205', 'isbn13': '978073521...</td>\n",
       "      <td>[{'name': 'Amazon', 'url': 'https://www.amazon...</td>\n",
       "      <td>nyt://book/2d0f232c-cb7c-5837-a9d6-efe366eeb444</td>\n",
       "      <td>2018-05-28</td>\n",
       "    </tr>\n",
       "    <tr>\n",
       "      <th>12</th>\n",
       "      <td>13</td>\n",
       "      <td>11</td>\n",
       "      <td>34</td>\n",
       "      <td>0</td>\n",
       "      <td>0</td>\n",
       "      <td>0425284697</td>\n",
       "      <td>9780425284698</td>\n",
       "      <td>Ballantine</td>\n",
       "      <td>A South Carolina lawyer learns about the quest...</td>\n",
       "      <td>0.00</td>\n",
       "      <td>BEFORE WE WERE YOURS</td>\n",
       "      <td>Lisa Wingate</td>\n",
       "      <td>by Lisa Wingate</td>\n",
       "      <td></td>\n",
       "      <td>https://storage.googleapis.com/du-prd/books/im...</td>\n",
       "      <td>330</td>\n",
       "      <td>495</td>\n",
       "      <td>https://www.amazon.com/Before-We-Were-Yours-No...</td>\n",
       "      <td></td>\n",
       "      <td></td>\n",
       "      <td></td>\n",
       "      <td></td>\n",
       "      <td></td>\n",
       "      <td>[{'isbn10': '0425284689', 'isbn13': '978042528...</td>\n",
       "      <td>[{'name': 'Amazon', 'url': 'https://www.amazon...</td>\n",
       "      <td>nyt://book/1a6fb174-dd0c-564e-83b7-d00ec45d52cd</td>\n",
       "      <td>2018-05-28</td>\n",
       "    </tr>\n",
       "    <tr>\n",
       "      <th>13</th>\n",
       "      <td>14</td>\n",
       "      <td>0</td>\n",
       "      <td>27</td>\n",
       "      <td>0</td>\n",
       "      <td>0</td>\n",
       "      <td>038549081X</td>\n",
       "      <td>9780385490818</td>\n",
       "      <td>Houghton Mifflin Harcourt</td>\n",
       "      <td>Men and women in a dystopian future. The basis...</td>\n",
       "      <td>0.00</td>\n",
       "      <td>THE HANDMAID'S TALE</td>\n",
       "      <td>Margaret Atwood</td>\n",
       "      <td>by Margaret Atwood</td>\n",
       "      <td></td>\n",
       "      <td>https://storage.googleapis.com/du-prd/books/im...</td>\n",
       "      <td>330</td>\n",
       "      <td>485</td>\n",
       "      <td>https://www.amazon.com/Handmaids-Tale-Margaret...</td>\n",
       "      <td></td>\n",
       "      <td></td>\n",
       "      <td></td>\n",
       "      <td>https://www.nytimes.com/1986/02/09/books/no-he...</td>\n",
       "      <td></td>\n",
       "      <td>[{'isbn10': '038549081X', 'isbn13': '978038549...</td>\n",
       "      <td>[{'name': 'Amazon', 'url': 'https://www.amazon...</td>\n",
       "      <td>nyt://book/0868766f-b674-50f9-a665-b1c5f0f17d13</td>\n",
       "      <td>2018-05-28</td>\n",
       "    </tr>\n",
       "    <tr>\n",
       "      <th>14</th>\n",
       "      <td>15</td>\n",
       "      <td>15</td>\n",
       "      <td>2</td>\n",
       "      <td>0</td>\n",
       "      <td>0</td>\n",
       "      <td>0525505318</td>\n",
       "      <td>9780525505310</td>\n",
       "      <td>Penguin</td>\n",
       "      <td>A couple’s secrets emerge after their baby dis...</td>\n",
       "      <td>0.00</td>\n",
       "      <td>THE COUPLE NEXT DOOR</td>\n",
       "      <td>Shari Lapena</td>\n",
       "      <td>by Shari Lapena</td>\n",
       "      <td></td>\n",
       "      <td>https://storage.googleapis.com/du-prd/books/im...</td>\n",
       "      <td>328</td>\n",
       "      <td>495</td>\n",
       "      <td>http://www.amazon.com/Couple-Next-Door-Novel/d...</td>\n",
       "      <td></td>\n",
       "      <td></td>\n",
       "      <td></td>\n",
       "      <td></td>\n",
       "      <td></td>\n",
       "      <td>[{'isbn10': '0735221081', 'isbn13': '978073522...</td>\n",
       "      <td>[{'name': 'Amazon', 'url': 'http://www.amazon....</td>\n",
       "      <td>nyt://book/d8986982-6ff0-5bb3-8837-2157887fd9a9</td>\n",
       "      <td>2018-05-28</td>\n",
       "    </tr>\n",
       "  </tbody>\n",
       "</table>\n",
       "</div>"
      ],
      "text/plain": [
       "   rank  rank_last_week  weeks_on_list  asterisk  dagger primary_isbn10  \\\n",
       "10   11               7              5         0       0     073521736X   \n",
       "11   12              15              3         0       0     0525505318   \n",
       "12   13              10             16         0       0     125016561X   \n",
       "13   14               3              2         0       0     0062390821   \n",
       "14   15               8              3         0       0     1250126096   \n",
       "0     1               0              1         0       0     1101884045   \n",
       "1     2               1              3         0       0     0316274046   \n",
       "2     3               0              1         0       0     006239083X   \n",
       "3     4               0              1         0       0     1538714450   \n",
       "4     5               2              5         0       0     1538761378   \n",
       "5     6               6             13         0       0     0399593500   \n",
       "6     7               5              4         0       0     073521736X   \n",
       "7     8               4              2         0       0     1250126061   \n",
       "8     9               8             30         0       0     0735224307   \n",
       "9    10              10             15         0       0     125016561X   \n",
       "10   11               0              8         0       0     125013093X   \n",
       "11   12               7             13         0       0     0735211221   \n",
       "12   13              11             34         0       0     0425284697   \n",
       "13   14               0             27         0       0     038549081X   \n",
       "14   15              15              2         0       0     0525505318   \n",
       "\n",
       "   primary_isbn13                  publisher  \\\n",
       "10  9780735217362                     Putnam   \n",
       "11  9780525505310                    Penguin   \n",
       "12  9781250165619               St. Martin's   \n",
       "13  9780062390820                     Morrow   \n",
       "14  9781250126092               St. Martin's   \n",
       "0   9781101884041                  Delacorte   \n",
       "1   9780316274043              Little, Brown   \n",
       "2   9780062390837                     Morrow   \n",
       "3   9781538714454              Grand Central   \n",
       "4   9781538761373              Grand Central   \n",
       "5   9780399593505                  Delacorte   \n",
       "6   9780735217362                     Putnam   \n",
       "7   9781250126061               St. Martin's   \n",
       "8   9780735224308              Penguin Press   \n",
       "9   9781250165619               St. Martin's   \n",
       "10  9781250130938               St. Martin's   \n",
       "11  9780735211223                  Riverhead   \n",
       "12  9780425284698                 Ballantine   \n",
       "13  9780385490818  Houghton Mifflin Harcourt   \n",
       "14  9780525505310                    Penguin   \n",
       "\n",
       "                                          description price  \\\n",
       "10  The 28th book in the Prey series. A federal ma...  0.00   \n",
       "11  A couple’s secrets emerge after their baby dis...  0.00   \n",
       "12  A former prisoner of war returns from Vietnam ...  0.00   \n",
       "13  Two families are brought together when the dau...  0.00   \n",
       "14  An eccentric millionaire enlists the attorney ...  0.00   \n",
       "0   A magazine columnist meets an array of Hollywo...  0.00   \n",
       "1   The latest installment in the Women’s Murder C...  0.00   \n",
       "2   Two families are brought together when the dau...  0.00   \n",
       "3   Princess Caroline calls on Jack Morgan when he...  0.00   \n",
       "4   Amos Decker, known as the Memory Man, puts his...  0.00   \n",
       "5   Jack Reacher tracks down the owner of a pawned...  0.00   \n",
       "6   The 28th book in the Prey series. A federal ma...  0.00   \n",
       "7   An eccentric millionaire enlists the attorney ...  0.00   \n",
       "8    An artist upends a quiet town outside Cleveland.  0.00   \n",
       "9   A former prisoner of war returns from Vietnam ...  0.00   \n",
       "10  The story of a love triangle is told from seve...  0.00   \n",
       "11  In this psychological thriller by the author o...  0.00   \n",
       "12  A South Carolina lawyer learns about the quest...  0.00   \n",
       "13  Men and women in a dystopian future. The basis...  0.00   \n",
       "14  A couple’s secrets emerge after their baby dis...  0.00   \n",
       "\n",
       "                      title                              author  \\\n",
       "10             TWISTED PREY                       John Sandford   \n",
       "11     THE COUPLE NEXT DOOR                        Shari Lapena   \n",
       "12          THE GREAT ALONE                      Kristin Hannah   \n",
       "13       BY INVITATION ONLY               Dorothea Benton Frank   \n",
       "14       THE HIGH TIDE CLUB                    Mary Kay Andrews   \n",
       "0                  THE CAST                      Danielle Steel   \n",
       "1          THE 17TH SUSPECT   James Patterson and Maxine Paetro   \n",
       "2        BY INVITATION ONLY               Dorothea Benton Frank   \n",
       "3                  PRINCESS      James Patterson and Rees Jones   \n",
       "4                THE FALLEN                      David Baldacci   \n",
       "5         THE MIDNIGHT LINE                           Lee Child   \n",
       "6              TWISTED PREY                       John Sandford   \n",
       "7        THE HIGH TIDE CLUB                    Mary Kay Andrews   \n",
       "8   LITTLE FIRES EVERYWHERE                          Celeste Ng   \n",
       "9           THE GREAT ALONE                      Kristin Hannah   \n",
       "10      THE WIFE BETWEEN US  Greer Hendricks and Sarah Pekkanen   \n",
       "11           INTO THE WATER                       Paula Hawkins   \n",
       "12     BEFORE WE WERE YOURS                        Lisa Wingate   \n",
       "13      THE HANDMAID'S TALE                     Margaret Atwood   \n",
       "14     THE COUPLE NEXT DOOR                        Shari Lapena   \n",
       "\n",
       "                              contributor contributor_note  \\\n",
       "10                       by John Sandford                    \n",
       "11                        by Shari Lapena                    \n",
       "12                      by Kristin Hannah                    \n",
       "13               by Dorothea Benton Frank                    \n",
       "14                    by Mary Kay Andrews                    \n",
       "0                       by Danielle Steel                    \n",
       "1    by James Patterson and Maxine Paetro                    \n",
       "2                by Dorothea Benton Frank                    \n",
       "3       by James Patterson and Rees Jones                    \n",
       "4                       by David Baldacci                    \n",
       "5                            by Lee Child                    \n",
       "6                        by John Sandford                    \n",
       "7                     by Mary Kay Andrews                    \n",
       "8                           by Celeste Ng                    \n",
       "9                       by Kristin Hannah                    \n",
       "10  by Greer Hendricks and Sarah Pekkanen                    \n",
       "11                       by Paula Hawkins                    \n",
       "12                        by Lisa Wingate                    \n",
       "13                     by Margaret Atwood                    \n",
       "14                        by Shari Lapena                    \n",
       "\n",
       "                                           book_image  book_image_width  \\\n",
       "10  https://storage.googleapis.com/du-prd/books/im...               328   \n",
       "11  https://storage.googleapis.com/du-prd/books/im...               328   \n",
       "12  https://storage.googleapis.com/du-prd/books/im...               326   \n",
       "13  https://storage.googleapis.com/du-prd/books/im...               330   \n",
       "14  https://storage.googleapis.com/du-prd/books/im...               326   \n",
       "0   https://storage.googleapis.com/du-prd/books/im...               326   \n",
       "1   https://storage.googleapis.com/du-prd/books/im...               320   \n",
       "2   https://storage.googleapis.com/du-prd/books/im...               330   \n",
       "3   https://storage.googleapis.com/du-prd/books/im...               276   \n",
       "4   https://storage.googleapis.com/du-prd/books/im...               328   \n",
       "5   https://storage.googleapis.com/du-prd/books/im...               320   \n",
       "6   https://storage.googleapis.com/du-prd/books/im...               328   \n",
       "7   https://storage.googleapis.com/du-prd/books/im...               326   \n",
       "8   https://storage.googleapis.com/du-prd/books/im...               328   \n",
       "9   https://storage.googleapis.com/du-prd/books/im...               326   \n",
       "10  https://storage.googleapis.com/du-prd/books/im...               326   \n",
       "11  https://storage.googleapis.com/du-prd/books/im...               328   \n",
       "12  https://storage.googleapis.com/du-prd/books/im...               330   \n",
       "13  https://storage.googleapis.com/du-prd/books/im...               330   \n",
       "14  https://storage.googleapis.com/du-prd/books/im...               328   \n",
       "\n",
       "    book_image_height                                 amazon_product_url  \\\n",
       "10                495  https://www.amazon.com/Twisted-Prey-Novel-John...   \n",
       "11                495  http://www.amazon.com/Couple-Next-Door-Novel/d...   \n",
       "12                495  https://www.amazon.com/Great-Alone-Novel-Krist...   \n",
       "13                495  https://www.amazon.com/Invitation-Only-Dorothe...   \n",
       "14                495  https://www.amazon.com/High-Tide-Club-Novel-eb...   \n",
       "0                 495  https://www.amazon.com/Cast-Novel-Danielle-Ste...   \n",
       "1                 495  https://www.amazon.com/17th-Suspect-Womens-Mur...   \n",
       "2                 495  https://www.amazon.com/Invitation-Only-Dorothe...   \n",
       "3                 495  https://www.amazon.com/Princess-Private-Novel-...   \n",
       "4                 495  https://www.amazon.com/Fallen-Memory-Man-David...   \n",
       "5                 495  https://www.amazon.com/Midnight-Line-Jack-Reac...   \n",
       "6                 495  https://www.amazon.com/Twisted-Prey-Novel-John...   \n",
       "7                 495  https://www.amazon.com/High-Tide-Club-Novel-eb...   \n",
       "8                 495  https://www.amazon.com/Little-Fires-Everywhere...   \n",
       "9                 495  https://www.amazon.com/Great-Alone-Novel-Krist...   \n",
       "10                495  https://www.amazon.com/Wife-Between-Us-Novel/d...   \n",
       "11                495  https://www.amazon.com/Into-Water-Novel-Paula-...   \n",
       "12                495  https://www.amazon.com/Before-We-Were-Yours-No...   \n",
       "13                485  https://www.amazon.com/Handmaids-Tale-Margaret...   \n",
       "14                495  http://www.amazon.com/Couple-Next-Door-Novel/d...   \n",
       "\n",
       "   age_group                                   book_review_link  \\\n",
       "10                                                                \n",
       "11                                                                \n",
       "12                                                                \n",
       "13                                                                \n",
       "14                                                                \n",
       "0                                                                 \n",
       "1                                                                 \n",
       "2                                                                 \n",
       "3                                                                 \n",
       "4                                                                 \n",
       "5             https://www.nytimes.com/2017/11/08/books/revie...   \n",
       "6                                                                 \n",
       "7                                                                 \n",
       "8             https://www.nytimes.com/2017/09/25/books/revie...   \n",
       "9                                                                 \n",
       "10                                                                \n",
       "11                                                                \n",
       "12                                                                \n",
       "13                                                                \n",
       "14                                                                \n",
       "\n",
       "   first_chapter_link                                 sunday_review_link  \\\n",
       "10                                                                         \n",
       "11                                                                         \n",
       "12                                                                         \n",
       "13                                                                         \n",
       "14                                                                         \n",
       "0                                                                          \n",
       "1                                                                          \n",
       "2                                                                          \n",
       "3                                                                          \n",
       "4                                                                          \n",
       "5                                                                          \n",
       "6                                                                          \n",
       "7                                                                          \n",
       "8                                                                          \n",
       "9                                                                          \n",
       "10                                                                         \n",
       "11                                                                         \n",
       "12                                                                         \n",
       "13                     https://www.nytimes.com/1986/02/09/books/no-he...   \n",
       "14                                                                         \n",
       "\n",
       "   article_chapter_link                                              isbns  \\\n",
       "10                       [{'isbn10': '0735217351', 'isbn13': '978073521...   \n",
       "11                       [{'isbn10': '0735221081', 'isbn13': '978073522...   \n",
       "12                       [{'isbn10': '0312577230', 'isbn13': '978031257...   \n",
       "13                       [{'isbn10': '0062390821', 'isbn13': '978006239...   \n",
       "14                       [{'isbn10': '1250126061', 'isbn13': '978125012...   \n",
       "0                        [{'isbn10': '1101884037', 'isbn13': '978110188...   \n",
       "1                        [{'isbn10': '0316274046', 'isbn13': '978031627...   \n",
       "2                        [{'isbn10': '0062390821', 'isbn13': '978006239...   \n",
       "3                        [{'isbn10': '1538714434', 'isbn13': '978153871...   \n",
       "4                        [{'isbn10': '1538761394', 'isbn13': '978153876...   \n",
       "5                        [{'isbn10': '0399593489', 'isbn13': '978039959...   \n",
       "6                        [{'isbn10': '0735217351', 'isbn13': '978073521...   \n",
       "7                        [{'isbn10': '1250126061', 'isbn13': '978125012...   \n",
       "8                        [{'isbn10': '0735224293', 'isbn13': '978073522...   \n",
       "9                        [{'isbn10': '0312577230', 'isbn13': '978031257...   \n",
       "10                       [{'isbn10': '1250130921', 'isbn13': '978125013...   \n",
       "11                       [{'isbn10': '0735211205', 'isbn13': '978073521...   \n",
       "12                       [{'isbn10': '0425284689', 'isbn13': '978042528...   \n",
       "13                       [{'isbn10': '038549081X', 'isbn13': '978038549...   \n",
       "14                       [{'isbn10': '0735221081', 'isbn13': '978073522...   \n",
       "\n",
       "                                            buy_links  \\\n",
       "10  [{'name': 'Amazon', 'url': 'https://www.amazon...   \n",
       "11  [{'name': 'Amazon', 'url': 'http://www.amazon....   \n",
       "12  [{'name': 'Amazon', 'url': 'https://www.amazon...   \n",
       "13  [{'name': 'Amazon', 'url': 'https://www.amazon...   \n",
       "14  [{'name': 'Amazon', 'url': 'https://www.amazon...   \n",
       "0   [{'name': 'Amazon', 'url': 'https://www.amazon...   \n",
       "1   [{'name': 'Amazon', 'url': 'https://www.amazon...   \n",
       "2   [{'name': 'Amazon', 'url': 'https://www.amazon...   \n",
       "3   [{'name': 'Amazon', 'url': 'https://www.amazon...   \n",
       "4   [{'name': 'Amazon', 'url': 'https://www.amazon...   \n",
       "5   [{'name': 'Amazon', 'url': 'https://www.amazon...   \n",
       "6   [{'name': 'Amazon', 'url': 'https://www.amazon...   \n",
       "7   [{'name': 'Amazon', 'url': 'https://www.amazon...   \n",
       "8   [{'name': 'Amazon', 'url': 'https://www.amazon...   \n",
       "9   [{'name': 'Amazon', 'url': 'https://www.amazon...   \n",
       "10  [{'name': 'Amazon', 'url': 'https://www.amazon...   \n",
       "11  [{'name': 'Amazon', 'url': 'https://www.amazon...   \n",
       "12  [{'name': 'Amazon', 'url': 'https://www.amazon...   \n",
       "13  [{'name': 'Amazon', 'url': 'https://www.amazon...   \n",
       "14  [{'name': 'Amazon', 'url': 'http://www.amazon....   \n",
       "\n",
       "                                           book_uri        week  \n",
       "10  nyt://book/67c1d531-ba20-5c69-b97a-fbaa5d39554b  2018-06-04  \n",
       "11  nyt://book/d8986982-6ff0-5bb3-8837-2157887fd9a9  2018-06-04  \n",
       "12  nyt://book/92bd289c-529f-5558-8c5e-d0247e1351da  2018-06-04  \n",
       "13  nyt://book/bf535c81-82ce-5674-8793-1fe5870f1f05  2018-06-04  \n",
       "14  nyt://book/25d190d1-c796-5f10-a3b9-75fc47340868  2018-06-04  \n",
       "0   nyt://book/a8a0fa07-896a-5b5a-a572-f1e72e1b88f1  2018-05-28  \n",
       "1   nyt://book/7ae807ae-5910-5fe4-a92a-d634dbac645b  2018-05-28  \n",
       "2   nyt://book/ff8d046e-b560-580f-8f88-0c7bdd18fb59  2018-05-28  \n",
       "3   nyt://book/9f4ece17-041d-5219-88f2-0dca7f182926  2018-05-28  \n",
       "4   nyt://book/398d68ee-8969-55f4-9cd4-2fe9b678c536  2018-05-28  \n",
       "5   nyt://book/469c0746-f16c-5e50-9e26-9bcd2b2ed63d  2018-05-28  \n",
       "6   nyt://book/67c1d531-ba20-5c69-b97a-fbaa5d39554b  2018-05-28  \n",
       "7   nyt://book/a4bef64b-12f5-5348-bb3f-f03313fe208e  2018-05-28  \n",
       "8   nyt://book/705863ae-d7be-56bf-a67d-8ec25142e182  2018-05-28  \n",
       "9   nyt://book/92bd289c-529f-5558-8c5e-d0247e1351da  2018-05-28  \n",
       "10  nyt://book/412f8d0a-dcb9-54d9-a381-ebd4d304dcb0  2018-05-28  \n",
       "11  nyt://book/2d0f232c-cb7c-5837-a9d6-efe366eeb444  2018-05-28  \n",
       "12  nyt://book/1a6fb174-dd0c-564e-83b7-d00ec45d52cd  2018-05-28  \n",
       "13  nyt://book/0868766f-b674-50f9-a665-b1c5f0f17d13  2018-05-28  \n",
       "14  nyt://book/d8986982-6ff0-5bb3-8837-2157887fd9a9  2018-05-28  "
      ]
     },
     "execution_count": 56,
     "metadata": {},
     "output_type": "execute_result"
    }
   ],
   "source": [
    "#add a week column\n",
    "top_15_combined_bestsellers['week'] = repeated_weeks\n",
    "\n",
    "#and check to make sure it worked correctly\n",
    "top_15_combined_bestsellers.tail(20)"
   ]
  },
  {
   "cell_type": "code",
   "execution_count": 57,
   "metadata": {},
   "outputs": [
    {
     "data": {
      "text/plain": [
       "3900"
      ]
     },
     "execution_count": 57,
     "metadata": {},
     "output_type": "execute_result"
    }
   ],
   "source": [
    "#and a column indicating which list these come from\n",
    "k2 = 3900\n",
    "weekly_fiction_list = ['Combined Print & E-Book Fiction']\n",
    "nyt_list_weekly_fiction = []\n",
    "\n",
    "for element in weekly_fiction_list:\n",
    "    for i in range(k2):\n",
    "        nyt_list_weekly_fiction.append(element)\n",
    "\n",
    "len(nyt_list_weekly_fiction)"
   ]
  },
  {
   "cell_type": "code",
   "execution_count": 58,
   "metadata": {},
   "outputs": [
    {
     "data": {
      "text/html": [
       "<div>\n",
       "<style scoped>\n",
       "    .dataframe tbody tr th:only-of-type {\n",
       "        vertical-align: middle;\n",
       "    }\n",
       "\n",
       "    .dataframe tbody tr th {\n",
       "        vertical-align: top;\n",
       "    }\n",
       "\n",
       "    .dataframe thead th {\n",
       "        text-align: right;\n",
       "    }\n",
       "</style>\n",
       "<table border=\"1\" class=\"dataframe\">\n",
       "  <thead>\n",
       "    <tr style=\"text-align: right;\">\n",
       "      <th></th>\n",
       "      <th>rank</th>\n",
       "      <th>rank_last_week</th>\n",
       "      <th>weeks_on_list</th>\n",
       "      <th>asterisk</th>\n",
       "      <th>dagger</th>\n",
       "      <th>primary_isbn10</th>\n",
       "      <th>primary_isbn13</th>\n",
       "      <th>publisher</th>\n",
       "      <th>description</th>\n",
       "      <th>price</th>\n",
       "      <th>title</th>\n",
       "      <th>author</th>\n",
       "      <th>contributor</th>\n",
       "      <th>contributor_note</th>\n",
       "      <th>book_image</th>\n",
       "      <th>book_image_width</th>\n",
       "      <th>book_image_height</th>\n",
       "      <th>amazon_product_url</th>\n",
       "      <th>age_group</th>\n",
       "      <th>book_review_link</th>\n",
       "      <th>first_chapter_link</th>\n",
       "      <th>sunday_review_link</th>\n",
       "      <th>article_chapter_link</th>\n",
       "      <th>isbns</th>\n",
       "      <th>buy_links</th>\n",
       "      <th>book_uri</th>\n",
       "      <th>week</th>\n",
       "      <th>nyt_list</th>\n",
       "    </tr>\n",
       "  </thead>\n",
       "  <tbody>\n",
       "    <tr>\n",
       "      <th>10</th>\n",
       "      <td>11</td>\n",
       "      <td>7</td>\n",
       "      <td>5</td>\n",
       "      <td>0</td>\n",
       "      <td>0</td>\n",
       "      <td>073521736X</td>\n",
       "      <td>9780735217362</td>\n",
       "      <td>Putnam</td>\n",
       "      <td>The 28th book in the Prey series. A federal ma...</td>\n",
       "      <td>0.00</td>\n",
       "      <td>TWISTED PREY</td>\n",
       "      <td>John Sandford</td>\n",
       "      <td>by John Sandford</td>\n",
       "      <td></td>\n",
       "      <td>https://storage.googleapis.com/du-prd/books/im...</td>\n",
       "      <td>328</td>\n",
       "      <td>495</td>\n",
       "      <td>https://www.amazon.com/Twisted-Prey-Novel-John...</td>\n",
       "      <td></td>\n",
       "      <td></td>\n",
       "      <td></td>\n",
       "      <td></td>\n",
       "      <td></td>\n",
       "      <td>[{'isbn10': '0735217351', 'isbn13': '978073521...</td>\n",
       "      <td>[{'name': 'Amazon', 'url': 'https://www.amazon...</td>\n",
       "      <td>nyt://book/67c1d531-ba20-5c69-b97a-fbaa5d39554b</td>\n",
       "      <td>2018-06-04</td>\n",
       "      <td>Combined Print &amp; E-Book Fiction</td>\n",
       "    </tr>\n",
       "    <tr>\n",
       "      <th>11</th>\n",
       "      <td>12</td>\n",
       "      <td>15</td>\n",
       "      <td>3</td>\n",
       "      <td>0</td>\n",
       "      <td>0</td>\n",
       "      <td>0525505318</td>\n",
       "      <td>9780525505310</td>\n",
       "      <td>Penguin</td>\n",
       "      <td>A couple’s secrets emerge after their baby dis...</td>\n",
       "      <td>0.00</td>\n",
       "      <td>THE COUPLE NEXT DOOR</td>\n",
       "      <td>Shari Lapena</td>\n",
       "      <td>by Shari Lapena</td>\n",
       "      <td></td>\n",
       "      <td>https://storage.googleapis.com/du-prd/books/im...</td>\n",
       "      <td>328</td>\n",
       "      <td>495</td>\n",
       "      <td>http://www.amazon.com/Couple-Next-Door-Novel/d...</td>\n",
       "      <td></td>\n",
       "      <td></td>\n",
       "      <td></td>\n",
       "      <td></td>\n",
       "      <td></td>\n",
       "      <td>[{'isbn10': '0735221081', 'isbn13': '978073522...</td>\n",
       "      <td>[{'name': 'Amazon', 'url': 'http://www.amazon....</td>\n",
       "      <td>nyt://book/d8986982-6ff0-5bb3-8837-2157887fd9a9</td>\n",
       "      <td>2018-06-04</td>\n",
       "      <td>Combined Print &amp; E-Book Fiction</td>\n",
       "    </tr>\n",
       "    <tr>\n",
       "      <th>12</th>\n",
       "      <td>13</td>\n",
       "      <td>10</td>\n",
       "      <td>16</td>\n",
       "      <td>0</td>\n",
       "      <td>0</td>\n",
       "      <td>125016561X</td>\n",
       "      <td>9781250165619</td>\n",
       "      <td>St. Martin's</td>\n",
       "      <td>A former prisoner of war returns from Vietnam ...</td>\n",
       "      <td>0.00</td>\n",
       "      <td>THE GREAT ALONE</td>\n",
       "      <td>Kristin Hannah</td>\n",
       "      <td>by Kristin Hannah</td>\n",
       "      <td></td>\n",
       "      <td>https://storage.googleapis.com/du-prd/books/im...</td>\n",
       "      <td>326</td>\n",
       "      <td>495</td>\n",
       "      <td>https://www.amazon.com/Great-Alone-Novel-Krist...</td>\n",
       "      <td></td>\n",
       "      <td></td>\n",
       "      <td></td>\n",
       "      <td></td>\n",
       "      <td></td>\n",
       "      <td>[{'isbn10': '0312577230', 'isbn13': '978031257...</td>\n",
       "      <td>[{'name': 'Amazon', 'url': 'https://www.amazon...</td>\n",
       "      <td>nyt://book/92bd289c-529f-5558-8c5e-d0247e1351da</td>\n",
       "      <td>2018-06-04</td>\n",
       "      <td>Combined Print &amp; E-Book Fiction</td>\n",
       "    </tr>\n",
       "    <tr>\n",
       "      <th>13</th>\n",
       "      <td>14</td>\n",
       "      <td>3</td>\n",
       "      <td>2</td>\n",
       "      <td>0</td>\n",
       "      <td>0</td>\n",
       "      <td>0062390821</td>\n",
       "      <td>9780062390820</td>\n",
       "      <td>Morrow</td>\n",
       "      <td>Two families are brought together when the dau...</td>\n",
       "      <td>0.00</td>\n",
       "      <td>BY INVITATION ONLY</td>\n",
       "      <td>Dorothea Benton Frank</td>\n",
       "      <td>by Dorothea Benton Frank</td>\n",
       "      <td></td>\n",
       "      <td>https://storage.googleapis.com/du-prd/books/im...</td>\n",
       "      <td>330</td>\n",
       "      <td>495</td>\n",
       "      <td>https://www.amazon.com/Invitation-Only-Dorothe...</td>\n",
       "      <td></td>\n",
       "      <td></td>\n",
       "      <td></td>\n",
       "      <td></td>\n",
       "      <td></td>\n",
       "      <td>[{'isbn10': '0062390821', 'isbn13': '978006239...</td>\n",
       "      <td>[{'name': 'Amazon', 'url': 'https://www.amazon...</td>\n",
       "      <td>nyt://book/bf535c81-82ce-5674-8793-1fe5870f1f05</td>\n",
       "      <td>2018-06-04</td>\n",
       "      <td>Combined Print &amp; E-Book Fiction</td>\n",
       "    </tr>\n",
       "    <tr>\n",
       "      <th>14</th>\n",
       "      <td>15</td>\n",
       "      <td>8</td>\n",
       "      <td>3</td>\n",
       "      <td>0</td>\n",
       "      <td>0</td>\n",
       "      <td>1250126096</td>\n",
       "      <td>9781250126092</td>\n",
       "      <td>St. Martin's</td>\n",
       "      <td>An eccentric millionaire enlists the attorney ...</td>\n",
       "      <td>0.00</td>\n",
       "      <td>THE HIGH TIDE CLUB</td>\n",
       "      <td>Mary Kay Andrews</td>\n",
       "      <td>by Mary Kay Andrews</td>\n",
       "      <td></td>\n",
       "      <td>https://storage.googleapis.com/du-prd/books/im...</td>\n",
       "      <td>326</td>\n",
       "      <td>495</td>\n",
       "      <td>https://www.amazon.com/High-Tide-Club-Novel-eb...</td>\n",
       "      <td></td>\n",
       "      <td></td>\n",
       "      <td></td>\n",
       "      <td></td>\n",
       "      <td></td>\n",
       "      <td>[{'isbn10': '1250126061', 'isbn13': '978125012...</td>\n",
       "      <td>[{'name': 'Amazon', 'url': 'https://www.amazon...</td>\n",
       "      <td>nyt://book/25d190d1-c796-5f10-a3b9-75fc47340868</td>\n",
       "      <td>2018-06-04</td>\n",
       "      <td>Combined Print &amp; E-Book Fiction</td>\n",
       "    </tr>\n",
       "    <tr>\n",
       "      <th>0</th>\n",
       "      <td>1</td>\n",
       "      <td>0</td>\n",
       "      <td>1</td>\n",
       "      <td>0</td>\n",
       "      <td>0</td>\n",
       "      <td>1101884045</td>\n",
       "      <td>9781101884041</td>\n",
       "      <td>Delacorte</td>\n",
       "      <td>A magazine columnist meets an array of Hollywo...</td>\n",
       "      <td>0.00</td>\n",
       "      <td>THE CAST</td>\n",
       "      <td>Danielle Steel</td>\n",
       "      <td>by Danielle Steel</td>\n",
       "      <td></td>\n",
       "      <td>https://storage.googleapis.com/du-prd/books/im...</td>\n",
       "      <td>326</td>\n",
       "      <td>495</td>\n",
       "      <td>https://www.amazon.com/Cast-Novel-Danielle-Ste...</td>\n",
       "      <td></td>\n",
       "      <td></td>\n",
       "      <td></td>\n",
       "      <td></td>\n",
       "      <td></td>\n",
       "      <td>[{'isbn10': '1101884037', 'isbn13': '978110188...</td>\n",
       "      <td>[{'name': 'Amazon', 'url': 'https://www.amazon...</td>\n",
       "      <td>nyt://book/a8a0fa07-896a-5b5a-a572-f1e72e1b88f1</td>\n",
       "      <td>2018-05-28</td>\n",
       "      <td>Combined Print &amp; E-Book Fiction</td>\n",
       "    </tr>\n",
       "    <tr>\n",
       "      <th>1</th>\n",
       "      <td>2</td>\n",
       "      <td>1</td>\n",
       "      <td>3</td>\n",
       "      <td>0</td>\n",
       "      <td>0</td>\n",
       "      <td>0316274046</td>\n",
       "      <td>9780316274043</td>\n",
       "      <td>Little, Brown</td>\n",
       "      <td>The latest installment in the Women’s Murder C...</td>\n",
       "      <td>0.00</td>\n",
       "      <td>THE 17TH SUSPECT</td>\n",
       "      <td>James Patterson and Maxine Paetro</td>\n",
       "      <td>by James Patterson and Maxine Paetro</td>\n",
       "      <td></td>\n",
       "      <td>https://storage.googleapis.com/du-prd/books/im...</td>\n",
       "      <td>320</td>\n",
       "      <td>495</td>\n",
       "      <td>https://www.amazon.com/17th-Suspect-Womens-Mur...</td>\n",
       "      <td></td>\n",
       "      <td></td>\n",
       "      <td></td>\n",
       "      <td></td>\n",
       "      <td></td>\n",
       "      <td>[{'isbn10': '0316274046', 'isbn13': '978031627...</td>\n",
       "      <td>[{'name': 'Amazon', 'url': 'https://www.amazon...</td>\n",
       "      <td>nyt://book/7ae807ae-5910-5fe4-a92a-d634dbac645b</td>\n",
       "      <td>2018-05-28</td>\n",
       "      <td>Combined Print &amp; E-Book Fiction</td>\n",
       "    </tr>\n",
       "    <tr>\n",
       "      <th>2</th>\n",
       "      <td>3</td>\n",
       "      <td>0</td>\n",
       "      <td>1</td>\n",
       "      <td>0</td>\n",
       "      <td>0</td>\n",
       "      <td>006239083X</td>\n",
       "      <td>9780062390837</td>\n",
       "      <td>Morrow</td>\n",
       "      <td>Two families are brought together when the dau...</td>\n",
       "      <td>0.00</td>\n",
       "      <td>BY INVITATION ONLY</td>\n",
       "      <td>Dorothea Benton Frank</td>\n",
       "      <td>by Dorothea Benton Frank</td>\n",
       "      <td></td>\n",
       "      <td>https://storage.googleapis.com/du-prd/books/im...</td>\n",
       "      <td>330</td>\n",
       "      <td>495</td>\n",
       "      <td>https://www.amazon.com/Invitation-Only-Dorothe...</td>\n",
       "      <td></td>\n",
       "      <td></td>\n",
       "      <td></td>\n",
       "      <td></td>\n",
       "      <td></td>\n",
       "      <td>[{'isbn10': '0062390821', 'isbn13': '978006239...</td>\n",
       "      <td>[{'name': 'Amazon', 'url': 'https://www.amazon...</td>\n",
       "      <td>nyt://book/ff8d046e-b560-580f-8f88-0c7bdd18fb59</td>\n",
       "      <td>2018-05-28</td>\n",
       "      <td>Combined Print &amp; E-Book Fiction</td>\n",
       "    </tr>\n",
       "    <tr>\n",
       "      <th>3</th>\n",
       "      <td>4</td>\n",
       "      <td>0</td>\n",
       "      <td>1</td>\n",
       "      <td>0</td>\n",
       "      <td>0</td>\n",
       "      <td>1538714450</td>\n",
       "      <td>9781538714454</td>\n",
       "      <td>Grand Central</td>\n",
       "      <td>Princess Caroline calls on Jack Morgan when he...</td>\n",
       "      <td>0.00</td>\n",
       "      <td>PRINCESS</td>\n",
       "      <td>James Patterson and Rees Jones</td>\n",
       "      <td>by James Patterson and Rees Jones</td>\n",
       "      <td></td>\n",
       "      <td>https://storage.googleapis.com/du-prd/books/im...</td>\n",
       "      <td>276</td>\n",
       "      <td>495</td>\n",
       "      <td>https://www.amazon.com/Princess-Private-Novel-...</td>\n",
       "      <td></td>\n",
       "      <td></td>\n",
       "      <td></td>\n",
       "      <td></td>\n",
       "      <td></td>\n",
       "      <td>[{'isbn10': '1538714434', 'isbn13': '978153871...</td>\n",
       "      <td>[{'name': 'Amazon', 'url': 'https://www.amazon...</td>\n",
       "      <td>nyt://book/9f4ece17-041d-5219-88f2-0dca7f182926</td>\n",
       "      <td>2018-05-28</td>\n",
       "      <td>Combined Print &amp; E-Book Fiction</td>\n",
       "    </tr>\n",
       "    <tr>\n",
       "      <th>4</th>\n",
       "      <td>5</td>\n",
       "      <td>2</td>\n",
       "      <td>5</td>\n",
       "      <td>0</td>\n",
       "      <td>0</td>\n",
       "      <td>1538761378</td>\n",
       "      <td>9781538761373</td>\n",
       "      <td>Grand Central</td>\n",
       "      <td>Amos Decker, known as the Memory Man, puts his...</td>\n",
       "      <td>0.00</td>\n",
       "      <td>THE FALLEN</td>\n",
       "      <td>David Baldacci</td>\n",
       "      <td>by David Baldacci</td>\n",
       "      <td></td>\n",
       "      <td>https://storage.googleapis.com/du-prd/books/im...</td>\n",
       "      <td>328</td>\n",
       "      <td>495</td>\n",
       "      <td>https://www.amazon.com/Fallen-Memory-Man-David...</td>\n",
       "      <td></td>\n",
       "      <td></td>\n",
       "      <td></td>\n",
       "      <td></td>\n",
       "      <td></td>\n",
       "      <td>[{'isbn10': '1538761394', 'isbn13': '978153876...</td>\n",
       "      <td>[{'name': 'Amazon', 'url': 'https://www.amazon...</td>\n",
       "      <td>nyt://book/398d68ee-8969-55f4-9cd4-2fe9b678c536</td>\n",
       "      <td>2018-05-28</td>\n",
       "      <td>Combined Print &amp; E-Book Fiction</td>\n",
       "    </tr>\n",
       "    <tr>\n",
       "      <th>5</th>\n",
       "      <td>6</td>\n",
       "      <td>6</td>\n",
       "      <td>13</td>\n",
       "      <td>0</td>\n",
       "      <td>0</td>\n",
       "      <td>0399593500</td>\n",
       "      <td>9780399593505</td>\n",
       "      <td>Delacorte</td>\n",
       "      <td>Jack Reacher tracks down the owner of a pawned...</td>\n",
       "      <td>0.00</td>\n",
       "      <td>THE MIDNIGHT LINE</td>\n",
       "      <td>Lee Child</td>\n",
       "      <td>by Lee Child</td>\n",
       "      <td></td>\n",
       "      <td>https://storage.googleapis.com/du-prd/books/im...</td>\n",
       "      <td>320</td>\n",
       "      <td>495</td>\n",
       "      <td>https://www.amazon.com/Midnight-Line-Jack-Reac...</td>\n",
       "      <td></td>\n",
       "      <td>https://www.nytimes.com/2017/11/08/books/revie...</td>\n",
       "      <td></td>\n",
       "      <td></td>\n",
       "      <td></td>\n",
       "      <td>[{'isbn10': '0399593489', 'isbn13': '978039959...</td>\n",
       "      <td>[{'name': 'Amazon', 'url': 'https://www.amazon...</td>\n",
       "      <td>nyt://book/469c0746-f16c-5e50-9e26-9bcd2b2ed63d</td>\n",
       "      <td>2018-05-28</td>\n",
       "      <td>Combined Print &amp; E-Book Fiction</td>\n",
       "    </tr>\n",
       "    <tr>\n",
       "      <th>6</th>\n",
       "      <td>7</td>\n",
       "      <td>5</td>\n",
       "      <td>4</td>\n",
       "      <td>0</td>\n",
       "      <td>0</td>\n",
       "      <td>073521736X</td>\n",
       "      <td>9780735217362</td>\n",
       "      <td>Putnam</td>\n",
       "      <td>The 28th book in the Prey series. A federal ma...</td>\n",
       "      <td>0.00</td>\n",
       "      <td>TWISTED PREY</td>\n",
       "      <td>John Sandford</td>\n",
       "      <td>by John Sandford</td>\n",
       "      <td></td>\n",
       "      <td>https://storage.googleapis.com/du-prd/books/im...</td>\n",
       "      <td>328</td>\n",
       "      <td>495</td>\n",
       "      <td>https://www.amazon.com/Twisted-Prey-Novel-John...</td>\n",
       "      <td></td>\n",
       "      <td></td>\n",
       "      <td></td>\n",
       "      <td></td>\n",
       "      <td></td>\n",
       "      <td>[{'isbn10': '0735217351', 'isbn13': '978073521...</td>\n",
       "      <td>[{'name': 'Amazon', 'url': 'https://www.amazon...</td>\n",
       "      <td>nyt://book/67c1d531-ba20-5c69-b97a-fbaa5d39554b</td>\n",
       "      <td>2018-05-28</td>\n",
       "      <td>Combined Print &amp; E-Book Fiction</td>\n",
       "    </tr>\n",
       "    <tr>\n",
       "      <th>7</th>\n",
       "      <td>8</td>\n",
       "      <td>4</td>\n",
       "      <td>2</td>\n",
       "      <td>0</td>\n",
       "      <td>0</td>\n",
       "      <td>1250126061</td>\n",
       "      <td>9781250126061</td>\n",
       "      <td>St. Martin's</td>\n",
       "      <td>An eccentric millionaire enlists the attorney ...</td>\n",
       "      <td>0.00</td>\n",
       "      <td>THE HIGH TIDE CLUB</td>\n",
       "      <td>Mary Kay Andrews</td>\n",
       "      <td>by Mary Kay Andrews</td>\n",
       "      <td></td>\n",
       "      <td>https://storage.googleapis.com/du-prd/books/im...</td>\n",
       "      <td>326</td>\n",
       "      <td>495</td>\n",
       "      <td>https://www.amazon.com/High-Tide-Club-Novel-eb...</td>\n",
       "      <td></td>\n",
       "      <td></td>\n",
       "      <td></td>\n",
       "      <td></td>\n",
       "      <td></td>\n",
       "      <td>[{'isbn10': '1250126061', 'isbn13': '978125012...</td>\n",
       "      <td>[{'name': 'Amazon', 'url': 'https://www.amazon...</td>\n",
       "      <td>nyt://book/a4bef64b-12f5-5348-bb3f-f03313fe208e</td>\n",
       "      <td>2018-05-28</td>\n",
       "      <td>Combined Print &amp; E-Book Fiction</td>\n",
       "    </tr>\n",
       "    <tr>\n",
       "      <th>8</th>\n",
       "      <td>9</td>\n",
       "      <td>8</td>\n",
       "      <td>30</td>\n",
       "      <td>0</td>\n",
       "      <td>0</td>\n",
       "      <td>0735224307</td>\n",
       "      <td>9780735224308</td>\n",
       "      <td>Penguin Press</td>\n",
       "      <td>An artist upends a quiet town outside Cleveland.</td>\n",
       "      <td>0.00</td>\n",
       "      <td>LITTLE FIRES EVERYWHERE</td>\n",
       "      <td>Celeste Ng</td>\n",
       "      <td>by Celeste Ng</td>\n",
       "      <td></td>\n",
       "      <td>https://storage.googleapis.com/du-prd/books/im...</td>\n",
       "      <td>328</td>\n",
       "      <td>495</td>\n",
       "      <td>https://www.amazon.com/Little-Fires-Everywhere...</td>\n",
       "      <td></td>\n",
       "      <td>https://www.nytimes.com/2017/09/25/books/revie...</td>\n",
       "      <td></td>\n",
       "      <td></td>\n",
       "      <td></td>\n",
       "      <td>[{'isbn10': '0735224293', 'isbn13': '978073522...</td>\n",
       "      <td>[{'name': 'Amazon', 'url': 'https://www.amazon...</td>\n",
       "      <td>nyt://book/705863ae-d7be-56bf-a67d-8ec25142e182</td>\n",
       "      <td>2018-05-28</td>\n",
       "      <td>Combined Print &amp; E-Book Fiction</td>\n",
       "    </tr>\n",
       "    <tr>\n",
       "      <th>9</th>\n",
       "      <td>10</td>\n",
       "      <td>10</td>\n",
       "      <td>15</td>\n",
       "      <td>0</td>\n",
       "      <td>0</td>\n",
       "      <td>125016561X</td>\n",
       "      <td>9781250165619</td>\n",
       "      <td>St. Martin's</td>\n",
       "      <td>A former prisoner of war returns from Vietnam ...</td>\n",
       "      <td>0.00</td>\n",
       "      <td>THE GREAT ALONE</td>\n",
       "      <td>Kristin Hannah</td>\n",
       "      <td>by Kristin Hannah</td>\n",
       "      <td></td>\n",
       "      <td>https://storage.googleapis.com/du-prd/books/im...</td>\n",
       "      <td>326</td>\n",
       "      <td>495</td>\n",
       "      <td>https://www.amazon.com/Great-Alone-Novel-Krist...</td>\n",
       "      <td></td>\n",
       "      <td></td>\n",
       "      <td></td>\n",
       "      <td></td>\n",
       "      <td></td>\n",
       "      <td>[{'isbn10': '0312577230', 'isbn13': '978031257...</td>\n",
       "      <td>[{'name': 'Amazon', 'url': 'https://www.amazon...</td>\n",
       "      <td>nyt://book/92bd289c-529f-5558-8c5e-d0247e1351da</td>\n",
       "      <td>2018-05-28</td>\n",
       "      <td>Combined Print &amp; E-Book Fiction</td>\n",
       "    </tr>\n",
       "    <tr>\n",
       "      <th>10</th>\n",
       "      <td>11</td>\n",
       "      <td>0</td>\n",
       "      <td>8</td>\n",
       "      <td>0</td>\n",
       "      <td>0</td>\n",
       "      <td>125013093X</td>\n",
       "      <td>9781250130938</td>\n",
       "      <td>St. Martin's</td>\n",
       "      <td>The story of a love triangle is told from seve...</td>\n",
       "      <td>0.00</td>\n",
       "      <td>THE WIFE BETWEEN US</td>\n",
       "      <td>Greer Hendricks and Sarah Pekkanen</td>\n",
       "      <td>by Greer Hendricks and Sarah Pekkanen</td>\n",
       "      <td></td>\n",
       "      <td>https://storage.googleapis.com/du-prd/books/im...</td>\n",
       "      <td>326</td>\n",
       "      <td>495</td>\n",
       "      <td>https://www.amazon.com/Wife-Between-Us-Novel/d...</td>\n",
       "      <td></td>\n",
       "      <td></td>\n",
       "      <td></td>\n",
       "      <td></td>\n",
       "      <td></td>\n",
       "      <td>[{'isbn10': '1250130921', 'isbn13': '978125013...</td>\n",
       "      <td>[{'name': 'Amazon', 'url': 'https://www.amazon...</td>\n",
       "      <td>nyt://book/412f8d0a-dcb9-54d9-a381-ebd4d304dcb0</td>\n",
       "      <td>2018-05-28</td>\n",
       "      <td>Combined Print &amp; E-Book Fiction</td>\n",
       "    </tr>\n",
       "    <tr>\n",
       "      <th>11</th>\n",
       "      <td>12</td>\n",
       "      <td>7</td>\n",
       "      <td>13</td>\n",
       "      <td>0</td>\n",
       "      <td>0</td>\n",
       "      <td>0735211221</td>\n",
       "      <td>9780735211223</td>\n",
       "      <td>Riverhead</td>\n",
       "      <td>In this psychological thriller by the author o...</td>\n",
       "      <td>0.00</td>\n",
       "      <td>INTO THE WATER</td>\n",
       "      <td>Paula Hawkins</td>\n",
       "      <td>by Paula Hawkins</td>\n",
       "      <td></td>\n",
       "      <td>https://storage.googleapis.com/du-prd/books/im...</td>\n",
       "      <td>328</td>\n",
       "      <td>495</td>\n",
       "      <td>https://www.amazon.com/Into-Water-Novel-Paula-...</td>\n",
       "      <td></td>\n",
       "      <td></td>\n",
       "      <td></td>\n",
       "      <td></td>\n",
       "      <td></td>\n",
       "      <td>[{'isbn10': '0735211205', 'isbn13': '978073521...</td>\n",
       "      <td>[{'name': 'Amazon', 'url': 'https://www.amazon...</td>\n",
       "      <td>nyt://book/2d0f232c-cb7c-5837-a9d6-efe366eeb444</td>\n",
       "      <td>2018-05-28</td>\n",
       "      <td>Combined Print &amp; E-Book Fiction</td>\n",
       "    </tr>\n",
       "    <tr>\n",
       "      <th>12</th>\n",
       "      <td>13</td>\n",
       "      <td>11</td>\n",
       "      <td>34</td>\n",
       "      <td>0</td>\n",
       "      <td>0</td>\n",
       "      <td>0425284697</td>\n",
       "      <td>9780425284698</td>\n",
       "      <td>Ballantine</td>\n",
       "      <td>A South Carolina lawyer learns about the quest...</td>\n",
       "      <td>0.00</td>\n",
       "      <td>BEFORE WE WERE YOURS</td>\n",
       "      <td>Lisa Wingate</td>\n",
       "      <td>by Lisa Wingate</td>\n",
       "      <td></td>\n",
       "      <td>https://storage.googleapis.com/du-prd/books/im...</td>\n",
       "      <td>330</td>\n",
       "      <td>495</td>\n",
       "      <td>https://www.amazon.com/Before-We-Were-Yours-No...</td>\n",
       "      <td></td>\n",
       "      <td></td>\n",
       "      <td></td>\n",
       "      <td></td>\n",
       "      <td></td>\n",
       "      <td>[{'isbn10': '0425284689', 'isbn13': '978042528...</td>\n",
       "      <td>[{'name': 'Amazon', 'url': 'https://www.amazon...</td>\n",
       "      <td>nyt://book/1a6fb174-dd0c-564e-83b7-d00ec45d52cd</td>\n",
       "      <td>2018-05-28</td>\n",
       "      <td>Combined Print &amp; E-Book Fiction</td>\n",
       "    </tr>\n",
       "    <tr>\n",
       "      <th>13</th>\n",
       "      <td>14</td>\n",
       "      <td>0</td>\n",
       "      <td>27</td>\n",
       "      <td>0</td>\n",
       "      <td>0</td>\n",
       "      <td>038549081X</td>\n",
       "      <td>9780385490818</td>\n",
       "      <td>Houghton Mifflin Harcourt</td>\n",
       "      <td>Men and women in a dystopian future. The basis...</td>\n",
       "      <td>0.00</td>\n",
       "      <td>THE HANDMAID'S TALE</td>\n",
       "      <td>Margaret Atwood</td>\n",
       "      <td>by Margaret Atwood</td>\n",
       "      <td></td>\n",
       "      <td>https://storage.googleapis.com/du-prd/books/im...</td>\n",
       "      <td>330</td>\n",
       "      <td>485</td>\n",
       "      <td>https://www.amazon.com/Handmaids-Tale-Margaret...</td>\n",
       "      <td></td>\n",
       "      <td></td>\n",
       "      <td></td>\n",
       "      <td>https://www.nytimes.com/1986/02/09/books/no-he...</td>\n",
       "      <td></td>\n",
       "      <td>[{'isbn10': '038549081X', 'isbn13': '978038549...</td>\n",
       "      <td>[{'name': 'Amazon', 'url': 'https://www.amazon...</td>\n",
       "      <td>nyt://book/0868766f-b674-50f9-a665-b1c5f0f17d13</td>\n",
       "      <td>2018-05-28</td>\n",
       "      <td>Combined Print &amp; E-Book Fiction</td>\n",
       "    </tr>\n",
       "    <tr>\n",
       "      <th>14</th>\n",
       "      <td>15</td>\n",
       "      <td>15</td>\n",
       "      <td>2</td>\n",
       "      <td>0</td>\n",
       "      <td>0</td>\n",
       "      <td>0525505318</td>\n",
       "      <td>9780525505310</td>\n",
       "      <td>Penguin</td>\n",
       "      <td>A couple’s secrets emerge after their baby dis...</td>\n",
       "      <td>0.00</td>\n",
       "      <td>THE COUPLE NEXT DOOR</td>\n",
       "      <td>Shari Lapena</td>\n",
       "      <td>by Shari Lapena</td>\n",
       "      <td></td>\n",
       "      <td>https://storage.googleapis.com/du-prd/books/im...</td>\n",
       "      <td>328</td>\n",
       "      <td>495</td>\n",
       "      <td>http://www.amazon.com/Couple-Next-Door-Novel/d...</td>\n",
       "      <td></td>\n",
       "      <td></td>\n",
       "      <td></td>\n",
       "      <td></td>\n",
       "      <td></td>\n",
       "      <td>[{'isbn10': '0735221081', 'isbn13': '978073522...</td>\n",
       "      <td>[{'name': 'Amazon', 'url': 'http://www.amazon....</td>\n",
       "      <td>nyt://book/d8986982-6ff0-5bb3-8837-2157887fd9a9</td>\n",
       "      <td>2018-05-28</td>\n",
       "      <td>Combined Print &amp; E-Book Fiction</td>\n",
       "    </tr>\n",
       "  </tbody>\n",
       "</table>\n",
       "</div>"
      ],
      "text/plain": [
       "   rank  rank_last_week  weeks_on_list  asterisk  dagger primary_isbn10  \\\n",
       "10   11               7              5         0       0     073521736X   \n",
       "11   12              15              3         0       0     0525505318   \n",
       "12   13              10             16         0       0     125016561X   \n",
       "13   14               3              2         0       0     0062390821   \n",
       "14   15               8              3         0       0     1250126096   \n",
       "0     1               0              1         0       0     1101884045   \n",
       "1     2               1              3         0       0     0316274046   \n",
       "2     3               0              1         0       0     006239083X   \n",
       "3     4               0              1         0       0     1538714450   \n",
       "4     5               2              5         0       0     1538761378   \n",
       "5     6               6             13         0       0     0399593500   \n",
       "6     7               5              4         0       0     073521736X   \n",
       "7     8               4              2         0       0     1250126061   \n",
       "8     9               8             30         0       0     0735224307   \n",
       "9    10              10             15         0       0     125016561X   \n",
       "10   11               0              8         0       0     125013093X   \n",
       "11   12               7             13         0       0     0735211221   \n",
       "12   13              11             34         0       0     0425284697   \n",
       "13   14               0             27         0       0     038549081X   \n",
       "14   15              15              2         0       0     0525505318   \n",
       "\n",
       "   primary_isbn13                  publisher  \\\n",
       "10  9780735217362                     Putnam   \n",
       "11  9780525505310                    Penguin   \n",
       "12  9781250165619               St. Martin's   \n",
       "13  9780062390820                     Morrow   \n",
       "14  9781250126092               St. Martin's   \n",
       "0   9781101884041                  Delacorte   \n",
       "1   9780316274043              Little, Brown   \n",
       "2   9780062390837                     Morrow   \n",
       "3   9781538714454              Grand Central   \n",
       "4   9781538761373              Grand Central   \n",
       "5   9780399593505                  Delacorte   \n",
       "6   9780735217362                     Putnam   \n",
       "7   9781250126061               St. Martin's   \n",
       "8   9780735224308              Penguin Press   \n",
       "9   9781250165619               St. Martin's   \n",
       "10  9781250130938               St. Martin's   \n",
       "11  9780735211223                  Riverhead   \n",
       "12  9780425284698                 Ballantine   \n",
       "13  9780385490818  Houghton Mifflin Harcourt   \n",
       "14  9780525505310                    Penguin   \n",
       "\n",
       "                                          description price  \\\n",
       "10  The 28th book in the Prey series. A federal ma...  0.00   \n",
       "11  A couple’s secrets emerge after their baby dis...  0.00   \n",
       "12  A former prisoner of war returns from Vietnam ...  0.00   \n",
       "13  Two families are brought together when the dau...  0.00   \n",
       "14  An eccentric millionaire enlists the attorney ...  0.00   \n",
       "0   A magazine columnist meets an array of Hollywo...  0.00   \n",
       "1   The latest installment in the Women’s Murder C...  0.00   \n",
       "2   Two families are brought together when the dau...  0.00   \n",
       "3   Princess Caroline calls on Jack Morgan when he...  0.00   \n",
       "4   Amos Decker, known as the Memory Man, puts his...  0.00   \n",
       "5   Jack Reacher tracks down the owner of a pawned...  0.00   \n",
       "6   The 28th book in the Prey series. A federal ma...  0.00   \n",
       "7   An eccentric millionaire enlists the attorney ...  0.00   \n",
       "8    An artist upends a quiet town outside Cleveland.  0.00   \n",
       "9   A former prisoner of war returns from Vietnam ...  0.00   \n",
       "10  The story of a love triangle is told from seve...  0.00   \n",
       "11  In this psychological thriller by the author o...  0.00   \n",
       "12  A South Carolina lawyer learns about the quest...  0.00   \n",
       "13  Men and women in a dystopian future. The basis...  0.00   \n",
       "14  A couple’s secrets emerge after their baby dis...  0.00   \n",
       "\n",
       "                      title                              author  \\\n",
       "10             TWISTED PREY                       John Sandford   \n",
       "11     THE COUPLE NEXT DOOR                        Shari Lapena   \n",
       "12          THE GREAT ALONE                      Kristin Hannah   \n",
       "13       BY INVITATION ONLY               Dorothea Benton Frank   \n",
       "14       THE HIGH TIDE CLUB                    Mary Kay Andrews   \n",
       "0                  THE CAST                      Danielle Steel   \n",
       "1          THE 17TH SUSPECT   James Patterson and Maxine Paetro   \n",
       "2        BY INVITATION ONLY               Dorothea Benton Frank   \n",
       "3                  PRINCESS      James Patterson and Rees Jones   \n",
       "4                THE FALLEN                      David Baldacci   \n",
       "5         THE MIDNIGHT LINE                           Lee Child   \n",
       "6              TWISTED PREY                       John Sandford   \n",
       "7        THE HIGH TIDE CLUB                    Mary Kay Andrews   \n",
       "8   LITTLE FIRES EVERYWHERE                          Celeste Ng   \n",
       "9           THE GREAT ALONE                      Kristin Hannah   \n",
       "10      THE WIFE BETWEEN US  Greer Hendricks and Sarah Pekkanen   \n",
       "11           INTO THE WATER                       Paula Hawkins   \n",
       "12     BEFORE WE WERE YOURS                        Lisa Wingate   \n",
       "13      THE HANDMAID'S TALE                     Margaret Atwood   \n",
       "14     THE COUPLE NEXT DOOR                        Shari Lapena   \n",
       "\n",
       "                              contributor contributor_note  \\\n",
       "10                       by John Sandford                    \n",
       "11                        by Shari Lapena                    \n",
       "12                      by Kristin Hannah                    \n",
       "13               by Dorothea Benton Frank                    \n",
       "14                    by Mary Kay Andrews                    \n",
       "0                       by Danielle Steel                    \n",
       "1    by James Patterson and Maxine Paetro                    \n",
       "2                by Dorothea Benton Frank                    \n",
       "3       by James Patterson and Rees Jones                    \n",
       "4                       by David Baldacci                    \n",
       "5                            by Lee Child                    \n",
       "6                        by John Sandford                    \n",
       "7                     by Mary Kay Andrews                    \n",
       "8                           by Celeste Ng                    \n",
       "9                       by Kristin Hannah                    \n",
       "10  by Greer Hendricks and Sarah Pekkanen                    \n",
       "11                       by Paula Hawkins                    \n",
       "12                        by Lisa Wingate                    \n",
       "13                     by Margaret Atwood                    \n",
       "14                        by Shari Lapena                    \n",
       "\n",
       "                                           book_image  book_image_width  \\\n",
       "10  https://storage.googleapis.com/du-prd/books/im...               328   \n",
       "11  https://storage.googleapis.com/du-prd/books/im...               328   \n",
       "12  https://storage.googleapis.com/du-prd/books/im...               326   \n",
       "13  https://storage.googleapis.com/du-prd/books/im...               330   \n",
       "14  https://storage.googleapis.com/du-prd/books/im...               326   \n",
       "0   https://storage.googleapis.com/du-prd/books/im...               326   \n",
       "1   https://storage.googleapis.com/du-prd/books/im...               320   \n",
       "2   https://storage.googleapis.com/du-prd/books/im...               330   \n",
       "3   https://storage.googleapis.com/du-prd/books/im...               276   \n",
       "4   https://storage.googleapis.com/du-prd/books/im...               328   \n",
       "5   https://storage.googleapis.com/du-prd/books/im...               320   \n",
       "6   https://storage.googleapis.com/du-prd/books/im...               328   \n",
       "7   https://storage.googleapis.com/du-prd/books/im...               326   \n",
       "8   https://storage.googleapis.com/du-prd/books/im...               328   \n",
       "9   https://storage.googleapis.com/du-prd/books/im...               326   \n",
       "10  https://storage.googleapis.com/du-prd/books/im...               326   \n",
       "11  https://storage.googleapis.com/du-prd/books/im...               328   \n",
       "12  https://storage.googleapis.com/du-prd/books/im...               330   \n",
       "13  https://storage.googleapis.com/du-prd/books/im...               330   \n",
       "14  https://storage.googleapis.com/du-prd/books/im...               328   \n",
       "\n",
       "    book_image_height                                 amazon_product_url  \\\n",
       "10                495  https://www.amazon.com/Twisted-Prey-Novel-John...   \n",
       "11                495  http://www.amazon.com/Couple-Next-Door-Novel/d...   \n",
       "12                495  https://www.amazon.com/Great-Alone-Novel-Krist...   \n",
       "13                495  https://www.amazon.com/Invitation-Only-Dorothe...   \n",
       "14                495  https://www.amazon.com/High-Tide-Club-Novel-eb...   \n",
       "0                 495  https://www.amazon.com/Cast-Novel-Danielle-Ste...   \n",
       "1                 495  https://www.amazon.com/17th-Suspect-Womens-Mur...   \n",
       "2                 495  https://www.amazon.com/Invitation-Only-Dorothe...   \n",
       "3                 495  https://www.amazon.com/Princess-Private-Novel-...   \n",
       "4                 495  https://www.amazon.com/Fallen-Memory-Man-David...   \n",
       "5                 495  https://www.amazon.com/Midnight-Line-Jack-Reac...   \n",
       "6                 495  https://www.amazon.com/Twisted-Prey-Novel-John...   \n",
       "7                 495  https://www.amazon.com/High-Tide-Club-Novel-eb...   \n",
       "8                 495  https://www.amazon.com/Little-Fires-Everywhere...   \n",
       "9                 495  https://www.amazon.com/Great-Alone-Novel-Krist...   \n",
       "10                495  https://www.amazon.com/Wife-Between-Us-Novel/d...   \n",
       "11                495  https://www.amazon.com/Into-Water-Novel-Paula-...   \n",
       "12                495  https://www.amazon.com/Before-We-Were-Yours-No...   \n",
       "13                485  https://www.amazon.com/Handmaids-Tale-Margaret...   \n",
       "14                495  http://www.amazon.com/Couple-Next-Door-Novel/d...   \n",
       "\n",
       "   age_group                                   book_review_link  \\\n",
       "10                                                                \n",
       "11                                                                \n",
       "12                                                                \n",
       "13                                                                \n",
       "14                                                                \n",
       "0                                                                 \n",
       "1                                                                 \n",
       "2                                                                 \n",
       "3                                                                 \n",
       "4                                                                 \n",
       "5             https://www.nytimes.com/2017/11/08/books/revie...   \n",
       "6                                                                 \n",
       "7                                                                 \n",
       "8             https://www.nytimes.com/2017/09/25/books/revie...   \n",
       "9                                                                 \n",
       "10                                                                \n",
       "11                                                                \n",
       "12                                                                \n",
       "13                                                                \n",
       "14                                                                \n",
       "\n",
       "   first_chapter_link                                 sunday_review_link  \\\n",
       "10                                                                         \n",
       "11                                                                         \n",
       "12                                                                         \n",
       "13                                                                         \n",
       "14                                                                         \n",
       "0                                                                          \n",
       "1                                                                          \n",
       "2                                                                          \n",
       "3                                                                          \n",
       "4                                                                          \n",
       "5                                                                          \n",
       "6                                                                          \n",
       "7                                                                          \n",
       "8                                                                          \n",
       "9                                                                          \n",
       "10                                                                         \n",
       "11                                                                         \n",
       "12                                                                         \n",
       "13                     https://www.nytimes.com/1986/02/09/books/no-he...   \n",
       "14                                                                         \n",
       "\n",
       "   article_chapter_link                                              isbns  \\\n",
       "10                       [{'isbn10': '0735217351', 'isbn13': '978073521...   \n",
       "11                       [{'isbn10': '0735221081', 'isbn13': '978073522...   \n",
       "12                       [{'isbn10': '0312577230', 'isbn13': '978031257...   \n",
       "13                       [{'isbn10': '0062390821', 'isbn13': '978006239...   \n",
       "14                       [{'isbn10': '1250126061', 'isbn13': '978125012...   \n",
       "0                        [{'isbn10': '1101884037', 'isbn13': '978110188...   \n",
       "1                        [{'isbn10': '0316274046', 'isbn13': '978031627...   \n",
       "2                        [{'isbn10': '0062390821', 'isbn13': '978006239...   \n",
       "3                        [{'isbn10': '1538714434', 'isbn13': '978153871...   \n",
       "4                        [{'isbn10': '1538761394', 'isbn13': '978153876...   \n",
       "5                        [{'isbn10': '0399593489', 'isbn13': '978039959...   \n",
       "6                        [{'isbn10': '0735217351', 'isbn13': '978073521...   \n",
       "7                        [{'isbn10': '1250126061', 'isbn13': '978125012...   \n",
       "8                        [{'isbn10': '0735224293', 'isbn13': '978073522...   \n",
       "9                        [{'isbn10': '0312577230', 'isbn13': '978031257...   \n",
       "10                       [{'isbn10': '1250130921', 'isbn13': '978125013...   \n",
       "11                       [{'isbn10': '0735211205', 'isbn13': '978073521...   \n",
       "12                       [{'isbn10': '0425284689', 'isbn13': '978042528...   \n",
       "13                       [{'isbn10': '038549081X', 'isbn13': '978038549...   \n",
       "14                       [{'isbn10': '0735221081', 'isbn13': '978073522...   \n",
       "\n",
       "                                            buy_links  \\\n",
       "10  [{'name': 'Amazon', 'url': 'https://www.amazon...   \n",
       "11  [{'name': 'Amazon', 'url': 'http://www.amazon....   \n",
       "12  [{'name': 'Amazon', 'url': 'https://www.amazon...   \n",
       "13  [{'name': 'Amazon', 'url': 'https://www.amazon...   \n",
       "14  [{'name': 'Amazon', 'url': 'https://www.amazon...   \n",
       "0   [{'name': 'Amazon', 'url': 'https://www.amazon...   \n",
       "1   [{'name': 'Amazon', 'url': 'https://www.amazon...   \n",
       "2   [{'name': 'Amazon', 'url': 'https://www.amazon...   \n",
       "3   [{'name': 'Amazon', 'url': 'https://www.amazon...   \n",
       "4   [{'name': 'Amazon', 'url': 'https://www.amazon...   \n",
       "5   [{'name': 'Amazon', 'url': 'https://www.amazon...   \n",
       "6   [{'name': 'Amazon', 'url': 'https://www.amazon...   \n",
       "7   [{'name': 'Amazon', 'url': 'https://www.amazon...   \n",
       "8   [{'name': 'Amazon', 'url': 'https://www.amazon...   \n",
       "9   [{'name': 'Amazon', 'url': 'https://www.amazon...   \n",
       "10  [{'name': 'Amazon', 'url': 'https://www.amazon...   \n",
       "11  [{'name': 'Amazon', 'url': 'https://www.amazon...   \n",
       "12  [{'name': 'Amazon', 'url': 'https://www.amazon...   \n",
       "13  [{'name': 'Amazon', 'url': 'https://www.amazon...   \n",
       "14  [{'name': 'Amazon', 'url': 'http://www.amazon....   \n",
       "\n",
       "                                           book_uri        week  \\\n",
       "10  nyt://book/67c1d531-ba20-5c69-b97a-fbaa5d39554b  2018-06-04   \n",
       "11  nyt://book/d8986982-6ff0-5bb3-8837-2157887fd9a9  2018-06-04   \n",
       "12  nyt://book/92bd289c-529f-5558-8c5e-d0247e1351da  2018-06-04   \n",
       "13  nyt://book/bf535c81-82ce-5674-8793-1fe5870f1f05  2018-06-04   \n",
       "14  nyt://book/25d190d1-c796-5f10-a3b9-75fc47340868  2018-06-04   \n",
       "0   nyt://book/a8a0fa07-896a-5b5a-a572-f1e72e1b88f1  2018-05-28   \n",
       "1   nyt://book/7ae807ae-5910-5fe4-a92a-d634dbac645b  2018-05-28   \n",
       "2   nyt://book/ff8d046e-b560-580f-8f88-0c7bdd18fb59  2018-05-28   \n",
       "3   nyt://book/9f4ece17-041d-5219-88f2-0dca7f182926  2018-05-28   \n",
       "4   nyt://book/398d68ee-8969-55f4-9cd4-2fe9b678c536  2018-05-28   \n",
       "5   nyt://book/469c0746-f16c-5e50-9e26-9bcd2b2ed63d  2018-05-28   \n",
       "6   nyt://book/67c1d531-ba20-5c69-b97a-fbaa5d39554b  2018-05-28   \n",
       "7   nyt://book/a4bef64b-12f5-5348-bb3f-f03313fe208e  2018-05-28   \n",
       "8   nyt://book/705863ae-d7be-56bf-a67d-8ec25142e182  2018-05-28   \n",
       "9   nyt://book/92bd289c-529f-5558-8c5e-d0247e1351da  2018-05-28   \n",
       "10  nyt://book/412f8d0a-dcb9-54d9-a381-ebd4d304dcb0  2018-05-28   \n",
       "11  nyt://book/2d0f232c-cb7c-5837-a9d6-efe366eeb444  2018-05-28   \n",
       "12  nyt://book/1a6fb174-dd0c-564e-83b7-d00ec45d52cd  2018-05-28   \n",
       "13  nyt://book/0868766f-b674-50f9-a665-b1c5f0f17d13  2018-05-28   \n",
       "14  nyt://book/d8986982-6ff0-5bb3-8837-2157887fd9a9  2018-05-28   \n",
       "\n",
       "                           nyt_list  \n",
       "10  Combined Print & E-Book Fiction  \n",
       "11  Combined Print & E-Book Fiction  \n",
       "12  Combined Print & E-Book Fiction  \n",
       "13  Combined Print & E-Book Fiction  \n",
       "14  Combined Print & E-Book Fiction  \n",
       "0   Combined Print & E-Book Fiction  \n",
       "1   Combined Print & E-Book Fiction  \n",
       "2   Combined Print & E-Book Fiction  \n",
       "3   Combined Print & E-Book Fiction  \n",
       "4   Combined Print & E-Book Fiction  \n",
       "5   Combined Print & E-Book Fiction  \n",
       "6   Combined Print & E-Book Fiction  \n",
       "7   Combined Print & E-Book Fiction  \n",
       "8   Combined Print & E-Book Fiction  \n",
       "9   Combined Print & E-Book Fiction  \n",
       "10  Combined Print & E-Book Fiction  \n",
       "11  Combined Print & E-Book Fiction  \n",
       "12  Combined Print & E-Book Fiction  \n",
       "13  Combined Print & E-Book Fiction  \n",
       "14  Combined Print & E-Book Fiction  "
      ]
     },
     "execution_count": 58,
     "metadata": {},
     "output_type": "execute_result"
    }
   ],
   "source": [
    "#add nyt_list as a column\n",
    "top_15_combined_bestsellers['nyt_list'] = nyt_list_weekly_fiction\n",
    "\n",
    "#and check to make sure it worked correctly\n",
    "top_15_combined_bestsellers.tail(20)"
   ]
  },
  {
   "cell_type": "code",
   "execution_count": 62,
   "metadata": {},
   "outputs": [],
   "source": [
    "#save to another csv\n",
    "top_15_combined_bestsellers.to_csv(\"C:\\\\Users\\\\melan\\\\Documents\\\\DA8\\\\Projects\\\\capstone\\\\data\\\\top_15_fiction_bestsellers_since_may_28_2018.csv\", index=False)"
   ]
  },
  {
   "cell_type": "code",
   "execution_count": 4,
   "metadata": {},
   "outputs": [
    {
     "name": "stdout",
     "output_type": "stream",
     "text": [
      "2018-05-21\n",
      "https://api.nytimes.com/svc/books/v3/lists/2018-05-21/combined-print-and-e-book-fiction?api-key=P1yDSg62Aydsdh04WBBuS57pYbpBu2tb\n"
     ]
    },
    {
     "name": "stderr",
     "output_type": "stream",
     "text": [
      "C:\\Users\\melan\\AppData\\Local\\Temp\\ipykernel_22472\\373377676.py:27: FutureWarning: pandas.io.json.json_normalize is deprecated, use pandas.json_normalize instead.\n",
      "  books = json_normalize(results[\"results\"][\"books\"])\n"
     ]
    },
    {
     "name": "stdout",
     "output_type": "stream",
     "text": [
      "2018-05-14\n",
      "https://api.nytimes.com/svc/books/v3/lists/2018-05-14/combined-print-and-e-book-fiction?api-key=P1yDSg62Aydsdh04WBBuS57pYbpBu2tb\n"
     ]
    },
    {
     "name": "stderr",
     "output_type": "stream",
     "text": [
      "C:\\Users\\melan\\AppData\\Local\\Temp\\ipykernel_22472\\373377676.py:27: FutureWarning: pandas.io.json.json_normalize is deprecated, use pandas.json_normalize instead.\n",
      "  books = json_normalize(results[\"results\"][\"books\"])\n"
     ]
    },
    {
     "name": "stdout",
     "output_type": "stream",
     "text": [
      "2018-05-07\n",
      "https://api.nytimes.com/svc/books/v3/lists/2018-05-07/combined-print-and-e-book-fiction?api-key=P1yDSg62Aydsdh04WBBuS57pYbpBu2tb\n"
     ]
    },
    {
     "name": "stderr",
     "output_type": "stream",
     "text": [
      "C:\\Users\\melan\\AppData\\Local\\Temp\\ipykernel_22472\\373377676.py:27: FutureWarning: pandas.io.json.json_normalize is deprecated, use pandas.json_normalize instead.\n",
      "  books = json_normalize(results[\"results\"][\"books\"])\n"
     ]
    },
    {
     "name": "stdout",
     "output_type": "stream",
     "text": [
      "2018-04-30\n",
      "https://api.nytimes.com/svc/books/v3/lists/2018-04-30/combined-print-and-e-book-fiction?api-key=P1yDSg62Aydsdh04WBBuS57pYbpBu2tb\n"
     ]
    },
    {
     "name": "stderr",
     "output_type": "stream",
     "text": [
      "C:\\Users\\melan\\AppData\\Local\\Temp\\ipykernel_22472\\373377676.py:27: FutureWarning: pandas.io.json.json_normalize is deprecated, use pandas.json_normalize instead.\n",
      "  books = json_normalize(results[\"results\"][\"books\"])\n"
     ]
    },
    {
     "name": "stdout",
     "output_type": "stream",
     "text": [
      "2018-04-23\n",
      "https://api.nytimes.com/svc/books/v3/lists/2018-04-23/combined-print-and-e-book-fiction?api-key=P1yDSg62Aydsdh04WBBuS57pYbpBu2tb\n"
     ]
    },
    {
     "name": "stderr",
     "output_type": "stream",
     "text": [
      "C:\\Users\\melan\\AppData\\Local\\Temp\\ipykernel_22472\\373377676.py:27: FutureWarning: pandas.io.json.json_normalize is deprecated, use pandas.json_normalize instead.\n",
      "  books = json_normalize(results[\"results\"][\"books\"])\n"
     ]
    },
    {
     "name": "stdout",
     "output_type": "stream",
     "text": [
      "2018-04-16\n",
      "https://api.nytimes.com/svc/books/v3/lists/2018-04-16/combined-print-and-e-book-fiction?api-key=P1yDSg62Aydsdh04WBBuS57pYbpBu2tb\n"
     ]
    },
    {
     "name": "stderr",
     "output_type": "stream",
     "text": [
      "C:\\Users\\melan\\AppData\\Local\\Temp\\ipykernel_22472\\373377676.py:27: FutureWarning: pandas.io.json.json_normalize is deprecated, use pandas.json_normalize instead.\n",
      "  books = json_normalize(results[\"results\"][\"books\"])\n"
     ]
    },
    {
     "name": "stdout",
     "output_type": "stream",
     "text": [
      "2018-04-09\n",
      "https://api.nytimes.com/svc/books/v3/lists/2018-04-09/combined-print-and-e-book-fiction?api-key=P1yDSg62Aydsdh04WBBuS57pYbpBu2tb\n"
     ]
    },
    {
     "name": "stderr",
     "output_type": "stream",
     "text": [
      "C:\\Users\\melan\\AppData\\Local\\Temp\\ipykernel_22472\\373377676.py:27: FutureWarning: pandas.io.json.json_normalize is deprecated, use pandas.json_normalize instead.\n",
      "  books = json_normalize(results[\"results\"][\"books\"])\n"
     ]
    },
    {
     "name": "stdout",
     "output_type": "stream",
     "text": [
      "2018-04-02\n",
      "https://api.nytimes.com/svc/books/v3/lists/2018-04-02/combined-print-and-e-book-fiction?api-key=P1yDSg62Aydsdh04WBBuS57pYbpBu2tb\n"
     ]
    },
    {
     "name": "stderr",
     "output_type": "stream",
     "text": [
      "C:\\Users\\melan\\AppData\\Local\\Temp\\ipykernel_22472\\373377676.py:27: FutureWarning: pandas.io.json.json_normalize is deprecated, use pandas.json_normalize instead.\n",
      "  books = json_normalize(results[\"results\"][\"books\"])\n"
     ]
    },
    {
     "name": "stdout",
     "output_type": "stream",
     "text": [
      "2018-03-26\n",
      "https://api.nytimes.com/svc/books/v3/lists/2018-03-26/combined-print-and-e-book-fiction?api-key=P1yDSg62Aydsdh04WBBuS57pYbpBu2tb\n"
     ]
    },
    {
     "name": "stderr",
     "output_type": "stream",
     "text": [
      "C:\\Users\\melan\\AppData\\Local\\Temp\\ipykernel_22472\\373377676.py:27: FutureWarning: pandas.io.json.json_normalize is deprecated, use pandas.json_normalize instead.\n",
      "  books = json_normalize(results[\"results\"][\"books\"])\n"
     ]
    },
    {
     "name": "stdout",
     "output_type": "stream",
     "text": [
      "2018-03-19\n",
      "https://api.nytimes.com/svc/books/v3/lists/2018-03-19/combined-print-and-e-book-fiction?api-key=P1yDSg62Aydsdh04WBBuS57pYbpBu2tb\n"
     ]
    },
    {
     "name": "stderr",
     "output_type": "stream",
     "text": [
      "C:\\Users\\melan\\AppData\\Local\\Temp\\ipykernel_22472\\373377676.py:27: FutureWarning: pandas.io.json.json_normalize is deprecated, use pandas.json_normalize instead.\n",
      "  books = json_normalize(results[\"results\"][\"books\"])\n"
     ]
    },
    {
     "name": "stdout",
     "output_type": "stream",
     "text": [
      "2018-03-12\n",
      "https://api.nytimes.com/svc/books/v3/lists/2018-03-12/combined-print-and-e-book-fiction?api-key=P1yDSg62Aydsdh04WBBuS57pYbpBu2tb\n"
     ]
    },
    {
     "name": "stderr",
     "output_type": "stream",
     "text": [
      "C:\\Users\\melan\\AppData\\Local\\Temp\\ipykernel_22472\\373377676.py:27: FutureWarning: pandas.io.json.json_normalize is deprecated, use pandas.json_normalize instead.\n",
      "  books = json_normalize(results[\"results\"][\"books\"])\n"
     ]
    },
    {
     "name": "stdout",
     "output_type": "stream",
     "text": [
      "2018-03-05\n",
      "https://api.nytimes.com/svc/books/v3/lists/2018-03-05/combined-print-and-e-book-fiction?api-key=P1yDSg62Aydsdh04WBBuS57pYbpBu2tb\n"
     ]
    },
    {
     "name": "stderr",
     "output_type": "stream",
     "text": [
      "C:\\Users\\melan\\AppData\\Local\\Temp\\ipykernel_22472\\373377676.py:27: FutureWarning: pandas.io.json.json_normalize is deprecated, use pandas.json_normalize instead.\n",
      "  books = json_normalize(results[\"results\"][\"books\"])\n"
     ]
    },
    {
     "name": "stdout",
     "output_type": "stream",
     "text": [
      "2018-02-26\n",
      "https://api.nytimes.com/svc/books/v3/lists/2018-02-26/combined-print-and-e-book-fiction?api-key=P1yDSg62Aydsdh04WBBuS57pYbpBu2tb\n"
     ]
    },
    {
     "name": "stderr",
     "output_type": "stream",
     "text": [
      "C:\\Users\\melan\\AppData\\Local\\Temp\\ipykernel_22472\\373377676.py:27: FutureWarning: pandas.io.json.json_normalize is deprecated, use pandas.json_normalize instead.\n",
      "  books = json_normalize(results[\"results\"][\"books\"])\n"
     ]
    },
    {
     "name": "stdout",
     "output_type": "stream",
     "text": [
      "2018-02-19\n",
      "https://api.nytimes.com/svc/books/v3/lists/2018-02-19/combined-print-and-e-book-fiction?api-key=P1yDSg62Aydsdh04WBBuS57pYbpBu2tb\n"
     ]
    },
    {
     "name": "stderr",
     "output_type": "stream",
     "text": [
      "C:\\Users\\melan\\AppData\\Local\\Temp\\ipykernel_22472\\373377676.py:27: FutureWarning: pandas.io.json.json_normalize is deprecated, use pandas.json_normalize instead.\n",
      "  books = json_normalize(results[\"results\"][\"books\"])\n"
     ]
    },
    {
     "name": "stdout",
     "output_type": "stream",
     "text": [
      "2018-02-12\n",
      "https://api.nytimes.com/svc/books/v3/lists/2018-02-12/combined-print-and-e-book-fiction?api-key=P1yDSg62Aydsdh04WBBuS57pYbpBu2tb\n"
     ]
    },
    {
     "name": "stderr",
     "output_type": "stream",
     "text": [
      "C:\\Users\\melan\\AppData\\Local\\Temp\\ipykernel_22472\\373377676.py:27: FutureWarning: pandas.io.json.json_normalize is deprecated, use pandas.json_normalize instead.\n",
      "  books = json_normalize(results[\"results\"][\"books\"])\n"
     ]
    },
    {
     "name": "stdout",
     "output_type": "stream",
     "text": [
      "2018-02-05\n",
      "https://api.nytimes.com/svc/books/v3/lists/2018-02-05/combined-print-and-e-book-fiction?api-key=P1yDSg62Aydsdh04WBBuS57pYbpBu2tb\n"
     ]
    },
    {
     "name": "stderr",
     "output_type": "stream",
     "text": [
      "C:\\Users\\melan\\AppData\\Local\\Temp\\ipykernel_22472\\373377676.py:27: FutureWarning: pandas.io.json.json_normalize is deprecated, use pandas.json_normalize instead.\n",
      "  books = json_normalize(results[\"results\"][\"books\"])\n"
     ]
    },
    {
     "name": "stdout",
     "output_type": "stream",
     "text": [
      "2018-01-29\n",
      "https://api.nytimes.com/svc/books/v3/lists/2018-01-29/combined-print-and-e-book-fiction?api-key=P1yDSg62Aydsdh04WBBuS57pYbpBu2tb\n"
     ]
    },
    {
     "name": "stderr",
     "output_type": "stream",
     "text": [
      "C:\\Users\\melan\\AppData\\Local\\Temp\\ipykernel_22472\\373377676.py:27: FutureWarning: pandas.io.json.json_normalize is deprecated, use pandas.json_normalize instead.\n",
      "  books = json_normalize(results[\"results\"][\"books\"])\n"
     ]
    },
    {
     "name": "stdout",
     "output_type": "stream",
     "text": [
      "2018-01-22\n",
      "https://api.nytimes.com/svc/books/v3/lists/2018-01-22/combined-print-and-e-book-fiction?api-key=P1yDSg62Aydsdh04WBBuS57pYbpBu2tb\n"
     ]
    },
    {
     "name": "stderr",
     "output_type": "stream",
     "text": [
      "C:\\Users\\melan\\AppData\\Local\\Temp\\ipykernel_22472\\373377676.py:27: FutureWarning: pandas.io.json.json_normalize is deprecated, use pandas.json_normalize instead.\n",
      "  books = json_normalize(results[\"results\"][\"books\"])\n"
     ]
    },
    {
     "name": "stdout",
     "output_type": "stream",
     "text": [
      "2018-01-15\n",
      "https://api.nytimes.com/svc/books/v3/lists/2018-01-15/combined-print-and-e-book-fiction?api-key=P1yDSg62Aydsdh04WBBuS57pYbpBu2tb\n"
     ]
    },
    {
     "name": "stderr",
     "output_type": "stream",
     "text": [
      "C:\\Users\\melan\\AppData\\Local\\Temp\\ipykernel_22472\\373377676.py:27: FutureWarning: pandas.io.json.json_normalize is deprecated, use pandas.json_normalize instead.\n",
      "  books = json_normalize(results[\"results\"][\"books\"])\n"
     ]
    },
    {
     "name": "stdout",
     "output_type": "stream",
     "text": [
      "2018-01-08\n",
      "https://api.nytimes.com/svc/books/v3/lists/2018-01-08/combined-print-and-e-book-fiction?api-key=P1yDSg62Aydsdh04WBBuS57pYbpBu2tb\n"
     ]
    },
    {
     "name": "stderr",
     "output_type": "stream",
     "text": [
      "C:\\Users\\melan\\AppData\\Local\\Temp\\ipykernel_22472\\373377676.py:27: FutureWarning: pandas.io.json.json_normalize is deprecated, use pandas.json_normalize instead.\n",
      "  books = json_normalize(results[\"results\"][\"books\"])\n"
     ]
    },
    {
     "name": "stdout",
     "output_type": "stream",
     "text": [
      "2018-01-01\n",
      "https://api.nytimes.com/svc/books/v3/lists/2018-01-01/combined-print-and-e-book-fiction?api-key=P1yDSg62Aydsdh04WBBuS57pYbpBu2tb\n"
     ]
    },
    {
     "name": "stderr",
     "output_type": "stream",
     "text": [
      "C:\\Users\\melan\\AppData\\Local\\Temp\\ipykernel_22472\\373377676.py:27: FutureWarning: pandas.io.json.json_normalize is deprecated, use pandas.json_normalize instead.\n",
      "  books = json_normalize(results[\"results\"][\"books\"])\n"
     ]
    },
    {
     "name": "stdout",
     "output_type": "stream",
     "text": [
      "2017-12-25\n",
      "https://api.nytimes.com/svc/books/v3/lists/2017-12-25/combined-print-and-e-book-fiction?api-key=P1yDSg62Aydsdh04WBBuS57pYbpBu2tb\n"
     ]
    },
    {
     "name": "stderr",
     "output_type": "stream",
     "text": [
      "C:\\Users\\melan\\AppData\\Local\\Temp\\ipykernel_22472\\373377676.py:27: FutureWarning: pandas.io.json.json_normalize is deprecated, use pandas.json_normalize instead.\n",
      "  books = json_normalize(results[\"results\"][\"books\"])\n"
     ]
    },
    {
     "name": "stdout",
     "output_type": "stream",
     "text": [
      "2017-12-18\n",
      "https://api.nytimes.com/svc/books/v3/lists/2017-12-18/combined-print-and-e-book-fiction?api-key=P1yDSg62Aydsdh04WBBuS57pYbpBu2tb\n"
     ]
    },
    {
     "name": "stderr",
     "output_type": "stream",
     "text": [
      "C:\\Users\\melan\\AppData\\Local\\Temp\\ipykernel_22472\\373377676.py:27: FutureWarning: pandas.io.json.json_normalize is deprecated, use pandas.json_normalize instead.\n",
      "  books = json_normalize(results[\"results\"][\"books\"])\n"
     ]
    },
    {
     "name": "stdout",
     "output_type": "stream",
     "text": [
      "2017-12-11\n",
      "https://api.nytimes.com/svc/books/v3/lists/2017-12-11/combined-print-and-e-book-fiction?api-key=P1yDSg62Aydsdh04WBBuS57pYbpBu2tb\n"
     ]
    },
    {
     "name": "stderr",
     "output_type": "stream",
     "text": [
      "C:\\Users\\melan\\AppData\\Local\\Temp\\ipykernel_22472\\373377676.py:27: FutureWarning: pandas.io.json.json_normalize is deprecated, use pandas.json_normalize instead.\n",
      "  books = json_normalize(results[\"results\"][\"books\"])\n"
     ]
    },
    {
     "name": "stdout",
     "output_type": "stream",
     "text": [
      "2017-12-04\n",
      "https://api.nytimes.com/svc/books/v3/lists/2017-12-04/combined-print-and-e-book-fiction?api-key=P1yDSg62Aydsdh04WBBuS57pYbpBu2tb\n"
     ]
    },
    {
     "name": "stderr",
     "output_type": "stream",
     "text": [
      "C:\\Users\\melan\\AppData\\Local\\Temp\\ipykernel_22472\\373377676.py:27: FutureWarning: pandas.io.json.json_normalize is deprecated, use pandas.json_normalize instead.\n",
      "  books = json_normalize(results[\"results\"][\"books\"])\n"
     ]
    },
    {
     "name": "stdout",
     "output_type": "stream",
     "text": [
      "2017-11-27\n",
      "https://api.nytimes.com/svc/books/v3/lists/2017-11-27/combined-print-and-e-book-fiction?api-key=P1yDSg62Aydsdh04WBBuS57pYbpBu2tb\n"
     ]
    },
    {
     "name": "stderr",
     "output_type": "stream",
     "text": [
      "C:\\Users\\melan\\AppData\\Local\\Temp\\ipykernel_22472\\373377676.py:27: FutureWarning: pandas.io.json.json_normalize is deprecated, use pandas.json_normalize instead.\n",
      "  books = json_normalize(results[\"results\"][\"books\"])\n"
     ]
    },
    {
     "name": "stdout",
     "output_type": "stream",
     "text": [
      "2017-11-20\n",
      "https://api.nytimes.com/svc/books/v3/lists/2017-11-20/combined-print-and-e-book-fiction?api-key=P1yDSg62Aydsdh04WBBuS57pYbpBu2tb\n"
     ]
    },
    {
     "name": "stderr",
     "output_type": "stream",
     "text": [
      "C:\\Users\\melan\\AppData\\Local\\Temp\\ipykernel_22472\\373377676.py:27: FutureWarning: pandas.io.json.json_normalize is deprecated, use pandas.json_normalize instead.\n",
      "  books = json_normalize(results[\"results\"][\"books\"])\n"
     ]
    },
    {
     "name": "stdout",
     "output_type": "stream",
     "text": [
      "2017-11-13\n",
      "https://api.nytimes.com/svc/books/v3/lists/2017-11-13/combined-print-and-e-book-fiction?api-key=P1yDSg62Aydsdh04WBBuS57pYbpBu2tb\n"
     ]
    },
    {
     "name": "stderr",
     "output_type": "stream",
     "text": [
      "C:\\Users\\melan\\AppData\\Local\\Temp\\ipykernel_22472\\373377676.py:27: FutureWarning: pandas.io.json.json_normalize is deprecated, use pandas.json_normalize instead.\n",
      "  books = json_normalize(results[\"results\"][\"books\"])\n"
     ]
    },
    {
     "name": "stdout",
     "output_type": "stream",
     "text": [
      "2017-11-06\n",
      "https://api.nytimes.com/svc/books/v3/lists/2017-11-06/combined-print-and-e-book-fiction?api-key=P1yDSg62Aydsdh04WBBuS57pYbpBu2tb\n"
     ]
    },
    {
     "name": "stderr",
     "output_type": "stream",
     "text": [
      "C:\\Users\\melan\\AppData\\Local\\Temp\\ipykernel_22472\\373377676.py:27: FutureWarning: pandas.io.json.json_normalize is deprecated, use pandas.json_normalize instead.\n",
      "  books = json_normalize(results[\"results\"][\"books\"])\n"
     ]
    },
    {
     "name": "stdout",
     "output_type": "stream",
     "text": [
      "2017-10-30\n",
      "https://api.nytimes.com/svc/books/v3/lists/2017-10-30/combined-print-and-e-book-fiction?api-key=P1yDSg62Aydsdh04WBBuS57pYbpBu2tb\n"
     ]
    },
    {
     "name": "stderr",
     "output_type": "stream",
     "text": [
      "C:\\Users\\melan\\AppData\\Local\\Temp\\ipykernel_22472\\373377676.py:27: FutureWarning: pandas.io.json.json_normalize is deprecated, use pandas.json_normalize instead.\n",
      "  books = json_normalize(results[\"results\"][\"books\"])\n"
     ]
    },
    {
     "name": "stdout",
     "output_type": "stream",
     "text": [
      "2017-10-23\n",
      "https://api.nytimes.com/svc/books/v3/lists/2017-10-23/combined-print-and-e-book-fiction?api-key=P1yDSg62Aydsdh04WBBuS57pYbpBu2tb\n"
     ]
    },
    {
     "name": "stderr",
     "output_type": "stream",
     "text": [
      "C:\\Users\\melan\\AppData\\Local\\Temp\\ipykernel_22472\\373377676.py:27: FutureWarning: pandas.io.json.json_normalize is deprecated, use pandas.json_normalize instead.\n",
      "  books = json_normalize(results[\"results\"][\"books\"])\n"
     ]
    },
    {
     "name": "stdout",
     "output_type": "stream",
     "text": [
      "2017-10-16\n",
      "https://api.nytimes.com/svc/books/v3/lists/2017-10-16/combined-print-and-e-book-fiction?api-key=P1yDSg62Aydsdh04WBBuS57pYbpBu2tb\n"
     ]
    },
    {
     "name": "stderr",
     "output_type": "stream",
     "text": [
      "C:\\Users\\melan\\AppData\\Local\\Temp\\ipykernel_22472\\373377676.py:27: FutureWarning: pandas.io.json.json_normalize is deprecated, use pandas.json_normalize instead.\n",
      "  books = json_normalize(results[\"results\"][\"books\"])\n"
     ]
    },
    {
     "name": "stdout",
     "output_type": "stream",
     "text": [
      "2017-10-09\n",
      "https://api.nytimes.com/svc/books/v3/lists/2017-10-09/combined-print-and-e-book-fiction?api-key=P1yDSg62Aydsdh04WBBuS57pYbpBu2tb\n"
     ]
    },
    {
     "name": "stderr",
     "output_type": "stream",
     "text": [
      "C:\\Users\\melan\\AppData\\Local\\Temp\\ipykernel_22472\\373377676.py:27: FutureWarning: pandas.io.json.json_normalize is deprecated, use pandas.json_normalize instead.\n",
      "  books = json_normalize(results[\"results\"][\"books\"])\n"
     ]
    },
    {
     "name": "stdout",
     "output_type": "stream",
     "text": [
      "2017-10-02\n",
      "https://api.nytimes.com/svc/books/v3/lists/2017-10-02/combined-print-and-e-book-fiction?api-key=P1yDSg62Aydsdh04WBBuS57pYbpBu2tb\n"
     ]
    },
    {
     "name": "stderr",
     "output_type": "stream",
     "text": [
      "C:\\Users\\melan\\AppData\\Local\\Temp\\ipykernel_22472\\373377676.py:27: FutureWarning: pandas.io.json.json_normalize is deprecated, use pandas.json_normalize instead.\n",
      "  books = json_normalize(results[\"results\"][\"books\"])\n"
     ]
    },
    {
     "name": "stdout",
     "output_type": "stream",
     "text": [
      "2017-09-25\n",
      "https://api.nytimes.com/svc/books/v3/lists/2017-09-25/combined-print-and-e-book-fiction?api-key=P1yDSg62Aydsdh04WBBuS57pYbpBu2tb\n"
     ]
    },
    {
     "name": "stderr",
     "output_type": "stream",
     "text": [
      "C:\\Users\\melan\\AppData\\Local\\Temp\\ipykernel_22472\\373377676.py:27: FutureWarning: pandas.io.json.json_normalize is deprecated, use pandas.json_normalize instead.\n",
      "  books = json_normalize(results[\"results\"][\"books\"])\n"
     ]
    },
    {
     "name": "stdout",
     "output_type": "stream",
     "text": [
      "2017-09-18\n",
      "https://api.nytimes.com/svc/books/v3/lists/2017-09-18/combined-print-and-e-book-fiction?api-key=P1yDSg62Aydsdh04WBBuS57pYbpBu2tb\n"
     ]
    },
    {
     "name": "stderr",
     "output_type": "stream",
     "text": [
      "C:\\Users\\melan\\AppData\\Local\\Temp\\ipykernel_22472\\373377676.py:27: FutureWarning: pandas.io.json.json_normalize is deprecated, use pandas.json_normalize instead.\n",
      "  books = json_normalize(results[\"results\"][\"books\"])\n"
     ]
    },
    {
     "name": "stdout",
     "output_type": "stream",
     "text": [
      "2017-09-11\n",
      "https://api.nytimes.com/svc/books/v3/lists/2017-09-11/combined-print-and-e-book-fiction?api-key=P1yDSg62Aydsdh04WBBuS57pYbpBu2tb\n"
     ]
    },
    {
     "name": "stderr",
     "output_type": "stream",
     "text": [
      "C:\\Users\\melan\\AppData\\Local\\Temp\\ipykernel_22472\\373377676.py:27: FutureWarning: pandas.io.json.json_normalize is deprecated, use pandas.json_normalize instead.\n",
      "  books = json_normalize(results[\"results\"][\"books\"])\n"
     ]
    },
    {
     "name": "stdout",
     "output_type": "stream",
     "text": [
      "2017-09-04\n",
      "https://api.nytimes.com/svc/books/v3/lists/2017-09-04/combined-print-and-e-book-fiction?api-key=P1yDSg62Aydsdh04WBBuS57pYbpBu2tb\n"
     ]
    },
    {
     "name": "stderr",
     "output_type": "stream",
     "text": [
      "C:\\Users\\melan\\AppData\\Local\\Temp\\ipykernel_22472\\373377676.py:27: FutureWarning: pandas.io.json.json_normalize is deprecated, use pandas.json_normalize instead.\n",
      "  books = json_normalize(results[\"results\"][\"books\"])\n"
     ]
    },
    {
     "name": "stdout",
     "output_type": "stream",
     "text": [
      "2017-08-28\n",
      "https://api.nytimes.com/svc/books/v3/lists/2017-08-28/combined-print-and-e-book-fiction?api-key=P1yDSg62Aydsdh04WBBuS57pYbpBu2tb\n"
     ]
    },
    {
     "name": "stderr",
     "output_type": "stream",
     "text": [
      "C:\\Users\\melan\\AppData\\Local\\Temp\\ipykernel_22472\\373377676.py:27: FutureWarning: pandas.io.json.json_normalize is deprecated, use pandas.json_normalize instead.\n",
      "  books = json_normalize(results[\"results\"][\"books\"])\n"
     ]
    },
    {
     "name": "stdout",
     "output_type": "stream",
     "text": [
      "2017-08-21\n",
      "https://api.nytimes.com/svc/books/v3/lists/2017-08-21/combined-print-and-e-book-fiction?api-key=P1yDSg62Aydsdh04WBBuS57pYbpBu2tb\n"
     ]
    },
    {
     "name": "stderr",
     "output_type": "stream",
     "text": [
      "C:\\Users\\melan\\AppData\\Local\\Temp\\ipykernel_22472\\373377676.py:27: FutureWarning: pandas.io.json.json_normalize is deprecated, use pandas.json_normalize instead.\n",
      "  books = json_normalize(results[\"results\"][\"books\"])\n"
     ]
    },
    {
     "name": "stdout",
     "output_type": "stream",
     "text": [
      "2017-08-14\n",
      "https://api.nytimes.com/svc/books/v3/lists/2017-08-14/combined-print-and-e-book-fiction?api-key=P1yDSg62Aydsdh04WBBuS57pYbpBu2tb\n"
     ]
    },
    {
     "name": "stderr",
     "output_type": "stream",
     "text": [
      "C:\\Users\\melan\\AppData\\Local\\Temp\\ipykernel_22472\\373377676.py:27: FutureWarning: pandas.io.json.json_normalize is deprecated, use pandas.json_normalize instead.\n",
      "  books = json_normalize(results[\"results\"][\"books\"])\n"
     ]
    },
    {
     "name": "stdout",
     "output_type": "stream",
     "text": [
      "2017-08-07\n",
      "https://api.nytimes.com/svc/books/v3/lists/2017-08-07/combined-print-and-e-book-fiction?api-key=P1yDSg62Aydsdh04WBBuS57pYbpBu2tb\n"
     ]
    },
    {
     "name": "stderr",
     "output_type": "stream",
     "text": [
      "C:\\Users\\melan\\AppData\\Local\\Temp\\ipykernel_22472\\373377676.py:27: FutureWarning: pandas.io.json.json_normalize is deprecated, use pandas.json_normalize instead.\n",
      "  books = json_normalize(results[\"results\"][\"books\"])\n"
     ]
    },
    {
     "name": "stdout",
     "output_type": "stream",
     "text": [
      "2017-07-31\n",
      "https://api.nytimes.com/svc/books/v3/lists/2017-07-31/combined-print-and-e-book-fiction?api-key=P1yDSg62Aydsdh04WBBuS57pYbpBu2tb\n"
     ]
    },
    {
     "name": "stderr",
     "output_type": "stream",
     "text": [
      "C:\\Users\\melan\\AppData\\Local\\Temp\\ipykernel_22472\\373377676.py:27: FutureWarning: pandas.io.json.json_normalize is deprecated, use pandas.json_normalize instead.\n",
      "  books = json_normalize(results[\"results\"][\"books\"])\n"
     ]
    },
    {
     "name": "stdout",
     "output_type": "stream",
     "text": [
      "2017-07-24\n",
      "https://api.nytimes.com/svc/books/v3/lists/2017-07-24/combined-print-and-e-book-fiction?api-key=P1yDSg62Aydsdh04WBBuS57pYbpBu2tb\n"
     ]
    },
    {
     "name": "stderr",
     "output_type": "stream",
     "text": [
      "C:\\Users\\melan\\AppData\\Local\\Temp\\ipykernel_22472\\373377676.py:27: FutureWarning: pandas.io.json.json_normalize is deprecated, use pandas.json_normalize instead.\n",
      "  books = json_normalize(results[\"results\"][\"books\"])\n"
     ]
    },
    {
     "name": "stdout",
     "output_type": "stream",
     "text": [
      "2017-07-17\n",
      "https://api.nytimes.com/svc/books/v3/lists/2017-07-17/combined-print-and-e-book-fiction?api-key=P1yDSg62Aydsdh04WBBuS57pYbpBu2tb\n"
     ]
    },
    {
     "name": "stderr",
     "output_type": "stream",
     "text": [
      "C:\\Users\\melan\\AppData\\Local\\Temp\\ipykernel_22472\\373377676.py:27: FutureWarning: pandas.io.json.json_normalize is deprecated, use pandas.json_normalize instead.\n",
      "  books = json_normalize(results[\"results\"][\"books\"])\n"
     ]
    },
    {
     "name": "stdout",
     "output_type": "stream",
     "text": [
      "2017-07-10\n",
      "https://api.nytimes.com/svc/books/v3/lists/2017-07-10/combined-print-and-e-book-fiction?api-key=P1yDSg62Aydsdh04WBBuS57pYbpBu2tb\n"
     ]
    },
    {
     "name": "stderr",
     "output_type": "stream",
     "text": [
      "C:\\Users\\melan\\AppData\\Local\\Temp\\ipykernel_22472\\373377676.py:27: FutureWarning: pandas.io.json.json_normalize is deprecated, use pandas.json_normalize instead.\n",
      "  books = json_normalize(results[\"results\"][\"books\"])\n"
     ]
    },
    {
     "name": "stdout",
     "output_type": "stream",
     "text": [
      "2017-07-03\n",
      "https://api.nytimes.com/svc/books/v3/lists/2017-07-03/combined-print-and-e-book-fiction?api-key=P1yDSg62Aydsdh04WBBuS57pYbpBu2tb\n"
     ]
    },
    {
     "name": "stderr",
     "output_type": "stream",
     "text": [
      "C:\\Users\\melan\\AppData\\Local\\Temp\\ipykernel_22472\\373377676.py:27: FutureWarning: pandas.io.json.json_normalize is deprecated, use pandas.json_normalize instead.\n",
      "  books = json_normalize(results[\"results\"][\"books\"])\n"
     ]
    },
    {
     "name": "stdout",
     "output_type": "stream",
     "text": [
      "2017-06-26\n",
      "https://api.nytimes.com/svc/books/v3/lists/2017-06-26/combined-print-and-e-book-fiction?api-key=P1yDSg62Aydsdh04WBBuS57pYbpBu2tb\n"
     ]
    },
    {
     "name": "stderr",
     "output_type": "stream",
     "text": [
      "C:\\Users\\melan\\AppData\\Local\\Temp\\ipykernel_22472\\373377676.py:27: FutureWarning: pandas.io.json.json_normalize is deprecated, use pandas.json_normalize instead.\n",
      "  books = json_normalize(results[\"results\"][\"books\"])\n"
     ]
    },
    {
     "name": "stdout",
     "output_type": "stream",
     "text": [
      "2017-06-19\n",
      "https://api.nytimes.com/svc/books/v3/lists/2017-06-19/combined-print-and-e-book-fiction?api-key=P1yDSg62Aydsdh04WBBuS57pYbpBu2tb\n"
     ]
    },
    {
     "name": "stderr",
     "output_type": "stream",
     "text": [
      "C:\\Users\\melan\\AppData\\Local\\Temp\\ipykernel_22472\\373377676.py:27: FutureWarning: pandas.io.json.json_normalize is deprecated, use pandas.json_normalize instead.\n",
      "  books = json_normalize(results[\"results\"][\"books\"])\n"
     ]
    },
    {
     "name": "stdout",
     "output_type": "stream",
     "text": [
      "2017-06-12\n",
      "https://api.nytimes.com/svc/books/v3/lists/2017-06-12/combined-print-and-e-book-fiction?api-key=P1yDSg62Aydsdh04WBBuS57pYbpBu2tb\n"
     ]
    },
    {
     "name": "stderr",
     "output_type": "stream",
     "text": [
      "C:\\Users\\melan\\AppData\\Local\\Temp\\ipykernel_22472\\373377676.py:27: FutureWarning: pandas.io.json.json_normalize is deprecated, use pandas.json_normalize instead.\n",
      "  books = json_normalize(results[\"results\"][\"books\"])\n"
     ]
    },
    {
     "name": "stdout",
     "output_type": "stream",
     "text": [
      "2017-06-05\n",
      "https://api.nytimes.com/svc/books/v3/lists/2017-06-05/combined-print-and-e-book-fiction?api-key=P1yDSg62Aydsdh04WBBuS57pYbpBu2tb\n"
     ]
    },
    {
     "name": "stderr",
     "output_type": "stream",
     "text": [
      "C:\\Users\\melan\\AppData\\Local\\Temp\\ipykernel_22472\\373377676.py:27: FutureWarning: pandas.io.json.json_normalize is deprecated, use pandas.json_normalize instead.\n",
      "  books = json_normalize(results[\"results\"][\"books\"])\n"
     ]
    },
    {
     "name": "stdout",
     "output_type": "stream",
     "text": [
      "2017-05-29\n",
      "https://api.nytimes.com/svc/books/v3/lists/2017-05-29/combined-print-and-e-book-fiction?api-key=P1yDSg62Aydsdh04WBBuS57pYbpBu2tb\n"
     ]
    },
    {
     "name": "stderr",
     "output_type": "stream",
     "text": [
      "C:\\Users\\melan\\AppData\\Local\\Temp\\ipykernel_22472\\373377676.py:27: FutureWarning: pandas.io.json.json_normalize is deprecated, use pandas.json_normalize instead.\n",
      "  books = json_normalize(results[\"results\"][\"books\"])\n"
     ]
    },
    {
     "name": "stdout",
     "output_type": "stream",
     "text": [
      "2017-05-22\n",
      "https://api.nytimes.com/svc/books/v3/lists/2017-05-22/combined-print-and-e-book-fiction?api-key=P1yDSg62Aydsdh04WBBuS57pYbpBu2tb\n"
     ]
    },
    {
     "name": "stderr",
     "output_type": "stream",
     "text": [
      "C:\\Users\\melan\\AppData\\Local\\Temp\\ipykernel_22472\\373377676.py:27: FutureWarning: pandas.io.json.json_normalize is deprecated, use pandas.json_normalize instead.\n",
      "  books = json_normalize(results[\"results\"][\"books\"])\n"
     ]
    },
    {
     "name": "stdout",
     "output_type": "stream",
     "text": [
      "2017-05-15\n",
      "https://api.nytimes.com/svc/books/v3/lists/2017-05-15/combined-print-and-e-book-fiction?api-key=P1yDSg62Aydsdh04WBBuS57pYbpBu2tb\n"
     ]
    },
    {
     "name": "stderr",
     "output_type": "stream",
     "text": [
      "C:\\Users\\melan\\AppData\\Local\\Temp\\ipykernel_22472\\373377676.py:27: FutureWarning: pandas.io.json.json_normalize is deprecated, use pandas.json_normalize instead.\n",
      "  books = json_normalize(results[\"results\"][\"books\"])\n"
     ]
    },
    {
     "name": "stdout",
     "output_type": "stream",
     "text": [
      "2017-05-08\n",
      "https://api.nytimes.com/svc/books/v3/lists/2017-05-08/combined-print-and-e-book-fiction?api-key=P1yDSg62Aydsdh04WBBuS57pYbpBu2tb\n"
     ]
    },
    {
     "name": "stderr",
     "output_type": "stream",
     "text": [
      "C:\\Users\\melan\\AppData\\Local\\Temp\\ipykernel_22472\\373377676.py:27: FutureWarning: pandas.io.json.json_normalize is deprecated, use pandas.json_normalize instead.\n",
      "  books = json_normalize(results[\"results\"][\"books\"])\n"
     ]
    },
    {
     "name": "stdout",
     "output_type": "stream",
     "text": [
      "2017-05-01\n",
      "https://api.nytimes.com/svc/books/v3/lists/2017-05-01/combined-print-and-e-book-fiction?api-key=P1yDSg62Aydsdh04WBBuS57pYbpBu2tb\n"
     ]
    },
    {
     "name": "stderr",
     "output_type": "stream",
     "text": [
      "C:\\Users\\melan\\AppData\\Local\\Temp\\ipykernel_22472\\373377676.py:27: FutureWarning: pandas.io.json.json_normalize is deprecated, use pandas.json_normalize instead.\n",
      "  books = json_normalize(results[\"results\"][\"books\"])\n"
     ]
    },
    {
     "name": "stdout",
     "output_type": "stream",
     "text": [
      "2017-04-24\n",
      "https://api.nytimes.com/svc/books/v3/lists/2017-04-24/combined-print-and-e-book-fiction?api-key=P1yDSg62Aydsdh04WBBuS57pYbpBu2tb\n"
     ]
    },
    {
     "name": "stderr",
     "output_type": "stream",
     "text": [
      "C:\\Users\\melan\\AppData\\Local\\Temp\\ipykernel_22472\\373377676.py:27: FutureWarning: pandas.io.json.json_normalize is deprecated, use pandas.json_normalize instead.\n",
      "  books = json_normalize(results[\"results\"][\"books\"])\n"
     ]
    },
    {
     "name": "stdout",
     "output_type": "stream",
     "text": [
      "2017-04-17\n",
      "https://api.nytimes.com/svc/books/v3/lists/2017-04-17/combined-print-and-e-book-fiction?api-key=P1yDSg62Aydsdh04WBBuS57pYbpBu2tb\n"
     ]
    },
    {
     "name": "stderr",
     "output_type": "stream",
     "text": [
      "C:\\Users\\melan\\AppData\\Local\\Temp\\ipykernel_22472\\373377676.py:27: FutureWarning: pandas.io.json.json_normalize is deprecated, use pandas.json_normalize instead.\n",
      "  books = json_normalize(results[\"results\"][\"books\"])\n"
     ]
    },
    {
     "name": "stdout",
     "output_type": "stream",
     "text": [
      "2017-04-10\n",
      "https://api.nytimes.com/svc/books/v3/lists/2017-04-10/combined-print-and-e-book-fiction?api-key=P1yDSg62Aydsdh04WBBuS57pYbpBu2tb\n"
     ]
    },
    {
     "name": "stderr",
     "output_type": "stream",
     "text": [
      "C:\\Users\\melan\\AppData\\Local\\Temp\\ipykernel_22472\\373377676.py:27: FutureWarning: pandas.io.json.json_normalize is deprecated, use pandas.json_normalize instead.\n",
      "  books = json_normalize(results[\"results\"][\"books\"])\n"
     ]
    },
    {
     "name": "stdout",
     "output_type": "stream",
     "text": [
      "2017-04-03\n",
      "https://api.nytimes.com/svc/books/v3/lists/2017-04-03/combined-print-and-e-book-fiction?api-key=P1yDSg62Aydsdh04WBBuS57pYbpBu2tb\n"
     ]
    },
    {
     "name": "stderr",
     "output_type": "stream",
     "text": [
      "C:\\Users\\melan\\AppData\\Local\\Temp\\ipykernel_22472\\373377676.py:27: FutureWarning: pandas.io.json.json_normalize is deprecated, use pandas.json_normalize instead.\n",
      "  books = json_normalize(results[\"results\"][\"books\"])\n"
     ]
    },
    {
     "name": "stdout",
     "output_type": "stream",
     "text": [
      "2017-03-27\n",
      "https://api.nytimes.com/svc/books/v3/lists/2017-03-27/combined-print-and-e-book-fiction?api-key=P1yDSg62Aydsdh04WBBuS57pYbpBu2tb\n"
     ]
    },
    {
     "name": "stderr",
     "output_type": "stream",
     "text": [
      "C:\\Users\\melan\\AppData\\Local\\Temp\\ipykernel_22472\\373377676.py:27: FutureWarning: pandas.io.json.json_normalize is deprecated, use pandas.json_normalize instead.\n",
      "  books = json_normalize(results[\"results\"][\"books\"])\n"
     ]
    },
    {
     "name": "stdout",
     "output_type": "stream",
     "text": [
      "2017-03-20\n",
      "https://api.nytimes.com/svc/books/v3/lists/2017-03-20/combined-print-and-e-book-fiction?api-key=P1yDSg62Aydsdh04WBBuS57pYbpBu2tb\n"
     ]
    },
    {
     "name": "stderr",
     "output_type": "stream",
     "text": [
      "C:\\Users\\melan\\AppData\\Local\\Temp\\ipykernel_22472\\373377676.py:27: FutureWarning: pandas.io.json.json_normalize is deprecated, use pandas.json_normalize instead.\n",
      "  books = json_normalize(results[\"results\"][\"books\"])\n"
     ]
    },
    {
     "name": "stdout",
     "output_type": "stream",
     "text": [
      "2017-03-13\n",
      "https://api.nytimes.com/svc/books/v3/lists/2017-03-13/combined-print-and-e-book-fiction?api-key=P1yDSg62Aydsdh04WBBuS57pYbpBu2tb\n"
     ]
    },
    {
     "name": "stderr",
     "output_type": "stream",
     "text": [
      "C:\\Users\\melan\\AppData\\Local\\Temp\\ipykernel_22472\\373377676.py:27: FutureWarning: pandas.io.json.json_normalize is deprecated, use pandas.json_normalize instead.\n",
      "  books = json_normalize(results[\"results\"][\"books\"])\n"
     ]
    },
    {
     "name": "stdout",
     "output_type": "stream",
     "text": [
      "2017-03-06\n",
      "https://api.nytimes.com/svc/books/v3/lists/2017-03-06/combined-print-and-e-book-fiction?api-key=P1yDSg62Aydsdh04WBBuS57pYbpBu2tb\n"
     ]
    },
    {
     "name": "stderr",
     "output_type": "stream",
     "text": [
      "C:\\Users\\melan\\AppData\\Local\\Temp\\ipykernel_22472\\373377676.py:27: FutureWarning: pandas.io.json.json_normalize is deprecated, use pandas.json_normalize instead.\n",
      "  books = json_normalize(results[\"results\"][\"books\"])\n"
     ]
    },
    {
     "name": "stdout",
     "output_type": "stream",
     "text": [
      "2017-02-27\n",
      "https://api.nytimes.com/svc/books/v3/lists/2017-02-27/combined-print-and-e-book-fiction?api-key=P1yDSg62Aydsdh04WBBuS57pYbpBu2tb\n"
     ]
    },
    {
     "name": "stderr",
     "output_type": "stream",
     "text": [
      "C:\\Users\\melan\\AppData\\Local\\Temp\\ipykernel_22472\\373377676.py:27: FutureWarning: pandas.io.json.json_normalize is deprecated, use pandas.json_normalize instead.\n",
      "  books = json_normalize(results[\"results\"][\"books\"])\n"
     ]
    },
    {
     "name": "stdout",
     "output_type": "stream",
     "text": [
      "2017-02-20\n",
      "https://api.nytimes.com/svc/books/v3/lists/2017-02-20/combined-print-and-e-book-fiction?api-key=P1yDSg62Aydsdh04WBBuS57pYbpBu2tb\n"
     ]
    },
    {
     "name": "stderr",
     "output_type": "stream",
     "text": [
      "C:\\Users\\melan\\AppData\\Local\\Temp\\ipykernel_22472\\373377676.py:27: FutureWarning: pandas.io.json.json_normalize is deprecated, use pandas.json_normalize instead.\n",
      "  books = json_normalize(results[\"results\"][\"books\"])\n"
     ]
    },
    {
     "name": "stdout",
     "output_type": "stream",
     "text": [
      "2017-02-13\n",
      "https://api.nytimes.com/svc/books/v3/lists/2017-02-13/combined-print-and-e-book-fiction?api-key=P1yDSg62Aydsdh04WBBuS57pYbpBu2tb\n"
     ]
    },
    {
     "name": "stderr",
     "output_type": "stream",
     "text": [
      "C:\\Users\\melan\\AppData\\Local\\Temp\\ipykernel_22472\\373377676.py:27: FutureWarning: pandas.io.json.json_normalize is deprecated, use pandas.json_normalize instead.\n",
      "  books = json_normalize(results[\"results\"][\"books\"])\n"
     ]
    },
    {
     "name": "stdout",
     "output_type": "stream",
     "text": [
      "2017-02-06\n",
      "https://api.nytimes.com/svc/books/v3/lists/2017-02-06/combined-print-and-e-book-fiction?api-key=P1yDSg62Aydsdh04WBBuS57pYbpBu2tb\n"
     ]
    },
    {
     "name": "stderr",
     "output_type": "stream",
     "text": [
      "C:\\Users\\melan\\AppData\\Local\\Temp\\ipykernel_22472\\373377676.py:27: FutureWarning: pandas.io.json.json_normalize is deprecated, use pandas.json_normalize instead.\n",
      "  books = json_normalize(results[\"results\"][\"books\"])\n"
     ]
    },
    {
     "name": "stdout",
     "output_type": "stream",
     "text": [
      "2017-01-30\n",
      "https://api.nytimes.com/svc/books/v3/lists/2017-01-30/combined-print-and-e-book-fiction?api-key=P1yDSg62Aydsdh04WBBuS57pYbpBu2tb\n"
     ]
    },
    {
     "name": "stderr",
     "output_type": "stream",
     "text": [
      "C:\\Users\\melan\\AppData\\Local\\Temp\\ipykernel_22472\\373377676.py:27: FutureWarning: pandas.io.json.json_normalize is deprecated, use pandas.json_normalize instead.\n",
      "  books = json_normalize(results[\"results\"][\"books\"])\n"
     ]
    },
    {
     "name": "stdout",
     "output_type": "stream",
     "text": [
      "2017-01-23\n",
      "https://api.nytimes.com/svc/books/v3/lists/2017-01-23/combined-print-and-e-book-fiction?api-key=P1yDSg62Aydsdh04WBBuS57pYbpBu2tb\n"
     ]
    },
    {
     "name": "stderr",
     "output_type": "stream",
     "text": [
      "C:\\Users\\melan\\AppData\\Local\\Temp\\ipykernel_22472\\373377676.py:27: FutureWarning: pandas.io.json.json_normalize is deprecated, use pandas.json_normalize instead.\n",
      "  books = json_normalize(results[\"results\"][\"books\"])\n"
     ]
    },
    {
     "name": "stdout",
     "output_type": "stream",
     "text": [
      "2017-01-16\n",
      "https://api.nytimes.com/svc/books/v3/lists/2017-01-16/combined-print-and-e-book-fiction?api-key=P1yDSg62Aydsdh04WBBuS57pYbpBu2tb\n"
     ]
    },
    {
     "name": "stderr",
     "output_type": "stream",
     "text": [
      "C:\\Users\\melan\\AppData\\Local\\Temp\\ipykernel_22472\\373377676.py:27: FutureWarning: pandas.io.json.json_normalize is deprecated, use pandas.json_normalize instead.\n",
      "  books = json_normalize(results[\"results\"][\"books\"])\n"
     ]
    },
    {
     "name": "stdout",
     "output_type": "stream",
     "text": [
      "2017-01-09\n",
      "https://api.nytimes.com/svc/books/v3/lists/2017-01-09/combined-print-and-e-book-fiction?api-key=P1yDSg62Aydsdh04WBBuS57pYbpBu2tb\n"
     ]
    },
    {
     "name": "stderr",
     "output_type": "stream",
     "text": [
      "C:\\Users\\melan\\AppData\\Local\\Temp\\ipykernel_22472\\373377676.py:27: FutureWarning: pandas.io.json.json_normalize is deprecated, use pandas.json_normalize instead.\n",
      "  books = json_normalize(results[\"results\"][\"books\"])\n"
     ]
    },
    {
     "name": "stdout",
     "output_type": "stream",
     "text": [
      "2017-01-02\n",
      "https://api.nytimes.com/svc/books/v3/lists/2017-01-02/combined-print-and-e-book-fiction?api-key=P1yDSg62Aydsdh04WBBuS57pYbpBu2tb\n"
     ]
    },
    {
     "name": "stderr",
     "output_type": "stream",
     "text": [
      "C:\\Users\\melan\\AppData\\Local\\Temp\\ipykernel_22472\\373377676.py:27: FutureWarning: pandas.io.json.json_normalize is deprecated, use pandas.json_normalize instead.\n",
      "  books = json_normalize(results[\"results\"][\"books\"])\n"
     ]
    },
    {
     "name": "stdout",
     "output_type": "stream",
     "text": [
      "2016-12-26\n",
      "https://api.nytimes.com/svc/books/v3/lists/2016-12-26/combined-print-and-e-book-fiction?api-key=P1yDSg62Aydsdh04WBBuS57pYbpBu2tb\n"
     ]
    },
    {
     "name": "stderr",
     "output_type": "stream",
     "text": [
      "C:\\Users\\melan\\AppData\\Local\\Temp\\ipykernel_22472\\373377676.py:27: FutureWarning: pandas.io.json.json_normalize is deprecated, use pandas.json_normalize instead.\n",
      "  books = json_normalize(results[\"results\"][\"books\"])\n"
     ]
    },
    {
     "name": "stdout",
     "output_type": "stream",
     "text": [
      "2016-12-19\n",
      "https://api.nytimes.com/svc/books/v3/lists/2016-12-19/combined-print-and-e-book-fiction?api-key=P1yDSg62Aydsdh04WBBuS57pYbpBu2tb\n"
     ]
    },
    {
     "name": "stderr",
     "output_type": "stream",
     "text": [
      "C:\\Users\\melan\\AppData\\Local\\Temp\\ipykernel_22472\\373377676.py:27: FutureWarning: pandas.io.json.json_normalize is deprecated, use pandas.json_normalize instead.\n",
      "  books = json_normalize(results[\"results\"][\"books\"])\n"
     ]
    },
    {
     "name": "stdout",
     "output_type": "stream",
     "text": [
      "2016-12-12\n",
      "https://api.nytimes.com/svc/books/v3/lists/2016-12-12/combined-print-and-e-book-fiction?api-key=P1yDSg62Aydsdh04WBBuS57pYbpBu2tb\n"
     ]
    },
    {
     "name": "stderr",
     "output_type": "stream",
     "text": [
      "C:\\Users\\melan\\AppData\\Local\\Temp\\ipykernel_22472\\373377676.py:27: FutureWarning: pandas.io.json.json_normalize is deprecated, use pandas.json_normalize instead.\n",
      "  books = json_normalize(results[\"results\"][\"books\"])\n"
     ]
    },
    {
     "name": "stdout",
     "output_type": "stream",
     "text": [
      "2016-12-05\n",
      "https://api.nytimes.com/svc/books/v3/lists/2016-12-05/combined-print-and-e-book-fiction?api-key=P1yDSg62Aydsdh04WBBuS57pYbpBu2tb\n"
     ]
    },
    {
     "name": "stderr",
     "output_type": "stream",
     "text": [
      "C:\\Users\\melan\\AppData\\Local\\Temp\\ipykernel_22472\\373377676.py:27: FutureWarning: pandas.io.json.json_normalize is deprecated, use pandas.json_normalize instead.\n",
      "  books = json_normalize(results[\"results\"][\"books\"])\n"
     ]
    },
    {
     "name": "stdout",
     "output_type": "stream",
     "text": [
      "2016-11-28\n",
      "https://api.nytimes.com/svc/books/v3/lists/2016-11-28/combined-print-and-e-book-fiction?api-key=P1yDSg62Aydsdh04WBBuS57pYbpBu2tb\n"
     ]
    },
    {
     "name": "stderr",
     "output_type": "stream",
     "text": [
      "C:\\Users\\melan\\AppData\\Local\\Temp\\ipykernel_22472\\373377676.py:27: FutureWarning: pandas.io.json.json_normalize is deprecated, use pandas.json_normalize instead.\n",
      "  books = json_normalize(results[\"results\"][\"books\"])\n"
     ]
    },
    {
     "name": "stdout",
     "output_type": "stream",
     "text": [
      "2016-11-21\n",
      "https://api.nytimes.com/svc/books/v3/lists/2016-11-21/combined-print-and-e-book-fiction?api-key=P1yDSg62Aydsdh04WBBuS57pYbpBu2tb\n"
     ]
    },
    {
     "name": "stderr",
     "output_type": "stream",
     "text": [
      "C:\\Users\\melan\\AppData\\Local\\Temp\\ipykernel_22472\\373377676.py:27: FutureWarning: pandas.io.json.json_normalize is deprecated, use pandas.json_normalize instead.\n",
      "  books = json_normalize(results[\"results\"][\"books\"])\n"
     ]
    },
    {
     "name": "stdout",
     "output_type": "stream",
     "text": [
      "2016-11-14\n",
      "https://api.nytimes.com/svc/books/v3/lists/2016-11-14/combined-print-and-e-book-fiction?api-key=P1yDSg62Aydsdh04WBBuS57pYbpBu2tb\n"
     ]
    },
    {
     "name": "stderr",
     "output_type": "stream",
     "text": [
      "C:\\Users\\melan\\AppData\\Local\\Temp\\ipykernel_22472\\373377676.py:27: FutureWarning: pandas.io.json.json_normalize is deprecated, use pandas.json_normalize instead.\n",
      "  books = json_normalize(results[\"results\"][\"books\"])\n"
     ]
    },
    {
     "name": "stdout",
     "output_type": "stream",
     "text": [
      "2016-11-07\n",
      "https://api.nytimes.com/svc/books/v3/lists/2016-11-07/combined-print-and-e-book-fiction?api-key=P1yDSg62Aydsdh04WBBuS57pYbpBu2tb\n"
     ]
    },
    {
     "name": "stderr",
     "output_type": "stream",
     "text": [
      "C:\\Users\\melan\\AppData\\Local\\Temp\\ipykernel_22472\\373377676.py:27: FutureWarning: pandas.io.json.json_normalize is deprecated, use pandas.json_normalize instead.\n",
      "  books = json_normalize(results[\"results\"][\"books\"])\n"
     ]
    },
    {
     "name": "stdout",
     "output_type": "stream",
     "text": [
      "2016-10-31\n",
      "https://api.nytimes.com/svc/books/v3/lists/2016-10-31/combined-print-and-e-book-fiction?api-key=P1yDSg62Aydsdh04WBBuS57pYbpBu2tb\n"
     ]
    },
    {
     "name": "stderr",
     "output_type": "stream",
     "text": [
      "C:\\Users\\melan\\AppData\\Local\\Temp\\ipykernel_22472\\373377676.py:27: FutureWarning: pandas.io.json.json_normalize is deprecated, use pandas.json_normalize instead.\n",
      "  books = json_normalize(results[\"results\"][\"books\"])\n"
     ]
    },
    {
     "name": "stdout",
     "output_type": "stream",
     "text": [
      "2016-10-24\n",
      "https://api.nytimes.com/svc/books/v3/lists/2016-10-24/combined-print-and-e-book-fiction?api-key=P1yDSg62Aydsdh04WBBuS57pYbpBu2tb\n"
     ]
    },
    {
     "name": "stderr",
     "output_type": "stream",
     "text": [
      "C:\\Users\\melan\\AppData\\Local\\Temp\\ipykernel_22472\\373377676.py:27: FutureWarning: pandas.io.json.json_normalize is deprecated, use pandas.json_normalize instead.\n",
      "  books = json_normalize(results[\"results\"][\"books\"])\n"
     ]
    },
    {
     "name": "stdout",
     "output_type": "stream",
     "text": [
      "2016-10-17\n",
      "https://api.nytimes.com/svc/books/v3/lists/2016-10-17/combined-print-and-e-book-fiction?api-key=P1yDSg62Aydsdh04WBBuS57pYbpBu2tb\n"
     ]
    },
    {
     "name": "stderr",
     "output_type": "stream",
     "text": [
      "C:\\Users\\melan\\AppData\\Local\\Temp\\ipykernel_22472\\373377676.py:27: FutureWarning: pandas.io.json.json_normalize is deprecated, use pandas.json_normalize instead.\n",
      "  books = json_normalize(results[\"results\"][\"books\"])\n"
     ]
    },
    {
     "name": "stdout",
     "output_type": "stream",
     "text": [
      "2016-10-10\n",
      "https://api.nytimes.com/svc/books/v3/lists/2016-10-10/combined-print-and-e-book-fiction?api-key=P1yDSg62Aydsdh04WBBuS57pYbpBu2tb\n"
     ]
    },
    {
     "name": "stderr",
     "output_type": "stream",
     "text": [
      "C:\\Users\\melan\\AppData\\Local\\Temp\\ipykernel_22472\\373377676.py:27: FutureWarning: pandas.io.json.json_normalize is deprecated, use pandas.json_normalize instead.\n",
      "  books = json_normalize(results[\"results\"][\"books\"])\n"
     ]
    },
    {
     "name": "stdout",
     "output_type": "stream",
     "text": [
      "2016-10-03\n",
      "https://api.nytimes.com/svc/books/v3/lists/2016-10-03/combined-print-and-e-book-fiction?api-key=P1yDSg62Aydsdh04WBBuS57pYbpBu2tb\n"
     ]
    },
    {
     "name": "stderr",
     "output_type": "stream",
     "text": [
      "C:\\Users\\melan\\AppData\\Local\\Temp\\ipykernel_22472\\373377676.py:27: FutureWarning: pandas.io.json.json_normalize is deprecated, use pandas.json_normalize instead.\n",
      "  books = json_normalize(results[\"results\"][\"books\"])\n"
     ]
    },
    {
     "name": "stdout",
     "output_type": "stream",
     "text": [
      "2016-09-26\n",
      "https://api.nytimes.com/svc/books/v3/lists/2016-09-26/combined-print-and-e-book-fiction?api-key=P1yDSg62Aydsdh04WBBuS57pYbpBu2tb\n"
     ]
    },
    {
     "name": "stderr",
     "output_type": "stream",
     "text": [
      "C:\\Users\\melan\\AppData\\Local\\Temp\\ipykernel_22472\\373377676.py:27: FutureWarning: pandas.io.json.json_normalize is deprecated, use pandas.json_normalize instead.\n",
      "  books = json_normalize(results[\"results\"][\"books\"])\n"
     ]
    },
    {
     "name": "stdout",
     "output_type": "stream",
     "text": [
      "2016-09-19\n",
      "https://api.nytimes.com/svc/books/v3/lists/2016-09-19/combined-print-and-e-book-fiction?api-key=P1yDSg62Aydsdh04WBBuS57pYbpBu2tb\n"
     ]
    },
    {
     "name": "stderr",
     "output_type": "stream",
     "text": [
      "C:\\Users\\melan\\AppData\\Local\\Temp\\ipykernel_22472\\373377676.py:27: FutureWarning: pandas.io.json.json_normalize is deprecated, use pandas.json_normalize instead.\n",
      "  books = json_normalize(results[\"results\"][\"books\"])\n"
     ]
    },
    {
     "name": "stdout",
     "output_type": "stream",
     "text": [
      "2016-09-12\n",
      "https://api.nytimes.com/svc/books/v3/lists/2016-09-12/combined-print-and-e-book-fiction?api-key=P1yDSg62Aydsdh04WBBuS57pYbpBu2tb\n"
     ]
    },
    {
     "name": "stderr",
     "output_type": "stream",
     "text": [
      "C:\\Users\\melan\\AppData\\Local\\Temp\\ipykernel_22472\\373377676.py:27: FutureWarning: pandas.io.json.json_normalize is deprecated, use pandas.json_normalize instead.\n",
      "  books = json_normalize(results[\"results\"][\"books\"])\n"
     ]
    },
    {
     "name": "stdout",
     "output_type": "stream",
     "text": [
      "2016-09-05\n",
      "https://api.nytimes.com/svc/books/v3/lists/2016-09-05/combined-print-and-e-book-fiction?api-key=P1yDSg62Aydsdh04WBBuS57pYbpBu2tb\n"
     ]
    },
    {
     "name": "stderr",
     "output_type": "stream",
     "text": [
      "C:\\Users\\melan\\AppData\\Local\\Temp\\ipykernel_22472\\373377676.py:27: FutureWarning: pandas.io.json.json_normalize is deprecated, use pandas.json_normalize instead.\n",
      "  books = json_normalize(results[\"results\"][\"books\"])\n"
     ]
    },
    {
     "name": "stdout",
     "output_type": "stream",
     "text": [
      "2016-08-29\n",
      "https://api.nytimes.com/svc/books/v3/lists/2016-08-29/combined-print-and-e-book-fiction?api-key=P1yDSg62Aydsdh04WBBuS57pYbpBu2tb\n"
     ]
    },
    {
     "name": "stderr",
     "output_type": "stream",
     "text": [
      "C:\\Users\\melan\\AppData\\Local\\Temp\\ipykernel_22472\\373377676.py:27: FutureWarning: pandas.io.json.json_normalize is deprecated, use pandas.json_normalize instead.\n",
      "  books = json_normalize(results[\"results\"][\"books\"])\n"
     ]
    },
    {
     "name": "stdout",
     "output_type": "stream",
     "text": [
      "2016-08-22\n",
      "https://api.nytimes.com/svc/books/v3/lists/2016-08-22/combined-print-and-e-book-fiction?api-key=P1yDSg62Aydsdh04WBBuS57pYbpBu2tb\n"
     ]
    },
    {
     "name": "stderr",
     "output_type": "stream",
     "text": [
      "C:\\Users\\melan\\AppData\\Local\\Temp\\ipykernel_22472\\373377676.py:27: FutureWarning: pandas.io.json.json_normalize is deprecated, use pandas.json_normalize instead.\n",
      "  books = json_normalize(results[\"results\"][\"books\"])\n"
     ]
    },
    {
     "name": "stdout",
     "output_type": "stream",
     "text": [
      "2016-08-15\n",
      "https://api.nytimes.com/svc/books/v3/lists/2016-08-15/combined-print-and-e-book-fiction?api-key=P1yDSg62Aydsdh04WBBuS57pYbpBu2tb\n"
     ]
    },
    {
     "name": "stderr",
     "output_type": "stream",
     "text": [
      "C:\\Users\\melan\\AppData\\Local\\Temp\\ipykernel_22472\\373377676.py:27: FutureWarning: pandas.io.json.json_normalize is deprecated, use pandas.json_normalize instead.\n",
      "  books = json_normalize(results[\"results\"][\"books\"])\n"
     ]
    },
    {
     "name": "stdout",
     "output_type": "stream",
     "text": [
      "2016-08-08\n",
      "https://api.nytimes.com/svc/books/v3/lists/2016-08-08/combined-print-and-e-book-fiction?api-key=P1yDSg62Aydsdh04WBBuS57pYbpBu2tb\n"
     ]
    },
    {
     "name": "stderr",
     "output_type": "stream",
     "text": [
      "C:\\Users\\melan\\AppData\\Local\\Temp\\ipykernel_22472\\373377676.py:27: FutureWarning: pandas.io.json.json_normalize is deprecated, use pandas.json_normalize instead.\n",
      "  books = json_normalize(results[\"results\"][\"books\"])\n"
     ]
    },
    {
     "name": "stdout",
     "output_type": "stream",
     "text": [
      "2016-08-01\n",
      "https://api.nytimes.com/svc/books/v3/lists/2016-08-01/combined-print-and-e-book-fiction?api-key=P1yDSg62Aydsdh04WBBuS57pYbpBu2tb\n"
     ]
    },
    {
     "name": "stderr",
     "output_type": "stream",
     "text": [
      "C:\\Users\\melan\\AppData\\Local\\Temp\\ipykernel_22472\\373377676.py:27: FutureWarning: pandas.io.json.json_normalize is deprecated, use pandas.json_normalize instead.\n",
      "  books = json_normalize(results[\"results\"][\"books\"])\n"
     ]
    },
    {
     "name": "stdout",
     "output_type": "stream",
     "text": [
      "2016-07-25\n",
      "https://api.nytimes.com/svc/books/v3/lists/2016-07-25/combined-print-and-e-book-fiction?api-key=P1yDSg62Aydsdh04WBBuS57pYbpBu2tb\n"
     ]
    },
    {
     "name": "stderr",
     "output_type": "stream",
     "text": [
      "C:\\Users\\melan\\AppData\\Local\\Temp\\ipykernel_22472\\373377676.py:27: FutureWarning: pandas.io.json.json_normalize is deprecated, use pandas.json_normalize instead.\n",
      "  books = json_normalize(results[\"results\"][\"books\"])\n"
     ]
    },
    {
     "name": "stdout",
     "output_type": "stream",
     "text": [
      "2016-07-18\n",
      "https://api.nytimes.com/svc/books/v3/lists/2016-07-18/combined-print-and-e-book-fiction?api-key=P1yDSg62Aydsdh04WBBuS57pYbpBu2tb\n"
     ]
    },
    {
     "name": "stderr",
     "output_type": "stream",
     "text": [
      "C:\\Users\\melan\\AppData\\Local\\Temp\\ipykernel_22472\\373377676.py:27: FutureWarning: pandas.io.json.json_normalize is deprecated, use pandas.json_normalize instead.\n",
      "  books = json_normalize(results[\"results\"][\"books\"])\n"
     ]
    },
    {
     "name": "stdout",
     "output_type": "stream",
     "text": [
      "2016-07-11\n",
      "https://api.nytimes.com/svc/books/v3/lists/2016-07-11/combined-print-and-e-book-fiction?api-key=P1yDSg62Aydsdh04WBBuS57pYbpBu2tb\n"
     ]
    },
    {
     "name": "stderr",
     "output_type": "stream",
     "text": [
      "C:\\Users\\melan\\AppData\\Local\\Temp\\ipykernel_22472\\373377676.py:27: FutureWarning: pandas.io.json.json_normalize is deprecated, use pandas.json_normalize instead.\n",
      "  books = json_normalize(results[\"results\"][\"books\"])\n"
     ]
    },
    {
     "name": "stdout",
     "output_type": "stream",
     "text": [
      "2016-07-04\n",
      "https://api.nytimes.com/svc/books/v3/lists/2016-07-04/combined-print-and-e-book-fiction?api-key=P1yDSg62Aydsdh04WBBuS57pYbpBu2tb\n"
     ]
    },
    {
     "name": "stderr",
     "output_type": "stream",
     "text": [
      "C:\\Users\\melan\\AppData\\Local\\Temp\\ipykernel_22472\\373377676.py:27: FutureWarning: pandas.io.json.json_normalize is deprecated, use pandas.json_normalize instead.\n",
      "  books = json_normalize(results[\"results\"][\"books\"])\n"
     ]
    },
    {
     "name": "stdout",
     "output_type": "stream",
     "text": [
      "2016-06-27\n",
      "https://api.nytimes.com/svc/books/v3/lists/2016-06-27/combined-print-and-e-book-fiction?api-key=P1yDSg62Aydsdh04WBBuS57pYbpBu2tb\n"
     ]
    },
    {
     "name": "stderr",
     "output_type": "stream",
     "text": [
      "C:\\Users\\melan\\AppData\\Local\\Temp\\ipykernel_22472\\373377676.py:27: FutureWarning: pandas.io.json.json_normalize is deprecated, use pandas.json_normalize instead.\n",
      "  books = json_normalize(results[\"results\"][\"books\"])\n"
     ]
    },
    {
     "name": "stdout",
     "output_type": "stream",
     "text": [
      "2016-06-20\n",
      "https://api.nytimes.com/svc/books/v3/lists/2016-06-20/combined-print-and-e-book-fiction?api-key=P1yDSg62Aydsdh04WBBuS57pYbpBu2tb\n"
     ]
    },
    {
     "name": "stderr",
     "output_type": "stream",
     "text": [
      "C:\\Users\\melan\\AppData\\Local\\Temp\\ipykernel_22472\\373377676.py:27: FutureWarning: pandas.io.json.json_normalize is deprecated, use pandas.json_normalize instead.\n",
      "  books = json_normalize(results[\"results\"][\"books\"])\n"
     ]
    },
    {
     "name": "stdout",
     "output_type": "stream",
     "text": [
      "2016-06-13\n",
      "https://api.nytimes.com/svc/books/v3/lists/2016-06-13/combined-print-and-e-book-fiction?api-key=P1yDSg62Aydsdh04WBBuS57pYbpBu2tb\n"
     ]
    },
    {
     "name": "stderr",
     "output_type": "stream",
     "text": [
      "C:\\Users\\melan\\AppData\\Local\\Temp\\ipykernel_22472\\373377676.py:27: FutureWarning: pandas.io.json.json_normalize is deprecated, use pandas.json_normalize instead.\n",
      "  books = json_normalize(results[\"results\"][\"books\"])\n"
     ]
    },
    {
     "name": "stdout",
     "output_type": "stream",
     "text": [
      "2016-06-06\n",
      "https://api.nytimes.com/svc/books/v3/lists/2016-06-06/combined-print-and-e-book-fiction?api-key=P1yDSg62Aydsdh04WBBuS57pYbpBu2tb\n"
     ]
    },
    {
     "name": "stderr",
     "output_type": "stream",
     "text": [
      "C:\\Users\\melan\\AppData\\Local\\Temp\\ipykernel_22472\\373377676.py:27: FutureWarning: pandas.io.json.json_normalize is deprecated, use pandas.json_normalize instead.\n",
      "  books = json_normalize(results[\"results\"][\"books\"])\n"
     ]
    },
    {
     "name": "stdout",
     "output_type": "stream",
     "text": [
      "2016-05-30\n",
      "https://api.nytimes.com/svc/books/v3/lists/2016-05-30/combined-print-and-e-book-fiction?api-key=P1yDSg62Aydsdh04WBBuS57pYbpBu2tb\n"
     ]
    },
    {
     "name": "stderr",
     "output_type": "stream",
     "text": [
      "C:\\Users\\melan\\AppData\\Local\\Temp\\ipykernel_22472\\373377676.py:27: FutureWarning: pandas.io.json.json_normalize is deprecated, use pandas.json_normalize instead.\n",
      "  books = json_normalize(results[\"results\"][\"books\"])\n"
     ]
    },
    {
     "name": "stdout",
     "output_type": "stream",
     "text": [
      "2016-05-23\n",
      "https://api.nytimes.com/svc/books/v3/lists/2016-05-23/combined-print-and-e-book-fiction?api-key=P1yDSg62Aydsdh04WBBuS57pYbpBu2tb\n"
     ]
    },
    {
     "name": "stderr",
     "output_type": "stream",
     "text": [
      "C:\\Users\\melan\\AppData\\Local\\Temp\\ipykernel_22472\\373377676.py:27: FutureWarning: pandas.io.json.json_normalize is deprecated, use pandas.json_normalize instead.\n",
      "  books = json_normalize(results[\"results\"][\"books\"])\n"
     ]
    },
    {
     "name": "stdout",
     "output_type": "stream",
     "text": [
      "2016-05-16\n",
      "https://api.nytimes.com/svc/books/v3/lists/2016-05-16/combined-print-and-e-book-fiction?api-key=P1yDSg62Aydsdh04WBBuS57pYbpBu2tb\n"
     ]
    },
    {
     "name": "stderr",
     "output_type": "stream",
     "text": [
      "C:\\Users\\melan\\AppData\\Local\\Temp\\ipykernel_22472\\373377676.py:27: FutureWarning: pandas.io.json.json_normalize is deprecated, use pandas.json_normalize instead.\n",
      "  books = json_normalize(results[\"results\"][\"books\"])\n"
     ]
    },
    {
     "name": "stdout",
     "output_type": "stream",
     "text": [
      "2016-05-09\n",
      "https://api.nytimes.com/svc/books/v3/lists/2016-05-09/combined-print-and-e-book-fiction?api-key=P1yDSg62Aydsdh04WBBuS57pYbpBu2tb\n"
     ]
    },
    {
     "name": "stderr",
     "output_type": "stream",
     "text": [
      "C:\\Users\\melan\\AppData\\Local\\Temp\\ipykernel_22472\\373377676.py:27: FutureWarning: pandas.io.json.json_normalize is deprecated, use pandas.json_normalize instead.\n",
      "  books = json_normalize(results[\"results\"][\"books\"])\n"
     ]
    },
    {
     "name": "stdout",
     "output_type": "stream",
     "text": [
      "2016-05-02\n",
      "https://api.nytimes.com/svc/books/v3/lists/2016-05-02/combined-print-and-e-book-fiction?api-key=P1yDSg62Aydsdh04WBBuS57pYbpBu2tb\n"
     ]
    },
    {
     "name": "stderr",
     "output_type": "stream",
     "text": [
      "C:\\Users\\melan\\AppData\\Local\\Temp\\ipykernel_22472\\373377676.py:27: FutureWarning: pandas.io.json.json_normalize is deprecated, use pandas.json_normalize instead.\n",
      "  books = json_normalize(results[\"results\"][\"books\"])\n"
     ]
    },
    {
     "name": "stdout",
     "output_type": "stream",
     "text": [
      "2016-04-25\n",
      "https://api.nytimes.com/svc/books/v3/lists/2016-04-25/combined-print-and-e-book-fiction?api-key=P1yDSg62Aydsdh04WBBuS57pYbpBu2tb\n"
     ]
    },
    {
     "name": "stderr",
     "output_type": "stream",
     "text": [
      "C:\\Users\\melan\\AppData\\Local\\Temp\\ipykernel_22472\\373377676.py:27: FutureWarning: pandas.io.json.json_normalize is deprecated, use pandas.json_normalize instead.\n",
      "  books = json_normalize(results[\"results\"][\"books\"])\n"
     ]
    },
    {
     "name": "stdout",
     "output_type": "stream",
     "text": [
      "2016-04-18\n",
      "https://api.nytimes.com/svc/books/v3/lists/2016-04-18/combined-print-and-e-book-fiction?api-key=P1yDSg62Aydsdh04WBBuS57pYbpBu2tb\n"
     ]
    },
    {
     "name": "stderr",
     "output_type": "stream",
     "text": [
      "C:\\Users\\melan\\AppData\\Local\\Temp\\ipykernel_22472\\373377676.py:27: FutureWarning: pandas.io.json.json_normalize is deprecated, use pandas.json_normalize instead.\n",
      "  books = json_normalize(results[\"results\"][\"books\"])\n"
     ]
    },
    {
     "name": "stdout",
     "output_type": "stream",
     "text": [
      "2016-04-11\n",
      "https://api.nytimes.com/svc/books/v3/lists/2016-04-11/combined-print-and-e-book-fiction?api-key=P1yDSg62Aydsdh04WBBuS57pYbpBu2tb\n"
     ]
    },
    {
     "name": "stderr",
     "output_type": "stream",
     "text": [
      "C:\\Users\\melan\\AppData\\Local\\Temp\\ipykernel_22472\\373377676.py:27: FutureWarning: pandas.io.json.json_normalize is deprecated, use pandas.json_normalize instead.\n",
      "  books = json_normalize(results[\"results\"][\"books\"])\n"
     ]
    },
    {
     "name": "stdout",
     "output_type": "stream",
     "text": [
      "2016-04-04\n",
      "https://api.nytimes.com/svc/books/v3/lists/2016-04-04/combined-print-and-e-book-fiction?api-key=P1yDSg62Aydsdh04WBBuS57pYbpBu2tb\n"
     ]
    },
    {
     "name": "stderr",
     "output_type": "stream",
     "text": [
      "C:\\Users\\melan\\AppData\\Local\\Temp\\ipykernel_22472\\373377676.py:27: FutureWarning: pandas.io.json.json_normalize is deprecated, use pandas.json_normalize instead.\n",
      "  books = json_normalize(results[\"results\"][\"books\"])\n"
     ]
    },
    {
     "name": "stdout",
     "output_type": "stream",
     "text": [
      "2016-03-28\n",
      "https://api.nytimes.com/svc/books/v3/lists/2016-03-28/combined-print-and-e-book-fiction?api-key=P1yDSg62Aydsdh04WBBuS57pYbpBu2tb\n"
     ]
    },
    {
     "name": "stderr",
     "output_type": "stream",
     "text": [
      "C:\\Users\\melan\\AppData\\Local\\Temp\\ipykernel_22472\\373377676.py:27: FutureWarning: pandas.io.json.json_normalize is deprecated, use pandas.json_normalize instead.\n",
      "  books = json_normalize(results[\"results\"][\"books\"])\n"
     ]
    },
    {
     "name": "stdout",
     "output_type": "stream",
     "text": [
      "2016-03-21\n",
      "https://api.nytimes.com/svc/books/v3/lists/2016-03-21/combined-print-and-e-book-fiction?api-key=P1yDSg62Aydsdh04WBBuS57pYbpBu2tb\n"
     ]
    },
    {
     "name": "stderr",
     "output_type": "stream",
     "text": [
      "C:\\Users\\melan\\AppData\\Local\\Temp\\ipykernel_22472\\373377676.py:27: FutureWarning: pandas.io.json.json_normalize is deprecated, use pandas.json_normalize instead.\n",
      "  books = json_normalize(results[\"results\"][\"books\"])\n"
     ]
    },
    {
     "name": "stdout",
     "output_type": "stream",
     "text": [
      "2016-03-14\n",
      "https://api.nytimes.com/svc/books/v3/lists/2016-03-14/combined-print-and-e-book-fiction?api-key=P1yDSg62Aydsdh04WBBuS57pYbpBu2tb\n"
     ]
    },
    {
     "name": "stderr",
     "output_type": "stream",
     "text": [
      "C:\\Users\\melan\\AppData\\Local\\Temp\\ipykernel_22472\\373377676.py:27: FutureWarning: pandas.io.json.json_normalize is deprecated, use pandas.json_normalize instead.\n",
      "  books = json_normalize(results[\"results\"][\"books\"])\n"
     ]
    },
    {
     "name": "stdout",
     "output_type": "stream",
     "text": [
      "2016-03-07\n",
      "https://api.nytimes.com/svc/books/v3/lists/2016-03-07/combined-print-and-e-book-fiction?api-key=P1yDSg62Aydsdh04WBBuS57pYbpBu2tb\n"
     ]
    },
    {
     "name": "stderr",
     "output_type": "stream",
     "text": [
      "C:\\Users\\melan\\AppData\\Local\\Temp\\ipykernel_22472\\373377676.py:27: FutureWarning: pandas.io.json.json_normalize is deprecated, use pandas.json_normalize instead.\n",
      "  books = json_normalize(results[\"results\"][\"books\"])\n"
     ]
    },
    {
     "name": "stdout",
     "output_type": "stream",
     "text": [
      "2016-02-29\n",
      "https://api.nytimes.com/svc/books/v3/lists/2016-02-29/combined-print-and-e-book-fiction?api-key=P1yDSg62Aydsdh04WBBuS57pYbpBu2tb\n"
     ]
    },
    {
     "name": "stderr",
     "output_type": "stream",
     "text": [
      "C:\\Users\\melan\\AppData\\Local\\Temp\\ipykernel_22472\\373377676.py:27: FutureWarning: pandas.io.json.json_normalize is deprecated, use pandas.json_normalize instead.\n",
      "  books = json_normalize(results[\"results\"][\"books\"])\n"
     ]
    },
    {
     "name": "stdout",
     "output_type": "stream",
     "text": [
      "2016-02-22\n",
      "https://api.nytimes.com/svc/books/v3/lists/2016-02-22/combined-print-and-e-book-fiction?api-key=P1yDSg62Aydsdh04WBBuS57pYbpBu2tb\n"
     ]
    },
    {
     "name": "stderr",
     "output_type": "stream",
     "text": [
      "C:\\Users\\melan\\AppData\\Local\\Temp\\ipykernel_22472\\373377676.py:27: FutureWarning: pandas.io.json.json_normalize is deprecated, use pandas.json_normalize instead.\n",
      "  books = json_normalize(results[\"results\"][\"books\"])\n"
     ]
    },
    {
     "name": "stdout",
     "output_type": "stream",
     "text": [
      "2016-02-15\n",
      "https://api.nytimes.com/svc/books/v3/lists/2016-02-15/combined-print-and-e-book-fiction?api-key=P1yDSg62Aydsdh04WBBuS57pYbpBu2tb\n"
     ]
    },
    {
     "name": "stderr",
     "output_type": "stream",
     "text": [
      "C:\\Users\\melan\\AppData\\Local\\Temp\\ipykernel_22472\\373377676.py:27: FutureWarning: pandas.io.json.json_normalize is deprecated, use pandas.json_normalize instead.\n",
      "  books = json_normalize(results[\"results\"][\"books\"])\n"
     ]
    },
    {
     "name": "stdout",
     "output_type": "stream",
     "text": [
      "2016-02-08\n",
      "https://api.nytimes.com/svc/books/v3/lists/2016-02-08/combined-print-and-e-book-fiction?api-key=P1yDSg62Aydsdh04WBBuS57pYbpBu2tb\n"
     ]
    },
    {
     "name": "stderr",
     "output_type": "stream",
     "text": [
      "C:\\Users\\melan\\AppData\\Local\\Temp\\ipykernel_22472\\373377676.py:27: FutureWarning: pandas.io.json.json_normalize is deprecated, use pandas.json_normalize instead.\n",
      "  books = json_normalize(results[\"results\"][\"books\"])\n"
     ]
    },
    {
     "name": "stdout",
     "output_type": "stream",
     "text": [
      "2016-02-01\n",
      "https://api.nytimes.com/svc/books/v3/lists/2016-02-01/combined-print-and-e-book-fiction?api-key=P1yDSg62Aydsdh04WBBuS57pYbpBu2tb\n"
     ]
    },
    {
     "name": "stderr",
     "output_type": "stream",
     "text": [
      "C:\\Users\\melan\\AppData\\Local\\Temp\\ipykernel_22472\\373377676.py:27: FutureWarning: pandas.io.json.json_normalize is deprecated, use pandas.json_normalize instead.\n",
      "  books = json_normalize(results[\"results\"][\"books\"])\n"
     ]
    },
    {
     "name": "stdout",
     "output_type": "stream",
     "text": [
      "2016-01-25\n",
      "https://api.nytimes.com/svc/books/v3/lists/2016-01-25/combined-print-and-e-book-fiction?api-key=P1yDSg62Aydsdh04WBBuS57pYbpBu2tb\n"
     ]
    },
    {
     "name": "stderr",
     "output_type": "stream",
     "text": [
      "C:\\Users\\melan\\AppData\\Local\\Temp\\ipykernel_22472\\373377676.py:27: FutureWarning: pandas.io.json.json_normalize is deprecated, use pandas.json_normalize instead.\n",
      "  books = json_normalize(results[\"results\"][\"books\"])\n"
     ]
    },
    {
     "name": "stdout",
     "output_type": "stream",
     "text": [
      "2016-01-18\n",
      "https://api.nytimes.com/svc/books/v3/lists/2016-01-18/combined-print-and-e-book-fiction?api-key=P1yDSg62Aydsdh04WBBuS57pYbpBu2tb\n"
     ]
    },
    {
     "name": "stderr",
     "output_type": "stream",
     "text": [
      "C:\\Users\\melan\\AppData\\Local\\Temp\\ipykernel_22472\\373377676.py:27: FutureWarning: pandas.io.json.json_normalize is deprecated, use pandas.json_normalize instead.\n",
      "  books = json_normalize(results[\"results\"][\"books\"])\n"
     ]
    },
    {
     "name": "stdout",
     "output_type": "stream",
     "text": [
      "2016-01-11\n",
      "https://api.nytimes.com/svc/books/v3/lists/2016-01-11/combined-print-and-e-book-fiction?api-key=P1yDSg62Aydsdh04WBBuS57pYbpBu2tb\n"
     ]
    },
    {
     "name": "stderr",
     "output_type": "stream",
     "text": [
      "C:\\Users\\melan\\AppData\\Local\\Temp\\ipykernel_22472\\373377676.py:27: FutureWarning: pandas.io.json.json_normalize is deprecated, use pandas.json_normalize instead.\n",
      "  books = json_normalize(results[\"results\"][\"books\"])\n"
     ]
    },
    {
     "name": "stdout",
     "output_type": "stream",
     "text": [
      "2016-01-04\n",
      "https://api.nytimes.com/svc/books/v3/lists/2016-01-04/combined-print-and-e-book-fiction?api-key=P1yDSg62Aydsdh04WBBuS57pYbpBu2tb\n"
     ]
    },
    {
     "name": "stderr",
     "output_type": "stream",
     "text": [
      "C:\\Users\\melan\\AppData\\Local\\Temp\\ipykernel_22472\\373377676.py:27: FutureWarning: pandas.io.json.json_normalize is deprecated, use pandas.json_normalize instead.\n",
      "  books = json_normalize(results[\"results\"][\"books\"])\n"
     ]
    },
    {
     "name": "stdout",
     "output_type": "stream",
     "text": [
      "2015-12-28\n",
      "https://api.nytimes.com/svc/books/v3/lists/2015-12-28/combined-print-and-e-book-fiction?api-key=P1yDSg62Aydsdh04WBBuS57pYbpBu2tb\n"
     ]
    },
    {
     "name": "stderr",
     "output_type": "stream",
     "text": [
      "C:\\Users\\melan\\AppData\\Local\\Temp\\ipykernel_22472\\373377676.py:27: FutureWarning: pandas.io.json.json_normalize is deprecated, use pandas.json_normalize instead.\n",
      "  books = json_normalize(results[\"results\"][\"books\"])\n"
     ]
    },
    {
     "name": "stdout",
     "output_type": "stream",
     "text": [
      "2015-12-21\n",
      "https://api.nytimes.com/svc/books/v3/lists/2015-12-21/combined-print-and-e-book-fiction?api-key=P1yDSg62Aydsdh04WBBuS57pYbpBu2tb\n"
     ]
    },
    {
     "name": "stderr",
     "output_type": "stream",
     "text": [
      "C:\\Users\\melan\\AppData\\Local\\Temp\\ipykernel_22472\\373377676.py:27: FutureWarning: pandas.io.json.json_normalize is deprecated, use pandas.json_normalize instead.\n",
      "  books = json_normalize(results[\"results\"][\"books\"])\n"
     ]
    },
    {
     "name": "stdout",
     "output_type": "stream",
     "text": [
      "2015-12-14\n",
      "https://api.nytimes.com/svc/books/v3/lists/2015-12-14/combined-print-and-e-book-fiction?api-key=P1yDSg62Aydsdh04WBBuS57pYbpBu2tb\n"
     ]
    },
    {
     "name": "stderr",
     "output_type": "stream",
     "text": [
      "C:\\Users\\melan\\AppData\\Local\\Temp\\ipykernel_22472\\373377676.py:27: FutureWarning: pandas.io.json.json_normalize is deprecated, use pandas.json_normalize instead.\n",
      "  books = json_normalize(results[\"results\"][\"books\"])\n"
     ]
    },
    {
     "name": "stdout",
     "output_type": "stream",
     "text": [
      "2015-12-07\n",
      "https://api.nytimes.com/svc/books/v3/lists/2015-12-07/combined-print-and-e-book-fiction?api-key=P1yDSg62Aydsdh04WBBuS57pYbpBu2tb\n"
     ]
    },
    {
     "name": "stderr",
     "output_type": "stream",
     "text": [
      "C:\\Users\\melan\\AppData\\Local\\Temp\\ipykernel_22472\\373377676.py:27: FutureWarning: pandas.io.json.json_normalize is deprecated, use pandas.json_normalize instead.\n",
      "  books = json_normalize(results[\"results\"][\"books\"])\n"
     ]
    },
    {
     "name": "stdout",
     "output_type": "stream",
     "text": [
      "2015-11-30\n",
      "https://api.nytimes.com/svc/books/v3/lists/2015-11-30/combined-print-and-e-book-fiction?api-key=P1yDSg62Aydsdh04WBBuS57pYbpBu2tb\n"
     ]
    },
    {
     "name": "stderr",
     "output_type": "stream",
     "text": [
      "C:\\Users\\melan\\AppData\\Local\\Temp\\ipykernel_22472\\373377676.py:27: FutureWarning: pandas.io.json.json_normalize is deprecated, use pandas.json_normalize instead.\n",
      "  books = json_normalize(results[\"results\"][\"books\"])\n"
     ]
    },
    {
     "name": "stdout",
     "output_type": "stream",
     "text": [
      "2015-11-23\n",
      "https://api.nytimes.com/svc/books/v3/lists/2015-11-23/combined-print-and-e-book-fiction?api-key=P1yDSg62Aydsdh04WBBuS57pYbpBu2tb\n"
     ]
    },
    {
     "name": "stderr",
     "output_type": "stream",
     "text": [
      "C:\\Users\\melan\\AppData\\Local\\Temp\\ipykernel_22472\\373377676.py:27: FutureWarning: pandas.io.json.json_normalize is deprecated, use pandas.json_normalize instead.\n",
      "  books = json_normalize(results[\"results\"][\"books\"])\n"
     ]
    },
    {
     "name": "stdout",
     "output_type": "stream",
     "text": [
      "2015-11-16\n",
      "https://api.nytimes.com/svc/books/v3/lists/2015-11-16/combined-print-and-e-book-fiction?api-key=P1yDSg62Aydsdh04WBBuS57pYbpBu2tb\n"
     ]
    },
    {
     "name": "stderr",
     "output_type": "stream",
     "text": [
      "C:\\Users\\melan\\AppData\\Local\\Temp\\ipykernel_22472\\373377676.py:27: FutureWarning: pandas.io.json.json_normalize is deprecated, use pandas.json_normalize instead.\n",
      "  books = json_normalize(results[\"results\"][\"books\"])\n"
     ]
    },
    {
     "name": "stdout",
     "output_type": "stream",
     "text": [
      "2015-11-09\n",
      "https://api.nytimes.com/svc/books/v3/lists/2015-11-09/combined-print-and-e-book-fiction?api-key=P1yDSg62Aydsdh04WBBuS57pYbpBu2tb\n"
     ]
    },
    {
     "name": "stderr",
     "output_type": "stream",
     "text": [
      "C:\\Users\\melan\\AppData\\Local\\Temp\\ipykernel_22472\\373377676.py:27: FutureWarning: pandas.io.json.json_normalize is deprecated, use pandas.json_normalize instead.\n",
      "  books = json_normalize(results[\"results\"][\"books\"])\n"
     ]
    },
    {
     "name": "stdout",
     "output_type": "stream",
     "text": [
      "2015-11-02\n",
      "https://api.nytimes.com/svc/books/v3/lists/2015-11-02/combined-print-and-e-book-fiction?api-key=P1yDSg62Aydsdh04WBBuS57pYbpBu2tb\n"
     ]
    },
    {
     "name": "stderr",
     "output_type": "stream",
     "text": [
      "C:\\Users\\melan\\AppData\\Local\\Temp\\ipykernel_22472\\373377676.py:27: FutureWarning: pandas.io.json.json_normalize is deprecated, use pandas.json_normalize instead.\n",
      "  books = json_normalize(results[\"results\"][\"books\"])\n"
     ]
    },
    {
     "name": "stdout",
     "output_type": "stream",
     "text": [
      "2015-10-26\n",
      "https://api.nytimes.com/svc/books/v3/lists/2015-10-26/combined-print-and-e-book-fiction?api-key=P1yDSg62Aydsdh04WBBuS57pYbpBu2tb\n"
     ]
    },
    {
     "name": "stderr",
     "output_type": "stream",
     "text": [
      "C:\\Users\\melan\\AppData\\Local\\Temp\\ipykernel_22472\\373377676.py:27: FutureWarning: pandas.io.json.json_normalize is deprecated, use pandas.json_normalize instead.\n",
      "  books = json_normalize(results[\"results\"][\"books\"])\n"
     ]
    },
    {
     "name": "stdout",
     "output_type": "stream",
     "text": [
      "2015-10-19\n",
      "https://api.nytimes.com/svc/books/v3/lists/2015-10-19/combined-print-and-e-book-fiction?api-key=P1yDSg62Aydsdh04WBBuS57pYbpBu2tb\n"
     ]
    },
    {
     "name": "stderr",
     "output_type": "stream",
     "text": [
      "C:\\Users\\melan\\AppData\\Local\\Temp\\ipykernel_22472\\373377676.py:27: FutureWarning: pandas.io.json.json_normalize is deprecated, use pandas.json_normalize instead.\n",
      "  books = json_normalize(results[\"results\"][\"books\"])\n"
     ]
    },
    {
     "name": "stdout",
     "output_type": "stream",
     "text": [
      "2015-10-12\n",
      "https://api.nytimes.com/svc/books/v3/lists/2015-10-12/combined-print-and-e-book-fiction?api-key=P1yDSg62Aydsdh04WBBuS57pYbpBu2tb\n"
     ]
    },
    {
     "name": "stderr",
     "output_type": "stream",
     "text": [
      "C:\\Users\\melan\\AppData\\Local\\Temp\\ipykernel_22472\\373377676.py:27: FutureWarning: pandas.io.json.json_normalize is deprecated, use pandas.json_normalize instead.\n",
      "  books = json_normalize(results[\"results\"][\"books\"])\n"
     ]
    },
    {
     "name": "stdout",
     "output_type": "stream",
     "text": [
      "2015-10-05\n",
      "https://api.nytimes.com/svc/books/v3/lists/2015-10-05/combined-print-and-e-book-fiction?api-key=P1yDSg62Aydsdh04WBBuS57pYbpBu2tb\n"
     ]
    },
    {
     "name": "stderr",
     "output_type": "stream",
     "text": [
      "C:\\Users\\melan\\AppData\\Local\\Temp\\ipykernel_22472\\373377676.py:27: FutureWarning: pandas.io.json.json_normalize is deprecated, use pandas.json_normalize instead.\n",
      "  books = json_normalize(results[\"results\"][\"books\"])\n"
     ]
    },
    {
     "name": "stdout",
     "output_type": "stream",
     "text": [
      "2015-09-28\n",
      "https://api.nytimes.com/svc/books/v3/lists/2015-09-28/combined-print-and-e-book-fiction?api-key=P1yDSg62Aydsdh04WBBuS57pYbpBu2tb\n"
     ]
    },
    {
     "name": "stderr",
     "output_type": "stream",
     "text": [
      "C:\\Users\\melan\\AppData\\Local\\Temp\\ipykernel_22472\\373377676.py:27: FutureWarning: pandas.io.json.json_normalize is deprecated, use pandas.json_normalize instead.\n",
      "  books = json_normalize(results[\"results\"][\"books\"])\n"
     ]
    },
    {
     "name": "stdout",
     "output_type": "stream",
     "text": [
      "2015-09-21\n",
      "https://api.nytimes.com/svc/books/v3/lists/2015-09-21/combined-print-and-e-book-fiction?api-key=P1yDSg62Aydsdh04WBBuS57pYbpBu2tb\n"
     ]
    },
    {
     "name": "stderr",
     "output_type": "stream",
     "text": [
      "C:\\Users\\melan\\AppData\\Local\\Temp\\ipykernel_22472\\373377676.py:27: FutureWarning: pandas.io.json.json_normalize is deprecated, use pandas.json_normalize instead.\n",
      "  books = json_normalize(results[\"results\"][\"books\"])\n"
     ]
    },
    {
     "name": "stdout",
     "output_type": "stream",
     "text": [
      "2015-09-14\n",
      "https://api.nytimes.com/svc/books/v3/lists/2015-09-14/combined-print-and-e-book-fiction?api-key=P1yDSg62Aydsdh04WBBuS57pYbpBu2tb\n"
     ]
    },
    {
     "name": "stderr",
     "output_type": "stream",
     "text": [
      "C:\\Users\\melan\\AppData\\Local\\Temp\\ipykernel_22472\\373377676.py:27: FutureWarning: pandas.io.json.json_normalize is deprecated, use pandas.json_normalize instead.\n",
      "  books = json_normalize(results[\"results\"][\"books\"])\n"
     ]
    },
    {
     "name": "stdout",
     "output_type": "stream",
     "text": [
      "2015-09-07\n",
      "https://api.nytimes.com/svc/books/v3/lists/2015-09-07/combined-print-and-e-book-fiction?api-key=P1yDSg62Aydsdh04WBBuS57pYbpBu2tb\n"
     ]
    },
    {
     "name": "stderr",
     "output_type": "stream",
     "text": [
      "C:\\Users\\melan\\AppData\\Local\\Temp\\ipykernel_22472\\373377676.py:27: FutureWarning: pandas.io.json.json_normalize is deprecated, use pandas.json_normalize instead.\n",
      "  books = json_normalize(results[\"results\"][\"books\"])\n"
     ]
    },
    {
     "name": "stdout",
     "output_type": "stream",
     "text": [
      "2015-08-31\n",
      "https://api.nytimes.com/svc/books/v3/lists/2015-08-31/combined-print-and-e-book-fiction?api-key=P1yDSg62Aydsdh04WBBuS57pYbpBu2tb\n"
     ]
    },
    {
     "name": "stderr",
     "output_type": "stream",
     "text": [
      "C:\\Users\\melan\\AppData\\Local\\Temp\\ipykernel_22472\\373377676.py:27: FutureWarning: pandas.io.json.json_normalize is deprecated, use pandas.json_normalize instead.\n",
      "  books = json_normalize(results[\"results\"][\"books\"])\n"
     ]
    },
    {
     "name": "stdout",
     "output_type": "stream",
     "text": [
      "2015-08-24\n",
      "https://api.nytimes.com/svc/books/v3/lists/2015-08-24/combined-print-and-e-book-fiction?api-key=P1yDSg62Aydsdh04WBBuS57pYbpBu2tb\n"
     ]
    },
    {
     "name": "stderr",
     "output_type": "stream",
     "text": [
      "C:\\Users\\melan\\AppData\\Local\\Temp\\ipykernel_22472\\373377676.py:27: FutureWarning: pandas.io.json.json_normalize is deprecated, use pandas.json_normalize instead.\n",
      "  books = json_normalize(results[\"results\"][\"books\"])\n"
     ]
    },
    {
     "name": "stdout",
     "output_type": "stream",
     "text": [
      "2015-08-17\n",
      "https://api.nytimes.com/svc/books/v3/lists/2015-08-17/combined-print-and-e-book-fiction?api-key=P1yDSg62Aydsdh04WBBuS57pYbpBu2tb\n"
     ]
    },
    {
     "name": "stderr",
     "output_type": "stream",
     "text": [
      "C:\\Users\\melan\\AppData\\Local\\Temp\\ipykernel_22472\\373377676.py:27: FutureWarning: pandas.io.json.json_normalize is deprecated, use pandas.json_normalize instead.\n",
      "  books = json_normalize(results[\"results\"][\"books\"])\n"
     ]
    },
    {
     "name": "stdout",
     "output_type": "stream",
     "text": [
      "2015-08-10\n",
      "https://api.nytimes.com/svc/books/v3/lists/2015-08-10/combined-print-and-e-book-fiction?api-key=P1yDSg62Aydsdh04WBBuS57pYbpBu2tb\n"
     ]
    },
    {
     "name": "stderr",
     "output_type": "stream",
     "text": [
      "C:\\Users\\melan\\AppData\\Local\\Temp\\ipykernel_22472\\373377676.py:27: FutureWarning: pandas.io.json.json_normalize is deprecated, use pandas.json_normalize instead.\n",
      "  books = json_normalize(results[\"results\"][\"books\"])\n"
     ]
    },
    {
     "name": "stdout",
     "output_type": "stream",
     "text": [
      "2015-08-03\n",
      "https://api.nytimes.com/svc/books/v3/lists/2015-08-03/combined-print-and-e-book-fiction?api-key=P1yDSg62Aydsdh04WBBuS57pYbpBu2tb\n"
     ]
    },
    {
     "name": "stderr",
     "output_type": "stream",
     "text": [
      "C:\\Users\\melan\\AppData\\Local\\Temp\\ipykernel_22472\\373377676.py:27: FutureWarning: pandas.io.json.json_normalize is deprecated, use pandas.json_normalize instead.\n",
      "  books = json_normalize(results[\"results\"][\"books\"])\n"
     ]
    },
    {
     "name": "stdout",
     "output_type": "stream",
     "text": [
      "2015-07-27\n",
      "https://api.nytimes.com/svc/books/v3/lists/2015-07-27/combined-print-and-e-book-fiction?api-key=P1yDSg62Aydsdh04WBBuS57pYbpBu2tb\n"
     ]
    },
    {
     "name": "stderr",
     "output_type": "stream",
     "text": [
      "C:\\Users\\melan\\AppData\\Local\\Temp\\ipykernel_22472\\373377676.py:27: FutureWarning: pandas.io.json.json_normalize is deprecated, use pandas.json_normalize instead.\n",
      "  books = json_normalize(results[\"results\"][\"books\"])\n"
     ]
    },
    {
     "name": "stdout",
     "output_type": "stream",
     "text": [
      "2015-07-20\n",
      "https://api.nytimes.com/svc/books/v3/lists/2015-07-20/combined-print-and-e-book-fiction?api-key=P1yDSg62Aydsdh04WBBuS57pYbpBu2tb\n"
     ]
    },
    {
     "name": "stderr",
     "output_type": "stream",
     "text": [
      "C:\\Users\\melan\\AppData\\Local\\Temp\\ipykernel_22472\\373377676.py:27: FutureWarning: pandas.io.json.json_normalize is deprecated, use pandas.json_normalize instead.\n",
      "  books = json_normalize(results[\"results\"][\"books\"])\n"
     ]
    },
    {
     "name": "stdout",
     "output_type": "stream",
     "text": [
      "2015-07-13\n",
      "https://api.nytimes.com/svc/books/v3/lists/2015-07-13/combined-print-and-e-book-fiction?api-key=P1yDSg62Aydsdh04WBBuS57pYbpBu2tb\n"
     ]
    },
    {
     "name": "stderr",
     "output_type": "stream",
     "text": [
      "C:\\Users\\melan\\AppData\\Local\\Temp\\ipykernel_22472\\373377676.py:27: FutureWarning: pandas.io.json.json_normalize is deprecated, use pandas.json_normalize instead.\n",
      "  books = json_normalize(results[\"results\"][\"books\"])\n"
     ]
    },
    {
     "name": "stdout",
     "output_type": "stream",
     "text": [
      "2015-07-06\n",
      "https://api.nytimes.com/svc/books/v3/lists/2015-07-06/combined-print-and-e-book-fiction?api-key=P1yDSg62Aydsdh04WBBuS57pYbpBu2tb\n"
     ]
    },
    {
     "name": "stderr",
     "output_type": "stream",
     "text": [
      "C:\\Users\\melan\\AppData\\Local\\Temp\\ipykernel_22472\\373377676.py:27: FutureWarning: pandas.io.json.json_normalize is deprecated, use pandas.json_normalize instead.\n",
      "  books = json_normalize(results[\"results\"][\"books\"])\n"
     ]
    },
    {
     "name": "stdout",
     "output_type": "stream",
     "text": [
      "2015-06-29\n",
      "https://api.nytimes.com/svc/books/v3/lists/2015-06-29/combined-print-and-e-book-fiction?api-key=P1yDSg62Aydsdh04WBBuS57pYbpBu2tb\n"
     ]
    },
    {
     "name": "stderr",
     "output_type": "stream",
     "text": [
      "C:\\Users\\melan\\AppData\\Local\\Temp\\ipykernel_22472\\373377676.py:27: FutureWarning: pandas.io.json.json_normalize is deprecated, use pandas.json_normalize instead.\n",
      "  books = json_normalize(results[\"results\"][\"books\"])\n"
     ]
    },
    {
     "name": "stdout",
     "output_type": "stream",
     "text": [
      "2015-06-22\n",
      "https://api.nytimes.com/svc/books/v3/lists/2015-06-22/combined-print-and-e-book-fiction?api-key=P1yDSg62Aydsdh04WBBuS57pYbpBu2tb\n"
     ]
    },
    {
     "name": "stderr",
     "output_type": "stream",
     "text": [
      "C:\\Users\\melan\\AppData\\Local\\Temp\\ipykernel_22472\\373377676.py:27: FutureWarning: pandas.io.json.json_normalize is deprecated, use pandas.json_normalize instead.\n",
      "  books = json_normalize(results[\"results\"][\"books\"])\n"
     ]
    },
    {
     "name": "stdout",
     "output_type": "stream",
     "text": [
      "2015-06-15\n",
      "https://api.nytimes.com/svc/books/v3/lists/2015-06-15/combined-print-and-e-book-fiction?api-key=P1yDSg62Aydsdh04WBBuS57pYbpBu2tb\n"
     ]
    },
    {
     "name": "stderr",
     "output_type": "stream",
     "text": [
      "C:\\Users\\melan\\AppData\\Local\\Temp\\ipykernel_22472\\373377676.py:27: FutureWarning: pandas.io.json.json_normalize is deprecated, use pandas.json_normalize instead.\n",
      "  books = json_normalize(results[\"results\"][\"books\"])\n"
     ]
    },
    {
     "name": "stdout",
     "output_type": "stream",
     "text": [
      "2015-06-08\n",
      "https://api.nytimes.com/svc/books/v3/lists/2015-06-08/combined-print-and-e-book-fiction?api-key=P1yDSg62Aydsdh04WBBuS57pYbpBu2tb\n"
     ]
    },
    {
     "name": "stderr",
     "output_type": "stream",
     "text": [
      "C:\\Users\\melan\\AppData\\Local\\Temp\\ipykernel_22472\\373377676.py:27: FutureWarning: pandas.io.json.json_normalize is deprecated, use pandas.json_normalize instead.\n",
      "  books = json_normalize(results[\"results\"][\"books\"])\n"
     ]
    },
    {
     "name": "stdout",
     "output_type": "stream",
     "text": [
      "2015-06-01\n",
      "https://api.nytimes.com/svc/books/v3/lists/2015-06-01/combined-print-and-e-book-fiction?api-key=P1yDSg62Aydsdh04WBBuS57pYbpBu2tb\n"
     ]
    },
    {
     "name": "stderr",
     "output_type": "stream",
     "text": [
      "C:\\Users\\melan\\AppData\\Local\\Temp\\ipykernel_22472\\373377676.py:27: FutureWarning: pandas.io.json.json_normalize is deprecated, use pandas.json_normalize instead.\n",
      "  books = json_normalize(results[\"results\"][\"books\"])\n"
     ]
    },
    {
     "name": "stdout",
     "output_type": "stream",
     "text": [
      "2015-05-25\n",
      "https://api.nytimes.com/svc/books/v3/lists/2015-05-25/combined-print-and-e-book-fiction?api-key=P1yDSg62Aydsdh04WBBuS57pYbpBu2tb\n"
     ]
    },
    {
     "name": "stderr",
     "output_type": "stream",
     "text": [
      "C:\\Users\\melan\\AppData\\Local\\Temp\\ipykernel_22472\\373377676.py:27: FutureWarning: pandas.io.json.json_normalize is deprecated, use pandas.json_normalize instead.\n",
      "  books = json_normalize(results[\"results\"][\"books\"])\n"
     ]
    },
    {
     "name": "stdout",
     "output_type": "stream",
     "text": [
      "2015-05-18\n",
      "https://api.nytimes.com/svc/books/v3/lists/2015-05-18/combined-print-and-e-book-fiction?api-key=P1yDSg62Aydsdh04WBBuS57pYbpBu2tb\n"
     ]
    },
    {
     "name": "stderr",
     "output_type": "stream",
     "text": [
      "C:\\Users\\melan\\AppData\\Local\\Temp\\ipykernel_22472\\373377676.py:27: FutureWarning: pandas.io.json.json_normalize is deprecated, use pandas.json_normalize instead.\n",
      "  books = json_normalize(results[\"results\"][\"books\"])\n"
     ]
    },
    {
     "name": "stdout",
     "output_type": "stream",
     "text": [
      "2015-05-11\n",
      "https://api.nytimes.com/svc/books/v3/lists/2015-05-11/combined-print-and-e-book-fiction?api-key=P1yDSg62Aydsdh04WBBuS57pYbpBu2tb\n"
     ]
    },
    {
     "name": "stderr",
     "output_type": "stream",
     "text": [
      "C:\\Users\\melan\\AppData\\Local\\Temp\\ipykernel_22472\\373377676.py:27: FutureWarning: pandas.io.json.json_normalize is deprecated, use pandas.json_normalize instead.\n",
      "  books = json_normalize(results[\"results\"][\"books\"])\n"
     ]
    },
    {
     "name": "stdout",
     "output_type": "stream",
     "text": [
      "2015-05-04\n",
      "https://api.nytimes.com/svc/books/v3/lists/2015-05-04/combined-print-and-e-book-fiction?api-key=P1yDSg62Aydsdh04WBBuS57pYbpBu2tb\n"
     ]
    },
    {
     "name": "stderr",
     "output_type": "stream",
     "text": [
      "C:\\Users\\melan\\AppData\\Local\\Temp\\ipykernel_22472\\373377676.py:27: FutureWarning: pandas.io.json.json_normalize is deprecated, use pandas.json_normalize instead.\n",
      "  books = json_normalize(results[\"results\"][\"books\"])\n"
     ]
    },
    {
     "name": "stdout",
     "output_type": "stream",
     "text": [
      "2015-04-27\n",
      "https://api.nytimes.com/svc/books/v3/lists/2015-04-27/combined-print-and-e-book-fiction?api-key=P1yDSg62Aydsdh04WBBuS57pYbpBu2tb\n"
     ]
    },
    {
     "name": "stderr",
     "output_type": "stream",
     "text": [
      "C:\\Users\\melan\\AppData\\Local\\Temp\\ipykernel_22472\\373377676.py:27: FutureWarning: pandas.io.json.json_normalize is deprecated, use pandas.json_normalize instead.\n",
      "  books = json_normalize(results[\"results\"][\"books\"])\n"
     ]
    },
    {
     "name": "stdout",
     "output_type": "stream",
     "text": [
      "2015-04-20\n",
      "https://api.nytimes.com/svc/books/v3/lists/2015-04-20/combined-print-and-e-book-fiction?api-key=P1yDSg62Aydsdh04WBBuS57pYbpBu2tb\n"
     ]
    },
    {
     "name": "stderr",
     "output_type": "stream",
     "text": [
      "C:\\Users\\melan\\AppData\\Local\\Temp\\ipykernel_22472\\373377676.py:27: FutureWarning: pandas.io.json.json_normalize is deprecated, use pandas.json_normalize instead.\n",
      "  books = json_normalize(results[\"results\"][\"books\"])\n"
     ]
    },
    {
     "name": "stdout",
     "output_type": "stream",
     "text": [
      "2015-04-13\n",
      "https://api.nytimes.com/svc/books/v3/lists/2015-04-13/combined-print-and-e-book-fiction?api-key=P1yDSg62Aydsdh04WBBuS57pYbpBu2tb\n"
     ]
    },
    {
     "name": "stderr",
     "output_type": "stream",
     "text": [
      "C:\\Users\\melan\\AppData\\Local\\Temp\\ipykernel_22472\\373377676.py:27: FutureWarning: pandas.io.json.json_normalize is deprecated, use pandas.json_normalize instead.\n",
      "  books = json_normalize(results[\"results\"][\"books\"])\n"
     ]
    },
    {
     "name": "stdout",
     "output_type": "stream",
     "text": [
      "2015-04-06\n",
      "https://api.nytimes.com/svc/books/v3/lists/2015-04-06/combined-print-and-e-book-fiction?api-key=P1yDSg62Aydsdh04WBBuS57pYbpBu2tb\n"
     ]
    },
    {
     "name": "stderr",
     "output_type": "stream",
     "text": [
      "C:\\Users\\melan\\AppData\\Local\\Temp\\ipykernel_22472\\373377676.py:27: FutureWarning: pandas.io.json.json_normalize is deprecated, use pandas.json_normalize instead.\n",
      "  books = json_normalize(results[\"results\"][\"books\"])\n"
     ]
    },
    {
     "name": "stdout",
     "output_type": "stream",
     "text": [
      "2015-03-30\n",
      "https://api.nytimes.com/svc/books/v3/lists/2015-03-30/combined-print-and-e-book-fiction?api-key=P1yDSg62Aydsdh04WBBuS57pYbpBu2tb\n"
     ]
    },
    {
     "name": "stderr",
     "output_type": "stream",
     "text": [
      "C:\\Users\\melan\\AppData\\Local\\Temp\\ipykernel_22472\\373377676.py:27: FutureWarning: pandas.io.json.json_normalize is deprecated, use pandas.json_normalize instead.\n",
      "  books = json_normalize(results[\"results\"][\"books\"])\n"
     ]
    },
    {
     "name": "stdout",
     "output_type": "stream",
     "text": [
      "2015-03-23\n",
      "https://api.nytimes.com/svc/books/v3/lists/2015-03-23/combined-print-and-e-book-fiction?api-key=P1yDSg62Aydsdh04WBBuS57pYbpBu2tb\n"
     ]
    },
    {
     "name": "stderr",
     "output_type": "stream",
     "text": [
      "C:\\Users\\melan\\AppData\\Local\\Temp\\ipykernel_22472\\373377676.py:27: FutureWarning: pandas.io.json.json_normalize is deprecated, use pandas.json_normalize instead.\n",
      "  books = json_normalize(results[\"results\"][\"books\"])\n"
     ]
    },
    {
     "name": "stdout",
     "output_type": "stream",
     "text": [
      "2015-03-16\n",
      "https://api.nytimes.com/svc/books/v3/lists/2015-03-16/combined-print-and-e-book-fiction?api-key=P1yDSg62Aydsdh04WBBuS57pYbpBu2tb\n"
     ]
    },
    {
     "name": "stderr",
     "output_type": "stream",
     "text": [
      "C:\\Users\\melan\\AppData\\Local\\Temp\\ipykernel_22472\\373377676.py:27: FutureWarning: pandas.io.json.json_normalize is deprecated, use pandas.json_normalize instead.\n",
      "  books = json_normalize(results[\"results\"][\"books\"])\n"
     ]
    },
    {
     "name": "stdout",
     "output_type": "stream",
     "text": [
      "2015-03-09\n",
      "https://api.nytimes.com/svc/books/v3/lists/2015-03-09/combined-print-and-e-book-fiction?api-key=P1yDSg62Aydsdh04WBBuS57pYbpBu2tb\n"
     ]
    },
    {
     "name": "stderr",
     "output_type": "stream",
     "text": [
      "C:\\Users\\melan\\AppData\\Local\\Temp\\ipykernel_22472\\373377676.py:27: FutureWarning: pandas.io.json.json_normalize is deprecated, use pandas.json_normalize instead.\n",
      "  books = json_normalize(results[\"results\"][\"books\"])\n"
     ]
    },
    {
     "name": "stdout",
     "output_type": "stream",
     "text": [
      "2015-03-02\n",
      "https://api.nytimes.com/svc/books/v3/lists/2015-03-02/combined-print-and-e-book-fiction?api-key=P1yDSg62Aydsdh04WBBuS57pYbpBu2tb\n"
     ]
    },
    {
     "name": "stderr",
     "output_type": "stream",
     "text": [
      "C:\\Users\\melan\\AppData\\Local\\Temp\\ipykernel_22472\\373377676.py:27: FutureWarning: pandas.io.json.json_normalize is deprecated, use pandas.json_normalize instead.\n",
      "  books = json_normalize(results[\"results\"][\"books\"])\n"
     ]
    },
    {
     "name": "stdout",
     "output_type": "stream",
     "text": [
      "2015-02-23\n",
      "https://api.nytimes.com/svc/books/v3/lists/2015-02-23/combined-print-and-e-book-fiction?api-key=P1yDSg62Aydsdh04WBBuS57pYbpBu2tb\n"
     ]
    },
    {
     "name": "stderr",
     "output_type": "stream",
     "text": [
      "C:\\Users\\melan\\AppData\\Local\\Temp\\ipykernel_22472\\373377676.py:27: FutureWarning: pandas.io.json.json_normalize is deprecated, use pandas.json_normalize instead.\n",
      "  books = json_normalize(results[\"results\"][\"books\"])\n"
     ]
    },
    {
     "name": "stdout",
     "output_type": "stream",
     "text": [
      "2015-02-16\n",
      "https://api.nytimes.com/svc/books/v3/lists/2015-02-16/combined-print-and-e-book-fiction?api-key=P1yDSg62Aydsdh04WBBuS57pYbpBu2tb\n"
     ]
    },
    {
     "name": "stderr",
     "output_type": "stream",
     "text": [
      "C:\\Users\\melan\\AppData\\Local\\Temp\\ipykernel_22472\\373377676.py:27: FutureWarning: pandas.io.json.json_normalize is deprecated, use pandas.json_normalize instead.\n",
      "  books = json_normalize(results[\"results\"][\"books\"])\n"
     ]
    },
    {
     "name": "stdout",
     "output_type": "stream",
     "text": [
      "2015-02-09\n",
      "https://api.nytimes.com/svc/books/v3/lists/2015-02-09/combined-print-and-e-book-fiction?api-key=P1yDSg62Aydsdh04WBBuS57pYbpBu2tb\n"
     ]
    },
    {
     "name": "stderr",
     "output_type": "stream",
     "text": [
      "C:\\Users\\melan\\AppData\\Local\\Temp\\ipykernel_22472\\373377676.py:27: FutureWarning: pandas.io.json.json_normalize is deprecated, use pandas.json_normalize instead.\n",
      "  books = json_normalize(results[\"results\"][\"books\"])\n"
     ]
    },
    {
     "name": "stdout",
     "output_type": "stream",
     "text": [
      "2015-02-02\n",
      "https://api.nytimes.com/svc/books/v3/lists/2015-02-02/combined-print-and-e-book-fiction?api-key=P1yDSg62Aydsdh04WBBuS57pYbpBu2tb\n"
     ]
    },
    {
     "name": "stderr",
     "output_type": "stream",
     "text": [
      "C:\\Users\\melan\\AppData\\Local\\Temp\\ipykernel_22472\\373377676.py:27: FutureWarning: pandas.io.json.json_normalize is deprecated, use pandas.json_normalize instead.\n",
      "  books = json_normalize(results[\"results\"][\"books\"])\n"
     ]
    },
    {
     "name": "stdout",
     "output_type": "stream",
     "text": [
      "2015-01-26\n",
      "https://api.nytimes.com/svc/books/v3/lists/2015-01-26/combined-print-and-e-book-fiction?api-key=P1yDSg62Aydsdh04WBBuS57pYbpBu2tb\n"
     ]
    },
    {
     "name": "stderr",
     "output_type": "stream",
     "text": [
      "C:\\Users\\melan\\AppData\\Local\\Temp\\ipykernel_22472\\373377676.py:27: FutureWarning: pandas.io.json.json_normalize is deprecated, use pandas.json_normalize instead.\n",
      "  books = json_normalize(results[\"results\"][\"books\"])\n"
     ]
    },
    {
     "name": "stdout",
     "output_type": "stream",
     "text": [
      "2015-01-19\n",
      "https://api.nytimes.com/svc/books/v3/lists/2015-01-19/combined-print-and-e-book-fiction?api-key=P1yDSg62Aydsdh04WBBuS57pYbpBu2tb\n"
     ]
    },
    {
     "name": "stderr",
     "output_type": "stream",
     "text": [
      "C:\\Users\\melan\\AppData\\Local\\Temp\\ipykernel_22472\\373377676.py:27: FutureWarning: pandas.io.json.json_normalize is deprecated, use pandas.json_normalize instead.\n",
      "  books = json_normalize(results[\"results\"][\"books\"])\n"
     ]
    },
    {
     "name": "stdout",
     "output_type": "stream",
     "text": [
      "2015-01-12\n",
      "https://api.nytimes.com/svc/books/v3/lists/2015-01-12/combined-print-and-e-book-fiction?api-key=P1yDSg62Aydsdh04WBBuS57pYbpBu2tb\n"
     ]
    },
    {
     "name": "stderr",
     "output_type": "stream",
     "text": [
      "C:\\Users\\melan\\AppData\\Local\\Temp\\ipykernel_22472\\373377676.py:27: FutureWarning: pandas.io.json.json_normalize is deprecated, use pandas.json_normalize instead.\n",
      "  books = json_normalize(results[\"results\"][\"books\"])\n"
     ]
    },
    {
     "name": "stdout",
     "output_type": "stream",
     "text": [
      "2015-01-05\n",
      "https://api.nytimes.com/svc/books/v3/lists/2015-01-05/combined-print-and-e-book-fiction?api-key=P1yDSg62Aydsdh04WBBuS57pYbpBu2tb\n"
     ]
    },
    {
     "name": "stderr",
     "output_type": "stream",
     "text": [
      "C:\\Users\\melan\\AppData\\Local\\Temp\\ipykernel_22472\\373377676.py:27: FutureWarning: pandas.io.json.json_normalize is deprecated, use pandas.json_normalize instead.\n",
      "  books = json_normalize(results[\"results\"][\"books\"])\n"
     ]
    },
    {
     "name": "stdout",
     "output_type": "stream",
     "text": [
      "2014-12-29\n",
      "https://api.nytimes.com/svc/books/v3/lists/2014-12-29/combined-print-and-e-book-fiction?api-key=P1yDSg62Aydsdh04WBBuS57pYbpBu2tb\n"
     ]
    },
    {
     "name": "stderr",
     "output_type": "stream",
     "text": [
      "C:\\Users\\melan\\AppData\\Local\\Temp\\ipykernel_22472\\373377676.py:27: FutureWarning: pandas.io.json.json_normalize is deprecated, use pandas.json_normalize instead.\n",
      "  books = json_normalize(results[\"results\"][\"books\"])\n"
     ]
    },
    {
     "name": "stdout",
     "output_type": "stream",
     "text": [
      "2014-12-22\n",
      "https://api.nytimes.com/svc/books/v3/lists/2014-12-22/combined-print-and-e-book-fiction?api-key=P1yDSg62Aydsdh04WBBuS57pYbpBu2tb\n"
     ]
    },
    {
     "name": "stderr",
     "output_type": "stream",
     "text": [
      "C:\\Users\\melan\\AppData\\Local\\Temp\\ipykernel_22472\\373377676.py:27: FutureWarning: pandas.io.json.json_normalize is deprecated, use pandas.json_normalize instead.\n",
      "  books = json_normalize(results[\"results\"][\"books\"])\n"
     ]
    },
    {
     "name": "stdout",
     "output_type": "stream",
     "text": [
      "2014-12-15\n",
      "https://api.nytimes.com/svc/books/v3/lists/2014-12-15/combined-print-and-e-book-fiction?api-key=P1yDSg62Aydsdh04WBBuS57pYbpBu2tb\n"
     ]
    },
    {
     "name": "stderr",
     "output_type": "stream",
     "text": [
      "C:\\Users\\melan\\AppData\\Local\\Temp\\ipykernel_22472\\373377676.py:27: FutureWarning: pandas.io.json.json_normalize is deprecated, use pandas.json_normalize instead.\n",
      "  books = json_normalize(results[\"results\"][\"books\"])\n"
     ]
    },
    {
     "name": "stdout",
     "output_type": "stream",
     "text": [
      "2014-12-08\n",
      "https://api.nytimes.com/svc/books/v3/lists/2014-12-08/combined-print-and-e-book-fiction?api-key=P1yDSg62Aydsdh04WBBuS57pYbpBu2tb\n"
     ]
    },
    {
     "name": "stderr",
     "output_type": "stream",
     "text": [
      "C:\\Users\\melan\\AppData\\Local\\Temp\\ipykernel_22472\\373377676.py:27: FutureWarning: pandas.io.json.json_normalize is deprecated, use pandas.json_normalize instead.\n",
      "  books = json_normalize(results[\"results\"][\"books\"])\n"
     ]
    },
    {
     "name": "stdout",
     "output_type": "stream",
     "text": [
      "2014-12-01\n",
      "https://api.nytimes.com/svc/books/v3/lists/2014-12-01/combined-print-and-e-book-fiction?api-key=P1yDSg62Aydsdh04WBBuS57pYbpBu2tb\n"
     ]
    },
    {
     "name": "stderr",
     "output_type": "stream",
     "text": [
      "C:\\Users\\melan\\AppData\\Local\\Temp\\ipykernel_22472\\373377676.py:27: FutureWarning: pandas.io.json.json_normalize is deprecated, use pandas.json_normalize instead.\n",
      "  books = json_normalize(results[\"results\"][\"books\"])\n"
     ]
    },
    {
     "name": "stdout",
     "output_type": "stream",
     "text": [
      "2014-11-24\n",
      "https://api.nytimes.com/svc/books/v3/lists/2014-11-24/combined-print-and-e-book-fiction?api-key=P1yDSg62Aydsdh04WBBuS57pYbpBu2tb\n"
     ]
    },
    {
     "name": "stderr",
     "output_type": "stream",
     "text": [
      "C:\\Users\\melan\\AppData\\Local\\Temp\\ipykernel_22472\\373377676.py:27: FutureWarning: pandas.io.json.json_normalize is deprecated, use pandas.json_normalize instead.\n",
      "  books = json_normalize(results[\"results\"][\"books\"])\n"
     ]
    },
    {
     "name": "stdout",
     "output_type": "stream",
     "text": [
      "2014-11-17\n",
      "https://api.nytimes.com/svc/books/v3/lists/2014-11-17/combined-print-and-e-book-fiction?api-key=P1yDSg62Aydsdh04WBBuS57pYbpBu2tb\n"
     ]
    },
    {
     "name": "stderr",
     "output_type": "stream",
     "text": [
      "C:\\Users\\melan\\AppData\\Local\\Temp\\ipykernel_22472\\373377676.py:27: FutureWarning: pandas.io.json.json_normalize is deprecated, use pandas.json_normalize instead.\n",
      "  books = json_normalize(results[\"results\"][\"books\"])\n"
     ]
    },
    {
     "name": "stdout",
     "output_type": "stream",
     "text": [
      "2014-11-10\n",
      "https://api.nytimes.com/svc/books/v3/lists/2014-11-10/combined-print-and-e-book-fiction?api-key=P1yDSg62Aydsdh04WBBuS57pYbpBu2tb\n"
     ]
    },
    {
     "name": "stderr",
     "output_type": "stream",
     "text": [
      "C:\\Users\\melan\\AppData\\Local\\Temp\\ipykernel_22472\\373377676.py:27: FutureWarning: pandas.io.json.json_normalize is deprecated, use pandas.json_normalize instead.\n",
      "  books = json_normalize(results[\"results\"][\"books\"])\n"
     ]
    },
    {
     "name": "stdout",
     "output_type": "stream",
     "text": [
      "2014-11-03\n",
      "https://api.nytimes.com/svc/books/v3/lists/2014-11-03/combined-print-and-e-book-fiction?api-key=P1yDSg62Aydsdh04WBBuS57pYbpBu2tb\n"
     ]
    },
    {
     "name": "stderr",
     "output_type": "stream",
     "text": [
      "C:\\Users\\melan\\AppData\\Local\\Temp\\ipykernel_22472\\373377676.py:27: FutureWarning: pandas.io.json.json_normalize is deprecated, use pandas.json_normalize instead.\n",
      "  books = json_normalize(results[\"results\"][\"books\"])\n"
     ]
    },
    {
     "name": "stdout",
     "output_type": "stream",
     "text": [
      "2014-10-27\n",
      "https://api.nytimes.com/svc/books/v3/lists/2014-10-27/combined-print-and-e-book-fiction?api-key=P1yDSg62Aydsdh04WBBuS57pYbpBu2tb\n"
     ]
    },
    {
     "name": "stderr",
     "output_type": "stream",
     "text": [
      "C:\\Users\\melan\\AppData\\Local\\Temp\\ipykernel_22472\\373377676.py:27: FutureWarning: pandas.io.json.json_normalize is deprecated, use pandas.json_normalize instead.\n",
      "  books = json_normalize(results[\"results\"][\"books\"])\n"
     ]
    },
    {
     "name": "stdout",
     "output_type": "stream",
     "text": [
      "2014-10-20\n",
      "https://api.nytimes.com/svc/books/v3/lists/2014-10-20/combined-print-and-e-book-fiction?api-key=P1yDSg62Aydsdh04WBBuS57pYbpBu2tb\n"
     ]
    },
    {
     "name": "stderr",
     "output_type": "stream",
     "text": [
      "C:\\Users\\melan\\AppData\\Local\\Temp\\ipykernel_22472\\373377676.py:27: FutureWarning: pandas.io.json.json_normalize is deprecated, use pandas.json_normalize instead.\n",
      "  books = json_normalize(results[\"results\"][\"books\"])\n"
     ]
    },
    {
     "name": "stdout",
     "output_type": "stream",
     "text": [
      "2014-10-13\n",
      "https://api.nytimes.com/svc/books/v3/lists/2014-10-13/combined-print-and-e-book-fiction?api-key=P1yDSg62Aydsdh04WBBuS57pYbpBu2tb\n"
     ]
    },
    {
     "name": "stderr",
     "output_type": "stream",
     "text": [
      "C:\\Users\\melan\\AppData\\Local\\Temp\\ipykernel_22472\\373377676.py:27: FutureWarning: pandas.io.json.json_normalize is deprecated, use pandas.json_normalize instead.\n",
      "  books = json_normalize(results[\"results\"][\"books\"])\n"
     ]
    },
    {
     "name": "stdout",
     "output_type": "stream",
     "text": [
      "2014-10-06\n",
      "https://api.nytimes.com/svc/books/v3/lists/2014-10-06/combined-print-and-e-book-fiction?api-key=P1yDSg62Aydsdh04WBBuS57pYbpBu2tb\n"
     ]
    },
    {
     "name": "stderr",
     "output_type": "stream",
     "text": [
      "C:\\Users\\melan\\AppData\\Local\\Temp\\ipykernel_22472\\373377676.py:27: FutureWarning: pandas.io.json.json_normalize is deprecated, use pandas.json_normalize instead.\n",
      "  books = json_normalize(results[\"results\"][\"books\"])\n"
     ]
    },
    {
     "name": "stdout",
     "output_type": "stream",
     "text": [
      "2014-09-29\n",
      "https://api.nytimes.com/svc/books/v3/lists/2014-09-29/combined-print-and-e-book-fiction?api-key=P1yDSg62Aydsdh04WBBuS57pYbpBu2tb\n"
     ]
    },
    {
     "name": "stderr",
     "output_type": "stream",
     "text": [
      "C:\\Users\\melan\\AppData\\Local\\Temp\\ipykernel_22472\\373377676.py:27: FutureWarning: pandas.io.json.json_normalize is deprecated, use pandas.json_normalize instead.\n",
      "  books = json_normalize(results[\"results\"][\"books\"])\n"
     ]
    },
    {
     "name": "stdout",
     "output_type": "stream",
     "text": [
      "2014-09-22\n",
      "https://api.nytimes.com/svc/books/v3/lists/2014-09-22/combined-print-and-e-book-fiction?api-key=P1yDSg62Aydsdh04WBBuS57pYbpBu2tb\n"
     ]
    },
    {
     "name": "stderr",
     "output_type": "stream",
     "text": [
      "C:\\Users\\melan\\AppData\\Local\\Temp\\ipykernel_22472\\373377676.py:27: FutureWarning: pandas.io.json.json_normalize is deprecated, use pandas.json_normalize instead.\n",
      "  books = json_normalize(results[\"results\"][\"books\"])\n"
     ]
    },
    {
     "name": "stdout",
     "output_type": "stream",
     "text": [
      "2014-09-15\n",
      "https://api.nytimes.com/svc/books/v3/lists/2014-09-15/combined-print-and-e-book-fiction?api-key=P1yDSg62Aydsdh04WBBuS57pYbpBu2tb\n"
     ]
    },
    {
     "name": "stderr",
     "output_type": "stream",
     "text": [
      "C:\\Users\\melan\\AppData\\Local\\Temp\\ipykernel_22472\\373377676.py:27: FutureWarning: pandas.io.json.json_normalize is deprecated, use pandas.json_normalize instead.\n",
      "  books = json_normalize(results[\"results\"][\"books\"])\n"
     ]
    },
    {
     "name": "stdout",
     "output_type": "stream",
     "text": [
      "2014-09-08\n",
      "https://api.nytimes.com/svc/books/v3/lists/2014-09-08/combined-print-and-e-book-fiction?api-key=P1yDSg62Aydsdh04WBBuS57pYbpBu2tb\n"
     ]
    },
    {
     "name": "stderr",
     "output_type": "stream",
     "text": [
      "C:\\Users\\melan\\AppData\\Local\\Temp\\ipykernel_22472\\373377676.py:27: FutureWarning: pandas.io.json.json_normalize is deprecated, use pandas.json_normalize instead.\n",
      "  books = json_normalize(results[\"results\"][\"books\"])\n"
     ]
    },
    {
     "name": "stdout",
     "output_type": "stream",
     "text": [
      "2014-09-01\n",
      "https://api.nytimes.com/svc/books/v3/lists/2014-09-01/combined-print-and-e-book-fiction?api-key=P1yDSg62Aydsdh04WBBuS57pYbpBu2tb\n"
     ]
    },
    {
     "name": "stderr",
     "output_type": "stream",
     "text": [
      "C:\\Users\\melan\\AppData\\Local\\Temp\\ipykernel_22472\\373377676.py:27: FutureWarning: pandas.io.json.json_normalize is deprecated, use pandas.json_normalize instead.\n",
      "  books = json_normalize(results[\"results\"][\"books\"])\n"
     ]
    },
    {
     "name": "stdout",
     "output_type": "stream",
     "text": [
      "2014-08-25\n",
      "https://api.nytimes.com/svc/books/v3/lists/2014-08-25/combined-print-and-e-book-fiction?api-key=P1yDSg62Aydsdh04WBBuS57pYbpBu2tb\n"
     ]
    },
    {
     "name": "stderr",
     "output_type": "stream",
     "text": [
      "C:\\Users\\melan\\AppData\\Local\\Temp\\ipykernel_22472\\373377676.py:27: FutureWarning: pandas.io.json.json_normalize is deprecated, use pandas.json_normalize instead.\n",
      "  books = json_normalize(results[\"results\"][\"books\"])\n"
     ]
    },
    {
     "name": "stdout",
     "output_type": "stream",
     "text": [
      "2014-08-18\n",
      "https://api.nytimes.com/svc/books/v3/lists/2014-08-18/combined-print-and-e-book-fiction?api-key=P1yDSg62Aydsdh04WBBuS57pYbpBu2tb\n"
     ]
    },
    {
     "name": "stderr",
     "output_type": "stream",
     "text": [
      "C:\\Users\\melan\\AppData\\Local\\Temp\\ipykernel_22472\\373377676.py:27: FutureWarning: pandas.io.json.json_normalize is deprecated, use pandas.json_normalize instead.\n",
      "  books = json_normalize(results[\"results\"][\"books\"])\n"
     ]
    },
    {
     "name": "stdout",
     "output_type": "stream",
     "text": [
      "2014-08-11\n",
      "https://api.nytimes.com/svc/books/v3/lists/2014-08-11/combined-print-and-e-book-fiction?api-key=P1yDSg62Aydsdh04WBBuS57pYbpBu2tb\n"
     ]
    },
    {
     "name": "stderr",
     "output_type": "stream",
     "text": [
      "C:\\Users\\melan\\AppData\\Local\\Temp\\ipykernel_22472\\373377676.py:27: FutureWarning: pandas.io.json.json_normalize is deprecated, use pandas.json_normalize instead.\n",
      "  books = json_normalize(results[\"results\"][\"books\"])\n"
     ]
    },
    {
     "name": "stdout",
     "output_type": "stream",
     "text": [
      "2014-08-04\n",
      "https://api.nytimes.com/svc/books/v3/lists/2014-08-04/combined-print-and-e-book-fiction?api-key=P1yDSg62Aydsdh04WBBuS57pYbpBu2tb\n"
     ]
    },
    {
     "name": "stderr",
     "output_type": "stream",
     "text": [
      "C:\\Users\\melan\\AppData\\Local\\Temp\\ipykernel_22472\\373377676.py:27: FutureWarning: pandas.io.json.json_normalize is deprecated, use pandas.json_normalize instead.\n",
      "  books = json_normalize(results[\"results\"][\"books\"])\n"
     ]
    },
    {
     "name": "stdout",
     "output_type": "stream",
     "text": [
      "2014-07-28\n",
      "https://api.nytimes.com/svc/books/v3/lists/2014-07-28/combined-print-and-e-book-fiction?api-key=P1yDSg62Aydsdh04WBBuS57pYbpBu2tb\n"
     ]
    },
    {
     "name": "stderr",
     "output_type": "stream",
     "text": [
      "C:\\Users\\melan\\AppData\\Local\\Temp\\ipykernel_22472\\373377676.py:27: FutureWarning: pandas.io.json.json_normalize is deprecated, use pandas.json_normalize instead.\n",
      "  books = json_normalize(results[\"results\"][\"books\"])\n"
     ]
    },
    {
     "name": "stdout",
     "output_type": "stream",
     "text": [
      "2014-07-21\n",
      "https://api.nytimes.com/svc/books/v3/lists/2014-07-21/combined-print-and-e-book-fiction?api-key=P1yDSg62Aydsdh04WBBuS57pYbpBu2tb\n"
     ]
    },
    {
     "name": "stderr",
     "output_type": "stream",
     "text": [
      "C:\\Users\\melan\\AppData\\Local\\Temp\\ipykernel_22472\\373377676.py:27: FutureWarning: pandas.io.json.json_normalize is deprecated, use pandas.json_normalize instead.\n",
      "  books = json_normalize(results[\"results\"][\"books\"])\n"
     ]
    },
    {
     "name": "stdout",
     "output_type": "stream",
     "text": [
      "2014-07-14\n",
      "https://api.nytimes.com/svc/books/v3/lists/2014-07-14/combined-print-and-e-book-fiction?api-key=P1yDSg62Aydsdh04WBBuS57pYbpBu2tb\n"
     ]
    },
    {
     "name": "stderr",
     "output_type": "stream",
     "text": [
      "C:\\Users\\melan\\AppData\\Local\\Temp\\ipykernel_22472\\373377676.py:27: FutureWarning: pandas.io.json.json_normalize is deprecated, use pandas.json_normalize instead.\n",
      "  books = json_normalize(results[\"results\"][\"books\"])\n"
     ]
    },
    {
     "name": "stdout",
     "output_type": "stream",
     "text": [
      "2014-07-07\n",
      "https://api.nytimes.com/svc/books/v3/lists/2014-07-07/combined-print-and-e-book-fiction?api-key=P1yDSg62Aydsdh04WBBuS57pYbpBu2tb\n"
     ]
    },
    {
     "name": "stderr",
     "output_type": "stream",
     "text": [
      "C:\\Users\\melan\\AppData\\Local\\Temp\\ipykernel_22472\\373377676.py:27: FutureWarning: pandas.io.json.json_normalize is deprecated, use pandas.json_normalize instead.\n",
      "  books = json_normalize(results[\"results\"][\"books\"])\n"
     ]
    },
    {
     "name": "stdout",
     "output_type": "stream",
     "text": [
      "2014-06-30\n",
      "https://api.nytimes.com/svc/books/v3/lists/2014-06-30/combined-print-and-e-book-fiction?api-key=P1yDSg62Aydsdh04WBBuS57pYbpBu2tb\n"
     ]
    },
    {
     "name": "stderr",
     "output_type": "stream",
     "text": [
      "C:\\Users\\melan\\AppData\\Local\\Temp\\ipykernel_22472\\373377676.py:27: FutureWarning: pandas.io.json.json_normalize is deprecated, use pandas.json_normalize instead.\n",
      "  books = json_normalize(results[\"results\"][\"books\"])\n"
     ]
    },
    {
     "name": "stdout",
     "output_type": "stream",
     "text": [
      "2014-06-23\n",
      "https://api.nytimes.com/svc/books/v3/lists/2014-06-23/combined-print-and-e-book-fiction?api-key=P1yDSg62Aydsdh04WBBuS57pYbpBu2tb\n"
     ]
    },
    {
     "name": "stderr",
     "output_type": "stream",
     "text": [
      "C:\\Users\\melan\\AppData\\Local\\Temp\\ipykernel_22472\\373377676.py:27: FutureWarning: pandas.io.json.json_normalize is deprecated, use pandas.json_normalize instead.\n",
      "  books = json_normalize(results[\"results\"][\"books\"])\n"
     ]
    },
    {
     "name": "stdout",
     "output_type": "stream",
     "text": [
      "2014-06-16\n",
      "https://api.nytimes.com/svc/books/v3/lists/2014-06-16/combined-print-and-e-book-fiction?api-key=P1yDSg62Aydsdh04WBBuS57pYbpBu2tb\n"
     ]
    },
    {
     "name": "stderr",
     "output_type": "stream",
     "text": [
      "C:\\Users\\melan\\AppData\\Local\\Temp\\ipykernel_22472\\373377676.py:27: FutureWarning: pandas.io.json.json_normalize is deprecated, use pandas.json_normalize instead.\n",
      "  books = json_normalize(results[\"results\"][\"books\"])\n"
     ]
    },
    {
     "name": "stdout",
     "output_type": "stream",
     "text": [
      "2014-06-09\n",
      "https://api.nytimes.com/svc/books/v3/lists/2014-06-09/combined-print-and-e-book-fiction?api-key=P1yDSg62Aydsdh04WBBuS57pYbpBu2tb\n"
     ]
    },
    {
     "name": "stderr",
     "output_type": "stream",
     "text": [
      "C:\\Users\\melan\\AppData\\Local\\Temp\\ipykernel_22472\\373377676.py:27: FutureWarning: pandas.io.json.json_normalize is deprecated, use pandas.json_normalize instead.\n",
      "  books = json_normalize(results[\"results\"][\"books\"])\n"
     ]
    },
    {
     "name": "stdout",
     "output_type": "stream",
     "text": [
      "2014-06-02\n",
      "https://api.nytimes.com/svc/books/v3/lists/2014-06-02/combined-print-and-e-book-fiction?api-key=P1yDSg62Aydsdh04WBBuS57pYbpBu2tb\n"
     ]
    },
    {
     "name": "stderr",
     "output_type": "stream",
     "text": [
      "C:\\Users\\melan\\AppData\\Local\\Temp\\ipykernel_22472\\373377676.py:27: FutureWarning: pandas.io.json.json_normalize is deprecated, use pandas.json_normalize instead.\n",
      "  books = json_normalize(results[\"results\"][\"books\"])\n"
     ]
    },
    {
     "name": "stdout",
     "output_type": "stream",
     "text": [
      "2014-05-26\n",
      "https://api.nytimes.com/svc/books/v3/lists/2014-05-26/combined-print-and-e-book-fiction?api-key=P1yDSg62Aydsdh04WBBuS57pYbpBu2tb\n"
     ]
    },
    {
     "name": "stderr",
     "output_type": "stream",
     "text": [
      "C:\\Users\\melan\\AppData\\Local\\Temp\\ipykernel_22472\\373377676.py:27: FutureWarning: pandas.io.json.json_normalize is deprecated, use pandas.json_normalize instead.\n",
      "  books = json_normalize(results[\"results\"][\"books\"])\n"
     ]
    },
    {
     "name": "stdout",
     "output_type": "stream",
     "text": [
      "2014-05-19\n",
      "https://api.nytimes.com/svc/books/v3/lists/2014-05-19/combined-print-and-e-book-fiction?api-key=P1yDSg62Aydsdh04WBBuS57pYbpBu2tb\n"
     ]
    },
    {
     "name": "stderr",
     "output_type": "stream",
     "text": [
      "C:\\Users\\melan\\AppData\\Local\\Temp\\ipykernel_22472\\373377676.py:27: FutureWarning: pandas.io.json.json_normalize is deprecated, use pandas.json_normalize instead.\n",
      "  books = json_normalize(results[\"results\"][\"books\"])\n"
     ]
    },
    {
     "name": "stdout",
     "output_type": "stream",
     "text": [
      "2014-05-12\n",
      "https://api.nytimes.com/svc/books/v3/lists/2014-05-12/combined-print-and-e-book-fiction?api-key=P1yDSg62Aydsdh04WBBuS57pYbpBu2tb\n"
     ]
    },
    {
     "name": "stderr",
     "output_type": "stream",
     "text": [
      "C:\\Users\\melan\\AppData\\Local\\Temp\\ipykernel_22472\\373377676.py:27: FutureWarning: pandas.io.json.json_normalize is deprecated, use pandas.json_normalize instead.\n",
      "  books = json_normalize(results[\"results\"][\"books\"])\n"
     ]
    },
    {
     "name": "stdout",
     "output_type": "stream",
     "text": [
      "2014-05-05\n",
      "https://api.nytimes.com/svc/books/v3/lists/2014-05-05/combined-print-and-e-book-fiction?api-key=P1yDSg62Aydsdh04WBBuS57pYbpBu2tb\n"
     ]
    },
    {
     "name": "stderr",
     "output_type": "stream",
     "text": [
      "C:\\Users\\melan\\AppData\\Local\\Temp\\ipykernel_22472\\373377676.py:27: FutureWarning: pandas.io.json.json_normalize is deprecated, use pandas.json_normalize instead.\n",
      "  books = json_normalize(results[\"results\"][\"books\"])\n"
     ]
    },
    {
     "name": "stdout",
     "output_type": "stream",
     "text": [
      "2014-04-28\n",
      "https://api.nytimes.com/svc/books/v3/lists/2014-04-28/combined-print-and-e-book-fiction?api-key=P1yDSg62Aydsdh04WBBuS57pYbpBu2tb\n"
     ]
    },
    {
     "name": "stderr",
     "output_type": "stream",
     "text": [
      "C:\\Users\\melan\\AppData\\Local\\Temp\\ipykernel_22472\\373377676.py:27: FutureWarning: pandas.io.json.json_normalize is deprecated, use pandas.json_normalize instead.\n",
      "  books = json_normalize(results[\"results\"][\"books\"])\n"
     ]
    },
    {
     "name": "stdout",
     "output_type": "stream",
     "text": [
      "2014-04-21\n",
      "https://api.nytimes.com/svc/books/v3/lists/2014-04-21/combined-print-and-e-book-fiction?api-key=P1yDSg62Aydsdh04WBBuS57pYbpBu2tb\n"
     ]
    },
    {
     "name": "stderr",
     "output_type": "stream",
     "text": [
      "C:\\Users\\melan\\AppData\\Local\\Temp\\ipykernel_22472\\373377676.py:27: FutureWarning: pandas.io.json.json_normalize is deprecated, use pandas.json_normalize instead.\n",
      "  books = json_normalize(results[\"results\"][\"books\"])\n"
     ]
    },
    {
     "name": "stdout",
     "output_type": "stream",
     "text": [
      "2014-04-14\n",
      "https://api.nytimes.com/svc/books/v3/lists/2014-04-14/combined-print-and-e-book-fiction?api-key=P1yDSg62Aydsdh04WBBuS57pYbpBu2tb\n"
     ]
    },
    {
     "name": "stderr",
     "output_type": "stream",
     "text": [
      "C:\\Users\\melan\\AppData\\Local\\Temp\\ipykernel_22472\\373377676.py:27: FutureWarning: pandas.io.json.json_normalize is deprecated, use pandas.json_normalize instead.\n",
      "  books = json_normalize(results[\"results\"][\"books\"])\n"
     ]
    },
    {
     "name": "stdout",
     "output_type": "stream",
     "text": [
      "2014-04-07\n",
      "https://api.nytimes.com/svc/books/v3/lists/2014-04-07/combined-print-and-e-book-fiction?api-key=P1yDSg62Aydsdh04WBBuS57pYbpBu2tb\n"
     ]
    },
    {
     "name": "stderr",
     "output_type": "stream",
     "text": [
      "C:\\Users\\melan\\AppData\\Local\\Temp\\ipykernel_22472\\373377676.py:27: FutureWarning: pandas.io.json.json_normalize is deprecated, use pandas.json_normalize instead.\n",
      "  books = json_normalize(results[\"results\"][\"books\"])\n"
     ]
    },
    {
     "name": "stdout",
     "output_type": "stream",
     "text": [
      "2014-03-31\n",
      "https://api.nytimes.com/svc/books/v3/lists/2014-03-31/combined-print-and-e-book-fiction?api-key=P1yDSg62Aydsdh04WBBuS57pYbpBu2tb\n"
     ]
    },
    {
     "name": "stderr",
     "output_type": "stream",
     "text": [
      "C:\\Users\\melan\\AppData\\Local\\Temp\\ipykernel_22472\\373377676.py:27: FutureWarning: pandas.io.json.json_normalize is deprecated, use pandas.json_normalize instead.\n",
      "  books = json_normalize(results[\"results\"][\"books\"])\n"
     ]
    },
    {
     "name": "stdout",
     "output_type": "stream",
     "text": [
      "2014-03-24\n",
      "https://api.nytimes.com/svc/books/v3/lists/2014-03-24/combined-print-and-e-book-fiction?api-key=P1yDSg62Aydsdh04WBBuS57pYbpBu2tb\n"
     ]
    },
    {
     "name": "stderr",
     "output_type": "stream",
     "text": [
      "C:\\Users\\melan\\AppData\\Local\\Temp\\ipykernel_22472\\373377676.py:27: FutureWarning: pandas.io.json.json_normalize is deprecated, use pandas.json_normalize instead.\n",
      "  books = json_normalize(results[\"results\"][\"books\"])\n"
     ]
    },
    {
     "name": "stdout",
     "output_type": "stream",
     "text": [
      "2014-03-17\n",
      "https://api.nytimes.com/svc/books/v3/lists/2014-03-17/combined-print-and-e-book-fiction?api-key=P1yDSg62Aydsdh04WBBuS57pYbpBu2tb\n"
     ]
    },
    {
     "name": "stderr",
     "output_type": "stream",
     "text": [
      "C:\\Users\\melan\\AppData\\Local\\Temp\\ipykernel_22472\\373377676.py:27: FutureWarning: pandas.io.json.json_normalize is deprecated, use pandas.json_normalize instead.\n",
      "  books = json_normalize(results[\"results\"][\"books\"])\n"
     ]
    },
    {
     "name": "stdout",
     "output_type": "stream",
     "text": [
      "2014-03-10\n",
      "https://api.nytimes.com/svc/books/v3/lists/2014-03-10/combined-print-and-e-book-fiction?api-key=P1yDSg62Aydsdh04WBBuS57pYbpBu2tb\n"
     ]
    },
    {
     "name": "stderr",
     "output_type": "stream",
     "text": [
      "C:\\Users\\melan\\AppData\\Local\\Temp\\ipykernel_22472\\373377676.py:27: FutureWarning: pandas.io.json.json_normalize is deprecated, use pandas.json_normalize instead.\n",
      "  books = json_normalize(results[\"results\"][\"books\"])\n"
     ]
    },
    {
     "name": "stdout",
     "output_type": "stream",
     "text": [
      "2014-03-03\n",
      "https://api.nytimes.com/svc/books/v3/lists/2014-03-03/combined-print-and-e-book-fiction?api-key=P1yDSg62Aydsdh04WBBuS57pYbpBu2tb\n"
     ]
    },
    {
     "name": "stderr",
     "output_type": "stream",
     "text": [
      "C:\\Users\\melan\\AppData\\Local\\Temp\\ipykernel_22472\\373377676.py:27: FutureWarning: pandas.io.json.json_normalize is deprecated, use pandas.json_normalize instead.\n",
      "  books = json_normalize(results[\"results\"][\"books\"])\n"
     ]
    },
    {
     "name": "stdout",
     "output_type": "stream",
     "text": [
      "2014-02-24\n",
      "https://api.nytimes.com/svc/books/v3/lists/2014-02-24/combined-print-and-e-book-fiction?api-key=P1yDSg62Aydsdh04WBBuS57pYbpBu2tb\n"
     ]
    },
    {
     "name": "stderr",
     "output_type": "stream",
     "text": [
      "C:\\Users\\melan\\AppData\\Local\\Temp\\ipykernel_22472\\373377676.py:27: FutureWarning: pandas.io.json.json_normalize is deprecated, use pandas.json_normalize instead.\n",
      "  books = json_normalize(results[\"results\"][\"books\"])\n"
     ]
    },
    {
     "name": "stdout",
     "output_type": "stream",
     "text": [
      "2014-02-17\n",
      "https://api.nytimes.com/svc/books/v3/lists/2014-02-17/combined-print-and-e-book-fiction?api-key=P1yDSg62Aydsdh04WBBuS57pYbpBu2tb\n"
     ]
    },
    {
     "name": "stderr",
     "output_type": "stream",
     "text": [
      "C:\\Users\\melan\\AppData\\Local\\Temp\\ipykernel_22472\\373377676.py:27: FutureWarning: pandas.io.json.json_normalize is deprecated, use pandas.json_normalize instead.\n",
      "  books = json_normalize(results[\"results\"][\"books\"])\n"
     ]
    },
    {
     "name": "stdout",
     "output_type": "stream",
     "text": [
      "2014-02-10\n",
      "https://api.nytimes.com/svc/books/v3/lists/2014-02-10/combined-print-and-e-book-fiction?api-key=P1yDSg62Aydsdh04WBBuS57pYbpBu2tb\n"
     ]
    },
    {
     "name": "stderr",
     "output_type": "stream",
     "text": [
      "C:\\Users\\melan\\AppData\\Local\\Temp\\ipykernel_22472\\373377676.py:27: FutureWarning: pandas.io.json.json_normalize is deprecated, use pandas.json_normalize instead.\n",
      "  books = json_normalize(results[\"results\"][\"books\"])\n"
     ]
    },
    {
     "name": "stdout",
     "output_type": "stream",
     "text": [
      "2014-02-03\n",
      "https://api.nytimes.com/svc/books/v3/lists/2014-02-03/combined-print-and-e-book-fiction?api-key=P1yDSg62Aydsdh04WBBuS57pYbpBu2tb\n"
     ]
    },
    {
     "name": "stderr",
     "output_type": "stream",
     "text": [
      "C:\\Users\\melan\\AppData\\Local\\Temp\\ipykernel_22472\\373377676.py:27: FutureWarning: pandas.io.json.json_normalize is deprecated, use pandas.json_normalize instead.\n",
      "  books = json_normalize(results[\"results\"][\"books\"])\n"
     ]
    },
    {
     "name": "stdout",
     "output_type": "stream",
     "text": [
      "2014-01-27\n",
      "https://api.nytimes.com/svc/books/v3/lists/2014-01-27/combined-print-and-e-book-fiction?api-key=P1yDSg62Aydsdh04WBBuS57pYbpBu2tb\n"
     ]
    },
    {
     "name": "stderr",
     "output_type": "stream",
     "text": [
      "C:\\Users\\melan\\AppData\\Local\\Temp\\ipykernel_22472\\373377676.py:27: FutureWarning: pandas.io.json.json_normalize is deprecated, use pandas.json_normalize instead.\n",
      "  books = json_normalize(results[\"results\"][\"books\"])\n"
     ]
    },
    {
     "name": "stdout",
     "output_type": "stream",
     "text": [
      "2014-01-20\n",
      "https://api.nytimes.com/svc/books/v3/lists/2014-01-20/combined-print-and-e-book-fiction?api-key=P1yDSg62Aydsdh04WBBuS57pYbpBu2tb\n"
     ]
    },
    {
     "name": "stderr",
     "output_type": "stream",
     "text": [
      "C:\\Users\\melan\\AppData\\Local\\Temp\\ipykernel_22472\\373377676.py:27: FutureWarning: pandas.io.json.json_normalize is deprecated, use pandas.json_normalize instead.\n",
      "  books = json_normalize(results[\"results\"][\"books\"])\n"
     ]
    },
    {
     "name": "stdout",
     "output_type": "stream",
     "text": [
      "2014-01-13\n",
      "https://api.nytimes.com/svc/books/v3/lists/2014-01-13/combined-print-and-e-book-fiction?api-key=P1yDSg62Aydsdh04WBBuS57pYbpBu2tb\n"
     ]
    },
    {
     "name": "stderr",
     "output_type": "stream",
     "text": [
      "C:\\Users\\melan\\AppData\\Local\\Temp\\ipykernel_22472\\373377676.py:27: FutureWarning: pandas.io.json.json_normalize is deprecated, use pandas.json_normalize instead.\n",
      "  books = json_normalize(results[\"results\"][\"books\"])\n"
     ]
    },
    {
     "name": "stdout",
     "output_type": "stream",
     "text": [
      "2014-01-06\n",
      "https://api.nytimes.com/svc/books/v3/lists/2014-01-06/combined-print-and-e-book-fiction?api-key=P1yDSg62Aydsdh04WBBuS57pYbpBu2tb\n"
     ]
    },
    {
     "name": "stderr",
     "output_type": "stream",
     "text": [
      "C:\\Users\\melan\\AppData\\Local\\Temp\\ipykernel_22472\\373377676.py:27: FutureWarning: pandas.io.json.json_normalize is deprecated, use pandas.json_normalize instead.\n",
      "  books = json_normalize(results[\"results\"][\"books\"])\n"
     ]
    },
    {
     "name": "stdout",
     "output_type": "stream",
     "text": [
      "2013-12-30\n",
      "https://api.nytimes.com/svc/books/v3/lists/2013-12-30/combined-print-and-e-book-fiction?api-key=P1yDSg62Aydsdh04WBBuS57pYbpBu2tb\n"
     ]
    },
    {
     "name": "stderr",
     "output_type": "stream",
     "text": [
      "C:\\Users\\melan\\AppData\\Local\\Temp\\ipykernel_22472\\373377676.py:27: FutureWarning: pandas.io.json.json_normalize is deprecated, use pandas.json_normalize instead.\n",
      "  books = json_normalize(results[\"results\"][\"books\"])\n"
     ]
    },
    {
     "name": "stdout",
     "output_type": "stream",
     "text": [
      "2013-12-23\n",
      "https://api.nytimes.com/svc/books/v3/lists/2013-12-23/combined-print-and-e-book-fiction?api-key=P1yDSg62Aydsdh04WBBuS57pYbpBu2tb\n"
     ]
    },
    {
     "name": "stderr",
     "output_type": "stream",
     "text": [
      "C:\\Users\\melan\\AppData\\Local\\Temp\\ipykernel_22472\\373377676.py:27: FutureWarning: pandas.io.json.json_normalize is deprecated, use pandas.json_normalize instead.\n",
      "  books = json_normalize(results[\"results\"][\"books\"])\n"
     ]
    },
    {
     "name": "stdout",
     "output_type": "stream",
     "text": [
      "2013-12-16\n",
      "https://api.nytimes.com/svc/books/v3/lists/2013-12-16/combined-print-and-e-book-fiction?api-key=P1yDSg62Aydsdh04WBBuS57pYbpBu2tb\n"
     ]
    },
    {
     "name": "stderr",
     "output_type": "stream",
     "text": [
      "C:\\Users\\melan\\AppData\\Local\\Temp\\ipykernel_22472\\373377676.py:27: FutureWarning: pandas.io.json.json_normalize is deprecated, use pandas.json_normalize instead.\n",
      "  books = json_normalize(results[\"results\"][\"books\"])\n"
     ]
    },
    {
     "name": "stdout",
     "output_type": "stream",
     "text": [
      "2013-12-09\n",
      "https://api.nytimes.com/svc/books/v3/lists/2013-12-09/combined-print-and-e-book-fiction?api-key=P1yDSg62Aydsdh04WBBuS57pYbpBu2tb\n"
     ]
    },
    {
     "name": "stderr",
     "output_type": "stream",
     "text": [
      "C:\\Users\\melan\\AppData\\Local\\Temp\\ipykernel_22472\\373377676.py:27: FutureWarning: pandas.io.json.json_normalize is deprecated, use pandas.json_normalize instead.\n",
      "  books = json_normalize(results[\"results\"][\"books\"])\n"
     ]
    },
    {
     "name": "stdout",
     "output_type": "stream",
     "text": [
      "2013-12-02\n",
      "https://api.nytimes.com/svc/books/v3/lists/2013-12-02/combined-print-and-e-book-fiction?api-key=P1yDSg62Aydsdh04WBBuS57pYbpBu2tb\n"
     ]
    },
    {
     "name": "stderr",
     "output_type": "stream",
     "text": [
      "C:\\Users\\melan\\AppData\\Local\\Temp\\ipykernel_22472\\373377676.py:27: FutureWarning: pandas.io.json.json_normalize is deprecated, use pandas.json_normalize instead.\n",
      "  books = json_normalize(results[\"results\"][\"books\"])\n"
     ]
    },
    {
     "name": "stdout",
     "output_type": "stream",
     "text": [
      "2013-11-25\n",
      "https://api.nytimes.com/svc/books/v3/lists/2013-11-25/combined-print-and-e-book-fiction?api-key=P1yDSg62Aydsdh04WBBuS57pYbpBu2tb\n"
     ]
    },
    {
     "name": "stderr",
     "output_type": "stream",
     "text": [
      "C:\\Users\\melan\\AppData\\Local\\Temp\\ipykernel_22472\\373377676.py:27: FutureWarning: pandas.io.json.json_normalize is deprecated, use pandas.json_normalize instead.\n",
      "  books = json_normalize(results[\"results\"][\"books\"])\n"
     ]
    },
    {
     "name": "stdout",
     "output_type": "stream",
     "text": [
      "2013-11-18\n",
      "https://api.nytimes.com/svc/books/v3/lists/2013-11-18/combined-print-and-e-book-fiction?api-key=P1yDSg62Aydsdh04WBBuS57pYbpBu2tb\n"
     ]
    },
    {
     "name": "stderr",
     "output_type": "stream",
     "text": [
      "C:\\Users\\melan\\AppData\\Local\\Temp\\ipykernel_22472\\373377676.py:27: FutureWarning: pandas.io.json.json_normalize is deprecated, use pandas.json_normalize instead.\n",
      "  books = json_normalize(results[\"results\"][\"books\"])\n"
     ]
    },
    {
     "name": "stdout",
     "output_type": "stream",
     "text": [
      "2013-11-11\n",
      "https://api.nytimes.com/svc/books/v3/lists/2013-11-11/combined-print-and-e-book-fiction?api-key=P1yDSg62Aydsdh04WBBuS57pYbpBu2tb\n"
     ]
    },
    {
     "name": "stderr",
     "output_type": "stream",
     "text": [
      "C:\\Users\\melan\\AppData\\Local\\Temp\\ipykernel_22472\\373377676.py:27: FutureWarning: pandas.io.json.json_normalize is deprecated, use pandas.json_normalize instead.\n",
      "  books = json_normalize(results[\"results\"][\"books\"])\n"
     ]
    },
    {
     "name": "stdout",
     "output_type": "stream",
     "text": [
      "2013-11-04\n",
      "https://api.nytimes.com/svc/books/v3/lists/2013-11-04/combined-print-and-e-book-fiction?api-key=P1yDSg62Aydsdh04WBBuS57pYbpBu2tb\n"
     ]
    },
    {
     "name": "stderr",
     "output_type": "stream",
     "text": [
      "C:\\Users\\melan\\AppData\\Local\\Temp\\ipykernel_22472\\373377676.py:27: FutureWarning: pandas.io.json.json_normalize is deprecated, use pandas.json_normalize instead.\n",
      "  books = json_normalize(results[\"results\"][\"books\"])\n"
     ]
    },
    {
     "name": "stdout",
     "output_type": "stream",
     "text": [
      "2013-10-28\n",
      "https://api.nytimes.com/svc/books/v3/lists/2013-10-28/combined-print-and-e-book-fiction?api-key=P1yDSg62Aydsdh04WBBuS57pYbpBu2tb\n"
     ]
    },
    {
     "name": "stderr",
     "output_type": "stream",
     "text": [
      "C:\\Users\\melan\\AppData\\Local\\Temp\\ipykernel_22472\\373377676.py:27: FutureWarning: pandas.io.json.json_normalize is deprecated, use pandas.json_normalize instead.\n",
      "  books = json_normalize(results[\"results\"][\"books\"])\n"
     ]
    },
    {
     "name": "stdout",
     "output_type": "stream",
     "text": [
      "2013-10-21\n",
      "https://api.nytimes.com/svc/books/v3/lists/2013-10-21/combined-print-and-e-book-fiction?api-key=P1yDSg62Aydsdh04WBBuS57pYbpBu2tb\n"
     ]
    },
    {
     "name": "stderr",
     "output_type": "stream",
     "text": [
      "C:\\Users\\melan\\AppData\\Local\\Temp\\ipykernel_22472\\373377676.py:27: FutureWarning: pandas.io.json.json_normalize is deprecated, use pandas.json_normalize instead.\n",
      "  books = json_normalize(results[\"results\"][\"books\"])\n"
     ]
    },
    {
     "name": "stdout",
     "output_type": "stream",
     "text": [
      "2013-10-14\n",
      "https://api.nytimes.com/svc/books/v3/lists/2013-10-14/combined-print-and-e-book-fiction?api-key=P1yDSg62Aydsdh04WBBuS57pYbpBu2tb\n"
     ]
    },
    {
     "name": "stderr",
     "output_type": "stream",
     "text": [
      "C:\\Users\\melan\\AppData\\Local\\Temp\\ipykernel_22472\\373377676.py:27: FutureWarning: pandas.io.json.json_normalize is deprecated, use pandas.json_normalize instead.\n",
      "  books = json_normalize(results[\"results\"][\"books\"])\n"
     ]
    },
    {
     "name": "stdout",
     "output_type": "stream",
     "text": [
      "2013-10-07\n",
      "https://api.nytimes.com/svc/books/v3/lists/2013-10-07/combined-print-and-e-book-fiction?api-key=P1yDSg62Aydsdh04WBBuS57pYbpBu2tb\n"
     ]
    },
    {
     "name": "stderr",
     "output_type": "stream",
     "text": [
      "C:\\Users\\melan\\AppData\\Local\\Temp\\ipykernel_22472\\373377676.py:27: FutureWarning: pandas.io.json.json_normalize is deprecated, use pandas.json_normalize instead.\n",
      "  books = json_normalize(results[\"results\"][\"books\"])\n"
     ]
    },
    {
     "name": "stdout",
     "output_type": "stream",
     "text": [
      "2013-09-30\n",
      "https://api.nytimes.com/svc/books/v3/lists/2013-09-30/combined-print-and-e-book-fiction?api-key=P1yDSg62Aydsdh04WBBuS57pYbpBu2tb\n"
     ]
    },
    {
     "name": "stderr",
     "output_type": "stream",
     "text": [
      "C:\\Users\\melan\\AppData\\Local\\Temp\\ipykernel_22472\\373377676.py:27: FutureWarning: pandas.io.json.json_normalize is deprecated, use pandas.json_normalize instead.\n",
      "  books = json_normalize(results[\"results\"][\"books\"])\n"
     ]
    },
    {
     "name": "stdout",
     "output_type": "stream",
     "text": [
      "2013-09-23\n",
      "https://api.nytimes.com/svc/books/v3/lists/2013-09-23/combined-print-and-e-book-fiction?api-key=P1yDSg62Aydsdh04WBBuS57pYbpBu2tb\n"
     ]
    },
    {
     "name": "stderr",
     "output_type": "stream",
     "text": [
      "C:\\Users\\melan\\AppData\\Local\\Temp\\ipykernel_22472\\373377676.py:27: FutureWarning: pandas.io.json.json_normalize is deprecated, use pandas.json_normalize instead.\n",
      "  books = json_normalize(results[\"results\"][\"books\"])\n"
     ]
    },
    {
     "name": "stdout",
     "output_type": "stream",
     "text": [
      "2013-09-16\n",
      "https://api.nytimes.com/svc/books/v3/lists/2013-09-16/combined-print-and-e-book-fiction?api-key=P1yDSg62Aydsdh04WBBuS57pYbpBu2tb\n"
     ]
    },
    {
     "name": "stderr",
     "output_type": "stream",
     "text": [
      "C:\\Users\\melan\\AppData\\Local\\Temp\\ipykernel_22472\\373377676.py:27: FutureWarning: pandas.io.json.json_normalize is deprecated, use pandas.json_normalize instead.\n",
      "  books = json_normalize(results[\"results\"][\"books\"])\n"
     ]
    },
    {
     "name": "stdout",
     "output_type": "stream",
     "text": [
      "2013-09-09\n",
      "https://api.nytimes.com/svc/books/v3/lists/2013-09-09/combined-print-and-e-book-fiction?api-key=P1yDSg62Aydsdh04WBBuS57pYbpBu2tb\n"
     ]
    },
    {
     "name": "stderr",
     "output_type": "stream",
     "text": [
      "C:\\Users\\melan\\AppData\\Local\\Temp\\ipykernel_22472\\373377676.py:27: FutureWarning: pandas.io.json.json_normalize is deprecated, use pandas.json_normalize instead.\n",
      "  books = json_normalize(results[\"results\"][\"books\"])\n"
     ]
    },
    {
     "name": "stdout",
     "output_type": "stream",
     "text": [
      "2013-09-02\n",
      "https://api.nytimes.com/svc/books/v3/lists/2013-09-02/combined-print-and-e-book-fiction?api-key=P1yDSg62Aydsdh04WBBuS57pYbpBu2tb\n"
     ]
    },
    {
     "name": "stderr",
     "output_type": "stream",
     "text": [
      "C:\\Users\\melan\\AppData\\Local\\Temp\\ipykernel_22472\\373377676.py:27: FutureWarning: pandas.io.json.json_normalize is deprecated, use pandas.json_normalize instead.\n",
      "  books = json_normalize(results[\"results\"][\"books\"])\n"
     ]
    },
    {
     "name": "stdout",
     "output_type": "stream",
     "text": [
      "2013-08-26\n",
      "https://api.nytimes.com/svc/books/v3/lists/2013-08-26/combined-print-and-e-book-fiction?api-key=P1yDSg62Aydsdh04WBBuS57pYbpBu2tb\n"
     ]
    },
    {
     "name": "stderr",
     "output_type": "stream",
     "text": [
      "C:\\Users\\melan\\AppData\\Local\\Temp\\ipykernel_22472\\373377676.py:27: FutureWarning: pandas.io.json.json_normalize is deprecated, use pandas.json_normalize instead.\n",
      "  books = json_normalize(results[\"results\"][\"books\"])\n"
     ]
    },
    {
     "name": "stdout",
     "output_type": "stream",
     "text": [
      "2013-08-19\n",
      "https://api.nytimes.com/svc/books/v3/lists/2013-08-19/combined-print-and-e-book-fiction?api-key=P1yDSg62Aydsdh04WBBuS57pYbpBu2tb\n"
     ]
    },
    {
     "name": "stderr",
     "output_type": "stream",
     "text": [
      "C:\\Users\\melan\\AppData\\Local\\Temp\\ipykernel_22472\\373377676.py:27: FutureWarning: pandas.io.json.json_normalize is deprecated, use pandas.json_normalize instead.\n",
      "  books = json_normalize(results[\"results\"][\"books\"])\n"
     ]
    },
    {
     "name": "stdout",
     "output_type": "stream",
     "text": [
      "2013-08-12\n",
      "https://api.nytimes.com/svc/books/v3/lists/2013-08-12/combined-print-and-e-book-fiction?api-key=P1yDSg62Aydsdh04WBBuS57pYbpBu2tb\n"
     ]
    },
    {
     "name": "stderr",
     "output_type": "stream",
     "text": [
      "C:\\Users\\melan\\AppData\\Local\\Temp\\ipykernel_22472\\373377676.py:27: FutureWarning: pandas.io.json.json_normalize is deprecated, use pandas.json_normalize instead.\n",
      "  books = json_normalize(results[\"results\"][\"books\"])\n"
     ]
    },
    {
     "name": "stdout",
     "output_type": "stream",
     "text": [
      "2013-08-05\n",
      "https://api.nytimes.com/svc/books/v3/lists/2013-08-05/combined-print-and-e-book-fiction?api-key=P1yDSg62Aydsdh04WBBuS57pYbpBu2tb\n"
     ]
    },
    {
     "name": "stderr",
     "output_type": "stream",
     "text": [
      "C:\\Users\\melan\\AppData\\Local\\Temp\\ipykernel_22472\\373377676.py:27: FutureWarning: pandas.io.json.json_normalize is deprecated, use pandas.json_normalize instead.\n",
      "  books = json_normalize(results[\"results\"][\"books\"])\n"
     ]
    },
    {
     "name": "stdout",
     "output_type": "stream",
     "text": [
      "2013-07-29\n",
      "https://api.nytimes.com/svc/books/v3/lists/2013-07-29/combined-print-and-e-book-fiction?api-key=P1yDSg62Aydsdh04WBBuS57pYbpBu2tb\n"
     ]
    },
    {
     "name": "stderr",
     "output_type": "stream",
     "text": [
      "C:\\Users\\melan\\AppData\\Local\\Temp\\ipykernel_22472\\373377676.py:27: FutureWarning: pandas.io.json.json_normalize is deprecated, use pandas.json_normalize instead.\n",
      "  books = json_normalize(results[\"results\"][\"books\"])\n"
     ]
    },
    {
     "name": "stdout",
     "output_type": "stream",
     "text": [
      "2013-07-22\n",
      "https://api.nytimes.com/svc/books/v3/lists/2013-07-22/combined-print-and-e-book-fiction?api-key=P1yDSg62Aydsdh04WBBuS57pYbpBu2tb\n"
     ]
    },
    {
     "name": "stderr",
     "output_type": "stream",
     "text": [
      "C:\\Users\\melan\\AppData\\Local\\Temp\\ipykernel_22472\\373377676.py:27: FutureWarning: pandas.io.json.json_normalize is deprecated, use pandas.json_normalize instead.\n",
      "  books = json_normalize(results[\"results\"][\"books\"])\n"
     ]
    },
    {
     "name": "stdout",
     "output_type": "stream",
     "text": [
      "2013-07-15\n",
      "https://api.nytimes.com/svc/books/v3/lists/2013-07-15/combined-print-and-e-book-fiction?api-key=P1yDSg62Aydsdh04WBBuS57pYbpBu2tb\n"
     ]
    },
    {
     "name": "stderr",
     "output_type": "stream",
     "text": [
      "C:\\Users\\melan\\AppData\\Local\\Temp\\ipykernel_22472\\373377676.py:27: FutureWarning: pandas.io.json.json_normalize is deprecated, use pandas.json_normalize instead.\n",
      "  books = json_normalize(results[\"results\"][\"books\"])\n"
     ]
    },
    {
     "name": "stdout",
     "output_type": "stream",
     "text": [
      "2013-07-08\n",
      "https://api.nytimes.com/svc/books/v3/lists/2013-07-08/combined-print-and-e-book-fiction?api-key=P1yDSg62Aydsdh04WBBuS57pYbpBu2tb\n"
     ]
    },
    {
     "name": "stderr",
     "output_type": "stream",
     "text": [
      "C:\\Users\\melan\\AppData\\Local\\Temp\\ipykernel_22472\\373377676.py:27: FutureWarning: pandas.io.json.json_normalize is deprecated, use pandas.json_normalize instead.\n",
      "  books = json_normalize(results[\"results\"][\"books\"])\n"
     ]
    },
    {
     "name": "stdout",
     "output_type": "stream",
     "text": [
      "2013-07-01\n",
      "https://api.nytimes.com/svc/books/v3/lists/2013-07-01/combined-print-and-e-book-fiction?api-key=P1yDSg62Aydsdh04WBBuS57pYbpBu2tb\n"
     ]
    },
    {
     "name": "stderr",
     "output_type": "stream",
     "text": [
      "C:\\Users\\melan\\AppData\\Local\\Temp\\ipykernel_22472\\373377676.py:27: FutureWarning: pandas.io.json.json_normalize is deprecated, use pandas.json_normalize instead.\n",
      "  books = json_normalize(results[\"results\"][\"books\"])\n"
     ]
    },
    {
     "name": "stdout",
     "output_type": "stream",
     "text": [
      "2013-06-24\n",
      "https://api.nytimes.com/svc/books/v3/lists/2013-06-24/combined-print-and-e-book-fiction?api-key=P1yDSg62Aydsdh04WBBuS57pYbpBu2tb\n"
     ]
    },
    {
     "name": "stderr",
     "output_type": "stream",
     "text": [
      "C:\\Users\\melan\\AppData\\Local\\Temp\\ipykernel_22472\\373377676.py:27: FutureWarning: pandas.io.json.json_normalize is deprecated, use pandas.json_normalize instead.\n",
      "  books = json_normalize(results[\"results\"][\"books\"])\n"
     ]
    },
    {
     "name": "stdout",
     "output_type": "stream",
     "text": [
      "2013-06-17\n",
      "https://api.nytimes.com/svc/books/v3/lists/2013-06-17/combined-print-and-e-book-fiction?api-key=P1yDSg62Aydsdh04WBBuS57pYbpBu2tb\n"
     ]
    },
    {
     "name": "stderr",
     "output_type": "stream",
     "text": [
      "C:\\Users\\melan\\AppData\\Local\\Temp\\ipykernel_22472\\373377676.py:27: FutureWarning: pandas.io.json.json_normalize is deprecated, use pandas.json_normalize instead.\n",
      "  books = json_normalize(results[\"results\"][\"books\"])\n"
     ]
    },
    {
     "name": "stdout",
     "output_type": "stream",
     "text": [
      "2013-06-10\n",
      "https://api.nytimes.com/svc/books/v3/lists/2013-06-10/combined-print-and-e-book-fiction?api-key=P1yDSg62Aydsdh04WBBuS57pYbpBu2tb\n"
     ]
    },
    {
     "name": "stderr",
     "output_type": "stream",
     "text": [
      "C:\\Users\\melan\\AppData\\Local\\Temp\\ipykernel_22472\\373377676.py:27: FutureWarning: pandas.io.json.json_normalize is deprecated, use pandas.json_normalize instead.\n",
      "  books = json_normalize(results[\"results\"][\"books\"])\n"
     ]
    },
    {
     "name": "stdout",
     "output_type": "stream",
     "text": [
      "2013-06-03\n",
      "https://api.nytimes.com/svc/books/v3/lists/2013-06-03/combined-print-and-e-book-fiction?api-key=P1yDSg62Aydsdh04WBBuS57pYbpBu2tb\n"
     ]
    },
    {
     "name": "stderr",
     "output_type": "stream",
     "text": [
      "C:\\Users\\melan\\AppData\\Local\\Temp\\ipykernel_22472\\373377676.py:27: FutureWarning: pandas.io.json.json_normalize is deprecated, use pandas.json_normalize instead.\n",
      "  books = json_normalize(results[\"results\"][\"books\"])\n"
     ]
    },
    {
     "ename": "TypeError",
     "evalue": "cannot concatenate object of type '<class 'list'>'; only Series and DataFrame objs are valid",
     "output_type": "error",
     "traceback": [
      "\u001b[1;31m---------------------------------------------------------------------------\u001b[0m",
      "\u001b[1;31mTypeError\u001b[0m                                 Traceback (most recent call last)",
      "Cell \u001b[1;32mIn[4], line 38\u001b[0m\n\u001b[0;32m     36\u001b[0m \u001b[39m#Save or process the data for the current call here\u001b[39;00m\n\u001b[0;32m     37\u001b[0m     call_data \u001b[39m=\u001b[39m pd\u001b[39m.\u001b[39mconcat(bestsellers)\n\u001b[1;32m---> 38\u001b[0m     bestsellers2 \u001b[39m=\u001b[39m pd\u001b[39m.\u001b[39;49mconcat([bestsellers, call_data])\n",
      "File \u001b[1;32mc:\\Users\\melan\\anaconda3\\lib\\site-packages\\pandas\\util\\_decorators.py:331\u001b[0m, in \u001b[0;36mdeprecate_nonkeyword_arguments.<locals>.decorate.<locals>.wrapper\u001b[1;34m(*args, **kwargs)\u001b[0m\n\u001b[0;32m    325\u001b[0m \u001b[39mif\u001b[39;00m \u001b[39mlen\u001b[39m(args) \u001b[39m>\u001b[39m num_allow_args:\n\u001b[0;32m    326\u001b[0m     warnings\u001b[39m.\u001b[39mwarn(\n\u001b[0;32m    327\u001b[0m         msg\u001b[39m.\u001b[39mformat(arguments\u001b[39m=\u001b[39m_format_argument_list(allow_args)),\n\u001b[0;32m    328\u001b[0m         \u001b[39mFutureWarning\u001b[39;00m,\n\u001b[0;32m    329\u001b[0m         stacklevel\u001b[39m=\u001b[39mfind_stack_level(),\n\u001b[0;32m    330\u001b[0m     )\n\u001b[1;32m--> 331\u001b[0m \u001b[39mreturn\u001b[39;00m func(\u001b[39m*\u001b[39margs, \u001b[39m*\u001b[39m\u001b[39m*\u001b[39mkwargs)\n",
      "File \u001b[1;32mc:\\Users\\melan\\anaconda3\\lib\\site-packages\\pandas\\core\\reshape\\concat.py:368\u001b[0m, in \u001b[0;36mconcat\u001b[1;34m(objs, axis, join, ignore_index, keys, levels, names, verify_integrity, sort, copy)\u001b[0m\n\u001b[0;32m    146\u001b[0m \u001b[39m@deprecate_nonkeyword_arguments\u001b[39m(version\u001b[39m=\u001b[39m\u001b[39mNone\u001b[39;00m, allowed_args\u001b[39m=\u001b[39m[\u001b[39m\"\u001b[39m\u001b[39mobjs\u001b[39m\u001b[39m\"\u001b[39m])\n\u001b[0;32m    147\u001b[0m \u001b[39mdef\u001b[39;00m \u001b[39mconcat\u001b[39m(\n\u001b[0;32m    148\u001b[0m     objs: Iterable[NDFrame] \u001b[39m|\u001b[39m Mapping[HashableT, NDFrame],\n\u001b[1;32m   (...)\u001b[0m\n\u001b[0;32m    157\u001b[0m     copy: \u001b[39mbool\u001b[39m \u001b[39m=\u001b[39m \u001b[39mTrue\u001b[39;00m,\n\u001b[0;32m    158\u001b[0m ) \u001b[39m-\u001b[39m\u001b[39m>\u001b[39m DataFrame \u001b[39m|\u001b[39m Series:\n\u001b[0;32m    159\u001b[0m     \u001b[39m\"\"\"\u001b[39;00m\n\u001b[0;32m    160\u001b[0m \u001b[39m    Concatenate pandas objects along a particular axis.\u001b[39;00m\n\u001b[0;32m    161\u001b[0m \n\u001b[1;32m   (...)\u001b[0m\n\u001b[0;32m    366\u001b[0m \u001b[39m    1   3   4\u001b[39;00m\n\u001b[0;32m    367\u001b[0m \u001b[39m    \"\"\"\u001b[39;00m\n\u001b[1;32m--> 368\u001b[0m     op \u001b[39m=\u001b[39m _Concatenator(\n\u001b[0;32m    369\u001b[0m         objs,\n\u001b[0;32m    370\u001b[0m         axis\u001b[39m=\u001b[39;49maxis,\n\u001b[0;32m    371\u001b[0m         ignore_index\u001b[39m=\u001b[39;49mignore_index,\n\u001b[0;32m    372\u001b[0m         join\u001b[39m=\u001b[39;49mjoin,\n\u001b[0;32m    373\u001b[0m         keys\u001b[39m=\u001b[39;49mkeys,\n\u001b[0;32m    374\u001b[0m         levels\u001b[39m=\u001b[39;49mlevels,\n\u001b[0;32m    375\u001b[0m         names\u001b[39m=\u001b[39;49mnames,\n\u001b[0;32m    376\u001b[0m         verify_integrity\u001b[39m=\u001b[39;49mverify_integrity,\n\u001b[0;32m    377\u001b[0m         copy\u001b[39m=\u001b[39;49mcopy,\n\u001b[0;32m    378\u001b[0m         sort\u001b[39m=\u001b[39;49msort,\n\u001b[0;32m    379\u001b[0m     )\n\u001b[0;32m    381\u001b[0m     \u001b[39mreturn\u001b[39;00m op\u001b[39m.\u001b[39mget_result()\n",
      "File \u001b[1;32mc:\\Users\\melan\\anaconda3\\lib\\site-packages\\pandas\\core\\reshape\\concat.py:458\u001b[0m, in \u001b[0;36m_Concatenator.__init__\u001b[1;34m(self, objs, axis, join, keys, levels, names, ignore_index, verify_integrity, copy, sort)\u001b[0m\n\u001b[0;32m    453\u001b[0m     \u001b[39mif\u001b[39;00m \u001b[39mnot\u001b[39;00m \u001b[39misinstance\u001b[39m(obj, (ABCSeries, ABCDataFrame)):\n\u001b[0;32m    454\u001b[0m         msg \u001b[39m=\u001b[39m (\n\u001b[0;32m    455\u001b[0m             \u001b[39mf\u001b[39m\u001b[39m\"\u001b[39m\u001b[39mcannot concatenate object of type \u001b[39m\u001b[39m'\u001b[39m\u001b[39m{\u001b[39;00m\u001b[39mtype\u001b[39m(obj)\u001b[39m}\u001b[39;00m\u001b[39m'\u001b[39m\u001b[39m; \u001b[39m\u001b[39m\"\u001b[39m\n\u001b[0;32m    456\u001b[0m             \u001b[39m\"\u001b[39m\u001b[39monly Series and DataFrame objs are valid\u001b[39m\u001b[39m\"\u001b[39m\n\u001b[0;32m    457\u001b[0m         )\n\u001b[1;32m--> 458\u001b[0m         \u001b[39mraise\u001b[39;00m \u001b[39mTypeError\u001b[39;00m(msg)\n\u001b[0;32m    460\u001b[0m     ndims\u001b[39m.\u001b[39madd(obj\u001b[39m.\u001b[39mndim)\n\u001b[0;32m    462\u001b[0m \u001b[39m# get the sample\u001b[39;00m\n\u001b[0;32m    463\u001b[0m \u001b[39m# want the highest ndim that we have, and must be non-empty\u001b[39;00m\n\u001b[0;32m    464\u001b[0m \u001b[39m# unless all objs are empty\u001b[39;00m\n",
      "\u001b[1;31mTypeError\u001b[0m: cannot concatenate object of type '<class 'list'>'; only Series and DataFrame objs are valid"
     ]
    }
   ],
   "source": [
    "#get previous 5 years\n",
    "\n",
    "BOOKS_ROOT = \"https://api.nytimes.com/svc/books/v3/lists\"\n",
    "LIST = \"combined-print-and-e-book-fiction\"\n",
    "API_KEY = keys.json\n",
    "\n",
    "bestsellers = []\n",
    "weeks = []\n",
    "num_calls_to_make = 1\n",
    "weeks_per_call = 260  # Number of weeks to fetch per API call\n",
    "\n",
    "for call_num in range(num_calls_to_make):\n",
    "    ctr = call_num * weeks_per_call\n",
    "    start_date = datetime.date(2018, 5, 21) - datetime.timedelta(weeks=ctr)\n",
    "    end_date = start_date - datetime.timedelta(weeks=weeks_per_call)\n",
    "    \n",
    "    for i in range(weeks_per_call):\n",
    "        curr_date = start_date - datetime.timedelta(weeks=i)\n",
    "        print(curr_date)\n",
    "        url = \"%s/%s/%s?api-key=%s\" % (BOOKS_ROOT, curr_date, LIST, API_KEY)\n",
    "        url = url.strip()\n",
    "        print(url)\n",
    "        r = requests.get(url)\n",
    "        \n",
    "        if r.status_code == 200:\n",
    "            results = r.json()\n",
    "            books = json_normalize(results[\"results\"][\"books\"])\n",
    "            bestsellers.append(books)\n",
    "            weeks.append(str(curr_date))\n",
    "        else:\n",
    "            print(\"API call did not work!\")\n",
    "            print(r)\n",
    "        \n",
    "        time.sleep(15)\n",
    "\n",
    "#Save or process the data for the current call here\n",
    "    call_data = pd.concat(bestsellers)\n",
    "    bestsellers2 = pd.concat([bestsellers, call_data])"
   ]
  },
  {
   "cell_type": "code",
   "execution_count": 16,
   "metadata": {},
   "outputs": [],
   "source": [
    "df = pd.DataFrame(call_data)"
   ]
  },
  {
   "cell_type": "code",
   "execution_count": 17,
   "metadata": {},
   "outputs": [
    {
     "data": {
      "text/html": [
       "<div>\n",
       "<style scoped>\n",
       "    .dataframe tbody tr th:only-of-type {\n",
       "        vertical-align: middle;\n",
       "    }\n",
       "\n",
       "    .dataframe tbody tr th {\n",
       "        vertical-align: top;\n",
       "    }\n",
       "\n",
       "    .dataframe thead th {\n",
       "        text-align: right;\n",
       "    }\n",
       "</style>\n",
       "<table border=\"1\" class=\"dataframe\">\n",
       "  <thead>\n",
       "    <tr style=\"text-align: right;\">\n",
       "      <th></th>\n",
       "      <th>rank</th>\n",
       "      <th>rank_last_week</th>\n",
       "      <th>weeks_on_list</th>\n",
       "      <th>asterisk</th>\n",
       "      <th>dagger</th>\n",
       "      <th>primary_isbn10</th>\n",
       "      <th>primary_isbn13</th>\n",
       "      <th>publisher</th>\n",
       "      <th>description</th>\n",
       "      <th>price</th>\n",
       "      <th>title</th>\n",
       "      <th>author</th>\n",
       "      <th>contributor</th>\n",
       "      <th>contributor_note</th>\n",
       "      <th>book_image</th>\n",
       "      <th>book_image_width</th>\n",
       "      <th>book_image_height</th>\n",
       "      <th>amazon_product_url</th>\n",
       "      <th>age_group</th>\n",
       "      <th>book_review_link</th>\n",
       "      <th>first_chapter_link</th>\n",
       "      <th>sunday_review_link</th>\n",
       "      <th>article_chapter_link</th>\n",
       "      <th>isbns</th>\n",
       "      <th>buy_links</th>\n",
       "      <th>book_uri</th>\n",
       "    </tr>\n",
       "  </thead>\n",
       "  <tbody>\n",
       "    <tr>\n",
       "      <th>0</th>\n",
       "      <td>1</td>\n",
       "      <td>1</td>\n",
       "      <td>2</td>\n",
       "      <td>0</td>\n",
       "      <td>0</td>\n",
       "      <td>0316274046</td>\n",
       "      <td>9780316274043</td>\n",
       "      <td>Little, Brown</td>\n",
       "      <td>The latest installment in the Women’s Murder C...</td>\n",
       "      <td>0.00</td>\n",
       "      <td>THE 17TH SUSPECT</td>\n",
       "      <td>James Patterson and Maxine Paetro</td>\n",
       "      <td>by James Patterson and Maxine Paetro</td>\n",
       "      <td></td>\n",
       "      <td>https://storage.googleapis.com/du-prd/books/im...</td>\n",
       "      <td>320.0</td>\n",
       "      <td>495.0</td>\n",
       "      <td>https://www.amazon.com/17th-Suspect-Womens-Mur...</td>\n",
       "      <td></td>\n",
       "      <td></td>\n",
       "      <td></td>\n",
       "      <td></td>\n",
       "      <td></td>\n",
       "      <td>[{'isbn10': '0316274046', 'isbn13': '978031627...</td>\n",
       "      <td>[{'name': 'Amazon', 'url': 'https://www.amazon...</td>\n",
       "      <td>nyt://book/7ae807ae-5910-5fe4-a92a-d634dbac645b</td>\n",
       "    </tr>\n",
       "    <tr>\n",
       "      <th>1</th>\n",
       "      <td>2</td>\n",
       "      <td>2</td>\n",
       "      <td>4</td>\n",
       "      <td>0</td>\n",
       "      <td>0</td>\n",
       "      <td>1538761394</td>\n",
       "      <td>9781538761397</td>\n",
       "      <td>Grand Central</td>\n",
       "      <td>Amos Decker, known as the Memory Man, puts his...</td>\n",
       "      <td>0.00</td>\n",
       "      <td>THE FALLEN</td>\n",
       "      <td>David Baldacci</td>\n",
       "      <td>by David Baldacci</td>\n",
       "      <td></td>\n",
       "      <td>https://storage.googleapis.com/du-prd/books/im...</td>\n",
       "      <td>328.0</td>\n",
       "      <td>495.0</td>\n",
       "      <td>https://www.amazon.com/Fallen-Memory-Man-David...</td>\n",
       "      <td></td>\n",
       "      <td></td>\n",
       "      <td></td>\n",
       "      <td></td>\n",
       "      <td></td>\n",
       "      <td>[{'isbn10': '1538761394', 'isbn13': '978153876...</td>\n",
       "      <td>[{'name': 'Amazon', 'url': 'https://www.amazon...</td>\n",
       "      <td>nyt://book/1125e0ae-7b0e-51da-b838-2cf6b360150c</td>\n",
       "    </tr>\n",
       "    <tr>\n",
       "      <th>2</th>\n",
       "      <td>3</td>\n",
       "      <td>0</td>\n",
       "      <td>1</td>\n",
       "      <td>0</td>\n",
       "      <td>0</td>\n",
       "      <td>0525483446</td>\n",
       "      <td>9780525483441</td>\n",
       "      <td>Bantam</td>\n",
       "      <td>The rogue F.B.I. agent Jane Hawk is on the lam...</td>\n",
       "      <td>0.00</td>\n",
       "      <td>THE CROOKED STAIRCASE</td>\n",
       "      <td>Dean Koontz</td>\n",
       "      <td>by Dean Koontz</td>\n",
       "      <td></td>\n",
       "      <td>https://storage.googleapis.com/du-prd/books/im...</td>\n",
       "      <td>326.0</td>\n",
       "      <td>495.0</td>\n",
       "      <td>https://www.amazon.com/Crooked-Staircase-Jane-...</td>\n",
       "      <td></td>\n",
       "      <td></td>\n",
       "      <td></td>\n",
       "      <td></td>\n",
       "      <td></td>\n",
       "      <td>[{'isbn10': '052548342X', 'isbn13': '978052548...</td>\n",
       "      <td>[{'name': 'Amazon', 'url': 'https://www.amazon...</td>\n",
       "      <td>nyt://book/2f7e77b5-ac10-5162-8e7d-0a26253b870c</td>\n",
       "    </tr>\n",
       "    <tr>\n",
       "      <th>3</th>\n",
       "      <td>4</td>\n",
       "      <td>0</td>\n",
       "      <td>1</td>\n",
       "      <td>0</td>\n",
       "      <td>0</td>\n",
       "      <td>1250126096</td>\n",
       "      <td>9781250126092</td>\n",
       "      <td>St. Martin's</td>\n",
       "      <td>An eccentric millionaire enlists the attorney ...</td>\n",
       "      <td>0.00</td>\n",
       "      <td>THE HIGH TIDE CLUB</td>\n",
       "      <td>Mary Kay Andrews</td>\n",
       "      <td>by Mary Kay Andrews</td>\n",
       "      <td></td>\n",
       "      <td>https://storage.googleapis.com/du-prd/books/im...</td>\n",
       "      <td>326.0</td>\n",
       "      <td>495.0</td>\n",
       "      <td>https://www.amazon.com/High-Tide-Club-Novel-eb...</td>\n",
       "      <td></td>\n",
       "      <td></td>\n",
       "      <td></td>\n",
       "      <td></td>\n",
       "      <td></td>\n",
       "      <td>[{'isbn10': '1250126061', 'isbn13': '978125012...</td>\n",
       "      <td>[{'name': 'Amazon', 'url': 'https://www.amazon...</td>\n",
       "      <td>nyt://book/25d190d1-c796-5f10-a3b9-75fc47340868</td>\n",
       "    </tr>\n",
       "    <tr>\n",
       "      <th>4</th>\n",
       "      <td>5</td>\n",
       "      <td>3</td>\n",
       "      <td>3</td>\n",
       "      <td>0</td>\n",
       "      <td>0</td>\n",
       "      <td>073521736X</td>\n",
       "      <td>9780735217362</td>\n",
       "      <td>Putnam</td>\n",
       "      <td>The 28th book in the Prey series. A federal ma...</td>\n",
       "      <td>0.00</td>\n",
       "      <td>TWISTED PREY</td>\n",
       "      <td>John Sandford</td>\n",
       "      <td>by John Sandford</td>\n",
       "      <td></td>\n",
       "      <td>https://storage.googleapis.com/du-prd/books/im...</td>\n",
       "      <td>328.0</td>\n",
       "      <td>495.0</td>\n",
       "      <td>https://www.amazon.com/Twisted-Prey-Novel-John...</td>\n",
       "      <td></td>\n",
       "      <td></td>\n",
       "      <td></td>\n",
       "      <td></td>\n",
       "      <td></td>\n",
       "      <td>[{'isbn10': '0735217351', 'isbn13': '978073521...</td>\n",
       "      <td>[{'name': 'Amazon', 'url': 'https://www.amazon...</td>\n",
       "      <td>nyt://book/67c1d531-ba20-5c69-b97a-fbaa5d39554b</td>\n",
       "    </tr>\n",
       "  </tbody>\n",
       "</table>\n",
       "</div>"
      ],
      "text/plain": [
       "   rank  rank_last_week  weeks_on_list  asterisk  dagger primary_isbn10  \\\n",
       "0     1               1              2         0       0     0316274046   \n",
       "1     2               2              4         0       0     1538761394   \n",
       "2     3               0              1         0       0     0525483446   \n",
       "3     4               0              1         0       0     1250126096   \n",
       "4     5               3              3         0       0     073521736X   \n",
       "\n",
       "  primary_isbn13      publisher  \\\n",
       "0  9780316274043  Little, Brown   \n",
       "1  9781538761397  Grand Central   \n",
       "2  9780525483441         Bantam   \n",
       "3  9781250126092   St. Martin's   \n",
       "4  9780735217362         Putnam   \n",
       "\n",
       "                                         description price  \\\n",
       "0  The latest installment in the Women’s Murder C...  0.00   \n",
       "1  Amos Decker, known as the Memory Man, puts his...  0.00   \n",
       "2  The rogue F.B.I. agent Jane Hawk is on the lam...  0.00   \n",
       "3  An eccentric millionaire enlists the attorney ...  0.00   \n",
       "4  The 28th book in the Prey series. A federal ma...  0.00   \n",
       "\n",
       "                   title                             author  \\\n",
       "0       THE 17TH SUSPECT  James Patterson and Maxine Paetro   \n",
       "1             THE FALLEN                     David Baldacci   \n",
       "2  THE CROOKED STAIRCASE                        Dean Koontz   \n",
       "3     THE HIGH TIDE CLUB                   Mary Kay Andrews   \n",
       "4           TWISTED PREY                      John Sandford   \n",
       "\n",
       "                            contributor contributor_note  \\\n",
       "0  by James Patterson and Maxine Paetro                    \n",
       "1                     by David Baldacci                    \n",
       "2                        by Dean Koontz                    \n",
       "3                   by Mary Kay Andrews                    \n",
       "4                      by John Sandford                    \n",
       "\n",
       "                                          book_image  book_image_width  \\\n",
       "0  https://storage.googleapis.com/du-prd/books/im...             320.0   \n",
       "1  https://storage.googleapis.com/du-prd/books/im...             328.0   \n",
       "2  https://storage.googleapis.com/du-prd/books/im...             326.0   \n",
       "3  https://storage.googleapis.com/du-prd/books/im...             326.0   \n",
       "4  https://storage.googleapis.com/du-prd/books/im...             328.0   \n",
       "\n",
       "   book_image_height                                 amazon_product_url  \\\n",
       "0              495.0  https://www.amazon.com/17th-Suspect-Womens-Mur...   \n",
       "1              495.0  https://www.amazon.com/Fallen-Memory-Man-David...   \n",
       "2              495.0  https://www.amazon.com/Crooked-Staircase-Jane-...   \n",
       "3              495.0  https://www.amazon.com/High-Tide-Club-Novel-eb...   \n",
       "4              495.0  https://www.amazon.com/Twisted-Prey-Novel-John...   \n",
       "\n",
       "  age_group book_review_link first_chapter_link sunday_review_link  \\\n",
       "0                                                                    \n",
       "1                                                                    \n",
       "2                                                                    \n",
       "3                                                                    \n",
       "4                                                                    \n",
       "\n",
       "  article_chapter_link                                              isbns  \\\n",
       "0                       [{'isbn10': '0316274046', 'isbn13': '978031627...   \n",
       "1                       [{'isbn10': '1538761394', 'isbn13': '978153876...   \n",
       "2                       [{'isbn10': '052548342X', 'isbn13': '978052548...   \n",
       "3                       [{'isbn10': '1250126061', 'isbn13': '978125012...   \n",
       "4                       [{'isbn10': '0735217351', 'isbn13': '978073521...   \n",
       "\n",
       "                                           buy_links  \\\n",
       "0  [{'name': 'Amazon', 'url': 'https://www.amazon...   \n",
       "1  [{'name': 'Amazon', 'url': 'https://www.amazon...   \n",
       "2  [{'name': 'Amazon', 'url': 'https://www.amazon...   \n",
       "3  [{'name': 'Amazon', 'url': 'https://www.amazon...   \n",
       "4  [{'name': 'Amazon', 'url': 'https://www.amazon...   \n",
       "\n",
       "                                          book_uri  \n",
       "0  nyt://book/7ae807ae-5910-5fe4-a92a-d634dbac645b  \n",
       "1  nyt://book/1125e0ae-7b0e-51da-b838-2cf6b360150c  \n",
       "2  nyt://book/2f7e77b5-ac10-5162-8e7d-0a26253b870c  \n",
       "3  nyt://book/25d190d1-c796-5f10-a3b9-75fc47340868  \n",
       "4  nyt://book/67c1d531-ba20-5c69-b97a-fbaa5d39554b  "
      ]
     },
     "execution_count": 17,
     "metadata": {},
     "output_type": "execute_result"
    }
   ],
   "source": [
    "df.head()"
   ]
  },
  {
   "cell_type": "code",
   "execution_count": 18,
   "metadata": {},
   "outputs": [
    {
     "data": {
      "text/html": [
       "<div>\n",
       "<style scoped>\n",
       "    .dataframe tbody tr th:only-of-type {\n",
       "        vertical-align: middle;\n",
       "    }\n",
       "\n",
       "    .dataframe tbody tr th {\n",
       "        vertical-align: top;\n",
       "    }\n",
       "\n",
       "    .dataframe thead th {\n",
       "        text-align: right;\n",
       "    }\n",
       "</style>\n",
       "<table border=\"1\" class=\"dataframe\">\n",
       "  <thead>\n",
       "    <tr style=\"text-align: right;\">\n",
       "      <th></th>\n",
       "      <th>rank</th>\n",
       "      <th>rank_last_week</th>\n",
       "      <th>weeks_on_list</th>\n",
       "      <th>asterisk</th>\n",
       "      <th>dagger</th>\n",
       "      <th>primary_isbn10</th>\n",
       "      <th>primary_isbn13</th>\n",
       "      <th>publisher</th>\n",
       "      <th>description</th>\n",
       "      <th>price</th>\n",
       "      <th>title</th>\n",
       "      <th>author</th>\n",
       "      <th>contributor</th>\n",
       "      <th>contributor_note</th>\n",
       "      <th>book_image</th>\n",
       "      <th>book_image_width</th>\n",
       "      <th>book_image_height</th>\n",
       "      <th>amazon_product_url</th>\n",
       "      <th>age_group</th>\n",
       "      <th>book_review_link</th>\n",
       "      <th>first_chapter_link</th>\n",
       "      <th>sunday_review_link</th>\n",
       "      <th>article_chapter_link</th>\n",
       "      <th>isbns</th>\n",
       "      <th>buy_links</th>\n",
       "      <th>book_uri</th>\n",
       "    </tr>\n",
       "  </thead>\n",
       "  <tbody>\n",
       "    <tr>\n",
       "      <th>15</th>\n",
       "      <td>16</td>\n",
       "      <td>0</td>\n",
       "      <td>0</td>\n",
       "      <td>0</td>\n",
       "      <td>0</td>\n",
       "      <td>0345507843</td>\n",
       "      <td>9780345507846</td>\n",
       "      <td>Ballantine</td>\n",
       "      <td>Over the course of four decades, five diverse ...</td>\n",
       "      <td>0.00</td>\n",
       "      <td>THE WEDNESDAY SISTERS</td>\n",
       "      <td>Meg Waite Clayton</td>\n",
       "      <td>by Meg Waite Clayton</td>\n",
       "      <td></td>\n",
       "      <td>https://storage.googleapis.com/du-prd/books/im...</td>\n",
       "      <td>326.0</td>\n",
       "      <td>495.0</td>\n",
       "      <td>http://www.amazon.com/The-Wednesday-Sisters-A-...</td>\n",
       "      <td></td>\n",
       "      <td></td>\n",
       "      <td></td>\n",
       "      <td></td>\n",
       "      <td></td>\n",
       "      <td>[{'isbn10': '0345507843', 'isbn13': '978034550...</td>\n",
       "      <td>[{'name': 'Amazon', 'url': 'http://www.amazon....</td>\n",
       "      <td>nyt://book/6c9b59fc-cbac-5e9d-865d-df59de7097db</td>\n",
       "    </tr>\n",
       "    <tr>\n",
       "      <th>16</th>\n",
       "      <td>17</td>\n",
       "      <td>0</td>\n",
       "      <td>0</td>\n",
       "      <td>0</td>\n",
       "      <td>0</td>\n",
       "      <td>None</td>\n",
       "      <td>A00B00CLXL4HW</td>\n",
       "      <td>Cassia Leo</td>\n",
       "      <td>Claire must choose between the surfer Adam Par...</td>\n",
       "      <td>0.00</td>\n",
       "      <td>PIECES OF YOU</td>\n",
       "      <td>Cassia Leo</td>\n",
       "      <td>by Cassia Leo</td>\n",
       "      <td></td>\n",
       "      <td>https://storage.googleapis.com/du-prd/books/im...</td>\n",
       "      <td>330.0</td>\n",
       "      <td>495.0</td>\n",
       "      <td>http://www.amazon.com/Pieces-You-Shattered-Hea...</td>\n",
       "      <td></td>\n",
       "      <td></td>\n",
       "      <td></td>\n",
       "      <td></td>\n",
       "      <td></td>\n",
       "      <td>[]</td>\n",
       "      <td>[{'name': 'Amazon', 'url': 'http://www.amazon....</td>\n",
       "      <td>nyt://book/dbc5ef95-5f1d-5009-a9af-8fa91912a54f</td>\n",
       "    </tr>\n",
       "    <tr>\n",
       "      <th>17</th>\n",
       "      <td>18</td>\n",
       "      <td>0</td>\n",
       "      <td>0</td>\n",
       "      <td>0</td>\n",
       "      <td>0</td>\n",
       "      <td>None</td>\n",
       "      <td>9780062292117</td>\n",
       "      <td>Morrow</td>\n",
       "      <td>All good intentions go out the window when the...</td>\n",
       "      <td>0.00</td>\n",
       "      <td>STEALING HARPER</td>\n",
       "      <td>Molly McAdams</td>\n",
       "      <td>by Molly McAdams</td>\n",
       "      <td></td>\n",
       "      <td>https://storage.googleapis.com/du-prd/books/im...</td>\n",
       "      <td>308.0</td>\n",
       "      <td>495.0</td>\n",
       "      <td>http://www.amazon.com/Stealing-Harper-Taking-C...</td>\n",
       "      <td></td>\n",
       "      <td></td>\n",
       "      <td></td>\n",
       "      <td></td>\n",
       "      <td></td>\n",
       "      <td>[]</td>\n",
       "      <td>[{'name': 'Amazon', 'url': 'http://www.amazon....</td>\n",
       "      <td>nyt://book/d2fa42c7-11be-5b73-aa68-7bac5b752827</td>\n",
       "    </tr>\n",
       "    <tr>\n",
       "      <th>18</th>\n",
       "      <td>19</td>\n",
       "      <td>0</td>\n",
       "      <td>0</td>\n",
       "      <td>0</td>\n",
       "      <td>0</td>\n",
       "      <td>1455546313</td>\n",
       "      <td>9781455546312</td>\n",
       "      <td>Grand Central</td>\n",
       "      <td>The ordeal of a New Orleans woman suspected of...</td>\n",
       "      <td>0.00</td>\n",
       "      <td>FRENCH SILK</td>\n",
       "      <td>Sandra Brown</td>\n",
       "      <td>by Sandra Brown</td>\n",
       "      <td></td>\n",
       "      <td>https://storage.googleapis.com/du-prd/books/im...</td>\n",
       "      <td>128.0</td>\n",
       "      <td>209.0</td>\n",
       "      <td>http://www.amazon.com/French-Silk-Sandra-Brown...</td>\n",
       "      <td></td>\n",
       "      <td></td>\n",
       "      <td></td>\n",
       "      <td></td>\n",
       "      <td></td>\n",
       "      <td>[{'isbn10': '1455546313', 'isbn13': '978145554...</td>\n",
       "      <td>[{'name': 'Amazon', 'url': 'http://www.amazon....</td>\n",
       "      <td>nyt://book/fcce016d-ec30-5991-bdbf-4493a3b97780</td>\n",
       "    </tr>\n",
       "    <tr>\n",
       "      <th>19</th>\n",
       "      <td>20</td>\n",
       "      <td>0</td>\n",
       "      <td>0</td>\n",
       "      <td>0</td>\n",
       "      <td>0</td>\n",
       "      <td>0553897845</td>\n",
       "      <td>9780553897845</td>\n",
       "      <td>Bantam</td>\n",
       "      <td>In the frozen wastes to the north of Winterfel...</td>\n",
       "      <td>0.00</td>\n",
       "      <td>A GAME OF THRONES</td>\n",
       "      <td>George RR Martin</td>\n",
       "      <td>by George R.R. Martin</td>\n",
       "      <td></td>\n",
       "      <td>https://storage.googleapis.com/du-prd/books/im...</td>\n",
       "      <td>301.0</td>\n",
       "      <td>495.0</td>\n",
       "      <td>http://www.amazon.com/Game-Thrones-Song-Fire-B...</td>\n",
       "      <td></td>\n",
       "      <td></td>\n",
       "      <td></td>\n",
       "      <td></td>\n",
       "      <td>https://www.nytimes.com/2011/04/10/arts/televi...</td>\n",
       "      <td>[{'isbn10': '0553573403', 'isbn13': '978055357...</td>\n",
       "      <td>[{'name': 'Amazon', 'url': 'http://www.amazon....</td>\n",
       "      <td>nyt://book/4dfc5533-8154-5fdd-ae02-efee1f59dd3d</td>\n",
       "    </tr>\n",
       "  </tbody>\n",
       "</table>\n",
       "</div>"
      ],
      "text/plain": [
       "    rank  rank_last_week  weeks_on_list  asterisk  dagger primary_isbn10  \\\n",
       "15    16               0              0         0       0     0345507843   \n",
       "16    17               0              0         0       0           None   \n",
       "17    18               0              0         0       0           None   \n",
       "18    19               0              0         0       0     1455546313   \n",
       "19    20               0              0         0       0     0553897845   \n",
       "\n",
       "   primary_isbn13      publisher  \\\n",
       "15  9780345507846     Ballantine   \n",
       "16  A00B00CLXL4HW     Cassia Leo   \n",
       "17  9780062292117         Morrow   \n",
       "18  9781455546312  Grand Central   \n",
       "19  9780553897845         Bantam   \n",
       "\n",
       "                                          description price  \\\n",
       "15  Over the course of four decades, five diverse ...  0.00   \n",
       "16  Claire must choose between the surfer Adam Par...  0.00   \n",
       "17  All good intentions go out the window when the...  0.00   \n",
       "18  The ordeal of a New Orleans woman suspected of...  0.00   \n",
       "19  In the frozen wastes to the north of Winterfel...  0.00   \n",
       "\n",
       "                    title             author            contributor  \\\n",
       "15  THE WEDNESDAY SISTERS  Meg Waite Clayton   by Meg Waite Clayton   \n",
       "16          PIECES OF YOU         Cassia Leo          by Cassia Leo   \n",
       "17        STEALING HARPER      Molly McAdams       by Molly McAdams   \n",
       "18            FRENCH SILK       Sandra Brown        by Sandra Brown   \n",
       "19      A GAME OF THRONES   George RR Martin  by George R.R. Martin   \n",
       "\n",
       "   contributor_note                                         book_image  \\\n",
       "15                   https://storage.googleapis.com/du-prd/books/im...   \n",
       "16                   https://storage.googleapis.com/du-prd/books/im...   \n",
       "17                   https://storage.googleapis.com/du-prd/books/im...   \n",
       "18                   https://storage.googleapis.com/du-prd/books/im...   \n",
       "19                   https://storage.googleapis.com/du-prd/books/im...   \n",
       "\n",
       "    book_image_width  book_image_height  \\\n",
       "15             326.0              495.0   \n",
       "16             330.0              495.0   \n",
       "17             308.0              495.0   \n",
       "18             128.0              209.0   \n",
       "19             301.0              495.0   \n",
       "\n",
       "                                   amazon_product_url age_group  \\\n",
       "15  http://www.amazon.com/The-Wednesday-Sisters-A-...             \n",
       "16  http://www.amazon.com/Pieces-You-Shattered-Hea...             \n",
       "17  http://www.amazon.com/Stealing-Harper-Taking-C...             \n",
       "18  http://www.amazon.com/French-Silk-Sandra-Brown...             \n",
       "19  http://www.amazon.com/Game-Thrones-Song-Fire-B...             \n",
       "\n",
       "   book_review_link first_chapter_link sunday_review_link  \\\n",
       "15                                                          \n",
       "16                                                          \n",
       "17                                                          \n",
       "18                                                          \n",
       "19                                                          \n",
       "\n",
       "                                 article_chapter_link  \\\n",
       "15                                                      \n",
       "16                                                      \n",
       "17                                                      \n",
       "18                                                      \n",
       "19  https://www.nytimes.com/2011/04/10/arts/televi...   \n",
       "\n",
       "                                                isbns  \\\n",
       "15  [{'isbn10': '0345507843', 'isbn13': '978034550...   \n",
       "16                                                 []   \n",
       "17                                                 []   \n",
       "18  [{'isbn10': '1455546313', 'isbn13': '978145554...   \n",
       "19  [{'isbn10': '0553573403', 'isbn13': '978055357...   \n",
       "\n",
       "                                            buy_links  \\\n",
       "15  [{'name': 'Amazon', 'url': 'http://www.amazon....   \n",
       "16  [{'name': 'Amazon', 'url': 'http://www.amazon....   \n",
       "17  [{'name': 'Amazon', 'url': 'http://www.amazon....   \n",
       "18  [{'name': 'Amazon', 'url': 'http://www.amazon....   \n",
       "19  [{'name': 'Amazon', 'url': 'http://www.amazon....   \n",
       "\n",
       "                                           book_uri  \n",
       "15  nyt://book/6c9b59fc-cbac-5e9d-865d-df59de7097db  \n",
       "16  nyt://book/dbc5ef95-5f1d-5009-a9af-8fa91912a54f  \n",
       "17  nyt://book/d2fa42c7-11be-5b73-aa68-7bac5b752827  \n",
       "18  nyt://book/fcce016d-ec30-5991-bdbf-4493a3b97780  \n",
       "19  nyt://book/4dfc5533-8154-5fdd-ae02-efee1f59dd3d  "
      ]
     },
     "execution_count": 18,
     "metadata": {},
     "output_type": "execute_result"
    }
   ],
   "source": [
    "df.tail()"
   ]
  },
  {
   "cell_type": "code",
   "execution_count": 19,
   "metadata": {},
   "outputs": [
    {
     "data": {
      "text/plain": [
       "(4855, 26)"
      ]
     },
     "execution_count": 19,
     "metadata": {},
     "output_type": "execute_result"
    }
   ],
   "source": [
    "df.shape"
   ]
  },
  {
   "cell_type": "code",
   "execution_count": 20,
   "metadata": {},
   "outputs": [
    {
     "data": {
      "text/plain": [
       "260"
      ]
     },
     "execution_count": 20,
     "metadata": {},
     "output_type": "execute_result"
    }
   ],
   "source": [
    "len(weeks)"
   ]
  },
  {
   "cell_type": "code",
   "execution_count": 21,
   "metadata": {},
   "outputs": [],
   "source": [
    "#repeat weeks 16 times to add to df\n",
    "#https://www.pythonforbeginners.com/lists/repeat-each-element-in-a-list-in-python\n",
    "k = 15\n",
    "repeated_weeks = []\n",
    "for element in weeks:\n",
    "    for i in range(k):\n",
    "       repeated_weeks.append(element)"
   ]
  },
  {
   "cell_type": "code",
   "execution_count": 22,
   "metadata": {},
   "outputs": [
    {
     "data": {
      "text/plain": [
       "3900"
      ]
     },
     "execution_count": 22,
     "metadata": {},
     "output_type": "execute_result"
    }
   ],
   "source": [
    "len(repeated_weeks)"
   ]
  },
  {
   "cell_type": "code",
   "execution_count": 23,
   "metadata": {},
   "outputs": [],
   "source": [
    "df.to_csv(\"C:\\\\Users\\\\melan\\\\Documents\\\\DA8\\\\Projects\\\\capstone\\\\2013-2018_nyt_bestsellers_data.csv\", index=False)"
   ]
  },
  {
   "cell_type": "code",
   "execution_count": 24,
   "metadata": {},
   "outputs": [
    {
     "name": "stdout",
     "output_type": "stream",
     "text": [
      "<class 'pandas.core.frame.DataFrame'>\n",
      "Int64Index: 4855 entries, 0 to 19\n",
      "Data columns (total 26 columns):\n",
      " #   Column                Non-Null Count  Dtype  \n",
      "---  ------                --------------  -----  \n",
      " 0   rank                  4855 non-null   int64  \n",
      " 1   rank_last_week        4855 non-null   int64  \n",
      " 2   weeks_on_list         4855 non-null   int64  \n",
      " 3   asterisk              4855 non-null   int64  \n",
      " 4   dagger                4855 non-null   int64  \n",
      " 5   primary_isbn10        4855 non-null   object \n",
      " 6   primary_isbn13        4855 non-null   object \n",
      " 7   publisher             4855 non-null   object \n",
      " 8   description           4855 non-null   object \n",
      " 9   price                 4855 non-null   object \n",
      " 10  title                 4855 non-null   object \n",
      " 11  author                4855 non-null   object \n",
      " 12  contributor           4855 non-null   object \n",
      " 13  contributor_note      4855 non-null   object \n",
      " 14  book_image            4846 non-null   object \n",
      " 15  book_image_width      4846 non-null   float64\n",
      " 16  book_image_height     4846 non-null   float64\n",
      " 17  amazon_product_url    4840 non-null   object \n",
      " 18  age_group             4855 non-null   object \n",
      " 19  book_review_link      4855 non-null   object \n",
      " 20  first_chapter_link    4855 non-null   object \n",
      " 21  sunday_review_link    4855 non-null   object \n",
      " 22  article_chapter_link  4855 non-null   object \n",
      " 23  isbns                 4855 non-null   object \n",
      " 24  buy_links             4855 non-null   object \n",
      " 25  book_uri              4855 non-null   object \n",
      "dtypes: float64(2), int64(5), object(19)\n",
      "memory usage: 1.0+ MB\n"
     ]
    }
   ],
   "source": [
    "df.info()"
   ]
  },
  {
   "cell_type": "code",
   "execution_count": 25,
   "metadata": {},
   "outputs": [],
   "source": [
    "#after looking at head and tail, it looks like they switched from top 20 to top 15 at some point\n",
    "#for normalization, let's narrow it down to top 15 across all weeks\n",
    "#https://www.geeksforgeeks.org/python-pandas-dataframe-isin/\n",
    "df['rank'] = df['rank'].astype(str)\n",
    "filter_15 = df['rank'].isin(['1', '2', '3', '4', '5', '6', '7', '8', '9', '10', '11', '12', '13', '14', '15'])"
   ]
  },
  {
   "cell_type": "code",
   "execution_count": 26,
   "metadata": {},
   "outputs": [],
   "source": [
    "top_15_combined_bestsellers_2013_2018 = df[filter_15]"
   ]
  },
  {
   "cell_type": "code",
   "execution_count": 27,
   "metadata": {},
   "outputs": [
    {
     "data": {
      "text/html": [
       "<div>\n",
       "<style scoped>\n",
       "    .dataframe tbody tr th:only-of-type {\n",
       "        vertical-align: middle;\n",
       "    }\n",
       "\n",
       "    .dataframe tbody tr th {\n",
       "        vertical-align: top;\n",
       "    }\n",
       "\n",
       "    .dataframe thead th {\n",
       "        text-align: right;\n",
       "    }\n",
       "</style>\n",
       "<table border=\"1\" class=\"dataframe\">\n",
       "  <thead>\n",
       "    <tr style=\"text-align: right;\">\n",
       "      <th></th>\n",
       "      <th>rank</th>\n",
       "      <th>rank_last_week</th>\n",
       "      <th>weeks_on_list</th>\n",
       "      <th>asterisk</th>\n",
       "      <th>dagger</th>\n",
       "      <th>primary_isbn10</th>\n",
       "      <th>primary_isbn13</th>\n",
       "      <th>publisher</th>\n",
       "      <th>description</th>\n",
       "      <th>price</th>\n",
       "      <th>title</th>\n",
       "      <th>author</th>\n",
       "      <th>contributor</th>\n",
       "      <th>contributor_note</th>\n",
       "      <th>book_image</th>\n",
       "      <th>book_image_width</th>\n",
       "      <th>book_image_height</th>\n",
       "      <th>amazon_product_url</th>\n",
       "      <th>age_group</th>\n",
       "      <th>book_review_link</th>\n",
       "      <th>first_chapter_link</th>\n",
       "      <th>sunday_review_link</th>\n",
       "      <th>article_chapter_link</th>\n",
       "      <th>isbns</th>\n",
       "      <th>buy_links</th>\n",
       "      <th>book_uri</th>\n",
       "    </tr>\n",
       "  </thead>\n",
       "  <tbody>\n",
       "    <tr>\n",
       "      <th>0</th>\n",
       "      <td>1</td>\n",
       "      <td>1</td>\n",
       "      <td>2</td>\n",
       "      <td>0</td>\n",
       "      <td>0</td>\n",
       "      <td>0316274046</td>\n",
       "      <td>9780316274043</td>\n",
       "      <td>Little, Brown</td>\n",
       "      <td>The latest installment in the Women’s Murder C...</td>\n",
       "      <td>0.00</td>\n",
       "      <td>THE 17TH SUSPECT</td>\n",
       "      <td>James Patterson and Maxine Paetro</td>\n",
       "      <td>by James Patterson and Maxine Paetro</td>\n",
       "      <td></td>\n",
       "      <td>https://storage.googleapis.com/du-prd/books/im...</td>\n",
       "      <td>320.0</td>\n",
       "      <td>495.0</td>\n",
       "      <td>https://www.amazon.com/17th-Suspect-Womens-Mur...</td>\n",
       "      <td></td>\n",
       "      <td></td>\n",
       "      <td></td>\n",
       "      <td></td>\n",
       "      <td></td>\n",
       "      <td>[{'isbn10': '0316274046', 'isbn13': '978031627...</td>\n",
       "      <td>[{'name': 'Amazon', 'url': 'https://www.amazon...</td>\n",
       "      <td>nyt://book/7ae807ae-5910-5fe4-a92a-d634dbac645b</td>\n",
       "    </tr>\n",
       "    <tr>\n",
       "      <th>1</th>\n",
       "      <td>2</td>\n",
       "      <td>2</td>\n",
       "      <td>4</td>\n",
       "      <td>0</td>\n",
       "      <td>0</td>\n",
       "      <td>1538761394</td>\n",
       "      <td>9781538761397</td>\n",
       "      <td>Grand Central</td>\n",
       "      <td>Amos Decker, known as the Memory Man, puts his...</td>\n",
       "      <td>0.00</td>\n",
       "      <td>THE FALLEN</td>\n",
       "      <td>David Baldacci</td>\n",
       "      <td>by David Baldacci</td>\n",
       "      <td></td>\n",
       "      <td>https://storage.googleapis.com/du-prd/books/im...</td>\n",
       "      <td>328.0</td>\n",
       "      <td>495.0</td>\n",
       "      <td>https://www.amazon.com/Fallen-Memory-Man-David...</td>\n",
       "      <td></td>\n",
       "      <td></td>\n",
       "      <td></td>\n",
       "      <td></td>\n",
       "      <td></td>\n",
       "      <td>[{'isbn10': '1538761394', 'isbn13': '978153876...</td>\n",
       "      <td>[{'name': 'Amazon', 'url': 'https://www.amazon...</td>\n",
       "      <td>nyt://book/1125e0ae-7b0e-51da-b838-2cf6b360150c</td>\n",
       "    </tr>\n",
       "    <tr>\n",
       "      <th>2</th>\n",
       "      <td>3</td>\n",
       "      <td>0</td>\n",
       "      <td>1</td>\n",
       "      <td>0</td>\n",
       "      <td>0</td>\n",
       "      <td>0525483446</td>\n",
       "      <td>9780525483441</td>\n",
       "      <td>Bantam</td>\n",
       "      <td>The rogue F.B.I. agent Jane Hawk is on the lam...</td>\n",
       "      <td>0.00</td>\n",
       "      <td>THE CROOKED STAIRCASE</td>\n",
       "      <td>Dean Koontz</td>\n",
       "      <td>by Dean Koontz</td>\n",
       "      <td></td>\n",
       "      <td>https://storage.googleapis.com/du-prd/books/im...</td>\n",
       "      <td>326.0</td>\n",
       "      <td>495.0</td>\n",
       "      <td>https://www.amazon.com/Crooked-Staircase-Jane-...</td>\n",
       "      <td></td>\n",
       "      <td></td>\n",
       "      <td></td>\n",
       "      <td></td>\n",
       "      <td></td>\n",
       "      <td>[{'isbn10': '052548342X', 'isbn13': '978052548...</td>\n",
       "      <td>[{'name': 'Amazon', 'url': 'https://www.amazon...</td>\n",
       "      <td>nyt://book/2f7e77b5-ac10-5162-8e7d-0a26253b870c</td>\n",
       "    </tr>\n",
       "    <tr>\n",
       "      <th>3</th>\n",
       "      <td>4</td>\n",
       "      <td>0</td>\n",
       "      <td>1</td>\n",
       "      <td>0</td>\n",
       "      <td>0</td>\n",
       "      <td>1250126096</td>\n",
       "      <td>9781250126092</td>\n",
       "      <td>St. Martin's</td>\n",
       "      <td>An eccentric millionaire enlists the attorney ...</td>\n",
       "      <td>0.00</td>\n",
       "      <td>THE HIGH TIDE CLUB</td>\n",
       "      <td>Mary Kay Andrews</td>\n",
       "      <td>by Mary Kay Andrews</td>\n",
       "      <td></td>\n",
       "      <td>https://storage.googleapis.com/du-prd/books/im...</td>\n",
       "      <td>326.0</td>\n",
       "      <td>495.0</td>\n",
       "      <td>https://www.amazon.com/High-Tide-Club-Novel-eb...</td>\n",
       "      <td></td>\n",
       "      <td></td>\n",
       "      <td></td>\n",
       "      <td></td>\n",
       "      <td></td>\n",
       "      <td>[{'isbn10': '1250126061', 'isbn13': '978125012...</td>\n",
       "      <td>[{'name': 'Amazon', 'url': 'https://www.amazon...</td>\n",
       "      <td>nyt://book/25d190d1-c796-5f10-a3b9-75fc47340868</td>\n",
       "    </tr>\n",
       "    <tr>\n",
       "      <th>4</th>\n",
       "      <td>5</td>\n",
       "      <td>3</td>\n",
       "      <td>3</td>\n",
       "      <td>0</td>\n",
       "      <td>0</td>\n",
       "      <td>073521736X</td>\n",
       "      <td>9780735217362</td>\n",
       "      <td>Putnam</td>\n",
       "      <td>The 28th book in the Prey series. A federal ma...</td>\n",
       "      <td>0.00</td>\n",
       "      <td>TWISTED PREY</td>\n",
       "      <td>John Sandford</td>\n",
       "      <td>by John Sandford</td>\n",
       "      <td></td>\n",
       "      <td>https://storage.googleapis.com/du-prd/books/im...</td>\n",
       "      <td>328.0</td>\n",
       "      <td>495.0</td>\n",
       "      <td>https://www.amazon.com/Twisted-Prey-Novel-John...</td>\n",
       "      <td></td>\n",
       "      <td></td>\n",
       "      <td></td>\n",
       "      <td></td>\n",
       "      <td></td>\n",
       "      <td>[{'isbn10': '0735217351', 'isbn13': '978073521...</td>\n",
       "      <td>[{'name': 'Amazon', 'url': 'https://www.amazon...</td>\n",
       "      <td>nyt://book/67c1d531-ba20-5c69-b97a-fbaa5d39554b</td>\n",
       "    </tr>\n",
       "  </tbody>\n",
       "</table>\n",
       "</div>"
      ],
      "text/plain": [
       "  rank  rank_last_week  weeks_on_list  asterisk  dagger primary_isbn10  \\\n",
       "0    1               1              2         0       0     0316274046   \n",
       "1    2               2              4         0       0     1538761394   \n",
       "2    3               0              1         0       0     0525483446   \n",
       "3    4               0              1         0       0     1250126096   \n",
       "4    5               3              3         0       0     073521736X   \n",
       "\n",
       "  primary_isbn13      publisher  \\\n",
       "0  9780316274043  Little, Brown   \n",
       "1  9781538761397  Grand Central   \n",
       "2  9780525483441         Bantam   \n",
       "3  9781250126092   St. Martin's   \n",
       "4  9780735217362         Putnam   \n",
       "\n",
       "                                         description price  \\\n",
       "0  The latest installment in the Women’s Murder C...  0.00   \n",
       "1  Amos Decker, known as the Memory Man, puts his...  0.00   \n",
       "2  The rogue F.B.I. agent Jane Hawk is on the lam...  0.00   \n",
       "3  An eccentric millionaire enlists the attorney ...  0.00   \n",
       "4  The 28th book in the Prey series. A federal ma...  0.00   \n",
       "\n",
       "                   title                             author  \\\n",
       "0       THE 17TH SUSPECT  James Patterson and Maxine Paetro   \n",
       "1             THE FALLEN                     David Baldacci   \n",
       "2  THE CROOKED STAIRCASE                        Dean Koontz   \n",
       "3     THE HIGH TIDE CLUB                   Mary Kay Andrews   \n",
       "4           TWISTED PREY                      John Sandford   \n",
       "\n",
       "                            contributor contributor_note  \\\n",
       "0  by James Patterson and Maxine Paetro                    \n",
       "1                     by David Baldacci                    \n",
       "2                        by Dean Koontz                    \n",
       "3                   by Mary Kay Andrews                    \n",
       "4                      by John Sandford                    \n",
       "\n",
       "                                          book_image  book_image_width  \\\n",
       "0  https://storage.googleapis.com/du-prd/books/im...             320.0   \n",
       "1  https://storage.googleapis.com/du-prd/books/im...             328.0   \n",
       "2  https://storage.googleapis.com/du-prd/books/im...             326.0   \n",
       "3  https://storage.googleapis.com/du-prd/books/im...             326.0   \n",
       "4  https://storage.googleapis.com/du-prd/books/im...             328.0   \n",
       "\n",
       "   book_image_height                                 amazon_product_url  \\\n",
       "0              495.0  https://www.amazon.com/17th-Suspect-Womens-Mur...   \n",
       "1              495.0  https://www.amazon.com/Fallen-Memory-Man-David...   \n",
       "2              495.0  https://www.amazon.com/Crooked-Staircase-Jane-...   \n",
       "3              495.0  https://www.amazon.com/High-Tide-Club-Novel-eb...   \n",
       "4              495.0  https://www.amazon.com/Twisted-Prey-Novel-John...   \n",
       "\n",
       "  age_group book_review_link first_chapter_link sunday_review_link  \\\n",
       "0                                                                    \n",
       "1                                                                    \n",
       "2                                                                    \n",
       "3                                                                    \n",
       "4                                                                    \n",
       "\n",
       "  article_chapter_link                                              isbns  \\\n",
       "0                       [{'isbn10': '0316274046', 'isbn13': '978031627...   \n",
       "1                       [{'isbn10': '1538761394', 'isbn13': '978153876...   \n",
       "2                       [{'isbn10': '052548342X', 'isbn13': '978052548...   \n",
       "3                       [{'isbn10': '1250126061', 'isbn13': '978125012...   \n",
       "4                       [{'isbn10': '0735217351', 'isbn13': '978073521...   \n",
       "\n",
       "                                           buy_links  \\\n",
       "0  [{'name': 'Amazon', 'url': 'https://www.amazon...   \n",
       "1  [{'name': 'Amazon', 'url': 'https://www.amazon...   \n",
       "2  [{'name': 'Amazon', 'url': 'https://www.amazon...   \n",
       "3  [{'name': 'Amazon', 'url': 'https://www.amazon...   \n",
       "4  [{'name': 'Amazon', 'url': 'https://www.amazon...   \n",
       "\n",
       "                                          book_uri  \n",
       "0  nyt://book/7ae807ae-5910-5fe4-a92a-d634dbac645b  \n",
       "1  nyt://book/1125e0ae-7b0e-51da-b838-2cf6b360150c  \n",
       "2  nyt://book/2f7e77b5-ac10-5162-8e7d-0a26253b870c  \n",
       "3  nyt://book/25d190d1-c796-5f10-a3b9-75fc47340868  \n",
       "4  nyt://book/67c1d531-ba20-5c69-b97a-fbaa5d39554b  "
      ]
     },
     "execution_count": 27,
     "metadata": {},
     "output_type": "execute_result"
    }
   ],
   "source": [
    "\n",
    "top_15_combined_bestsellers_2013_2018.head()"
   ]
  },
  {
   "cell_type": "code",
   "execution_count": 28,
   "metadata": {},
   "outputs": [
    {
     "data": {
      "text/plain": [
       "3900"
      ]
     },
     "execution_count": 28,
     "metadata": {},
     "output_type": "execute_result"
    }
   ],
   "source": [
    "len(top_15_combined_bestsellers_2013_2018)"
   ]
  },
  {
   "cell_type": "code",
   "execution_count": 29,
   "metadata": {},
   "outputs": [
    {
     "data": {
      "text/plain": [
       "3900"
      ]
     },
     "execution_count": 29,
     "metadata": {},
     "output_type": "execute_result"
    }
   ],
   "source": [
    "len(repeated_weeks)"
   ]
  },
  {
   "cell_type": "code",
   "execution_count": 31,
   "metadata": {},
   "outputs": [
    {
     "name": "stderr",
     "output_type": "stream",
     "text": [
      "C:\\Users\\melan\\AppData\\Local\\Temp\\ipykernel_22472\\18292709.py:2: SettingWithCopyWarning: \n",
      "A value is trying to be set on a copy of a slice from a DataFrame.\n",
      "Try using .loc[row_indexer,col_indexer] = value instead\n",
      "\n",
      "See the caveats in the documentation: https://pandas.pydata.org/pandas-docs/stable/user_guide/indexing.html#returning-a-view-versus-a-copy\n",
      "  top_15_combined_bestsellers_2013_2018['week'] = repeated_weeks\n"
     ]
    },
    {
     "data": {
      "text/html": [
       "<div>\n",
       "<style scoped>\n",
       "    .dataframe tbody tr th:only-of-type {\n",
       "        vertical-align: middle;\n",
       "    }\n",
       "\n",
       "    .dataframe tbody tr th {\n",
       "        vertical-align: top;\n",
       "    }\n",
       "\n",
       "    .dataframe thead th {\n",
       "        text-align: right;\n",
       "    }\n",
       "</style>\n",
       "<table border=\"1\" class=\"dataframe\">\n",
       "  <thead>\n",
       "    <tr style=\"text-align: right;\">\n",
       "      <th></th>\n",
       "      <th>rank</th>\n",
       "      <th>rank_last_week</th>\n",
       "      <th>weeks_on_list</th>\n",
       "      <th>asterisk</th>\n",
       "      <th>dagger</th>\n",
       "      <th>primary_isbn10</th>\n",
       "      <th>primary_isbn13</th>\n",
       "      <th>publisher</th>\n",
       "      <th>description</th>\n",
       "      <th>price</th>\n",
       "      <th>title</th>\n",
       "      <th>author</th>\n",
       "      <th>contributor</th>\n",
       "      <th>contributor_note</th>\n",
       "      <th>book_image</th>\n",
       "      <th>book_image_width</th>\n",
       "      <th>book_image_height</th>\n",
       "      <th>amazon_product_url</th>\n",
       "      <th>age_group</th>\n",
       "      <th>book_review_link</th>\n",
       "      <th>first_chapter_link</th>\n",
       "      <th>sunday_review_link</th>\n",
       "      <th>article_chapter_link</th>\n",
       "      <th>isbns</th>\n",
       "      <th>buy_links</th>\n",
       "      <th>book_uri</th>\n",
       "      <th>week</th>\n",
       "    </tr>\n",
       "  </thead>\n",
       "  <tbody>\n",
       "    <tr>\n",
       "      <th>5</th>\n",
       "      <td>6</td>\n",
       "      <td>7</td>\n",
       "      <td>3</td>\n",
       "      <td>0</td>\n",
       "      <td>0</td>\n",
       "      <td>0307351939</td>\n",
       "      <td>9780307351937</td>\n",
       "      <td>Broadway</td>\n",
       "      <td>An “oral history” of an imagined Zombie War th...</td>\n",
       "      <td>0.00</td>\n",
       "      <td>WORLD WAR Z</td>\n",
       "      <td>Max Brooks</td>\n",
       "      <td>by Max Brooks</td>\n",
       "      <td></td>\n",
       "      <td>https://storage.googleapis.com/du-prd/books/im...</td>\n",
       "      <td>322.0</td>\n",
       "      <td>495.0</td>\n",
       "      <td>http://www.amazon.com/World-Market-Movie-Tie-I...</td>\n",
       "      <td></td>\n",
       "      <td></td>\n",
       "      <td></td>\n",
       "      <td></td>\n",
       "      <td></td>\n",
       "      <td>[{'isbn10': '0307346617', 'isbn13': '978030734...</td>\n",
       "      <td>[{'name': 'Amazon', 'url': 'http://www.amazon....</td>\n",
       "      <td>nyt://book/c9d0451b-cfa0-56a9-a79c-ec911c031aff</td>\n",
       "      <td>2013-06-17</td>\n",
       "    </tr>\n",
       "    <tr>\n",
       "      <th>6</th>\n",
       "      <td>7</td>\n",
       "      <td>3</td>\n",
       "      <td>7</td>\n",
       "      <td>0</td>\n",
       "      <td>0</td>\n",
       "      <td>1455521280</td>\n",
       "      <td>9781455521289</td>\n",
       "      <td>Grand Central</td>\n",
       "      <td>The government hitman Will Robie uncovers a se...</td>\n",
       "      <td>0.00</td>\n",
       "      <td>THE HIT</td>\n",
       "      <td>David Baldacci</td>\n",
       "      <td>by David Baldacci</td>\n",
       "      <td></td>\n",
       "      <td>https://storage.googleapis.com/du-prd/books/im...</td>\n",
       "      <td>128.0</td>\n",
       "      <td>194.0</td>\n",
       "      <td>http://www.amazon.com/The-Will-Robie-David-Bal...</td>\n",
       "      <td></td>\n",
       "      <td></td>\n",
       "      <td></td>\n",
       "      <td></td>\n",
       "      <td></td>\n",
       "      <td>[{'isbn10': '1455521213', 'isbn13': '978145552...</td>\n",
       "      <td>[{'name': 'Amazon', 'url': 'http://www.amazon....</td>\n",
       "      <td>nyt://book/e60c9940-e444-5d21-b0f3-d63a70643c75</td>\n",
       "      <td>2013-06-17</td>\n",
       "    </tr>\n",
       "    <tr>\n",
       "      <th>7</th>\n",
       "      <td>8</td>\n",
       "      <td>0</td>\n",
       "      <td>37</td>\n",
       "      <td>0</td>\n",
       "      <td>0</td>\n",
       "      <td>0553897845</td>\n",
       "      <td>9780553897845</td>\n",
       "      <td>Bantam</td>\n",
       "      <td>In the frozen wastes to the north of Winterfel...</td>\n",
       "      <td>0.00</td>\n",
       "      <td>A GAME OF THRONES</td>\n",
       "      <td>George RR Martin</td>\n",
       "      <td>by George R.R. Martin</td>\n",
       "      <td></td>\n",
       "      <td>https://storage.googleapis.com/du-prd/books/im...</td>\n",
       "      <td>301.0</td>\n",
       "      <td>495.0</td>\n",
       "      <td>http://www.amazon.com/Game-Thrones-Song-Fire-B...</td>\n",
       "      <td></td>\n",
       "      <td></td>\n",
       "      <td></td>\n",
       "      <td></td>\n",
       "      <td>https://www.nytimes.com/2011/04/10/arts/televi...</td>\n",
       "      <td>[{'isbn10': '0553573403', 'isbn13': '978055357...</td>\n",
       "      <td>[{'name': 'Amazon', 'url': 'http://www.amazon....</td>\n",
       "      <td>nyt://book/4dfc5533-8154-5fdd-ae02-efee1f59dd3d</td>\n",
       "      <td>2013-06-17</td>\n",
       "    </tr>\n",
       "    <tr>\n",
       "      <th>8</th>\n",
       "      <td>9</td>\n",
       "      <td>0</td>\n",
       "      <td>1</td>\n",
       "      <td>0</td>\n",
       "      <td>0</td>\n",
       "      <td>1455517070</td>\n",
       "      <td>9781455517077</td>\n",
       "      <td>Grand Central</td>\n",
       "      <td>The quadriplegic forensics expert Lincoln Rhym...</td>\n",
       "      <td>0.00</td>\n",
       "      <td>THE KILL ROOM</td>\n",
       "      <td>Jeffery Deaver</td>\n",
       "      <td>by Jeffery Deaver</td>\n",
       "      <td></td>\n",
       "      <td>https://storage.googleapis.com/du-prd/books/im...</td>\n",
       "      <td>330.0</td>\n",
       "      <td>494.0</td>\n",
       "      <td>http://www.amazon.com/The-Kill-Room-Lincoln-Rh...</td>\n",
       "      <td></td>\n",
       "      <td></td>\n",
       "      <td></td>\n",
       "      <td></td>\n",
       "      <td></td>\n",
       "      <td>[{'isbn10': '1455517062', 'isbn13': '978145551...</td>\n",
       "      <td>[{'name': 'Amazon', 'url': 'http://www.amazon....</td>\n",
       "      <td>nyt://book/a730ec12-f587-5621-8f84-7e04b8634420</td>\n",
       "      <td>2013-06-17</td>\n",
       "    </tr>\n",
       "    <tr>\n",
       "      <th>9</th>\n",
       "      <td>10</td>\n",
       "      <td>11</td>\n",
       "      <td>2</td>\n",
       "      <td>0</td>\n",
       "      <td>0</td>\n",
       "      <td>1628470356</td>\n",
       "      <td>9781628470352</td>\n",
       "      <td>Georgia Cates</td>\n",
       "      <td>Will Jack Henry’s absence leave Laurelyn wanti...</td>\n",
       "      <td>0.00</td>\n",
       "      <td>BEAUTY FROM SURRENDER</td>\n",
       "      <td>Georgia Cates</td>\n",
       "      <td>by Georgia Cates</td>\n",
       "      <td></td>\n",
       "      <td>https://storage.googleapis.com/du-prd/books/im...</td>\n",
       "      <td>330.0</td>\n",
       "      <td>495.0</td>\n",
       "      <td>http://www.amazon.com/Beauty-Surrender-Series-...</td>\n",
       "      <td></td>\n",
       "      <td></td>\n",
       "      <td></td>\n",
       "      <td></td>\n",
       "      <td></td>\n",
       "      <td>[{'isbn10': '1628470356', 'isbn13': '978162847...</td>\n",
       "      <td>[{'name': 'Amazon', 'url': 'http://www.amazon....</td>\n",
       "      <td>nyt://book/62ad3808-6d1a-5fbc-966d-07850b77d36b</td>\n",
       "      <td>2013-06-17</td>\n",
       "    </tr>\n",
       "    <tr>\n",
       "      <th>10</th>\n",
       "      <td>11</td>\n",
       "      <td>9</td>\n",
       "      <td>5</td>\n",
       "      <td>0</td>\n",
       "      <td>0</td>\n",
       "      <td>None</td>\n",
       "      <td>9781101621196</td>\n",
       "      <td>Putnam</td>\n",
       "      <td>Lucas Davenport is drawn into the investigatio...</td>\n",
       "      <td>0.00</td>\n",
       "      <td>SILKEN PREY</td>\n",
       "      <td>John Sandford</td>\n",
       "      <td>by John Sandford</td>\n",
       "      <td></td>\n",
       "      <td>https://storage.googleapis.com/du-prd/books/im...</td>\n",
       "      <td>280.0</td>\n",
       "      <td>495.0</td>\n",
       "      <td>http://www.amazon.com/Silken-Prey-Lucas-Davenp...</td>\n",
       "      <td></td>\n",
       "      <td></td>\n",
       "      <td></td>\n",
       "      <td></td>\n",
       "      <td></td>\n",
       "      <td>[{'isbn10': '0399159312', 'isbn13': '978039915...</td>\n",
       "      <td>[{'name': 'Amazon', 'url': 'http://www.amazon....</td>\n",
       "      <td>nyt://book/e68fb3cb-cb49-5b23-9490-d5ddb2003560</td>\n",
       "      <td>2013-06-17</td>\n",
       "    </tr>\n",
       "    <tr>\n",
       "      <th>11</th>\n",
       "      <td>12</td>\n",
       "      <td>0</td>\n",
       "      <td>1</td>\n",
       "      <td>0</td>\n",
       "      <td>0</td>\n",
       "      <td></td>\n",
       "      <td>9781250019653</td>\n",
       "      <td>St. Martin's</td>\n",
       "      <td>After separating from her husband, a lifestyle...</td>\n",
       "      <td>0.00</td>\n",
       "      <td>LADIES' NIGHT</td>\n",
       "      <td>Mary Kay Andrews</td>\n",
       "      <td>by Mary Kay Andrews</td>\n",
       "      <td></td>\n",
       "      <td>https://storage.googleapis.com/du-prd/books/im...</td>\n",
       "      <td>328.0</td>\n",
       "      <td>495.0</td>\n",
       "      <td>http://www.amazon.com/Ladies-Night-Mary-Kay-An...</td>\n",
       "      <td></td>\n",
       "      <td></td>\n",
       "      <td></td>\n",
       "      <td></td>\n",
       "      <td></td>\n",
       "      <td>[{'isbn10': '1250019672', 'isbn13': '978125001...</td>\n",
       "      <td>[{'name': 'Amazon', 'url': 'http://www.amazon....</td>\n",
       "      <td>nyt://book/24465f54-7de3-5f31-980b-fc50b720e61a</td>\n",
       "      <td>2013-06-17</td>\n",
       "    </tr>\n",
       "    <tr>\n",
       "      <th>12</th>\n",
       "      <td>13</td>\n",
       "      <td>0</td>\n",
       "      <td>52</td>\n",
       "      <td>0</td>\n",
       "      <td>0</td>\n",
       "      <td>0307588386</td>\n",
       "      <td>9780307588388</td>\n",
       "      <td>Crown</td>\n",
       "      <td>A woman disappears on the day of her fifth ann...</td>\n",
       "      <td>0.00</td>\n",
       "      <td>GONE GIRL</td>\n",
       "      <td>Gillian Flynn</td>\n",
       "      <td>by Gillian Flynn</td>\n",
       "      <td></td>\n",
       "      <td>https://storage.googleapis.com/du-prd/books/im...</td>\n",
       "      <td>136.0</td>\n",
       "      <td>200.0</td>\n",
       "      <td>http://www.amazon.com/Gone-Girl-Novel-Gillian-...</td>\n",
       "      <td></td>\n",
       "      <td>https://www.nytimes.com/2012/05/30/books/gone-...</td>\n",
       "      <td></td>\n",
       "      <td>https://www.nytimes.com/2012/06/17/books/revie...</td>\n",
       "      <td></td>\n",
       "      <td>[{'isbn10': '030758836X', 'isbn13': '978030758...</td>\n",
       "      <td>[{'name': 'Amazon', 'url': 'http://www.amazon....</td>\n",
       "      <td>nyt://book/d76ecc9a-b7ad-5cf0-9ef5-cde9a3eba381</td>\n",
       "      <td>2013-06-17</td>\n",
       "    </tr>\n",
       "    <tr>\n",
       "      <th>13</th>\n",
       "      <td>14</td>\n",
       "      <td>10</td>\n",
       "      <td>6</td>\n",
       "      <td>0</td>\n",
       "      <td>0</td>\n",
       "      <td></td>\n",
       "      <td>9780316210843</td>\n",
       "      <td>Little, Brown</td>\n",
       "      <td>A week after giving birth, Detective Lindsay B...</td>\n",
       "      <td>0.00</td>\n",
       "      <td>12TH OF NEVER</td>\n",
       "      <td>James Patterson and Maxine Paetro</td>\n",
       "      <td>by James Patterson and Maxine Paetro</td>\n",
       "      <td></td>\n",
       "      <td>https://storage.googleapis.com/du-prd/books/im...</td>\n",
       "      <td>128.0</td>\n",
       "      <td>199.0</td>\n",
       "      <td>http://www.amazon.com/12th-Never-Womens-Murder...</td>\n",
       "      <td></td>\n",
       "      <td></td>\n",
       "      <td></td>\n",
       "      <td></td>\n",
       "      <td></td>\n",
       "      <td>[{'isbn10': '031621082X', 'isbn13': '978031621...</td>\n",
       "      <td>[{'name': 'Amazon', 'url': 'http://www.amazon....</td>\n",
       "      <td>nyt://book/164d2fb1-3c7c-53d3-974c-400f884ed906</td>\n",
       "      <td>2013-06-17</td>\n",
       "    </tr>\n",
       "    <tr>\n",
       "      <th>14</th>\n",
       "      <td>15</td>\n",
       "      <td>0</td>\n",
       "      <td>6</td>\n",
       "      <td>0</td>\n",
       "      <td>0</td>\n",
       "      <td>0440246318</td>\n",
       "      <td>9780440246312</td>\n",
       "      <td>Dell</td>\n",
       "      <td>A carload of people involved in a conspiracy p...</td>\n",
       "      <td>0.00</td>\n",
       "      <td>A WANTED MAN</td>\n",
       "      <td>Lee Child</td>\n",
       "      <td>by Lee Child</td>\n",
       "      <td></td>\n",
       "      <td>https://storage.googleapis.com/du-prd/books/im...</td>\n",
       "      <td>128.0</td>\n",
       "      <td>194.0</td>\n",
       "      <td>http://www.amazon.com/Wanted-bonus-short-story...</td>\n",
       "      <td></td>\n",
       "      <td>https://www.nytimes.com/2012/09/10/books/a-wan...</td>\n",
       "      <td></td>\n",
       "      <td></td>\n",
       "      <td></td>\n",
       "      <td>[{'isbn10': '0385344333', 'isbn13': '978038534...</td>\n",
       "      <td>[{'name': 'Amazon', 'url': 'http://www.amazon....</td>\n",
       "      <td>nyt://book/7a3f4e45-7f5e-5fe9-af27-0878f01181d4</td>\n",
       "      <td>2013-06-17</td>\n",
       "    </tr>\n",
       "    <tr>\n",
       "      <th>0</th>\n",
       "      <td>1</td>\n",
       "      <td>1</td>\n",
       "      <td>3</td>\n",
       "      <td>0</td>\n",
       "      <td>0</td>\n",
       "      <td>0385537867</td>\n",
       "      <td>9780385537865</td>\n",
       "      <td>Doubleday</td>\n",
       "      <td>The symbologist Robert Langdon, on the run in ...</td>\n",
       "      <td>0.00</td>\n",
       "      <td>INFERNO</td>\n",
       "      <td>Dan Brown</td>\n",
       "      <td>by Dan Brown</td>\n",
       "      <td></td>\n",
       "      <td>https://storage.googleapis.com/du-prd/books/im...</td>\n",
       "      <td>276.0</td>\n",
       "      <td>495.0</td>\n",
       "      <td>http://www.amazon.com/Inferno-Robert-Langdon-D...</td>\n",
       "      <td></td>\n",
       "      <td>https://www.nytimes.com/2013/05/13/books/infer...</td>\n",
       "      <td></td>\n",
       "      <td></td>\n",
       "      <td></td>\n",
       "      <td>[{'isbn10': '0385537859', 'isbn13': '978038553...</td>\n",
       "      <td>[{'name': 'Amazon', 'url': 'http://www.amazon....</td>\n",
       "      <td>nyt://book/a986073a-5877-5e90-8efb-94e6e17521bc</td>\n",
       "      <td>2013-06-10</td>\n",
       "    </tr>\n",
       "    <tr>\n",
       "      <th>1</th>\n",
       "      <td>2</td>\n",
       "      <td>2</td>\n",
       "      <td>2</td>\n",
       "      <td>0</td>\n",
       "      <td>0</td>\n",
       "      <td>None</td>\n",
       "      <td>9781101626276</td>\n",
       "      <td>Riverhead</td>\n",
       "      <td>A multigenerational family saga centers on a b...</td>\n",
       "      <td>0.00</td>\n",
       "      <td>AND THE MOUNTAINS ECHOED</td>\n",
       "      <td>Khaled Hosseini</td>\n",
       "      <td>by Khaled Hosseini</td>\n",
       "      <td></td>\n",
       "      <td>https://storage.googleapis.com/du-prd/books/im...</td>\n",
       "      <td>317.0</td>\n",
       "      <td>495.0</td>\n",
       "      <td>http://www.amazon.com/And-Mountains-Echoed-Kha...</td>\n",
       "      <td></td>\n",
       "      <td>https://www.nytimes.com/2013/05/21/books/and-t...</td>\n",
       "      <td></td>\n",
       "      <td></td>\n",
       "      <td></td>\n",
       "      <td>[{'isbn10': '159463176X', 'isbn13': '978159463...</td>\n",
       "      <td>[{'name': 'Amazon', 'url': 'http://www.amazon....</td>\n",
       "      <td>nyt://book/efe6031b-b2ce-52a8-af9f-f8803a3bd532</td>\n",
       "      <td>2013-06-10</td>\n",
       "    </tr>\n",
       "    <tr>\n",
       "      <th>2</th>\n",
       "      <td>3</td>\n",
       "      <td>3</td>\n",
       "      <td>6</td>\n",
       "      <td>0</td>\n",
       "      <td>0</td>\n",
       "      <td>1455521280</td>\n",
       "      <td>9781455521289</td>\n",
       "      <td>Grand Central</td>\n",
       "      <td>The government hitman Will Robie uncovers a se...</td>\n",
       "      <td>0.00</td>\n",
       "      <td>THE HIT</td>\n",
       "      <td>David Baldacci</td>\n",
       "      <td>by David Baldacci</td>\n",
       "      <td></td>\n",
       "      <td>https://storage.googleapis.com/du-prd/books/im...</td>\n",
       "      <td>128.0</td>\n",
       "      <td>194.0</td>\n",
       "      <td>http://www.amazon.com/The-Will-Robie-David-Bal...</td>\n",
       "      <td></td>\n",
       "      <td></td>\n",
       "      <td></td>\n",
       "      <td></td>\n",
       "      <td></td>\n",
       "      <td>[{'isbn10': '1455521213', 'isbn13': '978145552...</td>\n",
       "      <td>[{'name': 'Amazon', 'url': 'http://www.amazon....</td>\n",
       "      <td>nyt://book/e60c9940-e444-5d21-b0f3-d63a70643c75</td>\n",
       "      <td>2013-06-10</td>\n",
       "    </tr>\n",
       "    <tr>\n",
       "      <th>3</th>\n",
       "      <td>4</td>\n",
       "      <td>0</td>\n",
       "      <td>1</td>\n",
       "      <td>0</td>\n",
       "      <td>0</td>\n",
       "      <td>0345535693</td>\n",
       "      <td>9780345535696</td>\n",
       "      <td>Bantam</td>\n",
       "      <td>Odd Thomas, who can communicate with the dead,...</td>\n",
       "      <td>0.00</td>\n",
       "      <td>DEEPLY ODD</td>\n",
       "      <td>Dean Koontz</td>\n",
       "      <td>by Dean Koontz</td>\n",
       "      <td></td>\n",
       "      <td>https://storage.googleapis.com/du-prd/books/im...</td>\n",
       "      <td>258.0</td>\n",
       "      <td>495.0</td>\n",
       "      <td>http://www.amazon.com/Deeply-Odd-An-Thomas-Nov...</td>\n",
       "      <td></td>\n",
       "      <td></td>\n",
       "      <td></td>\n",
       "      <td></td>\n",
       "      <td></td>\n",
       "      <td>[{'isbn10': '0553807730', 'isbn13': '978055380...</td>\n",
       "      <td>[{'name': 'Amazon', 'url': 'http://www.amazon....</td>\n",
       "      <td>nyt://book/6e0e6f9f-415f-5894-b31d-0d8649eda39f</td>\n",
       "      <td>2013-06-10</td>\n",
       "    </tr>\n",
       "    <tr>\n",
       "      <th>4</th>\n",
       "      <td>5</td>\n",
       "      <td>0</td>\n",
       "      <td>1</td>\n",
       "      <td>0</td>\n",
       "      <td>0</td>\n",
       "      <td>None</td>\n",
       "      <td>9781455574872</td>\n",
       "      <td>Forever</td>\n",
       "      <td>When a new tragedy strikes Ella and Micha, one...</td>\n",
       "      <td>0.00</td>\n",
       "      <td>THE FOREVER OF ELLA AND MICHA</td>\n",
       "      <td>Jessica Sorensen</td>\n",
       "      <td>by Jessica Sorensen</td>\n",
       "      <td></td>\n",
       "      <td>https://storage.googleapis.com/du-prd/books/im...</td>\n",
       "      <td>320.0</td>\n",
       "      <td>495.0</td>\n",
       "      <td>http://www.amazon.com/Forever-Ella-Micha-Jessi...</td>\n",
       "      <td></td>\n",
       "      <td></td>\n",
       "      <td></td>\n",
       "      <td></td>\n",
       "      <td></td>\n",
       "      <td>[]</td>\n",
       "      <td>[{'name': 'Amazon', 'url': 'http://www.amazon....</td>\n",
       "      <td>nyt://book/dd43c6e7-a6a9-5d63-ac5c-401e182b4c2f</td>\n",
       "      <td>2013-06-10</td>\n",
       "    </tr>\n",
       "    <tr>\n",
       "      <th>5</th>\n",
       "      <td>6</td>\n",
       "      <td>0</td>\n",
       "      <td>1</td>\n",
       "      <td>0</td>\n",
       "      <td>0</td>\n",
       "      <td>None</td>\n",
       "      <td>9781101600559</td>\n",
       "      <td>Putnam</td>\n",
       "      <td>Kurt Austin, Joe Zavala and the rest of the Nu...</td>\n",
       "      <td>0.00</td>\n",
       "      <td>ZERO HOUR</td>\n",
       "      <td>Clive Cussler and Graham Brown</td>\n",
       "      <td>by Clive Cussler and Graham Brown</td>\n",
       "      <td></td>\n",
       "      <td>https://storage.googleapis.com/du-prd/books/im...</td>\n",
       "      <td>280.0</td>\n",
       "      <td>495.0</td>\n",
       "      <td>http://www.amazon.com/Zero-Hour-The-Numa-Files...</td>\n",
       "      <td></td>\n",
       "      <td></td>\n",
       "      <td></td>\n",
       "      <td></td>\n",
       "      <td></td>\n",
       "      <td>[{'isbn10': '039916250X', 'isbn13': '978039916...</td>\n",
       "      <td>[{'name': 'Amazon', 'url': 'http://www.amazon....</td>\n",
       "      <td>nyt://book/c8d73d50-8067-5869-befe-287ce0073e9b</td>\n",
       "      <td>2013-06-10</td>\n",
       "    </tr>\n",
       "    <tr>\n",
       "      <th>6</th>\n",
       "      <td>7</td>\n",
       "      <td>14</td>\n",
       "      <td>2</td>\n",
       "      <td>0</td>\n",
       "      <td>0</td>\n",
       "      <td>0307351939</td>\n",
       "      <td>9780307351937</td>\n",
       "      <td>Broadway</td>\n",
       "      <td>An “oral history” of an imagined Zombie War th...</td>\n",
       "      <td>0.00</td>\n",
       "      <td>WORLD WAR Z</td>\n",
       "      <td>Max Brooks</td>\n",
       "      <td>by Max Brooks</td>\n",
       "      <td></td>\n",
       "      <td>https://storage.googleapis.com/du-prd/books/im...</td>\n",
       "      <td>322.0</td>\n",
       "      <td>495.0</td>\n",
       "      <td>http://www.amazon.com/World-Market-Movie-Tie-I...</td>\n",
       "      <td></td>\n",
       "      <td></td>\n",
       "      <td></td>\n",
       "      <td></td>\n",
       "      <td></td>\n",
       "      <td>[{'isbn10': '0307346617', 'isbn13': '978030734...</td>\n",
       "      <td>[{'name': 'Amazon', 'url': 'http://www.amazon....</td>\n",
       "      <td>nyt://book/c9d0451b-cfa0-56a9-a79c-ec911c031aff</td>\n",
       "      <td>2013-06-10</td>\n",
       "    </tr>\n",
       "    <tr>\n",
       "      <th>7</th>\n",
       "      <td>8</td>\n",
       "      <td>0</td>\n",
       "      <td>1</td>\n",
       "      <td>0</td>\n",
       "      <td>0</td>\n",
       "      <td>None</td>\n",
       "      <td>9781460313121</td>\n",
       "      <td>Harlequin Mira</td>\n",
       "      <td>With her two sisters heading for the altar, Sa...</td>\n",
       "      <td>0.00</td>\n",
       "      <td>SEA GLASS ISLAND</td>\n",
       "      <td>Sherryl Woods</td>\n",
       "      <td>by Sherryl Woods</td>\n",
       "      <td></td>\n",
       "      <td>https://storage.googleapis.com/du-prd/books/im...</td>\n",
       "      <td>313.0</td>\n",
       "      <td>495.0</td>\n",
       "      <td>http://www.amazon.com/Glass-Island-Ocean-Breez...</td>\n",
       "      <td></td>\n",
       "      <td></td>\n",
       "      <td></td>\n",
       "      <td></td>\n",
       "      <td></td>\n",
       "      <td>[{'isbn10': '0778314464', 'isbn13': '978077831...</td>\n",
       "      <td>[{'name': 'Amazon', 'url': 'http://www.amazon....</td>\n",
       "      <td>nyt://book/34f211d2-420e-5c38-a1b6-266b8bd1cfaa</td>\n",
       "      <td>2013-06-10</td>\n",
       "    </tr>\n",
       "    <tr>\n",
       "      <th>8</th>\n",
       "      <td>9</td>\n",
       "      <td>6</td>\n",
       "      <td>4</td>\n",
       "      <td>0</td>\n",
       "      <td>0</td>\n",
       "      <td>None</td>\n",
       "      <td>9781101621196</td>\n",
       "      <td>Putnam</td>\n",
       "      <td>Lucas Davenport is drawn into the investigatio...</td>\n",
       "      <td>0.00</td>\n",
       "      <td>SILKEN PREY</td>\n",
       "      <td>John Sandford</td>\n",
       "      <td>by John Sandford</td>\n",
       "      <td></td>\n",
       "      <td>https://storage.googleapis.com/du-prd/books/im...</td>\n",
       "      <td>280.0</td>\n",
       "      <td>495.0</td>\n",
       "      <td>http://www.amazon.com/Silken-Prey-Lucas-Davenp...</td>\n",
       "      <td></td>\n",
       "      <td></td>\n",
       "      <td></td>\n",
       "      <td></td>\n",
       "      <td></td>\n",
       "      <td>[{'isbn10': '0399159312', 'isbn13': '978039915...</td>\n",
       "      <td>[{'name': 'Amazon', 'url': 'http://www.amazon....</td>\n",
       "      <td>nyt://book/e68fb3cb-cb49-5b23-9490-d5ddb2003560</td>\n",
       "      <td>2013-06-10</td>\n",
       "    </tr>\n",
       "    <tr>\n",
       "      <th>9</th>\n",
       "      <td>10</td>\n",
       "      <td>4</td>\n",
       "      <td>5</td>\n",
       "      <td>0</td>\n",
       "      <td>0</td>\n",
       "      <td></td>\n",
       "      <td>9780316210843</td>\n",
       "      <td>Little, Brown</td>\n",
       "      <td>A week after giving birth, Detective Lindsay B...</td>\n",
       "      <td>0.00</td>\n",
       "      <td>12TH OF NEVER</td>\n",
       "      <td>James Patterson and Maxine Paetro</td>\n",
       "      <td>by James Patterson and Maxine Paetro</td>\n",
       "      <td></td>\n",
       "      <td>https://storage.googleapis.com/du-prd/books/im...</td>\n",
       "      <td>128.0</td>\n",
       "      <td>199.0</td>\n",
       "      <td>http://www.amazon.com/12th-Never-Womens-Murder...</td>\n",
       "      <td></td>\n",
       "      <td></td>\n",
       "      <td></td>\n",
       "      <td></td>\n",
       "      <td></td>\n",
       "      <td>[{'isbn10': '031621082X', 'isbn13': '978031621...</td>\n",
       "      <td>[{'name': 'Amazon', 'url': 'http://www.amazon....</td>\n",
       "      <td>nyt://book/164d2fb1-3c7c-53d3-974c-400f884ed906</td>\n",
       "      <td>2013-06-10</td>\n",
       "    </tr>\n",
       "    <tr>\n",
       "      <th>10</th>\n",
       "      <td>11</td>\n",
       "      <td>0</td>\n",
       "      <td>1</td>\n",
       "      <td>0</td>\n",
       "      <td>0</td>\n",
       "      <td>1628470356</td>\n",
       "      <td>9781628470352</td>\n",
       "      <td>Georgia Cates</td>\n",
       "      <td>Will Jack Henry’s absence leave Laurelyn wanti...</td>\n",
       "      <td>0.00</td>\n",
       "      <td>BEAUTY FROM SURRENDER</td>\n",
       "      <td>Georgia Cates</td>\n",
       "      <td>by Georgia Cates</td>\n",
       "      <td></td>\n",
       "      <td>https://storage.googleapis.com/du-prd/books/im...</td>\n",
       "      <td>330.0</td>\n",
       "      <td>495.0</td>\n",
       "      <td>http://www.amazon.com/Beauty-Surrender-Series-...</td>\n",
       "      <td></td>\n",
       "      <td></td>\n",
       "      <td></td>\n",
       "      <td></td>\n",
       "      <td></td>\n",
       "      <td>[{'isbn10': '1628470356', 'isbn13': '978162847...</td>\n",
       "      <td>[{'name': 'Amazon', 'url': 'http://www.amazon....</td>\n",
       "      <td>nyt://book/62ad3808-6d1a-5fbc-966d-07850b77d36b</td>\n",
       "      <td>2013-06-10</td>\n",
       "    </tr>\n",
       "    <tr>\n",
       "      <th>11</th>\n",
       "      <td>12</td>\n",
       "      <td>0</td>\n",
       "      <td>1</td>\n",
       "      <td>0</td>\n",
       "      <td>0</td>\n",
       "      <td>None</td>\n",
       "      <td>9781101623848</td>\n",
       "      <td>Jove</td>\n",
       "      <td>A killer is on the loose in New Orleans, and a...</td>\n",
       "      <td>0.00</td>\n",
       "      <td>LEOPARD'S PREY</td>\n",
       "      <td>Christine Feehan</td>\n",
       "      <td>by Christine Feehan</td>\n",
       "      <td></td>\n",
       "      <td>https://storage.googleapis.com/du-prd/books/im...</td>\n",
       "      <td>307.0</td>\n",
       "      <td>495.0</td>\n",
       "      <td>http://www.amazon.com/Leopards-Prey-A-Leopard-...</td>\n",
       "      <td></td>\n",
       "      <td></td>\n",
       "      <td></td>\n",
       "      <td></td>\n",
       "      <td></td>\n",
       "      <td>[{'isbn10': '0515151556', 'isbn13': '978051515...</td>\n",
       "      <td>[{'name': 'Amazon', 'url': 'http://www.amazon....</td>\n",
       "      <td>nyt://book/cf138bf9-80d0-5d7f-aa21-7b449f1d682b</td>\n",
       "      <td>2013-06-10</td>\n",
       "    </tr>\n",
       "    <tr>\n",
       "      <th>12</th>\n",
       "      <td>13</td>\n",
       "      <td>0</td>\n",
       "      <td>1</td>\n",
       "      <td>0</td>\n",
       "      <td>0</td>\n",
       "      <td>None</td>\n",
       "      <td>A00B00C2GEJT8</td>\n",
       "      <td>Amy Harmon</td>\n",
       "      <td>A young British teacher takes a tough, trouble...</td>\n",
       "      <td>0.00</td>\n",
       "      <td>A DIFFERENT BLUE</td>\n",
       "      <td>Amy Harmon</td>\n",
       "      <td>by Amy Harmon</td>\n",
       "      <td></td>\n",
       "      <td>https://storage.googleapis.com/du-prd/books/im...</td>\n",
       "      <td>330.0</td>\n",
       "      <td>495.0</td>\n",
       "      <td>http://www.amazon.com/Different-Blue-Amy-Harmo...</td>\n",
       "      <td></td>\n",
       "      <td></td>\n",
       "      <td></td>\n",
       "      <td></td>\n",
       "      <td></td>\n",
       "      <td>[]</td>\n",
       "      <td>[{'name': 'Amazon', 'url': 'http://www.amazon....</td>\n",
       "      <td>nyt://book/1a6fa774-484c-598c-80b6-bca343cc4930</td>\n",
       "      <td>2013-06-10</td>\n",
       "    </tr>\n",
       "    <tr>\n",
       "      <th>13</th>\n",
       "      <td>14</td>\n",
       "      <td>8</td>\n",
       "      <td>7</td>\n",
       "      <td>0</td>\n",
       "      <td>0</td>\n",
       "      <td>None</td>\n",
       "      <td>9781101621219</td>\n",
       "      <td>Putnam</td>\n",
       "      <td>A former criminal attorney who has been acquit...</td>\n",
       "      <td>0.00</td>\n",
       "      <td>WHISKEY BEACH</td>\n",
       "      <td>Nora Roberts</td>\n",
       "      <td>by Nora Roberts</td>\n",
       "      <td></td>\n",
       "      <td>https://storage.googleapis.com/du-prd/books/im...</td>\n",
       "      <td>128.0</td>\n",
       "      <td>194.0</td>\n",
       "      <td>http://www.amazon.com/Whiskey-Beach-Nora-Rober...</td>\n",
       "      <td></td>\n",
       "      <td></td>\n",
       "      <td></td>\n",
       "      <td></td>\n",
       "      <td></td>\n",
       "      <td>[{'isbn10': '0399159894', 'isbn13': '978039915...</td>\n",
       "      <td>[{'name': 'Amazon', 'url': 'http://www.amazon....</td>\n",
       "      <td>nyt://book/81a6f29a-7b95-523d-b90b-83c1f35b770b</td>\n",
       "      <td>2013-06-10</td>\n",
       "    </tr>\n",
       "    <tr>\n",
       "      <th>14</th>\n",
       "      <td>15</td>\n",
       "      <td>10</td>\n",
       "      <td>4</td>\n",
       "      <td>0</td>\n",
       "      <td>0</td>\n",
       "      <td>142996393X</td>\n",
       "      <td>9781429963930</td>\n",
       "      <td>Tor/Tom Doherty</td>\n",
       "      <td>Government agencies breed child geniuses and t...</td>\n",
       "      <td>0.00</td>\n",
       "      <td>ENDER'S GAME</td>\n",
       "      <td>Orson Scott Card</td>\n",
       "      <td>by Orson Scott Card</td>\n",
       "      <td></td>\n",
       "      <td>https://storage.googleapis.com/du-prd/books/im...</td>\n",
       "      <td>291.0</td>\n",
       "      <td>475.0</td>\n",
       "      <td>http://www.amazon.com/Enders-Game-The-Ender-Qu...</td>\n",
       "      <td></td>\n",
       "      <td></td>\n",
       "      <td></td>\n",
       "      <td></td>\n",
       "      <td></td>\n",
       "      <td>[{'isbn10': '0812550706', 'isbn13': '978081255...</td>\n",
       "      <td>[{'name': 'Amazon', 'url': 'http://www.amazon....</td>\n",
       "      <td>nyt://book/1568ec4d-b638-5fab-8e15-f045d409c44e</td>\n",
       "      <td>2013-06-10</td>\n",
       "    </tr>\n",
       "    <tr>\n",
       "      <th>0</th>\n",
       "      <td>1</td>\n",
       "      <td>1</td>\n",
       "      <td>2</td>\n",
       "      <td>0</td>\n",
       "      <td>0</td>\n",
       "      <td>0385537867</td>\n",
       "      <td>9780385537865</td>\n",
       "      <td>Doubleday</td>\n",
       "      <td>The symbologist Robert Langdon, on the run in ...</td>\n",
       "      <td>0.00</td>\n",
       "      <td>INFERNO</td>\n",
       "      <td>Dan Brown</td>\n",
       "      <td>by Dan Brown</td>\n",
       "      <td></td>\n",
       "      <td>https://storage.googleapis.com/du-prd/books/im...</td>\n",
       "      <td>276.0</td>\n",
       "      <td>495.0</td>\n",
       "      <td>http://www.amazon.com/Inferno-Robert-Langdon-D...</td>\n",
       "      <td></td>\n",
       "      <td>https://www.nytimes.com/2013/05/13/books/infer...</td>\n",
       "      <td></td>\n",
       "      <td></td>\n",
       "      <td></td>\n",
       "      <td>[{'isbn10': '0385537859', 'isbn13': '978038553...</td>\n",
       "      <td>[{'name': 'Amazon', 'url': 'http://www.amazon....</td>\n",
       "      <td>nyt://book/a986073a-5877-5e90-8efb-94e6e17521bc</td>\n",
       "      <td>2013-06-03</td>\n",
       "    </tr>\n",
       "    <tr>\n",
       "      <th>1</th>\n",
       "      <td>2</td>\n",
       "      <td>0</td>\n",
       "      <td>1</td>\n",
       "      <td>0</td>\n",
       "      <td>0</td>\n",
       "      <td>159463176X</td>\n",
       "      <td>9781594631764</td>\n",
       "      <td>Riverhead</td>\n",
       "      <td>A multigenerational family saga centers on a b...</td>\n",
       "      <td>0.00</td>\n",
       "      <td>AND THE MOUNTAINS ECHOED</td>\n",
       "      <td>Khaled Hosseini</td>\n",
       "      <td>by Khaled Hosseini</td>\n",
       "      <td></td>\n",
       "      <td>https://storage.googleapis.com/du-prd/books/im...</td>\n",
       "      <td>317.0</td>\n",
       "      <td>495.0</td>\n",
       "      <td>http://www.amazon.com/And-Mountains-Echoed-Kha...</td>\n",
       "      <td></td>\n",
       "      <td>https://www.nytimes.com/2013/05/21/books/and-t...</td>\n",
       "      <td></td>\n",
       "      <td></td>\n",
       "      <td></td>\n",
       "      <td>[{'isbn10': '159463176X', 'isbn13': '978159463...</td>\n",
       "      <td>[{'name': 'Amazon', 'url': 'http://www.amazon....</td>\n",
       "      <td>nyt://book/bb6a383e-9d83-5024-92a1-1df3e6ae81c6</td>\n",
       "      <td>2013-06-03</td>\n",
       "    </tr>\n",
       "    <tr>\n",
       "      <th>2</th>\n",
       "      <td>3</td>\n",
       "      <td>2</td>\n",
       "      <td>5</td>\n",
       "      <td>0</td>\n",
       "      <td>0</td>\n",
       "      <td>1455521280</td>\n",
       "      <td>9781455521289</td>\n",
       "      <td>Grand Central</td>\n",
       "      <td>The government hitman Will Robie uncovers a se...</td>\n",
       "      <td>0.00</td>\n",
       "      <td>THE HIT</td>\n",
       "      <td>David Baldacci</td>\n",
       "      <td>by David Baldacci</td>\n",
       "      <td></td>\n",
       "      <td>https://storage.googleapis.com/du-prd/books/im...</td>\n",
       "      <td>128.0</td>\n",
       "      <td>194.0</td>\n",
       "      <td>http://www.amazon.com/The-Will-Robie-David-Bal...</td>\n",
       "      <td></td>\n",
       "      <td></td>\n",
       "      <td></td>\n",
       "      <td></td>\n",
       "      <td></td>\n",
       "      <td>[{'isbn10': '1455521213', 'isbn13': '978145552...</td>\n",
       "      <td>[{'name': 'Amazon', 'url': 'http://www.amazon....</td>\n",
       "      <td>nyt://book/e60c9940-e444-5d21-b0f3-d63a70643c75</td>\n",
       "      <td>2013-06-03</td>\n",
       "    </tr>\n",
       "    <tr>\n",
       "      <th>3</th>\n",
       "      <td>4</td>\n",
       "      <td>4</td>\n",
       "      <td>4</td>\n",
       "      <td>0</td>\n",
       "      <td>0</td>\n",
       "      <td></td>\n",
       "      <td>9780316210843</td>\n",
       "      <td>Little, Brown</td>\n",
       "      <td>A week after giving birth, Detective Lindsay B...</td>\n",
       "      <td>0.00</td>\n",
       "      <td>12TH OF NEVER</td>\n",
       "      <td>James Patterson and Maxine Paetro</td>\n",
       "      <td>by James Patterson and Maxine Paetro</td>\n",
       "      <td></td>\n",
       "      <td>https://storage.googleapis.com/du-prd/books/im...</td>\n",
       "      <td>128.0</td>\n",
       "      <td>199.0</td>\n",
       "      <td>http://www.amazon.com/12th-Never-Womens-Murder...</td>\n",
       "      <td></td>\n",
       "      <td></td>\n",
       "      <td></td>\n",
       "      <td></td>\n",
       "      <td></td>\n",
       "      <td>[{'isbn10': '031621082X', 'isbn13': '978031621...</td>\n",
       "      <td>[{'name': 'Amazon', 'url': 'http://www.amazon....</td>\n",
       "      <td>nyt://book/164d2fb1-3c7c-53d3-974c-400f884ed906</td>\n",
       "      <td>2013-06-03</td>\n",
       "    </tr>\n",
       "    <tr>\n",
       "      <th>4</th>\n",
       "      <td>5</td>\n",
       "      <td>8</td>\n",
       "      <td>4</td>\n",
       "      <td>0</td>\n",
       "      <td>0</td>\n",
       "      <td>None</td>\n",
       "      <td>9780983599357</td>\n",
       "      <td>Barbara Freethy</td>\n",
       "      <td>A reckless photographer helps a woman delve in...</td>\n",
       "      <td>0.00</td>\n",
       "      <td>DON'T SAY A WORD</td>\n",
       "      <td>Barbara Freethy</td>\n",
       "      <td>by Barbara Freethy</td>\n",
       "      <td></td>\n",
       "      <td>https://storage.googleapis.com/du-prd/books/im...</td>\n",
       "      <td>128.0</td>\n",
       "      <td>186.0</td>\n",
       "      <td>http://www.amazon.com/Dont-Say-Word-Barbara-Fr...</td>\n",
       "      <td></td>\n",
       "      <td></td>\n",
       "      <td></td>\n",
       "      <td></td>\n",
       "      <td></td>\n",
       "      <td>[{'isbn10': '0983651728', 'isbn13': '978098365...</td>\n",
       "      <td>[{'name': 'Amazon', 'url': 'http://www.amazon....</td>\n",
       "      <td>nyt://book/63f31df0-0d81-5a67-b3fd-25d5e5c32b44</td>\n",
       "      <td>2013-06-03</td>\n",
       "    </tr>\n",
       "    <tr>\n",
       "      <th>5</th>\n",
       "      <td>6</td>\n",
       "      <td>6</td>\n",
       "      <td>3</td>\n",
       "      <td>0</td>\n",
       "      <td>0</td>\n",
       "      <td>None</td>\n",
       "      <td>9781101621196</td>\n",
       "      <td>Putnam</td>\n",
       "      <td>Lucas Davenport is drawn into the investigatio...</td>\n",
       "      <td>0.00</td>\n",
       "      <td>SILKEN PREY</td>\n",
       "      <td>John Sandford</td>\n",
       "      <td>by John Sandford</td>\n",
       "      <td></td>\n",
       "      <td>https://storage.googleapis.com/du-prd/books/im...</td>\n",
       "      <td>280.0</td>\n",
       "      <td>495.0</td>\n",
       "      <td>http://www.amazon.com/Silken-Prey-Lucas-Davenp...</td>\n",
       "      <td></td>\n",
       "      <td></td>\n",
       "      <td></td>\n",
       "      <td></td>\n",
       "      <td></td>\n",
       "      <td>[{'isbn10': '0399159312', 'isbn13': '978039915...</td>\n",
       "      <td>[{'name': 'Amazon', 'url': 'http://www.amazon....</td>\n",
       "      <td>nyt://book/e68fb3cb-cb49-5b23-9490-d5ddb2003560</td>\n",
       "      <td>2013-06-03</td>\n",
       "    </tr>\n",
       "    <tr>\n",
       "      <th>6</th>\n",
       "      <td>7</td>\n",
       "      <td>5</td>\n",
       "      <td>3</td>\n",
       "      <td>0</td>\n",
       "      <td>0</td>\n",
       "      <td>None</td>\n",
       "      <td>9781101622452</td>\n",
       "      <td>Ace</td>\n",
       "      <td>The last book in the series about the telepath...</td>\n",
       "      <td>0.00</td>\n",
       "      <td>DEAD EVER AFTER</td>\n",
       "      <td>Charlaine Harris</td>\n",
       "      <td>by Charlaine Harris</td>\n",
       "      <td></td>\n",
       "      <td>https://storage.googleapis.com/du-prd/books/im...</td>\n",
       "      <td>128.0</td>\n",
       "      <td>193.0</td>\n",
       "      <td>http://www.amazon.com/Dead-Ever-After-Sookie-S...</td>\n",
       "      <td></td>\n",
       "      <td></td>\n",
       "      <td></td>\n",
       "      <td></td>\n",
       "      <td></td>\n",
       "      <td>[{'isbn10': '193700788X', 'isbn13': '978193700...</td>\n",
       "      <td>[{'name': 'Amazon', 'url': 'http://www.amazon....</td>\n",
       "      <td>nyt://book/2420a4a7-9b0d-548e-8653-476b67d13ac5</td>\n",
       "      <td>2013-06-03</td>\n",
       "    </tr>\n",
       "    <tr>\n",
       "      <th>7</th>\n",
       "      <td>8</td>\n",
       "      <td>7</td>\n",
       "      <td>6</td>\n",
       "      <td>0</td>\n",
       "      <td>0</td>\n",
       "      <td>None</td>\n",
       "      <td>9781101621219</td>\n",
       "      <td>Putnam</td>\n",
       "      <td>A former criminal attorney who has been acquit...</td>\n",
       "      <td>0.00</td>\n",
       "      <td>WHISKEY BEACH</td>\n",
       "      <td>Nora Roberts</td>\n",
       "      <td>by Nora Roberts</td>\n",
       "      <td></td>\n",
       "      <td>https://storage.googleapis.com/du-prd/books/im...</td>\n",
       "      <td>128.0</td>\n",
       "      <td>194.0</td>\n",
       "      <td>http://www.amazon.com/Whiskey-Beach-Nora-Rober...</td>\n",
       "      <td></td>\n",
       "      <td></td>\n",
       "      <td></td>\n",
       "      <td></td>\n",
       "      <td></td>\n",
       "      <td>[{'isbn10': '0399159894', 'isbn13': '978039915...</td>\n",
       "      <td>[{'name': 'Amazon', 'url': 'http://www.amazon....</td>\n",
       "      <td>nyt://book/81a6f29a-7b95-523d-b90b-83c1f35b770b</td>\n",
       "      <td>2013-06-03</td>\n",
       "    </tr>\n",
       "    <tr>\n",
       "      <th>8</th>\n",
       "      <td>9</td>\n",
       "      <td>0</td>\n",
       "      <td>1</td>\n",
       "      <td>0</td>\n",
       "      <td>0</td>\n",
       "      <td>None</td>\n",
       "      <td>9781476713144</td>\n",
       "      <td>Pocket Star</td>\n",
       "      <td>Kasie has to figure out if her passion for the...</td>\n",
       "      <td>0.00</td>\n",
       "      <td>BINDING AGREEMENT</td>\n",
       "      <td>Kyra Davis</td>\n",
       "      <td>by Kyra Davis</td>\n",
       "      <td></td>\n",
       "      <td>https://storage.googleapis.com/du-prd/books/im...</td>\n",
       "      <td>319.0</td>\n",
       "      <td>495.0</td>\n",
       "      <td>None</td>\n",
       "      <td></td>\n",
       "      <td></td>\n",
       "      <td></td>\n",
       "      <td></td>\n",
       "      <td></td>\n",
       "      <td>[]</td>\n",
       "      <td>[{'name': 'Amazon', 'url': 'https://www.amazon...</td>\n",
       "      <td>nyt://book/f1008389-40b9-59ef-8513-d52a22087a65</td>\n",
       "      <td>2013-06-03</td>\n",
       "    </tr>\n",
       "    <tr>\n",
       "      <th>9</th>\n",
       "      <td>10</td>\n",
       "      <td>13</td>\n",
       "      <td>3</td>\n",
       "      <td>0</td>\n",
       "      <td>0</td>\n",
       "      <td>142996393X</td>\n",
       "      <td>9781429963930</td>\n",
       "      <td>Tor/Tom Doherty</td>\n",
       "      <td>Government agencies breed child geniuses and t...</td>\n",
       "      <td>0.00</td>\n",
       "      <td>ENDER'S GAME</td>\n",
       "      <td>Orson Scott Card</td>\n",
       "      <td>by Orson Scott Card</td>\n",
       "      <td></td>\n",
       "      <td>https://storage.googleapis.com/du-prd/books/im...</td>\n",
       "      <td>291.0</td>\n",
       "      <td>475.0</td>\n",
       "      <td>http://www.amazon.com/Enders-Game-The-Ender-Qu...</td>\n",
       "      <td></td>\n",
       "      <td></td>\n",
       "      <td></td>\n",
       "      <td></td>\n",
       "      <td></td>\n",
       "      <td>[{'isbn10': '0812550706', 'isbn13': '978081255...</td>\n",
       "      <td>[{'name': 'Amazon', 'url': 'http://www.amazon....</td>\n",
       "      <td>nyt://book/1568ec4d-b638-5fab-8e15-f045d409c44e</td>\n",
       "      <td>2013-06-03</td>\n",
       "    </tr>\n",
       "    <tr>\n",
       "      <th>10</th>\n",
       "      <td>11</td>\n",
       "      <td>9</td>\n",
       "      <td>51</td>\n",
       "      <td>0</td>\n",
       "      <td>0</td>\n",
       "      <td>0307588386</td>\n",
       "      <td>9780307588388</td>\n",
       "      <td>Crown</td>\n",
       "      <td>A woman disappears on the day of her fifth ann...</td>\n",
       "      <td>0.00</td>\n",
       "      <td>GONE GIRL</td>\n",
       "      <td>Gillian Flynn</td>\n",
       "      <td>by Gillian Flynn</td>\n",
       "      <td></td>\n",
       "      <td>https://storage.googleapis.com/du-prd/books/im...</td>\n",
       "      <td>136.0</td>\n",
       "      <td>200.0</td>\n",
       "      <td>http://www.amazon.com/Gone-Girl-Novel-Gillian-...</td>\n",
       "      <td></td>\n",
       "      <td>https://www.nytimes.com/2012/05/30/books/gone-...</td>\n",
       "      <td></td>\n",
       "      <td>https://www.nytimes.com/2012/06/17/books/revie...</td>\n",
       "      <td></td>\n",
       "      <td>[{'isbn10': '030758836X', 'isbn13': '978030758...</td>\n",
       "      <td>[{'name': 'Amazon', 'url': 'http://www.amazon....</td>\n",
       "      <td>nyt://book/d76ecc9a-b7ad-5cf0-9ef5-cde9a3eba381</td>\n",
       "      <td>2013-06-03</td>\n",
       "    </tr>\n",
       "    <tr>\n",
       "      <th>11</th>\n",
       "      <td>12</td>\n",
       "      <td>0</td>\n",
       "      <td>7</td>\n",
       "      <td>0</td>\n",
       "      <td>0</td>\n",
       "      <td>1451681763</td>\n",
       "      <td>9781451681765</td>\n",
       "      <td>Scribner</td>\n",
       "      <td>An Australian lighthouse keeper and his wife d...</td>\n",
       "      <td>0.00</td>\n",
       "      <td>THE LIGHT BETWEEN OCEANS</td>\n",
       "      <td>M L Stedman</td>\n",
       "      <td>by M. L. Stedman</td>\n",
       "      <td></td>\n",
       "      <td>https://storage.googleapis.com/du-prd/books/im...</td>\n",
       "      <td>330.0</td>\n",
       "      <td>495.0</td>\n",
       "      <td>http://www.amazon.com/The-Light-Between-Oceans...</td>\n",
       "      <td></td>\n",
       "      <td></td>\n",
       "      <td></td>\n",
       "      <td></td>\n",
       "      <td></td>\n",
       "      <td>[{'isbn10': '1451681739', 'isbn13': '978145168...</td>\n",
       "      <td>[{'name': 'Amazon', 'url': 'http://www.amazon....</td>\n",
       "      <td>nyt://book/ac269b11-1f9b-5f28-9751-0231102339e6</td>\n",
       "      <td>2013-06-03</td>\n",
       "    </tr>\n",
       "    <tr>\n",
       "      <th>12</th>\n",
       "      <td>13</td>\n",
       "      <td>0</td>\n",
       "      <td>3</td>\n",
       "      <td>0</td>\n",
       "      <td>0</td>\n",
       "      <td>None</td>\n",
       "      <td>A00B0071XO8RA</td>\n",
       "      <td>Broad Reach Publishing</td>\n",
       "      <td>Contains the five Wool science fiction books a...</td>\n",
       "      <td>0.00</td>\n",
       "      <td>WOOL OMNIBUS EDITION</td>\n",
       "      <td>Hugh Howey</td>\n",
       "      <td>by Hugh Howey</td>\n",
       "      <td></td>\n",
       "      <td>https://storage.googleapis.com/du-prd/books/im...</td>\n",
       "      <td>324.0</td>\n",
       "      <td>495.0</td>\n",
       "      <td>http://www.amazon.com/Wool-Omnibus-Silo-Hugh-H...</td>\n",
       "      <td></td>\n",
       "      <td></td>\n",
       "      <td></td>\n",
       "      <td></td>\n",
       "      <td></td>\n",
       "      <td>[]</td>\n",
       "      <td>[{'name': 'Amazon', 'url': 'http://www.amazon....</td>\n",
       "      <td>nyt://book/b33ba32c-363e-514d-8eca-ab517529ea45</td>\n",
       "      <td>2013-06-03</td>\n",
       "    </tr>\n",
       "    <tr>\n",
       "      <th>13</th>\n",
       "      <td>14</td>\n",
       "      <td>0</td>\n",
       "      <td>1</td>\n",
       "      <td>0</td>\n",
       "      <td>0</td>\n",
       "      <td>0307351939</td>\n",
       "      <td>9780307351937</td>\n",
       "      <td>Broadway</td>\n",
       "      <td>An “oral history” of an imagined Zombie War th...</td>\n",
       "      <td>0.00</td>\n",
       "      <td>WORLD WAR Z</td>\n",
       "      <td>Max Brooks</td>\n",
       "      <td>by Max Brooks</td>\n",
       "      <td></td>\n",
       "      <td>https://storage.googleapis.com/du-prd/books/im...</td>\n",
       "      <td>322.0</td>\n",
       "      <td>495.0</td>\n",
       "      <td>http://www.amazon.com/World-Market-Movie-Tie-I...</td>\n",
       "      <td></td>\n",
       "      <td></td>\n",
       "      <td></td>\n",
       "      <td></td>\n",
       "      <td></td>\n",
       "      <td>[{'isbn10': '0307346617', 'isbn13': '978030734...</td>\n",
       "      <td>[{'name': 'Amazon', 'url': 'http://www.amazon....</td>\n",
       "      <td>nyt://book/c9d0451b-cfa0-56a9-a79c-ec911c031aff</td>\n",
       "      <td>2013-06-03</td>\n",
       "    </tr>\n",
       "    <tr>\n",
       "      <th>14</th>\n",
       "      <td>15</td>\n",
       "      <td>0</td>\n",
       "      <td>1</td>\n",
       "      <td>0</td>\n",
       "      <td>0</td>\n",
       "      <td>None</td>\n",
       "      <td>9781623420154</td>\n",
       "      <td>Omnific</td>\n",
       "      <td>An ambitious young woman throws the playboy so...</td>\n",
       "      <td>0.00</td>\n",
       "      <td>TANGLED</td>\n",
       "      <td>Emma Chase</td>\n",
       "      <td>by Emma Chase</td>\n",
       "      <td></td>\n",
       "      <td>https://storage.googleapis.com/du-prd/books/im...</td>\n",
       "      <td>323.0</td>\n",
       "      <td>495.0</td>\n",
       "      <td>None</td>\n",
       "      <td></td>\n",
       "      <td></td>\n",
       "      <td></td>\n",
       "      <td></td>\n",
       "      <td></td>\n",
       "      <td>[]</td>\n",
       "      <td>[{'name': 'Amazon', 'url': 'https://www.amazon...</td>\n",
       "      <td>nyt://book/5009a41a-2afa-57ae-8d90-ebbb575f672a</td>\n",
       "      <td>2013-06-03</td>\n",
       "    </tr>\n",
       "  </tbody>\n",
       "</table>\n",
       "</div>"
      ],
      "text/plain": [
       "   rank  rank_last_week  weeks_on_list  asterisk  dagger primary_isbn10  \\\n",
       "5     6               7              3         0       0     0307351939   \n",
       "6     7               3              7         0       0     1455521280   \n",
       "7     8               0             37         0       0     0553897845   \n",
       "8     9               0              1         0       0     1455517070   \n",
       "9    10              11              2         0       0     1628470356   \n",
       "10   11               9              5         0       0           None   \n",
       "11   12               0              1         0       0                  \n",
       "12   13               0             52         0       0     0307588386   \n",
       "13   14              10              6         0       0                  \n",
       "14   15               0              6         0       0     0440246318   \n",
       "0     1               1              3         0       0     0385537867   \n",
       "1     2               2              2         0       0           None   \n",
       "2     3               3              6         0       0     1455521280   \n",
       "3     4               0              1         0       0     0345535693   \n",
       "4     5               0              1         0       0           None   \n",
       "5     6               0              1         0       0           None   \n",
       "6     7              14              2         0       0     0307351939   \n",
       "7     8               0              1         0       0           None   \n",
       "8     9               6              4         0       0           None   \n",
       "9    10               4              5         0       0                  \n",
       "10   11               0              1         0       0     1628470356   \n",
       "11   12               0              1         0       0           None   \n",
       "12   13               0              1         0       0           None   \n",
       "13   14               8              7         0       0           None   \n",
       "14   15              10              4         0       0     142996393X   \n",
       "0     1               1              2         0       0     0385537867   \n",
       "1     2               0              1         0       0     159463176X   \n",
       "2     3               2              5         0       0     1455521280   \n",
       "3     4               4              4         0       0                  \n",
       "4     5               8              4         0       0           None   \n",
       "5     6               6              3         0       0           None   \n",
       "6     7               5              3         0       0           None   \n",
       "7     8               7              6         0       0           None   \n",
       "8     9               0              1         0       0           None   \n",
       "9    10              13              3         0       0     142996393X   \n",
       "10   11               9             51         0       0     0307588386   \n",
       "11   12               0              7         0       0     1451681763   \n",
       "12   13               0              3         0       0           None   \n",
       "13   14               0              1         0       0     0307351939   \n",
       "14   15               0              1         0       0           None   \n",
       "\n",
       "   primary_isbn13               publisher  \\\n",
       "5   9780307351937                Broadway   \n",
       "6   9781455521289           Grand Central   \n",
       "7   9780553897845                  Bantam   \n",
       "8   9781455517077           Grand Central   \n",
       "9   9781628470352           Georgia Cates   \n",
       "10  9781101621196                  Putnam   \n",
       "11  9781250019653            St. Martin's   \n",
       "12  9780307588388                   Crown   \n",
       "13  9780316210843           Little, Brown   \n",
       "14  9780440246312                    Dell   \n",
       "0   9780385537865               Doubleday   \n",
       "1   9781101626276               Riverhead   \n",
       "2   9781455521289           Grand Central   \n",
       "3   9780345535696                  Bantam   \n",
       "4   9781455574872                 Forever   \n",
       "5   9781101600559                  Putnam   \n",
       "6   9780307351937                Broadway   \n",
       "7   9781460313121          Harlequin Mira   \n",
       "8   9781101621196                  Putnam   \n",
       "9   9780316210843           Little, Brown   \n",
       "10  9781628470352           Georgia Cates   \n",
       "11  9781101623848                    Jove   \n",
       "12  A00B00C2GEJT8              Amy Harmon   \n",
       "13  9781101621219                  Putnam   \n",
       "14  9781429963930         Tor/Tom Doherty   \n",
       "0   9780385537865               Doubleday   \n",
       "1   9781594631764               Riverhead   \n",
       "2   9781455521289           Grand Central   \n",
       "3   9780316210843           Little, Brown   \n",
       "4   9780983599357         Barbara Freethy   \n",
       "5   9781101621196                  Putnam   \n",
       "6   9781101622452                     Ace   \n",
       "7   9781101621219                  Putnam   \n",
       "8   9781476713144             Pocket Star   \n",
       "9   9781429963930         Tor/Tom Doherty   \n",
       "10  9780307588388                   Crown   \n",
       "11  9781451681765                Scribner   \n",
       "12  A00B0071XO8RA  Broad Reach Publishing   \n",
       "13  9780307351937                Broadway   \n",
       "14  9781623420154                 Omnific   \n",
       "\n",
       "                                          description price  \\\n",
       "5   An “oral history” of an imagined Zombie War th...  0.00   \n",
       "6   The government hitman Will Robie uncovers a se...  0.00   \n",
       "7   In the frozen wastes to the north of Winterfel...  0.00   \n",
       "8   The quadriplegic forensics expert Lincoln Rhym...  0.00   \n",
       "9   Will Jack Henry’s absence leave Laurelyn wanti...  0.00   \n",
       "10  Lucas Davenport is drawn into the investigatio...  0.00   \n",
       "11  After separating from her husband, a lifestyle...  0.00   \n",
       "12  A woman disappears on the day of her fifth ann...  0.00   \n",
       "13  A week after giving birth, Detective Lindsay B...  0.00   \n",
       "14  A carload of people involved in a conspiracy p...  0.00   \n",
       "0   The symbologist Robert Langdon, on the run in ...  0.00   \n",
       "1   A multigenerational family saga centers on a b...  0.00   \n",
       "2   The government hitman Will Robie uncovers a se...  0.00   \n",
       "3   Odd Thomas, who can communicate with the dead,...  0.00   \n",
       "4   When a new tragedy strikes Ella and Micha, one...  0.00   \n",
       "5   Kurt Austin, Joe Zavala and the rest of the Nu...  0.00   \n",
       "6   An “oral history” of an imagined Zombie War th...  0.00   \n",
       "7   With her two sisters heading for the altar, Sa...  0.00   \n",
       "8   Lucas Davenport is drawn into the investigatio...  0.00   \n",
       "9   A week after giving birth, Detective Lindsay B...  0.00   \n",
       "10  Will Jack Henry’s absence leave Laurelyn wanti...  0.00   \n",
       "11  A killer is on the loose in New Orleans, and a...  0.00   \n",
       "12  A young British teacher takes a tough, trouble...  0.00   \n",
       "13  A former criminal attorney who has been acquit...  0.00   \n",
       "14  Government agencies breed child geniuses and t...  0.00   \n",
       "0   The symbologist Robert Langdon, on the run in ...  0.00   \n",
       "1   A multigenerational family saga centers on a b...  0.00   \n",
       "2   The government hitman Will Robie uncovers a se...  0.00   \n",
       "3   A week after giving birth, Detective Lindsay B...  0.00   \n",
       "4   A reckless photographer helps a woman delve in...  0.00   \n",
       "5   Lucas Davenport is drawn into the investigatio...  0.00   \n",
       "6   The last book in the series about the telepath...  0.00   \n",
       "7   A former criminal attorney who has been acquit...  0.00   \n",
       "8   Kasie has to figure out if her passion for the...  0.00   \n",
       "9   Government agencies breed child geniuses and t...  0.00   \n",
       "10  A woman disappears on the day of her fifth ann...  0.00   \n",
       "11  An Australian lighthouse keeper and his wife d...  0.00   \n",
       "12  Contains the five Wool science fiction books a...  0.00   \n",
       "13  An “oral history” of an imagined Zombie War th...  0.00   \n",
       "14  An ambitious young woman throws the playboy so...  0.00   \n",
       "\n",
       "                            title                             author  \\\n",
       "5                     WORLD WAR Z                         Max Brooks   \n",
       "6                         THE HIT                     David Baldacci   \n",
       "7               A GAME OF THRONES                   George RR Martin   \n",
       "8                   THE KILL ROOM                     Jeffery Deaver   \n",
       "9           BEAUTY FROM SURRENDER                      Georgia Cates   \n",
       "10                    SILKEN PREY                      John Sandford   \n",
       "11                  LADIES' NIGHT                   Mary Kay Andrews   \n",
       "12                      GONE GIRL                      Gillian Flynn   \n",
       "13                  12TH OF NEVER  James Patterson and Maxine Paetro   \n",
       "14                   A WANTED MAN                          Lee Child   \n",
       "0                         INFERNO                          Dan Brown   \n",
       "1        AND THE MOUNTAINS ECHOED                    Khaled Hosseini   \n",
       "2                         THE HIT                     David Baldacci   \n",
       "3                      DEEPLY ODD                        Dean Koontz   \n",
       "4   THE FOREVER OF ELLA AND MICHA                   Jessica Sorensen   \n",
       "5                       ZERO HOUR     Clive Cussler and Graham Brown   \n",
       "6                     WORLD WAR Z                         Max Brooks   \n",
       "7                SEA GLASS ISLAND                      Sherryl Woods   \n",
       "8                     SILKEN PREY                      John Sandford   \n",
       "9                   12TH OF NEVER  James Patterson and Maxine Paetro   \n",
       "10          BEAUTY FROM SURRENDER                      Georgia Cates   \n",
       "11                 LEOPARD'S PREY                   Christine Feehan   \n",
       "12               A DIFFERENT BLUE                         Amy Harmon   \n",
       "13                  WHISKEY BEACH                       Nora Roberts   \n",
       "14                   ENDER'S GAME                   Orson Scott Card   \n",
       "0                         INFERNO                          Dan Brown   \n",
       "1        AND THE MOUNTAINS ECHOED                    Khaled Hosseini   \n",
       "2                         THE HIT                     David Baldacci   \n",
       "3                   12TH OF NEVER  James Patterson and Maxine Paetro   \n",
       "4                DON'T SAY A WORD                    Barbara Freethy   \n",
       "5                     SILKEN PREY                      John Sandford   \n",
       "6                 DEAD EVER AFTER                   Charlaine Harris   \n",
       "7                   WHISKEY BEACH                       Nora Roberts   \n",
       "8               BINDING AGREEMENT                         Kyra Davis   \n",
       "9                    ENDER'S GAME                   Orson Scott Card   \n",
       "10                      GONE GIRL                      Gillian Flynn   \n",
       "11       THE LIGHT BETWEEN OCEANS                        M L Stedman   \n",
       "12           WOOL OMNIBUS EDITION                         Hugh Howey   \n",
       "13                    WORLD WAR Z                         Max Brooks   \n",
       "14                        TANGLED                         Emma Chase   \n",
       "\n",
       "                             contributor contributor_note  \\\n",
       "5                          by Max Brooks                    \n",
       "6                      by David Baldacci                    \n",
       "7                  by George R.R. Martin                    \n",
       "8                      by Jeffery Deaver                    \n",
       "9                       by Georgia Cates                    \n",
       "10                      by John Sandford                    \n",
       "11                   by Mary Kay Andrews                    \n",
       "12                      by Gillian Flynn                    \n",
       "13  by James Patterson and Maxine Paetro                    \n",
       "14                          by Lee Child                    \n",
       "0                           by Dan Brown                    \n",
       "1                     by Khaled Hosseini                    \n",
       "2                      by David Baldacci                    \n",
       "3                         by Dean Koontz                    \n",
       "4                    by Jessica Sorensen                    \n",
       "5      by Clive Cussler and Graham Brown                    \n",
       "6                          by Max Brooks                    \n",
       "7                       by Sherryl Woods                    \n",
       "8                       by John Sandford                    \n",
       "9   by James Patterson and Maxine Paetro                    \n",
       "10                      by Georgia Cates                    \n",
       "11                   by Christine Feehan                    \n",
       "12                         by Amy Harmon                    \n",
       "13                       by Nora Roberts                    \n",
       "14                   by Orson Scott Card                    \n",
       "0                           by Dan Brown                    \n",
       "1                     by Khaled Hosseini                    \n",
       "2                      by David Baldacci                    \n",
       "3   by James Patterson and Maxine Paetro                    \n",
       "4                     by Barbara Freethy                    \n",
       "5                       by John Sandford                    \n",
       "6                    by Charlaine Harris                    \n",
       "7                        by Nora Roberts                    \n",
       "8                          by Kyra Davis                    \n",
       "9                    by Orson Scott Card                    \n",
       "10                      by Gillian Flynn                    \n",
       "11                      by M. L. Stedman                    \n",
       "12                         by Hugh Howey                    \n",
       "13                         by Max Brooks                    \n",
       "14                         by Emma Chase                    \n",
       "\n",
       "                                           book_image  book_image_width  \\\n",
       "5   https://storage.googleapis.com/du-prd/books/im...             322.0   \n",
       "6   https://storage.googleapis.com/du-prd/books/im...             128.0   \n",
       "7   https://storage.googleapis.com/du-prd/books/im...             301.0   \n",
       "8   https://storage.googleapis.com/du-prd/books/im...             330.0   \n",
       "9   https://storage.googleapis.com/du-prd/books/im...             330.0   \n",
       "10  https://storage.googleapis.com/du-prd/books/im...             280.0   \n",
       "11  https://storage.googleapis.com/du-prd/books/im...             328.0   \n",
       "12  https://storage.googleapis.com/du-prd/books/im...             136.0   \n",
       "13  https://storage.googleapis.com/du-prd/books/im...             128.0   \n",
       "14  https://storage.googleapis.com/du-prd/books/im...             128.0   \n",
       "0   https://storage.googleapis.com/du-prd/books/im...             276.0   \n",
       "1   https://storage.googleapis.com/du-prd/books/im...             317.0   \n",
       "2   https://storage.googleapis.com/du-prd/books/im...             128.0   \n",
       "3   https://storage.googleapis.com/du-prd/books/im...             258.0   \n",
       "4   https://storage.googleapis.com/du-prd/books/im...             320.0   \n",
       "5   https://storage.googleapis.com/du-prd/books/im...             280.0   \n",
       "6   https://storage.googleapis.com/du-prd/books/im...             322.0   \n",
       "7   https://storage.googleapis.com/du-prd/books/im...             313.0   \n",
       "8   https://storage.googleapis.com/du-prd/books/im...             280.0   \n",
       "9   https://storage.googleapis.com/du-prd/books/im...             128.0   \n",
       "10  https://storage.googleapis.com/du-prd/books/im...             330.0   \n",
       "11  https://storage.googleapis.com/du-prd/books/im...             307.0   \n",
       "12  https://storage.googleapis.com/du-prd/books/im...             330.0   \n",
       "13  https://storage.googleapis.com/du-prd/books/im...             128.0   \n",
       "14  https://storage.googleapis.com/du-prd/books/im...             291.0   \n",
       "0   https://storage.googleapis.com/du-prd/books/im...             276.0   \n",
       "1   https://storage.googleapis.com/du-prd/books/im...             317.0   \n",
       "2   https://storage.googleapis.com/du-prd/books/im...             128.0   \n",
       "3   https://storage.googleapis.com/du-prd/books/im...             128.0   \n",
       "4   https://storage.googleapis.com/du-prd/books/im...             128.0   \n",
       "5   https://storage.googleapis.com/du-prd/books/im...             280.0   \n",
       "6   https://storage.googleapis.com/du-prd/books/im...             128.0   \n",
       "7   https://storage.googleapis.com/du-prd/books/im...             128.0   \n",
       "8   https://storage.googleapis.com/du-prd/books/im...             319.0   \n",
       "9   https://storage.googleapis.com/du-prd/books/im...             291.0   \n",
       "10  https://storage.googleapis.com/du-prd/books/im...             136.0   \n",
       "11  https://storage.googleapis.com/du-prd/books/im...             330.0   \n",
       "12  https://storage.googleapis.com/du-prd/books/im...             324.0   \n",
       "13  https://storage.googleapis.com/du-prd/books/im...             322.0   \n",
       "14  https://storage.googleapis.com/du-prd/books/im...             323.0   \n",
       "\n",
       "    book_image_height                                 amazon_product_url  \\\n",
       "5               495.0  http://www.amazon.com/World-Market-Movie-Tie-I...   \n",
       "6               194.0  http://www.amazon.com/The-Will-Robie-David-Bal...   \n",
       "7               495.0  http://www.amazon.com/Game-Thrones-Song-Fire-B...   \n",
       "8               494.0  http://www.amazon.com/The-Kill-Room-Lincoln-Rh...   \n",
       "9               495.0  http://www.amazon.com/Beauty-Surrender-Series-...   \n",
       "10              495.0  http://www.amazon.com/Silken-Prey-Lucas-Davenp...   \n",
       "11              495.0  http://www.amazon.com/Ladies-Night-Mary-Kay-An...   \n",
       "12              200.0  http://www.amazon.com/Gone-Girl-Novel-Gillian-...   \n",
       "13              199.0  http://www.amazon.com/12th-Never-Womens-Murder...   \n",
       "14              194.0  http://www.amazon.com/Wanted-bonus-short-story...   \n",
       "0               495.0  http://www.amazon.com/Inferno-Robert-Langdon-D...   \n",
       "1               495.0  http://www.amazon.com/And-Mountains-Echoed-Kha...   \n",
       "2               194.0  http://www.amazon.com/The-Will-Robie-David-Bal...   \n",
       "3               495.0  http://www.amazon.com/Deeply-Odd-An-Thomas-Nov...   \n",
       "4               495.0  http://www.amazon.com/Forever-Ella-Micha-Jessi...   \n",
       "5               495.0  http://www.amazon.com/Zero-Hour-The-Numa-Files...   \n",
       "6               495.0  http://www.amazon.com/World-Market-Movie-Tie-I...   \n",
       "7               495.0  http://www.amazon.com/Glass-Island-Ocean-Breez...   \n",
       "8               495.0  http://www.amazon.com/Silken-Prey-Lucas-Davenp...   \n",
       "9               199.0  http://www.amazon.com/12th-Never-Womens-Murder...   \n",
       "10              495.0  http://www.amazon.com/Beauty-Surrender-Series-...   \n",
       "11              495.0  http://www.amazon.com/Leopards-Prey-A-Leopard-...   \n",
       "12              495.0  http://www.amazon.com/Different-Blue-Amy-Harmo...   \n",
       "13              194.0  http://www.amazon.com/Whiskey-Beach-Nora-Rober...   \n",
       "14              475.0  http://www.amazon.com/Enders-Game-The-Ender-Qu...   \n",
       "0               495.0  http://www.amazon.com/Inferno-Robert-Langdon-D...   \n",
       "1               495.0  http://www.amazon.com/And-Mountains-Echoed-Kha...   \n",
       "2               194.0  http://www.amazon.com/The-Will-Robie-David-Bal...   \n",
       "3               199.0  http://www.amazon.com/12th-Never-Womens-Murder...   \n",
       "4               186.0  http://www.amazon.com/Dont-Say-Word-Barbara-Fr...   \n",
       "5               495.0  http://www.amazon.com/Silken-Prey-Lucas-Davenp...   \n",
       "6               193.0  http://www.amazon.com/Dead-Ever-After-Sookie-S...   \n",
       "7               194.0  http://www.amazon.com/Whiskey-Beach-Nora-Rober...   \n",
       "8               495.0                                               None   \n",
       "9               475.0  http://www.amazon.com/Enders-Game-The-Ender-Qu...   \n",
       "10              200.0  http://www.amazon.com/Gone-Girl-Novel-Gillian-...   \n",
       "11              495.0  http://www.amazon.com/The-Light-Between-Oceans...   \n",
       "12              495.0  http://www.amazon.com/Wool-Omnibus-Silo-Hugh-H...   \n",
       "13              495.0  http://www.amazon.com/World-Market-Movie-Tie-I...   \n",
       "14              495.0                                               None   \n",
       "\n",
       "   age_group                                   book_review_link  \\\n",
       "5                                                                 \n",
       "6                                                                 \n",
       "7                                                                 \n",
       "8                                                                 \n",
       "9                                                                 \n",
       "10                                                                \n",
       "11                                                                \n",
       "12            https://www.nytimes.com/2012/05/30/books/gone-...   \n",
       "13                                                                \n",
       "14            https://www.nytimes.com/2012/09/10/books/a-wan...   \n",
       "0             https://www.nytimes.com/2013/05/13/books/infer...   \n",
       "1             https://www.nytimes.com/2013/05/21/books/and-t...   \n",
       "2                                                                 \n",
       "3                                                                 \n",
       "4                                                                 \n",
       "5                                                                 \n",
       "6                                                                 \n",
       "7                                                                 \n",
       "8                                                                 \n",
       "9                                                                 \n",
       "10                                                                \n",
       "11                                                                \n",
       "12                                                                \n",
       "13                                                                \n",
       "14                                                                \n",
       "0             https://www.nytimes.com/2013/05/13/books/infer...   \n",
       "1             https://www.nytimes.com/2013/05/21/books/and-t...   \n",
       "2                                                                 \n",
       "3                                                                 \n",
       "4                                                                 \n",
       "5                                                                 \n",
       "6                                                                 \n",
       "7                                                                 \n",
       "8                                                                 \n",
       "9                                                                 \n",
       "10            https://www.nytimes.com/2012/05/30/books/gone-...   \n",
       "11                                                                \n",
       "12                                                                \n",
       "13                                                                \n",
       "14                                                                \n",
       "\n",
       "   first_chapter_link                                 sunday_review_link  \\\n",
       "5                                                                          \n",
       "6                                                                          \n",
       "7                                                                          \n",
       "8                                                                          \n",
       "9                                                                          \n",
       "10                                                                         \n",
       "11                                                                         \n",
       "12                     https://www.nytimes.com/2012/06/17/books/revie...   \n",
       "13                                                                         \n",
       "14                                                                         \n",
       "0                                                                          \n",
       "1                                                                          \n",
       "2                                                                          \n",
       "3                                                                          \n",
       "4                                                                          \n",
       "5                                                                          \n",
       "6                                                                          \n",
       "7                                                                          \n",
       "8                                                                          \n",
       "9                                                                          \n",
       "10                                                                         \n",
       "11                                                                         \n",
       "12                                                                         \n",
       "13                                                                         \n",
       "14                                                                         \n",
       "0                                                                          \n",
       "1                                                                          \n",
       "2                                                                          \n",
       "3                                                                          \n",
       "4                                                                          \n",
       "5                                                                          \n",
       "6                                                                          \n",
       "7                                                                          \n",
       "8                                                                          \n",
       "9                                                                          \n",
       "10                     https://www.nytimes.com/2012/06/17/books/revie...   \n",
       "11                                                                         \n",
       "12                                                                         \n",
       "13                                                                         \n",
       "14                                                                         \n",
       "\n",
       "                                 article_chapter_link  \\\n",
       "5                                                       \n",
       "6                                                       \n",
       "7   https://www.nytimes.com/2011/04/10/arts/televi...   \n",
       "8                                                       \n",
       "9                                                       \n",
       "10                                                      \n",
       "11                                                      \n",
       "12                                                      \n",
       "13                                                      \n",
       "14                                                      \n",
       "0                                                       \n",
       "1                                                       \n",
       "2                                                       \n",
       "3                                                       \n",
       "4                                                       \n",
       "5                                                       \n",
       "6                                                       \n",
       "7                                                       \n",
       "8                                                       \n",
       "9                                                       \n",
       "10                                                      \n",
       "11                                                      \n",
       "12                                                      \n",
       "13                                                      \n",
       "14                                                      \n",
       "0                                                       \n",
       "1                                                       \n",
       "2                                                       \n",
       "3                                                       \n",
       "4                                                       \n",
       "5                                                       \n",
       "6                                                       \n",
       "7                                                       \n",
       "8                                                       \n",
       "9                                                       \n",
       "10                                                      \n",
       "11                                                      \n",
       "12                                                      \n",
       "13                                                      \n",
       "14                                                      \n",
       "\n",
       "                                                isbns  \\\n",
       "5   [{'isbn10': '0307346617', 'isbn13': '978030734...   \n",
       "6   [{'isbn10': '1455521213', 'isbn13': '978145552...   \n",
       "7   [{'isbn10': '0553573403', 'isbn13': '978055357...   \n",
       "8   [{'isbn10': '1455517062', 'isbn13': '978145551...   \n",
       "9   [{'isbn10': '1628470356', 'isbn13': '978162847...   \n",
       "10  [{'isbn10': '0399159312', 'isbn13': '978039915...   \n",
       "11  [{'isbn10': '1250019672', 'isbn13': '978125001...   \n",
       "12  [{'isbn10': '030758836X', 'isbn13': '978030758...   \n",
       "13  [{'isbn10': '031621082X', 'isbn13': '978031621...   \n",
       "14  [{'isbn10': '0385344333', 'isbn13': '978038534...   \n",
       "0   [{'isbn10': '0385537859', 'isbn13': '978038553...   \n",
       "1   [{'isbn10': '159463176X', 'isbn13': '978159463...   \n",
       "2   [{'isbn10': '1455521213', 'isbn13': '978145552...   \n",
       "3   [{'isbn10': '0553807730', 'isbn13': '978055380...   \n",
       "4                                                  []   \n",
       "5   [{'isbn10': '039916250X', 'isbn13': '978039916...   \n",
       "6   [{'isbn10': '0307346617', 'isbn13': '978030734...   \n",
       "7   [{'isbn10': '0778314464', 'isbn13': '978077831...   \n",
       "8   [{'isbn10': '0399159312', 'isbn13': '978039915...   \n",
       "9   [{'isbn10': '031621082X', 'isbn13': '978031621...   \n",
       "10  [{'isbn10': '1628470356', 'isbn13': '978162847...   \n",
       "11  [{'isbn10': '0515151556', 'isbn13': '978051515...   \n",
       "12                                                 []   \n",
       "13  [{'isbn10': '0399159894', 'isbn13': '978039915...   \n",
       "14  [{'isbn10': '0812550706', 'isbn13': '978081255...   \n",
       "0   [{'isbn10': '0385537859', 'isbn13': '978038553...   \n",
       "1   [{'isbn10': '159463176X', 'isbn13': '978159463...   \n",
       "2   [{'isbn10': '1455521213', 'isbn13': '978145552...   \n",
       "3   [{'isbn10': '031621082X', 'isbn13': '978031621...   \n",
       "4   [{'isbn10': '0983651728', 'isbn13': '978098365...   \n",
       "5   [{'isbn10': '0399159312', 'isbn13': '978039915...   \n",
       "6   [{'isbn10': '193700788X', 'isbn13': '978193700...   \n",
       "7   [{'isbn10': '0399159894', 'isbn13': '978039915...   \n",
       "8                                                  []   \n",
       "9   [{'isbn10': '0812550706', 'isbn13': '978081255...   \n",
       "10  [{'isbn10': '030758836X', 'isbn13': '978030758...   \n",
       "11  [{'isbn10': '1451681739', 'isbn13': '978145168...   \n",
       "12                                                 []   \n",
       "13  [{'isbn10': '0307346617', 'isbn13': '978030734...   \n",
       "14                                                 []   \n",
       "\n",
       "                                            buy_links  \\\n",
       "5   [{'name': 'Amazon', 'url': 'http://www.amazon....   \n",
       "6   [{'name': 'Amazon', 'url': 'http://www.amazon....   \n",
       "7   [{'name': 'Amazon', 'url': 'http://www.amazon....   \n",
       "8   [{'name': 'Amazon', 'url': 'http://www.amazon....   \n",
       "9   [{'name': 'Amazon', 'url': 'http://www.amazon....   \n",
       "10  [{'name': 'Amazon', 'url': 'http://www.amazon....   \n",
       "11  [{'name': 'Amazon', 'url': 'http://www.amazon....   \n",
       "12  [{'name': 'Amazon', 'url': 'http://www.amazon....   \n",
       "13  [{'name': 'Amazon', 'url': 'http://www.amazon....   \n",
       "14  [{'name': 'Amazon', 'url': 'http://www.amazon....   \n",
       "0   [{'name': 'Amazon', 'url': 'http://www.amazon....   \n",
       "1   [{'name': 'Amazon', 'url': 'http://www.amazon....   \n",
       "2   [{'name': 'Amazon', 'url': 'http://www.amazon....   \n",
       "3   [{'name': 'Amazon', 'url': 'http://www.amazon....   \n",
       "4   [{'name': 'Amazon', 'url': 'http://www.amazon....   \n",
       "5   [{'name': 'Amazon', 'url': 'http://www.amazon....   \n",
       "6   [{'name': 'Amazon', 'url': 'http://www.amazon....   \n",
       "7   [{'name': 'Amazon', 'url': 'http://www.amazon....   \n",
       "8   [{'name': 'Amazon', 'url': 'http://www.amazon....   \n",
       "9   [{'name': 'Amazon', 'url': 'http://www.amazon....   \n",
       "10  [{'name': 'Amazon', 'url': 'http://www.amazon....   \n",
       "11  [{'name': 'Amazon', 'url': 'http://www.amazon....   \n",
       "12  [{'name': 'Amazon', 'url': 'http://www.amazon....   \n",
       "13  [{'name': 'Amazon', 'url': 'http://www.amazon....   \n",
       "14  [{'name': 'Amazon', 'url': 'http://www.amazon....   \n",
       "0   [{'name': 'Amazon', 'url': 'http://www.amazon....   \n",
       "1   [{'name': 'Amazon', 'url': 'http://www.amazon....   \n",
       "2   [{'name': 'Amazon', 'url': 'http://www.amazon....   \n",
       "3   [{'name': 'Amazon', 'url': 'http://www.amazon....   \n",
       "4   [{'name': 'Amazon', 'url': 'http://www.amazon....   \n",
       "5   [{'name': 'Amazon', 'url': 'http://www.amazon....   \n",
       "6   [{'name': 'Amazon', 'url': 'http://www.amazon....   \n",
       "7   [{'name': 'Amazon', 'url': 'http://www.amazon....   \n",
       "8   [{'name': 'Amazon', 'url': 'https://www.amazon...   \n",
       "9   [{'name': 'Amazon', 'url': 'http://www.amazon....   \n",
       "10  [{'name': 'Amazon', 'url': 'http://www.amazon....   \n",
       "11  [{'name': 'Amazon', 'url': 'http://www.amazon....   \n",
       "12  [{'name': 'Amazon', 'url': 'http://www.amazon....   \n",
       "13  [{'name': 'Amazon', 'url': 'http://www.amazon....   \n",
       "14  [{'name': 'Amazon', 'url': 'https://www.amazon...   \n",
       "\n",
       "                                           book_uri        week  \n",
       "5   nyt://book/c9d0451b-cfa0-56a9-a79c-ec911c031aff  2013-06-17  \n",
       "6   nyt://book/e60c9940-e444-5d21-b0f3-d63a70643c75  2013-06-17  \n",
       "7   nyt://book/4dfc5533-8154-5fdd-ae02-efee1f59dd3d  2013-06-17  \n",
       "8   nyt://book/a730ec12-f587-5621-8f84-7e04b8634420  2013-06-17  \n",
       "9   nyt://book/62ad3808-6d1a-5fbc-966d-07850b77d36b  2013-06-17  \n",
       "10  nyt://book/e68fb3cb-cb49-5b23-9490-d5ddb2003560  2013-06-17  \n",
       "11  nyt://book/24465f54-7de3-5f31-980b-fc50b720e61a  2013-06-17  \n",
       "12  nyt://book/d76ecc9a-b7ad-5cf0-9ef5-cde9a3eba381  2013-06-17  \n",
       "13  nyt://book/164d2fb1-3c7c-53d3-974c-400f884ed906  2013-06-17  \n",
       "14  nyt://book/7a3f4e45-7f5e-5fe9-af27-0878f01181d4  2013-06-17  \n",
       "0   nyt://book/a986073a-5877-5e90-8efb-94e6e17521bc  2013-06-10  \n",
       "1   nyt://book/efe6031b-b2ce-52a8-af9f-f8803a3bd532  2013-06-10  \n",
       "2   nyt://book/e60c9940-e444-5d21-b0f3-d63a70643c75  2013-06-10  \n",
       "3   nyt://book/6e0e6f9f-415f-5894-b31d-0d8649eda39f  2013-06-10  \n",
       "4   nyt://book/dd43c6e7-a6a9-5d63-ac5c-401e182b4c2f  2013-06-10  \n",
       "5   nyt://book/c8d73d50-8067-5869-befe-287ce0073e9b  2013-06-10  \n",
       "6   nyt://book/c9d0451b-cfa0-56a9-a79c-ec911c031aff  2013-06-10  \n",
       "7   nyt://book/34f211d2-420e-5c38-a1b6-266b8bd1cfaa  2013-06-10  \n",
       "8   nyt://book/e68fb3cb-cb49-5b23-9490-d5ddb2003560  2013-06-10  \n",
       "9   nyt://book/164d2fb1-3c7c-53d3-974c-400f884ed906  2013-06-10  \n",
       "10  nyt://book/62ad3808-6d1a-5fbc-966d-07850b77d36b  2013-06-10  \n",
       "11  nyt://book/cf138bf9-80d0-5d7f-aa21-7b449f1d682b  2013-06-10  \n",
       "12  nyt://book/1a6fa774-484c-598c-80b6-bca343cc4930  2013-06-10  \n",
       "13  nyt://book/81a6f29a-7b95-523d-b90b-83c1f35b770b  2013-06-10  \n",
       "14  nyt://book/1568ec4d-b638-5fab-8e15-f045d409c44e  2013-06-10  \n",
       "0   nyt://book/a986073a-5877-5e90-8efb-94e6e17521bc  2013-06-03  \n",
       "1   nyt://book/bb6a383e-9d83-5024-92a1-1df3e6ae81c6  2013-06-03  \n",
       "2   nyt://book/e60c9940-e444-5d21-b0f3-d63a70643c75  2013-06-03  \n",
       "3   nyt://book/164d2fb1-3c7c-53d3-974c-400f884ed906  2013-06-03  \n",
       "4   nyt://book/63f31df0-0d81-5a67-b3fd-25d5e5c32b44  2013-06-03  \n",
       "5   nyt://book/e68fb3cb-cb49-5b23-9490-d5ddb2003560  2013-06-03  \n",
       "6   nyt://book/2420a4a7-9b0d-548e-8653-476b67d13ac5  2013-06-03  \n",
       "7   nyt://book/81a6f29a-7b95-523d-b90b-83c1f35b770b  2013-06-03  \n",
       "8   nyt://book/f1008389-40b9-59ef-8513-d52a22087a65  2013-06-03  \n",
       "9   nyt://book/1568ec4d-b638-5fab-8e15-f045d409c44e  2013-06-03  \n",
       "10  nyt://book/d76ecc9a-b7ad-5cf0-9ef5-cde9a3eba381  2013-06-03  \n",
       "11  nyt://book/ac269b11-1f9b-5f28-9751-0231102339e6  2013-06-03  \n",
       "12  nyt://book/b33ba32c-363e-514d-8eca-ab517529ea45  2013-06-03  \n",
       "13  nyt://book/c9d0451b-cfa0-56a9-a79c-ec911c031aff  2013-06-03  \n",
       "14  nyt://book/5009a41a-2afa-57ae-8d90-ebbb575f672a  2013-06-03  "
      ]
     },
     "execution_count": 31,
     "metadata": {},
     "output_type": "execute_result"
    }
   ],
   "source": [
    "#add a week column\n",
    "top_15_combined_bestsellers_2013_2018['week'] = repeated_weeks\n",
    "\n",
    "#and check to make sure it worked correctly\n",
    "top_15_combined_bestsellers_2013_2018.tail(40)"
   ]
  },
  {
   "cell_type": "code",
   "execution_count": 32,
   "metadata": {},
   "outputs": [
    {
     "data": {
      "text/plain": [
       "3900"
      ]
     },
     "execution_count": 32,
     "metadata": {},
     "output_type": "execute_result"
    }
   ],
   "source": [
    "#and a column indicating which list these come from\n",
    "k2 = 3900\n",
    "weekly_fiction_list = ['Combined Print & E-Book Fiction']\n",
    "nyt_list_weekly_fiction = []\n",
    "\n",
    "for element in weekly_fiction_list:\n",
    "    for i in range(k2):\n",
    "        nyt_list_weekly_fiction.append(element)\n",
    "\n",
    "len(nyt_list_weekly_fiction)"
   ]
  },
  {
   "cell_type": "code",
   "execution_count": 33,
   "metadata": {},
   "outputs": [
    {
     "name": "stderr",
     "output_type": "stream",
     "text": [
      "C:\\Users\\melan\\AppData\\Local\\Temp\\ipykernel_22472\\94425587.py:2: SettingWithCopyWarning: \n",
      "A value is trying to be set on a copy of a slice from a DataFrame.\n",
      "Try using .loc[row_indexer,col_indexer] = value instead\n",
      "\n",
      "See the caveats in the documentation: https://pandas.pydata.org/pandas-docs/stable/user_guide/indexing.html#returning-a-view-versus-a-copy\n",
      "  top_15_combined_bestsellers_2013_2018['nyt_list'] = nyt_list_weekly_fiction\n"
     ]
    },
    {
     "data": {
      "text/html": [
       "<div>\n",
       "<style scoped>\n",
       "    .dataframe tbody tr th:only-of-type {\n",
       "        vertical-align: middle;\n",
       "    }\n",
       "\n",
       "    .dataframe tbody tr th {\n",
       "        vertical-align: top;\n",
       "    }\n",
       "\n",
       "    .dataframe thead th {\n",
       "        text-align: right;\n",
       "    }\n",
       "</style>\n",
       "<table border=\"1\" class=\"dataframe\">\n",
       "  <thead>\n",
       "    <tr style=\"text-align: right;\">\n",
       "      <th></th>\n",
       "      <th>rank</th>\n",
       "      <th>rank_last_week</th>\n",
       "      <th>weeks_on_list</th>\n",
       "      <th>asterisk</th>\n",
       "      <th>dagger</th>\n",
       "      <th>primary_isbn10</th>\n",
       "      <th>primary_isbn13</th>\n",
       "      <th>publisher</th>\n",
       "      <th>description</th>\n",
       "      <th>price</th>\n",
       "      <th>title</th>\n",
       "      <th>author</th>\n",
       "      <th>contributor</th>\n",
       "      <th>contributor_note</th>\n",
       "      <th>book_image</th>\n",
       "      <th>book_image_width</th>\n",
       "      <th>book_image_height</th>\n",
       "      <th>amazon_product_url</th>\n",
       "      <th>age_group</th>\n",
       "      <th>book_review_link</th>\n",
       "      <th>first_chapter_link</th>\n",
       "      <th>sunday_review_link</th>\n",
       "      <th>article_chapter_link</th>\n",
       "      <th>isbns</th>\n",
       "      <th>buy_links</th>\n",
       "      <th>book_uri</th>\n",
       "      <th>week</th>\n",
       "      <th>nyt_list</th>\n",
       "    </tr>\n",
       "  </thead>\n",
       "  <tbody>\n",
       "    <tr>\n",
       "      <th>10</th>\n",
       "      <td>11</td>\n",
       "      <td>0</td>\n",
       "      <td>1</td>\n",
       "      <td>0</td>\n",
       "      <td>0</td>\n",
       "      <td>1628470356</td>\n",
       "      <td>9781628470352</td>\n",
       "      <td>Georgia Cates</td>\n",
       "      <td>Will Jack Henry’s absence leave Laurelyn wanti...</td>\n",
       "      <td>0.00</td>\n",
       "      <td>BEAUTY FROM SURRENDER</td>\n",
       "      <td>Georgia Cates</td>\n",
       "      <td>by Georgia Cates</td>\n",
       "      <td></td>\n",
       "      <td>https://storage.googleapis.com/du-prd/books/im...</td>\n",
       "      <td>330.0</td>\n",
       "      <td>495.0</td>\n",
       "      <td>http://www.amazon.com/Beauty-Surrender-Series-...</td>\n",
       "      <td></td>\n",
       "      <td></td>\n",
       "      <td></td>\n",
       "      <td></td>\n",
       "      <td></td>\n",
       "      <td>[{'isbn10': '1628470356', 'isbn13': '978162847...</td>\n",
       "      <td>[{'name': 'Amazon', 'url': 'http://www.amazon....</td>\n",
       "      <td>nyt://book/62ad3808-6d1a-5fbc-966d-07850b77d36b</td>\n",
       "      <td>2013-06-10</td>\n",
       "      <td>Combined Print &amp; E-Book Fiction</td>\n",
       "    </tr>\n",
       "    <tr>\n",
       "      <th>11</th>\n",
       "      <td>12</td>\n",
       "      <td>0</td>\n",
       "      <td>1</td>\n",
       "      <td>0</td>\n",
       "      <td>0</td>\n",
       "      <td>None</td>\n",
       "      <td>9781101623848</td>\n",
       "      <td>Jove</td>\n",
       "      <td>A killer is on the loose in New Orleans, and a...</td>\n",
       "      <td>0.00</td>\n",
       "      <td>LEOPARD'S PREY</td>\n",
       "      <td>Christine Feehan</td>\n",
       "      <td>by Christine Feehan</td>\n",
       "      <td></td>\n",
       "      <td>https://storage.googleapis.com/du-prd/books/im...</td>\n",
       "      <td>307.0</td>\n",
       "      <td>495.0</td>\n",
       "      <td>http://www.amazon.com/Leopards-Prey-A-Leopard-...</td>\n",
       "      <td></td>\n",
       "      <td></td>\n",
       "      <td></td>\n",
       "      <td></td>\n",
       "      <td></td>\n",
       "      <td>[{'isbn10': '0515151556', 'isbn13': '978051515...</td>\n",
       "      <td>[{'name': 'Amazon', 'url': 'http://www.amazon....</td>\n",
       "      <td>nyt://book/cf138bf9-80d0-5d7f-aa21-7b449f1d682b</td>\n",
       "      <td>2013-06-10</td>\n",
       "      <td>Combined Print &amp; E-Book Fiction</td>\n",
       "    </tr>\n",
       "    <tr>\n",
       "      <th>12</th>\n",
       "      <td>13</td>\n",
       "      <td>0</td>\n",
       "      <td>1</td>\n",
       "      <td>0</td>\n",
       "      <td>0</td>\n",
       "      <td>None</td>\n",
       "      <td>A00B00C2GEJT8</td>\n",
       "      <td>Amy Harmon</td>\n",
       "      <td>A young British teacher takes a tough, trouble...</td>\n",
       "      <td>0.00</td>\n",
       "      <td>A DIFFERENT BLUE</td>\n",
       "      <td>Amy Harmon</td>\n",
       "      <td>by Amy Harmon</td>\n",
       "      <td></td>\n",
       "      <td>https://storage.googleapis.com/du-prd/books/im...</td>\n",
       "      <td>330.0</td>\n",
       "      <td>495.0</td>\n",
       "      <td>http://www.amazon.com/Different-Blue-Amy-Harmo...</td>\n",
       "      <td></td>\n",
       "      <td></td>\n",
       "      <td></td>\n",
       "      <td></td>\n",
       "      <td></td>\n",
       "      <td>[]</td>\n",
       "      <td>[{'name': 'Amazon', 'url': 'http://www.amazon....</td>\n",
       "      <td>nyt://book/1a6fa774-484c-598c-80b6-bca343cc4930</td>\n",
       "      <td>2013-06-10</td>\n",
       "      <td>Combined Print &amp; E-Book Fiction</td>\n",
       "    </tr>\n",
       "    <tr>\n",
       "      <th>13</th>\n",
       "      <td>14</td>\n",
       "      <td>8</td>\n",
       "      <td>7</td>\n",
       "      <td>0</td>\n",
       "      <td>0</td>\n",
       "      <td>None</td>\n",
       "      <td>9781101621219</td>\n",
       "      <td>Putnam</td>\n",
       "      <td>A former criminal attorney who has been acquit...</td>\n",
       "      <td>0.00</td>\n",
       "      <td>WHISKEY BEACH</td>\n",
       "      <td>Nora Roberts</td>\n",
       "      <td>by Nora Roberts</td>\n",
       "      <td></td>\n",
       "      <td>https://storage.googleapis.com/du-prd/books/im...</td>\n",
       "      <td>128.0</td>\n",
       "      <td>194.0</td>\n",
       "      <td>http://www.amazon.com/Whiskey-Beach-Nora-Rober...</td>\n",
       "      <td></td>\n",
       "      <td></td>\n",
       "      <td></td>\n",
       "      <td></td>\n",
       "      <td></td>\n",
       "      <td>[{'isbn10': '0399159894', 'isbn13': '978039915...</td>\n",
       "      <td>[{'name': 'Amazon', 'url': 'http://www.amazon....</td>\n",
       "      <td>nyt://book/81a6f29a-7b95-523d-b90b-83c1f35b770b</td>\n",
       "      <td>2013-06-10</td>\n",
       "      <td>Combined Print &amp; E-Book Fiction</td>\n",
       "    </tr>\n",
       "    <tr>\n",
       "      <th>14</th>\n",
       "      <td>15</td>\n",
       "      <td>10</td>\n",
       "      <td>4</td>\n",
       "      <td>0</td>\n",
       "      <td>0</td>\n",
       "      <td>142996393X</td>\n",
       "      <td>9781429963930</td>\n",
       "      <td>Tor/Tom Doherty</td>\n",
       "      <td>Government agencies breed child geniuses and t...</td>\n",
       "      <td>0.00</td>\n",
       "      <td>ENDER'S GAME</td>\n",
       "      <td>Orson Scott Card</td>\n",
       "      <td>by Orson Scott Card</td>\n",
       "      <td></td>\n",
       "      <td>https://storage.googleapis.com/du-prd/books/im...</td>\n",
       "      <td>291.0</td>\n",
       "      <td>475.0</td>\n",
       "      <td>http://www.amazon.com/Enders-Game-The-Ender-Qu...</td>\n",
       "      <td></td>\n",
       "      <td></td>\n",
       "      <td></td>\n",
       "      <td></td>\n",
       "      <td></td>\n",
       "      <td>[{'isbn10': '0812550706', 'isbn13': '978081255...</td>\n",
       "      <td>[{'name': 'Amazon', 'url': 'http://www.amazon....</td>\n",
       "      <td>nyt://book/1568ec4d-b638-5fab-8e15-f045d409c44e</td>\n",
       "      <td>2013-06-10</td>\n",
       "      <td>Combined Print &amp; E-Book Fiction</td>\n",
       "    </tr>\n",
       "    <tr>\n",
       "      <th>0</th>\n",
       "      <td>1</td>\n",
       "      <td>1</td>\n",
       "      <td>2</td>\n",
       "      <td>0</td>\n",
       "      <td>0</td>\n",
       "      <td>0385537867</td>\n",
       "      <td>9780385537865</td>\n",
       "      <td>Doubleday</td>\n",
       "      <td>The symbologist Robert Langdon, on the run in ...</td>\n",
       "      <td>0.00</td>\n",
       "      <td>INFERNO</td>\n",
       "      <td>Dan Brown</td>\n",
       "      <td>by Dan Brown</td>\n",
       "      <td></td>\n",
       "      <td>https://storage.googleapis.com/du-prd/books/im...</td>\n",
       "      <td>276.0</td>\n",
       "      <td>495.0</td>\n",
       "      <td>http://www.amazon.com/Inferno-Robert-Langdon-D...</td>\n",
       "      <td></td>\n",
       "      <td>https://www.nytimes.com/2013/05/13/books/infer...</td>\n",
       "      <td></td>\n",
       "      <td></td>\n",
       "      <td></td>\n",
       "      <td>[{'isbn10': '0385537859', 'isbn13': '978038553...</td>\n",
       "      <td>[{'name': 'Amazon', 'url': 'http://www.amazon....</td>\n",
       "      <td>nyt://book/a986073a-5877-5e90-8efb-94e6e17521bc</td>\n",
       "      <td>2013-06-03</td>\n",
       "      <td>Combined Print &amp; E-Book Fiction</td>\n",
       "    </tr>\n",
       "    <tr>\n",
       "      <th>1</th>\n",
       "      <td>2</td>\n",
       "      <td>0</td>\n",
       "      <td>1</td>\n",
       "      <td>0</td>\n",
       "      <td>0</td>\n",
       "      <td>159463176X</td>\n",
       "      <td>9781594631764</td>\n",
       "      <td>Riverhead</td>\n",
       "      <td>A multigenerational family saga centers on a b...</td>\n",
       "      <td>0.00</td>\n",
       "      <td>AND THE MOUNTAINS ECHOED</td>\n",
       "      <td>Khaled Hosseini</td>\n",
       "      <td>by Khaled Hosseini</td>\n",
       "      <td></td>\n",
       "      <td>https://storage.googleapis.com/du-prd/books/im...</td>\n",
       "      <td>317.0</td>\n",
       "      <td>495.0</td>\n",
       "      <td>http://www.amazon.com/And-Mountains-Echoed-Kha...</td>\n",
       "      <td></td>\n",
       "      <td>https://www.nytimes.com/2013/05/21/books/and-t...</td>\n",
       "      <td></td>\n",
       "      <td></td>\n",
       "      <td></td>\n",
       "      <td>[{'isbn10': '159463176X', 'isbn13': '978159463...</td>\n",
       "      <td>[{'name': 'Amazon', 'url': 'http://www.amazon....</td>\n",
       "      <td>nyt://book/bb6a383e-9d83-5024-92a1-1df3e6ae81c6</td>\n",
       "      <td>2013-06-03</td>\n",
       "      <td>Combined Print &amp; E-Book Fiction</td>\n",
       "    </tr>\n",
       "    <tr>\n",
       "      <th>2</th>\n",
       "      <td>3</td>\n",
       "      <td>2</td>\n",
       "      <td>5</td>\n",
       "      <td>0</td>\n",
       "      <td>0</td>\n",
       "      <td>1455521280</td>\n",
       "      <td>9781455521289</td>\n",
       "      <td>Grand Central</td>\n",
       "      <td>The government hitman Will Robie uncovers a se...</td>\n",
       "      <td>0.00</td>\n",
       "      <td>THE HIT</td>\n",
       "      <td>David Baldacci</td>\n",
       "      <td>by David Baldacci</td>\n",
       "      <td></td>\n",
       "      <td>https://storage.googleapis.com/du-prd/books/im...</td>\n",
       "      <td>128.0</td>\n",
       "      <td>194.0</td>\n",
       "      <td>http://www.amazon.com/The-Will-Robie-David-Bal...</td>\n",
       "      <td></td>\n",
       "      <td></td>\n",
       "      <td></td>\n",
       "      <td></td>\n",
       "      <td></td>\n",
       "      <td>[{'isbn10': '1455521213', 'isbn13': '978145552...</td>\n",
       "      <td>[{'name': 'Amazon', 'url': 'http://www.amazon....</td>\n",
       "      <td>nyt://book/e60c9940-e444-5d21-b0f3-d63a70643c75</td>\n",
       "      <td>2013-06-03</td>\n",
       "      <td>Combined Print &amp; E-Book Fiction</td>\n",
       "    </tr>\n",
       "    <tr>\n",
       "      <th>3</th>\n",
       "      <td>4</td>\n",
       "      <td>4</td>\n",
       "      <td>4</td>\n",
       "      <td>0</td>\n",
       "      <td>0</td>\n",
       "      <td></td>\n",
       "      <td>9780316210843</td>\n",
       "      <td>Little, Brown</td>\n",
       "      <td>A week after giving birth, Detective Lindsay B...</td>\n",
       "      <td>0.00</td>\n",
       "      <td>12TH OF NEVER</td>\n",
       "      <td>James Patterson and Maxine Paetro</td>\n",
       "      <td>by James Patterson and Maxine Paetro</td>\n",
       "      <td></td>\n",
       "      <td>https://storage.googleapis.com/du-prd/books/im...</td>\n",
       "      <td>128.0</td>\n",
       "      <td>199.0</td>\n",
       "      <td>http://www.amazon.com/12th-Never-Womens-Murder...</td>\n",
       "      <td></td>\n",
       "      <td></td>\n",
       "      <td></td>\n",
       "      <td></td>\n",
       "      <td></td>\n",
       "      <td>[{'isbn10': '031621082X', 'isbn13': '978031621...</td>\n",
       "      <td>[{'name': 'Amazon', 'url': 'http://www.amazon....</td>\n",
       "      <td>nyt://book/164d2fb1-3c7c-53d3-974c-400f884ed906</td>\n",
       "      <td>2013-06-03</td>\n",
       "      <td>Combined Print &amp; E-Book Fiction</td>\n",
       "    </tr>\n",
       "    <tr>\n",
       "      <th>4</th>\n",
       "      <td>5</td>\n",
       "      <td>8</td>\n",
       "      <td>4</td>\n",
       "      <td>0</td>\n",
       "      <td>0</td>\n",
       "      <td>None</td>\n",
       "      <td>9780983599357</td>\n",
       "      <td>Barbara Freethy</td>\n",
       "      <td>A reckless photographer helps a woman delve in...</td>\n",
       "      <td>0.00</td>\n",
       "      <td>DON'T SAY A WORD</td>\n",
       "      <td>Barbara Freethy</td>\n",
       "      <td>by Barbara Freethy</td>\n",
       "      <td></td>\n",
       "      <td>https://storage.googleapis.com/du-prd/books/im...</td>\n",
       "      <td>128.0</td>\n",
       "      <td>186.0</td>\n",
       "      <td>http://www.amazon.com/Dont-Say-Word-Barbara-Fr...</td>\n",
       "      <td></td>\n",
       "      <td></td>\n",
       "      <td></td>\n",
       "      <td></td>\n",
       "      <td></td>\n",
       "      <td>[{'isbn10': '0983651728', 'isbn13': '978098365...</td>\n",
       "      <td>[{'name': 'Amazon', 'url': 'http://www.amazon....</td>\n",
       "      <td>nyt://book/63f31df0-0d81-5a67-b3fd-25d5e5c32b44</td>\n",
       "      <td>2013-06-03</td>\n",
       "      <td>Combined Print &amp; E-Book Fiction</td>\n",
       "    </tr>\n",
       "    <tr>\n",
       "      <th>5</th>\n",
       "      <td>6</td>\n",
       "      <td>6</td>\n",
       "      <td>3</td>\n",
       "      <td>0</td>\n",
       "      <td>0</td>\n",
       "      <td>None</td>\n",
       "      <td>9781101621196</td>\n",
       "      <td>Putnam</td>\n",
       "      <td>Lucas Davenport is drawn into the investigatio...</td>\n",
       "      <td>0.00</td>\n",
       "      <td>SILKEN PREY</td>\n",
       "      <td>John Sandford</td>\n",
       "      <td>by John Sandford</td>\n",
       "      <td></td>\n",
       "      <td>https://storage.googleapis.com/du-prd/books/im...</td>\n",
       "      <td>280.0</td>\n",
       "      <td>495.0</td>\n",
       "      <td>http://www.amazon.com/Silken-Prey-Lucas-Davenp...</td>\n",
       "      <td></td>\n",
       "      <td></td>\n",
       "      <td></td>\n",
       "      <td></td>\n",
       "      <td></td>\n",
       "      <td>[{'isbn10': '0399159312', 'isbn13': '978039915...</td>\n",
       "      <td>[{'name': 'Amazon', 'url': 'http://www.amazon....</td>\n",
       "      <td>nyt://book/e68fb3cb-cb49-5b23-9490-d5ddb2003560</td>\n",
       "      <td>2013-06-03</td>\n",
       "      <td>Combined Print &amp; E-Book Fiction</td>\n",
       "    </tr>\n",
       "    <tr>\n",
       "      <th>6</th>\n",
       "      <td>7</td>\n",
       "      <td>5</td>\n",
       "      <td>3</td>\n",
       "      <td>0</td>\n",
       "      <td>0</td>\n",
       "      <td>None</td>\n",
       "      <td>9781101622452</td>\n",
       "      <td>Ace</td>\n",
       "      <td>The last book in the series about the telepath...</td>\n",
       "      <td>0.00</td>\n",
       "      <td>DEAD EVER AFTER</td>\n",
       "      <td>Charlaine Harris</td>\n",
       "      <td>by Charlaine Harris</td>\n",
       "      <td></td>\n",
       "      <td>https://storage.googleapis.com/du-prd/books/im...</td>\n",
       "      <td>128.0</td>\n",
       "      <td>193.0</td>\n",
       "      <td>http://www.amazon.com/Dead-Ever-After-Sookie-S...</td>\n",
       "      <td></td>\n",
       "      <td></td>\n",
       "      <td></td>\n",
       "      <td></td>\n",
       "      <td></td>\n",
       "      <td>[{'isbn10': '193700788X', 'isbn13': '978193700...</td>\n",
       "      <td>[{'name': 'Amazon', 'url': 'http://www.amazon....</td>\n",
       "      <td>nyt://book/2420a4a7-9b0d-548e-8653-476b67d13ac5</td>\n",
       "      <td>2013-06-03</td>\n",
       "      <td>Combined Print &amp; E-Book Fiction</td>\n",
       "    </tr>\n",
       "    <tr>\n",
       "      <th>7</th>\n",
       "      <td>8</td>\n",
       "      <td>7</td>\n",
       "      <td>6</td>\n",
       "      <td>0</td>\n",
       "      <td>0</td>\n",
       "      <td>None</td>\n",
       "      <td>9781101621219</td>\n",
       "      <td>Putnam</td>\n",
       "      <td>A former criminal attorney who has been acquit...</td>\n",
       "      <td>0.00</td>\n",
       "      <td>WHISKEY BEACH</td>\n",
       "      <td>Nora Roberts</td>\n",
       "      <td>by Nora Roberts</td>\n",
       "      <td></td>\n",
       "      <td>https://storage.googleapis.com/du-prd/books/im...</td>\n",
       "      <td>128.0</td>\n",
       "      <td>194.0</td>\n",
       "      <td>http://www.amazon.com/Whiskey-Beach-Nora-Rober...</td>\n",
       "      <td></td>\n",
       "      <td></td>\n",
       "      <td></td>\n",
       "      <td></td>\n",
       "      <td></td>\n",
       "      <td>[{'isbn10': '0399159894', 'isbn13': '978039915...</td>\n",
       "      <td>[{'name': 'Amazon', 'url': 'http://www.amazon....</td>\n",
       "      <td>nyt://book/81a6f29a-7b95-523d-b90b-83c1f35b770b</td>\n",
       "      <td>2013-06-03</td>\n",
       "      <td>Combined Print &amp; E-Book Fiction</td>\n",
       "    </tr>\n",
       "    <tr>\n",
       "      <th>8</th>\n",
       "      <td>9</td>\n",
       "      <td>0</td>\n",
       "      <td>1</td>\n",
       "      <td>0</td>\n",
       "      <td>0</td>\n",
       "      <td>None</td>\n",
       "      <td>9781476713144</td>\n",
       "      <td>Pocket Star</td>\n",
       "      <td>Kasie has to figure out if her passion for the...</td>\n",
       "      <td>0.00</td>\n",
       "      <td>BINDING AGREEMENT</td>\n",
       "      <td>Kyra Davis</td>\n",
       "      <td>by Kyra Davis</td>\n",
       "      <td></td>\n",
       "      <td>https://storage.googleapis.com/du-prd/books/im...</td>\n",
       "      <td>319.0</td>\n",
       "      <td>495.0</td>\n",
       "      <td>None</td>\n",
       "      <td></td>\n",
       "      <td></td>\n",
       "      <td></td>\n",
       "      <td></td>\n",
       "      <td></td>\n",
       "      <td>[]</td>\n",
       "      <td>[{'name': 'Amazon', 'url': 'https://www.amazon...</td>\n",
       "      <td>nyt://book/f1008389-40b9-59ef-8513-d52a22087a65</td>\n",
       "      <td>2013-06-03</td>\n",
       "      <td>Combined Print &amp; E-Book Fiction</td>\n",
       "    </tr>\n",
       "    <tr>\n",
       "      <th>9</th>\n",
       "      <td>10</td>\n",
       "      <td>13</td>\n",
       "      <td>3</td>\n",
       "      <td>0</td>\n",
       "      <td>0</td>\n",
       "      <td>142996393X</td>\n",
       "      <td>9781429963930</td>\n",
       "      <td>Tor/Tom Doherty</td>\n",
       "      <td>Government agencies breed child geniuses and t...</td>\n",
       "      <td>0.00</td>\n",
       "      <td>ENDER'S GAME</td>\n",
       "      <td>Orson Scott Card</td>\n",
       "      <td>by Orson Scott Card</td>\n",
       "      <td></td>\n",
       "      <td>https://storage.googleapis.com/du-prd/books/im...</td>\n",
       "      <td>291.0</td>\n",
       "      <td>475.0</td>\n",
       "      <td>http://www.amazon.com/Enders-Game-The-Ender-Qu...</td>\n",
       "      <td></td>\n",
       "      <td></td>\n",
       "      <td></td>\n",
       "      <td></td>\n",
       "      <td></td>\n",
       "      <td>[{'isbn10': '0812550706', 'isbn13': '978081255...</td>\n",
       "      <td>[{'name': 'Amazon', 'url': 'http://www.amazon....</td>\n",
       "      <td>nyt://book/1568ec4d-b638-5fab-8e15-f045d409c44e</td>\n",
       "      <td>2013-06-03</td>\n",
       "      <td>Combined Print &amp; E-Book Fiction</td>\n",
       "    </tr>\n",
       "    <tr>\n",
       "      <th>10</th>\n",
       "      <td>11</td>\n",
       "      <td>9</td>\n",
       "      <td>51</td>\n",
       "      <td>0</td>\n",
       "      <td>0</td>\n",
       "      <td>0307588386</td>\n",
       "      <td>9780307588388</td>\n",
       "      <td>Crown</td>\n",
       "      <td>A woman disappears on the day of her fifth ann...</td>\n",
       "      <td>0.00</td>\n",
       "      <td>GONE GIRL</td>\n",
       "      <td>Gillian Flynn</td>\n",
       "      <td>by Gillian Flynn</td>\n",
       "      <td></td>\n",
       "      <td>https://storage.googleapis.com/du-prd/books/im...</td>\n",
       "      <td>136.0</td>\n",
       "      <td>200.0</td>\n",
       "      <td>http://www.amazon.com/Gone-Girl-Novel-Gillian-...</td>\n",
       "      <td></td>\n",
       "      <td>https://www.nytimes.com/2012/05/30/books/gone-...</td>\n",
       "      <td></td>\n",
       "      <td>https://www.nytimes.com/2012/06/17/books/revie...</td>\n",
       "      <td></td>\n",
       "      <td>[{'isbn10': '030758836X', 'isbn13': '978030758...</td>\n",
       "      <td>[{'name': 'Amazon', 'url': 'http://www.amazon....</td>\n",
       "      <td>nyt://book/d76ecc9a-b7ad-5cf0-9ef5-cde9a3eba381</td>\n",
       "      <td>2013-06-03</td>\n",
       "      <td>Combined Print &amp; E-Book Fiction</td>\n",
       "    </tr>\n",
       "    <tr>\n",
       "      <th>11</th>\n",
       "      <td>12</td>\n",
       "      <td>0</td>\n",
       "      <td>7</td>\n",
       "      <td>0</td>\n",
       "      <td>0</td>\n",
       "      <td>1451681763</td>\n",
       "      <td>9781451681765</td>\n",
       "      <td>Scribner</td>\n",
       "      <td>An Australian lighthouse keeper and his wife d...</td>\n",
       "      <td>0.00</td>\n",
       "      <td>THE LIGHT BETWEEN OCEANS</td>\n",
       "      <td>M L Stedman</td>\n",
       "      <td>by M. L. Stedman</td>\n",
       "      <td></td>\n",
       "      <td>https://storage.googleapis.com/du-prd/books/im...</td>\n",
       "      <td>330.0</td>\n",
       "      <td>495.0</td>\n",
       "      <td>http://www.amazon.com/The-Light-Between-Oceans...</td>\n",
       "      <td></td>\n",
       "      <td></td>\n",
       "      <td></td>\n",
       "      <td></td>\n",
       "      <td></td>\n",
       "      <td>[{'isbn10': '1451681739', 'isbn13': '978145168...</td>\n",
       "      <td>[{'name': 'Amazon', 'url': 'http://www.amazon....</td>\n",
       "      <td>nyt://book/ac269b11-1f9b-5f28-9751-0231102339e6</td>\n",
       "      <td>2013-06-03</td>\n",
       "      <td>Combined Print &amp; E-Book Fiction</td>\n",
       "    </tr>\n",
       "    <tr>\n",
       "      <th>12</th>\n",
       "      <td>13</td>\n",
       "      <td>0</td>\n",
       "      <td>3</td>\n",
       "      <td>0</td>\n",
       "      <td>0</td>\n",
       "      <td>None</td>\n",
       "      <td>A00B0071XO8RA</td>\n",
       "      <td>Broad Reach Publishing</td>\n",
       "      <td>Contains the five Wool science fiction books a...</td>\n",
       "      <td>0.00</td>\n",
       "      <td>WOOL OMNIBUS EDITION</td>\n",
       "      <td>Hugh Howey</td>\n",
       "      <td>by Hugh Howey</td>\n",
       "      <td></td>\n",
       "      <td>https://storage.googleapis.com/du-prd/books/im...</td>\n",
       "      <td>324.0</td>\n",
       "      <td>495.0</td>\n",
       "      <td>http://www.amazon.com/Wool-Omnibus-Silo-Hugh-H...</td>\n",
       "      <td></td>\n",
       "      <td></td>\n",
       "      <td></td>\n",
       "      <td></td>\n",
       "      <td></td>\n",
       "      <td>[]</td>\n",
       "      <td>[{'name': 'Amazon', 'url': 'http://www.amazon....</td>\n",
       "      <td>nyt://book/b33ba32c-363e-514d-8eca-ab517529ea45</td>\n",
       "      <td>2013-06-03</td>\n",
       "      <td>Combined Print &amp; E-Book Fiction</td>\n",
       "    </tr>\n",
       "    <tr>\n",
       "      <th>13</th>\n",
       "      <td>14</td>\n",
       "      <td>0</td>\n",
       "      <td>1</td>\n",
       "      <td>0</td>\n",
       "      <td>0</td>\n",
       "      <td>0307351939</td>\n",
       "      <td>9780307351937</td>\n",
       "      <td>Broadway</td>\n",
       "      <td>An “oral history” of an imagined Zombie War th...</td>\n",
       "      <td>0.00</td>\n",
       "      <td>WORLD WAR Z</td>\n",
       "      <td>Max Brooks</td>\n",
       "      <td>by Max Brooks</td>\n",
       "      <td></td>\n",
       "      <td>https://storage.googleapis.com/du-prd/books/im...</td>\n",
       "      <td>322.0</td>\n",
       "      <td>495.0</td>\n",
       "      <td>http://www.amazon.com/World-Market-Movie-Tie-I...</td>\n",
       "      <td></td>\n",
       "      <td></td>\n",
       "      <td></td>\n",
       "      <td></td>\n",
       "      <td></td>\n",
       "      <td>[{'isbn10': '0307346617', 'isbn13': '978030734...</td>\n",
       "      <td>[{'name': 'Amazon', 'url': 'http://www.amazon....</td>\n",
       "      <td>nyt://book/c9d0451b-cfa0-56a9-a79c-ec911c031aff</td>\n",
       "      <td>2013-06-03</td>\n",
       "      <td>Combined Print &amp; E-Book Fiction</td>\n",
       "    </tr>\n",
       "    <tr>\n",
       "      <th>14</th>\n",
       "      <td>15</td>\n",
       "      <td>0</td>\n",
       "      <td>1</td>\n",
       "      <td>0</td>\n",
       "      <td>0</td>\n",
       "      <td>None</td>\n",
       "      <td>9781623420154</td>\n",
       "      <td>Omnific</td>\n",
       "      <td>An ambitious young woman throws the playboy so...</td>\n",
       "      <td>0.00</td>\n",
       "      <td>TANGLED</td>\n",
       "      <td>Emma Chase</td>\n",
       "      <td>by Emma Chase</td>\n",
       "      <td></td>\n",
       "      <td>https://storage.googleapis.com/du-prd/books/im...</td>\n",
       "      <td>323.0</td>\n",
       "      <td>495.0</td>\n",
       "      <td>None</td>\n",
       "      <td></td>\n",
       "      <td></td>\n",
       "      <td></td>\n",
       "      <td></td>\n",
       "      <td></td>\n",
       "      <td>[]</td>\n",
       "      <td>[{'name': 'Amazon', 'url': 'https://www.amazon...</td>\n",
       "      <td>nyt://book/5009a41a-2afa-57ae-8d90-ebbb575f672a</td>\n",
       "      <td>2013-06-03</td>\n",
       "      <td>Combined Print &amp; E-Book Fiction</td>\n",
       "    </tr>\n",
       "  </tbody>\n",
       "</table>\n",
       "</div>"
      ],
      "text/plain": [
       "   rank  rank_last_week  weeks_on_list  asterisk  dagger primary_isbn10  \\\n",
       "10   11               0              1         0       0     1628470356   \n",
       "11   12               0              1         0       0           None   \n",
       "12   13               0              1         0       0           None   \n",
       "13   14               8              7         0       0           None   \n",
       "14   15              10              4         0       0     142996393X   \n",
       "0     1               1              2         0       0     0385537867   \n",
       "1     2               0              1         0       0     159463176X   \n",
       "2     3               2              5         0       0     1455521280   \n",
       "3     4               4              4         0       0                  \n",
       "4     5               8              4         0       0           None   \n",
       "5     6               6              3         0       0           None   \n",
       "6     7               5              3         0       0           None   \n",
       "7     8               7              6         0       0           None   \n",
       "8     9               0              1         0       0           None   \n",
       "9    10              13              3         0       0     142996393X   \n",
       "10   11               9             51         0       0     0307588386   \n",
       "11   12               0              7         0       0     1451681763   \n",
       "12   13               0              3         0       0           None   \n",
       "13   14               0              1         0       0     0307351939   \n",
       "14   15               0              1         0       0           None   \n",
       "\n",
       "   primary_isbn13               publisher  \\\n",
       "10  9781628470352           Georgia Cates   \n",
       "11  9781101623848                    Jove   \n",
       "12  A00B00C2GEJT8              Amy Harmon   \n",
       "13  9781101621219                  Putnam   \n",
       "14  9781429963930         Tor/Tom Doherty   \n",
       "0   9780385537865               Doubleday   \n",
       "1   9781594631764               Riverhead   \n",
       "2   9781455521289           Grand Central   \n",
       "3   9780316210843           Little, Brown   \n",
       "4   9780983599357         Barbara Freethy   \n",
       "5   9781101621196                  Putnam   \n",
       "6   9781101622452                     Ace   \n",
       "7   9781101621219                  Putnam   \n",
       "8   9781476713144             Pocket Star   \n",
       "9   9781429963930         Tor/Tom Doherty   \n",
       "10  9780307588388                   Crown   \n",
       "11  9781451681765                Scribner   \n",
       "12  A00B0071XO8RA  Broad Reach Publishing   \n",
       "13  9780307351937                Broadway   \n",
       "14  9781623420154                 Omnific   \n",
       "\n",
       "                                          description price  \\\n",
       "10  Will Jack Henry’s absence leave Laurelyn wanti...  0.00   \n",
       "11  A killer is on the loose in New Orleans, and a...  0.00   \n",
       "12  A young British teacher takes a tough, trouble...  0.00   \n",
       "13  A former criminal attorney who has been acquit...  0.00   \n",
       "14  Government agencies breed child geniuses and t...  0.00   \n",
       "0   The symbologist Robert Langdon, on the run in ...  0.00   \n",
       "1   A multigenerational family saga centers on a b...  0.00   \n",
       "2   The government hitman Will Robie uncovers a se...  0.00   \n",
       "3   A week after giving birth, Detective Lindsay B...  0.00   \n",
       "4   A reckless photographer helps a woman delve in...  0.00   \n",
       "5   Lucas Davenport is drawn into the investigatio...  0.00   \n",
       "6   The last book in the series about the telepath...  0.00   \n",
       "7   A former criminal attorney who has been acquit...  0.00   \n",
       "8   Kasie has to figure out if her passion for the...  0.00   \n",
       "9   Government agencies breed child geniuses and t...  0.00   \n",
       "10  A woman disappears on the day of her fifth ann...  0.00   \n",
       "11  An Australian lighthouse keeper and his wife d...  0.00   \n",
       "12  Contains the five Wool science fiction books a...  0.00   \n",
       "13  An “oral history” of an imagined Zombie War th...  0.00   \n",
       "14  An ambitious young woman throws the playboy so...  0.00   \n",
       "\n",
       "                       title                             author  \\\n",
       "10     BEAUTY FROM SURRENDER                      Georgia Cates   \n",
       "11            LEOPARD'S PREY                   Christine Feehan   \n",
       "12          A DIFFERENT BLUE                         Amy Harmon   \n",
       "13             WHISKEY BEACH                       Nora Roberts   \n",
       "14              ENDER'S GAME                   Orson Scott Card   \n",
       "0                    INFERNO                          Dan Brown   \n",
       "1   AND THE MOUNTAINS ECHOED                    Khaled Hosseini   \n",
       "2                    THE HIT                     David Baldacci   \n",
       "3              12TH OF NEVER  James Patterson and Maxine Paetro   \n",
       "4           DON'T SAY A WORD                    Barbara Freethy   \n",
       "5                SILKEN PREY                      John Sandford   \n",
       "6            DEAD EVER AFTER                   Charlaine Harris   \n",
       "7              WHISKEY BEACH                       Nora Roberts   \n",
       "8          BINDING AGREEMENT                         Kyra Davis   \n",
       "9               ENDER'S GAME                   Orson Scott Card   \n",
       "10                 GONE GIRL                      Gillian Flynn   \n",
       "11  THE LIGHT BETWEEN OCEANS                        M L Stedman   \n",
       "12      WOOL OMNIBUS EDITION                         Hugh Howey   \n",
       "13               WORLD WAR Z                         Max Brooks   \n",
       "14                   TANGLED                         Emma Chase   \n",
       "\n",
       "                             contributor contributor_note  \\\n",
       "10                      by Georgia Cates                    \n",
       "11                   by Christine Feehan                    \n",
       "12                         by Amy Harmon                    \n",
       "13                       by Nora Roberts                    \n",
       "14                   by Orson Scott Card                    \n",
       "0                           by Dan Brown                    \n",
       "1                     by Khaled Hosseini                    \n",
       "2                      by David Baldacci                    \n",
       "3   by James Patterson and Maxine Paetro                    \n",
       "4                     by Barbara Freethy                    \n",
       "5                       by John Sandford                    \n",
       "6                    by Charlaine Harris                    \n",
       "7                        by Nora Roberts                    \n",
       "8                          by Kyra Davis                    \n",
       "9                    by Orson Scott Card                    \n",
       "10                      by Gillian Flynn                    \n",
       "11                      by M. L. Stedman                    \n",
       "12                         by Hugh Howey                    \n",
       "13                         by Max Brooks                    \n",
       "14                         by Emma Chase                    \n",
       "\n",
       "                                           book_image  book_image_width  \\\n",
       "10  https://storage.googleapis.com/du-prd/books/im...             330.0   \n",
       "11  https://storage.googleapis.com/du-prd/books/im...             307.0   \n",
       "12  https://storage.googleapis.com/du-prd/books/im...             330.0   \n",
       "13  https://storage.googleapis.com/du-prd/books/im...             128.0   \n",
       "14  https://storage.googleapis.com/du-prd/books/im...             291.0   \n",
       "0   https://storage.googleapis.com/du-prd/books/im...             276.0   \n",
       "1   https://storage.googleapis.com/du-prd/books/im...             317.0   \n",
       "2   https://storage.googleapis.com/du-prd/books/im...             128.0   \n",
       "3   https://storage.googleapis.com/du-prd/books/im...             128.0   \n",
       "4   https://storage.googleapis.com/du-prd/books/im...             128.0   \n",
       "5   https://storage.googleapis.com/du-prd/books/im...             280.0   \n",
       "6   https://storage.googleapis.com/du-prd/books/im...             128.0   \n",
       "7   https://storage.googleapis.com/du-prd/books/im...             128.0   \n",
       "8   https://storage.googleapis.com/du-prd/books/im...             319.0   \n",
       "9   https://storage.googleapis.com/du-prd/books/im...             291.0   \n",
       "10  https://storage.googleapis.com/du-prd/books/im...             136.0   \n",
       "11  https://storage.googleapis.com/du-prd/books/im...             330.0   \n",
       "12  https://storage.googleapis.com/du-prd/books/im...             324.0   \n",
       "13  https://storage.googleapis.com/du-prd/books/im...             322.0   \n",
       "14  https://storage.googleapis.com/du-prd/books/im...             323.0   \n",
       "\n",
       "    book_image_height                                 amazon_product_url  \\\n",
       "10              495.0  http://www.amazon.com/Beauty-Surrender-Series-...   \n",
       "11              495.0  http://www.amazon.com/Leopards-Prey-A-Leopard-...   \n",
       "12              495.0  http://www.amazon.com/Different-Blue-Amy-Harmo...   \n",
       "13              194.0  http://www.amazon.com/Whiskey-Beach-Nora-Rober...   \n",
       "14              475.0  http://www.amazon.com/Enders-Game-The-Ender-Qu...   \n",
       "0               495.0  http://www.amazon.com/Inferno-Robert-Langdon-D...   \n",
       "1               495.0  http://www.amazon.com/And-Mountains-Echoed-Kha...   \n",
       "2               194.0  http://www.amazon.com/The-Will-Robie-David-Bal...   \n",
       "3               199.0  http://www.amazon.com/12th-Never-Womens-Murder...   \n",
       "4               186.0  http://www.amazon.com/Dont-Say-Word-Barbara-Fr...   \n",
       "5               495.0  http://www.amazon.com/Silken-Prey-Lucas-Davenp...   \n",
       "6               193.0  http://www.amazon.com/Dead-Ever-After-Sookie-S...   \n",
       "7               194.0  http://www.amazon.com/Whiskey-Beach-Nora-Rober...   \n",
       "8               495.0                                               None   \n",
       "9               475.0  http://www.amazon.com/Enders-Game-The-Ender-Qu...   \n",
       "10              200.0  http://www.amazon.com/Gone-Girl-Novel-Gillian-...   \n",
       "11              495.0  http://www.amazon.com/The-Light-Between-Oceans...   \n",
       "12              495.0  http://www.amazon.com/Wool-Omnibus-Silo-Hugh-H...   \n",
       "13              495.0  http://www.amazon.com/World-Market-Movie-Tie-I...   \n",
       "14              495.0                                               None   \n",
       "\n",
       "   age_group                                   book_review_link  \\\n",
       "10                                                                \n",
       "11                                                                \n",
       "12                                                                \n",
       "13                                                                \n",
       "14                                                                \n",
       "0             https://www.nytimes.com/2013/05/13/books/infer...   \n",
       "1             https://www.nytimes.com/2013/05/21/books/and-t...   \n",
       "2                                                                 \n",
       "3                                                                 \n",
       "4                                                                 \n",
       "5                                                                 \n",
       "6                                                                 \n",
       "7                                                                 \n",
       "8                                                                 \n",
       "9                                                                 \n",
       "10            https://www.nytimes.com/2012/05/30/books/gone-...   \n",
       "11                                                                \n",
       "12                                                                \n",
       "13                                                                \n",
       "14                                                                \n",
       "\n",
       "   first_chapter_link                                 sunday_review_link  \\\n",
       "10                                                                         \n",
       "11                                                                         \n",
       "12                                                                         \n",
       "13                                                                         \n",
       "14                                                                         \n",
       "0                                                                          \n",
       "1                                                                          \n",
       "2                                                                          \n",
       "3                                                                          \n",
       "4                                                                          \n",
       "5                                                                          \n",
       "6                                                                          \n",
       "7                                                                          \n",
       "8                                                                          \n",
       "9                                                                          \n",
       "10                     https://www.nytimes.com/2012/06/17/books/revie...   \n",
       "11                                                                         \n",
       "12                                                                         \n",
       "13                                                                         \n",
       "14                                                                         \n",
       "\n",
       "   article_chapter_link                                              isbns  \\\n",
       "10                       [{'isbn10': '1628470356', 'isbn13': '978162847...   \n",
       "11                       [{'isbn10': '0515151556', 'isbn13': '978051515...   \n",
       "12                                                                      []   \n",
       "13                       [{'isbn10': '0399159894', 'isbn13': '978039915...   \n",
       "14                       [{'isbn10': '0812550706', 'isbn13': '978081255...   \n",
       "0                        [{'isbn10': '0385537859', 'isbn13': '978038553...   \n",
       "1                        [{'isbn10': '159463176X', 'isbn13': '978159463...   \n",
       "2                        [{'isbn10': '1455521213', 'isbn13': '978145552...   \n",
       "3                        [{'isbn10': '031621082X', 'isbn13': '978031621...   \n",
       "4                        [{'isbn10': '0983651728', 'isbn13': '978098365...   \n",
       "5                        [{'isbn10': '0399159312', 'isbn13': '978039915...   \n",
       "6                        [{'isbn10': '193700788X', 'isbn13': '978193700...   \n",
       "7                        [{'isbn10': '0399159894', 'isbn13': '978039915...   \n",
       "8                                                                       []   \n",
       "9                        [{'isbn10': '0812550706', 'isbn13': '978081255...   \n",
       "10                       [{'isbn10': '030758836X', 'isbn13': '978030758...   \n",
       "11                       [{'isbn10': '1451681739', 'isbn13': '978145168...   \n",
       "12                                                                      []   \n",
       "13                       [{'isbn10': '0307346617', 'isbn13': '978030734...   \n",
       "14                                                                      []   \n",
       "\n",
       "                                            buy_links  \\\n",
       "10  [{'name': 'Amazon', 'url': 'http://www.amazon....   \n",
       "11  [{'name': 'Amazon', 'url': 'http://www.amazon....   \n",
       "12  [{'name': 'Amazon', 'url': 'http://www.amazon....   \n",
       "13  [{'name': 'Amazon', 'url': 'http://www.amazon....   \n",
       "14  [{'name': 'Amazon', 'url': 'http://www.amazon....   \n",
       "0   [{'name': 'Amazon', 'url': 'http://www.amazon....   \n",
       "1   [{'name': 'Amazon', 'url': 'http://www.amazon....   \n",
       "2   [{'name': 'Amazon', 'url': 'http://www.amazon....   \n",
       "3   [{'name': 'Amazon', 'url': 'http://www.amazon....   \n",
       "4   [{'name': 'Amazon', 'url': 'http://www.amazon....   \n",
       "5   [{'name': 'Amazon', 'url': 'http://www.amazon....   \n",
       "6   [{'name': 'Amazon', 'url': 'http://www.amazon....   \n",
       "7   [{'name': 'Amazon', 'url': 'http://www.amazon....   \n",
       "8   [{'name': 'Amazon', 'url': 'https://www.amazon...   \n",
       "9   [{'name': 'Amazon', 'url': 'http://www.amazon....   \n",
       "10  [{'name': 'Amazon', 'url': 'http://www.amazon....   \n",
       "11  [{'name': 'Amazon', 'url': 'http://www.amazon....   \n",
       "12  [{'name': 'Amazon', 'url': 'http://www.amazon....   \n",
       "13  [{'name': 'Amazon', 'url': 'http://www.amazon....   \n",
       "14  [{'name': 'Amazon', 'url': 'https://www.amazon...   \n",
       "\n",
       "                                           book_uri        week  \\\n",
       "10  nyt://book/62ad3808-6d1a-5fbc-966d-07850b77d36b  2013-06-10   \n",
       "11  nyt://book/cf138bf9-80d0-5d7f-aa21-7b449f1d682b  2013-06-10   \n",
       "12  nyt://book/1a6fa774-484c-598c-80b6-bca343cc4930  2013-06-10   \n",
       "13  nyt://book/81a6f29a-7b95-523d-b90b-83c1f35b770b  2013-06-10   \n",
       "14  nyt://book/1568ec4d-b638-5fab-8e15-f045d409c44e  2013-06-10   \n",
       "0   nyt://book/a986073a-5877-5e90-8efb-94e6e17521bc  2013-06-03   \n",
       "1   nyt://book/bb6a383e-9d83-5024-92a1-1df3e6ae81c6  2013-06-03   \n",
       "2   nyt://book/e60c9940-e444-5d21-b0f3-d63a70643c75  2013-06-03   \n",
       "3   nyt://book/164d2fb1-3c7c-53d3-974c-400f884ed906  2013-06-03   \n",
       "4   nyt://book/63f31df0-0d81-5a67-b3fd-25d5e5c32b44  2013-06-03   \n",
       "5   nyt://book/e68fb3cb-cb49-5b23-9490-d5ddb2003560  2013-06-03   \n",
       "6   nyt://book/2420a4a7-9b0d-548e-8653-476b67d13ac5  2013-06-03   \n",
       "7   nyt://book/81a6f29a-7b95-523d-b90b-83c1f35b770b  2013-06-03   \n",
       "8   nyt://book/f1008389-40b9-59ef-8513-d52a22087a65  2013-06-03   \n",
       "9   nyt://book/1568ec4d-b638-5fab-8e15-f045d409c44e  2013-06-03   \n",
       "10  nyt://book/d76ecc9a-b7ad-5cf0-9ef5-cde9a3eba381  2013-06-03   \n",
       "11  nyt://book/ac269b11-1f9b-5f28-9751-0231102339e6  2013-06-03   \n",
       "12  nyt://book/b33ba32c-363e-514d-8eca-ab517529ea45  2013-06-03   \n",
       "13  nyt://book/c9d0451b-cfa0-56a9-a79c-ec911c031aff  2013-06-03   \n",
       "14  nyt://book/5009a41a-2afa-57ae-8d90-ebbb575f672a  2013-06-03   \n",
       "\n",
       "                           nyt_list  \n",
       "10  Combined Print & E-Book Fiction  \n",
       "11  Combined Print & E-Book Fiction  \n",
       "12  Combined Print & E-Book Fiction  \n",
       "13  Combined Print & E-Book Fiction  \n",
       "14  Combined Print & E-Book Fiction  \n",
       "0   Combined Print & E-Book Fiction  \n",
       "1   Combined Print & E-Book Fiction  \n",
       "2   Combined Print & E-Book Fiction  \n",
       "3   Combined Print & E-Book Fiction  \n",
       "4   Combined Print & E-Book Fiction  \n",
       "5   Combined Print & E-Book Fiction  \n",
       "6   Combined Print & E-Book Fiction  \n",
       "7   Combined Print & E-Book Fiction  \n",
       "8   Combined Print & E-Book Fiction  \n",
       "9   Combined Print & E-Book Fiction  \n",
       "10  Combined Print & E-Book Fiction  \n",
       "11  Combined Print & E-Book Fiction  \n",
       "12  Combined Print & E-Book Fiction  \n",
       "13  Combined Print & E-Book Fiction  \n",
       "14  Combined Print & E-Book Fiction  "
      ]
     },
     "execution_count": 33,
     "metadata": {},
     "output_type": "execute_result"
    }
   ],
   "source": [
    "#add nyt_list as a column\n",
    "top_15_combined_bestsellers_2013_2018['nyt_list'] = nyt_list_weekly_fiction\n",
    "\n",
    "#and check to make sure it worked correctly\n",
    "top_15_combined_bestsellers_2013_2018.tail(20)"
   ]
  },
  {
   "cell_type": "code",
   "execution_count": 34,
   "metadata": {},
   "outputs": [],
   "source": [
    "#save to another csv\n",
    "top_15_combined_bestsellers_2013_2018.to_csv(\"C:\\\\Users\\\\melan\\\\Documents\\\\DA8\\\\Projects\\\\capstone\\\\data\\\\top_15_fiction_bestsellers_2013_to_2018.csv\", index=False)"
   ]
  },
  {
   "cell_type": "code",
   "execution_count": null,
   "metadata": {},
   "outputs": [],
   "source": []
  }
 ],
 "metadata": {
  "kernelspec": {
   "display_name": "base",
   "language": "python",
   "name": "python3"
  },
  "language_info": {
   "codemirror_mode": {
    "name": "ipython",
    "version": 3
   },
   "file_extension": ".py",
   "mimetype": "text/x-python",
   "name": "python",
   "nbconvert_exporter": "python",
   "pygments_lexer": "ipython3",
   "version": "3.10.9"
  },
  "orig_nbformat": 4
 },
 "nbformat": 4,
 "nbformat_minor": 2
}
