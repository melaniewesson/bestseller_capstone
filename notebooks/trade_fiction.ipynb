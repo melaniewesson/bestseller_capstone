{
 "cells": [
  {
   "cell_type": "code",
   "execution_count": 1,
   "metadata": {},
   "outputs": [],
   "source": [
    "import pprint\n",
    "import requests\n",
    "import csv\n",
    "import datetime\n",
    "import pandas as pd\n",
    "import time\n",
    "import nltk\n",
    "import re\n",
    "from pandas.io.json import json_normalize\n",
    "from sklearn.cluster import SpectralClustering\n",
    "from math import sqrt, floor\n",
    "\n",
    "pd.set_option(\"display.max_columns\", 50)"
   ]
  },
  {
   "cell_type": "code",
   "execution_count": 2,
   "metadata": {},
   "outputs": [],
   "source": [
    "results = requests.get(\"https://api.nytimes.com/svc/books/v3/lists/2022-12-31/trade-fiction-paperback?api-key=P1yDSg62Aydsdh04WBBuS57pYbpBu2tb\")"
   ]
  },
  {
   "cell_type": "code",
   "execution_count": 3,
   "metadata": {},
   "outputs": [
    {
     "data": {
      "text/plain": [
       "200"
      ]
     },
     "execution_count": 3,
     "metadata": {},
     "output_type": "execute_result"
    }
   ],
   "source": [
    "results.status_code"
   ]
  },
  {
   "cell_type": "code",
   "execution_count": 4,
   "metadata": {},
   "outputs": [],
   "source": [
    "#write a function\n",
    "def parse_books(book_list, date):\n",
    "    '''\n",
    "    Takes a response from NYT API and parses book into list of dictionaries\n",
    "    '''\n",
    "\n",
    "    books = []\n",
    "    for i in book_list['results']['books']:\n",
    "        dic = {}\n",
    "        dic['age_group'] = i['age_group']\n",
    "        dic['author'] = i['author'].encode(\"utf8\")\n",
    "        dic['book_review_link'] = i['book_review_link'].encode(\"utf8\")\n",
    "        dic['contributor'] = i['contributor'].encode(\"utf8\")\n",
    "        dic['dagger'] = i['dagger']\n",
    "        dic['first_chapter_link'] = i['first_chapter_link'].encode(\"utf8\")\n",
    "        dic['price'] = i['price']\n",
    "        dic['primary_isbn10'] = i['primary_isbn10'].encode(\"utf8\")\n",
    "        dic['primary_isbn13'] = i['primary_isbn13'].encode(\"utf8\")\n",
    "        dic['publisher'] = i['publisher'].encode(\"utf8\")\n",
    "        dic['sunday_review_link'] = i['sunday_review_link'].encode(\"utf8\")\n",
    "        dic['title'] = i['title'].encode(\"utf8\")\n",
    "        dic['weeks_on_list'] = i['weeks_on_list']\n",
    "        dic['date'] = date  # add a date so that we know when it was a best-seller\n",
    "        books.append(dic)\n",
    "    return(books)  "
   ]
  },
  {
   "cell_type": "code",
   "execution_count": 5,
   "metadata": {},
   "outputs": [
    {
     "name": "stdout",
     "output_type": "stream",
     "text": [
      "2023-05-15\n",
      "https://api.nytimes.com/svc/books/v3/lists.json?api-key=P1yDSg62Aydsdh04WBBuS57pYbpBu2tb&list=trade-fiction-paperback&published-date=2023-05-15\n"
     ]
    },
    {
     "name": "stderr",
     "output_type": "stream",
     "text": [
      "C:\\Users\\melan\\AppData\\Local\\Temp\\ipykernel_21772\\1987847954.py:25: FutureWarning: pandas.io.json.json_normalize is deprecated, use pandas.json_normalize instead.\n",
      "  books = json_normalize(results[\"results\"], record_path=[\"book_details\"], meta=[\"rank\", \"rank_last_week\", \"weeks_on_list\", \"asterisk\", \"dagger\"])\n"
     ]
    },
    {
     "name": "stdout",
     "output_type": "stream",
     "text": [
      "2023-05-08\n",
      "https://api.nytimes.com/svc/books/v3/lists.json?api-key=P1yDSg62Aydsdh04WBBuS57pYbpBu2tb&list=trade-fiction-paperback&published-date=2023-05-08\n"
     ]
    },
    {
     "name": "stderr",
     "output_type": "stream",
     "text": [
      "C:\\Users\\melan\\AppData\\Local\\Temp\\ipykernel_21772\\1987847954.py:25: FutureWarning: pandas.io.json.json_normalize is deprecated, use pandas.json_normalize instead.\n",
      "  books = json_normalize(results[\"results\"], record_path=[\"book_details\"], meta=[\"rank\", \"rank_last_week\", \"weeks_on_list\", \"asterisk\", \"dagger\"])\n"
     ]
    },
    {
     "name": "stdout",
     "output_type": "stream",
     "text": [
      "2023-05-01\n",
      "https://api.nytimes.com/svc/books/v3/lists.json?api-key=P1yDSg62Aydsdh04WBBuS57pYbpBu2tb&list=trade-fiction-paperback&published-date=2023-05-01\n"
     ]
    },
    {
     "name": "stderr",
     "output_type": "stream",
     "text": [
      "C:\\Users\\melan\\AppData\\Local\\Temp\\ipykernel_21772\\1987847954.py:25: FutureWarning: pandas.io.json.json_normalize is deprecated, use pandas.json_normalize instead.\n",
      "  books = json_normalize(results[\"results\"], record_path=[\"book_details\"], meta=[\"rank\", \"rank_last_week\", \"weeks_on_list\", \"asterisk\", \"dagger\"])\n"
     ]
    },
    {
     "name": "stdout",
     "output_type": "stream",
     "text": [
      "2023-04-24\n",
      "https://api.nytimes.com/svc/books/v3/lists.json?api-key=P1yDSg62Aydsdh04WBBuS57pYbpBu2tb&list=trade-fiction-paperback&published-date=2023-04-24\n"
     ]
    },
    {
     "name": "stderr",
     "output_type": "stream",
     "text": [
      "C:\\Users\\melan\\AppData\\Local\\Temp\\ipykernel_21772\\1987847954.py:25: FutureWarning: pandas.io.json.json_normalize is deprecated, use pandas.json_normalize instead.\n",
      "  books = json_normalize(results[\"results\"], record_path=[\"book_details\"], meta=[\"rank\", \"rank_last_week\", \"weeks_on_list\", \"asterisk\", \"dagger\"])\n"
     ]
    },
    {
     "name": "stdout",
     "output_type": "stream",
     "text": [
      "2023-04-17\n",
      "https://api.nytimes.com/svc/books/v3/lists.json?api-key=P1yDSg62Aydsdh04WBBuS57pYbpBu2tb&list=trade-fiction-paperback&published-date=2023-04-17\n"
     ]
    },
    {
     "name": "stderr",
     "output_type": "stream",
     "text": [
      "C:\\Users\\melan\\AppData\\Local\\Temp\\ipykernel_21772\\1987847954.py:25: FutureWarning: pandas.io.json.json_normalize is deprecated, use pandas.json_normalize instead.\n",
      "  books = json_normalize(results[\"results\"], record_path=[\"book_details\"], meta=[\"rank\", \"rank_last_week\", \"weeks_on_list\", \"asterisk\", \"dagger\"])\n"
     ]
    },
    {
     "name": "stdout",
     "output_type": "stream",
     "text": [
      "2023-04-10\n",
      "https://api.nytimes.com/svc/books/v3/lists.json?api-key=P1yDSg62Aydsdh04WBBuS57pYbpBu2tb&list=trade-fiction-paperback&published-date=2023-04-10\n"
     ]
    },
    {
     "name": "stderr",
     "output_type": "stream",
     "text": [
      "C:\\Users\\melan\\AppData\\Local\\Temp\\ipykernel_21772\\1987847954.py:25: FutureWarning: pandas.io.json.json_normalize is deprecated, use pandas.json_normalize instead.\n",
      "  books = json_normalize(results[\"results\"], record_path=[\"book_details\"], meta=[\"rank\", \"rank_last_week\", \"weeks_on_list\", \"asterisk\", \"dagger\"])\n"
     ]
    },
    {
     "name": "stdout",
     "output_type": "stream",
     "text": [
      "2023-04-03\n",
      "https://api.nytimes.com/svc/books/v3/lists.json?api-key=P1yDSg62Aydsdh04WBBuS57pYbpBu2tb&list=trade-fiction-paperback&published-date=2023-04-03\n"
     ]
    },
    {
     "name": "stderr",
     "output_type": "stream",
     "text": [
      "C:\\Users\\melan\\AppData\\Local\\Temp\\ipykernel_21772\\1987847954.py:25: FutureWarning: pandas.io.json.json_normalize is deprecated, use pandas.json_normalize instead.\n",
      "  books = json_normalize(results[\"results\"], record_path=[\"book_details\"], meta=[\"rank\", \"rank_last_week\", \"weeks_on_list\", \"asterisk\", \"dagger\"])\n"
     ]
    },
    {
     "name": "stdout",
     "output_type": "stream",
     "text": [
      "2023-03-27\n",
      "https://api.nytimes.com/svc/books/v3/lists.json?api-key=P1yDSg62Aydsdh04WBBuS57pYbpBu2tb&list=trade-fiction-paperback&published-date=2023-03-27\n"
     ]
    },
    {
     "name": "stderr",
     "output_type": "stream",
     "text": [
      "C:\\Users\\melan\\AppData\\Local\\Temp\\ipykernel_21772\\1987847954.py:25: FutureWarning: pandas.io.json.json_normalize is deprecated, use pandas.json_normalize instead.\n",
      "  books = json_normalize(results[\"results\"], record_path=[\"book_details\"], meta=[\"rank\", \"rank_last_week\", \"weeks_on_list\", \"asterisk\", \"dagger\"])\n"
     ]
    },
    {
     "name": "stdout",
     "output_type": "stream",
     "text": [
      "2023-03-20\n",
      "https://api.nytimes.com/svc/books/v3/lists.json?api-key=P1yDSg62Aydsdh04WBBuS57pYbpBu2tb&list=trade-fiction-paperback&published-date=2023-03-20\n"
     ]
    },
    {
     "name": "stderr",
     "output_type": "stream",
     "text": [
      "C:\\Users\\melan\\AppData\\Local\\Temp\\ipykernel_21772\\1987847954.py:25: FutureWarning: pandas.io.json.json_normalize is deprecated, use pandas.json_normalize instead.\n",
      "  books = json_normalize(results[\"results\"], record_path=[\"book_details\"], meta=[\"rank\", \"rank_last_week\", \"weeks_on_list\", \"asterisk\", \"dagger\"])\n"
     ]
    },
    {
     "name": "stdout",
     "output_type": "stream",
     "text": [
      "2023-03-13\n",
      "https://api.nytimes.com/svc/books/v3/lists.json?api-key=P1yDSg62Aydsdh04WBBuS57pYbpBu2tb&list=trade-fiction-paperback&published-date=2023-03-13\n"
     ]
    },
    {
     "name": "stderr",
     "output_type": "stream",
     "text": [
      "C:\\Users\\melan\\AppData\\Local\\Temp\\ipykernel_21772\\1987847954.py:25: FutureWarning: pandas.io.json.json_normalize is deprecated, use pandas.json_normalize instead.\n",
      "  books = json_normalize(results[\"results\"], record_path=[\"book_details\"], meta=[\"rank\", \"rank_last_week\", \"weeks_on_list\", \"asterisk\", \"dagger\"])\n"
     ]
    },
    {
     "name": "stdout",
     "output_type": "stream",
     "text": [
      "2023-03-06\n",
      "https://api.nytimes.com/svc/books/v3/lists.json?api-key=P1yDSg62Aydsdh04WBBuS57pYbpBu2tb&list=trade-fiction-paperback&published-date=2023-03-06\n"
     ]
    },
    {
     "name": "stderr",
     "output_type": "stream",
     "text": [
      "C:\\Users\\melan\\AppData\\Local\\Temp\\ipykernel_21772\\1987847954.py:25: FutureWarning: pandas.io.json.json_normalize is deprecated, use pandas.json_normalize instead.\n",
      "  books = json_normalize(results[\"results\"], record_path=[\"book_details\"], meta=[\"rank\", \"rank_last_week\", \"weeks_on_list\", \"asterisk\", \"dagger\"])\n"
     ]
    },
    {
     "name": "stdout",
     "output_type": "stream",
     "text": [
      "2023-02-27\n",
      "https://api.nytimes.com/svc/books/v3/lists.json?api-key=P1yDSg62Aydsdh04WBBuS57pYbpBu2tb&list=trade-fiction-paperback&published-date=2023-02-27\n"
     ]
    },
    {
     "name": "stderr",
     "output_type": "stream",
     "text": [
      "C:\\Users\\melan\\AppData\\Local\\Temp\\ipykernel_21772\\1987847954.py:25: FutureWarning: pandas.io.json.json_normalize is deprecated, use pandas.json_normalize instead.\n",
      "  books = json_normalize(results[\"results\"], record_path=[\"book_details\"], meta=[\"rank\", \"rank_last_week\", \"weeks_on_list\", \"asterisk\", \"dagger\"])\n"
     ]
    },
    {
     "name": "stdout",
     "output_type": "stream",
     "text": [
      "2023-02-20\n",
      "https://api.nytimes.com/svc/books/v3/lists.json?api-key=P1yDSg62Aydsdh04WBBuS57pYbpBu2tb&list=trade-fiction-paperback&published-date=2023-02-20\n"
     ]
    },
    {
     "name": "stderr",
     "output_type": "stream",
     "text": [
      "C:\\Users\\melan\\AppData\\Local\\Temp\\ipykernel_21772\\1987847954.py:25: FutureWarning: pandas.io.json.json_normalize is deprecated, use pandas.json_normalize instead.\n",
      "  books = json_normalize(results[\"results\"], record_path=[\"book_details\"], meta=[\"rank\", \"rank_last_week\", \"weeks_on_list\", \"asterisk\", \"dagger\"])\n"
     ]
    },
    {
     "name": "stdout",
     "output_type": "stream",
     "text": [
      "2023-02-13\n",
      "https://api.nytimes.com/svc/books/v3/lists.json?api-key=P1yDSg62Aydsdh04WBBuS57pYbpBu2tb&list=trade-fiction-paperback&published-date=2023-02-13\n"
     ]
    },
    {
     "name": "stderr",
     "output_type": "stream",
     "text": [
      "C:\\Users\\melan\\AppData\\Local\\Temp\\ipykernel_21772\\1987847954.py:25: FutureWarning: pandas.io.json.json_normalize is deprecated, use pandas.json_normalize instead.\n",
      "  books = json_normalize(results[\"results\"], record_path=[\"book_details\"], meta=[\"rank\", \"rank_last_week\", \"weeks_on_list\", \"asterisk\", \"dagger\"])\n"
     ]
    },
    {
     "name": "stdout",
     "output_type": "stream",
     "text": [
      "2023-02-06\n",
      "https://api.nytimes.com/svc/books/v3/lists.json?api-key=P1yDSg62Aydsdh04WBBuS57pYbpBu2tb&list=trade-fiction-paperback&published-date=2023-02-06\n"
     ]
    },
    {
     "name": "stderr",
     "output_type": "stream",
     "text": [
      "C:\\Users\\melan\\AppData\\Local\\Temp\\ipykernel_21772\\1987847954.py:25: FutureWarning: pandas.io.json.json_normalize is deprecated, use pandas.json_normalize instead.\n",
      "  books = json_normalize(results[\"results\"], record_path=[\"book_details\"], meta=[\"rank\", \"rank_last_week\", \"weeks_on_list\", \"asterisk\", \"dagger\"])\n"
     ]
    },
    {
     "name": "stdout",
     "output_type": "stream",
     "text": [
      "2023-01-30\n",
      "https://api.nytimes.com/svc/books/v3/lists.json?api-key=P1yDSg62Aydsdh04WBBuS57pYbpBu2tb&list=trade-fiction-paperback&published-date=2023-01-30\n"
     ]
    },
    {
     "name": "stderr",
     "output_type": "stream",
     "text": [
      "C:\\Users\\melan\\AppData\\Local\\Temp\\ipykernel_21772\\1987847954.py:25: FutureWarning: pandas.io.json.json_normalize is deprecated, use pandas.json_normalize instead.\n",
      "  books = json_normalize(results[\"results\"], record_path=[\"book_details\"], meta=[\"rank\", \"rank_last_week\", \"weeks_on_list\", \"asterisk\", \"dagger\"])\n"
     ]
    },
    {
     "name": "stdout",
     "output_type": "stream",
     "text": [
      "2023-01-23\n",
      "https://api.nytimes.com/svc/books/v3/lists.json?api-key=P1yDSg62Aydsdh04WBBuS57pYbpBu2tb&list=trade-fiction-paperback&published-date=2023-01-23\n"
     ]
    },
    {
     "name": "stderr",
     "output_type": "stream",
     "text": [
      "C:\\Users\\melan\\AppData\\Local\\Temp\\ipykernel_21772\\1987847954.py:25: FutureWarning: pandas.io.json.json_normalize is deprecated, use pandas.json_normalize instead.\n",
      "  books = json_normalize(results[\"results\"], record_path=[\"book_details\"], meta=[\"rank\", \"rank_last_week\", \"weeks_on_list\", \"asterisk\", \"dagger\"])\n"
     ]
    },
    {
     "name": "stdout",
     "output_type": "stream",
     "text": [
      "2023-01-16\n",
      "https://api.nytimes.com/svc/books/v3/lists.json?api-key=P1yDSg62Aydsdh04WBBuS57pYbpBu2tb&list=trade-fiction-paperback&published-date=2023-01-16\n"
     ]
    },
    {
     "name": "stderr",
     "output_type": "stream",
     "text": [
      "C:\\Users\\melan\\AppData\\Local\\Temp\\ipykernel_21772\\1987847954.py:25: FutureWarning: pandas.io.json.json_normalize is deprecated, use pandas.json_normalize instead.\n",
      "  books = json_normalize(results[\"results\"], record_path=[\"book_details\"], meta=[\"rank\", \"rank_last_week\", \"weeks_on_list\", \"asterisk\", \"dagger\"])\n"
     ]
    },
    {
     "name": "stdout",
     "output_type": "stream",
     "text": [
      "2023-01-09\n",
      "https://api.nytimes.com/svc/books/v3/lists.json?api-key=P1yDSg62Aydsdh04WBBuS57pYbpBu2tb&list=trade-fiction-paperback&published-date=2023-01-09\n"
     ]
    },
    {
     "name": "stderr",
     "output_type": "stream",
     "text": [
      "C:\\Users\\melan\\AppData\\Local\\Temp\\ipykernel_21772\\1987847954.py:25: FutureWarning: pandas.io.json.json_normalize is deprecated, use pandas.json_normalize instead.\n",
      "  books = json_normalize(results[\"results\"], record_path=[\"book_details\"], meta=[\"rank\", \"rank_last_week\", \"weeks_on_list\", \"asterisk\", \"dagger\"])\n"
     ]
    },
    {
     "name": "stdout",
     "output_type": "stream",
     "text": [
      "2023-01-02\n",
      "https://api.nytimes.com/svc/books/v3/lists.json?api-key=P1yDSg62Aydsdh04WBBuS57pYbpBu2tb&list=trade-fiction-paperback&published-date=2023-01-02\n"
     ]
    },
    {
     "name": "stderr",
     "output_type": "stream",
     "text": [
      "C:\\Users\\melan\\AppData\\Local\\Temp\\ipykernel_21772\\1987847954.py:25: FutureWarning: pandas.io.json.json_normalize is deprecated, use pandas.json_normalize instead.\n",
      "  books = json_normalize(results[\"results\"], record_path=[\"book_details\"], meta=[\"rank\", \"rank_last_week\", \"weeks_on_list\", \"asterisk\", \"dagger\"])\n"
     ]
    },
    {
     "name": "stdout",
     "output_type": "stream",
     "text": [
      "2022-12-26\n",
      "https://api.nytimes.com/svc/books/v3/lists.json?api-key=P1yDSg62Aydsdh04WBBuS57pYbpBu2tb&list=trade-fiction-paperback&published-date=2022-12-26\n"
     ]
    },
    {
     "name": "stderr",
     "output_type": "stream",
     "text": [
      "C:\\Users\\melan\\AppData\\Local\\Temp\\ipykernel_21772\\1987847954.py:25: FutureWarning: pandas.io.json.json_normalize is deprecated, use pandas.json_normalize instead.\n",
      "  books = json_normalize(results[\"results\"], record_path=[\"book_details\"], meta=[\"rank\", \"rank_last_week\", \"weeks_on_list\", \"asterisk\", \"dagger\"])\n"
     ]
    },
    {
     "name": "stdout",
     "output_type": "stream",
     "text": [
      "2022-12-19\n",
      "https://api.nytimes.com/svc/books/v3/lists.json?api-key=P1yDSg62Aydsdh04WBBuS57pYbpBu2tb&list=trade-fiction-paperback&published-date=2022-12-19\n"
     ]
    },
    {
     "name": "stderr",
     "output_type": "stream",
     "text": [
      "C:\\Users\\melan\\AppData\\Local\\Temp\\ipykernel_21772\\1987847954.py:25: FutureWarning: pandas.io.json.json_normalize is deprecated, use pandas.json_normalize instead.\n",
      "  books = json_normalize(results[\"results\"], record_path=[\"book_details\"], meta=[\"rank\", \"rank_last_week\", \"weeks_on_list\", \"asterisk\", \"dagger\"])\n"
     ]
    },
    {
     "name": "stdout",
     "output_type": "stream",
     "text": [
      "2022-12-12\n",
      "https://api.nytimes.com/svc/books/v3/lists.json?api-key=P1yDSg62Aydsdh04WBBuS57pYbpBu2tb&list=trade-fiction-paperback&published-date=2022-12-12\n"
     ]
    },
    {
     "name": "stderr",
     "output_type": "stream",
     "text": [
      "C:\\Users\\melan\\AppData\\Local\\Temp\\ipykernel_21772\\1987847954.py:25: FutureWarning: pandas.io.json.json_normalize is deprecated, use pandas.json_normalize instead.\n",
      "  books = json_normalize(results[\"results\"], record_path=[\"book_details\"], meta=[\"rank\", \"rank_last_week\", \"weeks_on_list\", \"asterisk\", \"dagger\"])\n"
     ]
    },
    {
     "name": "stdout",
     "output_type": "stream",
     "text": [
      "2022-12-05\n",
      "https://api.nytimes.com/svc/books/v3/lists.json?api-key=P1yDSg62Aydsdh04WBBuS57pYbpBu2tb&list=trade-fiction-paperback&published-date=2022-12-05\n"
     ]
    },
    {
     "name": "stderr",
     "output_type": "stream",
     "text": [
      "C:\\Users\\melan\\AppData\\Local\\Temp\\ipykernel_21772\\1987847954.py:25: FutureWarning: pandas.io.json.json_normalize is deprecated, use pandas.json_normalize instead.\n",
      "  books = json_normalize(results[\"results\"], record_path=[\"book_details\"], meta=[\"rank\", \"rank_last_week\", \"weeks_on_list\", \"asterisk\", \"dagger\"])\n"
     ]
    },
    {
     "name": "stdout",
     "output_type": "stream",
     "text": [
      "2022-11-28\n",
      "https://api.nytimes.com/svc/books/v3/lists.json?api-key=P1yDSg62Aydsdh04WBBuS57pYbpBu2tb&list=trade-fiction-paperback&published-date=2022-11-28\n"
     ]
    },
    {
     "name": "stderr",
     "output_type": "stream",
     "text": [
      "C:\\Users\\melan\\AppData\\Local\\Temp\\ipykernel_21772\\1987847954.py:25: FutureWarning: pandas.io.json.json_normalize is deprecated, use pandas.json_normalize instead.\n",
      "  books = json_normalize(results[\"results\"], record_path=[\"book_details\"], meta=[\"rank\", \"rank_last_week\", \"weeks_on_list\", \"asterisk\", \"dagger\"])\n"
     ]
    },
    {
     "name": "stdout",
     "output_type": "stream",
     "text": [
      "2022-11-21\n",
      "https://api.nytimes.com/svc/books/v3/lists.json?api-key=P1yDSg62Aydsdh04WBBuS57pYbpBu2tb&list=trade-fiction-paperback&published-date=2022-11-21\n"
     ]
    },
    {
     "name": "stderr",
     "output_type": "stream",
     "text": [
      "C:\\Users\\melan\\AppData\\Local\\Temp\\ipykernel_21772\\1987847954.py:25: FutureWarning: pandas.io.json.json_normalize is deprecated, use pandas.json_normalize instead.\n",
      "  books = json_normalize(results[\"results\"], record_path=[\"book_details\"], meta=[\"rank\", \"rank_last_week\", \"weeks_on_list\", \"asterisk\", \"dagger\"])\n"
     ]
    },
    {
     "name": "stdout",
     "output_type": "stream",
     "text": [
      "2022-11-14\n",
      "https://api.nytimes.com/svc/books/v3/lists.json?api-key=P1yDSg62Aydsdh04WBBuS57pYbpBu2tb&list=trade-fiction-paperback&published-date=2022-11-14\n"
     ]
    },
    {
     "name": "stderr",
     "output_type": "stream",
     "text": [
      "C:\\Users\\melan\\AppData\\Local\\Temp\\ipykernel_21772\\1987847954.py:25: FutureWarning: pandas.io.json.json_normalize is deprecated, use pandas.json_normalize instead.\n",
      "  books = json_normalize(results[\"results\"], record_path=[\"book_details\"], meta=[\"rank\", \"rank_last_week\", \"weeks_on_list\", \"asterisk\", \"dagger\"])\n"
     ]
    },
    {
     "name": "stdout",
     "output_type": "stream",
     "text": [
      "2022-11-07\n",
      "https://api.nytimes.com/svc/books/v3/lists.json?api-key=P1yDSg62Aydsdh04WBBuS57pYbpBu2tb&list=trade-fiction-paperback&published-date=2022-11-07\n"
     ]
    },
    {
     "name": "stderr",
     "output_type": "stream",
     "text": [
      "C:\\Users\\melan\\AppData\\Local\\Temp\\ipykernel_21772\\1987847954.py:25: FutureWarning: pandas.io.json.json_normalize is deprecated, use pandas.json_normalize instead.\n",
      "  books = json_normalize(results[\"results\"], record_path=[\"book_details\"], meta=[\"rank\", \"rank_last_week\", \"weeks_on_list\", \"asterisk\", \"dagger\"])\n"
     ]
    },
    {
     "name": "stdout",
     "output_type": "stream",
     "text": [
      "2022-10-31\n",
      "https://api.nytimes.com/svc/books/v3/lists.json?api-key=P1yDSg62Aydsdh04WBBuS57pYbpBu2tb&list=trade-fiction-paperback&published-date=2022-10-31\n"
     ]
    },
    {
     "name": "stderr",
     "output_type": "stream",
     "text": [
      "C:\\Users\\melan\\AppData\\Local\\Temp\\ipykernel_21772\\1987847954.py:25: FutureWarning: pandas.io.json.json_normalize is deprecated, use pandas.json_normalize instead.\n",
      "  books = json_normalize(results[\"results\"], record_path=[\"book_details\"], meta=[\"rank\", \"rank_last_week\", \"weeks_on_list\", \"asterisk\", \"dagger\"])\n"
     ]
    },
    {
     "name": "stdout",
     "output_type": "stream",
     "text": [
      "2022-10-24\n",
      "https://api.nytimes.com/svc/books/v3/lists.json?api-key=P1yDSg62Aydsdh04WBBuS57pYbpBu2tb&list=trade-fiction-paperback&published-date=2022-10-24\n"
     ]
    },
    {
     "name": "stderr",
     "output_type": "stream",
     "text": [
      "C:\\Users\\melan\\AppData\\Local\\Temp\\ipykernel_21772\\1987847954.py:25: FutureWarning: pandas.io.json.json_normalize is deprecated, use pandas.json_normalize instead.\n",
      "  books = json_normalize(results[\"results\"], record_path=[\"book_details\"], meta=[\"rank\", \"rank_last_week\", \"weeks_on_list\", \"asterisk\", \"dagger\"])\n"
     ]
    },
    {
     "name": "stdout",
     "output_type": "stream",
     "text": [
      "2022-10-17\n",
      "https://api.nytimes.com/svc/books/v3/lists.json?api-key=P1yDSg62Aydsdh04WBBuS57pYbpBu2tb&list=trade-fiction-paperback&published-date=2022-10-17\n"
     ]
    },
    {
     "name": "stderr",
     "output_type": "stream",
     "text": [
      "C:\\Users\\melan\\AppData\\Local\\Temp\\ipykernel_21772\\1987847954.py:25: FutureWarning: pandas.io.json.json_normalize is deprecated, use pandas.json_normalize instead.\n",
      "  books = json_normalize(results[\"results\"], record_path=[\"book_details\"], meta=[\"rank\", \"rank_last_week\", \"weeks_on_list\", \"asterisk\", \"dagger\"])\n"
     ]
    },
    {
     "name": "stdout",
     "output_type": "stream",
     "text": [
      "2022-10-10\n",
      "https://api.nytimes.com/svc/books/v3/lists.json?api-key=P1yDSg62Aydsdh04WBBuS57pYbpBu2tb&list=trade-fiction-paperback&published-date=2022-10-10\n"
     ]
    },
    {
     "name": "stderr",
     "output_type": "stream",
     "text": [
      "C:\\Users\\melan\\AppData\\Local\\Temp\\ipykernel_21772\\1987847954.py:25: FutureWarning: pandas.io.json.json_normalize is deprecated, use pandas.json_normalize instead.\n",
      "  books = json_normalize(results[\"results\"], record_path=[\"book_details\"], meta=[\"rank\", \"rank_last_week\", \"weeks_on_list\", \"asterisk\", \"dagger\"])\n"
     ]
    },
    {
     "name": "stdout",
     "output_type": "stream",
     "text": [
      "2022-10-03\n",
      "https://api.nytimes.com/svc/books/v3/lists.json?api-key=P1yDSg62Aydsdh04WBBuS57pYbpBu2tb&list=trade-fiction-paperback&published-date=2022-10-03\n"
     ]
    },
    {
     "name": "stderr",
     "output_type": "stream",
     "text": [
      "C:\\Users\\melan\\AppData\\Local\\Temp\\ipykernel_21772\\1987847954.py:25: FutureWarning: pandas.io.json.json_normalize is deprecated, use pandas.json_normalize instead.\n",
      "  books = json_normalize(results[\"results\"], record_path=[\"book_details\"], meta=[\"rank\", \"rank_last_week\", \"weeks_on_list\", \"asterisk\", \"dagger\"])\n"
     ]
    },
    {
     "name": "stdout",
     "output_type": "stream",
     "text": [
      "2022-09-26\n",
      "https://api.nytimes.com/svc/books/v3/lists.json?api-key=P1yDSg62Aydsdh04WBBuS57pYbpBu2tb&list=trade-fiction-paperback&published-date=2022-09-26\n"
     ]
    },
    {
     "name": "stderr",
     "output_type": "stream",
     "text": [
      "C:\\Users\\melan\\AppData\\Local\\Temp\\ipykernel_21772\\1987847954.py:25: FutureWarning: pandas.io.json.json_normalize is deprecated, use pandas.json_normalize instead.\n",
      "  books = json_normalize(results[\"results\"], record_path=[\"book_details\"], meta=[\"rank\", \"rank_last_week\", \"weeks_on_list\", \"asterisk\", \"dagger\"])\n"
     ]
    },
    {
     "name": "stdout",
     "output_type": "stream",
     "text": [
      "2022-09-19\n",
      "https://api.nytimes.com/svc/books/v3/lists.json?api-key=P1yDSg62Aydsdh04WBBuS57pYbpBu2tb&list=trade-fiction-paperback&published-date=2022-09-19\n"
     ]
    },
    {
     "name": "stderr",
     "output_type": "stream",
     "text": [
      "C:\\Users\\melan\\AppData\\Local\\Temp\\ipykernel_21772\\1987847954.py:25: FutureWarning: pandas.io.json.json_normalize is deprecated, use pandas.json_normalize instead.\n",
      "  books = json_normalize(results[\"results\"], record_path=[\"book_details\"], meta=[\"rank\", \"rank_last_week\", \"weeks_on_list\", \"asterisk\", \"dagger\"])\n"
     ]
    },
    {
     "name": "stdout",
     "output_type": "stream",
     "text": [
      "2022-09-12\n",
      "https://api.nytimes.com/svc/books/v3/lists.json?api-key=P1yDSg62Aydsdh04WBBuS57pYbpBu2tb&list=trade-fiction-paperback&published-date=2022-09-12\n"
     ]
    },
    {
     "name": "stderr",
     "output_type": "stream",
     "text": [
      "C:\\Users\\melan\\AppData\\Local\\Temp\\ipykernel_21772\\1987847954.py:25: FutureWarning: pandas.io.json.json_normalize is deprecated, use pandas.json_normalize instead.\n",
      "  books = json_normalize(results[\"results\"], record_path=[\"book_details\"], meta=[\"rank\", \"rank_last_week\", \"weeks_on_list\", \"asterisk\", \"dagger\"])\n"
     ]
    },
    {
     "name": "stdout",
     "output_type": "stream",
     "text": [
      "2022-09-05\n",
      "https://api.nytimes.com/svc/books/v3/lists.json?api-key=P1yDSg62Aydsdh04WBBuS57pYbpBu2tb&list=trade-fiction-paperback&published-date=2022-09-05\n"
     ]
    },
    {
     "name": "stderr",
     "output_type": "stream",
     "text": [
      "C:\\Users\\melan\\AppData\\Local\\Temp\\ipykernel_21772\\1987847954.py:25: FutureWarning: pandas.io.json.json_normalize is deprecated, use pandas.json_normalize instead.\n",
      "  books = json_normalize(results[\"results\"], record_path=[\"book_details\"], meta=[\"rank\", \"rank_last_week\", \"weeks_on_list\", \"asterisk\", \"dagger\"])\n"
     ]
    },
    {
     "name": "stdout",
     "output_type": "stream",
     "text": [
      "2022-08-29\n",
      "https://api.nytimes.com/svc/books/v3/lists.json?api-key=P1yDSg62Aydsdh04WBBuS57pYbpBu2tb&list=trade-fiction-paperback&published-date=2022-08-29\n"
     ]
    },
    {
     "name": "stderr",
     "output_type": "stream",
     "text": [
      "C:\\Users\\melan\\AppData\\Local\\Temp\\ipykernel_21772\\1987847954.py:25: FutureWarning: pandas.io.json.json_normalize is deprecated, use pandas.json_normalize instead.\n",
      "  books = json_normalize(results[\"results\"], record_path=[\"book_details\"], meta=[\"rank\", \"rank_last_week\", \"weeks_on_list\", \"asterisk\", \"dagger\"])\n"
     ]
    },
    {
     "name": "stdout",
     "output_type": "stream",
     "text": [
      "2022-08-22\n",
      "https://api.nytimes.com/svc/books/v3/lists.json?api-key=P1yDSg62Aydsdh04WBBuS57pYbpBu2tb&list=trade-fiction-paperback&published-date=2022-08-22\n"
     ]
    },
    {
     "name": "stderr",
     "output_type": "stream",
     "text": [
      "C:\\Users\\melan\\AppData\\Local\\Temp\\ipykernel_21772\\1987847954.py:25: FutureWarning: pandas.io.json.json_normalize is deprecated, use pandas.json_normalize instead.\n",
      "  books = json_normalize(results[\"results\"], record_path=[\"book_details\"], meta=[\"rank\", \"rank_last_week\", \"weeks_on_list\", \"asterisk\", \"dagger\"])\n"
     ]
    },
    {
     "name": "stdout",
     "output_type": "stream",
     "text": [
      "2022-08-15\n",
      "https://api.nytimes.com/svc/books/v3/lists.json?api-key=P1yDSg62Aydsdh04WBBuS57pYbpBu2tb&list=trade-fiction-paperback&published-date=2022-08-15\n"
     ]
    },
    {
     "name": "stderr",
     "output_type": "stream",
     "text": [
      "C:\\Users\\melan\\AppData\\Local\\Temp\\ipykernel_21772\\1987847954.py:25: FutureWarning: pandas.io.json.json_normalize is deprecated, use pandas.json_normalize instead.\n",
      "  books = json_normalize(results[\"results\"], record_path=[\"book_details\"], meta=[\"rank\", \"rank_last_week\", \"weeks_on_list\", \"asterisk\", \"dagger\"])\n"
     ]
    },
    {
     "name": "stdout",
     "output_type": "stream",
     "text": [
      "2022-08-08\n",
      "https://api.nytimes.com/svc/books/v3/lists.json?api-key=P1yDSg62Aydsdh04WBBuS57pYbpBu2tb&list=trade-fiction-paperback&published-date=2022-08-08\n"
     ]
    },
    {
     "name": "stderr",
     "output_type": "stream",
     "text": [
      "C:\\Users\\melan\\AppData\\Local\\Temp\\ipykernel_21772\\1987847954.py:25: FutureWarning: pandas.io.json.json_normalize is deprecated, use pandas.json_normalize instead.\n",
      "  books = json_normalize(results[\"results\"], record_path=[\"book_details\"], meta=[\"rank\", \"rank_last_week\", \"weeks_on_list\", \"asterisk\", \"dagger\"])\n"
     ]
    },
    {
     "name": "stdout",
     "output_type": "stream",
     "text": [
      "2022-08-01\n",
      "https://api.nytimes.com/svc/books/v3/lists.json?api-key=P1yDSg62Aydsdh04WBBuS57pYbpBu2tb&list=trade-fiction-paperback&published-date=2022-08-01\n"
     ]
    },
    {
     "name": "stderr",
     "output_type": "stream",
     "text": [
      "C:\\Users\\melan\\AppData\\Local\\Temp\\ipykernel_21772\\1987847954.py:25: FutureWarning: pandas.io.json.json_normalize is deprecated, use pandas.json_normalize instead.\n",
      "  books = json_normalize(results[\"results\"], record_path=[\"book_details\"], meta=[\"rank\", \"rank_last_week\", \"weeks_on_list\", \"asterisk\", \"dagger\"])\n"
     ]
    },
    {
     "name": "stdout",
     "output_type": "stream",
     "text": [
      "2022-07-25\n",
      "https://api.nytimes.com/svc/books/v3/lists.json?api-key=P1yDSg62Aydsdh04WBBuS57pYbpBu2tb&list=trade-fiction-paperback&published-date=2022-07-25\n"
     ]
    },
    {
     "name": "stderr",
     "output_type": "stream",
     "text": [
      "C:\\Users\\melan\\AppData\\Local\\Temp\\ipykernel_21772\\1987847954.py:25: FutureWarning: pandas.io.json.json_normalize is deprecated, use pandas.json_normalize instead.\n",
      "  books = json_normalize(results[\"results\"], record_path=[\"book_details\"], meta=[\"rank\", \"rank_last_week\", \"weeks_on_list\", \"asterisk\", \"dagger\"])\n"
     ]
    },
    {
     "name": "stdout",
     "output_type": "stream",
     "text": [
      "2022-07-18\n",
      "https://api.nytimes.com/svc/books/v3/lists.json?api-key=P1yDSg62Aydsdh04WBBuS57pYbpBu2tb&list=trade-fiction-paperback&published-date=2022-07-18\n"
     ]
    },
    {
     "name": "stderr",
     "output_type": "stream",
     "text": [
      "C:\\Users\\melan\\AppData\\Local\\Temp\\ipykernel_21772\\1987847954.py:25: FutureWarning: pandas.io.json.json_normalize is deprecated, use pandas.json_normalize instead.\n",
      "  books = json_normalize(results[\"results\"], record_path=[\"book_details\"], meta=[\"rank\", \"rank_last_week\", \"weeks_on_list\", \"asterisk\", \"dagger\"])\n"
     ]
    },
    {
     "name": "stdout",
     "output_type": "stream",
     "text": [
      "2022-07-11\n",
      "https://api.nytimes.com/svc/books/v3/lists.json?api-key=P1yDSg62Aydsdh04WBBuS57pYbpBu2tb&list=trade-fiction-paperback&published-date=2022-07-11\n"
     ]
    },
    {
     "name": "stderr",
     "output_type": "stream",
     "text": [
      "C:\\Users\\melan\\AppData\\Local\\Temp\\ipykernel_21772\\1987847954.py:25: FutureWarning: pandas.io.json.json_normalize is deprecated, use pandas.json_normalize instead.\n",
      "  books = json_normalize(results[\"results\"], record_path=[\"book_details\"], meta=[\"rank\", \"rank_last_week\", \"weeks_on_list\", \"asterisk\", \"dagger\"])\n"
     ]
    },
    {
     "name": "stdout",
     "output_type": "stream",
     "text": [
      "2022-07-04\n",
      "https://api.nytimes.com/svc/books/v3/lists.json?api-key=P1yDSg62Aydsdh04WBBuS57pYbpBu2tb&list=trade-fiction-paperback&published-date=2022-07-04\n"
     ]
    },
    {
     "name": "stderr",
     "output_type": "stream",
     "text": [
      "C:\\Users\\melan\\AppData\\Local\\Temp\\ipykernel_21772\\1987847954.py:25: FutureWarning: pandas.io.json.json_normalize is deprecated, use pandas.json_normalize instead.\n",
      "  books = json_normalize(results[\"results\"], record_path=[\"book_details\"], meta=[\"rank\", \"rank_last_week\", \"weeks_on_list\", \"asterisk\", \"dagger\"])\n"
     ]
    },
    {
     "name": "stdout",
     "output_type": "stream",
     "text": [
      "2022-06-27\n",
      "https://api.nytimes.com/svc/books/v3/lists.json?api-key=P1yDSg62Aydsdh04WBBuS57pYbpBu2tb&list=trade-fiction-paperback&published-date=2022-06-27\n"
     ]
    },
    {
     "name": "stderr",
     "output_type": "stream",
     "text": [
      "C:\\Users\\melan\\AppData\\Local\\Temp\\ipykernel_21772\\1987847954.py:25: FutureWarning: pandas.io.json.json_normalize is deprecated, use pandas.json_normalize instead.\n",
      "  books = json_normalize(results[\"results\"], record_path=[\"book_details\"], meta=[\"rank\", \"rank_last_week\", \"weeks_on_list\", \"asterisk\", \"dagger\"])\n"
     ]
    },
    {
     "name": "stdout",
     "output_type": "stream",
     "text": [
      "2022-06-20\n",
      "https://api.nytimes.com/svc/books/v3/lists.json?api-key=P1yDSg62Aydsdh04WBBuS57pYbpBu2tb&list=trade-fiction-paperback&published-date=2022-06-20\n"
     ]
    },
    {
     "name": "stderr",
     "output_type": "stream",
     "text": [
      "C:\\Users\\melan\\AppData\\Local\\Temp\\ipykernel_21772\\1987847954.py:25: FutureWarning: pandas.io.json.json_normalize is deprecated, use pandas.json_normalize instead.\n",
      "  books = json_normalize(results[\"results\"], record_path=[\"book_details\"], meta=[\"rank\", \"rank_last_week\", \"weeks_on_list\", \"asterisk\", \"dagger\"])\n"
     ]
    },
    {
     "name": "stdout",
     "output_type": "stream",
     "text": [
      "2022-06-13\n",
      "https://api.nytimes.com/svc/books/v3/lists.json?api-key=P1yDSg62Aydsdh04WBBuS57pYbpBu2tb&list=trade-fiction-paperback&published-date=2022-06-13\n"
     ]
    },
    {
     "name": "stderr",
     "output_type": "stream",
     "text": [
      "C:\\Users\\melan\\AppData\\Local\\Temp\\ipykernel_21772\\1987847954.py:25: FutureWarning: pandas.io.json.json_normalize is deprecated, use pandas.json_normalize instead.\n",
      "  books = json_normalize(results[\"results\"], record_path=[\"book_details\"], meta=[\"rank\", \"rank_last_week\", \"weeks_on_list\", \"asterisk\", \"dagger\"])\n"
     ]
    },
    {
     "name": "stdout",
     "output_type": "stream",
     "text": [
      "2022-06-06\n",
      "https://api.nytimes.com/svc/books/v3/lists.json?api-key=P1yDSg62Aydsdh04WBBuS57pYbpBu2tb&list=trade-fiction-paperback&published-date=2022-06-06\n"
     ]
    },
    {
     "name": "stderr",
     "output_type": "stream",
     "text": [
      "C:\\Users\\melan\\AppData\\Local\\Temp\\ipykernel_21772\\1987847954.py:25: FutureWarning: pandas.io.json.json_normalize is deprecated, use pandas.json_normalize instead.\n",
      "  books = json_normalize(results[\"results\"], record_path=[\"book_details\"], meta=[\"rank\", \"rank_last_week\", \"weeks_on_list\", \"asterisk\", \"dagger\"])\n"
     ]
    },
    {
     "name": "stdout",
     "output_type": "stream",
     "text": [
      "2022-05-30\n",
      "https://api.nytimes.com/svc/books/v3/lists.json?api-key=P1yDSg62Aydsdh04WBBuS57pYbpBu2tb&list=trade-fiction-paperback&published-date=2022-05-30\n"
     ]
    },
    {
     "name": "stderr",
     "output_type": "stream",
     "text": [
      "C:\\Users\\melan\\AppData\\Local\\Temp\\ipykernel_21772\\1987847954.py:25: FutureWarning: pandas.io.json.json_normalize is deprecated, use pandas.json_normalize instead.\n",
      "  books = json_normalize(results[\"results\"], record_path=[\"book_details\"], meta=[\"rank\", \"rank_last_week\", \"weeks_on_list\", \"asterisk\", \"dagger\"])\n"
     ]
    },
    {
     "name": "stdout",
     "output_type": "stream",
     "text": [
      "2022-05-23\n",
      "https://api.nytimes.com/svc/books/v3/lists.json?api-key=P1yDSg62Aydsdh04WBBuS57pYbpBu2tb&list=trade-fiction-paperback&published-date=2022-05-23\n"
     ]
    },
    {
     "name": "stderr",
     "output_type": "stream",
     "text": [
      "C:\\Users\\melan\\AppData\\Local\\Temp\\ipykernel_21772\\1987847954.py:25: FutureWarning: pandas.io.json.json_normalize is deprecated, use pandas.json_normalize instead.\n",
      "  books = json_normalize(results[\"results\"], record_path=[\"book_details\"], meta=[\"rank\", \"rank_last_week\", \"weeks_on_list\", \"asterisk\", \"dagger\"])\n"
     ]
    },
    {
     "name": "stdout",
     "output_type": "stream",
     "text": [
      "2022-05-16\n",
      "https://api.nytimes.com/svc/books/v3/lists.json?api-key=P1yDSg62Aydsdh04WBBuS57pYbpBu2tb&list=trade-fiction-paperback&published-date=2022-05-16\n"
     ]
    },
    {
     "name": "stderr",
     "output_type": "stream",
     "text": [
      "C:\\Users\\melan\\AppData\\Local\\Temp\\ipykernel_21772\\1987847954.py:25: FutureWarning: pandas.io.json.json_normalize is deprecated, use pandas.json_normalize instead.\n",
      "  books = json_normalize(results[\"results\"], record_path=[\"book_details\"], meta=[\"rank\", \"rank_last_week\", \"weeks_on_list\", \"asterisk\", \"dagger\"])\n"
     ]
    },
    {
     "name": "stdout",
     "output_type": "stream",
     "text": [
      "2022-05-09\n",
      "https://api.nytimes.com/svc/books/v3/lists.json?api-key=P1yDSg62Aydsdh04WBBuS57pYbpBu2tb&list=trade-fiction-paperback&published-date=2022-05-09\n"
     ]
    },
    {
     "name": "stderr",
     "output_type": "stream",
     "text": [
      "C:\\Users\\melan\\AppData\\Local\\Temp\\ipykernel_21772\\1987847954.py:25: FutureWarning: pandas.io.json.json_normalize is deprecated, use pandas.json_normalize instead.\n",
      "  books = json_normalize(results[\"results\"], record_path=[\"book_details\"], meta=[\"rank\", \"rank_last_week\", \"weeks_on_list\", \"asterisk\", \"dagger\"])\n"
     ]
    },
    {
     "name": "stdout",
     "output_type": "stream",
     "text": [
      "2022-05-02\n",
      "https://api.nytimes.com/svc/books/v3/lists.json?api-key=P1yDSg62Aydsdh04WBBuS57pYbpBu2tb&list=trade-fiction-paperback&published-date=2022-05-02\n"
     ]
    },
    {
     "name": "stderr",
     "output_type": "stream",
     "text": [
      "C:\\Users\\melan\\AppData\\Local\\Temp\\ipykernel_21772\\1987847954.py:25: FutureWarning: pandas.io.json.json_normalize is deprecated, use pandas.json_normalize instead.\n",
      "  books = json_normalize(results[\"results\"], record_path=[\"book_details\"], meta=[\"rank\", \"rank_last_week\", \"weeks_on_list\", \"asterisk\", \"dagger\"])\n"
     ]
    },
    {
     "name": "stdout",
     "output_type": "stream",
     "text": [
      "2022-04-25\n",
      "https://api.nytimes.com/svc/books/v3/lists.json?api-key=P1yDSg62Aydsdh04WBBuS57pYbpBu2tb&list=trade-fiction-paperback&published-date=2022-04-25\n"
     ]
    },
    {
     "name": "stderr",
     "output_type": "stream",
     "text": [
      "C:\\Users\\melan\\AppData\\Local\\Temp\\ipykernel_21772\\1987847954.py:25: FutureWarning: pandas.io.json.json_normalize is deprecated, use pandas.json_normalize instead.\n",
      "  books = json_normalize(results[\"results\"], record_path=[\"book_details\"], meta=[\"rank\", \"rank_last_week\", \"weeks_on_list\", \"asterisk\", \"dagger\"])\n"
     ]
    },
    {
     "name": "stdout",
     "output_type": "stream",
     "text": [
      "2022-04-18\n",
      "https://api.nytimes.com/svc/books/v3/lists.json?api-key=P1yDSg62Aydsdh04WBBuS57pYbpBu2tb&list=trade-fiction-paperback&published-date=2022-04-18\n"
     ]
    },
    {
     "name": "stderr",
     "output_type": "stream",
     "text": [
      "C:\\Users\\melan\\AppData\\Local\\Temp\\ipykernel_21772\\1987847954.py:25: FutureWarning: pandas.io.json.json_normalize is deprecated, use pandas.json_normalize instead.\n",
      "  books = json_normalize(results[\"results\"], record_path=[\"book_details\"], meta=[\"rank\", \"rank_last_week\", \"weeks_on_list\", \"asterisk\", \"dagger\"])\n"
     ]
    },
    {
     "name": "stdout",
     "output_type": "stream",
     "text": [
      "2022-04-11\n",
      "https://api.nytimes.com/svc/books/v3/lists.json?api-key=P1yDSg62Aydsdh04WBBuS57pYbpBu2tb&list=trade-fiction-paperback&published-date=2022-04-11\n"
     ]
    },
    {
     "name": "stderr",
     "output_type": "stream",
     "text": [
      "C:\\Users\\melan\\AppData\\Local\\Temp\\ipykernel_21772\\1987847954.py:25: FutureWarning: pandas.io.json.json_normalize is deprecated, use pandas.json_normalize instead.\n",
      "  books = json_normalize(results[\"results\"], record_path=[\"book_details\"], meta=[\"rank\", \"rank_last_week\", \"weeks_on_list\", \"asterisk\", \"dagger\"])\n"
     ]
    },
    {
     "name": "stdout",
     "output_type": "stream",
     "text": [
      "2022-04-04\n",
      "https://api.nytimes.com/svc/books/v3/lists.json?api-key=P1yDSg62Aydsdh04WBBuS57pYbpBu2tb&list=trade-fiction-paperback&published-date=2022-04-04\n"
     ]
    },
    {
     "name": "stderr",
     "output_type": "stream",
     "text": [
      "C:\\Users\\melan\\AppData\\Local\\Temp\\ipykernel_21772\\1987847954.py:25: FutureWarning: pandas.io.json.json_normalize is deprecated, use pandas.json_normalize instead.\n",
      "  books = json_normalize(results[\"results\"], record_path=[\"book_details\"], meta=[\"rank\", \"rank_last_week\", \"weeks_on_list\", \"asterisk\", \"dagger\"])\n"
     ]
    },
    {
     "name": "stdout",
     "output_type": "stream",
     "text": [
      "2022-03-28\n",
      "https://api.nytimes.com/svc/books/v3/lists.json?api-key=P1yDSg62Aydsdh04WBBuS57pYbpBu2tb&list=trade-fiction-paperback&published-date=2022-03-28\n"
     ]
    },
    {
     "name": "stderr",
     "output_type": "stream",
     "text": [
      "C:\\Users\\melan\\AppData\\Local\\Temp\\ipykernel_21772\\1987847954.py:25: FutureWarning: pandas.io.json.json_normalize is deprecated, use pandas.json_normalize instead.\n",
      "  books = json_normalize(results[\"results\"], record_path=[\"book_details\"], meta=[\"rank\", \"rank_last_week\", \"weeks_on_list\", \"asterisk\", \"dagger\"])\n"
     ]
    },
    {
     "name": "stdout",
     "output_type": "stream",
     "text": [
      "2022-03-21\n",
      "https://api.nytimes.com/svc/books/v3/lists.json?api-key=P1yDSg62Aydsdh04WBBuS57pYbpBu2tb&list=trade-fiction-paperback&published-date=2022-03-21\n"
     ]
    },
    {
     "name": "stderr",
     "output_type": "stream",
     "text": [
      "C:\\Users\\melan\\AppData\\Local\\Temp\\ipykernel_21772\\1987847954.py:25: FutureWarning: pandas.io.json.json_normalize is deprecated, use pandas.json_normalize instead.\n",
      "  books = json_normalize(results[\"results\"], record_path=[\"book_details\"], meta=[\"rank\", \"rank_last_week\", \"weeks_on_list\", \"asterisk\", \"dagger\"])\n"
     ]
    },
    {
     "name": "stdout",
     "output_type": "stream",
     "text": [
      "2022-03-14\n",
      "https://api.nytimes.com/svc/books/v3/lists.json?api-key=P1yDSg62Aydsdh04WBBuS57pYbpBu2tb&list=trade-fiction-paperback&published-date=2022-03-14\n"
     ]
    },
    {
     "name": "stderr",
     "output_type": "stream",
     "text": [
      "C:\\Users\\melan\\AppData\\Local\\Temp\\ipykernel_21772\\1987847954.py:25: FutureWarning: pandas.io.json.json_normalize is deprecated, use pandas.json_normalize instead.\n",
      "  books = json_normalize(results[\"results\"], record_path=[\"book_details\"], meta=[\"rank\", \"rank_last_week\", \"weeks_on_list\", \"asterisk\", \"dagger\"])\n"
     ]
    },
    {
     "name": "stdout",
     "output_type": "stream",
     "text": [
      "2022-03-07\n",
      "https://api.nytimes.com/svc/books/v3/lists.json?api-key=P1yDSg62Aydsdh04WBBuS57pYbpBu2tb&list=trade-fiction-paperback&published-date=2022-03-07\n"
     ]
    },
    {
     "name": "stderr",
     "output_type": "stream",
     "text": [
      "C:\\Users\\melan\\AppData\\Local\\Temp\\ipykernel_21772\\1987847954.py:25: FutureWarning: pandas.io.json.json_normalize is deprecated, use pandas.json_normalize instead.\n",
      "  books = json_normalize(results[\"results\"], record_path=[\"book_details\"], meta=[\"rank\", \"rank_last_week\", \"weeks_on_list\", \"asterisk\", \"dagger\"])\n"
     ]
    },
    {
     "name": "stdout",
     "output_type": "stream",
     "text": [
      "2022-02-28\n",
      "https://api.nytimes.com/svc/books/v3/lists.json?api-key=P1yDSg62Aydsdh04WBBuS57pYbpBu2tb&list=trade-fiction-paperback&published-date=2022-02-28\n"
     ]
    },
    {
     "name": "stderr",
     "output_type": "stream",
     "text": [
      "C:\\Users\\melan\\AppData\\Local\\Temp\\ipykernel_21772\\1987847954.py:25: FutureWarning: pandas.io.json.json_normalize is deprecated, use pandas.json_normalize instead.\n",
      "  books = json_normalize(results[\"results\"], record_path=[\"book_details\"], meta=[\"rank\", \"rank_last_week\", \"weeks_on_list\", \"asterisk\", \"dagger\"])\n"
     ]
    },
    {
     "name": "stdout",
     "output_type": "stream",
     "text": [
      "2022-02-21\n",
      "https://api.nytimes.com/svc/books/v3/lists.json?api-key=P1yDSg62Aydsdh04WBBuS57pYbpBu2tb&list=trade-fiction-paperback&published-date=2022-02-21\n"
     ]
    },
    {
     "name": "stderr",
     "output_type": "stream",
     "text": [
      "C:\\Users\\melan\\AppData\\Local\\Temp\\ipykernel_21772\\1987847954.py:25: FutureWarning: pandas.io.json.json_normalize is deprecated, use pandas.json_normalize instead.\n",
      "  books = json_normalize(results[\"results\"], record_path=[\"book_details\"], meta=[\"rank\", \"rank_last_week\", \"weeks_on_list\", \"asterisk\", \"dagger\"])\n"
     ]
    },
    {
     "name": "stdout",
     "output_type": "stream",
     "text": [
      "2022-02-14\n",
      "https://api.nytimes.com/svc/books/v3/lists.json?api-key=P1yDSg62Aydsdh04WBBuS57pYbpBu2tb&list=trade-fiction-paperback&published-date=2022-02-14\n"
     ]
    },
    {
     "name": "stderr",
     "output_type": "stream",
     "text": [
      "C:\\Users\\melan\\AppData\\Local\\Temp\\ipykernel_21772\\1987847954.py:25: FutureWarning: pandas.io.json.json_normalize is deprecated, use pandas.json_normalize instead.\n",
      "  books = json_normalize(results[\"results\"], record_path=[\"book_details\"], meta=[\"rank\", \"rank_last_week\", \"weeks_on_list\", \"asterisk\", \"dagger\"])\n"
     ]
    },
    {
     "name": "stdout",
     "output_type": "stream",
     "text": [
      "2022-02-07\n",
      "https://api.nytimes.com/svc/books/v3/lists.json?api-key=P1yDSg62Aydsdh04WBBuS57pYbpBu2tb&list=trade-fiction-paperback&published-date=2022-02-07\n"
     ]
    },
    {
     "name": "stderr",
     "output_type": "stream",
     "text": [
      "C:\\Users\\melan\\AppData\\Local\\Temp\\ipykernel_21772\\1987847954.py:25: FutureWarning: pandas.io.json.json_normalize is deprecated, use pandas.json_normalize instead.\n",
      "  books = json_normalize(results[\"results\"], record_path=[\"book_details\"], meta=[\"rank\", \"rank_last_week\", \"weeks_on_list\", \"asterisk\", \"dagger\"])\n"
     ]
    },
    {
     "name": "stdout",
     "output_type": "stream",
     "text": [
      "2022-01-31\n",
      "https://api.nytimes.com/svc/books/v3/lists.json?api-key=P1yDSg62Aydsdh04WBBuS57pYbpBu2tb&list=trade-fiction-paperback&published-date=2022-01-31\n"
     ]
    },
    {
     "name": "stderr",
     "output_type": "stream",
     "text": [
      "C:\\Users\\melan\\AppData\\Local\\Temp\\ipykernel_21772\\1987847954.py:25: FutureWarning: pandas.io.json.json_normalize is deprecated, use pandas.json_normalize instead.\n",
      "  books = json_normalize(results[\"results\"], record_path=[\"book_details\"], meta=[\"rank\", \"rank_last_week\", \"weeks_on_list\", \"asterisk\", \"dagger\"])\n"
     ]
    },
    {
     "name": "stdout",
     "output_type": "stream",
     "text": [
      "2022-01-24\n",
      "https://api.nytimes.com/svc/books/v3/lists.json?api-key=P1yDSg62Aydsdh04WBBuS57pYbpBu2tb&list=trade-fiction-paperback&published-date=2022-01-24\n"
     ]
    },
    {
     "name": "stderr",
     "output_type": "stream",
     "text": [
      "C:\\Users\\melan\\AppData\\Local\\Temp\\ipykernel_21772\\1987847954.py:25: FutureWarning: pandas.io.json.json_normalize is deprecated, use pandas.json_normalize instead.\n",
      "  books = json_normalize(results[\"results\"], record_path=[\"book_details\"], meta=[\"rank\", \"rank_last_week\", \"weeks_on_list\", \"asterisk\", \"dagger\"])\n"
     ]
    },
    {
     "name": "stdout",
     "output_type": "stream",
     "text": [
      "2022-01-17\n",
      "https://api.nytimes.com/svc/books/v3/lists.json?api-key=P1yDSg62Aydsdh04WBBuS57pYbpBu2tb&list=trade-fiction-paperback&published-date=2022-01-17\n"
     ]
    },
    {
     "name": "stderr",
     "output_type": "stream",
     "text": [
      "C:\\Users\\melan\\AppData\\Local\\Temp\\ipykernel_21772\\1987847954.py:25: FutureWarning: pandas.io.json.json_normalize is deprecated, use pandas.json_normalize instead.\n",
      "  books = json_normalize(results[\"results\"], record_path=[\"book_details\"], meta=[\"rank\", \"rank_last_week\", \"weeks_on_list\", \"asterisk\", \"dagger\"])\n"
     ]
    },
    {
     "name": "stdout",
     "output_type": "stream",
     "text": [
      "2022-01-10\n",
      "https://api.nytimes.com/svc/books/v3/lists.json?api-key=P1yDSg62Aydsdh04WBBuS57pYbpBu2tb&list=trade-fiction-paperback&published-date=2022-01-10\n"
     ]
    },
    {
     "name": "stderr",
     "output_type": "stream",
     "text": [
      "C:\\Users\\melan\\AppData\\Local\\Temp\\ipykernel_21772\\1987847954.py:25: FutureWarning: pandas.io.json.json_normalize is deprecated, use pandas.json_normalize instead.\n",
      "  books = json_normalize(results[\"results\"], record_path=[\"book_details\"], meta=[\"rank\", \"rank_last_week\", \"weeks_on_list\", \"asterisk\", \"dagger\"])\n"
     ]
    },
    {
     "name": "stdout",
     "output_type": "stream",
     "text": [
      "2022-01-03\n",
      "https://api.nytimes.com/svc/books/v3/lists.json?api-key=P1yDSg62Aydsdh04WBBuS57pYbpBu2tb&list=trade-fiction-paperback&published-date=2022-01-03\n"
     ]
    },
    {
     "name": "stderr",
     "output_type": "stream",
     "text": [
      "C:\\Users\\melan\\AppData\\Local\\Temp\\ipykernel_21772\\1987847954.py:25: FutureWarning: pandas.io.json.json_normalize is deprecated, use pandas.json_normalize instead.\n",
      "  books = json_normalize(results[\"results\"], record_path=[\"book_details\"], meta=[\"rank\", \"rank_last_week\", \"weeks_on_list\", \"asterisk\", \"dagger\"])\n"
     ]
    },
    {
     "name": "stdout",
     "output_type": "stream",
     "text": [
      "2021-12-27\n",
      "https://api.nytimes.com/svc/books/v3/lists.json?api-key=P1yDSg62Aydsdh04WBBuS57pYbpBu2tb&list=trade-fiction-paperback&published-date=2021-12-27\n"
     ]
    },
    {
     "name": "stderr",
     "output_type": "stream",
     "text": [
      "C:\\Users\\melan\\AppData\\Local\\Temp\\ipykernel_21772\\1987847954.py:25: FutureWarning: pandas.io.json.json_normalize is deprecated, use pandas.json_normalize instead.\n",
      "  books = json_normalize(results[\"results\"], record_path=[\"book_details\"], meta=[\"rank\", \"rank_last_week\", \"weeks_on_list\", \"asterisk\", \"dagger\"])\n"
     ]
    },
    {
     "name": "stdout",
     "output_type": "stream",
     "text": [
      "2021-12-20\n",
      "https://api.nytimes.com/svc/books/v3/lists.json?api-key=P1yDSg62Aydsdh04WBBuS57pYbpBu2tb&list=trade-fiction-paperback&published-date=2021-12-20\n"
     ]
    },
    {
     "name": "stderr",
     "output_type": "stream",
     "text": [
      "C:\\Users\\melan\\AppData\\Local\\Temp\\ipykernel_21772\\1987847954.py:25: FutureWarning: pandas.io.json.json_normalize is deprecated, use pandas.json_normalize instead.\n",
      "  books = json_normalize(results[\"results\"], record_path=[\"book_details\"], meta=[\"rank\", \"rank_last_week\", \"weeks_on_list\", \"asterisk\", \"dagger\"])\n"
     ]
    },
    {
     "name": "stdout",
     "output_type": "stream",
     "text": [
      "2021-12-13\n",
      "https://api.nytimes.com/svc/books/v3/lists.json?api-key=P1yDSg62Aydsdh04WBBuS57pYbpBu2tb&list=trade-fiction-paperback&published-date=2021-12-13\n"
     ]
    },
    {
     "name": "stderr",
     "output_type": "stream",
     "text": [
      "C:\\Users\\melan\\AppData\\Local\\Temp\\ipykernel_21772\\1987847954.py:25: FutureWarning: pandas.io.json.json_normalize is deprecated, use pandas.json_normalize instead.\n",
      "  books = json_normalize(results[\"results\"], record_path=[\"book_details\"], meta=[\"rank\", \"rank_last_week\", \"weeks_on_list\", \"asterisk\", \"dagger\"])\n"
     ]
    },
    {
     "name": "stdout",
     "output_type": "stream",
     "text": [
      "2021-12-06\n",
      "https://api.nytimes.com/svc/books/v3/lists.json?api-key=P1yDSg62Aydsdh04WBBuS57pYbpBu2tb&list=trade-fiction-paperback&published-date=2021-12-06\n"
     ]
    },
    {
     "name": "stderr",
     "output_type": "stream",
     "text": [
      "C:\\Users\\melan\\AppData\\Local\\Temp\\ipykernel_21772\\1987847954.py:25: FutureWarning: pandas.io.json.json_normalize is deprecated, use pandas.json_normalize instead.\n",
      "  books = json_normalize(results[\"results\"], record_path=[\"book_details\"], meta=[\"rank\", \"rank_last_week\", \"weeks_on_list\", \"asterisk\", \"dagger\"])\n"
     ]
    },
    {
     "name": "stdout",
     "output_type": "stream",
     "text": [
      "2021-11-29\n",
      "https://api.nytimes.com/svc/books/v3/lists.json?api-key=P1yDSg62Aydsdh04WBBuS57pYbpBu2tb&list=trade-fiction-paperback&published-date=2021-11-29\n"
     ]
    },
    {
     "name": "stderr",
     "output_type": "stream",
     "text": [
      "C:\\Users\\melan\\AppData\\Local\\Temp\\ipykernel_21772\\1987847954.py:25: FutureWarning: pandas.io.json.json_normalize is deprecated, use pandas.json_normalize instead.\n",
      "  books = json_normalize(results[\"results\"], record_path=[\"book_details\"], meta=[\"rank\", \"rank_last_week\", \"weeks_on_list\", \"asterisk\", \"dagger\"])\n"
     ]
    },
    {
     "name": "stdout",
     "output_type": "stream",
     "text": [
      "2021-11-22\n",
      "https://api.nytimes.com/svc/books/v3/lists.json?api-key=P1yDSg62Aydsdh04WBBuS57pYbpBu2tb&list=trade-fiction-paperback&published-date=2021-11-22\n"
     ]
    },
    {
     "name": "stderr",
     "output_type": "stream",
     "text": [
      "C:\\Users\\melan\\AppData\\Local\\Temp\\ipykernel_21772\\1987847954.py:25: FutureWarning: pandas.io.json.json_normalize is deprecated, use pandas.json_normalize instead.\n",
      "  books = json_normalize(results[\"results\"], record_path=[\"book_details\"], meta=[\"rank\", \"rank_last_week\", \"weeks_on_list\", \"asterisk\", \"dagger\"])\n"
     ]
    },
    {
     "name": "stdout",
     "output_type": "stream",
     "text": [
      "2021-11-15\n",
      "https://api.nytimes.com/svc/books/v3/lists.json?api-key=P1yDSg62Aydsdh04WBBuS57pYbpBu2tb&list=trade-fiction-paperback&published-date=2021-11-15\n"
     ]
    },
    {
     "name": "stderr",
     "output_type": "stream",
     "text": [
      "C:\\Users\\melan\\AppData\\Local\\Temp\\ipykernel_21772\\1987847954.py:25: FutureWarning: pandas.io.json.json_normalize is deprecated, use pandas.json_normalize instead.\n",
      "  books = json_normalize(results[\"results\"], record_path=[\"book_details\"], meta=[\"rank\", \"rank_last_week\", \"weeks_on_list\", \"asterisk\", \"dagger\"])\n"
     ]
    },
    {
     "name": "stdout",
     "output_type": "stream",
     "text": [
      "2021-11-08\n",
      "https://api.nytimes.com/svc/books/v3/lists.json?api-key=P1yDSg62Aydsdh04WBBuS57pYbpBu2tb&list=trade-fiction-paperback&published-date=2021-11-08\n"
     ]
    },
    {
     "name": "stderr",
     "output_type": "stream",
     "text": [
      "C:\\Users\\melan\\AppData\\Local\\Temp\\ipykernel_21772\\1987847954.py:25: FutureWarning: pandas.io.json.json_normalize is deprecated, use pandas.json_normalize instead.\n",
      "  books = json_normalize(results[\"results\"], record_path=[\"book_details\"], meta=[\"rank\", \"rank_last_week\", \"weeks_on_list\", \"asterisk\", \"dagger\"])\n"
     ]
    },
    {
     "name": "stdout",
     "output_type": "stream",
     "text": [
      "2021-11-01\n",
      "https://api.nytimes.com/svc/books/v3/lists.json?api-key=P1yDSg62Aydsdh04WBBuS57pYbpBu2tb&list=trade-fiction-paperback&published-date=2021-11-01\n"
     ]
    },
    {
     "name": "stderr",
     "output_type": "stream",
     "text": [
      "C:\\Users\\melan\\AppData\\Local\\Temp\\ipykernel_21772\\1987847954.py:25: FutureWarning: pandas.io.json.json_normalize is deprecated, use pandas.json_normalize instead.\n",
      "  books = json_normalize(results[\"results\"], record_path=[\"book_details\"], meta=[\"rank\", \"rank_last_week\", \"weeks_on_list\", \"asterisk\", \"dagger\"])\n"
     ]
    },
    {
     "name": "stdout",
     "output_type": "stream",
     "text": [
      "2021-10-25\n",
      "https://api.nytimes.com/svc/books/v3/lists.json?api-key=P1yDSg62Aydsdh04WBBuS57pYbpBu2tb&list=trade-fiction-paperback&published-date=2021-10-25\n"
     ]
    },
    {
     "name": "stderr",
     "output_type": "stream",
     "text": [
      "C:\\Users\\melan\\AppData\\Local\\Temp\\ipykernel_21772\\1987847954.py:25: FutureWarning: pandas.io.json.json_normalize is deprecated, use pandas.json_normalize instead.\n",
      "  books = json_normalize(results[\"results\"], record_path=[\"book_details\"], meta=[\"rank\", \"rank_last_week\", \"weeks_on_list\", \"asterisk\", \"dagger\"])\n"
     ]
    },
    {
     "name": "stdout",
     "output_type": "stream",
     "text": [
      "2021-10-18\n",
      "https://api.nytimes.com/svc/books/v3/lists.json?api-key=P1yDSg62Aydsdh04WBBuS57pYbpBu2tb&list=trade-fiction-paperback&published-date=2021-10-18\n"
     ]
    },
    {
     "name": "stderr",
     "output_type": "stream",
     "text": [
      "C:\\Users\\melan\\AppData\\Local\\Temp\\ipykernel_21772\\1987847954.py:25: FutureWarning: pandas.io.json.json_normalize is deprecated, use pandas.json_normalize instead.\n",
      "  books = json_normalize(results[\"results\"], record_path=[\"book_details\"], meta=[\"rank\", \"rank_last_week\", \"weeks_on_list\", \"asterisk\", \"dagger\"])\n"
     ]
    },
    {
     "name": "stdout",
     "output_type": "stream",
     "text": [
      "2021-10-11\n",
      "https://api.nytimes.com/svc/books/v3/lists.json?api-key=P1yDSg62Aydsdh04WBBuS57pYbpBu2tb&list=trade-fiction-paperback&published-date=2021-10-11\n"
     ]
    },
    {
     "name": "stderr",
     "output_type": "stream",
     "text": [
      "C:\\Users\\melan\\AppData\\Local\\Temp\\ipykernel_21772\\1987847954.py:25: FutureWarning: pandas.io.json.json_normalize is deprecated, use pandas.json_normalize instead.\n",
      "  books = json_normalize(results[\"results\"], record_path=[\"book_details\"], meta=[\"rank\", \"rank_last_week\", \"weeks_on_list\", \"asterisk\", \"dagger\"])\n"
     ]
    },
    {
     "name": "stdout",
     "output_type": "stream",
     "text": [
      "2021-10-04\n",
      "https://api.nytimes.com/svc/books/v3/lists.json?api-key=P1yDSg62Aydsdh04WBBuS57pYbpBu2tb&list=trade-fiction-paperback&published-date=2021-10-04\n"
     ]
    },
    {
     "name": "stderr",
     "output_type": "stream",
     "text": [
      "C:\\Users\\melan\\AppData\\Local\\Temp\\ipykernel_21772\\1987847954.py:25: FutureWarning: pandas.io.json.json_normalize is deprecated, use pandas.json_normalize instead.\n",
      "  books = json_normalize(results[\"results\"], record_path=[\"book_details\"], meta=[\"rank\", \"rank_last_week\", \"weeks_on_list\", \"asterisk\", \"dagger\"])\n"
     ]
    },
    {
     "name": "stdout",
     "output_type": "stream",
     "text": [
      "2021-09-27\n",
      "https://api.nytimes.com/svc/books/v3/lists.json?api-key=P1yDSg62Aydsdh04WBBuS57pYbpBu2tb&list=trade-fiction-paperback&published-date=2021-09-27\n"
     ]
    },
    {
     "name": "stderr",
     "output_type": "stream",
     "text": [
      "C:\\Users\\melan\\AppData\\Local\\Temp\\ipykernel_21772\\1987847954.py:25: FutureWarning: pandas.io.json.json_normalize is deprecated, use pandas.json_normalize instead.\n",
      "  books = json_normalize(results[\"results\"], record_path=[\"book_details\"], meta=[\"rank\", \"rank_last_week\", \"weeks_on_list\", \"asterisk\", \"dagger\"])\n"
     ]
    },
    {
     "name": "stdout",
     "output_type": "stream",
     "text": [
      "2021-09-20\n",
      "https://api.nytimes.com/svc/books/v3/lists.json?api-key=P1yDSg62Aydsdh04WBBuS57pYbpBu2tb&list=trade-fiction-paperback&published-date=2021-09-20\n"
     ]
    },
    {
     "name": "stderr",
     "output_type": "stream",
     "text": [
      "C:\\Users\\melan\\AppData\\Local\\Temp\\ipykernel_21772\\1987847954.py:25: FutureWarning: pandas.io.json.json_normalize is deprecated, use pandas.json_normalize instead.\n",
      "  books = json_normalize(results[\"results\"], record_path=[\"book_details\"], meta=[\"rank\", \"rank_last_week\", \"weeks_on_list\", \"asterisk\", \"dagger\"])\n"
     ]
    },
    {
     "name": "stdout",
     "output_type": "stream",
     "text": [
      "2021-09-13\n",
      "https://api.nytimes.com/svc/books/v3/lists.json?api-key=P1yDSg62Aydsdh04WBBuS57pYbpBu2tb&list=trade-fiction-paperback&published-date=2021-09-13\n"
     ]
    },
    {
     "name": "stderr",
     "output_type": "stream",
     "text": [
      "C:\\Users\\melan\\AppData\\Local\\Temp\\ipykernel_21772\\1987847954.py:25: FutureWarning: pandas.io.json.json_normalize is deprecated, use pandas.json_normalize instead.\n",
      "  books = json_normalize(results[\"results\"], record_path=[\"book_details\"], meta=[\"rank\", \"rank_last_week\", \"weeks_on_list\", \"asterisk\", \"dagger\"])\n"
     ]
    },
    {
     "name": "stdout",
     "output_type": "stream",
     "text": [
      "2021-09-06\n",
      "https://api.nytimes.com/svc/books/v3/lists.json?api-key=P1yDSg62Aydsdh04WBBuS57pYbpBu2tb&list=trade-fiction-paperback&published-date=2021-09-06\n"
     ]
    },
    {
     "name": "stderr",
     "output_type": "stream",
     "text": [
      "C:\\Users\\melan\\AppData\\Local\\Temp\\ipykernel_21772\\1987847954.py:25: FutureWarning: pandas.io.json.json_normalize is deprecated, use pandas.json_normalize instead.\n",
      "  books = json_normalize(results[\"results\"], record_path=[\"book_details\"], meta=[\"rank\", \"rank_last_week\", \"weeks_on_list\", \"asterisk\", \"dagger\"])\n"
     ]
    },
    {
     "name": "stdout",
     "output_type": "stream",
     "text": [
      "2021-08-30\n",
      "https://api.nytimes.com/svc/books/v3/lists.json?api-key=P1yDSg62Aydsdh04WBBuS57pYbpBu2tb&list=trade-fiction-paperback&published-date=2021-08-30\n"
     ]
    },
    {
     "name": "stderr",
     "output_type": "stream",
     "text": [
      "C:\\Users\\melan\\AppData\\Local\\Temp\\ipykernel_21772\\1987847954.py:25: FutureWarning: pandas.io.json.json_normalize is deprecated, use pandas.json_normalize instead.\n",
      "  books = json_normalize(results[\"results\"], record_path=[\"book_details\"], meta=[\"rank\", \"rank_last_week\", \"weeks_on_list\", \"asterisk\", \"dagger\"])\n"
     ]
    },
    {
     "name": "stdout",
     "output_type": "stream",
     "text": [
      "2021-08-23\n",
      "https://api.nytimes.com/svc/books/v3/lists.json?api-key=P1yDSg62Aydsdh04WBBuS57pYbpBu2tb&list=trade-fiction-paperback&published-date=2021-08-23\n"
     ]
    },
    {
     "name": "stderr",
     "output_type": "stream",
     "text": [
      "C:\\Users\\melan\\AppData\\Local\\Temp\\ipykernel_21772\\1987847954.py:25: FutureWarning: pandas.io.json.json_normalize is deprecated, use pandas.json_normalize instead.\n",
      "  books = json_normalize(results[\"results\"], record_path=[\"book_details\"], meta=[\"rank\", \"rank_last_week\", \"weeks_on_list\", \"asterisk\", \"dagger\"])\n"
     ]
    },
    {
     "name": "stdout",
     "output_type": "stream",
     "text": [
      "2021-08-16\n",
      "https://api.nytimes.com/svc/books/v3/lists.json?api-key=P1yDSg62Aydsdh04WBBuS57pYbpBu2tb&list=trade-fiction-paperback&published-date=2021-08-16\n"
     ]
    },
    {
     "name": "stderr",
     "output_type": "stream",
     "text": [
      "C:\\Users\\melan\\AppData\\Local\\Temp\\ipykernel_21772\\1987847954.py:25: FutureWarning: pandas.io.json.json_normalize is deprecated, use pandas.json_normalize instead.\n",
      "  books = json_normalize(results[\"results\"], record_path=[\"book_details\"], meta=[\"rank\", \"rank_last_week\", \"weeks_on_list\", \"asterisk\", \"dagger\"])\n"
     ]
    },
    {
     "name": "stdout",
     "output_type": "stream",
     "text": [
      "2021-08-09\n",
      "https://api.nytimes.com/svc/books/v3/lists.json?api-key=P1yDSg62Aydsdh04WBBuS57pYbpBu2tb&list=trade-fiction-paperback&published-date=2021-08-09\n"
     ]
    },
    {
     "name": "stderr",
     "output_type": "stream",
     "text": [
      "C:\\Users\\melan\\AppData\\Local\\Temp\\ipykernel_21772\\1987847954.py:25: FutureWarning: pandas.io.json.json_normalize is deprecated, use pandas.json_normalize instead.\n",
      "  books = json_normalize(results[\"results\"], record_path=[\"book_details\"], meta=[\"rank\", \"rank_last_week\", \"weeks_on_list\", \"asterisk\", \"dagger\"])\n"
     ]
    },
    {
     "name": "stdout",
     "output_type": "stream",
     "text": [
      "2021-08-02\n",
      "https://api.nytimes.com/svc/books/v3/lists.json?api-key=P1yDSg62Aydsdh04WBBuS57pYbpBu2tb&list=trade-fiction-paperback&published-date=2021-08-02\n"
     ]
    },
    {
     "name": "stderr",
     "output_type": "stream",
     "text": [
      "C:\\Users\\melan\\AppData\\Local\\Temp\\ipykernel_21772\\1987847954.py:25: FutureWarning: pandas.io.json.json_normalize is deprecated, use pandas.json_normalize instead.\n",
      "  books = json_normalize(results[\"results\"], record_path=[\"book_details\"], meta=[\"rank\", \"rank_last_week\", \"weeks_on_list\", \"asterisk\", \"dagger\"])\n"
     ]
    },
    {
     "name": "stdout",
     "output_type": "stream",
     "text": [
      "2021-07-26\n",
      "https://api.nytimes.com/svc/books/v3/lists.json?api-key=P1yDSg62Aydsdh04WBBuS57pYbpBu2tb&list=trade-fiction-paperback&published-date=2021-07-26\n"
     ]
    },
    {
     "name": "stderr",
     "output_type": "stream",
     "text": [
      "C:\\Users\\melan\\AppData\\Local\\Temp\\ipykernel_21772\\1987847954.py:25: FutureWarning: pandas.io.json.json_normalize is deprecated, use pandas.json_normalize instead.\n",
      "  books = json_normalize(results[\"results\"], record_path=[\"book_details\"], meta=[\"rank\", \"rank_last_week\", \"weeks_on_list\", \"asterisk\", \"dagger\"])\n"
     ]
    },
    {
     "name": "stdout",
     "output_type": "stream",
     "text": [
      "2021-07-19\n",
      "https://api.nytimes.com/svc/books/v3/lists.json?api-key=P1yDSg62Aydsdh04WBBuS57pYbpBu2tb&list=trade-fiction-paperback&published-date=2021-07-19\n"
     ]
    },
    {
     "name": "stderr",
     "output_type": "stream",
     "text": [
      "C:\\Users\\melan\\AppData\\Local\\Temp\\ipykernel_21772\\1987847954.py:25: FutureWarning: pandas.io.json.json_normalize is deprecated, use pandas.json_normalize instead.\n",
      "  books = json_normalize(results[\"results\"], record_path=[\"book_details\"], meta=[\"rank\", \"rank_last_week\", \"weeks_on_list\", \"asterisk\", \"dagger\"])\n"
     ]
    },
    {
     "name": "stdout",
     "output_type": "stream",
     "text": [
      "2021-07-12\n",
      "https://api.nytimes.com/svc/books/v3/lists.json?api-key=P1yDSg62Aydsdh04WBBuS57pYbpBu2tb&list=trade-fiction-paperback&published-date=2021-07-12\n"
     ]
    },
    {
     "name": "stderr",
     "output_type": "stream",
     "text": [
      "C:\\Users\\melan\\AppData\\Local\\Temp\\ipykernel_21772\\1987847954.py:25: FutureWarning: pandas.io.json.json_normalize is deprecated, use pandas.json_normalize instead.\n",
      "  books = json_normalize(results[\"results\"], record_path=[\"book_details\"], meta=[\"rank\", \"rank_last_week\", \"weeks_on_list\", \"asterisk\", \"dagger\"])\n"
     ]
    },
    {
     "name": "stdout",
     "output_type": "stream",
     "text": [
      "2021-07-05\n",
      "https://api.nytimes.com/svc/books/v3/lists.json?api-key=P1yDSg62Aydsdh04WBBuS57pYbpBu2tb&list=trade-fiction-paperback&published-date=2021-07-05\n"
     ]
    },
    {
     "name": "stderr",
     "output_type": "stream",
     "text": [
      "C:\\Users\\melan\\AppData\\Local\\Temp\\ipykernel_21772\\1987847954.py:25: FutureWarning: pandas.io.json.json_normalize is deprecated, use pandas.json_normalize instead.\n",
      "  books = json_normalize(results[\"results\"], record_path=[\"book_details\"], meta=[\"rank\", \"rank_last_week\", \"weeks_on_list\", \"asterisk\", \"dagger\"])\n"
     ]
    },
    {
     "name": "stdout",
     "output_type": "stream",
     "text": [
      "2021-06-28\n",
      "https://api.nytimes.com/svc/books/v3/lists.json?api-key=P1yDSg62Aydsdh04WBBuS57pYbpBu2tb&list=trade-fiction-paperback&published-date=2021-06-28\n"
     ]
    },
    {
     "name": "stderr",
     "output_type": "stream",
     "text": [
      "C:\\Users\\melan\\AppData\\Local\\Temp\\ipykernel_21772\\1987847954.py:25: FutureWarning: pandas.io.json.json_normalize is deprecated, use pandas.json_normalize instead.\n",
      "  books = json_normalize(results[\"results\"], record_path=[\"book_details\"], meta=[\"rank\", \"rank_last_week\", \"weeks_on_list\", \"asterisk\", \"dagger\"])\n"
     ]
    },
    {
     "name": "stdout",
     "output_type": "stream",
     "text": [
      "2021-06-21\n",
      "https://api.nytimes.com/svc/books/v3/lists.json?api-key=P1yDSg62Aydsdh04WBBuS57pYbpBu2tb&list=trade-fiction-paperback&published-date=2021-06-21\n"
     ]
    },
    {
     "name": "stderr",
     "output_type": "stream",
     "text": [
      "C:\\Users\\melan\\AppData\\Local\\Temp\\ipykernel_21772\\1987847954.py:25: FutureWarning: pandas.io.json.json_normalize is deprecated, use pandas.json_normalize instead.\n",
      "  books = json_normalize(results[\"results\"], record_path=[\"book_details\"], meta=[\"rank\", \"rank_last_week\", \"weeks_on_list\", \"asterisk\", \"dagger\"])\n"
     ]
    },
    {
     "name": "stdout",
     "output_type": "stream",
     "text": [
      "2021-06-14\n",
      "https://api.nytimes.com/svc/books/v3/lists.json?api-key=P1yDSg62Aydsdh04WBBuS57pYbpBu2tb&list=trade-fiction-paperback&published-date=2021-06-14\n"
     ]
    },
    {
     "name": "stderr",
     "output_type": "stream",
     "text": [
      "C:\\Users\\melan\\AppData\\Local\\Temp\\ipykernel_21772\\1987847954.py:25: FutureWarning: pandas.io.json.json_normalize is deprecated, use pandas.json_normalize instead.\n",
      "  books = json_normalize(results[\"results\"], record_path=[\"book_details\"], meta=[\"rank\", \"rank_last_week\", \"weeks_on_list\", \"asterisk\", \"dagger\"])\n"
     ]
    },
    {
     "name": "stdout",
     "output_type": "stream",
     "text": [
      "2021-06-07\n",
      "https://api.nytimes.com/svc/books/v3/lists.json?api-key=P1yDSg62Aydsdh04WBBuS57pYbpBu2tb&list=trade-fiction-paperback&published-date=2021-06-07\n"
     ]
    },
    {
     "name": "stderr",
     "output_type": "stream",
     "text": [
      "C:\\Users\\melan\\AppData\\Local\\Temp\\ipykernel_21772\\1987847954.py:25: FutureWarning: pandas.io.json.json_normalize is deprecated, use pandas.json_normalize instead.\n",
      "  books = json_normalize(results[\"results\"], record_path=[\"book_details\"], meta=[\"rank\", \"rank_last_week\", \"weeks_on_list\", \"asterisk\", \"dagger\"])\n"
     ]
    },
    {
     "name": "stdout",
     "output_type": "stream",
     "text": [
      "2021-05-31\n",
      "https://api.nytimes.com/svc/books/v3/lists.json?api-key=P1yDSg62Aydsdh04WBBuS57pYbpBu2tb&list=trade-fiction-paperback&published-date=2021-05-31\n"
     ]
    },
    {
     "name": "stderr",
     "output_type": "stream",
     "text": [
      "C:\\Users\\melan\\AppData\\Local\\Temp\\ipykernel_21772\\1987847954.py:25: FutureWarning: pandas.io.json.json_normalize is deprecated, use pandas.json_normalize instead.\n",
      "  books = json_normalize(results[\"results\"], record_path=[\"book_details\"], meta=[\"rank\", \"rank_last_week\", \"weeks_on_list\", \"asterisk\", \"dagger\"])\n"
     ]
    },
    {
     "name": "stdout",
     "output_type": "stream",
     "text": [
      "2021-05-24\n",
      "https://api.nytimes.com/svc/books/v3/lists.json?api-key=P1yDSg62Aydsdh04WBBuS57pYbpBu2tb&list=trade-fiction-paperback&published-date=2021-05-24\n"
     ]
    },
    {
     "name": "stderr",
     "output_type": "stream",
     "text": [
      "C:\\Users\\melan\\AppData\\Local\\Temp\\ipykernel_21772\\1987847954.py:25: FutureWarning: pandas.io.json.json_normalize is deprecated, use pandas.json_normalize instead.\n",
      "  books = json_normalize(results[\"results\"], record_path=[\"book_details\"], meta=[\"rank\", \"rank_last_week\", \"weeks_on_list\", \"asterisk\", \"dagger\"])\n"
     ]
    },
    {
     "name": "stdout",
     "output_type": "stream",
     "text": [
      "2021-05-17\n",
      "https://api.nytimes.com/svc/books/v3/lists.json?api-key=P1yDSg62Aydsdh04WBBuS57pYbpBu2tb&list=trade-fiction-paperback&published-date=2021-05-17\n"
     ]
    },
    {
     "name": "stderr",
     "output_type": "stream",
     "text": [
      "C:\\Users\\melan\\AppData\\Local\\Temp\\ipykernel_21772\\1987847954.py:25: FutureWarning: pandas.io.json.json_normalize is deprecated, use pandas.json_normalize instead.\n",
      "  books = json_normalize(results[\"results\"], record_path=[\"book_details\"], meta=[\"rank\", \"rank_last_week\", \"weeks_on_list\", \"asterisk\", \"dagger\"])\n"
     ]
    },
    {
     "name": "stdout",
     "output_type": "stream",
     "text": [
      "2021-05-10\n",
      "https://api.nytimes.com/svc/books/v3/lists.json?api-key=P1yDSg62Aydsdh04WBBuS57pYbpBu2tb&list=trade-fiction-paperback&published-date=2021-05-10\n"
     ]
    },
    {
     "name": "stderr",
     "output_type": "stream",
     "text": [
      "C:\\Users\\melan\\AppData\\Local\\Temp\\ipykernel_21772\\1987847954.py:25: FutureWarning: pandas.io.json.json_normalize is deprecated, use pandas.json_normalize instead.\n",
      "  books = json_normalize(results[\"results\"], record_path=[\"book_details\"], meta=[\"rank\", \"rank_last_week\", \"weeks_on_list\", \"asterisk\", \"dagger\"])\n"
     ]
    },
    {
     "name": "stdout",
     "output_type": "stream",
     "text": [
      "2021-05-03\n",
      "https://api.nytimes.com/svc/books/v3/lists.json?api-key=P1yDSg62Aydsdh04WBBuS57pYbpBu2tb&list=trade-fiction-paperback&published-date=2021-05-03\n"
     ]
    },
    {
     "name": "stderr",
     "output_type": "stream",
     "text": [
      "C:\\Users\\melan\\AppData\\Local\\Temp\\ipykernel_21772\\1987847954.py:25: FutureWarning: pandas.io.json.json_normalize is deprecated, use pandas.json_normalize instead.\n",
      "  books = json_normalize(results[\"results\"], record_path=[\"book_details\"], meta=[\"rank\", \"rank_last_week\", \"weeks_on_list\", \"asterisk\", \"dagger\"])\n"
     ]
    },
    {
     "name": "stdout",
     "output_type": "stream",
     "text": [
      "2021-04-26\n",
      "https://api.nytimes.com/svc/books/v3/lists.json?api-key=P1yDSg62Aydsdh04WBBuS57pYbpBu2tb&list=trade-fiction-paperback&published-date=2021-04-26\n"
     ]
    },
    {
     "name": "stderr",
     "output_type": "stream",
     "text": [
      "C:\\Users\\melan\\AppData\\Local\\Temp\\ipykernel_21772\\1987847954.py:25: FutureWarning: pandas.io.json.json_normalize is deprecated, use pandas.json_normalize instead.\n",
      "  books = json_normalize(results[\"results\"], record_path=[\"book_details\"], meta=[\"rank\", \"rank_last_week\", \"weeks_on_list\", \"asterisk\", \"dagger\"])\n"
     ]
    },
    {
     "name": "stdout",
     "output_type": "stream",
     "text": [
      "2021-04-19\n",
      "https://api.nytimes.com/svc/books/v3/lists.json?api-key=P1yDSg62Aydsdh04WBBuS57pYbpBu2tb&list=trade-fiction-paperback&published-date=2021-04-19\n"
     ]
    },
    {
     "name": "stderr",
     "output_type": "stream",
     "text": [
      "C:\\Users\\melan\\AppData\\Local\\Temp\\ipykernel_21772\\1987847954.py:25: FutureWarning: pandas.io.json.json_normalize is deprecated, use pandas.json_normalize instead.\n",
      "  books = json_normalize(results[\"results\"], record_path=[\"book_details\"], meta=[\"rank\", \"rank_last_week\", \"weeks_on_list\", \"asterisk\", \"dagger\"])\n"
     ]
    },
    {
     "name": "stdout",
     "output_type": "stream",
     "text": [
      "2021-04-12\n",
      "https://api.nytimes.com/svc/books/v3/lists.json?api-key=P1yDSg62Aydsdh04WBBuS57pYbpBu2tb&list=trade-fiction-paperback&published-date=2021-04-12\n"
     ]
    },
    {
     "name": "stderr",
     "output_type": "stream",
     "text": [
      "C:\\Users\\melan\\AppData\\Local\\Temp\\ipykernel_21772\\1987847954.py:25: FutureWarning: pandas.io.json.json_normalize is deprecated, use pandas.json_normalize instead.\n",
      "  books = json_normalize(results[\"results\"], record_path=[\"book_details\"], meta=[\"rank\", \"rank_last_week\", \"weeks_on_list\", \"asterisk\", \"dagger\"])\n"
     ]
    },
    {
     "name": "stdout",
     "output_type": "stream",
     "text": [
      "2021-04-05\n",
      "https://api.nytimes.com/svc/books/v3/lists.json?api-key=P1yDSg62Aydsdh04WBBuS57pYbpBu2tb&list=trade-fiction-paperback&published-date=2021-04-05\n"
     ]
    },
    {
     "name": "stderr",
     "output_type": "stream",
     "text": [
      "C:\\Users\\melan\\AppData\\Local\\Temp\\ipykernel_21772\\1987847954.py:25: FutureWarning: pandas.io.json.json_normalize is deprecated, use pandas.json_normalize instead.\n",
      "  books = json_normalize(results[\"results\"], record_path=[\"book_details\"], meta=[\"rank\", \"rank_last_week\", \"weeks_on_list\", \"asterisk\", \"dagger\"])\n"
     ]
    },
    {
     "name": "stdout",
     "output_type": "stream",
     "text": [
      "2021-03-29\n",
      "https://api.nytimes.com/svc/books/v3/lists.json?api-key=P1yDSg62Aydsdh04WBBuS57pYbpBu2tb&list=trade-fiction-paperback&published-date=2021-03-29\n"
     ]
    },
    {
     "name": "stderr",
     "output_type": "stream",
     "text": [
      "C:\\Users\\melan\\AppData\\Local\\Temp\\ipykernel_21772\\1987847954.py:25: FutureWarning: pandas.io.json.json_normalize is deprecated, use pandas.json_normalize instead.\n",
      "  books = json_normalize(results[\"results\"], record_path=[\"book_details\"], meta=[\"rank\", \"rank_last_week\", \"weeks_on_list\", \"asterisk\", \"dagger\"])\n"
     ]
    },
    {
     "name": "stdout",
     "output_type": "stream",
     "text": [
      "2021-03-22\n",
      "https://api.nytimes.com/svc/books/v3/lists.json?api-key=P1yDSg62Aydsdh04WBBuS57pYbpBu2tb&list=trade-fiction-paperback&published-date=2021-03-22\n"
     ]
    },
    {
     "name": "stderr",
     "output_type": "stream",
     "text": [
      "C:\\Users\\melan\\AppData\\Local\\Temp\\ipykernel_21772\\1987847954.py:25: FutureWarning: pandas.io.json.json_normalize is deprecated, use pandas.json_normalize instead.\n",
      "  books = json_normalize(results[\"results\"], record_path=[\"book_details\"], meta=[\"rank\", \"rank_last_week\", \"weeks_on_list\", \"asterisk\", \"dagger\"])\n"
     ]
    },
    {
     "name": "stdout",
     "output_type": "stream",
     "text": [
      "2021-03-15\n",
      "https://api.nytimes.com/svc/books/v3/lists.json?api-key=P1yDSg62Aydsdh04WBBuS57pYbpBu2tb&list=trade-fiction-paperback&published-date=2021-03-15\n"
     ]
    },
    {
     "name": "stderr",
     "output_type": "stream",
     "text": [
      "C:\\Users\\melan\\AppData\\Local\\Temp\\ipykernel_21772\\1987847954.py:25: FutureWarning: pandas.io.json.json_normalize is deprecated, use pandas.json_normalize instead.\n",
      "  books = json_normalize(results[\"results\"], record_path=[\"book_details\"], meta=[\"rank\", \"rank_last_week\", \"weeks_on_list\", \"asterisk\", \"dagger\"])\n"
     ]
    },
    {
     "name": "stdout",
     "output_type": "stream",
     "text": [
      "2021-03-08\n",
      "https://api.nytimes.com/svc/books/v3/lists.json?api-key=P1yDSg62Aydsdh04WBBuS57pYbpBu2tb&list=trade-fiction-paperback&published-date=2021-03-08\n"
     ]
    },
    {
     "name": "stderr",
     "output_type": "stream",
     "text": [
      "C:\\Users\\melan\\AppData\\Local\\Temp\\ipykernel_21772\\1987847954.py:25: FutureWarning: pandas.io.json.json_normalize is deprecated, use pandas.json_normalize instead.\n",
      "  books = json_normalize(results[\"results\"], record_path=[\"book_details\"], meta=[\"rank\", \"rank_last_week\", \"weeks_on_list\", \"asterisk\", \"dagger\"])\n"
     ]
    },
    {
     "name": "stdout",
     "output_type": "stream",
     "text": [
      "2021-03-01\n",
      "https://api.nytimes.com/svc/books/v3/lists.json?api-key=P1yDSg62Aydsdh04WBBuS57pYbpBu2tb&list=trade-fiction-paperback&published-date=2021-03-01\n"
     ]
    },
    {
     "name": "stderr",
     "output_type": "stream",
     "text": [
      "C:\\Users\\melan\\AppData\\Local\\Temp\\ipykernel_21772\\1987847954.py:25: FutureWarning: pandas.io.json.json_normalize is deprecated, use pandas.json_normalize instead.\n",
      "  books = json_normalize(results[\"results\"], record_path=[\"book_details\"], meta=[\"rank\", \"rank_last_week\", \"weeks_on_list\", \"asterisk\", \"dagger\"])\n"
     ]
    },
    {
     "name": "stdout",
     "output_type": "stream",
     "text": [
      "2021-02-22\n",
      "https://api.nytimes.com/svc/books/v3/lists.json?api-key=P1yDSg62Aydsdh04WBBuS57pYbpBu2tb&list=trade-fiction-paperback&published-date=2021-02-22\n"
     ]
    },
    {
     "name": "stderr",
     "output_type": "stream",
     "text": [
      "C:\\Users\\melan\\AppData\\Local\\Temp\\ipykernel_21772\\1987847954.py:25: FutureWarning: pandas.io.json.json_normalize is deprecated, use pandas.json_normalize instead.\n",
      "  books = json_normalize(results[\"results\"], record_path=[\"book_details\"], meta=[\"rank\", \"rank_last_week\", \"weeks_on_list\", \"asterisk\", \"dagger\"])\n"
     ]
    },
    {
     "name": "stdout",
     "output_type": "stream",
     "text": [
      "2021-02-15\n",
      "https://api.nytimes.com/svc/books/v3/lists.json?api-key=P1yDSg62Aydsdh04WBBuS57pYbpBu2tb&list=trade-fiction-paperback&published-date=2021-02-15\n"
     ]
    },
    {
     "name": "stderr",
     "output_type": "stream",
     "text": [
      "C:\\Users\\melan\\AppData\\Local\\Temp\\ipykernel_21772\\1987847954.py:25: FutureWarning: pandas.io.json.json_normalize is deprecated, use pandas.json_normalize instead.\n",
      "  books = json_normalize(results[\"results\"], record_path=[\"book_details\"], meta=[\"rank\", \"rank_last_week\", \"weeks_on_list\", \"asterisk\", \"dagger\"])\n"
     ]
    },
    {
     "name": "stdout",
     "output_type": "stream",
     "text": [
      "2021-02-08\n",
      "https://api.nytimes.com/svc/books/v3/lists.json?api-key=P1yDSg62Aydsdh04WBBuS57pYbpBu2tb&list=trade-fiction-paperback&published-date=2021-02-08\n"
     ]
    },
    {
     "name": "stderr",
     "output_type": "stream",
     "text": [
      "C:\\Users\\melan\\AppData\\Local\\Temp\\ipykernel_21772\\1987847954.py:25: FutureWarning: pandas.io.json.json_normalize is deprecated, use pandas.json_normalize instead.\n",
      "  books = json_normalize(results[\"results\"], record_path=[\"book_details\"], meta=[\"rank\", \"rank_last_week\", \"weeks_on_list\", \"asterisk\", \"dagger\"])\n"
     ]
    },
    {
     "name": "stdout",
     "output_type": "stream",
     "text": [
      "2021-02-01\n",
      "https://api.nytimes.com/svc/books/v3/lists.json?api-key=P1yDSg62Aydsdh04WBBuS57pYbpBu2tb&list=trade-fiction-paperback&published-date=2021-02-01\n"
     ]
    },
    {
     "name": "stderr",
     "output_type": "stream",
     "text": [
      "C:\\Users\\melan\\AppData\\Local\\Temp\\ipykernel_21772\\1987847954.py:25: FutureWarning: pandas.io.json.json_normalize is deprecated, use pandas.json_normalize instead.\n",
      "  books = json_normalize(results[\"results\"], record_path=[\"book_details\"], meta=[\"rank\", \"rank_last_week\", \"weeks_on_list\", \"asterisk\", \"dagger\"])\n"
     ]
    },
    {
     "name": "stdout",
     "output_type": "stream",
     "text": [
      "2021-01-25\n",
      "https://api.nytimes.com/svc/books/v3/lists.json?api-key=P1yDSg62Aydsdh04WBBuS57pYbpBu2tb&list=trade-fiction-paperback&published-date=2021-01-25\n"
     ]
    },
    {
     "name": "stderr",
     "output_type": "stream",
     "text": [
      "C:\\Users\\melan\\AppData\\Local\\Temp\\ipykernel_21772\\1987847954.py:25: FutureWarning: pandas.io.json.json_normalize is deprecated, use pandas.json_normalize instead.\n",
      "  books = json_normalize(results[\"results\"], record_path=[\"book_details\"], meta=[\"rank\", \"rank_last_week\", \"weeks_on_list\", \"asterisk\", \"dagger\"])\n"
     ]
    },
    {
     "name": "stdout",
     "output_type": "stream",
     "text": [
      "2021-01-18\n",
      "https://api.nytimes.com/svc/books/v3/lists.json?api-key=P1yDSg62Aydsdh04WBBuS57pYbpBu2tb&list=trade-fiction-paperback&published-date=2021-01-18\n"
     ]
    },
    {
     "name": "stderr",
     "output_type": "stream",
     "text": [
      "C:\\Users\\melan\\AppData\\Local\\Temp\\ipykernel_21772\\1987847954.py:25: FutureWarning: pandas.io.json.json_normalize is deprecated, use pandas.json_normalize instead.\n",
      "  books = json_normalize(results[\"results\"], record_path=[\"book_details\"], meta=[\"rank\", \"rank_last_week\", \"weeks_on_list\", \"asterisk\", \"dagger\"])\n"
     ]
    },
    {
     "name": "stdout",
     "output_type": "stream",
     "text": [
      "2021-01-11\n",
      "https://api.nytimes.com/svc/books/v3/lists.json?api-key=P1yDSg62Aydsdh04WBBuS57pYbpBu2tb&list=trade-fiction-paperback&published-date=2021-01-11\n"
     ]
    },
    {
     "name": "stderr",
     "output_type": "stream",
     "text": [
      "C:\\Users\\melan\\AppData\\Local\\Temp\\ipykernel_21772\\1987847954.py:25: FutureWarning: pandas.io.json.json_normalize is deprecated, use pandas.json_normalize instead.\n",
      "  books = json_normalize(results[\"results\"], record_path=[\"book_details\"], meta=[\"rank\", \"rank_last_week\", \"weeks_on_list\", \"asterisk\", \"dagger\"])\n"
     ]
    },
    {
     "name": "stdout",
     "output_type": "stream",
     "text": [
      "2021-01-04\n",
      "https://api.nytimes.com/svc/books/v3/lists.json?api-key=P1yDSg62Aydsdh04WBBuS57pYbpBu2tb&list=trade-fiction-paperback&published-date=2021-01-04\n"
     ]
    },
    {
     "name": "stderr",
     "output_type": "stream",
     "text": [
      "C:\\Users\\melan\\AppData\\Local\\Temp\\ipykernel_21772\\1987847954.py:25: FutureWarning: pandas.io.json.json_normalize is deprecated, use pandas.json_normalize instead.\n",
      "  books = json_normalize(results[\"results\"], record_path=[\"book_details\"], meta=[\"rank\", \"rank_last_week\", \"weeks_on_list\", \"asterisk\", \"dagger\"])\n"
     ]
    },
    {
     "name": "stdout",
     "output_type": "stream",
     "text": [
      "2020-12-28\n",
      "https://api.nytimes.com/svc/books/v3/lists.json?api-key=P1yDSg62Aydsdh04WBBuS57pYbpBu2tb&list=trade-fiction-paperback&published-date=2020-12-28\n"
     ]
    },
    {
     "name": "stderr",
     "output_type": "stream",
     "text": [
      "C:\\Users\\melan\\AppData\\Local\\Temp\\ipykernel_21772\\1987847954.py:25: FutureWarning: pandas.io.json.json_normalize is deprecated, use pandas.json_normalize instead.\n",
      "  books = json_normalize(results[\"results\"], record_path=[\"book_details\"], meta=[\"rank\", \"rank_last_week\", \"weeks_on_list\", \"asterisk\", \"dagger\"])\n"
     ]
    },
    {
     "name": "stdout",
     "output_type": "stream",
     "text": [
      "2020-12-21\n",
      "https://api.nytimes.com/svc/books/v3/lists.json?api-key=P1yDSg62Aydsdh04WBBuS57pYbpBu2tb&list=trade-fiction-paperback&published-date=2020-12-21\n"
     ]
    },
    {
     "name": "stderr",
     "output_type": "stream",
     "text": [
      "C:\\Users\\melan\\AppData\\Local\\Temp\\ipykernel_21772\\1987847954.py:25: FutureWarning: pandas.io.json.json_normalize is deprecated, use pandas.json_normalize instead.\n",
      "  books = json_normalize(results[\"results\"], record_path=[\"book_details\"], meta=[\"rank\", \"rank_last_week\", \"weeks_on_list\", \"asterisk\", \"dagger\"])\n"
     ]
    },
    {
     "name": "stdout",
     "output_type": "stream",
     "text": [
      "2020-12-14\n",
      "https://api.nytimes.com/svc/books/v3/lists.json?api-key=P1yDSg62Aydsdh04WBBuS57pYbpBu2tb&list=trade-fiction-paperback&published-date=2020-12-14\n"
     ]
    },
    {
     "name": "stderr",
     "output_type": "stream",
     "text": [
      "C:\\Users\\melan\\AppData\\Local\\Temp\\ipykernel_21772\\1987847954.py:25: FutureWarning: pandas.io.json.json_normalize is deprecated, use pandas.json_normalize instead.\n",
      "  books = json_normalize(results[\"results\"], record_path=[\"book_details\"], meta=[\"rank\", \"rank_last_week\", \"weeks_on_list\", \"asterisk\", \"dagger\"])\n"
     ]
    },
    {
     "name": "stdout",
     "output_type": "stream",
     "text": [
      "2020-12-07\n",
      "https://api.nytimes.com/svc/books/v3/lists.json?api-key=P1yDSg62Aydsdh04WBBuS57pYbpBu2tb&list=trade-fiction-paperback&published-date=2020-12-07\n"
     ]
    },
    {
     "name": "stderr",
     "output_type": "stream",
     "text": [
      "C:\\Users\\melan\\AppData\\Local\\Temp\\ipykernel_21772\\1987847954.py:25: FutureWarning: pandas.io.json.json_normalize is deprecated, use pandas.json_normalize instead.\n",
      "  books = json_normalize(results[\"results\"], record_path=[\"book_details\"], meta=[\"rank\", \"rank_last_week\", \"weeks_on_list\", \"asterisk\", \"dagger\"])\n"
     ]
    },
    {
     "name": "stdout",
     "output_type": "stream",
     "text": [
      "2020-11-30\n",
      "https://api.nytimes.com/svc/books/v3/lists.json?api-key=P1yDSg62Aydsdh04WBBuS57pYbpBu2tb&list=trade-fiction-paperback&published-date=2020-11-30\n"
     ]
    },
    {
     "name": "stderr",
     "output_type": "stream",
     "text": [
      "C:\\Users\\melan\\AppData\\Local\\Temp\\ipykernel_21772\\1987847954.py:25: FutureWarning: pandas.io.json.json_normalize is deprecated, use pandas.json_normalize instead.\n",
      "  books = json_normalize(results[\"results\"], record_path=[\"book_details\"], meta=[\"rank\", \"rank_last_week\", \"weeks_on_list\", \"asterisk\", \"dagger\"])\n"
     ]
    },
    {
     "name": "stdout",
     "output_type": "stream",
     "text": [
      "2020-11-23\n",
      "https://api.nytimes.com/svc/books/v3/lists.json?api-key=P1yDSg62Aydsdh04WBBuS57pYbpBu2tb&list=trade-fiction-paperback&published-date=2020-11-23\n"
     ]
    },
    {
     "name": "stderr",
     "output_type": "stream",
     "text": [
      "C:\\Users\\melan\\AppData\\Local\\Temp\\ipykernel_21772\\1987847954.py:25: FutureWarning: pandas.io.json.json_normalize is deprecated, use pandas.json_normalize instead.\n",
      "  books = json_normalize(results[\"results\"], record_path=[\"book_details\"], meta=[\"rank\", \"rank_last_week\", \"weeks_on_list\", \"asterisk\", \"dagger\"])\n"
     ]
    },
    {
     "name": "stdout",
     "output_type": "stream",
     "text": [
      "2020-11-16\n",
      "https://api.nytimes.com/svc/books/v3/lists.json?api-key=P1yDSg62Aydsdh04WBBuS57pYbpBu2tb&list=trade-fiction-paperback&published-date=2020-11-16\n"
     ]
    },
    {
     "name": "stderr",
     "output_type": "stream",
     "text": [
      "C:\\Users\\melan\\AppData\\Local\\Temp\\ipykernel_21772\\1987847954.py:25: FutureWarning: pandas.io.json.json_normalize is deprecated, use pandas.json_normalize instead.\n",
      "  books = json_normalize(results[\"results\"], record_path=[\"book_details\"], meta=[\"rank\", \"rank_last_week\", \"weeks_on_list\", \"asterisk\", \"dagger\"])\n"
     ]
    },
    {
     "name": "stdout",
     "output_type": "stream",
     "text": [
      "2020-11-09\n",
      "https://api.nytimes.com/svc/books/v3/lists.json?api-key=P1yDSg62Aydsdh04WBBuS57pYbpBu2tb&list=trade-fiction-paperback&published-date=2020-11-09\n"
     ]
    },
    {
     "name": "stderr",
     "output_type": "stream",
     "text": [
      "C:\\Users\\melan\\AppData\\Local\\Temp\\ipykernel_21772\\1987847954.py:25: FutureWarning: pandas.io.json.json_normalize is deprecated, use pandas.json_normalize instead.\n",
      "  books = json_normalize(results[\"results\"], record_path=[\"book_details\"], meta=[\"rank\", \"rank_last_week\", \"weeks_on_list\", \"asterisk\", \"dagger\"])\n"
     ]
    },
    {
     "name": "stdout",
     "output_type": "stream",
     "text": [
      "2020-11-02\n",
      "https://api.nytimes.com/svc/books/v3/lists.json?api-key=P1yDSg62Aydsdh04WBBuS57pYbpBu2tb&list=trade-fiction-paperback&published-date=2020-11-02\n"
     ]
    },
    {
     "name": "stderr",
     "output_type": "stream",
     "text": [
      "C:\\Users\\melan\\AppData\\Local\\Temp\\ipykernel_21772\\1987847954.py:25: FutureWarning: pandas.io.json.json_normalize is deprecated, use pandas.json_normalize instead.\n",
      "  books = json_normalize(results[\"results\"], record_path=[\"book_details\"], meta=[\"rank\", \"rank_last_week\", \"weeks_on_list\", \"asterisk\", \"dagger\"])\n"
     ]
    },
    {
     "name": "stdout",
     "output_type": "stream",
     "text": [
      "2020-10-26\n",
      "https://api.nytimes.com/svc/books/v3/lists.json?api-key=P1yDSg62Aydsdh04WBBuS57pYbpBu2tb&list=trade-fiction-paperback&published-date=2020-10-26\n"
     ]
    },
    {
     "name": "stderr",
     "output_type": "stream",
     "text": [
      "C:\\Users\\melan\\AppData\\Local\\Temp\\ipykernel_21772\\1987847954.py:25: FutureWarning: pandas.io.json.json_normalize is deprecated, use pandas.json_normalize instead.\n",
      "  books = json_normalize(results[\"results\"], record_path=[\"book_details\"], meta=[\"rank\", \"rank_last_week\", \"weeks_on_list\", \"asterisk\", \"dagger\"])\n"
     ]
    },
    {
     "name": "stdout",
     "output_type": "stream",
     "text": [
      "2020-10-19\n",
      "https://api.nytimes.com/svc/books/v3/lists.json?api-key=P1yDSg62Aydsdh04WBBuS57pYbpBu2tb&list=trade-fiction-paperback&published-date=2020-10-19\n"
     ]
    },
    {
     "name": "stderr",
     "output_type": "stream",
     "text": [
      "C:\\Users\\melan\\AppData\\Local\\Temp\\ipykernel_21772\\1987847954.py:25: FutureWarning: pandas.io.json.json_normalize is deprecated, use pandas.json_normalize instead.\n",
      "  books = json_normalize(results[\"results\"], record_path=[\"book_details\"], meta=[\"rank\", \"rank_last_week\", \"weeks_on_list\", \"asterisk\", \"dagger\"])\n"
     ]
    },
    {
     "name": "stdout",
     "output_type": "stream",
     "text": [
      "2020-10-12\n",
      "https://api.nytimes.com/svc/books/v3/lists.json?api-key=P1yDSg62Aydsdh04WBBuS57pYbpBu2tb&list=trade-fiction-paperback&published-date=2020-10-12\n"
     ]
    },
    {
     "name": "stderr",
     "output_type": "stream",
     "text": [
      "C:\\Users\\melan\\AppData\\Local\\Temp\\ipykernel_21772\\1987847954.py:25: FutureWarning: pandas.io.json.json_normalize is deprecated, use pandas.json_normalize instead.\n",
      "  books = json_normalize(results[\"results\"], record_path=[\"book_details\"], meta=[\"rank\", \"rank_last_week\", \"weeks_on_list\", \"asterisk\", \"dagger\"])\n"
     ]
    },
    {
     "name": "stdout",
     "output_type": "stream",
     "text": [
      "2020-10-05\n",
      "https://api.nytimes.com/svc/books/v3/lists.json?api-key=P1yDSg62Aydsdh04WBBuS57pYbpBu2tb&list=trade-fiction-paperback&published-date=2020-10-05\n"
     ]
    },
    {
     "name": "stderr",
     "output_type": "stream",
     "text": [
      "C:\\Users\\melan\\AppData\\Local\\Temp\\ipykernel_21772\\1987847954.py:25: FutureWarning: pandas.io.json.json_normalize is deprecated, use pandas.json_normalize instead.\n",
      "  books = json_normalize(results[\"results\"], record_path=[\"book_details\"], meta=[\"rank\", \"rank_last_week\", \"weeks_on_list\", \"asterisk\", \"dagger\"])\n"
     ]
    },
    {
     "name": "stdout",
     "output_type": "stream",
     "text": [
      "2020-09-28\n",
      "https://api.nytimes.com/svc/books/v3/lists.json?api-key=P1yDSg62Aydsdh04WBBuS57pYbpBu2tb&list=trade-fiction-paperback&published-date=2020-09-28\n"
     ]
    },
    {
     "name": "stderr",
     "output_type": "stream",
     "text": [
      "C:\\Users\\melan\\AppData\\Local\\Temp\\ipykernel_21772\\1987847954.py:25: FutureWarning: pandas.io.json.json_normalize is deprecated, use pandas.json_normalize instead.\n",
      "  books = json_normalize(results[\"results\"], record_path=[\"book_details\"], meta=[\"rank\", \"rank_last_week\", \"weeks_on_list\", \"asterisk\", \"dagger\"])\n"
     ]
    },
    {
     "name": "stdout",
     "output_type": "stream",
     "text": [
      "2020-09-21\n",
      "https://api.nytimes.com/svc/books/v3/lists.json?api-key=P1yDSg62Aydsdh04WBBuS57pYbpBu2tb&list=trade-fiction-paperback&published-date=2020-09-21\n"
     ]
    },
    {
     "name": "stderr",
     "output_type": "stream",
     "text": [
      "C:\\Users\\melan\\AppData\\Local\\Temp\\ipykernel_21772\\1987847954.py:25: FutureWarning: pandas.io.json.json_normalize is deprecated, use pandas.json_normalize instead.\n",
      "  books = json_normalize(results[\"results\"], record_path=[\"book_details\"], meta=[\"rank\", \"rank_last_week\", \"weeks_on_list\", \"asterisk\", \"dagger\"])\n"
     ]
    },
    {
     "name": "stdout",
     "output_type": "stream",
     "text": [
      "2020-09-14\n",
      "https://api.nytimes.com/svc/books/v3/lists.json?api-key=P1yDSg62Aydsdh04WBBuS57pYbpBu2tb&list=trade-fiction-paperback&published-date=2020-09-14\n"
     ]
    },
    {
     "name": "stderr",
     "output_type": "stream",
     "text": [
      "C:\\Users\\melan\\AppData\\Local\\Temp\\ipykernel_21772\\1987847954.py:25: FutureWarning: pandas.io.json.json_normalize is deprecated, use pandas.json_normalize instead.\n",
      "  books = json_normalize(results[\"results\"], record_path=[\"book_details\"], meta=[\"rank\", \"rank_last_week\", \"weeks_on_list\", \"asterisk\", \"dagger\"])\n"
     ]
    },
    {
     "name": "stdout",
     "output_type": "stream",
     "text": [
      "2020-09-07\n",
      "https://api.nytimes.com/svc/books/v3/lists.json?api-key=P1yDSg62Aydsdh04WBBuS57pYbpBu2tb&list=trade-fiction-paperback&published-date=2020-09-07\n"
     ]
    },
    {
     "name": "stderr",
     "output_type": "stream",
     "text": [
      "C:\\Users\\melan\\AppData\\Local\\Temp\\ipykernel_21772\\1987847954.py:25: FutureWarning: pandas.io.json.json_normalize is deprecated, use pandas.json_normalize instead.\n",
      "  books = json_normalize(results[\"results\"], record_path=[\"book_details\"], meta=[\"rank\", \"rank_last_week\", \"weeks_on_list\", \"asterisk\", \"dagger\"])\n"
     ]
    },
    {
     "name": "stdout",
     "output_type": "stream",
     "text": [
      "2020-08-31\n",
      "https://api.nytimes.com/svc/books/v3/lists.json?api-key=P1yDSg62Aydsdh04WBBuS57pYbpBu2tb&list=trade-fiction-paperback&published-date=2020-08-31\n"
     ]
    },
    {
     "name": "stderr",
     "output_type": "stream",
     "text": [
      "C:\\Users\\melan\\AppData\\Local\\Temp\\ipykernel_21772\\1987847954.py:25: FutureWarning: pandas.io.json.json_normalize is deprecated, use pandas.json_normalize instead.\n",
      "  books = json_normalize(results[\"results\"], record_path=[\"book_details\"], meta=[\"rank\", \"rank_last_week\", \"weeks_on_list\", \"asterisk\", \"dagger\"])\n"
     ]
    },
    {
     "name": "stdout",
     "output_type": "stream",
     "text": [
      "2020-08-24\n",
      "https://api.nytimes.com/svc/books/v3/lists.json?api-key=P1yDSg62Aydsdh04WBBuS57pYbpBu2tb&list=trade-fiction-paperback&published-date=2020-08-24\n"
     ]
    },
    {
     "name": "stderr",
     "output_type": "stream",
     "text": [
      "C:\\Users\\melan\\AppData\\Local\\Temp\\ipykernel_21772\\1987847954.py:25: FutureWarning: pandas.io.json.json_normalize is deprecated, use pandas.json_normalize instead.\n",
      "  books = json_normalize(results[\"results\"], record_path=[\"book_details\"], meta=[\"rank\", \"rank_last_week\", \"weeks_on_list\", \"asterisk\", \"dagger\"])\n"
     ]
    },
    {
     "name": "stdout",
     "output_type": "stream",
     "text": [
      "2020-08-17\n",
      "https://api.nytimes.com/svc/books/v3/lists.json?api-key=P1yDSg62Aydsdh04WBBuS57pYbpBu2tb&list=trade-fiction-paperback&published-date=2020-08-17\n"
     ]
    },
    {
     "name": "stderr",
     "output_type": "stream",
     "text": [
      "C:\\Users\\melan\\AppData\\Local\\Temp\\ipykernel_21772\\1987847954.py:25: FutureWarning: pandas.io.json.json_normalize is deprecated, use pandas.json_normalize instead.\n",
      "  books = json_normalize(results[\"results\"], record_path=[\"book_details\"], meta=[\"rank\", \"rank_last_week\", \"weeks_on_list\", \"asterisk\", \"dagger\"])\n"
     ]
    },
    {
     "name": "stdout",
     "output_type": "stream",
     "text": [
      "2020-08-10\n",
      "https://api.nytimes.com/svc/books/v3/lists.json?api-key=P1yDSg62Aydsdh04WBBuS57pYbpBu2tb&list=trade-fiction-paperback&published-date=2020-08-10\n"
     ]
    },
    {
     "name": "stderr",
     "output_type": "stream",
     "text": [
      "C:\\Users\\melan\\AppData\\Local\\Temp\\ipykernel_21772\\1987847954.py:25: FutureWarning: pandas.io.json.json_normalize is deprecated, use pandas.json_normalize instead.\n",
      "  books = json_normalize(results[\"results\"], record_path=[\"book_details\"], meta=[\"rank\", \"rank_last_week\", \"weeks_on_list\", \"asterisk\", \"dagger\"])\n"
     ]
    },
    {
     "name": "stdout",
     "output_type": "stream",
     "text": [
      "2020-08-03\n",
      "https://api.nytimes.com/svc/books/v3/lists.json?api-key=P1yDSg62Aydsdh04WBBuS57pYbpBu2tb&list=trade-fiction-paperback&published-date=2020-08-03\n"
     ]
    },
    {
     "name": "stderr",
     "output_type": "stream",
     "text": [
      "C:\\Users\\melan\\AppData\\Local\\Temp\\ipykernel_21772\\1987847954.py:25: FutureWarning: pandas.io.json.json_normalize is deprecated, use pandas.json_normalize instead.\n",
      "  books = json_normalize(results[\"results\"], record_path=[\"book_details\"], meta=[\"rank\", \"rank_last_week\", \"weeks_on_list\", \"asterisk\", \"dagger\"])\n"
     ]
    },
    {
     "name": "stdout",
     "output_type": "stream",
     "text": [
      "2020-07-27\n",
      "https://api.nytimes.com/svc/books/v3/lists.json?api-key=P1yDSg62Aydsdh04WBBuS57pYbpBu2tb&list=trade-fiction-paperback&published-date=2020-07-27\n"
     ]
    },
    {
     "name": "stderr",
     "output_type": "stream",
     "text": [
      "C:\\Users\\melan\\AppData\\Local\\Temp\\ipykernel_21772\\1987847954.py:25: FutureWarning: pandas.io.json.json_normalize is deprecated, use pandas.json_normalize instead.\n",
      "  books = json_normalize(results[\"results\"], record_path=[\"book_details\"], meta=[\"rank\", \"rank_last_week\", \"weeks_on_list\", \"asterisk\", \"dagger\"])\n"
     ]
    },
    {
     "name": "stdout",
     "output_type": "stream",
     "text": [
      "2020-07-20\n",
      "https://api.nytimes.com/svc/books/v3/lists.json?api-key=P1yDSg62Aydsdh04WBBuS57pYbpBu2tb&list=trade-fiction-paperback&published-date=2020-07-20\n"
     ]
    },
    {
     "name": "stderr",
     "output_type": "stream",
     "text": [
      "C:\\Users\\melan\\AppData\\Local\\Temp\\ipykernel_21772\\1987847954.py:25: FutureWarning: pandas.io.json.json_normalize is deprecated, use pandas.json_normalize instead.\n",
      "  books = json_normalize(results[\"results\"], record_path=[\"book_details\"], meta=[\"rank\", \"rank_last_week\", \"weeks_on_list\", \"asterisk\", \"dagger\"])\n"
     ]
    },
    {
     "name": "stdout",
     "output_type": "stream",
     "text": [
      "2020-07-13\n",
      "https://api.nytimes.com/svc/books/v3/lists.json?api-key=P1yDSg62Aydsdh04WBBuS57pYbpBu2tb&list=trade-fiction-paperback&published-date=2020-07-13\n"
     ]
    },
    {
     "name": "stderr",
     "output_type": "stream",
     "text": [
      "C:\\Users\\melan\\AppData\\Local\\Temp\\ipykernel_21772\\1987847954.py:25: FutureWarning: pandas.io.json.json_normalize is deprecated, use pandas.json_normalize instead.\n",
      "  books = json_normalize(results[\"results\"], record_path=[\"book_details\"], meta=[\"rank\", \"rank_last_week\", \"weeks_on_list\", \"asterisk\", \"dagger\"])\n"
     ]
    },
    {
     "name": "stdout",
     "output_type": "stream",
     "text": [
      "2020-07-06\n",
      "https://api.nytimes.com/svc/books/v3/lists.json?api-key=P1yDSg62Aydsdh04WBBuS57pYbpBu2tb&list=trade-fiction-paperback&published-date=2020-07-06\n"
     ]
    },
    {
     "name": "stderr",
     "output_type": "stream",
     "text": [
      "C:\\Users\\melan\\AppData\\Local\\Temp\\ipykernel_21772\\1987847954.py:25: FutureWarning: pandas.io.json.json_normalize is deprecated, use pandas.json_normalize instead.\n",
      "  books = json_normalize(results[\"results\"], record_path=[\"book_details\"], meta=[\"rank\", \"rank_last_week\", \"weeks_on_list\", \"asterisk\", \"dagger\"])\n"
     ]
    },
    {
     "name": "stdout",
     "output_type": "stream",
     "text": [
      "2020-06-29\n",
      "https://api.nytimes.com/svc/books/v3/lists.json?api-key=P1yDSg62Aydsdh04WBBuS57pYbpBu2tb&list=trade-fiction-paperback&published-date=2020-06-29\n"
     ]
    },
    {
     "name": "stderr",
     "output_type": "stream",
     "text": [
      "C:\\Users\\melan\\AppData\\Local\\Temp\\ipykernel_21772\\1987847954.py:25: FutureWarning: pandas.io.json.json_normalize is deprecated, use pandas.json_normalize instead.\n",
      "  books = json_normalize(results[\"results\"], record_path=[\"book_details\"], meta=[\"rank\", \"rank_last_week\", \"weeks_on_list\", \"asterisk\", \"dagger\"])\n"
     ]
    },
    {
     "name": "stdout",
     "output_type": "stream",
     "text": [
      "2020-06-22\n",
      "https://api.nytimes.com/svc/books/v3/lists.json?api-key=P1yDSg62Aydsdh04WBBuS57pYbpBu2tb&list=trade-fiction-paperback&published-date=2020-06-22\n"
     ]
    },
    {
     "name": "stderr",
     "output_type": "stream",
     "text": [
      "C:\\Users\\melan\\AppData\\Local\\Temp\\ipykernel_21772\\1987847954.py:25: FutureWarning: pandas.io.json.json_normalize is deprecated, use pandas.json_normalize instead.\n",
      "  books = json_normalize(results[\"results\"], record_path=[\"book_details\"], meta=[\"rank\", \"rank_last_week\", \"weeks_on_list\", \"asterisk\", \"dagger\"])\n"
     ]
    },
    {
     "name": "stdout",
     "output_type": "stream",
     "text": [
      "2020-06-15\n",
      "https://api.nytimes.com/svc/books/v3/lists.json?api-key=P1yDSg62Aydsdh04WBBuS57pYbpBu2tb&list=trade-fiction-paperback&published-date=2020-06-15\n"
     ]
    },
    {
     "name": "stderr",
     "output_type": "stream",
     "text": [
      "C:\\Users\\melan\\AppData\\Local\\Temp\\ipykernel_21772\\1987847954.py:25: FutureWarning: pandas.io.json.json_normalize is deprecated, use pandas.json_normalize instead.\n",
      "  books = json_normalize(results[\"results\"], record_path=[\"book_details\"], meta=[\"rank\", \"rank_last_week\", \"weeks_on_list\", \"asterisk\", \"dagger\"])\n"
     ]
    },
    {
     "name": "stdout",
     "output_type": "stream",
     "text": [
      "2020-06-08\n",
      "https://api.nytimes.com/svc/books/v3/lists.json?api-key=P1yDSg62Aydsdh04WBBuS57pYbpBu2tb&list=trade-fiction-paperback&published-date=2020-06-08\n"
     ]
    },
    {
     "name": "stderr",
     "output_type": "stream",
     "text": [
      "C:\\Users\\melan\\AppData\\Local\\Temp\\ipykernel_21772\\1987847954.py:25: FutureWarning: pandas.io.json.json_normalize is deprecated, use pandas.json_normalize instead.\n",
      "  books = json_normalize(results[\"results\"], record_path=[\"book_details\"], meta=[\"rank\", \"rank_last_week\", \"weeks_on_list\", \"asterisk\", \"dagger\"])\n"
     ]
    },
    {
     "name": "stdout",
     "output_type": "stream",
     "text": [
      "2020-06-01\n",
      "https://api.nytimes.com/svc/books/v3/lists.json?api-key=P1yDSg62Aydsdh04WBBuS57pYbpBu2tb&list=trade-fiction-paperback&published-date=2020-06-01\n"
     ]
    },
    {
     "name": "stderr",
     "output_type": "stream",
     "text": [
      "C:\\Users\\melan\\AppData\\Local\\Temp\\ipykernel_21772\\1987847954.py:25: FutureWarning: pandas.io.json.json_normalize is deprecated, use pandas.json_normalize instead.\n",
      "  books = json_normalize(results[\"results\"], record_path=[\"book_details\"], meta=[\"rank\", \"rank_last_week\", \"weeks_on_list\", \"asterisk\", \"dagger\"])\n"
     ]
    },
    {
     "name": "stdout",
     "output_type": "stream",
     "text": [
      "2020-05-25\n",
      "https://api.nytimes.com/svc/books/v3/lists.json?api-key=P1yDSg62Aydsdh04WBBuS57pYbpBu2tb&list=trade-fiction-paperback&published-date=2020-05-25\n"
     ]
    },
    {
     "name": "stderr",
     "output_type": "stream",
     "text": [
      "C:\\Users\\melan\\AppData\\Local\\Temp\\ipykernel_21772\\1987847954.py:25: FutureWarning: pandas.io.json.json_normalize is deprecated, use pandas.json_normalize instead.\n",
      "  books = json_normalize(results[\"results\"], record_path=[\"book_details\"], meta=[\"rank\", \"rank_last_week\", \"weeks_on_list\", \"asterisk\", \"dagger\"])\n"
     ]
    },
    {
     "name": "stdout",
     "output_type": "stream",
     "text": [
      "2020-05-18\n",
      "https://api.nytimes.com/svc/books/v3/lists.json?api-key=P1yDSg62Aydsdh04WBBuS57pYbpBu2tb&list=trade-fiction-paperback&published-date=2020-05-18\n"
     ]
    },
    {
     "name": "stderr",
     "output_type": "stream",
     "text": [
      "C:\\Users\\melan\\AppData\\Local\\Temp\\ipykernel_21772\\1987847954.py:25: FutureWarning: pandas.io.json.json_normalize is deprecated, use pandas.json_normalize instead.\n",
      "  books = json_normalize(results[\"results\"], record_path=[\"book_details\"], meta=[\"rank\", \"rank_last_week\", \"weeks_on_list\", \"asterisk\", \"dagger\"])\n"
     ]
    },
    {
     "name": "stdout",
     "output_type": "stream",
     "text": [
      "2020-05-11\n",
      "https://api.nytimes.com/svc/books/v3/lists.json?api-key=P1yDSg62Aydsdh04WBBuS57pYbpBu2tb&list=trade-fiction-paperback&published-date=2020-05-11\n"
     ]
    },
    {
     "name": "stderr",
     "output_type": "stream",
     "text": [
      "C:\\Users\\melan\\AppData\\Local\\Temp\\ipykernel_21772\\1987847954.py:25: FutureWarning: pandas.io.json.json_normalize is deprecated, use pandas.json_normalize instead.\n",
      "  books = json_normalize(results[\"results\"], record_path=[\"book_details\"], meta=[\"rank\", \"rank_last_week\", \"weeks_on_list\", \"asterisk\", \"dagger\"])\n"
     ]
    },
    {
     "name": "stdout",
     "output_type": "stream",
     "text": [
      "2020-05-04\n",
      "https://api.nytimes.com/svc/books/v3/lists.json?api-key=P1yDSg62Aydsdh04WBBuS57pYbpBu2tb&list=trade-fiction-paperback&published-date=2020-05-04\n"
     ]
    },
    {
     "name": "stderr",
     "output_type": "stream",
     "text": [
      "C:\\Users\\melan\\AppData\\Local\\Temp\\ipykernel_21772\\1987847954.py:25: FutureWarning: pandas.io.json.json_normalize is deprecated, use pandas.json_normalize instead.\n",
      "  books = json_normalize(results[\"results\"], record_path=[\"book_details\"], meta=[\"rank\", \"rank_last_week\", \"weeks_on_list\", \"asterisk\", \"dagger\"])\n"
     ]
    },
    {
     "name": "stdout",
     "output_type": "stream",
     "text": [
      "2020-04-27\n",
      "https://api.nytimes.com/svc/books/v3/lists.json?api-key=P1yDSg62Aydsdh04WBBuS57pYbpBu2tb&list=trade-fiction-paperback&published-date=2020-04-27\n"
     ]
    },
    {
     "name": "stderr",
     "output_type": "stream",
     "text": [
      "C:\\Users\\melan\\AppData\\Local\\Temp\\ipykernel_21772\\1987847954.py:25: FutureWarning: pandas.io.json.json_normalize is deprecated, use pandas.json_normalize instead.\n",
      "  books = json_normalize(results[\"results\"], record_path=[\"book_details\"], meta=[\"rank\", \"rank_last_week\", \"weeks_on_list\", \"asterisk\", \"dagger\"])\n"
     ]
    },
    {
     "name": "stdout",
     "output_type": "stream",
     "text": [
      "2020-04-20\n",
      "https://api.nytimes.com/svc/books/v3/lists.json?api-key=P1yDSg62Aydsdh04WBBuS57pYbpBu2tb&list=trade-fiction-paperback&published-date=2020-04-20\n"
     ]
    },
    {
     "name": "stderr",
     "output_type": "stream",
     "text": [
      "C:\\Users\\melan\\AppData\\Local\\Temp\\ipykernel_21772\\1987847954.py:25: FutureWarning: pandas.io.json.json_normalize is deprecated, use pandas.json_normalize instead.\n",
      "  books = json_normalize(results[\"results\"], record_path=[\"book_details\"], meta=[\"rank\", \"rank_last_week\", \"weeks_on_list\", \"asterisk\", \"dagger\"])\n"
     ]
    },
    {
     "name": "stdout",
     "output_type": "stream",
     "text": [
      "2020-04-13\n",
      "https://api.nytimes.com/svc/books/v3/lists.json?api-key=P1yDSg62Aydsdh04WBBuS57pYbpBu2tb&list=trade-fiction-paperback&published-date=2020-04-13\n"
     ]
    },
    {
     "name": "stderr",
     "output_type": "stream",
     "text": [
      "C:\\Users\\melan\\AppData\\Local\\Temp\\ipykernel_21772\\1987847954.py:25: FutureWarning: pandas.io.json.json_normalize is deprecated, use pandas.json_normalize instead.\n",
      "  books = json_normalize(results[\"results\"], record_path=[\"book_details\"], meta=[\"rank\", \"rank_last_week\", \"weeks_on_list\", \"asterisk\", \"dagger\"])\n"
     ]
    },
    {
     "name": "stdout",
     "output_type": "stream",
     "text": [
      "2020-04-06\n",
      "https://api.nytimes.com/svc/books/v3/lists.json?api-key=P1yDSg62Aydsdh04WBBuS57pYbpBu2tb&list=trade-fiction-paperback&published-date=2020-04-06\n"
     ]
    },
    {
     "name": "stderr",
     "output_type": "stream",
     "text": [
      "C:\\Users\\melan\\AppData\\Local\\Temp\\ipykernel_21772\\1987847954.py:25: FutureWarning: pandas.io.json.json_normalize is deprecated, use pandas.json_normalize instead.\n",
      "  books = json_normalize(results[\"results\"], record_path=[\"book_details\"], meta=[\"rank\", \"rank_last_week\", \"weeks_on_list\", \"asterisk\", \"dagger\"])\n"
     ]
    },
    {
     "name": "stdout",
     "output_type": "stream",
     "text": [
      "2020-03-30\n",
      "https://api.nytimes.com/svc/books/v3/lists.json?api-key=P1yDSg62Aydsdh04WBBuS57pYbpBu2tb&list=trade-fiction-paperback&published-date=2020-03-30\n"
     ]
    },
    {
     "name": "stderr",
     "output_type": "stream",
     "text": [
      "C:\\Users\\melan\\AppData\\Local\\Temp\\ipykernel_21772\\1987847954.py:25: FutureWarning: pandas.io.json.json_normalize is deprecated, use pandas.json_normalize instead.\n",
      "  books = json_normalize(results[\"results\"], record_path=[\"book_details\"], meta=[\"rank\", \"rank_last_week\", \"weeks_on_list\", \"asterisk\", \"dagger\"])\n"
     ]
    },
    {
     "name": "stdout",
     "output_type": "stream",
     "text": [
      "2020-03-23\n",
      "https://api.nytimes.com/svc/books/v3/lists.json?api-key=P1yDSg62Aydsdh04WBBuS57pYbpBu2tb&list=trade-fiction-paperback&published-date=2020-03-23\n"
     ]
    },
    {
     "name": "stderr",
     "output_type": "stream",
     "text": [
      "C:\\Users\\melan\\AppData\\Local\\Temp\\ipykernel_21772\\1987847954.py:25: FutureWarning: pandas.io.json.json_normalize is deprecated, use pandas.json_normalize instead.\n",
      "  books = json_normalize(results[\"results\"], record_path=[\"book_details\"], meta=[\"rank\", \"rank_last_week\", \"weeks_on_list\", \"asterisk\", \"dagger\"])\n"
     ]
    },
    {
     "name": "stdout",
     "output_type": "stream",
     "text": [
      "2020-03-16\n",
      "https://api.nytimes.com/svc/books/v3/lists.json?api-key=P1yDSg62Aydsdh04WBBuS57pYbpBu2tb&list=trade-fiction-paperback&published-date=2020-03-16\n"
     ]
    },
    {
     "name": "stderr",
     "output_type": "stream",
     "text": [
      "C:\\Users\\melan\\AppData\\Local\\Temp\\ipykernel_21772\\1987847954.py:25: FutureWarning: pandas.io.json.json_normalize is deprecated, use pandas.json_normalize instead.\n",
      "  books = json_normalize(results[\"results\"], record_path=[\"book_details\"], meta=[\"rank\", \"rank_last_week\", \"weeks_on_list\", \"asterisk\", \"dagger\"])\n"
     ]
    },
    {
     "name": "stdout",
     "output_type": "stream",
     "text": [
      "2020-03-09\n",
      "https://api.nytimes.com/svc/books/v3/lists.json?api-key=P1yDSg62Aydsdh04WBBuS57pYbpBu2tb&list=trade-fiction-paperback&published-date=2020-03-09\n"
     ]
    },
    {
     "name": "stderr",
     "output_type": "stream",
     "text": [
      "C:\\Users\\melan\\AppData\\Local\\Temp\\ipykernel_21772\\1987847954.py:25: FutureWarning: pandas.io.json.json_normalize is deprecated, use pandas.json_normalize instead.\n",
      "  books = json_normalize(results[\"results\"], record_path=[\"book_details\"], meta=[\"rank\", \"rank_last_week\", \"weeks_on_list\", \"asterisk\", \"dagger\"])\n"
     ]
    },
    {
     "name": "stdout",
     "output_type": "stream",
     "text": [
      "2020-03-02\n",
      "https://api.nytimes.com/svc/books/v3/lists.json?api-key=P1yDSg62Aydsdh04WBBuS57pYbpBu2tb&list=trade-fiction-paperback&published-date=2020-03-02\n"
     ]
    },
    {
     "name": "stderr",
     "output_type": "stream",
     "text": [
      "C:\\Users\\melan\\AppData\\Local\\Temp\\ipykernel_21772\\1987847954.py:25: FutureWarning: pandas.io.json.json_normalize is deprecated, use pandas.json_normalize instead.\n",
      "  books = json_normalize(results[\"results\"], record_path=[\"book_details\"], meta=[\"rank\", \"rank_last_week\", \"weeks_on_list\", \"asterisk\", \"dagger\"])\n"
     ]
    },
    {
     "name": "stdout",
     "output_type": "stream",
     "text": [
      "2020-02-24\n",
      "https://api.nytimes.com/svc/books/v3/lists.json?api-key=P1yDSg62Aydsdh04WBBuS57pYbpBu2tb&list=trade-fiction-paperback&published-date=2020-02-24\n"
     ]
    },
    {
     "name": "stderr",
     "output_type": "stream",
     "text": [
      "C:\\Users\\melan\\AppData\\Local\\Temp\\ipykernel_21772\\1987847954.py:25: FutureWarning: pandas.io.json.json_normalize is deprecated, use pandas.json_normalize instead.\n",
      "  books = json_normalize(results[\"results\"], record_path=[\"book_details\"], meta=[\"rank\", \"rank_last_week\", \"weeks_on_list\", \"asterisk\", \"dagger\"])\n"
     ]
    },
    {
     "name": "stdout",
     "output_type": "stream",
     "text": [
      "2020-02-17\n",
      "https://api.nytimes.com/svc/books/v3/lists.json?api-key=P1yDSg62Aydsdh04WBBuS57pYbpBu2tb&list=trade-fiction-paperback&published-date=2020-02-17\n"
     ]
    },
    {
     "name": "stderr",
     "output_type": "stream",
     "text": [
      "C:\\Users\\melan\\AppData\\Local\\Temp\\ipykernel_21772\\1987847954.py:25: FutureWarning: pandas.io.json.json_normalize is deprecated, use pandas.json_normalize instead.\n",
      "  books = json_normalize(results[\"results\"], record_path=[\"book_details\"], meta=[\"rank\", \"rank_last_week\", \"weeks_on_list\", \"asterisk\", \"dagger\"])\n"
     ]
    },
    {
     "name": "stdout",
     "output_type": "stream",
     "text": [
      "2020-02-10\n",
      "https://api.nytimes.com/svc/books/v3/lists.json?api-key=P1yDSg62Aydsdh04WBBuS57pYbpBu2tb&list=trade-fiction-paperback&published-date=2020-02-10\n"
     ]
    },
    {
     "name": "stderr",
     "output_type": "stream",
     "text": [
      "C:\\Users\\melan\\AppData\\Local\\Temp\\ipykernel_21772\\1987847954.py:25: FutureWarning: pandas.io.json.json_normalize is deprecated, use pandas.json_normalize instead.\n",
      "  books = json_normalize(results[\"results\"], record_path=[\"book_details\"], meta=[\"rank\", \"rank_last_week\", \"weeks_on_list\", \"asterisk\", \"dagger\"])\n"
     ]
    },
    {
     "name": "stdout",
     "output_type": "stream",
     "text": [
      "2020-02-03\n",
      "https://api.nytimes.com/svc/books/v3/lists.json?api-key=P1yDSg62Aydsdh04WBBuS57pYbpBu2tb&list=trade-fiction-paperback&published-date=2020-02-03\n"
     ]
    },
    {
     "name": "stderr",
     "output_type": "stream",
     "text": [
      "C:\\Users\\melan\\AppData\\Local\\Temp\\ipykernel_21772\\1987847954.py:25: FutureWarning: pandas.io.json.json_normalize is deprecated, use pandas.json_normalize instead.\n",
      "  books = json_normalize(results[\"results\"], record_path=[\"book_details\"], meta=[\"rank\", \"rank_last_week\", \"weeks_on_list\", \"asterisk\", \"dagger\"])\n"
     ]
    },
    {
     "name": "stdout",
     "output_type": "stream",
     "text": [
      "2020-01-27\n",
      "https://api.nytimes.com/svc/books/v3/lists.json?api-key=P1yDSg62Aydsdh04WBBuS57pYbpBu2tb&list=trade-fiction-paperback&published-date=2020-01-27\n"
     ]
    },
    {
     "name": "stderr",
     "output_type": "stream",
     "text": [
      "C:\\Users\\melan\\AppData\\Local\\Temp\\ipykernel_21772\\1987847954.py:25: FutureWarning: pandas.io.json.json_normalize is deprecated, use pandas.json_normalize instead.\n",
      "  books = json_normalize(results[\"results\"], record_path=[\"book_details\"], meta=[\"rank\", \"rank_last_week\", \"weeks_on_list\", \"asterisk\", \"dagger\"])\n"
     ]
    },
    {
     "name": "stdout",
     "output_type": "stream",
     "text": [
      "2020-01-20\n",
      "https://api.nytimes.com/svc/books/v3/lists.json?api-key=P1yDSg62Aydsdh04WBBuS57pYbpBu2tb&list=trade-fiction-paperback&published-date=2020-01-20\n"
     ]
    },
    {
     "name": "stderr",
     "output_type": "stream",
     "text": [
      "C:\\Users\\melan\\AppData\\Local\\Temp\\ipykernel_21772\\1987847954.py:25: FutureWarning: pandas.io.json.json_normalize is deprecated, use pandas.json_normalize instead.\n",
      "  books = json_normalize(results[\"results\"], record_path=[\"book_details\"], meta=[\"rank\", \"rank_last_week\", \"weeks_on_list\", \"asterisk\", \"dagger\"])\n"
     ]
    },
    {
     "name": "stdout",
     "output_type": "stream",
     "text": [
      "2020-01-13\n",
      "https://api.nytimes.com/svc/books/v3/lists.json?api-key=P1yDSg62Aydsdh04WBBuS57pYbpBu2tb&list=trade-fiction-paperback&published-date=2020-01-13\n"
     ]
    },
    {
     "name": "stderr",
     "output_type": "stream",
     "text": [
      "C:\\Users\\melan\\AppData\\Local\\Temp\\ipykernel_21772\\1987847954.py:25: FutureWarning: pandas.io.json.json_normalize is deprecated, use pandas.json_normalize instead.\n",
      "  books = json_normalize(results[\"results\"], record_path=[\"book_details\"], meta=[\"rank\", \"rank_last_week\", \"weeks_on_list\", \"asterisk\", \"dagger\"])\n"
     ]
    },
    {
     "name": "stdout",
     "output_type": "stream",
     "text": [
      "2020-01-06\n",
      "https://api.nytimes.com/svc/books/v3/lists.json?api-key=P1yDSg62Aydsdh04WBBuS57pYbpBu2tb&list=trade-fiction-paperback&published-date=2020-01-06\n"
     ]
    },
    {
     "name": "stderr",
     "output_type": "stream",
     "text": [
      "C:\\Users\\melan\\AppData\\Local\\Temp\\ipykernel_21772\\1987847954.py:25: FutureWarning: pandas.io.json.json_normalize is deprecated, use pandas.json_normalize instead.\n",
      "  books = json_normalize(results[\"results\"], record_path=[\"book_details\"], meta=[\"rank\", \"rank_last_week\", \"weeks_on_list\", \"asterisk\", \"dagger\"])\n"
     ]
    },
    {
     "name": "stdout",
     "output_type": "stream",
     "text": [
      "2019-12-30\n",
      "https://api.nytimes.com/svc/books/v3/lists.json?api-key=P1yDSg62Aydsdh04WBBuS57pYbpBu2tb&list=trade-fiction-paperback&published-date=2019-12-30\n"
     ]
    },
    {
     "name": "stderr",
     "output_type": "stream",
     "text": [
      "C:\\Users\\melan\\AppData\\Local\\Temp\\ipykernel_21772\\1987847954.py:25: FutureWarning: pandas.io.json.json_normalize is deprecated, use pandas.json_normalize instead.\n",
      "  books = json_normalize(results[\"results\"], record_path=[\"book_details\"], meta=[\"rank\", \"rank_last_week\", \"weeks_on_list\", \"asterisk\", \"dagger\"])\n"
     ]
    },
    {
     "name": "stdout",
     "output_type": "stream",
     "text": [
      "2019-12-23\n",
      "https://api.nytimes.com/svc/books/v3/lists.json?api-key=P1yDSg62Aydsdh04WBBuS57pYbpBu2tb&list=trade-fiction-paperback&published-date=2019-12-23\n"
     ]
    },
    {
     "name": "stderr",
     "output_type": "stream",
     "text": [
      "C:\\Users\\melan\\AppData\\Local\\Temp\\ipykernel_21772\\1987847954.py:25: FutureWarning: pandas.io.json.json_normalize is deprecated, use pandas.json_normalize instead.\n",
      "  books = json_normalize(results[\"results\"], record_path=[\"book_details\"], meta=[\"rank\", \"rank_last_week\", \"weeks_on_list\", \"asterisk\", \"dagger\"])\n"
     ]
    },
    {
     "name": "stdout",
     "output_type": "stream",
     "text": [
      "2019-12-16\n",
      "https://api.nytimes.com/svc/books/v3/lists.json?api-key=P1yDSg62Aydsdh04WBBuS57pYbpBu2tb&list=trade-fiction-paperback&published-date=2019-12-16\n"
     ]
    },
    {
     "name": "stderr",
     "output_type": "stream",
     "text": [
      "C:\\Users\\melan\\AppData\\Local\\Temp\\ipykernel_21772\\1987847954.py:25: FutureWarning: pandas.io.json.json_normalize is deprecated, use pandas.json_normalize instead.\n",
      "  books = json_normalize(results[\"results\"], record_path=[\"book_details\"], meta=[\"rank\", \"rank_last_week\", \"weeks_on_list\", \"asterisk\", \"dagger\"])\n"
     ]
    },
    {
     "name": "stdout",
     "output_type": "stream",
     "text": [
      "2019-12-09\n",
      "https://api.nytimes.com/svc/books/v3/lists.json?api-key=P1yDSg62Aydsdh04WBBuS57pYbpBu2tb&list=trade-fiction-paperback&published-date=2019-12-09\n"
     ]
    },
    {
     "name": "stderr",
     "output_type": "stream",
     "text": [
      "C:\\Users\\melan\\AppData\\Local\\Temp\\ipykernel_21772\\1987847954.py:25: FutureWarning: pandas.io.json.json_normalize is deprecated, use pandas.json_normalize instead.\n",
      "  books = json_normalize(results[\"results\"], record_path=[\"book_details\"], meta=[\"rank\", \"rank_last_week\", \"weeks_on_list\", \"asterisk\", \"dagger\"])\n"
     ]
    },
    {
     "name": "stdout",
     "output_type": "stream",
     "text": [
      "2019-12-02\n",
      "https://api.nytimes.com/svc/books/v3/lists.json?api-key=P1yDSg62Aydsdh04WBBuS57pYbpBu2tb&list=trade-fiction-paperback&published-date=2019-12-02\n"
     ]
    },
    {
     "name": "stderr",
     "output_type": "stream",
     "text": [
      "C:\\Users\\melan\\AppData\\Local\\Temp\\ipykernel_21772\\1987847954.py:25: FutureWarning: pandas.io.json.json_normalize is deprecated, use pandas.json_normalize instead.\n",
      "  books = json_normalize(results[\"results\"], record_path=[\"book_details\"], meta=[\"rank\", \"rank_last_week\", \"weeks_on_list\", \"asterisk\", \"dagger\"])\n"
     ]
    },
    {
     "name": "stdout",
     "output_type": "stream",
     "text": [
      "2019-11-25\n",
      "https://api.nytimes.com/svc/books/v3/lists.json?api-key=P1yDSg62Aydsdh04WBBuS57pYbpBu2tb&list=trade-fiction-paperback&published-date=2019-11-25\n"
     ]
    },
    {
     "name": "stderr",
     "output_type": "stream",
     "text": [
      "C:\\Users\\melan\\AppData\\Local\\Temp\\ipykernel_21772\\1987847954.py:25: FutureWarning: pandas.io.json.json_normalize is deprecated, use pandas.json_normalize instead.\n",
      "  books = json_normalize(results[\"results\"], record_path=[\"book_details\"], meta=[\"rank\", \"rank_last_week\", \"weeks_on_list\", \"asterisk\", \"dagger\"])\n"
     ]
    },
    {
     "name": "stdout",
     "output_type": "stream",
     "text": [
      "2019-11-18\n",
      "https://api.nytimes.com/svc/books/v3/lists.json?api-key=P1yDSg62Aydsdh04WBBuS57pYbpBu2tb&list=trade-fiction-paperback&published-date=2019-11-18\n"
     ]
    },
    {
     "name": "stderr",
     "output_type": "stream",
     "text": [
      "C:\\Users\\melan\\AppData\\Local\\Temp\\ipykernel_21772\\1987847954.py:25: FutureWarning: pandas.io.json.json_normalize is deprecated, use pandas.json_normalize instead.\n",
      "  books = json_normalize(results[\"results\"], record_path=[\"book_details\"], meta=[\"rank\", \"rank_last_week\", \"weeks_on_list\", \"asterisk\", \"dagger\"])\n"
     ]
    },
    {
     "name": "stdout",
     "output_type": "stream",
     "text": [
      "2019-11-11\n",
      "https://api.nytimes.com/svc/books/v3/lists.json?api-key=P1yDSg62Aydsdh04WBBuS57pYbpBu2tb&list=trade-fiction-paperback&published-date=2019-11-11\n"
     ]
    },
    {
     "name": "stderr",
     "output_type": "stream",
     "text": [
      "C:\\Users\\melan\\AppData\\Local\\Temp\\ipykernel_21772\\1987847954.py:25: FutureWarning: pandas.io.json.json_normalize is deprecated, use pandas.json_normalize instead.\n",
      "  books = json_normalize(results[\"results\"], record_path=[\"book_details\"], meta=[\"rank\", \"rank_last_week\", \"weeks_on_list\", \"asterisk\", \"dagger\"])\n"
     ]
    },
    {
     "name": "stdout",
     "output_type": "stream",
     "text": [
      "2019-11-04\n",
      "https://api.nytimes.com/svc/books/v3/lists.json?api-key=P1yDSg62Aydsdh04WBBuS57pYbpBu2tb&list=trade-fiction-paperback&published-date=2019-11-04\n"
     ]
    },
    {
     "name": "stderr",
     "output_type": "stream",
     "text": [
      "C:\\Users\\melan\\AppData\\Local\\Temp\\ipykernel_21772\\1987847954.py:25: FutureWarning: pandas.io.json.json_normalize is deprecated, use pandas.json_normalize instead.\n",
      "  books = json_normalize(results[\"results\"], record_path=[\"book_details\"], meta=[\"rank\", \"rank_last_week\", \"weeks_on_list\", \"asterisk\", \"dagger\"])\n"
     ]
    },
    {
     "name": "stdout",
     "output_type": "stream",
     "text": [
      "2019-10-28\n",
      "https://api.nytimes.com/svc/books/v3/lists.json?api-key=P1yDSg62Aydsdh04WBBuS57pYbpBu2tb&list=trade-fiction-paperback&published-date=2019-10-28\n"
     ]
    },
    {
     "name": "stderr",
     "output_type": "stream",
     "text": [
      "C:\\Users\\melan\\AppData\\Local\\Temp\\ipykernel_21772\\1987847954.py:25: FutureWarning: pandas.io.json.json_normalize is deprecated, use pandas.json_normalize instead.\n",
      "  books = json_normalize(results[\"results\"], record_path=[\"book_details\"], meta=[\"rank\", \"rank_last_week\", \"weeks_on_list\", \"asterisk\", \"dagger\"])\n"
     ]
    },
    {
     "name": "stdout",
     "output_type": "stream",
     "text": [
      "2019-10-21\n",
      "https://api.nytimes.com/svc/books/v3/lists.json?api-key=P1yDSg62Aydsdh04WBBuS57pYbpBu2tb&list=trade-fiction-paperback&published-date=2019-10-21\n"
     ]
    },
    {
     "name": "stderr",
     "output_type": "stream",
     "text": [
      "C:\\Users\\melan\\AppData\\Local\\Temp\\ipykernel_21772\\1987847954.py:25: FutureWarning: pandas.io.json.json_normalize is deprecated, use pandas.json_normalize instead.\n",
      "  books = json_normalize(results[\"results\"], record_path=[\"book_details\"], meta=[\"rank\", \"rank_last_week\", \"weeks_on_list\", \"asterisk\", \"dagger\"])\n"
     ]
    },
    {
     "name": "stdout",
     "output_type": "stream",
     "text": [
      "2019-10-14\n",
      "https://api.nytimes.com/svc/books/v3/lists.json?api-key=P1yDSg62Aydsdh04WBBuS57pYbpBu2tb&list=trade-fiction-paperback&published-date=2019-10-14\n"
     ]
    },
    {
     "name": "stderr",
     "output_type": "stream",
     "text": [
      "C:\\Users\\melan\\AppData\\Local\\Temp\\ipykernel_21772\\1987847954.py:25: FutureWarning: pandas.io.json.json_normalize is deprecated, use pandas.json_normalize instead.\n",
      "  books = json_normalize(results[\"results\"], record_path=[\"book_details\"], meta=[\"rank\", \"rank_last_week\", \"weeks_on_list\", \"asterisk\", \"dagger\"])\n"
     ]
    },
    {
     "name": "stdout",
     "output_type": "stream",
     "text": [
      "2019-10-07\n",
      "https://api.nytimes.com/svc/books/v3/lists.json?api-key=P1yDSg62Aydsdh04WBBuS57pYbpBu2tb&list=trade-fiction-paperback&published-date=2019-10-07\n"
     ]
    },
    {
     "name": "stderr",
     "output_type": "stream",
     "text": [
      "C:\\Users\\melan\\AppData\\Local\\Temp\\ipykernel_21772\\1987847954.py:25: FutureWarning: pandas.io.json.json_normalize is deprecated, use pandas.json_normalize instead.\n",
      "  books = json_normalize(results[\"results\"], record_path=[\"book_details\"], meta=[\"rank\", \"rank_last_week\", \"weeks_on_list\", \"asterisk\", \"dagger\"])\n"
     ]
    },
    {
     "name": "stdout",
     "output_type": "stream",
     "text": [
      "2019-09-30\n",
      "https://api.nytimes.com/svc/books/v3/lists.json?api-key=P1yDSg62Aydsdh04WBBuS57pYbpBu2tb&list=trade-fiction-paperback&published-date=2019-09-30\n"
     ]
    },
    {
     "name": "stderr",
     "output_type": "stream",
     "text": [
      "C:\\Users\\melan\\AppData\\Local\\Temp\\ipykernel_21772\\1987847954.py:25: FutureWarning: pandas.io.json.json_normalize is deprecated, use pandas.json_normalize instead.\n",
      "  books = json_normalize(results[\"results\"], record_path=[\"book_details\"], meta=[\"rank\", \"rank_last_week\", \"weeks_on_list\", \"asterisk\", \"dagger\"])\n"
     ]
    },
    {
     "name": "stdout",
     "output_type": "stream",
     "text": [
      "2019-09-23\n",
      "https://api.nytimes.com/svc/books/v3/lists.json?api-key=P1yDSg62Aydsdh04WBBuS57pYbpBu2tb&list=trade-fiction-paperback&published-date=2019-09-23\n"
     ]
    },
    {
     "name": "stderr",
     "output_type": "stream",
     "text": [
      "C:\\Users\\melan\\AppData\\Local\\Temp\\ipykernel_21772\\1987847954.py:25: FutureWarning: pandas.io.json.json_normalize is deprecated, use pandas.json_normalize instead.\n",
      "  books = json_normalize(results[\"results\"], record_path=[\"book_details\"], meta=[\"rank\", \"rank_last_week\", \"weeks_on_list\", \"asterisk\", \"dagger\"])\n"
     ]
    },
    {
     "name": "stdout",
     "output_type": "stream",
     "text": [
      "2019-09-16\n",
      "https://api.nytimes.com/svc/books/v3/lists.json?api-key=P1yDSg62Aydsdh04WBBuS57pYbpBu2tb&list=trade-fiction-paperback&published-date=2019-09-16\n"
     ]
    },
    {
     "name": "stderr",
     "output_type": "stream",
     "text": [
      "C:\\Users\\melan\\AppData\\Local\\Temp\\ipykernel_21772\\1987847954.py:25: FutureWarning: pandas.io.json.json_normalize is deprecated, use pandas.json_normalize instead.\n",
      "  books = json_normalize(results[\"results\"], record_path=[\"book_details\"], meta=[\"rank\", \"rank_last_week\", \"weeks_on_list\", \"asterisk\", \"dagger\"])\n"
     ]
    },
    {
     "name": "stdout",
     "output_type": "stream",
     "text": [
      "2019-09-09\n",
      "https://api.nytimes.com/svc/books/v3/lists.json?api-key=P1yDSg62Aydsdh04WBBuS57pYbpBu2tb&list=trade-fiction-paperback&published-date=2019-09-09\n"
     ]
    },
    {
     "name": "stderr",
     "output_type": "stream",
     "text": [
      "C:\\Users\\melan\\AppData\\Local\\Temp\\ipykernel_21772\\1987847954.py:25: FutureWarning: pandas.io.json.json_normalize is deprecated, use pandas.json_normalize instead.\n",
      "  books = json_normalize(results[\"results\"], record_path=[\"book_details\"], meta=[\"rank\", \"rank_last_week\", \"weeks_on_list\", \"asterisk\", \"dagger\"])\n"
     ]
    },
    {
     "name": "stdout",
     "output_type": "stream",
     "text": [
      "2019-09-02\n",
      "https://api.nytimes.com/svc/books/v3/lists.json?api-key=P1yDSg62Aydsdh04WBBuS57pYbpBu2tb&list=trade-fiction-paperback&published-date=2019-09-02\n"
     ]
    },
    {
     "name": "stderr",
     "output_type": "stream",
     "text": [
      "C:\\Users\\melan\\AppData\\Local\\Temp\\ipykernel_21772\\1987847954.py:25: FutureWarning: pandas.io.json.json_normalize is deprecated, use pandas.json_normalize instead.\n",
      "  books = json_normalize(results[\"results\"], record_path=[\"book_details\"], meta=[\"rank\", \"rank_last_week\", \"weeks_on_list\", \"asterisk\", \"dagger\"])\n"
     ]
    },
    {
     "name": "stdout",
     "output_type": "stream",
     "text": [
      "2019-08-26\n",
      "https://api.nytimes.com/svc/books/v3/lists.json?api-key=P1yDSg62Aydsdh04WBBuS57pYbpBu2tb&list=trade-fiction-paperback&published-date=2019-08-26\n"
     ]
    },
    {
     "name": "stderr",
     "output_type": "stream",
     "text": [
      "C:\\Users\\melan\\AppData\\Local\\Temp\\ipykernel_21772\\1987847954.py:25: FutureWarning: pandas.io.json.json_normalize is deprecated, use pandas.json_normalize instead.\n",
      "  books = json_normalize(results[\"results\"], record_path=[\"book_details\"], meta=[\"rank\", \"rank_last_week\", \"weeks_on_list\", \"asterisk\", \"dagger\"])\n"
     ]
    },
    {
     "name": "stdout",
     "output_type": "stream",
     "text": [
      "2019-08-19\n",
      "https://api.nytimes.com/svc/books/v3/lists.json?api-key=P1yDSg62Aydsdh04WBBuS57pYbpBu2tb&list=trade-fiction-paperback&published-date=2019-08-19\n"
     ]
    },
    {
     "name": "stderr",
     "output_type": "stream",
     "text": [
      "C:\\Users\\melan\\AppData\\Local\\Temp\\ipykernel_21772\\1987847954.py:25: FutureWarning: pandas.io.json.json_normalize is deprecated, use pandas.json_normalize instead.\n",
      "  books = json_normalize(results[\"results\"], record_path=[\"book_details\"], meta=[\"rank\", \"rank_last_week\", \"weeks_on_list\", \"asterisk\", \"dagger\"])\n"
     ]
    },
    {
     "name": "stdout",
     "output_type": "stream",
     "text": [
      "2019-08-12\n",
      "https://api.nytimes.com/svc/books/v3/lists.json?api-key=P1yDSg62Aydsdh04WBBuS57pYbpBu2tb&list=trade-fiction-paperback&published-date=2019-08-12\n"
     ]
    },
    {
     "name": "stderr",
     "output_type": "stream",
     "text": [
      "C:\\Users\\melan\\AppData\\Local\\Temp\\ipykernel_21772\\1987847954.py:25: FutureWarning: pandas.io.json.json_normalize is deprecated, use pandas.json_normalize instead.\n",
      "  books = json_normalize(results[\"results\"], record_path=[\"book_details\"], meta=[\"rank\", \"rank_last_week\", \"weeks_on_list\", \"asterisk\", \"dagger\"])\n"
     ]
    },
    {
     "name": "stdout",
     "output_type": "stream",
     "text": [
      "2019-08-05\n",
      "https://api.nytimes.com/svc/books/v3/lists.json?api-key=P1yDSg62Aydsdh04WBBuS57pYbpBu2tb&list=trade-fiction-paperback&published-date=2019-08-05\n"
     ]
    },
    {
     "name": "stderr",
     "output_type": "stream",
     "text": [
      "C:\\Users\\melan\\AppData\\Local\\Temp\\ipykernel_21772\\1987847954.py:25: FutureWarning: pandas.io.json.json_normalize is deprecated, use pandas.json_normalize instead.\n",
      "  books = json_normalize(results[\"results\"], record_path=[\"book_details\"], meta=[\"rank\", \"rank_last_week\", \"weeks_on_list\", \"asterisk\", \"dagger\"])\n"
     ]
    },
    {
     "name": "stdout",
     "output_type": "stream",
     "text": [
      "2019-07-29\n",
      "https://api.nytimes.com/svc/books/v3/lists.json?api-key=P1yDSg62Aydsdh04WBBuS57pYbpBu2tb&list=trade-fiction-paperback&published-date=2019-07-29\n"
     ]
    },
    {
     "name": "stderr",
     "output_type": "stream",
     "text": [
      "C:\\Users\\melan\\AppData\\Local\\Temp\\ipykernel_21772\\1987847954.py:25: FutureWarning: pandas.io.json.json_normalize is deprecated, use pandas.json_normalize instead.\n",
      "  books = json_normalize(results[\"results\"], record_path=[\"book_details\"], meta=[\"rank\", \"rank_last_week\", \"weeks_on_list\", \"asterisk\", \"dagger\"])\n"
     ]
    },
    {
     "name": "stdout",
     "output_type": "stream",
     "text": [
      "2019-07-22\n",
      "https://api.nytimes.com/svc/books/v3/lists.json?api-key=P1yDSg62Aydsdh04WBBuS57pYbpBu2tb&list=trade-fiction-paperback&published-date=2019-07-22\n"
     ]
    },
    {
     "name": "stderr",
     "output_type": "stream",
     "text": [
      "C:\\Users\\melan\\AppData\\Local\\Temp\\ipykernel_21772\\1987847954.py:25: FutureWarning: pandas.io.json.json_normalize is deprecated, use pandas.json_normalize instead.\n",
      "  books = json_normalize(results[\"results\"], record_path=[\"book_details\"], meta=[\"rank\", \"rank_last_week\", \"weeks_on_list\", \"asterisk\", \"dagger\"])\n"
     ]
    },
    {
     "name": "stdout",
     "output_type": "stream",
     "text": [
      "2019-07-15\n",
      "https://api.nytimes.com/svc/books/v3/lists.json?api-key=P1yDSg62Aydsdh04WBBuS57pYbpBu2tb&list=trade-fiction-paperback&published-date=2019-07-15\n"
     ]
    },
    {
     "name": "stderr",
     "output_type": "stream",
     "text": [
      "C:\\Users\\melan\\AppData\\Local\\Temp\\ipykernel_21772\\1987847954.py:25: FutureWarning: pandas.io.json.json_normalize is deprecated, use pandas.json_normalize instead.\n",
      "  books = json_normalize(results[\"results\"], record_path=[\"book_details\"], meta=[\"rank\", \"rank_last_week\", \"weeks_on_list\", \"asterisk\", \"dagger\"])\n"
     ]
    },
    {
     "name": "stdout",
     "output_type": "stream",
     "text": [
      "2019-07-08\n",
      "https://api.nytimes.com/svc/books/v3/lists.json?api-key=P1yDSg62Aydsdh04WBBuS57pYbpBu2tb&list=trade-fiction-paperback&published-date=2019-07-08\n"
     ]
    },
    {
     "name": "stderr",
     "output_type": "stream",
     "text": [
      "C:\\Users\\melan\\AppData\\Local\\Temp\\ipykernel_21772\\1987847954.py:25: FutureWarning: pandas.io.json.json_normalize is deprecated, use pandas.json_normalize instead.\n",
      "  books = json_normalize(results[\"results\"], record_path=[\"book_details\"], meta=[\"rank\", \"rank_last_week\", \"weeks_on_list\", \"asterisk\", \"dagger\"])\n"
     ]
    },
    {
     "name": "stdout",
     "output_type": "stream",
     "text": [
      "2019-07-01\n",
      "https://api.nytimes.com/svc/books/v3/lists.json?api-key=P1yDSg62Aydsdh04WBBuS57pYbpBu2tb&list=trade-fiction-paperback&published-date=2019-07-01\n"
     ]
    },
    {
     "name": "stderr",
     "output_type": "stream",
     "text": [
      "C:\\Users\\melan\\AppData\\Local\\Temp\\ipykernel_21772\\1987847954.py:25: FutureWarning: pandas.io.json.json_normalize is deprecated, use pandas.json_normalize instead.\n",
      "  books = json_normalize(results[\"results\"], record_path=[\"book_details\"], meta=[\"rank\", \"rank_last_week\", \"weeks_on_list\", \"asterisk\", \"dagger\"])\n"
     ]
    },
    {
     "name": "stdout",
     "output_type": "stream",
     "text": [
      "2019-06-24\n",
      "https://api.nytimes.com/svc/books/v3/lists.json?api-key=P1yDSg62Aydsdh04WBBuS57pYbpBu2tb&list=trade-fiction-paperback&published-date=2019-06-24\n"
     ]
    },
    {
     "name": "stderr",
     "output_type": "stream",
     "text": [
      "C:\\Users\\melan\\AppData\\Local\\Temp\\ipykernel_21772\\1987847954.py:25: FutureWarning: pandas.io.json.json_normalize is deprecated, use pandas.json_normalize instead.\n",
      "  books = json_normalize(results[\"results\"], record_path=[\"book_details\"], meta=[\"rank\", \"rank_last_week\", \"weeks_on_list\", \"asterisk\", \"dagger\"])\n"
     ]
    },
    {
     "name": "stdout",
     "output_type": "stream",
     "text": [
      "2019-06-17\n",
      "https://api.nytimes.com/svc/books/v3/lists.json?api-key=P1yDSg62Aydsdh04WBBuS57pYbpBu2tb&list=trade-fiction-paperback&published-date=2019-06-17\n"
     ]
    },
    {
     "name": "stderr",
     "output_type": "stream",
     "text": [
      "C:\\Users\\melan\\AppData\\Local\\Temp\\ipykernel_21772\\1987847954.py:25: FutureWarning: pandas.io.json.json_normalize is deprecated, use pandas.json_normalize instead.\n",
      "  books = json_normalize(results[\"results\"], record_path=[\"book_details\"], meta=[\"rank\", \"rank_last_week\", \"weeks_on_list\", \"asterisk\", \"dagger\"])\n"
     ]
    },
    {
     "name": "stdout",
     "output_type": "stream",
     "text": [
      "2019-06-10\n",
      "https://api.nytimes.com/svc/books/v3/lists.json?api-key=P1yDSg62Aydsdh04WBBuS57pYbpBu2tb&list=trade-fiction-paperback&published-date=2019-06-10\n"
     ]
    },
    {
     "name": "stderr",
     "output_type": "stream",
     "text": [
      "C:\\Users\\melan\\AppData\\Local\\Temp\\ipykernel_21772\\1987847954.py:25: FutureWarning: pandas.io.json.json_normalize is deprecated, use pandas.json_normalize instead.\n",
      "  books = json_normalize(results[\"results\"], record_path=[\"book_details\"], meta=[\"rank\", \"rank_last_week\", \"weeks_on_list\", \"asterisk\", \"dagger\"])\n"
     ]
    },
    {
     "name": "stdout",
     "output_type": "stream",
     "text": [
      "2019-06-03\n",
      "https://api.nytimes.com/svc/books/v3/lists.json?api-key=P1yDSg62Aydsdh04WBBuS57pYbpBu2tb&list=trade-fiction-paperback&published-date=2019-06-03\n"
     ]
    },
    {
     "name": "stderr",
     "output_type": "stream",
     "text": [
      "C:\\Users\\melan\\AppData\\Local\\Temp\\ipykernel_21772\\1987847954.py:25: FutureWarning: pandas.io.json.json_normalize is deprecated, use pandas.json_normalize instead.\n",
      "  books = json_normalize(results[\"results\"], record_path=[\"book_details\"], meta=[\"rank\", \"rank_last_week\", \"weeks_on_list\", \"asterisk\", \"dagger\"])\n"
     ]
    },
    {
     "name": "stdout",
     "output_type": "stream",
     "text": [
      "2019-05-27\n",
      "https://api.nytimes.com/svc/books/v3/lists.json?api-key=P1yDSg62Aydsdh04WBBuS57pYbpBu2tb&list=trade-fiction-paperback&published-date=2019-05-27\n"
     ]
    },
    {
     "name": "stderr",
     "output_type": "stream",
     "text": [
      "C:\\Users\\melan\\AppData\\Local\\Temp\\ipykernel_21772\\1987847954.py:25: FutureWarning: pandas.io.json.json_normalize is deprecated, use pandas.json_normalize instead.\n",
      "  books = json_normalize(results[\"results\"], record_path=[\"book_details\"], meta=[\"rank\", \"rank_last_week\", \"weeks_on_list\", \"asterisk\", \"dagger\"])\n"
     ]
    },
    {
     "name": "stdout",
     "output_type": "stream",
     "text": [
      "2019-05-20\n",
      "https://api.nytimes.com/svc/books/v3/lists.json?api-key=P1yDSg62Aydsdh04WBBuS57pYbpBu2tb&list=trade-fiction-paperback&published-date=2019-05-20\n"
     ]
    },
    {
     "name": "stderr",
     "output_type": "stream",
     "text": [
      "C:\\Users\\melan\\AppData\\Local\\Temp\\ipykernel_21772\\1987847954.py:25: FutureWarning: pandas.io.json.json_normalize is deprecated, use pandas.json_normalize instead.\n",
      "  books = json_normalize(results[\"results\"], record_path=[\"book_details\"], meta=[\"rank\", \"rank_last_week\", \"weeks_on_list\", \"asterisk\", \"dagger\"])\n"
     ]
    },
    {
     "name": "stdout",
     "output_type": "stream",
     "text": [
      "2019-05-13\n",
      "https://api.nytimes.com/svc/books/v3/lists.json?api-key=P1yDSg62Aydsdh04WBBuS57pYbpBu2tb&list=trade-fiction-paperback&published-date=2019-05-13\n"
     ]
    },
    {
     "name": "stderr",
     "output_type": "stream",
     "text": [
      "C:\\Users\\melan\\AppData\\Local\\Temp\\ipykernel_21772\\1987847954.py:25: FutureWarning: pandas.io.json.json_normalize is deprecated, use pandas.json_normalize instead.\n",
      "  books = json_normalize(results[\"results\"], record_path=[\"book_details\"], meta=[\"rank\", \"rank_last_week\", \"weeks_on_list\", \"asterisk\", \"dagger\"])\n"
     ]
    },
    {
     "name": "stdout",
     "output_type": "stream",
     "text": [
      "2019-05-06\n",
      "https://api.nytimes.com/svc/books/v3/lists.json?api-key=P1yDSg62Aydsdh04WBBuS57pYbpBu2tb&list=trade-fiction-paperback&published-date=2019-05-06\n"
     ]
    },
    {
     "name": "stderr",
     "output_type": "stream",
     "text": [
      "C:\\Users\\melan\\AppData\\Local\\Temp\\ipykernel_21772\\1987847954.py:25: FutureWarning: pandas.io.json.json_normalize is deprecated, use pandas.json_normalize instead.\n",
      "  books = json_normalize(results[\"results\"], record_path=[\"book_details\"], meta=[\"rank\", \"rank_last_week\", \"weeks_on_list\", \"asterisk\", \"dagger\"])\n"
     ]
    },
    {
     "name": "stdout",
     "output_type": "stream",
     "text": [
      "2019-04-29\n",
      "https://api.nytimes.com/svc/books/v3/lists.json?api-key=P1yDSg62Aydsdh04WBBuS57pYbpBu2tb&list=trade-fiction-paperback&published-date=2019-04-29\n"
     ]
    },
    {
     "name": "stderr",
     "output_type": "stream",
     "text": [
      "C:\\Users\\melan\\AppData\\Local\\Temp\\ipykernel_21772\\1987847954.py:25: FutureWarning: pandas.io.json.json_normalize is deprecated, use pandas.json_normalize instead.\n",
      "  books = json_normalize(results[\"results\"], record_path=[\"book_details\"], meta=[\"rank\", \"rank_last_week\", \"weeks_on_list\", \"asterisk\", \"dagger\"])\n"
     ]
    },
    {
     "name": "stdout",
     "output_type": "stream",
     "text": [
      "2019-04-22\n",
      "https://api.nytimes.com/svc/books/v3/lists.json?api-key=P1yDSg62Aydsdh04WBBuS57pYbpBu2tb&list=trade-fiction-paperback&published-date=2019-04-22\n"
     ]
    },
    {
     "name": "stderr",
     "output_type": "stream",
     "text": [
      "C:\\Users\\melan\\AppData\\Local\\Temp\\ipykernel_21772\\1987847954.py:25: FutureWarning: pandas.io.json.json_normalize is deprecated, use pandas.json_normalize instead.\n",
      "  books = json_normalize(results[\"results\"], record_path=[\"book_details\"], meta=[\"rank\", \"rank_last_week\", \"weeks_on_list\", \"asterisk\", \"dagger\"])\n"
     ]
    },
    {
     "name": "stdout",
     "output_type": "stream",
     "text": [
      "2019-04-15\n",
      "https://api.nytimes.com/svc/books/v3/lists.json?api-key=P1yDSg62Aydsdh04WBBuS57pYbpBu2tb&list=trade-fiction-paperback&published-date=2019-04-15\n"
     ]
    },
    {
     "name": "stderr",
     "output_type": "stream",
     "text": [
      "C:\\Users\\melan\\AppData\\Local\\Temp\\ipykernel_21772\\1987847954.py:25: FutureWarning: pandas.io.json.json_normalize is deprecated, use pandas.json_normalize instead.\n",
      "  books = json_normalize(results[\"results\"], record_path=[\"book_details\"], meta=[\"rank\", \"rank_last_week\", \"weeks_on_list\", \"asterisk\", \"dagger\"])\n"
     ]
    },
    {
     "name": "stdout",
     "output_type": "stream",
     "text": [
      "2019-04-08\n",
      "https://api.nytimes.com/svc/books/v3/lists.json?api-key=P1yDSg62Aydsdh04WBBuS57pYbpBu2tb&list=trade-fiction-paperback&published-date=2019-04-08\n"
     ]
    },
    {
     "name": "stderr",
     "output_type": "stream",
     "text": [
      "C:\\Users\\melan\\AppData\\Local\\Temp\\ipykernel_21772\\1987847954.py:25: FutureWarning: pandas.io.json.json_normalize is deprecated, use pandas.json_normalize instead.\n",
      "  books = json_normalize(results[\"results\"], record_path=[\"book_details\"], meta=[\"rank\", \"rank_last_week\", \"weeks_on_list\", \"asterisk\", \"dagger\"])\n"
     ]
    },
    {
     "name": "stdout",
     "output_type": "stream",
     "text": [
      "2019-04-01\n",
      "https://api.nytimes.com/svc/books/v3/lists.json?api-key=P1yDSg62Aydsdh04WBBuS57pYbpBu2tb&list=trade-fiction-paperback&published-date=2019-04-01\n"
     ]
    },
    {
     "name": "stderr",
     "output_type": "stream",
     "text": [
      "C:\\Users\\melan\\AppData\\Local\\Temp\\ipykernel_21772\\1987847954.py:25: FutureWarning: pandas.io.json.json_normalize is deprecated, use pandas.json_normalize instead.\n",
      "  books = json_normalize(results[\"results\"], record_path=[\"book_details\"], meta=[\"rank\", \"rank_last_week\", \"weeks_on_list\", \"asterisk\", \"dagger\"])\n"
     ]
    },
    {
     "name": "stdout",
     "output_type": "stream",
     "text": [
      "2019-03-25\n",
      "https://api.nytimes.com/svc/books/v3/lists.json?api-key=P1yDSg62Aydsdh04WBBuS57pYbpBu2tb&list=trade-fiction-paperback&published-date=2019-03-25\n"
     ]
    },
    {
     "name": "stderr",
     "output_type": "stream",
     "text": [
      "C:\\Users\\melan\\AppData\\Local\\Temp\\ipykernel_21772\\1987847954.py:25: FutureWarning: pandas.io.json.json_normalize is deprecated, use pandas.json_normalize instead.\n",
      "  books = json_normalize(results[\"results\"], record_path=[\"book_details\"], meta=[\"rank\", \"rank_last_week\", \"weeks_on_list\", \"asterisk\", \"dagger\"])\n"
     ]
    },
    {
     "name": "stdout",
     "output_type": "stream",
     "text": [
      "2019-03-18\n",
      "https://api.nytimes.com/svc/books/v3/lists.json?api-key=P1yDSg62Aydsdh04WBBuS57pYbpBu2tb&list=trade-fiction-paperback&published-date=2019-03-18\n"
     ]
    },
    {
     "name": "stderr",
     "output_type": "stream",
     "text": [
      "C:\\Users\\melan\\AppData\\Local\\Temp\\ipykernel_21772\\1987847954.py:25: FutureWarning: pandas.io.json.json_normalize is deprecated, use pandas.json_normalize instead.\n",
      "  books = json_normalize(results[\"results\"], record_path=[\"book_details\"], meta=[\"rank\", \"rank_last_week\", \"weeks_on_list\", \"asterisk\", \"dagger\"])\n"
     ]
    },
    {
     "name": "stdout",
     "output_type": "stream",
     "text": [
      "2019-03-11\n",
      "https://api.nytimes.com/svc/books/v3/lists.json?api-key=P1yDSg62Aydsdh04WBBuS57pYbpBu2tb&list=trade-fiction-paperback&published-date=2019-03-11\n"
     ]
    },
    {
     "name": "stderr",
     "output_type": "stream",
     "text": [
      "C:\\Users\\melan\\AppData\\Local\\Temp\\ipykernel_21772\\1987847954.py:25: FutureWarning: pandas.io.json.json_normalize is deprecated, use pandas.json_normalize instead.\n",
      "  books = json_normalize(results[\"results\"], record_path=[\"book_details\"], meta=[\"rank\", \"rank_last_week\", \"weeks_on_list\", \"asterisk\", \"dagger\"])\n"
     ]
    },
    {
     "name": "stdout",
     "output_type": "stream",
     "text": [
      "2019-03-04\n",
      "https://api.nytimes.com/svc/books/v3/lists.json?api-key=P1yDSg62Aydsdh04WBBuS57pYbpBu2tb&list=trade-fiction-paperback&published-date=2019-03-04\n"
     ]
    },
    {
     "name": "stderr",
     "output_type": "stream",
     "text": [
      "C:\\Users\\melan\\AppData\\Local\\Temp\\ipykernel_21772\\1987847954.py:25: FutureWarning: pandas.io.json.json_normalize is deprecated, use pandas.json_normalize instead.\n",
      "  books = json_normalize(results[\"results\"], record_path=[\"book_details\"], meta=[\"rank\", \"rank_last_week\", \"weeks_on_list\", \"asterisk\", \"dagger\"])\n"
     ]
    },
    {
     "name": "stdout",
     "output_type": "stream",
     "text": [
      "2019-02-25\n",
      "https://api.nytimes.com/svc/books/v3/lists.json?api-key=P1yDSg62Aydsdh04WBBuS57pYbpBu2tb&list=trade-fiction-paperback&published-date=2019-02-25\n"
     ]
    },
    {
     "name": "stderr",
     "output_type": "stream",
     "text": [
      "C:\\Users\\melan\\AppData\\Local\\Temp\\ipykernel_21772\\1987847954.py:25: FutureWarning: pandas.io.json.json_normalize is deprecated, use pandas.json_normalize instead.\n",
      "  books = json_normalize(results[\"results\"], record_path=[\"book_details\"], meta=[\"rank\", \"rank_last_week\", \"weeks_on_list\", \"asterisk\", \"dagger\"])\n"
     ]
    },
    {
     "name": "stdout",
     "output_type": "stream",
     "text": [
      "2019-02-18\n",
      "https://api.nytimes.com/svc/books/v3/lists.json?api-key=P1yDSg62Aydsdh04WBBuS57pYbpBu2tb&list=trade-fiction-paperback&published-date=2019-02-18\n"
     ]
    },
    {
     "name": "stderr",
     "output_type": "stream",
     "text": [
      "C:\\Users\\melan\\AppData\\Local\\Temp\\ipykernel_21772\\1987847954.py:25: FutureWarning: pandas.io.json.json_normalize is deprecated, use pandas.json_normalize instead.\n",
      "  books = json_normalize(results[\"results\"], record_path=[\"book_details\"], meta=[\"rank\", \"rank_last_week\", \"weeks_on_list\", \"asterisk\", \"dagger\"])\n"
     ]
    },
    {
     "name": "stdout",
     "output_type": "stream",
     "text": [
      "2019-02-11\n",
      "https://api.nytimes.com/svc/books/v3/lists.json?api-key=P1yDSg62Aydsdh04WBBuS57pYbpBu2tb&list=trade-fiction-paperback&published-date=2019-02-11\n"
     ]
    },
    {
     "name": "stderr",
     "output_type": "stream",
     "text": [
      "C:\\Users\\melan\\AppData\\Local\\Temp\\ipykernel_21772\\1987847954.py:25: FutureWarning: pandas.io.json.json_normalize is deprecated, use pandas.json_normalize instead.\n",
      "  books = json_normalize(results[\"results\"], record_path=[\"book_details\"], meta=[\"rank\", \"rank_last_week\", \"weeks_on_list\", \"asterisk\", \"dagger\"])\n"
     ]
    },
    {
     "name": "stdout",
     "output_type": "stream",
     "text": [
      "2019-02-04\n",
      "https://api.nytimes.com/svc/books/v3/lists.json?api-key=P1yDSg62Aydsdh04WBBuS57pYbpBu2tb&list=trade-fiction-paperback&published-date=2019-02-04\n"
     ]
    },
    {
     "name": "stderr",
     "output_type": "stream",
     "text": [
      "C:\\Users\\melan\\AppData\\Local\\Temp\\ipykernel_21772\\1987847954.py:25: FutureWarning: pandas.io.json.json_normalize is deprecated, use pandas.json_normalize instead.\n",
      "  books = json_normalize(results[\"results\"], record_path=[\"book_details\"], meta=[\"rank\", \"rank_last_week\", \"weeks_on_list\", \"asterisk\", \"dagger\"])\n"
     ]
    },
    {
     "name": "stdout",
     "output_type": "stream",
     "text": [
      "2019-01-28\n",
      "https://api.nytimes.com/svc/books/v3/lists.json?api-key=P1yDSg62Aydsdh04WBBuS57pYbpBu2tb&list=trade-fiction-paperback&published-date=2019-01-28\n"
     ]
    },
    {
     "name": "stderr",
     "output_type": "stream",
     "text": [
      "C:\\Users\\melan\\AppData\\Local\\Temp\\ipykernel_21772\\1987847954.py:25: FutureWarning: pandas.io.json.json_normalize is deprecated, use pandas.json_normalize instead.\n",
      "  books = json_normalize(results[\"results\"], record_path=[\"book_details\"], meta=[\"rank\", \"rank_last_week\", \"weeks_on_list\", \"asterisk\", \"dagger\"])\n"
     ]
    },
    {
     "name": "stdout",
     "output_type": "stream",
     "text": [
      "2019-01-21\n",
      "https://api.nytimes.com/svc/books/v3/lists.json?api-key=P1yDSg62Aydsdh04WBBuS57pYbpBu2tb&list=trade-fiction-paperback&published-date=2019-01-21\n"
     ]
    },
    {
     "name": "stderr",
     "output_type": "stream",
     "text": [
      "C:\\Users\\melan\\AppData\\Local\\Temp\\ipykernel_21772\\1987847954.py:25: FutureWarning: pandas.io.json.json_normalize is deprecated, use pandas.json_normalize instead.\n",
      "  books = json_normalize(results[\"results\"], record_path=[\"book_details\"], meta=[\"rank\", \"rank_last_week\", \"weeks_on_list\", \"asterisk\", \"dagger\"])\n"
     ]
    },
    {
     "name": "stdout",
     "output_type": "stream",
     "text": [
      "2019-01-14\n",
      "https://api.nytimes.com/svc/books/v3/lists.json?api-key=P1yDSg62Aydsdh04WBBuS57pYbpBu2tb&list=trade-fiction-paperback&published-date=2019-01-14\n"
     ]
    },
    {
     "name": "stderr",
     "output_type": "stream",
     "text": [
      "C:\\Users\\melan\\AppData\\Local\\Temp\\ipykernel_21772\\1987847954.py:25: FutureWarning: pandas.io.json.json_normalize is deprecated, use pandas.json_normalize instead.\n",
      "  books = json_normalize(results[\"results\"], record_path=[\"book_details\"], meta=[\"rank\", \"rank_last_week\", \"weeks_on_list\", \"asterisk\", \"dagger\"])\n"
     ]
    },
    {
     "name": "stdout",
     "output_type": "stream",
     "text": [
      "2019-01-07\n",
      "https://api.nytimes.com/svc/books/v3/lists.json?api-key=P1yDSg62Aydsdh04WBBuS57pYbpBu2tb&list=trade-fiction-paperback&published-date=2019-01-07\n"
     ]
    },
    {
     "name": "stderr",
     "output_type": "stream",
     "text": [
      "C:\\Users\\melan\\AppData\\Local\\Temp\\ipykernel_21772\\1987847954.py:25: FutureWarning: pandas.io.json.json_normalize is deprecated, use pandas.json_normalize instead.\n",
      "  books = json_normalize(results[\"results\"], record_path=[\"book_details\"], meta=[\"rank\", \"rank_last_week\", \"weeks_on_list\", \"asterisk\", \"dagger\"])\n"
     ]
    },
    {
     "name": "stdout",
     "output_type": "stream",
     "text": [
      "2018-12-31\n",
      "https://api.nytimes.com/svc/books/v3/lists.json?api-key=P1yDSg62Aydsdh04WBBuS57pYbpBu2tb&list=trade-fiction-paperback&published-date=2018-12-31\n"
     ]
    },
    {
     "name": "stderr",
     "output_type": "stream",
     "text": [
      "C:\\Users\\melan\\AppData\\Local\\Temp\\ipykernel_21772\\1987847954.py:25: FutureWarning: pandas.io.json.json_normalize is deprecated, use pandas.json_normalize instead.\n",
      "  books = json_normalize(results[\"results\"], record_path=[\"book_details\"], meta=[\"rank\", \"rank_last_week\", \"weeks_on_list\", \"asterisk\", \"dagger\"])\n"
     ]
    },
    {
     "name": "stdout",
     "output_type": "stream",
     "text": [
      "2018-12-24\n",
      "https://api.nytimes.com/svc/books/v3/lists.json?api-key=P1yDSg62Aydsdh04WBBuS57pYbpBu2tb&list=trade-fiction-paperback&published-date=2018-12-24\n"
     ]
    },
    {
     "name": "stderr",
     "output_type": "stream",
     "text": [
      "C:\\Users\\melan\\AppData\\Local\\Temp\\ipykernel_21772\\1987847954.py:25: FutureWarning: pandas.io.json.json_normalize is deprecated, use pandas.json_normalize instead.\n",
      "  books = json_normalize(results[\"results\"], record_path=[\"book_details\"], meta=[\"rank\", \"rank_last_week\", \"weeks_on_list\", \"asterisk\", \"dagger\"])\n"
     ]
    },
    {
     "name": "stdout",
     "output_type": "stream",
     "text": [
      "2018-12-17\n",
      "https://api.nytimes.com/svc/books/v3/lists.json?api-key=P1yDSg62Aydsdh04WBBuS57pYbpBu2tb&list=trade-fiction-paperback&published-date=2018-12-17\n"
     ]
    },
    {
     "name": "stderr",
     "output_type": "stream",
     "text": [
      "C:\\Users\\melan\\AppData\\Local\\Temp\\ipykernel_21772\\1987847954.py:25: FutureWarning: pandas.io.json.json_normalize is deprecated, use pandas.json_normalize instead.\n",
      "  books = json_normalize(results[\"results\"], record_path=[\"book_details\"], meta=[\"rank\", \"rank_last_week\", \"weeks_on_list\", \"asterisk\", \"dagger\"])\n"
     ]
    },
    {
     "name": "stdout",
     "output_type": "stream",
     "text": [
      "2018-12-10\n",
      "https://api.nytimes.com/svc/books/v3/lists.json?api-key=P1yDSg62Aydsdh04WBBuS57pYbpBu2tb&list=trade-fiction-paperback&published-date=2018-12-10\n"
     ]
    },
    {
     "name": "stderr",
     "output_type": "stream",
     "text": [
      "C:\\Users\\melan\\AppData\\Local\\Temp\\ipykernel_21772\\1987847954.py:25: FutureWarning: pandas.io.json.json_normalize is deprecated, use pandas.json_normalize instead.\n",
      "  books = json_normalize(results[\"results\"], record_path=[\"book_details\"], meta=[\"rank\", \"rank_last_week\", \"weeks_on_list\", \"asterisk\", \"dagger\"])\n"
     ]
    },
    {
     "name": "stdout",
     "output_type": "stream",
     "text": [
      "2018-12-03\n",
      "https://api.nytimes.com/svc/books/v3/lists.json?api-key=P1yDSg62Aydsdh04WBBuS57pYbpBu2tb&list=trade-fiction-paperback&published-date=2018-12-03\n"
     ]
    },
    {
     "name": "stderr",
     "output_type": "stream",
     "text": [
      "C:\\Users\\melan\\AppData\\Local\\Temp\\ipykernel_21772\\1987847954.py:25: FutureWarning: pandas.io.json.json_normalize is deprecated, use pandas.json_normalize instead.\n",
      "  books = json_normalize(results[\"results\"], record_path=[\"book_details\"], meta=[\"rank\", \"rank_last_week\", \"weeks_on_list\", \"asterisk\", \"dagger\"])\n"
     ]
    },
    {
     "name": "stdout",
     "output_type": "stream",
     "text": [
      "2018-11-26\n",
      "https://api.nytimes.com/svc/books/v3/lists.json?api-key=P1yDSg62Aydsdh04WBBuS57pYbpBu2tb&list=trade-fiction-paperback&published-date=2018-11-26\n"
     ]
    },
    {
     "name": "stderr",
     "output_type": "stream",
     "text": [
      "C:\\Users\\melan\\AppData\\Local\\Temp\\ipykernel_21772\\1987847954.py:25: FutureWarning: pandas.io.json.json_normalize is deprecated, use pandas.json_normalize instead.\n",
      "  books = json_normalize(results[\"results\"], record_path=[\"book_details\"], meta=[\"rank\", \"rank_last_week\", \"weeks_on_list\", \"asterisk\", \"dagger\"])\n"
     ]
    },
    {
     "name": "stdout",
     "output_type": "stream",
     "text": [
      "2018-11-19\n",
      "https://api.nytimes.com/svc/books/v3/lists.json?api-key=P1yDSg62Aydsdh04WBBuS57pYbpBu2tb&list=trade-fiction-paperback&published-date=2018-11-19\n"
     ]
    },
    {
     "name": "stderr",
     "output_type": "stream",
     "text": [
      "C:\\Users\\melan\\AppData\\Local\\Temp\\ipykernel_21772\\1987847954.py:25: FutureWarning: pandas.io.json.json_normalize is deprecated, use pandas.json_normalize instead.\n",
      "  books = json_normalize(results[\"results\"], record_path=[\"book_details\"], meta=[\"rank\", \"rank_last_week\", \"weeks_on_list\", \"asterisk\", \"dagger\"])\n"
     ]
    },
    {
     "name": "stdout",
     "output_type": "stream",
     "text": [
      "2018-11-12\n",
      "https://api.nytimes.com/svc/books/v3/lists.json?api-key=P1yDSg62Aydsdh04WBBuS57pYbpBu2tb&list=trade-fiction-paperback&published-date=2018-11-12\n"
     ]
    },
    {
     "name": "stderr",
     "output_type": "stream",
     "text": [
      "C:\\Users\\melan\\AppData\\Local\\Temp\\ipykernel_21772\\1987847954.py:25: FutureWarning: pandas.io.json.json_normalize is deprecated, use pandas.json_normalize instead.\n",
      "  books = json_normalize(results[\"results\"], record_path=[\"book_details\"], meta=[\"rank\", \"rank_last_week\", \"weeks_on_list\", \"asterisk\", \"dagger\"])\n"
     ]
    },
    {
     "name": "stdout",
     "output_type": "stream",
     "text": [
      "2018-11-05\n",
      "https://api.nytimes.com/svc/books/v3/lists.json?api-key=P1yDSg62Aydsdh04WBBuS57pYbpBu2tb&list=trade-fiction-paperback&published-date=2018-11-05\n"
     ]
    },
    {
     "name": "stderr",
     "output_type": "stream",
     "text": [
      "C:\\Users\\melan\\AppData\\Local\\Temp\\ipykernel_21772\\1987847954.py:25: FutureWarning: pandas.io.json.json_normalize is deprecated, use pandas.json_normalize instead.\n",
      "  books = json_normalize(results[\"results\"], record_path=[\"book_details\"], meta=[\"rank\", \"rank_last_week\", \"weeks_on_list\", \"asterisk\", \"dagger\"])\n"
     ]
    },
    {
     "name": "stdout",
     "output_type": "stream",
     "text": [
      "2018-10-29\n",
      "https://api.nytimes.com/svc/books/v3/lists.json?api-key=P1yDSg62Aydsdh04WBBuS57pYbpBu2tb&list=trade-fiction-paperback&published-date=2018-10-29\n"
     ]
    },
    {
     "name": "stderr",
     "output_type": "stream",
     "text": [
      "C:\\Users\\melan\\AppData\\Local\\Temp\\ipykernel_21772\\1987847954.py:25: FutureWarning: pandas.io.json.json_normalize is deprecated, use pandas.json_normalize instead.\n",
      "  books = json_normalize(results[\"results\"], record_path=[\"book_details\"], meta=[\"rank\", \"rank_last_week\", \"weeks_on_list\", \"asterisk\", \"dagger\"])\n"
     ]
    },
    {
     "name": "stdout",
     "output_type": "stream",
     "text": [
      "2018-10-22\n",
      "https://api.nytimes.com/svc/books/v3/lists.json?api-key=P1yDSg62Aydsdh04WBBuS57pYbpBu2tb&list=trade-fiction-paperback&published-date=2018-10-22\n"
     ]
    },
    {
     "name": "stderr",
     "output_type": "stream",
     "text": [
      "C:\\Users\\melan\\AppData\\Local\\Temp\\ipykernel_21772\\1987847954.py:25: FutureWarning: pandas.io.json.json_normalize is deprecated, use pandas.json_normalize instead.\n",
      "  books = json_normalize(results[\"results\"], record_path=[\"book_details\"], meta=[\"rank\", \"rank_last_week\", \"weeks_on_list\", \"asterisk\", \"dagger\"])\n"
     ]
    },
    {
     "name": "stdout",
     "output_type": "stream",
     "text": [
      "2018-10-15\n",
      "https://api.nytimes.com/svc/books/v3/lists.json?api-key=P1yDSg62Aydsdh04WBBuS57pYbpBu2tb&list=trade-fiction-paperback&published-date=2018-10-15\n"
     ]
    },
    {
     "name": "stderr",
     "output_type": "stream",
     "text": [
      "C:\\Users\\melan\\AppData\\Local\\Temp\\ipykernel_21772\\1987847954.py:25: FutureWarning: pandas.io.json.json_normalize is deprecated, use pandas.json_normalize instead.\n",
      "  books = json_normalize(results[\"results\"], record_path=[\"book_details\"], meta=[\"rank\", \"rank_last_week\", \"weeks_on_list\", \"asterisk\", \"dagger\"])\n"
     ]
    },
    {
     "name": "stdout",
     "output_type": "stream",
     "text": [
      "2018-10-08\n",
      "https://api.nytimes.com/svc/books/v3/lists.json?api-key=P1yDSg62Aydsdh04WBBuS57pYbpBu2tb&list=trade-fiction-paperback&published-date=2018-10-08\n"
     ]
    },
    {
     "name": "stderr",
     "output_type": "stream",
     "text": [
      "C:\\Users\\melan\\AppData\\Local\\Temp\\ipykernel_21772\\1987847954.py:25: FutureWarning: pandas.io.json.json_normalize is deprecated, use pandas.json_normalize instead.\n",
      "  books = json_normalize(results[\"results\"], record_path=[\"book_details\"], meta=[\"rank\", \"rank_last_week\", \"weeks_on_list\", \"asterisk\", \"dagger\"])\n"
     ]
    },
    {
     "name": "stdout",
     "output_type": "stream",
     "text": [
      "2018-10-01\n",
      "https://api.nytimes.com/svc/books/v3/lists.json?api-key=P1yDSg62Aydsdh04WBBuS57pYbpBu2tb&list=trade-fiction-paperback&published-date=2018-10-01\n"
     ]
    },
    {
     "name": "stderr",
     "output_type": "stream",
     "text": [
      "C:\\Users\\melan\\AppData\\Local\\Temp\\ipykernel_21772\\1987847954.py:25: FutureWarning: pandas.io.json.json_normalize is deprecated, use pandas.json_normalize instead.\n",
      "  books = json_normalize(results[\"results\"], record_path=[\"book_details\"], meta=[\"rank\", \"rank_last_week\", \"weeks_on_list\", \"asterisk\", \"dagger\"])\n"
     ]
    },
    {
     "name": "stdout",
     "output_type": "stream",
     "text": [
      "2018-09-24\n",
      "https://api.nytimes.com/svc/books/v3/lists.json?api-key=P1yDSg62Aydsdh04WBBuS57pYbpBu2tb&list=trade-fiction-paperback&published-date=2018-09-24\n"
     ]
    },
    {
     "name": "stderr",
     "output_type": "stream",
     "text": [
      "C:\\Users\\melan\\AppData\\Local\\Temp\\ipykernel_21772\\1987847954.py:25: FutureWarning: pandas.io.json.json_normalize is deprecated, use pandas.json_normalize instead.\n",
      "  books = json_normalize(results[\"results\"], record_path=[\"book_details\"], meta=[\"rank\", \"rank_last_week\", \"weeks_on_list\", \"asterisk\", \"dagger\"])\n"
     ]
    },
    {
     "name": "stdout",
     "output_type": "stream",
     "text": [
      "2018-09-17\n",
      "https://api.nytimes.com/svc/books/v3/lists.json?api-key=P1yDSg62Aydsdh04WBBuS57pYbpBu2tb&list=trade-fiction-paperback&published-date=2018-09-17\n"
     ]
    },
    {
     "name": "stderr",
     "output_type": "stream",
     "text": [
      "C:\\Users\\melan\\AppData\\Local\\Temp\\ipykernel_21772\\1987847954.py:25: FutureWarning: pandas.io.json.json_normalize is deprecated, use pandas.json_normalize instead.\n",
      "  books = json_normalize(results[\"results\"], record_path=[\"book_details\"], meta=[\"rank\", \"rank_last_week\", \"weeks_on_list\", \"asterisk\", \"dagger\"])\n"
     ]
    },
    {
     "name": "stdout",
     "output_type": "stream",
     "text": [
      "2018-09-10\n",
      "https://api.nytimes.com/svc/books/v3/lists.json?api-key=P1yDSg62Aydsdh04WBBuS57pYbpBu2tb&list=trade-fiction-paperback&published-date=2018-09-10\n"
     ]
    },
    {
     "name": "stderr",
     "output_type": "stream",
     "text": [
      "C:\\Users\\melan\\AppData\\Local\\Temp\\ipykernel_21772\\1987847954.py:25: FutureWarning: pandas.io.json.json_normalize is deprecated, use pandas.json_normalize instead.\n",
      "  books = json_normalize(results[\"results\"], record_path=[\"book_details\"], meta=[\"rank\", \"rank_last_week\", \"weeks_on_list\", \"asterisk\", \"dagger\"])\n"
     ]
    },
    {
     "name": "stdout",
     "output_type": "stream",
     "text": [
      "2018-09-03\n",
      "https://api.nytimes.com/svc/books/v3/lists.json?api-key=P1yDSg62Aydsdh04WBBuS57pYbpBu2tb&list=trade-fiction-paperback&published-date=2018-09-03\n"
     ]
    },
    {
     "name": "stderr",
     "output_type": "stream",
     "text": [
      "C:\\Users\\melan\\AppData\\Local\\Temp\\ipykernel_21772\\1987847954.py:25: FutureWarning: pandas.io.json.json_normalize is deprecated, use pandas.json_normalize instead.\n",
      "  books = json_normalize(results[\"results\"], record_path=[\"book_details\"], meta=[\"rank\", \"rank_last_week\", \"weeks_on_list\", \"asterisk\", \"dagger\"])\n"
     ]
    },
    {
     "name": "stdout",
     "output_type": "stream",
     "text": [
      "2018-08-27\n",
      "https://api.nytimes.com/svc/books/v3/lists.json?api-key=P1yDSg62Aydsdh04WBBuS57pYbpBu2tb&list=trade-fiction-paperback&published-date=2018-08-27\n"
     ]
    },
    {
     "name": "stderr",
     "output_type": "stream",
     "text": [
      "C:\\Users\\melan\\AppData\\Local\\Temp\\ipykernel_21772\\1987847954.py:25: FutureWarning: pandas.io.json.json_normalize is deprecated, use pandas.json_normalize instead.\n",
      "  books = json_normalize(results[\"results\"], record_path=[\"book_details\"], meta=[\"rank\", \"rank_last_week\", \"weeks_on_list\", \"asterisk\", \"dagger\"])\n"
     ]
    },
    {
     "name": "stdout",
     "output_type": "stream",
     "text": [
      "2018-08-20\n",
      "https://api.nytimes.com/svc/books/v3/lists.json?api-key=P1yDSg62Aydsdh04WBBuS57pYbpBu2tb&list=trade-fiction-paperback&published-date=2018-08-20\n"
     ]
    },
    {
     "name": "stderr",
     "output_type": "stream",
     "text": [
      "C:\\Users\\melan\\AppData\\Local\\Temp\\ipykernel_21772\\1987847954.py:25: FutureWarning: pandas.io.json.json_normalize is deprecated, use pandas.json_normalize instead.\n",
      "  books = json_normalize(results[\"results\"], record_path=[\"book_details\"], meta=[\"rank\", \"rank_last_week\", \"weeks_on_list\", \"asterisk\", \"dagger\"])\n"
     ]
    },
    {
     "name": "stdout",
     "output_type": "stream",
     "text": [
      "2018-08-13\n",
      "https://api.nytimes.com/svc/books/v3/lists.json?api-key=P1yDSg62Aydsdh04WBBuS57pYbpBu2tb&list=trade-fiction-paperback&published-date=2018-08-13\n"
     ]
    },
    {
     "name": "stderr",
     "output_type": "stream",
     "text": [
      "C:\\Users\\melan\\AppData\\Local\\Temp\\ipykernel_21772\\1987847954.py:25: FutureWarning: pandas.io.json.json_normalize is deprecated, use pandas.json_normalize instead.\n",
      "  books = json_normalize(results[\"results\"], record_path=[\"book_details\"], meta=[\"rank\", \"rank_last_week\", \"weeks_on_list\", \"asterisk\", \"dagger\"])\n"
     ]
    },
    {
     "name": "stdout",
     "output_type": "stream",
     "text": [
      "2018-08-06\n",
      "https://api.nytimes.com/svc/books/v3/lists.json?api-key=P1yDSg62Aydsdh04WBBuS57pYbpBu2tb&list=trade-fiction-paperback&published-date=2018-08-06\n"
     ]
    },
    {
     "name": "stderr",
     "output_type": "stream",
     "text": [
      "C:\\Users\\melan\\AppData\\Local\\Temp\\ipykernel_21772\\1987847954.py:25: FutureWarning: pandas.io.json.json_normalize is deprecated, use pandas.json_normalize instead.\n",
      "  books = json_normalize(results[\"results\"], record_path=[\"book_details\"], meta=[\"rank\", \"rank_last_week\", \"weeks_on_list\", \"asterisk\", \"dagger\"])\n"
     ]
    },
    {
     "name": "stdout",
     "output_type": "stream",
     "text": [
      "2018-07-30\n",
      "https://api.nytimes.com/svc/books/v3/lists.json?api-key=P1yDSg62Aydsdh04WBBuS57pYbpBu2tb&list=trade-fiction-paperback&published-date=2018-07-30\n"
     ]
    },
    {
     "name": "stderr",
     "output_type": "stream",
     "text": [
      "C:\\Users\\melan\\AppData\\Local\\Temp\\ipykernel_21772\\1987847954.py:25: FutureWarning: pandas.io.json.json_normalize is deprecated, use pandas.json_normalize instead.\n",
      "  books = json_normalize(results[\"results\"], record_path=[\"book_details\"], meta=[\"rank\", \"rank_last_week\", \"weeks_on_list\", \"asterisk\", \"dagger\"])\n"
     ]
    },
    {
     "name": "stdout",
     "output_type": "stream",
     "text": [
      "2018-07-23\n",
      "https://api.nytimes.com/svc/books/v3/lists.json?api-key=P1yDSg62Aydsdh04WBBuS57pYbpBu2tb&list=trade-fiction-paperback&published-date=2018-07-23\n"
     ]
    },
    {
     "name": "stderr",
     "output_type": "stream",
     "text": [
      "C:\\Users\\melan\\AppData\\Local\\Temp\\ipykernel_21772\\1987847954.py:25: FutureWarning: pandas.io.json.json_normalize is deprecated, use pandas.json_normalize instead.\n",
      "  books = json_normalize(results[\"results\"], record_path=[\"book_details\"], meta=[\"rank\", \"rank_last_week\", \"weeks_on_list\", \"asterisk\", \"dagger\"])\n"
     ]
    },
    {
     "name": "stdout",
     "output_type": "stream",
     "text": [
      "2018-07-16\n",
      "https://api.nytimes.com/svc/books/v3/lists.json?api-key=P1yDSg62Aydsdh04WBBuS57pYbpBu2tb&list=trade-fiction-paperback&published-date=2018-07-16\n"
     ]
    },
    {
     "name": "stderr",
     "output_type": "stream",
     "text": [
      "C:\\Users\\melan\\AppData\\Local\\Temp\\ipykernel_21772\\1987847954.py:25: FutureWarning: pandas.io.json.json_normalize is deprecated, use pandas.json_normalize instead.\n",
      "  books = json_normalize(results[\"results\"], record_path=[\"book_details\"], meta=[\"rank\", \"rank_last_week\", \"weeks_on_list\", \"asterisk\", \"dagger\"])\n"
     ]
    },
    {
     "name": "stdout",
     "output_type": "stream",
     "text": [
      "2018-07-09\n",
      "https://api.nytimes.com/svc/books/v3/lists.json?api-key=P1yDSg62Aydsdh04WBBuS57pYbpBu2tb&list=trade-fiction-paperback&published-date=2018-07-09\n"
     ]
    },
    {
     "name": "stderr",
     "output_type": "stream",
     "text": [
      "C:\\Users\\melan\\AppData\\Local\\Temp\\ipykernel_21772\\1987847954.py:25: FutureWarning: pandas.io.json.json_normalize is deprecated, use pandas.json_normalize instead.\n",
      "  books = json_normalize(results[\"results\"], record_path=[\"book_details\"], meta=[\"rank\", \"rank_last_week\", \"weeks_on_list\", \"asterisk\", \"dagger\"])\n"
     ]
    },
    {
     "name": "stdout",
     "output_type": "stream",
     "text": [
      "2018-07-02\n",
      "https://api.nytimes.com/svc/books/v3/lists.json?api-key=P1yDSg62Aydsdh04WBBuS57pYbpBu2tb&list=trade-fiction-paperback&published-date=2018-07-02\n"
     ]
    },
    {
     "name": "stderr",
     "output_type": "stream",
     "text": [
      "C:\\Users\\melan\\AppData\\Local\\Temp\\ipykernel_21772\\1987847954.py:25: FutureWarning: pandas.io.json.json_normalize is deprecated, use pandas.json_normalize instead.\n",
      "  books = json_normalize(results[\"results\"], record_path=[\"book_details\"], meta=[\"rank\", \"rank_last_week\", \"weeks_on_list\", \"asterisk\", \"dagger\"])\n"
     ]
    },
    {
     "name": "stdout",
     "output_type": "stream",
     "text": [
      "2018-06-25\n",
      "https://api.nytimes.com/svc/books/v3/lists.json?api-key=P1yDSg62Aydsdh04WBBuS57pYbpBu2tb&list=trade-fiction-paperback&published-date=2018-06-25\n"
     ]
    },
    {
     "name": "stderr",
     "output_type": "stream",
     "text": [
      "C:\\Users\\melan\\AppData\\Local\\Temp\\ipykernel_21772\\1987847954.py:25: FutureWarning: pandas.io.json.json_normalize is deprecated, use pandas.json_normalize instead.\n",
      "  books = json_normalize(results[\"results\"], record_path=[\"book_details\"], meta=[\"rank\", \"rank_last_week\", \"weeks_on_list\", \"asterisk\", \"dagger\"])\n"
     ]
    },
    {
     "name": "stdout",
     "output_type": "stream",
     "text": [
      "2018-06-18\n",
      "https://api.nytimes.com/svc/books/v3/lists.json?api-key=P1yDSg62Aydsdh04WBBuS57pYbpBu2tb&list=trade-fiction-paperback&published-date=2018-06-18\n"
     ]
    },
    {
     "name": "stderr",
     "output_type": "stream",
     "text": [
      "C:\\Users\\melan\\AppData\\Local\\Temp\\ipykernel_21772\\1987847954.py:25: FutureWarning: pandas.io.json.json_normalize is deprecated, use pandas.json_normalize instead.\n",
      "  books = json_normalize(results[\"results\"], record_path=[\"book_details\"], meta=[\"rank\", \"rank_last_week\", \"weeks_on_list\", \"asterisk\", \"dagger\"])\n"
     ]
    },
    {
     "name": "stdout",
     "output_type": "stream",
     "text": [
      "2018-06-11\n",
      "https://api.nytimes.com/svc/books/v3/lists.json?api-key=P1yDSg62Aydsdh04WBBuS57pYbpBu2tb&list=trade-fiction-paperback&published-date=2018-06-11\n"
     ]
    },
    {
     "name": "stderr",
     "output_type": "stream",
     "text": [
      "C:\\Users\\melan\\AppData\\Local\\Temp\\ipykernel_21772\\1987847954.py:25: FutureWarning: pandas.io.json.json_normalize is deprecated, use pandas.json_normalize instead.\n",
      "  books = json_normalize(results[\"results\"], record_path=[\"book_details\"], meta=[\"rank\", \"rank_last_week\", \"weeks_on_list\", \"asterisk\", \"dagger\"])\n"
     ]
    },
    {
     "name": "stdout",
     "output_type": "stream",
     "text": [
      "2018-06-04\n",
      "https://api.nytimes.com/svc/books/v3/lists.json?api-key=P1yDSg62Aydsdh04WBBuS57pYbpBu2tb&list=trade-fiction-paperback&published-date=2018-06-04\n"
     ]
    },
    {
     "name": "stderr",
     "output_type": "stream",
     "text": [
      "C:\\Users\\melan\\AppData\\Local\\Temp\\ipykernel_21772\\1987847954.py:25: FutureWarning: pandas.io.json.json_normalize is deprecated, use pandas.json_normalize instead.\n",
      "  books = json_normalize(results[\"results\"], record_path=[\"book_details\"], meta=[\"rank\", \"rank_last_week\", \"weeks_on_list\", \"asterisk\", \"dagger\"])\n"
     ]
    },
    {
     "name": "stdout",
     "output_type": "stream",
     "text": [
      "2018-05-28\n",
      "https://api.nytimes.com/svc/books/v3/lists.json?api-key=P1yDSg62Aydsdh04WBBuS57pYbpBu2tb&list=trade-fiction-paperback&published-date=2018-05-28\n"
     ]
    },
    {
     "name": "stderr",
     "output_type": "stream",
     "text": [
      "C:\\Users\\melan\\AppData\\Local\\Temp\\ipykernel_21772\\1987847954.py:25: FutureWarning: pandas.io.json.json_normalize is deprecated, use pandas.json_normalize instead.\n",
      "  books = json_normalize(results[\"results\"], record_path=[\"book_details\"], meta=[\"rank\", \"rank_last_week\", \"weeks_on_list\", \"asterisk\", \"dagger\"])\n"
     ]
    }
   ],
   "source": [
    "BOOKS_ROOT = \"https://api.nytimes.com/svc/books/v3/lists.json\"\n",
    "LIST = \"trade-fiction-paperback\"\n",
    "API_KEY = \"keys.json\"\n",
    "\n",
    "bestsellers = []\n",
    "weeks = []\n",
    "num_calls_to_make = 1\n",
    "weeks_per_call = 260  # Number of weeks to fetch per API call\n",
    "\n",
    "for call_num in range(num_calls_to_make):\n",
    "    ctr = call_num * weeks_per_call\n",
    "    start_date = datetime.date(2023, 5, 15) - datetime.timedelta(weeks=ctr)\n",
    "    end_date = start_date - datetime.timedelta(weeks=weeks_per_call)\n",
    "    \n",
    "    for i in range(weeks_per_call):\n",
    "        curr_date = start_date - datetime.timedelta(weeks=i)\n",
    "        print(curr_date)\n",
    "        url = \"%s?api-key=%s&list=%s&published-date=%s\" % (BOOKS_ROOT, API_KEY, LIST, curr_date)\n",
    "        url = url.strip()\n",
    "        print(url)\n",
    "        r = requests.get(url)\n",
    "        \n",
    "        if r.status_code == 200:\n",
    "            results = r.json()\n",
    "            books = json_normalize(results[\"results\"], record_path=[\"book_details\"], meta=[\"rank\", \"rank_last_week\", \"weeks_on_list\", \"asterisk\", \"dagger\"])\n",
    "            bestsellers.append(books)\n",
    "            weeks.append(str(curr_date))\n",
    "        else:\n",
    "            print(\"API call did not work!\")\n",
    "            print(r)\n",
    "        \n",
    "        time.sleep(15)\n"
   ]
  },
  {
   "cell_type": "code",
   "execution_count": 8,
   "metadata": {},
   "outputs": [],
   "source": [
    "trade_paperback = pd.concat(bestsellers)"
   ]
  },
  {
   "cell_type": "code",
   "execution_count": 9,
   "metadata": {},
   "outputs": [
    {
     "data": {
      "text/html": [
       "<div>\n",
       "<style scoped>\n",
       "    .dataframe tbody tr th:only-of-type {\n",
       "        vertical-align: middle;\n",
       "    }\n",
       "\n",
       "    .dataframe tbody tr th {\n",
       "        vertical-align: top;\n",
       "    }\n",
       "\n",
       "    .dataframe thead th {\n",
       "        text-align: right;\n",
       "    }\n",
       "</style>\n",
       "<table border=\"1\" class=\"dataframe\">\n",
       "  <thead>\n",
       "    <tr style=\"text-align: right;\">\n",
       "      <th></th>\n",
       "      <th>title</th>\n",
       "      <th>description</th>\n",
       "      <th>contributor</th>\n",
       "      <th>author</th>\n",
       "      <th>contributor_note</th>\n",
       "      <th>price</th>\n",
       "      <th>age_group</th>\n",
       "      <th>publisher</th>\n",
       "      <th>primary_isbn13</th>\n",
       "      <th>primary_isbn10</th>\n",
       "      <th>rank</th>\n",
       "      <th>rank_last_week</th>\n",
       "      <th>weeks_on_list</th>\n",
       "      <th>asterisk</th>\n",
       "      <th>dagger</th>\n",
       "    </tr>\n",
       "  </thead>\n",
       "  <tbody>\n",
       "    <tr>\n",
       "      <th>0</th>\n",
       "      <td>MEET ME AT THE LAKE</td>\n",
       "      <td>A decade after a one-day adventure, Will appea...</td>\n",
       "      <td>by Carley Fortune</td>\n",
       "      <td>Carley Fortune</td>\n",
       "      <td></td>\n",
       "      <td>0.00</td>\n",
       "      <td></td>\n",
       "      <td>Berkley</td>\n",
       "      <td>9780593438558</td>\n",
       "      <td>0593438558</td>\n",
       "      <td>1</td>\n",
       "      <td>0</td>\n",
       "      <td>1</td>\n",
       "      <td>0</td>\n",
       "      <td>0</td>\n",
       "    </tr>\n",
       "    <tr>\n",
       "      <th>1</th>\n",
       "      <td>IT ENDS WITH US</td>\n",
       "      <td>A battered wife raised in a violent home attem...</td>\n",
       "      <td>by Colleen Hoover</td>\n",
       "      <td>Colleen Hoover</td>\n",
       "      <td></td>\n",
       "      <td>0.00</td>\n",
       "      <td></td>\n",
       "      <td>Atria</td>\n",
       "      <td>9781501110368</td>\n",
       "      <td>1501110365</td>\n",
       "      <td>2</td>\n",
       "      <td>2</td>\n",
       "      <td>105</td>\n",
       "      <td>0</td>\n",
       "      <td>0</td>\n",
       "    </tr>\n",
       "    <tr>\n",
       "      <th>2</th>\n",
       "      <td>IT STARTS WITH US</td>\n",
       "      <td>In the sequel to “It Ends With Us,” Lily deals...</td>\n",
       "      <td>by Colleen Hoover</td>\n",
       "      <td>Colleen Hoover</td>\n",
       "      <td></td>\n",
       "      <td>0.00</td>\n",
       "      <td></td>\n",
       "      <td>Atria</td>\n",
       "      <td>9781668001226</td>\n",
       "      <td>1668001225</td>\n",
       "      <td>3</td>\n",
       "      <td>3</td>\n",
       "      <td>29</td>\n",
       "      <td>0</td>\n",
       "      <td>0</td>\n",
       "    </tr>\n",
       "    <tr>\n",
       "      <th>3</th>\n",
       "      <td>GRANDMASTER OF DEMONIC CULTIVATION: MO DAO ZU ...</td>\n",
       "      <td>The future of the entire cultivation world com...</td>\n",
       "      <td>by Mo Xiang Tong Xiu</td>\n",
       "      <td>Mo Xiang Tong Xiu</td>\n",
       "      <td></td>\n",
       "      <td>0.00</td>\n",
       "      <td></td>\n",
       "      <td>Seven Seas Entertainment</td>\n",
       "      <td>9781685798406</td>\n",
       "      <td>1685798403</td>\n",
       "      <td>4</td>\n",
       "      <td>0</td>\n",
       "      <td>1</td>\n",
       "      <td>0</td>\n",
       "      <td>0</td>\n",
       "    </tr>\n",
       "    <tr>\n",
       "      <th>4</th>\n",
       "      <td>THE LAST THING HE TOLD ME</td>\n",
       "      <td>Hannah Hall discovers truths about her missing...</td>\n",
       "      <td>by Laura Dave</td>\n",
       "      <td>Laura Dave</td>\n",
       "      <td></td>\n",
       "      <td>0.00</td>\n",
       "      <td></td>\n",
       "      <td>Marysue Rucci</td>\n",
       "      <td>9781501171352</td>\n",
       "      <td>1501171356</td>\n",
       "      <td>5</td>\n",
       "      <td>1</td>\n",
       "      <td>7</td>\n",
       "      <td>0</td>\n",
       "      <td>0</td>\n",
       "    </tr>\n",
       "  </tbody>\n",
       "</table>\n",
       "</div>"
      ],
      "text/plain": [
       "                                               title  \\\n",
       "0                                MEET ME AT THE LAKE   \n",
       "1                                    IT ENDS WITH US   \n",
       "2                                  IT STARTS WITH US   \n",
       "3  GRANDMASTER OF DEMONIC CULTIVATION: MO DAO ZU ...   \n",
       "4                          THE LAST THING HE TOLD ME   \n",
       "\n",
       "                                         description           contributor  \\\n",
       "0  A decade after a one-day adventure, Will appea...     by Carley Fortune   \n",
       "1  A battered wife raised in a violent home attem...     by Colleen Hoover   \n",
       "2  In the sequel to “It Ends With Us,” Lily deals...     by Colleen Hoover   \n",
       "3  The future of the entire cultivation world com...  by Mo Xiang Tong Xiu   \n",
       "4  Hannah Hall discovers truths about her missing...         by Laura Dave   \n",
       "\n",
       "              author contributor_note price age_group  \\\n",
       "0     Carley Fortune                   0.00             \n",
       "1     Colleen Hoover                   0.00             \n",
       "2     Colleen Hoover                   0.00             \n",
       "3  Mo Xiang Tong Xiu                   0.00             \n",
       "4         Laura Dave                   0.00             \n",
       "\n",
       "                  publisher primary_isbn13 primary_isbn10 rank rank_last_week  \\\n",
       "0                   Berkley  9780593438558     0593438558    1              0   \n",
       "1                     Atria  9781501110368     1501110365    2              2   \n",
       "2                     Atria  9781668001226     1668001225    3              3   \n",
       "3  Seven Seas Entertainment  9781685798406     1685798403    4              0   \n",
       "4             Marysue Rucci  9781501171352     1501171356    5              1   \n",
       "\n",
       "  weeks_on_list asterisk dagger  \n",
       "0             1        0      0  \n",
       "1           105        0      0  \n",
       "2            29        0      0  \n",
       "3             1        0      0  \n",
       "4             7        0      0  "
      ]
     },
     "execution_count": 9,
     "metadata": {},
     "output_type": "execute_result"
    }
   ],
   "source": [
    "trade_paperback.head()"
   ]
  },
  {
   "cell_type": "code",
   "execution_count": 10,
   "metadata": {},
   "outputs": [
    {
     "data": {
      "text/html": [
       "<div>\n",
       "<style scoped>\n",
       "    .dataframe tbody tr th:only-of-type {\n",
       "        vertical-align: middle;\n",
       "    }\n",
       "\n",
       "    .dataframe tbody tr th {\n",
       "        vertical-align: top;\n",
       "    }\n",
       "\n",
       "    .dataframe thead th {\n",
       "        text-align: right;\n",
       "    }\n",
       "</style>\n",
       "<table border=\"1\" class=\"dataframe\">\n",
       "  <thead>\n",
       "    <tr style=\"text-align: right;\">\n",
       "      <th></th>\n",
       "      <th>title</th>\n",
       "      <th>description</th>\n",
       "      <th>contributor</th>\n",
       "      <th>author</th>\n",
       "      <th>contributor_note</th>\n",
       "      <th>price</th>\n",
       "      <th>age_group</th>\n",
       "      <th>publisher</th>\n",
       "      <th>primary_isbn13</th>\n",
       "      <th>primary_isbn10</th>\n",
       "      <th>rank</th>\n",
       "      <th>rank_last_week</th>\n",
       "      <th>weeks_on_list</th>\n",
       "      <th>asterisk</th>\n",
       "      <th>dagger</th>\n",
       "    </tr>\n",
       "  </thead>\n",
       "  <tbody>\n",
       "    <tr>\n",
       "      <th>10</th>\n",
       "      <td>ALL THE LIGHT WE CANNOT SEE</td>\n",
       "      <td>The lives of a blind French girl and a gadget-...</td>\n",
       "      <td>by Anthony Doerr</td>\n",
       "      <td>Anthony Doerr</td>\n",
       "      <td></td>\n",
       "      <td>0.00</td>\n",
       "      <td></td>\n",
       "      <td>Scribner</td>\n",
       "      <td>9781501173219</td>\n",
       "      <td>1501173219</td>\n",
       "      <td>11</td>\n",
       "      <td>12</td>\n",
       "      <td>48</td>\n",
       "      <td>0</td>\n",
       "      <td>0</td>\n",
       "    </tr>\n",
       "    <tr>\n",
       "      <th>11</th>\n",
       "      <td>SING, UNBURIED, SING</td>\n",
       "      <td>A 13-year-old boy comes of age in Mississippi ...</td>\n",
       "      <td>by Jesmyn Ward</td>\n",
       "      <td>Jesmyn Ward</td>\n",
       "      <td></td>\n",
       "      <td>0.00</td>\n",
       "      <td></td>\n",
       "      <td>Scribner</td>\n",
       "      <td>9781501126079</td>\n",
       "      <td>1501126075</td>\n",
       "      <td>12</td>\n",
       "      <td>7</td>\n",
       "      <td>2</td>\n",
       "      <td>1</td>\n",
       "      <td>0</td>\n",
       "    </tr>\n",
       "    <tr>\n",
       "      <th>12</th>\n",
       "      <td>COME SUNDOWN</td>\n",
       "      <td>A Montana family is tested when a long-missing...</td>\n",
       "      <td>by Nora Roberts</td>\n",
       "      <td>Nora Roberts</td>\n",
       "      <td></td>\n",
       "      <td>0.00</td>\n",
       "      <td></td>\n",
       "      <td>St. Martin's Griffin</td>\n",
       "      <td>9781250123084</td>\n",
       "      <td>1250123089</td>\n",
       "      <td>13</td>\n",
       "      <td>5</td>\n",
       "      <td>4</td>\n",
       "      <td>0</td>\n",
       "      <td>0</td>\n",
       "    </tr>\n",
       "    <tr>\n",
       "      <th>13</th>\n",
       "      <td>PACHINKO</td>\n",
       "      <td>In the early 20th century, a Korean fisherman'...</td>\n",
       "      <td>by Min Jin Lee</td>\n",
       "      <td>Min Jin Lee</td>\n",
       "      <td></td>\n",
       "      <td>0.00</td>\n",
       "      <td></td>\n",
       "      <td>Grand Central</td>\n",
       "      <td>9781455563920</td>\n",
       "      <td>1455563927</td>\n",
       "      <td>14</td>\n",
       "      <td>15</td>\n",
       "      <td>16</td>\n",
       "      <td>0</td>\n",
       "      <td>0</td>\n",
       "    </tr>\n",
       "    <tr>\n",
       "      <th>14</th>\n",
       "      <td>THE LYING GAME</td>\n",
       "      <td>Four friends, who had been expelled during the...</td>\n",
       "      <td>by Ruth Ware</td>\n",
       "      <td>Ruth Ware</td>\n",
       "      <td></td>\n",
       "      <td>0.00</td>\n",
       "      <td></td>\n",
       "      <td>Gallery/Scout</td>\n",
       "      <td>9781501156205</td>\n",
       "      <td>1501156209</td>\n",
       "      <td>15</td>\n",
       "      <td>11</td>\n",
       "      <td>11</td>\n",
       "      <td>0</td>\n",
       "      <td>0</td>\n",
       "    </tr>\n",
       "  </tbody>\n",
       "</table>\n",
       "</div>"
      ],
      "text/plain": [
       "                          title  \\\n",
       "10  ALL THE LIGHT WE CANNOT SEE   \n",
       "11         SING, UNBURIED, SING   \n",
       "12                 COME SUNDOWN   \n",
       "13                     PACHINKO   \n",
       "14               THE LYING GAME   \n",
       "\n",
       "                                          description       contributor  \\\n",
       "10  The lives of a blind French girl and a gadget-...  by Anthony Doerr   \n",
       "11  A 13-year-old boy comes of age in Mississippi ...    by Jesmyn Ward   \n",
       "12  A Montana family is tested when a long-missing...   by Nora Roberts   \n",
       "13  In the early 20th century, a Korean fisherman'...    by Min Jin Lee   \n",
       "14  Four friends, who had been expelled during the...      by Ruth Ware   \n",
       "\n",
       "           author contributor_note price age_group             publisher  \\\n",
       "10  Anthony Doerr                   0.00                        Scribner   \n",
       "11    Jesmyn Ward                   0.00                        Scribner   \n",
       "12   Nora Roberts                   0.00            St. Martin's Griffin   \n",
       "13    Min Jin Lee                   0.00                   Grand Central   \n",
       "14      Ruth Ware                   0.00                   Gallery/Scout   \n",
       "\n",
       "   primary_isbn13 primary_isbn10 rank rank_last_week weeks_on_list asterisk  \\\n",
       "10  9781501173219     1501173219   11             12            48        0   \n",
       "11  9781501126079     1501126075   12              7             2        1   \n",
       "12  9781250123084     1250123089   13              5             4        0   \n",
       "13  9781455563920     1455563927   14             15            16        0   \n",
       "14  9781501156205     1501156209   15             11            11        0   \n",
       "\n",
       "   dagger  \n",
       "10      0  \n",
       "11      0  \n",
       "12      0  \n",
       "13      0  \n",
       "14      0  "
      ]
     },
     "execution_count": 10,
     "metadata": {},
     "output_type": "execute_result"
    }
   ],
   "source": [
    "trade_paperback.tail()"
   ]
  },
  {
   "cell_type": "code",
   "execution_count": 11,
   "metadata": {},
   "outputs": [
    {
     "data": {
      "text/plain": [
       "3900"
      ]
     },
     "execution_count": 11,
     "metadata": {},
     "output_type": "execute_result"
    }
   ],
   "source": [
    "len(trade_paperback)"
   ]
  },
  {
   "cell_type": "code",
   "execution_count": 12,
   "metadata": {},
   "outputs": [
    {
     "data": {
      "text/plain": [
       "260"
      ]
     },
     "execution_count": 12,
     "metadata": {},
     "output_type": "execute_result"
    }
   ],
   "source": [
    "len(weeks)"
   ]
  },
  {
   "cell_type": "code",
   "execution_count": 13,
   "metadata": {},
   "outputs": [],
   "source": [
    "#repeat weeks 16 times to add to df\n",
    "#https://www.pythonforbeginners.com/lists/repeat-each-element-in-a-list-in-python\n",
    "k = 15\n",
    "repeated_weeks = []\n",
    "for element in weeks:\n",
    "    for i in range(k):\n",
    "       repeated_weeks.append(element)"
   ]
  },
  {
   "cell_type": "code",
   "execution_count": 14,
   "metadata": {},
   "outputs": [
    {
     "data": {
      "text/plain": [
       "3900"
      ]
     },
     "execution_count": 14,
     "metadata": {},
     "output_type": "execute_result"
    }
   ],
   "source": [
    "len(repeated_weeks)"
   ]
  },
  {
   "cell_type": "code",
   "execution_count": 15,
   "metadata": {},
   "outputs": [
    {
     "data": {
      "text/html": [
       "<div>\n",
       "<style scoped>\n",
       "    .dataframe tbody tr th:only-of-type {\n",
       "        vertical-align: middle;\n",
       "    }\n",
       "\n",
       "    .dataframe tbody tr th {\n",
       "        vertical-align: top;\n",
       "    }\n",
       "\n",
       "    .dataframe thead th {\n",
       "        text-align: right;\n",
       "    }\n",
       "</style>\n",
       "<table border=\"1\" class=\"dataframe\">\n",
       "  <thead>\n",
       "    <tr style=\"text-align: right;\">\n",
       "      <th></th>\n",
       "      <th>title</th>\n",
       "      <th>description</th>\n",
       "      <th>contributor</th>\n",
       "      <th>author</th>\n",
       "      <th>contributor_note</th>\n",
       "      <th>price</th>\n",
       "      <th>age_group</th>\n",
       "      <th>publisher</th>\n",
       "      <th>primary_isbn13</th>\n",
       "      <th>primary_isbn10</th>\n",
       "      <th>rank</th>\n",
       "      <th>rank_last_week</th>\n",
       "      <th>weeks_on_list</th>\n",
       "      <th>asterisk</th>\n",
       "      <th>dagger</th>\n",
       "      <th>week</th>\n",
       "    </tr>\n",
       "  </thead>\n",
       "  <tbody>\n",
       "    <tr>\n",
       "      <th>5</th>\n",
       "      <td>PRINCESS</td>\n",
       "      <td>Princess Caroline calls on Jack Morgan when he...</td>\n",
       "      <td>by James Patterson and Rees Jones</td>\n",
       "      <td>James Patterson and Rees Jones</td>\n",
       "      <td></td>\n",
       "      <td>0.00</td>\n",
       "      <td></td>\n",
       "      <td>Grand Central</td>\n",
       "      <td>9781538714430</td>\n",
       "      <td>1538714434</td>\n",
       "      <td>6</td>\n",
       "      <td>0</td>\n",
       "      <td>1</td>\n",
       "      <td>0</td>\n",
       "      <td>0</td>\n",
       "      <td>2018-05-28</td>\n",
       "    </tr>\n",
       "    <tr>\n",
       "      <th>6</th>\n",
       "      <td>TWO KINDS OF TRUTH</td>\n",
       "      <td>While Harry Bosch investigates the murder of t...</td>\n",
       "      <td>by Michael Connelly</td>\n",
       "      <td>Michael Connelly</td>\n",
       "      <td></td>\n",
       "      <td>0.00</td>\n",
       "      <td></td>\n",
       "      <td>Grand Central</td>\n",
       "      <td>9781455524174</td>\n",
       "      <td>1455524174</td>\n",
       "      <td>7</td>\n",
       "      <td>8</td>\n",
       "      <td>3</td>\n",
       "      <td>0</td>\n",
       "      <td>0</td>\n",
       "      <td>2018-05-28</td>\n",
       "    </tr>\n",
       "    <tr>\n",
       "      <th>7</th>\n",
       "      <td>READY PLAYER ONE</td>\n",
       "      <td>It’s 2044, life on a resource-depleted Earth i...</td>\n",
       "      <td>by Ernest Cline</td>\n",
       "      <td>Ernest Cline</td>\n",
       "      <td></td>\n",
       "      <td>0.00</td>\n",
       "      <td></td>\n",
       "      <td>Broadway</td>\n",
       "      <td>9780307887443</td>\n",
       "      <td>0307887448</td>\n",
       "      <td>8</td>\n",
       "      <td>9</td>\n",
       "      <td>59</td>\n",
       "      <td>0</td>\n",
       "      <td>0</td>\n",
       "      <td>2018-05-28</td>\n",
       "    </tr>\n",
       "    <tr>\n",
       "      <th>8</th>\n",
       "      <td>THE WOMAN IN CABIN 10</td>\n",
       "      <td>A travel writer on a cruise is certain she has...</td>\n",
       "      <td>by Ruth Ware</td>\n",
       "      <td>Ruth Ware</td>\n",
       "      <td></td>\n",
       "      <td>0.00</td>\n",
       "      <td></td>\n",
       "      <td>Scout</td>\n",
       "      <td>9781501132957</td>\n",
       "      <td>1501132954</td>\n",
       "      <td>9</td>\n",
       "      <td>13</td>\n",
       "      <td>50</td>\n",
       "      <td>0</td>\n",
       "      <td>0</td>\n",
       "      <td>2018-05-28</td>\n",
       "    </tr>\n",
       "    <tr>\n",
       "      <th>9</th>\n",
       "      <td>SMALL GREAT THINGS</td>\n",
       "      <td>A medical crisis entangles a black nurse, a wh...</td>\n",
       "      <td>by Jodi Picoult</td>\n",
       "      <td>Jodi Picoult</td>\n",
       "      <td></td>\n",
       "      <td>0.00</td>\n",
       "      <td></td>\n",
       "      <td>Ballantine</td>\n",
       "      <td>9780345544971</td>\n",
       "      <td>0345544978</td>\n",
       "      <td>10</td>\n",
       "      <td>10</td>\n",
       "      <td>13</td>\n",
       "      <td>0</td>\n",
       "      <td>0</td>\n",
       "      <td>2018-05-28</td>\n",
       "    </tr>\n",
       "    <tr>\n",
       "      <th>10</th>\n",
       "      <td>ALL THE LIGHT WE CANNOT SEE</td>\n",
       "      <td>The lives of a blind French girl and a gadget-...</td>\n",
       "      <td>by Anthony Doerr</td>\n",
       "      <td>Anthony Doerr</td>\n",
       "      <td></td>\n",
       "      <td>0.00</td>\n",
       "      <td></td>\n",
       "      <td>Scribner</td>\n",
       "      <td>9781501173219</td>\n",
       "      <td>1501173219</td>\n",
       "      <td>11</td>\n",
       "      <td>12</td>\n",
       "      <td>48</td>\n",
       "      <td>0</td>\n",
       "      <td>0</td>\n",
       "      <td>2018-05-28</td>\n",
       "    </tr>\n",
       "    <tr>\n",
       "      <th>11</th>\n",
       "      <td>SING, UNBURIED, SING</td>\n",
       "      <td>A 13-year-old boy comes of age in Mississippi ...</td>\n",
       "      <td>by Jesmyn Ward</td>\n",
       "      <td>Jesmyn Ward</td>\n",
       "      <td></td>\n",
       "      <td>0.00</td>\n",
       "      <td></td>\n",
       "      <td>Scribner</td>\n",
       "      <td>9781501126079</td>\n",
       "      <td>1501126075</td>\n",
       "      <td>12</td>\n",
       "      <td>7</td>\n",
       "      <td>2</td>\n",
       "      <td>1</td>\n",
       "      <td>0</td>\n",
       "      <td>2018-05-28</td>\n",
       "    </tr>\n",
       "    <tr>\n",
       "      <th>12</th>\n",
       "      <td>COME SUNDOWN</td>\n",
       "      <td>A Montana family is tested when a long-missing...</td>\n",
       "      <td>by Nora Roberts</td>\n",
       "      <td>Nora Roberts</td>\n",
       "      <td></td>\n",
       "      <td>0.00</td>\n",
       "      <td></td>\n",
       "      <td>St. Martin's Griffin</td>\n",
       "      <td>9781250123084</td>\n",
       "      <td>1250123089</td>\n",
       "      <td>13</td>\n",
       "      <td>5</td>\n",
       "      <td>4</td>\n",
       "      <td>0</td>\n",
       "      <td>0</td>\n",
       "      <td>2018-05-28</td>\n",
       "    </tr>\n",
       "    <tr>\n",
       "      <th>13</th>\n",
       "      <td>PACHINKO</td>\n",
       "      <td>In the early 20th century, a Korean fisherman'...</td>\n",
       "      <td>by Min Jin Lee</td>\n",
       "      <td>Min Jin Lee</td>\n",
       "      <td></td>\n",
       "      <td>0.00</td>\n",
       "      <td></td>\n",
       "      <td>Grand Central</td>\n",
       "      <td>9781455563920</td>\n",
       "      <td>1455563927</td>\n",
       "      <td>14</td>\n",
       "      <td>15</td>\n",
       "      <td>16</td>\n",
       "      <td>0</td>\n",
       "      <td>0</td>\n",
       "      <td>2018-05-28</td>\n",
       "    </tr>\n",
       "    <tr>\n",
       "      <th>14</th>\n",
       "      <td>THE LYING GAME</td>\n",
       "      <td>Four friends, who had been expelled during the...</td>\n",
       "      <td>by Ruth Ware</td>\n",
       "      <td>Ruth Ware</td>\n",
       "      <td></td>\n",
       "      <td>0.00</td>\n",
       "      <td></td>\n",
       "      <td>Gallery/Scout</td>\n",
       "      <td>9781501156205</td>\n",
       "      <td>1501156209</td>\n",
       "      <td>15</td>\n",
       "      <td>11</td>\n",
       "      <td>11</td>\n",
       "      <td>0</td>\n",
       "      <td>0</td>\n",
       "      <td>2018-05-28</td>\n",
       "    </tr>\n",
       "  </tbody>\n",
       "</table>\n",
       "</div>"
      ],
      "text/plain": [
       "                          title  \\\n",
       "5                      PRINCESS   \n",
       "6            TWO KINDS OF TRUTH   \n",
       "7              READY PLAYER ONE   \n",
       "8         THE WOMAN IN CABIN 10   \n",
       "9            SMALL GREAT THINGS   \n",
       "10  ALL THE LIGHT WE CANNOT SEE   \n",
       "11         SING, UNBURIED, SING   \n",
       "12                 COME SUNDOWN   \n",
       "13                     PACHINKO   \n",
       "14               THE LYING GAME   \n",
       "\n",
       "                                          description  \\\n",
       "5   Princess Caroline calls on Jack Morgan when he...   \n",
       "6   While Harry Bosch investigates the murder of t...   \n",
       "7   It’s 2044, life on a resource-depleted Earth i...   \n",
       "8   A travel writer on a cruise is certain she has...   \n",
       "9   A medical crisis entangles a black nurse, a wh...   \n",
       "10  The lives of a blind French girl and a gadget-...   \n",
       "11  A 13-year-old boy comes of age in Mississippi ...   \n",
       "12  A Montana family is tested when a long-missing...   \n",
       "13  In the early 20th century, a Korean fisherman'...   \n",
       "14  Four friends, who had been expelled during the...   \n",
       "\n",
       "                          contributor                          author  \\\n",
       "5   by James Patterson and Rees Jones  James Patterson and Rees Jones   \n",
       "6                 by Michael Connelly                Michael Connelly   \n",
       "7                     by Ernest Cline                    Ernest Cline   \n",
       "8                        by Ruth Ware                       Ruth Ware   \n",
       "9                     by Jodi Picoult                    Jodi Picoult   \n",
       "10                   by Anthony Doerr                   Anthony Doerr   \n",
       "11                     by Jesmyn Ward                     Jesmyn Ward   \n",
       "12                    by Nora Roberts                    Nora Roberts   \n",
       "13                     by Min Jin Lee                     Min Jin Lee   \n",
       "14                       by Ruth Ware                       Ruth Ware   \n",
       "\n",
       "   contributor_note price age_group             publisher primary_isbn13  \\\n",
       "5                    0.00                   Grand Central  9781538714430   \n",
       "6                    0.00                   Grand Central  9781455524174   \n",
       "7                    0.00                        Broadway  9780307887443   \n",
       "8                    0.00                           Scout  9781501132957   \n",
       "9                    0.00                      Ballantine  9780345544971   \n",
       "10                   0.00                        Scribner  9781501173219   \n",
       "11                   0.00                        Scribner  9781501126079   \n",
       "12                   0.00            St. Martin's Griffin  9781250123084   \n",
       "13                   0.00                   Grand Central  9781455563920   \n",
       "14                   0.00                   Gallery/Scout  9781501156205   \n",
       "\n",
       "   primary_isbn10 rank rank_last_week weeks_on_list asterisk dagger  \\\n",
       "5      1538714434    6              0             1        0      0   \n",
       "6      1455524174    7              8             3        0      0   \n",
       "7      0307887448    8              9            59        0      0   \n",
       "8      1501132954    9             13            50        0      0   \n",
       "9      0345544978   10             10            13        0      0   \n",
       "10     1501173219   11             12            48        0      0   \n",
       "11     1501126075   12              7             2        1      0   \n",
       "12     1250123089   13              5             4        0      0   \n",
       "13     1455563927   14             15            16        0      0   \n",
       "14     1501156209   15             11            11        0      0   \n",
       "\n",
       "          week  \n",
       "5   2018-05-28  \n",
       "6   2018-05-28  \n",
       "7   2018-05-28  \n",
       "8   2018-05-28  \n",
       "9   2018-05-28  \n",
       "10  2018-05-28  \n",
       "11  2018-05-28  \n",
       "12  2018-05-28  \n",
       "13  2018-05-28  \n",
       "14  2018-05-28  "
      ]
     },
     "execution_count": 15,
     "metadata": {},
     "output_type": "execute_result"
    }
   ],
   "source": [
    "#add a week column\n",
    "trade_paperback['week'] = repeated_weeks\n",
    "\n",
    "#and check to make sure it worked correctly\n",
    "trade_paperback.tail(10)"
   ]
  },
  {
   "cell_type": "code",
   "execution_count": 16,
   "metadata": {},
   "outputs": [
    {
     "data": {
      "text/plain": [
       "3900"
      ]
     },
     "execution_count": 16,
     "metadata": {},
     "output_type": "execute_result"
    }
   ],
   "source": [
    "#and a column indicating which list these come from\n",
    "k2 = 3900\n",
    "weekly_fiction_list = ['Trade Fiction Paperback']\n",
    "nyt_list_weekly_fiction = []\n",
    "\n",
    "for element in weekly_fiction_list:\n",
    "    for i in range(k2):\n",
    "        nyt_list_weekly_fiction.append(element)\n",
    "\n",
    "len(nyt_list_weekly_fiction)"
   ]
  },
  {
   "cell_type": "code",
   "execution_count": 17,
   "metadata": {},
   "outputs": [
    {
     "data": {
      "text/html": [
       "<div>\n",
       "<style scoped>\n",
       "    .dataframe tbody tr th:only-of-type {\n",
       "        vertical-align: middle;\n",
       "    }\n",
       "\n",
       "    .dataframe tbody tr th {\n",
       "        vertical-align: top;\n",
       "    }\n",
       "\n",
       "    .dataframe thead th {\n",
       "        text-align: right;\n",
       "    }\n",
       "</style>\n",
       "<table border=\"1\" class=\"dataframe\">\n",
       "  <thead>\n",
       "    <tr style=\"text-align: right;\">\n",
       "      <th></th>\n",
       "      <th>title</th>\n",
       "      <th>description</th>\n",
       "      <th>contributor</th>\n",
       "      <th>author</th>\n",
       "      <th>contributor_note</th>\n",
       "      <th>price</th>\n",
       "      <th>age_group</th>\n",
       "      <th>publisher</th>\n",
       "      <th>primary_isbn13</th>\n",
       "      <th>primary_isbn10</th>\n",
       "      <th>rank</th>\n",
       "      <th>rank_last_week</th>\n",
       "      <th>weeks_on_list</th>\n",
       "      <th>asterisk</th>\n",
       "      <th>dagger</th>\n",
       "      <th>week</th>\n",
       "      <th>nyt_list</th>\n",
       "    </tr>\n",
       "  </thead>\n",
       "  <tbody>\n",
       "    <tr>\n",
       "      <th>10</th>\n",
       "      <td>ALL THE LIGHT WE CANNOT SEE</td>\n",
       "      <td>The lives of a blind French girl and a gadget-...</td>\n",
       "      <td>by Anthony Doerr</td>\n",
       "      <td>Anthony Doerr</td>\n",
       "      <td></td>\n",
       "      <td>0.00</td>\n",
       "      <td></td>\n",
       "      <td>Scribner</td>\n",
       "      <td>9781501173219</td>\n",
       "      <td>1501173219</td>\n",
       "      <td>11</td>\n",
       "      <td>12</td>\n",
       "      <td>48</td>\n",
       "      <td>0</td>\n",
       "      <td>0</td>\n",
       "      <td>2018-05-28</td>\n",
       "      <td>Trade Fiction Paperback</td>\n",
       "    </tr>\n",
       "    <tr>\n",
       "      <th>11</th>\n",
       "      <td>SING, UNBURIED, SING</td>\n",
       "      <td>A 13-year-old boy comes of age in Mississippi ...</td>\n",
       "      <td>by Jesmyn Ward</td>\n",
       "      <td>Jesmyn Ward</td>\n",
       "      <td></td>\n",
       "      <td>0.00</td>\n",
       "      <td></td>\n",
       "      <td>Scribner</td>\n",
       "      <td>9781501126079</td>\n",
       "      <td>1501126075</td>\n",
       "      <td>12</td>\n",
       "      <td>7</td>\n",
       "      <td>2</td>\n",
       "      <td>1</td>\n",
       "      <td>0</td>\n",
       "      <td>2018-05-28</td>\n",
       "      <td>Trade Fiction Paperback</td>\n",
       "    </tr>\n",
       "    <tr>\n",
       "      <th>12</th>\n",
       "      <td>COME SUNDOWN</td>\n",
       "      <td>A Montana family is tested when a long-missing...</td>\n",
       "      <td>by Nora Roberts</td>\n",
       "      <td>Nora Roberts</td>\n",
       "      <td></td>\n",
       "      <td>0.00</td>\n",
       "      <td></td>\n",
       "      <td>St. Martin's Griffin</td>\n",
       "      <td>9781250123084</td>\n",
       "      <td>1250123089</td>\n",
       "      <td>13</td>\n",
       "      <td>5</td>\n",
       "      <td>4</td>\n",
       "      <td>0</td>\n",
       "      <td>0</td>\n",
       "      <td>2018-05-28</td>\n",
       "      <td>Trade Fiction Paperback</td>\n",
       "    </tr>\n",
       "    <tr>\n",
       "      <th>13</th>\n",
       "      <td>PACHINKO</td>\n",
       "      <td>In the early 20th century, a Korean fisherman'...</td>\n",
       "      <td>by Min Jin Lee</td>\n",
       "      <td>Min Jin Lee</td>\n",
       "      <td></td>\n",
       "      <td>0.00</td>\n",
       "      <td></td>\n",
       "      <td>Grand Central</td>\n",
       "      <td>9781455563920</td>\n",
       "      <td>1455563927</td>\n",
       "      <td>14</td>\n",
       "      <td>15</td>\n",
       "      <td>16</td>\n",
       "      <td>0</td>\n",
       "      <td>0</td>\n",
       "      <td>2018-05-28</td>\n",
       "      <td>Trade Fiction Paperback</td>\n",
       "    </tr>\n",
       "    <tr>\n",
       "      <th>14</th>\n",
       "      <td>THE LYING GAME</td>\n",
       "      <td>Four friends, who had been expelled during the...</td>\n",
       "      <td>by Ruth Ware</td>\n",
       "      <td>Ruth Ware</td>\n",
       "      <td></td>\n",
       "      <td>0.00</td>\n",
       "      <td></td>\n",
       "      <td>Gallery/Scout</td>\n",
       "      <td>9781501156205</td>\n",
       "      <td>1501156209</td>\n",
       "      <td>15</td>\n",
       "      <td>11</td>\n",
       "      <td>11</td>\n",
       "      <td>0</td>\n",
       "      <td>0</td>\n",
       "      <td>2018-05-28</td>\n",
       "      <td>Trade Fiction Paperback</td>\n",
       "    </tr>\n",
       "  </tbody>\n",
       "</table>\n",
       "</div>"
      ],
      "text/plain": [
       "                          title  \\\n",
       "10  ALL THE LIGHT WE CANNOT SEE   \n",
       "11         SING, UNBURIED, SING   \n",
       "12                 COME SUNDOWN   \n",
       "13                     PACHINKO   \n",
       "14               THE LYING GAME   \n",
       "\n",
       "                                          description       contributor  \\\n",
       "10  The lives of a blind French girl and a gadget-...  by Anthony Doerr   \n",
       "11  A 13-year-old boy comes of age in Mississippi ...    by Jesmyn Ward   \n",
       "12  A Montana family is tested when a long-missing...   by Nora Roberts   \n",
       "13  In the early 20th century, a Korean fisherman'...    by Min Jin Lee   \n",
       "14  Four friends, who had been expelled during the...      by Ruth Ware   \n",
       "\n",
       "           author contributor_note price age_group             publisher  \\\n",
       "10  Anthony Doerr                   0.00                        Scribner   \n",
       "11    Jesmyn Ward                   0.00                        Scribner   \n",
       "12   Nora Roberts                   0.00            St. Martin's Griffin   \n",
       "13    Min Jin Lee                   0.00                   Grand Central   \n",
       "14      Ruth Ware                   0.00                   Gallery/Scout   \n",
       "\n",
       "   primary_isbn13 primary_isbn10 rank rank_last_week weeks_on_list asterisk  \\\n",
       "10  9781501173219     1501173219   11             12            48        0   \n",
       "11  9781501126079     1501126075   12              7             2        1   \n",
       "12  9781250123084     1250123089   13              5             4        0   \n",
       "13  9781455563920     1455563927   14             15            16        0   \n",
       "14  9781501156205     1501156209   15             11            11        0   \n",
       "\n",
       "   dagger        week                 nyt_list  \n",
       "10      0  2018-05-28  Trade Fiction Paperback  \n",
       "11      0  2018-05-28  Trade Fiction Paperback  \n",
       "12      0  2018-05-28  Trade Fiction Paperback  \n",
       "13      0  2018-05-28  Trade Fiction Paperback  \n",
       "14      0  2018-05-28  Trade Fiction Paperback  "
      ]
     },
     "execution_count": 17,
     "metadata": {},
     "output_type": "execute_result"
    }
   ],
   "source": [
    "#add nyt_list as a column\n",
    "trade_paperback['nyt_list'] = nyt_list_weekly_fiction\n",
    "\n",
    "#and check to make sure it worked correctly\n",
    "trade_paperback.tail()"
   ]
  },
  {
   "cell_type": "code",
   "execution_count": 18,
   "metadata": {},
   "outputs": [],
   "source": [
    "#save to csv\n",
    "trade_paperback.to_csv(\"C:\\\\Users\\\\melan\\\\Documents\\\\DA8\\\\Projects\\\\capstone\\\\data\\\\2018to2023_trade_fiction.csv\", index=False)"
   ]
  },
  {
   "cell_type": "code",
   "execution_count": 22,
   "metadata": {},
   "outputs": [
    {
     "name": "stdout",
     "output_type": "stream",
     "text": [
      "2018-05-21\n",
      "https://api.nytimes.com/svc/books/v3/lists.json?api-key=P1yDSg62Aydsdh04WBBuS57pYbpBu2tb&list=trade-fiction-paperback&published-date=2018-05-21\n"
     ]
    },
    {
     "name": "stderr",
     "output_type": "stream",
     "text": [
      "C:\\Users\\melan\\AppData\\Local\\Temp\\ipykernel_21772\\4058755056.py:26: FutureWarning: pandas.io.json.json_normalize is deprecated, use pandas.json_normalize instead.\n",
      "  books = json_normalize(results[\"results\"], record_path=[\"book_details\"], meta=[\"rank\", \"rank_last_week\", \"weeks_on_list\", \"asterisk\", \"dagger\"])\n"
     ]
    },
    {
     "name": "stdout",
     "output_type": "stream",
     "text": [
      "2018-05-14\n",
      "https://api.nytimes.com/svc/books/v3/lists.json?api-key=P1yDSg62Aydsdh04WBBuS57pYbpBu2tb&list=trade-fiction-paperback&published-date=2018-05-14\n"
     ]
    },
    {
     "name": "stderr",
     "output_type": "stream",
     "text": [
      "C:\\Users\\melan\\AppData\\Local\\Temp\\ipykernel_21772\\4058755056.py:26: FutureWarning: pandas.io.json.json_normalize is deprecated, use pandas.json_normalize instead.\n",
      "  books = json_normalize(results[\"results\"], record_path=[\"book_details\"], meta=[\"rank\", \"rank_last_week\", \"weeks_on_list\", \"asterisk\", \"dagger\"])\n"
     ]
    },
    {
     "name": "stdout",
     "output_type": "stream",
     "text": [
      "2018-05-07\n",
      "https://api.nytimes.com/svc/books/v3/lists.json?api-key=P1yDSg62Aydsdh04WBBuS57pYbpBu2tb&list=trade-fiction-paperback&published-date=2018-05-07\n"
     ]
    },
    {
     "name": "stderr",
     "output_type": "stream",
     "text": [
      "C:\\Users\\melan\\AppData\\Local\\Temp\\ipykernel_21772\\4058755056.py:26: FutureWarning: pandas.io.json.json_normalize is deprecated, use pandas.json_normalize instead.\n",
      "  books = json_normalize(results[\"results\"], record_path=[\"book_details\"], meta=[\"rank\", \"rank_last_week\", \"weeks_on_list\", \"asterisk\", \"dagger\"])\n"
     ]
    },
    {
     "name": "stdout",
     "output_type": "stream",
     "text": [
      "2018-04-30\n",
      "https://api.nytimes.com/svc/books/v3/lists.json?api-key=P1yDSg62Aydsdh04WBBuS57pYbpBu2tb&list=trade-fiction-paperback&published-date=2018-04-30\n"
     ]
    },
    {
     "name": "stderr",
     "output_type": "stream",
     "text": [
      "C:\\Users\\melan\\AppData\\Local\\Temp\\ipykernel_21772\\4058755056.py:26: FutureWarning: pandas.io.json.json_normalize is deprecated, use pandas.json_normalize instead.\n",
      "  books = json_normalize(results[\"results\"], record_path=[\"book_details\"], meta=[\"rank\", \"rank_last_week\", \"weeks_on_list\", \"asterisk\", \"dagger\"])\n"
     ]
    },
    {
     "name": "stdout",
     "output_type": "stream",
     "text": [
      "2018-04-23\n",
      "https://api.nytimes.com/svc/books/v3/lists.json?api-key=P1yDSg62Aydsdh04WBBuS57pYbpBu2tb&list=trade-fiction-paperback&published-date=2018-04-23\n"
     ]
    },
    {
     "name": "stderr",
     "output_type": "stream",
     "text": [
      "C:\\Users\\melan\\AppData\\Local\\Temp\\ipykernel_21772\\4058755056.py:26: FutureWarning: pandas.io.json.json_normalize is deprecated, use pandas.json_normalize instead.\n",
      "  books = json_normalize(results[\"results\"], record_path=[\"book_details\"], meta=[\"rank\", \"rank_last_week\", \"weeks_on_list\", \"asterisk\", \"dagger\"])\n"
     ]
    },
    {
     "name": "stdout",
     "output_type": "stream",
     "text": [
      "2018-04-16\n",
      "https://api.nytimes.com/svc/books/v3/lists.json?api-key=P1yDSg62Aydsdh04WBBuS57pYbpBu2tb&list=trade-fiction-paperback&published-date=2018-04-16\n"
     ]
    },
    {
     "name": "stderr",
     "output_type": "stream",
     "text": [
      "C:\\Users\\melan\\AppData\\Local\\Temp\\ipykernel_21772\\4058755056.py:26: FutureWarning: pandas.io.json.json_normalize is deprecated, use pandas.json_normalize instead.\n",
      "  books = json_normalize(results[\"results\"], record_path=[\"book_details\"], meta=[\"rank\", \"rank_last_week\", \"weeks_on_list\", \"asterisk\", \"dagger\"])\n"
     ]
    },
    {
     "name": "stdout",
     "output_type": "stream",
     "text": [
      "2018-04-09\n",
      "https://api.nytimes.com/svc/books/v3/lists.json?api-key=P1yDSg62Aydsdh04WBBuS57pYbpBu2tb&list=trade-fiction-paperback&published-date=2018-04-09\n"
     ]
    },
    {
     "name": "stderr",
     "output_type": "stream",
     "text": [
      "C:\\Users\\melan\\AppData\\Local\\Temp\\ipykernel_21772\\4058755056.py:26: FutureWarning: pandas.io.json.json_normalize is deprecated, use pandas.json_normalize instead.\n",
      "  books = json_normalize(results[\"results\"], record_path=[\"book_details\"], meta=[\"rank\", \"rank_last_week\", \"weeks_on_list\", \"asterisk\", \"dagger\"])\n"
     ]
    },
    {
     "name": "stdout",
     "output_type": "stream",
     "text": [
      "2018-04-02\n",
      "https://api.nytimes.com/svc/books/v3/lists.json?api-key=P1yDSg62Aydsdh04WBBuS57pYbpBu2tb&list=trade-fiction-paperback&published-date=2018-04-02\n"
     ]
    },
    {
     "name": "stderr",
     "output_type": "stream",
     "text": [
      "C:\\Users\\melan\\AppData\\Local\\Temp\\ipykernel_21772\\4058755056.py:26: FutureWarning: pandas.io.json.json_normalize is deprecated, use pandas.json_normalize instead.\n",
      "  books = json_normalize(results[\"results\"], record_path=[\"book_details\"], meta=[\"rank\", \"rank_last_week\", \"weeks_on_list\", \"asterisk\", \"dagger\"])\n"
     ]
    },
    {
     "name": "stdout",
     "output_type": "stream",
     "text": [
      "2018-03-26\n",
      "https://api.nytimes.com/svc/books/v3/lists.json?api-key=P1yDSg62Aydsdh04WBBuS57pYbpBu2tb&list=trade-fiction-paperback&published-date=2018-03-26\n"
     ]
    },
    {
     "name": "stderr",
     "output_type": "stream",
     "text": [
      "C:\\Users\\melan\\AppData\\Local\\Temp\\ipykernel_21772\\4058755056.py:26: FutureWarning: pandas.io.json.json_normalize is deprecated, use pandas.json_normalize instead.\n",
      "  books = json_normalize(results[\"results\"], record_path=[\"book_details\"], meta=[\"rank\", \"rank_last_week\", \"weeks_on_list\", \"asterisk\", \"dagger\"])\n"
     ]
    },
    {
     "name": "stdout",
     "output_type": "stream",
     "text": [
      "2018-03-19\n",
      "https://api.nytimes.com/svc/books/v3/lists.json?api-key=P1yDSg62Aydsdh04WBBuS57pYbpBu2tb&list=trade-fiction-paperback&published-date=2018-03-19\n"
     ]
    },
    {
     "name": "stderr",
     "output_type": "stream",
     "text": [
      "C:\\Users\\melan\\AppData\\Local\\Temp\\ipykernel_21772\\4058755056.py:26: FutureWarning: pandas.io.json.json_normalize is deprecated, use pandas.json_normalize instead.\n",
      "  books = json_normalize(results[\"results\"], record_path=[\"book_details\"], meta=[\"rank\", \"rank_last_week\", \"weeks_on_list\", \"asterisk\", \"dagger\"])\n"
     ]
    },
    {
     "name": "stdout",
     "output_type": "stream",
     "text": [
      "2018-03-12\n",
      "https://api.nytimes.com/svc/books/v3/lists.json?api-key=P1yDSg62Aydsdh04WBBuS57pYbpBu2tb&list=trade-fiction-paperback&published-date=2018-03-12\n"
     ]
    },
    {
     "name": "stderr",
     "output_type": "stream",
     "text": [
      "C:\\Users\\melan\\AppData\\Local\\Temp\\ipykernel_21772\\4058755056.py:26: FutureWarning: pandas.io.json.json_normalize is deprecated, use pandas.json_normalize instead.\n",
      "  books = json_normalize(results[\"results\"], record_path=[\"book_details\"], meta=[\"rank\", \"rank_last_week\", \"weeks_on_list\", \"asterisk\", \"dagger\"])\n"
     ]
    },
    {
     "name": "stdout",
     "output_type": "stream",
     "text": [
      "2018-03-05\n",
      "https://api.nytimes.com/svc/books/v3/lists.json?api-key=P1yDSg62Aydsdh04WBBuS57pYbpBu2tb&list=trade-fiction-paperback&published-date=2018-03-05\n"
     ]
    },
    {
     "name": "stderr",
     "output_type": "stream",
     "text": [
      "C:\\Users\\melan\\AppData\\Local\\Temp\\ipykernel_21772\\4058755056.py:26: FutureWarning: pandas.io.json.json_normalize is deprecated, use pandas.json_normalize instead.\n",
      "  books = json_normalize(results[\"results\"], record_path=[\"book_details\"], meta=[\"rank\", \"rank_last_week\", \"weeks_on_list\", \"asterisk\", \"dagger\"])\n"
     ]
    },
    {
     "name": "stdout",
     "output_type": "stream",
     "text": [
      "2018-02-26\n",
      "https://api.nytimes.com/svc/books/v3/lists.json?api-key=P1yDSg62Aydsdh04WBBuS57pYbpBu2tb&list=trade-fiction-paperback&published-date=2018-02-26\n"
     ]
    },
    {
     "name": "stderr",
     "output_type": "stream",
     "text": [
      "C:\\Users\\melan\\AppData\\Local\\Temp\\ipykernel_21772\\4058755056.py:26: FutureWarning: pandas.io.json.json_normalize is deprecated, use pandas.json_normalize instead.\n",
      "  books = json_normalize(results[\"results\"], record_path=[\"book_details\"], meta=[\"rank\", \"rank_last_week\", \"weeks_on_list\", \"asterisk\", \"dagger\"])\n"
     ]
    },
    {
     "name": "stdout",
     "output_type": "stream",
     "text": [
      "2018-02-19\n",
      "https://api.nytimes.com/svc/books/v3/lists.json?api-key=P1yDSg62Aydsdh04WBBuS57pYbpBu2tb&list=trade-fiction-paperback&published-date=2018-02-19\n"
     ]
    },
    {
     "name": "stderr",
     "output_type": "stream",
     "text": [
      "C:\\Users\\melan\\AppData\\Local\\Temp\\ipykernel_21772\\4058755056.py:26: FutureWarning: pandas.io.json.json_normalize is deprecated, use pandas.json_normalize instead.\n",
      "  books = json_normalize(results[\"results\"], record_path=[\"book_details\"], meta=[\"rank\", \"rank_last_week\", \"weeks_on_list\", \"asterisk\", \"dagger\"])\n"
     ]
    },
    {
     "name": "stdout",
     "output_type": "stream",
     "text": [
      "2018-02-12\n",
      "https://api.nytimes.com/svc/books/v3/lists.json?api-key=P1yDSg62Aydsdh04WBBuS57pYbpBu2tb&list=trade-fiction-paperback&published-date=2018-02-12\n"
     ]
    },
    {
     "name": "stderr",
     "output_type": "stream",
     "text": [
      "C:\\Users\\melan\\AppData\\Local\\Temp\\ipykernel_21772\\4058755056.py:26: FutureWarning: pandas.io.json.json_normalize is deprecated, use pandas.json_normalize instead.\n",
      "  books = json_normalize(results[\"results\"], record_path=[\"book_details\"], meta=[\"rank\", \"rank_last_week\", \"weeks_on_list\", \"asterisk\", \"dagger\"])\n"
     ]
    },
    {
     "name": "stdout",
     "output_type": "stream",
     "text": [
      "2018-02-05\n",
      "https://api.nytimes.com/svc/books/v3/lists.json?api-key=P1yDSg62Aydsdh04WBBuS57pYbpBu2tb&list=trade-fiction-paperback&published-date=2018-02-05\n"
     ]
    },
    {
     "name": "stderr",
     "output_type": "stream",
     "text": [
      "C:\\Users\\melan\\AppData\\Local\\Temp\\ipykernel_21772\\4058755056.py:26: FutureWarning: pandas.io.json.json_normalize is deprecated, use pandas.json_normalize instead.\n",
      "  books = json_normalize(results[\"results\"], record_path=[\"book_details\"], meta=[\"rank\", \"rank_last_week\", \"weeks_on_list\", \"asterisk\", \"dagger\"])\n"
     ]
    },
    {
     "name": "stdout",
     "output_type": "stream",
     "text": [
      "2018-01-29\n",
      "https://api.nytimes.com/svc/books/v3/lists.json?api-key=P1yDSg62Aydsdh04WBBuS57pYbpBu2tb&list=trade-fiction-paperback&published-date=2018-01-29\n"
     ]
    },
    {
     "name": "stderr",
     "output_type": "stream",
     "text": [
      "C:\\Users\\melan\\AppData\\Local\\Temp\\ipykernel_21772\\4058755056.py:26: FutureWarning: pandas.io.json.json_normalize is deprecated, use pandas.json_normalize instead.\n",
      "  books = json_normalize(results[\"results\"], record_path=[\"book_details\"], meta=[\"rank\", \"rank_last_week\", \"weeks_on_list\", \"asterisk\", \"dagger\"])\n"
     ]
    },
    {
     "name": "stdout",
     "output_type": "stream",
     "text": [
      "2018-01-22\n",
      "https://api.nytimes.com/svc/books/v3/lists.json?api-key=P1yDSg62Aydsdh04WBBuS57pYbpBu2tb&list=trade-fiction-paperback&published-date=2018-01-22\n"
     ]
    },
    {
     "name": "stderr",
     "output_type": "stream",
     "text": [
      "C:\\Users\\melan\\AppData\\Local\\Temp\\ipykernel_21772\\4058755056.py:26: FutureWarning: pandas.io.json.json_normalize is deprecated, use pandas.json_normalize instead.\n",
      "  books = json_normalize(results[\"results\"], record_path=[\"book_details\"], meta=[\"rank\", \"rank_last_week\", \"weeks_on_list\", \"asterisk\", \"dagger\"])\n"
     ]
    },
    {
     "name": "stdout",
     "output_type": "stream",
     "text": [
      "2018-01-15\n",
      "https://api.nytimes.com/svc/books/v3/lists.json?api-key=P1yDSg62Aydsdh04WBBuS57pYbpBu2tb&list=trade-fiction-paperback&published-date=2018-01-15\n"
     ]
    },
    {
     "name": "stderr",
     "output_type": "stream",
     "text": [
      "C:\\Users\\melan\\AppData\\Local\\Temp\\ipykernel_21772\\4058755056.py:26: FutureWarning: pandas.io.json.json_normalize is deprecated, use pandas.json_normalize instead.\n",
      "  books = json_normalize(results[\"results\"], record_path=[\"book_details\"], meta=[\"rank\", \"rank_last_week\", \"weeks_on_list\", \"asterisk\", \"dagger\"])\n"
     ]
    },
    {
     "name": "stdout",
     "output_type": "stream",
     "text": [
      "2018-01-08\n",
      "https://api.nytimes.com/svc/books/v3/lists.json?api-key=P1yDSg62Aydsdh04WBBuS57pYbpBu2tb&list=trade-fiction-paperback&published-date=2018-01-08\n"
     ]
    },
    {
     "name": "stderr",
     "output_type": "stream",
     "text": [
      "C:\\Users\\melan\\AppData\\Local\\Temp\\ipykernel_21772\\4058755056.py:26: FutureWarning: pandas.io.json.json_normalize is deprecated, use pandas.json_normalize instead.\n",
      "  books = json_normalize(results[\"results\"], record_path=[\"book_details\"], meta=[\"rank\", \"rank_last_week\", \"weeks_on_list\", \"asterisk\", \"dagger\"])\n"
     ]
    },
    {
     "name": "stdout",
     "output_type": "stream",
     "text": [
      "2018-01-01\n",
      "https://api.nytimes.com/svc/books/v3/lists.json?api-key=P1yDSg62Aydsdh04WBBuS57pYbpBu2tb&list=trade-fiction-paperback&published-date=2018-01-01\n"
     ]
    },
    {
     "name": "stderr",
     "output_type": "stream",
     "text": [
      "C:\\Users\\melan\\AppData\\Local\\Temp\\ipykernel_21772\\4058755056.py:26: FutureWarning: pandas.io.json.json_normalize is deprecated, use pandas.json_normalize instead.\n",
      "  books = json_normalize(results[\"results\"], record_path=[\"book_details\"], meta=[\"rank\", \"rank_last_week\", \"weeks_on_list\", \"asterisk\", \"dagger\"])\n"
     ]
    },
    {
     "name": "stdout",
     "output_type": "stream",
     "text": [
      "2017-12-25\n",
      "https://api.nytimes.com/svc/books/v3/lists.json?api-key=P1yDSg62Aydsdh04WBBuS57pYbpBu2tb&list=trade-fiction-paperback&published-date=2017-12-25\n"
     ]
    },
    {
     "name": "stderr",
     "output_type": "stream",
     "text": [
      "C:\\Users\\melan\\AppData\\Local\\Temp\\ipykernel_21772\\4058755056.py:26: FutureWarning: pandas.io.json.json_normalize is deprecated, use pandas.json_normalize instead.\n",
      "  books = json_normalize(results[\"results\"], record_path=[\"book_details\"], meta=[\"rank\", \"rank_last_week\", \"weeks_on_list\", \"asterisk\", \"dagger\"])\n"
     ]
    },
    {
     "name": "stdout",
     "output_type": "stream",
     "text": [
      "2017-12-18\n",
      "https://api.nytimes.com/svc/books/v3/lists.json?api-key=P1yDSg62Aydsdh04WBBuS57pYbpBu2tb&list=trade-fiction-paperback&published-date=2017-12-18\n"
     ]
    },
    {
     "name": "stderr",
     "output_type": "stream",
     "text": [
      "C:\\Users\\melan\\AppData\\Local\\Temp\\ipykernel_21772\\4058755056.py:26: FutureWarning: pandas.io.json.json_normalize is deprecated, use pandas.json_normalize instead.\n",
      "  books = json_normalize(results[\"results\"], record_path=[\"book_details\"], meta=[\"rank\", \"rank_last_week\", \"weeks_on_list\", \"asterisk\", \"dagger\"])\n"
     ]
    },
    {
     "name": "stdout",
     "output_type": "stream",
     "text": [
      "2017-12-11\n",
      "https://api.nytimes.com/svc/books/v3/lists.json?api-key=P1yDSg62Aydsdh04WBBuS57pYbpBu2tb&list=trade-fiction-paperback&published-date=2017-12-11\n"
     ]
    },
    {
     "name": "stderr",
     "output_type": "stream",
     "text": [
      "C:\\Users\\melan\\AppData\\Local\\Temp\\ipykernel_21772\\4058755056.py:26: FutureWarning: pandas.io.json.json_normalize is deprecated, use pandas.json_normalize instead.\n",
      "  books = json_normalize(results[\"results\"], record_path=[\"book_details\"], meta=[\"rank\", \"rank_last_week\", \"weeks_on_list\", \"asterisk\", \"dagger\"])\n"
     ]
    },
    {
     "name": "stdout",
     "output_type": "stream",
     "text": [
      "2017-12-04\n",
      "https://api.nytimes.com/svc/books/v3/lists.json?api-key=P1yDSg62Aydsdh04WBBuS57pYbpBu2tb&list=trade-fiction-paperback&published-date=2017-12-04\n"
     ]
    },
    {
     "name": "stderr",
     "output_type": "stream",
     "text": [
      "C:\\Users\\melan\\AppData\\Local\\Temp\\ipykernel_21772\\4058755056.py:26: FutureWarning: pandas.io.json.json_normalize is deprecated, use pandas.json_normalize instead.\n",
      "  books = json_normalize(results[\"results\"], record_path=[\"book_details\"], meta=[\"rank\", \"rank_last_week\", \"weeks_on_list\", \"asterisk\", \"dagger\"])\n"
     ]
    },
    {
     "name": "stdout",
     "output_type": "stream",
     "text": [
      "2017-11-27\n",
      "https://api.nytimes.com/svc/books/v3/lists.json?api-key=P1yDSg62Aydsdh04WBBuS57pYbpBu2tb&list=trade-fiction-paperback&published-date=2017-11-27\n"
     ]
    },
    {
     "name": "stderr",
     "output_type": "stream",
     "text": [
      "C:\\Users\\melan\\AppData\\Local\\Temp\\ipykernel_21772\\4058755056.py:26: FutureWarning: pandas.io.json.json_normalize is deprecated, use pandas.json_normalize instead.\n",
      "  books = json_normalize(results[\"results\"], record_path=[\"book_details\"], meta=[\"rank\", \"rank_last_week\", \"weeks_on_list\", \"asterisk\", \"dagger\"])\n"
     ]
    },
    {
     "name": "stdout",
     "output_type": "stream",
     "text": [
      "2017-11-20\n",
      "https://api.nytimes.com/svc/books/v3/lists.json?api-key=P1yDSg62Aydsdh04WBBuS57pYbpBu2tb&list=trade-fiction-paperback&published-date=2017-11-20\n"
     ]
    },
    {
     "name": "stderr",
     "output_type": "stream",
     "text": [
      "C:\\Users\\melan\\AppData\\Local\\Temp\\ipykernel_21772\\4058755056.py:26: FutureWarning: pandas.io.json.json_normalize is deprecated, use pandas.json_normalize instead.\n",
      "  books = json_normalize(results[\"results\"], record_path=[\"book_details\"], meta=[\"rank\", \"rank_last_week\", \"weeks_on_list\", \"asterisk\", \"dagger\"])\n"
     ]
    },
    {
     "name": "stdout",
     "output_type": "stream",
     "text": [
      "2017-11-13\n",
      "https://api.nytimes.com/svc/books/v3/lists.json?api-key=P1yDSg62Aydsdh04WBBuS57pYbpBu2tb&list=trade-fiction-paperback&published-date=2017-11-13\n"
     ]
    },
    {
     "name": "stderr",
     "output_type": "stream",
     "text": [
      "C:\\Users\\melan\\AppData\\Local\\Temp\\ipykernel_21772\\4058755056.py:26: FutureWarning: pandas.io.json.json_normalize is deprecated, use pandas.json_normalize instead.\n",
      "  books = json_normalize(results[\"results\"], record_path=[\"book_details\"], meta=[\"rank\", \"rank_last_week\", \"weeks_on_list\", \"asterisk\", \"dagger\"])\n"
     ]
    },
    {
     "name": "stdout",
     "output_type": "stream",
     "text": [
      "2017-11-06\n",
      "https://api.nytimes.com/svc/books/v3/lists.json?api-key=P1yDSg62Aydsdh04WBBuS57pYbpBu2tb&list=trade-fiction-paperback&published-date=2017-11-06\n"
     ]
    },
    {
     "name": "stderr",
     "output_type": "stream",
     "text": [
      "C:\\Users\\melan\\AppData\\Local\\Temp\\ipykernel_21772\\4058755056.py:26: FutureWarning: pandas.io.json.json_normalize is deprecated, use pandas.json_normalize instead.\n",
      "  books = json_normalize(results[\"results\"], record_path=[\"book_details\"], meta=[\"rank\", \"rank_last_week\", \"weeks_on_list\", \"asterisk\", \"dagger\"])\n"
     ]
    },
    {
     "name": "stdout",
     "output_type": "stream",
     "text": [
      "2017-10-30\n",
      "https://api.nytimes.com/svc/books/v3/lists.json?api-key=P1yDSg62Aydsdh04WBBuS57pYbpBu2tb&list=trade-fiction-paperback&published-date=2017-10-30\n"
     ]
    },
    {
     "name": "stderr",
     "output_type": "stream",
     "text": [
      "C:\\Users\\melan\\AppData\\Local\\Temp\\ipykernel_21772\\4058755056.py:26: FutureWarning: pandas.io.json.json_normalize is deprecated, use pandas.json_normalize instead.\n",
      "  books = json_normalize(results[\"results\"], record_path=[\"book_details\"], meta=[\"rank\", \"rank_last_week\", \"weeks_on_list\", \"asterisk\", \"dagger\"])\n"
     ]
    },
    {
     "name": "stdout",
     "output_type": "stream",
     "text": [
      "2017-10-23\n",
      "https://api.nytimes.com/svc/books/v3/lists.json?api-key=P1yDSg62Aydsdh04WBBuS57pYbpBu2tb&list=trade-fiction-paperback&published-date=2017-10-23\n"
     ]
    },
    {
     "name": "stderr",
     "output_type": "stream",
     "text": [
      "C:\\Users\\melan\\AppData\\Local\\Temp\\ipykernel_21772\\4058755056.py:26: FutureWarning: pandas.io.json.json_normalize is deprecated, use pandas.json_normalize instead.\n",
      "  books = json_normalize(results[\"results\"], record_path=[\"book_details\"], meta=[\"rank\", \"rank_last_week\", \"weeks_on_list\", \"asterisk\", \"dagger\"])\n"
     ]
    },
    {
     "name": "stdout",
     "output_type": "stream",
     "text": [
      "2017-10-16\n",
      "https://api.nytimes.com/svc/books/v3/lists.json?api-key=P1yDSg62Aydsdh04WBBuS57pYbpBu2tb&list=trade-fiction-paperback&published-date=2017-10-16\n"
     ]
    },
    {
     "name": "stderr",
     "output_type": "stream",
     "text": [
      "C:\\Users\\melan\\AppData\\Local\\Temp\\ipykernel_21772\\4058755056.py:26: FutureWarning: pandas.io.json.json_normalize is deprecated, use pandas.json_normalize instead.\n",
      "  books = json_normalize(results[\"results\"], record_path=[\"book_details\"], meta=[\"rank\", \"rank_last_week\", \"weeks_on_list\", \"asterisk\", \"dagger\"])\n"
     ]
    },
    {
     "name": "stdout",
     "output_type": "stream",
     "text": [
      "2017-10-09\n",
      "https://api.nytimes.com/svc/books/v3/lists.json?api-key=P1yDSg62Aydsdh04WBBuS57pYbpBu2tb&list=trade-fiction-paperback&published-date=2017-10-09\n"
     ]
    },
    {
     "name": "stderr",
     "output_type": "stream",
     "text": [
      "C:\\Users\\melan\\AppData\\Local\\Temp\\ipykernel_21772\\4058755056.py:26: FutureWarning: pandas.io.json.json_normalize is deprecated, use pandas.json_normalize instead.\n",
      "  books = json_normalize(results[\"results\"], record_path=[\"book_details\"], meta=[\"rank\", \"rank_last_week\", \"weeks_on_list\", \"asterisk\", \"dagger\"])\n"
     ]
    },
    {
     "name": "stdout",
     "output_type": "stream",
     "text": [
      "2017-10-02\n",
      "https://api.nytimes.com/svc/books/v3/lists.json?api-key=P1yDSg62Aydsdh04WBBuS57pYbpBu2tb&list=trade-fiction-paperback&published-date=2017-10-02\n"
     ]
    },
    {
     "name": "stderr",
     "output_type": "stream",
     "text": [
      "C:\\Users\\melan\\AppData\\Local\\Temp\\ipykernel_21772\\4058755056.py:26: FutureWarning: pandas.io.json.json_normalize is deprecated, use pandas.json_normalize instead.\n",
      "  books = json_normalize(results[\"results\"], record_path=[\"book_details\"], meta=[\"rank\", \"rank_last_week\", \"weeks_on_list\", \"asterisk\", \"dagger\"])\n"
     ]
    },
    {
     "name": "stdout",
     "output_type": "stream",
     "text": [
      "2017-09-25\n",
      "https://api.nytimes.com/svc/books/v3/lists.json?api-key=P1yDSg62Aydsdh04WBBuS57pYbpBu2tb&list=trade-fiction-paperback&published-date=2017-09-25\n"
     ]
    },
    {
     "name": "stderr",
     "output_type": "stream",
     "text": [
      "C:\\Users\\melan\\AppData\\Local\\Temp\\ipykernel_21772\\4058755056.py:26: FutureWarning: pandas.io.json.json_normalize is deprecated, use pandas.json_normalize instead.\n",
      "  books = json_normalize(results[\"results\"], record_path=[\"book_details\"], meta=[\"rank\", \"rank_last_week\", \"weeks_on_list\", \"asterisk\", \"dagger\"])\n"
     ]
    },
    {
     "name": "stdout",
     "output_type": "stream",
     "text": [
      "2017-09-18\n",
      "https://api.nytimes.com/svc/books/v3/lists.json?api-key=P1yDSg62Aydsdh04WBBuS57pYbpBu2tb&list=trade-fiction-paperback&published-date=2017-09-18\n"
     ]
    },
    {
     "name": "stderr",
     "output_type": "stream",
     "text": [
      "C:\\Users\\melan\\AppData\\Local\\Temp\\ipykernel_21772\\4058755056.py:26: FutureWarning: pandas.io.json.json_normalize is deprecated, use pandas.json_normalize instead.\n",
      "  books = json_normalize(results[\"results\"], record_path=[\"book_details\"], meta=[\"rank\", \"rank_last_week\", \"weeks_on_list\", \"asterisk\", \"dagger\"])\n"
     ]
    },
    {
     "name": "stdout",
     "output_type": "stream",
     "text": [
      "2017-09-11\n",
      "https://api.nytimes.com/svc/books/v3/lists.json?api-key=P1yDSg62Aydsdh04WBBuS57pYbpBu2tb&list=trade-fiction-paperback&published-date=2017-09-11\n"
     ]
    },
    {
     "name": "stderr",
     "output_type": "stream",
     "text": [
      "C:\\Users\\melan\\AppData\\Local\\Temp\\ipykernel_21772\\4058755056.py:26: FutureWarning: pandas.io.json.json_normalize is deprecated, use pandas.json_normalize instead.\n",
      "  books = json_normalize(results[\"results\"], record_path=[\"book_details\"], meta=[\"rank\", \"rank_last_week\", \"weeks_on_list\", \"asterisk\", \"dagger\"])\n"
     ]
    },
    {
     "name": "stdout",
     "output_type": "stream",
     "text": [
      "2017-09-04\n",
      "https://api.nytimes.com/svc/books/v3/lists.json?api-key=P1yDSg62Aydsdh04WBBuS57pYbpBu2tb&list=trade-fiction-paperback&published-date=2017-09-04\n"
     ]
    },
    {
     "name": "stderr",
     "output_type": "stream",
     "text": [
      "C:\\Users\\melan\\AppData\\Local\\Temp\\ipykernel_21772\\4058755056.py:26: FutureWarning: pandas.io.json.json_normalize is deprecated, use pandas.json_normalize instead.\n",
      "  books = json_normalize(results[\"results\"], record_path=[\"book_details\"], meta=[\"rank\", \"rank_last_week\", \"weeks_on_list\", \"asterisk\", \"dagger\"])\n"
     ]
    },
    {
     "name": "stdout",
     "output_type": "stream",
     "text": [
      "2017-08-28\n",
      "https://api.nytimes.com/svc/books/v3/lists.json?api-key=P1yDSg62Aydsdh04WBBuS57pYbpBu2tb&list=trade-fiction-paperback&published-date=2017-08-28\n"
     ]
    },
    {
     "name": "stderr",
     "output_type": "stream",
     "text": [
      "C:\\Users\\melan\\AppData\\Local\\Temp\\ipykernel_21772\\4058755056.py:26: FutureWarning: pandas.io.json.json_normalize is deprecated, use pandas.json_normalize instead.\n",
      "  books = json_normalize(results[\"results\"], record_path=[\"book_details\"], meta=[\"rank\", \"rank_last_week\", \"weeks_on_list\", \"asterisk\", \"dagger\"])\n"
     ]
    },
    {
     "name": "stdout",
     "output_type": "stream",
     "text": [
      "2017-08-21\n",
      "https://api.nytimes.com/svc/books/v3/lists.json?api-key=P1yDSg62Aydsdh04WBBuS57pYbpBu2tb&list=trade-fiction-paperback&published-date=2017-08-21\n"
     ]
    },
    {
     "name": "stderr",
     "output_type": "stream",
     "text": [
      "C:\\Users\\melan\\AppData\\Local\\Temp\\ipykernel_21772\\4058755056.py:26: FutureWarning: pandas.io.json.json_normalize is deprecated, use pandas.json_normalize instead.\n",
      "  books = json_normalize(results[\"results\"], record_path=[\"book_details\"], meta=[\"rank\", \"rank_last_week\", \"weeks_on_list\", \"asterisk\", \"dagger\"])\n"
     ]
    },
    {
     "name": "stdout",
     "output_type": "stream",
     "text": [
      "2017-08-14\n",
      "https://api.nytimes.com/svc/books/v3/lists.json?api-key=P1yDSg62Aydsdh04WBBuS57pYbpBu2tb&list=trade-fiction-paperback&published-date=2017-08-14\n"
     ]
    },
    {
     "name": "stderr",
     "output_type": "stream",
     "text": [
      "C:\\Users\\melan\\AppData\\Local\\Temp\\ipykernel_21772\\4058755056.py:26: FutureWarning: pandas.io.json.json_normalize is deprecated, use pandas.json_normalize instead.\n",
      "  books = json_normalize(results[\"results\"], record_path=[\"book_details\"], meta=[\"rank\", \"rank_last_week\", \"weeks_on_list\", \"asterisk\", \"dagger\"])\n"
     ]
    },
    {
     "name": "stdout",
     "output_type": "stream",
     "text": [
      "2017-08-07\n",
      "https://api.nytimes.com/svc/books/v3/lists.json?api-key=P1yDSg62Aydsdh04WBBuS57pYbpBu2tb&list=trade-fiction-paperback&published-date=2017-08-07\n"
     ]
    },
    {
     "name": "stderr",
     "output_type": "stream",
     "text": [
      "C:\\Users\\melan\\AppData\\Local\\Temp\\ipykernel_21772\\4058755056.py:26: FutureWarning: pandas.io.json.json_normalize is deprecated, use pandas.json_normalize instead.\n",
      "  books = json_normalize(results[\"results\"], record_path=[\"book_details\"], meta=[\"rank\", \"rank_last_week\", \"weeks_on_list\", \"asterisk\", \"dagger\"])\n"
     ]
    },
    {
     "name": "stdout",
     "output_type": "stream",
     "text": [
      "2017-07-31\n",
      "https://api.nytimes.com/svc/books/v3/lists.json?api-key=P1yDSg62Aydsdh04WBBuS57pYbpBu2tb&list=trade-fiction-paperback&published-date=2017-07-31\n"
     ]
    },
    {
     "name": "stderr",
     "output_type": "stream",
     "text": [
      "C:\\Users\\melan\\AppData\\Local\\Temp\\ipykernel_21772\\4058755056.py:26: FutureWarning: pandas.io.json.json_normalize is deprecated, use pandas.json_normalize instead.\n",
      "  books = json_normalize(results[\"results\"], record_path=[\"book_details\"], meta=[\"rank\", \"rank_last_week\", \"weeks_on_list\", \"asterisk\", \"dagger\"])\n"
     ]
    },
    {
     "name": "stdout",
     "output_type": "stream",
     "text": [
      "2017-07-24\n",
      "https://api.nytimes.com/svc/books/v3/lists.json?api-key=P1yDSg62Aydsdh04WBBuS57pYbpBu2tb&list=trade-fiction-paperback&published-date=2017-07-24\n"
     ]
    },
    {
     "name": "stderr",
     "output_type": "stream",
     "text": [
      "C:\\Users\\melan\\AppData\\Local\\Temp\\ipykernel_21772\\4058755056.py:26: FutureWarning: pandas.io.json.json_normalize is deprecated, use pandas.json_normalize instead.\n",
      "  books = json_normalize(results[\"results\"], record_path=[\"book_details\"], meta=[\"rank\", \"rank_last_week\", \"weeks_on_list\", \"asterisk\", \"dagger\"])\n"
     ]
    },
    {
     "name": "stdout",
     "output_type": "stream",
     "text": [
      "2017-07-17\n",
      "https://api.nytimes.com/svc/books/v3/lists.json?api-key=P1yDSg62Aydsdh04WBBuS57pYbpBu2tb&list=trade-fiction-paperback&published-date=2017-07-17\n"
     ]
    },
    {
     "name": "stderr",
     "output_type": "stream",
     "text": [
      "C:\\Users\\melan\\AppData\\Local\\Temp\\ipykernel_21772\\4058755056.py:26: FutureWarning: pandas.io.json.json_normalize is deprecated, use pandas.json_normalize instead.\n",
      "  books = json_normalize(results[\"results\"], record_path=[\"book_details\"], meta=[\"rank\", \"rank_last_week\", \"weeks_on_list\", \"asterisk\", \"dagger\"])\n"
     ]
    },
    {
     "name": "stdout",
     "output_type": "stream",
     "text": [
      "2017-07-10\n",
      "https://api.nytimes.com/svc/books/v3/lists.json?api-key=P1yDSg62Aydsdh04WBBuS57pYbpBu2tb&list=trade-fiction-paperback&published-date=2017-07-10\n"
     ]
    },
    {
     "name": "stderr",
     "output_type": "stream",
     "text": [
      "C:\\Users\\melan\\AppData\\Local\\Temp\\ipykernel_21772\\4058755056.py:26: FutureWarning: pandas.io.json.json_normalize is deprecated, use pandas.json_normalize instead.\n",
      "  books = json_normalize(results[\"results\"], record_path=[\"book_details\"], meta=[\"rank\", \"rank_last_week\", \"weeks_on_list\", \"asterisk\", \"dagger\"])\n"
     ]
    },
    {
     "name": "stdout",
     "output_type": "stream",
     "text": [
      "2017-07-03\n",
      "https://api.nytimes.com/svc/books/v3/lists.json?api-key=P1yDSg62Aydsdh04WBBuS57pYbpBu2tb&list=trade-fiction-paperback&published-date=2017-07-03\n"
     ]
    },
    {
     "name": "stderr",
     "output_type": "stream",
     "text": [
      "C:\\Users\\melan\\AppData\\Local\\Temp\\ipykernel_21772\\4058755056.py:26: FutureWarning: pandas.io.json.json_normalize is deprecated, use pandas.json_normalize instead.\n",
      "  books = json_normalize(results[\"results\"], record_path=[\"book_details\"], meta=[\"rank\", \"rank_last_week\", \"weeks_on_list\", \"asterisk\", \"dagger\"])\n"
     ]
    },
    {
     "name": "stdout",
     "output_type": "stream",
     "text": [
      "2017-06-26\n",
      "https://api.nytimes.com/svc/books/v3/lists.json?api-key=P1yDSg62Aydsdh04WBBuS57pYbpBu2tb&list=trade-fiction-paperback&published-date=2017-06-26\n"
     ]
    },
    {
     "name": "stderr",
     "output_type": "stream",
     "text": [
      "C:\\Users\\melan\\AppData\\Local\\Temp\\ipykernel_21772\\4058755056.py:26: FutureWarning: pandas.io.json.json_normalize is deprecated, use pandas.json_normalize instead.\n",
      "  books = json_normalize(results[\"results\"], record_path=[\"book_details\"], meta=[\"rank\", \"rank_last_week\", \"weeks_on_list\", \"asterisk\", \"dagger\"])\n"
     ]
    },
    {
     "name": "stdout",
     "output_type": "stream",
     "text": [
      "2017-06-19\n",
      "https://api.nytimes.com/svc/books/v3/lists.json?api-key=P1yDSg62Aydsdh04WBBuS57pYbpBu2tb&list=trade-fiction-paperback&published-date=2017-06-19\n"
     ]
    },
    {
     "name": "stderr",
     "output_type": "stream",
     "text": [
      "C:\\Users\\melan\\AppData\\Local\\Temp\\ipykernel_21772\\4058755056.py:26: FutureWarning: pandas.io.json.json_normalize is deprecated, use pandas.json_normalize instead.\n",
      "  books = json_normalize(results[\"results\"], record_path=[\"book_details\"], meta=[\"rank\", \"rank_last_week\", \"weeks_on_list\", \"asterisk\", \"dagger\"])\n"
     ]
    },
    {
     "name": "stdout",
     "output_type": "stream",
     "text": [
      "2017-06-12\n",
      "https://api.nytimes.com/svc/books/v3/lists.json?api-key=P1yDSg62Aydsdh04WBBuS57pYbpBu2tb&list=trade-fiction-paperback&published-date=2017-06-12\n"
     ]
    },
    {
     "name": "stderr",
     "output_type": "stream",
     "text": [
      "C:\\Users\\melan\\AppData\\Local\\Temp\\ipykernel_21772\\4058755056.py:26: FutureWarning: pandas.io.json.json_normalize is deprecated, use pandas.json_normalize instead.\n",
      "  books = json_normalize(results[\"results\"], record_path=[\"book_details\"], meta=[\"rank\", \"rank_last_week\", \"weeks_on_list\", \"asterisk\", \"dagger\"])\n"
     ]
    },
    {
     "name": "stdout",
     "output_type": "stream",
     "text": [
      "2017-06-05\n",
      "https://api.nytimes.com/svc/books/v3/lists.json?api-key=P1yDSg62Aydsdh04WBBuS57pYbpBu2tb&list=trade-fiction-paperback&published-date=2017-06-05\n"
     ]
    },
    {
     "name": "stderr",
     "output_type": "stream",
     "text": [
      "C:\\Users\\melan\\AppData\\Local\\Temp\\ipykernel_21772\\4058755056.py:26: FutureWarning: pandas.io.json.json_normalize is deprecated, use pandas.json_normalize instead.\n",
      "  books = json_normalize(results[\"results\"], record_path=[\"book_details\"], meta=[\"rank\", \"rank_last_week\", \"weeks_on_list\", \"asterisk\", \"dagger\"])\n"
     ]
    },
    {
     "name": "stdout",
     "output_type": "stream",
     "text": [
      "2017-05-29\n",
      "https://api.nytimes.com/svc/books/v3/lists.json?api-key=P1yDSg62Aydsdh04WBBuS57pYbpBu2tb&list=trade-fiction-paperback&published-date=2017-05-29\n"
     ]
    },
    {
     "name": "stderr",
     "output_type": "stream",
     "text": [
      "C:\\Users\\melan\\AppData\\Local\\Temp\\ipykernel_21772\\4058755056.py:26: FutureWarning: pandas.io.json.json_normalize is deprecated, use pandas.json_normalize instead.\n",
      "  books = json_normalize(results[\"results\"], record_path=[\"book_details\"], meta=[\"rank\", \"rank_last_week\", \"weeks_on_list\", \"asterisk\", \"dagger\"])\n"
     ]
    },
    {
     "name": "stdout",
     "output_type": "stream",
     "text": [
      "2017-05-22\n",
      "https://api.nytimes.com/svc/books/v3/lists.json?api-key=P1yDSg62Aydsdh04WBBuS57pYbpBu2tb&list=trade-fiction-paperback&published-date=2017-05-22\n"
     ]
    },
    {
     "name": "stderr",
     "output_type": "stream",
     "text": [
      "C:\\Users\\melan\\AppData\\Local\\Temp\\ipykernel_21772\\4058755056.py:26: FutureWarning: pandas.io.json.json_normalize is deprecated, use pandas.json_normalize instead.\n",
      "  books = json_normalize(results[\"results\"], record_path=[\"book_details\"], meta=[\"rank\", \"rank_last_week\", \"weeks_on_list\", \"asterisk\", \"dagger\"])\n"
     ]
    },
    {
     "name": "stdout",
     "output_type": "stream",
     "text": [
      "2017-05-15\n",
      "https://api.nytimes.com/svc/books/v3/lists.json?api-key=P1yDSg62Aydsdh04WBBuS57pYbpBu2tb&list=trade-fiction-paperback&published-date=2017-05-15\n"
     ]
    },
    {
     "name": "stderr",
     "output_type": "stream",
     "text": [
      "C:\\Users\\melan\\AppData\\Local\\Temp\\ipykernel_21772\\4058755056.py:26: FutureWarning: pandas.io.json.json_normalize is deprecated, use pandas.json_normalize instead.\n",
      "  books = json_normalize(results[\"results\"], record_path=[\"book_details\"], meta=[\"rank\", \"rank_last_week\", \"weeks_on_list\", \"asterisk\", \"dagger\"])\n"
     ]
    },
    {
     "name": "stdout",
     "output_type": "stream",
     "text": [
      "2017-05-08\n",
      "https://api.nytimes.com/svc/books/v3/lists.json?api-key=P1yDSg62Aydsdh04WBBuS57pYbpBu2tb&list=trade-fiction-paperback&published-date=2017-05-08\n"
     ]
    },
    {
     "name": "stderr",
     "output_type": "stream",
     "text": [
      "C:\\Users\\melan\\AppData\\Local\\Temp\\ipykernel_21772\\4058755056.py:26: FutureWarning: pandas.io.json.json_normalize is deprecated, use pandas.json_normalize instead.\n",
      "  books = json_normalize(results[\"results\"], record_path=[\"book_details\"], meta=[\"rank\", \"rank_last_week\", \"weeks_on_list\", \"asterisk\", \"dagger\"])\n"
     ]
    },
    {
     "name": "stdout",
     "output_type": "stream",
     "text": [
      "2017-05-01\n",
      "https://api.nytimes.com/svc/books/v3/lists.json?api-key=P1yDSg62Aydsdh04WBBuS57pYbpBu2tb&list=trade-fiction-paperback&published-date=2017-05-01\n"
     ]
    },
    {
     "name": "stderr",
     "output_type": "stream",
     "text": [
      "C:\\Users\\melan\\AppData\\Local\\Temp\\ipykernel_21772\\4058755056.py:26: FutureWarning: pandas.io.json.json_normalize is deprecated, use pandas.json_normalize instead.\n",
      "  books = json_normalize(results[\"results\"], record_path=[\"book_details\"], meta=[\"rank\", \"rank_last_week\", \"weeks_on_list\", \"asterisk\", \"dagger\"])\n"
     ]
    },
    {
     "name": "stdout",
     "output_type": "stream",
     "text": [
      "2017-04-24\n",
      "https://api.nytimes.com/svc/books/v3/lists.json?api-key=P1yDSg62Aydsdh04WBBuS57pYbpBu2tb&list=trade-fiction-paperback&published-date=2017-04-24\n"
     ]
    },
    {
     "name": "stderr",
     "output_type": "stream",
     "text": [
      "C:\\Users\\melan\\AppData\\Local\\Temp\\ipykernel_21772\\4058755056.py:26: FutureWarning: pandas.io.json.json_normalize is deprecated, use pandas.json_normalize instead.\n",
      "  books = json_normalize(results[\"results\"], record_path=[\"book_details\"], meta=[\"rank\", \"rank_last_week\", \"weeks_on_list\", \"asterisk\", \"dagger\"])\n"
     ]
    },
    {
     "name": "stdout",
     "output_type": "stream",
     "text": [
      "2017-04-17\n",
      "https://api.nytimes.com/svc/books/v3/lists.json?api-key=P1yDSg62Aydsdh04WBBuS57pYbpBu2tb&list=trade-fiction-paperback&published-date=2017-04-17\n"
     ]
    },
    {
     "name": "stderr",
     "output_type": "stream",
     "text": [
      "C:\\Users\\melan\\AppData\\Local\\Temp\\ipykernel_21772\\4058755056.py:26: FutureWarning: pandas.io.json.json_normalize is deprecated, use pandas.json_normalize instead.\n",
      "  books = json_normalize(results[\"results\"], record_path=[\"book_details\"], meta=[\"rank\", \"rank_last_week\", \"weeks_on_list\", \"asterisk\", \"dagger\"])\n"
     ]
    },
    {
     "name": "stdout",
     "output_type": "stream",
     "text": [
      "2017-04-10\n",
      "https://api.nytimes.com/svc/books/v3/lists.json?api-key=P1yDSg62Aydsdh04WBBuS57pYbpBu2tb&list=trade-fiction-paperback&published-date=2017-04-10\n"
     ]
    },
    {
     "name": "stderr",
     "output_type": "stream",
     "text": [
      "C:\\Users\\melan\\AppData\\Local\\Temp\\ipykernel_21772\\4058755056.py:26: FutureWarning: pandas.io.json.json_normalize is deprecated, use pandas.json_normalize instead.\n",
      "  books = json_normalize(results[\"results\"], record_path=[\"book_details\"], meta=[\"rank\", \"rank_last_week\", \"weeks_on_list\", \"asterisk\", \"dagger\"])\n"
     ]
    },
    {
     "name": "stdout",
     "output_type": "stream",
     "text": [
      "2017-04-03\n",
      "https://api.nytimes.com/svc/books/v3/lists.json?api-key=P1yDSg62Aydsdh04WBBuS57pYbpBu2tb&list=trade-fiction-paperback&published-date=2017-04-03\n"
     ]
    },
    {
     "name": "stderr",
     "output_type": "stream",
     "text": [
      "C:\\Users\\melan\\AppData\\Local\\Temp\\ipykernel_21772\\4058755056.py:26: FutureWarning: pandas.io.json.json_normalize is deprecated, use pandas.json_normalize instead.\n",
      "  books = json_normalize(results[\"results\"], record_path=[\"book_details\"], meta=[\"rank\", \"rank_last_week\", \"weeks_on_list\", \"asterisk\", \"dagger\"])\n"
     ]
    },
    {
     "name": "stdout",
     "output_type": "stream",
     "text": [
      "2017-03-27\n",
      "https://api.nytimes.com/svc/books/v3/lists.json?api-key=P1yDSg62Aydsdh04WBBuS57pYbpBu2tb&list=trade-fiction-paperback&published-date=2017-03-27\n"
     ]
    },
    {
     "name": "stderr",
     "output_type": "stream",
     "text": [
      "C:\\Users\\melan\\AppData\\Local\\Temp\\ipykernel_21772\\4058755056.py:26: FutureWarning: pandas.io.json.json_normalize is deprecated, use pandas.json_normalize instead.\n",
      "  books = json_normalize(results[\"results\"], record_path=[\"book_details\"], meta=[\"rank\", \"rank_last_week\", \"weeks_on_list\", \"asterisk\", \"dagger\"])\n"
     ]
    },
    {
     "name": "stdout",
     "output_type": "stream",
     "text": [
      "2017-03-20\n",
      "https://api.nytimes.com/svc/books/v3/lists.json?api-key=P1yDSg62Aydsdh04WBBuS57pYbpBu2tb&list=trade-fiction-paperback&published-date=2017-03-20\n"
     ]
    },
    {
     "name": "stderr",
     "output_type": "stream",
     "text": [
      "C:\\Users\\melan\\AppData\\Local\\Temp\\ipykernel_21772\\4058755056.py:26: FutureWarning: pandas.io.json.json_normalize is deprecated, use pandas.json_normalize instead.\n",
      "  books = json_normalize(results[\"results\"], record_path=[\"book_details\"], meta=[\"rank\", \"rank_last_week\", \"weeks_on_list\", \"asterisk\", \"dagger\"])\n"
     ]
    },
    {
     "name": "stdout",
     "output_type": "stream",
     "text": [
      "2017-03-13\n",
      "https://api.nytimes.com/svc/books/v3/lists.json?api-key=P1yDSg62Aydsdh04WBBuS57pYbpBu2tb&list=trade-fiction-paperback&published-date=2017-03-13\n"
     ]
    },
    {
     "name": "stderr",
     "output_type": "stream",
     "text": [
      "C:\\Users\\melan\\AppData\\Local\\Temp\\ipykernel_21772\\4058755056.py:26: FutureWarning: pandas.io.json.json_normalize is deprecated, use pandas.json_normalize instead.\n",
      "  books = json_normalize(results[\"results\"], record_path=[\"book_details\"], meta=[\"rank\", \"rank_last_week\", \"weeks_on_list\", \"asterisk\", \"dagger\"])\n"
     ]
    },
    {
     "name": "stdout",
     "output_type": "stream",
     "text": [
      "2017-03-06\n",
      "https://api.nytimes.com/svc/books/v3/lists.json?api-key=P1yDSg62Aydsdh04WBBuS57pYbpBu2tb&list=trade-fiction-paperback&published-date=2017-03-06\n"
     ]
    },
    {
     "name": "stderr",
     "output_type": "stream",
     "text": [
      "C:\\Users\\melan\\AppData\\Local\\Temp\\ipykernel_21772\\4058755056.py:26: FutureWarning: pandas.io.json.json_normalize is deprecated, use pandas.json_normalize instead.\n",
      "  books = json_normalize(results[\"results\"], record_path=[\"book_details\"], meta=[\"rank\", \"rank_last_week\", \"weeks_on_list\", \"asterisk\", \"dagger\"])\n"
     ]
    },
    {
     "name": "stdout",
     "output_type": "stream",
     "text": [
      "2017-02-27\n",
      "https://api.nytimes.com/svc/books/v3/lists.json?api-key=P1yDSg62Aydsdh04WBBuS57pYbpBu2tb&list=trade-fiction-paperback&published-date=2017-02-27\n"
     ]
    },
    {
     "name": "stderr",
     "output_type": "stream",
     "text": [
      "C:\\Users\\melan\\AppData\\Local\\Temp\\ipykernel_21772\\4058755056.py:26: FutureWarning: pandas.io.json.json_normalize is deprecated, use pandas.json_normalize instead.\n",
      "  books = json_normalize(results[\"results\"], record_path=[\"book_details\"], meta=[\"rank\", \"rank_last_week\", \"weeks_on_list\", \"asterisk\", \"dagger\"])\n"
     ]
    },
    {
     "name": "stdout",
     "output_type": "stream",
     "text": [
      "2017-02-20\n",
      "https://api.nytimes.com/svc/books/v3/lists.json?api-key=P1yDSg62Aydsdh04WBBuS57pYbpBu2tb&list=trade-fiction-paperback&published-date=2017-02-20\n"
     ]
    },
    {
     "name": "stderr",
     "output_type": "stream",
     "text": [
      "C:\\Users\\melan\\AppData\\Local\\Temp\\ipykernel_21772\\4058755056.py:26: FutureWarning: pandas.io.json.json_normalize is deprecated, use pandas.json_normalize instead.\n",
      "  books = json_normalize(results[\"results\"], record_path=[\"book_details\"], meta=[\"rank\", \"rank_last_week\", \"weeks_on_list\", \"asterisk\", \"dagger\"])\n"
     ]
    },
    {
     "name": "stdout",
     "output_type": "stream",
     "text": [
      "2017-02-13\n",
      "https://api.nytimes.com/svc/books/v3/lists.json?api-key=P1yDSg62Aydsdh04WBBuS57pYbpBu2tb&list=trade-fiction-paperback&published-date=2017-02-13\n"
     ]
    },
    {
     "name": "stderr",
     "output_type": "stream",
     "text": [
      "C:\\Users\\melan\\AppData\\Local\\Temp\\ipykernel_21772\\4058755056.py:26: FutureWarning: pandas.io.json.json_normalize is deprecated, use pandas.json_normalize instead.\n",
      "  books = json_normalize(results[\"results\"], record_path=[\"book_details\"], meta=[\"rank\", \"rank_last_week\", \"weeks_on_list\", \"asterisk\", \"dagger\"])\n"
     ]
    },
    {
     "name": "stdout",
     "output_type": "stream",
     "text": [
      "2017-02-06\n",
      "https://api.nytimes.com/svc/books/v3/lists.json?api-key=P1yDSg62Aydsdh04WBBuS57pYbpBu2tb&list=trade-fiction-paperback&published-date=2017-02-06\n"
     ]
    },
    {
     "name": "stderr",
     "output_type": "stream",
     "text": [
      "C:\\Users\\melan\\AppData\\Local\\Temp\\ipykernel_21772\\4058755056.py:26: FutureWarning: pandas.io.json.json_normalize is deprecated, use pandas.json_normalize instead.\n",
      "  books = json_normalize(results[\"results\"], record_path=[\"book_details\"], meta=[\"rank\", \"rank_last_week\", \"weeks_on_list\", \"asterisk\", \"dagger\"])\n"
     ]
    },
    {
     "name": "stdout",
     "output_type": "stream",
     "text": [
      "2017-01-30\n",
      "https://api.nytimes.com/svc/books/v3/lists.json?api-key=P1yDSg62Aydsdh04WBBuS57pYbpBu2tb&list=trade-fiction-paperback&published-date=2017-01-30\n"
     ]
    },
    {
     "name": "stderr",
     "output_type": "stream",
     "text": [
      "C:\\Users\\melan\\AppData\\Local\\Temp\\ipykernel_21772\\4058755056.py:26: FutureWarning: pandas.io.json.json_normalize is deprecated, use pandas.json_normalize instead.\n",
      "  books = json_normalize(results[\"results\"], record_path=[\"book_details\"], meta=[\"rank\", \"rank_last_week\", \"weeks_on_list\", \"asterisk\", \"dagger\"])\n"
     ]
    },
    {
     "name": "stdout",
     "output_type": "stream",
     "text": [
      "2017-01-23\n",
      "https://api.nytimes.com/svc/books/v3/lists.json?api-key=P1yDSg62Aydsdh04WBBuS57pYbpBu2tb&list=trade-fiction-paperback&published-date=2017-01-23\n"
     ]
    },
    {
     "name": "stderr",
     "output_type": "stream",
     "text": [
      "C:\\Users\\melan\\AppData\\Local\\Temp\\ipykernel_21772\\4058755056.py:26: FutureWarning: pandas.io.json.json_normalize is deprecated, use pandas.json_normalize instead.\n",
      "  books = json_normalize(results[\"results\"], record_path=[\"book_details\"], meta=[\"rank\", \"rank_last_week\", \"weeks_on_list\", \"asterisk\", \"dagger\"])\n"
     ]
    },
    {
     "name": "stdout",
     "output_type": "stream",
     "text": [
      "2017-01-16\n",
      "https://api.nytimes.com/svc/books/v3/lists.json?api-key=P1yDSg62Aydsdh04WBBuS57pYbpBu2tb&list=trade-fiction-paperback&published-date=2017-01-16\n"
     ]
    },
    {
     "name": "stderr",
     "output_type": "stream",
     "text": [
      "C:\\Users\\melan\\AppData\\Local\\Temp\\ipykernel_21772\\4058755056.py:26: FutureWarning: pandas.io.json.json_normalize is deprecated, use pandas.json_normalize instead.\n",
      "  books = json_normalize(results[\"results\"], record_path=[\"book_details\"], meta=[\"rank\", \"rank_last_week\", \"weeks_on_list\", \"asterisk\", \"dagger\"])\n"
     ]
    },
    {
     "name": "stdout",
     "output_type": "stream",
     "text": [
      "2017-01-09\n",
      "https://api.nytimes.com/svc/books/v3/lists.json?api-key=P1yDSg62Aydsdh04WBBuS57pYbpBu2tb&list=trade-fiction-paperback&published-date=2017-01-09\n"
     ]
    },
    {
     "name": "stderr",
     "output_type": "stream",
     "text": [
      "C:\\Users\\melan\\AppData\\Local\\Temp\\ipykernel_21772\\4058755056.py:26: FutureWarning: pandas.io.json.json_normalize is deprecated, use pandas.json_normalize instead.\n",
      "  books = json_normalize(results[\"results\"], record_path=[\"book_details\"], meta=[\"rank\", \"rank_last_week\", \"weeks_on_list\", \"asterisk\", \"dagger\"])\n"
     ]
    },
    {
     "name": "stdout",
     "output_type": "stream",
     "text": [
      "2017-01-02\n",
      "https://api.nytimes.com/svc/books/v3/lists.json?api-key=P1yDSg62Aydsdh04WBBuS57pYbpBu2tb&list=trade-fiction-paperback&published-date=2017-01-02\n"
     ]
    },
    {
     "name": "stderr",
     "output_type": "stream",
     "text": [
      "C:\\Users\\melan\\AppData\\Local\\Temp\\ipykernel_21772\\4058755056.py:26: FutureWarning: pandas.io.json.json_normalize is deprecated, use pandas.json_normalize instead.\n",
      "  books = json_normalize(results[\"results\"], record_path=[\"book_details\"], meta=[\"rank\", \"rank_last_week\", \"weeks_on_list\", \"asterisk\", \"dagger\"])\n"
     ]
    },
    {
     "name": "stdout",
     "output_type": "stream",
     "text": [
      "2016-12-26\n",
      "https://api.nytimes.com/svc/books/v3/lists.json?api-key=P1yDSg62Aydsdh04WBBuS57pYbpBu2tb&list=trade-fiction-paperback&published-date=2016-12-26\n"
     ]
    },
    {
     "name": "stderr",
     "output_type": "stream",
     "text": [
      "C:\\Users\\melan\\AppData\\Local\\Temp\\ipykernel_21772\\4058755056.py:26: FutureWarning: pandas.io.json.json_normalize is deprecated, use pandas.json_normalize instead.\n",
      "  books = json_normalize(results[\"results\"], record_path=[\"book_details\"], meta=[\"rank\", \"rank_last_week\", \"weeks_on_list\", \"asterisk\", \"dagger\"])\n"
     ]
    },
    {
     "name": "stdout",
     "output_type": "stream",
     "text": [
      "2016-12-19\n",
      "https://api.nytimes.com/svc/books/v3/lists.json?api-key=P1yDSg62Aydsdh04WBBuS57pYbpBu2tb&list=trade-fiction-paperback&published-date=2016-12-19\n"
     ]
    },
    {
     "name": "stderr",
     "output_type": "stream",
     "text": [
      "C:\\Users\\melan\\AppData\\Local\\Temp\\ipykernel_21772\\4058755056.py:26: FutureWarning: pandas.io.json.json_normalize is deprecated, use pandas.json_normalize instead.\n",
      "  books = json_normalize(results[\"results\"], record_path=[\"book_details\"], meta=[\"rank\", \"rank_last_week\", \"weeks_on_list\", \"asterisk\", \"dagger\"])\n"
     ]
    },
    {
     "name": "stdout",
     "output_type": "stream",
     "text": [
      "2016-12-12\n",
      "https://api.nytimes.com/svc/books/v3/lists.json?api-key=P1yDSg62Aydsdh04WBBuS57pYbpBu2tb&list=trade-fiction-paperback&published-date=2016-12-12\n"
     ]
    },
    {
     "name": "stderr",
     "output_type": "stream",
     "text": [
      "C:\\Users\\melan\\AppData\\Local\\Temp\\ipykernel_21772\\4058755056.py:26: FutureWarning: pandas.io.json.json_normalize is deprecated, use pandas.json_normalize instead.\n",
      "  books = json_normalize(results[\"results\"], record_path=[\"book_details\"], meta=[\"rank\", \"rank_last_week\", \"weeks_on_list\", \"asterisk\", \"dagger\"])\n"
     ]
    },
    {
     "name": "stdout",
     "output_type": "stream",
     "text": [
      "2016-12-05\n",
      "https://api.nytimes.com/svc/books/v3/lists.json?api-key=P1yDSg62Aydsdh04WBBuS57pYbpBu2tb&list=trade-fiction-paperback&published-date=2016-12-05\n"
     ]
    },
    {
     "name": "stderr",
     "output_type": "stream",
     "text": [
      "C:\\Users\\melan\\AppData\\Local\\Temp\\ipykernel_21772\\4058755056.py:26: FutureWarning: pandas.io.json.json_normalize is deprecated, use pandas.json_normalize instead.\n",
      "  books = json_normalize(results[\"results\"], record_path=[\"book_details\"], meta=[\"rank\", \"rank_last_week\", \"weeks_on_list\", \"asterisk\", \"dagger\"])\n"
     ]
    },
    {
     "name": "stdout",
     "output_type": "stream",
     "text": [
      "2016-11-28\n",
      "https://api.nytimes.com/svc/books/v3/lists.json?api-key=P1yDSg62Aydsdh04WBBuS57pYbpBu2tb&list=trade-fiction-paperback&published-date=2016-11-28\n"
     ]
    },
    {
     "name": "stderr",
     "output_type": "stream",
     "text": [
      "C:\\Users\\melan\\AppData\\Local\\Temp\\ipykernel_21772\\4058755056.py:26: FutureWarning: pandas.io.json.json_normalize is deprecated, use pandas.json_normalize instead.\n",
      "  books = json_normalize(results[\"results\"], record_path=[\"book_details\"], meta=[\"rank\", \"rank_last_week\", \"weeks_on_list\", \"asterisk\", \"dagger\"])\n"
     ]
    },
    {
     "name": "stdout",
     "output_type": "stream",
     "text": [
      "2016-11-21\n",
      "https://api.nytimes.com/svc/books/v3/lists.json?api-key=P1yDSg62Aydsdh04WBBuS57pYbpBu2tb&list=trade-fiction-paperback&published-date=2016-11-21\n"
     ]
    },
    {
     "name": "stderr",
     "output_type": "stream",
     "text": [
      "C:\\Users\\melan\\AppData\\Local\\Temp\\ipykernel_21772\\4058755056.py:26: FutureWarning: pandas.io.json.json_normalize is deprecated, use pandas.json_normalize instead.\n",
      "  books = json_normalize(results[\"results\"], record_path=[\"book_details\"], meta=[\"rank\", \"rank_last_week\", \"weeks_on_list\", \"asterisk\", \"dagger\"])\n"
     ]
    },
    {
     "name": "stdout",
     "output_type": "stream",
     "text": [
      "2016-11-14\n",
      "https://api.nytimes.com/svc/books/v3/lists.json?api-key=P1yDSg62Aydsdh04WBBuS57pYbpBu2tb&list=trade-fiction-paperback&published-date=2016-11-14\n"
     ]
    },
    {
     "name": "stderr",
     "output_type": "stream",
     "text": [
      "C:\\Users\\melan\\AppData\\Local\\Temp\\ipykernel_21772\\4058755056.py:26: FutureWarning: pandas.io.json.json_normalize is deprecated, use pandas.json_normalize instead.\n",
      "  books = json_normalize(results[\"results\"], record_path=[\"book_details\"], meta=[\"rank\", \"rank_last_week\", \"weeks_on_list\", \"asterisk\", \"dagger\"])\n"
     ]
    },
    {
     "name": "stdout",
     "output_type": "stream",
     "text": [
      "2016-11-07\n",
      "https://api.nytimes.com/svc/books/v3/lists.json?api-key=P1yDSg62Aydsdh04WBBuS57pYbpBu2tb&list=trade-fiction-paperback&published-date=2016-11-07\n"
     ]
    },
    {
     "name": "stderr",
     "output_type": "stream",
     "text": [
      "C:\\Users\\melan\\AppData\\Local\\Temp\\ipykernel_21772\\4058755056.py:26: FutureWarning: pandas.io.json.json_normalize is deprecated, use pandas.json_normalize instead.\n",
      "  books = json_normalize(results[\"results\"], record_path=[\"book_details\"], meta=[\"rank\", \"rank_last_week\", \"weeks_on_list\", \"asterisk\", \"dagger\"])\n"
     ]
    },
    {
     "name": "stdout",
     "output_type": "stream",
     "text": [
      "2016-10-31\n",
      "https://api.nytimes.com/svc/books/v3/lists.json?api-key=P1yDSg62Aydsdh04WBBuS57pYbpBu2tb&list=trade-fiction-paperback&published-date=2016-10-31\n"
     ]
    },
    {
     "name": "stderr",
     "output_type": "stream",
     "text": [
      "C:\\Users\\melan\\AppData\\Local\\Temp\\ipykernel_21772\\4058755056.py:26: FutureWarning: pandas.io.json.json_normalize is deprecated, use pandas.json_normalize instead.\n",
      "  books = json_normalize(results[\"results\"], record_path=[\"book_details\"], meta=[\"rank\", \"rank_last_week\", \"weeks_on_list\", \"asterisk\", \"dagger\"])\n"
     ]
    },
    {
     "name": "stdout",
     "output_type": "stream",
     "text": [
      "2016-10-24\n",
      "https://api.nytimes.com/svc/books/v3/lists.json?api-key=P1yDSg62Aydsdh04WBBuS57pYbpBu2tb&list=trade-fiction-paperback&published-date=2016-10-24\n"
     ]
    },
    {
     "name": "stderr",
     "output_type": "stream",
     "text": [
      "C:\\Users\\melan\\AppData\\Local\\Temp\\ipykernel_21772\\4058755056.py:26: FutureWarning: pandas.io.json.json_normalize is deprecated, use pandas.json_normalize instead.\n",
      "  books = json_normalize(results[\"results\"], record_path=[\"book_details\"], meta=[\"rank\", \"rank_last_week\", \"weeks_on_list\", \"asterisk\", \"dagger\"])\n"
     ]
    },
    {
     "name": "stdout",
     "output_type": "stream",
     "text": [
      "2016-10-17\n",
      "https://api.nytimes.com/svc/books/v3/lists.json?api-key=P1yDSg62Aydsdh04WBBuS57pYbpBu2tb&list=trade-fiction-paperback&published-date=2016-10-17\n"
     ]
    },
    {
     "name": "stderr",
     "output_type": "stream",
     "text": [
      "C:\\Users\\melan\\AppData\\Local\\Temp\\ipykernel_21772\\4058755056.py:26: FutureWarning: pandas.io.json.json_normalize is deprecated, use pandas.json_normalize instead.\n",
      "  books = json_normalize(results[\"results\"], record_path=[\"book_details\"], meta=[\"rank\", \"rank_last_week\", \"weeks_on_list\", \"asterisk\", \"dagger\"])\n"
     ]
    },
    {
     "name": "stdout",
     "output_type": "stream",
     "text": [
      "2016-10-10\n",
      "https://api.nytimes.com/svc/books/v3/lists.json?api-key=P1yDSg62Aydsdh04WBBuS57pYbpBu2tb&list=trade-fiction-paperback&published-date=2016-10-10\n"
     ]
    },
    {
     "name": "stderr",
     "output_type": "stream",
     "text": [
      "C:\\Users\\melan\\AppData\\Local\\Temp\\ipykernel_21772\\4058755056.py:26: FutureWarning: pandas.io.json.json_normalize is deprecated, use pandas.json_normalize instead.\n",
      "  books = json_normalize(results[\"results\"], record_path=[\"book_details\"], meta=[\"rank\", \"rank_last_week\", \"weeks_on_list\", \"asterisk\", \"dagger\"])\n"
     ]
    },
    {
     "name": "stdout",
     "output_type": "stream",
     "text": [
      "2016-10-03\n",
      "https://api.nytimes.com/svc/books/v3/lists.json?api-key=P1yDSg62Aydsdh04WBBuS57pYbpBu2tb&list=trade-fiction-paperback&published-date=2016-10-03\n"
     ]
    },
    {
     "name": "stderr",
     "output_type": "stream",
     "text": [
      "C:\\Users\\melan\\AppData\\Local\\Temp\\ipykernel_21772\\4058755056.py:26: FutureWarning: pandas.io.json.json_normalize is deprecated, use pandas.json_normalize instead.\n",
      "  books = json_normalize(results[\"results\"], record_path=[\"book_details\"], meta=[\"rank\", \"rank_last_week\", \"weeks_on_list\", \"asterisk\", \"dagger\"])\n"
     ]
    },
    {
     "name": "stdout",
     "output_type": "stream",
     "text": [
      "2016-09-26\n",
      "https://api.nytimes.com/svc/books/v3/lists.json?api-key=P1yDSg62Aydsdh04WBBuS57pYbpBu2tb&list=trade-fiction-paperback&published-date=2016-09-26\n"
     ]
    },
    {
     "name": "stderr",
     "output_type": "stream",
     "text": [
      "C:\\Users\\melan\\AppData\\Local\\Temp\\ipykernel_21772\\4058755056.py:26: FutureWarning: pandas.io.json.json_normalize is deprecated, use pandas.json_normalize instead.\n",
      "  books = json_normalize(results[\"results\"], record_path=[\"book_details\"], meta=[\"rank\", \"rank_last_week\", \"weeks_on_list\", \"asterisk\", \"dagger\"])\n"
     ]
    },
    {
     "name": "stdout",
     "output_type": "stream",
     "text": [
      "2016-09-19\n",
      "https://api.nytimes.com/svc/books/v3/lists.json?api-key=P1yDSg62Aydsdh04WBBuS57pYbpBu2tb&list=trade-fiction-paperback&published-date=2016-09-19\n"
     ]
    },
    {
     "name": "stderr",
     "output_type": "stream",
     "text": [
      "C:\\Users\\melan\\AppData\\Local\\Temp\\ipykernel_21772\\4058755056.py:26: FutureWarning: pandas.io.json.json_normalize is deprecated, use pandas.json_normalize instead.\n",
      "  books = json_normalize(results[\"results\"], record_path=[\"book_details\"], meta=[\"rank\", \"rank_last_week\", \"weeks_on_list\", \"asterisk\", \"dagger\"])\n"
     ]
    },
    {
     "name": "stdout",
     "output_type": "stream",
     "text": [
      "2016-09-12\n",
      "https://api.nytimes.com/svc/books/v3/lists.json?api-key=P1yDSg62Aydsdh04WBBuS57pYbpBu2tb&list=trade-fiction-paperback&published-date=2016-09-12\n"
     ]
    },
    {
     "name": "stderr",
     "output_type": "stream",
     "text": [
      "C:\\Users\\melan\\AppData\\Local\\Temp\\ipykernel_21772\\4058755056.py:26: FutureWarning: pandas.io.json.json_normalize is deprecated, use pandas.json_normalize instead.\n",
      "  books = json_normalize(results[\"results\"], record_path=[\"book_details\"], meta=[\"rank\", \"rank_last_week\", \"weeks_on_list\", \"asterisk\", \"dagger\"])\n"
     ]
    },
    {
     "name": "stdout",
     "output_type": "stream",
     "text": [
      "2016-09-05\n",
      "https://api.nytimes.com/svc/books/v3/lists.json?api-key=P1yDSg62Aydsdh04WBBuS57pYbpBu2tb&list=trade-fiction-paperback&published-date=2016-09-05\n"
     ]
    },
    {
     "name": "stderr",
     "output_type": "stream",
     "text": [
      "C:\\Users\\melan\\AppData\\Local\\Temp\\ipykernel_21772\\4058755056.py:26: FutureWarning: pandas.io.json.json_normalize is deprecated, use pandas.json_normalize instead.\n",
      "  books = json_normalize(results[\"results\"], record_path=[\"book_details\"], meta=[\"rank\", \"rank_last_week\", \"weeks_on_list\", \"asterisk\", \"dagger\"])\n"
     ]
    },
    {
     "name": "stdout",
     "output_type": "stream",
     "text": [
      "2016-08-29\n",
      "https://api.nytimes.com/svc/books/v3/lists.json?api-key=P1yDSg62Aydsdh04WBBuS57pYbpBu2tb&list=trade-fiction-paperback&published-date=2016-08-29\n"
     ]
    },
    {
     "name": "stderr",
     "output_type": "stream",
     "text": [
      "C:\\Users\\melan\\AppData\\Local\\Temp\\ipykernel_21772\\4058755056.py:26: FutureWarning: pandas.io.json.json_normalize is deprecated, use pandas.json_normalize instead.\n",
      "  books = json_normalize(results[\"results\"], record_path=[\"book_details\"], meta=[\"rank\", \"rank_last_week\", \"weeks_on_list\", \"asterisk\", \"dagger\"])\n"
     ]
    },
    {
     "name": "stdout",
     "output_type": "stream",
     "text": [
      "2016-08-22\n",
      "https://api.nytimes.com/svc/books/v3/lists.json?api-key=P1yDSg62Aydsdh04WBBuS57pYbpBu2tb&list=trade-fiction-paperback&published-date=2016-08-22\n"
     ]
    },
    {
     "name": "stderr",
     "output_type": "stream",
     "text": [
      "C:\\Users\\melan\\AppData\\Local\\Temp\\ipykernel_21772\\4058755056.py:26: FutureWarning: pandas.io.json.json_normalize is deprecated, use pandas.json_normalize instead.\n",
      "  books = json_normalize(results[\"results\"], record_path=[\"book_details\"], meta=[\"rank\", \"rank_last_week\", \"weeks_on_list\", \"asterisk\", \"dagger\"])\n"
     ]
    },
    {
     "name": "stdout",
     "output_type": "stream",
     "text": [
      "2016-08-15\n",
      "https://api.nytimes.com/svc/books/v3/lists.json?api-key=P1yDSg62Aydsdh04WBBuS57pYbpBu2tb&list=trade-fiction-paperback&published-date=2016-08-15\n"
     ]
    },
    {
     "name": "stderr",
     "output_type": "stream",
     "text": [
      "C:\\Users\\melan\\AppData\\Local\\Temp\\ipykernel_21772\\4058755056.py:26: FutureWarning: pandas.io.json.json_normalize is deprecated, use pandas.json_normalize instead.\n",
      "  books = json_normalize(results[\"results\"], record_path=[\"book_details\"], meta=[\"rank\", \"rank_last_week\", \"weeks_on_list\", \"asterisk\", \"dagger\"])\n"
     ]
    },
    {
     "name": "stdout",
     "output_type": "stream",
     "text": [
      "2016-08-08\n",
      "https://api.nytimes.com/svc/books/v3/lists.json?api-key=P1yDSg62Aydsdh04WBBuS57pYbpBu2tb&list=trade-fiction-paperback&published-date=2016-08-08\n"
     ]
    },
    {
     "name": "stderr",
     "output_type": "stream",
     "text": [
      "C:\\Users\\melan\\AppData\\Local\\Temp\\ipykernel_21772\\4058755056.py:26: FutureWarning: pandas.io.json.json_normalize is deprecated, use pandas.json_normalize instead.\n",
      "  books = json_normalize(results[\"results\"], record_path=[\"book_details\"], meta=[\"rank\", \"rank_last_week\", \"weeks_on_list\", \"asterisk\", \"dagger\"])\n"
     ]
    },
    {
     "name": "stdout",
     "output_type": "stream",
     "text": [
      "2016-08-01\n",
      "https://api.nytimes.com/svc/books/v3/lists.json?api-key=P1yDSg62Aydsdh04WBBuS57pYbpBu2tb&list=trade-fiction-paperback&published-date=2016-08-01\n"
     ]
    },
    {
     "name": "stderr",
     "output_type": "stream",
     "text": [
      "C:\\Users\\melan\\AppData\\Local\\Temp\\ipykernel_21772\\4058755056.py:26: FutureWarning: pandas.io.json.json_normalize is deprecated, use pandas.json_normalize instead.\n",
      "  books = json_normalize(results[\"results\"], record_path=[\"book_details\"], meta=[\"rank\", \"rank_last_week\", \"weeks_on_list\", \"asterisk\", \"dagger\"])\n"
     ]
    },
    {
     "name": "stdout",
     "output_type": "stream",
     "text": [
      "2016-07-25\n",
      "https://api.nytimes.com/svc/books/v3/lists.json?api-key=P1yDSg62Aydsdh04WBBuS57pYbpBu2tb&list=trade-fiction-paperback&published-date=2016-07-25\n"
     ]
    },
    {
     "name": "stderr",
     "output_type": "stream",
     "text": [
      "C:\\Users\\melan\\AppData\\Local\\Temp\\ipykernel_21772\\4058755056.py:26: FutureWarning: pandas.io.json.json_normalize is deprecated, use pandas.json_normalize instead.\n",
      "  books = json_normalize(results[\"results\"], record_path=[\"book_details\"], meta=[\"rank\", \"rank_last_week\", \"weeks_on_list\", \"asterisk\", \"dagger\"])\n"
     ]
    },
    {
     "name": "stdout",
     "output_type": "stream",
     "text": [
      "2016-07-18\n",
      "https://api.nytimes.com/svc/books/v3/lists.json?api-key=P1yDSg62Aydsdh04WBBuS57pYbpBu2tb&list=trade-fiction-paperback&published-date=2016-07-18\n"
     ]
    },
    {
     "name": "stderr",
     "output_type": "stream",
     "text": [
      "C:\\Users\\melan\\AppData\\Local\\Temp\\ipykernel_21772\\4058755056.py:26: FutureWarning: pandas.io.json.json_normalize is deprecated, use pandas.json_normalize instead.\n",
      "  books = json_normalize(results[\"results\"], record_path=[\"book_details\"], meta=[\"rank\", \"rank_last_week\", \"weeks_on_list\", \"asterisk\", \"dagger\"])\n"
     ]
    },
    {
     "name": "stdout",
     "output_type": "stream",
     "text": [
      "2016-07-11\n",
      "https://api.nytimes.com/svc/books/v3/lists.json?api-key=P1yDSg62Aydsdh04WBBuS57pYbpBu2tb&list=trade-fiction-paperback&published-date=2016-07-11\n"
     ]
    },
    {
     "name": "stderr",
     "output_type": "stream",
     "text": [
      "C:\\Users\\melan\\AppData\\Local\\Temp\\ipykernel_21772\\4058755056.py:26: FutureWarning: pandas.io.json.json_normalize is deprecated, use pandas.json_normalize instead.\n",
      "  books = json_normalize(results[\"results\"], record_path=[\"book_details\"], meta=[\"rank\", \"rank_last_week\", \"weeks_on_list\", \"asterisk\", \"dagger\"])\n"
     ]
    },
    {
     "name": "stdout",
     "output_type": "stream",
     "text": [
      "2016-07-04\n",
      "https://api.nytimes.com/svc/books/v3/lists.json?api-key=P1yDSg62Aydsdh04WBBuS57pYbpBu2tb&list=trade-fiction-paperback&published-date=2016-07-04\n"
     ]
    },
    {
     "name": "stderr",
     "output_type": "stream",
     "text": [
      "C:\\Users\\melan\\AppData\\Local\\Temp\\ipykernel_21772\\4058755056.py:26: FutureWarning: pandas.io.json.json_normalize is deprecated, use pandas.json_normalize instead.\n",
      "  books = json_normalize(results[\"results\"], record_path=[\"book_details\"], meta=[\"rank\", \"rank_last_week\", \"weeks_on_list\", \"asterisk\", \"dagger\"])\n"
     ]
    },
    {
     "name": "stdout",
     "output_type": "stream",
     "text": [
      "2016-06-27\n",
      "https://api.nytimes.com/svc/books/v3/lists.json?api-key=P1yDSg62Aydsdh04WBBuS57pYbpBu2tb&list=trade-fiction-paperback&published-date=2016-06-27\n"
     ]
    },
    {
     "name": "stderr",
     "output_type": "stream",
     "text": [
      "C:\\Users\\melan\\AppData\\Local\\Temp\\ipykernel_21772\\4058755056.py:26: FutureWarning: pandas.io.json.json_normalize is deprecated, use pandas.json_normalize instead.\n",
      "  books = json_normalize(results[\"results\"], record_path=[\"book_details\"], meta=[\"rank\", \"rank_last_week\", \"weeks_on_list\", \"asterisk\", \"dagger\"])\n"
     ]
    },
    {
     "name": "stdout",
     "output_type": "stream",
     "text": [
      "2016-06-20\n",
      "https://api.nytimes.com/svc/books/v3/lists.json?api-key=P1yDSg62Aydsdh04WBBuS57pYbpBu2tb&list=trade-fiction-paperback&published-date=2016-06-20\n"
     ]
    },
    {
     "name": "stderr",
     "output_type": "stream",
     "text": [
      "C:\\Users\\melan\\AppData\\Local\\Temp\\ipykernel_21772\\4058755056.py:26: FutureWarning: pandas.io.json.json_normalize is deprecated, use pandas.json_normalize instead.\n",
      "  books = json_normalize(results[\"results\"], record_path=[\"book_details\"], meta=[\"rank\", \"rank_last_week\", \"weeks_on_list\", \"asterisk\", \"dagger\"])\n"
     ]
    },
    {
     "name": "stdout",
     "output_type": "stream",
     "text": [
      "2016-06-13\n",
      "https://api.nytimes.com/svc/books/v3/lists.json?api-key=P1yDSg62Aydsdh04WBBuS57pYbpBu2tb&list=trade-fiction-paperback&published-date=2016-06-13\n"
     ]
    },
    {
     "name": "stderr",
     "output_type": "stream",
     "text": [
      "C:\\Users\\melan\\AppData\\Local\\Temp\\ipykernel_21772\\4058755056.py:26: FutureWarning: pandas.io.json.json_normalize is deprecated, use pandas.json_normalize instead.\n",
      "  books = json_normalize(results[\"results\"], record_path=[\"book_details\"], meta=[\"rank\", \"rank_last_week\", \"weeks_on_list\", \"asterisk\", \"dagger\"])\n"
     ]
    },
    {
     "name": "stdout",
     "output_type": "stream",
     "text": [
      "2016-06-06\n",
      "https://api.nytimes.com/svc/books/v3/lists.json?api-key=P1yDSg62Aydsdh04WBBuS57pYbpBu2tb&list=trade-fiction-paperback&published-date=2016-06-06\n"
     ]
    },
    {
     "name": "stderr",
     "output_type": "stream",
     "text": [
      "C:\\Users\\melan\\AppData\\Local\\Temp\\ipykernel_21772\\4058755056.py:26: FutureWarning: pandas.io.json.json_normalize is deprecated, use pandas.json_normalize instead.\n",
      "  books = json_normalize(results[\"results\"], record_path=[\"book_details\"], meta=[\"rank\", \"rank_last_week\", \"weeks_on_list\", \"asterisk\", \"dagger\"])\n"
     ]
    },
    {
     "name": "stdout",
     "output_type": "stream",
     "text": [
      "2016-05-30\n",
      "https://api.nytimes.com/svc/books/v3/lists.json?api-key=P1yDSg62Aydsdh04WBBuS57pYbpBu2tb&list=trade-fiction-paperback&published-date=2016-05-30\n"
     ]
    },
    {
     "name": "stderr",
     "output_type": "stream",
     "text": [
      "C:\\Users\\melan\\AppData\\Local\\Temp\\ipykernel_21772\\4058755056.py:26: FutureWarning: pandas.io.json.json_normalize is deprecated, use pandas.json_normalize instead.\n",
      "  books = json_normalize(results[\"results\"], record_path=[\"book_details\"], meta=[\"rank\", \"rank_last_week\", \"weeks_on_list\", \"asterisk\", \"dagger\"])\n"
     ]
    },
    {
     "name": "stdout",
     "output_type": "stream",
     "text": [
      "2016-05-23\n",
      "https://api.nytimes.com/svc/books/v3/lists.json?api-key=P1yDSg62Aydsdh04WBBuS57pYbpBu2tb&list=trade-fiction-paperback&published-date=2016-05-23\n"
     ]
    },
    {
     "name": "stderr",
     "output_type": "stream",
     "text": [
      "C:\\Users\\melan\\AppData\\Local\\Temp\\ipykernel_21772\\4058755056.py:26: FutureWarning: pandas.io.json.json_normalize is deprecated, use pandas.json_normalize instead.\n",
      "  books = json_normalize(results[\"results\"], record_path=[\"book_details\"], meta=[\"rank\", \"rank_last_week\", \"weeks_on_list\", \"asterisk\", \"dagger\"])\n"
     ]
    },
    {
     "name": "stdout",
     "output_type": "stream",
     "text": [
      "2016-05-16\n",
      "https://api.nytimes.com/svc/books/v3/lists.json?api-key=P1yDSg62Aydsdh04WBBuS57pYbpBu2tb&list=trade-fiction-paperback&published-date=2016-05-16\n"
     ]
    },
    {
     "name": "stderr",
     "output_type": "stream",
     "text": [
      "C:\\Users\\melan\\AppData\\Local\\Temp\\ipykernel_21772\\4058755056.py:26: FutureWarning: pandas.io.json.json_normalize is deprecated, use pandas.json_normalize instead.\n",
      "  books = json_normalize(results[\"results\"], record_path=[\"book_details\"], meta=[\"rank\", \"rank_last_week\", \"weeks_on_list\", \"asterisk\", \"dagger\"])\n"
     ]
    },
    {
     "name": "stdout",
     "output_type": "stream",
     "text": [
      "2016-05-09\n",
      "https://api.nytimes.com/svc/books/v3/lists.json?api-key=P1yDSg62Aydsdh04WBBuS57pYbpBu2tb&list=trade-fiction-paperback&published-date=2016-05-09\n"
     ]
    },
    {
     "name": "stderr",
     "output_type": "stream",
     "text": [
      "C:\\Users\\melan\\AppData\\Local\\Temp\\ipykernel_21772\\4058755056.py:26: FutureWarning: pandas.io.json.json_normalize is deprecated, use pandas.json_normalize instead.\n",
      "  books = json_normalize(results[\"results\"], record_path=[\"book_details\"], meta=[\"rank\", \"rank_last_week\", \"weeks_on_list\", \"asterisk\", \"dagger\"])\n"
     ]
    },
    {
     "name": "stdout",
     "output_type": "stream",
     "text": [
      "2016-05-02\n",
      "https://api.nytimes.com/svc/books/v3/lists.json?api-key=P1yDSg62Aydsdh04WBBuS57pYbpBu2tb&list=trade-fiction-paperback&published-date=2016-05-02\n"
     ]
    },
    {
     "name": "stderr",
     "output_type": "stream",
     "text": [
      "C:\\Users\\melan\\AppData\\Local\\Temp\\ipykernel_21772\\4058755056.py:26: FutureWarning: pandas.io.json.json_normalize is deprecated, use pandas.json_normalize instead.\n",
      "  books = json_normalize(results[\"results\"], record_path=[\"book_details\"], meta=[\"rank\", \"rank_last_week\", \"weeks_on_list\", \"asterisk\", \"dagger\"])\n"
     ]
    },
    {
     "name": "stdout",
     "output_type": "stream",
     "text": [
      "2016-04-25\n",
      "https://api.nytimes.com/svc/books/v3/lists.json?api-key=P1yDSg62Aydsdh04WBBuS57pYbpBu2tb&list=trade-fiction-paperback&published-date=2016-04-25\n"
     ]
    },
    {
     "name": "stderr",
     "output_type": "stream",
     "text": [
      "C:\\Users\\melan\\AppData\\Local\\Temp\\ipykernel_21772\\4058755056.py:26: FutureWarning: pandas.io.json.json_normalize is deprecated, use pandas.json_normalize instead.\n",
      "  books = json_normalize(results[\"results\"], record_path=[\"book_details\"], meta=[\"rank\", \"rank_last_week\", \"weeks_on_list\", \"asterisk\", \"dagger\"])\n"
     ]
    },
    {
     "name": "stdout",
     "output_type": "stream",
     "text": [
      "2016-04-18\n",
      "https://api.nytimes.com/svc/books/v3/lists.json?api-key=P1yDSg62Aydsdh04WBBuS57pYbpBu2tb&list=trade-fiction-paperback&published-date=2016-04-18\n"
     ]
    },
    {
     "name": "stderr",
     "output_type": "stream",
     "text": [
      "C:\\Users\\melan\\AppData\\Local\\Temp\\ipykernel_21772\\4058755056.py:26: FutureWarning: pandas.io.json.json_normalize is deprecated, use pandas.json_normalize instead.\n",
      "  books = json_normalize(results[\"results\"], record_path=[\"book_details\"], meta=[\"rank\", \"rank_last_week\", \"weeks_on_list\", \"asterisk\", \"dagger\"])\n"
     ]
    },
    {
     "name": "stdout",
     "output_type": "stream",
     "text": [
      "2016-04-11\n",
      "https://api.nytimes.com/svc/books/v3/lists.json?api-key=P1yDSg62Aydsdh04WBBuS57pYbpBu2tb&list=trade-fiction-paperback&published-date=2016-04-11\n"
     ]
    },
    {
     "name": "stderr",
     "output_type": "stream",
     "text": [
      "C:\\Users\\melan\\AppData\\Local\\Temp\\ipykernel_21772\\4058755056.py:26: FutureWarning: pandas.io.json.json_normalize is deprecated, use pandas.json_normalize instead.\n",
      "  books = json_normalize(results[\"results\"], record_path=[\"book_details\"], meta=[\"rank\", \"rank_last_week\", \"weeks_on_list\", \"asterisk\", \"dagger\"])\n"
     ]
    },
    {
     "name": "stdout",
     "output_type": "stream",
     "text": [
      "2016-04-04\n",
      "https://api.nytimes.com/svc/books/v3/lists.json?api-key=P1yDSg62Aydsdh04WBBuS57pYbpBu2tb&list=trade-fiction-paperback&published-date=2016-04-04\n"
     ]
    },
    {
     "name": "stderr",
     "output_type": "stream",
     "text": [
      "C:\\Users\\melan\\AppData\\Local\\Temp\\ipykernel_21772\\4058755056.py:26: FutureWarning: pandas.io.json.json_normalize is deprecated, use pandas.json_normalize instead.\n",
      "  books = json_normalize(results[\"results\"], record_path=[\"book_details\"], meta=[\"rank\", \"rank_last_week\", \"weeks_on_list\", \"asterisk\", \"dagger\"])\n"
     ]
    },
    {
     "name": "stdout",
     "output_type": "stream",
     "text": [
      "2016-03-28\n",
      "https://api.nytimes.com/svc/books/v3/lists.json?api-key=P1yDSg62Aydsdh04WBBuS57pYbpBu2tb&list=trade-fiction-paperback&published-date=2016-03-28\n"
     ]
    },
    {
     "name": "stderr",
     "output_type": "stream",
     "text": [
      "C:\\Users\\melan\\AppData\\Local\\Temp\\ipykernel_21772\\4058755056.py:26: FutureWarning: pandas.io.json.json_normalize is deprecated, use pandas.json_normalize instead.\n",
      "  books = json_normalize(results[\"results\"], record_path=[\"book_details\"], meta=[\"rank\", \"rank_last_week\", \"weeks_on_list\", \"asterisk\", \"dagger\"])\n"
     ]
    },
    {
     "name": "stdout",
     "output_type": "stream",
     "text": [
      "2016-03-21\n",
      "https://api.nytimes.com/svc/books/v3/lists.json?api-key=P1yDSg62Aydsdh04WBBuS57pYbpBu2tb&list=trade-fiction-paperback&published-date=2016-03-21\n"
     ]
    },
    {
     "name": "stderr",
     "output_type": "stream",
     "text": [
      "C:\\Users\\melan\\AppData\\Local\\Temp\\ipykernel_21772\\4058755056.py:26: FutureWarning: pandas.io.json.json_normalize is deprecated, use pandas.json_normalize instead.\n",
      "  books = json_normalize(results[\"results\"], record_path=[\"book_details\"], meta=[\"rank\", \"rank_last_week\", \"weeks_on_list\", \"asterisk\", \"dagger\"])\n"
     ]
    },
    {
     "name": "stdout",
     "output_type": "stream",
     "text": [
      "2016-03-14\n",
      "https://api.nytimes.com/svc/books/v3/lists.json?api-key=P1yDSg62Aydsdh04WBBuS57pYbpBu2tb&list=trade-fiction-paperback&published-date=2016-03-14\n"
     ]
    },
    {
     "name": "stderr",
     "output_type": "stream",
     "text": [
      "C:\\Users\\melan\\AppData\\Local\\Temp\\ipykernel_21772\\4058755056.py:26: FutureWarning: pandas.io.json.json_normalize is deprecated, use pandas.json_normalize instead.\n",
      "  books = json_normalize(results[\"results\"], record_path=[\"book_details\"], meta=[\"rank\", \"rank_last_week\", \"weeks_on_list\", \"asterisk\", \"dagger\"])\n"
     ]
    },
    {
     "name": "stdout",
     "output_type": "stream",
     "text": [
      "2016-03-07\n",
      "https://api.nytimes.com/svc/books/v3/lists.json?api-key=P1yDSg62Aydsdh04WBBuS57pYbpBu2tb&list=trade-fiction-paperback&published-date=2016-03-07\n"
     ]
    },
    {
     "name": "stderr",
     "output_type": "stream",
     "text": [
      "C:\\Users\\melan\\AppData\\Local\\Temp\\ipykernel_21772\\4058755056.py:26: FutureWarning: pandas.io.json.json_normalize is deprecated, use pandas.json_normalize instead.\n",
      "  books = json_normalize(results[\"results\"], record_path=[\"book_details\"], meta=[\"rank\", \"rank_last_week\", \"weeks_on_list\", \"asterisk\", \"dagger\"])\n"
     ]
    },
    {
     "name": "stdout",
     "output_type": "stream",
     "text": [
      "2016-02-29\n",
      "https://api.nytimes.com/svc/books/v3/lists.json?api-key=P1yDSg62Aydsdh04WBBuS57pYbpBu2tb&list=trade-fiction-paperback&published-date=2016-02-29\n"
     ]
    },
    {
     "name": "stderr",
     "output_type": "stream",
     "text": [
      "C:\\Users\\melan\\AppData\\Local\\Temp\\ipykernel_21772\\4058755056.py:26: FutureWarning: pandas.io.json.json_normalize is deprecated, use pandas.json_normalize instead.\n",
      "  books = json_normalize(results[\"results\"], record_path=[\"book_details\"], meta=[\"rank\", \"rank_last_week\", \"weeks_on_list\", \"asterisk\", \"dagger\"])\n"
     ]
    },
    {
     "name": "stdout",
     "output_type": "stream",
     "text": [
      "2016-02-22\n",
      "https://api.nytimes.com/svc/books/v3/lists.json?api-key=P1yDSg62Aydsdh04WBBuS57pYbpBu2tb&list=trade-fiction-paperback&published-date=2016-02-22\n"
     ]
    },
    {
     "name": "stderr",
     "output_type": "stream",
     "text": [
      "C:\\Users\\melan\\AppData\\Local\\Temp\\ipykernel_21772\\4058755056.py:26: FutureWarning: pandas.io.json.json_normalize is deprecated, use pandas.json_normalize instead.\n",
      "  books = json_normalize(results[\"results\"], record_path=[\"book_details\"], meta=[\"rank\", \"rank_last_week\", \"weeks_on_list\", \"asterisk\", \"dagger\"])\n"
     ]
    },
    {
     "name": "stdout",
     "output_type": "stream",
     "text": [
      "2016-02-15\n",
      "https://api.nytimes.com/svc/books/v3/lists.json?api-key=P1yDSg62Aydsdh04WBBuS57pYbpBu2tb&list=trade-fiction-paperback&published-date=2016-02-15\n"
     ]
    },
    {
     "name": "stderr",
     "output_type": "stream",
     "text": [
      "C:\\Users\\melan\\AppData\\Local\\Temp\\ipykernel_21772\\4058755056.py:26: FutureWarning: pandas.io.json.json_normalize is deprecated, use pandas.json_normalize instead.\n",
      "  books = json_normalize(results[\"results\"], record_path=[\"book_details\"], meta=[\"rank\", \"rank_last_week\", \"weeks_on_list\", \"asterisk\", \"dagger\"])\n"
     ]
    },
    {
     "name": "stdout",
     "output_type": "stream",
     "text": [
      "2016-02-08\n",
      "https://api.nytimes.com/svc/books/v3/lists.json?api-key=P1yDSg62Aydsdh04WBBuS57pYbpBu2tb&list=trade-fiction-paperback&published-date=2016-02-08\n"
     ]
    },
    {
     "name": "stderr",
     "output_type": "stream",
     "text": [
      "C:\\Users\\melan\\AppData\\Local\\Temp\\ipykernel_21772\\4058755056.py:26: FutureWarning: pandas.io.json.json_normalize is deprecated, use pandas.json_normalize instead.\n",
      "  books = json_normalize(results[\"results\"], record_path=[\"book_details\"], meta=[\"rank\", \"rank_last_week\", \"weeks_on_list\", \"asterisk\", \"dagger\"])\n"
     ]
    },
    {
     "name": "stdout",
     "output_type": "stream",
     "text": [
      "2016-02-01\n",
      "https://api.nytimes.com/svc/books/v3/lists.json?api-key=P1yDSg62Aydsdh04WBBuS57pYbpBu2tb&list=trade-fiction-paperback&published-date=2016-02-01\n"
     ]
    },
    {
     "name": "stderr",
     "output_type": "stream",
     "text": [
      "C:\\Users\\melan\\AppData\\Local\\Temp\\ipykernel_21772\\4058755056.py:26: FutureWarning: pandas.io.json.json_normalize is deprecated, use pandas.json_normalize instead.\n",
      "  books = json_normalize(results[\"results\"], record_path=[\"book_details\"], meta=[\"rank\", \"rank_last_week\", \"weeks_on_list\", \"asterisk\", \"dagger\"])\n"
     ]
    },
    {
     "name": "stdout",
     "output_type": "stream",
     "text": [
      "2016-01-25\n",
      "https://api.nytimes.com/svc/books/v3/lists.json?api-key=P1yDSg62Aydsdh04WBBuS57pYbpBu2tb&list=trade-fiction-paperback&published-date=2016-01-25\n"
     ]
    },
    {
     "name": "stderr",
     "output_type": "stream",
     "text": [
      "C:\\Users\\melan\\AppData\\Local\\Temp\\ipykernel_21772\\4058755056.py:26: FutureWarning: pandas.io.json.json_normalize is deprecated, use pandas.json_normalize instead.\n",
      "  books = json_normalize(results[\"results\"], record_path=[\"book_details\"], meta=[\"rank\", \"rank_last_week\", \"weeks_on_list\", \"asterisk\", \"dagger\"])\n"
     ]
    },
    {
     "name": "stdout",
     "output_type": "stream",
     "text": [
      "2016-01-18\n",
      "https://api.nytimes.com/svc/books/v3/lists.json?api-key=P1yDSg62Aydsdh04WBBuS57pYbpBu2tb&list=trade-fiction-paperback&published-date=2016-01-18\n"
     ]
    },
    {
     "name": "stderr",
     "output_type": "stream",
     "text": [
      "C:\\Users\\melan\\AppData\\Local\\Temp\\ipykernel_21772\\4058755056.py:26: FutureWarning: pandas.io.json.json_normalize is deprecated, use pandas.json_normalize instead.\n",
      "  books = json_normalize(results[\"results\"], record_path=[\"book_details\"], meta=[\"rank\", \"rank_last_week\", \"weeks_on_list\", \"asterisk\", \"dagger\"])\n"
     ]
    },
    {
     "name": "stdout",
     "output_type": "stream",
     "text": [
      "2016-01-11\n",
      "https://api.nytimes.com/svc/books/v3/lists.json?api-key=P1yDSg62Aydsdh04WBBuS57pYbpBu2tb&list=trade-fiction-paperback&published-date=2016-01-11\n"
     ]
    },
    {
     "name": "stderr",
     "output_type": "stream",
     "text": [
      "C:\\Users\\melan\\AppData\\Local\\Temp\\ipykernel_21772\\4058755056.py:26: FutureWarning: pandas.io.json.json_normalize is deprecated, use pandas.json_normalize instead.\n",
      "  books = json_normalize(results[\"results\"], record_path=[\"book_details\"], meta=[\"rank\", \"rank_last_week\", \"weeks_on_list\", \"asterisk\", \"dagger\"])\n"
     ]
    },
    {
     "name": "stdout",
     "output_type": "stream",
     "text": [
      "2016-01-04\n",
      "https://api.nytimes.com/svc/books/v3/lists.json?api-key=P1yDSg62Aydsdh04WBBuS57pYbpBu2tb&list=trade-fiction-paperback&published-date=2016-01-04\n"
     ]
    },
    {
     "name": "stderr",
     "output_type": "stream",
     "text": [
      "C:\\Users\\melan\\AppData\\Local\\Temp\\ipykernel_21772\\4058755056.py:26: FutureWarning: pandas.io.json.json_normalize is deprecated, use pandas.json_normalize instead.\n",
      "  books = json_normalize(results[\"results\"], record_path=[\"book_details\"], meta=[\"rank\", \"rank_last_week\", \"weeks_on_list\", \"asterisk\", \"dagger\"])\n"
     ]
    },
    {
     "name": "stdout",
     "output_type": "stream",
     "text": [
      "2015-12-28\n",
      "https://api.nytimes.com/svc/books/v3/lists.json?api-key=P1yDSg62Aydsdh04WBBuS57pYbpBu2tb&list=trade-fiction-paperback&published-date=2015-12-28\n"
     ]
    },
    {
     "name": "stderr",
     "output_type": "stream",
     "text": [
      "C:\\Users\\melan\\AppData\\Local\\Temp\\ipykernel_21772\\4058755056.py:26: FutureWarning: pandas.io.json.json_normalize is deprecated, use pandas.json_normalize instead.\n",
      "  books = json_normalize(results[\"results\"], record_path=[\"book_details\"], meta=[\"rank\", \"rank_last_week\", \"weeks_on_list\", \"asterisk\", \"dagger\"])\n"
     ]
    },
    {
     "name": "stdout",
     "output_type": "stream",
     "text": [
      "2015-12-21\n",
      "https://api.nytimes.com/svc/books/v3/lists.json?api-key=P1yDSg62Aydsdh04WBBuS57pYbpBu2tb&list=trade-fiction-paperback&published-date=2015-12-21\n"
     ]
    },
    {
     "name": "stderr",
     "output_type": "stream",
     "text": [
      "C:\\Users\\melan\\AppData\\Local\\Temp\\ipykernel_21772\\4058755056.py:26: FutureWarning: pandas.io.json.json_normalize is deprecated, use pandas.json_normalize instead.\n",
      "  books = json_normalize(results[\"results\"], record_path=[\"book_details\"], meta=[\"rank\", \"rank_last_week\", \"weeks_on_list\", \"asterisk\", \"dagger\"])\n"
     ]
    },
    {
     "name": "stdout",
     "output_type": "stream",
     "text": [
      "2015-12-14\n",
      "https://api.nytimes.com/svc/books/v3/lists.json?api-key=P1yDSg62Aydsdh04WBBuS57pYbpBu2tb&list=trade-fiction-paperback&published-date=2015-12-14\n"
     ]
    },
    {
     "name": "stderr",
     "output_type": "stream",
     "text": [
      "C:\\Users\\melan\\AppData\\Local\\Temp\\ipykernel_21772\\4058755056.py:26: FutureWarning: pandas.io.json.json_normalize is deprecated, use pandas.json_normalize instead.\n",
      "  books = json_normalize(results[\"results\"], record_path=[\"book_details\"], meta=[\"rank\", \"rank_last_week\", \"weeks_on_list\", \"asterisk\", \"dagger\"])\n"
     ]
    },
    {
     "name": "stdout",
     "output_type": "stream",
     "text": [
      "2015-12-07\n",
      "https://api.nytimes.com/svc/books/v3/lists.json?api-key=P1yDSg62Aydsdh04WBBuS57pYbpBu2tb&list=trade-fiction-paperback&published-date=2015-12-07\n"
     ]
    },
    {
     "name": "stderr",
     "output_type": "stream",
     "text": [
      "C:\\Users\\melan\\AppData\\Local\\Temp\\ipykernel_21772\\4058755056.py:26: FutureWarning: pandas.io.json.json_normalize is deprecated, use pandas.json_normalize instead.\n",
      "  books = json_normalize(results[\"results\"], record_path=[\"book_details\"], meta=[\"rank\", \"rank_last_week\", \"weeks_on_list\", \"asterisk\", \"dagger\"])\n"
     ]
    },
    {
     "name": "stdout",
     "output_type": "stream",
     "text": [
      "2015-11-30\n",
      "https://api.nytimes.com/svc/books/v3/lists.json?api-key=P1yDSg62Aydsdh04WBBuS57pYbpBu2tb&list=trade-fiction-paperback&published-date=2015-11-30\n"
     ]
    },
    {
     "name": "stderr",
     "output_type": "stream",
     "text": [
      "C:\\Users\\melan\\AppData\\Local\\Temp\\ipykernel_21772\\4058755056.py:26: FutureWarning: pandas.io.json.json_normalize is deprecated, use pandas.json_normalize instead.\n",
      "  books = json_normalize(results[\"results\"], record_path=[\"book_details\"], meta=[\"rank\", \"rank_last_week\", \"weeks_on_list\", \"asterisk\", \"dagger\"])\n"
     ]
    },
    {
     "name": "stdout",
     "output_type": "stream",
     "text": [
      "2015-11-23\n",
      "https://api.nytimes.com/svc/books/v3/lists.json?api-key=P1yDSg62Aydsdh04WBBuS57pYbpBu2tb&list=trade-fiction-paperback&published-date=2015-11-23\n"
     ]
    },
    {
     "name": "stderr",
     "output_type": "stream",
     "text": [
      "C:\\Users\\melan\\AppData\\Local\\Temp\\ipykernel_21772\\4058755056.py:26: FutureWarning: pandas.io.json.json_normalize is deprecated, use pandas.json_normalize instead.\n",
      "  books = json_normalize(results[\"results\"], record_path=[\"book_details\"], meta=[\"rank\", \"rank_last_week\", \"weeks_on_list\", \"asterisk\", \"dagger\"])\n"
     ]
    },
    {
     "name": "stdout",
     "output_type": "stream",
     "text": [
      "2015-11-16\n",
      "https://api.nytimes.com/svc/books/v3/lists.json?api-key=P1yDSg62Aydsdh04WBBuS57pYbpBu2tb&list=trade-fiction-paperback&published-date=2015-11-16\n"
     ]
    },
    {
     "name": "stderr",
     "output_type": "stream",
     "text": [
      "C:\\Users\\melan\\AppData\\Local\\Temp\\ipykernel_21772\\4058755056.py:26: FutureWarning: pandas.io.json.json_normalize is deprecated, use pandas.json_normalize instead.\n",
      "  books = json_normalize(results[\"results\"], record_path=[\"book_details\"], meta=[\"rank\", \"rank_last_week\", \"weeks_on_list\", \"asterisk\", \"dagger\"])\n"
     ]
    },
    {
     "name": "stdout",
     "output_type": "stream",
     "text": [
      "2015-11-09\n",
      "https://api.nytimes.com/svc/books/v3/lists.json?api-key=P1yDSg62Aydsdh04WBBuS57pYbpBu2tb&list=trade-fiction-paperback&published-date=2015-11-09\n"
     ]
    },
    {
     "name": "stderr",
     "output_type": "stream",
     "text": [
      "C:\\Users\\melan\\AppData\\Local\\Temp\\ipykernel_21772\\4058755056.py:26: FutureWarning: pandas.io.json.json_normalize is deprecated, use pandas.json_normalize instead.\n",
      "  books = json_normalize(results[\"results\"], record_path=[\"book_details\"], meta=[\"rank\", \"rank_last_week\", \"weeks_on_list\", \"asterisk\", \"dagger\"])\n"
     ]
    },
    {
     "name": "stdout",
     "output_type": "stream",
     "text": [
      "2015-11-02\n",
      "https://api.nytimes.com/svc/books/v3/lists.json?api-key=P1yDSg62Aydsdh04WBBuS57pYbpBu2tb&list=trade-fiction-paperback&published-date=2015-11-02\n"
     ]
    },
    {
     "name": "stderr",
     "output_type": "stream",
     "text": [
      "C:\\Users\\melan\\AppData\\Local\\Temp\\ipykernel_21772\\4058755056.py:26: FutureWarning: pandas.io.json.json_normalize is deprecated, use pandas.json_normalize instead.\n",
      "  books = json_normalize(results[\"results\"], record_path=[\"book_details\"], meta=[\"rank\", \"rank_last_week\", \"weeks_on_list\", \"asterisk\", \"dagger\"])\n"
     ]
    },
    {
     "name": "stdout",
     "output_type": "stream",
     "text": [
      "2015-10-26\n",
      "https://api.nytimes.com/svc/books/v3/lists.json?api-key=P1yDSg62Aydsdh04WBBuS57pYbpBu2tb&list=trade-fiction-paperback&published-date=2015-10-26\n"
     ]
    },
    {
     "name": "stderr",
     "output_type": "stream",
     "text": [
      "C:\\Users\\melan\\AppData\\Local\\Temp\\ipykernel_21772\\4058755056.py:26: FutureWarning: pandas.io.json.json_normalize is deprecated, use pandas.json_normalize instead.\n",
      "  books = json_normalize(results[\"results\"], record_path=[\"book_details\"], meta=[\"rank\", \"rank_last_week\", \"weeks_on_list\", \"asterisk\", \"dagger\"])\n"
     ]
    },
    {
     "name": "stdout",
     "output_type": "stream",
     "text": [
      "2015-10-19\n",
      "https://api.nytimes.com/svc/books/v3/lists.json?api-key=P1yDSg62Aydsdh04WBBuS57pYbpBu2tb&list=trade-fiction-paperback&published-date=2015-10-19\n"
     ]
    },
    {
     "name": "stderr",
     "output_type": "stream",
     "text": [
      "C:\\Users\\melan\\AppData\\Local\\Temp\\ipykernel_21772\\4058755056.py:26: FutureWarning: pandas.io.json.json_normalize is deprecated, use pandas.json_normalize instead.\n",
      "  books = json_normalize(results[\"results\"], record_path=[\"book_details\"], meta=[\"rank\", \"rank_last_week\", \"weeks_on_list\", \"asterisk\", \"dagger\"])\n"
     ]
    },
    {
     "name": "stdout",
     "output_type": "stream",
     "text": [
      "2015-10-12\n",
      "https://api.nytimes.com/svc/books/v3/lists.json?api-key=P1yDSg62Aydsdh04WBBuS57pYbpBu2tb&list=trade-fiction-paperback&published-date=2015-10-12\n"
     ]
    },
    {
     "name": "stderr",
     "output_type": "stream",
     "text": [
      "C:\\Users\\melan\\AppData\\Local\\Temp\\ipykernel_21772\\4058755056.py:26: FutureWarning: pandas.io.json.json_normalize is deprecated, use pandas.json_normalize instead.\n",
      "  books = json_normalize(results[\"results\"], record_path=[\"book_details\"], meta=[\"rank\", \"rank_last_week\", \"weeks_on_list\", \"asterisk\", \"dagger\"])\n"
     ]
    },
    {
     "name": "stdout",
     "output_type": "stream",
     "text": [
      "2015-10-05\n",
      "https://api.nytimes.com/svc/books/v3/lists.json?api-key=P1yDSg62Aydsdh04WBBuS57pYbpBu2tb&list=trade-fiction-paperback&published-date=2015-10-05\n"
     ]
    },
    {
     "name": "stderr",
     "output_type": "stream",
     "text": [
      "C:\\Users\\melan\\AppData\\Local\\Temp\\ipykernel_21772\\4058755056.py:26: FutureWarning: pandas.io.json.json_normalize is deprecated, use pandas.json_normalize instead.\n",
      "  books = json_normalize(results[\"results\"], record_path=[\"book_details\"], meta=[\"rank\", \"rank_last_week\", \"weeks_on_list\", \"asterisk\", \"dagger\"])\n"
     ]
    },
    {
     "name": "stdout",
     "output_type": "stream",
     "text": [
      "2015-09-28\n",
      "https://api.nytimes.com/svc/books/v3/lists.json?api-key=P1yDSg62Aydsdh04WBBuS57pYbpBu2tb&list=trade-fiction-paperback&published-date=2015-09-28\n"
     ]
    },
    {
     "name": "stderr",
     "output_type": "stream",
     "text": [
      "C:\\Users\\melan\\AppData\\Local\\Temp\\ipykernel_21772\\4058755056.py:26: FutureWarning: pandas.io.json.json_normalize is deprecated, use pandas.json_normalize instead.\n",
      "  books = json_normalize(results[\"results\"], record_path=[\"book_details\"], meta=[\"rank\", \"rank_last_week\", \"weeks_on_list\", \"asterisk\", \"dagger\"])\n"
     ]
    },
    {
     "name": "stdout",
     "output_type": "stream",
     "text": [
      "2015-09-21\n",
      "https://api.nytimes.com/svc/books/v3/lists.json?api-key=P1yDSg62Aydsdh04WBBuS57pYbpBu2tb&list=trade-fiction-paperback&published-date=2015-09-21\n"
     ]
    },
    {
     "name": "stderr",
     "output_type": "stream",
     "text": [
      "C:\\Users\\melan\\AppData\\Local\\Temp\\ipykernel_21772\\4058755056.py:26: FutureWarning: pandas.io.json.json_normalize is deprecated, use pandas.json_normalize instead.\n",
      "  books = json_normalize(results[\"results\"], record_path=[\"book_details\"], meta=[\"rank\", \"rank_last_week\", \"weeks_on_list\", \"asterisk\", \"dagger\"])\n"
     ]
    },
    {
     "name": "stdout",
     "output_type": "stream",
     "text": [
      "2015-09-14\n",
      "https://api.nytimes.com/svc/books/v3/lists.json?api-key=P1yDSg62Aydsdh04WBBuS57pYbpBu2tb&list=trade-fiction-paperback&published-date=2015-09-14\n"
     ]
    },
    {
     "name": "stderr",
     "output_type": "stream",
     "text": [
      "C:\\Users\\melan\\AppData\\Local\\Temp\\ipykernel_21772\\4058755056.py:26: FutureWarning: pandas.io.json.json_normalize is deprecated, use pandas.json_normalize instead.\n",
      "  books = json_normalize(results[\"results\"], record_path=[\"book_details\"], meta=[\"rank\", \"rank_last_week\", \"weeks_on_list\", \"asterisk\", \"dagger\"])\n"
     ]
    },
    {
     "name": "stdout",
     "output_type": "stream",
     "text": [
      "2015-09-07\n",
      "https://api.nytimes.com/svc/books/v3/lists.json?api-key=P1yDSg62Aydsdh04WBBuS57pYbpBu2tb&list=trade-fiction-paperback&published-date=2015-09-07\n"
     ]
    },
    {
     "name": "stderr",
     "output_type": "stream",
     "text": [
      "C:\\Users\\melan\\AppData\\Local\\Temp\\ipykernel_21772\\4058755056.py:26: FutureWarning: pandas.io.json.json_normalize is deprecated, use pandas.json_normalize instead.\n",
      "  books = json_normalize(results[\"results\"], record_path=[\"book_details\"], meta=[\"rank\", \"rank_last_week\", \"weeks_on_list\", \"asterisk\", \"dagger\"])\n"
     ]
    },
    {
     "name": "stdout",
     "output_type": "stream",
     "text": [
      "2015-08-31\n",
      "https://api.nytimes.com/svc/books/v3/lists.json?api-key=P1yDSg62Aydsdh04WBBuS57pYbpBu2tb&list=trade-fiction-paperback&published-date=2015-08-31\n"
     ]
    },
    {
     "name": "stderr",
     "output_type": "stream",
     "text": [
      "C:\\Users\\melan\\AppData\\Local\\Temp\\ipykernel_21772\\4058755056.py:26: FutureWarning: pandas.io.json.json_normalize is deprecated, use pandas.json_normalize instead.\n",
      "  books = json_normalize(results[\"results\"], record_path=[\"book_details\"], meta=[\"rank\", \"rank_last_week\", \"weeks_on_list\", \"asterisk\", \"dagger\"])\n"
     ]
    },
    {
     "name": "stdout",
     "output_type": "stream",
     "text": [
      "2015-08-24\n",
      "https://api.nytimes.com/svc/books/v3/lists.json?api-key=P1yDSg62Aydsdh04WBBuS57pYbpBu2tb&list=trade-fiction-paperback&published-date=2015-08-24\n"
     ]
    },
    {
     "name": "stderr",
     "output_type": "stream",
     "text": [
      "C:\\Users\\melan\\AppData\\Local\\Temp\\ipykernel_21772\\4058755056.py:26: FutureWarning: pandas.io.json.json_normalize is deprecated, use pandas.json_normalize instead.\n",
      "  books = json_normalize(results[\"results\"], record_path=[\"book_details\"], meta=[\"rank\", \"rank_last_week\", \"weeks_on_list\", \"asterisk\", \"dagger\"])\n"
     ]
    },
    {
     "name": "stdout",
     "output_type": "stream",
     "text": [
      "2015-08-17\n",
      "https://api.nytimes.com/svc/books/v3/lists.json?api-key=P1yDSg62Aydsdh04WBBuS57pYbpBu2tb&list=trade-fiction-paperback&published-date=2015-08-17\n"
     ]
    },
    {
     "name": "stderr",
     "output_type": "stream",
     "text": [
      "C:\\Users\\melan\\AppData\\Local\\Temp\\ipykernel_21772\\4058755056.py:26: FutureWarning: pandas.io.json.json_normalize is deprecated, use pandas.json_normalize instead.\n",
      "  books = json_normalize(results[\"results\"], record_path=[\"book_details\"], meta=[\"rank\", \"rank_last_week\", \"weeks_on_list\", \"asterisk\", \"dagger\"])\n"
     ]
    },
    {
     "name": "stdout",
     "output_type": "stream",
     "text": [
      "2015-08-10\n",
      "https://api.nytimes.com/svc/books/v3/lists.json?api-key=P1yDSg62Aydsdh04WBBuS57pYbpBu2tb&list=trade-fiction-paperback&published-date=2015-08-10\n"
     ]
    },
    {
     "name": "stderr",
     "output_type": "stream",
     "text": [
      "C:\\Users\\melan\\AppData\\Local\\Temp\\ipykernel_21772\\4058755056.py:26: FutureWarning: pandas.io.json.json_normalize is deprecated, use pandas.json_normalize instead.\n",
      "  books = json_normalize(results[\"results\"], record_path=[\"book_details\"], meta=[\"rank\", \"rank_last_week\", \"weeks_on_list\", \"asterisk\", \"dagger\"])\n"
     ]
    },
    {
     "name": "stdout",
     "output_type": "stream",
     "text": [
      "2015-08-03\n",
      "https://api.nytimes.com/svc/books/v3/lists.json?api-key=P1yDSg62Aydsdh04WBBuS57pYbpBu2tb&list=trade-fiction-paperback&published-date=2015-08-03\n"
     ]
    },
    {
     "name": "stderr",
     "output_type": "stream",
     "text": [
      "C:\\Users\\melan\\AppData\\Local\\Temp\\ipykernel_21772\\4058755056.py:26: FutureWarning: pandas.io.json.json_normalize is deprecated, use pandas.json_normalize instead.\n",
      "  books = json_normalize(results[\"results\"], record_path=[\"book_details\"], meta=[\"rank\", \"rank_last_week\", \"weeks_on_list\", \"asterisk\", \"dagger\"])\n"
     ]
    },
    {
     "name": "stdout",
     "output_type": "stream",
     "text": [
      "2015-07-27\n",
      "https://api.nytimes.com/svc/books/v3/lists.json?api-key=P1yDSg62Aydsdh04WBBuS57pYbpBu2tb&list=trade-fiction-paperback&published-date=2015-07-27\n"
     ]
    },
    {
     "name": "stderr",
     "output_type": "stream",
     "text": [
      "C:\\Users\\melan\\AppData\\Local\\Temp\\ipykernel_21772\\4058755056.py:26: FutureWarning: pandas.io.json.json_normalize is deprecated, use pandas.json_normalize instead.\n",
      "  books = json_normalize(results[\"results\"], record_path=[\"book_details\"], meta=[\"rank\", \"rank_last_week\", \"weeks_on_list\", \"asterisk\", \"dagger\"])\n"
     ]
    },
    {
     "name": "stdout",
     "output_type": "stream",
     "text": [
      "2015-07-20\n",
      "https://api.nytimes.com/svc/books/v3/lists.json?api-key=P1yDSg62Aydsdh04WBBuS57pYbpBu2tb&list=trade-fiction-paperback&published-date=2015-07-20\n"
     ]
    },
    {
     "name": "stderr",
     "output_type": "stream",
     "text": [
      "C:\\Users\\melan\\AppData\\Local\\Temp\\ipykernel_21772\\4058755056.py:26: FutureWarning: pandas.io.json.json_normalize is deprecated, use pandas.json_normalize instead.\n",
      "  books = json_normalize(results[\"results\"], record_path=[\"book_details\"], meta=[\"rank\", \"rank_last_week\", \"weeks_on_list\", \"asterisk\", \"dagger\"])\n"
     ]
    },
    {
     "name": "stdout",
     "output_type": "stream",
     "text": [
      "2015-07-13\n",
      "https://api.nytimes.com/svc/books/v3/lists.json?api-key=P1yDSg62Aydsdh04WBBuS57pYbpBu2tb&list=trade-fiction-paperback&published-date=2015-07-13\n"
     ]
    },
    {
     "name": "stderr",
     "output_type": "stream",
     "text": [
      "C:\\Users\\melan\\AppData\\Local\\Temp\\ipykernel_21772\\4058755056.py:26: FutureWarning: pandas.io.json.json_normalize is deprecated, use pandas.json_normalize instead.\n",
      "  books = json_normalize(results[\"results\"], record_path=[\"book_details\"], meta=[\"rank\", \"rank_last_week\", \"weeks_on_list\", \"asterisk\", \"dagger\"])\n"
     ]
    },
    {
     "name": "stdout",
     "output_type": "stream",
     "text": [
      "2015-07-06\n",
      "https://api.nytimes.com/svc/books/v3/lists.json?api-key=P1yDSg62Aydsdh04WBBuS57pYbpBu2tb&list=trade-fiction-paperback&published-date=2015-07-06\n"
     ]
    },
    {
     "name": "stderr",
     "output_type": "stream",
     "text": [
      "C:\\Users\\melan\\AppData\\Local\\Temp\\ipykernel_21772\\4058755056.py:26: FutureWarning: pandas.io.json.json_normalize is deprecated, use pandas.json_normalize instead.\n",
      "  books = json_normalize(results[\"results\"], record_path=[\"book_details\"], meta=[\"rank\", \"rank_last_week\", \"weeks_on_list\", \"asterisk\", \"dagger\"])\n"
     ]
    },
    {
     "name": "stdout",
     "output_type": "stream",
     "text": [
      "2015-06-29\n",
      "https://api.nytimes.com/svc/books/v3/lists.json?api-key=P1yDSg62Aydsdh04WBBuS57pYbpBu2tb&list=trade-fiction-paperback&published-date=2015-06-29\n"
     ]
    },
    {
     "name": "stderr",
     "output_type": "stream",
     "text": [
      "C:\\Users\\melan\\AppData\\Local\\Temp\\ipykernel_21772\\4058755056.py:26: FutureWarning: pandas.io.json.json_normalize is deprecated, use pandas.json_normalize instead.\n",
      "  books = json_normalize(results[\"results\"], record_path=[\"book_details\"], meta=[\"rank\", \"rank_last_week\", \"weeks_on_list\", \"asterisk\", \"dagger\"])\n"
     ]
    },
    {
     "name": "stdout",
     "output_type": "stream",
     "text": [
      "2015-06-22\n",
      "https://api.nytimes.com/svc/books/v3/lists.json?api-key=P1yDSg62Aydsdh04WBBuS57pYbpBu2tb&list=trade-fiction-paperback&published-date=2015-06-22\n"
     ]
    },
    {
     "name": "stderr",
     "output_type": "stream",
     "text": [
      "C:\\Users\\melan\\AppData\\Local\\Temp\\ipykernel_21772\\4058755056.py:26: FutureWarning: pandas.io.json.json_normalize is deprecated, use pandas.json_normalize instead.\n",
      "  books = json_normalize(results[\"results\"], record_path=[\"book_details\"], meta=[\"rank\", \"rank_last_week\", \"weeks_on_list\", \"asterisk\", \"dagger\"])\n"
     ]
    },
    {
     "name": "stdout",
     "output_type": "stream",
     "text": [
      "2015-06-15\n",
      "https://api.nytimes.com/svc/books/v3/lists.json?api-key=P1yDSg62Aydsdh04WBBuS57pYbpBu2tb&list=trade-fiction-paperback&published-date=2015-06-15\n"
     ]
    },
    {
     "name": "stderr",
     "output_type": "stream",
     "text": [
      "C:\\Users\\melan\\AppData\\Local\\Temp\\ipykernel_21772\\4058755056.py:26: FutureWarning: pandas.io.json.json_normalize is deprecated, use pandas.json_normalize instead.\n",
      "  books = json_normalize(results[\"results\"], record_path=[\"book_details\"], meta=[\"rank\", \"rank_last_week\", \"weeks_on_list\", \"asterisk\", \"dagger\"])\n"
     ]
    },
    {
     "name": "stdout",
     "output_type": "stream",
     "text": [
      "2015-06-08\n",
      "https://api.nytimes.com/svc/books/v3/lists.json?api-key=P1yDSg62Aydsdh04WBBuS57pYbpBu2tb&list=trade-fiction-paperback&published-date=2015-06-08\n"
     ]
    },
    {
     "name": "stderr",
     "output_type": "stream",
     "text": [
      "C:\\Users\\melan\\AppData\\Local\\Temp\\ipykernel_21772\\4058755056.py:26: FutureWarning: pandas.io.json.json_normalize is deprecated, use pandas.json_normalize instead.\n",
      "  books = json_normalize(results[\"results\"], record_path=[\"book_details\"], meta=[\"rank\", \"rank_last_week\", \"weeks_on_list\", \"asterisk\", \"dagger\"])\n"
     ]
    },
    {
     "name": "stdout",
     "output_type": "stream",
     "text": [
      "2015-06-01\n",
      "https://api.nytimes.com/svc/books/v3/lists.json?api-key=P1yDSg62Aydsdh04WBBuS57pYbpBu2tb&list=trade-fiction-paperback&published-date=2015-06-01\n"
     ]
    },
    {
     "name": "stderr",
     "output_type": "stream",
     "text": [
      "C:\\Users\\melan\\AppData\\Local\\Temp\\ipykernel_21772\\4058755056.py:26: FutureWarning: pandas.io.json.json_normalize is deprecated, use pandas.json_normalize instead.\n",
      "  books = json_normalize(results[\"results\"], record_path=[\"book_details\"], meta=[\"rank\", \"rank_last_week\", \"weeks_on_list\", \"asterisk\", \"dagger\"])\n"
     ]
    },
    {
     "name": "stdout",
     "output_type": "stream",
     "text": [
      "2015-05-25\n",
      "https://api.nytimes.com/svc/books/v3/lists.json?api-key=P1yDSg62Aydsdh04WBBuS57pYbpBu2tb&list=trade-fiction-paperback&published-date=2015-05-25\n"
     ]
    },
    {
     "name": "stderr",
     "output_type": "stream",
     "text": [
      "C:\\Users\\melan\\AppData\\Local\\Temp\\ipykernel_21772\\4058755056.py:26: FutureWarning: pandas.io.json.json_normalize is deprecated, use pandas.json_normalize instead.\n",
      "  books = json_normalize(results[\"results\"], record_path=[\"book_details\"], meta=[\"rank\", \"rank_last_week\", \"weeks_on_list\", \"asterisk\", \"dagger\"])\n"
     ]
    },
    {
     "name": "stdout",
     "output_type": "stream",
     "text": [
      "2015-05-18\n",
      "https://api.nytimes.com/svc/books/v3/lists.json?api-key=P1yDSg62Aydsdh04WBBuS57pYbpBu2tb&list=trade-fiction-paperback&published-date=2015-05-18\n"
     ]
    },
    {
     "name": "stderr",
     "output_type": "stream",
     "text": [
      "C:\\Users\\melan\\AppData\\Local\\Temp\\ipykernel_21772\\4058755056.py:26: FutureWarning: pandas.io.json.json_normalize is deprecated, use pandas.json_normalize instead.\n",
      "  books = json_normalize(results[\"results\"], record_path=[\"book_details\"], meta=[\"rank\", \"rank_last_week\", \"weeks_on_list\", \"asterisk\", \"dagger\"])\n"
     ]
    },
    {
     "name": "stdout",
     "output_type": "stream",
     "text": [
      "2015-05-11\n",
      "https://api.nytimes.com/svc/books/v3/lists.json?api-key=P1yDSg62Aydsdh04WBBuS57pYbpBu2tb&list=trade-fiction-paperback&published-date=2015-05-11\n"
     ]
    },
    {
     "name": "stderr",
     "output_type": "stream",
     "text": [
      "C:\\Users\\melan\\AppData\\Local\\Temp\\ipykernel_21772\\4058755056.py:26: FutureWarning: pandas.io.json.json_normalize is deprecated, use pandas.json_normalize instead.\n",
      "  books = json_normalize(results[\"results\"], record_path=[\"book_details\"], meta=[\"rank\", \"rank_last_week\", \"weeks_on_list\", \"asterisk\", \"dagger\"])\n"
     ]
    },
    {
     "name": "stdout",
     "output_type": "stream",
     "text": [
      "2015-05-04\n",
      "https://api.nytimes.com/svc/books/v3/lists.json?api-key=P1yDSg62Aydsdh04WBBuS57pYbpBu2tb&list=trade-fiction-paperback&published-date=2015-05-04\n"
     ]
    },
    {
     "name": "stderr",
     "output_type": "stream",
     "text": [
      "C:\\Users\\melan\\AppData\\Local\\Temp\\ipykernel_21772\\4058755056.py:26: FutureWarning: pandas.io.json.json_normalize is deprecated, use pandas.json_normalize instead.\n",
      "  books = json_normalize(results[\"results\"], record_path=[\"book_details\"], meta=[\"rank\", \"rank_last_week\", \"weeks_on_list\", \"asterisk\", \"dagger\"])\n"
     ]
    },
    {
     "name": "stdout",
     "output_type": "stream",
     "text": [
      "2015-04-27\n",
      "https://api.nytimes.com/svc/books/v3/lists.json?api-key=P1yDSg62Aydsdh04WBBuS57pYbpBu2tb&list=trade-fiction-paperback&published-date=2015-04-27\n"
     ]
    },
    {
     "name": "stderr",
     "output_type": "stream",
     "text": [
      "C:\\Users\\melan\\AppData\\Local\\Temp\\ipykernel_21772\\4058755056.py:26: FutureWarning: pandas.io.json.json_normalize is deprecated, use pandas.json_normalize instead.\n",
      "  books = json_normalize(results[\"results\"], record_path=[\"book_details\"], meta=[\"rank\", \"rank_last_week\", \"weeks_on_list\", \"asterisk\", \"dagger\"])\n"
     ]
    },
    {
     "name": "stdout",
     "output_type": "stream",
     "text": [
      "2015-04-20\n",
      "https://api.nytimes.com/svc/books/v3/lists.json?api-key=P1yDSg62Aydsdh04WBBuS57pYbpBu2tb&list=trade-fiction-paperback&published-date=2015-04-20\n"
     ]
    },
    {
     "name": "stderr",
     "output_type": "stream",
     "text": [
      "C:\\Users\\melan\\AppData\\Local\\Temp\\ipykernel_21772\\4058755056.py:26: FutureWarning: pandas.io.json.json_normalize is deprecated, use pandas.json_normalize instead.\n",
      "  books = json_normalize(results[\"results\"], record_path=[\"book_details\"], meta=[\"rank\", \"rank_last_week\", \"weeks_on_list\", \"asterisk\", \"dagger\"])\n"
     ]
    },
    {
     "name": "stdout",
     "output_type": "stream",
     "text": [
      "2015-04-13\n",
      "https://api.nytimes.com/svc/books/v3/lists.json?api-key=P1yDSg62Aydsdh04WBBuS57pYbpBu2tb&list=trade-fiction-paperback&published-date=2015-04-13\n"
     ]
    },
    {
     "name": "stderr",
     "output_type": "stream",
     "text": [
      "C:\\Users\\melan\\AppData\\Local\\Temp\\ipykernel_21772\\4058755056.py:26: FutureWarning: pandas.io.json.json_normalize is deprecated, use pandas.json_normalize instead.\n",
      "  books = json_normalize(results[\"results\"], record_path=[\"book_details\"], meta=[\"rank\", \"rank_last_week\", \"weeks_on_list\", \"asterisk\", \"dagger\"])\n"
     ]
    },
    {
     "name": "stdout",
     "output_type": "stream",
     "text": [
      "2015-04-06\n",
      "https://api.nytimes.com/svc/books/v3/lists.json?api-key=P1yDSg62Aydsdh04WBBuS57pYbpBu2tb&list=trade-fiction-paperback&published-date=2015-04-06\n"
     ]
    },
    {
     "name": "stderr",
     "output_type": "stream",
     "text": [
      "C:\\Users\\melan\\AppData\\Local\\Temp\\ipykernel_21772\\4058755056.py:26: FutureWarning: pandas.io.json.json_normalize is deprecated, use pandas.json_normalize instead.\n",
      "  books = json_normalize(results[\"results\"], record_path=[\"book_details\"], meta=[\"rank\", \"rank_last_week\", \"weeks_on_list\", \"asterisk\", \"dagger\"])\n"
     ]
    },
    {
     "name": "stdout",
     "output_type": "stream",
     "text": [
      "2015-03-30\n",
      "https://api.nytimes.com/svc/books/v3/lists.json?api-key=P1yDSg62Aydsdh04WBBuS57pYbpBu2tb&list=trade-fiction-paperback&published-date=2015-03-30\n"
     ]
    },
    {
     "name": "stderr",
     "output_type": "stream",
     "text": [
      "C:\\Users\\melan\\AppData\\Local\\Temp\\ipykernel_21772\\4058755056.py:26: FutureWarning: pandas.io.json.json_normalize is deprecated, use pandas.json_normalize instead.\n",
      "  books = json_normalize(results[\"results\"], record_path=[\"book_details\"], meta=[\"rank\", \"rank_last_week\", \"weeks_on_list\", \"asterisk\", \"dagger\"])\n"
     ]
    },
    {
     "name": "stdout",
     "output_type": "stream",
     "text": [
      "2015-03-23\n",
      "https://api.nytimes.com/svc/books/v3/lists.json?api-key=P1yDSg62Aydsdh04WBBuS57pYbpBu2tb&list=trade-fiction-paperback&published-date=2015-03-23\n"
     ]
    },
    {
     "name": "stderr",
     "output_type": "stream",
     "text": [
      "C:\\Users\\melan\\AppData\\Local\\Temp\\ipykernel_21772\\4058755056.py:26: FutureWarning: pandas.io.json.json_normalize is deprecated, use pandas.json_normalize instead.\n",
      "  books = json_normalize(results[\"results\"], record_path=[\"book_details\"], meta=[\"rank\", \"rank_last_week\", \"weeks_on_list\", \"asterisk\", \"dagger\"])\n"
     ]
    },
    {
     "name": "stdout",
     "output_type": "stream",
     "text": [
      "2015-03-16\n",
      "https://api.nytimes.com/svc/books/v3/lists.json?api-key=P1yDSg62Aydsdh04WBBuS57pYbpBu2tb&list=trade-fiction-paperback&published-date=2015-03-16\n"
     ]
    },
    {
     "name": "stderr",
     "output_type": "stream",
     "text": [
      "C:\\Users\\melan\\AppData\\Local\\Temp\\ipykernel_21772\\4058755056.py:26: FutureWarning: pandas.io.json.json_normalize is deprecated, use pandas.json_normalize instead.\n",
      "  books = json_normalize(results[\"results\"], record_path=[\"book_details\"], meta=[\"rank\", \"rank_last_week\", \"weeks_on_list\", \"asterisk\", \"dagger\"])\n"
     ]
    },
    {
     "name": "stdout",
     "output_type": "stream",
     "text": [
      "2015-03-09\n",
      "https://api.nytimes.com/svc/books/v3/lists.json?api-key=P1yDSg62Aydsdh04WBBuS57pYbpBu2tb&list=trade-fiction-paperback&published-date=2015-03-09\n"
     ]
    },
    {
     "name": "stderr",
     "output_type": "stream",
     "text": [
      "C:\\Users\\melan\\AppData\\Local\\Temp\\ipykernel_21772\\4058755056.py:26: FutureWarning: pandas.io.json.json_normalize is deprecated, use pandas.json_normalize instead.\n",
      "  books = json_normalize(results[\"results\"], record_path=[\"book_details\"], meta=[\"rank\", \"rank_last_week\", \"weeks_on_list\", \"asterisk\", \"dagger\"])\n"
     ]
    },
    {
     "name": "stdout",
     "output_type": "stream",
     "text": [
      "2015-03-02\n",
      "https://api.nytimes.com/svc/books/v3/lists.json?api-key=P1yDSg62Aydsdh04WBBuS57pYbpBu2tb&list=trade-fiction-paperback&published-date=2015-03-02\n"
     ]
    },
    {
     "name": "stderr",
     "output_type": "stream",
     "text": [
      "C:\\Users\\melan\\AppData\\Local\\Temp\\ipykernel_21772\\4058755056.py:26: FutureWarning: pandas.io.json.json_normalize is deprecated, use pandas.json_normalize instead.\n",
      "  books = json_normalize(results[\"results\"], record_path=[\"book_details\"], meta=[\"rank\", \"rank_last_week\", \"weeks_on_list\", \"asterisk\", \"dagger\"])\n"
     ]
    },
    {
     "name": "stdout",
     "output_type": "stream",
     "text": [
      "2015-02-23\n",
      "https://api.nytimes.com/svc/books/v3/lists.json?api-key=P1yDSg62Aydsdh04WBBuS57pYbpBu2tb&list=trade-fiction-paperback&published-date=2015-02-23\n"
     ]
    },
    {
     "name": "stderr",
     "output_type": "stream",
     "text": [
      "C:\\Users\\melan\\AppData\\Local\\Temp\\ipykernel_21772\\4058755056.py:26: FutureWarning: pandas.io.json.json_normalize is deprecated, use pandas.json_normalize instead.\n",
      "  books = json_normalize(results[\"results\"], record_path=[\"book_details\"], meta=[\"rank\", \"rank_last_week\", \"weeks_on_list\", \"asterisk\", \"dagger\"])\n"
     ]
    },
    {
     "name": "stdout",
     "output_type": "stream",
     "text": [
      "2015-02-16\n",
      "https://api.nytimes.com/svc/books/v3/lists.json?api-key=P1yDSg62Aydsdh04WBBuS57pYbpBu2tb&list=trade-fiction-paperback&published-date=2015-02-16\n"
     ]
    },
    {
     "name": "stderr",
     "output_type": "stream",
     "text": [
      "C:\\Users\\melan\\AppData\\Local\\Temp\\ipykernel_21772\\4058755056.py:26: FutureWarning: pandas.io.json.json_normalize is deprecated, use pandas.json_normalize instead.\n",
      "  books = json_normalize(results[\"results\"], record_path=[\"book_details\"], meta=[\"rank\", \"rank_last_week\", \"weeks_on_list\", \"asterisk\", \"dagger\"])\n"
     ]
    },
    {
     "name": "stdout",
     "output_type": "stream",
     "text": [
      "2015-02-09\n",
      "https://api.nytimes.com/svc/books/v3/lists.json?api-key=P1yDSg62Aydsdh04WBBuS57pYbpBu2tb&list=trade-fiction-paperback&published-date=2015-02-09\n"
     ]
    },
    {
     "name": "stderr",
     "output_type": "stream",
     "text": [
      "C:\\Users\\melan\\AppData\\Local\\Temp\\ipykernel_21772\\4058755056.py:26: FutureWarning: pandas.io.json.json_normalize is deprecated, use pandas.json_normalize instead.\n",
      "  books = json_normalize(results[\"results\"], record_path=[\"book_details\"], meta=[\"rank\", \"rank_last_week\", \"weeks_on_list\", \"asterisk\", \"dagger\"])\n"
     ]
    },
    {
     "name": "stdout",
     "output_type": "stream",
     "text": [
      "2015-02-02\n",
      "https://api.nytimes.com/svc/books/v3/lists.json?api-key=P1yDSg62Aydsdh04WBBuS57pYbpBu2tb&list=trade-fiction-paperback&published-date=2015-02-02\n"
     ]
    },
    {
     "name": "stderr",
     "output_type": "stream",
     "text": [
      "C:\\Users\\melan\\AppData\\Local\\Temp\\ipykernel_21772\\4058755056.py:26: FutureWarning: pandas.io.json.json_normalize is deprecated, use pandas.json_normalize instead.\n",
      "  books = json_normalize(results[\"results\"], record_path=[\"book_details\"], meta=[\"rank\", \"rank_last_week\", \"weeks_on_list\", \"asterisk\", \"dagger\"])\n"
     ]
    },
    {
     "name": "stdout",
     "output_type": "stream",
     "text": [
      "2015-01-26\n",
      "https://api.nytimes.com/svc/books/v3/lists.json?api-key=P1yDSg62Aydsdh04WBBuS57pYbpBu2tb&list=trade-fiction-paperback&published-date=2015-01-26\n"
     ]
    },
    {
     "name": "stderr",
     "output_type": "stream",
     "text": [
      "C:\\Users\\melan\\AppData\\Local\\Temp\\ipykernel_21772\\4058755056.py:26: FutureWarning: pandas.io.json.json_normalize is deprecated, use pandas.json_normalize instead.\n",
      "  books = json_normalize(results[\"results\"], record_path=[\"book_details\"], meta=[\"rank\", \"rank_last_week\", \"weeks_on_list\", \"asterisk\", \"dagger\"])\n"
     ]
    },
    {
     "name": "stdout",
     "output_type": "stream",
     "text": [
      "2015-01-19\n",
      "https://api.nytimes.com/svc/books/v3/lists.json?api-key=P1yDSg62Aydsdh04WBBuS57pYbpBu2tb&list=trade-fiction-paperback&published-date=2015-01-19\n"
     ]
    },
    {
     "name": "stderr",
     "output_type": "stream",
     "text": [
      "C:\\Users\\melan\\AppData\\Local\\Temp\\ipykernel_21772\\4058755056.py:26: FutureWarning: pandas.io.json.json_normalize is deprecated, use pandas.json_normalize instead.\n",
      "  books = json_normalize(results[\"results\"], record_path=[\"book_details\"], meta=[\"rank\", \"rank_last_week\", \"weeks_on_list\", \"asterisk\", \"dagger\"])\n"
     ]
    },
    {
     "name": "stdout",
     "output_type": "stream",
     "text": [
      "2015-01-12\n",
      "https://api.nytimes.com/svc/books/v3/lists.json?api-key=P1yDSg62Aydsdh04WBBuS57pYbpBu2tb&list=trade-fiction-paperback&published-date=2015-01-12\n"
     ]
    },
    {
     "name": "stderr",
     "output_type": "stream",
     "text": [
      "C:\\Users\\melan\\AppData\\Local\\Temp\\ipykernel_21772\\4058755056.py:26: FutureWarning: pandas.io.json.json_normalize is deprecated, use pandas.json_normalize instead.\n",
      "  books = json_normalize(results[\"results\"], record_path=[\"book_details\"], meta=[\"rank\", \"rank_last_week\", \"weeks_on_list\", \"asterisk\", \"dagger\"])\n"
     ]
    },
    {
     "name": "stdout",
     "output_type": "stream",
     "text": [
      "2015-01-05\n",
      "https://api.nytimes.com/svc/books/v3/lists.json?api-key=P1yDSg62Aydsdh04WBBuS57pYbpBu2tb&list=trade-fiction-paperback&published-date=2015-01-05\n"
     ]
    },
    {
     "name": "stderr",
     "output_type": "stream",
     "text": [
      "C:\\Users\\melan\\AppData\\Local\\Temp\\ipykernel_21772\\4058755056.py:26: FutureWarning: pandas.io.json.json_normalize is deprecated, use pandas.json_normalize instead.\n",
      "  books = json_normalize(results[\"results\"], record_path=[\"book_details\"], meta=[\"rank\", \"rank_last_week\", \"weeks_on_list\", \"asterisk\", \"dagger\"])\n"
     ]
    },
    {
     "name": "stdout",
     "output_type": "stream",
     "text": [
      "2014-12-29\n",
      "https://api.nytimes.com/svc/books/v3/lists.json?api-key=P1yDSg62Aydsdh04WBBuS57pYbpBu2tb&list=trade-fiction-paperback&published-date=2014-12-29\n"
     ]
    },
    {
     "name": "stderr",
     "output_type": "stream",
     "text": [
      "C:\\Users\\melan\\AppData\\Local\\Temp\\ipykernel_21772\\4058755056.py:26: FutureWarning: pandas.io.json.json_normalize is deprecated, use pandas.json_normalize instead.\n",
      "  books = json_normalize(results[\"results\"], record_path=[\"book_details\"], meta=[\"rank\", \"rank_last_week\", \"weeks_on_list\", \"asterisk\", \"dagger\"])\n"
     ]
    },
    {
     "name": "stdout",
     "output_type": "stream",
     "text": [
      "2014-12-22\n",
      "https://api.nytimes.com/svc/books/v3/lists.json?api-key=P1yDSg62Aydsdh04WBBuS57pYbpBu2tb&list=trade-fiction-paperback&published-date=2014-12-22\n"
     ]
    },
    {
     "name": "stderr",
     "output_type": "stream",
     "text": [
      "C:\\Users\\melan\\AppData\\Local\\Temp\\ipykernel_21772\\4058755056.py:26: FutureWarning: pandas.io.json.json_normalize is deprecated, use pandas.json_normalize instead.\n",
      "  books = json_normalize(results[\"results\"], record_path=[\"book_details\"], meta=[\"rank\", \"rank_last_week\", \"weeks_on_list\", \"asterisk\", \"dagger\"])\n"
     ]
    },
    {
     "name": "stdout",
     "output_type": "stream",
     "text": [
      "2014-12-15\n",
      "https://api.nytimes.com/svc/books/v3/lists.json?api-key=P1yDSg62Aydsdh04WBBuS57pYbpBu2tb&list=trade-fiction-paperback&published-date=2014-12-15\n"
     ]
    },
    {
     "name": "stderr",
     "output_type": "stream",
     "text": [
      "C:\\Users\\melan\\AppData\\Local\\Temp\\ipykernel_21772\\4058755056.py:26: FutureWarning: pandas.io.json.json_normalize is deprecated, use pandas.json_normalize instead.\n",
      "  books = json_normalize(results[\"results\"], record_path=[\"book_details\"], meta=[\"rank\", \"rank_last_week\", \"weeks_on_list\", \"asterisk\", \"dagger\"])\n"
     ]
    },
    {
     "name": "stdout",
     "output_type": "stream",
     "text": [
      "2014-12-08\n",
      "https://api.nytimes.com/svc/books/v3/lists.json?api-key=P1yDSg62Aydsdh04WBBuS57pYbpBu2tb&list=trade-fiction-paperback&published-date=2014-12-08\n"
     ]
    },
    {
     "name": "stderr",
     "output_type": "stream",
     "text": [
      "C:\\Users\\melan\\AppData\\Local\\Temp\\ipykernel_21772\\4058755056.py:26: FutureWarning: pandas.io.json.json_normalize is deprecated, use pandas.json_normalize instead.\n",
      "  books = json_normalize(results[\"results\"], record_path=[\"book_details\"], meta=[\"rank\", \"rank_last_week\", \"weeks_on_list\", \"asterisk\", \"dagger\"])\n"
     ]
    },
    {
     "name": "stdout",
     "output_type": "stream",
     "text": [
      "2014-12-01\n",
      "https://api.nytimes.com/svc/books/v3/lists.json?api-key=P1yDSg62Aydsdh04WBBuS57pYbpBu2tb&list=trade-fiction-paperback&published-date=2014-12-01\n"
     ]
    },
    {
     "name": "stderr",
     "output_type": "stream",
     "text": [
      "C:\\Users\\melan\\AppData\\Local\\Temp\\ipykernel_21772\\4058755056.py:26: FutureWarning: pandas.io.json.json_normalize is deprecated, use pandas.json_normalize instead.\n",
      "  books = json_normalize(results[\"results\"], record_path=[\"book_details\"], meta=[\"rank\", \"rank_last_week\", \"weeks_on_list\", \"asterisk\", \"dagger\"])\n"
     ]
    },
    {
     "name": "stdout",
     "output_type": "stream",
     "text": [
      "2014-11-24\n",
      "https://api.nytimes.com/svc/books/v3/lists.json?api-key=P1yDSg62Aydsdh04WBBuS57pYbpBu2tb&list=trade-fiction-paperback&published-date=2014-11-24\n"
     ]
    },
    {
     "name": "stderr",
     "output_type": "stream",
     "text": [
      "C:\\Users\\melan\\AppData\\Local\\Temp\\ipykernel_21772\\4058755056.py:26: FutureWarning: pandas.io.json.json_normalize is deprecated, use pandas.json_normalize instead.\n",
      "  books = json_normalize(results[\"results\"], record_path=[\"book_details\"], meta=[\"rank\", \"rank_last_week\", \"weeks_on_list\", \"asterisk\", \"dagger\"])\n"
     ]
    },
    {
     "name": "stdout",
     "output_type": "stream",
     "text": [
      "2014-11-17\n",
      "https://api.nytimes.com/svc/books/v3/lists.json?api-key=P1yDSg62Aydsdh04WBBuS57pYbpBu2tb&list=trade-fiction-paperback&published-date=2014-11-17\n"
     ]
    },
    {
     "name": "stderr",
     "output_type": "stream",
     "text": [
      "C:\\Users\\melan\\AppData\\Local\\Temp\\ipykernel_21772\\4058755056.py:26: FutureWarning: pandas.io.json.json_normalize is deprecated, use pandas.json_normalize instead.\n",
      "  books = json_normalize(results[\"results\"], record_path=[\"book_details\"], meta=[\"rank\", \"rank_last_week\", \"weeks_on_list\", \"asterisk\", \"dagger\"])\n"
     ]
    },
    {
     "name": "stdout",
     "output_type": "stream",
     "text": [
      "2014-11-10\n",
      "https://api.nytimes.com/svc/books/v3/lists.json?api-key=P1yDSg62Aydsdh04WBBuS57pYbpBu2tb&list=trade-fiction-paperback&published-date=2014-11-10\n"
     ]
    },
    {
     "name": "stderr",
     "output_type": "stream",
     "text": [
      "C:\\Users\\melan\\AppData\\Local\\Temp\\ipykernel_21772\\4058755056.py:26: FutureWarning: pandas.io.json.json_normalize is deprecated, use pandas.json_normalize instead.\n",
      "  books = json_normalize(results[\"results\"], record_path=[\"book_details\"], meta=[\"rank\", \"rank_last_week\", \"weeks_on_list\", \"asterisk\", \"dagger\"])\n"
     ]
    },
    {
     "name": "stdout",
     "output_type": "stream",
     "text": [
      "2014-11-03\n",
      "https://api.nytimes.com/svc/books/v3/lists.json?api-key=P1yDSg62Aydsdh04WBBuS57pYbpBu2tb&list=trade-fiction-paperback&published-date=2014-11-03\n"
     ]
    },
    {
     "name": "stderr",
     "output_type": "stream",
     "text": [
      "C:\\Users\\melan\\AppData\\Local\\Temp\\ipykernel_21772\\4058755056.py:26: FutureWarning: pandas.io.json.json_normalize is deprecated, use pandas.json_normalize instead.\n",
      "  books = json_normalize(results[\"results\"], record_path=[\"book_details\"], meta=[\"rank\", \"rank_last_week\", \"weeks_on_list\", \"asterisk\", \"dagger\"])\n"
     ]
    },
    {
     "name": "stdout",
     "output_type": "stream",
     "text": [
      "2014-10-27\n",
      "https://api.nytimes.com/svc/books/v3/lists.json?api-key=P1yDSg62Aydsdh04WBBuS57pYbpBu2tb&list=trade-fiction-paperback&published-date=2014-10-27\n"
     ]
    },
    {
     "name": "stderr",
     "output_type": "stream",
     "text": [
      "C:\\Users\\melan\\AppData\\Local\\Temp\\ipykernel_21772\\4058755056.py:26: FutureWarning: pandas.io.json.json_normalize is deprecated, use pandas.json_normalize instead.\n",
      "  books = json_normalize(results[\"results\"], record_path=[\"book_details\"], meta=[\"rank\", \"rank_last_week\", \"weeks_on_list\", \"asterisk\", \"dagger\"])\n"
     ]
    },
    {
     "name": "stdout",
     "output_type": "stream",
     "text": [
      "2014-10-20\n",
      "https://api.nytimes.com/svc/books/v3/lists.json?api-key=P1yDSg62Aydsdh04WBBuS57pYbpBu2tb&list=trade-fiction-paperback&published-date=2014-10-20\n"
     ]
    },
    {
     "name": "stderr",
     "output_type": "stream",
     "text": [
      "C:\\Users\\melan\\AppData\\Local\\Temp\\ipykernel_21772\\4058755056.py:26: FutureWarning: pandas.io.json.json_normalize is deprecated, use pandas.json_normalize instead.\n",
      "  books = json_normalize(results[\"results\"], record_path=[\"book_details\"], meta=[\"rank\", \"rank_last_week\", \"weeks_on_list\", \"asterisk\", \"dagger\"])\n"
     ]
    },
    {
     "name": "stdout",
     "output_type": "stream",
     "text": [
      "2014-10-13\n",
      "https://api.nytimes.com/svc/books/v3/lists.json?api-key=P1yDSg62Aydsdh04WBBuS57pYbpBu2tb&list=trade-fiction-paperback&published-date=2014-10-13\n"
     ]
    },
    {
     "name": "stderr",
     "output_type": "stream",
     "text": [
      "C:\\Users\\melan\\AppData\\Local\\Temp\\ipykernel_21772\\4058755056.py:26: FutureWarning: pandas.io.json.json_normalize is deprecated, use pandas.json_normalize instead.\n",
      "  books = json_normalize(results[\"results\"], record_path=[\"book_details\"], meta=[\"rank\", \"rank_last_week\", \"weeks_on_list\", \"asterisk\", \"dagger\"])\n"
     ]
    },
    {
     "name": "stdout",
     "output_type": "stream",
     "text": [
      "2014-10-06\n",
      "https://api.nytimes.com/svc/books/v3/lists.json?api-key=P1yDSg62Aydsdh04WBBuS57pYbpBu2tb&list=trade-fiction-paperback&published-date=2014-10-06\n"
     ]
    },
    {
     "name": "stderr",
     "output_type": "stream",
     "text": [
      "C:\\Users\\melan\\AppData\\Local\\Temp\\ipykernel_21772\\4058755056.py:26: FutureWarning: pandas.io.json.json_normalize is deprecated, use pandas.json_normalize instead.\n",
      "  books = json_normalize(results[\"results\"], record_path=[\"book_details\"], meta=[\"rank\", \"rank_last_week\", \"weeks_on_list\", \"asterisk\", \"dagger\"])\n"
     ]
    },
    {
     "name": "stdout",
     "output_type": "stream",
     "text": [
      "2014-09-29\n",
      "https://api.nytimes.com/svc/books/v3/lists.json?api-key=P1yDSg62Aydsdh04WBBuS57pYbpBu2tb&list=trade-fiction-paperback&published-date=2014-09-29\n"
     ]
    },
    {
     "name": "stderr",
     "output_type": "stream",
     "text": [
      "C:\\Users\\melan\\AppData\\Local\\Temp\\ipykernel_21772\\4058755056.py:26: FutureWarning: pandas.io.json.json_normalize is deprecated, use pandas.json_normalize instead.\n",
      "  books = json_normalize(results[\"results\"], record_path=[\"book_details\"], meta=[\"rank\", \"rank_last_week\", \"weeks_on_list\", \"asterisk\", \"dagger\"])\n"
     ]
    },
    {
     "name": "stdout",
     "output_type": "stream",
     "text": [
      "2014-09-22\n",
      "https://api.nytimes.com/svc/books/v3/lists.json?api-key=P1yDSg62Aydsdh04WBBuS57pYbpBu2tb&list=trade-fiction-paperback&published-date=2014-09-22\n"
     ]
    },
    {
     "name": "stderr",
     "output_type": "stream",
     "text": [
      "C:\\Users\\melan\\AppData\\Local\\Temp\\ipykernel_21772\\4058755056.py:26: FutureWarning: pandas.io.json.json_normalize is deprecated, use pandas.json_normalize instead.\n",
      "  books = json_normalize(results[\"results\"], record_path=[\"book_details\"], meta=[\"rank\", \"rank_last_week\", \"weeks_on_list\", \"asterisk\", \"dagger\"])\n"
     ]
    },
    {
     "name": "stdout",
     "output_type": "stream",
     "text": [
      "2014-09-15\n",
      "https://api.nytimes.com/svc/books/v3/lists.json?api-key=P1yDSg62Aydsdh04WBBuS57pYbpBu2tb&list=trade-fiction-paperback&published-date=2014-09-15\n"
     ]
    },
    {
     "name": "stderr",
     "output_type": "stream",
     "text": [
      "C:\\Users\\melan\\AppData\\Local\\Temp\\ipykernel_21772\\4058755056.py:26: FutureWarning: pandas.io.json.json_normalize is deprecated, use pandas.json_normalize instead.\n",
      "  books = json_normalize(results[\"results\"], record_path=[\"book_details\"], meta=[\"rank\", \"rank_last_week\", \"weeks_on_list\", \"asterisk\", \"dagger\"])\n"
     ]
    },
    {
     "name": "stdout",
     "output_type": "stream",
     "text": [
      "2014-09-08\n",
      "https://api.nytimes.com/svc/books/v3/lists.json?api-key=P1yDSg62Aydsdh04WBBuS57pYbpBu2tb&list=trade-fiction-paperback&published-date=2014-09-08\n"
     ]
    },
    {
     "name": "stderr",
     "output_type": "stream",
     "text": [
      "C:\\Users\\melan\\AppData\\Local\\Temp\\ipykernel_21772\\4058755056.py:26: FutureWarning: pandas.io.json.json_normalize is deprecated, use pandas.json_normalize instead.\n",
      "  books = json_normalize(results[\"results\"], record_path=[\"book_details\"], meta=[\"rank\", \"rank_last_week\", \"weeks_on_list\", \"asterisk\", \"dagger\"])\n"
     ]
    },
    {
     "name": "stdout",
     "output_type": "stream",
     "text": [
      "2014-09-01\n",
      "https://api.nytimes.com/svc/books/v3/lists.json?api-key=P1yDSg62Aydsdh04WBBuS57pYbpBu2tb&list=trade-fiction-paperback&published-date=2014-09-01\n"
     ]
    },
    {
     "name": "stderr",
     "output_type": "stream",
     "text": [
      "C:\\Users\\melan\\AppData\\Local\\Temp\\ipykernel_21772\\4058755056.py:26: FutureWarning: pandas.io.json.json_normalize is deprecated, use pandas.json_normalize instead.\n",
      "  books = json_normalize(results[\"results\"], record_path=[\"book_details\"], meta=[\"rank\", \"rank_last_week\", \"weeks_on_list\", \"asterisk\", \"dagger\"])\n"
     ]
    },
    {
     "name": "stdout",
     "output_type": "stream",
     "text": [
      "2014-08-25\n",
      "https://api.nytimes.com/svc/books/v3/lists.json?api-key=P1yDSg62Aydsdh04WBBuS57pYbpBu2tb&list=trade-fiction-paperback&published-date=2014-08-25\n"
     ]
    },
    {
     "name": "stderr",
     "output_type": "stream",
     "text": [
      "C:\\Users\\melan\\AppData\\Local\\Temp\\ipykernel_21772\\4058755056.py:26: FutureWarning: pandas.io.json.json_normalize is deprecated, use pandas.json_normalize instead.\n",
      "  books = json_normalize(results[\"results\"], record_path=[\"book_details\"], meta=[\"rank\", \"rank_last_week\", \"weeks_on_list\", \"asterisk\", \"dagger\"])\n"
     ]
    },
    {
     "name": "stdout",
     "output_type": "stream",
     "text": [
      "2014-08-18\n",
      "https://api.nytimes.com/svc/books/v3/lists.json?api-key=P1yDSg62Aydsdh04WBBuS57pYbpBu2tb&list=trade-fiction-paperback&published-date=2014-08-18\n"
     ]
    },
    {
     "name": "stderr",
     "output_type": "stream",
     "text": [
      "C:\\Users\\melan\\AppData\\Local\\Temp\\ipykernel_21772\\4058755056.py:26: FutureWarning: pandas.io.json.json_normalize is deprecated, use pandas.json_normalize instead.\n",
      "  books = json_normalize(results[\"results\"], record_path=[\"book_details\"], meta=[\"rank\", \"rank_last_week\", \"weeks_on_list\", \"asterisk\", \"dagger\"])\n"
     ]
    },
    {
     "name": "stdout",
     "output_type": "stream",
     "text": [
      "2014-08-11\n",
      "https://api.nytimes.com/svc/books/v3/lists.json?api-key=P1yDSg62Aydsdh04WBBuS57pYbpBu2tb&list=trade-fiction-paperback&published-date=2014-08-11\n"
     ]
    },
    {
     "name": "stderr",
     "output_type": "stream",
     "text": [
      "C:\\Users\\melan\\AppData\\Local\\Temp\\ipykernel_21772\\4058755056.py:26: FutureWarning: pandas.io.json.json_normalize is deprecated, use pandas.json_normalize instead.\n",
      "  books = json_normalize(results[\"results\"], record_path=[\"book_details\"], meta=[\"rank\", \"rank_last_week\", \"weeks_on_list\", \"asterisk\", \"dagger\"])\n"
     ]
    },
    {
     "name": "stdout",
     "output_type": "stream",
     "text": [
      "2014-08-04\n",
      "https://api.nytimes.com/svc/books/v3/lists.json?api-key=P1yDSg62Aydsdh04WBBuS57pYbpBu2tb&list=trade-fiction-paperback&published-date=2014-08-04\n"
     ]
    },
    {
     "name": "stderr",
     "output_type": "stream",
     "text": [
      "C:\\Users\\melan\\AppData\\Local\\Temp\\ipykernel_21772\\4058755056.py:26: FutureWarning: pandas.io.json.json_normalize is deprecated, use pandas.json_normalize instead.\n",
      "  books = json_normalize(results[\"results\"], record_path=[\"book_details\"], meta=[\"rank\", \"rank_last_week\", \"weeks_on_list\", \"asterisk\", \"dagger\"])\n"
     ]
    },
    {
     "name": "stdout",
     "output_type": "stream",
     "text": [
      "2014-07-28\n",
      "https://api.nytimes.com/svc/books/v3/lists.json?api-key=P1yDSg62Aydsdh04WBBuS57pYbpBu2tb&list=trade-fiction-paperback&published-date=2014-07-28\n"
     ]
    },
    {
     "name": "stderr",
     "output_type": "stream",
     "text": [
      "C:\\Users\\melan\\AppData\\Local\\Temp\\ipykernel_21772\\4058755056.py:26: FutureWarning: pandas.io.json.json_normalize is deprecated, use pandas.json_normalize instead.\n",
      "  books = json_normalize(results[\"results\"], record_path=[\"book_details\"], meta=[\"rank\", \"rank_last_week\", \"weeks_on_list\", \"asterisk\", \"dagger\"])\n"
     ]
    },
    {
     "name": "stdout",
     "output_type": "stream",
     "text": [
      "2014-07-21\n",
      "https://api.nytimes.com/svc/books/v3/lists.json?api-key=P1yDSg62Aydsdh04WBBuS57pYbpBu2tb&list=trade-fiction-paperback&published-date=2014-07-21\n"
     ]
    },
    {
     "name": "stderr",
     "output_type": "stream",
     "text": [
      "C:\\Users\\melan\\AppData\\Local\\Temp\\ipykernel_21772\\4058755056.py:26: FutureWarning: pandas.io.json.json_normalize is deprecated, use pandas.json_normalize instead.\n",
      "  books = json_normalize(results[\"results\"], record_path=[\"book_details\"], meta=[\"rank\", \"rank_last_week\", \"weeks_on_list\", \"asterisk\", \"dagger\"])\n"
     ]
    },
    {
     "name": "stdout",
     "output_type": "stream",
     "text": [
      "2014-07-14\n",
      "https://api.nytimes.com/svc/books/v3/lists.json?api-key=P1yDSg62Aydsdh04WBBuS57pYbpBu2tb&list=trade-fiction-paperback&published-date=2014-07-14\n"
     ]
    },
    {
     "name": "stderr",
     "output_type": "stream",
     "text": [
      "C:\\Users\\melan\\AppData\\Local\\Temp\\ipykernel_21772\\4058755056.py:26: FutureWarning: pandas.io.json.json_normalize is deprecated, use pandas.json_normalize instead.\n",
      "  books = json_normalize(results[\"results\"], record_path=[\"book_details\"], meta=[\"rank\", \"rank_last_week\", \"weeks_on_list\", \"asterisk\", \"dagger\"])\n"
     ]
    },
    {
     "name": "stdout",
     "output_type": "stream",
     "text": [
      "2014-07-07\n",
      "https://api.nytimes.com/svc/books/v3/lists.json?api-key=P1yDSg62Aydsdh04WBBuS57pYbpBu2tb&list=trade-fiction-paperback&published-date=2014-07-07\n"
     ]
    },
    {
     "name": "stderr",
     "output_type": "stream",
     "text": [
      "C:\\Users\\melan\\AppData\\Local\\Temp\\ipykernel_21772\\4058755056.py:26: FutureWarning: pandas.io.json.json_normalize is deprecated, use pandas.json_normalize instead.\n",
      "  books = json_normalize(results[\"results\"], record_path=[\"book_details\"], meta=[\"rank\", \"rank_last_week\", \"weeks_on_list\", \"asterisk\", \"dagger\"])\n"
     ]
    },
    {
     "name": "stdout",
     "output_type": "stream",
     "text": [
      "2014-06-30\n",
      "https://api.nytimes.com/svc/books/v3/lists.json?api-key=P1yDSg62Aydsdh04WBBuS57pYbpBu2tb&list=trade-fiction-paperback&published-date=2014-06-30\n"
     ]
    },
    {
     "name": "stderr",
     "output_type": "stream",
     "text": [
      "C:\\Users\\melan\\AppData\\Local\\Temp\\ipykernel_21772\\4058755056.py:26: FutureWarning: pandas.io.json.json_normalize is deprecated, use pandas.json_normalize instead.\n",
      "  books = json_normalize(results[\"results\"], record_path=[\"book_details\"], meta=[\"rank\", \"rank_last_week\", \"weeks_on_list\", \"asterisk\", \"dagger\"])\n"
     ]
    },
    {
     "name": "stdout",
     "output_type": "stream",
     "text": [
      "2014-06-23\n",
      "https://api.nytimes.com/svc/books/v3/lists.json?api-key=P1yDSg62Aydsdh04WBBuS57pYbpBu2tb&list=trade-fiction-paperback&published-date=2014-06-23\n"
     ]
    },
    {
     "name": "stderr",
     "output_type": "stream",
     "text": [
      "C:\\Users\\melan\\AppData\\Local\\Temp\\ipykernel_21772\\4058755056.py:26: FutureWarning: pandas.io.json.json_normalize is deprecated, use pandas.json_normalize instead.\n",
      "  books = json_normalize(results[\"results\"], record_path=[\"book_details\"], meta=[\"rank\", \"rank_last_week\", \"weeks_on_list\", \"asterisk\", \"dagger\"])\n"
     ]
    },
    {
     "name": "stdout",
     "output_type": "stream",
     "text": [
      "2014-06-16\n",
      "https://api.nytimes.com/svc/books/v3/lists.json?api-key=P1yDSg62Aydsdh04WBBuS57pYbpBu2tb&list=trade-fiction-paperback&published-date=2014-06-16\n"
     ]
    },
    {
     "name": "stderr",
     "output_type": "stream",
     "text": [
      "C:\\Users\\melan\\AppData\\Local\\Temp\\ipykernel_21772\\4058755056.py:26: FutureWarning: pandas.io.json.json_normalize is deprecated, use pandas.json_normalize instead.\n",
      "  books = json_normalize(results[\"results\"], record_path=[\"book_details\"], meta=[\"rank\", \"rank_last_week\", \"weeks_on_list\", \"asterisk\", \"dagger\"])\n"
     ]
    },
    {
     "name": "stdout",
     "output_type": "stream",
     "text": [
      "2014-06-09\n",
      "https://api.nytimes.com/svc/books/v3/lists.json?api-key=P1yDSg62Aydsdh04WBBuS57pYbpBu2tb&list=trade-fiction-paperback&published-date=2014-06-09\n"
     ]
    },
    {
     "name": "stderr",
     "output_type": "stream",
     "text": [
      "C:\\Users\\melan\\AppData\\Local\\Temp\\ipykernel_21772\\4058755056.py:26: FutureWarning: pandas.io.json.json_normalize is deprecated, use pandas.json_normalize instead.\n",
      "  books = json_normalize(results[\"results\"], record_path=[\"book_details\"], meta=[\"rank\", \"rank_last_week\", \"weeks_on_list\", \"asterisk\", \"dagger\"])\n"
     ]
    },
    {
     "name": "stdout",
     "output_type": "stream",
     "text": [
      "2014-06-02\n",
      "https://api.nytimes.com/svc/books/v3/lists.json?api-key=P1yDSg62Aydsdh04WBBuS57pYbpBu2tb&list=trade-fiction-paperback&published-date=2014-06-02\n"
     ]
    },
    {
     "name": "stderr",
     "output_type": "stream",
     "text": [
      "C:\\Users\\melan\\AppData\\Local\\Temp\\ipykernel_21772\\4058755056.py:26: FutureWarning: pandas.io.json.json_normalize is deprecated, use pandas.json_normalize instead.\n",
      "  books = json_normalize(results[\"results\"], record_path=[\"book_details\"], meta=[\"rank\", \"rank_last_week\", \"weeks_on_list\", \"asterisk\", \"dagger\"])\n"
     ]
    },
    {
     "name": "stdout",
     "output_type": "stream",
     "text": [
      "2014-05-26\n",
      "https://api.nytimes.com/svc/books/v3/lists.json?api-key=P1yDSg62Aydsdh04WBBuS57pYbpBu2tb&list=trade-fiction-paperback&published-date=2014-05-26\n"
     ]
    },
    {
     "name": "stderr",
     "output_type": "stream",
     "text": [
      "C:\\Users\\melan\\AppData\\Local\\Temp\\ipykernel_21772\\4058755056.py:26: FutureWarning: pandas.io.json.json_normalize is deprecated, use pandas.json_normalize instead.\n",
      "  books = json_normalize(results[\"results\"], record_path=[\"book_details\"], meta=[\"rank\", \"rank_last_week\", \"weeks_on_list\", \"asterisk\", \"dagger\"])\n"
     ]
    },
    {
     "name": "stdout",
     "output_type": "stream",
     "text": [
      "2014-05-19\n",
      "https://api.nytimes.com/svc/books/v3/lists.json?api-key=P1yDSg62Aydsdh04WBBuS57pYbpBu2tb&list=trade-fiction-paperback&published-date=2014-05-19\n"
     ]
    },
    {
     "name": "stderr",
     "output_type": "stream",
     "text": [
      "C:\\Users\\melan\\AppData\\Local\\Temp\\ipykernel_21772\\4058755056.py:26: FutureWarning: pandas.io.json.json_normalize is deprecated, use pandas.json_normalize instead.\n",
      "  books = json_normalize(results[\"results\"], record_path=[\"book_details\"], meta=[\"rank\", \"rank_last_week\", \"weeks_on_list\", \"asterisk\", \"dagger\"])\n"
     ]
    },
    {
     "name": "stdout",
     "output_type": "stream",
     "text": [
      "2014-05-12\n",
      "https://api.nytimes.com/svc/books/v3/lists.json?api-key=P1yDSg62Aydsdh04WBBuS57pYbpBu2tb&list=trade-fiction-paperback&published-date=2014-05-12\n"
     ]
    },
    {
     "name": "stderr",
     "output_type": "stream",
     "text": [
      "C:\\Users\\melan\\AppData\\Local\\Temp\\ipykernel_21772\\4058755056.py:26: FutureWarning: pandas.io.json.json_normalize is deprecated, use pandas.json_normalize instead.\n",
      "  books = json_normalize(results[\"results\"], record_path=[\"book_details\"], meta=[\"rank\", \"rank_last_week\", \"weeks_on_list\", \"asterisk\", \"dagger\"])\n"
     ]
    },
    {
     "name": "stdout",
     "output_type": "stream",
     "text": [
      "2014-05-05\n",
      "https://api.nytimes.com/svc/books/v3/lists.json?api-key=P1yDSg62Aydsdh04WBBuS57pYbpBu2tb&list=trade-fiction-paperback&published-date=2014-05-05\n"
     ]
    },
    {
     "name": "stderr",
     "output_type": "stream",
     "text": [
      "C:\\Users\\melan\\AppData\\Local\\Temp\\ipykernel_21772\\4058755056.py:26: FutureWarning: pandas.io.json.json_normalize is deprecated, use pandas.json_normalize instead.\n",
      "  books = json_normalize(results[\"results\"], record_path=[\"book_details\"], meta=[\"rank\", \"rank_last_week\", \"weeks_on_list\", \"asterisk\", \"dagger\"])\n"
     ]
    },
    {
     "name": "stdout",
     "output_type": "stream",
     "text": [
      "2014-04-28\n",
      "https://api.nytimes.com/svc/books/v3/lists.json?api-key=P1yDSg62Aydsdh04WBBuS57pYbpBu2tb&list=trade-fiction-paperback&published-date=2014-04-28\n"
     ]
    },
    {
     "name": "stderr",
     "output_type": "stream",
     "text": [
      "C:\\Users\\melan\\AppData\\Local\\Temp\\ipykernel_21772\\4058755056.py:26: FutureWarning: pandas.io.json.json_normalize is deprecated, use pandas.json_normalize instead.\n",
      "  books = json_normalize(results[\"results\"], record_path=[\"book_details\"], meta=[\"rank\", \"rank_last_week\", \"weeks_on_list\", \"asterisk\", \"dagger\"])\n"
     ]
    },
    {
     "name": "stdout",
     "output_type": "stream",
     "text": [
      "2014-04-21\n",
      "https://api.nytimes.com/svc/books/v3/lists.json?api-key=P1yDSg62Aydsdh04WBBuS57pYbpBu2tb&list=trade-fiction-paperback&published-date=2014-04-21\n"
     ]
    },
    {
     "name": "stderr",
     "output_type": "stream",
     "text": [
      "C:\\Users\\melan\\AppData\\Local\\Temp\\ipykernel_21772\\4058755056.py:26: FutureWarning: pandas.io.json.json_normalize is deprecated, use pandas.json_normalize instead.\n",
      "  books = json_normalize(results[\"results\"], record_path=[\"book_details\"], meta=[\"rank\", \"rank_last_week\", \"weeks_on_list\", \"asterisk\", \"dagger\"])\n"
     ]
    },
    {
     "name": "stdout",
     "output_type": "stream",
     "text": [
      "2014-04-14\n",
      "https://api.nytimes.com/svc/books/v3/lists.json?api-key=P1yDSg62Aydsdh04WBBuS57pYbpBu2tb&list=trade-fiction-paperback&published-date=2014-04-14\n"
     ]
    },
    {
     "name": "stderr",
     "output_type": "stream",
     "text": [
      "C:\\Users\\melan\\AppData\\Local\\Temp\\ipykernel_21772\\4058755056.py:26: FutureWarning: pandas.io.json.json_normalize is deprecated, use pandas.json_normalize instead.\n",
      "  books = json_normalize(results[\"results\"], record_path=[\"book_details\"], meta=[\"rank\", \"rank_last_week\", \"weeks_on_list\", \"asterisk\", \"dagger\"])\n"
     ]
    },
    {
     "name": "stdout",
     "output_type": "stream",
     "text": [
      "2014-04-07\n",
      "https://api.nytimes.com/svc/books/v3/lists.json?api-key=P1yDSg62Aydsdh04WBBuS57pYbpBu2tb&list=trade-fiction-paperback&published-date=2014-04-07\n"
     ]
    },
    {
     "name": "stderr",
     "output_type": "stream",
     "text": [
      "C:\\Users\\melan\\AppData\\Local\\Temp\\ipykernel_21772\\4058755056.py:26: FutureWarning: pandas.io.json.json_normalize is deprecated, use pandas.json_normalize instead.\n",
      "  books = json_normalize(results[\"results\"], record_path=[\"book_details\"], meta=[\"rank\", \"rank_last_week\", \"weeks_on_list\", \"asterisk\", \"dagger\"])\n"
     ]
    },
    {
     "name": "stdout",
     "output_type": "stream",
     "text": [
      "2014-03-31\n",
      "https://api.nytimes.com/svc/books/v3/lists.json?api-key=P1yDSg62Aydsdh04WBBuS57pYbpBu2tb&list=trade-fiction-paperback&published-date=2014-03-31\n"
     ]
    },
    {
     "name": "stderr",
     "output_type": "stream",
     "text": [
      "C:\\Users\\melan\\AppData\\Local\\Temp\\ipykernel_21772\\4058755056.py:26: FutureWarning: pandas.io.json.json_normalize is deprecated, use pandas.json_normalize instead.\n",
      "  books = json_normalize(results[\"results\"], record_path=[\"book_details\"], meta=[\"rank\", \"rank_last_week\", \"weeks_on_list\", \"asterisk\", \"dagger\"])\n"
     ]
    },
    {
     "name": "stdout",
     "output_type": "stream",
     "text": [
      "2014-03-24\n",
      "https://api.nytimes.com/svc/books/v3/lists.json?api-key=P1yDSg62Aydsdh04WBBuS57pYbpBu2tb&list=trade-fiction-paperback&published-date=2014-03-24\n"
     ]
    },
    {
     "name": "stderr",
     "output_type": "stream",
     "text": [
      "C:\\Users\\melan\\AppData\\Local\\Temp\\ipykernel_21772\\4058755056.py:26: FutureWarning: pandas.io.json.json_normalize is deprecated, use pandas.json_normalize instead.\n",
      "  books = json_normalize(results[\"results\"], record_path=[\"book_details\"], meta=[\"rank\", \"rank_last_week\", \"weeks_on_list\", \"asterisk\", \"dagger\"])\n"
     ]
    },
    {
     "name": "stdout",
     "output_type": "stream",
     "text": [
      "2014-03-17\n",
      "https://api.nytimes.com/svc/books/v3/lists.json?api-key=P1yDSg62Aydsdh04WBBuS57pYbpBu2tb&list=trade-fiction-paperback&published-date=2014-03-17\n"
     ]
    },
    {
     "name": "stderr",
     "output_type": "stream",
     "text": [
      "C:\\Users\\melan\\AppData\\Local\\Temp\\ipykernel_21772\\4058755056.py:26: FutureWarning: pandas.io.json.json_normalize is deprecated, use pandas.json_normalize instead.\n",
      "  books = json_normalize(results[\"results\"], record_path=[\"book_details\"], meta=[\"rank\", \"rank_last_week\", \"weeks_on_list\", \"asterisk\", \"dagger\"])\n"
     ]
    },
    {
     "name": "stdout",
     "output_type": "stream",
     "text": [
      "2014-03-10\n",
      "https://api.nytimes.com/svc/books/v3/lists.json?api-key=P1yDSg62Aydsdh04WBBuS57pYbpBu2tb&list=trade-fiction-paperback&published-date=2014-03-10\n"
     ]
    },
    {
     "name": "stderr",
     "output_type": "stream",
     "text": [
      "C:\\Users\\melan\\AppData\\Local\\Temp\\ipykernel_21772\\4058755056.py:26: FutureWarning: pandas.io.json.json_normalize is deprecated, use pandas.json_normalize instead.\n",
      "  books = json_normalize(results[\"results\"], record_path=[\"book_details\"], meta=[\"rank\", \"rank_last_week\", \"weeks_on_list\", \"asterisk\", \"dagger\"])\n"
     ]
    },
    {
     "name": "stdout",
     "output_type": "stream",
     "text": [
      "2014-03-03\n",
      "https://api.nytimes.com/svc/books/v3/lists.json?api-key=P1yDSg62Aydsdh04WBBuS57pYbpBu2tb&list=trade-fiction-paperback&published-date=2014-03-03\n"
     ]
    },
    {
     "name": "stderr",
     "output_type": "stream",
     "text": [
      "C:\\Users\\melan\\AppData\\Local\\Temp\\ipykernel_21772\\4058755056.py:26: FutureWarning: pandas.io.json.json_normalize is deprecated, use pandas.json_normalize instead.\n",
      "  books = json_normalize(results[\"results\"], record_path=[\"book_details\"], meta=[\"rank\", \"rank_last_week\", \"weeks_on_list\", \"asterisk\", \"dagger\"])\n"
     ]
    },
    {
     "name": "stdout",
     "output_type": "stream",
     "text": [
      "2014-02-24\n",
      "https://api.nytimes.com/svc/books/v3/lists.json?api-key=P1yDSg62Aydsdh04WBBuS57pYbpBu2tb&list=trade-fiction-paperback&published-date=2014-02-24\n"
     ]
    },
    {
     "name": "stderr",
     "output_type": "stream",
     "text": [
      "C:\\Users\\melan\\AppData\\Local\\Temp\\ipykernel_21772\\4058755056.py:26: FutureWarning: pandas.io.json.json_normalize is deprecated, use pandas.json_normalize instead.\n",
      "  books = json_normalize(results[\"results\"], record_path=[\"book_details\"], meta=[\"rank\", \"rank_last_week\", \"weeks_on_list\", \"asterisk\", \"dagger\"])\n"
     ]
    },
    {
     "name": "stdout",
     "output_type": "stream",
     "text": [
      "2014-02-17\n",
      "https://api.nytimes.com/svc/books/v3/lists.json?api-key=P1yDSg62Aydsdh04WBBuS57pYbpBu2tb&list=trade-fiction-paperback&published-date=2014-02-17\n"
     ]
    },
    {
     "name": "stderr",
     "output_type": "stream",
     "text": [
      "C:\\Users\\melan\\AppData\\Local\\Temp\\ipykernel_21772\\4058755056.py:26: FutureWarning: pandas.io.json.json_normalize is deprecated, use pandas.json_normalize instead.\n",
      "  books = json_normalize(results[\"results\"], record_path=[\"book_details\"], meta=[\"rank\", \"rank_last_week\", \"weeks_on_list\", \"asterisk\", \"dagger\"])\n"
     ]
    },
    {
     "name": "stdout",
     "output_type": "stream",
     "text": [
      "2014-02-10\n",
      "https://api.nytimes.com/svc/books/v3/lists.json?api-key=P1yDSg62Aydsdh04WBBuS57pYbpBu2tb&list=trade-fiction-paperback&published-date=2014-02-10\n"
     ]
    },
    {
     "name": "stderr",
     "output_type": "stream",
     "text": [
      "C:\\Users\\melan\\AppData\\Local\\Temp\\ipykernel_21772\\4058755056.py:26: FutureWarning: pandas.io.json.json_normalize is deprecated, use pandas.json_normalize instead.\n",
      "  books = json_normalize(results[\"results\"], record_path=[\"book_details\"], meta=[\"rank\", \"rank_last_week\", \"weeks_on_list\", \"asterisk\", \"dagger\"])\n"
     ]
    },
    {
     "name": "stdout",
     "output_type": "stream",
     "text": [
      "2014-02-03\n",
      "https://api.nytimes.com/svc/books/v3/lists.json?api-key=P1yDSg62Aydsdh04WBBuS57pYbpBu2tb&list=trade-fiction-paperback&published-date=2014-02-03\n"
     ]
    },
    {
     "name": "stderr",
     "output_type": "stream",
     "text": [
      "C:\\Users\\melan\\AppData\\Local\\Temp\\ipykernel_21772\\4058755056.py:26: FutureWarning: pandas.io.json.json_normalize is deprecated, use pandas.json_normalize instead.\n",
      "  books = json_normalize(results[\"results\"], record_path=[\"book_details\"], meta=[\"rank\", \"rank_last_week\", \"weeks_on_list\", \"asterisk\", \"dagger\"])\n"
     ]
    },
    {
     "name": "stdout",
     "output_type": "stream",
     "text": [
      "2014-01-27\n",
      "https://api.nytimes.com/svc/books/v3/lists.json?api-key=P1yDSg62Aydsdh04WBBuS57pYbpBu2tb&list=trade-fiction-paperback&published-date=2014-01-27\n"
     ]
    },
    {
     "name": "stderr",
     "output_type": "stream",
     "text": [
      "C:\\Users\\melan\\AppData\\Local\\Temp\\ipykernel_21772\\4058755056.py:26: FutureWarning: pandas.io.json.json_normalize is deprecated, use pandas.json_normalize instead.\n",
      "  books = json_normalize(results[\"results\"], record_path=[\"book_details\"], meta=[\"rank\", \"rank_last_week\", \"weeks_on_list\", \"asterisk\", \"dagger\"])\n"
     ]
    },
    {
     "name": "stdout",
     "output_type": "stream",
     "text": [
      "2014-01-20\n",
      "https://api.nytimes.com/svc/books/v3/lists.json?api-key=P1yDSg62Aydsdh04WBBuS57pYbpBu2tb&list=trade-fiction-paperback&published-date=2014-01-20\n"
     ]
    },
    {
     "name": "stderr",
     "output_type": "stream",
     "text": [
      "C:\\Users\\melan\\AppData\\Local\\Temp\\ipykernel_21772\\4058755056.py:26: FutureWarning: pandas.io.json.json_normalize is deprecated, use pandas.json_normalize instead.\n",
      "  books = json_normalize(results[\"results\"], record_path=[\"book_details\"], meta=[\"rank\", \"rank_last_week\", \"weeks_on_list\", \"asterisk\", \"dagger\"])\n"
     ]
    },
    {
     "name": "stdout",
     "output_type": "stream",
     "text": [
      "2014-01-13\n",
      "https://api.nytimes.com/svc/books/v3/lists.json?api-key=P1yDSg62Aydsdh04WBBuS57pYbpBu2tb&list=trade-fiction-paperback&published-date=2014-01-13\n"
     ]
    },
    {
     "name": "stderr",
     "output_type": "stream",
     "text": [
      "C:\\Users\\melan\\AppData\\Local\\Temp\\ipykernel_21772\\4058755056.py:26: FutureWarning: pandas.io.json.json_normalize is deprecated, use pandas.json_normalize instead.\n",
      "  books = json_normalize(results[\"results\"], record_path=[\"book_details\"], meta=[\"rank\", \"rank_last_week\", \"weeks_on_list\", \"asterisk\", \"dagger\"])\n"
     ]
    },
    {
     "name": "stdout",
     "output_type": "stream",
     "text": [
      "2014-01-06\n",
      "https://api.nytimes.com/svc/books/v3/lists.json?api-key=P1yDSg62Aydsdh04WBBuS57pYbpBu2tb&list=trade-fiction-paperback&published-date=2014-01-06\n"
     ]
    },
    {
     "name": "stderr",
     "output_type": "stream",
     "text": [
      "C:\\Users\\melan\\AppData\\Local\\Temp\\ipykernel_21772\\4058755056.py:26: FutureWarning: pandas.io.json.json_normalize is deprecated, use pandas.json_normalize instead.\n",
      "  books = json_normalize(results[\"results\"], record_path=[\"book_details\"], meta=[\"rank\", \"rank_last_week\", \"weeks_on_list\", \"asterisk\", \"dagger\"])\n"
     ]
    },
    {
     "name": "stdout",
     "output_type": "stream",
     "text": [
      "2013-12-30\n",
      "https://api.nytimes.com/svc/books/v3/lists.json?api-key=P1yDSg62Aydsdh04WBBuS57pYbpBu2tb&list=trade-fiction-paperback&published-date=2013-12-30\n"
     ]
    },
    {
     "name": "stderr",
     "output_type": "stream",
     "text": [
      "C:\\Users\\melan\\AppData\\Local\\Temp\\ipykernel_21772\\4058755056.py:26: FutureWarning: pandas.io.json.json_normalize is deprecated, use pandas.json_normalize instead.\n",
      "  books = json_normalize(results[\"results\"], record_path=[\"book_details\"], meta=[\"rank\", \"rank_last_week\", \"weeks_on_list\", \"asterisk\", \"dagger\"])\n"
     ]
    },
    {
     "name": "stdout",
     "output_type": "stream",
     "text": [
      "2013-12-23\n",
      "https://api.nytimes.com/svc/books/v3/lists.json?api-key=P1yDSg62Aydsdh04WBBuS57pYbpBu2tb&list=trade-fiction-paperback&published-date=2013-12-23\n"
     ]
    },
    {
     "name": "stderr",
     "output_type": "stream",
     "text": [
      "C:\\Users\\melan\\AppData\\Local\\Temp\\ipykernel_21772\\4058755056.py:26: FutureWarning: pandas.io.json.json_normalize is deprecated, use pandas.json_normalize instead.\n",
      "  books = json_normalize(results[\"results\"], record_path=[\"book_details\"], meta=[\"rank\", \"rank_last_week\", \"weeks_on_list\", \"asterisk\", \"dagger\"])\n"
     ]
    },
    {
     "name": "stdout",
     "output_type": "stream",
     "text": [
      "2013-12-16\n",
      "https://api.nytimes.com/svc/books/v3/lists.json?api-key=P1yDSg62Aydsdh04WBBuS57pYbpBu2tb&list=trade-fiction-paperback&published-date=2013-12-16\n"
     ]
    },
    {
     "name": "stderr",
     "output_type": "stream",
     "text": [
      "C:\\Users\\melan\\AppData\\Local\\Temp\\ipykernel_21772\\4058755056.py:26: FutureWarning: pandas.io.json.json_normalize is deprecated, use pandas.json_normalize instead.\n",
      "  books = json_normalize(results[\"results\"], record_path=[\"book_details\"], meta=[\"rank\", \"rank_last_week\", \"weeks_on_list\", \"asterisk\", \"dagger\"])\n"
     ]
    },
    {
     "name": "stdout",
     "output_type": "stream",
     "text": [
      "2013-12-09\n",
      "https://api.nytimes.com/svc/books/v3/lists.json?api-key=P1yDSg62Aydsdh04WBBuS57pYbpBu2tb&list=trade-fiction-paperback&published-date=2013-12-09\n"
     ]
    },
    {
     "name": "stderr",
     "output_type": "stream",
     "text": [
      "C:\\Users\\melan\\AppData\\Local\\Temp\\ipykernel_21772\\4058755056.py:26: FutureWarning: pandas.io.json.json_normalize is deprecated, use pandas.json_normalize instead.\n",
      "  books = json_normalize(results[\"results\"], record_path=[\"book_details\"], meta=[\"rank\", \"rank_last_week\", \"weeks_on_list\", \"asterisk\", \"dagger\"])\n"
     ]
    },
    {
     "name": "stdout",
     "output_type": "stream",
     "text": [
      "2013-12-02\n",
      "https://api.nytimes.com/svc/books/v3/lists.json?api-key=P1yDSg62Aydsdh04WBBuS57pYbpBu2tb&list=trade-fiction-paperback&published-date=2013-12-02\n"
     ]
    },
    {
     "name": "stderr",
     "output_type": "stream",
     "text": [
      "C:\\Users\\melan\\AppData\\Local\\Temp\\ipykernel_21772\\4058755056.py:26: FutureWarning: pandas.io.json.json_normalize is deprecated, use pandas.json_normalize instead.\n",
      "  books = json_normalize(results[\"results\"], record_path=[\"book_details\"], meta=[\"rank\", \"rank_last_week\", \"weeks_on_list\", \"asterisk\", \"dagger\"])\n"
     ]
    },
    {
     "name": "stdout",
     "output_type": "stream",
     "text": [
      "2013-11-25\n",
      "https://api.nytimes.com/svc/books/v3/lists.json?api-key=P1yDSg62Aydsdh04WBBuS57pYbpBu2tb&list=trade-fiction-paperback&published-date=2013-11-25\n"
     ]
    },
    {
     "name": "stderr",
     "output_type": "stream",
     "text": [
      "C:\\Users\\melan\\AppData\\Local\\Temp\\ipykernel_21772\\4058755056.py:26: FutureWarning: pandas.io.json.json_normalize is deprecated, use pandas.json_normalize instead.\n",
      "  books = json_normalize(results[\"results\"], record_path=[\"book_details\"], meta=[\"rank\", \"rank_last_week\", \"weeks_on_list\", \"asterisk\", \"dagger\"])\n"
     ]
    },
    {
     "name": "stdout",
     "output_type": "stream",
     "text": [
      "2013-11-18\n",
      "https://api.nytimes.com/svc/books/v3/lists.json?api-key=P1yDSg62Aydsdh04WBBuS57pYbpBu2tb&list=trade-fiction-paperback&published-date=2013-11-18\n"
     ]
    },
    {
     "name": "stderr",
     "output_type": "stream",
     "text": [
      "C:\\Users\\melan\\AppData\\Local\\Temp\\ipykernel_21772\\4058755056.py:26: FutureWarning: pandas.io.json.json_normalize is deprecated, use pandas.json_normalize instead.\n",
      "  books = json_normalize(results[\"results\"], record_path=[\"book_details\"], meta=[\"rank\", \"rank_last_week\", \"weeks_on_list\", \"asterisk\", \"dagger\"])\n"
     ]
    },
    {
     "name": "stdout",
     "output_type": "stream",
     "text": [
      "2013-11-11\n",
      "https://api.nytimes.com/svc/books/v3/lists.json?api-key=P1yDSg62Aydsdh04WBBuS57pYbpBu2tb&list=trade-fiction-paperback&published-date=2013-11-11\n"
     ]
    },
    {
     "name": "stderr",
     "output_type": "stream",
     "text": [
      "C:\\Users\\melan\\AppData\\Local\\Temp\\ipykernel_21772\\4058755056.py:26: FutureWarning: pandas.io.json.json_normalize is deprecated, use pandas.json_normalize instead.\n",
      "  books = json_normalize(results[\"results\"], record_path=[\"book_details\"], meta=[\"rank\", \"rank_last_week\", \"weeks_on_list\", \"asterisk\", \"dagger\"])\n"
     ]
    },
    {
     "name": "stdout",
     "output_type": "stream",
     "text": [
      "2013-11-04\n",
      "https://api.nytimes.com/svc/books/v3/lists.json?api-key=P1yDSg62Aydsdh04WBBuS57pYbpBu2tb&list=trade-fiction-paperback&published-date=2013-11-04\n"
     ]
    },
    {
     "name": "stderr",
     "output_type": "stream",
     "text": [
      "C:\\Users\\melan\\AppData\\Local\\Temp\\ipykernel_21772\\4058755056.py:26: FutureWarning: pandas.io.json.json_normalize is deprecated, use pandas.json_normalize instead.\n",
      "  books = json_normalize(results[\"results\"], record_path=[\"book_details\"], meta=[\"rank\", \"rank_last_week\", \"weeks_on_list\", \"asterisk\", \"dagger\"])\n"
     ]
    },
    {
     "name": "stdout",
     "output_type": "stream",
     "text": [
      "2013-10-28\n",
      "https://api.nytimes.com/svc/books/v3/lists.json?api-key=P1yDSg62Aydsdh04WBBuS57pYbpBu2tb&list=trade-fiction-paperback&published-date=2013-10-28\n"
     ]
    },
    {
     "name": "stderr",
     "output_type": "stream",
     "text": [
      "C:\\Users\\melan\\AppData\\Local\\Temp\\ipykernel_21772\\4058755056.py:26: FutureWarning: pandas.io.json.json_normalize is deprecated, use pandas.json_normalize instead.\n",
      "  books = json_normalize(results[\"results\"], record_path=[\"book_details\"], meta=[\"rank\", \"rank_last_week\", \"weeks_on_list\", \"asterisk\", \"dagger\"])\n"
     ]
    },
    {
     "name": "stdout",
     "output_type": "stream",
     "text": [
      "2013-10-21\n",
      "https://api.nytimes.com/svc/books/v3/lists.json?api-key=P1yDSg62Aydsdh04WBBuS57pYbpBu2tb&list=trade-fiction-paperback&published-date=2013-10-21\n"
     ]
    },
    {
     "name": "stderr",
     "output_type": "stream",
     "text": [
      "C:\\Users\\melan\\AppData\\Local\\Temp\\ipykernel_21772\\4058755056.py:26: FutureWarning: pandas.io.json.json_normalize is deprecated, use pandas.json_normalize instead.\n",
      "  books = json_normalize(results[\"results\"], record_path=[\"book_details\"], meta=[\"rank\", \"rank_last_week\", \"weeks_on_list\", \"asterisk\", \"dagger\"])\n"
     ]
    },
    {
     "name": "stdout",
     "output_type": "stream",
     "text": [
      "2013-10-14\n",
      "https://api.nytimes.com/svc/books/v3/lists.json?api-key=P1yDSg62Aydsdh04WBBuS57pYbpBu2tb&list=trade-fiction-paperback&published-date=2013-10-14\n"
     ]
    },
    {
     "name": "stderr",
     "output_type": "stream",
     "text": [
      "C:\\Users\\melan\\AppData\\Local\\Temp\\ipykernel_21772\\4058755056.py:26: FutureWarning: pandas.io.json.json_normalize is deprecated, use pandas.json_normalize instead.\n",
      "  books = json_normalize(results[\"results\"], record_path=[\"book_details\"], meta=[\"rank\", \"rank_last_week\", \"weeks_on_list\", \"asterisk\", \"dagger\"])\n"
     ]
    },
    {
     "name": "stdout",
     "output_type": "stream",
     "text": [
      "2013-10-07\n",
      "https://api.nytimes.com/svc/books/v3/lists.json?api-key=P1yDSg62Aydsdh04WBBuS57pYbpBu2tb&list=trade-fiction-paperback&published-date=2013-10-07\n"
     ]
    },
    {
     "name": "stderr",
     "output_type": "stream",
     "text": [
      "C:\\Users\\melan\\AppData\\Local\\Temp\\ipykernel_21772\\4058755056.py:26: FutureWarning: pandas.io.json.json_normalize is deprecated, use pandas.json_normalize instead.\n",
      "  books = json_normalize(results[\"results\"], record_path=[\"book_details\"], meta=[\"rank\", \"rank_last_week\", \"weeks_on_list\", \"asterisk\", \"dagger\"])\n"
     ]
    },
    {
     "name": "stdout",
     "output_type": "stream",
     "text": [
      "2013-09-30\n",
      "https://api.nytimes.com/svc/books/v3/lists.json?api-key=P1yDSg62Aydsdh04WBBuS57pYbpBu2tb&list=trade-fiction-paperback&published-date=2013-09-30\n"
     ]
    },
    {
     "name": "stderr",
     "output_type": "stream",
     "text": [
      "C:\\Users\\melan\\AppData\\Local\\Temp\\ipykernel_21772\\4058755056.py:26: FutureWarning: pandas.io.json.json_normalize is deprecated, use pandas.json_normalize instead.\n",
      "  books = json_normalize(results[\"results\"], record_path=[\"book_details\"], meta=[\"rank\", \"rank_last_week\", \"weeks_on_list\", \"asterisk\", \"dagger\"])\n"
     ]
    },
    {
     "name": "stdout",
     "output_type": "stream",
     "text": [
      "2013-09-23\n",
      "https://api.nytimes.com/svc/books/v3/lists.json?api-key=P1yDSg62Aydsdh04WBBuS57pYbpBu2tb&list=trade-fiction-paperback&published-date=2013-09-23\n"
     ]
    },
    {
     "name": "stderr",
     "output_type": "stream",
     "text": [
      "C:\\Users\\melan\\AppData\\Local\\Temp\\ipykernel_21772\\4058755056.py:26: FutureWarning: pandas.io.json.json_normalize is deprecated, use pandas.json_normalize instead.\n",
      "  books = json_normalize(results[\"results\"], record_path=[\"book_details\"], meta=[\"rank\", \"rank_last_week\", \"weeks_on_list\", \"asterisk\", \"dagger\"])\n"
     ]
    },
    {
     "name": "stdout",
     "output_type": "stream",
     "text": [
      "2013-09-16\n",
      "https://api.nytimes.com/svc/books/v3/lists.json?api-key=P1yDSg62Aydsdh04WBBuS57pYbpBu2tb&list=trade-fiction-paperback&published-date=2013-09-16\n"
     ]
    },
    {
     "name": "stderr",
     "output_type": "stream",
     "text": [
      "C:\\Users\\melan\\AppData\\Local\\Temp\\ipykernel_21772\\4058755056.py:26: FutureWarning: pandas.io.json.json_normalize is deprecated, use pandas.json_normalize instead.\n",
      "  books = json_normalize(results[\"results\"], record_path=[\"book_details\"], meta=[\"rank\", \"rank_last_week\", \"weeks_on_list\", \"asterisk\", \"dagger\"])\n"
     ]
    },
    {
     "name": "stdout",
     "output_type": "stream",
     "text": [
      "2013-09-09\n",
      "https://api.nytimes.com/svc/books/v3/lists.json?api-key=P1yDSg62Aydsdh04WBBuS57pYbpBu2tb&list=trade-fiction-paperback&published-date=2013-09-09\n"
     ]
    },
    {
     "name": "stderr",
     "output_type": "stream",
     "text": [
      "C:\\Users\\melan\\AppData\\Local\\Temp\\ipykernel_21772\\4058755056.py:26: FutureWarning: pandas.io.json.json_normalize is deprecated, use pandas.json_normalize instead.\n",
      "  books = json_normalize(results[\"results\"], record_path=[\"book_details\"], meta=[\"rank\", \"rank_last_week\", \"weeks_on_list\", \"asterisk\", \"dagger\"])\n"
     ]
    },
    {
     "name": "stdout",
     "output_type": "stream",
     "text": [
      "2013-09-02\n",
      "https://api.nytimes.com/svc/books/v3/lists.json?api-key=P1yDSg62Aydsdh04WBBuS57pYbpBu2tb&list=trade-fiction-paperback&published-date=2013-09-02\n"
     ]
    },
    {
     "name": "stderr",
     "output_type": "stream",
     "text": [
      "C:\\Users\\melan\\AppData\\Local\\Temp\\ipykernel_21772\\4058755056.py:26: FutureWarning: pandas.io.json.json_normalize is deprecated, use pandas.json_normalize instead.\n",
      "  books = json_normalize(results[\"results\"], record_path=[\"book_details\"], meta=[\"rank\", \"rank_last_week\", \"weeks_on_list\", \"asterisk\", \"dagger\"])\n"
     ]
    },
    {
     "name": "stdout",
     "output_type": "stream",
     "text": [
      "2013-08-26\n",
      "https://api.nytimes.com/svc/books/v3/lists.json?api-key=P1yDSg62Aydsdh04WBBuS57pYbpBu2tb&list=trade-fiction-paperback&published-date=2013-08-26\n"
     ]
    },
    {
     "name": "stderr",
     "output_type": "stream",
     "text": [
      "C:\\Users\\melan\\AppData\\Local\\Temp\\ipykernel_21772\\4058755056.py:26: FutureWarning: pandas.io.json.json_normalize is deprecated, use pandas.json_normalize instead.\n",
      "  books = json_normalize(results[\"results\"], record_path=[\"book_details\"], meta=[\"rank\", \"rank_last_week\", \"weeks_on_list\", \"asterisk\", \"dagger\"])\n"
     ]
    },
    {
     "name": "stdout",
     "output_type": "stream",
     "text": [
      "2013-08-19\n",
      "https://api.nytimes.com/svc/books/v3/lists.json?api-key=P1yDSg62Aydsdh04WBBuS57pYbpBu2tb&list=trade-fiction-paperback&published-date=2013-08-19\n"
     ]
    },
    {
     "name": "stderr",
     "output_type": "stream",
     "text": [
      "C:\\Users\\melan\\AppData\\Local\\Temp\\ipykernel_21772\\4058755056.py:26: FutureWarning: pandas.io.json.json_normalize is deprecated, use pandas.json_normalize instead.\n",
      "  books = json_normalize(results[\"results\"], record_path=[\"book_details\"], meta=[\"rank\", \"rank_last_week\", \"weeks_on_list\", \"asterisk\", \"dagger\"])\n"
     ]
    },
    {
     "name": "stdout",
     "output_type": "stream",
     "text": [
      "2013-08-12\n",
      "https://api.nytimes.com/svc/books/v3/lists.json?api-key=P1yDSg62Aydsdh04WBBuS57pYbpBu2tb&list=trade-fiction-paperback&published-date=2013-08-12\n"
     ]
    },
    {
     "name": "stderr",
     "output_type": "stream",
     "text": [
      "C:\\Users\\melan\\AppData\\Local\\Temp\\ipykernel_21772\\4058755056.py:26: FutureWarning: pandas.io.json.json_normalize is deprecated, use pandas.json_normalize instead.\n",
      "  books = json_normalize(results[\"results\"], record_path=[\"book_details\"], meta=[\"rank\", \"rank_last_week\", \"weeks_on_list\", \"asterisk\", \"dagger\"])\n"
     ]
    },
    {
     "name": "stdout",
     "output_type": "stream",
     "text": [
      "2013-08-05\n",
      "https://api.nytimes.com/svc/books/v3/lists.json?api-key=P1yDSg62Aydsdh04WBBuS57pYbpBu2tb&list=trade-fiction-paperback&published-date=2013-08-05\n"
     ]
    },
    {
     "name": "stderr",
     "output_type": "stream",
     "text": [
      "C:\\Users\\melan\\AppData\\Local\\Temp\\ipykernel_21772\\4058755056.py:26: FutureWarning: pandas.io.json.json_normalize is deprecated, use pandas.json_normalize instead.\n",
      "  books = json_normalize(results[\"results\"], record_path=[\"book_details\"], meta=[\"rank\", \"rank_last_week\", \"weeks_on_list\", \"asterisk\", \"dagger\"])\n"
     ]
    },
    {
     "name": "stdout",
     "output_type": "stream",
     "text": [
      "2013-07-29\n",
      "https://api.nytimes.com/svc/books/v3/lists.json?api-key=P1yDSg62Aydsdh04WBBuS57pYbpBu2tb&list=trade-fiction-paperback&published-date=2013-07-29\n"
     ]
    },
    {
     "name": "stderr",
     "output_type": "stream",
     "text": [
      "C:\\Users\\melan\\AppData\\Local\\Temp\\ipykernel_21772\\4058755056.py:26: FutureWarning: pandas.io.json.json_normalize is deprecated, use pandas.json_normalize instead.\n",
      "  books = json_normalize(results[\"results\"], record_path=[\"book_details\"], meta=[\"rank\", \"rank_last_week\", \"weeks_on_list\", \"asterisk\", \"dagger\"])\n"
     ]
    },
    {
     "name": "stdout",
     "output_type": "stream",
     "text": [
      "2013-07-22\n",
      "https://api.nytimes.com/svc/books/v3/lists.json?api-key=P1yDSg62Aydsdh04WBBuS57pYbpBu2tb&list=trade-fiction-paperback&published-date=2013-07-22\n"
     ]
    },
    {
     "name": "stderr",
     "output_type": "stream",
     "text": [
      "C:\\Users\\melan\\AppData\\Local\\Temp\\ipykernel_21772\\4058755056.py:26: FutureWarning: pandas.io.json.json_normalize is deprecated, use pandas.json_normalize instead.\n",
      "  books = json_normalize(results[\"results\"], record_path=[\"book_details\"], meta=[\"rank\", \"rank_last_week\", \"weeks_on_list\", \"asterisk\", \"dagger\"])\n"
     ]
    },
    {
     "name": "stdout",
     "output_type": "stream",
     "text": [
      "2013-07-15\n",
      "https://api.nytimes.com/svc/books/v3/lists.json?api-key=P1yDSg62Aydsdh04WBBuS57pYbpBu2tb&list=trade-fiction-paperback&published-date=2013-07-15\n"
     ]
    },
    {
     "name": "stderr",
     "output_type": "stream",
     "text": [
      "C:\\Users\\melan\\AppData\\Local\\Temp\\ipykernel_21772\\4058755056.py:26: FutureWarning: pandas.io.json.json_normalize is deprecated, use pandas.json_normalize instead.\n",
      "  books = json_normalize(results[\"results\"], record_path=[\"book_details\"], meta=[\"rank\", \"rank_last_week\", \"weeks_on_list\", \"asterisk\", \"dagger\"])\n"
     ]
    },
    {
     "name": "stdout",
     "output_type": "stream",
     "text": [
      "2013-07-08\n",
      "https://api.nytimes.com/svc/books/v3/lists.json?api-key=P1yDSg62Aydsdh04WBBuS57pYbpBu2tb&list=trade-fiction-paperback&published-date=2013-07-08\n"
     ]
    },
    {
     "name": "stderr",
     "output_type": "stream",
     "text": [
      "C:\\Users\\melan\\AppData\\Local\\Temp\\ipykernel_21772\\4058755056.py:26: FutureWarning: pandas.io.json.json_normalize is deprecated, use pandas.json_normalize instead.\n",
      "  books = json_normalize(results[\"results\"], record_path=[\"book_details\"], meta=[\"rank\", \"rank_last_week\", \"weeks_on_list\", \"asterisk\", \"dagger\"])\n"
     ]
    },
    {
     "name": "stdout",
     "output_type": "stream",
     "text": [
      "2013-07-01\n",
      "https://api.nytimes.com/svc/books/v3/lists.json?api-key=P1yDSg62Aydsdh04WBBuS57pYbpBu2tb&list=trade-fiction-paperback&published-date=2013-07-01\n"
     ]
    },
    {
     "name": "stderr",
     "output_type": "stream",
     "text": [
      "C:\\Users\\melan\\AppData\\Local\\Temp\\ipykernel_21772\\4058755056.py:26: FutureWarning: pandas.io.json.json_normalize is deprecated, use pandas.json_normalize instead.\n",
      "  books = json_normalize(results[\"results\"], record_path=[\"book_details\"], meta=[\"rank\", \"rank_last_week\", \"weeks_on_list\", \"asterisk\", \"dagger\"])\n"
     ]
    },
    {
     "name": "stdout",
     "output_type": "stream",
     "text": [
      "2013-06-24\n",
      "https://api.nytimes.com/svc/books/v3/lists.json?api-key=P1yDSg62Aydsdh04WBBuS57pYbpBu2tb&list=trade-fiction-paperback&published-date=2013-06-24\n"
     ]
    },
    {
     "name": "stderr",
     "output_type": "stream",
     "text": [
      "C:\\Users\\melan\\AppData\\Local\\Temp\\ipykernel_21772\\4058755056.py:26: FutureWarning: pandas.io.json.json_normalize is deprecated, use pandas.json_normalize instead.\n",
      "  books = json_normalize(results[\"results\"], record_path=[\"book_details\"], meta=[\"rank\", \"rank_last_week\", \"weeks_on_list\", \"asterisk\", \"dagger\"])\n"
     ]
    },
    {
     "name": "stdout",
     "output_type": "stream",
     "text": [
      "2013-06-17\n",
      "https://api.nytimes.com/svc/books/v3/lists.json?api-key=P1yDSg62Aydsdh04WBBuS57pYbpBu2tb&list=trade-fiction-paperback&published-date=2013-06-17\n"
     ]
    },
    {
     "name": "stderr",
     "output_type": "stream",
     "text": [
      "C:\\Users\\melan\\AppData\\Local\\Temp\\ipykernel_21772\\4058755056.py:26: FutureWarning: pandas.io.json.json_normalize is deprecated, use pandas.json_normalize instead.\n",
      "  books = json_normalize(results[\"results\"], record_path=[\"book_details\"], meta=[\"rank\", \"rank_last_week\", \"weeks_on_list\", \"asterisk\", \"dagger\"])\n"
     ]
    },
    {
     "name": "stdout",
     "output_type": "stream",
     "text": [
      "2013-06-10\n",
      "https://api.nytimes.com/svc/books/v3/lists.json?api-key=P1yDSg62Aydsdh04WBBuS57pYbpBu2tb&list=trade-fiction-paperback&published-date=2013-06-10\n"
     ]
    },
    {
     "name": "stderr",
     "output_type": "stream",
     "text": [
      "C:\\Users\\melan\\AppData\\Local\\Temp\\ipykernel_21772\\4058755056.py:26: FutureWarning: pandas.io.json.json_normalize is deprecated, use pandas.json_normalize instead.\n",
      "  books = json_normalize(results[\"results\"], record_path=[\"book_details\"], meta=[\"rank\", \"rank_last_week\", \"weeks_on_list\", \"asterisk\", \"dagger\"])\n"
     ]
    },
    {
     "name": "stdout",
     "output_type": "stream",
     "text": [
      "2013-06-03\n",
      "https://api.nytimes.com/svc/books/v3/lists.json?api-key=P1yDSg62Aydsdh04WBBuS57pYbpBu2tb&list=trade-fiction-paperback&published-date=2013-06-03\n"
     ]
    },
    {
     "name": "stderr",
     "output_type": "stream",
     "text": [
      "C:\\Users\\melan\\AppData\\Local\\Temp\\ipykernel_21772\\4058755056.py:26: FutureWarning: pandas.io.json.json_normalize is deprecated, use pandas.json_normalize instead.\n",
      "  books = json_normalize(results[\"results\"], record_path=[\"book_details\"], meta=[\"rank\", \"rank_last_week\", \"weeks_on_list\", \"asterisk\", \"dagger\"])\n"
     ]
    }
   ],
   "source": [
    "#Repeat for years 2013-2018\n",
    "BOOKS_ROOT = \"https://api.nytimes.com/svc/books/v3/lists.json\"\n",
    "LIST = \"trade-fiction-paperback\"\n",
    "API_KEY = \"keys.json\"\n",
    "\n",
    "bestsellers = []\n",
    "weeks = []\n",
    "num_calls_to_make = 1\n",
    "weeks_per_call = 260  # Number of weeks to fetch per API call\n",
    "\n",
    "for call_num in range(num_calls_to_make):\n",
    "    ctr = call_num * weeks_per_call\n",
    "    start_date = datetime.date(2018, 5, 21) - datetime.timedelta(weeks=ctr)\n",
    "    end_date = start_date - datetime.timedelta(weeks=weeks_per_call)\n",
    "    \n",
    "    for i in range(weeks_per_call):\n",
    "        curr_date = start_date - datetime.timedelta(weeks=i)\n",
    "        print(curr_date)\n",
    "        url = \"%s?api-key=%s&list=%s&published-date=%s\" % (BOOKS_ROOT, API_KEY, LIST, curr_date)\n",
    "        url = url.strip()\n",
    "        print(url)\n",
    "        r = requests.get(url)\n",
    "        \n",
    "        if r.status_code == 200:\n",
    "            results = r.json()\n",
    "            books = json_normalize(results[\"results\"], record_path=[\"book_details\"], meta=[\"rank\", \"rank_last_week\", \"weeks_on_list\", \"asterisk\", \"dagger\"])\n",
    "            bestsellers.append(books)\n",
    "            weeks.append(str(curr_date))\n",
    "        else:\n",
    "            print(\"API call did not work!\")\n",
    "            print(r)\n",
    "        \n",
    "        time.sleep(15)"
   ]
  },
  {
   "cell_type": "code",
   "execution_count": 62,
   "metadata": {},
   "outputs": [],
   "source": [
    "trade_paperback2 = pd.concat(bestsellers)"
   ]
  },
  {
   "cell_type": "code",
   "execution_count": 63,
   "metadata": {},
   "outputs": [
    {
     "data": {
      "text/html": [
       "<div>\n",
       "<style scoped>\n",
       "    .dataframe tbody tr th:only-of-type {\n",
       "        vertical-align: middle;\n",
       "    }\n",
       "\n",
       "    .dataframe tbody tr th {\n",
       "        vertical-align: top;\n",
       "    }\n",
       "\n",
       "    .dataframe thead th {\n",
       "        text-align: right;\n",
       "    }\n",
       "</style>\n",
       "<table border=\"1\" class=\"dataframe\">\n",
       "  <thead>\n",
       "    <tr style=\"text-align: right;\">\n",
       "      <th></th>\n",
       "      <th>title</th>\n",
       "      <th>description</th>\n",
       "      <th>contributor</th>\n",
       "      <th>author</th>\n",
       "      <th>contributor_note</th>\n",
       "      <th>price</th>\n",
       "      <th>age_group</th>\n",
       "      <th>publisher</th>\n",
       "      <th>primary_isbn13</th>\n",
       "      <th>primary_isbn10</th>\n",
       "      <th>rank</th>\n",
       "      <th>rank_last_week</th>\n",
       "      <th>weeks_on_list</th>\n",
       "      <th>asterisk</th>\n",
       "      <th>dagger</th>\n",
       "    </tr>\n",
       "  </thead>\n",
       "  <tbody>\n",
       "    <tr>\n",
       "      <th>0</th>\n",
       "      <td>INTO THE WATER</td>\n",
       "      <td>In this psychological thriller by the author o...</td>\n",
       "      <td>by Paula Hawkins</td>\n",
       "      <td>Paula Hawkins</td>\n",
       "      <td></td>\n",
       "      <td>0.00</td>\n",
       "      <td></td>\n",
       "      <td>Riverhead</td>\n",
       "      <td>9780735211223</td>\n",
       "      <td>0735211221</td>\n",
       "      <td>1</td>\n",
       "      <td>1</td>\n",
       "      <td>2</td>\n",
       "      <td>0</td>\n",
       "      <td>0</td>\n",
       "    </tr>\n",
       "    <tr>\n",
       "      <th>1</th>\n",
       "      <td>THE SUN AND HER FLOWERS</td>\n",
       "      <td>A second collection of poetry from the author ...</td>\n",
       "      <td>by Rupi Kaur</td>\n",
       "      <td>Rupi Kaur</td>\n",
       "      <td></td>\n",
       "      <td>0.00</td>\n",
       "      <td></td>\n",
       "      <td>Andrews McMeel</td>\n",
       "      <td>9781449486792</td>\n",
       "      <td>1449486797</td>\n",
       "      <td>2</td>\n",
       "      <td>3</td>\n",
       "      <td>32</td>\n",
       "      <td>0</td>\n",
       "      <td>0</td>\n",
       "    </tr>\n",
       "    <tr>\n",
       "      <th>2</th>\n",
       "      <td>MILK AND HONEY</td>\n",
       "      <td>A collection of poetry about love, loss, traum...</td>\n",
       "      <td>by Rupi Kaur</td>\n",
       "      <td>Rupi Kaur</td>\n",
       "      <td></td>\n",
       "      <td>0.00</td>\n",
       "      <td></td>\n",
       "      <td>Andrews McMeel</td>\n",
       "      <td>9781449474256</td>\n",
       "      <td>144947425X</td>\n",
       "      <td>3</td>\n",
       "      <td>5</td>\n",
       "      <td>109</td>\n",
       "      <td>0</td>\n",
       "      <td>0</td>\n",
       "    </tr>\n",
       "    <tr>\n",
       "      <th>3</th>\n",
       "      <td>THE HANDMAID'S TALE</td>\n",
       "      <td>In the Republic of Gilead's dystopian future, ...</td>\n",
       "      <td>by Margaret Atwood</td>\n",
       "      <td>Margaret Atwood</td>\n",
       "      <td></td>\n",
       "      <td>0.00</td>\n",
       "      <td></td>\n",
       "      <td>Anchor</td>\n",
       "      <td>9780385490818</td>\n",
       "      <td>038549081X</td>\n",
       "      <td>4</td>\n",
       "      <td>2</td>\n",
       "      <td>63</td>\n",
       "      <td>1</td>\n",
       "      <td>0</td>\n",
       "    </tr>\n",
       "    <tr>\n",
       "      <th>4</th>\n",
       "      <td>COME SUNDOWN</td>\n",
       "      <td>A Montana family is tested when a long-missing...</td>\n",
       "      <td>by Nora Roberts</td>\n",
       "      <td>Nora Roberts</td>\n",
       "      <td></td>\n",
       "      <td>0.00</td>\n",
       "      <td></td>\n",
       "      <td>St. Martin's Griffin</td>\n",
       "      <td>9781250123084</td>\n",
       "      <td>1250123089</td>\n",
       "      <td>5</td>\n",
       "      <td>4</td>\n",
       "      <td>3</td>\n",
       "      <td>0</td>\n",
       "      <td>0</td>\n",
       "    </tr>\n",
       "  </tbody>\n",
       "</table>\n",
       "</div>"
      ],
      "text/plain": [
       "                     title                                        description  \\\n",
       "0           INTO THE WATER  In this psychological thriller by the author o...   \n",
       "1  THE SUN AND HER FLOWERS  A second collection of poetry from the author ...   \n",
       "2           MILK AND HONEY  A collection of poetry about love, loss, traum...   \n",
       "3      THE HANDMAID'S TALE  In the Republic of Gilead's dystopian future, ...   \n",
       "4             COME SUNDOWN  A Montana family is tested when a long-missing...   \n",
       "\n",
       "          contributor           author contributor_note price age_group  \\\n",
       "0    by Paula Hawkins    Paula Hawkins                   0.00             \n",
       "1        by Rupi Kaur        Rupi Kaur                   0.00             \n",
       "2        by Rupi Kaur        Rupi Kaur                   0.00             \n",
       "3  by Margaret Atwood  Margaret Atwood                   0.00             \n",
       "4     by Nora Roberts     Nora Roberts                   0.00             \n",
       "\n",
       "              publisher primary_isbn13 primary_isbn10 rank rank_last_week  \\\n",
       "0             Riverhead  9780735211223     0735211221    1              1   \n",
       "1        Andrews McMeel  9781449486792     1449486797    2              3   \n",
       "2        Andrews McMeel  9781449474256     144947425X    3              5   \n",
       "3                Anchor  9780385490818     038549081X    4              2   \n",
       "4  St. Martin's Griffin  9781250123084     1250123089    5              4   \n",
       "\n",
       "  weeks_on_list asterisk dagger  \n",
       "0             2        0      0  \n",
       "1            32        0      0  \n",
       "2           109        0      0  \n",
       "3            63        1      0  \n",
       "4             3        0      0  "
      ]
     },
     "execution_count": 63,
     "metadata": {},
     "output_type": "execute_result"
    }
   ],
   "source": [
    "trade_paperback2.head()"
   ]
  },
  {
   "cell_type": "code",
   "execution_count": 64,
   "metadata": {},
   "outputs": [
    {
     "data": {
      "text/plain": [
       "4190"
      ]
     },
     "execution_count": 64,
     "metadata": {},
     "output_type": "execute_result"
    }
   ],
   "source": [
    "len(trade_paperback2)"
   ]
  },
  {
   "cell_type": "code",
   "execution_count": 65,
   "metadata": {},
   "outputs": [
    {
     "data": {
      "text/plain": [
       "260"
      ]
     },
     "execution_count": 65,
     "metadata": {},
     "output_type": "execute_result"
    }
   ],
   "source": [
    "len(weeks)"
   ]
  },
  {
   "cell_type": "code",
   "execution_count": 66,
   "metadata": {},
   "outputs": [
    {
     "name": "stdout",
     "output_type": "stream",
     "text": [
      "[1 2 3 4 5 6 7 8 9 10 11 12 13 14 15 16 17 18 19 20]\n"
     ]
    }
   ],
   "source": [
    "print(trade_paperback2['rank'].unique())"
   ]
  },
  {
   "cell_type": "code",
   "execution_count": 67,
   "metadata": {},
   "outputs": [
    {
     "data": {
      "text/html": [
       "<div>\n",
       "<style scoped>\n",
       "    .dataframe tbody tr th:only-of-type {\n",
       "        vertical-align: middle;\n",
       "    }\n",
       "\n",
       "    .dataframe tbody tr th {\n",
       "        vertical-align: top;\n",
       "    }\n",
       "\n",
       "    .dataframe thead th {\n",
       "        text-align: right;\n",
       "    }\n",
       "</style>\n",
       "<table border=\"1\" class=\"dataframe\">\n",
       "  <thead>\n",
       "    <tr style=\"text-align: right;\">\n",
       "      <th></th>\n",
       "      <th>title</th>\n",
       "      <th>description</th>\n",
       "      <th>contributor</th>\n",
       "      <th>author</th>\n",
       "      <th>contributor_note</th>\n",
       "      <th>price</th>\n",
       "      <th>age_group</th>\n",
       "      <th>publisher</th>\n",
       "      <th>primary_isbn13</th>\n",
       "      <th>primary_isbn10</th>\n",
       "      <th>rank</th>\n",
       "      <th>rank_last_week</th>\n",
       "      <th>weeks_on_list</th>\n",
       "      <th>asterisk</th>\n",
       "      <th>dagger</th>\n",
       "    </tr>\n",
       "  </thead>\n",
       "  <tbody>\n",
       "    <tr>\n",
       "      <th>0</th>\n",
       "      <td>ENTWINED WITH YOU</td>\n",
       "      <td>Eva and Gideon face the demons of their pasts ...</td>\n",
       "      <td>by Sylvia Day</td>\n",
       "      <td>Sylvia Day</td>\n",
       "      <td></td>\n",
       "      <td>0.00</td>\n",
       "      <td></td>\n",
       "      <td>Berkley</td>\n",
       "      <td>9780425263921</td>\n",
       "      <td>0425263924</td>\n",
       "      <td>1</td>\n",
       "      <td>0</td>\n",
       "      <td>1</td>\n",
       "      <td>0</td>\n",
       "      <td>0</td>\n",
       "    </tr>\n",
       "    <tr>\n",
       "      <th>1</th>\n",
       "      <td>JOYLAND</td>\n",
       "      <td>In North Carolina in 1973, a college student w...</td>\n",
       "      <td>by Stephen King</td>\n",
       "      <td>Stephen King</td>\n",
       "      <td></td>\n",
       "      <td>0.00</td>\n",
       "      <td></td>\n",
       "      <td>Hard Case Crime</td>\n",
       "      <td>9781781162644</td>\n",
       "      <td>1781162646</td>\n",
       "      <td>2</td>\n",
       "      <td>0</td>\n",
       "      <td>1</td>\n",
       "      <td>0</td>\n",
       "      <td>0</td>\n",
       "    </tr>\n",
       "    <tr>\n",
       "      <th>2</th>\n",
       "      <td>WORLD WAR Z</td>\n",
       "      <td>An \"oral history\" of an imagined Zombie War th...</td>\n",
       "      <td>by Max Brooks</td>\n",
       "      <td>Max Brooks</td>\n",
       "      <td></td>\n",
       "      <td>0.00</td>\n",
       "      <td></td>\n",
       "      <td>Broadway</td>\n",
       "      <td>9780307346612</td>\n",
       "      <td>0307346617</td>\n",
       "      <td>3</td>\n",
       "      <td>0</td>\n",
       "      <td>50</td>\n",
       "      <td>0</td>\n",
       "      <td>0</td>\n",
       "    </tr>\n",
       "    <tr>\n",
       "      <th>3</th>\n",
       "      <td>BEAUTIFUL RUINS</td>\n",
       "      <td>Ruins both emotional and architectural, in Ita...</td>\n",
       "      <td>by Jess Walter</td>\n",
       "      <td>Jess Walter</td>\n",
       "      <td></td>\n",
       "      <td>0.00</td>\n",
       "      <td></td>\n",
       "      <td>Harper Perennial</td>\n",
       "      <td>9780061928178</td>\n",
       "      <td>0061928178</td>\n",
       "      <td>4</td>\n",
       "      <td>0</td>\n",
       "      <td>10</td>\n",
       "      <td>0</td>\n",
       "      <td>0</td>\n",
       "    </tr>\n",
       "    <tr>\n",
       "      <th>4</th>\n",
       "      <td>FLIGHT BEHAVIOR</td>\n",
       "      <td>A woman’s life expands as a visitation of butt...</td>\n",
       "      <td>by Barbara Kingsolver</td>\n",
       "      <td>Barbara Kingsolver</td>\n",
       "      <td></td>\n",
       "      <td>0.00</td>\n",
       "      <td></td>\n",
       "      <td>Harper Perennial</td>\n",
       "      <td>9780062124272</td>\n",
       "      <td>0062124277</td>\n",
       "      <td>5</td>\n",
       "      <td>0</td>\n",
       "      <td>1</td>\n",
       "      <td>0</td>\n",
       "      <td>0</td>\n",
       "    </tr>\n",
       "    <tr>\n",
       "      <th>5</th>\n",
       "      <td>FIFTY SHADES OF GREY</td>\n",
       "      <td>An inexperienced college student falls in love...</td>\n",
       "      <td>by E. L. James</td>\n",
       "      <td>E L James</td>\n",
       "      <td></td>\n",
       "      <td>0.00</td>\n",
       "      <td></td>\n",
       "      <td>Vintage</td>\n",
       "      <td>9780345803481</td>\n",
       "      <td>0345803485</td>\n",
       "      <td>6</td>\n",
       "      <td>0</td>\n",
       "      <td>65</td>\n",
       "      <td>0</td>\n",
       "      <td>0</td>\n",
       "    </tr>\n",
       "    <tr>\n",
       "      <th>6</th>\n",
       "      <td>THE ALCHEMIST</td>\n",
       "      <td>In this fable, a Spanish shepherd boy ventures...</td>\n",
       "      <td>by Paulo Coelho</td>\n",
       "      <td>Paulo Coelho</td>\n",
       "      <td></td>\n",
       "      <td>0.00</td>\n",
       "      <td></td>\n",
       "      <td>HarperOne</td>\n",
       "      <td>9780061122415</td>\n",
       "      <td>0061122416</td>\n",
       "      <td>7</td>\n",
       "      <td>0</td>\n",
       "      <td>256</td>\n",
       "      <td>0</td>\n",
       "      <td>0</td>\n",
       "    </tr>\n",
       "    <tr>\n",
       "      <th>7</th>\n",
       "      <td>THE LIGHT BETWEEN OCEANS</td>\n",
       "      <td>An Australian lighthouse keeper and his wife d...</td>\n",
       "      <td>by M. L. Stedman</td>\n",
       "      <td>M L Stedman</td>\n",
       "      <td></td>\n",
       "      <td>0.00</td>\n",
       "      <td></td>\n",
       "      <td>Scribner</td>\n",
       "      <td>9781451681758</td>\n",
       "      <td>1451681755</td>\n",
       "      <td>8</td>\n",
       "      <td>0</td>\n",
       "      <td>10</td>\n",
       "      <td>0</td>\n",
       "      <td>0</td>\n",
       "    </tr>\n",
       "    <tr>\n",
       "      <th>8</th>\n",
       "      <td>A GAME OF THRONES</td>\n",
       "      <td>In the frozen wastes to the north of Winterfel...</td>\n",
       "      <td>by George R.R. Martin</td>\n",
       "      <td>George RR Martin</td>\n",
       "      <td></td>\n",
       "      <td>0.00</td>\n",
       "      <td></td>\n",
       "      <td>Bantam</td>\n",
       "      <td>9780553381689</td>\n",
       "      <td>0553381687</td>\n",
       "      <td>9</td>\n",
       "      <td>0</td>\n",
       "      <td>51</td>\n",
       "      <td>0</td>\n",
       "      <td>0</td>\n",
       "    </tr>\n",
       "    <tr>\n",
       "      <th>9</th>\n",
       "      <td>LIFE OF PI</td>\n",
       "      <td>An allegory on the high seas, in which a teena...</td>\n",
       "      <td>by Yann Martel</td>\n",
       "      <td>Yann Martel</td>\n",
       "      <td></td>\n",
       "      <td>0.00</td>\n",
       "      <td></td>\n",
       "      <td>Mariner/Houghton Mifflin</td>\n",
       "      <td>9780156027328</td>\n",
       "      <td>0156027321</td>\n",
       "      <td>10</td>\n",
       "      <td>0</td>\n",
       "      <td>36</td>\n",
       "      <td>0</td>\n",
       "      <td>0</td>\n",
       "    </tr>\n",
       "    <tr>\n",
       "      <th>10</th>\n",
       "      <td>WHERE'D YOU GO, BERNADETTE</td>\n",
       "      <td>A teenage daughter compiles e-mails, official ...</td>\n",
       "      <td>by Maria Semple</td>\n",
       "      <td>Maria Semple</td>\n",
       "      <td></td>\n",
       "      <td>0.00</td>\n",
       "      <td></td>\n",
       "      <td>Back Bay/Little, Brown</td>\n",
       "      <td>9780316204262</td>\n",
       "      <td>0316204269</td>\n",
       "      <td>11</td>\n",
       "      <td>0</td>\n",
       "      <td>10</td>\n",
       "      <td>1</td>\n",
       "      <td>0</td>\n",
       "    </tr>\n",
       "    <tr>\n",
       "      <th>11</th>\n",
       "      <td>BARED TO YOU</td>\n",
       "      <td>Eva and Gideon, recovering from difficult past...</td>\n",
       "      <td>by Sylvia Day</td>\n",
       "      <td>Sylvia Day</td>\n",
       "      <td></td>\n",
       "      <td>0.00</td>\n",
       "      <td></td>\n",
       "      <td>Berkley</td>\n",
       "      <td>9780425263907</td>\n",
       "      <td>0425263908</td>\n",
       "      <td>12</td>\n",
       "      <td>0</td>\n",
       "      <td>42</td>\n",
       "      <td>0</td>\n",
       "      <td>0</td>\n",
       "    </tr>\n",
       "    <tr>\n",
       "      <th>12</th>\n",
       "      <td>REFLECTED IN YOU</td>\n",
       "      <td>The sensual story that began in \"Bared to You\"...</td>\n",
       "      <td>by Sylvia Day</td>\n",
       "      <td>Sylvia Day</td>\n",
       "      <td></td>\n",
       "      <td>0.00</td>\n",
       "      <td></td>\n",
       "      <td>Berkley</td>\n",
       "      <td>9780425263914</td>\n",
       "      <td>0425263916</td>\n",
       "      <td>13</td>\n",
       "      <td>0</td>\n",
       "      <td>21</td>\n",
       "      <td>1</td>\n",
       "      <td>0</td>\n",
       "    </tr>\n",
       "    <tr>\n",
       "      <th>13</th>\n",
       "      <td>A THOUSAND SPLENDID SUNS</td>\n",
       "      <td>A friendship between two Afghan women — born a...</td>\n",
       "      <td>by Khaled Hosseini</td>\n",
       "      <td>Khaled Hosseini</td>\n",
       "      <td></td>\n",
       "      <td>0.00</td>\n",
       "      <td></td>\n",
       "      <td>Riverhead</td>\n",
       "      <td>9781594483851</td>\n",
       "      <td>159448385X</td>\n",
       "      <td>14</td>\n",
       "      <td>0</td>\n",
       "      <td>22</td>\n",
       "      <td>0</td>\n",
       "      <td>0</td>\n",
       "    </tr>\n",
       "    <tr>\n",
       "      <th>14</th>\n",
       "      <td>ZOO</td>\n",
       "      <td>After witnessing a coordinated lion ambush in ...</td>\n",
       "      <td>by James Patterson and Michael Ledwidge</td>\n",
       "      <td>James Patterson and Michael Ledwidge</td>\n",
       "      <td></td>\n",
       "      <td>0.00</td>\n",
       "      <td></td>\n",
       "      <td>Grand Central</td>\n",
       "      <td>9780446571791</td>\n",
       "      <td>0446571792</td>\n",
       "      <td>15</td>\n",
       "      <td>0</td>\n",
       "      <td>4</td>\n",
       "      <td>0</td>\n",
       "      <td>0</td>\n",
       "    </tr>\n",
       "    <tr>\n",
       "      <th>15</th>\n",
       "      <td>THE ORPHAN MASTER’S SON</td>\n",
       "      <td>In a series of picaresque adventures, a young ...</td>\n",
       "      <td>by Adam Johnson</td>\n",
       "      <td>Adam Johnson</td>\n",
       "      <td></td>\n",
       "      <td>0.00</td>\n",
       "      <td></td>\n",
       "      <td>Random House</td>\n",
       "      <td>9780812982626</td>\n",
       "      <td>0812982622</td>\n",
       "      <td>16</td>\n",
       "      <td>0</td>\n",
       "      <td>8</td>\n",
       "      <td>1</td>\n",
       "      <td>0</td>\n",
       "    </tr>\n",
       "    <tr>\n",
       "      <th>16</th>\n",
       "      <td>THE ART FORGER</td>\n",
       "      <td>A talented yet struggling Boston artist agrees...</td>\n",
       "      <td>by B. A. Shapiro</td>\n",
       "      <td>B A Shapiro</td>\n",
       "      <td></td>\n",
       "      <td>0.00</td>\n",
       "      <td></td>\n",
       "      <td>Algonquin</td>\n",
       "      <td>9781616203160</td>\n",
       "      <td>1616203161</td>\n",
       "      <td>17</td>\n",
       "      <td>0</td>\n",
       "      <td>3</td>\n",
       "      <td>0</td>\n",
       "      <td>0</td>\n",
       "    </tr>\n",
       "    <tr>\n",
       "      <th>17</th>\n",
       "      <td>FIFTY SHADES DARKER</td>\n",
       "      <td>Daunted by Christian’s dark secrets, Anastasia...</td>\n",
       "      <td>by E. L. James</td>\n",
       "      <td>E L James</td>\n",
       "      <td></td>\n",
       "      <td>0.00</td>\n",
       "      <td></td>\n",
       "      <td>Vintage</td>\n",
       "      <td>9780345803498</td>\n",
       "      <td>0345803493</td>\n",
       "      <td>18</td>\n",
       "      <td>0</td>\n",
       "      <td>62</td>\n",
       "      <td>0</td>\n",
       "      <td>0</td>\n",
       "    </tr>\n",
       "    <tr>\n",
       "      <th>18</th>\n",
       "      <td>THE HARBINGER</td>\n",
       "      <td>A man tells of his encounters with a mysteriou...</td>\n",
       "      <td>by Jonathan Cahn</td>\n",
       "      <td>Jonathan Cahn</td>\n",
       "      <td></td>\n",
       "      <td>0.00</td>\n",
       "      <td></td>\n",
       "      <td>FrontLine</td>\n",
       "      <td>9781616386108</td>\n",
       "      <td>161638610X</td>\n",
       "      <td>19</td>\n",
       "      <td>0</td>\n",
       "      <td>75</td>\n",
       "      <td>1</td>\n",
       "      <td>0</td>\n",
       "    </tr>\n",
       "    <tr>\n",
       "      <th>19</th>\n",
       "      <td>THE PARIS WIFE</td>\n",
       "      <td>Hadley Richardson comes into her own as Ernest...</td>\n",
       "      <td>by Paula McLain</td>\n",
       "      <td>Paula McLain</td>\n",
       "      <td></td>\n",
       "      <td>0.00</td>\n",
       "      <td></td>\n",
       "      <td>Ballantine</td>\n",
       "      <td>9780345521316</td>\n",
       "      <td>0345521315</td>\n",
       "      <td>20</td>\n",
       "      <td>0</td>\n",
       "      <td>28</td>\n",
       "      <td>0</td>\n",
       "      <td>0</td>\n",
       "    </tr>\n",
       "    <tr>\n",
       "      <th>0</th>\n",
       "      <td>WORLD WAR Z</td>\n",
       "      <td>An \"oral history\" of an imagined Zombie War th...</td>\n",
       "      <td>by Max Brooks</td>\n",
       "      <td>Max Brooks</td>\n",
       "      <td></td>\n",
       "      <td>0.00</td>\n",
       "      <td></td>\n",
       "      <td>Three Rivers</td>\n",
       "      <td>9780307346612</td>\n",
       "      <td>0307346617</td>\n",
       "      <td>1</td>\n",
       "      <td>0</td>\n",
       "      <td>49</td>\n",
       "      <td>0</td>\n",
       "      <td>0</td>\n",
       "    </tr>\n",
       "    <tr>\n",
       "      <th>1</th>\n",
       "      <td>BEAUTIFUL RUINS</td>\n",
       "      <td>Ruins both emotional and architectural, in Ita...</td>\n",
       "      <td>by Jess Walter</td>\n",
       "      <td>Jess Walter</td>\n",
       "      <td></td>\n",
       "      <td>0.00</td>\n",
       "      <td></td>\n",
       "      <td>Harper Perennial</td>\n",
       "      <td>9780061928178</td>\n",
       "      <td>0061928178</td>\n",
       "      <td>2</td>\n",
       "      <td>0</td>\n",
       "      <td>9</td>\n",
       "      <td>0</td>\n",
       "      <td>0</td>\n",
       "    </tr>\n",
       "    <tr>\n",
       "      <th>2</th>\n",
       "      <td>FIFTY SHADES OF GREY</td>\n",
       "      <td>An inexperienced college student falls in love...</td>\n",
       "      <td>by E. L. James</td>\n",
       "      <td>E L James</td>\n",
       "      <td></td>\n",
       "      <td>0.00</td>\n",
       "      <td></td>\n",
       "      <td>Vintage</td>\n",
       "      <td>9780345803481</td>\n",
       "      <td>0345803485</td>\n",
       "      <td>3</td>\n",
       "      <td>0</td>\n",
       "      <td>64</td>\n",
       "      <td>0</td>\n",
       "      <td>0</td>\n",
       "    </tr>\n",
       "    <tr>\n",
       "      <th>3</th>\n",
       "      <td>THE ALCHEMIST</td>\n",
       "      <td>In this fable, a Spanish shepherd boy ventures...</td>\n",
       "      <td>by Paulo Coelho</td>\n",
       "      <td>Paulo Coelho</td>\n",
       "      <td></td>\n",
       "      <td>0.00</td>\n",
       "      <td></td>\n",
       "      <td>HarperOne</td>\n",
       "      <td>9780061122415</td>\n",
       "      <td>0061122416</td>\n",
       "      <td>4</td>\n",
       "      <td>0</td>\n",
       "      <td>255</td>\n",
       "      <td>0</td>\n",
       "      <td>0</td>\n",
       "    </tr>\n",
       "    <tr>\n",
       "      <th>4</th>\n",
       "      <td>ZOO</td>\n",
       "      <td>After witnessing a coordinated lion ambush in ...</td>\n",
       "      <td>by James Patterson and Michael Ledwidge</td>\n",
       "      <td>James Patterson and Michael Ledwidge</td>\n",
       "      <td></td>\n",
       "      <td>0.00</td>\n",
       "      <td></td>\n",
       "      <td>Grand Central</td>\n",
       "      <td>9780446571791</td>\n",
       "      <td>0446571792</td>\n",
       "      <td>5</td>\n",
       "      <td>0</td>\n",
       "      <td>3</td>\n",
       "      <td>1</td>\n",
       "      <td>0</td>\n",
       "    </tr>\n",
       "    <tr>\n",
       "      <th>5</th>\n",
       "      <td>THE LIGHT BETWEEN OCEANS</td>\n",
       "      <td>An Australian lighthouse keeper and his wife d...</td>\n",
       "      <td>by M. L. Stedman</td>\n",
       "      <td>M L Stedman</td>\n",
       "      <td></td>\n",
       "      <td>0.00</td>\n",
       "      <td></td>\n",
       "      <td>Scribner</td>\n",
       "      <td>9781451681758</td>\n",
       "      <td>1451681755</td>\n",
       "      <td>6</td>\n",
       "      <td>0</td>\n",
       "      <td>9</td>\n",
       "      <td>0</td>\n",
       "      <td>0</td>\n",
       "    </tr>\n",
       "    <tr>\n",
       "      <th>6</th>\n",
       "      <td>FIFTY SHADES DARKER</td>\n",
       "      <td>Daunted by Christian’s dark secrets, Anastasia...</td>\n",
       "      <td>by E. L. James</td>\n",
       "      <td>E L James</td>\n",
       "      <td></td>\n",
       "      <td>0.00</td>\n",
       "      <td></td>\n",
       "      <td>Vintage</td>\n",
       "      <td>9780345803498</td>\n",
       "      <td>0345803493</td>\n",
       "      <td>7</td>\n",
       "      <td>0</td>\n",
       "      <td>61</td>\n",
       "      <td>0</td>\n",
       "      <td>0</td>\n",
       "    </tr>\n",
       "    <tr>\n",
       "      <th>7</th>\n",
       "      <td>FIFTY SHADES FREED</td>\n",
       "      <td>Reunited, Anastasia and Christian face a world...</td>\n",
       "      <td>by E. L. James</td>\n",
       "      <td>E L James</td>\n",
       "      <td></td>\n",
       "      <td>0.00</td>\n",
       "      <td></td>\n",
       "      <td>Vintage</td>\n",
       "      <td>9780345803504</td>\n",
       "      <td>0345803507</td>\n",
       "      <td>8</td>\n",
       "      <td>0</td>\n",
       "      <td>61</td>\n",
       "      <td>0</td>\n",
       "      <td>0</td>\n",
       "    </tr>\n",
       "    <tr>\n",
       "      <th>8</th>\n",
       "      <td>WHERE'D YOU GO, BERNADETTE</td>\n",
       "      <td>A teenage daughter compiles e-mails, official ...</td>\n",
       "      <td>by Maria Semple</td>\n",
       "      <td>Maria Semple</td>\n",
       "      <td></td>\n",
       "      <td>0.00</td>\n",
       "      <td></td>\n",
       "      <td>Back Bay/Little, Brown</td>\n",
       "      <td>9780316204262</td>\n",
       "      <td>0316204269</td>\n",
       "      <td>9</td>\n",
       "      <td>0</td>\n",
       "      <td>9</td>\n",
       "      <td>0</td>\n",
       "      <td>0</td>\n",
       "    </tr>\n",
       "    <tr>\n",
       "      <th>9</th>\n",
       "      <td>LIFE OF PI</td>\n",
       "      <td>An allegory on the high seas, in which a teena...</td>\n",
       "      <td>by Yann Martel</td>\n",
       "      <td>Yann Martel</td>\n",
       "      <td></td>\n",
       "      <td>0.00</td>\n",
       "      <td></td>\n",
       "      <td>Mariner/Houghton Mifflin</td>\n",
       "      <td>9780156027328</td>\n",
       "      <td>0156027321</td>\n",
       "      <td>10</td>\n",
       "      <td>0</td>\n",
       "      <td>35</td>\n",
       "      <td>0</td>\n",
       "      <td>0</td>\n",
       "    </tr>\n",
       "    <tr>\n",
       "      <th>10</th>\n",
       "      <td>THE ORPHAN MASTER’S SON</td>\n",
       "      <td>In a series of picaresque adventures, a young ...</td>\n",
       "      <td>by Adam Johnson</td>\n",
       "      <td>Adam Johnson</td>\n",
       "      <td></td>\n",
       "      <td>0.00</td>\n",
       "      <td></td>\n",
       "      <td>Random House</td>\n",
       "      <td>9780812982626</td>\n",
       "      <td>0812982622</td>\n",
       "      <td>11</td>\n",
       "      <td>0</td>\n",
       "      <td>7</td>\n",
       "      <td>0</td>\n",
       "      <td>0</td>\n",
       "    </tr>\n",
       "    <tr>\n",
       "      <th>11</th>\n",
       "      <td>THE HARBINGER</td>\n",
       "      <td>A man tells of his encounters with a mysteriou...</td>\n",
       "      <td>by Jonathan Cahn</td>\n",
       "      <td>Jonathan Cahn</td>\n",
       "      <td></td>\n",
       "      <td>0.00</td>\n",
       "      <td></td>\n",
       "      <td>FrontLine</td>\n",
       "      <td>9781616386108</td>\n",
       "      <td>161638610X</td>\n",
       "      <td>12</td>\n",
       "      <td>0</td>\n",
       "      <td>74</td>\n",
       "      <td>1</td>\n",
       "      <td>0</td>\n",
       "    </tr>\n",
       "    <tr>\n",
       "      <th>12</th>\n",
       "      <td>THE ART FORGER</td>\n",
       "      <td>A talented yet struggling Boston artist agrees...</td>\n",
       "      <td>by B. A. Shapiro</td>\n",
       "      <td>B A Shapiro</td>\n",
       "      <td></td>\n",
       "      <td>0.00</td>\n",
       "      <td></td>\n",
       "      <td>Algonquin</td>\n",
       "      <td>9781616203160</td>\n",
       "      <td>1616203161</td>\n",
       "      <td>13</td>\n",
       "      <td>0</td>\n",
       "      <td>2</td>\n",
       "      <td>0</td>\n",
       "      <td>0</td>\n",
       "    </tr>\n",
       "    <tr>\n",
       "      <th>13</th>\n",
       "      <td>A GAME OF THRONES</td>\n",
       "      <td>In the frozen wastes to the north of Winterfel...</td>\n",
       "      <td>by George R.R. Martin</td>\n",
       "      <td>George RR Martin</td>\n",
       "      <td></td>\n",
       "      <td>0.00</td>\n",
       "      <td></td>\n",
       "      <td>Bantam</td>\n",
       "      <td>9780553381689</td>\n",
       "      <td>0553381687</td>\n",
       "      <td>14</td>\n",
       "      <td>0</td>\n",
       "      <td>50</td>\n",
       "      <td>0</td>\n",
       "      <td>0</td>\n",
       "    </tr>\n",
       "    <tr>\n",
       "      <th>14</th>\n",
       "      <td>THE PARIS WIFE</td>\n",
       "      <td>Hadley Richardson comes into her own as Ernest...</td>\n",
       "      <td>by Paula McLain</td>\n",
       "      <td>Paula McLain</td>\n",
       "      <td></td>\n",
       "      <td>0.00</td>\n",
       "      <td></td>\n",
       "      <td>Ballantine</td>\n",
       "      <td>9780345521316</td>\n",
       "      <td>0345521315</td>\n",
       "      <td>15</td>\n",
       "      <td>0</td>\n",
       "      <td>27</td>\n",
       "      <td>0</td>\n",
       "      <td>0</td>\n",
       "    </tr>\n",
       "    <tr>\n",
       "      <th>15</th>\n",
       "      <td>BRING UP THE BODIES</td>\n",
       "      <td>In this sequel to “Wolf Hall,” Thomas Cromwell...</td>\n",
       "      <td>by Hilary Mantel</td>\n",
       "      <td>Hilary Mantel</td>\n",
       "      <td></td>\n",
       "      <td>0.00</td>\n",
       "      <td></td>\n",
       "      <td>Picador</td>\n",
       "      <td>9781250024176</td>\n",
       "      <td>125002417X</td>\n",
       "      <td>16</td>\n",
       "      <td>0</td>\n",
       "      <td>4</td>\n",
       "      <td>0</td>\n",
       "      <td>0</td>\n",
       "    </tr>\n",
       "    <tr>\n",
       "      <th>16</th>\n",
       "      <td>CITY OF WOMEN</td>\n",
       "      <td>In 1943 Berlin, a German soldier’s wife become...</td>\n",
       "      <td>by David R. Gillham</td>\n",
       "      <td>David R Gillham</td>\n",
       "      <td></td>\n",
       "      <td>0.00</td>\n",
       "      <td></td>\n",
       "      <td>Berkley</td>\n",
       "      <td>9780425252963</td>\n",
       "      <td>0425252965</td>\n",
       "      <td>17</td>\n",
       "      <td>0</td>\n",
       "      <td>3</td>\n",
       "      <td>1</td>\n",
       "      <td>0</td>\n",
       "    </tr>\n",
       "    <tr>\n",
       "      <th>17</th>\n",
       "      <td>THE KITE RUNNER</td>\n",
       "      <td>An Afghan-American returns to Kabul to learn h...</td>\n",
       "      <td>by Khaled Hosseini</td>\n",
       "      <td>Khaled Hosseini</td>\n",
       "      <td></td>\n",
       "      <td>0.00</td>\n",
       "      <td></td>\n",
       "      <td>Riverhead</td>\n",
       "      <td>9781594480003</td>\n",
       "      <td>1594480001</td>\n",
       "      <td>18</td>\n",
       "      <td>0</td>\n",
       "      <td>104</td>\n",
       "      <td>0</td>\n",
       "      <td>0</td>\n",
       "    </tr>\n",
       "    <tr>\n",
       "      <th>18</th>\n",
       "      <td>THE LANGUAGE OF FLOWERS</td>\n",
       "      <td>A young woman’s gift for flowers helps her cha...</td>\n",
       "      <td>by Vanessa Diffenbaugh</td>\n",
       "      <td>Vanessa Diffenbaugh</td>\n",
       "      <td></td>\n",
       "      <td>0.00</td>\n",
       "      <td></td>\n",
       "      <td>Ballantine</td>\n",
       "      <td>9780345525550</td>\n",
       "      <td>0345525558</td>\n",
       "      <td>19</td>\n",
       "      <td>0</td>\n",
       "      <td>50</td>\n",
       "      <td>0</td>\n",
       "      <td>0</td>\n",
       "    </tr>\n",
       "    <tr>\n",
       "      <th>19</th>\n",
       "      <td>SHADOW OF NIGHT</td>\n",
       "      <td>In this sequel to \"A Discovery of Witches,\" th...</td>\n",
       "      <td>by Deborah Harkness</td>\n",
       "      <td>Deborah Harkness</td>\n",
       "      <td></td>\n",
       "      <td>0.00</td>\n",
       "      <td></td>\n",
       "      <td>Penguin</td>\n",
       "      <td>9780143123620</td>\n",
       "      <td>0143123629</td>\n",
       "      <td>20</td>\n",
       "      <td>0</td>\n",
       "      <td>1</td>\n",
       "      <td>1</td>\n",
       "      <td>0</td>\n",
       "    </tr>\n",
       "    <tr>\n",
       "      <th>0</th>\n",
       "      <td>WORLD WAR Z</td>\n",
       "      <td>An \"oral history\" of an imagined Zombie War th...</td>\n",
       "      <td>by Max Brooks</td>\n",
       "      <td>Max Brooks</td>\n",
       "      <td></td>\n",
       "      <td>0.00</td>\n",
       "      <td></td>\n",
       "      <td>Three Rivers</td>\n",
       "      <td>9780307346612</td>\n",
       "      <td>0307346617</td>\n",
       "      <td>1</td>\n",
       "      <td>0</td>\n",
       "      <td>48</td>\n",
       "      <td>0</td>\n",
       "      <td>0</td>\n",
       "    </tr>\n",
       "    <tr>\n",
       "      <th>1</th>\n",
       "      <td>BEAUTIFUL RUINS</td>\n",
       "      <td>Ruins both emotional and architectural, in Ita...</td>\n",
       "      <td>by Jess Walter</td>\n",
       "      <td>Jess Walter</td>\n",
       "      <td></td>\n",
       "      <td>0.00</td>\n",
       "      <td></td>\n",
       "      <td>Harper Perennial</td>\n",
       "      <td>9780061928178</td>\n",
       "      <td>0061928178</td>\n",
       "      <td>2</td>\n",
       "      <td>0</td>\n",
       "      <td>8</td>\n",
       "      <td>0</td>\n",
       "      <td>0</td>\n",
       "    </tr>\n",
       "    <tr>\n",
       "      <th>2</th>\n",
       "      <td>FIFTY SHADES OF GREY</td>\n",
       "      <td>An inexperienced college student falls in love...</td>\n",
       "      <td>by E. L. James</td>\n",
       "      <td>E L James</td>\n",
       "      <td></td>\n",
       "      <td>0.00</td>\n",
       "      <td></td>\n",
       "      <td>Vintage</td>\n",
       "      <td>9780345803481</td>\n",
       "      <td>0345803485</td>\n",
       "      <td>3</td>\n",
       "      <td>0</td>\n",
       "      <td>63</td>\n",
       "      <td>0</td>\n",
       "      <td>0</td>\n",
       "    </tr>\n",
       "    <tr>\n",
       "      <th>3</th>\n",
       "      <td>ZOO</td>\n",
       "      <td>After witnessing a coordinated lion ambush in ...</td>\n",
       "      <td>by James Patterson and Michael Ledwidge</td>\n",
       "      <td>James Patterson and Michael Ledwidge</td>\n",
       "      <td></td>\n",
       "      <td>0.00</td>\n",
       "      <td></td>\n",
       "      <td>Grand Central</td>\n",
       "      <td>9780446571791</td>\n",
       "      <td>0446571792</td>\n",
       "      <td>4</td>\n",
       "      <td>0</td>\n",
       "      <td>2</td>\n",
       "      <td>0</td>\n",
       "      <td>0</td>\n",
       "    </tr>\n",
       "    <tr>\n",
       "      <th>4</th>\n",
       "      <td>THE LIGHT BETWEEN OCEANS</td>\n",
       "      <td>An Australian lighthouse keeper and his wife d...</td>\n",
       "      <td>by M. L. Stedman</td>\n",
       "      <td>M L Stedman</td>\n",
       "      <td></td>\n",
       "      <td>0.00</td>\n",
       "      <td></td>\n",
       "      <td>Scribner</td>\n",
       "      <td>9781451681758</td>\n",
       "      <td>1451681755</td>\n",
       "      <td>5</td>\n",
       "      <td>0</td>\n",
       "      <td>8</td>\n",
       "      <td>0</td>\n",
       "      <td>0</td>\n",
       "    </tr>\n",
       "    <tr>\n",
       "      <th>5</th>\n",
       "      <td>THE ALCHEMIST</td>\n",
       "      <td>In this fable, a Spanish shepherd boy ventures...</td>\n",
       "      <td>by Paulo Coelho</td>\n",
       "      <td>Paulo Coelho</td>\n",
       "      <td></td>\n",
       "      <td>0.00</td>\n",
       "      <td></td>\n",
       "      <td>HarperOne</td>\n",
       "      <td>9780061122415</td>\n",
       "      <td>0061122416</td>\n",
       "      <td>6</td>\n",
       "      <td>0</td>\n",
       "      <td>254</td>\n",
       "      <td>1</td>\n",
       "      <td>0</td>\n",
       "    </tr>\n",
       "    <tr>\n",
       "      <th>6</th>\n",
       "      <td>FIFTY SHADES DARKER</td>\n",
       "      <td>Daunted by Christian’s dark secrets, Anastasia...</td>\n",
       "      <td>by E. L. James</td>\n",
       "      <td>E L James</td>\n",
       "      <td></td>\n",
       "      <td>0.00</td>\n",
       "      <td></td>\n",
       "      <td>Vintage</td>\n",
       "      <td>9780345803498</td>\n",
       "      <td>0345803493</td>\n",
       "      <td>7</td>\n",
       "      <td>0</td>\n",
       "      <td>60</td>\n",
       "      <td>0</td>\n",
       "      <td>0</td>\n",
       "    </tr>\n",
       "    <tr>\n",
       "      <th>7</th>\n",
       "      <td>FIFTY SHADES FREED</td>\n",
       "      <td>Reunited, Anastasia and Christian face a world...</td>\n",
       "      <td>by E. L. James</td>\n",
       "      <td>E L James</td>\n",
       "      <td></td>\n",
       "      <td>0.00</td>\n",
       "      <td></td>\n",
       "      <td>Vintage</td>\n",
       "      <td>9780345803504</td>\n",
       "      <td>0345803507</td>\n",
       "      <td>8</td>\n",
       "      <td>0</td>\n",
       "      <td>60</td>\n",
       "      <td>0</td>\n",
       "      <td>0</td>\n",
       "    </tr>\n",
       "    <tr>\n",
       "      <th>8</th>\n",
       "      <td>WHERE'D YOU GO, BERNADETTE</td>\n",
       "      <td>A teenage daughter compiles e-mails, official ...</td>\n",
       "      <td>by Maria Semple</td>\n",
       "      <td>Maria Semple</td>\n",
       "      <td></td>\n",
       "      <td>0.00</td>\n",
       "      <td></td>\n",
       "      <td>Back Bay/Little, Brown</td>\n",
       "      <td>9780316204262</td>\n",
       "      <td>0316204269</td>\n",
       "      <td>9</td>\n",
       "      <td>0</td>\n",
       "      <td>8</td>\n",
       "      <td>0</td>\n",
       "      <td>0</td>\n",
       "    </tr>\n",
       "    <tr>\n",
       "      <th>9</th>\n",
       "      <td>LIFE OF PI</td>\n",
       "      <td>An allegory on the high seas, in which a teena...</td>\n",
       "      <td>by Yann Martel</td>\n",
       "      <td>Yann Martel</td>\n",
       "      <td></td>\n",
       "      <td>0.00</td>\n",
       "      <td></td>\n",
       "      <td>Mariner/Houghton Mifflin</td>\n",
       "      <td>9780156027328</td>\n",
       "      <td>0156027321</td>\n",
       "      <td>10</td>\n",
       "      <td>0</td>\n",
       "      <td>34</td>\n",
       "      <td>0</td>\n",
       "      <td>0</td>\n",
       "    </tr>\n",
       "    <tr>\n",
       "      <th>10</th>\n",
       "      <td>THE ORPHAN MASTER’S SON</td>\n",
       "      <td>In a series of picaresque adventures, a young ...</td>\n",
       "      <td>by Adam Johnson</td>\n",
       "      <td>Adam Johnson</td>\n",
       "      <td></td>\n",
       "      <td>0.00</td>\n",
       "      <td></td>\n",
       "      <td>Random House</td>\n",
       "      <td>9780812982626</td>\n",
       "      <td>0812982622</td>\n",
       "      <td>11</td>\n",
       "      <td>0</td>\n",
       "      <td>6</td>\n",
       "      <td>0</td>\n",
       "      <td>0</td>\n",
       "    </tr>\n",
       "    <tr>\n",
       "      <th>11</th>\n",
       "      <td>THE HARBINGER</td>\n",
       "      <td>A man tells of his encounters with a mysteriou...</td>\n",
       "      <td>by Jonathan Cahn</td>\n",
       "      <td>Jonathan Cahn</td>\n",
       "      <td></td>\n",
       "      <td>0.00</td>\n",
       "      <td></td>\n",
       "      <td>FrontLine</td>\n",
       "      <td>9781616386108</td>\n",
       "      <td>161638610X</td>\n",
       "      <td>12</td>\n",
       "      <td>0</td>\n",
       "      <td>73</td>\n",
       "      <td>0</td>\n",
       "      <td>0</td>\n",
       "    </tr>\n",
       "    <tr>\n",
       "      <th>12</th>\n",
       "      <td>A GAME OF THRONES</td>\n",
       "      <td>In the frozen wastes to the north of Winterfel...</td>\n",
       "      <td>by George R.R. Martin</td>\n",
       "      <td>George RR Martin</td>\n",
       "      <td></td>\n",
       "      <td>0.00</td>\n",
       "      <td></td>\n",
       "      <td>Bantam</td>\n",
       "      <td>9780553381689</td>\n",
       "      <td>0553381687</td>\n",
       "      <td>13</td>\n",
       "      <td>0</td>\n",
       "      <td>49</td>\n",
       "      <td>1</td>\n",
       "      <td>0</td>\n",
       "    </tr>\n",
       "    <tr>\n",
       "      <th>13</th>\n",
       "      <td>DARK PLACES</td>\n",
       "      <td>A woman who, as a child, was spared when her m...</td>\n",
       "      <td>by Gillian Flynn</td>\n",
       "      <td>Gillian Flynn</td>\n",
       "      <td></td>\n",
       "      <td>0.00</td>\n",
       "      <td></td>\n",
       "      <td>Broadway</td>\n",
       "      <td>9780307341570</td>\n",
       "      <td>0307341577</td>\n",
       "      <td>14</td>\n",
       "      <td>0</td>\n",
       "      <td>25</td>\n",
       "      <td>0</td>\n",
       "      <td>0</td>\n",
       "    </tr>\n",
       "    <tr>\n",
       "      <th>14</th>\n",
       "      <td>BRING UP THE BODIES</td>\n",
       "      <td>In this sequel to “Wolf Hall,” Thomas Cromwell...</td>\n",
       "      <td>by Hilary Mantel</td>\n",
       "      <td>Hilary Mantel</td>\n",
       "      <td></td>\n",
       "      <td>0.00</td>\n",
       "      <td></td>\n",
       "      <td>Picador</td>\n",
       "      <td>9781250024176</td>\n",
       "      <td>125002417X</td>\n",
       "      <td>15</td>\n",
       "      <td>0</td>\n",
       "      <td>3</td>\n",
       "      <td>1</td>\n",
       "      <td>0</td>\n",
       "    </tr>\n",
       "    <tr>\n",
       "      <th>15</th>\n",
       "      <td>CITY OF WOMEN</td>\n",
       "      <td>In 1943 Berlin, a German soldier’s wife become...</td>\n",
       "      <td>by David R. Gillham</td>\n",
       "      <td>David R Gillham</td>\n",
       "      <td></td>\n",
       "      <td>0.00</td>\n",
       "      <td></td>\n",
       "      <td>Berkley</td>\n",
       "      <td>9780425252963</td>\n",
       "      <td>0425252965</td>\n",
       "      <td>16</td>\n",
       "      <td>0</td>\n",
       "      <td>2</td>\n",
       "      <td>0</td>\n",
       "      <td>0</td>\n",
       "    </tr>\n",
       "    <tr>\n",
       "      <th>16</th>\n",
       "      <td>THE PARIS WIFE</td>\n",
       "      <td>Hadley Richardson comes into her own as Ernest...</td>\n",
       "      <td>by Paula McLain</td>\n",
       "      <td>Paula McLain</td>\n",
       "      <td></td>\n",
       "      <td>0.00</td>\n",
       "      <td></td>\n",
       "      <td>Ballantine</td>\n",
       "      <td>9780345521316</td>\n",
       "      <td>0345521315</td>\n",
       "      <td>17</td>\n",
       "      <td>0</td>\n",
       "      <td>26</td>\n",
       "      <td>0</td>\n",
       "      <td>0</td>\n",
       "    </tr>\n",
       "    <tr>\n",
       "      <th>17</th>\n",
       "      <td>THE ART FORGER</td>\n",
       "      <td>A talented yet struggling Boston artist agrees...</td>\n",
       "      <td>by B. A. Shapiro</td>\n",
       "      <td>B A Shapiro</td>\n",
       "      <td></td>\n",
       "      <td>0.00</td>\n",
       "      <td></td>\n",
       "      <td>Algonquin</td>\n",
       "      <td>9781616203160</td>\n",
       "      <td>1616203161</td>\n",
       "      <td>18</td>\n",
       "      <td>0</td>\n",
       "      <td>1</td>\n",
       "      <td>0</td>\n",
       "      <td>0</td>\n",
       "    </tr>\n",
       "    <tr>\n",
       "      <th>18</th>\n",
       "      <td>THE LANGUAGE OF FLOWERS</td>\n",
       "      <td>A young woman’s gift for flowers helps her cha...</td>\n",
       "      <td>by Vanessa Diffenbaugh</td>\n",
       "      <td>Vanessa Diffenbaugh</td>\n",
       "      <td></td>\n",
       "      <td>0.00</td>\n",
       "      <td></td>\n",
       "      <td>Ballantine</td>\n",
       "      <td>9780345525550</td>\n",
       "      <td>0345525558</td>\n",
       "      <td>19</td>\n",
       "      <td>0</td>\n",
       "      <td>49</td>\n",
       "      <td>0</td>\n",
       "      <td>0</td>\n",
       "    </tr>\n",
       "    <tr>\n",
       "      <th>19</th>\n",
       "      <td>THE DOG STARS</td>\n",
       "      <td>After a flu pandemic kills much of the populat...</td>\n",
       "      <td>by Peter Heller</td>\n",
       "      <td>Peter Heller</td>\n",
       "      <td></td>\n",
       "      <td>0.00</td>\n",
       "      <td></td>\n",
       "      <td>Vintage Contemporaries</td>\n",
       "      <td>9780307950475</td>\n",
       "      <td>0307950476</td>\n",
       "      <td>20</td>\n",
       "      <td>0</td>\n",
       "      <td>1</td>\n",
       "      <td>0</td>\n",
       "      <td>0</td>\n",
       "    </tr>\n",
       "  </tbody>\n",
       "</table>\n",
       "</div>"
      ],
      "text/plain": [
       "                         title  \\\n",
       "0            ENTWINED WITH YOU   \n",
       "1                      JOYLAND   \n",
       "2                  WORLD WAR Z   \n",
       "3              BEAUTIFUL RUINS   \n",
       "4              FLIGHT BEHAVIOR   \n",
       "5         FIFTY SHADES OF GREY   \n",
       "6                THE ALCHEMIST   \n",
       "7     THE LIGHT BETWEEN OCEANS   \n",
       "8            A GAME OF THRONES   \n",
       "9                   LIFE OF PI   \n",
       "10  WHERE'D YOU GO, BERNADETTE   \n",
       "11                BARED TO YOU   \n",
       "12            REFLECTED IN YOU   \n",
       "13    A THOUSAND SPLENDID SUNS   \n",
       "14                         ZOO   \n",
       "15     THE ORPHAN MASTER’S SON   \n",
       "16              THE ART FORGER   \n",
       "17         FIFTY SHADES DARKER   \n",
       "18               THE HARBINGER   \n",
       "19              THE PARIS WIFE   \n",
       "0                  WORLD WAR Z   \n",
       "1              BEAUTIFUL RUINS   \n",
       "2         FIFTY SHADES OF GREY   \n",
       "3                THE ALCHEMIST   \n",
       "4                          ZOO   \n",
       "5     THE LIGHT BETWEEN OCEANS   \n",
       "6          FIFTY SHADES DARKER   \n",
       "7           FIFTY SHADES FREED   \n",
       "8   WHERE'D YOU GO, BERNADETTE   \n",
       "9                   LIFE OF PI   \n",
       "10     THE ORPHAN MASTER’S SON   \n",
       "11               THE HARBINGER   \n",
       "12              THE ART FORGER   \n",
       "13           A GAME OF THRONES   \n",
       "14              THE PARIS WIFE   \n",
       "15         BRING UP THE BODIES   \n",
       "16               CITY OF WOMEN   \n",
       "17             THE KITE RUNNER   \n",
       "18     THE LANGUAGE OF FLOWERS   \n",
       "19             SHADOW OF NIGHT   \n",
       "0                  WORLD WAR Z   \n",
       "1              BEAUTIFUL RUINS   \n",
       "2         FIFTY SHADES OF GREY   \n",
       "3                          ZOO   \n",
       "4     THE LIGHT BETWEEN OCEANS   \n",
       "5                THE ALCHEMIST   \n",
       "6          FIFTY SHADES DARKER   \n",
       "7           FIFTY SHADES FREED   \n",
       "8   WHERE'D YOU GO, BERNADETTE   \n",
       "9                   LIFE OF PI   \n",
       "10     THE ORPHAN MASTER’S SON   \n",
       "11               THE HARBINGER   \n",
       "12           A GAME OF THRONES   \n",
       "13                 DARK PLACES   \n",
       "14         BRING UP THE BODIES   \n",
       "15               CITY OF WOMEN   \n",
       "16              THE PARIS WIFE   \n",
       "17              THE ART FORGER   \n",
       "18     THE LANGUAGE OF FLOWERS   \n",
       "19               THE DOG STARS   \n",
       "\n",
       "                                          description  \\\n",
       "0   Eva and Gideon face the demons of their pasts ...   \n",
       "1   In North Carolina in 1973, a college student w...   \n",
       "2   An \"oral history\" of an imagined Zombie War th...   \n",
       "3   Ruins both emotional and architectural, in Ita...   \n",
       "4   A woman’s life expands as a visitation of butt...   \n",
       "5   An inexperienced college student falls in love...   \n",
       "6   In this fable, a Spanish shepherd boy ventures...   \n",
       "7   An Australian lighthouse keeper and his wife d...   \n",
       "8   In the frozen wastes to the north of Winterfel...   \n",
       "9   An allegory on the high seas, in which a teena...   \n",
       "10  A teenage daughter compiles e-mails, official ...   \n",
       "11  Eva and Gideon, recovering from difficult past...   \n",
       "12  The sensual story that began in \"Bared to You\"...   \n",
       "13  A friendship between two Afghan women — born a...   \n",
       "14  After witnessing a coordinated lion ambush in ...   \n",
       "15  In a series of picaresque adventures, a young ...   \n",
       "16  A talented yet struggling Boston artist agrees...   \n",
       "17  Daunted by Christian’s dark secrets, Anastasia...   \n",
       "18  A man tells of his encounters with a mysteriou...   \n",
       "19  Hadley Richardson comes into her own as Ernest...   \n",
       "0   An \"oral history\" of an imagined Zombie War th...   \n",
       "1   Ruins both emotional and architectural, in Ita...   \n",
       "2   An inexperienced college student falls in love...   \n",
       "3   In this fable, a Spanish shepherd boy ventures...   \n",
       "4   After witnessing a coordinated lion ambush in ...   \n",
       "5   An Australian lighthouse keeper and his wife d...   \n",
       "6   Daunted by Christian’s dark secrets, Anastasia...   \n",
       "7   Reunited, Anastasia and Christian face a world...   \n",
       "8   A teenage daughter compiles e-mails, official ...   \n",
       "9   An allegory on the high seas, in which a teena...   \n",
       "10  In a series of picaresque adventures, a young ...   \n",
       "11  A man tells of his encounters with a mysteriou...   \n",
       "12  A talented yet struggling Boston artist agrees...   \n",
       "13  In the frozen wastes to the north of Winterfel...   \n",
       "14  Hadley Richardson comes into her own as Ernest...   \n",
       "15  In this sequel to “Wolf Hall,” Thomas Cromwell...   \n",
       "16  In 1943 Berlin, a German soldier’s wife become...   \n",
       "17  An Afghan-American returns to Kabul to learn h...   \n",
       "18  A young woman’s gift for flowers helps her cha...   \n",
       "19  In this sequel to \"A Discovery of Witches,\" th...   \n",
       "0   An \"oral history\" of an imagined Zombie War th...   \n",
       "1   Ruins both emotional and architectural, in Ita...   \n",
       "2   An inexperienced college student falls in love...   \n",
       "3   After witnessing a coordinated lion ambush in ...   \n",
       "4   An Australian lighthouse keeper and his wife d...   \n",
       "5   In this fable, a Spanish shepherd boy ventures...   \n",
       "6   Daunted by Christian’s dark secrets, Anastasia...   \n",
       "7   Reunited, Anastasia and Christian face a world...   \n",
       "8   A teenage daughter compiles e-mails, official ...   \n",
       "9   An allegory on the high seas, in which a teena...   \n",
       "10  In a series of picaresque adventures, a young ...   \n",
       "11  A man tells of his encounters with a mysteriou...   \n",
       "12  In the frozen wastes to the north of Winterfel...   \n",
       "13  A woman who, as a child, was spared when her m...   \n",
       "14  In this sequel to “Wolf Hall,” Thomas Cromwell...   \n",
       "15  In 1943 Berlin, a German soldier’s wife become...   \n",
       "16  Hadley Richardson comes into her own as Ernest...   \n",
       "17  A talented yet struggling Boston artist agrees...   \n",
       "18  A young woman’s gift for flowers helps her cha...   \n",
       "19  After a flu pandemic kills much of the populat...   \n",
       "\n",
       "                                contributor  \\\n",
       "0                             by Sylvia Day   \n",
       "1                           by Stephen King   \n",
       "2                             by Max Brooks   \n",
       "3                            by Jess Walter   \n",
       "4                     by Barbara Kingsolver   \n",
       "5                            by E. L. James   \n",
       "6                           by Paulo Coelho   \n",
       "7                          by M. L. Stedman   \n",
       "8                     by George R.R. Martin   \n",
       "9                            by Yann Martel   \n",
       "10                          by Maria Semple   \n",
       "11                            by Sylvia Day   \n",
       "12                            by Sylvia Day   \n",
       "13                       by Khaled Hosseini   \n",
       "14  by James Patterson and Michael Ledwidge   \n",
       "15                          by Adam Johnson   \n",
       "16                         by B. A. Shapiro   \n",
       "17                           by E. L. James   \n",
       "18                         by Jonathan Cahn   \n",
       "19                          by Paula McLain   \n",
       "0                             by Max Brooks   \n",
       "1                            by Jess Walter   \n",
       "2                            by E. L. James   \n",
       "3                           by Paulo Coelho   \n",
       "4   by James Patterson and Michael Ledwidge   \n",
       "5                          by M. L. Stedman   \n",
       "6                            by E. L. James   \n",
       "7                            by E. L. James   \n",
       "8                           by Maria Semple   \n",
       "9                            by Yann Martel   \n",
       "10                          by Adam Johnson   \n",
       "11                         by Jonathan Cahn   \n",
       "12                         by B. A. Shapiro   \n",
       "13                    by George R.R. Martin   \n",
       "14                          by Paula McLain   \n",
       "15                         by Hilary Mantel   \n",
       "16                      by David R. Gillham   \n",
       "17                       by Khaled Hosseini   \n",
       "18                   by Vanessa Diffenbaugh   \n",
       "19                      by Deborah Harkness   \n",
       "0                             by Max Brooks   \n",
       "1                            by Jess Walter   \n",
       "2                            by E. L. James   \n",
       "3   by James Patterson and Michael Ledwidge   \n",
       "4                          by M. L. Stedman   \n",
       "5                           by Paulo Coelho   \n",
       "6                            by E. L. James   \n",
       "7                            by E. L. James   \n",
       "8                           by Maria Semple   \n",
       "9                            by Yann Martel   \n",
       "10                          by Adam Johnson   \n",
       "11                         by Jonathan Cahn   \n",
       "12                    by George R.R. Martin   \n",
       "13                         by Gillian Flynn   \n",
       "14                         by Hilary Mantel   \n",
       "15                      by David R. Gillham   \n",
       "16                          by Paula McLain   \n",
       "17                         by B. A. Shapiro   \n",
       "18                   by Vanessa Diffenbaugh   \n",
       "19                          by Peter Heller   \n",
       "\n",
       "                                  author contributor_note price age_group  \\\n",
       "0                             Sylvia Day                   0.00             \n",
       "1                           Stephen King                   0.00             \n",
       "2                             Max Brooks                   0.00             \n",
       "3                            Jess Walter                   0.00             \n",
       "4                     Barbara Kingsolver                   0.00             \n",
       "5                              E L James                   0.00             \n",
       "6                           Paulo Coelho                   0.00             \n",
       "7                            M L Stedman                   0.00             \n",
       "8                       George RR Martin                   0.00             \n",
       "9                            Yann Martel                   0.00             \n",
       "10                          Maria Semple                   0.00             \n",
       "11                            Sylvia Day                   0.00             \n",
       "12                            Sylvia Day                   0.00             \n",
       "13                       Khaled Hosseini                   0.00             \n",
       "14  James Patterson and Michael Ledwidge                   0.00             \n",
       "15                          Adam Johnson                   0.00             \n",
       "16                           B A Shapiro                   0.00             \n",
       "17                             E L James                   0.00             \n",
       "18                         Jonathan Cahn                   0.00             \n",
       "19                          Paula McLain                   0.00             \n",
       "0                             Max Brooks                   0.00             \n",
       "1                            Jess Walter                   0.00             \n",
       "2                              E L James                   0.00             \n",
       "3                           Paulo Coelho                   0.00             \n",
       "4   James Patterson and Michael Ledwidge                   0.00             \n",
       "5                            M L Stedman                   0.00             \n",
       "6                              E L James                   0.00             \n",
       "7                              E L James                   0.00             \n",
       "8                           Maria Semple                   0.00             \n",
       "9                            Yann Martel                   0.00             \n",
       "10                          Adam Johnson                   0.00             \n",
       "11                         Jonathan Cahn                   0.00             \n",
       "12                           B A Shapiro                   0.00             \n",
       "13                      George RR Martin                   0.00             \n",
       "14                          Paula McLain                   0.00             \n",
       "15                         Hilary Mantel                   0.00             \n",
       "16                       David R Gillham                   0.00             \n",
       "17                       Khaled Hosseini                   0.00             \n",
       "18                   Vanessa Diffenbaugh                   0.00             \n",
       "19                      Deborah Harkness                   0.00             \n",
       "0                             Max Brooks                   0.00             \n",
       "1                            Jess Walter                   0.00             \n",
       "2                              E L James                   0.00             \n",
       "3   James Patterson and Michael Ledwidge                   0.00             \n",
       "4                            M L Stedman                   0.00             \n",
       "5                           Paulo Coelho                   0.00             \n",
       "6                              E L James                   0.00             \n",
       "7                              E L James                   0.00             \n",
       "8                           Maria Semple                   0.00             \n",
       "9                            Yann Martel                   0.00             \n",
       "10                          Adam Johnson                   0.00             \n",
       "11                         Jonathan Cahn                   0.00             \n",
       "12                      George RR Martin                   0.00             \n",
       "13                         Gillian Flynn                   0.00             \n",
       "14                         Hilary Mantel                   0.00             \n",
       "15                       David R Gillham                   0.00             \n",
       "16                          Paula McLain                   0.00             \n",
       "17                           B A Shapiro                   0.00             \n",
       "18                   Vanessa Diffenbaugh                   0.00             \n",
       "19                          Peter Heller                   0.00             \n",
       "\n",
       "                   publisher primary_isbn13 primary_isbn10 rank  \\\n",
       "0                    Berkley  9780425263921     0425263924    1   \n",
       "1            Hard Case Crime  9781781162644     1781162646    2   \n",
       "2                   Broadway  9780307346612     0307346617    3   \n",
       "3           Harper Perennial  9780061928178     0061928178    4   \n",
       "4           Harper Perennial  9780062124272     0062124277    5   \n",
       "5                    Vintage  9780345803481     0345803485    6   \n",
       "6                  HarperOne  9780061122415     0061122416    7   \n",
       "7                   Scribner  9781451681758     1451681755    8   \n",
       "8                     Bantam  9780553381689     0553381687    9   \n",
       "9   Mariner/Houghton Mifflin  9780156027328     0156027321   10   \n",
       "10    Back Bay/Little, Brown  9780316204262     0316204269   11   \n",
       "11                   Berkley  9780425263907     0425263908   12   \n",
       "12                   Berkley  9780425263914     0425263916   13   \n",
       "13                 Riverhead  9781594483851     159448385X   14   \n",
       "14             Grand Central  9780446571791     0446571792   15   \n",
       "15              Random House  9780812982626     0812982622   16   \n",
       "16                 Algonquin  9781616203160     1616203161   17   \n",
       "17                   Vintage  9780345803498     0345803493   18   \n",
       "18                 FrontLine  9781616386108     161638610X   19   \n",
       "19                Ballantine  9780345521316     0345521315   20   \n",
       "0               Three Rivers  9780307346612     0307346617    1   \n",
       "1           Harper Perennial  9780061928178     0061928178    2   \n",
       "2                    Vintage  9780345803481     0345803485    3   \n",
       "3                  HarperOne  9780061122415     0061122416    4   \n",
       "4              Grand Central  9780446571791     0446571792    5   \n",
       "5                   Scribner  9781451681758     1451681755    6   \n",
       "6                    Vintage  9780345803498     0345803493    7   \n",
       "7                    Vintage  9780345803504     0345803507    8   \n",
       "8     Back Bay/Little, Brown  9780316204262     0316204269    9   \n",
       "9   Mariner/Houghton Mifflin  9780156027328     0156027321   10   \n",
       "10              Random House  9780812982626     0812982622   11   \n",
       "11                 FrontLine  9781616386108     161638610X   12   \n",
       "12                 Algonquin  9781616203160     1616203161   13   \n",
       "13                    Bantam  9780553381689     0553381687   14   \n",
       "14                Ballantine  9780345521316     0345521315   15   \n",
       "15                   Picador  9781250024176     125002417X   16   \n",
       "16                   Berkley  9780425252963     0425252965   17   \n",
       "17                 Riverhead  9781594480003     1594480001   18   \n",
       "18                Ballantine  9780345525550     0345525558   19   \n",
       "19                   Penguin  9780143123620     0143123629   20   \n",
       "0               Three Rivers  9780307346612     0307346617    1   \n",
       "1           Harper Perennial  9780061928178     0061928178    2   \n",
       "2                    Vintage  9780345803481     0345803485    3   \n",
       "3              Grand Central  9780446571791     0446571792    4   \n",
       "4                   Scribner  9781451681758     1451681755    5   \n",
       "5                  HarperOne  9780061122415     0061122416    6   \n",
       "6                    Vintage  9780345803498     0345803493    7   \n",
       "7                    Vintage  9780345803504     0345803507    8   \n",
       "8     Back Bay/Little, Brown  9780316204262     0316204269    9   \n",
       "9   Mariner/Houghton Mifflin  9780156027328     0156027321   10   \n",
       "10              Random House  9780812982626     0812982622   11   \n",
       "11                 FrontLine  9781616386108     161638610X   12   \n",
       "12                    Bantam  9780553381689     0553381687   13   \n",
       "13                  Broadway  9780307341570     0307341577   14   \n",
       "14                   Picador  9781250024176     125002417X   15   \n",
       "15                   Berkley  9780425252963     0425252965   16   \n",
       "16                Ballantine  9780345521316     0345521315   17   \n",
       "17                 Algonquin  9781616203160     1616203161   18   \n",
       "18                Ballantine  9780345525550     0345525558   19   \n",
       "19    Vintage Contemporaries  9780307950475     0307950476   20   \n",
       "\n",
       "   rank_last_week weeks_on_list asterisk dagger  \n",
       "0               0             1        0      0  \n",
       "1               0             1        0      0  \n",
       "2               0            50        0      0  \n",
       "3               0            10        0      0  \n",
       "4               0             1        0      0  \n",
       "5               0            65        0      0  \n",
       "6               0           256        0      0  \n",
       "7               0            10        0      0  \n",
       "8               0            51        0      0  \n",
       "9               0            36        0      0  \n",
       "10              0            10        1      0  \n",
       "11              0            42        0      0  \n",
       "12              0            21        1      0  \n",
       "13              0            22        0      0  \n",
       "14              0             4        0      0  \n",
       "15              0             8        1      0  \n",
       "16              0             3        0      0  \n",
       "17              0            62        0      0  \n",
       "18              0            75        1      0  \n",
       "19              0            28        0      0  \n",
       "0               0            49        0      0  \n",
       "1               0             9        0      0  \n",
       "2               0            64        0      0  \n",
       "3               0           255        0      0  \n",
       "4               0             3        1      0  \n",
       "5               0             9        0      0  \n",
       "6               0            61        0      0  \n",
       "7               0            61        0      0  \n",
       "8               0             9        0      0  \n",
       "9               0            35        0      0  \n",
       "10              0             7        0      0  \n",
       "11              0            74        1      0  \n",
       "12              0             2        0      0  \n",
       "13              0            50        0      0  \n",
       "14              0            27        0      0  \n",
       "15              0             4        0      0  \n",
       "16              0             3        1      0  \n",
       "17              0           104        0      0  \n",
       "18              0            50        0      0  \n",
       "19              0             1        1      0  \n",
       "0               0            48        0      0  \n",
       "1               0             8        0      0  \n",
       "2               0            63        0      0  \n",
       "3               0             2        0      0  \n",
       "4               0             8        0      0  \n",
       "5               0           254        1      0  \n",
       "6               0            60        0      0  \n",
       "7               0            60        0      0  \n",
       "8               0             8        0      0  \n",
       "9               0            34        0      0  \n",
       "10              0             6        0      0  \n",
       "11              0            73        0      0  \n",
       "12              0            49        1      0  \n",
       "13              0            25        0      0  \n",
       "14              0             3        1      0  \n",
       "15              0             2        0      0  \n",
       "16              0            26        0      0  \n",
       "17              0             1        0      0  \n",
       "18              0            49        0      0  \n",
       "19              0             1        0      0  "
      ]
     },
     "execution_count": 67,
     "metadata": {},
     "output_type": "execute_result"
    }
   ],
   "source": [
    "trade_paperback2.tail(60)"
   ]
  },
  {
   "cell_type": "code",
   "execution_count": 68,
   "metadata": {},
   "outputs": [],
   "source": [
    "#repeat weeks 15 times to add to df\n",
    "#https://www.pythonforbeginners.com/lists/repeat-each-element-in-a-list-in-python\n",
    "k = 15\n",
    "repeated_weeks = []\n",
    "for element in weeks:\n",
    "    for i in range(k):\n",
    "       repeated_weeks.append(element)"
   ]
  },
  {
   "cell_type": "code",
   "execution_count": 69,
   "metadata": {},
   "outputs": [
    {
     "data": {
      "text/plain": [
       "3900"
      ]
     },
     "execution_count": 69,
     "metadata": {},
     "output_type": "execute_result"
    }
   ],
   "source": [
    "len(repeated_weeks)"
   ]
  },
  {
   "cell_type": "code",
   "execution_count": 78,
   "metadata": {},
   "outputs": [],
   "source": [
    "#after looking at head and tail, it looks like they switched from top 20 to top 15 at some point\n",
    "#for normalization, let's narrow it down to top 15 across all weeks\n",
    "#https://www.geeksforgeeks.org/python-pandas-dataframe-isin/\n",
    "trade_paperback2['rank'] = trade_paperback2['rank'].astype(str)\n",
    "filter_15 = trade_paperback2['rank'].isin(['1', '2', '3', '4', '5', '6', '7', '8', '9', '10', '11', '12', '13', '14', '15'])"
   ]
  },
  {
   "cell_type": "code",
   "execution_count": 71,
   "metadata": {},
   "outputs": [],
   "source": [
    "trade_paperback2 = trade_paperback2[filter_15]"
   ]
  },
  {
   "cell_type": "code",
   "execution_count": 72,
   "metadata": {},
   "outputs": [
    {
     "data": {
      "text/html": [
       "<div>\n",
       "<style scoped>\n",
       "    .dataframe tbody tr th:only-of-type {\n",
       "        vertical-align: middle;\n",
       "    }\n",
       "\n",
       "    .dataframe tbody tr th {\n",
       "        vertical-align: top;\n",
       "    }\n",
       "\n",
       "    .dataframe thead th {\n",
       "        text-align: right;\n",
       "    }\n",
       "</style>\n",
       "<table border=\"1\" class=\"dataframe\">\n",
       "  <thead>\n",
       "    <tr style=\"text-align: right;\">\n",
       "      <th></th>\n",
       "      <th>title</th>\n",
       "      <th>description</th>\n",
       "      <th>contributor</th>\n",
       "      <th>author</th>\n",
       "      <th>contributor_note</th>\n",
       "      <th>price</th>\n",
       "      <th>age_group</th>\n",
       "      <th>publisher</th>\n",
       "      <th>primary_isbn13</th>\n",
       "      <th>primary_isbn10</th>\n",
       "      <th>rank</th>\n",
       "      <th>rank_last_week</th>\n",
       "      <th>weeks_on_list</th>\n",
       "      <th>asterisk</th>\n",
       "      <th>dagger</th>\n",
       "    </tr>\n",
       "  </thead>\n",
       "  <tbody>\n",
       "    <tr>\n",
       "      <th>0</th>\n",
       "      <td>WORLD WAR Z</td>\n",
       "      <td>An \"oral history\" of an imagined Zombie War th...</td>\n",
       "      <td>by Max Brooks</td>\n",
       "      <td>Max Brooks</td>\n",
       "      <td></td>\n",
       "      <td>0.00</td>\n",
       "      <td></td>\n",
       "      <td>Three Rivers</td>\n",
       "      <td>9780307346612</td>\n",
       "      <td>0307346617</td>\n",
       "      <td>1</td>\n",
       "      <td>0</td>\n",
       "      <td>48</td>\n",
       "      <td>0</td>\n",
       "      <td>0</td>\n",
       "    </tr>\n",
       "    <tr>\n",
       "      <th>1</th>\n",
       "      <td>BEAUTIFUL RUINS</td>\n",
       "      <td>Ruins both emotional and architectural, in Ita...</td>\n",
       "      <td>by Jess Walter</td>\n",
       "      <td>Jess Walter</td>\n",
       "      <td></td>\n",
       "      <td>0.00</td>\n",
       "      <td></td>\n",
       "      <td>Harper Perennial</td>\n",
       "      <td>9780061928178</td>\n",
       "      <td>0061928178</td>\n",
       "      <td>2</td>\n",
       "      <td>0</td>\n",
       "      <td>8</td>\n",
       "      <td>0</td>\n",
       "      <td>0</td>\n",
       "    </tr>\n",
       "    <tr>\n",
       "      <th>2</th>\n",
       "      <td>FIFTY SHADES OF GREY</td>\n",
       "      <td>An inexperienced college student falls in love...</td>\n",
       "      <td>by E. L. James</td>\n",
       "      <td>E L James</td>\n",
       "      <td></td>\n",
       "      <td>0.00</td>\n",
       "      <td></td>\n",
       "      <td>Vintage</td>\n",
       "      <td>9780345803481</td>\n",
       "      <td>0345803485</td>\n",
       "      <td>3</td>\n",
       "      <td>0</td>\n",
       "      <td>63</td>\n",
       "      <td>0</td>\n",
       "      <td>0</td>\n",
       "    </tr>\n",
       "    <tr>\n",
       "      <th>3</th>\n",
       "      <td>ZOO</td>\n",
       "      <td>After witnessing a coordinated lion ambush in ...</td>\n",
       "      <td>by James Patterson and Michael Ledwidge</td>\n",
       "      <td>James Patterson and Michael Ledwidge</td>\n",
       "      <td></td>\n",
       "      <td>0.00</td>\n",
       "      <td></td>\n",
       "      <td>Grand Central</td>\n",
       "      <td>9780446571791</td>\n",
       "      <td>0446571792</td>\n",
       "      <td>4</td>\n",
       "      <td>0</td>\n",
       "      <td>2</td>\n",
       "      <td>0</td>\n",
       "      <td>0</td>\n",
       "    </tr>\n",
       "    <tr>\n",
       "      <th>4</th>\n",
       "      <td>THE LIGHT BETWEEN OCEANS</td>\n",
       "      <td>An Australian lighthouse keeper and his wife d...</td>\n",
       "      <td>by M. L. Stedman</td>\n",
       "      <td>M L Stedman</td>\n",
       "      <td></td>\n",
       "      <td>0.00</td>\n",
       "      <td></td>\n",
       "      <td>Scribner</td>\n",
       "      <td>9781451681758</td>\n",
       "      <td>1451681755</td>\n",
       "      <td>5</td>\n",
       "      <td>0</td>\n",
       "      <td>8</td>\n",
       "      <td>0</td>\n",
       "      <td>0</td>\n",
       "    </tr>\n",
       "    <tr>\n",
       "      <th>5</th>\n",
       "      <td>THE ALCHEMIST</td>\n",
       "      <td>In this fable, a Spanish shepherd boy ventures...</td>\n",
       "      <td>by Paulo Coelho</td>\n",
       "      <td>Paulo Coelho</td>\n",
       "      <td></td>\n",
       "      <td>0.00</td>\n",
       "      <td></td>\n",
       "      <td>HarperOne</td>\n",
       "      <td>9780061122415</td>\n",
       "      <td>0061122416</td>\n",
       "      <td>6</td>\n",
       "      <td>0</td>\n",
       "      <td>254</td>\n",
       "      <td>1</td>\n",
       "      <td>0</td>\n",
       "    </tr>\n",
       "    <tr>\n",
       "      <th>6</th>\n",
       "      <td>FIFTY SHADES DARKER</td>\n",
       "      <td>Daunted by Christian’s dark secrets, Anastasia...</td>\n",
       "      <td>by E. L. James</td>\n",
       "      <td>E L James</td>\n",
       "      <td></td>\n",
       "      <td>0.00</td>\n",
       "      <td></td>\n",
       "      <td>Vintage</td>\n",
       "      <td>9780345803498</td>\n",
       "      <td>0345803493</td>\n",
       "      <td>7</td>\n",
       "      <td>0</td>\n",
       "      <td>60</td>\n",
       "      <td>0</td>\n",
       "      <td>0</td>\n",
       "    </tr>\n",
       "    <tr>\n",
       "      <th>7</th>\n",
       "      <td>FIFTY SHADES FREED</td>\n",
       "      <td>Reunited, Anastasia and Christian face a world...</td>\n",
       "      <td>by E. L. James</td>\n",
       "      <td>E L James</td>\n",
       "      <td></td>\n",
       "      <td>0.00</td>\n",
       "      <td></td>\n",
       "      <td>Vintage</td>\n",
       "      <td>9780345803504</td>\n",
       "      <td>0345803507</td>\n",
       "      <td>8</td>\n",
       "      <td>0</td>\n",
       "      <td>60</td>\n",
       "      <td>0</td>\n",
       "      <td>0</td>\n",
       "    </tr>\n",
       "    <tr>\n",
       "      <th>8</th>\n",
       "      <td>WHERE'D YOU GO, BERNADETTE</td>\n",
       "      <td>A teenage daughter compiles e-mails, official ...</td>\n",
       "      <td>by Maria Semple</td>\n",
       "      <td>Maria Semple</td>\n",
       "      <td></td>\n",
       "      <td>0.00</td>\n",
       "      <td></td>\n",
       "      <td>Back Bay/Little, Brown</td>\n",
       "      <td>9780316204262</td>\n",
       "      <td>0316204269</td>\n",
       "      <td>9</td>\n",
       "      <td>0</td>\n",
       "      <td>8</td>\n",
       "      <td>0</td>\n",
       "      <td>0</td>\n",
       "    </tr>\n",
       "    <tr>\n",
       "      <th>9</th>\n",
       "      <td>LIFE OF PI</td>\n",
       "      <td>An allegory on the high seas, in which a teena...</td>\n",
       "      <td>by Yann Martel</td>\n",
       "      <td>Yann Martel</td>\n",
       "      <td></td>\n",
       "      <td>0.00</td>\n",
       "      <td></td>\n",
       "      <td>Mariner/Houghton Mifflin</td>\n",
       "      <td>9780156027328</td>\n",
       "      <td>0156027321</td>\n",
       "      <td>10</td>\n",
       "      <td>0</td>\n",
       "      <td>34</td>\n",
       "      <td>0</td>\n",
       "      <td>0</td>\n",
       "    </tr>\n",
       "    <tr>\n",
       "      <th>10</th>\n",
       "      <td>THE ORPHAN MASTER’S SON</td>\n",
       "      <td>In a series of picaresque adventures, a young ...</td>\n",
       "      <td>by Adam Johnson</td>\n",
       "      <td>Adam Johnson</td>\n",
       "      <td></td>\n",
       "      <td>0.00</td>\n",
       "      <td></td>\n",
       "      <td>Random House</td>\n",
       "      <td>9780812982626</td>\n",
       "      <td>0812982622</td>\n",
       "      <td>11</td>\n",
       "      <td>0</td>\n",
       "      <td>6</td>\n",
       "      <td>0</td>\n",
       "      <td>0</td>\n",
       "    </tr>\n",
       "    <tr>\n",
       "      <th>11</th>\n",
       "      <td>THE HARBINGER</td>\n",
       "      <td>A man tells of his encounters with a mysteriou...</td>\n",
       "      <td>by Jonathan Cahn</td>\n",
       "      <td>Jonathan Cahn</td>\n",
       "      <td></td>\n",
       "      <td>0.00</td>\n",
       "      <td></td>\n",
       "      <td>FrontLine</td>\n",
       "      <td>9781616386108</td>\n",
       "      <td>161638610X</td>\n",
       "      <td>12</td>\n",
       "      <td>0</td>\n",
       "      <td>73</td>\n",
       "      <td>0</td>\n",
       "      <td>0</td>\n",
       "    </tr>\n",
       "    <tr>\n",
       "      <th>12</th>\n",
       "      <td>A GAME OF THRONES</td>\n",
       "      <td>In the frozen wastes to the north of Winterfel...</td>\n",
       "      <td>by George R.R. Martin</td>\n",
       "      <td>George RR Martin</td>\n",
       "      <td></td>\n",
       "      <td>0.00</td>\n",
       "      <td></td>\n",
       "      <td>Bantam</td>\n",
       "      <td>9780553381689</td>\n",
       "      <td>0553381687</td>\n",
       "      <td>13</td>\n",
       "      <td>0</td>\n",
       "      <td>49</td>\n",
       "      <td>1</td>\n",
       "      <td>0</td>\n",
       "    </tr>\n",
       "    <tr>\n",
       "      <th>13</th>\n",
       "      <td>DARK PLACES</td>\n",
       "      <td>A woman who, as a child, was spared when her m...</td>\n",
       "      <td>by Gillian Flynn</td>\n",
       "      <td>Gillian Flynn</td>\n",
       "      <td></td>\n",
       "      <td>0.00</td>\n",
       "      <td></td>\n",
       "      <td>Broadway</td>\n",
       "      <td>9780307341570</td>\n",
       "      <td>0307341577</td>\n",
       "      <td>14</td>\n",
       "      <td>0</td>\n",
       "      <td>25</td>\n",
       "      <td>0</td>\n",
       "      <td>0</td>\n",
       "    </tr>\n",
       "    <tr>\n",
       "      <th>14</th>\n",
       "      <td>BRING UP THE BODIES</td>\n",
       "      <td>In this sequel to “Wolf Hall,” Thomas Cromwell...</td>\n",
       "      <td>by Hilary Mantel</td>\n",
       "      <td>Hilary Mantel</td>\n",
       "      <td></td>\n",
       "      <td>0.00</td>\n",
       "      <td></td>\n",
       "      <td>Picador</td>\n",
       "      <td>9781250024176</td>\n",
       "      <td>125002417X</td>\n",
       "      <td>15</td>\n",
       "      <td>0</td>\n",
       "      <td>3</td>\n",
       "      <td>1</td>\n",
       "      <td>0</td>\n",
       "    </tr>\n",
       "  </tbody>\n",
       "</table>\n",
       "</div>"
      ],
      "text/plain": [
       "                         title  \\\n",
       "0                  WORLD WAR Z   \n",
       "1              BEAUTIFUL RUINS   \n",
       "2         FIFTY SHADES OF GREY   \n",
       "3                          ZOO   \n",
       "4     THE LIGHT BETWEEN OCEANS   \n",
       "5                THE ALCHEMIST   \n",
       "6          FIFTY SHADES DARKER   \n",
       "7           FIFTY SHADES FREED   \n",
       "8   WHERE'D YOU GO, BERNADETTE   \n",
       "9                   LIFE OF PI   \n",
       "10     THE ORPHAN MASTER’S SON   \n",
       "11               THE HARBINGER   \n",
       "12           A GAME OF THRONES   \n",
       "13                 DARK PLACES   \n",
       "14         BRING UP THE BODIES   \n",
       "\n",
       "                                          description  \\\n",
       "0   An \"oral history\" of an imagined Zombie War th...   \n",
       "1   Ruins both emotional and architectural, in Ita...   \n",
       "2   An inexperienced college student falls in love...   \n",
       "3   After witnessing a coordinated lion ambush in ...   \n",
       "4   An Australian lighthouse keeper and his wife d...   \n",
       "5   In this fable, a Spanish shepherd boy ventures...   \n",
       "6   Daunted by Christian’s dark secrets, Anastasia...   \n",
       "7   Reunited, Anastasia and Christian face a world...   \n",
       "8   A teenage daughter compiles e-mails, official ...   \n",
       "9   An allegory on the high seas, in which a teena...   \n",
       "10  In a series of picaresque adventures, a young ...   \n",
       "11  A man tells of his encounters with a mysteriou...   \n",
       "12  In the frozen wastes to the north of Winterfel...   \n",
       "13  A woman who, as a child, was spared when her m...   \n",
       "14  In this sequel to “Wolf Hall,” Thomas Cromwell...   \n",
       "\n",
       "                                contributor  \\\n",
       "0                             by Max Brooks   \n",
       "1                            by Jess Walter   \n",
       "2                            by E. L. James   \n",
       "3   by James Patterson and Michael Ledwidge   \n",
       "4                          by M. L. Stedman   \n",
       "5                           by Paulo Coelho   \n",
       "6                            by E. L. James   \n",
       "7                            by E. L. James   \n",
       "8                           by Maria Semple   \n",
       "9                            by Yann Martel   \n",
       "10                          by Adam Johnson   \n",
       "11                         by Jonathan Cahn   \n",
       "12                    by George R.R. Martin   \n",
       "13                         by Gillian Flynn   \n",
       "14                         by Hilary Mantel   \n",
       "\n",
       "                                  author contributor_note price age_group  \\\n",
       "0                             Max Brooks                   0.00             \n",
       "1                            Jess Walter                   0.00             \n",
       "2                              E L James                   0.00             \n",
       "3   James Patterson and Michael Ledwidge                   0.00             \n",
       "4                            M L Stedman                   0.00             \n",
       "5                           Paulo Coelho                   0.00             \n",
       "6                              E L James                   0.00             \n",
       "7                              E L James                   0.00             \n",
       "8                           Maria Semple                   0.00             \n",
       "9                            Yann Martel                   0.00             \n",
       "10                          Adam Johnson                   0.00             \n",
       "11                         Jonathan Cahn                   0.00             \n",
       "12                      George RR Martin                   0.00             \n",
       "13                         Gillian Flynn                   0.00             \n",
       "14                         Hilary Mantel                   0.00             \n",
       "\n",
       "                   publisher primary_isbn13 primary_isbn10  rank  \\\n",
       "0               Three Rivers  9780307346612     0307346617     1   \n",
       "1           Harper Perennial  9780061928178     0061928178     2   \n",
       "2                    Vintage  9780345803481     0345803485     3   \n",
       "3              Grand Central  9780446571791     0446571792     4   \n",
       "4                   Scribner  9781451681758     1451681755     5   \n",
       "5                  HarperOne  9780061122415     0061122416     6   \n",
       "6                    Vintage  9780345803498     0345803493     7   \n",
       "7                    Vintage  9780345803504     0345803507     8   \n",
       "8     Back Bay/Little, Brown  9780316204262     0316204269     9   \n",
       "9   Mariner/Houghton Mifflin  9780156027328     0156027321    10   \n",
       "10              Random House  9780812982626     0812982622    11   \n",
       "11                 FrontLine  9781616386108     161638610X    12   \n",
       "12                    Bantam  9780553381689     0553381687    13   \n",
       "13                  Broadway  9780307341570     0307341577    14   \n",
       "14                   Picador  9781250024176     125002417X    15   \n",
       "\n",
       "   rank_last_week weeks_on_list asterisk dagger  \n",
       "0               0            48        0      0  \n",
       "1               0             8        0      0  \n",
       "2               0            63        0      0  \n",
       "3               0             2        0      0  \n",
       "4               0             8        0      0  \n",
       "5               0           254        1      0  \n",
       "6               0            60        0      0  \n",
       "7               0            60        0      0  \n",
       "8               0             8        0      0  \n",
       "9               0            34        0      0  \n",
       "10              0             6        0      0  \n",
       "11              0            73        0      0  \n",
       "12              0            49        1      0  \n",
       "13              0            25        0      0  \n",
       "14              0             3        1      0  "
      ]
     },
     "execution_count": 72,
     "metadata": {},
     "output_type": "execute_result"
    }
   ],
   "source": [
    "trade_paperback2.tail(15)"
   ]
  },
  {
   "cell_type": "code",
   "execution_count": 73,
   "metadata": {},
   "outputs": [
    {
     "data": {
      "text/plain": [
       "3610"
      ]
     },
     "execution_count": 73,
     "metadata": {},
     "output_type": "execute_result"
    }
   ],
   "source": [
    "len(trade_paperback2)"
   ]
  },
  {
   "cell_type": "code",
   "execution_count": 41,
   "metadata": {},
   "outputs": [
    {
     "ename": "ValueError",
     "evalue": "Length of values (3900) does not match length of index (3610)",
     "output_type": "error",
     "traceback": [
      "\u001b[1;31m---------------------------------------------------------------------------\u001b[0m",
      "\u001b[1;31mValueError\u001b[0m                                Traceback (most recent call last)",
      "Cell \u001b[1;32mIn[41], line 2\u001b[0m\n\u001b[0;32m      1\u001b[0m \u001b[39m#add a week column\u001b[39;00m\n\u001b[1;32m----> 2\u001b[0m trade_paperback2[\u001b[39m'\u001b[39m\u001b[39mweek\u001b[39m\u001b[39m'\u001b[39m] \u001b[39m=\u001b[39m repeated_weeks\n\u001b[0;32m      4\u001b[0m \u001b[39m#and check to make sure it worked correctly\u001b[39;00m\n\u001b[0;32m      5\u001b[0m trade_paperback2\u001b[39m.\u001b[39mtail(\u001b[39m10\u001b[39m)\n",
      "File \u001b[1;32mc:\\Users\\melan\\anaconda3\\lib\\site-packages\\pandas\\core\\frame.py:3980\u001b[0m, in \u001b[0;36mDataFrame.__setitem__\u001b[1;34m(self, key, value)\u001b[0m\n\u001b[0;32m   3977\u001b[0m     \u001b[39mself\u001b[39m\u001b[39m.\u001b[39m_setitem_array([key], value)\n\u001b[0;32m   3978\u001b[0m \u001b[39melse\u001b[39;00m:\n\u001b[0;32m   3979\u001b[0m     \u001b[39m# set column\u001b[39;00m\n\u001b[1;32m-> 3980\u001b[0m     \u001b[39mself\u001b[39;49m\u001b[39m.\u001b[39;49m_set_item(key, value)\n",
      "File \u001b[1;32mc:\\Users\\melan\\anaconda3\\lib\\site-packages\\pandas\\core\\frame.py:4174\u001b[0m, in \u001b[0;36mDataFrame._set_item\u001b[1;34m(self, key, value)\u001b[0m\n\u001b[0;32m   4164\u001b[0m \u001b[39mdef\u001b[39;00m \u001b[39m_set_item\u001b[39m(\u001b[39mself\u001b[39m, key, value) \u001b[39m-\u001b[39m\u001b[39m>\u001b[39m \u001b[39mNone\u001b[39;00m:\n\u001b[0;32m   4165\u001b[0m     \u001b[39m\"\"\"\u001b[39;00m\n\u001b[0;32m   4166\u001b[0m \u001b[39m    Add series to DataFrame in specified column.\u001b[39;00m\n\u001b[0;32m   4167\u001b[0m \n\u001b[1;32m   (...)\u001b[0m\n\u001b[0;32m   4172\u001b[0m \u001b[39m    ensure homogeneity.\u001b[39;00m\n\u001b[0;32m   4173\u001b[0m \u001b[39m    \"\"\"\u001b[39;00m\n\u001b[1;32m-> 4174\u001b[0m     value \u001b[39m=\u001b[39m \u001b[39mself\u001b[39;49m\u001b[39m.\u001b[39;49m_sanitize_column(value)\n\u001b[0;32m   4176\u001b[0m     \u001b[39mif\u001b[39;00m (\n\u001b[0;32m   4177\u001b[0m         key \u001b[39min\u001b[39;00m \u001b[39mself\u001b[39m\u001b[39m.\u001b[39mcolumns\n\u001b[0;32m   4178\u001b[0m         \u001b[39mand\u001b[39;00m value\u001b[39m.\u001b[39mndim \u001b[39m==\u001b[39m \u001b[39m1\u001b[39m\n\u001b[0;32m   4179\u001b[0m         \u001b[39mand\u001b[39;00m \u001b[39mnot\u001b[39;00m is_extension_array_dtype(value)\n\u001b[0;32m   4180\u001b[0m     ):\n\u001b[0;32m   4181\u001b[0m         \u001b[39m# broadcast across multiple columns if necessary\u001b[39;00m\n\u001b[0;32m   4182\u001b[0m         \u001b[39mif\u001b[39;00m \u001b[39mnot\u001b[39;00m \u001b[39mself\u001b[39m\u001b[39m.\u001b[39mcolumns\u001b[39m.\u001b[39mis_unique \u001b[39mor\u001b[39;00m \u001b[39misinstance\u001b[39m(\u001b[39mself\u001b[39m\u001b[39m.\u001b[39mcolumns, MultiIndex):\n",
      "File \u001b[1;32mc:\\Users\\melan\\anaconda3\\lib\\site-packages\\pandas\\core\\frame.py:4915\u001b[0m, in \u001b[0;36mDataFrame._sanitize_column\u001b[1;34m(self, value)\u001b[0m\n\u001b[0;32m   4912\u001b[0m     \u001b[39mreturn\u001b[39;00m _reindex_for_setitem(Series(value), \u001b[39mself\u001b[39m\u001b[39m.\u001b[39mindex)\n\u001b[0;32m   4914\u001b[0m \u001b[39mif\u001b[39;00m is_list_like(value):\n\u001b[1;32m-> 4915\u001b[0m     com\u001b[39m.\u001b[39;49mrequire_length_match(value, \u001b[39mself\u001b[39;49m\u001b[39m.\u001b[39;49mindex)\n\u001b[0;32m   4916\u001b[0m \u001b[39mreturn\u001b[39;00m sanitize_array(value, \u001b[39mself\u001b[39m\u001b[39m.\u001b[39mindex, copy\u001b[39m=\u001b[39m\u001b[39mTrue\u001b[39;00m, allow_2d\u001b[39m=\u001b[39m\u001b[39mTrue\u001b[39;00m)\n",
      "File \u001b[1;32mc:\\Users\\melan\\anaconda3\\lib\\site-packages\\pandas\\core\\common.py:571\u001b[0m, in \u001b[0;36mrequire_length_match\u001b[1;34m(data, index)\u001b[0m\n\u001b[0;32m    567\u001b[0m \u001b[39m\"\"\"\u001b[39;00m\n\u001b[0;32m    568\u001b[0m \u001b[39mCheck the length of data matches the length of the index.\u001b[39;00m\n\u001b[0;32m    569\u001b[0m \u001b[39m\"\"\"\u001b[39;00m\n\u001b[0;32m    570\u001b[0m \u001b[39mif\u001b[39;00m \u001b[39mlen\u001b[39m(data) \u001b[39m!=\u001b[39m \u001b[39mlen\u001b[39m(index):\n\u001b[1;32m--> 571\u001b[0m     \u001b[39mraise\u001b[39;00m \u001b[39mValueError\u001b[39;00m(\n\u001b[0;32m    572\u001b[0m         \u001b[39m\"\u001b[39m\u001b[39mLength of values \u001b[39m\u001b[39m\"\u001b[39m\n\u001b[0;32m    573\u001b[0m         \u001b[39mf\u001b[39m\u001b[39m\"\u001b[39m\u001b[39m(\u001b[39m\u001b[39m{\u001b[39;00m\u001b[39mlen\u001b[39m(data)\u001b[39m}\u001b[39;00m\u001b[39m) \u001b[39m\u001b[39m\"\u001b[39m\n\u001b[0;32m    574\u001b[0m         \u001b[39m\"\u001b[39m\u001b[39mdoes not match length of index \u001b[39m\u001b[39m\"\u001b[39m\n\u001b[0;32m    575\u001b[0m         \u001b[39mf\u001b[39m\u001b[39m\"\u001b[39m\u001b[39m(\u001b[39m\u001b[39m{\u001b[39;00m\u001b[39mlen\u001b[39m(index)\u001b[39m}\u001b[39;00m\u001b[39m)\u001b[39m\u001b[39m\"\u001b[39m\n\u001b[0;32m    576\u001b[0m     )\n",
      "\u001b[1;31mValueError\u001b[0m: Length of values (3900) does not match length of index (3610)"
     ]
    }
   ],
   "source": [
    "#add a week column\n",
    "trade_paperback2['week'] = repeated_weeks\n",
    "\n",
    "#and check to make sure it worked correctly\n",
    "trade_paperback2.tail(10)"
   ]
  },
  {
   "cell_type": "code",
   "execution_count": null,
   "metadata": {},
   "outputs": [],
   "source": []
  }
 ],
 "metadata": {
  "kernelspec": {
   "display_name": "base",
   "language": "python",
   "name": "python3"
  },
  "language_info": {
   "codemirror_mode": {
    "name": "ipython",
    "version": 3
   },
   "file_extension": ".py",
   "mimetype": "text/x-python",
   "name": "python",
   "nbconvert_exporter": "python",
   "pygments_lexer": "ipython3",
   "version": "3.10.9"
  },
  "orig_nbformat": 4
 },
 "nbformat": 4,
 "nbformat_minor": 2
}
